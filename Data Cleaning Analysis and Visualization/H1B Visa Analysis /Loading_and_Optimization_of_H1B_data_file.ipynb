{
 "cells": [
  {
   "cell_type": "code",
   "execution_count": 150,
   "metadata": {},
   "outputs": [],
   "source": [
    "import pandas as pd\n",
    "import os\n",
    "import PyPDF2 as p\n",
    "import numpy as np\n",
    "import time\n",
    "import warnings\n",
    "warnings.filterwarnings('ignore')"
   ]
  },
  {
   "cell_type": "markdown",
   "metadata": {},
   "source": [
    "### LOADING IN THE DATA"
   ]
  },
  {
   "cell_type": "code",
   "execution_count": 151,
   "metadata": {},
   "outputs": [],
   "source": [
    "file_location = ('/Users/ankitkothari/Documents/COMPLETED_PROJECTS/H1B_data_analysis/h1b_dump_data/')\n",
    "os.chdir(file_location)\n",
    "data=pd.DataFrame()\n",
    "for i, k in enumerate(os.listdir('.')):\n",
    "    if k.endswith('.csv'):\n",
    "        df= pd.DataFrame(pd.read_csv(k))\n",
    "        data = pd.concat([df, data])\n",
    "total_time=0\n",
    "data=data.drop(columns=['Tax ID'])"
   ]
  },
  {
   "cell_type": "markdown",
   "metadata": {},
   "source": [
    "### BASELINE DATA USAGE"
   ]
  },
  {
   "cell_type": "code",
   "execution_count": 152,
   "metadata": {},
   "outputs": [
    {
     "name": "stdout",
     "output_type": "stream",
     "text": [
      " columns Index(['Fiscal Year', 'Employer', 'Initial Approvals', 'Initial Denials',\n",
      "       'Continuing Approvals', 'Continuing Denials', 'NAICS', 'State', 'City',\n",
      "       'ZIP'],\n",
      "      dtype='object')\n",
      "<class 'pandas.core.frame.DataFrame'>\n",
      "Int64Index: 585744 entries, 0 to 48543\n",
      "Data columns (total 10 columns):\n",
      "Fiscal Year             585744 non-null int64\n",
      "Employer                585576 non-null object\n",
      "Initial Approvals       585744 non-null object\n",
      "Initial Denials         585744 non-null object\n",
      "Continuing Approvals    585744 non-null object\n",
      "Continuing Denials      585744 non-null object\n",
      "NAICS                   585744 non-null int64\n",
      "State                   585581 non-null object\n",
      "City                    585720 non-null object\n",
      "ZIP                     585596 non-null float64\n",
      "dtypes: float64(1), int64(2), object(7)\n",
      "memory usage: 247.3 MB\n",
      "data types None\n",
      " Memory usage in MB \n",
      " Index                    4.468872\n",
      "Fiscal Year              4.468872\n",
      "NAICS                    4.468872\n",
      "ZIP                      4.468872\n",
      "Continuing Denials      19.812816\n",
      "Initial Denials         21.971445\n",
      "State                   32.953733\n",
      "Continuing Approvals    36.708732\n",
      "Initial Approvals       36.774949\n",
      "City                    36.784892\n",
      "Employer                44.376662\n",
      "dtype: float64\n"
     ]
    }
   ],
   "source": [
    "print(f' columns {data.columns}')\n",
    "print(f'data types {data.info(memory_usage=\"deep\")}')\n",
    "print(f' Memory usage in MB \\n {data.memory_usage(deep=True).sort_values()/(1024*1024)}')\n",
    "baseline_columns = [col for col in data.columns]\n",
    "baseline_usage = [round(data[col].memory_usage(deep=True)/(1024*1024),0) for col in data.columns]"
   ]
  },
  {
   "cell_type": "markdown",
   "metadata": {},
   "source": [
    "### OPTIMIZING COLUMNS"
   ]
  },
  {
   "cell_type": "code",
   "execution_count": 153,
   "metadata": {},
   "outputs": [
    {
     "name": "stdout",
     "output_type": "stream",
     "text": [
      "Index(['Fiscal Year', 'NAICS'], dtype='object')\n"
     ]
    }
   ],
   "source": [
    "data_preprocessing_start_time=time.time()\n",
    "\n",
    "category_columns=['State','City']\n",
    "string_columns=['Initial Approvals','Initial Denials','Continuing Approvals','Continuing Denials']\n",
    "int_columns=data.select_dtypes(include=['int']).columns\n",
    "print(int_columns)"
   ]
  },
  {
   "cell_type": "markdown",
   "metadata": {},
   "source": [
    "### OPTIMIZING INT"
   ]
  },
  {
   "cell_type": "code",
   "execution_count": 154,
   "metadata": {},
   "outputs": [
    {
     "name": "stdout",
     "output_type": "stream",
     "text": [
      "Optimized Memory use in column name Fiscal Year in Category Data type  Fiscal Year 5.59 MB\n",
      "Optimized Memory use in column name NAICS in Category Data type  NAICS 5.03 MB\n"
     ]
    }
   ],
   "source": [
    "for col in int_columns:\n",
    "  data[col] = pd.to_numeric(data[col],errors='coerce', downcast='integer')\n",
    "  print(f'Optimized Memory use in column name {col} in Category Data type  {col} {data[col].memory_usage(deep=True)/(1024 ** 2):03.2f} MB')\n"
   ]
  },
  {
   "cell_type": "markdown",
   "metadata": {},
   "source": [
    "### OPTIMIZING OBJECT COLUMNS"
   ]
  },
  {
   "cell_type": "code",
   "execution_count": 155,
   "metadata": {},
   "outputs": [
    {
     "name": "stdout",
     "output_type": "stream",
     "text": [
      "Optimized Memory use in column name State in Category Data type  State 5.03 MB\n",
      "Optimized Memory use in column name City in Category Data type  City 6.45 MB\n"
     ]
    }
   ],
   "source": [
    "for col in category_columns:\n",
    "    num_unique_values = len(data[col].unique())\n",
    "    num_total_values = len(data[col])\n",
    "    if num_unique_values / num_total_values < 0.5:\n",
    "        start= time.time()\n",
    "        data[col] = data[col].astype('category')\n",
    "        total_time+=time.time()-start\n",
    "        print(f'Optimized Memory use in column name {col} in Category Data type  {col} {data[col].memory_usage(deep=True)/(1024 ** 2):03.2f} MB')\n"
   ]
  },
  {
   "cell_type": "markdown",
   "metadata": {},
   "source": [
    "### OPTIMIZING FLOAT"
   ]
  },
  {
   "cell_type": "code",
   "execution_count": 156,
   "metadata": {},
   "outputs": [
    {
     "name": "stdout",
     "output_type": "stream",
     "text": [
      "Memory Use in in column name Initial Approvals Object Data type Initial Approvals 41.24 MB\n",
      "Optimized Memory use in column name Initial Approvals in Category Data type  Initial Approvals 6.70 MB\n",
      "Memory Use in in column name Initial Denials Object Data type Initial Denials 26.44 MB\n",
      "Optimized Memory use in column name Initial Denials in Category Data type  Initial Denials 6.70 MB\n",
      "Memory Use in in column name Continuing Approvals Object Data type Continuing Approvals 41.18 MB\n",
      "Optimized Memory use in column name Continuing Approvals in Category Data type  Continuing Approvals 6.70 MB\n",
      "Memory Use in in column name Continuing Denials Object Data type Continuing Denials 24.28 MB\n",
      "Optimized Memory use in column name Continuing Denials in Category Data type  Continuing Denials 6.70 MB\n"
     ]
    }
   ],
   "source": [
    "string_columns=['Initial Approvals','Initial Denials','Continuing Approvals','Continuing Denials']\n",
    "for col in string_columns:\n",
    "    num_unique_values = len(data[col].unique())\n",
    "    num_total_values = len(data[col])\n",
    "    #print(f'Ratio of unique values to length of  {col} is {(num_unique_values/num_total_values):03.2f}')\n",
    "    print(f'Memory Use in in column name {col} Object Data type {col} {data[col].memory_usage(deep=True)/(1024 ** 2):03.2f} MB')\n",
    "    if num_unique_values / num_total_values < 0.5:\n",
    "        start_float= time.time()\n",
    "        data[col] = pd.to_numeric(data[col],errors='coerce', downcast='float')\n",
    "        total_time_float+=time.time()-start_float\n",
    "        print(f'Optimized Memory use in column name {col} in Category Data type  {col} {data[col].memory_usage(deep=True)/(1024 ** 2):03.2f} MB')\n",
    "data_preprocessing_optimization_time= (time.time()-data_preprocessing_start_time)/60"
   ]
  },
  {
   "cell_type": "markdown",
   "metadata": {},
   "source": [
    "### TIME TAKEN FOR MEMORY OPTIMIZATION"
   ]
  },
  {
   "cell_type": "code",
   "execution_count": 157,
   "metadata": {},
   "outputs": [
    {
     "name": "stdout",
     "output_type": "stream",
     "text": [
      "Time Taken for Data Preprocessing Memory Optimization  0.05 mins\n"
     ]
    }
   ],
   "source": [
    "print(f'Time Taken for Data Preprocessing Memory Optimization  {data_preprocessing_optimization_time:03.2f} mins')"
   ]
  },
  {
   "cell_type": "markdown",
   "metadata": {},
   "source": [
    "### OPTIMIZED MEMORY USAGE"
   ]
  },
  {
   "cell_type": "code",
   "execution_count": 158,
   "metadata": {},
   "outputs": [
    {
     "name": "stdout",
     "output_type": "stream",
     "text": [
      " Memory usage in MB \n",
      " NAICS                    0.558609\n",
      "State                    0.564369\n",
      "Fiscal Year              1.117218\n",
      "City                     1.982865\n",
      "Initial Approvals        2.234436\n",
      "Initial Denials          2.234436\n",
      "Continuing Approvals     2.234436\n",
      "Continuing Denials       2.234436\n",
      "Index                    4.468872\n",
      "ZIP                      4.468872\n",
      "Employer                44.376662\n",
      "dtype: float64\n",
      "<class 'pandas.core.frame.DataFrame'>\n",
      "Int64Index: 585744 entries, 0 to 48543\n",
      "Data columns (total 10 columns):\n",
      "Fiscal Year             585744 non-null int16\n",
      "Employer                585576 non-null object\n",
      "Initial Approvals       585673 non-null float32\n",
      "Initial Denials         585742 non-null float32\n",
      "Continuing Approvals    585626 non-null float32\n",
      "Continuing Denials      585740 non-null float32\n",
      "NAICS                   585744 non-null int8\n",
      "State                   585581 non-null category\n",
      "City                    585720 non-null category\n",
      "ZIP                     585596 non-null float64\n",
      "dtypes: category(2), float32(4), float64(1), int16(1), int8(1), object(1)\n",
      "memory usage: 66.5 MB\n",
      "data types None\n"
     ]
    }
   ],
   "source": [
    "print(f' Memory usage in MB \\n {data.memory_usage(deep=True).sort_values()/(1024*1024)}')\n",
    "print(f'data types {data.info(memory_usage=\"deep\")}')"
   ]
  },
  {
   "cell_type": "markdown",
   "metadata": {},
   "source": [
    "### CODES FOR COLUMNS CONVERTED TO CATEGORIES"
   ]
  },
  {
   "cell_type": "code",
   "execution_count": 159,
   "metadata": {},
   "outputs": [
    {
     "name": "stdout",
     "output_type": "stream",
     "text": [
      "{0: '\\x04', 1: 'AE', 2: 'AK', 3: 'AL', 4: 'AP', 5: 'AR', 6: 'AZ', 7: 'CA', 8: 'CO', 9: 'CT', 10: 'DC', 11: 'DE', 12: 'FL', 13: 'FM', 14: 'GA', 15: 'GU', 16: 'HI', 17: 'IA', 18: 'ID', 19: 'IL', 20: 'IN', 21: 'KS', 22: 'KY', 23: 'LA', 24: 'MA', 25: 'MD', 26: 'ME', 27: 'MI', 28: 'MN', 29: 'MO', 30: 'MP', 31: 'MS', 32: 'MT', 33: 'NC', 34: 'ND', 35: 'NE', 36: 'NH', 37: 'NJ', 38: 'NM', 39: 'NV', 40: 'NY', 41: 'OH', 42: 'OK', 43: 'OR', 44: 'PA', 45: 'PR', 46: 'RI', 47: 'SC', 48: 'SD', 49: 'TN', 50: 'TX', 51: 'UT', 52: 'VA', 53: 'VI', 54: 'VT', 55: 'WA', 56: 'WI', 57: 'WV', 58: 'WY'}\n",
      "Index(['.DURHAM', 'AABBOTT PARK', 'ABBEVILLE', 'ABBINGTON', 'ABBORD PARK',\n",
      "       'ABBORR PARK', 'ABBOT PARK', 'ABBOTT PARK', 'ABERDEEN', 'ABERDEN',\n",
      "       ...\n",
      "       'ZEBULON', 'ZEELAND', 'ZELIENOPLE', 'ZENDA', 'ZEPHYR COVE',\n",
      "       'ZEPHYRHILLS', 'ZIMMERMAN', 'ZION', 'ZIONSVILLE', 'ZUNI'],\n",
      "      dtype='object', length=8707)\n"
     ]
    }
   ],
   "source": [
    "d = dict(enumerate(data['State'].cat.categories))\n",
    "print(d)\n",
    "print(data['City'].cat.categories)"
   ]
  },
  {
   "cell_type": "markdown",
   "metadata": {},
   "source": [
    "### VISUALIZATION OF MEMORY OPTIMIZATION "
   ]
  },
  {
   "cell_type": "code",
   "execution_count": 160,
   "metadata": {},
   "outputs": [],
   "source": [
    "columns = [col for col in data.columns]\n",
    "optimized_usage = [round(data[col].memory_usage(deep=True)/(1024*1024),0) for col in data.columns]"
   ]
  },
  {
   "cell_type": "code",
   "execution_count": 161,
   "metadata": {},
   "outputs": [
    {
     "data": {
      "text/plain": [
       "['Fiscal Year',\n",
       " 'Employer',\n",
       " 'Initial Approvals',\n",
       " 'Initial Denials',\n",
       " 'Continuing Approvals',\n",
       " 'Continuing Denials',\n",
       " 'NAICS',\n",
       " 'State',\n",
       " 'City',\n",
       " 'ZIP']"
      ]
     },
     "execution_count": 161,
     "metadata": {},
     "output_type": "execute_result"
    }
   ],
   "source": [
    "columns"
   ]
  },
  {
   "cell_type": "code",
   "execution_count": 162,
   "metadata": {},
   "outputs": [
    {
     "data": {
      "text/plain": [
       "[9.0, 49.0, 41.0, 26.0, 41.0, 24.0, 9.0, 37.0, 41.0, 9.0]"
      ]
     },
     "execution_count": 162,
     "metadata": {},
     "output_type": "execute_result"
    }
   ],
   "source": [
    "baseline_usage\n"
   ]
  },
  {
   "cell_type": "code",
   "execution_count": 163,
   "metadata": {},
   "outputs": [
    {
     "data": {
      "text/plain": [
       "[6.0, 49.0, 7.0, 7.0, 7.0, 7.0, 5.0, 5.0, 6.0, 9.0]"
      ]
     },
     "execution_count": 163,
     "metadata": {},
     "output_type": "execute_result"
    }
   ],
   "source": [
    "optimized_usage "
   ]
  },
  {
   "cell_type": "code",
   "execution_count": 169,
   "metadata": {},
   "outputs": [
    {
     "data": {
      "image/png": "[encoded data removed]",
      "text/plain": [
       "<Figure size 576x396 with 1 Axes>"
      ]
     },
     "metadata": {},
     "output_type": "display_data"
    }
   ],
   "source": [
    "df = pd.DataFrame({\n",
    "    'baseline_usage': baseline_usage,\n",
    "    'optimized_usage': optimized_usage,\n",
    "}, index=baseline_columns)\n",
    "plt.style.use('seaborn')\n",
    "ax = df.plot.area(stacked=False)\n",
    "ax.set_xlabel('Column Names',fontsize=16)\n",
    "ax.set_ylabel('Memory Usage in MB',fontsize=16)\n",
    "ax.set_xticklabels(ax.get_xticklabels(),rotation=45)\n",
    "plt.title('Memory Usage Optimization (73% reduction)',fontsize=16)\n",
    "plt.show()"
   ]
  },
  {
   "cell_type": "code",
   "execution_count": 165,
   "metadata": {},
   "outputs": [
    {
     "data": {
      "text/html": [
       "<div>\n",
       "<style scoped>\n",
       "    .dataframe tbody tr th:only-of-type {\n",
       "        vertical-align: middle;\n",
       "    }\n",
       "\n",
       "    .dataframe tbody tr th {\n",
       "        vertical-align: top;\n",
       "    }\n",
       "\n",
       "    .dataframe thead th {\n",
       "        text-align: right;\n",
       "    }\n",
       "</style>\n",
       "<table border=\"1\" class=\"dataframe\">\n",
       "  <thead>\n",
       "    <tr style=\"text-align: right;\">\n",
       "      <th></th>\n",
       "      <th>Fiscal Year</th>\n",
       "      <th>Employer</th>\n",
       "      <th>Initial Approvals</th>\n",
       "      <th>Initial Denials</th>\n",
       "      <th>Continuing Approvals</th>\n",
       "      <th>Continuing Denials</th>\n",
       "      <th>NAICS</th>\n",
       "      <th>State</th>\n",
       "      <th>City</th>\n",
       "      <th>ZIP</th>\n",
       "    </tr>\n",
       "  </thead>\n",
       "  <tbody>\n",
       "    <tr>\n",
       "      <th>0</th>\n",
       "      <td>2018</td>\n",
       "      <td>REDDY GI ASSOCIATES</td>\n",
       "      <td>0.0</td>\n",
       "      <td>0.0</td>\n",
       "      <td>0.0</td>\n",
       "      <td>1.0</td>\n",
       "      <td>99</td>\n",
       "      <td>AZ</td>\n",
       "      <td>MESA</td>\n",
       "      <td>85209.0</td>\n",
       "    </tr>\n",
       "    <tr>\n",
       "      <th>1</th>\n",
       "      <td>2018</td>\n",
       "      <td>ADMIRAL INSTRUMENTS LLC</td>\n",
       "      <td>1.0</td>\n",
       "      <td>0.0</td>\n",
       "      <td>0.0</td>\n",
       "      <td>0.0</td>\n",
       "      <td>33</td>\n",
       "      <td>AZ</td>\n",
       "      <td>TEMPE</td>\n",
       "      <td>85281.0</td>\n",
       "    </tr>\n",
       "    <tr>\n",
       "      <th>2</th>\n",
       "      <td>2018</td>\n",
       "      <td>THE BELPORT COMPANY INC</td>\n",
       "      <td>0.0</td>\n",
       "      <td>1.0</td>\n",
       "      <td>0.0</td>\n",
       "      <td>0.0</td>\n",
       "      <td>33</td>\n",
       "      <td>CA</td>\n",
       "      <td>CAMARILLO</td>\n",
       "      <td>93012.0</td>\n",
       "    </tr>\n",
       "    <tr>\n",
       "      <th>3</th>\n",
       "      <td>2018</td>\n",
       "      <td>CALLAWAY GOLF SALES COMPANY</td>\n",
       "      <td>1.0</td>\n",
       "      <td>0.0</td>\n",
       "      <td>0.0</td>\n",
       "      <td>0.0</td>\n",
       "      <td>33</td>\n",
       "      <td>CA</td>\n",
       "      <td>CARLSBAD</td>\n",
       "      <td>92008.0</td>\n",
       "    </tr>\n",
       "    <tr>\n",
       "      <th>4</th>\n",
       "      <td>2018</td>\n",
       "      <td>PAYSAFE PARTNERS LP</td>\n",
       "      <td>0.0</td>\n",
       "      <td>0.0</td>\n",
       "      <td>1.0</td>\n",
       "      <td>0.0</td>\n",
       "      <td>52</td>\n",
       "      <td>CA</td>\n",
       "      <td>IRVINE</td>\n",
       "      <td>92612.0</td>\n",
       "    </tr>\n",
       "  </tbody>\n",
       "</table>\n",
       "</div>"
      ],
      "text/plain": [
       "   Fiscal Year                     Employer  Initial Approvals  \\\n",
       "0         2018          REDDY GI ASSOCIATES                0.0   \n",
       "1         2018      ADMIRAL INSTRUMENTS LLC                1.0   \n",
       "2         2018      THE BELPORT COMPANY INC                0.0   \n",
       "3         2018  CALLAWAY GOLF SALES COMPANY                1.0   \n",
       "4         2018          PAYSAFE PARTNERS LP                0.0   \n",
       "\n",
       "   Initial Denials  Continuing Approvals  Continuing Denials  NAICS State  \\\n",
       "0              0.0                   0.0                 1.0     99    AZ   \n",
       "1              0.0                   0.0                 0.0     33    AZ   \n",
       "2              1.0                   0.0                 0.0     33    CA   \n",
       "3              0.0                   0.0                 0.0     33    CA   \n",
       "4              0.0                   1.0                 0.0     52    CA   \n",
       "\n",
       "        City      ZIP  \n",
       "0       MESA  85209.0  \n",
       "1      TEMPE  85281.0  \n",
       "2  CAMARILLO  93012.0  \n",
       "3   CARLSBAD  92008.0  \n",
       "4     IRVINE  92612.0  "
      ]
     },
     "execution_count": 165,
     "metadata": {},
     "output_type": "execute_result"
    }
   ],
   "source": [
    "data.head()"
   ]
  },
  {
   "cell_type": "code",
   "execution_count": 166,
   "metadata": {},
   "outputs": [],
   "source": [
    "data.to_csv('./optimized_h1b_data.csv')"
   ]
  },
  {
   "cell_type": "code",
   "execution_count": null,
   "metadata": {},
   "outputs": [],
   "source": []
  }
 ],
 "metadata": {
  "kernelspec": {
   "display_name": "Python 3.7.3 64-bit",
   "language": "python",
   "name": "python37364bit2b8427184f3a4d4aa3afd1d3859411ec"
  },
  "language_info": {
   "codemirror_mode": {
    "name": "ipython",
    "version": 3
   },
   "file_extension": ".py",
   "mimetype": "text/x-python",
   "name": "python",
   "nbconvert_exporter": "python",
   "pygments_lexer": "ipython3",
   "version": "3.7.3"
  }
 },
 "nbformat": 4,
 "nbformat_minor": 2
}
