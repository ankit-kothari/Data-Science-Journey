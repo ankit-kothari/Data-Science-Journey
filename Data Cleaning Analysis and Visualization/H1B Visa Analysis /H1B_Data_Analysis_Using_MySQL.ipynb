{
  "nbformat": 4,
  "nbformat_minor": 0,
  "metadata": {
    "colab": {
      "name": "H1B_Data_Analysis_Using_MySQL.ipynb",
      "provenance": [],
      "toc_visible": true,
      "include_colab_link": true
    },
    "kernelspec": {
      "name": "python3",
      "display_name": "Python 3"
    }
  },
  "cells": [
    {
      "cell_type": "markdown",
      "metadata": {
        "id": "view-in-github",
        "colab_type": "text"
      },
      "source": [
        "<a href=\"https://colab.research.google.com/github/ankit-kothari/H1B-Data-Analysis/blob/master/H1B_Data_Analysis_Using_MySQL.ipynb\" target=\"_parent\"><img src=\"https://colab.research.google.com/assets/colab-badge.svg\" alt=\"Open In Colab\"/></a>"
      ]
    },
    {
      "cell_type": "code",
      "metadata": {
        "id": "6hVMA_XPx5gv",
        "colab_type": "code",
        "colab": {}
      },
      "source": [
        "import pandas as pd\n",
        "import plotly\n",
        "from plotly import graph_objs as go\n",
        "from plotly.graph_objs import *\n",
        "from flask import Flask\n",
        "import pandas as pd\n",
        "import numpy as np\n",
        "import os\n",
        "import sqlite3\n",
        "import copy\n",
        "pd.set_option('display.max_rows', 500)\n",
        "pd.set_option('display.max_columns', 500)\n",
        "pd.set_option('display.width', 1000)"
      ],
      "execution_count": 2,
      "outputs": []
    },
    {
      "cell_type": "code",
      "metadata": {
        "id": "PfTCsPlgyI1Y",
        "colab_type": "code",
        "colab": {}
      },
      "source": [
        "conn = sqlite3.connect(\"/Users/ankitkothari/Documents/COMPLETED_PROJECTS/H1B_data_analysis/us_h1b.db\")"
      ],
      "execution_count": null,
      "outputs": []
    },
    {
      "cell_type": "markdown",
      "metadata": {
        "id": "dLYScWuIzJMD",
        "colab_type": "text"
      },
      "source": [
        "## Sum of Initial Approvals, Initial Denials, Continuing Approvals, Continuing Denials by Employer"
      ]
    },
    {
      "cell_type": "markdown",
      "metadata": {
        "id": "RNxAFdM_zuWb",
        "colab_type": "text"
      },
      "source": [
        "\n",
        "\n",
        "*   Only Employers with more than 100 H1B applications are counted using Having condition\n",
        "\n"
      ]
    },
    {
      "cell_type": "code",
      "metadata": {
        "id": "trWFV6YxzDLs",
        "colab_type": "code",
        "tags": [],
        "colab": {
          "base_uri": "https://localhost:8080/",
          "height": 204
        },
        "outputId": "e864533c-d000-4c49-9896-9be0ffc1ac7f"
      },
      "source": [
        "h1b_query = ''' \n",
        "select  \n",
        "Employer, SUM(Initial_Approvals) AS Initial_Approvals, \n",
        "SUM(Initial_Denials) AS Initial_Denials, \n",
        "SUM(Continuing_Approvals) AS Continuing_Approvals, \n",
        "SUM(Continuing_Denials) AS Continuing_Denials, \n",
        "NAICS\n",
        "from h1b\n",
        "group by Employer\n",
        "having SUM(Initial_Approvals)>100;'''\n",
        "\n",
        "\n",
        "df = pd.read_sql_query(h1b_query, conn)\n",
        "print(df.iloc[0:10])"
      ],
      "execution_count": null,
      "outputs": [
        {
          "output_type": "stream",
          "text": [
            "Employer  Initial_Approvals  Initial_Denials  Continuing_Approvals  Continuing_Denials  NAICS\n",
            "0                     3I INFOTECH INC                408               62                  1119               119.0     54\n",
            "1      8K MILES SOFTWARE SERVICES INC                115               32                   170                60.0     54\n",
            "2                     A T KEARNEY INC                119                6                   118                 3.0     54\n",
            "3                    A10 NETWORKS INC                108                1                   117                 3.0     54\n",
            "4          A2Z DEVELOPMENT CENTER INC                117                4                   207                 2.0     54\n",
            "5  A2Z DEVELOPMENT CTR INC DBA LAB126                103                2                   341                 5.0     54\n",
            "6                          A9 COM INC                128                2                   238                 1.0     54\n",
            "7                             ABB INC                198                3                   306                 9.0     33\n",
            "8                 ABBOTT LABORATORIES                229                2                   685                11.0     32\n",
            "9                          ABBVIE INC                167                5                   374                14.0     32\n"
          ],
          "name": "stdout"
        }
      ]
    },
    {
      "cell_type": "markdown",
      "metadata": {
        "colab_type": "text",
        "id": "-XeyE13x0A2m"
      },
      "source": [
        "## SUM of (Initial Approvals + Continuing Approvals) and (Initial Denials + Continuing Denials) by Employer \n",
        " \n",
        "*   Query ordered by Max Denials\n",
        "\n"
      ]
    },
    {
      "cell_type": "code",
      "metadata": {
        "id": "2W-yC0wkzbgY",
        "colab_type": "code",
        "colab": {
          "base_uri": "https://localhost:8080/",
          "height": 255
        },
        "outputId": "d72b0347-db64-46e6-8967-f637d87d0cf4"
      },
      "source": [
        "h1b_query2 = ''' \n",
        "select  \n",
        "Employer,  SUM(Initial_Approvals)  + SUM(Continuing_Approvals) AS Approvals, \n",
        "SUM(Initial_Denials) + SUM(Continuing_Denials) AS Denials\n",
        "from h1b\n",
        "where Fiscal_Year !='2019'\n",
        "group by Employer\n",
        "order by 3 desc;'''\n",
        "\n",
        "\n",
        "df2 = pd.read_sql_query(h1b_query2, conn)\n",
        "print(df2)\n"
      ],
      "execution_count": null,
      "outputs": [
        {
          "output_type": "stream",
          "text": [
            "                               Employer  Approvals  Denials\n",
            "0                             COGNIZANT     143770  11049.0\n",
            "1                                  TATA      75435   3932.0\n",
            "2                               INFOSYS      97961   3638.0\n",
            "3                                 WIPRO      60012   3531.0\n",
            "4                              DELOITTE      34842   3053.0\n",
            "...                                 ...        ...      ...\n",
            "265144         ZYXEL COMMUNICATIONS INC          7      0.0\n",
            "265145                        ZYZYX INC          4      0.0\n",
            "265146  ZZ CAPITAL INTERNATIONAL US LLC          1      0.0\n",
            "265147          ZZ INVESTMENT GROUP INC          3      0.0\n",
            "265148              [X+1] SOLUTIONS INC          1      0.0\n",
            "\n",
            "[265149 rows x 3 columns]\n"
          ],
          "name": "stdout"
        }
      ]
    },
    {
      "cell_type": "markdown",
      "metadata": {
        "id": "quuL_6ASr-m4",
        "colab_type": "text"
      },
      "source": [
        "## Approval (Initial Approvals + Continuing Approvals)  and  Denials (Initial Denials + Continuing Denials) from Fiscal Year 2009 to 2018 for Amazon"
      ]
    },
    {
      "cell_type": "code",
      "metadata": {
        "id": "7nqoJjwXq51N",
        "colab_type": "code",
        "colab": {
          "base_uri": "https://localhost:8080/",
          "height": 204
        },
        "outputId": "af87f852-17fa-4ff8-fc00-f3000ed40bbe"
      },
      "source": [
        "h1b_query3a = ''' \n",
        "select  \n",
        "h1b.Employer,h1b.Fiscal_Year,  SUM(h1b.Initial_Approvals)  + SUM(h1b.Continuing_Approvals) AS Approvals, \n",
        "SUM(h1b.Initial_Denials) + SUM(h1b.Continuing_Denials) AS Denials\n",
        "from h1b LEFT JOIN (\n",
        "    select  \n",
        "       Employer, \n",
        "       Fiscal_Year, \n",
        "       SUM(Initial_Approvals)  + SUM(Continuing_Approvals) AS Approvals_2016, \n",
        "       SUM(Initial_Denials) + SUM(Continuing_Denials) AS Denials_2016\n",
        "       from h1b\n",
        "       where Fiscal_Year !='2019'and Employer LIKE 'AMAZON'\n",
        "       group by Fiscal_Year\n",
        "\n",
        ") h1b2 ON h1b.Employer = h1b2.Employer\n",
        "where h1b.Fiscal_Year !='2019' and h1b.Employer LIKE 'AMAZON'\n",
        "group by h1b.Fiscal_Year\n",
        ";\n",
        "'''\n",
        "\n",
        "df3a = pd.read_sql_query(h1b_query3a, conn)\n",
        "print(df3a)"
      ],
      "execution_count": 19,
      "outputs": [
        {
          "output_type": "stream",
          "text": [
            "  Employer  Fiscal_Year  Approvals  Denials\n",
            "0   AMAZON         2009       4620       30\n",
            "1   AMAZON         2010       5240       20\n",
            "2   AMAZON         2011       8880       20\n",
            "3   AMAZON         2012      11980       60\n",
            "4   AMAZON         2013      16650      110\n",
            "5   AMAZON         2014      19860      180\n",
            "6   AMAZON         2015      21940      230\n",
            "7   AMAZON         2016      32200      390\n",
            "8   AMAZON         2017      54130      530\n",
            "9   AMAZON         2018      62690     1660\n"
          ],
          "name": "stdout"
        }
      ]
    },
    {
      "cell_type": "markdown",
      "metadata": {
        "id": "-c84VnfapcYH",
        "colab_type": "text"
      },
      "source": [
        "## Comparing Denial Rates pre and post 2016 by State Top(15)"
      ]
    },
    {
      "cell_type": "code",
      "metadata": {
        "id": "25jmQkRV1cvH",
        "colab_type": "code",
        "tags": [],
        "colab": {
          "base_uri": "https://localhost:8080/",
          "height": 1000
        },
        "outputId": "9ff849d0-4951-485b-881e-25f2a6a9eab2"
      },
      "source": [
        "h1b_query8= ''' \n",
        "with h1b_table_by_state AS\n",
        "(\n",
        "select  \n",
        "h1b.State,   \n",
        "SUM(h1b.Initial_Approvals)  + SUM(h1b.Continuing_Approvals) AS approvals_pre_2016, \n",
        "SUM(h1b.Initial_Denials) + SUM(h1b.Continuing_Denials) AS denials_pre_2016,\n",
        "(CAST(SUM(h1b.Initial_Denials) AS REAL) + CAST(SUM(h1b.Continuing_Denials) AS REAL)) / (CAST(SUM(h1b.Initial_Denials) AS REAL) + CAST(SUM(h1b.Continuing_Denials) AS REAL)+CAST(SUM(h1b.Initial_Approvals) AS REAL) + CAST(SUM(h1b.Continuing_Approvals) AS REAL))*100 AS denial_pre_2016,\n",
        "h1b2.State,\n",
        "h1b2.approvals_post_2016, \n",
        "h1b2.denials_post_2016,\n",
        "h1b2.denial_post_2016\n",
        "\n",
        "from h1b LEFT JOIN (\n",
        "    select  \n",
        "       State,  \n",
        "       SUM(Initial_Approvals)  + SUM(Continuing_Approvals) AS approvals_post_2016, \n",
        "       SUM(Initial_Denials) + SUM(Continuing_Denials) AS denials_post_2016,\n",
        "       (CAST(SUM(Initial_Denials) AS REAL) + CAST(SUM(Continuing_Denials) AS REAL)) / (CAST(SUM(Initial_Denials) AS REAL) + CAST(SUM(Continuing_Denials) AS REAL)+CAST(SUM(Initial_Approvals) AS REAL) + CAST(SUM(Continuing_Approvals) AS REAL))*100 AS denial_post_2016,\n",
        "       Fiscal_Year\n",
        "       from h1b\n",
        "       where Fiscal_Year !='2019' and Fiscal_Year>2016\n",
        "       group by State\n",
        "\n",
        ") h1b2 ON h1b.State = h1b2.State\n",
        "where h1b.Fiscal_Year !='2019' and h1b.Fiscal_Year<=2016\n",
        "group by h1b.State\n",
        ")\n",
        "select \n",
        "hs.State,\n",
        "hs.denial_pre_2016 AS denial_rate_pre_2016,\n",
        "hs.denial_post_2016 AS denial_rate_post_2016,\n",
        "hs.denial_post_2016 - hs.denial_pre_2016 AS delta\n",
        "from h1b_table_by_state hs \n",
        "order by 4 desc\n",
        ";\n",
        "'''\n",
        "\n",
        "df8 = pd.read_sql_query(h1b_query8, conn)\n",
        "df8.set_index('State', inplace=True)\n",
        "df8 = df8.applymap(lambda x: round(x,2))\n",
        "\n",
        "print(f' df8 \\n {df8}')"
      ],
      "execution_count": 22,
      "outputs": [
        {
          "output_type": "stream",
          "text": [
            " df8 \n",
            "        denial_rate_pre_2016  denial_rate_post_2016  delta\n",
            "State                                                    \n",
            "NM                     4.26                  15.74  11.48\n",
            "PR                     6.66                  17.99  11.33\n",
            "GA                     6.72                  17.13  10.41\n",
            "IL                     5.85                  14.13   8.27\n",
            "NJ                     7.94                  15.93   8.00\n",
            "IA                     4.90                  12.85   7.94\n",
            "VA                     7.60                  14.98   7.39\n",
            "FL                     7.50                  14.86   7.36\n",
            "SC                     4.79                  11.93   7.14\n",
            "MI                     6.77                  13.45   6.69\n",
            "OH                     6.13                  12.17   6.04\n",
            "TX                     4.42                  10.24   5.82\n",
            "NC                     4.54                  10.05   5.51\n",
            "MO                     4.37                   9.78   5.41\n",
            "CT                     3.66                   8.97   5.31\n",
            "NH                     7.31                  12.03   4.72\n",
            "MA                     3.72                   8.38   4.66\n",
            "KY                     4.54                   9.14   4.59\n",
            "AR                     3.39                   7.57   4.18\n",
            "NY                     4.18                   8.29   4.11\n",
            "WI                     3.45                   7.51   4.06\n",
            "OR                     4.96                   9.00   4.04\n",
            "PA                     4.90                   8.82   3.92\n",
            "KS                     6.98                  10.89   3.91\n",
            "DE                    10.45                  14.34   3.89\n",
            "VI                    10.69                  14.52   3.82\n",
            "IN                     4.85                   8.42   3.57\n",
            "DC                     4.89                   8.27   3.38\n",
            "MN                     4.02                   7.17   3.15\n",
            "MP                    25.00                  28.06   3.06\n",
            "OK                     5.43                   8.45   3.02\n",
            "NE                     3.44                   6.41   2.97\n",
            "CO                     5.10                   7.96   2.87\n",
            "UT                     5.79                   8.56   2.77\n",
            "CA                     5.42                   7.88   2.46\n",
            "LA                     5.28                   7.43   2.16\n",
            "TN                     2.99                   5.06   2.07\n",
            "WV                     3.17                   5.15   1.98\n",
            "RI                     2.59                   4.55   1.96\n",
            "WA                     2.59                   4.44   1.86\n",
            "MT                     6.36                   7.83   1.47\n",
            "ID                     2.95                   4.40   1.45\n",
            "GU                     8.27                   9.60   1.34\n",
            "VT                     2.61                   3.86   1.24\n",
            "MD                     4.83                   6.01   1.18\n",
            "WY                     8.28                   9.43   1.16\n",
            "NV                     9.60                  10.67   1.07\n",
            "AL                     4.30                   5.36   1.05\n",
            "MS                     5.32                   5.79   0.47\n",
            "SD                     4.15                   4.41   0.26\n",
            "ND                     5.56                   4.94  -0.62\n",
            "AZ                     5.71                   4.93  -0.79\n",
            "HI                     8.79                   6.76  -2.03\n",
            "AK                     9.47                   5.56  -3.91\n",
            "ME                     8.63                   4.34  -4.29\n"
          ],
          "name": "stdout"
        }
      ]
    },
    {
      "cell_type": "markdown",
      "metadata": {
        "id": "iI6O_aCGoWm3",
        "colab_type": "text"
      },
      "source": [
        "## EMPLOYER WITH HIGHEST PERCENTAGE SHARE OF H1B BY STATE\n",
        "\n",
        "\n",
        "*   Using LEFT join to find the list of Employers by State\n",
        "*   Using Max aggregate function identifying the Maximum \n",
        "\n"
      ]
    },
    {
      "cell_type": "code",
      "metadata": {
        "id": "Sd_-U77I1lzp",
        "colab_type": "code",
        "colab": {
          "base_uri": "https://localhost:8080/",
          "height": 986
        },
        "outputId": "0cd0c728-962c-49d0-f6a5-cbdd9c973e34"
      },
      "source": [
        "h1b_query9= '''\n",
        "with h1b_table_by_state AS\n",
        "(\n",
        "select  \n",
        "h1b.State AS State,\n",
        "h1b.Employer AS Employer,\n",
        "SUM(h1b.Initial_Approvals)  + SUM(h1b.Continuing_Approvals) AS total_visas_State, \n",
        "Max(h1b2.approvals) AS max_visa_in_state\n",
        "from h1b LEFT JOIN (\n",
        "    select  \n",
        "       State, Employer,\n",
        "       SUM(Initial_Approvals)  + SUM(Continuing_Approvals) AS approvals\n",
        "       from h1b\n",
        "       where Fiscal_Year !='2019'\n",
        "       group by State,Employer\n",
        "       order by 3 desc\n",
        "\n",
        ") h1b2 ON h1b.State = h1b2.State and h1b.Employer = h1b2.Employer \n",
        "where h1b.Fiscal_Year !='2019'\n",
        "group by h1b.State\n",
        "order by 4 desc\n",
        ")\n",
        "select\n",
        "htbs.State,\n",
        "htbs.Employer,\n",
        "htbs.total_visas_State,\n",
        "htbs.max_visa_in_state,\n",
        "(CAST(htbs.max_visa_in_state AS REAL)/ CAST(htbs.total_visas_State AS REAL))*100 AS percent_visa\n",
        "from h1b_table_by_state htbs \n",
        "order by 5 desc;\n",
        "'''\n",
        "\n",
        "df9 = pd.read_sql_query(h1b_query9, conn)\n",
        "print(f' df 9 \\n {df9}')"
      ],
      "execution_count": null,
      "outputs": [
        {
          "output_type": "stream",
          "text": [
            " df 9 \n",
            "    State                           Employer  total_visas_State  max_visa_in_state  percent_visa\n",
            "0     MD                               TATA             121999              74504     61.069353\n",
            "1     VT                       ITECH US INC               2994               1677     56.012024\n",
            "2     NC                                IBM              63728              30357     47.635262\n",
            "3     ID              MICRON TECHNOLOGY INC               3914               1791     45.758815\n",
            "4     AR                           WAL-MART              10463               4120     39.376852\n",
            "5     WA                          MICROSOFT              95411              36151     37.889761\n",
            "6     TN                            CUMMINS              24813               6773     27.296175\n",
            "7     PA                           DELOITTE             109917              28968     26.354431\n",
            "8     RI                       CVS/PHARMACY               7072               1679     23.741516\n",
            "9     TX                            INFOSYS             411275              97180     23.628959\n",
            "10    IL                          ACCENTURE             160014              36249     22.653643\n",
            "11    WY                    UNIV OF WYOMING                639                143     22.378717\n",
            "12    AZ                              INTEL              27748               5409     19.493297\n",
            "13    AK           UNIV OF ALASKA FAIRBANKS                714                136     19.047619\n",
            "14    KY        V-SOFT CONSULTING GROUP INC              10016               1806     18.031150\n",
            "15    MI                             SYNTEL              99444              17708     17.807007\n",
            "16    MT           MONTANA STATE UNIVERSITY                607                 95     15.650741\n",
            "17    NJ                              WIPRO             384639              59993     15.597222\n",
            "18    WV                 WEST VIRGINIA UNIV               2136                326     15.262172\n",
            "19    FL             PRICEWATERHOUSECOOPERS              84959              12677     14.921315\n",
            "20    NE                       PROKARMA INC               8422               1234     14.652102\n",
            "21    VI      U S VIRGIN ISLANDS DEPT OF ED                479                 68     14.196242\n",
            "22    HI               UNIVERSITY OF HAWAII               2509                351     13.989637\n",
            "23    SD      SOUTH DAKOTA STATE UNIVERSITY               1430                179     12.517483\n",
            "24    IA             THE UNIVERSITY OF IOWA              10390               1294     12.454283\n",
            "25    AL  THE UNIV OF ALABAMA AT BIRMINGHAM               8379               1004     11.982337\n",
            "26    NM   LOS ALAMOS NATIONAL SECURITY LLC               4364                504     11.549038\n",
            "27    ME                      RITE PROS INC               2500                270     10.800000\n",
            "28    DE                 BANK OF AMERICA NA              10975               1059      9.649203\n",
            "29    UT                       UNIV OF UTAH               6938                626      9.022773\n",
            "30    CO                          CIBER INC              19289               1592      8.253409\n",
            "31    MS       MISSISSIPPI STATE UNIVERSITY               3046                241      7.912016\n",
            "32    NV                   BALLY GAMING INC               4313                339      7.859958\n",
            "33    NH                  DARTMOUTH COLLEGE               5384                411      7.633730\n",
            "34    ND            NORTH DAKOTA STATE UNIV               1890                144      7.619048\n",
            "35    LA                   CMC AMERICAS INC               9253                656      7.089593\n",
            "36    OR                           NIKE INC               8669                612      7.059638\n",
            "37    MN                        MAYO CLINIC              24781               1716      6.924660\n",
            "38    KS                 SPRINT CORPORATION              10092                675      6.688466\n",
            "39    MO                 CERNER CORPORATION              24736               1633      6.601714\n",
            "40    WI           EPIC SYSTEMS CORPORATION              22135               1443      6.519087\n",
            "41    MP  GRACE CHRISTIAN ACADEMY OF SAIPAN                511                 28      5.479452\n",
            "42    GU                CORE TECH INTL CORP               1751                 93      5.311251\n",
            "43    IN   PYRAMID TECHNOLOGY SOLUTIONS INC              15290                779      5.094833\n",
            "44    CA                                HCL             496311              23096      4.653534\n",
            "45    SC    MEDICAL UNIV OF SC & AFFILIATES               6744                311      4.611507\n",
            "46    CT                    YALE UNIVERSITY              31221               1428      4.573845\n",
            "47    GA                           DELOITTE              70414               3199      4.543131\n",
            "48    OH        CLEVELAND CLINIC FOUNDATION              46637               2068      4.434247\n",
            "49    VA           CAPITAL ONE SERVICES LLC              89120               3499      3.926167\n",
            "50    NY                            MPHASIS             228969               8540      3.729763\n",
            "51    MA                              PATNI             119515               3992      3.340167\n",
            "52    OK               THE UNIV OF OKLAHOMA               6577                219      3.329786\n",
            "53    DC         THE ADVISORY BOARD COMPANY              15053                500      3.321597\n",
            "54    PR      UNIV OF PR RIO PIEDRAS CAMPUS                955                 31      3.246073\n"
          ],
          "name": "stdout"
        }
      ]
    },
    {
      "cell_type": "markdown",
      "metadata": {
        "id": "SPBKbfkjlZZm",
        "colab_type": "text"
      },
      "source": [
        "## Comparing Denial Rates pre and post 2016 by Employer Top(15)"
      ]
    },
    {
      "cell_type": "code",
      "metadata": {
        "id": "5uzVhphS3R3F",
        "colab_type": "code",
        "colab": {
          "base_uri": "https://localhost:8080/",
          "height": 306
        },
        "outputId": "77b13323-a90f-4e7c-c658-284d0b68d1a4"
      },
      "source": [
        "h1b_query11= ''' \n",
        "with h1b_table_by_state AS\n",
        "(\n",
        "select  \n",
        "h1b.Employer,   \n",
        "SUM(h1b.Initial_Approvals)  + SUM(h1b.Continuing_Approvals) AS approvals_pre_2016, \n",
        "SUM(h1b.Initial_Denials) + SUM(h1b.Continuing_Denials) AS denials_pre_2016,\n",
        "(CAST(SUM(h1b.Initial_Denials) AS REAL) + CAST(SUM(h1b.Continuing_Denials) AS REAL)) / (CAST(SUM(h1b.Initial_Denials) AS REAL) + CAST(SUM(h1b.Continuing_Denials) AS REAL)+CAST(SUM(h1b.Initial_Approvals) AS REAL) + CAST(SUM(h1b.Continuing_Approvals) AS REAL))*100 AS denial_pre_2016,\n",
        "h1b2.Employer,\n",
        "h1b2.approvals_post_2016, \n",
        "h1b2.denials_post_2016,\n",
        "h1b2.denial_post_2016\n",
        "\n",
        "from h1b LEFT JOIN (\n",
        "    select  \n",
        "       Employer,  \n",
        "       SUM(Initial_Approvals)  + SUM(Continuing_Approvals) AS approvals_post_2016, \n",
        "       SUM(Initial_Denials) + SUM(Continuing_Denials) AS denials_post_2016,\n",
        "       (CAST(SUM(Initial_Denials) AS REAL) + CAST(SUM(Continuing_Denials) AS REAL)) / (CAST(SUM(Initial_Denials) AS REAL) + CAST(SUM(Continuing_Denials) AS REAL)+CAST(SUM(Initial_Approvals) AS REAL) + CAST(SUM(Continuing_Approvals) AS REAL))*100 AS denial_post_2016,\n",
        "       Fiscal_Year\n",
        "       from h1b\n",
        "       where Fiscal_Year !='2019' and Fiscal_Year>2016\n",
        "       group by Employer\n",
        "\n",
        ") h1b2 ON h1b.Employer = h1b2.Employer\n",
        "where h1b.Fiscal_Year !='2019' and h1b.Fiscal_Year<=2016\n",
        "group by h1b.Employer\n",
        "having approvals_pre_2016 > 2000 and h1b2.approvals_post_2016>500\n",
        ")\n",
        "select \n",
        "hs.Employer,\n",
        "hs.denial_pre_2016 AS denial_rate_pre_2016,\n",
        "hs.denial_post_2016 AS denial_rate_post_2016,\n",
        "hs.denial_post_2016 - hs.denial_pre_2016 AS delta_denial_rates_pre_post2016\n",
        "from h1b_table_by_state hs \n",
        "order by 4 desc\n",
        "limit 15\n",
        ";\n",
        "'''\n",
        "\n",
        "df11 = pd.read_sql_query(h1b_query11, conn)\n",
        "print(f' df11 \\n {df11}')"
      ],
      "execution_count": null,
      "outputs": [
        {
          "output_type": "stream",
          "text": [
            " df11 \n",
            "                     Employer  denial_rate_pre_2016  denial_rate_post_2016  delta_denial_rates_pre_post2016\n",
            "0                  CAPGEMINI              4.463745              25.078370                        20.614625\n",
            "1                 KFORCE INC             10.397554              24.423963                        14.026410\n",
            "2   CSC COVANSYS CORPORATION              6.000000              17.551963                        11.551963\n",
            "3             UST GLOBAL INC              3.282602              13.593156                        10.310554\n",
            "4                     SYNTEL              3.130160              11.523929                         8.393769\n",
            "5     PRICEWATERHOUSECOOPERS              1.937185               9.343545                         7.406360\n",
            "6                   MINDTREE              3.115424              10.402999                         7.287575\n",
            "7                  ACCENTURE              2.282917               8.929167                         6.646250\n",
            "8                        HCL              4.327682              10.392692                         6.065009\n",
            "9                ERNST&YOUNG              1.559494               7.521761                         5.962267\n",
            "10                    LARSEN              2.781434               8.473656                         5.692221\n",
            "11                   MPHASIS              3.948949               9.501374                         5.552425\n",
            "12                   POLARIS              2.985915               8.513053                         5.527138\n",
            "13                       IBM              4.161577               9.166337                         5.004761\n",
            "14                     WIPRO              4.671449               9.664537                         4.993088\n"
          ],
          "name": "stdout"
        }
      ]
    },
    {
      "cell_type": "markdown",
      "metadata": {
        "id": "jB9PZH9Ek30v",
        "colab_type": "text"
      },
      "source": [
        "## Total Approvals By State and Percentage Share of H1B Visas"
      ]
    },
    {
      "cell_type": "code",
      "metadata": {
        "id": "pu-6YBcQ3aje",
        "colab_type": "code",
        "tags": [],
        "colab": {
          "base_uri": "https://localhost:8080/",
          "height": 204
        },
        "outputId": "64e71415-70e0-4e23-ad42-644f2b2cc0a7"
      },
      "source": [
        "h1b_query13 = ''' \n",
        "with visas_by_state AS\n",
        "(\n",
        "select  \n",
        "SUM(Initial_Approvals)  + SUM(Continuing_Approvals) AS sum_IA \n",
        "from h1b\n",
        "where Fiscal_Year !='2019'\n",
        ")\n",
        "select  \n",
        "State, SUM(Initial_Approvals)  + SUM(Continuing_Approvals) total_visa,\n",
        "(CAST(SUM(Initial_Approvals) AS REAL) + CAST(SUM(Continuing_Approvals) AS REAL)) / (CAST(vs.sum_IA AS REAL))*100 AS percentage_total_visa\n",
        "from h1b, visas_by_state vs\n",
        "where Fiscal_Year !='2019'\n",
        "group by State\n",
        "order by 2 desc\n",
        ";\n",
        "'''\n",
        "\n",
        "df13 = pd.read_sql_query(h1b_query13, conn)\n",
        "print(f' df13 {df13.iloc[0:10]}')"
      ],
      "execution_count": null,
      "outputs": [
        {
          "output_type": "stream",
          "text": [
            "df13   State  total_visa  percentage_total_visa\n",
            "0    CA      496311              16.872466\n",
            "1    TX      411275              13.981603\n",
            "2    NJ      384639              13.076092\n",
            "3    NY      228969               7.783973\n",
            "4    IL      160014               5.439796\n",
            "5    MD      121999               4.147448\n",
            "6    MA      119515               4.063002\n",
            "7    PA      109917               3.736711\n",
            "8    MI       99444               3.380674\n",
            "9    WA       95411               3.243569\n"
          ],
          "name": "stdout"
        }
      ]
    },
    {
      "cell_type": "markdown",
      "metadata": {
        "id": "iIr-oL1rlOfU",
        "colab_type": "text"
      },
      "source": [
        "## Total Approvals By Employer and Percentage Share of H1B Visas"
      ]
    },
    {
      "cell_type": "code",
      "metadata": {
        "id": "em2DIF0b33Fx",
        "colab_type": "code",
        "colab": {
          "base_uri": "https://localhost:8080/",
          "height": 204
        },
        "outputId": "ab5e2693-b2b9-4f80-80df-bb39992f87ec"
      },
      "source": [
        "h1b_query14 = ''' \n",
        "with visas_by_Employer AS\n",
        "(\n",
        "select  \n",
        "SUM(Initial_Approvals) AS sum_IA \n",
        "from h1b\n",
        "where Fiscal_Year !='2019'\n",
        ")\n",
        "select  \n",
        "Employer,\n",
        "(CAST(SUM(Initial_Approvals) AS REAL) / CAST(vs.sum_IA AS REAL))*100 AS percent_total_H1B \n",
        "from h1b, visas_by_Employer vs\n",
        "where Fiscal_Year !='2019'\n",
        "group by Employer\n",
        "order by 2 desc\n",
        "limit 10\n",
        ";\n",
        "'''\n",
        "\n",
        "df14 = pd.read_sql_query(h1b_query14, conn)\n",
        "print(f' df14 {df14}')"
      ],
      "execution_count": null,
      "outputs": [
        {
          "output_type": "stream",
          "text": [
            " df14     Employer  percent_total_H1B\n",
            "0  COGNIZANT           3.843342\n",
            "1       TATA           3.051281\n",
            "2    INFOSYS           2.830154\n",
            "3      WIPRO           2.140800\n",
            "4  ACCENTURE           1.666490\n",
            "5        IBM           1.210432\n",
            "6  MICROSOFT           1.196447\n",
            "7     AMAZON           1.033530\n",
            "8   DELOITTE           0.978589\n",
            "9        HCL           0.919743\n"
          ],
          "name": "stdout"
        }
      ]
    },
    {
      "cell_type": "markdown",
      "metadata": {
        "id": "iMzeX5UHkM0t",
        "colab_type": "text"
      },
      "source": [
        "## Comparing Denial Rate Between US Companies and Indian Companies pre and post 2016\n",
        "\n",
        "1.   Using self join to calcualte denial rates pre and post 2016\n",
        "2.   Using CASE Statement tagging Indian and US Companies\n",
        "\n"
      ]
    },
    {
      "cell_type": "code",
      "metadata": {
        "id": "uSgclRrJ7Ptg",
        "colab_type": "code",
        "tags": [],
        "colab": {
          "base_uri": "https://localhost:8080/",
          "height": 204
        },
        "outputId": "585193b8-8665-4324-f916-b56a0dba4c7b"
      },
      "source": [
        "h1b_query16= ''' \n",
        "with h1b_table_by_state AS\n",
        "(\n",
        "select  \n",
        "h1b.Employer,   \n",
        "SUM(h1b.Initial_Approvals)  + SUM(h1b.Continuing_Approvals) AS approvals_pre_2016, \n",
        "SUM(h1b.Initial_Denials) + SUM(h1b.Continuing_Denials) AS denials_pre_2016,\n",
        "(CAST(SUM(h1b.Initial_Denials) AS REAL) + CAST(SUM(h1b.Continuing_Denials) AS REAL)) / (CAST(SUM(h1b.Initial_Denials) AS REAL) + CAST(SUM(h1b.Continuing_Denials) AS REAL)+CAST(SUM(h1b.Initial_Approvals) AS REAL) + CAST(SUM(h1b.Continuing_Approvals) AS REAL))*100 AS denial_pre_2016,\n",
        "h1b2.Employer,\n",
        "h1b2.approvals_post_2016, \n",
        "h1b2.denials_post_2016,\n",
        "h1b2.denial_post_2016\n",
        "\n",
        "from h1b LEFT JOIN (\n",
        "    select  \n",
        "       Employer,  \n",
        "       SUM(Initial_Approvals)  + SUM(Continuing_Approvals) AS approvals_post_2016, \n",
        "       SUM(Initial_Denials) + SUM(Continuing_Denials) AS denials_post_2016,\n",
        "       (CAST(SUM(Initial_Denials) AS REAL) + CAST(SUM(Continuing_Denials) AS REAL)) / (CAST(SUM(Initial_Denials) AS REAL) + CAST(SUM(Continuing_Denials) AS REAL)+CAST(SUM(Initial_Approvals) AS REAL) + CAST(SUM(Continuing_Approvals) AS REAL))*100 AS denial_post_2016,\n",
        "       Fiscal_Year\n",
        "       from h1b\n",
        "       where Fiscal_Year !='2019' and Fiscal_Year>2016\n",
        "       group by Employer\n",
        "\n",
        ") h1b2 ON h1b.Employer = h1b2.Employer\n",
        "where h1b.Fiscal_Year !='2019' and h1b.Fiscal_Year<=2016\n",
        "group by h1b.Employer\n",
        "having approvals_pre_2016 > 2000 and h1b2.approvals_post_2016>500\n",
        ")\n",
        "select \n",
        "hs.Employer,\n",
        "CASE WHEN hs.Employer IN (\"APPLE\",\"FACEBOOK\",\"AMAZON\",\"MICROSOFT\",\"GOOGLE\") THEN \"US COMPANIES\" ELSE \"INDIAN COMPANIES\" END AS COMPANY_ORIGIN,\n",
        "hs.denial_pre_2016 AS denial_rate_pre_2016,\n",
        "hs.denial_post_2016 AS denial_rate_post_2016,\n",
        "hs.denial_post_2016 - hs.denial_pre_2016 AS delta_denial_rates_pre_post2016\n",
        "from h1b_table_by_state hs \n",
        "where hs.Employer IN (\"APPLE\",\"FACEBOOK\",\"AMAZON\",\"MICROSOFT\",\"GOOGLE\", \"TATA\", \"ACCENTURE\", \"WIPRO\",\"CAPGEMINI\",\"MINDTREE\")\n",
        "order by 4 desc\n",
        "limit 15\n",
        ";\n",
        "'''\n",
        "\n",
        "df16 = pd.read_sql_query(h1b_query16, conn)\n",
        "print(f' df16 {df16}')"
      ],
      "execution_count": null,
      "outputs": [
        {
          "output_type": "stream",
          "text": [
            "df16     Employer    COMPANY_ORIGIN  denial_rate_pre_2016  denial_rate_post_2016  delta_denial_rates_pre_post2016\n",
            "0  CAPGEMINI  INDIAN COMPANIES              4.463745              25.078370                        20.614625\n",
            "1   MINDTREE  INDIAN COMPANIES              3.115424              10.402999                         7.287575\n",
            "2      WIPRO  INDIAN COMPANIES              4.671449               9.664537                         4.993088\n",
            "3  ACCENTURE  INDIAN COMPANIES              2.282917               8.929167                         6.646250\n",
            "4       TATA  INDIAN COMPANIES              5.155401               4.522951                        -0.632450\n",
            "5     AMAZON      US COMPANIES              0.849604               1.840181                         0.990578\n",
            "6  MICROSOFT      US COMPANIES              1.032591               1.719986                         0.687395\n",
            "7     GOOGLE      US COMPANIES              0.400352               1.348564                         0.948212\n",
            "8      APPLE      US COMPANIES              0.553187               1.217193                         0.664006\n",
            "9   FACEBOOK      US COMPANIES              0.460048               0.730460                         0.270412\n"
          ],
          "name": "stdout"
        }
      ]
    },
    {
      "cell_type": "markdown",
      "metadata": {
        "id": "PuOC7Eoojq5w",
        "colab_type": "text"
      },
      "source": [
        "## Top 3 Counties By State with Highest Denial Rate\n",
        "\n",
        "\n",
        "1.   Using the View with a sum of Denials and Total Applications\n",
        "2.   Using the Dense Rank Function, Partition by State and Ranking Order by Denial Rate\n",
        "\n"
      ]
    },
    {
      "cell_type": "code",
      "metadata": {
        "id": "vogwoo08--Fs",
        "colab_type": "code",
        "tags": [],
        "colab": {},
        "outputId": "57a508c6-3aec-443c-875d-439347c5d9f4"
      },
      "source": [
        "h1b_query15 = ''' \n",
        "with visas_by_County AS\n",
        "(\n",
        "select  \n",
        "State,\n",
        "City,\n",
        "SUM(Initial_Denials) + SUM(Continuing_Denials) AS denials_by_city,\n",
        "SUM(Initial_Denials) + SUM(Continuing_Denials)+SUM(Initial_Approvals)+ SUM(Continuing_Approvals) AS total_applications_by_city \n",
        "from h1b\n",
        "where Fiscal_Year !='2019'\n",
        "group by State,City\n",
        "having (SUM(Initial_Denials) + SUM(Continuing_Denials))>10\n",
        ")\n",
        "select\n",
        "rate_by_county.State,\n",
        "rate_by_county.City,\n",
        "rate_by_county.denial_rate,\n",
        "rate_by_county.denial_rate_rank\n",
        "from \n",
        "(\n",
        "select\n",
        "vs.State,\n",
        "vs.City,\n",
        "vs.total_applications_by_city,\n",
        "vs.denials_by_city,\n",
        "(CAST(vs.denials_by_city AS REAL) / CAST(vs.total_applications_by_city AS REAL))*100 denial_rate,\n",
        "DENSE_RANK () OVER ( \n",
        "\t\t\tPARTITION BY State\n",
        "\t\t\tORDER BY ((CAST(vs.denials_by_city AS REAL) / CAST(vs.total_applications_by_city AS REAL))*100) DESC\n",
        "\t\t) denial_rate_rank \n",
        "from visas_by_County vs\n",
        ") rate_by_county \n",
        "where rate_by_county.denial_rate_rank <= 3 and rate_by_county.State IN (\"VA\",\"CA\")\n",
        "\n",
        ";\n",
        "'''\n",
        "\n",
        "\n",
        "df15 = pd.read_sql_query(h1b_query15, conn)\n",
        "print(f' df15 {df15}')\n"
      ],
      "execution_count": null,
      "outputs": [
        {
          "output_type": "stream",
          "text": [
            "df15   State          City  denial_rate  denial_rate_rank\n",
            "0    CA    CARMICHAEL    51.401869                 1\n",
            "1    CA       ARTESIA    39.325843                 2\n",
            "2    CA   WESTMINSTER    38.958333                 3\n",
            "3    VA       CLIFTON    29.850746                 1\n",
            "4    VA       ASHBURN    25.133043                 2\n",
            "5    VA  SOUTH RIDING    22.033898                 3\n"
          ],
          "name": "stdout"
        }
      ]
    }
  ]
}