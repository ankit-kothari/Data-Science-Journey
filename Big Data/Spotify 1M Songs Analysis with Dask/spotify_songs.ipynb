{
 "cells": [
  {
   "cell_type": "code",
   "execution_count": null,
   "metadata": {},
   "outputs": [],
   "source": [
    "import dask \n",
    "import dask.bag as db\n",
    "import dask.dataframe as dd\n",
    "import dask.multiprocessing\n",
    "import dask.dataframe as dd\n",
    "import pandas as pd\n",
    "import numpy as np\n",
    "import json\n",
    "import\n"
   ]
  },
  {
   "cell_type": "code",
   "execution_count": null,
   "metadata": {},
   "outputs": [],
   "source": [
    "df = dd.read_text(\"/Users/ankitkothari/Documents/downloads/spotify_million_playlist_dataset/data/mpd.slice.2*.json\")  # read data\n",
    "dict_bag = df.map(json.loads)  # convert to json\n",
    "print(dict_bag.take(1))\n"
   ]
  }
 ],
 "metadata": {
  "language_info": {
   "name": "python"
  },
  "orig_nbformat": 4
 },
 "nbformat": 4,
 "nbformat_minor": 2
}
