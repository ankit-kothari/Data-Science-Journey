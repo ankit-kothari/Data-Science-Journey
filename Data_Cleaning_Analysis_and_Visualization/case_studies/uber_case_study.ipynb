{
 "cells": [
  {
   "cell_type": "code",
   "execution_count": 1,
   "metadata": {},
   "outputs": [],
   "source": [
    "import pandas as pd\n",
    "import numpy as np\n",
    "import matplotlib.pyplot as plt\n",
    "import seaborn as sns\n",
    "import datetime\n",
    "import warnings\n",
    "warnings.filterwarnings('ignore')"
   ]
  },
  {
   "cell_type": "code",
   "execution_count": 13,
   "metadata": {},
   "outputs": [],
   "source": [
    "data = pd.read_csv('/Volumes/GoogleDrive/My Drive/data/case_study_data/dataset_1.csv')\n",
    "data['Date'] = data['Date'].ffill()"
   ]
  },
  {
   "cell_type": "code",
   "execution_count": 35,
   "metadata": {},
   "outputs": [
    {
     "name": "stdout",
     "output_type": "stream",
     "text": [
      "<class 'pandas.core.frame.DataFrame'>\n",
      "RangeIndex: 336 entries, 0 to 335\n",
      "Data columns (total 7 columns):\n",
      " #   Column           Non-Null Count  Dtype \n",
      "---  ------           --------------  ----- \n",
      " 0   date             336 non-null    object\n",
      " 1   time (local)     336 non-null    int64 \n",
      " 2   eyeballs         336 non-null    int64 \n",
      " 3   zeroes           336 non-null    int64 \n",
      " 4   completed trips  336 non-null    int64 \n",
      " 5   requests         336 non-null    int64 \n",
      " 6   unique drivers   336 non-null    int64 \n",
      "dtypes: int64(6), object(1)\n",
      "memory usage: 18.5+ KB\n"
     ]
    }
   ],
   "source": [
    "data.info()"
   ]
  },
  {
   "cell_type": "code",
   "execution_count": 14,
   "metadata": {},
   "outputs": [
    {
     "data": {
      "text/html": [
       "<div>\n",
       "<style scoped>\n",
       "    .dataframe tbody tr th:only-of-type {\n",
       "        vertical-align: middle;\n",
       "    }\n",
       "\n",
       "    .dataframe tbody tr th {\n",
       "        vertical-align: top;\n",
       "    }\n",
       "\n",
       "    .dataframe thead th {\n",
       "        text-align: right;\n",
       "    }\n",
       "</style>\n",
       "<table border=\"1\" class=\"dataframe\">\n",
       "  <thead>\n",
       "    <tr style=\"text-align: right;\">\n",
       "      <th></th>\n",
       "      <th>Date</th>\n",
       "      <th>Time (Local)</th>\n",
       "      <th>Eyeballs</th>\n",
       "      <th>Zeroes</th>\n",
       "      <th>Completed Trips</th>\n",
       "      <th>Requests</th>\n",
       "      <th>Unique Drivers</th>\n",
       "    </tr>\n",
       "  </thead>\n",
       "  <tbody>\n",
       "    <tr>\n",
       "      <th>0</th>\n",
       "      <td>10-Sep-12</td>\n",
       "      <td>7</td>\n",
       "      <td>5</td>\n",
       "      <td>0</td>\n",
       "      <td>2</td>\n",
       "      <td>2</td>\n",
       "      <td>9</td>\n",
       "    </tr>\n",
       "    <tr>\n",
       "      <th>1</th>\n",
       "      <td>10-Sep-12</td>\n",
       "      <td>8</td>\n",
       "      <td>6</td>\n",
       "      <td>0</td>\n",
       "      <td>2</td>\n",
       "      <td>2</td>\n",
       "      <td>14</td>\n",
       "    </tr>\n",
       "    <tr>\n",
       "      <th>2</th>\n",
       "      <td>10-Sep-12</td>\n",
       "      <td>9</td>\n",
       "      <td>8</td>\n",
       "      <td>3</td>\n",
       "      <td>0</td>\n",
       "      <td>0</td>\n",
       "      <td>14</td>\n",
       "    </tr>\n",
       "    <tr>\n",
       "      <th>3</th>\n",
       "      <td>10-Sep-12</td>\n",
       "      <td>10</td>\n",
       "      <td>9</td>\n",
       "      <td>2</td>\n",
       "      <td>0</td>\n",
       "      <td>1</td>\n",
       "      <td>14</td>\n",
       "    </tr>\n",
       "    <tr>\n",
       "      <th>4</th>\n",
       "      <td>10-Sep-12</td>\n",
       "      <td>11</td>\n",
       "      <td>11</td>\n",
       "      <td>1</td>\n",
       "      <td>4</td>\n",
       "      <td>4</td>\n",
       "      <td>11</td>\n",
       "    </tr>\n",
       "  </tbody>\n",
       "</table>\n",
       "</div>"
      ],
      "text/plain": [
       "        Date  Time (Local)  Eyeballs   Zeroes   Completed Trips   Requests   \\\n",
       "0  10-Sep-12             7          5        0                 2          2   \n",
       "1  10-Sep-12             8          6        0                 2          2   \n",
       "2  10-Sep-12             9          8        3                 0          0   \n",
       "3  10-Sep-12            10          9        2                 0          1   \n",
       "4  10-Sep-12            11         11        1                 4          4   \n",
       "\n",
       "   Unique Drivers  \n",
       "0               9  \n",
       "1              14  \n",
       "2              14  \n",
       "3              14  \n",
       "4              11  "
      ]
     },
     "execution_count": 14,
     "metadata": {},
     "output_type": "execute_result"
    }
   ],
   "source": [
    "data.head()"
   ]
  },
  {
   "cell_type": "code",
   "execution_count": 44,
   "metadata": {},
   "outputs": [
    {
     "data": {
      "text/plain": [
       "Index(['date', 'time (local)', 'eyeballs', 'zeroes', 'completed trips',\n",
       "       'requests', 'unique drivers'],\n",
       "      dtype='object')"
      ]
     },
     "execution_count": 44,
     "metadata": {},
     "output_type": "execute_result"
    }
   ],
   "source": [
    "data.columns = [ i.lower().rstrip() for i in data.columns]\n",
    "data.columns"
   ]
  },
  {
   "cell_type": "markdown",
   "metadata": {},
   "source": [
    "###  Which date had the most completed trips during the two week period?\n"
   ]
  },
  {
   "cell_type": "code",
   "execution_count": 41,
   "metadata": {},
   "outputs": [
    {
     "name": "stdout",
     "output_type": "stream",
     "text": [
      "The date with the most completed trips is: 22-Sep-12\n"
     ]
    }
   ],
   "source": [
    "trips_by_date = data.groupby(['date'], as_index=False)['completed trips'].sum()\n",
    "max_trips = trips_by_date.iloc[trips_by_date['completed trips'].idxmax()]['date']\n",
    "print('The date with the most completed trips is: {}'.format(max_trips))"
   ]
  },
  {
   "cell_type": "code",
   "execution_count": 68,
   "metadata": {},
   "outputs": [
    {
     "data": {
      "text/html": [
       "<div>\n",
       "<style scoped>\n",
       "    .dataframe tbody tr th:only-of-type {\n",
       "        vertical-align: middle;\n",
       "    }\n",
       "\n",
       "    .dataframe tbody tr th {\n",
       "        vertical-align: top;\n",
       "    }\n",
       "\n",
       "    .dataframe thead th {\n",
       "        text-align: right;\n",
       "    }\n",
       "</style>\n",
       "<table border=\"1\" class=\"dataframe\">\n",
       "  <thead>\n",
       "    <tr style=\"text-align: right;\">\n",
       "      <th></th>\n",
       "      <th>date</th>\n",
       "      <th>completed trips</th>\n",
       "      <th>rolling_avg</th>\n",
       "    </tr>\n",
       "  </thead>\n",
       "  <tbody>\n",
       "    <tr>\n",
       "      <th>0</th>\n",
       "      <td>10-Sep-12</td>\n",
       "      <td>26</td>\n",
       "      <td>26.000000</td>\n",
       "    </tr>\n",
       "    <tr>\n",
       "      <th>1</th>\n",
       "      <td>11-Sep-12</td>\n",
       "      <td>40</td>\n",
       "      <td>33.000000</td>\n",
       "    </tr>\n",
       "    <tr>\n",
       "      <th>2</th>\n",
       "      <td>12-Sep-12</td>\n",
       "      <td>91</td>\n",
       "      <td>52.333333</td>\n",
       "    </tr>\n",
       "    <tr>\n",
       "      <th>3</th>\n",
       "      <td>13-Sep-12</td>\n",
       "      <td>45</td>\n",
       "      <td>58.666667</td>\n",
       "    </tr>\n",
       "    <tr>\n",
       "      <th>4</th>\n",
       "      <td>14-Sep-12</td>\n",
       "      <td>108</td>\n",
       "      <td>81.333333</td>\n",
       "    </tr>\n",
       "    <tr>\n",
       "      <th>5</th>\n",
       "      <td>15-Sep-12</td>\n",
       "      <td>199</td>\n",
       "      <td>117.333333</td>\n",
       "    </tr>\n",
       "    <tr>\n",
       "      <th>6</th>\n",
       "      <td>16-Sep-12</td>\n",
       "      <td>93</td>\n",
       "      <td>133.333333</td>\n",
       "    </tr>\n",
       "    <tr>\n",
       "      <th>7</th>\n",
       "      <td>17-Sep-12</td>\n",
       "      <td>57</td>\n",
       "      <td>116.333333</td>\n",
       "    </tr>\n",
       "    <tr>\n",
       "      <th>8</th>\n",
       "      <td>18-Sep-12</td>\n",
       "      <td>42</td>\n",
       "      <td>64.000000</td>\n",
       "    </tr>\n",
       "    <tr>\n",
       "      <th>9</th>\n",
       "      <td>19-Sep-12</td>\n",
       "      <td>41</td>\n",
       "      <td>46.666667</td>\n",
       "    </tr>\n",
       "    <tr>\n",
       "      <th>10</th>\n",
       "      <td>20-Sep-12</td>\n",
       "      <td>70</td>\n",
       "      <td>51.000000</td>\n",
       "    </tr>\n",
       "    <tr>\n",
       "      <th>11</th>\n",
       "      <td>21-Sep-12</td>\n",
       "      <td>190</td>\n",
       "      <td>100.333333</td>\n",
       "    </tr>\n",
       "    <tr>\n",
       "      <th>12</th>\n",
       "      <td>22-Sep-12</td>\n",
       "      <td>248</td>\n",
       "      <td>169.333333</td>\n",
       "    </tr>\n",
       "    <tr>\n",
       "      <th>13</th>\n",
       "      <td>23-Sep-12</td>\n",
       "      <td>111</td>\n",
       "      <td>183.000000</td>\n",
       "    </tr>\n",
       "    <tr>\n",
       "      <th>14</th>\n",
       "      <td>24-Sep-12</td>\n",
       "      <td>4</td>\n",
       "      <td>121.000000</td>\n",
       "    </tr>\n",
       "  </tbody>\n",
       "</table>\n",
       "</div>"
      ],
      "text/plain": [
       "         date  completed trips  rolling_avg\n",
       "0   10-Sep-12               26    26.000000\n",
       "1   11-Sep-12               40    33.000000\n",
       "2   12-Sep-12               91    52.333333\n",
       "3   13-Sep-12               45    58.666667\n",
       "4   14-Sep-12              108    81.333333\n",
       "5   15-Sep-12              199   117.333333\n",
       "6   16-Sep-12               93   133.333333\n",
       "7   17-Sep-12               57   116.333333\n",
       "8   18-Sep-12               42    64.000000\n",
       "9   19-Sep-12               41    46.666667\n",
       "10  20-Sep-12               70    51.000000\n",
       "11  21-Sep-12              190   100.333333\n",
       "12  22-Sep-12              248   169.333333\n",
       "13  23-Sep-12              111   183.000000\n",
       "14  24-Sep-12                4   121.000000"
      ]
     },
     "execution_count": 68,
     "metadata": {},
     "output_type": "execute_result"
    }
   ],
   "source": [
    "trips_by_date"
   ]
  },
  {
   "cell_type": "markdown",
   "metadata": {},
   "source": [
    "### What was the highest number of completed trips within a 24 hour period?"
   ]
  },
  {
   "cell_type": "code",
   "execution_count": 59,
   "metadata": {},
   "outputs": [
    {
     "data": {
      "text/html": [
       "<div>\n",
       "<style scoped>\n",
       "    .dataframe tbody tr th:only-of-type {\n",
       "        vertical-align: middle;\n",
       "    }\n",
       "\n",
       "    .dataframe tbody tr th {\n",
       "        vertical-align: top;\n",
       "    }\n",
       "\n",
       "    .dataframe thead th {\n",
       "        text-align: right;\n",
       "    }\n",
       "</style>\n",
       "<table border=\"1\" class=\"dataframe\">\n",
       "  <thead>\n",
       "    <tr style=\"text-align: right;\">\n",
       "      <th></th>\n",
       "      <th>date</th>\n",
       "      <th>time (local)</th>\n",
       "      <th>eyeballs</th>\n",
       "      <th>zeroes</th>\n",
       "      <th>completed trips</th>\n",
       "      <th>requests</th>\n",
       "      <th>unique drivers</th>\n",
       "      <th>timestamp</th>\n",
       "    </tr>\n",
       "  </thead>\n",
       "  <tbody>\n",
       "    <tr>\n",
       "      <th>245</th>\n",
       "      <td>20-Sep-12</td>\n",
       "      <td>12</td>\n",
       "      <td>16</td>\n",
       "      <td>2</td>\n",
       "      <td>3</td>\n",
       "      <td>3</td>\n",
       "      <td>12</td>\n",
       "      <td>2012-09-20 12:00:00</td>\n",
       "    </tr>\n",
       "  </tbody>\n",
       "</table>\n",
       "</div>"
      ],
      "text/plain": [
       "          date  time (local)  eyeballs  zeroes  completed trips  requests  \\\n",
       "245  20-Sep-12            12        16       2                3         3   \n",
       "\n",
       "     unique drivers           timestamp  \n",
       "245              12 2012-09-20 12:00:00  "
      ]
     },
     "execution_count": 59,
     "metadata": {},
     "output_type": "execute_result"
    }
   ],
   "source": [
    "# to be able to use resample function, create timestamp and use as index\n",
    "def create_timestamp(date, time):\n",
    "    return pd.to_datetime(f\"{date} {time}:00\")\n",
    "data['timestamp'] = data.apply(lambda row: create_timestamp(row['date'], row['time (local)']), axis=1)\n",
    "data.sample(1)\n"
   ]
  },
  {
   "cell_type": "code",
   "execution_count": 71,
   "metadata": {},
   "outputs": [
    {
     "data": {
      "text/html": [
       "<div>\n",
       "<style scoped>\n",
       "    .dataframe tbody tr th:only-of-type {\n",
       "        vertical-align: middle;\n",
       "    }\n",
       "\n",
       "    .dataframe tbody tr th {\n",
       "        vertical-align: top;\n",
       "    }\n",
       "\n",
       "    .dataframe thead th {\n",
       "        text-align: right;\n",
       "    }\n",
       "</style>\n",
       "<table border=\"1\" class=\"dataframe\">\n",
       "  <thead>\n",
       "    <tr style=\"text-align: right;\">\n",
       "      <th></th>\n",
       "      <th>time (local)</th>\n",
       "      <th>eyeballs</th>\n",
       "      <th>zeroes</th>\n",
       "      <th>completed trips</th>\n",
       "      <th>requests</th>\n",
       "      <th>unique drivers</th>\n",
       "    </tr>\n",
       "    <tr>\n",
       "      <th>timestamp</th>\n",
       "      <th></th>\n",
       "      <th></th>\n",
       "      <th></th>\n",
       "      <th></th>\n",
       "      <th></th>\n",
       "      <th></th>\n",
       "    </tr>\n",
       "  </thead>\n",
       "  <tbody>\n",
       "    <tr>\n",
       "      <th>2012-09-21 17:00:00</th>\n",
       "      <td>276.0</td>\n",
       "      <td>1015.0</td>\n",
       "      <td>207.0</td>\n",
       "      <td>278.0</td>\n",
       "      <td>367.0</td>\n",
       "      <td>349.0</td>\n",
       "    </tr>\n",
       "  </tbody>\n",
       "</table>\n",
       "</div>"
      ],
      "text/plain": [
       "                     time (local)  eyeballs  zeroes  completed trips  \\\n",
       "timestamp                                                              \n",
       "2012-09-21 17:00:00         276.0    1015.0   207.0            278.0   \n",
       "\n",
       "                     requests  unique drivers  \n",
       "timestamp                                      \n",
       "2012-09-21 17:00:00     367.0           349.0  "
      ]
     },
     "execution_count": 71,
     "metadata": {},
     "output_type": "execute_result"
    }
   ],
   "source": [
    "# calculate rollings sums with 24 hours period\n",
    "indexer = pd.api.indexers.FixedForwardWindowIndexer(window_size=24)\n",
    "df_agg_twentyfour_hrs = data.set_index(\"timestamp\").rolling(window=indexer, min_periods=1).sum()\n",
    "df_agg_twentyfour_hrs.nlargest(1, 'completed trips')\n"
   ]
  },
  {
   "cell_type": "code",
   "execution_count": 74,
   "metadata": {},
   "outputs": [],
   "source": [
    "df_agg_twentyfour_hrs\n",
    "time_format = '%Y-%m-%d %H:%M'\n",
    "df_agg_twentyfour_hrs['Time Interval'] = df_agg_twentyfour_hrs.index.strftime(time_format) + '-' + (df_agg_twentyfour_hrs.index + pd.Timedelta('24 hours')).strftime(time_format)"
   ]
  },
  {
   "cell_type": "code",
   "execution_count": 75,
   "metadata": {},
   "outputs": [
    {
     "data": {
      "text/html": [
       "<div>\n",
       "<style scoped>\n",
       "    .dataframe tbody tr th:only-of-type {\n",
       "        vertical-align: middle;\n",
       "    }\n",
       "\n",
       "    .dataframe tbody tr th {\n",
       "        vertical-align: top;\n",
       "    }\n",
       "\n",
       "    .dataframe thead th {\n",
       "        text-align: right;\n",
       "    }\n",
       "</style>\n",
       "<table border=\"1\" class=\"dataframe\">\n",
       "  <thead>\n",
       "    <tr style=\"text-align: right;\">\n",
       "      <th></th>\n",
       "      <th>time (local)</th>\n",
       "      <th>eyeballs</th>\n",
       "      <th>zeroes</th>\n",
       "      <th>completed trips</th>\n",
       "      <th>requests</th>\n",
       "      <th>unique drivers</th>\n",
       "      <th>Time Interval</th>\n",
       "    </tr>\n",
       "    <tr>\n",
       "      <th>timestamp</th>\n",
       "      <th></th>\n",
       "      <th></th>\n",
       "      <th></th>\n",
       "      <th></th>\n",
       "      <th></th>\n",
       "      <th></th>\n",
       "      <th></th>\n",
       "    </tr>\n",
       "  </thead>\n",
       "  <tbody>\n",
       "    <tr>\n",
       "      <th>2012-09-10 07:00:00</th>\n",
       "      <td>276.0</td>\n",
       "      <td>212.0</td>\n",
       "      <td>38.0</td>\n",
       "      <td>29.0</td>\n",
       "      <td>39.0</td>\n",
       "      <td>150.0</td>\n",
       "      <td>2012-09-10 07:00-2012-09-11 07:00</td>\n",
       "    </tr>\n",
       "    <tr>\n",
       "      <th>2012-09-10 08:00:00</th>\n",
       "      <td>276.0</td>\n",
       "      <td>217.0</td>\n",
       "      <td>38.0</td>\n",
       "      <td>29.0</td>\n",
       "      <td>39.0</td>\n",
       "      <td>146.0</td>\n",
       "      <td>2012-09-10 08:00-2012-09-11 08:00</td>\n",
       "    </tr>\n",
       "  </tbody>\n",
       "</table>\n",
       "</div>"
      ],
      "text/plain": [
       "                     time (local)  eyeballs  zeroes  completed trips  \\\n",
       "timestamp                                                              \n",
       "2012-09-10 07:00:00         276.0     212.0    38.0             29.0   \n",
       "2012-09-10 08:00:00         276.0     217.0    38.0             29.0   \n",
       "\n",
       "                     requests  unique drivers  \\\n",
       "timestamp                                       \n",
       "2012-09-10 07:00:00      39.0           150.0   \n",
       "2012-09-10 08:00:00      39.0           146.0   \n",
       "\n",
       "                                         Time Interval  \n",
       "timestamp                                               \n",
       "2012-09-10 07:00:00  2012-09-10 07:00-2012-09-11 07:00  \n",
       "2012-09-10 08:00:00  2012-09-10 08:00-2012-09-11 08:00  "
      ]
     },
     "execution_count": 75,
     "metadata": {},
     "output_type": "execute_result"
    }
   ],
   "source": [
    "df_agg_twentyfour_hrs.head(2)"
   ]
  },
  {
   "cell_type": "code",
   "execution_count": 88,
   "metadata": {},
   "outputs": [
    {
     "name": "stdout",
     "output_type": "stream",
     "text": [
      "The time interval with the most completed trips is: 2012-09-21 17:00-2012-09-22 17:00\n",
      "The number of completed trips in that time interval is: 278.0\n"
     ]
    }
   ],
   "source": [
    "max_trips_in_24_hr_time_interval = df_agg_twentyfour_hrs[df_agg_twentyfour_hrs.index == df_agg_twentyfour_hrs['completed trips'].idxmax()]\n",
    "max_trips_in_24_hr_time_interval['Time Interval'].values[0]\n",
    "max_trips_in_24_hr_time_interval['completed trips'].values[0]\n",
    "\n",
    "print('The time interval with the most completed trips is: {}'.format(max_trips_in_24_hr_time_interval['Time Interval'].values[0]))\n",
    "print('The number of completed trips in that time interval is: {}'.format(max_trips_in_24_hr_time_interval['completed trips'].values[0]))"
   ]
  },
  {
   "cell_type": "markdown",
   "metadata": {},
   "source": [
    "### Which hour of the day had the most requests during the two week period?"
   ]
  },
  {
   "cell_type": "code",
   "execution_count": 94,
   "metadata": {},
   "outputs": [
    {
     "name": "stdout",
     "output_type": "stream",
     "text": [
      "The hour with the most requests trips is: 23\n"
     ]
    }
   ],
   "source": [
    "trips_by_hour = data.groupby(['time (local)'], as_index=False)['requests'].sum()\n",
    "max_trips = trips_by_hour.iloc[trips_by_hour['requests'].idxmax()]['time (local)']\n",
    "print('The hour with the most requests trips is: {}'.format(max_trips))"
   ]
  },
  {
   "cell_type": "markdown",
   "metadata": {},
   "source": [
    "### What percentages of all zeroes during the two week period occurred on weekend (Friday at 5 pm to Sunday at 3 am)?"
   ]
  },
  {
   "cell_type": "code",
   "execution_count": 96,
   "metadata": {},
   "outputs": [
    {
     "data": {
      "text/html": [
       "<div>\n",
       "<style scoped>\n",
       "    .dataframe tbody tr th:only-of-type {\n",
       "        vertical-align: middle;\n",
       "    }\n",
       "\n",
       "    .dataframe tbody tr th {\n",
       "        vertical-align: top;\n",
       "    }\n",
       "\n",
       "    .dataframe thead th {\n",
       "        text-align: right;\n",
       "    }\n",
       "</style>\n",
       "<table border=\"1\" class=\"dataframe\">\n",
       "  <thead>\n",
       "    <tr style=\"text-align: right;\">\n",
       "      <th></th>\n",
       "      <th>date</th>\n",
       "      <th>time (local)</th>\n",
       "      <th>eyeballs</th>\n",
       "      <th>zeroes</th>\n",
       "      <th>completed trips</th>\n",
       "      <th>requests</th>\n",
       "      <th>unique drivers</th>\n",
       "      <th>timestamp</th>\n",
       "      <th>weekday</th>\n",
       "    </tr>\n",
       "  </thead>\n",
       "  <tbody>\n",
       "    <tr>\n",
       "      <th>0</th>\n",
       "      <td>10-Sep-12</td>\n",
       "      <td>7</td>\n",
       "      <td>5</td>\n",
       "      <td>0</td>\n",
       "      <td>2</td>\n",
       "      <td>2</td>\n",
       "      <td>9</td>\n",
       "      <td>2012-09-10 07:00:00</td>\n",
       "      <td>Monday</td>\n",
       "    </tr>\n",
       "    <tr>\n",
       "      <th>1</th>\n",
       "      <td>10-Sep-12</td>\n",
       "      <td>8</td>\n",
       "      <td>6</td>\n",
       "      <td>0</td>\n",
       "      <td>2</td>\n",
       "      <td>2</td>\n",
       "      <td>14</td>\n",
       "      <td>2012-09-10 08:00:00</td>\n",
       "      <td>Monday</td>\n",
       "    </tr>\n",
       "  </tbody>\n",
       "</table>\n",
       "</div>"
      ],
      "text/plain": [
       "        date  time (local)  eyeballs  zeroes  completed trips  requests  \\\n",
       "0  10-Sep-12             7         5       0                2         2   \n",
       "1  10-Sep-12             8         6       0                2         2   \n",
       "\n",
       "   unique drivers           timestamp weekday  \n",
       "0               9 2012-09-10 07:00:00  Monday  \n",
       "1              14 2012-09-10 08:00:00  Monday  "
      ]
     },
     "execution_count": 96,
     "metadata": {},
     "output_type": "execute_result"
    }
   ],
   "source": [
    "data['weekday'] = pd.to_datetime(data['date']).dt.day_name()\n",
    "data.head(2)"
   ]
  },
  {
   "cell_type": "code",
   "execution_count": 97,
   "metadata": {},
   "outputs": [],
   "source": [
    "weekend_filter = (data['weekday'] == 'Saturday')  | ((data['weekday'] == 'Sunday') & (data['time (local)'] <= 3)) | ((data['weekday'] == 'Friday') & (data['time (local)'] >= 17))\n",
    "weekend_data = data[weekend_filter]"
   ]
  },
  {
   "cell_type": "code",
   "execution_count": 103,
   "metadata": {},
   "outputs": [
    {
     "data": {
      "text/plain": [
       "45.0"
      ]
     },
     "execution_count": 103,
     "metadata": {},
     "output_type": "execute_result"
    }
   ],
   "source": [
    "round(weekend_data['zeroes'].sum()/data['zeroes'].sum(),2)*100"
   ]
  },
  {
   "cell_type": "markdown",
   "metadata": {},
   "source": [
    "### What is the weighted average ratio of completed trips per driver during the two week period?"
   ]
  },
  {
   "cell_type": "code",
   "execution_count": null,
   "metadata": {},
   "outputs": [],
   "source": []
  },
  {
   "cell_type": "code",
   "execution_count": 107,
   "metadata": {},
   "outputs": [
    {
     "name": "stdout",
     "output_type": "stream",
     "text": [
      "The ratio of average trips completed to average unique drivers is: 0.4743397876937869\n"
     ]
    }
   ],
   "source": [
    "data_without_zero_unique_drivers = data[data['unique drivers'] > 0]\n",
    "ratio_of_avg_trips_completed = (data_without_zero_unique_drivers['completed trips']/data_without_zero_unique_drivers['unique drivers']).mean()\n",
    "print('The ratio of average trips completed to average unique drivers is: {}'.format(ratio_of_avg_trips_completed))"
   ]
  },
  {
   "cell_type": "markdown",
   "metadata": {},
   "source": [
    "### In drafting a driver schedule in terms of 8 hours shifts, when are the busiest 8 consecutive hours over the two week period in terms of unique requests? A new shift starts in every 8 hours. Assume that a driver will work same shift each day."
   ]
  },
  {
   "cell_type": "code",
   "execution_count": 111,
   "metadata": {},
   "outputs": [
    {
     "data": {
      "text/html": [
       "<div>\n",
       "<style scoped>\n",
       "    .dataframe tbody tr th:only-of-type {\n",
       "        vertical-align: middle;\n",
       "    }\n",
       "\n",
       "    .dataframe tbody tr th {\n",
       "        vertical-align: top;\n",
       "    }\n",
       "\n",
       "    .dataframe thead th {\n",
       "        text-align: right;\n",
       "    }\n",
       "</style>\n",
       "<table border=\"1\" class=\"dataframe\">\n",
       "  <thead>\n",
       "    <tr style=\"text-align: right;\">\n",
       "      <th></th>\n",
       "      <th>date</th>\n",
       "      <th>time (local)</th>\n",
       "      <th>eyeballs</th>\n",
       "      <th>zeroes</th>\n",
       "      <th>completed trips</th>\n",
       "      <th>requests</th>\n",
       "      <th>unique drivers</th>\n",
       "      <th>timestamp</th>\n",
       "      <th>weekday</th>\n",
       "    </tr>\n",
       "  </thead>\n",
       "  <tbody>\n",
       "    <tr>\n",
       "      <th>0</th>\n",
       "      <td>10-Sep-12</td>\n",
       "      <td>7</td>\n",
       "      <td>5</td>\n",
       "      <td>0</td>\n",
       "      <td>2</td>\n",
       "      <td>2</td>\n",
       "      <td>9</td>\n",
       "      <td>2012-09-10 07:00:00</td>\n",
       "      <td>Monday</td>\n",
       "    </tr>\n",
       "    <tr>\n",
       "      <th>1</th>\n",
       "      <td>10-Sep-12</td>\n",
       "      <td>8</td>\n",
       "      <td>6</td>\n",
       "      <td>0</td>\n",
       "      <td>2</td>\n",
       "      <td>2</td>\n",
       "      <td>14</td>\n",
       "      <td>2012-09-10 08:00:00</td>\n",
       "      <td>Monday</td>\n",
       "    </tr>\n",
       "    <tr>\n",
       "      <th>2</th>\n",
       "      <td>10-Sep-12</td>\n",
       "      <td>9</td>\n",
       "      <td>8</td>\n",
       "      <td>3</td>\n",
       "      <td>0</td>\n",
       "      <td>0</td>\n",
       "      <td>14</td>\n",
       "      <td>2012-09-10 09:00:00</td>\n",
       "      <td>Monday</td>\n",
       "    </tr>\n",
       "    <tr>\n",
       "      <th>3</th>\n",
       "      <td>10-Sep-12</td>\n",
       "      <td>10</td>\n",
       "      <td>9</td>\n",
       "      <td>2</td>\n",
       "      <td>0</td>\n",
       "      <td>1</td>\n",
       "      <td>14</td>\n",
       "      <td>2012-09-10 10:00:00</td>\n",
       "      <td>Monday</td>\n",
       "    </tr>\n",
       "    <tr>\n",
       "      <th>4</th>\n",
       "      <td>10-Sep-12</td>\n",
       "      <td>11</td>\n",
       "      <td>11</td>\n",
       "      <td>1</td>\n",
       "      <td>4</td>\n",
       "      <td>4</td>\n",
       "      <td>11</td>\n",
       "      <td>2012-09-10 11:00:00</td>\n",
       "      <td>Monday</td>\n",
       "    </tr>\n",
       "    <tr>\n",
       "      <th>...</th>\n",
       "      <td>...</td>\n",
       "      <td>...</td>\n",
       "      <td>...</td>\n",
       "      <td>...</td>\n",
       "      <td>...</td>\n",
       "      <td>...</td>\n",
       "      <td>...</td>\n",
       "      <td>...</td>\n",
       "      <td>...</td>\n",
       "    </tr>\n",
       "    <tr>\n",
       "      <th>331</th>\n",
       "      <td>24-Sep-12</td>\n",
       "      <td>2</td>\n",
       "      <td>3</td>\n",
       "      <td>3</td>\n",
       "      <td>0</td>\n",
       "      <td>2</td>\n",
       "      <td>0</td>\n",
       "      <td>2012-09-24 02:00:00</td>\n",
       "      <td>Monday</td>\n",
       "    </tr>\n",
       "    <tr>\n",
       "      <th>332</th>\n",
       "      <td>24-Sep-12</td>\n",
       "      <td>3</td>\n",
       "      <td>3</td>\n",
       "      <td>3</td>\n",
       "      <td>0</td>\n",
       "      <td>1</td>\n",
       "      <td>0</td>\n",
       "      <td>2012-09-24 03:00:00</td>\n",
       "      <td>Monday</td>\n",
       "    </tr>\n",
       "    <tr>\n",
       "      <th>333</th>\n",
       "      <td>24-Sep-12</td>\n",
       "      <td>4</td>\n",
       "      <td>1</td>\n",
       "      <td>1</td>\n",
       "      <td>0</td>\n",
       "      <td>0</td>\n",
       "      <td>0</td>\n",
       "      <td>2012-09-24 04:00:00</td>\n",
       "      <td>Monday</td>\n",
       "    </tr>\n",
       "    <tr>\n",
       "      <th>334</th>\n",
       "      <td>24-Sep-12</td>\n",
       "      <td>5</td>\n",
       "      <td>4</td>\n",
       "      <td>2</td>\n",
       "      <td>1</td>\n",
       "      <td>1</td>\n",
       "      <td>3</td>\n",
       "      <td>2012-09-24 05:00:00</td>\n",
       "      <td>Monday</td>\n",
       "    </tr>\n",
       "    <tr>\n",
       "      <th>335</th>\n",
       "      <td>24-Sep-12</td>\n",
       "      <td>6</td>\n",
       "      <td>9</td>\n",
       "      <td>1</td>\n",
       "      <td>2</td>\n",
       "      <td>2</td>\n",
       "      <td>7</td>\n",
       "      <td>2012-09-24 06:00:00</td>\n",
       "      <td>Monday</td>\n",
       "    </tr>\n",
       "  </tbody>\n",
       "</table>\n",
       "<p>336 rows × 9 columns</p>\n",
       "</div>"
      ],
      "text/plain": [
       "          date  time (local)  eyeballs  zeroes  completed trips  requests  \\\n",
       "0    10-Sep-12             7         5       0                2         2   \n",
       "1    10-Sep-12             8         6       0                2         2   \n",
       "2    10-Sep-12             9         8       3                0         0   \n",
       "3    10-Sep-12            10         9       2                0         1   \n",
       "4    10-Sep-12            11        11       1                4         4   \n",
       "..         ...           ...       ...     ...              ...       ...   \n",
       "331  24-Sep-12             2         3       3                0         2   \n",
       "332  24-Sep-12             3         3       3                0         1   \n",
       "333  24-Sep-12             4         1       1                0         0   \n",
       "334  24-Sep-12             5         4       2                1         1   \n",
       "335  24-Sep-12             6         9       1                2         2   \n",
       "\n",
       "     unique drivers           timestamp weekday  \n",
       "0                 9 2012-09-10 07:00:00  Monday  \n",
       "1                14 2012-09-10 08:00:00  Monday  \n",
       "2                14 2012-09-10 09:00:00  Monday  \n",
       "3                14 2012-09-10 10:00:00  Monday  \n",
       "4                11 2012-09-10 11:00:00  Monday  \n",
       "..              ...                 ...     ...  \n",
       "331               0 2012-09-24 02:00:00  Monday  \n",
       "332               0 2012-09-24 03:00:00  Monday  \n",
       "333               0 2012-09-24 04:00:00  Monday  \n",
       "334               3 2012-09-24 05:00:00  Monday  \n",
       "335               7 2012-09-24 06:00:00  Monday  \n",
       "\n",
       "[336 rows x 9 columns]"
      ]
     },
     "execution_count": 111,
     "metadata": {},
     "output_type": "execute_result"
    }
   ],
   "source": [
    "data"
   ]
  },
  {
   "cell_type": "code",
   "execution_count": 117,
   "metadata": {},
   "outputs": [
    {
     "data": {
      "text/html": [
       "<div>\n",
       "<style scoped>\n",
       "    .dataframe tbody tr th:only-of-type {\n",
       "        vertical-align: middle;\n",
       "    }\n",
       "\n",
       "    .dataframe tbody tr th {\n",
       "        vertical-align: top;\n",
       "    }\n",
       "\n",
       "    .dataframe thead th {\n",
       "        text-align: right;\n",
       "    }\n",
       "</style>\n",
       "<table border=\"1\" class=\"dataframe\">\n",
       "  <thead>\n",
       "    <tr style=\"text-align: right;\">\n",
       "      <th></th>\n",
       "      <th>time (local)</th>\n",
       "      <th>eyeballs</th>\n",
       "      <th>zeroes</th>\n",
       "      <th>completed trips</th>\n",
       "      <th>requests</th>\n",
       "      <th>unique drivers</th>\n",
       "    </tr>\n",
       "    <tr>\n",
       "      <th>timestamp</th>\n",
       "      <th></th>\n",
       "      <th></th>\n",
       "      <th></th>\n",
       "      <th></th>\n",
       "      <th></th>\n",
       "      <th></th>\n",
       "    </tr>\n",
       "  </thead>\n",
       "  <tbody>\n",
       "    <tr>\n",
       "      <th>2012-09-10 00:00:00</th>\n",
       "      <td>7</td>\n",
       "      <td>5</td>\n",
       "      <td>0</td>\n",
       "      <td>2</td>\n",
       "      <td>2</td>\n",
       "      <td>9</td>\n",
       "    </tr>\n",
       "    <tr>\n",
       "      <th>2012-09-10 08:00:00</th>\n",
       "      <td>92</td>\n",
       "      <td>78</td>\n",
       "      <td>10</td>\n",
       "      <td>9</td>\n",
       "      <td>11</td>\n",
       "      <td>89</td>\n",
       "    </tr>\n",
       "    <tr>\n",
       "      <th>2012-09-10 16:00:00</th>\n",
       "      <td>156</td>\n",
       "      <td>106</td>\n",
       "      <td>16</td>\n",
       "      <td>15</td>\n",
       "      <td>21</td>\n",
       "      <td>40</td>\n",
       "    </tr>\n",
       "    <tr>\n",
       "      <th>2012-09-11 00:00:00</th>\n",
       "      <td>28</td>\n",
       "      <td>33</td>\n",
       "      <td>12</td>\n",
       "      <td>5</td>\n",
       "      <td>7</td>\n",
       "      <td>17</td>\n",
       "    </tr>\n",
       "    <tr>\n",
       "      <th>2012-09-11 08:00:00</th>\n",
       "      <td>92</td>\n",
       "      <td>108</td>\n",
       "      <td>11</td>\n",
       "      <td>5</td>\n",
       "      <td>6</td>\n",
       "      <td>58</td>\n",
       "    </tr>\n",
       "  </tbody>\n",
       "</table>\n",
       "</div>"
      ],
      "text/plain": [
       "                     time (local)  eyeballs  zeroes  completed trips  \\\n",
       "timestamp                                                              \n",
       "2012-09-10 00:00:00             7         5       0                2   \n",
       "2012-09-10 08:00:00            92        78      10                9   \n",
       "2012-09-10 16:00:00           156       106      16               15   \n",
       "2012-09-11 00:00:00            28        33      12                5   \n",
       "2012-09-11 08:00:00            92       108      11                5   \n",
       "\n",
       "                     requests  unique drivers  \n",
       "timestamp                                      \n",
       "2012-09-10 00:00:00         2               9  \n",
       "2012-09-10 08:00:00        11              89  \n",
       "2012-09-10 16:00:00        21              40  \n",
       "2012-09-11 00:00:00         7              17  \n",
       "2012-09-11 08:00:00         6              58  "
      ]
     },
     "execution_count": 117,
     "metadata": {},
     "output_type": "execute_result"
    }
   ],
   "source": [
    "# resample with 8 hours period                               \n",
    "df_agg_eight_hrs = data.set_index(\"timestamp\").resample('8H').sum()\n",
    "df_agg_eight_hrs.head()"
   ]
  },
  {
   "cell_type": "code",
   "execution_count": 120,
   "metadata": {},
   "outputs": [
    {
     "data": {
      "text/html": [
       "<div>\n",
       "<style scoped>\n",
       "    .dataframe tbody tr th:only-of-type {\n",
       "        vertical-align: middle;\n",
       "    }\n",
       "\n",
       "    .dataframe tbody tr th {\n",
       "        vertical-align: top;\n",
       "    }\n",
       "\n",
       "    .dataframe thead th {\n",
       "        text-align: right;\n",
       "    }\n",
       "</style>\n",
       "<table border=\"1\" class=\"dataframe\">\n",
       "  <thead>\n",
       "    <tr style=\"text-align: right;\">\n",
       "      <th></th>\n",
       "      <th>time (local)</th>\n",
       "      <th>eyeballs</th>\n",
       "      <th>zeroes</th>\n",
       "      <th>completed trips</th>\n",
       "      <th>requests</th>\n",
       "      <th>unique drivers</th>\n",
       "      <th>Time_Interval</th>\n",
       "    </tr>\n",
       "    <tr>\n",
       "      <th>timestamp</th>\n",
       "      <th></th>\n",
       "      <th></th>\n",
       "      <th></th>\n",
       "      <th></th>\n",
       "      <th></th>\n",
       "      <th></th>\n",
       "      <th></th>\n",
       "    </tr>\n",
       "  </thead>\n",
       "  <tbody>\n",
       "    <tr>\n",
       "      <th>2012-09-21 16:00:00</th>\n",
       "      <td>156</td>\n",
       "      <td>515</td>\n",
       "      <td>88</td>\n",
       "      <td>153</td>\n",
       "      <td>192</td>\n",
       "      <td>198</td>\n",
       "      <td>2012-09-21 16:00-2012-09-22 00:00</td>\n",
       "    </tr>\n",
       "  </tbody>\n",
       "</table>\n",
       "</div>"
      ],
      "text/plain": [
       "                     time (local)  eyeballs  zeroes  completed trips  \\\n",
       "timestamp                                                              \n",
       "2012-09-21 16:00:00           156       515      88              153   \n",
       "\n",
       "                     requests  unique drivers  \\\n",
       "timestamp                                       \n",
       "2012-09-21 16:00:00       192             198   \n",
       "\n",
       "                                         Time_Interval  \n",
       "timestamp                                               \n",
       "2012-09-21 16:00:00  2012-09-21 16:00-2012-09-22 00:00  "
      ]
     },
     "execution_count": 120,
     "metadata": {},
     "output_type": "execute_result"
    }
   ],
   "source": [
    "time_format = '%Y-%m-%d %H:%M'\n",
    "df_agg_eight_hrs['Time_Interval'] = df_agg_eight_hrs.index.strftime(time_format) + '-' + (df_agg_eight_hrs.index + pd.Timedelta('8 hours')).strftime(time_format)\n",
    "df_agg_eight_hrs.nlargest(1, 'requests')\n"
   ]
  },
  {
   "cell_type": "markdown",
   "metadata": {},
   "source": [
    "### True or False: Driver supply always increases when demand increases during the two week period.\n"
   ]
  },
  {
   "cell_type": "code",
   "execution_count": 132,
   "metadata": {},
   "outputs": [
    {
     "data": {
      "text/html": [
       "<div>\n",
       "<style scoped>\n",
       "    .dataframe tbody tr th:only-of-type {\n",
       "        vertical-align: middle;\n",
       "    }\n",
       "\n",
       "    .dataframe tbody tr th {\n",
       "        vertical-align: top;\n",
       "    }\n",
       "\n",
       "    .dataframe thead th {\n",
       "        text-align: right;\n",
       "    }\n",
       "</style>\n",
       "<table border=\"1\" class=\"dataframe\">\n",
       "  <thead>\n",
       "    <tr style=\"text-align: right;\">\n",
       "      <th></th>\n",
       "      <th>timestamp</th>\n",
       "      <th>request_diff</th>\n",
       "      <th>supply_diff</th>\n",
       "    </tr>\n",
       "  </thead>\n",
       "  <tbody>\n",
       "    <tr>\n",
       "      <th>0</th>\n",
       "      <td>2012-09-10 07:00:00</td>\n",
       "      <td>0.0</td>\n",
       "      <td>5.0</td>\n",
       "    </tr>\n",
       "    <tr>\n",
       "      <th>1</th>\n",
       "      <td>2012-09-10 08:00:00</td>\n",
       "      <td>-2.0</td>\n",
       "      <td>0.0</td>\n",
       "    </tr>\n",
       "    <tr>\n",
       "      <th>2</th>\n",
       "      <td>2012-09-10 09:00:00</td>\n",
       "      <td>1.0</td>\n",
       "      <td>0.0</td>\n",
       "    </tr>\n",
       "    <tr>\n",
       "      <th>3</th>\n",
       "      <td>2012-09-10 10:00:00</td>\n",
       "      <td>3.0</td>\n",
       "      <td>-3.0</td>\n",
       "    </tr>\n",
       "    <tr>\n",
       "      <th>4</th>\n",
       "      <td>2012-09-10 11:00:00</td>\n",
       "      <td>-2.0</td>\n",
       "      <td>0.0</td>\n",
       "    </tr>\n",
       "    <tr>\n",
       "      <th>...</th>\n",
       "      <td>...</td>\n",
       "      <td>...</td>\n",
       "      <td>...</td>\n",
       "    </tr>\n",
       "    <tr>\n",
       "      <th>331</th>\n",
       "      <td>2012-09-24 02:00:00</td>\n",
       "      <td>-1.0</td>\n",
       "      <td>0.0</td>\n",
       "    </tr>\n",
       "    <tr>\n",
       "      <th>332</th>\n",
       "      <td>2012-09-24 03:00:00</td>\n",
       "      <td>-1.0</td>\n",
       "      <td>0.0</td>\n",
       "    </tr>\n",
       "    <tr>\n",
       "      <th>333</th>\n",
       "      <td>2012-09-24 04:00:00</td>\n",
       "      <td>1.0</td>\n",
       "      <td>3.0</td>\n",
       "    </tr>\n",
       "    <tr>\n",
       "      <th>334</th>\n",
       "      <td>2012-09-24 05:00:00</td>\n",
       "      <td>1.0</td>\n",
       "      <td>4.0</td>\n",
       "    </tr>\n",
       "    <tr>\n",
       "      <th>335</th>\n",
       "      <td>2012-09-24 06:00:00</td>\n",
       "      <td>NaN</td>\n",
       "      <td>NaN</td>\n",
       "    </tr>\n",
       "  </tbody>\n",
       "</table>\n",
       "<p>336 rows × 3 columns</p>\n",
       "</div>"
      ],
      "text/plain": [
       "              timestamp  request_diff  supply_diff\n",
       "0   2012-09-10 07:00:00           0.0          5.0\n",
       "1   2012-09-10 08:00:00          -2.0          0.0\n",
       "2   2012-09-10 09:00:00           1.0          0.0\n",
       "3   2012-09-10 10:00:00           3.0         -3.0\n",
       "4   2012-09-10 11:00:00          -2.0          0.0\n",
       "..                  ...           ...          ...\n",
       "331 2012-09-24 02:00:00          -1.0          0.0\n",
       "332 2012-09-24 03:00:00          -1.0          0.0\n",
       "333 2012-09-24 04:00:00           1.0          3.0\n",
       "334 2012-09-24 05:00:00           1.0          4.0\n",
       "335 2012-09-24 06:00:00           NaN          NaN\n",
       "\n",
       "[336 rows x 3 columns]"
      ]
     },
     "execution_count": 132,
     "metadata": {},
     "output_type": "execute_result"
    }
   ],
   "source": [
    "# create empty dataframe with only timestamps\n",
    "difference_data = pd.DataFrame(data['timestamp'])\n",
    "# calculate request differences to catch request increases\n",
    "difference_data['request_diff'] = data['requests'].shift(-1) - data['requests']\n",
    "# do same of supply side\n",
    "difference_data['supply_diff'] = data['unique drivers'].shift(-1) - data['unique drivers']\n",
    "difference_data"
   ]
  },
  {
   "cell_type": "code",
   "execution_count": 134,
   "metadata": {},
   "outputs": [
    {
     "data": {
      "text/plain": [
       "False"
      ]
     },
     "execution_count": 134,
     "metadata": {},
     "output_type": "execute_result"
    }
   ],
   "source": [
    "# check if request increases, supply also increases \n",
    "(difference_data[difference_data['request_diff'] > 0]['supply_diff'] > 0).all().item()"
   ]
  },
  {
   "cell_type": "code",
   "execution_count": 136,
   "metadata": {},
   "outputs": [
    {
     "data": {
      "image/png": "[encoded data removed]",
      "text/plain": [
       "<Figure size 864x576 with 1 Axes>"
      ]
     },
     "metadata": {
      "needs_background": "light"
     },
     "output_type": "display_data"
    }
   ],
   "source": [
    "import seaborn as sns\n",
    "import matplotlib.pyplot as plt\n",
    "\n",
    "plt.figure(figsize=(12,8))\n",
    "sns.lineplot(data=data[['requests', 'unique drivers', 'timestamp']])\n",
    "plt.show()"
   ]
  },
  {
   "cell_type": "markdown",
   "metadata": {},
   "source": [
    "### In which 72 hour period is the ratio of Zeroes to Eyeballs the highest?"
   ]
  },
  {
   "cell_type": "code",
   "execution_count": 147,
   "metadata": {},
   "outputs": [],
   "source": [
    "indexer = pd.api.indexers.FixedForwardWindowIndexer(window_size=72)\n",
    "df_agg_three_days = data.set_index(\"timestamp\").rolling(window=indexer, min_periods=1).sum()\n",
    "df_agg_three_days['zeros_to_eyeballs_ratio'] = df_agg_three_days['zeroes'] / df_agg_three_days['eyeballs']\n"
   ]
  },
  {
   "cell_type": "code",
   "execution_count": 148,
   "metadata": {},
   "outputs": [
    {
     "data": {
      "text/html": [
       "<div>\n",
       "<style scoped>\n",
       "    .dataframe tbody tr th:only-of-type {\n",
       "        vertical-align: middle;\n",
       "    }\n",
       "\n",
       "    .dataframe tbody tr th {\n",
       "        vertical-align: top;\n",
       "    }\n",
       "\n",
       "    .dataframe thead th {\n",
       "        text-align: right;\n",
       "    }\n",
       "</style>\n",
       "<table border=\"1\" class=\"dataframe\">\n",
       "  <thead>\n",
       "    <tr style=\"text-align: right;\">\n",
       "      <th></th>\n",
       "      <th>time (local)</th>\n",
       "      <th>eyeballs</th>\n",
       "      <th>zeroes</th>\n",
       "      <th>completed trips</th>\n",
       "      <th>requests</th>\n",
       "      <th>unique drivers</th>\n",
       "      <th>prevRequest</th>\n",
       "      <th>zeros_to_eyeballs_ratio</th>\n",
       "      <th>Time Interval</th>\n",
       "    </tr>\n",
       "    <tr>\n",
       "      <th>timestamp</th>\n",
       "      <th></th>\n",
       "      <th></th>\n",
       "      <th></th>\n",
       "      <th></th>\n",
       "      <th></th>\n",
       "      <th></th>\n",
       "      <th></th>\n",
       "      <th></th>\n",
       "      <th></th>\n",
       "    </tr>\n",
       "  </thead>\n",
       "  <tbody>\n",
       "    <tr>\n",
       "      <th>2012-09-10 07:00:00</th>\n",
       "      <td>828.0</td>\n",
       "      <td>956.0</td>\n",
       "      <td>172.0</td>\n",
       "      <td>159.0</td>\n",
       "      <td>211.0</td>\n",
       "      <td>473.0</td>\n",
       "      <td>210.0</td>\n",
       "      <td>0.179916</td>\n",
       "      <td>2012/09/10 07:00-2012/09/13 07:00</td>\n",
       "    </tr>\n",
       "    <tr>\n",
       "      <th>2012-09-10 08:00:00</th>\n",
       "      <td>828.0</td>\n",
       "      <td>961.0</td>\n",
       "      <td>173.0</td>\n",
       "      <td>158.0</td>\n",
       "      <td>210.0</td>\n",
       "      <td>468.0</td>\n",
       "      <td>209.0</td>\n",
       "      <td>0.180021</td>\n",
       "      <td>2012/09/10 08:00-2012/09/13 08:00</td>\n",
       "    </tr>\n",
       "    <tr>\n",
       "      <th>2012-09-10 09:00:00</th>\n",
       "      <td>828.0</td>\n",
       "      <td>964.0</td>\n",
       "      <td>174.0</td>\n",
       "      <td>157.0</td>\n",
       "      <td>209.0</td>\n",
       "      <td>462.0</td>\n",
       "      <td>209.0</td>\n",
       "      <td>0.180498</td>\n",
       "      <td>2012/09/10 09:00-2012/09/13 09:00</td>\n",
       "    </tr>\n",
       "    <tr>\n",
       "      <th>2012-09-10 10:00:00</th>\n",
       "      <td>828.0</td>\n",
       "      <td>970.0</td>\n",
       "      <td>175.0</td>\n",
       "      <td>157.0</td>\n",
       "      <td>209.0</td>\n",
       "      <td>457.0</td>\n",
       "      <td>210.0</td>\n",
       "      <td>0.180412</td>\n",
       "      <td>2012/09/10 10:00-2012/09/13 10:00</td>\n",
       "    </tr>\n",
       "    <tr>\n",
       "      <th>2012-09-10 11:00:00</th>\n",
       "      <td>828.0</td>\n",
       "      <td>976.0</td>\n",
       "      <td>176.0</td>\n",
       "      <td>159.0</td>\n",
       "      <td>210.0</td>\n",
       "      <td>453.0</td>\n",
       "      <td>208.0</td>\n",
       "      <td>0.180328</td>\n",
       "      <td>2012/09/10 11:00-2012/09/13 11:00</td>\n",
       "    </tr>\n",
       "    <tr>\n",
       "      <th>...</th>\n",
       "      <td>...</td>\n",
       "      <td>...</td>\n",
       "      <td>...</td>\n",
       "      <td>...</td>\n",
       "      <td>...</td>\n",
       "      <td>...</td>\n",
       "      <td>...</td>\n",
       "      <td>...</td>\n",
       "      <td>...</td>\n",
       "    </tr>\n",
       "    <tr>\n",
       "      <th>2012-09-24 02:00:00</th>\n",
       "      <td>20.0</td>\n",
       "      <td>20.0</td>\n",
       "      <td>10.0</td>\n",
       "      <td>3.0</td>\n",
       "      <td>6.0</td>\n",
       "      <td>10.0</td>\n",
       "      <td>4.0</td>\n",
       "      <td>0.500000</td>\n",
       "      <td>2012/09/24 02:00-2012/09/27 02:00</td>\n",
       "    </tr>\n",
       "    <tr>\n",
       "      <th>2012-09-24 03:00:00</th>\n",
       "      <td>18.0</td>\n",
       "      <td>17.0</td>\n",
       "      <td>7.0</td>\n",
       "      <td>3.0</td>\n",
       "      <td>4.0</td>\n",
       "      <td>10.0</td>\n",
       "      <td>3.0</td>\n",
       "      <td>0.411765</td>\n",
       "      <td>2012/09/24 03:00-2012/09/27 03:00</td>\n",
       "    </tr>\n",
       "    <tr>\n",
       "      <th>2012-09-24 04:00:00</th>\n",
       "      <td>15.0</td>\n",
       "      <td>14.0</td>\n",
       "      <td>4.0</td>\n",
       "      <td>3.0</td>\n",
       "      <td>3.0</td>\n",
       "      <td>10.0</td>\n",
       "      <td>3.0</td>\n",
       "      <td>0.285714</td>\n",
       "      <td>2012/09/24 04:00-2012/09/27 04:00</td>\n",
       "    </tr>\n",
       "    <tr>\n",
       "      <th>2012-09-24 05:00:00</th>\n",
       "      <td>11.0</td>\n",
       "      <td>13.0</td>\n",
       "      <td>3.0</td>\n",
       "      <td>3.0</td>\n",
       "      <td>3.0</td>\n",
       "      <td>10.0</td>\n",
       "      <td>2.0</td>\n",
       "      <td>0.230769</td>\n",
       "      <td>2012/09/24 05:00-2012/09/27 05:00</td>\n",
       "    </tr>\n",
       "    <tr>\n",
       "      <th>2012-09-24 06:00:00</th>\n",
       "      <td>6.0</td>\n",
       "      <td>9.0</td>\n",
       "      <td>1.0</td>\n",
       "      <td>2.0</td>\n",
       "      <td>2.0</td>\n",
       "      <td>7.0</td>\n",
       "      <td>NaN</td>\n",
       "      <td>0.111111</td>\n",
       "      <td>2012/09/24 06:00-2012/09/27 06:00</td>\n",
       "    </tr>\n",
       "  </tbody>\n",
       "</table>\n",
       "<p>336 rows × 9 columns</p>\n",
       "</div>"
      ],
      "text/plain": [
       "                     time (local)  eyeballs  zeroes  completed trips  \\\n",
       "timestamp                                                              \n",
       "2012-09-10 07:00:00         828.0     956.0   172.0            159.0   \n",
       "2012-09-10 08:00:00         828.0     961.0   173.0            158.0   \n",
       "2012-09-10 09:00:00         828.0     964.0   174.0            157.0   \n",
       "2012-09-10 10:00:00         828.0     970.0   175.0            157.0   \n",
       "2012-09-10 11:00:00         828.0     976.0   176.0            159.0   \n",
       "...                           ...       ...     ...              ...   \n",
       "2012-09-24 02:00:00          20.0      20.0    10.0              3.0   \n",
       "2012-09-24 03:00:00          18.0      17.0     7.0              3.0   \n",
       "2012-09-24 04:00:00          15.0      14.0     4.0              3.0   \n",
       "2012-09-24 05:00:00          11.0      13.0     3.0              3.0   \n",
       "2012-09-24 06:00:00           6.0       9.0     1.0              2.0   \n",
       "\n",
       "                     requests  unique drivers  prevRequest  \\\n",
       "timestamp                                                    \n",
       "2012-09-10 07:00:00     211.0           473.0        210.0   \n",
       "2012-09-10 08:00:00     210.0           468.0        209.0   \n",
       "2012-09-10 09:00:00     209.0           462.0        209.0   \n",
       "2012-09-10 10:00:00     209.0           457.0        210.0   \n",
       "2012-09-10 11:00:00     210.0           453.0        208.0   \n",
       "...                       ...             ...          ...   \n",
       "2012-09-24 02:00:00       6.0            10.0          4.0   \n",
       "2012-09-24 03:00:00       4.0            10.0          3.0   \n",
       "2012-09-24 04:00:00       3.0            10.0          3.0   \n",
       "2012-09-24 05:00:00       3.0            10.0          2.0   \n",
       "2012-09-24 06:00:00       2.0             7.0          NaN   \n",
       "\n",
       "                     zeros_to_eyeballs_ratio  \\\n",
       "timestamp                                      \n",
       "2012-09-10 07:00:00                 0.179916   \n",
       "2012-09-10 08:00:00                 0.180021   \n",
       "2012-09-10 09:00:00                 0.180498   \n",
       "2012-09-10 10:00:00                 0.180412   \n",
       "2012-09-10 11:00:00                 0.180328   \n",
       "...                                      ...   \n",
       "2012-09-24 02:00:00                 0.500000   \n",
       "2012-09-24 03:00:00                 0.411765   \n",
       "2012-09-24 04:00:00                 0.285714   \n",
       "2012-09-24 05:00:00                 0.230769   \n",
       "2012-09-24 06:00:00                 0.111111   \n",
       "\n",
       "                                         Time Interval  \n",
       "timestamp                                               \n",
       "2012-09-10 07:00:00  2012/09/10 07:00-2012/09/13 07:00  \n",
       "2012-09-10 08:00:00  2012/09/10 08:00-2012/09/13 08:00  \n",
       "2012-09-10 09:00:00  2012/09/10 09:00-2012/09/13 09:00  \n",
       "2012-09-10 10:00:00  2012/09/10 10:00-2012/09/13 10:00  \n",
       "2012-09-10 11:00:00  2012/09/10 11:00-2012/09/13 11:00  \n",
       "...                                                ...  \n",
       "2012-09-24 02:00:00  2012/09/24 02:00-2012/09/27 02:00  \n",
       "2012-09-24 03:00:00  2012/09/24 03:00-2012/09/27 03:00  \n",
       "2012-09-24 04:00:00  2012/09/24 04:00-2012/09/27 04:00  \n",
       "2012-09-24 05:00:00  2012/09/24 05:00-2012/09/27 05:00  \n",
       "2012-09-24 06:00:00  2012/09/24 06:00-2012/09/27 06:00  \n",
       "\n",
       "[336 rows x 9 columns]"
      ]
     },
     "execution_count": 148,
     "metadata": {},
     "output_type": "execute_result"
    }
   ],
   "source": [
    "time_format = \"%Y/%m/%d %H:%M\"\n",
    "df_agg_three_days['Time Interval']  = df_agg_three_days.index.strftime(time_format) +  \"-\" + (df_agg_three_days.index + pd.Timedelta('3 days')).strftime(time_format)\n",
    "df_agg_three_days"
   ]
  },
  {
   "cell_type": "code",
   "execution_count": 149,
   "metadata": {},
   "outputs": [
    {
     "data": {
      "text/html": [
       "<div>\n",
       "<style scoped>\n",
       "    .dataframe tbody tr th:only-of-type {\n",
       "        vertical-align: middle;\n",
       "    }\n",
       "\n",
       "    .dataframe tbody tr th {\n",
       "        vertical-align: top;\n",
       "    }\n",
       "\n",
       "    .dataframe thead th {\n",
       "        text-align: right;\n",
       "    }\n",
       "</style>\n",
       "<table border=\"1\" class=\"dataframe\">\n",
       "  <thead>\n",
       "    <tr style=\"text-align: right;\">\n",
       "      <th></th>\n",
       "      <th>time (local)</th>\n",
       "      <th>eyeballs</th>\n",
       "      <th>zeroes</th>\n",
       "      <th>completed trips</th>\n",
       "      <th>requests</th>\n",
       "      <th>unique drivers</th>\n",
       "      <th>prevRequest</th>\n",
       "      <th>zeros_to_eyeballs_ratio</th>\n",
       "      <th>Time Interval</th>\n",
       "    </tr>\n",
       "    <tr>\n",
       "      <th>timestamp</th>\n",
       "      <th></th>\n",
       "      <th></th>\n",
       "      <th></th>\n",
       "      <th></th>\n",
       "      <th></th>\n",
       "      <th></th>\n",
       "      <th></th>\n",
       "      <th></th>\n",
       "      <th></th>\n",
       "    </tr>\n",
       "  </thead>\n",
       "  <tbody>\n",
       "    <tr>\n",
       "      <th>2012-09-24 01:00:00</th>\n",
       "      <td>21.0</td>\n",
       "      <td>27.0</td>\n",
       "      <td>17.0</td>\n",
       "      <td>3.0</td>\n",
       "      <td>6.0</td>\n",
       "      <td>10.0</td>\n",
       "      <td>6.0</td>\n",
       "      <td>0.62963</td>\n",
       "      <td>2012/09/24 01:00-2012/09/27 01:00</td>\n",
       "    </tr>\n",
       "  </tbody>\n",
       "</table>\n",
       "</div>"
      ],
      "text/plain": [
       "                     time (local)  eyeballs  zeroes  completed trips  \\\n",
       "timestamp                                                              \n",
       "2012-09-24 01:00:00          21.0      27.0    17.0              3.0   \n",
       "\n",
       "                     requests  unique drivers  prevRequest  \\\n",
       "timestamp                                                    \n",
       "2012-09-24 01:00:00       6.0            10.0          6.0   \n",
       "\n",
       "                     zeros_to_eyeballs_ratio  \\\n",
       "timestamp                                      \n",
       "2012-09-24 01:00:00                  0.62963   \n",
       "\n",
       "                                         Time Interval  \n",
       "timestamp                                               \n",
       "2012-09-24 01:00:00  2012/09/24 01:00-2012/09/27 01:00  "
      ]
     },
     "execution_count": 149,
     "metadata": {},
     "output_type": "execute_result"
    }
   ],
   "source": [
    "df_agg_three_days.nlargest(1, 'zeros_to_eyeballs_ratio')"
   ]
  },
  {
   "cell_type": "code",
   "execution_count": 150,
   "metadata": {},
   "outputs": [
    {
     "data": {
      "text/plain": [
       "timestamp\n",
       "2012-09-24 01:00:00    2012/09/24 01:00-2012/09/27 01:00\n",
       "Name: Time Interval, dtype: object"
      ]
     },
     "execution_count": 150,
     "metadata": {},
     "output_type": "execute_result"
    }
   ],
   "source": [
    "df_agg_three_days.nlargest(1, 'zeros_to_eyeballs_ratio')['Time Interval']"
   ]
  },
  {
   "cell_type": "markdown",
   "metadata": {},
   "source": [
    "### If we have to add 5 drivers to any single hour of every day during the two week period, which hour should you add them to?"
   ]
  },
  {
   "cell_type": "code",
   "execution_count": 152,
   "metadata": {},
   "outputs": [
    {
     "data": {
      "text/plain": [
       "Timedelta('13 days 23:00:00')"
      ]
     },
     "execution_count": 152,
     "metadata": {},
     "output_type": "execute_result"
    }
   ],
   "source": [
    "# check time difference between the beginning and end\n",
    "(data['timestamp'][data.shape[0]-1]-data['timestamp'][0])"
   ]
  },
  {
   "cell_type": "code",
   "execution_count": 154,
   "metadata": {},
   "outputs": [
    {
     "data": {
      "text/plain": [
       "False"
      ]
     },
     "execution_count": 154,
     "metadata": {},
     "output_type": "execute_result"
    }
   ],
   "source": [
    "# compare it with timedelta 14 days to see if the difference exactly matches as 14 days\n",
    "pd.Timedelta('14 days') == data['timestamp'][data.shape[0]-1]-data['timestamp'][0]"
   ]
  },
  {
   "cell_type": "code",
   "execution_count": 156,
   "metadata": {},
   "outputs": [
    {
     "data": {
      "text/plain": [
       "True"
      ]
     },
     "execution_count": 156,
     "metadata": {},
     "output_type": "execute_result"
    }
   ],
   "source": [
    "# the difference is less than 14 days\n",
    "pd.Timedelta('14 days') > data['timestamp'][data.shape[0]-1]-data['timestamp'][0]\n"
   ]
  }
 ],
 "metadata": {
  "kernelspec": {
   "display_name": "Python 3.9.7 64-bit",
   "language": "python",
   "name": "python3"
  },
  "language_info": {
   "codemirror_mode": {
    "name": "ipython",
    "version": 3
   },
   "file_extension": ".py",
   "mimetype": "text/x-python",
   "name": "python",
   "nbconvert_exporter": "python",
   "pygments_lexer": "ipython3",
   "version": "3.9.7"
  },
  "orig_nbformat": 4,
  "vscode": {
   "interpreter": {
    "hash": "aee8b7b246df8f9039afb4144a1f6fd8d2ca17a180786b69acc140d282b71a49"
   }
  }
 },
 "nbformat": 4,
 "nbformat_minor": 2
}
