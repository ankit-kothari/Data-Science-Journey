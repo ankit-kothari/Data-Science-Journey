{
 "cells": [
  {
   "cell_type": "code",
   "execution_count": 528,
   "metadata": {},
   "outputs": [],
   "source": [
    "import pandas as pd\n",
    "import plotly\n",
    "from plotly import graph_objs as go\n",
    "from plotly.graph_objs import *\n",
    "from flask import Flask\n",
    "import pandas as pd\n",
    "import numpy as np\n",
    "import os\n",
    "import sqlite3\n",
    "import copy\n",
    "import matplotlib\n",
    "import pandas as pd\n",
    "import matplotlib.pyplot as plt\n",
    "import matplotlib.colors as colors\n",
    "import plotly.graph_objs as go\n",
    "from matplotlib import ticker, cm\n",
    "from matplotlib.pyplot import figure\n",
    "import seaborn as sns\n",
    "import plotly.graph_objects as go\n",
    "import plotly.graph_objects as go\n",
    "from plotly.subplots import make_subplots\n",
    "from plotly.offline import init_notebook_mode, plot_mpl\n",
    "import matplotlib.pyplot as plt\n",
    "pd.set_option('display.max_rows', 500)\n",
    "pd.set_option('display.max_columns', 500)\n",
    "pd.set_option('display.width', 1000)"
   ]
  },
  {
   "cell_type": "code",
   "execution_count": 529,
   "metadata": {},
   "outputs": [],
   "source": [
    "conn = sqlite3.connect(\"/Users/ankitkothari/Documents/COMPLETED_PROJECTS/H1B_data_analysis/us_h11b.db\")"
   ]
  },
  {
   "cell_type": "markdown",
   "metadata": {},
   "source": [
    "### Creating State Codes to Full Name Mapping"
   ]
  },
  {
   "cell_type": "code",
   "execution_count": 321,
   "metadata": {},
   "outputs": [],
   "source": [
    "\n",
    "state_codes = pd.read_csv('/Users/ankitkothari/Downloads/csvData.csv')\n",
    "state_codes\n",
    "state_code2State = {v:k for k,v in zip(state_codes['State'],state_codes['Code'])}\n",
    "state_code2State['VI']='Virgin Islands'\n",
    "state_code2State['MP']='Northern Marianas'\n",
    "state_code2State['PR']='Puerto Rico'\n",
    "state_code2State['GU']='Guam'"
   ]
  },
  {
   "cell_type": "markdown",
   "metadata": {},
   "source": [
    "### Total Approvals (New and Continuing) and Denials (New and Continuing) by Fiscal Year"
   ]
  },
  {
   "cell_type": "code",
   "execution_count": 97,
   "metadata": {},
   "outputs": [],
   "source": [
    "h1b_query20 = ''' \n",
    "select  \n",
    "Fiscal_Year,Employer,\n",
    "SUM(Initial_Approvals)+ SUM(Continuing_Approvals) Approvals, \n",
    "SUM(Initial_Denials)+SUM(Continuing_Denials) AS Denials\n",
    "from h1b\n",
    "where Fiscal_Year !='2019'\n",
    "group by Fiscal_Year, Employer\n",
    "'''"
   ]
  },
  {
   "cell_type": "code",
   "execution_count": 98,
   "metadata": {},
   "outputs": [
    {
     "name": "stdout",
     "output_type": "stream",
     "text": [
      "        Fiscal_Year                            Employer  Approvals  Denials\n",
      "0              2009             & TV COMMUNICATIONS INC          1      0.0\n",
      "1              2009     1 800 GIFT CERTIFICATES LLC DBA          3      0.0\n",
      "2              2009     1 DEVELOPMENT CONSTRUCTION CORP          0      1.0\n",
      "3              2009         1 I L INC DOING BUSINESS AS          1      0.0\n",
      "4              2009                 1 RED W TRADING LLC          1      0.0\n",
      "5              2009  1 RETAIL INVST SALES TEAM IN SO CA          1      0.0\n",
      "6              2009              1 SOURCE SOLUTIONS LLC          1      1.0\n",
      "7              2009          1 STOP TRANSLATION USA LLC          1      0.0\n",
      "8              2009                  1 WAYSOLUTIONS INC          7      5.0\n",
      "9              2009                    1&1 INTERNET INC          1      0.0\n",
      "10             2009               1-800-FLOWERS.COM INC          5      0.0\n",
      "11             2009             10 SQUARE SOLUTIONS INC          1      0.0\n",
      "12             2009                   100 MARKETERS LLC          1      0.0\n",
      "13             2009                 100 NORTH BRAND LLC          2      0.0\n",
      "14             2009   100 PERCENT LEASED MANAGEMENT LLC          1      0.0\n",
      "15             2009                      100 SPEARS LLC          2      0.0\n",
      "16             2009          101 AVE MEAT & PRODUCE INC          1      0.0\n",
      "17             2009                         101 BIZ INC          1      0.0\n",
      "18             2009                        101 PRINTING          0      2.0\n",
      "19             2009          1031 & TIC INVESTMENTS LLC          1      0.0\n",
      "20             2009                 1091612 ONTARIO INC          0      1.0\n",
      "21             2009  10K WIZARD TECH LLC A WHOLLY OWNED          1      0.0\n",
      "22             2009           10K WIZARD TECHNOLOGY LLC          1      0.0\n",
      "23             2009                      110 CONSULTING          1      0.0\n",
      "24             2009                  1100 ARCHITECT P C          1      0.0\n",
      "25             2009                          1105 MEDIA          1      0.0\n",
      "26             2009                      1105 MEDIA INC          2      0.0\n",
      "27             2009               1118 LINCOLD ROAD LLC          1      0.0\n",
      "28             2009                  116 LEE AVENUE LLC          2      0.0\n",
      "29             2009         116 MYRTLE DEVELOPMENT CORP          0      1.0\n",
      "30             2009  1199SEIU BENEFIT AND PENSION FUNDS          1      0.0\n",
      "31             2009   12072 TRASK INC DBA PACIFIC HAVEN          1      0.0\n",
      "32             2009                   123 CREATIONS INC          0      1.0\n",
      "33             2009                        123PRINT INC          1      0.0\n",
      "34             2009           1291 SWISS CORP DBA SWIZZ          0      1.0\n",
      "35             2009    130 W 44TH ST HOTEL ASSOCS D/B/A          1      0.0\n",
      "36             2009  130 WEST 44TH HOTEL ASSOCIATES LLC          1      0.0\n",
      "37             2009             139 MEDICAL FACILITY PC          1      0.0\n",
      "38             2009                  13TH FLOOR STUDIOS          1      0.0\n",
      "39             2009  14 W ADMIN SVCS LLC F/K/A AGORA MA          3      0.0\n",
      "40             2009    14 W ADMINISTRATIVE SERVICES LLC          1      0.0\n",
      "41             2009  1484 INC D/B/A INTL HOUSE OF PANCA          0      1.0\n",
      "42             2009               1492 CAPITAL MGMT LLC          1      0.0\n",
      "43             2009         15 JOHN CORP T/A LES HALLES          1      0.0\n",
      "44             2009                  15TH AVE FOOD CORP          1      0.0\n",
      "45             2009        1630 N ALBANY ASSOCIATES INC          1      0.0\n",
      "46             2009                         17 FEET INC          1      0.0\n",
      "47             2009                     170 SYSTEMS INC          2      0.0\n",
      "48             2009             1701 RUSSELL STREET LLC          1      0.0\n",
      "49             2009       1798 GLOBAL PARTNERS USA CORP          3      0.0\n",
      "50             2009         17TH AND DIXIE UNION 76 INC          0      1.0\n",
      "51             2009                           180LA LLC          1      0.0\n",
      "52             2009                      180SQUARED INC          1      0.0\n",
      "53             2009  1861 CAPITAL DISCOVERY MASTER FUND          1      0.0\n",
      "54             2009                            1919 LLC          1      0.0\n",
      "55             2009                  1CLICK PHYSICS LLC          1      0.0\n",
      "56             2009                            1N10 INC          1      0.0\n",
      "57             2009                       1SHOPMALL LLC          1      0.0\n",
      "58             2009      1ST 2ND MORTGAGE CO OF N J INC          1      0.0\n",
      "59             2009   1ST CHOICE CONSULTING & FINANCIAL          1      0.0\n",
      "60             2009  1ST CHOICE HEALTHCARE SERVICES LLC          1      0.0\n",
      "61             2009       1ST FAMILY DENTAL OF ELGIN PC          1      0.0\n",
      "62             2009  1ST FINANCIAL FUNDING & INVESTMENT          1      0.0\n",
      "63             2009             1ST FIRE & SECURITY INC          1      0.0\n",
      "64             2009        1ST PLAYABLE PRODUCTIONS LLC          4      0.0\n",
      "65             2009       1ST STATE HOME HEALTHCARE INC          1      0.0\n",
      "66             2009         1ST VANGUARD COMMERCIAL LLC          1      0.0\n",
      "67             2009        1ST-STOP HEALTH SERVICES INC          1      0.0\n",
      "68             2009                           1STCO.INC          1      0.0\n",
      "69             2009                  1WORLD DIGITAL INC          2      0.0\n",
      "70             2009                      2 CHECKOUT.COM          1      0.0\n",
      "71             2009  20 L G S CORP DBA EXPERIENCE SPA +          1      0.0\n",
      "72             2009  20-20 TECHNOLOGIES COMMERCIAL CORP          1      0.0\n",
      "73             2009                     2000 CHARGE INC          1      0.0\n",
      "74             2009                    2020 COMPANY LLC          7      0.0\n",
      "75             2009                       2020 EXHIBITS          1      0.0\n",
      "76             2009                       206 TOURS INC          2      0.0\n",
      "77             2009    21 CENTURY U S SINO SERVICES INC          0      1.0\n",
      "78             2009                         21 TECH LLC          0      1.0\n",
      "79             2009                       212 MEDIA LLC          1      0.0\n",
      "80             2009                       212IMAGES INC          0      1.0\n",
      "81             2009           21ST CENTURY ELECTRIC LLC          1      0.0\n",
      "82             2009           21ST CENTURY INSURANCE CO          5      0.0\n",
      "83             2009      21ST CENTURY ONCOLOGY MGT SVCS          1      0.0\n",
      "84             2009  21ST CENTURY ONCOLOGY MGT SVCS INC          1      0.0\n",
      "85             2009       21ST CENTURY TECHNOLOGIES LLC          0      1.0\n",
      "86             2009                        22 MILES INC          2      0.0\n",
      "87             2009                       22 PLAZA CORP          1      0.0\n",
      "88             2009  22125 ROSCOE CORP DBA TOPANGA TERR          1      0.0\n",
      "89             2009       22ND CENTURY TECHNOLOGIES INC         21      7.0\n",
      "90             2009                       22SQUARED INC          1      0.0\n",
      "91             2009                     231 LIQUORS LLC          0      1.0\n",
      "92             2009             24 HOUR FITNESS USA INC          2      0.0\n",
      "93             2009                24 HOUR WIRELESS LTD          1      0.0\n",
      "94             2009          24 HOURS PARTY RENTAL CORP          1      0.0\n",
      "95             2009                 24 ON PHYSICIANS PC         14      1.0\n",
      "96             2009       24 SEVEN HOME HEALTH CARE INC          1      0.0\n",
      "97             2009                        24 SEVEN INC          1      0.0\n",
      "98             2009                 24/7 REAL MEDIA INC          8      0.0\n",
      "99             2009                        24X7 ESI INC          2      0.0\n",
      "100            2009                         24X7ESI INC          5      1.0\n",
      "101            2009              25 FPS PRODUCTIONS INC          0      1.0\n",
      "102            2009               26 NORTH AVIATION INC          1      0.0\n",
      "103            2009   268 WEST BROADWAY LLC D/B/A TRIGO          1      0.0\n",
      "104            2009     275 PLEASANT AVENUE CORPORATION          1      0.0\n",
      "105            2009               2929 ENTERTAINMENT LP          1      0.0\n",
      "106            2009        2BE BUSINESS DEVELOPMENT INC          1      0.0\n",
      "107            2009                  2BM ENTERPRISE INC          2      0.0\n",
      "108            2009                            2CMD INC          1      0.0\n",
      "109            2009                             2FA INC          1      0.0\n",
      "110            2009                     2H OFFSHORE INC          9      0.0\n",
      "111            2009                             2HS LLC          1      0.0\n",
      "112            2009                        2J GROUP INC          1      0.0\n",
      "113            2009            2K CLEVELANDER LLC D/B/A          1      0.0\n",
      "114            2009                   2M ASSOCIATES INC          1      0.0\n",
      "115            2009                         2M CREATIVE          1      0.0\n",
      "116            2009                       2ND ALARM INC          1      0.0\n",
      "117            2009                   2PI SOLUTIONS INC          1      0.0\n",
      "118            2009                           2WIRE INC         15      0.0\n",
      "119            2009                 3 1 PHILLIP LIM LLC          1      0.0\n",
      "120            2009         3 G MOTORS SPORTS GROUP INC          0      2.0\n",
      "121            2009    3 MADISON STREET RESTAURANT CORP          0      1.0\n",
      "122            2009                  3 PLAY NETWORK INC          4      0.0\n",
      "123            2009               3 STARS MENTORING INC          1      0.0\n",
      "124            2009           3 ZENITHS HOSPITALITY INC          1      0.0\n",
      "125            2009                           3-GIS LLC          2      0.0\n",
      "126            2009                          300FEETOUT          1      0.0\n",
      "127            2009                      302DESIGNS LLC          1      0.0\n",
      "128            2009     308 W 58TH STREET LLC D B A SIX          1      0.0\n",
      "129            2009                      311 DESIGN LLC          0      1.0\n",
      "130            2009                    314E CORPORATION          3      2.0\n",
      "131            2009   321 COMMERCIAL REALTY HOLDING LLC          1      0.0\n",
      "132            2009                     321 TAKEOFF INC          1      0.0\n",
      "133            2009             330 INVESTMENT MGMT LLC          1      0.0\n",
      "134            2009        3300 MOCKINGBIRD PARTNERS LP          1      0.0\n",
      "135            2009     331 S COUNTY RD CORP D/B/A CAFE          1      0.0\n",
      "136            2009   341 WEST BROADWAY RESTAURANT CORP          2      0.0\n",
      "137            2009      35 MM PRODUCTIONS OF MIAMI INC          1      0.0\n",
      "138            2009                          360 BP LLC         15     11.0\n",
      "139            2009                   360 DECISIONS INC          3      0.0\n",
      "140            2009             360 DEGREE CUSTOMER INC          6      4.0\n",
      "141            2009            360 PHYSICAL THERAPY LLC          1      0.0\n",
      "142            2009    360 SVCS INC D/B/A 360 SVCS INTL          1      0.0\n",
      "143            2009                     360 VANTAGE LLC          1      0.0\n",
      "144            2009            38 STUDIOS BALTIMORE LLC          1      0.0\n",
      "145            2009                         3A SOFT INC          2      0.0\n",
      "146            2009      3B TECHNOLOGIES D B A AVT CORP          0      1.0\n",
      "147            2009                          3C COMPANY          1      0.0\n",
      "148            2009                      3C PARTNER INC          1      0.0\n",
      "149            2009               3CAP TECHNOLOGIES LLC          2      0.0\n",
      "150            2009                         3CLOGIC INC          1      0.0\n",
      "151            2009                    3COM CORPORATION         12      0.0\n",
      "152            2009                   3CORE SYSTEMS INC          7      3.0\n",
      "153            2009                3D INTERNATIONAL LLC          0      1.0\n",
      "154            2009                    3D SOLUTIONS INC          2      0.0\n",
      "155            2009                      3D SYSTEMS INC          4      0.0\n",
      "156            2009                           3DBIN INC          1      0.0\n",
      "157            2009             3DI INC DBA 3DI SYSTEMS          2      0.0\n",
      "158            2009                          3DSITE INC          1      0.0\n",
      "159            2009                          3E COMPANY          1      0.0\n",
      "160            2009                   3E CONSULTING INC          6      1.0\n",
      "161            2009                      3G CAPITAL INC          1      0.0\n",
      "162            2009               3G MERMET CORPORATION          1      0.0\n",
      "163            2009                   3H TECHNOLOGY LLC         12      0.0\n",
      "164            2009                   3I CONSULTING INC          1      0.0\n",
      "165            2009          3I INFOTECH CONSULTING INC         48      3.0\n",
      "166            2009                     3I INFOTECH INC         20      0.0\n",
      "167            2009                       3I PEOPLE INC         10      0.0\n",
      "168            2009                        3I SVIEW INC          0      1.0\n",
      "169            2009             3J INTERNATIONAL LTD CO          1      0.0\n",
      "170            2009                            3JAM INC          1      0.0\n",
      "171            2009                 3K TECHNOLOGIES LLC         16      1.0\n",
      "172            2009                               3M CO          6      0.0\n",
      "173            2009                          3M COMPANY         13      1.0\n",
      "174            2009  3MD INC DBA DENALI ADVANCED INTEGR          4      0.0\n",
      "175            2009  3MD INC DBA MICROSTANDARD DISTRIBU          1      0.0\n",
      "176            2009                       3N GLOBAL INC          3      1.0\n",
      "177            2009                                3PAR          3      0.0\n",
      "178            2009                            3PAR INC          5      0.0\n",
      "179            2009              3PEA INTERNATIONAL INC          0      1.0\n",
      "180            2009                   3PL WORLDWIDE INC          1      0.0\n",
      "181            2009                             3PLOGIC          1      0.0\n",
      "182            2009                  3PLUS LOGISTICS CO          1      0.0\n",
      "183            2009                      3S NETWORK INC          8      9.0\n",
      "184            2009                 3S TECHNOLOGIES INC          2      0.0\n",
      "185            2009                          3SCALE INC          1      0.0\n",
      "186            2009                          3SHARP LLC          1      0.0\n",
      "187            2009                          3SPACE INC          1      0.0\n",
      "188            2009                        3TARCHITECTS          2      0.0\n",
      "189            2009                            3TEL INC          0      1.0\n",
      "190            2009                           3TERA INC          1      0.0\n",
      "191            2009                              3V INC          2      0.0\n",
      "192            2009                 3V TECHNOLOGIES LLC          1      0.0\n",
      "193            2009             3Y POWER TECHNOLOGY INC          1      0.0\n",
      "194            2009                    4 CONSULTING INC          3      1.0\n",
      "195            2009                    4 RIVERS FLOWERS          1      0.0\n",
      "196            2009                         4 SIGHT INC          1      0.0\n",
      "197            2009                      4 US IMAGE INC          0      1.0\n",
      "198            2009                  40/86 ADVISORS INC          2      0.0\n",
      "199            2009                          401KID INC          1      0.0\n",
      "200            2009                  405 PUBLISHING LLC          2      0.0\n",
      "201            2009                  406 MANAGEMENT LLC          2      0.0\n",
      "202            2009                             412 LLC          1      0.0\n",
      "203            2009                              42 LLC          1      0.0\n",
      "204            2009   44TH STREET RESTAURANT LLC BISTRO          1      0.0\n",
      "205            2009        454 LIFE SCIENCE CORPORATION          1      0.0\n",
      "206            2009       454 LIFE SCIENCES CORPORATION          8      0.0\n",
      "207            2009                45RPM STUDIO USA INC          1      0.0\n",
      "208            2009                   4B COMPONENTS LTD          1      0.0\n",
      "209            2009                        4C & 3D CORP          0      1.0\n",
      "210            2009                    4C SOLUTIONS INC         39      4.0\n",
      "211            2009                       4D MATRIX INC          0      1.0\n",
      "212            2009           4D SECURITY SOLUTIONS INC         10      0.0\n",
      "213            2009                4EXPERT SERVICES LLC          4      0.0\n",
      "214            2009                           4INFO INC          1      0.0\n",
      "215            2009                     4K COMPUTER LLC          1      0.0\n",
      "216            2009              4LIFE RESEARCH USA LLC          2      0.0\n",
      "217            2009                     4M SOLUTION INC          1      0.0\n",
      "218            2009       4MB INC DBA HILTON GARDEN INN          1      0.0\n",
      "219            2009                       4MM GAMES LLC          0      1.0\n",
      "220            2009                      4R SYSTEMS INC          1      0.0\n",
      "221            2009                       4TECHWORK INC          1      0.0\n",
      "222            2009               4TEN TECHNOLOGIES LLC          1      0.0\n",
      "223            2009                     4U SERVICES INC          1      0.0\n",
      "224            2009    4U SERVICES INC DBA STELLAR SVCS          3      1.0\n",
      "225            2009     4U SVCS INC D/B/A/ STELLAR SVCS          5      0.0\n",
      "226            2009                5 CONTINENTS TV CORP          0      1.0\n",
      "227            2009                        5 DESIGN INC          1      0.0\n",
      "228            2009           5 H ARCHITECT & DESIGN PC          1      0.0\n",
      "229            2009                 5 RIVER SYSTEMS INC          1      0.0\n",
      "230            2009                  5 STAR APPAREL LLC          1      0.0\n",
      "231            2009               5 STAR HEALTHCARE INC          4      0.0\n",
      "232            2009      50 BELOW SALES & MARKETING INC          3      0.0\n",
      "233            2009                     510 SYSTEMS LLC          1      0.0\n",
      "234            2009   52 LIBERTY ST INC AKA DYLAN HOTEL          1      0.0\n",
      "235            2009                522 W 38TH ST NY LLC          0      1.0\n",
      "236            2009             5247 BROADWAY DRUGS INC          1      0.0\n",
      "237            2009                         554 EUO LLC          1      0.0\n",
      "238            2009               555 INTERNATIONAL INC          1      0.0\n",
      "239            2009                     57 BUILDERS LTD          1      0.0\n",
      "240            2009         5G STUDIO COLLABORATIVE LLC          3      1.0\n",
      "241            2009                  5NEX & COMPANY INC          3      0.0\n",
      "242            2009        5TH STREET INVESTMENT CO LLC          1      0.0\n",
      "243            2009                      629 EUCLID LLC          1      0.0\n",
      "244            2009       635 PARK AVE ACQUISITION CORP          1      0.0\n",
      "245            2009    650 WATER ST INC DBA THE CHANNEL          1      0.0\n",
      "246            2009         675 NINTH AVENUE CORP D/B/A          1      0.0\n",
      "247            2009                  6801 REALTY CO LLC          1      0.0\n",
      "248            2009                      6K SYSTEMS INC          1      0.0\n",
      "249            2009         6TH SENSE TENNIS ACADEMY OF          0      1.0\n",
      "...             ...                                 ...        ...      ...\n",
      "506925         2018                 ZENITH AVIATION INC          1      0.0\n",
      "506926         2018              ZENITH ELECTRONICS LLC          8      0.0\n",
      "506927         2018                ZENITH ENGINEERS INC          3      0.0\n",
      "506928         2018                  ZENITH INFOTEK INC          3      1.0\n",
      "506929         2018                  ZENITH INFOTEK LLC          1      0.0\n",
      "506930         2018            ZENITH INSURANCE COMPANY          2      0.0\n",
      "506931         2018             ZENITH IT SOLUTIONS LLC          1      1.0\n",
      "506932         2018              ZENITH LIFESCIENCE LLC          1      4.0\n",
      "506933         2018           ZENITH MEDIA SERVICES INC          2      1.0\n",
      "506934         2018      ZENITH REHABILITATION SVCS INC          1      0.0\n",
      "506935         2018                 ZENITH SERVICES INC         18     15.0\n",
      "506936         2018                 ZENITH SOFTWARE INC         10      2.0\n",
      "506937         2018              ZENITHSOFT SYSTEMS INC          1      1.0\n",
      "506938         2018                       ZENMONICS INC         17      1.0\n",
      "506939         2018                         ZENOSYS INC         16      3.0\n",
      "506940         2018            ZENPAYROLL INC DBA GUSTO         13      0.0\n",
      "506941         2018                            ZENQ LLC          3      1.0\n",
      "506942         2018                        ZENREACH INC          3      1.0\n",
      "506943         2018                           ZENSA LLC          1      0.0\n",
      "506944         2018                      ZENSAH COMPANY          1      0.0\n",
      "506945         2018                              ZENSAR        159     20.0\n",
      "506946         2018            ZENSOFT IT SOLUTIONS INC          1      0.0\n",
      "506947         2018            ZENTEK AUTOMATION US INC          7      0.0\n",
      "506948         2018                        ZENTERIO INC          2      0.0\n",
      "506949         2018                ZENTEST SOFTWARE LLC          3      0.0\n",
      "506950         2018                          ZENTLY INC          1      0.0\n",
      "506951         2018                         ZENUITY INC         11      0.0\n",
      "506952         2018                         ZEOMEGA INC         14      1.0\n",
      "506953         2018                  ZEON CHEMICALS L P          1      0.0\n",
      "506954         2018    ZEPHYR ENVIRONMENTAL CORPORATION          0      1.0\n",
      "506955         2018                   ZEPHYR HEALTH INC          1      0.0\n",
      "506956         2018                 ZEPTO LIFE TECH LLC          1      0.0\n",
      "506957         2018                         ZEPTOR CORP          1      0.0\n",
      "506958         2018                 ZERION SOFTWARE INC          3      0.0\n",
      "506959         2018                      ZERMAT USA INC          1      0.0\n",
      "506960         2018                  ZERO FINANCIAL INC          1      0.0\n",
      "506961         2018           ZERO POINT PRODUCTION INC          1      0.0\n",
      "506962         2018                   ZERO TECH USA LTD          0      1.0\n",
      "506963         2018              ZERO ZERO ROBOTICS INC          1      0.0\n",
      "506964         2018                     ZERODESKTOP INC          1      0.0\n",
      "506965         2018                          ZEROEX INC          1      0.0\n",
      "506966         2018                      ZEROSNONES INC          0      2.0\n",
      "506967         2018                       ZEROSTACK INC          3      0.0\n",
      "506968         2018                          ZEROUI INC          1      0.0\n",
      "506969         2018                     ZESTFINANCE INC          7      1.0\n",
      "506970         2018                 ZESTRON CORPORATION          2      0.0\n",
      "506971         2018  ZETA GLOBAL CORP FORMERLY INTERACT          8      2.0\n",
      "506972         2018  ZETA GLOBAL CORP FORMERLY ZETA INT          4      1.0\n",
      "506973         2018                ZETA INSTRUMENTS INC          1      0.0\n",
      "506974         2018                    ZETA METRICS LLC          2      1.0\n",
      "506975         2018              ZETLIN & DE CHIARA LLP          1      0.0\n",
      "506976         2018                          ZETRON INC          1      0.0\n",
      "506977         2018              ZETTA DATA SYSTEMS LLC          1      1.0\n",
      "506978         2018                      ZETTAPRIME INC         10      9.0\n",
      "506979         2018                        ZETTASET INC          3      0.0\n",
      "506980         2018                       ZETTASOFT LLC          0      1.0\n",
      "506981         2018           ZEUS WASTE MANAGEMENT INC          0      1.0\n",
      "506982         2018                 ZEVA TECHNOLOGY LLC          6      1.0\n",
      "506983         2018       ZF AXLE DRIVES MARYSVILLE LLC          1      0.0\n",
      "506984         2018       ZF CHASSIS SYSTEMS DUNCAN LLC          1      0.0\n",
      "506985         2018  ZF ELECTRONIC SYSTEMS PLEASANT PRA          5      0.0\n",
      "506986         2018                  ZF GAINESVILLE LLC          1      0.0\n",
      "506987         2018                ZF NORTH AMERICA INC          5      0.0\n",
      "506988         2018     ZF TRANSMISSIONS GRAY COURT LLC         13      0.0\n",
      "506989         2018                           ZGAGE INC          1      1.0\n",
      "506990         2018       ZGC BOSTON INNOVATION MGT LLC          1      0.0\n",
      "506991         2018             ZGC CAPITAL CORPORATION          2      2.0\n",
      "506992         2018                             ZGT LLC          0      1.0\n",
      "506993         2018                     ZHAI & WANG LLP          1      0.0\n",
      "506994         2018                      ZHANG & SUN PC          1      0.0\n",
      "506995         2018             ZHANG AND ASSOCIATES PC          1      0.0\n",
      "506996         2018                        ZHANG CPA PC          1      0.0\n",
      "506997         2018                    ZHANG MEDICAL PC          2      1.0\n",
      "506998         2018  ZHEJIANG BLOSSOM TOURISM GR HOUSTO          1      0.0\n",
      "506999         2018                    ZHENG & KARG LLP          1      1.0\n",
      "507000         2018              ZHONG LUN NEW YORK LLP          1      0.0\n",
      "507001         2018                   ZHONGDING USA INC          2      0.0\n",
      "507002         2018  ZHONGSHAN RUIKE NEW ENERGY AMERICA          1      0.0\n",
      "507003         2018                        ZHOU LAW INC          1      0.0\n",
      "507004         2018          ZHUGUANG PROPERTIES US LLC          5      0.0\n",
      "507005         2018  ZHUZHOU CEMENTED CARBIDE WORKS USA          1      0.0\n",
      "507006         2018                       ZHZ GROUP INC          0      1.0\n",
      "507007         2018                   ZI ENGINEERING PC          2      0.0\n",
      "507008         2018                     ZIBA DESIGN INC          1      0.0\n",
      "507009         2018                            ZICONSYS          1      0.0\n",
      "507010         2018                          ZIDDOS INC          6      6.0\n",
      "507011         2018            ZIEGENFELDER COMPANY INC          1      0.0\n",
      "507012         2018    ZIER INV D/B/A UNIFORM ADVANTAGE          1      0.0\n",
      "507013         2018               ZIERRA CONSULTING LLC          0      1.0\n",
      "507014         2018              ZIETA TECHNOLOGIES LLC          5      2.0\n",
      "507015         2018       ZIFF BROTHERS INVESTMENTS LLC          1      0.0\n",
      "507016         2018                      ZIFF DAVIS LLC          4      0.0\n",
      "507017         2018               ZIFFITY SOLUTIONS LLC          0      1.0\n",
      "507018         2018               ZIFO TECHNOLOGIES INC         20      7.0\n",
      "507019         2018                         ZIG ZAG INC          1      0.0\n",
      "507020         2018                         ZIGNAGE LLC          1      0.0\n",
      "507021         2018               ZIGNAGO GLASS USA INC          1      0.0\n",
      "507022         2018                     ZIGNAL LABS INC          1      0.0\n",
      "507023         2018  ZIGONG CEMENTED CARBIDE CO LTD DBA          1      0.0\n",
      "507024         2018               ZILKER TECHNOLOGY LLC          8      1.0\n",
      "507025         2018                        ZILLIANT INC          3      0.0\n",
      "507026         2018                   ZILLION GROUP INC          3      0.0\n",
      "507027         2018            ZILLION TECHNOLOGIES INC         32      8.0\n",
      "507028         2018                          ZILLOW INC        105      8.0\n",
      "507029         2018             ZIMMER BIOMET SPINE INC          3      0.0\n",
      "507030         2018  ZIMMER GUNSUL FRASCA ARCHITECTS LL          3      0.0\n",
      "507031         2018                          ZIMMER INC         47      2.0\n",
      "507032         2018               ZIMMER PRODUCTION INC          1      0.0\n",
      "507033         2018                 ZIMMER SURGICAL INC          3      0.0\n",
      "507034         2018    ZIMMER TRABECULAR METAL TECH INC          1      0.0\n",
      "507035         2018                       ZIMMER US INC          5      0.0\n",
      "507036         2018           ZIMMERMAN ADVERTISING LLC          2      0.0\n",
      "507037         2018                  ZIMMERMAN WORKSHOP          1      0.0\n",
      "507038         2018                       ZIMPERIUM INC          2      0.0\n",
      "507039         2018                      ZING GAMES INC          1      1.0\n",
      "507040         2018                         ZINGBOX INC          4      0.0\n",
      "507041         2018       ZINGER SOFTWARE SOLUTIONS INC          3      1.0\n",
      "507042         2018                          ZINIER INC          1      0.0\n",
      "507043         2018                      ZINK MEDIA INC          1      0.0\n",
      "507044         2018  ZINOVIA & CO LLC D/B/A HOME TOWN P          0      1.0\n",
      "507045         2018                  ZINPRO CORPORATION          1      0.0\n",
      "507046         2018                           ZINUS INC          3      1.0\n",
      "507047         2018            ZION CLOUD SOLUTIONS LLC          1      2.0\n",
      "507048         2018                 ZIONE SOLUTIONS LLC          3      6.0\n",
      "507049         2018              ZIONTECH SOLUTIONS INC         26     18.0\n",
      "507050         2018                   ZIOSK PAYROLL LLC          1      0.0\n",
      "507051         2018                        ZIOTECH CORP          0      1.0\n",
      "507052         2018                         ZIPALOG INC          2      0.0\n",
      "507053         2018                          ZIPARI INC          4      2.0\n",
      "507054         2018                          ZIPCAR INC          4      0.0\n",
      "507055         2018                         ZIPONGO INC          1      0.0\n",
      "507056         2018                          ZIPPER INC          1      0.0\n",
      "507057         2018                    ZIPRECRUITER INC          4      1.0\n",
      "507058         2018              ZIRAS TECHNOLOGIES INC          1      4.0\n",
      "507059         2018                  ZIRCON CORPORATION          1      0.0\n",
      "507060         2018             ZIRLEN TECHNOLOGIES INC          7      2.0\n",
      "507061         2018                          ZIRMED INC          2      0.0\n",
      "507062         2018       ZIVETZ SCHWARTZ SALTSMAN CPAS          1      1.0\n",
      "507063         2018                   ZIYA BUSINESS INC          1      0.0\n",
      "507064         2018                   ZK TECHNOLOGY LLC          1      0.0\n",
      "507065         2018                 ZL TECHNOLOGIES INC         11      0.0\n",
      "507066         2018                        ZLS INTL LLC          0      1.0\n",
      "507067         2018            ZM FINANCIAL SYSTEMS INC          1      0.0\n",
      "507068         2018      ZMK MEDICAL TECH INC DBA EIGEN          2      0.0\n",
      "507069         2018                    ZNA SERVICES LLC          2      0.0\n",
      "507070         2018    ZNV CONSULTING LLC DBA ZERO ENVY          1      0.0\n",
      "507071         2018       ZOAN EDUCATIONAL SERVICES LLC          1      0.0\n",
      "507072         2018        ZOBRIST CONSULTING GROUP INC          3      0.0\n",
      "507073         2018                          ZOCDOC INC          8      2.0\n",
      "507074         2018                 ZODIAC SEATS US LLC          6      0.0\n",
      "507075         2018                ZODIAC SOLUTIONS INC         12      3.0\n",
      "507076         2018             ZOE HOLDING COMPANY INC          1      0.0\n",
      "507077         2018           ZOE LIU MEDICAL OFFICE PC          1      0.0\n",
      "507078         2018                          ZOETIS INC         23      6.0\n",
      "507079         2018       ZOFTEC LLC D/B/A VERAS RETAIL          1      0.0\n",
      "507080         2018         ZOFTEC LLC DBA VERAS RETAIL          2      0.0\n",
      "507081         2018                            ZOKU LLC          1      0.0\n",
      "507082         2018                      ZOLA MEDIA LLC          1      0.0\n",
      "507083         2018                        ZOLFO COOPER          2      0.0\n",
      "507084         2018               ZOLL DATA SYSTEMS INC          1      0.0\n",
      "507085         2018      ZOLL MANUFACTURING CORPORATION          1      0.0\n",
      "507086         2018            ZOLL MEDICAL CORPORATION          2      1.0\n",
      "507087         2018                          ZOLLER INC          2      0.0\n",
      "507088         2018             ZOLLNER ELECTRONICS INC          1      0.0\n",
      "507089         2018                      ZOLON TECH INC          4      0.0\n",
      "507090         2018            ZOLON TECH SOLUTIONS INC         14      4.0\n",
      "507091         2018                           ZOLOZ INC          4      1.0\n",
      "507092         2018                       ZONAR SYSTEMS          4      0.0\n",
      "507093         2018            ZONBERATION GROUP US INC          1      0.0\n",
      "507094         2018                       ZONE 24 7 INC          1      1.0\n",
      "507095         2018               ZONE TECHNOLOGIES INC          1      0.0\n",
      "507096         2018                        ZONEFARE INC          0      1.0\n",
      "507097         2018                           ZONES INC          3      0.0\n",
      "507098         2018             ZONGE INTERNATIONAL INC          1      0.0\n",
      "507099         2018            ZONI LANGUAGE CENTER INC          1      4.0\n",
      "507100         2018                     ZONIN U S A INC          1      0.0\n",
      "507101         2018                 ZONVON VENTURES LLC          0      1.0\n",
      "507102         2018  ZOOLOGICAL SOCIETY OF SAN DIEGO DB          5      0.0\n",
      "507103         2018                ZOOM INFORMATION INC          6      0.0\n",
      "507104         2018       ZOOM VIDEO COMMUNICATIONS INC         22      2.0\n",
      "507105         2018                            ZOOMDATA          0      1.0\n",
      "507106         2018      ZOOMLION HEAVY INDUSTRY NA INC          1      0.0\n",
      "507107         2018                       ZOOMPOINT LLC          1      1.0\n",
      "507108         2018                          ZOOMRX INC          3      0.0\n",
      "507109         2018                           ZOOSK INC         11      0.0\n",
      "507110         2018                            ZOOX INC         33      0.0\n",
      "507111         2018                          ZORBIS INC          1      0.0\n",
      "507112         2018                   ZORIA HOUSING LLC          2      0.0\n",
      "507113         2018                      ZORO TOOLS INC          4      0.0\n",
      "507114         2018                      ZOSE MEDIA LLC          0      1.0\n",
      "507115         2018             ZOTOS INTERNATIONAL INC          2      1.0\n",
      "507116         2018                  ZOUNDS HEARING INC          1      0.0\n",
      "507117         2018                         ZPREPAY INC          0      1.0\n",
      "507118         2018               ZPROCIS SOLUTIONS INC          1      0.0\n",
      "507119         2018                   ZS ASSOCIATES INC        210    112.0\n",
      "507120         2018                         ZSCALER INC         28      1.0\n",
      "507121         2018                           ZSFAB INC          2      0.0\n",
      "507122         2018                         ZSHIELD INC          1      0.0\n",
      "507123         2018                          ZSPACE INC          0      1.0\n",
      "507124         2018           ZSW ARCHITECTURE INTL LLC          1      1.0\n",
      "507125         2018                   ZT GROUP INTL INC         10      1.0\n",
      "507126         2018                       ZT WEALTH LLC          2      0.0\n",
      "507127         2018             ZTC PETRO INVESTMENT LP          1      0.0\n",
      "507128         2018                             ZTE INC          1      0.0\n",
      "507129         2018                        ZTE TECH LLC          1      0.0\n",
      "507130         2018                         ZTE USA INC          2      1.0\n",
      "507131         2018                       ZUBERANCE INC          1      0.0\n",
      "507132         2018                           ZUFFA LLC          2      0.0\n",
      "507133         2018                        ZUGA MED INC          2      0.0\n",
      "507134         2018                          ZUGATA INC          2      0.0\n",
      "507135         2018                           ZUKEN INC          0      1.0\n",
      "507136         2018            ZULFAQQAR M JAFFAR MD PA          1      0.0\n",
      "507137         2018                          ZULILY LLC         32      1.0\n",
      "507138         2018                    ZUM SERVICES INC          2      0.0\n",
      "507139         2018              ZUMA PARTNERS MGMT LLC          1      1.0\n",
      "507140         2018                         ZUME IT INC         13     13.0\n",
      "507141         2018                      ZUME PIZZA INC          3      0.0\n",
      "507142         2018                ZUMEX OF AMERICA INC          1      0.0\n",
      "507143         2018                          ZUMIGO INC          1      0.0\n",
      "507144         2018     ZUNI PUBLIC SCHOOL DISTRICT #89          9      0.0\n",
      "507145         2018                           ZUORA INC         43      2.0\n",
      "507146         2018                  ZURI FURNITURE LLC          3      0.0\n",
      "507147         2018        ZURICH AMERICAN INSURANCE CO          4      0.0\n",
      "507148         2018   ZURICH AMERICAN INSURANCE COMPANY         10      1.0\n",
      "507149         2018              ZURICH SERVICES US LLC          3      0.0\n",
      "507150         2018                        ZURITECH INC          4      1.0\n",
      "507151         2018                 ZURN INDUSTRIES LLC          1      0.0\n",
      "507152         2018                           ZUSYS INC          1      5.0\n",
      "507153         2018              ZUVEN TECHNOLOGIES INC         14      3.0\n",
      "507154         2018         ZVST CLOUD TECHNOLOGIES INC          2     11.0\n",
      "507155         2018                           ZWIFT INC          1      0.0\n",
      "507156         2018           ZWILLING J A HENCKELS LLC          3      0.0\n",
      "507157         2018                   ZWIPE AMERICA INC          1      0.0\n",
      "507158         2018                 ZWZ BEARING USA INC          1      0.0\n",
      "507159         2018                 ZYCADA NETWORKS INC          5      0.0\n",
      "507160         2018                          ZYCRON INC          2      0.0\n",
      "507161         2018       ZYDUS PHARMACEUTICALS USA INC          2      0.0\n",
      "507162         2018       ZYLOG SYSTEMS LTD DBA ZSL INC         39     11.0\n",
      "507163         2018                        ZYMERGEN INC         11      0.0\n",
      "507164         2018           ZYMO RESEARCH CORPORATION          2      0.0\n",
      "507165         2018                          ZYNBIT INC          2      0.0\n",
      "507166         2018                           ZYNGA INC         27      0.0\n",
      "507167         2018                    ZYNO MEDICAL LLC          1      1.0\n",
      "507168         2018             ZYNP INTERNATIONAL CORP          1      1.0\n",
      "507169         2018                        ZYPMEDIA INC          2      0.0\n",
      "507170         2018                      ZYROBOTICS LLC          1      0.0\n",
      "507171         2018                        ZYTO PRO LLC          0      1.0\n",
      "507172         2018                           ZYTUS INC          2      0.0\n",
      "507173         2018                           ZYWIE INC          1      0.0\n",
      "507174         2018                   ZZOUNDS MUSIC LLC          0      1.0\n",
      "\n",
      "[507175 rows x 4 columns]\n"
     ]
    }
   ],
   "source": [
    "df20 = pd.read_sql_query(h1b_query20, conn)\n",
    "print(df20)"
   ]
  },
  {
   "cell_type": "code",
   "execution_count": 99,
   "metadata": {},
   "outputs": [
    {
     "data": {
      "text/html": [
       "<div>\n",
       "<style scoped>\n",
       "    .dataframe tbody tr th:only-of-type {\n",
       "        vertical-align: middle;\n",
       "    }\n",
       "\n",
       "    .dataframe tbody tr th {\n",
       "        vertical-align: top;\n",
       "    }\n",
       "\n",
       "    .dataframe thead th {\n",
       "        text-align: right;\n",
       "    }\n",
       "</style>\n",
       "<table border=\"1\" class=\"dataframe\">\n",
       "  <thead>\n",
       "    <tr style=\"text-align: right;\">\n",
       "      <th></th>\n",
       "      <th>Approvals</th>\n",
       "      <th>Denials</th>\n",
       "    </tr>\n",
       "    <tr>\n",
       "      <th>Fiscal_Year</th>\n",
       "      <th></th>\n",
       "      <th></th>\n",
       "    </tr>\n",
       "  </thead>\n",
       "  <tbody>\n",
       "    <tr>\n",
       "      <th>2009</th>\n",
       "      <td>227360</td>\n",
       "      <td>26051.0</td>\n",
       "    </tr>\n",
       "    <tr>\n",
       "      <th>2010</th>\n",
       "      <td>192369</td>\n",
       "      <td>12497.0</td>\n",
       "    </tr>\n",
       "    <tr>\n",
       "      <th>2011</th>\n",
       "      <td>269996</td>\n",
       "      <td>13123.0</td>\n",
       "    </tr>\n",
       "    <tr>\n",
       "      <th>2012</th>\n",
       "      <td>269804</td>\n",
       "      <td>11426.0</td>\n",
       "    </tr>\n",
       "    <tr>\n",
       "      <th>2013</th>\n",
       "      <td>295250</td>\n",
       "      <td>14134.0</td>\n",
       "    </tr>\n",
       "    <tr>\n",
       "      <th>2014</th>\n",
       "      <td>332788</td>\n",
       "      <td>16760.0</td>\n",
       "    </tr>\n",
       "    <tr>\n",
       "      <th>2015</th>\n",
       "      <td>288483</td>\n",
       "      <td>13071.0</td>\n",
       "    </tr>\n",
       "    <tr>\n",
       "      <th>2016</th>\n",
       "      <td>357181</td>\n",
       "      <td>23028.0</td>\n",
       "    </tr>\n",
       "    <tr>\n",
       "      <th>2017</th>\n",
       "      <td>373378</td>\n",
       "      <td>29855.0</td>\n",
       "    </tr>\n",
       "    <tr>\n",
       "      <th>2018</th>\n",
       "      <td>334935</td>\n",
       "      <td>52738.0</td>\n",
       "    </tr>\n",
       "  </tbody>\n",
       "</table>\n",
       "</div>"
      ],
      "text/plain": [
       "             Approvals  Denials\n",
       "Fiscal_Year                    \n",
       "2009            227360  26051.0\n",
       "2010            192369  12497.0\n",
       "2011            269996  13123.0\n",
       "2012            269804  11426.0\n",
       "2013            295250  14134.0\n",
       "2014            332788  16760.0\n",
       "2015            288483  13071.0\n",
       "2016            357181  23028.0\n",
       "2017            373378  29855.0\n",
       "2018            334935  52738.0"
      ]
     },
     "execution_count": 99,
     "metadata": {},
     "output_type": "execute_result"
    }
   ],
   "source": [
    "df20.groupby('Fiscal_Year').sum()"
   ]
  },
  {
   "cell_type": "code",
   "execution_count": 530,
   "metadata": {},
   "outputs": [],
   "source": [
    "def fiscal_plot(full_frame, Employer):\n",
    "  try: \n",
    "        Employer=Employer.upper() \n",
    "  except:\n",
    "        Employer=None\n",
    "  if Employer is not None:\n",
    "    full_frame=full_frame[full_frame['Employer']==Employer]\n",
    "    full_frame=full_frame.groupby('Fiscal_Year').sum()\n",
    "    df20=full_frame.reset_index()\n",
    "    print(df20.head())\n",
    "  else:\n",
    "    full_frame=full_frame.groupby('Fiscal_Year').sum()\n",
    "    df20=full_frame.reset_index()\n",
    "    print(df20)\n",
    "  fig = go.Figure()\n",
    "  #fig.add_trace(go.Bar(x=df20.Fiscal_Year , y=df20.Approvals, mode='markers+lines', name='JOB TIME', line=dict(color='#e4bd0b', width=2)))\n",
    "  fig.add_trace(go.Bar(x=[x for x in df20.Fiscal_Year] , y=df20.Approvals,marker_color='#00b8b8', name='Count of Approvals'))\n",
    "  fig.add_trace(go.Scatter(x=[x for x in df20.Fiscal_Year], y=df20.Denials, mode='lines', name='Count of Denials', yaxis=\"y2\", line=dict(color='#de3d83', width=4)))\n",
    "  fig.update_layout(\n",
    "    plot_bgcolor='rgba(0,0,0,0)'\n",
    ")\n",
    "  fig.update_xaxes(\n",
    "    dtick=1,showgrid=False\n",
    ")\n",
    "  fig.update_yaxes(\n",
    "    showgrid=False\n",
    ")\n",
    "  fig.update_layout(title=\"Count of Approvals and Denials by Fiscal year\", \n",
    "                 legend=dict(x=.03,y=0.98, traceorder='reversed', font_size=12), \n",
    "                 width=800,\n",
    "                 height=400,\n",
    "                 uniformtext_minsize=8,\n",
    "                 uniformtext_mode='hide',\n",
    "                 yaxis=dict(\n",
    "        title=\"Count of Approvals (Bar)\",\n",
    "        titlefont=dict(\n",
    "            color=\"#151515\"\n",
    "        ),\n",
    "        tickfont=dict(\n",
    "            color=\"#151515\"\n",
    "        )\n",
    "    ),\n",
    "    yaxis2=dict(\n",
    "        title=\"Count of Denials (line)\",\n",
    "        titlefont=dict(\n",
    "            color=\"#151515\"\n",
    "        ),\n",
    "        tickfont=dict(\n",
    "            color=\"#151515\"\n",
    "        ),\n",
    "        anchor=\"free\",\n",
    "        side=\"right\",\n",
    "        overlaying=\"y\",\n",
    "        position=1\n",
    "    ),)\n",
    "  fig.update_layout(\n",
    "    plot_bgcolor='#e0e5db'\n",
    ")\n",
    "  fig.add_shape(\n",
    "        # Rectangle reference to the axes\n",
    "            type=\"rect\",\n",
    "            xref=\"x\",\n",
    "            yref=\"paper\",\n",
    "            x0='2016',\n",
    "            y0=-0.01,\n",
    "            x1='2018',\n",
    "            y1=1.1,\n",
    "            line=dict(\n",
    "                color=\"#e4bd0b\",\n",
    "                width=5,\n",
    "            ),\n",
    "        )\n",
    "  return fig.show()"
   ]
  },
  {
   "cell_type": "code",
   "execution_count": 531,
   "metadata": {},
   "outputs": [
    {
     "name": "stdout",
     "output_type": "stream",
     "text": [
      "   Fiscal_Year  Approvals  Denials\n",
      "0         2009     227360  26051.0\n",
      "1         2010     192369  12497.0\n",
      "2         2011     269996  13123.0\n",
      "3         2012     269804  11426.0\n",
      "4         2013     295250  14134.0\n",
      "5         2014     332788  16760.0\n",
      "6         2015     288483  13071.0\n",
      "7         2016     357181  23028.0\n",
      "8         2017     373378  29855.0\n",
      "9         2018     334935  52738.0\n"
     ]
    },
    {
     "data": {
      "application/vnd.plotly.v1+json": {
       "config": {
        "plotlyServerURL": "https://plot.ly"
       },
       "data": [
        {
         "marker": {
          "color": "#00b8b8"
         },
         "name": "Count of Approvals",
         "type": "bar",
         "x": [
          2009,
          2010,
          2011,
          2012,
          2013,
          2014,
          2015,
          2016,
          2017,
          2018
         ],
         "y": [
          227360,
          192369,
          269996,
          269804,
          295250,
          332788,
          288483,
          357181,
          373378,
          334935
         ]
        },
        {
         "line": {
          "color": "#de3d83",
          "width": 4
         },
         "mode": "lines",
         "name": "Count of Denials",
         "type": "scatter",
         "x": [
          2009,
          2010,
          2011,
          2012,
          2013,
          2014,
          2015,
          2016,
          2017,
          2018
         ],
         "y": [
          26051,
          12497,
          13123,
          11426,
          14134,
          16760,
          13071,
          23028,
          29855,
          52738
         ],
         "yaxis": "y2"
        }
       ],
       "layout": {
        "height": 400,
        "legend": {
         "font": {
          "size": 12
         },
         "traceorder": "reversed",
         "x": 0.03,
         "y": 0.98
        },
        "plot_bgcolor": "#e0e5db",
        "shapes": [
         {
          "line": {
           "color": "#e4bd0b",
           "width": 5
          },
          "type": "rect",
          "x0": "2016",
          "x1": "2018",
          "xref": "x",
          "y0": -0.01,
          "y1": 1.1,
          "yref": "paper"
         }
        ],
        "template": {
         "data": {
          "bar": [
           {
            "error_x": {
             "color": "#2a3f5f"
            },
            "error_y": {
             "color": "#2a3f5f"
            },
            "marker": {
             "line": {
              "color": "#E5ECF6",
              "width": 0.5
             }
            },
            "type": "bar"
           }
          ],
          "barpolar": [
           {
            "marker": {
             "line": {
              "color": "#E5ECF6",
              "width": 0.5
             }
            },
            "type": "barpolar"
           }
          ],
          "carpet": [
           {
            "aaxis": {
             "endlinecolor": "#2a3f5f",
             "gridcolor": "white",
             "linecolor": "white",
             "minorgridcolor": "white",
             "startlinecolor": "#2a3f5f"
            },
            "baxis": {
             "endlinecolor": "#2a3f5f",
             "gridcolor": "white",
             "linecolor": "white",
             "minorgridcolor": "white",
             "startlinecolor": "#2a3f5f"
            },
            "type": "carpet"
           }
          ],
          "choropleth": [
           {
            "colorbar": {
             "outlinewidth": 0,
             "ticks": ""
            },
            "type": "choropleth"
           }
          ],
          "contour": [
           {
            "colorbar": {
             "outlinewidth": 0,
             "ticks": ""
            },
            "colorscale": [
             [
              0,
              "#0d0887"
             ],
             [
              0.1111111111111111,
              "#46039f"
             ],
             [
              0.2222222222222222,
              "#7201a8"
             ],
             [
              0.3333333333333333,
              "#9c179e"
             ],
             [
              0.4444444444444444,
              "#bd3786"
             ],
             [
              0.5555555555555556,
              "#d8576b"
             ],
             [
              0.6666666666666666,
              "#ed7953"
             ],
             [
              0.7777777777777778,
              "#fb9f3a"
             ],
             [
              0.8888888888888888,
              "#fdca26"
             ],
             [
              1,
              "#f0f921"
             ]
            ],
            "type": "contour"
           }
          ],
          "contourcarpet": [
           {
            "colorbar": {
             "outlinewidth": 0,
             "ticks": ""
            },
            "type": "contourcarpet"
           }
          ],
          "heatmap": [
           {
            "colorbar": {
             "outlinewidth": 0,
             "ticks": ""
            },
            "colorscale": [
             [
              0,
              "#0d0887"
             ],
             [
              0.1111111111111111,
              "#46039f"
             ],
             [
              0.2222222222222222,
              "#7201a8"
             ],
             [
              0.3333333333333333,
              "#9c179e"
             ],
             [
              0.4444444444444444,
              "#bd3786"
             ],
             [
              0.5555555555555556,
              "#d8576b"
             ],
             [
              0.6666666666666666,
              "#ed7953"
             ],
             [
              0.7777777777777778,
              "#fb9f3a"
             ],
             [
              0.8888888888888888,
              "#fdca26"
             ],
             [
              1,
              "#f0f921"
             ]
            ],
            "type": "heatmap"
           }
          ],
          "heatmapgl": [
           {
            "colorbar": {
             "outlinewidth": 0,
             "ticks": ""
            },
            "colorscale": [
             [
              0,
              "#0d0887"
             ],
             [
              0.1111111111111111,
              "#46039f"
             ],
             [
              0.2222222222222222,
              "#7201a8"
             ],
             [
              0.3333333333333333,
              "#9c179e"
             ],
             [
              0.4444444444444444,
              "#bd3786"
             ],
             [
              0.5555555555555556,
              "#d8576b"
             ],
             [
              0.6666666666666666,
              "#ed7953"
             ],
             [
              0.7777777777777778,
              "#fb9f3a"
             ],
             [
              0.8888888888888888,
              "#fdca26"
             ],
             [
              1,
              "#f0f921"
             ]
            ],
            "type": "heatmapgl"
           }
          ],
          "histogram": [
           {
            "marker": {
             "colorbar": {
              "outlinewidth": 0,
              "ticks": ""
             }
            },
            "type": "histogram"
           }
          ],
          "histogram2d": [
           {
            "colorbar": {
             "outlinewidth": 0,
             "ticks": ""
            },
            "colorscale": [
             [
              0,
              "#0d0887"
             ],
             [
              0.1111111111111111,
              "#46039f"
             ],
             [
              0.2222222222222222,
              "#7201a8"
             ],
             [
              0.3333333333333333,
              "#9c179e"
             ],
             [
              0.4444444444444444,
              "#bd3786"
             ],
             [
              0.5555555555555556,
              "#d8576b"
             ],
             [
              0.6666666666666666,
              "#ed7953"
             ],
             [
              0.7777777777777778,
              "#fb9f3a"
             ],
             [
              0.8888888888888888,
              "#fdca26"
             ],
             [
              1,
              "#f0f921"
             ]
            ],
            "type": "histogram2d"
           }
          ],
          "histogram2dcontour": [
           {
            "colorbar": {
             "outlinewidth": 0,
             "ticks": ""
            },
            "colorscale": [
             [
              0,
              "#0d0887"
             ],
             [
              0.1111111111111111,
              "#46039f"
             ],
             [
              0.2222222222222222,
              "#7201a8"
             ],
             [
              0.3333333333333333,
              "#9c179e"
             ],
             [
              0.4444444444444444,
              "#bd3786"
             ],
             [
              0.5555555555555556,
              "#d8576b"
             ],
             [
              0.6666666666666666,
              "#ed7953"
             ],
             [
              0.7777777777777778,
              "#fb9f3a"
             ],
             [
              0.8888888888888888,
              "#fdca26"
             ],
             [
              1,
              "#f0f921"
             ]
            ],
            "type": "histogram2dcontour"
           }
          ],
          "mesh3d": [
           {
            "colorbar": {
             "outlinewidth": 0,
             "ticks": ""
            },
            "type": "mesh3d"
           }
          ],
          "parcoords": [
           {
            "line": {
             "colorbar": {
              "outlinewidth": 0,
              "ticks": ""
             }
            },
            "type": "parcoords"
           }
          ],
          "pie": [
           {
            "automargin": true,
            "type": "pie"
           }
          ],
          "scatter": [
           {
            "marker": {
             "colorbar": {
              "outlinewidth": 0,
              "ticks": ""
             }
            },
            "type": "scatter"
           }
          ],
          "scatter3d": [
           {
            "line": {
             "colorbar": {
              "outlinewidth": 0,
              "ticks": ""
             }
            },
            "marker": {
             "colorbar": {
              "outlinewidth": 0,
              "ticks": ""
             }
            },
            "type": "scatter3d"
           }
          ],
          "scattercarpet": [
           {
            "marker": {
             "colorbar": {
              "outlinewidth": 0,
              "ticks": ""
             }
            },
            "type": "scattercarpet"
           }
          ],
          "scattergeo": [
           {
            "marker": {
             "colorbar": {
              "outlinewidth": 0,
              "ticks": ""
             }
            },
            "type": "scattergeo"
           }
          ],
          "scattergl": [
           {
            "marker": {
             "colorbar": {
              "outlinewidth": 0,
              "ticks": ""
             }
            },
            "type": "scattergl"
           }
          ],
          "scattermapbox": [
           {
            "marker": {
             "colorbar": {
              "outlinewidth": 0,
              "ticks": ""
             }
            },
            "type": "scattermapbox"
           }
          ],
          "scatterpolar": [
           {
            "marker": {
             "colorbar": {
              "outlinewidth": 0,
              "ticks": ""
             }
            },
            "type": "scatterpolar"
           }
          ],
          "scatterpolargl": [
           {
            "marker": {
             "colorbar": {
              "outlinewidth": 0,
              "ticks": ""
             }
            },
            "type": "scatterpolargl"
           }
          ],
          "scatterternary": [
           {
            "marker": {
             "colorbar": {
              "outlinewidth": 0,
              "ticks": ""
             }
            },
            "type": "scatterternary"
           }
          ],
          "surface": [
           {
            "colorbar": {
             "outlinewidth": 0,
             "ticks": ""
            },
            "colorscale": [
             [
              0,
              "#0d0887"
             ],
             [
              0.1111111111111111,
              "#46039f"
             ],
             [
              0.2222222222222222,
              "#7201a8"
             ],
             [
              0.3333333333333333,
              "#9c179e"
             ],
             [
              0.4444444444444444,
              "#bd3786"
             ],
             [
              0.5555555555555556,
              "#d8576b"
             ],
             [
              0.6666666666666666,
              "#ed7953"
             ],
             [
              0.7777777777777778,
              "#fb9f3a"
             ],
             [
              0.8888888888888888,
              "#fdca26"
             ],
             [
              1,
              "#f0f921"
             ]
            ],
            "type": "surface"
           }
          ],
          "table": [
           {
            "cells": {
             "fill": {
              "color": "#EBF0F8"
             },
             "line": {
              "color": "white"
             }
            },
            "header": {
             "fill": {
              "color": "#C8D4E3"
             },
             "line": {
              "color": "white"
             }
            },
            "type": "table"
           }
          ]
         },
         "layout": {
          "annotationdefaults": {
           "arrowcolor": "#2a3f5f",
           "arrowhead": 0,
           "arrowwidth": 1
          },
          "coloraxis": {
           "colorbar": {
            "outlinewidth": 0,
            "ticks": ""
           }
          },
          "colorscale": {
           "diverging": [
            [
             0,
             "#8e0152"
            ],
            [
             0.1,
             "#c51b7d"
            ],
            [
             0.2,
             "#de77ae"
            ],
            [
             0.3,
             "#f1b6da"
            ],
            [
             0.4,
             "#fde0ef"
            ],
            [
             0.5,
             "#f7f7f7"
            ],
            [
             0.6,
             "#e6f5d0"
            ],
            [
             0.7,
             "#b8e186"
            ],
            [
             0.8,
             "#7fbc41"
            ],
            [
             0.9,
             "#4d9221"
            ],
            [
             1,
             "#276419"
            ]
           ],
           "sequential": [
            [
             0,
             "#0d0887"
            ],
            [
             0.1111111111111111,
             "#46039f"
            ],
            [
             0.2222222222222222,
             "#7201a8"
            ],
            [
             0.3333333333333333,
             "#9c179e"
            ],
            [
             0.4444444444444444,
             "#bd3786"
            ],
            [
             0.5555555555555556,
             "#d8576b"
            ],
            [
             0.6666666666666666,
             "#ed7953"
            ],
            [
             0.7777777777777778,
             "#fb9f3a"
            ],
            [
             0.8888888888888888,
             "#fdca26"
            ],
            [
             1,
             "#f0f921"
            ]
           ],
           "sequentialminus": [
            [
             0,
             "#0d0887"
            ],
            [
             0.1111111111111111,
             "#46039f"
            ],
            [
             0.2222222222222222,
             "#7201a8"
            ],
            [
             0.3333333333333333,
             "#9c179e"
            ],
            [
             0.4444444444444444,
             "#bd3786"
            ],
            [
             0.5555555555555556,
             "#d8576b"
            ],
            [
             0.6666666666666666,
             "#ed7953"
            ],
            [
             0.7777777777777778,
             "#fb9f3a"
            ],
            [
             0.8888888888888888,
             "#fdca26"
            ],
            [
             1,
             "#f0f921"
            ]
           ]
          },
          "colorway": [
           "#636efa",
           "#EF553B",
           "#00cc96",
           "#ab63fa",
           "#FFA15A",
           "#19d3f3",
           "#FF6692",
           "#B6E880",
           "#FF97FF",
           "#FECB52"
          ],
          "font": {
           "color": "#2a3f5f"
          },
          "geo": {
           "bgcolor": "white",
           "lakecolor": "white",
           "landcolor": "#E5ECF6",
           "showlakes": true,
           "showland": true,
           "subunitcolor": "white"
          },
          "hoverlabel": {
           "align": "left"
          },
          "hovermode": "closest",
          "mapbox": {
           "style": "light"
          },
          "paper_bgcolor": "white",
          "plot_bgcolor": "#E5ECF6",
          "polar": {
           "angularaxis": {
            "gridcolor": "white",
            "linecolor": "white",
            "ticks": ""
           },
           "bgcolor": "#E5ECF6",
           "radialaxis": {
            "gridcolor": "white",
            "linecolor": "white",
            "ticks": ""
           }
          },
          "scene": {
           "xaxis": {
            "backgroundcolor": "#E5ECF6",
            "gridcolor": "white",
            "gridwidth": 2,
            "linecolor": "white",
            "showbackground": true,
            "ticks": "",
            "zerolinecolor": "white"
           },
           "yaxis": {
            "backgroundcolor": "#E5ECF6",
            "gridcolor": "white",
            "gridwidth": 2,
            "linecolor": "white",
            "showbackground": true,
            "ticks": "",
            "zerolinecolor": "white"
           },
           "zaxis": {
            "backgroundcolor": "#E5ECF6",
            "gridcolor": "white",
            "gridwidth": 2,
            "linecolor": "white",
            "showbackground": true,
            "ticks": "",
            "zerolinecolor": "white"
           }
          },
          "shapedefaults": {
           "line": {
            "color": "#2a3f5f"
           }
          },
          "ternary": {
           "aaxis": {
            "gridcolor": "white",
            "linecolor": "white",
            "ticks": ""
           },
           "baxis": {
            "gridcolor": "white",
            "linecolor": "white",
            "ticks": ""
           },
           "bgcolor": "#E5ECF6",
           "caxis": {
            "gridcolor": "white",
            "linecolor": "white",
            "ticks": ""
           }
          },
          "title": {
           "x": 0.05
          },
          "xaxis": {
           "automargin": true,
           "gridcolor": "white",
           "linecolor": "white",
           "ticks": "",
           "title": {
            "standoff": 15
           },
           "zerolinecolor": "white",
           "zerolinewidth": 2
          },
          "yaxis": {
           "automargin": true,
           "gridcolor": "white",
           "linecolor": "white",
           "ticks": "",
           "title": {
            "standoff": 15
           },
           "zerolinecolor": "white",
           "zerolinewidth": 2
          }
         }
        },
        "title": {
         "text": "Count of Approvals and Denials by Fiscal year"
        },
        "uniformtext": {
         "minsize": 8,
         "mode": "hide"
        },
        "width": 800,
        "xaxis": {
         "dtick": 1,
         "showgrid": false
        },
        "yaxis": {
         "showgrid": false,
         "tickfont": {
          "color": "#151515"
         },
         "title": {
          "font": {
           "color": "#151515"
          },
          "text": "Count of Approvals (Bar)"
         }
        },
        "yaxis2": {
         "anchor": "free",
         "overlaying": "y",
         "position": 1,
         "side": "right",
         "tickfont": {
          "color": "#151515"
         },
         "title": {
          "font": {
           "color": "#151515"
          },
          "text": "Count of Denials (line)"
         }
        }
       }
      },
      "text/html": [
       "<div>\n",
       "        \n",
       "        \n",
       "            <div id=\"20c8ef80-9491-4498-9d15-0b637560f7e1\" class=\"plotly-graph-div\" style=\"height:400px; width:800px;\"></div>\n",
       "            <script type=\"text/javascript\">\n",
       "                require([\"plotly\"], function(Plotly) {\n",
       "                    window.PLOTLYENV=window.PLOTLYENV || {};\n",
       "                    \n",
       "                if (document.getElementById(\"20c8ef80-9491-4498-9d15-0b637560f7e1\")) {\n",
       "                    Plotly.newPlot(\n",
       "                        '20c8ef80-9491-4498-9d15-0b637560f7e1',\n",
       "                        [{\"marker\": {\"color\": \"#00b8b8\"}, \"name\": \"Count of Approvals\", \"type\": \"bar\", \"x\": [2009, 2010, 2011, 2012, 2013, 2014, 2015, 2016, 2017, 2018], \"y\": [227360, 192369, 269996, 269804, 295250, 332788, 288483, 357181, 373378, 334935]}, {\"line\": {\"color\": \"#de3d83\", \"width\": 4}, \"mode\": \"lines\", \"name\": \"Count of Denials\", \"type\": \"scatter\", \"x\": [2009, 2010, 2011, 2012, 2013, 2014, 2015, 2016, 2017, 2018], \"y\": [26051.0, 12497.0, 13123.0, 11426.0, 14134.0, 16760.0, 13071.0, 23028.0, 29855.0, 52738.0], \"yaxis\": \"y2\"}],\n",
       "                        {\"height\": 400, \"legend\": {\"font\": {\"size\": 12}, \"traceorder\": \"reversed\", \"x\": 0.03, \"y\": 0.98}, \"plot_bgcolor\": \"#e0e5db\", \"shapes\": [{\"line\": {\"color\": \"#e4bd0b\", \"width\": 5}, \"type\": \"rect\", \"x0\": \"2016\", \"x1\": \"2018\", \"xref\": \"x\", \"y0\": -0.01, \"y1\": 1.1, \"yref\": \"paper\"}], \"template\": {\"data\": {\"bar\": [{\"error_x\": {\"color\": \"#2a3f5f\"}, \"error_y\": {\"color\": \"#2a3f5f\"}, \"marker\": {\"line\": {\"color\": \"#E5ECF6\", \"width\": 0.5}}, \"type\": \"bar\"}], \"barpolar\": [{\"marker\": {\"line\": {\"color\": \"#E5ECF6\", \"width\": 0.5}}, \"type\": \"barpolar\"}], \"carpet\": [{\"aaxis\": {\"endlinecolor\": \"#2a3f5f\", \"gridcolor\": \"white\", \"linecolor\": \"white\", \"minorgridcolor\": \"white\", \"startlinecolor\": \"#2a3f5f\"}, \"baxis\": {\"endlinecolor\": \"#2a3f5f\", \"gridcolor\": \"white\", \"linecolor\": \"white\", \"minorgridcolor\": \"white\", \"startlinecolor\": \"#2a3f5f\"}, \"type\": \"carpet\"}], \"choropleth\": [{\"colorbar\": {\"outlinewidth\": 0, \"ticks\": \"\"}, \"type\": \"choropleth\"}], \"contour\": [{\"colorbar\": {\"outlinewidth\": 0, \"ticks\": \"\"}, \"colorscale\": [[0.0, \"#0d0887\"], [0.1111111111111111, \"#46039f\"], [0.2222222222222222, \"#7201a8\"], [0.3333333333333333, \"#9c179e\"], [0.4444444444444444, \"#bd3786\"], [0.5555555555555556, \"#d8576b\"], [0.6666666666666666, \"#ed7953\"], [0.7777777777777778, \"#fb9f3a\"], [0.8888888888888888, \"#fdca26\"], [1.0, \"#f0f921\"]], \"type\": \"contour\"}], \"contourcarpet\": [{\"colorbar\": {\"outlinewidth\": 0, \"ticks\": \"\"}, \"type\": \"contourcarpet\"}], \"heatmap\": [{\"colorbar\": {\"outlinewidth\": 0, \"ticks\": \"\"}, \"colorscale\": [[0.0, \"#0d0887\"], [0.1111111111111111, \"#46039f\"], [0.2222222222222222, \"#7201a8\"], [0.3333333333333333, \"#9c179e\"], [0.4444444444444444, \"#bd3786\"], [0.5555555555555556, \"#d8576b\"], [0.6666666666666666, \"#ed7953\"], [0.7777777777777778, \"#fb9f3a\"], [0.8888888888888888, \"#fdca26\"], [1.0, \"#f0f921\"]], \"type\": \"heatmap\"}], \"heatmapgl\": [{\"colorbar\": {\"outlinewidth\": 0, \"ticks\": \"\"}, \"colorscale\": [[0.0, \"#0d0887\"], [0.1111111111111111, \"#46039f\"], [0.2222222222222222, \"#7201a8\"], [0.3333333333333333, \"#9c179e\"], [0.4444444444444444, \"#bd3786\"], [0.5555555555555556, \"#d8576b\"], [0.6666666666666666, \"#ed7953\"], [0.7777777777777778, \"#fb9f3a\"], [0.8888888888888888, \"#fdca26\"], [1.0, \"#f0f921\"]], \"type\": \"heatmapgl\"}], \"histogram\": [{\"marker\": {\"colorbar\": {\"outlinewidth\": 0, \"ticks\": \"\"}}, \"type\": \"histogram\"}], \"histogram2d\": [{\"colorbar\": {\"outlinewidth\": 0, \"ticks\": \"\"}, \"colorscale\": [[0.0, \"#0d0887\"], [0.1111111111111111, \"#46039f\"], [0.2222222222222222, \"#7201a8\"], [0.3333333333333333, \"#9c179e\"], [0.4444444444444444, \"#bd3786\"], [0.5555555555555556, \"#d8576b\"], [0.6666666666666666, \"#ed7953\"], [0.7777777777777778, \"#fb9f3a\"], [0.8888888888888888, \"#fdca26\"], [1.0, \"#f0f921\"]], \"type\": \"histogram2d\"}], \"histogram2dcontour\": [{\"colorbar\": {\"outlinewidth\": 0, \"ticks\": \"\"}, \"colorscale\": [[0.0, \"#0d0887\"], [0.1111111111111111, \"#46039f\"], [0.2222222222222222, \"#7201a8\"], [0.3333333333333333, \"#9c179e\"], [0.4444444444444444, \"#bd3786\"], [0.5555555555555556, \"#d8576b\"], [0.6666666666666666, \"#ed7953\"], [0.7777777777777778, \"#fb9f3a\"], [0.8888888888888888, \"#fdca26\"], [1.0, \"#f0f921\"]], \"type\": \"histogram2dcontour\"}], \"mesh3d\": [{\"colorbar\": {\"outlinewidth\": 0, \"ticks\": \"\"}, \"type\": \"mesh3d\"}], \"parcoords\": [{\"line\": {\"colorbar\": {\"outlinewidth\": 0, \"ticks\": \"\"}}, \"type\": \"parcoords\"}], \"pie\": [{\"automargin\": true, \"type\": \"pie\"}], \"scatter\": [{\"marker\": {\"colorbar\": {\"outlinewidth\": 0, \"ticks\": \"\"}}, \"type\": \"scatter\"}], \"scatter3d\": [{\"line\": {\"colorbar\": {\"outlinewidth\": 0, \"ticks\": \"\"}}, \"marker\": {\"colorbar\": {\"outlinewidth\": 0, \"ticks\": \"\"}}, \"type\": \"scatter3d\"}], \"scattercarpet\": [{\"marker\": {\"colorbar\": {\"outlinewidth\": 0, \"ticks\": \"\"}}, \"type\": \"scattercarpet\"}], \"scattergeo\": [{\"marker\": {\"colorbar\": {\"outlinewidth\": 0, \"ticks\": \"\"}}, \"type\": \"scattergeo\"}], \"scattergl\": [{\"marker\": {\"colorbar\": {\"outlinewidth\": 0, \"ticks\": \"\"}}, \"type\": \"scattergl\"}], \"scattermapbox\": [{\"marker\": {\"colorbar\": {\"outlinewidth\": 0, \"ticks\": \"\"}}, \"type\": \"scattermapbox\"}], \"scatterpolar\": [{\"marker\": {\"colorbar\": {\"outlinewidth\": 0, \"ticks\": \"\"}}, \"type\": \"scatterpolar\"}], \"scatterpolargl\": [{\"marker\": {\"colorbar\": {\"outlinewidth\": 0, \"ticks\": \"\"}}, \"type\": \"scatterpolargl\"}], \"scatterternary\": [{\"marker\": {\"colorbar\": {\"outlinewidth\": 0, \"ticks\": \"\"}}, \"type\": \"scatterternary\"}], \"surface\": [{\"colorbar\": {\"outlinewidth\": 0, \"ticks\": \"\"}, \"colorscale\": [[0.0, \"#0d0887\"], [0.1111111111111111, \"#46039f\"], [0.2222222222222222, \"#7201a8\"], [0.3333333333333333, \"#9c179e\"], [0.4444444444444444, \"#bd3786\"], [0.5555555555555556, \"#d8576b\"], [0.6666666666666666, \"#ed7953\"], [0.7777777777777778, \"#fb9f3a\"], [0.8888888888888888, \"#fdca26\"], [1.0, \"#f0f921\"]], \"type\": \"surface\"}], \"table\": [{\"cells\": {\"fill\": {\"color\": \"#EBF0F8\"}, \"line\": {\"color\": \"white\"}}, \"header\": {\"fill\": {\"color\": \"#C8D4E3\"}, \"line\": {\"color\": \"white\"}}, \"type\": \"table\"}]}, \"layout\": {\"annotationdefaults\": {\"arrowcolor\": \"#2a3f5f\", \"arrowhead\": 0, \"arrowwidth\": 1}, \"coloraxis\": {\"colorbar\": {\"outlinewidth\": 0, \"ticks\": \"\"}}, \"colorscale\": {\"diverging\": [[0, \"#8e0152\"], [0.1, \"#c51b7d\"], [0.2, \"#de77ae\"], [0.3, \"#f1b6da\"], [0.4, \"#fde0ef\"], [0.5, \"#f7f7f7\"], [0.6, \"#e6f5d0\"], [0.7, \"#b8e186\"], [0.8, \"#7fbc41\"], [0.9, \"#4d9221\"], [1, \"#276419\"]], \"sequential\": [[0.0, \"#0d0887\"], [0.1111111111111111, \"#46039f\"], [0.2222222222222222, \"#7201a8\"], [0.3333333333333333, \"#9c179e\"], [0.4444444444444444, \"#bd3786\"], [0.5555555555555556, \"#d8576b\"], [0.6666666666666666, \"#ed7953\"], [0.7777777777777778, \"#fb9f3a\"], [0.8888888888888888, \"#fdca26\"], [1.0, \"#f0f921\"]], \"sequentialminus\": [[0.0, \"#0d0887\"], [0.1111111111111111, \"#46039f\"], [0.2222222222222222, \"#7201a8\"], [0.3333333333333333, \"#9c179e\"], [0.4444444444444444, \"#bd3786\"], [0.5555555555555556, \"#d8576b\"], [0.6666666666666666, \"#ed7953\"], [0.7777777777777778, \"#fb9f3a\"], [0.8888888888888888, \"#fdca26\"], [1.0, \"#f0f921\"]]}, \"colorway\": [\"#636efa\", \"#EF553B\", \"#00cc96\", \"#ab63fa\", \"#FFA15A\", \"#19d3f3\", \"#FF6692\", \"#B6E880\", \"#FF97FF\", \"#FECB52\"], \"font\": {\"color\": \"#2a3f5f\"}, \"geo\": {\"bgcolor\": \"white\", \"lakecolor\": \"white\", \"landcolor\": \"#E5ECF6\", \"showlakes\": true, \"showland\": true, \"subunitcolor\": \"white\"}, \"hoverlabel\": {\"align\": \"left\"}, \"hovermode\": \"closest\", \"mapbox\": {\"style\": \"light\"}, \"paper_bgcolor\": \"white\", \"plot_bgcolor\": \"#E5ECF6\", \"polar\": {\"angularaxis\": {\"gridcolor\": \"white\", \"linecolor\": \"white\", \"ticks\": \"\"}, \"bgcolor\": \"#E5ECF6\", \"radialaxis\": {\"gridcolor\": \"white\", \"linecolor\": \"white\", \"ticks\": \"\"}}, \"scene\": {\"xaxis\": {\"backgroundcolor\": \"#E5ECF6\", \"gridcolor\": \"white\", \"gridwidth\": 2, \"linecolor\": \"white\", \"showbackground\": true, \"ticks\": \"\", \"zerolinecolor\": \"white\"}, \"yaxis\": {\"backgroundcolor\": \"#E5ECF6\", \"gridcolor\": \"white\", \"gridwidth\": 2, \"linecolor\": \"white\", \"showbackground\": true, \"ticks\": \"\", \"zerolinecolor\": \"white\"}, \"zaxis\": {\"backgroundcolor\": \"#E5ECF6\", \"gridcolor\": \"white\", \"gridwidth\": 2, \"linecolor\": \"white\", \"showbackground\": true, \"ticks\": \"\", \"zerolinecolor\": \"white\"}}, \"shapedefaults\": {\"line\": {\"color\": \"#2a3f5f\"}}, \"ternary\": {\"aaxis\": {\"gridcolor\": \"white\", \"linecolor\": \"white\", \"ticks\": \"\"}, \"baxis\": {\"gridcolor\": \"white\", \"linecolor\": \"white\", \"ticks\": \"\"}, \"bgcolor\": \"#E5ECF6\", \"caxis\": {\"gridcolor\": \"white\", \"linecolor\": \"white\", \"ticks\": \"\"}}, \"title\": {\"x\": 0.05}, \"xaxis\": {\"automargin\": true, \"gridcolor\": \"white\", \"linecolor\": \"white\", \"ticks\": \"\", \"title\": {\"standoff\": 15}, \"zerolinecolor\": \"white\", \"zerolinewidth\": 2}, \"yaxis\": {\"automargin\": true, \"gridcolor\": \"white\", \"linecolor\": \"white\", \"ticks\": \"\", \"title\": {\"standoff\": 15}, \"zerolinecolor\": \"white\", \"zerolinewidth\": 2}}}, \"title\": {\"text\": \"Count of Approvals and Denials by Fiscal year\"}, \"uniformtext\": {\"minsize\": 8, \"mode\": \"hide\"}, \"width\": 800, \"xaxis\": {\"dtick\": 1, \"showgrid\": false}, \"yaxis\": {\"showgrid\": false, \"tickfont\": {\"color\": \"#151515\"}, \"title\": {\"font\": {\"color\": \"#151515\"}, \"text\": \"Count of Approvals (Bar)\"}}, \"yaxis2\": {\"anchor\": \"free\", \"overlaying\": \"y\", \"position\": 1, \"side\": \"right\", \"tickfont\": {\"color\": \"#151515\"}, \"title\": {\"font\": {\"color\": \"#151515\"}, \"text\": \"Count of Denials (line)\"}}},\n",
       "                        {\"responsive\": true}\n",
       "                    ).then(function(){\n",
       "                            \n",
       "var gd = document.getElementById('20c8ef80-9491-4498-9d15-0b637560f7e1');\n",
       "var x = new MutationObserver(function (mutations, observer) {{\n",
       "        var display = window.getComputedStyle(gd).display;\n",
       "        if (!display || display === 'none') {{\n",
       "            console.log([gd, 'removed!']);\n",
       "            Plotly.purge(gd);\n",
       "            observer.disconnect();\n",
       "        }}\n",
       "}});\n",
       "\n",
       "// Listen for the removal of the full notebook cells\n",
       "var notebookContainer = gd.closest('#notebook-container');\n",
       "if (notebookContainer) {{\n",
       "    x.observe(notebookContainer, {childList: true});\n",
       "}}\n",
       "\n",
       "// Listen for the clearing of the current output cell\n",
       "var outputEl = gd.closest('.output');\n",
       "if (outputEl) {{\n",
       "    x.observe(outputEl, {childList: true});\n",
       "}}\n",
       "\n",
       "                        })\n",
       "                };\n",
       "                });\n",
       "            </script>\n",
       "        </div>"
      ]
     },
     "metadata": {},
     "output_type": "display_data"
    }
   ],
   "source": [
    "fiscal_plot(df20,Employer=None)"
   ]
  },
  {
   "cell_type": "markdown",
   "metadata": {},
   "source": [
    "### Approved H1B VISA Distribution by State"
   ]
  },
  {
   "cell_type": "code",
   "execution_count": 536,
   "metadata": {},
   "outputs": [
    {
     "name": "stdout",
     "output_type": "stream",
     "text": [
      " df13   State  total_visa  percentage_total_visa\n",
      "0    CA      496311                  16.87\n",
      "1    TX      411275                  13.98\n",
      "2    NJ      384639                  13.08\n",
      "3    NY      228969                   7.78\n",
      "4    IL      160014                   5.44\n"
     ]
    }
   ],
   "source": [
    "h1b_query13 = ''' \n",
    "with visas_by_state AS\n",
    "(\n",
    "select  \n",
    "SUM(Initial_Approvals)  + SUM(Continuing_Approvals) AS sum_IA \n",
    "from h1b\n",
    "where Fiscal_Year !='2019'\n",
    ")\n",
    "select  \n",
    "State, SUM(Initial_Approvals)  + SUM(Continuing_Approvals) total_visa,\n",
    "(CAST(SUM(Initial_Approvals) AS REAL) + CAST(SUM(Continuing_Approvals) AS REAL)) / (CAST(vs.sum_IA AS REAL))*100 AS percentage_total_visa\n",
    "from h1b, visas_by_state vs\n",
    "where Fiscal_Year !='2019'\n",
    "group by State\n",
    "order by 2 desc\n",
    ";\n",
    "'''\n",
    "\n",
    "df13 = pd.read_sql_query(h1b_query13, conn)\n",
    "df13['percentage_total_visa']=df13['percentage_total_visa'].apply(lambda x: round(x,2))\n",
    "print(f' df13 {df13.head()}')\n",
    "\n"
   ]
  },
  {
   "cell_type": "markdown",
   "metadata": {},
   "source": [
    "### Calculating the Number States whose Share is less than 1% in the total approved H1Bs"
   ]
  },
  {
   "cell_type": "code",
   "execution_count": 533,
   "metadata": {},
   "outputs": [
    {
     "name": "stdout",
     "output_type": "stream",
     "text": [
      "<class 'pandas.core.frame.DataFrame'>\n",
      "RangeIndex: 55 entries, 0 to 54\n",
      "Data columns (total 3 columns):\n",
      "State                    55 non-null object\n",
      "total_visa               55 non-null int64\n",
      "percentage_total_visa    55 non-null float64\n",
      "dtypes: float64(1), int64(1), object(1)\n",
      "memory usage: 1.4+ KB\n",
      "None\n"
     ]
    },
    {
     "data": {
      "text/html": [
       "<div>\n",
       "<style scoped>\n",
       "    .dataframe tbody tr th:only-of-type {\n",
       "        vertical-align: middle;\n",
       "    }\n",
       "\n",
       "    .dataframe tbody tr th {\n",
       "        vertical-align: top;\n",
       "    }\n",
       "\n",
       "    .dataframe thead th {\n",
       "        text-align: right;\n",
       "    }\n",
       "</style>\n",
       "<table border=\"1\" class=\"dataframe\">\n",
       "  <thead>\n",
       "    <tr style=\"text-align: right;\">\n",
       "      <th></th>\n",
       "      <th>State</th>\n",
       "      <th>total_visa</th>\n",
       "      <th>percentage_total_visa</th>\n",
       "    </tr>\n",
       "    <tr>\n",
       "      <th>category</th>\n",
       "      <th></th>\n",
       "      <th></th>\n",
       "      <th></th>\n",
       "    </tr>\n",
       "  </thead>\n",
       "  <tbody>\n",
       "    <tr>\n",
       "      <th>Greater Than 0</th>\n",
       "      <td>16</td>\n",
       "      <td>16</td>\n",
       "      <td>16</td>\n",
       "    </tr>\n",
       "    <tr>\n",
       "      <th>less Than 0</th>\n",
       "      <td>39</td>\n",
       "      <td>39</td>\n",
       "      <td>39</td>\n",
       "    </tr>\n",
       "  </tbody>\n",
       "</table>\n",
       "</div>"
      ],
      "text/plain": [
       "                State  total_visa  percentage_total_visa\n",
       "category                                                \n",
       "Greater Than 0     16          16                     16\n",
       "less Than 0        39          39                     39"
      ]
     },
     "execution_count": 533,
     "metadata": {},
     "output_type": "execute_result"
    }
   ],
   "source": [
    "print(df13.info())\n",
    "df13['category']= df13['percentage_total_visa'].apply(lambda x: \"less Than 0\" if x<1 else \"Greater Than 0\")\n",
    "df13.groupby(['category']).count()"
   ]
  },
  {
   "cell_type": "code",
   "execution_count": 323,
   "metadata": {},
   "outputs": [
    {
     "data": {
      "application/vnd.plotly.v1+json": {
       "config": {
        "plotlyServerURL": "https://plot.ly"
       },
       "data": [
        {
         "marker": {
          "color": "#e4bd0b",
          "line": {
           "width": 0.5
          }
         },
         "opacity": 0.9,
         "orientation": "h",
         "text": [
          "0.02",
          "0.02",
          "0.02",
          "0.02",
          "0.02",
          "0.03",
          "0.05",
          "0.06",
          "0.06",
          "0.07",
          "0.08",
          "0.09",
          "0.1",
          "0.1",
          "0.13",
          "0.15",
          "0.15",
          "0.18",
          "0.22",
          "0.23",
          "0.24",
          "0.24",
          "0.28",
          "0.29",
          "0.29",
          "0.31",
          "0.34",
          "0.34",
          "0.35",
          "0.36",
          "0.37",
          "0.51",
          "0.52",
          "0.66",
          "0.75",
          "0.84",
          "0.84",
          "0.84",
          "0.94",
          "1.06",
          "1.59",
          "2.17",
          "2.39",
          "2.89",
          "3.03",
          "3.24",
          "3.38",
          "3.74",
          "4.06",
          "4.15",
          "5.44",
          "7.78",
          "13.08",
          "13.98",
          "16.87"
         ],
         "textposition": "outside",
         "type": "bar",
         "width": 0.71,
         "x": [
          0.02,
          0.02,
          0.02,
          0.02,
          0.02,
          0.03,
          0.05,
          0.06,
          0.06,
          0.07,
          0.08,
          0.09,
          0.1,
          0.1,
          0.13,
          0.15,
          0.15,
          0.18,
          0.22,
          0.23,
          0.24,
          0.24,
          0.28,
          0.29,
          0.29,
          0.31,
          0.34,
          0.34,
          0.35,
          0.36,
          0.37,
          0.51,
          0.52,
          0.66,
          0.75,
          0.84,
          0.84,
          0.84,
          0.94,
          1.06,
          1.59,
          2.17,
          2.39,
          2.89,
          3.03,
          3.24,
          3.38,
          3.74,
          4.06,
          4.15,
          5.44,
          7.78,
          13.08,
          13.98,
          16.87
         ],
         "y": [
          "Virgin Islands",
          "Northern Marianas",
          "Montana",
          "Wyoming",
          "Alaska",
          "Puerto Rico",
          "South Dakota",
          "Guam",
          "North Dakota",
          "West Virginia",
          "Maine",
          "Hawaii",
          "Vermont",
          "Mississippi",
          "Idaho",
          "Nevada",
          "New Mexico",
          "New Hampshire",
          "Oklahoma",
          "South Carolina",
          "Utah",
          "Rhode Island",
          "Alabama",
          "Nebraska",
          "Oregon",
          "Louisiana",
          "Kentucky",
          "Kansas",
          "Iowa",
          "Arkansas",
          "Delaware",
          "District of Columbia",
          "Indiana",
          "Colorado",
          "Wisconsin",
          "Missouri",
          "Minnesota",
          "Tennessee",
          "Arizona",
          "Connecticut",
          "Ohio",
          "North Carolina",
          "Georgia",
          "Florida",
          "Virginia",
          "Washington",
          "Michigan",
          "Pennsylvania",
          "Massachusetts",
          "Maryland",
          "Illinois",
          "New York",
          "New Jersey",
          "Texas",
          "California"
         ]
        }
       ],
       "layout": {
        "annotations": [
         {
          "arrowhead": 7,
          "ax": 50,
          "ay": 50,
          "font": {
           "color": "#00b8b8",
           "family": "Courier New, monospace",
           "size": 24
          },
          "showarrow": false,
          "text": "57%",
          "x": 0.46,
          "xref": "paper",
          "y": 0.9,
          "yref": "paper"
         },
         {
          "arrowhead": 7,
          "ax": 50,
          "ay": 50,
          "font": {
           "color": "#151515",
           "family": "Arial",
           "size": 12
          },
          "showarrow": false,
          "text": "of the Approved H1B Visas <br> comes from these 5 states",
          "x": 0.87,
          "xref": "paper",
          "y": 0.9,
          "yref": "paper"
         }
        ],
        "height": 900,
        "legend": {
         "font": {
          "size": 12
         },
         "x": 0.73,
         "y": 0.98
        },
        "plot_bgcolor": "rgba(0,0,0,0)",
        "shapes": [
         {
          "line": {
           "color": "#de3d83",
           "width": 2
          },
          "type": "rect",
          "x0": 0,
          "x1": 1.05,
          "xref": "paper",
          "y0": 0.91,
          "y1": 1,
          "yref": "paper"
         }
        ],
        "template": {
         "data": {
          "bar": [
           {
            "error_x": {
             "color": "#2a3f5f"
            },
            "error_y": {
             "color": "#2a3f5f"
            },
            "marker": {
             "line": {
              "color": "#E5ECF6",
              "width": 0.5
             }
            },
            "type": "bar"
           }
          ],
          "barpolar": [
           {
            "marker": {
             "line": {
              "color": "#E5ECF6",
              "width": 0.5
             }
            },
            "type": "barpolar"
           }
          ],
          "carpet": [
           {
            "aaxis": {
             "endlinecolor": "#2a3f5f",
             "gridcolor": "white",
             "linecolor": "white",
             "minorgridcolor": "white",
             "startlinecolor": "#2a3f5f"
            },
            "baxis": {
             "endlinecolor": "#2a3f5f",
             "gridcolor": "white",
             "linecolor": "white",
             "minorgridcolor": "white",
             "startlinecolor": "#2a3f5f"
            },
            "type": "carpet"
           }
          ],
          "choropleth": [
           {
            "colorbar": {
             "outlinewidth": 0,
             "ticks": ""
            },
            "type": "choropleth"
           }
          ],
          "contour": [
           {
            "colorbar": {
             "outlinewidth": 0,
             "ticks": ""
            },
            "colorscale": [
             [
              0,
              "#0d0887"
             ],
             [
              0.1111111111111111,
              "#46039f"
             ],
             [
              0.2222222222222222,
              "#7201a8"
             ],
             [
              0.3333333333333333,
              "#9c179e"
             ],
             [
              0.4444444444444444,
              "#bd3786"
             ],
             [
              0.5555555555555556,
              "#d8576b"
             ],
             [
              0.6666666666666666,
              "#ed7953"
             ],
             [
              0.7777777777777778,
              "#fb9f3a"
             ],
             [
              0.8888888888888888,
              "#fdca26"
             ],
             [
              1,
              "#f0f921"
             ]
            ],
            "type": "contour"
           }
          ],
          "contourcarpet": [
           {
            "colorbar": {
             "outlinewidth": 0,
             "ticks": ""
            },
            "type": "contourcarpet"
           }
          ],
          "heatmap": [
           {
            "colorbar": {
             "outlinewidth": 0,
             "ticks": ""
            },
            "colorscale": [
             [
              0,
              "#0d0887"
             ],
             [
              0.1111111111111111,
              "#46039f"
             ],
             [
              0.2222222222222222,
              "#7201a8"
             ],
             [
              0.3333333333333333,
              "#9c179e"
             ],
             [
              0.4444444444444444,
              "#bd3786"
             ],
             [
              0.5555555555555556,
              "#d8576b"
             ],
             [
              0.6666666666666666,
              "#ed7953"
             ],
             [
              0.7777777777777778,
              "#fb9f3a"
             ],
             [
              0.8888888888888888,
              "#fdca26"
             ],
             [
              1,
              "#f0f921"
             ]
            ],
            "type": "heatmap"
           }
          ],
          "heatmapgl": [
           {
            "colorbar": {
             "outlinewidth": 0,
             "ticks": ""
            },
            "colorscale": [
             [
              0,
              "#0d0887"
             ],
             [
              0.1111111111111111,
              "#46039f"
             ],
             [
              0.2222222222222222,
              "#7201a8"
             ],
             [
              0.3333333333333333,
              "#9c179e"
             ],
             [
              0.4444444444444444,
              "#bd3786"
             ],
             [
              0.5555555555555556,
              "#d8576b"
             ],
             [
              0.6666666666666666,
              "#ed7953"
             ],
             [
              0.7777777777777778,
              "#fb9f3a"
             ],
             [
              0.8888888888888888,
              "#fdca26"
             ],
             [
              1,
              "#f0f921"
             ]
            ],
            "type": "heatmapgl"
           }
          ],
          "histogram": [
           {
            "marker": {
             "colorbar": {
              "outlinewidth": 0,
              "ticks": ""
             }
            },
            "type": "histogram"
           }
          ],
          "histogram2d": [
           {
            "colorbar": {
             "outlinewidth": 0,
             "ticks": ""
            },
            "colorscale": [
             [
              0,
              "#0d0887"
             ],
             [
              0.1111111111111111,
              "#46039f"
             ],
             [
              0.2222222222222222,
              "#7201a8"
             ],
             [
              0.3333333333333333,
              "#9c179e"
             ],
             [
              0.4444444444444444,
              "#bd3786"
             ],
             [
              0.5555555555555556,
              "#d8576b"
             ],
             [
              0.6666666666666666,
              "#ed7953"
             ],
             [
              0.7777777777777778,
              "#fb9f3a"
             ],
             [
              0.8888888888888888,
              "#fdca26"
             ],
             [
              1,
              "#f0f921"
             ]
            ],
            "type": "histogram2d"
           }
          ],
          "histogram2dcontour": [
           {
            "colorbar": {
             "outlinewidth": 0,
             "ticks": ""
            },
            "colorscale": [
             [
              0,
              "#0d0887"
             ],
             [
              0.1111111111111111,
              "#46039f"
             ],
             [
              0.2222222222222222,
              "#7201a8"
             ],
             [
              0.3333333333333333,
              "#9c179e"
             ],
             [
              0.4444444444444444,
              "#bd3786"
             ],
             [
              0.5555555555555556,
              "#d8576b"
             ],
             [
              0.6666666666666666,
              "#ed7953"
             ],
             [
              0.7777777777777778,
              "#fb9f3a"
             ],
             [
              0.8888888888888888,
              "#fdca26"
             ],
             [
              1,
              "#f0f921"
             ]
            ],
            "type": "histogram2dcontour"
           }
          ],
          "mesh3d": [
           {
            "colorbar": {
             "outlinewidth": 0,
             "ticks": ""
            },
            "type": "mesh3d"
           }
          ],
          "parcoords": [
           {
            "line": {
             "colorbar": {
              "outlinewidth": 0,
              "ticks": ""
             }
            },
            "type": "parcoords"
           }
          ],
          "pie": [
           {
            "automargin": true,
            "type": "pie"
           }
          ],
          "scatter": [
           {
            "marker": {
             "colorbar": {
              "outlinewidth": 0,
              "ticks": ""
             }
            },
            "type": "scatter"
           }
          ],
          "scatter3d": [
           {
            "line": {
             "colorbar": {
              "outlinewidth": 0,
              "ticks": ""
             }
            },
            "marker": {
             "colorbar": {
              "outlinewidth": 0,
              "ticks": ""
             }
            },
            "type": "scatter3d"
           }
          ],
          "scattercarpet": [
           {
            "marker": {
             "colorbar": {
              "outlinewidth": 0,
              "ticks": ""
             }
            },
            "type": "scattercarpet"
           }
          ],
          "scattergeo": [
           {
            "marker": {
             "colorbar": {
              "outlinewidth": 0,
              "ticks": ""
             }
            },
            "type": "scattergeo"
           }
          ],
          "scattergl": [
           {
            "marker": {
             "colorbar": {
              "outlinewidth": 0,
              "ticks": ""
             }
            },
            "type": "scattergl"
           }
          ],
          "scattermapbox": [
           {
            "marker": {
             "colorbar": {
              "outlinewidth": 0,
              "ticks": ""
             }
            },
            "type": "scattermapbox"
           }
          ],
          "scatterpolar": [
           {
            "marker": {
             "colorbar": {
              "outlinewidth": 0,
              "ticks": ""
             }
            },
            "type": "scatterpolar"
           }
          ],
          "scatterpolargl": [
           {
            "marker": {
             "colorbar": {
              "outlinewidth": 0,
              "ticks": ""
             }
            },
            "type": "scatterpolargl"
           }
          ],
          "scatterternary": [
           {
            "marker": {
             "colorbar": {
              "outlinewidth": 0,
              "ticks": ""
             }
            },
            "type": "scatterternary"
           }
          ],
          "surface": [
           {
            "colorbar": {
             "outlinewidth": 0,
             "ticks": ""
            },
            "colorscale": [
             [
              0,
              "#0d0887"
             ],
             [
              0.1111111111111111,
              "#46039f"
             ],
             [
              0.2222222222222222,
              "#7201a8"
             ],
             [
              0.3333333333333333,
              "#9c179e"
             ],
             [
              0.4444444444444444,
              "#bd3786"
             ],
             [
              0.5555555555555556,
              "#d8576b"
             ],
             [
              0.6666666666666666,
              "#ed7953"
             ],
             [
              0.7777777777777778,
              "#fb9f3a"
             ],
             [
              0.8888888888888888,
              "#fdca26"
             ],
             [
              1,
              "#f0f921"
             ]
            ],
            "type": "surface"
           }
          ],
          "table": [
           {
            "cells": {
             "fill": {
              "color": "#EBF0F8"
             },
             "line": {
              "color": "white"
             }
            },
            "header": {
             "fill": {
              "color": "#C8D4E3"
             },
             "line": {
              "color": "white"
             }
            },
            "type": "table"
           }
          ]
         },
         "layout": {
          "annotationdefaults": {
           "arrowcolor": "#2a3f5f",
           "arrowhead": 0,
           "arrowwidth": 1
          },
          "coloraxis": {
           "colorbar": {
            "outlinewidth": 0,
            "ticks": ""
           }
          },
          "colorscale": {
           "diverging": [
            [
             0,
             "#8e0152"
            ],
            [
             0.1,
             "#c51b7d"
            ],
            [
             0.2,
             "#de77ae"
            ],
            [
             0.3,
             "#f1b6da"
            ],
            [
             0.4,
             "#fde0ef"
            ],
            [
             0.5,
             "#f7f7f7"
            ],
            [
             0.6,
             "#e6f5d0"
            ],
            [
             0.7,
             "#b8e186"
            ],
            [
             0.8,
             "#7fbc41"
            ],
            [
             0.9,
             "#4d9221"
            ],
            [
             1,
             "#276419"
            ]
           ],
           "sequential": [
            [
             0,
             "#0d0887"
            ],
            [
             0.1111111111111111,
             "#46039f"
            ],
            [
             0.2222222222222222,
             "#7201a8"
            ],
            [
             0.3333333333333333,
             "#9c179e"
            ],
            [
             0.4444444444444444,
             "#bd3786"
            ],
            [
             0.5555555555555556,
             "#d8576b"
            ],
            [
             0.6666666666666666,
             "#ed7953"
            ],
            [
             0.7777777777777778,
             "#fb9f3a"
            ],
            [
             0.8888888888888888,
             "#fdca26"
            ],
            [
             1,
             "#f0f921"
            ]
           ],
           "sequentialminus": [
            [
             0,
             "#0d0887"
            ],
            [
             0.1111111111111111,
             "#46039f"
            ],
            [
             0.2222222222222222,
             "#7201a8"
            ],
            [
             0.3333333333333333,
             "#9c179e"
            ],
            [
             0.4444444444444444,
             "#bd3786"
            ],
            [
             0.5555555555555556,
             "#d8576b"
            ],
            [
             0.6666666666666666,
             "#ed7953"
            ],
            [
             0.7777777777777778,
             "#fb9f3a"
            ],
            [
             0.8888888888888888,
             "#fdca26"
            ],
            [
             1,
             "#f0f921"
            ]
           ]
          },
          "colorway": [
           "#636efa",
           "#EF553B",
           "#00cc96",
           "#ab63fa",
           "#FFA15A",
           "#19d3f3",
           "#FF6692",
           "#B6E880",
           "#FF97FF",
           "#FECB52"
          ],
          "font": {
           "color": "#2a3f5f"
          },
          "geo": {
           "bgcolor": "white",
           "lakecolor": "white",
           "landcolor": "#E5ECF6",
           "showlakes": true,
           "showland": true,
           "subunitcolor": "white"
          },
          "hoverlabel": {
           "align": "left"
          },
          "hovermode": "closest",
          "mapbox": {
           "style": "light"
          },
          "paper_bgcolor": "white",
          "plot_bgcolor": "#E5ECF6",
          "polar": {
           "angularaxis": {
            "gridcolor": "white",
            "linecolor": "white",
            "ticks": ""
           },
           "bgcolor": "#E5ECF6",
           "radialaxis": {
            "gridcolor": "white",
            "linecolor": "white",
            "ticks": ""
           }
          },
          "scene": {
           "xaxis": {
            "backgroundcolor": "#E5ECF6",
            "gridcolor": "white",
            "gridwidth": 2,
            "linecolor": "white",
            "showbackground": true,
            "ticks": "",
            "zerolinecolor": "white"
           },
           "yaxis": {
            "backgroundcolor": "#E5ECF6",
            "gridcolor": "white",
            "gridwidth": 2,
            "linecolor": "white",
            "showbackground": true,
            "ticks": "",
            "zerolinecolor": "white"
           },
           "zaxis": {
            "backgroundcolor": "#E5ECF6",
            "gridcolor": "white",
            "gridwidth": 2,
            "linecolor": "white",
            "showbackground": true,
            "ticks": "",
            "zerolinecolor": "white"
           }
          },
          "shapedefaults": {
           "line": {
            "color": "#2a3f5f"
           }
          },
          "ternary": {
           "aaxis": {
            "gridcolor": "white",
            "linecolor": "white",
            "ticks": ""
           },
           "baxis": {
            "gridcolor": "white",
            "linecolor": "white",
            "ticks": ""
           },
           "bgcolor": "#E5ECF6",
           "caxis": {
            "gridcolor": "white",
            "linecolor": "white",
            "ticks": ""
           }
          },
          "title": {
           "x": 0.05
          },
          "xaxis": {
           "automargin": true,
           "gridcolor": "white",
           "linecolor": "white",
           "ticks": "",
           "title": {
            "standoff": 15
           },
           "zerolinecolor": "white",
           "zerolinewidth": 2
          },
          "yaxis": {
           "automargin": true,
           "gridcolor": "white",
           "linecolor": "white",
           "ticks": "",
           "title": {
            "standoff": 15
           },
           "zerolinecolor": "white",
           "zerolinewidth": 2
          }
         }
        },
        "title": {
         "text": "Approved H1B Visa Distribution By State"
        },
        "uniformtext": {
         "minsize": 12
        },
        "width": 700,
        "xaxis": {
         "showgrid": false,
         "tickcolor": "#e0e5db",
         "tickfont": {
          "color": "#151515"
         },
         "ticklen": 12,
         "ticks": "outside",
         "tickwidth": 3,
         "title": {
          "font": {
           "color": "#151515"
          },
          "text": "% Share in Total Approved H1B Visas from 2009-2018"
         }
        },
        "yaxis": {
         "dtick": 1,
         "tickangle": 0,
         "tickcolor": "#e0e5db",
         "tickfont": {
          "color": "#151515",
          "family": "Rockwell",
          "size": 12
         },
         "ticklen": 12,
         "ticks": "outside",
         "tickwidth": 3
        }
       }
      },
      "text/html": [
       "<div>\n",
       "        \n",
       "        \n",
       "            <div id=\"da233822-2459-4a24-82d0-511227fbc783\" class=\"plotly-graph-div\" style=\"height:900px; width:700px;\"></div>\n",
       "            <script type=\"text/javascript\">\n",
       "                require([\"plotly\"], function(Plotly) {\n",
       "                    window.PLOTLYENV=window.PLOTLYENV || {};\n",
       "                    \n",
       "                if (document.getElementById(\"da233822-2459-4a24-82d0-511227fbc783\")) {\n",
       "                    Plotly.newPlot(\n",
       "                        'da233822-2459-4a24-82d0-511227fbc783',\n",
       "                        [{\"marker\": {\"color\": \"#e4bd0b\", \"line\": {\"width\": 0.5}}, \"opacity\": 0.9, \"orientation\": \"h\", \"text\": [\"0.02\", \"0.02\", \"0.02\", \"0.02\", \"0.02\", \"0.03\", \"0.05\", \"0.06\", \"0.06\", \"0.07\", \"0.08\", \"0.09\", \"0.1\", \"0.1\", \"0.13\", \"0.15\", \"0.15\", \"0.18\", \"0.22\", \"0.23\", \"0.24\", \"0.24\", \"0.28\", \"0.29\", \"0.29\", \"0.31\", \"0.34\", \"0.34\", \"0.35\", \"0.36\", \"0.37\", \"0.51\", \"0.52\", \"0.66\", \"0.75\", \"0.84\", \"0.84\", \"0.84\", \"0.94\", \"1.06\", \"1.59\", \"2.17\", \"2.39\", \"2.89\", \"3.03\", \"3.24\", \"3.38\", \"3.74\", \"4.06\", \"4.15\", \"5.44\", \"7.78\", \"13.08\", \"13.98\", \"16.87\"], \"textposition\": \"outside\", \"type\": \"bar\", \"width\": 0.71, \"x\": [0.02, 0.02, 0.02, 0.02, 0.02, 0.03, 0.05, 0.06, 0.06, 0.07, 0.08, 0.09, 0.1, 0.1, 0.13, 0.15, 0.15, 0.18, 0.22, 0.23, 0.24, 0.24, 0.28, 0.29, 0.29, 0.31, 0.34, 0.34, 0.35, 0.36, 0.37, 0.51, 0.52, 0.66, 0.75, 0.84, 0.84, 0.84, 0.94, 1.06, 1.59, 2.17, 2.39, 2.89, 3.03, 3.24, 3.38, 3.74, 4.06, 4.15, 5.44, 7.78, 13.08, 13.98, 16.87], \"y\": [\"Virgin Islands\", \"Northern Marianas\", \"Montana\", \"Wyoming\", \"Alaska\", \"Puerto Rico\", \"South Dakota\", \"Guam\", \"North Dakota\", \"West Virginia\", \"Maine\", \"Hawaii\", \"Vermont\", \"Mississippi\", \"Idaho\", \"Nevada\", \"New Mexico\", \"New Hampshire\", \"Oklahoma\", \"South Carolina\", \"Utah\", \"Rhode Island\", \"Alabama\", \"Nebraska\", \"Oregon\", \"Louisiana\", \"Kentucky\", \"Kansas\", \"Iowa\", \"Arkansas\", \"Delaware\", \"District of Columbia\", \"Indiana\", \"Colorado\", \"Wisconsin\", \"Missouri\", \"Minnesota\", \"Tennessee\", \"Arizona\", \"Connecticut\", \"Ohio\", \"North Carolina\", \"Georgia\", \"Florida\", \"Virginia\", \"Washington\", \"Michigan\", \"Pennsylvania\", \"Massachusetts\", \"Maryland\", \"Illinois\", \"New York\", \"New Jersey\", \"Texas\", \"California\"]}],\n",
       "                        {\"annotations\": [{\"arrowhead\": 7, \"ax\": 50, \"ay\": 50, \"font\": {\"color\": \"#00b8b8\", \"family\": \"Courier New, monospace\", \"size\": 24}, \"showarrow\": false, \"text\": \"57%\", \"x\": 0.46, \"xref\": \"paper\", \"y\": 0.9, \"yref\": \"paper\"}, {\"arrowhead\": 7, \"ax\": 50, \"ay\": 50, \"font\": {\"color\": \"#151515\", \"family\": \"Arial\", \"size\": 12}, \"showarrow\": false, \"text\": \"of the Approved H1B Visas <br> comes from these 5 states\", \"x\": 0.87, \"xref\": \"paper\", \"y\": 0.9, \"yref\": \"paper\"}], \"height\": 900, \"legend\": {\"font\": {\"size\": 12}, \"x\": 0.73, \"y\": 0.98}, \"plot_bgcolor\": \"rgba(0,0,0,0)\", \"shapes\": [{\"line\": {\"color\": \"#de3d83\", \"width\": 2}, \"type\": \"rect\", \"x0\": 0, \"x1\": 1.05, \"xref\": \"paper\", \"y0\": 0.91, \"y1\": 1, \"yref\": \"paper\"}], \"template\": {\"data\": {\"bar\": [{\"error_x\": {\"color\": \"#2a3f5f\"}, \"error_y\": {\"color\": \"#2a3f5f\"}, \"marker\": {\"line\": {\"color\": \"#E5ECF6\", \"width\": 0.5}}, \"type\": \"bar\"}], \"barpolar\": [{\"marker\": {\"line\": {\"color\": \"#E5ECF6\", \"width\": 0.5}}, \"type\": \"barpolar\"}], \"carpet\": [{\"aaxis\": {\"endlinecolor\": \"#2a3f5f\", \"gridcolor\": \"white\", \"linecolor\": \"white\", \"minorgridcolor\": \"white\", \"startlinecolor\": \"#2a3f5f\"}, \"baxis\": {\"endlinecolor\": \"#2a3f5f\", \"gridcolor\": \"white\", \"linecolor\": \"white\", \"minorgridcolor\": \"white\", \"startlinecolor\": \"#2a3f5f\"}, \"type\": \"carpet\"}], \"choropleth\": [{\"colorbar\": {\"outlinewidth\": 0, \"ticks\": \"\"}, \"type\": \"choropleth\"}], \"contour\": [{\"colorbar\": {\"outlinewidth\": 0, \"ticks\": \"\"}, \"colorscale\": [[0.0, \"#0d0887\"], [0.1111111111111111, \"#46039f\"], [0.2222222222222222, \"#7201a8\"], [0.3333333333333333, \"#9c179e\"], [0.4444444444444444, \"#bd3786\"], [0.5555555555555556, \"#d8576b\"], [0.6666666666666666, \"#ed7953\"], [0.7777777777777778, \"#fb9f3a\"], [0.8888888888888888, \"#fdca26\"], [1.0, \"#f0f921\"]], \"type\": \"contour\"}], \"contourcarpet\": [{\"colorbar\": {\"outlinewidth\": 0, \"ticks\": \"\"}, \"type\": \"contourcarpet\"}], \"heatmap\": [{\"colorbar\": {\"outlinewidth\": 0, \"ticks\": \"\"}, \"colorscale\": [[0.0, \"#0d0887\"], [0.1111111111111111, \"#46039f\"], [0.2222222222222222, \"#7201a8\"], [0.3333333333333333, \"#9c179e\"], [0.4444444444444444, \"#bd3786\"], [0.5555555555555556, \"#d8576b\"], [0.6666666666666666, \"#ed7953\"], [0.7777777777777778, \"#fb9f3a\"], [0.8888888888888888, \"#fdca26\"], [1.0, \"#f0f921\"]], \"type\": \"heatmap\"}], \"heatmapgl\": [{\"colorbar\": {\"outlinewidth\": 0, \"ticks\": \"\"}, \"colorscale\": [[0.0, \"#0d0887\"], [0.1111111111111111, \"#46039f\"], [0.2222222222222222, \"#7201a8\"], [0.3333333333333333, \"#9c179e\"], [0.4444444444444444, \"#bd3786\"], [0.5555555555555556, \"#d8576b\"], [0.6666666666666666, \"#ed7953\"], [0.7777777777777778, \"#fb9f3a\"], [0.8888888888888888, \"#fdca26\"], [1.0, \"#f0f921\"]], \"type\": \"heatmapgl\"}], \"histogram\": [{\"marker\": {\"colorbar\": {\"outlinewidth\": 0, \"ticks\": \"\"}}, \"type\": \"histogram\"}], \"histogram2d\": [{\"colorbar\": {\"outlinewidth\": 0, \"ticks\": \"\"}, \"colorscale\": [[0.0, \"#0d0887\"], [0.1111111111111111, \"#46039f\"], [0.2222222222222222, \"#7201a8\"], [0.3333333333333333, \"#9c179e\"], [0.4444444444444444, \"#bd3786\"], [0.5555555555555556, \"#d8576b\"], [0.6666666666666666, \"#ed7953\"], [0.7777777777777778, \"#fb9f3a\"], [0.8888888888888888, \"#fdca26\"], [1.0, \"#f0f921\"]], \"type\": \"histogram2d\"}], \"histogram2dcontour\": [{\"colorbar\": {\"outlinewidth\": 0, \"ticks\": \"\"}, \"colorscale\": [[0.0, \"#0d0887\"], [0.1111111111111111, \"#46039f\"], [0.2222222222222222, \"#7201a8\"], [0.3333333333333333, \"#9c179e\"], [0.4444444444444444, \"#bd3786\"], [0.5555555555555556, \"#d8576b\"], [0.6666666666666666, \"#ed7953\"], [0.7777777777777778, \"#fb9f3a\"], [0.8888888888888888, \"#fdca26\"], [1.0, \"#f0f921\"]], \"type\": \"histogram2dcontour\"}], \"mesh3d\": [{\"colorbar\": {\"outlinewidth\": 0, \"ticks\": \"\"}, \"type\": \"mesh3d\"}], \"parcoords\": [{\"line\": {\"colorbar\": {\"outlinewidth\": 0, \"ticks\": \"\"}}, \"type\": \"parcoords\"}], \"pie\": [{\"automargin\": true, \"type\": \"pie\"}], \"scatter\": [{\"marker\": {\"colorbar\": {\"outlinewidth\": 0, \"ticks\": \"\"}}, \"type\": \"scatter\"}], \"scatter3d\": [{\"line\": {\"colorbar\": {\"outlinewidth\": 0, \"ticks\": \"\"}}, \"marker\": {\"colorbar\": {\"outlinewidth\": 0, \"ticks\": \"\"}}, \"type\": \"scatter3d\"}], \"scattercarpet\": [{\"marker\": {\"colorbar\": {\"outlinewidth\": 0, \"ticks\": \"\"}}, \"type\": \"scattercarpet\"}], \"scattergeo\": [{\"marker\": {\"colorbar\": {\"outlinewidth\": 0, \"ticks\": \"\"}}, \"type\": \"scattergeo\"}], \"scattergl\": [{\"marker\": {\"colorbar\": {\"outlinewidth\": 0, \"ticks\": \"\"}}, \"type\": \"scattergl\"}], \"scattermapbox\": [{\"marker\": {\"colorbar\": {\"outlinewidth\": 0, \"ticks\": \"\"}}, \"type\": \"scattermapbox\"}], \"scatterpolar\": [{\"marker\": {\"colorbar\": {\"outlinewidth\": 0, \"ticks\": \"\"}}, \"type\": \"scatterpolar\"}], \"scatterpolargl\": [{\"marker\": {\"colorbar\": {\"outlinewidth\": 0, \"ticks\": \"\"}}, \"type\": \"scatterpolargl\"}], \"scatterternary\": [{\"marker\": {\"colorbar\": {\"outlinewidth\": 0, \"ticks\": \"\"}}, \"type\": \"scatterternary\"}], \"surface\": [{\"colorbar\": {\"outlinewidth\": 0, \"ticks\": \"\"}, \"colorscale\": [[0.0, \"#0d0887\"], [0.1111111111111111, \"#46039f\"], [0.2222222222222222, \"#7201a8\"], [0.3333333333333333, \"#9c179e\"], [0.4444444444444444, \"#bd3786\"], [0.5555555555555556, \"#d8576b\"], [0.6666666666666666, \"#ed7953\"], [0.7777777777777778, \"#fb9f3a\"], [0.8888888888888888, \"#fdca26\"], [1.0, \"#f0f921\"]], \"type\": \"surface\"}], \"table\": [{\"cells\": {\"fill\": {\"color\": \"#EBF0F8\"}, \"line\": {\"color\": \"white\"}}, \"header\": {\"fill\": {\"color\": \"#C8D4E3\"}, \"line\": {\"color\": \"white\"}}, \"type\": \"table\"}]}, \"layout\": {\"annotationdefaults\": {\"arrowcolor\": \"#2a3f5f\", \"arrowhead\": 0, \"arrowwidth\": 1}, \"coloraxis\": {\"colorbar\": {\"outlinewidth\": 0, \"ticks\": \"\"}}, \"colorscale\": {\"diverging\": [[0, \"#8e0152\"], [0.1, \"#c51b7d\"], [0.2, \"#de77ae\"], [0.3, \"#f1b6da\"], [0.4, \"#fde0ef\"], [0.5, \"#f7f7f7\"], [0.6, \"#e6f5d0\"], [0.7, \"#b8e186\"], [0.8, \"#7fbc41\"], [0.9, \"#4d9221\"], [1, \"#276419\"]], \"sequential\": [[0.0, \"#0d0887\"], [0.1111111111111111, \"#46039f\"], [0.2222222222222222, \"#7201a8\"], [0.3333333333333333, \"#9c179e\"], [0.4444444444444444, \"#bd3786\"], [0.5555555555555556, \"#d8576b\"], [0.6666666666666666, \"#ed7953\"], [0.7777777777777778, \"#fb9f3a\"], [0.8888888888888888, \"#fdca26\"], [1.0, \"#f0f921\"]], \"sequentialminus\": [[0.0, \"#0d0887\"], [0.1111111111111111, \"#46039f\"], [0.2222222222222222, \"#7201a8\"], [0.3333333333333333, \"#9c179e\"], [0.4444444444444444, \"#bd3786\"], [0.5555555555555556, \"#d8576b\"], [0.6666666666666666, \"#ed7953\"], [0.7777777777777778, \"#fb9f3a\"], [0.8888888888888888, \"#fdca26\"], [1.0, \"#f0f921\"]]}, \"colorway\": [\"#636efa\", \"#EF553B\", \"#00cc96\", \"#ab63fa\", \"#FFA15A\", \"#19d3f3\", \"#FF6692\", \"#B6E880\", \"#FF97FF\", \"#FECB52\"], \"font\": {\"color\": \"#2a3f5f\"}, \"geo\": {\"bgcolor\": \"white\", \"lakecolor\": \"white\", \"landcolor\": \"#E5ECF6\", \"showlakes\": true, \"showland\": true, \"subunitcolor\": \"white\"}, \"hoverlabel\": {\"align\": \"left\"}, \"hovermode\": \"closest\", \"mapbox\": {\"style\": \"light\"}, \"paper_bgcolor\": \"white\", \"plot_bgcolor\": \"#E5ECF6\", \"polar\": {\"angularaxis\": {\"gridcolor\": \"white\", \"linecolor\": \"white\", \"ticks\": \"\"}, \"bgcolor\": \"#E5ECF6\", \"radialaxis\": {\"gridcolor\": \"white\", \"linecolor\": \"white\", \"ticks\": \"\"}}, \"scene\": {\"xaxis\": {\"backgroundcolor\": \"#E5ECF6\", \"gridcolor\": \"white\", \"gridwidth\": 2, \"linecolor\": \"white\", \"showbackground\": true, \"ticks\": \"\", \"zerolinecolor\": \"white\"}, \"yaxis\": {\"backgroundcolor\": \"#E5ECF6\", \"gridcolor\": \"white\", \"gridwidth\": 2, \"linecolor\": \"white\", \"showbackground\": true, \"ticks\": \"\", \"zerolinecolor\": \"white\"}, \"zaxis\": {\"backgroundcolor\": \"#E5ECF6\", \"gridcolor\": \"white\", \"gridwidth\": 2, \"linecolor\": \"white\", \"showbackground\": true, \"ticks\": \"\", \"zerolinecolor\": \"white\"}}, \"shapedefaults\": {\"line\": {\"color\": \"#2a3f5f\"}}, \"ternary\": {\"aaxis\": {\"gridcolor\": \"white\", \"linecolor\": \"white\", \"ticks\": \"\"}, \"baxis\": {\"gridcolor\": \"white\", \"linecolor\": \"white\", \"ticks\": \"\"}, \"bgcolor\": \"#E5ECF6\", \"caxis\": {\"gridcolor\": \"white\", \"linecolor\": \"white\", \"ticks\": \"\"}}, \"title\": {\"x\": 0.05}, \"xaxis\": {\"automargin\": true, \"gridcolor\": \"white\", \"linecolor\": \"white\", \"ticks\": \"\", \"title\": {\"standoff\": 15}, \"zerolinecolor\": \"white\", \"zerolinewidth\": 2}, \"yaxis\": {\"automargin\": true, \"gridcolor\": \"white\", \"linecolor\": \"white\", \"ticks\": \"\", \"title\": {\"standoff\": 15}, \"zerolinecolor\": \"white\", \"zerolinewidth\": 2}}}, \"title\": {\"text\": \"Approved H1B Visa Distribution By State\"}, \"uniformtext\": {\"minsize\": 12}, \"width\": 700, \"xaxis\": {\"showgrid\": false, \"tickcolor\": \"#e0e5db\", \"tickfont\": {\"color\": \"#151515\"}, \"ticklen\": 12, \"ticks\": \"outside\", \"tickwidth\": 3, \"title\": {\"font\": {\"color\": \"#151515\"}, \"text\": \"% Share in Total Approved H1B Visas from 2009-2018\"}}, \"yaxis\": {\"dtick\": 1, \"tickangle\": 0, \"tickcolor\": \"#e0e5db\", \"tickfont\": {\"color\": \"#151515\", \"family\": \"Rockwell\", \"size\": 12}, \"ticklen\": 12, \"ticks\": \"outside\", \"tickwidth\": 3}},\n",
       "                        {\"responsive\": true}\n",
       "                    ).then(function(){\n",
       "                            \n",
       "var gd = document.getElementById('da233822-2459-4a24-82d0-511227fbc783');\n",
       "var x = new MutationObserver(function (mutations, observer) {{\n",
       "        var display = window.getComputedStyle(gd).display;\n",
       "        if (!display || display === 'none') {{\n",
       "            console.log([gd, 'removed!']);\n",
       "            Plotly.purge(gd);\n",
       "            observer.disconnect();\n",
       "        }}\n",
       "}});\n",
       "\n",
       "// Listen for the removal of the full notebook cells\n",
       "var notebookContainer = gd.closest('#notebook-container');\n",
       "if (notebookContainer) {{\n",
       "    x.observe(notebookContainer, {childList: true});\n",
       "}}\n",
       "\n",
       "// Listen for the clearing of the current output cell\n",
       "var outputEl = gd.closest('.output');\n",
       "if (outputEl) {{\n",
       "    x.observe(outputEl, {childList: true});\n",
       "}}\n",
       "\n",
       "                        })\n",
       "                };\n",
       "                });\n",
       "            </script>\n",
       "        </div>"
      ]
     },
     "metadata": {},
     "output_type": "display_data"
    }
   ],
   "source": [
    "import plotly.graph_objects as go\n",
    "y=[x  for  x in df13['percentage_total_visa'].iloc[::-1]]\n",
    "\n",
    "fig = go.Figure(data=[go.Bar(\n",
    "    y=[state_code2State[state] for state in df13['State'].iloc[::-1]],\n",
    "    x=[x  for  x in df13['percentage_total_visa'].iloc[::-1]],\n",
    "    width=.71,\n",
    "    orientation='h',\n",
    "    marker_color='#e4bd0b',\n",
    "    text=y,\n",
    "    textposition='outside',# marker color can be a single color value or an iterable\n",
    ")])\n",
    "fig.update_yaxes(tickangle = 360,tickfont=dict(family='Rockwell', color='#151515', size=12))\n",
    "fig.update_traces(marker_line_width=.5, opacity=0.9)\n",
    "fig.update_yaxes(dtick=1)\n",
    "fig.update_xaxes(ticks=\"outside\", tickwidth=3, tickcolor='#e0e5db', ticklen=12,showgrid=False)\n",
    "fig.update_yaxes(ticks=\"outside\", tickwidth=3, tickcolor='#e0e5db', ticklen=12)\n",
    "fig.update_layout(title=\"Approved H1B Visa Distribution By State\", \n",
    "                 legend=dict(x=.73,y=0.98, font_size=12), \n",
    "                 width=700,\n",
    "                 height=900,\n",
    "                 uniformtext_minsize=12,\n",
    "                 xaxis=dict(title=\"% Share in Total Approved H1B Visas from 2009-2018\",titlefont=dict(color=\"#151515\"),\n",
    "                            tickfont=dict(color=\"#151515\")),)\n",
    "fig.add_shape(\n",
    "        # Rectangle reference to the axes\n",
    "            type=\"rect\",\n",
    "            xref=\"paper\",\n",
    "            yref=\"paper\",\n",
    "            x0=0,\n",
    "            y0=.91,\n",
    "            x1=1.05,\n",
    "            y1=1,\n",
    "            line=dict(\n",
    "                color=\"#de3d83\",\n",
    "                width=2,\n",
    "            ),\n",
    "        )\n",
    "fig.add_annotation(\n",
    "            x=.46,\n",
    "            y=.90,\n",
    "            text=\"57%\",\n",
    "            font=dict(\n",
    "            family=\"Courier New, monospace\",\n",
    "            size=24,\n",
    "            color=\"#00b8b8\"\n",
    "            ),)\n",
    "fig.update_layout(\n",
    "    plot_bgcolor='rgba(0,0,0,0)'\n",
    ")\n",
    "fig.add_annotation(\n",
    "            x=.87,\n",
    "            y=.90,\n",
    "            text=\"of the Approved H1B Visas <br> comes from these 5 states\",\n",
    "            font=dict(\n",
    "            family=\"Arial\",\n",
    "            size=12,\n",
    "            color=\"#151515\"\n",
    "            ),)\n",
    "fig.update_annotations(dict(\n",
    "            xref=\"paper\",\n",
    "            yref=\"paper\",\n",
    "            showarrow=False,\n",
    "            arrowhead=7,\n",
    "            ax=50,\n",
    "            ay=50\n",
    "))"
   ]
  },
  {
   "cell_type": "markdown",
   "metadata": {},
   "source": [
    "### The difference in Denial Rates pre and post-2016 by State\n"
   ]
  },
  {
   "cell_type": "code",
   "execution_count": 544,
   "metadata": {},
   "outputs": [],
   "source": [
    "h1b_query8= ''' \n",
    "with h1b_table_by_state AS\n",
    "(\n",
    "select  \n",
    "h1b.State,   \n",
    "SUM(h1b.Initial_Approvals)  + SUM(h1b.Continuing_Approvals) AS approvals_pre_2016, \n",
    "SUM(h1b.Initial_Denials) + SUM(h1b.Continuing_Denials) AS denials_pre_2016,\n",
    "(CAST(SUM(h1b.Initial_Denials) AS REAL) + CAST(SUM(h1b.Continuing_Denials) AS REAL)) / (CAST(SUM(h1b.Initial_Denials) AS REAL) + CAST(SUM(h1b.Continuing_Denials) AS REAL)+CAST(SUM(h1b.Initial_Approvals) AS REAL) + CAST(SUM(h1b.Continuing_Approvals) AS REAL))*100 AS denial_pre_2016,\n",
    "h1b2.State,\n",
    "h1b2.approvals_post_2016, \n",
    "h1b2.denials_post_2016,\n",
    "h1b2.denial_post_2016\n",
    "\n",
    "from h1b LEFT JOIN (\n",
    "    select  \n",
    "       State,  \n",
    "       SUM(Initial_Approvals)  + SUM(Continuing_Approvals) AS approvals_post_2016, \n",
    "       SUM(Initial_Denials) + SUM(Continuing_Denials) AS denials_post_2016,\n",
    "       (CAST(SUM(Initial_Denials) AS REAL) + CAST(SUM(Continuing_Denials) AS REAL)) / (CAST(SUM(Initial_Denials) AS REAL) + CAST(SUM(Continuing_Denials) AS REAL)+CAST(SUM(Initial_Approvals) AS REAL) + CAST(SUM(Continuing_Approvals) AS REAL))*100 AS denial_post_2016,\n",
    "       Fiscal_Year\n",
    "       from h1b\n",
    "       where Fiscal_Year !='2019' and Fiscal_Year>2016\n",
    "       group by State\n",
    "\n",
    ") h1b2 ON h1b.State = h1b2.State\n",
    "where h1b.Fiscal_Year !='2019' and h1b.Fiscal_Year<=2016\n",
    "group by h1b.State\n",
    ")\n",
    "select \n",
    "hs.State,\n",
    "hs.approvals_pre_2016 ,\n",
    "hs.denials_pre_2016,\n",
    "hs.denial_pre_2016 AS denial_rate_pre_2016,\n",
    "hs.approvals_post_2016,\n",
    "hs.denials_post_2016,\n",
    "hs.denial_post_2016 AS denial_rate_post_2016,\n",
    "hs.denial_post_2016 - hs.denial_pre_2016 AS delta\n",
    "from h1b_table_by_state hs \n",
    "order by 2 desc\n",
    ";\n",
    "'''\n",
    "\n",
    "df8 = pd.read_sql_query(h1b_query8, conn)\n",
    "df8.set_index('State', inplace=True)\n",
    "df8 = df8.applymap(lambda x: round(x,2))\n",
    "\n",
    "df8=df8.reset_index()\n",
    "df8=df8.sort_values(by='delta',ascending=False)\n",
    "df8=df8.iloc[::-1]"
   ]
  },
  {
   "cell_type": "code",
   "execution_count": 541,
   "metadata": {},
   "outputs": [
    {
     "data": {
      "application/vnd.plotly.v1+json": {
       "config": {
        "plotlyServerURL": "https://plot.ly"
       },
       "data": [
        {
         "marker": {
          "color": [
           "#e4bd0b",
           "#e4bd0b",
           "#e4bd0b",
           "#e4bd0b",
           "#e4bd0b",
           "#de3d83",
           "#de3d83",
           "#de3d83",
           "#de3d83",
           "#de3d83",
           "#de3d83",
           "#de3d83",
           "#de3d83",
           "#de3d83",
           "#de3d83",
           "#de3d83",
           "#de3d83",
           "#de3d83",
           "#de3d83",
           "#de3d83",
           "#de3d83",
           "#de3d83",
           "#de3d83",
           "#de3d83",
           "#de3d83",
           "#de3d83",
           "#de3d83",
           "#de3d83",
           "#de3d83",
           "#de3d83",
           "#de3d83",
           "#de3d83",
           "#de3d83",
           "#de3d83",
           "#de3d83",
           "#de3d83",
           "#de3d83",
           "#de3d83",
           "#de3d83",
           "#de3d83",
           "#de3d83",
           "#de3d83",
           "#de3d83",
           "#de3d83",
           "#de3d83",
           "#de3d83",
           "#de3d83",
           "#de3d83",
           "#de3d83",
           "#de3d83",
           "#de3d83",
           "#de3d83",
           "#de3d83",
           "#de3d83",
           "#de3d83"
          ],
          "line": {
           "width": 0.5
          }
         },
         "opacity": 0.9,
         "orientation": "h",
         "type": "bar",
         "width": 0.51,
         "x": [
          -4.29,
          -3.91,
          -2.03,
          -0.79,
          -0.62,
          0.26,
          0.47,
          1.05,
          1.07,
          1.16,
          1.18,
          1.24,
          1.34,
          1.45,
          1.47,
          1.86,
          1.96,
          1.98,
          2.07,
          2.16,
          2.46,
          2.77,
          2.87,
          2.97,
          3.02,
          3.06,
          3.15,
          3.38,
          3.57,
          3.82,
          3.89,
          3.91,
          3.92,
          4.04,
          4.06,
          4.11,
          4.18,
          4.59,
          4.66,
          4.72,
          5.31,
          5.41,
          5.51,
          5.82,
          6.04,
          6.69,
          7.14,
          7.36,
          7.39,
          7.94,
          8,
          8.27,
          10.41,
          11.33,
          11.48
         ],
         "y": [
          "Maine",
          "Alaska",
          "Hawaii",
          "Arizona",
          "North Dakota",
          "South Dakota",
          "Mississippi",
          "Alabama",
          "Nevada",
          "Wyoming",
          "Maryland",
          "Vermont",
          "Guam",
          "Idaho",
          "Montana",
          "Washington",
          "Rhode Island",
          "West Virginia",
          "Tennessee",
          "Louisiana",
          "California",
          "Utah",
          "Colorado",
          "Nebraska",
          "Oklahoma",
          "Northern Marianas",
          "Minnesota",
          "District of Columbia",
          "Indiana",
          "Virgin Islands",
          "Delaware",
          "Kansas",
          "Pennsylvania",
          "Oregon",
          "Wisconsin",
          "New York",
          "Arkansas",
          "Kentucky",
          "Massachusetts",
          "New Hampshire",
          "Connecticut",
          "Missouri",
          "North Carolina",
          "Texas",
          "Ohio",
          "Michigan",
          "South Carolina",
          "Florida",
          "Virginia",
          "Iowa",
          "New Jersey",
          "Illinois",
          "Georgia",
          "Puerto Rico",
          "New Mexico"
         ]
        }
       ],
       "layout": {
        "height": 900,
        "legend": {
         "font": {
          "size": 12
         },
         "traceorder": "reversed",
         "x": 0.73,
         "y": 0.98
        },
        "plot_bgcolor": "rgba(0,0,0,0)",
        "template": {
         "data": {
          "bar": [
           {
            "error_x": {
             "color": "#2a3f5f"
            },
            "error_y": {
             "color": "#2a3f5f"
            },
            "marker": {
             "line": {
              "color": "#E5ECF6",
              "width": 0.5
             }
            },
            "type": "bar"
           }
          ],
          "barpolar": [
           {
            "marker": {
             "line": {
              "color": "#E5ECF6",
              "width": 0.5
             }
            },
            "type": "barpolar"
           }
          ],
          "carpet": [
           {
            "aaxis": {
             "endlinecolor": "#2a3f5f",
             "gridcolor": "white",
             "linecolor": "white",
             "minorgridcolor": "white",
             "startlinecolor": "#2a3f5f"
            },
            "baxis": {
             "endlinecolor": "#2a3f5f",
             "gridcolor": "white",
             "linecolor": "white",
             "minorgridcolor": "white",
             "startlinecolor": "#2a3f5f"
            },
            "type": "carpet"
           }
          ],
          "choropleth": [
           {
            "colorbar": {
             "outlinewidth": 0,
             "ticks": ""
            },
            "type": "choropleth"
           }
          ],
          "contour": [
           {
            "colorbar": {
             "outlinewidth": 0,
             "ticks": ""
            },
            "colorscale": [
             [
              0,
              "#0d0887"
             ],
             [
              0.1111111111111111,
              "#46039f"
             ],
             [
              0.2222222222222222,
              "#7201a8"
             ],
             [
              0.3333333333333333,
              "#9c179e"
             ],
             [
              0.4444444444444444,
              "#bd3786"
             ],
             [
              0.5555555555555556,
              "#d8576b"
             ],
             [
              0.6666666666666666,
              "#ed7953"
             ],
             [
              0.7777777777777778,
              "#fb9f3a"
             ],
             [
              0.8888888888888888,
              "#fdca26"
             ],
             [
              1,
              "#f0f921"
             ]
            ],
            "type": "contour"
           }
          ],
          "contourcarpet": [
           {
            "colorbar": {
             "outlinewidth": 0,
             "ticks": ""
            },
            "type": "contourcarpet"
           }
          ],
          "heatmap": [
           {
            "colorbar": {
             "outlinewidth": 0,
             "ticks": ""
            },
            "colorscale": [
             [
              0,
              "#0d0887"
             ],
             [
              0.1111111111111111,
              "#46039f"
             ],
             [
              0.2222222222222222,
              "#7201a8"
             ],
             [
              0.3333333333333333,
              "#9c179e"
             ],
             [
              0.4444444444444444,
              "#bd3786"
             ],
             [
              0.5555555555555556,
              "#d8576b"
             ],
             [
              0.6666666666666666,
              "#ed7953"
             ],
             [
              0.7777777777777778,
              "#fb9f3a"
             ],
             [
              0.8888888888888888,
              "#fdca26"
             ],
             [
              1,
              "#f0f921"
             ]
            ],
            "type": "heatmap"
           }
          ],
          "heatmapgl": [
           {
            "colorbar": {
             "outlinewidth": 0,
             "ticks": ""
            },
            "colorscale": [
             [
              0,
              "#0d0887"
             ],
             [
              0.1111111111111111,
              "#46039f"
             ],
             [
              0.2222222222222222,
              "#7201a8"
             ],
             [
              0.3333333333333333,
              "#9c179e"
             ],
             [
              0.4444444444444444,
              "#bd3786"
             ],
             [
              0.5555555555555556,
              "#d8576b"
             ],
             [
              0.6666666666666666,
              "#ed7953"
             ],
             [
              0.7777777777777778,
              "#fb9f3a"
             ],
             [
              0.8888888888888888,
              "#fdca26"
             ],
             [
              1,
              "#f0f921"
             ]
            ],
            "type": "heatmapgl"
           }
          ],
          "histogram": [
           {
            "marker": {
             "colorbar": {
              "outlinewidth": 0,
              "ticks": ""
             }
            },
            "type": "histogram"
           }
          ],
          "histogram2d": [
           {
            "colorbar": {
             "outlinewidth": 0,
             "ticks": ""
            },
            "colorscale": [
             [
              0,
              "#0d0887"
             ],
             [
              0.1111111111111111,
              "#46039f"
             ],
             [
              0.2222222222222222,
              "#7201a8"
             ],
             [
              0.3333333333333333,
              "#9c179e"
             ],
             [
              0.4444444444444444,
              "#bd3786"
             ],
             [
              0.5555555555555556,
              "#d8576b"
             ],
             [
              0.6666666666666666,
              "#ed7953"
             ],
             [
              0.7777777777777778,
              "#fb9f3a"
             ],
             [
              0.8888888888888888,
              "#fdca26"
             ],
             [
              1,
              "#f0f921"
             ]
            ],
            "type": "histogram2d"
           }
          ],
          "histogram2dcontour": [
           {
            "colorbar": {
             "outlinewidth": 0,
             "ticks": ""
            },
            "colorscale": [
             [
              0,
              "#0d0887"
             ],
             [
              0.1111111111111111,
              "#46039f"
             ],
             [
              0.2222222222222222,
              "#7201a8"
             ],
             [
              0.3333333333333333,
              "#9c179e"
             ],
             [
              0.4444444444444444,
              "#bd3786"
             ],
             [
              0.5555555555555556,
              "#d8576b"
             ],
             [
              0.6666666666666666,
              "#ed7953"
             ],
             [
              0.7777777777777778,
              "#fb9f3a"
             ],
             [
              0.8888888888888888,
              "#fdca26"
             ],
             [
              1,
              "#f0f921"
             ]
            ],
            "type": "histogram2dcontour"
           }
          ],
          "mesh3d": [
           {
            "colorbar": {
             "outlinewidth": 0,
             "ticks": ""
            },
            "type": "mesh3d"
           }
          ],
          "parcoords": [
           {
            "line": {
             "colorbar": {
              "outlinewidth": 0,
              "ticks": ""
             }
            },
            "type": "parcoords"
           }
          ],
          "pie": [
           {
            "automargin": true,
            "type": "pie"
           }
          ],
          "scatter": [
           {
            "marker": {
             "colorbar": {
              "outlinewidth": 0,
              "ticks": ""
             }
            },
            "type": "scatter"
           }
          ],
          "scatter3d": [
           {
            "line": {
             "colorbar": {
              "outlinewidth": 0,
              "ticks": ""
             }
            },
            "marker": {
             "colorbar": {
              "outlinewidth": 0,
              "ticks": ""
             }
            },
            "type": "scatter3d"
           }
          ],
          "scattercarpet": [
           {
            "marker": {
             "colorbar": {
              "outlinewidth": 0,
              "ticks": ""
             }
            },
            "type": "scattercarpet"
           }
          ],
          "scattergeo": [
           {
            "marker": {
             "colorbar": {
              "outlinewidth": 0,
              "ticks": ""
             }
            },
            "type": "scattergeo"
           }
          ],
          "scattergl": [
           {
            "marker": {
             "colorbar": {
              "outlinewidth": 0,
              "ticks": ""
             }
            },
            "type": "scattergl"
           }
          ],
          "scattermapbox": [
           {
            "marker": {
             "colorbar": {
              "outlinewidth": 0,
              "ticks": ""
             }
            },
            "type": "scattermapbox"
           }
          ],
          "scatterpolar": [
           {
            "marker": {
             "colorbar": {
              "outlinewidth": 0,
              "ticks": ""
             }
            },
            "type": "scatterpolar"
           }
          ],
          "scatterpolargl": [
           {
            "marker": {
             "colorbar": {
              "outlinewidth": 0,
              "ticks": ""
             }
            },
            "type": "scatterpolargl"
           }
          ],
          "scatterternary": [
           {
            "marker": {
             "colorbar": {
              "outlinewidth": 0,
              "ticks": ""
             }
            },
            "type": "scatterternary"
           }
          ],
          "surface": [
           {
            "colorbar": {
             "outlinewidth": 0,
             "ticks": ""
            },
            "colorscale": [
             [
              0,
              "#0d0887"
             ],
             [
              0.1111111111111111,
              "#46039f"
             ],
             [
              0.2222222222222222,
              "#7201a8"
             ],
             [
              0.3333333333333333,
              "#9c179e"
             ],
             [
              0.4444444444444444,
              "#bd3786"
             ],
             [
              0.5555555555555556,
              "#d8576b"
             ],
             [
              0.6666666666666666,
              "#ed7953"
             ],
             [
              0.7777777777777778,
              "#fb9f3a"
             ],
             [
              0.8888888888888888,
              "#fdca26"
             ],
             [
              1,
              "#f0f921"
             ]
            ],
            "type": "surface"
           }
          ],
          "table": [
           {
            "cells": {
             "fill": {
              "color": "#EBF0F8"
             },
             "line": {
              "color": "white"
             }
            },
            "header": {
             "fill": {
              "color": "#C8D4E3"
             },
             "line": {
              "color": "white"
             }
            },
            "type": "table"
           }
          ]
         },
         "layout": {
          "annotationdefaults": {
           "arrowcolor": "#2a3f5f",
           "arrowhead": 0,
           "arrowwidth": 1
          },
          "coloraxis": {
           "colorbar": {
            "outlinewidth": 0,
            "ticks": ""
           }
          },
          "colorscale": {
           "diverging": [
            [
             0,
             "#8e0152"
            ],
            [
             0.1,
             "#c51b7d"
            ],
            [
             0.2,
             "#de77ae"
            ],
            [
             0.3,
             "#f1b6da"
            ],
            [
             0.4,
             "#fde0ef"
            ],
            [
             0.5,
             "#f7f7f7"
            ],
            [
             0.6,
             "#e6f5d0"
            ],
            [
             0.7,
             "#b8e186"
            ],
            [
             0.8,
             "#7fbc41"
            ],
            [
             0.9,
             "#4d9221"
            ],
            [
             1,
             "#276419"
            ]
           ],
           "sequential": [
            [
             0,
             "#0d0887"
            ],
            [
             0.1111111111111111,
             "#46039f"
            ],
            [
             0.2222222222222222,
             "#7201a8"
            ],
            [
             0.3333333333333333,
             "#9c179e"
            ],
            [
             0.4444444444444444,
             "#bd3786"
            ],
            [
             0.5555555555555556,
             "#d8576b"
            ],
            [
             0.6666666666666666,
             "#ed7953"
            ],
            [
             0.7777777777777778,
             "#fb9f3a"
            ],
            [
             0.8888888888888888,
             "#fdca26"
            ],
            [
             1,
             "#f0f921"
            ]
           ],
           "sequentialminus": [
            [
             0,
             "#0d0887"
            ],
            [
             0.1111111111111111,
             "#46039f"
            ],
            [
             0.2222222222222222,
             "#7201a8"
            ],
            [
             0.3333333333333333,
             "#9c179e"
            ],
            [
             0.4444444444444444,
             "#bd3786"
            ],
            [
             0.5555555555555556,
             "#d8576b"
            ],
            [
             0.6666666666666666,
             "#ed7953"
            ],
            [
             0.7777777777777778,
             "#fb9f3a"
            ],
            [
             0.8888888888888888,
             "#fdca26"
            ],
            [
             1,
             "#f0f921"
            ]
           ]
          },
          "colorway": [
           "#636efa",
           "#EF553B",
           "#00cc96",
           "#ab63fa",
           "#FFA15A",
           "#19d3f3",
           "#FF6692",
           "#B6E880",
           "#FF97FF",
           "#FECB52"
          ],
          "font": {
           "color": "#2a3f5f"
          },
          "geo": {
           "bgcolor": "white",
           "lakecolor": "white",
           "landcolor": "#E5ECF6",
           "showlakes": true,
           "showland": true,
           "subunitcolor": "white"
          },
          "hoverlabel": {
           "align": "left"
          },
          "hovermode": "closest",
          "mapbox": {
           "style": "light"
          },
          "paper_bgcolor": "white",
          "plot_bgcolor": "#E5ECF6",
          "polar": {
           "angularaxis": {
            "gridcolor": "white",
            "linecolor": "white",
            "ticks": ""
           },
           "bgcolor": "#E5ECF6",
           "radialaxis": {
            "gridcolor": "white",
            "linecolor": "white",
            "ticks": ""
           }
          },
          "scene": {
           "xaxis": {
            "backgroundcolor": "#E5ECF6",
            "gridcolor": "white",
            "gridwidth": 2,
            "linecolor": "white",
            "showbackground": true,
            "ticks": "",
            "zerolinecolor": "white"
           },
           "yaxis": {
            "backgroundcolor": "#E5ECF6",
            "gridcolor": "white",
            "gridwidth": 2,
            "linecolor": "white",
            "showbackground": true,
            "ticks": "",
            "zerolinecolor": "white"
           },
           "zaxis": {
            "backgroundcolor": "#E5ECF6",
            "gridcolor": "white",
            "gridwidth": 2,
            "linecolor": "white",
            "showbackground": true,
            "ticks": "",
            "zerolinecolor": "white"
           }
          },
          "shapedefaults": {
           "line": {
            "color": "#2a3f5f"
           }
          },
          "ternary": {
           "aaxis": {
            "gridcolor": "white",
            "linecolor": "white",
            "ticks": ""
           },
           "baxis": {
            "gridcolor": "white",
            "linecolor": "white",
            "ticks": ""
           },
           "bgcolor": "#E5ECF6",
           "caxis": {
            "gridcolor": "white",
            "linecolor": "white",
            "ticks": ""
           }
          },
          "title": {
           "x": 0.05
          },
          "xaxis": {
           "automargin": true,
           "gridcolor": "white",
           "linecolor": "white",
           "ticks": "",
           "title": {
            "standoff": 15
           },
           "zerolinecolor": "white",
           "zerolinewidth": 2
          },
          "yaxis": {
           "automargin": true,
           "gridcolor": "white",
           "linecolor": "white",
           "ticks": "",
           "title": {
            "standoff": 15
           },
           "zerolinecolor": "white",
           "zerolinewidth": 2
          }
         }
        },
        "title": {
         "text": "Difference in Denial Rates pre and post 2016"
        },
        "uniformtext": {
         "minsize": 12,
         "mode": "hide"
        },
        "width": 605,
        "xaxis": {
         "dtick": 1,
         "showgrid": false,
         "tickcolor": "#e0e5db",
         "tickfont": {
          "color": "#151515"
         },
         "ticklen": 12,
         "ticks": "outside",
         "tickwidth": 3,
         "title": {
          "font": {
           "color": "#151515"
          },
          "text": "Denial Rate %"
         }
        },
        "yaxis": {
         "dtick": 1,
         "tickangle": 0,
         "tickcolor": "#e0e5db",
         "tickfont": {
          "color": "#151515",
          "family": "Rockwell",
          "size": 12
         },
         "ticklen": 12,
         "ticks": "outside",
         "tickwidth": 3
        }
       }
      },
      "text/html": [
       "<div>\n",
       "        \n",
       "        \n",
       "            <div id=\"e27d8971-6349-4f9f-8ff9-7a56e64fc430\" class=\"plotly-graph-div\" style=\"height:900px; width:605px;\"></div>\n",
       "            <script type=\"text/javascript\">\n",
       "                require([\"plotly\"], function(Plotly) {\n",
       "                    window.PLOTLYENV=window.PLOTLYENV || {};\n",
       "                    \n",
       "                if (document.getElementById(\"e27d8971-6349-4f9f-8ff9-7a56e64fc430\")) {\n",
       "                    Plotly.newPlot(\n",
       "                        'e27d8971-6349-4f9f-8ff9-7a56e64fc430',\n",
       "                        [{\"marker\": {\"color\": [\"#e4bd0b\", \"#e4bd0b\", \"#e4bd0b\", \"#e4bd0b\", \"#e4bd0b\", \"#de3d83\", \"#de3d83\", \"#de3d83\", \"#de3d83\", \"#de3d83\", \"#de3d83\", \"#de3d83\", \"#de3d83\", \"#de3d83\", \"#de3d83\", \"#de3d83\", \"#de3d83\", \"#de3d83\", \"#de3d83\", \"#de3d83\", \"#de3d83\", \"#de3d83\", \"#de3d83\", \"#de3d83\", \"#de3d83\", \"#de3d83\", \"#de3d83\", \"#de3d83\", \"#de3d83\", \"#de3d83\", \"#de3d83\", \"#de3d83\", \"#de3d83\", \"#de3d83\", \"#de3d83\", \"#de3d83\", \"#de3d83\", \"#de3d83\", \"#de3d83\", \"#de3d83\", \"#de3d83\", \"#de3d83\", \"#de3d83\", \"#de3d83\", \"#de3d83\", \"#de3d83\", \"#de3d83\", \"#de3d83\", \"#de3d83\", \"#de3d83\", \"#de3d83\", \"#de3d83\", \"#de3d83\", \"#de3d83\", \"#de3d83\"], \"line\": {\"width\": 0.5}}, \"opacity\": 0.9, \"orientation\": \"h\", \"type\": \"bar\", \"width\": 0.51, \"x\": [-4.29, -3.91, -2.03, -0.79, -0.62, 0.26, 0.47, 1.05, 1.07, 1.16, 1.18, 1.24, 1.34, 1.45, 1.47, 1.86, 1.96, 1.98, 2.07, 2.16, 2.46, 2.77, 2.87, 2.97, 3.02, 3.06, 3.15, 3.38, 3.57, 3.82, 3.89, 3.91, 3.92, 4.04, 4.06, 4.11, 4.18, 4.59, 4.66, 4.72, 5.31, 5.41, 5.51, 5.82, 6.04, 6.69, 7.14, 7.36, 7.39, 7.94, 8.0, 8.27, 10.41, 11.33, 11.48], \"y\": [\"Maine\", \"Alaska\", \"Hawaii\", \"Arizona\", \"North Dakota\", \"South Dakota\", \"Mississippi\", \"Alabama\", \"Nevada\", \"Wyoming\", \"Maryland\", \"Vermont\", \"Guam\", \"Idaho\", \"Montana\", \"Washington\", \"Rhode Island\", \"West Virginia\", \"Tennessee\", \"Louisiana\", \"California\", \"Utah\", \"Colorado\", \"Nebraska\", \"Oklahoma\", \"Northern Marianas\", \"Minnesota\", \"District of Columbia\", \"Indiana\", \"Virgin Islands\", \"Delaware\", \"Kansas\", \"Pennsylvania\", \"Oregon\", \"Wisconsin\", \"New York\", \"Arkansas\", \"Kentucky\", \"Massachusetts\", \"New Hampshire\", \"Connecticut\", \"Missouri\", \"North Carolina\", \"Texas\", \"Ohio\", \"Michigan\", \"South Carolina\", \"Florida\", \"Virginia\", \"Iowa\", \"New Jersey\", \"Illinois\", \"Georgia\", \"Puerto Rico\", \"New Mexico\"]}],\n",
       "                        {\"height\": 900, \"legend\": {\"font\": {\"size\": 12}, \"traceorder\": \"reversed\", \"x\": 0.73, \"y\": 0.98}, \"plot_bgcolor\": \"rgba(0,0,0,0)\", \"template\": {\"data\": {\"bar\": [{\"error_x\": {\"color\": \"#2a3f5f\"}, \"error_y\": {\"color\": \"#2a3f5f\"}, \"marker\": {\"line\": {\"color\": \"#E5ECF6\", \"width\": 0.5}}, \"type\": \"bar\"}], \"barpolar\": [{\"marker\": {\"line\": {\"color\": \"#E5ECF6\", \"width\": 0.5}}, \"type\": \"barpolar\"}], \"carpet\": [{\"aaxis\": {\"endlinecolor\": \"#2a3f5f\", \"gridcolor\": \"white\", \"linecolor\": \"white\", \"minorgridcolor\": \"white\", \"startlinecolor\": \"#2a3f5f\"}, \"baxis\": {\"endlinecolor\": \"#2a3f5f\", \"gridcolor\": \"white\", \"linecolor\": \"white\", \"minorgridcolor\": \"white\", \"startlinecolor\": \"#2a3f5f\"}, \"type\": \"carpet\"}], \"choropleth\": [{\"colorbar\": {\"outlinewidth\": 0, \"ticks\": \"\"}, \"type\": \"choropleth\"}], \"contour\": [{\"colorbar\": {\"outlinewidth\": 0, \"ticks\": \"\"}, \"colorscale\": [[0.0, \"#0d0887\"], [0.1111111111111111, \"#46039f\"], [0.2222222222222222, \"#7201a8\"], [0.3333333333333333, \"#9c179e\"], [0.4444444444444444, \"#bd3786\"], [0.5555555555555556, \"#d8576b\"], [0.6666666666666666, \"#ed7953\"], [0.7777777777777778, \"#fb9f3a\"], [0.8888888888888888, \"#fdca26\"], [1.0, \"#f0f921\"]], \"type\": \"contour\"}], \"contourcarpet\": [{\"colorbar\": {\"outlinewidth\": 0, \"ticks\": \"\"}, \"type\": \"contourcarpet\"}], \"heatmap\": [{\"colorbar\": {\"outlinewidth\": 0, \"ticks\": \"\"}, \"colorscale\": [[0.0, \"#0d0887\"], [0.1111111111111111, \"#46039f\"], [0.2222222222222222, \"#7201a8\"], [0.3333333333333333, \"#9c179e\"], [0.4444444444444444, \"#bd3786\"], [0.5555555555555556, \"#d8576b\"], [0.6666666666666666, \"#ed7953\"], [0.7777777777777778, \"#fb9f3a\"], [0.8888888888888888, \"#fdca26\"], [1.0, \"#f0f921\"]], \"type\": \"heatmap\"}], \"heatmapgl\": [{\"colorbar\": {\"outlinewidth\": 0, \"ticks\": \"\"}, \"colorscale\": [[0.0, \"#0d0887\"], [0.1111111111111111, \"#46039f\"], [0.2222222222222222, \"#7201a8\"], [0.3333333333333333, \"#9c179e\"], [0.4444444444444444, \"#bd3786\"], [0.5555555555555556, \"#d8576b\"], [0.6666666666666666, \"#ed7953\"], [0.7777777777777778, \"#fb9f3a\"], [0.8888888888888888, \"#fdca26\"], [1.0, \"#f0f921\"]], \"type\": \"heatmapgl\"}], \"histogram\": [{\"marker\": {\"colorbar\": {\"outlinewidth\": 0, \"ticks\": \"\"}}, \"type\": \"histogram\"}], \"histogram2d\": [{\"colorbar\": {\"outlinewidth\": 0, \"ticks\": \"\"}, \"colorscale\": [[0.0, \"#0d0887\"], [0.1111111111111111, \"#46039f\"], [0.2222222222222222, \"#7201a8\"], [0.3333333333333333, \"#9c179e\"], [0.4444444444444444, \"#bd3786\"], [0.5555555555555556, \"#d8576b\"], [0.6666666666666666, \"#ed7953\"], [0.7777777777777778, \"#fb9f3a\"], [0.8888888888888888, \"#fdca26\"], [1.0, \"#f0f921\"]], \"type\": \"histogram2d\"}], \"histogram2dcontour\": [{\"colorbar\": {\"outlinewidth\": 0, \"ticks\": \"\"}, \"colorscale\": [[0.0, \"#0d0887\"], [0.1111111111111111, \"#46039f\"], [0.2222222222222222, \"#7201a8\"], [0.3333333333333333, \"#9c179e\"], [0.4444444444444444, \"#bd3786\"], [0.5555555555555556, \"#d8576b\"], [0.6666666666666666, \"#ed7953\"], [0.7777777777777778, \"#fb9f3a\"], [0.8888888888888888, \"#fdca26\"], [1.0, \"#f0f921\"]], \"type\": \"histogram2dcontour\"}], \"mesh3d\": [{\"colorbar\": {\"outlinewidth\": 0, \"ticks\": \"\"}, \"type\": \"mesh3d\"}], \"parcoords\": [{\"line\": {\"colorbar\": {\"outlinewidth\": 0, \"ticks\": \"\"}}, \"type\": \"parcoords\"}], \"pie\": [{\"automargin\": true, \"type\": \"pie\"}], \"scatter\": [{\"marker\": {\"colorbar\": {\"outlinewidth\": 0, \"ticks\": \"\"}}, \"type\": \"scatter\"}], \"scatter3d\": [{\"line\": {\"colorbar\": {\"outlinewidth\": 0, \"ticks\": \"\"}}, \"marker\": {\"colorbar\": {\"outlinewidth\": 0, \"ticks\": \"\"}}, \"type\": \"scatter3d\"}], \"scattercarpet\": [{\"marker\": {\"colorbar\": {\"outlinewidth\": 0, \"ticks\": \"\"}}, \"type\": \"scattercarpet\"}], \"scattergeo\": [{\"marker\": {\"colorbar\": {\"outlinewidth\": 0, \"ticks\": \"\"}}, \"type\": \"scattergeo\"}], \"scattergl\": [{\"marker\": {\"colorbar\": {\"outlinewidth\": 0, \"ticks\": \"\"}}, \"type\": \"scattergl\"}], \"scattermapbox\": [{\"marker\": {\"colorbar\": {\"outlinewidth\": 0, \"ticks\": \"\"}}, \"type\": \"scattermapbox\"}], \"scatterpolar\": [{\"marker\": {\"colorbar\": {\"outlinewidth\": 0, \"ticks\": \"\"}}, \"type\": \"scatterpolar\"}], \"scatterpolargl\": [{\"marker\": {\"colorbar\": {\"outlinewidth\": 0, \"ticks\": \"\"}}, \"type\": \"scatterpolargl\"}], \"scatterternary\": [{\"marker\": {\"colorbar\": {\"outlinewidth\": 0, \"ticks\": \"\"}}, \"type\": \"scatterternary\"}], \"surface\": [{\"colorbar\": {\"outlinewidth\": 0, \"ticks\": \"\"}, \"colorscale\": [[0.0, \"#0d0887\"], [0.1111111111111111, \"#46039f\"], [0.2222222222222222, \"#7201a8\"], [0.3333333333333333, \"#9c179e\"], [0.4444444444444444, \"#bd3786\"], [0.5555555555555556, \"#d8576b\"], [0.6666666666666666, \"#ed7953\"], [0.7777777777777778, \"#fb9f3a\"], [0.8888888888888888, \"#fdca26\"], [1.0, \"#f0f921\"]], \"type\": \"surface\"}], \"table\": [{\"cells\": {\"fill\": {\"color\": \"#EBF0F8\"}, \"line\": {\"color\": \"white\"}}, \"header\": {\"fill\": {\"color\": \"#C8D4E3\"}, \"line\": {\"color\": \"white\"}}, \"type\": \"table\"}]}, \"layout\": {\"annotationdefaults\": {\"arrowcolor\": \"#2a3f5f\", \"arrowhead\": 0, \"arrowwidth\": 1}, \"coloraxis\": {\"colorbar\": {\"outlinewidth\": 0, \"ticks\": \"\"}}, \"colorscale\": {\"diverging\": [[0, \"#8e0152\"], [0.1, \"#c51b7d\"], [0.2, \"#de77ae\"], [0.3, \"#f1b6da\"], [0.4, \"#fde0ef\"], [0.5, \"#f7f7f7\"], [0.6, \"#e6f5d0\"], [0.7, \"#b8e186\"], [0.8, \"#7fbc41\"], [0.9, \"#4d9221\"], [1, \"#276419\"]], \"sequential\": [[0.0, \"#0d0887\"], [0.1111111111111111, \"#46039f\"], [0.2222222222222222, \"#7201a8\"], [0.3333333333333333, \"#9c179e\"], [0.4444444444444444, \"#bd3786\"], [0.5555555555555556, \"#d8576b\"], [0.6666666666666666, \"#ed7953\"], [0.7777777777777778, \"#fb9f3a\"], [0.8888888888888888, \"#fdca26\"], [1.0, \"#f0f921\"]], \"sequentialminus\": [[0.0, \"#0d0887\"], [0.1111111111111111, \"#46039f\"], [0.2222222222222222, \"#7201a8\"], [0.3333333333333333, \"#9c179e\"], [0.4444444444444444, \"#bd3786\"], [0.5555555555555556, \"#d8576b\"], [0.6666666666666666, \"#ed7953\"], [0.7777777777777778, \"#fb9f3a\"], [0.8888888888888888, \"#fdca26\"], [1.0, \"#f0f921\"]]}, \"colorway\": [\"#636efa\", \"#EF553B\", \"#00cc96\", \"#ab63fa\", \"#FFA15A\", \"#19d3f3\", \"#FF6692\", \"#B6E880\", \"#FF97FF\", \"#FECB52\"], \"font\": {\"color\": \"#2a3f5f\"}, \"geo\": {\"bgcolor\": \"white\", \"lakecolor\": \"white\", \"landcolor\": \"#E5ECF6\", \"showlakes\": true, \"showland\": true, \"subunitcolor\": \"white\"}, \"hoverlabel\": {\"align\": \"left\"}, \"hovermode\": \"closest\", \"mapbox\": {\"style\": \"light\"}, \"paper_bgcolor\": \"white\", \"plot_bgcolor\": \"#E5ECF6\", \"polar\": {\"angularaxis\": {\"gridcolor\": \"white\", \"linecolor\": \"white\", \"ticks\": \"\"}, \"bgcolor\": \"#E5ECF6\", \"radialaxis\": {\"gridcolor\": \"white\", \"linecolor\": \"white\", \"ticks\": \"\"}}, \"scene\": {\"xaxis\": {\"backgroundcolor\": \"#E5ECF6\", \"gridcolor\": \"white\", \"gridwidth\": 2, \"linecolor\": \"white\", \"showbackground\": true, \"ticks\": \"\", \"zerolinecolor\": \"white\"}, \"yaxis\": {\"backgroundcolor\": \"#E5ECF6\", \"gridcolor\": \"white\", \"gridwidth\": 2, \"linecolor\": \"white\", \"showbackground\": true, \"ticks\": \"\", \"zerolinecolor\": \"white\"}, \"zaxis\": {\"backgroundcolor\": \"#E5ECF6\", \"gridcolor\": \"white\", \"gridwidth\": 2, \"linecolor\": \"white\", \"showbackground\": true, \"ticks\": \"\", \"zerolinecolor\": \"white\"}}, \"shapedefaults\": {\"line\": {\"color\": \"#2a3f5f\"}}, \"ternary\": {\"aaxis\": {\"gridcolor\": \"white\", \"linecolor\": \"white\", \"ticks\": \"\"}, \"baxis\": {\"gridcolor\": \"white\", \"linecolor\": \"white\", \"ticks\": \"\"}, \"bgcolor\": \"#E5ECF6\", \"caxis\": {\"gridcolor\": \"white\", \"linecolor\": \"white\", \"ticks\": \"\"}}, \"title\": {\"x\": 0.05}, \"xaxis\": {\"automargin\": true, \"gridcolor\": \"white\", \"linecolor\": \"white\", \"ticks\": \"\", \"title\": {\"standoff\": 15}, \"zerolinecolor\": \"white\", \"zerolinewidth\": 2}, \"yaxis\": {\"automargin\": true, \"gridcolor\": \"white\", \"linecolor\": \"white\", \"ticks\": \"\", \"title\": {\"standoff\": 15}, \"zerolinecolor\": \"white\", \"zerolinewidth\": 2}}}, \"title\": {\"text\": \"Difference in Denial Rates pre and post 2016\"}, \"uniformtext\": {\"minsize\": 12, \"mode\": \"hide\"}, \"width\": 605, \"xaxis\": {\"dtick\": 1, \"showgrid\": false, \"tickcolor\": \"#e0e5db\", \"tickfont\": {\"color\": \"#151515\"}, \"ticklen\": 12, \"ticks\": \"outside\", \"tickwidth\": 3, \"title\": {\"font\": {\"color\": \"#151515\"}, \"text\": \"Denial Rate %\"}}, \"yaxis\": {\"dtick\": 1, \"tickangle\": 0, \"tickcolor\": \"#e0e5db\", \"tickfont\": {\"color\": \"#151515\", \"family\": \"Rockwell\", \"size\": 12}, \"ticklen\": 12, \"ticks\": \"outside\", \"tickwidth\": 3}},\n",
       "                        {\"responsive\": true}\n",
       "                    ).then(function(){\n",
       "                            \n",
       "var gd = document.getElementById('e27d8971-6349-4f9f-8ff9-7a56e64fc430');\n",
       "var x = new MutationObserver(function (mutations, observer) {{\n",
       "        var display = window.getComputedStyle(gd).display;\n",
       "        if (!display || display === 'none') {{\n",
       "            console.log([gd, 'removed!']);\n",
       "            Plotly.purge(gd);\n",
       "            observer.disconnect();\n",
       "        }}\n",
       "}});\n",
       "\n",
       "// Listen for the removal of the full notebook cells\n",
       "var notebookContainer = gd.closest('#notebook-container');\n",
       "if (notebookContainer) {{\n",
       "    x.observe(notebookContainer, {childList: true});\n",
       "}}\n",
       "\n",
       "// Listen for the clearing of the current output cell\n",
       "var outputEl = gd.closest('.output');\n",
       "if (outputEl) {{\n",
       "    x.observe(outputEl, {childList: true});\n",
       "}}\n",
       "\n",
       "                        })\n",
       "                };\n",
       "                });\n",
       "            </script>\n",
       "        </div>"
      ]
     },
     "metadata": {},
     "output_type": "display_data"
    }
   ],
   "source": [
    "import plotly.graph_objects as go\n",
    "\n",
    "colors  = ['#e4bd0b' if x < 0 else '#de3d83' for x in df8['delta']]\n",
    "fig = go.Figure(data=[go.Bar(\n",
    "    y=[state_code2State[x] for x in df8['State']],\n",
    "    x=[y for  y in df8['delta']],\n",
    "    width=.51,\n",
    "    orientation='h',\n",
    "    marker_color=colors # marker color can be a single color value or an iterable\n",
    ")])\n",
    "fig.update_layout(\n",
    "    plot_bgcolor='rgba(0,0,0,0)'\n",
    ")\n",
    "fig.update_yaxes(\n",
    "        tickangle = 360,\n",
    "        tickfont=dict(family='Rockwell', color='#2677bb', size=8))\n",
    "fig.update_yaxes(tickangle = 360,tickfont=dict(family='Rockwell', color='#151515', size=12))\n",
    "fig.update_traces(marker_line_width=.5, opacity=0.9)\n",
    "fig.update_yaxes(dtick=1)\n",
    "fig.update_xaxes(dtick=1,ticks=\"outside\", tickwidth=3, tickcolor='#e0e5db', ticklen=12,showgrid=False)\n",
    "fig.update_yaxes(ticks=\"outside\", tickwidth=3, tickcolor='#e0e5db', ticklen=12)\n",
    "fig.update_traces(marker_line_width=.5, opacity=0.9)\n",
    "fig.update_layout(title=\"Difference in Denial Rates pre and post 2016\", \n",
    "                 legend=dict(x=.73,y=0.98, traceorder='reversed', font_size=12), \n",
    "                 width=605,\n",
    "                 height=900,\n",
    "                 uniformtext_minsize=12,\n",
    "                 uniformtext_mode='hide',\n",
    "                 xaxis=dict(\n",
    "        title=\"Denial Rate %\",\n",
    "        titlefont=dict(\n",
    "            color=\"#151515\"\n",
    "        ),\n",
    "        tickfont=dict(\n",
    "            color=\"#151515\"\n",
    "        )\n",
    "    ),\n",
    "    )"
   ]
  },
  {
   "cell_type": "markdown",
   "metadata": {},
   "source": [
    "### How is the use of H1B Visas distributed among Employers?"
   ]
  },
  {
   "cell_type": "code",
   "execution_count": 545,
   "metadata": {},
   "outputs": [],
   "source": [
    "h1b_query21= ''' \n",
    "with h1b_table_by_state AS\n",
    "(\n",
    "select  \n",
    "h1b.Employer,   \n",
    "SUM(h1b.Initial_Approvals)  + SUM(h1b.Continuing_Approvals) AS approvals_pre_2016, \n",
    "SUM(h1b.Initial_Denials) + SUM(h1b.Continuing_Denials) AS denials_pre_2016,\n",
    "(CAST(SUM(h1b.Initial_Denials) AS REAL) + CAST(SUM(h1b.Continuing_Denials) AS REAL)) / (CAST(SUM(h1b.Initial_Denials) AS REAL) + CAST(SUM(h1b.Continuing_Denials) AS REAL)+CAST(SUM(h1b.Initial_Approvals) AS REAL) + CAST(SUM(h1b.Continuing_Approvals) AS REAL))*100 AS denial_pre_2016,\n",
    "h1b2.Employer,\n",
    "h1b2.approvals_post_2016, \n",
    "h1b2.denials_post_2016,\n",
    "h1b2.denial_post_2016\n",
    "\n",
    "from h1b LEFT JOIN (\n",
    "    select  \n",
    "       Employer,  \n",
    "       SUM(Initial_Approvals)  + SUM(Continuing_Approvals) AS approvals_post_2016, \n",
    "       SUM(Initial_Denials) + SUM(Continuing_Denials) AS denials_post_2016,\n",
    "       (CAST(SUM(Initial_Denials) AS REAL) + CAST(SUM(Continuing_Denials) AS REAL)) / (CAST(SUM(Initial_Denials) AS REAL) + CAST(SUM(Continuing_Denials) AS REAL)+CAST(SUM(Initial_Approvals) AS REAL) + CAST(SUM(Continuing_Approvals) AS REAL))*100 AS denial_post_2016,\n",
    "       Fiscal_Year\n",
    "       from h1b\n",
    "       where Fiscal_Year !='2019' and Fiscal_Year>2016\n",
    "       group by Employer\n",
    "\n",
    ") h1b2 ON h1b.Employer = h1b2.Employer\n",
    "where h1b.Fiscal_Year !='2019' and h1b.Fiscal_Year<=2016\n",
    "group by h1b.Employer\n",
    "having approvals_pre_2016 > 2000 and h1b2.approvals_post_2016>500\n",
    ")\n",
    "select \n",
    "hs.Employer,\n",
    "CASE WHEN hs.Employer IN (\"WAL-MART\",\"APPLE\",\"FACEBOOK\",\"AMAZON\",\"MICROSOFT\",\"GOOGLE\") THEN \"US COMPANIES\" ELSE \"INDIAN COMPANIES\" END AS COMPANY_ORIGIN,\n",
    "hs.denial_pre_2016 AS denial_rate_pre_2016,\n",
    "hs.denial_post_2016 AS denial_rate_post_2016,\n",
    "hs.denial_post_2016 - hs.denial_pre_2016 AS delta_denial_rates_pre_post2016\n",
    "from h1b_table_by_state hs \n",
    "where hs.Employer IN (\"WAL-MART\",\"APPLE\",\"FACEBOOK\",\"AMAZON\",\"MICROSOFT\",\"GOOGLE\", \"TATA\", \"ACCENTURE\", \"WIPRO\",\"CAPGEMINI\",\"MINDTREE\")\n",
    "order by 4 desc\n",
    "limit 15\n",
    ";\n",
    "'''\n",
    "\n",
    "df21 = pd.read_sql_query(h1b_query21, conn)\n",
    "df21[['denial_rate_pre_2016','denial_rate_post_2016','delta_denial_rates_pre_post2016']]=df21[['denial_rate_pre_2016','denial_rate_post_2016','delta_denial_rates_pre_post2016']].apply(lambda x: round(x,2))\n",
    "df21=df21.sort_values(by=['COMPANY_ORIGIN'])"
   ]
  },
  {
   "cell_type": "code",
   "execution_count": 549,
   "metadata": {},
   "outputs": [
    {
     "data": {
      "text/html": [
       "<div>\n",
       "<style scoped>\n",
       "    .dataframe tbody tr th:only-of-type {\n",
       "        vertical-align: middle;\n",
       "    }\n",
       "\n",
       "    .dataframe tbody tr th {\n",
       "        vertical-align: top;\n",
       "    }\n",
       "\n",
       "    .dataframe thead th {\n",
       "        text-align: right;\n",
       "    }\n",
       "</style>\n",
       "<table border=\"1\" class=\"dataframe\">\n",
       "  <thead>\n",
       "    <tr style=\"text-align: right;\">\n",
       "      <th></th>\n",
       "      <th>Employer</th>\n",
       "      <th>COMPANY_ORIGIN</th>\n",
       "      <th>denial_rate_pre_2016</th>\n",
       "      <th>denial_rate_post_2016</th>\n",
       "      <th>delta_denial_rates_pre_post2016</th>\n",
       "    </tr>\n",
       "  </thead>\n",
       "  <tbody>\n",
       "    <tr>\n",
       "      <th>10</th>\n",
       "      <td>FACEBOOK</td>\n",
       "      <td>US COMPANIES</td>\n",
       "      <td>0.46</td>\n",
       "      <td>0.73</td>\n",
       "      <td>0.27</td>\n",
       "    </tr>\n",
       "    <tr>\n",
       "      <th>9</th>\n",
       "      <td>APPLE</td>\n",
       "      <td>US COMPANIES</td>\n",
       "      <td>0.55</td>\n",
       "      <td>1.22</td>\n",
       "      <td>0.66</td>\n",
       "    </tr>\n",
       "    <tr>\n",
       "      <th>8</th>\n",
       "      <td>GOOGLE</td>\n",
       "      <td>US COMPANIES</td>\n",
       "      <td>0.40</td>\n",
       "      <td>1.35</td>\n",
       "      <td>0.95</td>\n",
       "    </tr>\n",
       "    <tr>\n",
       "      <th>7</th>\n",
       "      <td>MICROSOFT</td>\n",
       "      <td>US COMPANIES</td>\n",
       "      <td>1.03</td>\n",
       "      <td>1.72</td>\n",
       "      <td>0.69</td>\n",
       "    </tr>\n",
       "    <tr>\n",
       "      <th>6</th>\n",
       "      <td>AMAZON</td>\n",
       "      <td>US COMPANIES</td>\n",
       "      <td>0.85</td>\n",
       "      <td>1.84</td>\n",
       "      <td>0.99</td>\n",
       "    </tr>\n",
       "    <tr>\n",
       "      <th>5</th>\n",
       "      <td>TATA</td>\n",
       "      <td>INDIAN COMPANIES</td>\n",
       "      <td>5.16</td>\n",
       "      <td>4.52</td>\n",
       "      <td>-0.63</td>\n",
       "    </tr>\n",
       "    <tr>\n",
       "      <th>4</th>\n",
       "      <td>WAL-MART</td>\n",
       "      <td>US COMPANIES</td>\n",
       "      <td>1.26</td>\n",
       "      <td>6.20</td>\n",
       "      <td>4.94</td>\n",
       "    </tr>\n",
       "    <tr>\n",
       "      <th>3</th>\n",
       "      <td>ACCENTURE</td>\n",
       "      <td>INDIAN COMPANIES</td>\n",
       "      <td>2.28</td>\n",
       "      <td>8.93</td>\n",
       "      <td>6.65</td>\n",
       "    </tr>\n",
       "    <tr>\n",
       "      <th>2</th>\n",
       "      <td>WIPRO</td>\n",
       "      <td>INDIAN COMPANIES</td>\n",
       "      <td>4.67</td>\n",
       "      <td>9.66</td>\n",
       "      <td>4.99</td>\n",
       "    </tr>\n",
       "    <tr>\n",
       "      <th>1</th>\n",
       "      <td>MINDTREE</td>\n",
       "      <td>INDIAN COMPANIES</td>\n",
       "      <td>3.12</td>\n",
       "      <td>10.40</td>\n",
       "      <td>7.29</td>\n",
       "    </tr>\n",
       "    <tr>\n",
       "      <th>0</th>\n",
       "      <td>CAPGEMINI</td>\n",
       "      <td>INDIAN COMPANIES</td>\n",
       "      <td>4.46</td>\n",
       "      <td>25.08</td>\n",
       "      <td>20.61</td>\n",
       "    </tr>\n",
       "  </tbody>\n",
       "</table>\n",
       "</div>"
      ],
      "text/plain": [
       "     Employer    COMPANY_ORIGIN  denial_rate_pre_2016  denial_rate_post_2016  delta_denial_rates_pre_post2016\n",
       "10   FACEBOOK      US COMPANIES                  0.46                   0.73                             0.27\n",
       "9       APPLE      US COMPANIES                  0.55                   1.22                             0.66\n",
       "8      GOOGLE      US COMPANIES                  0.40                   1.35                             0.95\n",
       "7   MICROSOFT      US COMPANIES                  1.03                   1.72                             0.69\n",
       "6      AMAZON      US COMPANIES                  0.85                   1.84                             0.99\n",
       "5        TATA  INDIAN COMPANIES                  5.16                   4.52                            -0.63\n",
       "4    WAL-MART      US COMPANIES                  1.26                   6.20                             4.94\n",
       "3   ACCENTURE  INDIAN COMPANIES                  2.28                   8.93                             6.65\n",
       "2       WIPRO  INDIAN COMPANIES                  4.67                   9.66                             4.99\n",
       "1    MINDTREE  INDIAN COMPANIES                  3.12                  10.40                             7.29\n",
       "0   CAPGEMINI  INDIAN COMPANIES                  4.46                  25.08                            20.61"
      ]
     },
     "execution_count": 549,
     "metadata": {},
     "output_type": "execute_result"
    }
   ],
   "source": [
    "df21"
   ]
  },
  {
   "cell_type": "code",
   "execution_count": 548,
   "metadata": {},
   "outputs": [
    {
     "data": {
      "text/plain": [
       "COMPANY_ORIGIN\n",
       "INDIAN COMPANIES    7.782000\n",
       "US COMPANIES        1.416667\n",
       "Name: delta_denial_rates_pre_post2016, dtype: float64"
      ]
     },
     "execution_count": 548,
     "metadata": {},
     "output_type": "execute_result"
    }
   ],
   "source": [
    "df21.groupby('COMPANY_ORIGIN').mean()['delta_denial_rates_pre_post2016']"
   ]
  },
  {
   "cell_type": "code",
   "execution_count": 546,
   "metadata": {},
   "outputs": [],
   "source": [
    "df21=df21.sort_values(by=['denial_rate_post_2016'], ascending=True)\n",
    "def denial_plot(full_frame):\n",
    "\n",
    "  fig = go.Figure()\n",
    "  y1=[str(x)  for  x in df21['denial_rate_pre_2016']]\n",
    "  y2=[str(x)  for  x in df21['denial_rate_post_2016']]\n",
    "  #fig.add_trace(go.Bar(x=df20.Fiscal_Year , y=df20.Approvals, mode='markers+lines', name='JOB TIME', line=dict(color='#e4bd0b', width=2)))\n",
    "  fig.add_trace(go.Bar(y=[x for x in df21.Employer] , x=df21.denial_rate_pre_2016,marker_color='#00b8b8',orientation='h', name='Denial Rate Pre 2016', text=y1,\n",
    "    textposition='outside'))\n",
    "  fig.add_trace(go.Bar(y=[x for x in df21.Employer] , x=df21.denial_rate_post_2016,marker_color='#e4bd0b',orientation='h', name='Denial Rate Post 2016',text=y2,\n",
    "    textposition='outside'))\n",
    "  #fig.add_trace(go.Scatter(x=[x for x in df20.Fiscal_Year], y=df20.Denials, mode='lines', name='Count of Denials', yaxis=\"y2\", line=dict(color='#bfbabe', width=4)))\n",
    "  fig.update_layout(\n",
    "    plot_bgcolor='rgba(0,0,0,0)'\n",
    ")\n",
    "  fig.update_xaxes(\n",
    "        tickangle = 0,\n",
    "        tickfont=dict(family='Rockwell', color='#151515', size=16))\n",
    "\n",
    "  fig.update_xaxes(\n",
    "    dtick=2, showgrid=False\n",
    ")\n",
    "  fig.update_yaxes(\n",
    "    dtick=1,showgrid=False\n",
    ")\n",
    "  fig.update_yaxes(ticks=\"outside\", tickwidth=3, tickcolor='#e0e5db', ticklen=12)\n",
    "  fig.update_layout(title=\"Denial Rates Indian IT Companies Vs US TechGiants\", \n",
    "                 legend=dict(x=.73,y=0.78, traceorder='reversed', font_size=12), \n",
    "                 width=600,\n",
    "                 height=600,\n",
    "                 uniformtext_minsize=12,\n",
    "                 yaxis=dict(\n",
    "        title=\"\",\n",
    "        titlefont=dict(\n",
    "            color=\"#151515\"\n",
    "        ),\n",
    "        tickfont=dict(\n",
    "            color=\"#151515\"\n",
    "        )\n",
    "    ),\n",
    "                  xaxis=dict(title=\"% Denial Rate\",titlefont=dict(color=\"#151515\"),\n",
    "                            tickfont=dict(color=\"#151515\")),)\n",
    "\n",
    "\n",
    "  return fig.show()"
   ]
  },
  {
   "cell_type": "code",
   "execution_count": 547,
   "metadata": {},
   "outputs": [
    {
     "data": {
      "application/vnd.plotly.v1+json": {
       "config": {
        "plotlyServerURL": "https://plot.ly"
       },
       "data": [
        {
         "marker": {
          "color": "#00b8b8"
         },
         "name": "Denial Rate Pre 2016",
         "orientation": "h",
         "text": [
          "0.46",
          "0.55",
          "0.4",
          "1.03",
          "0.85",
          "5.16",
          "1.26",
          "2.28",
          "4.67",
          "3.12",
          "4.46"
         ],
         "textposition": "outside",
         "type": "bar",
         "x": [
          0.46,
          0.55,
          0.4,
          1.03,
          0.85,
          5.16,
          1.26,
          2.28,
          4.67,
          3.12,
          4.46
         ],
         "y": [
          "FACEBOOK",
          "APPLE",
          "GOOGLE",
          "MICROSOFT",
          "AMAZON",
          "TATA",
          "WAL-MART",
          "ACCENTURE",
          "WIPRO",
          "MINDTREE",
          "CAPGEMINI"
         ]
        },
        {
         "marker": {
          "color": "#e4bd0b"
         },
         "name": "Denial Rate Post 2016",
         "orientation": "h",
         "text": [
          "0.73",
          "1.22",
          "1.35",
          "1.72",
          "1.84",
          "4.52",
          "6.2",
          "8.93",
          "9.66",
          "10.4",
          "25.08"
         ],
         "textposition": "outside",
         "type": "bar",
         "x": [
          0.73,
          1.22,
          1.35,
          1.72,
          1.84,
          4.52,
          6.2,
          8.93,
          9.66,
          10.4,
          25.08
         ],
         "y": [
          "FACEBOOK",
          "APPLE",
          "GOOGLE",
          "MICROSOFT",
          "AMAZON",
          "TATA",
          "WAL-MART",
          "ACCENTURE",
          "WIPRO",
          "MINDTREE",
          "CAPGEMINI"
         ]
        }
       ],
       "layout": {
        "height": 600,
        "legend": {
         "font": {
          "size": 12
         },
         "traceorder": "reversed",
         "x": 0.73,
         "y": 0.78
        },
        "plot_bgcolor": "rgba(0,0,0,0)",
        "template": {
         "data": {
          "bar": [
           {
            "error_x": {
             "color": "#2a3f5f"
            },
            "error_y": {
             "color": "#2a3f5f"
            },
            "marker": {
             "line": {
              "color": "#E5ECF6",
              "width": 0.5
             }
            },
            "type": "bar"
           }
          ],
          "barpolar": [
           {
            "marker": {
             "line": {
              "color": "#E5ECF6",
              "width": 0.5
             }
            },
            "type": "barpolar"
           }
          ],
          "carpet": [
           {
            "aaxis": {
             "endlinecolor": "#2a3f5f",
             "gridcolor": "white",
             "linecolor": "white",
             "minorgridcolor": "white",
             "startlinecolor": "#2a3f5f"
            },
            "baxis": {
             "endlinecolor": "#2a3f5f",
             "gridcolor": "white",
             "linecolor": "white",
             "minorgridcolor": "white",
             "startlinecolor": "#2a3f5f"
            },
            "type": "carpet"
           }
          ],
          "choropleth": [
           {
            "colorbar": {
             "outlinewidth": 0,
             "ticks": ""
            },
            "type": "choropleth"
           }
          ],
          "contour": [
           {
            "colorbar": {
             "outlinewidth": 0,
             "ticks": ""
            },
            "colorscale": [
             [
              0,
              "#0d0887"
             ],
             [
              0.1111111111111111,
              "#46039f"
             ],
             [
              0.2222222222222222,
              "#7201a8"
             ],
             [
              0.3333333333333333,
              "#9c179e"
             ],
             [
              0.4444444444444444,
              "#bd3786"
             ],
             [
              0.5555555555555556,
              "#d8576b"
             ],
             [
              0.6666666666666666,
              "#ed7953"
             ],
             [
              0.7777777777777778,
              "#fb9f3a"
             ],
             [
              0.8888888888888888,
              "#fdca26"
             ],
             [
              1,
              "#f0f921"
             ]
            ],
            "type": "contour"
           }
          ],
          "contourcarpet": [
           {
            "colorbar": {
             "outlinewidth": 0,
             "ticks": ""
            },
            "type": "contourcarpet"
           }
          ],
          "heatmap": [
           {
            "colorbar": {
             "outlinewidth": 0,
             "ticks": ""
            },
            "colorscale": [
             [
              0,
              "#0d0887"
             ],
             [
              0.1111111111111111,
              "#46039f"
             ],
             [
              0.2222222222222222,
              "#7201a8"
             ],
             [
              0.3333333333333333,
              "#9c179e"
             ],
             [
              0.4444444444444444,
              "#bd3786"
             ],
             [
              0.5555555555555556,
              "#d8576b"
             ],
             [
              0.6666666666666666,
              "#ed7953"
             ],
             [
              0.7777777777777778,
              "#fb9f3a"
             ],
             [
              0.8888888888888888,
              "#fdca26"
             ],
             [
              1,
              "#f0f921"
             ]
            ],
            "type": "heatmap"
           }
          ],
          "heatmapgl": [
           {
            "colorbar": {
             "outlinewidth": 0,
             "ticks": ""
            },
            "colorscale": [
             [
              0,
              "#0d0887"
             ],
             [
              0.1111111111111111,
              "#46039f"
             ],
             [
              0.2222222222222222,
              "#7201a8"
             ],
             [
              0.3333333333333333,
              "#9c179e"
             ],
             [
              0.4444444444444444,
              "#bd3786"
             ],
             [
              0.5555555555555556,
              "#d8576b"
             ],
             [
              0.6666666666666666,
              "#ed7953"
             ],
             [
              0.7777777777777778,
              "#fb9f3a"
             ],
             [
              0.8888888888888888,
              "#fdca26"
             ],
             [
              1,
              "#f0f921"
             ]
            ],
            "type": "heatmapgl"
           }
          ],
          "histogram": [
           {
            "marker": {
             "colorbar": {
              "outlinewidth": 0,
              "ticks": ""
             }
            },
            "type": "histogram"
           }
          ],
          "histogram2d": [
           {
            "colorbar": {
             "outlinewidth": 0,
             "ticks": ""
            },
            "colorscale": [
             [
              0,
              "#0d0887"
             ],
             [
              0.1111111111111111,
              "#46039f"
             ],
             [
              0.2222222222222222,
              "#7201a8"
             ],
             [
              0.3333333333333333,
              "#9c179e"
             ],
             [
              0.4444444444444444,
              "#bd3786"
             ],
             [
              0.5555555555555556,
              "#d8576b"
             ],
             [
              0.6666666666666666,
              "#ed7953"
             ],
             [
              0.7777777777777778,
              "#fb9f3a"
             ],
             [
              0.8888888888888888,
              "#fdca26"
             ],
             [
              1,
              "#f0f921"
             ]
            ],
            "type": "histogram2d"
           }
          ],
          "histogram2dcontour": [
           {
            "colorbar": {
             "outlinewidth": 0,
             "ticks": ""
            },
            "colorscale": [
             [
              0,
              "#0d0887"
             ],
             [
              0.1111111111111111,
              "#46039f"
             ],
             [
              0.2222222222222222,
              "#7201a8"
             ],
             [
              0.3333333333333333,
              "#9c179e"
             ],
             [
              0.4444444444444444,
              "#bd3786"
             ],
             [
              0.5555555555555556,
              "#d8576b"
             ],
             [
              0.6666666666666666,
              "#ed7953"
             ],
             [
              0.7777777777777778,
              "#fb9f3a"
             ],
             [
              0.8888888888888888,
              "#fdca26"
             ],
             [
              1,
              "#f0f921"
             ]
            ],
            "type": "histogram2dcontour"
           }
          ],
          "mesh3d": [
           {
            "colorbar": {
             "outlinewidth": 0,
             "ticks": ""
            },
            "type": "mesh3d"
           }
          ],
          "parcoords": [
           {
            "line": {
             "colorbar": {
              "outlinewidth": 0,
              "ticks": ""
             }
            },
            "type": "parcoords"
           }
          ],
          "pie": [
           {
            "automargin": true,
            "type": "pie"
           }
          ],
          "scatter": [
           {
            "marker": {
             "colorbar": {
              "outlinewidth": 0,
              "ticks": ""
             }
            },
            "type": "scatter"
           }
          ],
          "scatter3d": [
           {
            "line": {
             "colorbar": {
              "outlinewidth": 0,
              "ticks": ""
             }
            },
            "marker": {
             "colorbar": {
              "outlinewidth": 0,
              "ticks": ""
             }
            },
            "type": "scatter3d"
           }
          ],
          "scattercarpet": [
           {
            "marker": {
             "colorbar": {
              "outlinewidth": 0,
              "ticks": ""
             }
            },
            "type": "scattercarpet"
           }
          ],
          "scattergeo": [
           {
            "marker": {
             "colorbar": {
              "outlinewidth": 0,
              "ticks": ""
             }
            },
            "type": "scattergeo"
           }
          ],
          "scattergl": [
           {
            "marker": {
             "colorbar": {
              "outlinewidth": 0,
              "ticks": ""
             }
            },
            "type": "scattergl"
           }
          ],
          "scattermapbox": [
           {
            "marker": {
             "colorbar": {
              "outlinewidth": 0,
              "ticks": ""
             }
            },
            "type": "scattermapbox"
           }
          ],
          "scatterpolar": [
           {
            "marker": {
             "colorbar": {
              "outlinewidth": 0,
              "ticks": ""
             }
            },
            "type": "scatterpolar"
           }
          ],
          "scatterpolargl": [
           {
            "marker": {
             "colorbar": {
              "outlinewidth": 0,
              "ticks": ""
             }
            },
            "type": "scatterpolargl"
           }
          ],
          "scatterternary": [
           {
            "marker": {
             "colorbar": {
              "outlinewidth": 0,
              "ticks": ""
             }
            },
            "type": "scatterternary"
           }
          ],
          "surface": [
           {
            "colorbar": {
             "outlinewidth": 0,
             "ticks": ""
            },
            "colorscale": [
             [
              0,
              "#0d0887"
             ],
             [
              0.1111111111111111,
              "#46039f"
             ],
             [
              0.2222222222222222,
              "#7201a8"
             ],
             [
              0.3333333333333333,
              "#9c179e"
             ],
             [
              0.4444444444444444,
              "#bd3786"
             ],
             [
              0.5555555555555556,
              "#d8576b"
             ],
             [
              0.6666666666666666,
              "#ed7953"
             ],
             [
              0.7777777777777778,
              "#fb9f3a"
             ],
             [
              0.8888888888888888,
              "#fdca26"
             ],
             [
              1,
              "#f0f921"
             ]
            ],
            "type": "surface"
           }
          ],
          "table": [
           {
            "cells": {
             "fill": {
              "color": "#EBF0F8"
             },
             "line": {
              "color": "white"
             }
            },
            "header": {
             "fill": {
              "color": "#C8D4E3"
             },
             "line": {
              "color": "white"
             }
            },
            "type": "table"
           }
          ]
         },
         "layout": {
          "annotationdefaults": {
           "arrowcolor": "#2a3f5f",
           "arrowhead": 0,
           "arrowwidth": 1
          },
          "coloraxis": {
           "colorbar": {
            "outlinewidth": 0,
            "ticks": ""
           }
          },
          "colorscale": {
           "diverging": [
            [
             0,
             "#8e0152"
            ],
            [
             0.1,
             "#c51b7d"
            ],
            [
             0.2,
             "#de77ae"
            ],
            [
             0.3,
             "#f1b6da"
            ],
            [
             0.4,
             "#fde0ef"
            ],
            [
             0.5,
             "#f7f7f7"
            ],
            [
             0.6,
             "#e6f5d0"
            ],
            [
             0.7,
             "#b8e186"
            ],
            [
             0.8,
             "#7fbc41"
            ],
            [
             0.9,
             "#4d9221"
            ],
            [
             1,
             "#276419"
            ]
           ],
           "sequential": [
            [
             0,
             "#0d0887"
            ],
            [
             0.1111111111111111,
             "#46039f"
            ],
            [
             0.2222222222222222,
             "#7201a8"
            ],
            [
             0.3333333333333333,
             "#9c179e"
            ],
            [
             0.4444444444444444,
             "#bd3786"
            ],
            [
             0.5555555555555556,
             "#d8576b"
            ],
            [
             0.6666666666666666,
             "#ed7953"
            ],
            [
             0.7777777777777778,
             "#fb9f3a"
            ],
            [
             0.8888888888888888,
             "#fdca26"
            ],
            [
             1,
             "#f0f921"
            ]
           ],
           "sequentialminus": [
            [
             0,
             "#0d0887"
            ],
            [
             0.1111111111111111,
             "#46039f"
            ],
            [
             0.2222222222222222,
             "#7201a8"
            ],
            [
             0.3333333333333333,
             "#9c179e"
            ],
            [
             0.4444444444444444,
             "#bd3786"
            ],
            [
             0.5555555555555556,
             "#d8576b"
            ],
            [
             0.6666666666666666,
             "#ed7953"
            ],
            [
             0.7777777777777778,
             "#fb9f3a"
            ],
            [
             0.8888888888888888,
             "#fdca26"
            ],
            [
             1,
             "#f0f921"
            ]
           ]
          },
          "colorway": [
           "#636efa",
           "#EF553B",
           "#00cc96",
           "#ab63fa",
           "#FFA15A",
           "#19d3f3",
           "#FF6692",
           "#B6E880",
           "#FF97FF",
           "#FECB52"
          ],
          "font": {
           "color": "#2a3f5f"
          },
          "geo": {
           "bgcolor": "white",
           "lakecolor": "white",
           "landcolor": "#E5ECF6",
           "showlakes": true,
           "showland": true,
           "subunitcolor": "white"
          },
          "hoverlabel": {
           "align": "left"
          },
          "hovermode": "closest",
          "mapbox": {
           "style": "light"
          },
          "paper_bgcolor": "white",
          "plot_bgcolor": "#E5ECF6",
          "polar": {
           "angularaxis": {
            "gridcolor": "white",
            "linecolor": "white",
            "ticks": ""
           },
           "bgcolor": "#E5ECF6",
           "radialaxis": {
            "gridcolor": "white",
            "linecolor": "white",
            "ticks": ""
           }
          },
          "scene": {
           "xaxis": {
            "backgroundcolor": "#E5ECF6",
            "gridcolor": "white",
            "gridwidth": 2,
            "linecolor": "white",
            "showbackground": true,
            "ticks": "",
            "zerolinecolor": "white"
           },
           "yaxis": {
            "backgroundcolor": "#E5ECF6",
            "gridcolor": "white",
            "gridwidth": 2,
            "linecolor": "white",
            "showbackground": true,
            "ticks": "",
            "zerolinecolor": "white"
           },
           "zaxis": {
            "backgroundcolor": "#E5ECF6",
            "gridcolor": "white",
            "gridwidth": 2,
            "linecolor": "white",
            "showbackground": true,
            "ticks": "",
            "zerolinecolor": "white"
           }
          },
          "shapedefaults": {
           "line": {
            "color": "#2a3f5f"
           }
          },
          "ternary": {
           "aaxis": {
            "gridcolor": "white",
            "linecolor": "white",
            "ticks": ""
           },
           "baxis": {
            "gridcolor": "white",
            "linecolor": "white",
            "ticks": ""
           },
           "bgcolor": "#E5ECF6",
           "caxis": {
            "gridcolor": "white",
            "linecolor": "white",
            "ticks": ""
           }
          },
          "title": {
           "x": 0.05
          },
          "xaxis": {
           "automargin": true,
           "gridcolor": "white",
           "linecolor": "white",
           "ticks": "",
           "title": {
            "standoff": 15
           },
           "zerolinecolor": "white",
           "zerolinewidth": 2
          },
          "yaxis": {
           "automargin": true,
           "gridcolor": "white",
           "linecolor": "white",
           "ticks": "",
           "title": {
            "standoff": 15
           },
           "zerolinecolor": "white",
           "zerolinewidth": 2
          }
         }
        },
        "title": {
         "text": "Denial Rates Indian IT Companies Vs US TechGiants"
        },
        "uniformtext": {
         "minsize": 12
        },
        "width": 600,
        "xaxis": {
         "dtick": 2,
         "showgrid": false,
         "tickangle": 0,
         "tickfont": {
          "color": "#151515",
          "family": "Rockwell",
          "size": 16
         },
         "title": {
          "font": {
           "color": "#151515"
          },
          "text": "% Denial Rate"
         }
        },
        "yaxis": {
         "dtick": 1,
         "showgrid": false,
         "tickcolor": "#e0e5db",
         "tickfont": {
          "color": "#151515"
         },
         "ticklen": 12,
         "ticks": "outside",
         "tickwidth": 3,
         "title": {
          "font": {
           "color": "#151515"
          },
          "text": ""
         }
        }
       }
      },
      "text/html": [
       "<div>\n",
       "        \n",
       "        \n",
       "            <div id=\"de5ec123-ff93-4c70-92d8-10581f8e714b\" class=\"plotly-graph-div\" style=\"height:600px; width:600px;\"></div>\n",
       "            <script type=\"text/javascript\">\n",
       "                require([\"plotly\"], function(Plotly) {\n",
       "                    window.PLOTLYENV=window.PLOTLYENV || {};\n",
       "                    \n",
       "                if (document.getElementById(\"de5ec123-ff93-4c70-92d8-10581f8e714b\")) {\n",
       "                    Plotly.newPlot(\n",
       "                        'de5ec123-ff93-4c70-92d8-10581f8e714b',\n",
       "                        [{\"marker\": {\"color\": \"#00b8b8\"}, \"name\": \"Denial Rate Pre 2016\", \"orientation\": \"h\", \"text\": [\"0.46\", \"0.55\", \"0.4\", \"1.03\", \"0.85\", \"5.16\", \"1.26\", \"2.28\", \"4.67\", \"3.12\", \"4.46\"], \"textposition\": \"outside\", \"type\": \"bar\", \"x\": [0.46, 0.55, 0.4, 1.03, 0.85, 5.16, 1.26, 2.28, 4.67, 3.12, 4.46], \"y\": [\"FACEBOOK\", \"APPLE\", \"GOOGLE\", \"MICROSOFT\", \"AMAZON\", \"TATA\", \"WAL-MART\", \"ACCENTURE\", \"WIPRO\", \"MINDTREE\", \"CAPGEMINI\"]}, {\"marker\": {\"color\": \"#e4bd0b\"}, \"name\": \"Denial Rate Post 2016\", \"orientation\": \"h\", \"text\": [\"0.73\", \"1.22\", \"1.35\", \"1.72\", \"1.84\", \"4.52\", \"6.2\", \"8.93\", \"9.66\", \"10.4\", \"25.08\"], \"textposition\": \"outside\", \"type\": \"bar\", \"x\": [0.73, 1.22, 1.35, 1.72, 1.84, 4.52, 6.2, 8.93, 9.66, 10.4, 25.08], \"y\": [\"FACEBOOK\", \"APPLE\", \"GOOGLE\", \"MICROSOFT\", \"AMAZON\", \"TATA\", \"WAL-MART\", \"ACCENTURE\", \"WIPRO\", \"MINDTREE\", \"CAPGEMINI\"]}],\n",
       "                        {\"height\": 600, \"legend\": {\"font\": {\"size\": 12}, \"traceorder\": \"reversed\", \"x\": 0.73, \"y\": 0.78}, \"plot_bgcolor\": \"rgba(0,0,0,0)\", \"template\": {\"data\": {\"bar\": [{\"error_x\": {\"color\": \"#2a3f5f\"}, \"error_y\": {\"color\": \"#2a3f5f\"}, \"marker\": {\"line\": {\"color\": \"#E5ECF6\", \"width\": 0.5}}, \"type\": \"bar\"}], \"barpolar\": [{\"marker\": {\"line\": {\"color\": \"#E5ECF6\", \"width\": 0.5}}, \"type\": \"barpolar\"}], \"carpet\": [{\"aaxis\": {\"endlinecolor\": \"#2a3f5f\", \"gridcolor\": \"white\", \"linecolor\": \"white\", \"minorgridcolor\": \"white\", \"startlinecolor\": \"#2a3f5f\"}, \"baxis\": {\"endlinecolor\": \"#2a3f5f\", \"gridcolor\": \"white\", \"linecolor\": \"white\", \"minorgridcolor\": \"white\", \"startlinecolor\": \"#2a3f5f\"}, \"type\": \"carpet\"}], \"choropleth\": [{\"colorbar\": {\"outlinewidth\": 0, \"ticks\": \"\"}, \"type\": \"choropleth\"}], \"contour\": [{\"colorbar\": {\"outlinewidth\": 0, \"ticks\": \"\"}, \"colorscale\": [[0.0, \"#0d0887\"], [0.1111111111111111, \"#46039f\"], [0.2222222222222222, \"#7201a8\"], [0.3333333333333333, \"#9c179e\"], [0.4444444444444444, \"#bd3786\"], [0.5555555555555556, \"#d8576b\"], [0.6666666666666666, \"#ed7953\"], [0.7777777777777778, \"#fb9f3a\"], [0.8888888888888888, \"#fdca26\"], [1.0, \"#f0f921\"]], \"type\": \"contour\"}], \"contourcarpet\": [{\"colorbar\": {\"outlinewidth\": 0, \"ticks\": \"\"}, \"type\": \"contourcarpet\"}], \"heatmap\": [{\"colorbar\": {\"outlinewidth\": 0, \"ticks\": \"\"}, \"colorscale\": [[0.0, \"#0d0887\"], [0.1111111111111111, \"#46039f\"], [0.2222222222222222, \"#7201a8\"], [0.3333333333333333, \"#9c179e\"], [0.4444444444444444, \"#bd3786\"], [0.5555555555555556, \"#d8576b\"], [0.6666666666666666, \"#ed7953\"], [0.7777777777777778, \"#fb9f3a\"], [0.8888888888888888, \"#fdca26\"], [1.0, \"#f0f921\"]], \"type\": \"heatmap\"}], \"heatmapgl\": [{\"colorbar\": {\"outlinewidth\": 0, \"ticks\": \"\"}, \"colorscale\": [[0.0, \"#0d0887\"], [0.1111111111111111, \"#46039f\"], [0.2222222222222222, \"#7201a8\"], [0.3333333333333333, \"#9c179e\"], [0.4444444444444444, \"#bd3786\"], [0.5555555555555556, \"#d8576b\"], [0.6666666666666666, \"#ed7953\"], [0.7777777777777778, \"#fb9f3a\"], [0.8888888888888888, \"#fdca26\"], [1.0, \"#f0f921\"]], \"type\": \"heatmapgl\"}], \"histogram\": [{\"marker\": {\"colorbar\": {\"outlinewidth\": 0, \"ticks\": \"\"}}, \"type\": \"histogram\"}], \"histogram2d\": [{\"colorbar\": {\"outlinewidth\": 0, \"ticks\": \"\"}, \"colorscale\": [[0.0, \"#0d0887\"], [0.1111111111111111, \"#46039f\"], [0.2222222222222222, \"#7201a8\"], [0.3333333333333333, \"#9c179e\"], [0.4444444444444444, \"#bd3786\"], [0.5555555555555556, \"#d8576b\"], [0.6666666666666666, \"#ed7953\"], [0.7777777777777778, \"#fb9f3a\"], [0.8888888888888888, \"#fdca26\"], [1.0, \"#f0f921\"]], \"type\": \"histogram2d\"}], \"histogram2dcontour\": [{\"colorbar\": {\"outlinewidth\": 0, \"ticks\": \"\"}, \"colorscale\": [[0.0, \"#0d0887\"], [0.1111111111111111, \"#46039f\"], [0.2222222222222222, \"#7201a8\"], [0.3333333333333333, \"#9c179e\"], [0.4444444444444444, \"#bd3786\"], [0.5555555555555556, \"#d8576b\"], [0.6666666666666666, \"#ed7953\"], [0.7777777777777778, \"#fb9f3a\"], [0.8888888888888888, \"#fdca26\"], [1.0, \"#f0f921\"]], \"type\": \"histogram2dcontour\"}], \"mesh3d\": [{\"colorbar\": {\"outlinewidth\": 0, \"ticks\": \"\"}, \"type\": \"mesh3d\"}], \"parcoords\": [{\"line\": {\"colorbar\": {\"outlinewidth\": 0, \"ticks\": \"\"}}, \"type\": \"parcoords\"}], \"pie\": [{\"automargin\": true, \"type\": \"pie\"}], \"scatter\": [{\"marker\": {\"colorbar\": {\"outlinewidth\": 0, \"ticks\": \"\"}}, \"type\": \"scatter\"}], \"scatter3d\": [{\"line\": {\"colorbar\": {\"outlinewidth\": 0, \"ticks\": \"\"}}, \"marker\": {\"colorbar\": {\"outlinewidth\": 0, \"ticks\": \"\"}}, \"type\": \"scatter3d\"}], \"scattercarpet\": [{\"marker\": {\"colorbar\": {\"outlinewidth\": 0, \"ticks\": \"\"}}, \"type\": \"scattercarpet\"}], \"scattergeo\": [{\"marker\": {\"colorbar\": {\"outlinewidth\": 0, \"ticks\": \"\"}}, \"type\": \"scattergeo\"}], \"scattergl\": [{\"marker\": {\"colorbar\": {\"outlinewidth\": 0, \"ticks\": \"\"}}, \"type\": \"scattergl\"}], \"scattermapbox\": [{\"marker\": {\"colorbar\": {\"outlinewidth\": 0, \"ticks\": \"\"}}, \"type\": \"scattermapbox\"}], \"scatterpolar\": [{\"marker\": {\"colorbar\": {\"outlinewidth\": 0, \"ticks\": \"\"}}, \"type\": \"scatterpolar\"}], \"scatterpolargl\": [{\"marker\": {\"colorbar\": {\"outlinewidth\": 0, \"ticks\": \"\"}}, \"type\": \"scatterpolargl\"}], \"scatterternary\": [{\"marker\": {\"colorbar\": {\"outlinewidth\": 0, \"ticks\": \"\"}}, \"type\": \"scatterternary\"}], \"surface\": [{\"colorbar\": {\"outlinewidth\": 0, \"ticks\": \"\"}, \"colorscale\": [[0.0, \"#0d0887\"], [0.1111111111111111, \"#46039f\"], [0.2222222222222222, \"#7201a8\"], [0.3333333333333333, \"#9c179e\"], [0.4444444444444444, \"#bd3786\"], [0.5555555555555556, \"#d8576b\"], [0.6666666666666666, \"#ed7953\"], [0.7777777777777778, \"#fb9f3a\"], [0.8888888888888888, \"#fdca26\"], [1.0, \"#f0f921\"]], \"type\": \"surface\"}], \"table\": [{\"cells\": {\"fill\": {\"color\": \"#EBF0F8\"}, \"line\": {\"color\": \"white\"}}, \"header\": {\"fill\": {\"color\": \"#C8D4E3\"}, \"line\": {\"color\": \"white\"}}, \"type\": \"table\"}]}, \"layout\": {\"annotationdefaults\": {\"arrowcolor\": \"#2a3f5f\", \"arrowhead\": 0, \"arrowwidth\": 1}, \"coloraxis\": {\"colorbar\": {\"outlinewidth\": 0, \"ticks\": \"\"}}, \"colorscale\": {\"diverging\": [[0, \"#8e0152\"], [0.1, \"#c51b7d\"], [0.2, \"#de77ae\"], [0.3, \"#f1b6da\"], [0.4, \"#fde0ef\"], [0.5, \"#f7f7f7\"], [0.6, \"#e6f5d0\"], [0.7, \"#b8e186\"], [0.8, \"#7fbc41\"], [0.9, \"#4d9221\"], [1, \"#276419\"]], \"sequential\": [[0.0, \"#0d0887\"], [0.1111111111111111, \"#46039f\"], [0.2222222222222222, \"#7201a8\"], [0.3333333333333333, \"#9c179e\"], [0.4444444444444444, \"#bd3786\"], [0.5555555555555556, \"#d8576b\"], [0.6666666666666666, \"#ed7953\"], [0.7777777777777778, \"#fb9f3a\"], [0.8888888888888888, \"#fdca26\"], [1.0, \"#f0f921\"]], \"sequentialminus\": [[0.0, \"#0d0887\"], [0.1111111111111111, \"#46039f\"], [0.2222222222222222, \"#7201a8\"], [0.3333333333333333, \"#9c179e\"], [0.4444444444444444, \"#bd3786\"], [0.5555555555555556, \"#d8576b\"], [0.6666666666666666, \"#ed7953\"], [0.7777777777777778, \"#fb9f3a\"], [0.8888888888888888, \"#fdca26\"], [1.0, \"#f0f921\"]]}, \"colorway\": [\"#636efa\", \"#EF553B\", \"#00cc96\", \"#ab63fa\", \"#FFA15A\", \"#19d3f3\", \"#FF6692\", \"#B6E880\", \"#FF97FF\", \"#FECB52\"], \"font\": {\"color\": \"#2a3f5f\"}, \"geo\": {\"bgcolor\": \"white\", \"lakecolor\": \"white\", \"landcolor\": \"#E5ECF6\", \"showlakes\": true, \"showland\": true, \"subunitcolor\": \"white\"}, \"hoverlabel\": {\"align\": \"left\"}, \"hovermode\": \"closest\", \"mapbox\": {\"style\": \"light\"}, \"paper_bgcolor\": \"white\", \"plot_bgcolor\": \"#E5ECF6\", \"polar\": {\"angularaxis\": {\"gridcolor\": \"white\", \"linecolor\": \"white\", \"ticks\": \"\"}, \"bgcolor\": \"#E5ECF6\", \"radialaxis\": {\"gridcolor\": \"white\", \"linecolor\": \"white\", \"ticks\": \"\"}}, \"scene\": {\"xaxis\": {\"backgroundcolor\": \"#E5ECF6\", \"gridcolor\": \"white\", \"gridwidth\": 2, \"linecolor\": \"white\", \"showbackground\": true, \"ticks\": \"\", \"zerolinecolor\": \"white\"}, \"yaxis\": {\"backgroundcolor\": \"#E5ECF6\", \"gridcolor\": \"white\", \"gridwidth\": 2, \"linecolor\": \"white\", \"showbackground\": true, \"ticks\": \"\", \"zerolinecolor\": \"white\"}, \"zaxis\": {\"backgroundcolor\": \"#E5ECF6\", \"gridcolor\": \"white\", \"gridwidth\": 2, \"linecolor\": \"white\", \"showbackground\": true, \"ticks\": \"\", \"zerolinecolor\": \"white\"}}, \"shapedefaults\": {\"line\": {\"color\": \"#2a3f5f\"}}, \"ternary\": {\"aaxis\": {\"gridcolor\": \"white\", \"linecolor\": \"white\", \"ticks\": \"\"}, \"baxis\": {\"gridcolor\": \"white\", \"linecolor\": \"white\", \"ticks\": \"\"}, \"bgcolor\": \"#E5ECF6\", \"caxis\": {\"gridcolor\": \"white\", \"linecolor\": \"white\", \"ticks\": \"\"}}, \"title\": {\"x\": 0.05}, \"xaxis\": {\"automargin\": true, \"gridcolor\": \"white\", \"linecolor\": \"white\", \"ticks\": \"\", \"title\": {\"standoff\": 15}, \"zerolinecolor\": \"white\", \"zerolinewidth\": 2}, \"yaxis\": {\"automargin\": true, \"gridcolor\": \"white\", \"linecolor\": \"white\", \"ticks\": \"\", \"title\": {\"standoff\": 15}, \"zerolinecolor\": \"white\", \"zerolinewidth\": 2}}}, \"title\": {\"text\": \"Denial Rates Indian IT Companies Vs US TechGiants\"}, \"uniformtext\": {\"minsize\": 12}, \"width\": 600, \"xaxis\": {\"dtick\": 2, \"showgrid\": false, \"tickangle\": 0, \"tickfont\": {\"color\": \"#151515\", \"family\": \"Rockwell\", \"size\": 16}, \"title\": {\"font\": {\"color\": \"#151515\"}, \"text\": \"% Denial Rate\"}}, \"yaxis\": {\"dtick\": 1, \"showgrid\": false, \"tickcolor\": \"#e0e5db\", \"tickfont\": {\"color\": \"#151515\"}, \"ticklen\": 12, \"ticks\": \"outside\", \"tickwidth\": 3, \"title\": {\"font\": {\"color\": \"#151515\"}, \"text\": \"\"}}},\n",
       "                        {\"responsive\": true}\n",
       "                    ).then(function(){\n",
       "                            \n",
       "var gd = document.getElementById('de5ec123-ff93-4c70-92d8-10581f8e714b');\n",
       "var x = new MutationObserver(function (mutations, observer) {{\n",
       "        var display = window.getComputedStyle(gd).display;\n",
       "        if (!display || display === 'none') {{\n",
       "            console.log([gd, 'removed!']);\n",
       "            Plotly.purge(gd);\n",
       "            observer.disconnect();\n",
       "        }}\n",
       "}});\n",
       "\n",
       "// Listen for the removal of the full notebook cells\n",
       "var notebookContainer = gd.closest('#notebook-container');\n",
       "if (notebookContainer) {{\n",
       "    x.observe(notebookContainer, {childList: true});\n",
       "}}\n",
       "\n",
       "// Listen for the clearing of the current output cell\n",
       "var outputEl = gd.closest('.output');\n",
       "if (outputEl) {{\n",
       "    x.observe(outputEl, {childList: true});\n",
       "}}\n",
       "\n",
       "                        })\n",
       "                };\n",
       "                });\n",
       "            </script>\n",
       "        </div>"
      ]
     },
     "metadata": {},
     "output_type": "display_data"
    }
   ],
   "source": [
    "denial_plot(df21)"
   ]
  },
  {
   "cell_type": "markdown",
   "metadata": {},
   "source": [
    "### Distinct Employers Using the H1B program by State"
   ]
  },
  {
   "cell_type": "code",
   "execution_count": 557,
   "metadata": {},
   "outputs": [
    {
     "data": {
      "text/html": [
       "<div>\n",
       "<style scoped>\n",
       "    .dataframe tbody tr th:only-of-type {\n",
       "        vertical-align: middle;\n",
       "    }\n",
       "\n",
       "    .dataframe tbody tr th {\n",
       "        vertical-align: top;\n",
       "    }\n",
       "\n",
       "    .dataframe thead th {\n",
       "        text-align: right;\n",
       "    }\n",
       "</style>\n",
       "<table border=\"1\" class=\"dataframe\">\n",
       "  <thead>\n",
       "    <tr style=\"text-align: right;\">\n",
       "      <th></th>\n",
       "      <th>index</th>\n",
       "      <th>State</th>\n",
       "      <th>Employer</th>\n",
       "      <th>cumsum</th>\n",
       "    </tr>\n",
       "  </thead>\n",
       "  <tbody>\n",
       "    <tr>\n",
       "      <th>0</th>\n",
       "      <td>4</td>\n",
       "      <td>CA</td>\n",
       "      <td>53969</td>\n",
       "      <td>53969</td>\n",
       "    </tr>\n",
       "    <tr>\n",
       "      <th>1</th>\n",
       "      <td>36</td>\n",
       "      <td>NY</td>\n",
       "      <td>37496</td>\n",
       "      <td>91465</td>\n",
       "    </tr>\n",
       "    <tr>\n",
       "      <th>2</th>\n",
       "      <td>46</td>\n",
       "      <td>TX</td>\n",
       "      <td>24124</td>\n",
       "      <td>115589</td>\n",
       "    </tr>\n",
       "    <tr>\n",
       "      <th>3</th>\n",
       "      <td>9</td>\n",
       "      <td>FL</td>\n",
       "      <td>19501</td>\n",
       "      <td>135090</td>\n",
       "    </tr>\n",
       "    <tr>\n",
       "      <th>4</th>\n",
       "      <td>33</td>\n",
       "      <td>NJ</td>\n",
       "      <td>14957</td>\n",
       "      <td>150047</td>\n",
       "    </tr>\n",
       "  </tbody>\n",
       "</table>\n",
       "</div>"
      ],
      "text/plain": [
       "   index State  Employer  cumsum\n",
       "0      4    CA     53969   53969\n",
       "1     36    NY     37496   91465\n",
       "2     46    TX     24124  115589\n",
       "3      9    FL     19501  135090\n",
       "4     33    NJ     14957  150047"
      ]
     },
     "execution_count": 557,
     "metadata": {},
     "output_type": "execute_result"
    }
   ],
   "source": [
    "h1b_query35 = ''' \n",
    "select  \n",
    "State, count(DISTINCT Employer) Employer\n",
    "from h1b\n",
    "where Fiscal_Year !='2019'\n",
    "group by 1\n",
    ";'''\n",
    "\n",
    "\n",
    "df35 = pd.read_sql_query(h1b_query35, conn)\n",
    "df35=df35.sort_values(by='Employer', ascending=False)\n",
    "df35=df35.reset_index()\n",
    "df35['cumsum']=df35['Employer'].cumsum()\n",
    "df35.head()\n"
   ]
  },
  {
   "cell_type": "code",
   "execution_count": 558,
   "metadata": {},
   "outputs": [
    {
     "data": {
      "application/vnd.plotly.v1+json": {
       "config": {
        "plotlyServerURL": "https://plot.ly"
       },
       "data": [
        {
         "colorbar": {
          "title": {
           "text": "Distinct Employers"
          }
         },
         "colorscale": [
          [
           0,
           "#00b8b8"
          ],
          [
           0.018518518518518517,
           "#00b8b8"
          ],
          [
           0.037037037037037035,
           "#00b8b8"
          ],
          [
           0.05555555555555555,
           "#00b8b8"
          ],
          [
           0.07407407407407407,
           "#00b8b8"
          ],
          [
           0.09259259259259259,
           "#00b8b8"
          ],
          [
           0.1111111111111111,
           "#00b8b8"
          ],
          [
           0.12962962962962962,
           "#e4bd0b"
          ],
          [
           0.14814814814814814,
           "#e4bd0b"
          ],
          [
           0.16666666666666666,
           "#e4bd0b"
          ],
          [
           0.18518518518518517,
           "#e4bd0b"
          ],
          [
           0.2037037037037037,
           "#e4bd0b"
          ],
          [
           0.2222222222222222,
           "#e4bd0b"
          ],
          [
           0.24074074074074073,
           "#e4bd0b"
          ],
          [
           0.25925925925925924,
           "#e4bd0b"
          ],
          [
           0.2777777777777778,
           "#e4bd0b"
          ],
          [
           0.2962962962962963,
           "#e4bd0b"
          ],
          [
           0.3148148148148148,
           "#e4bd0b"
          ],
          [
           0.3333333333333333,
           "#e4bd0b"
          ],
          [
           0.35185185185185186,
           "#e4bd0b"
          ],
          [
           0.37037037037037035,
           "#e4bd0b"
          ],
          [
           0.3888888888888889,
           "#e4bd0b"
          ],
          [
           0.4074074074074074,
           "#e4bd0b"
          ],
          [
           0.42592592592592593,
           "#e4bd0b"
          ],
          [
           0.4444444444444444,
           "#e4bd0b"
          ],
          [
           0.46296296296296297,
           "#e4bd0b"
          ],
          [
           0.48148148148148145,
           "#e4bd0b"
          ],
          [
           0.5,
           "#e4bd0b"
          ],
          [
           0.5185185185185185,
           "#e4bd0b"
          ],
          [
           0.5370370370370371,
           "#e4bd0b"
          ],
          [
           0.5555555555555556,
           "#e4bd0b"
          ],
          [
           0.5740740740740741,
           "#e4bd0b"
          ],
          [
           0.5925925925925926,
           "#e4bd0b"
          ],
          [
           0.6111111111111112,
           "#e4bd0b"
          ],
          [
           0.6296296296296297,
           "#de3d83"
          ],
          [
           0.6481481481481481,
           "#de3d83"
          ],
          [
           0.6666666666666666,
           "#de3d83"
          ],
          [
           0.6851851851851852,
           "#de3d83"
          ],
          [
           0.7037037037037037,
           "#de3d83"
          ],
          [
           0.7222222222222222,
           "#de3d83"
          ],
          [
           0.7407407407407407,
           "#de3d83"
          ],
          [
           0.7592592592592593,
           "#de3d83"
          ],
          [
           0.7777777777777778,
           "#de3d83"
          ],
          [
           0.7962962962962963,
           "#de3d83"
          ],
          [
           0.8148148148148148,
           "#de3d83"
          ],
          [
           0.8333333333333334,
           "#de3d83"
          ],
          [
           0.8518518518518519,
           "#de3d83"
          ],
          [
           0.8703703703703703,
           "#de3d83"
          ],
          [
           0.8888888888888888,
           "#de3d83"
          ],
          [
           0.9074074074074074,
           "#de3d83"
          ],
          [
           0.9259259259259259,
           "#de3d83"
          ],
          [
           0.9444444444444444,
           "#de3d83"
          ],
          [
           0.9629629629629629,
           "#de3d83"
          ],
          [
           0.9814814814814815,
           "#de3d83"
          ],
          [
           1,
           "#de3d83"
          ]
         ],
         "locationmode": "USA-states",
         "locations": [
          "CA",
          "NY",
          "TX",
          "FL",
          "NJ",
          "IL",
          "MA",
          "VA",
          "PA",
          "GA",
          "MI",
          "MD",
          "OH",
          "WA",
          "NC",
          "CT",
          "AZ",
          "DC",
          "CO",
          "MN",
          "MO",
          "IN",
          "TN",
          "WI",
          "LA",
          "OK",
          "SC",
          "OR",
          "UT",
          "KY",
          "AL",
          "KS",
          "NV",
          "IA",
          "NE",
          "DE",
          "HI",
          "NH",
          "AR",
          "NM",
          "RI",
          "MS",
          "GU",
          "ME",
          "WV",
          "PR",
          "ND",
          "VT",
          "ID",
          "AK",
          "SD",
          "MP",
          "MT",
          "WY",
          "VI"
         ],
         "type": "choropleth",
         "z": [
          53969,
          37496,
          24124,
          19501,
          14957,
          12318,
          10658,
          8593,
          8288,
          8134,
          7128,
          6167,
          5414,
          4982,
          4517,
          3946,
          3502,
          3495,
          3181,
          3121,
          2671,
          2518,
          2366,
          2180,
          1878,
          1654,
          1629,
          1586,
          1537,
          1513,
          1511,
          1426,
          1414,
          1308,
          921,
          878,
          855,
          851,
          841,
          719,
          664,
          664,
          473,
          464,
          459,
          456,
          379,
          352,
          309,
          282,
          240,
          223,
          198,
          184,
          116
         ]
        }
       ],
       "layout": {
        "geo": {
         "scope": "usa"
        },
        "template": {
         "data": {
          "bar": [
           {
            "error_x": {
             "color": "#2a3f5f"
            },
            "error_y": {
             "color": "#2a3f5f"
            },
            "marker": {
             "line": {
              "color": "#E5ECF6",
              "width": 0.5
             }
            },
            "type": "bar"
           }
          ],
          "barpolar": [
           {
            "marker": {
             "line": {
              "color": "#E5ECF6",
              "width": 0.5
             }
            },
            "type": "barpolar"
           }
          ],
          "carpet": [
           {
            "aaxis": {
             "endlinecolor": "#2a3f5f",
             "gridcolor": "white",
             "linecolor": "white",
             "minorgridcolor": "white",
             "startlinecolor": "#2a3f5f"
            },
            "baxis": {
             "endlinecolor": "#2a3f5f",
             "gridcolor": "white",
             "linecolor": "white",
             "minorgridcolor": "white",
             "startlinecolor": "#2a3f5f"
            },
            "type": "carpet"
           }
          ],
          "choropleth": [
           {
            "colorbar": {
             "outlinewidth": 0,
             "ticks": ""
            },
            "type": "choropleth"
           }
          ],
          "contour": [
           {
            "colorbar": {
             "outlinewidth": 0,
             "ticks": ""
            },
            "colorscale": [
             [
              0,
              "#0d0887"
             ],
             [
              0.1111111111111111,
              "#46039f"
             ],
             [
              0.2222222222222222,
              "#7201a8"
             ],
             [
              0.3333333333333333,
              "#9c179e"
             ],
             [
              0.4444444444444444,
              "#bd3786"
             ],
             [
              0.5555555555555556,
              "#d8576b"
             ],
             [
              0.6666666666666666,
              "#ed7953"
             ],
             [
              0.7777777777777778,
              "#fb9f3a"
             ],
             [
              0.8888888888888888,
              "#fdca26"
             ],
             [
              1,
              "#f0f921"
             ]
            ],
            "type": "contour"
           }
          ],
          "contourcarpet": [
           {
            "colorbar": {
             "outlinewidth": 0,
             "ticks": ""
            },
            "type": "contourcarpet"
           }
          ],
          "heatmap": [
           {
            "colorbar": {
             "outlinewidth": 0,
             "ticks": ""
            },
            "colorscale": [
             [
              0,
              "#0d0887"
             ],
             [
              0.1111111111111111,
              "#46039f"
             ],
             [
              0.2222222222222222,
              "#7201a8"
             ],
             [
              0.3333333333333333,
              "#9c179e"
             ],
             [
              0.4444444444444444,
              "#bd3786"
             ],
             [
              0.5555555555555556,
              "#d8576b"
             ],
             [
              0.6666666666666666,
              "#ed7953"
             ],
             [
              0.7777777777777778,
              "#fb9f3a"
             ],
             [
              0.8888888888888888,
              "#fdca26"
             ],
             [
              1,
              "#f0f921"
             ]
            ],
            "type": "heatmap"
           }
          ],
          "heatmapgl": [
           {
            "colorbar": {
             "outlinewidth": 0,
             "ticks": ""
            },
            "colorscale": [
             [
              0,
              "#0d0887"
             ],
             [
              0.1111111111111111,
              "#46039f"
             ],
             [
              0.2222222222222222,
              "#7201a8"
             ],
             [
              0.3333333333333333,
              "#9c179e"
             ],
             [
              0.4444444444444444,
              "#bd3786"
             ],
             [
              0.5555555555555556,
              "#d8576b"
             ],
             [
              0.6666666666666666,
              "#ed7953"
             ],
             [
              0.7777777777777778,
              "#fb9f3a"
             ],
             [
              0.8888888888888888,
              "#fdca26"
             ],
             [
              1,
              "#f0f921"
             ]
            ],
            "type": "heatmapgl"
           }
          ],
          "histogram": [
           {
            "marker": {
             "colorbar": {
              "outlinewidth": 0,
              "ticks": ""
             }
            },
            "type": "histogram"
           }
          ],
          "histogram2d": [
           {
            "colorbar": {
             "outlinewidth": 0,
             "ticks": ""
            },
            "colorscale": [
             [
              0,
              "#0d0887"
             ],
             [
              0.1111111111111111,
              "#46039f"
             ],
             [
              0.2222222222222222,
              "#7201a8"
             ],
             [
              0.3333333333333333,
              "#9c179e"
             ],
             [
              0.4444444444444444,
              "#bd3786"
             ],
             [
              0.5555555555555556,
              "#d8576b"
             ],
             [
              0.6666666666666666,
              "#ed7953"
             ],
             [
              0.7777777777777778,
              "#fb9f3a"
             ],
             [
              0.8888888888888888,
              "#fdca26"
             ],
             [
              1,
              "#f0f921"
             ]
            ],
            "type": "histogram2d"
           }
          ],
          "histogram2dcontour": [
           {
            "colorbar": {
             "outlinewidth": 0,
             "ticks": ""
            },
            "colorscale": [
             [
              0,
              "#0d0887"
             ],
             [
              0.1111111111111111,
              "#46039f"
             ],
             [
              0.2222222222222222,
              "#7201a8"
             ],
             [
              0.3333333333333333,
              "#9c179e"
             ],
             [
              0.4444444444444444,
              "#bd3786"
             ],
             [
              0.5555555555555556,
              "#d8576b"
             ],
             [
              0.6666666666666666,
              "#ed7953"
             ],
             [
              0.7777777777777778,
              "#fb9f3a"
             ],
             [
              0.8888888888888888,
              "#fdca26"
             ],
             [
              1,
              "#f0f921"
             ]
            ],
            "type": "histogram2dcontour"
           }
          ],
          "mesh3d": [
           {
            "colorbar": {
             "outlinewidth": 0,
             "ticks": ""
            },
            "type": "mesh3d"
           }
          ],
          "parcoords": [
           {
            "line": {
             "colorbar": {
              "outlinewidth": 0,
              "ticks": ""
             }
            },
            "type": "parcoords"
           }
          ],
          "pie": [
           {
            "automargin": true,
            "type": "pie"
           }
          ],
          "scatter": [
           {
            "marker": {
             "colorbar": {
              "outlinewidth": 0,
              "ticks": ""
             }
            },
            "type": "scatter"
           }
          ],
          "scatter3d": [
           {
            "line": {
             "colorbar": {
              "outlinewidth": 0,
              "ticks": ""
             }
            },
            "marker": {
             "colorbar": {
              "outlinewidth": 0,
              "ticks": ""
             }
            },
            "type": "scatter3d"
           }
          ],
          "scattercarpet": [
           {
            "marker": {
             "colorbar": {
              "outlinewidth": 0,
              "ticks": ""
             }
            },
            "type": "scattercarpet"
           }
          ],
          "scattergeo": [
           {
            "marker": {
             "colorbar": {
              "outlinewidth": 0,
              "ticks": ""
             }
            },
            "type": "scattergeo"
           }
          ],
          "scattergl": [
           {
            "marker": {
             "colorbar": {
              "outlinewidth": 0,
              "ticks": ""
             }
            },
            "type": "scattergl"
           }
          ],
          "scattermapbox": [
           {
            "marker": {
             "colorbar": {
              "outlinewidth": 0,
              "ticks": ""
             }
            },
            "type": "scattermapbox"
           }
          ],
          "scatterpolar": [
           {
            "marker": {
             "colorbar": {
              "outlinewidth": 0,
              "ticks": ""
             }
            },
            "type": "scatterpolar"
           }
          ],
          "scatterpolargl": [
           {
            "marker": {
             "colorbar": {
              "outlinewidth": 0,
              "ticks": ""
             }
            },
            "type": "scatterpolargl"
           }
          ],
          "scatterternary": [
           {
            "marker": {
             "colorbar": {
              "outlinewidth": 0,
              "ticks": ""
             }
            },
            "type": "scatterternary"
           }
          ],
          "surface": [
           {
            "colorbar": {
             "outlinewidth": 0,
             "ticks": ""
            },
            "colorscale": [
             [
              0,
              "#0d0887"
             ],
             [
              0.1111111111111111,
              "#46039f"
             ],
             [
              0.2222222222222222,
              "#7201a8"
             ],
             [
              0.3333333333333333,
              "#9c179e"
             ],
             [
              0.4444444444444444,
              "#bd3786"
             ],
             [
              0.5555555555555556,
              "#d8576b"
             ],
             [
              0.6666666666666666,
              "#ed7953"
             ],
             [
              0.7777777777777778,
              "#fb9f3a"
             ],
             [
              0.8888888888888888,
              "#fdca26"
             ],
             [
              1,
              "#f0f921"
             ]
            ],
            "type": "surface"
           }
          ],
          "table": [
           {
            "cells": {
             "fill": {
              "color": "#EBF0F8"
             },
             "line": {
              "color": "white"
             }
            },
            "header": {
             "fill": {
              "color": "#C8D4E3"
             },
             "line": {
              "color": "white"
             }
            },
            "type": "table"
           }
          ]
         },
         "layout": {
          "annotationdefaults": {
           "arrowcolor": "#2a3f5f",
           "arrowhead": 0,
           "arrowwidth": 1
          },
          "coloraxis": {
           "colorbar": {
            "outlinewidth": 0,
            "ticks": ""
           }
          },
          "colorscale": {
           "diverging": [
            [
             0,
             "#8e0152"
            ],
            [
             0.1,
             "#c51b7d"
            ],
            [
             0.2,
             "#de77ae"
            ],
            [
             0.3,
             "#f1b6da"
            ],
            [
             0.4,
             "#fde0ef"
            ],
            [
             0.5,
             "#f7f7f7"
            ],
            [
             0.6,
             "#e6f5d0"
            ],
            [
             0.7,
             "#b8e186"
            ],
            [
             0.8,
             "#7fbc41"
            ],
            [
             0.9,
             "#4d9221"
            ],
            [
             1,
             "#276419"
            ]
           ],
           "sequential": [
            [
             0,
             "#0d0887"
            ],
            [
             0.1111111111111111,
             "#46039f"
            ],
            [
             0.2222222222222222,
             "#7201a8"
            ],
            [
             0.3333333333333333,
             "#9c179e"
            ],
            [
             0.4444444444444444,
             "#bd3786"
            ],
            [
             0.5555555555555556,
             "#d8576b"
            ],
            [
             0.6666666666666666,
             "#ed7953"
            ],
            [
             0.7777777777777778,
             "#fb9f3a"
            ],
            [
             0.8888888888888888,
             "#fdca26"
            ],
            [
             1,
             "#f0f921"
            ]
           ],
           "sequentialminus": [
            [
             0,
             "#0d0887"
            ],
            [
             0.1111111111111111,
             "#46039f"
            ],
            [
             0.2222222222222222,
             "#7201a8"
            ],
            [
             0.3333333333333333,
             "#9c179e"
            ],
            [
             0.4444444444444444,
             "#bd3786"
            ],
            [
             0.5555555555555556,
             "#d8576b"
            ],
            [
             0.6666666666666666,
             "#ed7953"
            ],
            [
             0.7777777777777778,
             "#fb9f3a"
            ],
            [
             0.8888888888888888,
             "#fdca26"
            ],
            [
             1,
             "#f0f921"
            ]
           ]
          },
          "colorway": [
           "#636efa",
           "#EF553B",
           "#00cc96",
           "#ab63fa",
           "#FFA15A",
           "#19d3f3",
           "#FF6692",
           "#B6E880",
           "#FF97FF",
           "#FECB52"
          ],
          "font": {
           "color": "#2a3f5f"
          },
          "geo": {
           "bgcolor": "white",
           "lakecolor": "white",
           "landcolor": "#E5ECF6",
           "showlakes": true,
           "showland": true,
           "subunitcolor": "white"
          },
          "hoverlabel": {
           "align": "left"
          },
          "hovermode": "closest",
          "mapbox": {
           "style": "light"
          },
          "paper_bgcolor": "white",
          "plot_bgcolor": "#E5ECF6",
          "polar": {
           "angularaxis": {
            "gridcolor": "white",
            "linecolor": "white",
            "ticks": ""
           },
           "bgcolor": "#E5ECF6",
           "radialaxis": {
            "gridcolor": "white",
            "linecolor": "white",
            "ticks": ""
           }
          },
          "scene": {
           "xaxis": {
            "backgroundcolor": "#E5ECF6",
            "gridcolor": "white",
            "gridwidth": 2,
            "linecolor": "white",
            "showbackground": true,
            "ticks": "",
            "zerolinecolor": "white"
           },
           "yaxis": {
            "backgroundcolor": "#E5ECF6",
            "gridcolor": "white",
            "gridwidth": 2,
            "linecolor": "white",
            "showbackground": true,
            "ticks": "",
            "zerolinecolor": "white"
           },
           "zaxis": {
            "backgroundcolor": "#E5ECF6",
            "gridcolor": "white",
            "gridwidth": 2,
            "linecolor": "white",
            "showbackground": true,
            "ticks": "",
            "zerolinecolor": "white"
           }
          },
          "shapedefaults": {
           "line": {
            "color": "#2a3f5f"
           }
          },
          "ternary": {
           "aaxis": {
            "gridcolor": "white",
            "linecolor": "white",
            "ticks": ""
           },
           "baxis": {
            "gridcolor": "white",
            "linecolor": "white",
            "ticks": ""
           },
           "bgcolor": "#E5ECF6",
           "caxis": {
            "gridcolor": "white",
            "linecolor": "white",
            "ticks": ""
           }
          },
          "title": {
           "x": 0.05
          },
          "xaxis": {
           "automargin": true,
           "gridcolor": "white",
           "linecolor": "white",
           "ticks": "",
           "title": {
            "standoff": 15
           },
           "zerolinecolor": "white",
           "zerolinewidth": 2
          },
          "yaxis": {
           "automargin": true,
           "gridcolor": "white",
           "linecolor": "white",
           "ticks": "",
           "title": {
            "standoff": 15
           },
           "zerolinecolor": "white",
           "zerolinewidth": 2
          }
         }
        },
        "title": {
         "text": "Distinct Employers Applying for H1B in US By States"
        }
       }
      },
      "text/html": [
       "<div>\n",
       "        \n",
       "        \n",
       "            <div id=\"6bd25eb0-9100-4848-8969-ad4a2eed6b8c\" class=\"plotly-graph-div\" style=\"height:525px; width:100%;\"></div>\n",
       "            <script type=\"text/javascript\">\n",
       "                require([\"plotly\"], function(Plotly) {\n",
       "                    window.PLOTLYENV=window.PLOTLYENV || {};\n",
       "                    \n",
       "                if (document.getElementById(\"6bd25eb0-9100-4848-8969-ad4a2eed6b8c\")) {\n",
       "                    Plotly.newPlot(\n",
       "                        '6bd25eb0-9100-4848-8969-ad4a2eed6b8c',\n",
       "                        [{\"colorbar\": {\"title\": {\"text\": \"Distinct Employers\"}}, \"colorscale\": [[0.0, \"#00b8b8\"], [0.018518518518518517, \"#00b8b8\"], [0.037037037037037035, \"#00b8b8\"], [0.05555555555555555, \"#00b8b8\"], [0.07407407407407407, \"#00b8b8\"], [0.09259259259259259, \"#00b8b8\"], [0.1111111111111111, \"#00b8b8\"], [0.12962962962962962, \"#e4bd0b\"], [0.14814814814814814, \"#e4bd0b\"], [0.16666666666666666, \"#e4bd0b\"], [0.18518518518518517, \"#e4bd0b\"], [0.2037037037037037, \"#e4bd0b\"], [0.2222222222222222, \"#e4bd0b\"], [0.24074074074074073, \"#e4bd0b\"], [0.25925925925925924, \"#e4bd0b\"], [0.2777777777777778, \"#e4bd0b\"], [0.2962962962962963, \"#e4bd0b\"], [0.3148148148148148, \"#e4bd0b\"], [0.3333333333333333, \"#e4bd0b\"], [0.35185185185185186, \"#e4bd0b\"], [0.37037037037037035, \"#e4bd0b\"], [0.3888888888888889, \"#e4bd0b\"], [0.4074074074074074, \"#e4bd0b\"], [0.42592592592592593, \"#e4bd0b\"], [0.4444444444444444, \"#e4bd0b\"], [0.46296296296296297, \"#e4bd0b\"], [0.48148148148148145, \"#e4bd0b\"], [0.5, \"#e4bd0b\"], [0.5185185185185185, \"#e4bd0b\"], [0.5370370370370371, \"#e4bd0b\"], [0.5555555555555556, \"#e4bd0b\"], [0.5740740740740741, \"#e4bd0b\"], [0.5925925925925926, \"#e4bd0b\"], [0.6111111111111112, \"#e4bd0b\"], [0.6296296296296297, \"#de3d83\"], [0.6481481481481481, \"#de3d83\"], [0.6666666666666666, \"#de3d83\"], [0.6851851851851852, \"#de3d83\"], [0.7037037037037037, \"#de3d83\"], [0.7222222222222222, \"#de3d83\"], [0.7407407407407407, \"#de3d83\"], [0.7592592592592593, \"#de3d83\"], [0.7777777777777778, \"#de3d83\"], [0.7962962962962963, \"#de3d83\"], [0.8148148148148148, \"#de3d83\"], [0.8333333333333334, \"#de3d83\"], [0.8518518518518519, \"#de3d83\"], [0.8703703703703703, \"#de3d83\"], [0.8888888888888888, \"#de3d83\"], [0.9074074074074074, \"#de3d83\"], [0.9259259259259259, \"#de3d83\"], [0.9444444444444444, \"#de3d83\"], [0.9629629629629629, \"#de3d83\"], [0.9814814814814815, \"#de3d83\"], [1.0, \"#de3d83\"]], \"locationmode\": \"USA-states\", \"locations\": [\"CA\", \"NY\", \"TX\", \"FL\", \"NJ\", \"IL\", \"MA\", \"VA\", \"PA\", \"GA\", \"MI\", \"MD\", \"OH\", \"WA\", \"NC\", \"CT\", \"AZ\", \"DC\", \"CO\", \"MN\", \"MO\", \"IN\", \"TN\", \"WI\", \"LA\", \"OK\", \"SC\", \"OR\", \"UT\", \"KY\", \"AL\", \"KS\", \"NV\", \"IA\", \"NE\", \"DE\", \"HI\", \"NH\", \"AR\", \"NM\", \"RI\", \"MS\", \"GU\", \"ME\", \"WV\", \"PR\", \"ND\", \"VT\", \"ID\", \"AK\", \"SD\", \"MP\", \"MT\", \"WY\", \"VI\"], \"type\": \"choropleth\", \"z\": [53969.0, 37496.0, 24124.0, 19501.0, 14957.0, 12318.0, 10658.0, 8593.0, 8288.0, 8134.0, 7128.0, 6167.0, 5414.0, 4982.0, 4517.0, 3946.0, 3502.0, 3495.0, 3181.0, 3121.0, 2671.0, 2518.0, 2366.0, 2180.0, 1878.0, 1654.0, 1629.0, 1586.0, 1537.0, 1513.0, 1511.0, 1426.0, 1414.0, 1308.0, 921.0, 878.0, 855.0, 851.0, 841.0, 719.0, 664.0, 664.0, 473.0, 464.0, 459.0, 456.0, 379.0, 352.0, 309.0, 282.0, 240.0, 223.0, 198.0, 184.0, 116.0]}],\n",
       "                        {\"geo\": {\"scope\": \"usa\"}, \"template\": {\"data\": {\"bar\": [{\"error_x\": {\"color\": \"#2a3f5f\"}, \"error_y\": {\"color\": \"#2a3f5f\"}, \"marker\": {\"line\": {\"color\": \"#E5ECF6\", \"width\": 0.5}}, \"type\": \"bar\"}], \"barpolar\": [{\"marker\": {\"line\": {\"color\": \"#E5ECF6\", \"width\": 0.5}}, \"type\": \"barpolar\"}], \"carpet\": [{\"aaxis\": {\"endlinecolor\": \"#2a3f5f\", \"gridcolor\": \"white\", \"linecolor\": \"white\", \"minorgridcolor\": \"white\", \"startlinecolor\": \"#2a3f5f\"}, \"baxis\": {\"endlinecolor\": \"#2a3f5f\", \"gridcolor\": \"white\", \"linecolor\": \"white\", \"minorgridcolor\": \"white\", \"startlinecolor\": \"#2a3f5f\"}, \"type\": \"carpet\"}], \"choropleth\": [{\"colorbar\": {\"outlinewidth\": 0, \"ticks\": \"\"}, \"type\": \"choropleth\"}], \"contour\": [{\"colorbar\": {\"outlinewidth\": 0, \"ticks\": \"\"}, \"colorscale\": [[0.0, \"#0d0887\"], [0.1111111111111111, \"#46039f\"], [0.2222222222222222, \"#7201a8\"], [0.3333333333333333, \"#9c179e\"], [0.4444444444444444, \"#bd3786\"], [0.5555555555555556, \"#d8576b\"], [0.6666666666666666, \"#ed7953\"], [0.7777777777777778, \"#fb9f3a\"], [0.8888888888888888, \"#fdca26\"], [1.0, \"#f0f921\"]], \"type\": \"contour\"}], \"contourcarpet\": [{\"colorbar\": {\"outlinewidth\": 0, \"ticks\": \"\"}, \"type\": \"contourcarpet\"}], \"heatmap\": [{\"colorbar\": {\"outlinewidth\": 0, \"ticks\": \"\"}, \"colorscale\": [[0.0, \"#0d0887\"], [0.1111111111111111, \"#46039f\"], [0.2222222222222222, \"#7201a8\"], [0.3333333333333333, \"#9c179e\"], [0.4444444444444444, \"#bd3786\"], [0.5555555555555556, \"#d8576b\"], [0.6666666666666666, \"#ed7953\"], [0.7777777777777778, \"#fb9f3a\"], [0.8888888888888888, \"#fdca26\"], [1.0, \"#f0f921\"]], \"type\": \"heatmap\"}], \"heatmapgl\": [{\"colorbar\": {\"outlinewidth\": 0, \"ticks\": \"\"}, \"colorscale\": [[0.0, \"#0d0887\"], [0.1111111111111111, \"#46039f\"], [0.2222222222222222, \"#7201a8\"], [0.3333333333333333, \"#9c179e\"], [0.4444444444444444, \"#bd3786\"], [0.5555555555555556, \"#d8576b\"], [0.6666666666666666, \"#ed7953\"], [0.7777777777777778, \"#fb9f3a\"], [0.8888888888888888, \"#fdca26\"], [1.0, \"#f0f921\"]], \"type\": \"heatmapgl\"}], \"histogram\": [{\"marker\": {\"colorbar\": {\"outlinewidth\": 0, \"ticks\": \"\"}}, \"type\": \"histogram\"}], \"histogram2d\": [{\"colorbar\": {\"outlinewidth\": 0, \"ticks\": \"\"}, \"colorscale\": [[0.0, \"#0d0887\"], [0.1111111111111111, \"#46039f\"], [0.2222222222222222, \"#7201a8\"], [0.3333333333333333, \"#9c179e\"], [0.4444444444444444, \"#bd3786\"], [0.5555555555555556, \"#d8576b\"], [0.6666666666666666, \"#ed7953\"], [0.7777777777777778, \"#fb9f3a\"], [0.8888888888888888, \"#fdca26\"], [1.0, \"#f0f921\"]], \"type\": \"histogram2d\"}], \"histogram2dcontour\": [{\"colorbar\": {\"outlinewidth\": 0, \"ticks\": \"\"}, \"colorscale\": [[0.0, \"#0d0887\"], [0.1111111111111111, \"#46039f\"], [0.2222222222222222, \"#7201a8\"], [0.3333333333333333, \"#9c179e\"], [0.4444444444444444, \"#bd3786\"], [0.5555555555555556, \"#d8576b\"], [0.6666666666666666, \"#ed7953\"], [0.7777777777777778, \"#fb9f3a\"], [0.8888888888888888, \"#fdca26\"], [1.0, \"#f0f921\"]], \"type\": \"histogram2dcontour\"}], \"mesh3d\": [{\"colorbar\": {\"outlinewidth\": 0, \"ticks\": \"\"}, \"type\": \"mesh3d\"}], \"parcoords\": [{\"line\": {\"colorbar\": {\"outlinewidth\": 0, \"ticks\": \"\"}}, \"type\": \"parcoords\"}], \"pie\": [{\"automargin\": true, \"type\": \"pie\"}], \"scatter\": [{\"marker\": {\"colorbar\": {\"outlinewidth\": 0, \"ticks\": \"\"}}, \"type\": \"scatter\"}], \"scatter3d\": [{\"line\": {\"colorbar\": {\"outlinewidth\": 0, \"ticks\": \"\"}}, \"marker\": {\"colorbar\": {\"outlinewidth\": 0, \"ticks\": \"\"}}, \"type\": \"scatter3d\"}], \"scattercarpet\": [{\"marker\": {\"colorbar\": {\"outlinewidth\": 0, \"ticks\": \"\"}}, \"type\": \"scattercarpet\"}], \"scattergeo\": [{\"marker\": {\"colorbar\": {\"outlinewidth\": 0, \"ticks\": \"\"}}, \"type\": \"scattergeo\"}], \"scattergl\": [{\"marker\": {\"colorbar\": {\"outlinewidth\": 0, \"ticks\": \"\"}}, \"type\": \"scattergl\"}], \"scattermapbox\": [{\"marker\": {\"colorbar\": {\"outlinewidth\": 0, \"ticks\": \"\"}}, \"type\": \"scattermapbox\"}], \"scatterpolar\": [{\"marker\": {\"colorbar\": {\"outlinewidth\": 0, \"ticks\": \"\"}}, \"type\": \"scatterpolar\"}], \"scatterpolargl\": [{\"marker\": {\"colorbar\": {\"outlinewidth\": 0, \"ticks\": \"\"}}, \"type\": \"scatterpolargl\"}], \"scatterternary\": [{\"marker\": {\"colorbar\": {\"outlinewidth\": 0, \"ticks\": \"\"}}, \"type\": \"scatterternary\"}], \"surface\": [{\"colorbar\": {\"outlinewidth\": 0, \"ticks\": \"\"}, \"colorscale\": [[0.0, \"#0d0887\"], [0.1111111111111111, \"#46039f\"], [0.2222222222222222, \"#7201a8\"], [0.3333333333333333, \"#9c179e\"], [0.4444444444444444, \"#bd3786\"], [0.5555555555555556, \"#d8576b\"], [0.6666666666666666, \"#ed7953\"], [0.7777777777777778, \"#fb9f3a\"], [0.8888888888888888, \"#fdca26\"], [1.0, \"#f0f921\"]], \"type\": \"surface\"}], \"table\": [{\"cells\": {\"fill\": {\"color\": \"#EBF0F8\"}, \"line\": {\"color\": \"white\"}}, \"header\": {\"fill\": {\"color\": \"#C8D4E3\"}, \"line\": {\"color\": \"white\"}}, \"type\": \"table\"}]}, \"layout\": {\"annotationdefaults\": {\"arrowcolor\": \"#2a3f5f\", \"arrowhead\": 0, \"arrowwidth\": 1}, \"coloraxis\": {\"colorbar\": {\"outlinewidth\": 0, \"ticks\": \"\"}}, \"colorscale\": {\"diverging\": [[0, \"#8e0152\"], [0.1, \"#c51b7d\"], [0.2, \"#de77ae\"], [0.3, \"#f1b6da\"], [0.4, \"#fde0ef\"], [0.5, \"#f7f7f7\"], [0.6, \"#e6f5d0\"], [0.7, \"#b8e186\"], [0.8, \"#7fbc41\"], [0.9, \"#4d9221\"], [1, \"#276419\"]], \"sequential\": [[0.0, \"#0d0887\"], [0.1111111111111111, \"#46039f\"], [0.2222222222222222, \"#7201a8\"], [0.3333333333333333, \"#9c179e\"], [0.4444444444444444, \"#bd3786\"], [0.5555555555555556, \"#d8576b\"], [0.6666666666666666, \"#ed7953\"], [0.7777777777777778, \"#fb9f3a\"], [0.8888888888888888, \"#fdca26\"], [1.0, \"#f0f921\"]], \"sequentialminus\": [[0.0, \"#0d0887\"], [0.1111111111111111, \"#46039f\"], [0.2222222222222222, \"#7201a8\"], [0.3333333333333333, \"#9c179e\"], [0.4444444444444444, \"#bd3786\"], [0.5555555555555556, \"#d8576b\"], [0.6666666666666666, \"#ed7953\"], [0.7777777777777778, \"#fb9f3a\"], [0.8888888888888888, \"#fdca26\"], [1.0, \"#f0f921\"]]}, \"colorway\": [\"#636efa\", \"#EF553B\", \"#00cc96\", \"#ab63fa\", \"#FFA15A\", \"#19d3f3\", \"#FF6692\", \"#B6E880\", \"#FF97FF\", \"#FECB52\"], \"font\": {\"color\": \"#2a3f5f\"}, \"geo\": {\"bgcolor\": \"white\", \"lakecolor\": \"white\", \"landcolor\": \"#E5ECF6\", \"showlakes\": true, \"showland\": true, \"subunitcolor\": \"white\"}, \"hoverlabel\": {\"align\": \"left\"}, \"hovermode\": \"closest\", \"mapbox\": {\"style\": \"light\"}, \"paper_bgcolor\": \"white\", \"plot_bgcolor\": \"#E5ECF6\", \"polar\": {\"angularaxis\": {\"gridcolor\": \"white\", \"linecolor\": \"white\", \"ticks\": \"\"}, \"bgcolor\": \"#E5ECF6\", \"radialaxis\": {\"gridcolor\": \"white\", \"linecolor\": \"white\", \"ticks\": \"\"}}, \"scene\": {\"xaxis\": {\"backgroundcolor\": \"#E5ECF6\", \"gridcolor\": \"white\", \"gridwidth\": 2, \"linecolor\": \"white\", \"showbackground\": true, \"ticks\": \"\", \"zerolinecolor\": \"white\"}, \"yaxis\": {\"backgroundcolor\": \"#E5ECF6\", \"gridcolor\": \"white\", \"gridwidth\": 2, \"linecolor\": \"white\", \"showbackground\": true, \"ticks\": \"\", \"zerolinecolor\": \"white\"}, \"zaxis\": {\"backgroundcolor\": \"#E5ECF6\", \"gridcolor\": \"white\", \"gridwidth\": 2, \"linecolor\": \"white\", \"showbackground\": true, \"ticks\": \"\", \"zerolinecolor\": \"white\"}}, \"shapedefaults\": {\"line\": {\"color\": \"#2a3f5f\"}}, \"ternary\": {\"aaxis\": {\"gridcolor\": \"white\", \"linecolor\": \"white\", \"ticks\": \"\"}, \"baxis\": {\"gridcolor\": \"white\", \"linecolor\": \"white\", \"ticks\": \"\"}, \"bgcolor\": \"#E5ECF6\", \"caxis\": {\"gridcolor\": \"white\", \"linecolor\": \"white\", \"ticks\": \"\"}}, \"title\": {\"x\": 0.05}, \"xaxis\": {\"automargin\": true, \"gridcolor\": \"white\", \"linecolor\": \"white\", \"ticks\": \"\", \"title\": {\"standoff\": 15}, \"zerolinecolor\": \"white\", \"zerolinewidth\": 2}, \"yaxis\": {\"automargin\": true, \"gridcolor\": \"white\", \"linecolor\": \"white\", \"ticks\": \"\", \"title\": {\"standoff\": 15}, \"zerolinecolor\": \"white\", \"zerolinewidth\": 2}}}, \"title\": {\"text\": \"Distinct Employers Applying for H1B in US By States\"}},\n",
       "                        {\"responsive\": true}\n",
       "                    ).then(function(){\n",
       "                            \n",
       "var gd = document.getElementById('6bd25eb0-9100-4848-8969-ad4a2eed6b8c');\n",
       "var x = new MutationObserver(function (mutations, observer) {{\n",
       "        var display = window.getComputedStyle(gd).display;\n",
       "        if (!display || display === 'none') {{\n",
       "            console.log([gd, 'removed!']);\n",
       "            Plotly.purge(gd);\n",
       "            observer.disconnect();\n",
       "        }}\n",
       "}});\n",
       "\n",
       "// Listen for the removal of the full notebook cells\n",
       "var notebookContainer = gd.closest('#notebook-container');\n",
       "if (notebookContainer) {{\n",
       "    x.observe(notebookContainer, {childList: true});\n",
       "}}\n",
       "\n",
       "// Listen for the clearing of the current output cell\n",
       "var outputEl = gd.closest('.output');\n",
       "if (outputEl) {{\n",
       "    x.observe(outputEl, {childList: true});\n",
       "}}\n",
       "\n",
       "                        })\n",
       "                };\n",
       "                });\n",
       "            </script>\n",
       "        </div>"
      ]
     },
     "metadata": {},
     "output_type": "display_data"
    }
   ],
   "source": [
    "import plotly.graph_objects as go\n",
    "colors  = ['#de3d83' if x < 1000 else '#e4bd0b' if x<10000 else \"#00b8b8\" for x in df35['Employer']]\n",
    "fig = go.Figure(data=go.Choropleth(\n",
    "    locations=df35['State'], # Spatial coordinates\n",
    "    z = df35['Employer'].astype(float), # Data to be color-coded\n",
    "    locationmode = 'USA-states', # set of locations match entries in `locations`\n",
    "    colorscale = colors,\n",
    "    colorbar_title = \"Distinct Employers\",\n",
    "))\n",
    "\n",
    "fig.update_layout(\n",
    "    title_text = 'Distinct Employers Applying for H1B in US By States',\n",
    "    geo_scope='usa', # limite map scope to USA\n",
    ")\n",
    "\n",
    "fig.show()"
   ]
  },
  {
   "cell_type": "markdown",
   "metadata": {},
   "source": [
    "### Total Distinct Employers in the US who have used H1B between 2009-2018"
   ]
  },
  {
   "cell_type": "code",
   "execution_count": 534,
   "metadata": {},
   "outputs": [
    {
     "data": {
      "text/html": [
       "<div>\n",
       "<style scoped>\n",
       "    .dataframe tbody tr th:only-of-type {\n",
       "        vertical-align: middle;\n",
       "    }\n",
       "\n",
       "    .dataframe tbody tr th {\n",
       "        vertical-align: top;\n",
       "    }\n",
       "\n",
       "    .dataframe thead th {\n",
       "        text-align: right;\n",
       "    }\n",
       "</style>\n",
       "<table border=\"1\" class=\"dataframe\">\n",
       "  <thead>\n",
       "    <tr style=\"text-align: right;\">\n",
       "      <th></th>\n",
       "      <th>Employer</th>\n",
       "    </tr>\n",
       "  </thead>\n",
       "  <tbody>\n",
       "    <tr>\n",
       "      <th>0</th>\n",
       "      <td>265149</td>\n",
       "    </tr>\n",
       "  </tbody>\n",
       "</table>\n",
       "</div>"
      ],
      "text/plain": [
       "   Employer\n",
       "0    265149"
      ]
     },
     "execution_count": 534,
     "metadata": {},
     "output_type": "execute_result"
    }
   ],
   "source": [
    "h1b_query36 = ''' \n",
    "select  \n",
    "count(DISTINCT Employer) Employer\n",
    "from h1b\n",
    "where Fiscal_Year !='2019'\n",
    ";'''\n",
    "\n",
    "\n",
    "df36 = pd.read_sql_query(h1b_query36, conn)\n",
    "df36"
   ]
  },
  {
   "cell_type": "markdown",
   "metadata": {},
   "source": [
    "### How is the use of H1B Visas distributed among Employers?"
   ]
  },
  {
   "cell_type": "code",
   "execution_count": 288,
   "metadata": {},
   "outputs": [
    {
     "name": "stdout",
     "output_type": "stream",
     "text": [
      " df14                       Employer  percent_total_H1B\n",
      "0                    COGNIZANT           4.887569\n",
      "1                      INFOSYS           3.330258\n",
      "2                         TATA           2.564470\n",
      "3                        WIPRO           2.040153\n",
      "4                    ACCENTURE           1.249004\n",
      "5                    MICROSOFT           1.229762\n",
      "6                     DELOITTE           1.184480\n",
      "7                          IBM           1.034593\n",
      "8                          HCL           0.874541\n",
      "9                       AMAZON           0.809745\n",
      "10                      LARSEN           0.692052\n",
      "11                       INTEL           0.644865\n",
      "12                      GOOGLE           0.634259\n",
      "13  TECH MAHINDRA AMERICAS INC           0.602575\n",
      "14                      SYNTEL           0.601997\n",
      "15                   CAPGEMINI           0.557224\n",
      "16                 ERNST&YOUNG           0.521903\n",
      "17                    QUALCOMM           0.481720\n",
      "18                      ORACLE           0.479204\n",
      "19                       APPLE           0.469923\n",
      " df14 24.890295708648242\n"
     ]
    }
   ],
   "source": [
    "h1b_query14 = ''' \n",
    "with visas_by_Employer AS\n",
    "(\n",
    "select  \n",
    "SUM(Initial_Approvals)  + SUM(Continuing_Approvals) AS sum_IA \n",
    "from h1b\n",
    "where Fiscal_Year !='2019'\n",
    ")\n",
    "select  \n",
    "Employer,\n",
    "(CAST(SUM(Initial_Approvals) AS REAL) + CAST(SUM(Continuing_Approvals) AS REAL)) / (CAST(vs.sum_IA AS REAL))*100 AS percent_total_H1B \n",
    "from h1b, visas_by_Employer vs\n",
    "where Fiscal_Year !='2019'\n",
    "group by Employer\n",
    "order by 2 desc\n",
    "limit 20\n",
    ";\n",
    "'''\n",
    "\n",
    "df14 = pd.read_sql_query(h1b_query14, conn)\n",
    "print(f' df14 {df14}')\n",
    "print(f' df14 {df14.sum()[1]}')\n",
    "df14['percent_total_H1B']=df14['percent_total_H1B'].apply(lambda x:round(x,2))"
   ]
  },
  {
   "cell_type": "code",
   "execution_count": 295,
   "metadata": {},
   "outputs": [
    {
     "data": {
      "application/vnd.plotly.v1+json": {
       "config": {
        "plotlyServerURL": "https://plot.ly"
       },
       "data": [
        {
         "marker": {
          "color": "#00b8b8",
          "line": {
           "width": 0.5
          }
         },
         "opacity": 0.9,
         "orientation": "h",
         "text": [
          "0.47",
          "0.48",
          "0.48",
          "0.52",
          "0.56",
          "0.6",
          "0.6",
          "0.63",
          "0.64",
          "0.69",
          "0.81",
          "0.87",
          "1.03",
          "1.18",
          "1.23",
          "1.25",
          "2.04",
          "2.56",
          "3.33",
          "4.89"
         ],
         "textposition": "outside",
         "type": "bar",
         "width": 0.51,
         "x": [
          0.47,
          0.48,
          0.48,
          0.52,
          0.56,
          0.6,
          0.6,
          0.63,
          0.64,
          0.69,
          0.81,
          0.87,
          1.03,
          1.18,
          1.23,
          1.25,
          2.04,
          2.56,
          3.33,
          4.89
         ],
         "y": [
          "APPLE",
          "ORACLE",
          "QUALCOMM",
          "ERNST&YOUNG",
          "CAPGEMINI",
          "SYNTEL",
          "TECH MAHINDRA AMERICAS INC",
          "GOOGLE",
          "INTEL",
          "LARSEN",
          "AMAZON",
          "HCL",
          "IBM",
          "DELOITTE",
          "MICROSOFT",
          "ACCENTURE",
          "WIPRO",
          "TATA",
          "INFOSYS",
          "COGNIZANT"
         ]
        }
       ],
       "layout": {
        "height": 600,
        "legend": {
         "font": {
          "size": 12
         },
         "traceorder": "reversed",
         "x": 0.73,
         "y": 0.98
        },
        "plot_bgcolor": "rgba(0,0,0,0)",
        "template": {
         "data": {
          "bar": [
           {
            "error_x": {
             "color": "#2a3f5f"
            },
            "error_y": {
             "color": "#2a3f5f"
            },
            "marker": {
             "line": {
              "color": "#E5ECF6",
              "width": 0.5
             }
            },
            "type": "bar"
           }
          ],
          "barpolar": [
           {
            "marker": {
             "line": {
              "color": "#E5ECF6",
              "width": 0.5
             }
            },
            "type": "barpolar"
           }
          ],
          "carpet": [
           {
            "aaxis": {
             "endlinecolor": "#2a3f5f",
             "gridcolor": "white",
             "linecolor": "white",
             "minorgridcolor": "white",
             "startlinecolor": "#2a3f5f"
            },
            "baxis": {
             "endlinecolor": "#2a3f5f",
             "gridcolor": "white",
             "linecolor": "white",
             "minorgridcolor": "white",
             "startlinecolor": "#2a3f5f"
            },
            "type": "carpet"
           }
          ],
          "choropleth": [
           {
            "colorbar": {
             "outlinewidth": 0,
             "ticks": ""
            },
            "type": "choropleth"
           }
          ],
          "contour": [
           {
            "colorbar": {
             "outlinewidth": 0,
             "ticks": ""
            },
            "colorscale": [
             [
              0,
              "#0d0887"
             ],
             [
              0.1111111111111111,
              "#46039f"
             ],
             [
              0.2222222222222222,
              "#7201a8"
             ],
             [
              0.3333333333333333,
              "#9c179e"
             ],
             [
              0.4444444444444444,
              "#bd3786"
             ],
             [
              0.5555555555555556,
              "#d8576b"
             ],
             [
              0.6666666666666666,
              "#ed7953"
             ],
             [
              0.7777777777777778,
              "#fb9f3a"
             ],
             [
              0.8888888888888888,
              "#fdca26"
             ],
             [
              1,
              "#f0f921"
             ]
            ],
            "type": "contour"
           }
          ],
          "contourcarpet": [
           {
            "colorbar": {
             "outlinewidth": 0,
             "ticks": ""
            },
            "type": "contourcarpet"
           }
          ],
          "heatmap": [
           {
            "colorbar": {
             "outlinewidth": 0,
             "ticks": ""
            },
            "colorscale": [
             [
              0,
              "#0d0887"
             ],
             [
              0.1111111111111111,
              "#46039f"
             ],
             [
              0.2222222222222222,
              "#7201a8"
             ],
             [
              0.3333333333333333,
              "#9c179e"
             ],
             [
              0.4444444444444444,
              "#bd3786"
             ],
             [
              0.5555555555555556,
              "#d8576b"
             ],
             [
              0.6666666666666666,
              "#ed7953"
             ],
             [
              0.7777777777777778,
              "#fb9f3a"
             ],
             [
              0.8888888888888888,
              "#fdca26"
             ],
             [
              1,
              "#f0f921"
             ]
            ],
            "type": "heatmap"
           }
          ],
          "heatmapgl": [
           {
            "colorbar": {
             "outlinewidth": 0,
             "ticks": ""
            },
            "colorscale": [
             [
              0,
              "#0d0887"
             ],
             [
              0.1111111111111111,
              "#46039f"
             ],
             [
              0.2222222222222222,
              "#7201a8"
             ],
             [
              0.3333333333333333,
              "#9c179e"
             ],
             [
              0.4444444444444444,
              "#bd3786"
             ],
             [
              0.5555555555555556,
              "#d8576b"
             ],
             [
              0.6666666666666666,
              "#ed7953"
             ],
             [
              0.7777777777777778,
              "#fb9f3a"
             ],
             [
              0.8888888888888888,
              "#fdca26"
             ],
             [
              1,
              "#f0f921"
             ]
            ],
            "type": "heatmapgl"
           }
          ],
          "histogram": [
           {
            "marker": {
             "colorbar": {
              "outlinewidth": 0,
              "ticks": ""
             }
            },
            "type": "histogram"
           }
          ],
          "histogram2d": [
           {
            "colorbar": {
             "outlinewidth": 0,
             "ticks": ""
            },
            "colorscale": [
             [
              0,
              "#0d0887"
             ],
             [
              0.1111111111111111,
              "#46039f"
             ],
             [
              0.2222222222222222,
              "#7201a8"
             ],
             [
              0.3333333333333333,
              "#9c179e"
             ],
             [
              0.4444444444444444,
              "#bd3786"
             ],
             [
              0.5555555555555556,
              "#d8576b"
             ],
             [
              0.6666666666666666,
              "#ed7953"
             ],
             [
              0.7777777777777778,
              "#fb9f3a"
             ],
             [
              0.8888888888888888,
              "#fdca26"
             ],
             [
              1,
              "#f0f921"
             ]
            ],
            "type": "histogram2d"
           }
          ],
          "histogram2dcontour": [
           {
            "colorbar": {
             "outlinewidth": 0,
             "ticks": ""
            },
            "colorscale": [
             [
              0,
              "#0d0887"
             ],
             [
              0.1111111111111111,
              "#46039f"
             ],
             [
              0.2222222222222222,
              "#7201a8"
             ],
             [
              0.3333333333333333,
              "#9c179e"
             ],
             [
              0.4444444444444444,
              "#bd3786"
             ],
             [
              0.5555555555555556,
              "#d8576b"
             ],
             [
              0.6666666666666666,
              "#ed7953"
             ],
             [
              0.7777777777777778,
              "#fb9f3a"
             ],
             [
              0.8888888888888888,
              "#fdca26"
             ],
             [
              1,
              "#f0f921"
             ]
            ],
            "type": "histogram2dcontour"
           }
          ],
          "mesh3d": [
           {
            "colorbar": {
             "outlinewidth": 0,
             "ticks": ""
            },
            "type": "mesh3d"
           }
          ],
          "parcoords": [
           {
            "line": {
             "colorbar": {
              "outlinewidth": 0,
              "ticks": ""
             }
            },
            "type": "parcoords"
           }
          ],
          "pie": [
           {
            "automargin": true,
            "type": "pie"
           }
          ],
          "scatter": [
           {
            "marker": {
             "colorbar": {
              "outlinewidth": 0,
              "ticks": ""
             }
            },
            "type": "scatter"
           }
          ],
          "scatter3d": [
           {
            "line": {
             "colorbar": {
              "outlinewidth": 0,
              "ticks": ""
             }
            },
            "marker": {
             "colorbar": {
              "outlinewidth": 0,
              "ticks": ""
             }
            },
            "type": "scatter3d"
           }
          ],
          "scattercarpet": [
           {
            "marker": {
             "colorbar": {
              "outlinewidth": 0,
              "ticks": ""
             }
            },
            "type": "scattercarpet"
           }
          ],
          "scattergeo": [
           {
            "marker": {
             "colorbar": {
              "outlinewidth": 0,
              "ticks": ""
             }
            },
            "type": "scattergeo"
           }
          ],
          "scattergl": [
           {
            "marker": {
             "colorbar": {
              "outlinewidth": 0,
              "ticks": ""
             }
            },
            "type": "scattergl"
           }
          ],
          "scattermapbox": [
           {
            "marker": {
             "colorbar": {
              "outlinewidth": 0,
              "ticks": ""
             }
            },
            "type": "scattermapbox"
           }
          ],
          "scatterpolar": [
           {
            "marker": {
             "colorbar": {
              "outlinewidth": 0,
              "ticks": ""
             }
            },
            "type": "scatterpolar"
           }
          ],
          "scatterpolargl": [
           {
            "marker": {
             "colorbar": {
              "outlinewidth": 0,
              "ticks": ""
             }
            },
            "type": "scatterpolargl"
           }
          ],
          "scatterternary": [
           {
            "marker": {
             "colorbar": {
              "outlinewidth": 0,
              "ticks": ""
             }
            },
            "type": "scatterternary"
           }
          ],
          "surface": [
           {
            "colorbar": {
             "outlinewidth": 0,
             "ticks": ""
            },
            "colorscale": [
             [
              0,
              "#0d0887"
             ],
             [
              0.1111111111111111,
              "#46039f"
             ],
             [
              0.2222222222222222,
              "#7201a8"
             ],
             [
              0.3333333333333333,
              "#9c179e"
             ],
             [
              0.4444444444444444,
              "#bd3786"
             ],
             [
              0.5555555555555556,
              "#d8576b"
             ],
             [
              0.6666666666666666,
              "#ed7953"
             ],
             [
              0.7777777777777778,
              "#fb9f3a"
             ],
             [
              0.8888888888888888,
              "#fdca26"
             ],
             [
              1,
              "#f0f921"
             ]
            ],
            "type": "surface"
           }
          ],
          "table": [
           {
            "cells": {
             "fill": {
              "color": "#EBF0F8"
             },
             "line": {
              "color": "white"
             }
            },
            "header": {
             "fill": {
              "color": "#C8D4E3"
             },
             "line": {
              "color": "white"
             }
            },
            "type": "table"
           }
          ]
         },
         "layout": {
          "annotationdefaults": {
           "arrowcolor": "#2a3f5f",
           "arrowhead": 0,
           "arrowwidth": 1
          },
          "coloraxis": {
           "colorbar": {
            "outlinewidth": 0,
            "ticks": ""
           }
          },
          "colorscale": {
           "diverging": [
            [
             0,
             "#8e0152"
            ],
            [
             0.1,
             "#c51b7d"
            ],
            [
             0.2,
             "#de77ae"
            ],
            [
             0.3,
             "#f1b6da"
            ],
            [
             0.4,
             "#fde0ef"
            ],
            [
             0.5,
             "#f7f7f7"
            ],
            [
             0.6,
             "#e6f5d0"
            ],
            [
             0.7,
             "#b8e186"
            ],
            [
             0.8,
             "#7fbc41"
            ],
            [
             0.9,
             "#4d9221"
            ],
            [
             1,
             "#276419"
            ]
           ],
           "sequential": [
            [
             0,
             "#0d0887"
            ],
            [
             0.1111111111111111,
             "#46039f"
            ],
            [
             0.2222222222222222,
             "#7201a8"
            ],
            [
             0.3333333333333333,
             "#9c179e"
            ],
            [
             0.4444444444444444,
             "#bd3786"
            ],
            [
             0.5555555555555556,
             "#d8576b"
            ],
            [
             0.6666666666666666,
             "#ed7953"
            ],
            [
             0.7777777777777778,
             "#fb9f3a"
            ],
            [
             0.8888888888888888,
             "#fdca26"
            ],
            [
             1,
             "#f0f921"
            ]
           ],
           "sequentialminus": [
            [
             0,
             "#0d0887"
            ],
            [
             0.1111111111111111,
             "#46039f"
            ],
            [
             0.2222222222222222,
             "#7201a8"
            ],
            [
             0.3333333333333333,
             "#9c179e"
            ],
            [
             0.4444444444444444,
             "#bd3786"
            ],
            [
             0.5555555555555556,
             "#d8576b"
            ],
            [
             0.6666666666666666,
             "#ed7953"
            ],
            [
             0.7777777777777778,
             "#fb9f3a"
            ],
            [
             0.8888888888888888,
             "#fdca26"
            ],
            [
             1,
             "#f0f921"
            ]
           ]
          },
          "colorway": [
           "#636efa",
           "#EF553B",
           "#00cc96",
           "#ab63fa",
           "#FFA15A",
           "#19d3f3",
           "#FF6692",
           "#B6E880",
           "#FF97FF",
           "#FECB52"
          ],
          "font": {
           "color": "#2a3f5f"
          },
          "geo": {
           "bgcolor": "white",
           "lakecolor": "white",
           "landcolor": "#E5ECF6",
           "showlakes": true,
           "showland": true,
           "subunitcolor": "white"
          },
          "hoverlabel": {
           "align": "left"
          },
          "hovermode": "closest",
          "mapbox": {
           "style": "light"
          },
          "paper_bgcolor": "white",
          "plot_bgcolor": "#E5ECF6",
          "polar": {
           "angularaxis": {
            "gridcolor": "white",
            "linecolor": "white",
            "ticks": ""
           },
           "bgcolor": "#E5ECF6",
           "radialaxis": {
            "gridcolor": "white",
            "linecolor": "white",
            "ticks": ""
           }
          },
          "scene": {
           "xaxis": {
            "backgroundcolor": "#E5ECF6",
            "gridcolor": "white",
            "gridwidth": 2,
            "linecolor": "white",
            "showbackground": true,
            "ticks": "",
            "zerolinecolor": "white"
           },
           "yaxis": {
            "backgroundcolor": "#E5ECF6",
            "gridcolor": "white",
            "gridwidth": 2,
            "linecolor": "white",
            "showbackground": true,
            "ticks": "",
            "zerolinecolor": "white"
           },
           "zaxis": {
            "backgroundcolor": "#E5ECF6",
            "gridcolor": "white",
            "gridwidth": 2,
            "linecolor": "white",
            "showbackground": true,
            "ticks": "",
            "zerolinecolor": "white"
           }
          },
          "shapedefaults": {
           "line": {
            "color": "#2a3f5f"
           }
          },
          "ternary": {
           "aaxis": {
            "gridcolor": "white",
            "linecolor": "white",
            "ticks": ""
           },
           "baxis": {
            "gridcolor": "white",
            "linecolor": "white",
            "ticks": ""
           },
           "bgcolor": "#E5ECF6",
           "caxis": {
            "gridcolor": "white",
            "linecolor": "white",
            "ticks": ""
           }
          },
          "title": {
           "x": 0.05
          },
          "xaxis": {
           "automargin": true,
           "gridcolor": "white",
           "linecolor": "white",
           "ticks": "",
           "title": {
            "standoff": 15
           },
           "zerolinecolor": "white",
           "zerolinewidth": 2
          },
          "yaxis": {
           "automargin": true,
           "gridcolor": "white",
           "linecolor": "white",
           "ticks": "",
           "title": {
            "standoff": 15
           },
           "zerolinecolor": "white",
           "zerolinewidth": 2
          }
         }
        },
        "title": {
         "text": "Top 20 Companies Using H1B VISAS"
        },
        "uniformtext": {
         "minsize": 14
        },
        "width": 500,
        "xaxis": {
         "dtick": 1,
         "showgrid": false,
         "tickcolor": "#e0e5db",
         "tickfont": {
          "color": "#151515"
         },
         "ticklen": 12,
         "ticks": "outside",
         "tickwidth": 3,
         "title": {
          "font": {
           "color": "#151515"
          },
          "text": "% Share in Total Approved Applications"
         }
        },
        "yaxis": {
         "dtick": 1,
         "tickangle": 0,
         "tickcolor": "#e0e5db",
         "tickfont": {
          "color": "#151515",
          "family": "Rockwell",
          "size": 12
         },
         "ticklen": 12,
         "ticks": "outside",
         "tickwidth": 3
        }
       }
      },
      "text/html": [
       "<div>\n",
       "        \n",
       "        \n",
       "            <div id=\"2c1b9ab3-28d7-4d7f-b878-e50587695e51\" class=\"plotly-graph-div\" style=\"height:600px; width:500px;\"></div>\n",
       "            <script type=\"text/javascript\">\n",
       "                require([\"plotly\"], function(Plotly) {\n",
       "                    window.PLOTLYENV=window.PLOTLYENV || {};\n",
       "                    \n",
       "                if (document.getElementById(\"2c1b9ab3-28d7-4d7f-b878-e50587695e51\")) {\n",
       "                    Plotly.newPlot(\n",
       "                        '2c1b9ab3-28d7-4d7f-b878-e50587695e51',\n",
       "                        [{\"marker\": {\"color\": \"#00b8b8\", \"line\": {\"width\": 0.5}}, \"opacity\": 0.9, \"orientation\": \"h\", \"text\": [\"0.47\", \"0.48\", \"0.48\", \"0.52\", \"0.56\", \"0.6\", \"0.6\", \"0.63\", \"0.64\", \"0.69\", \"0.81\", \"0.87\", \"1.03\", \"1.18\", \"1.23\", \"1.25\", \"2.04\", \"2.56\", \"3.33\", \"4.89\"], \"textposition\": \"outside\", \"type\": \"bar\", \"width\": 0.51, \"x\": [0.47, 0.48, 0.48, 0.52, 0.56, 0.6, 0.6, 0.63, 0.64, 0.69, 0.81, 0.87, 1.03, 1.18, 1.23, 1.25, 2.04, 2.56, 3.33, 4.89], \"y\": [\"APPLE\", \"ORACLE\", \"QUALCOMM\", \"ERNST&YOUNG\", \"CAPGEMINI\", \"SYNTEL\", \"TECH MAHINDRA AMERICAS INC\", \"GOOGLE\", \"INTEL\", \"LARSEN\", \"AMAZON\", \"HCL\", \"IBM\", \"DELOITTE\", \"MICROSOFT\", \"ACCENTURE\", \"WIPRO\", \"TATA\", \"INFOSYS\", \"COGNIZANT\"]}],\n",
       "                        {\"height\": 600, \"legend\": {\"font\": {\"size\": 12}, \"traceorder\": \"reversed\", \"x\": 0.73, \"y\": 0.98}, \"plot_bgcolor\": \"rgba(0,0,0,0)\", \"template\": {\"data\": {\"bar\": [{\"error_x\": {\"color\": \"#2a3f5f\"}, \"error_y\": {\"color\": \"#2a3f5f\"}, \"marker\": {\"line\": {\"color\": \"#E5ECF6\", \"width\": 0.5}}, \"type\": \"bar\"}], \"barpolar\": [{\"marker\": {\"line\": {\"color\": \"#E5ECF6\", \"width\": 0.5}}, \"type\": \"barpolar\"}], \"carpet\": [{\"aaxis\": {\"endlinecolor\": \"#2a3f5f\", \"gridcolor\": \"white\", \"linecolor\": \"white\", \"minorgridcolor\": \"white\", \"startlinecolor\": \"#2a3f5f\"}, \"baxis\": {\"endlinecolor\": \"#2a3f5f\", \"gridcolor\": \"white\", \"linecolor\": \"white\", \"minorgridcolor\": \"white\", \"startlinecolor\": \"#2a3f5f\"}, \"type\": \"carpet\"}], \"choropleth\": [{\"colorbar\": {\"outlinewidth\": 0, \"ticks\": \"\"}, \"type\": \"choropleth\"}], \"contour\": [{\"colorbar\": {\"outlinewidth\": 0, \"ticks\": \"\"}, \"colorscale\": [[0.0, \"#0d0887\"], [0.1111111111111111, \"#46039f\"], [0.2222222222222222, \"#7201a8\"], [0.3333333333333333, \"#9c179e\"], [0.4444444444444444, \"#bd3786\"], [0.5555555555555556, \"#d8576b\"], [0.6666666666666666, \"#ed7953\"], [0.7777777777777778, \"#fb9f3a\"], [0.8888888888888888, \"#fdca26\"], [1.0, \"#f0f921\"]], \"type\": \"contour\"}], \"contourcarpet\": [{\"colorbar\": {\"outlinewidth\": 0, \"ticks\": \"\"}, \"type\": \"contourcarpet\"}], \"heatmap\": [{\"colorbar\": {\"outlinewidth\": 0, \"ticks\": \"\"}, \"colorscale\": [[0.0, \"#0d0887\"], [0.1111111111111111, \"#46039f\"], [0.2222222222222222, \"#7201a8\"], [0.3333333333333333, \"#9c179e\"], [0.4444444444444444, \"#bd3786\"], [0.5555555555555556, \"#d8576b\"], [0.6666666666666666, \"#ed7953\"], [0.7777777777777778, \"#fb9f3a\"], [0.8888888888888888, \"#fdca26\"], [1.0, \"#f0f921\"]], \"type\": \"heatmap\"}], \"heatmapgl\": [{\"colorbar\": {\"outlinewidth\": 0, \"ticks\": \"\"}, \"colorscale\": [[0.0, \"#0d0887\"], [0.1111111111111111, \"#46039f\"], [0.2222222222222222, \"#7201a8\"], [0.3333333333333333, \"#9c179e\"], [0.4444444444444444, \"#bd3786\"], [0.5555555555555556, \"#d8576b\"], [0.6666666666666666, \"#ed7953\"], [0.7777777777777778, \"#fb9f3a\"], [0.8888888888888888, \"#fdca26\"], [1.0, \"#f0f921\"]], \"type\": \"heatmapgl\"}], \"histogram\": [{\"marker\": {\"colorbar\": {\"outlinewidth\": 0, \"ticks\": \"\"}}, \"type\": \"histogram\"}], \"histogram2d\": [{\"colorbar\": {\"outlinewidth\": 0, \"ticks\": \"\"}, \"colorscale\": [[0.0, \"#0d0887\"], [0.1111111111111111, \"#46039f\"], [0.2222222222222222, \"#7201a8\"], [0.3333333333333333, \"#9c179e\"], [0.4444444444444444, \"#bd3786\"], [0.5555555555555556, \"#d8576b\"], [0.6666666666666666, \"#ed7953\"], [0.7777777777777778, \"#fb9f3a\"], [0.8888888888888888, \"#fdca26\"], [1.0, \"#f0f921\"]], \"type\": \"histogram2d\"}], \"histogram2dcontour\": [{\"colorbar\": {\"outlinewidth\": 0, \"ticks\": \"\"}, \"colorscale\": [[0.0, \"#0d0887\"], [0.1111111111111111, \"#46039f\"], [0.2222222222222222, \"#7201a8\"], [0.3333333333333333, \"#9c179e\"], [0.4444444444444444, \"#bd3786\"], [0.5555555555555556, \"#d8576b\"], [0.6666666666666666, \"#ed7953\"], [0.7777777777777778, \"#fb9f3a\"], [0.8888888888888888, \"#fdca26\"], [1.0, \"#f0f921\"]], \"type\": \"histogram2dcontour\"}], \"mesh3d\": [{\"colorbar\": {\"outlinewidth\": 0, \"ticks\": \"\"}, \"type\": \"mesh3d\"}], \"parcoords\": [{\"line\": {\"colorbar\": {\"outlinewidth\": 0, \"ticks\": \"\"}}, \"type\": \"parcoords\"}], \"pie\": [{\"automargin\": true, \"type\": \"pie\"}], \"scatter\": [{\"marker\": {\"colorbar\": {\"outlinewidth\": 0, \"ticks\": \"\"}}, \"type\": \"scatter\"}], \"scatter3d\": [{\"line\": {\"colorbar\": {\"outlinewidth\": 0, \"ticks\": \"\"}}, \"marker\": {\"colorbar\": {\"outlinewidth\": 0, \"ticks\": \"\"}}, \"type\": \"scatter3d\"}], \"scattercarpet\": [{\"marker\": {\"colorbar\": {\"outlinewidth\": 0, \"ticks\": \"\"}}, \"type\": \"scattercarpet\"}], \"scattergeo\": [{\"marker\": {\"colorbar\": {\"outlinewidth\": 0, \"ticks\": \"\"}}, \"type\": \"scattergeo\"}], \"scattergl\": [{\"marker\": {\"colorbar\": {\"outlinewidth\": 0, \"ticks\": \"\"}}, \"type\": \"scattergl\"}], \"scattermapbox\": [{\"marker\": {\"colorbar\": {\"outlinewidth\": 0, \"ticks\": \"\"}}, \"type\": \"scattermapbox\"}], \"scatterpolar\": [{\"marker\": {\"colorbar\": {\"outlinewidth\": 0, \"ticks\": \"\"}}, \"type\": \"scatterpolar\"}], \"scatterpolargl\": [{\"marker\": {\"colorbar\": {\"outlinewidth\": 0, \"ticks\": \"\"}}, \"type\": \"scatterpolargl\"}], \"scatterternary\": [{\"marker\": {\"colorbar\": {\"outlinewidth\": 0, \"ticks\": \"\"}}, \"type\": \"scatterternary\"}], \"surface\": [{\"colorbar\": {\"outlinewidth\": 0, \"ticks\": \"\"}, \"colorscale\": [[0.0, \"#0d0887\"], [0.1111111111111111, \"#46039f\"], [0.2222222222222222, \"#7201a8\"], [0.3333333333333333, \"#9c179e\"], [0.4444444444444444, \"#bd3786\"], [0.5555555555555556, \"#d8576b\"], [0.6666666666666666, \"#ed7953\"], [0.7777777777777778, \"#fb9f3a\"], [0.8888888888888888, \"#fdca26\"], [1.0, \"#f0f921\"]], \"type\": \"surface\"}], \"table\": [{\"cells\": {\"fill\": {\"color\": \"#EBF0F8\"}, \"line\": {\"color\": \"white\"}}, \"header\": {\"fill\": {\"color\": \"#C8D4E3\"}, \"line\": {\"color\": \"white\"}}, \"type\": \"table\"}]}, \"layout\": {\"annotationdefaults\": {\"arrowcolor\": \"#2a3f5f\", \"arrowhead\": 0, \"arrowwidth\": 1}, \"coloraxis\": {\"colorbar\": {\"outlinewidth\": 0, \"ticks\": \"\"}}, \"colorscale\": {\"diverging\": [[0, \"#8e0152\"], [0.1, \"#c51b7d\"], [0.2, \"#de77ae\"], [0.3, \"#f1b6da\"], [0.4, \"#fde0ef\"], [0.5, \"#f7f7f7\"], [0.6, \"#e6f5d0\"], [0.7, \"#b8e186\"], [0.8, \"#7fbc41\"], [0.9, \"#4d9221\"], [1, \"#276419\"]], \"sequential\": [[0.0, \"#0d0887\"], [0.1111111111111111, \"#46039f\"], [0.2222222222222222, \"#7201a8\"], [0.3333333333333333, \"#9c179e\"], [0.4444444444444444, \"#bd3786\"], [0.5555555555555556, \"#d8576b\"], [0.6666666666666666, \"#ed7953\"], [0.7777777777777778, \"#fb9f3a\"], [0.8888888888888888, \"#fdca26\"], [1.0, \"#f0f921\"]], \"sequentialminus\": [[0.0, \"#0d0887\"], [0.1111111111111111, \"#46039f\"], [0.2222222222222222, \"#7201a8\"], [0.3333333333333333, \"#9c179e\"], [0.4444444444444444, \"#bd3786\"], [0.5555555555555556, \"#d8576b\"], [0.6666666666666666, \"#ed7953\"], [0.7777777777777778, \"#fb9f3a\"], [0.8888888888888888, \"#fdca26\"], [1.0, \"#f0f921\"]]}, \"colorway\": [\"#636efa\", \"#EF553B\", \"#00cc96\", \"#ab63fa\", \"#FFA15A\", \"#19d3f3\", \"#FF6692\", \"#B6E880\", \"#FF97FF\", \"#FECB52\"], \"font\": {\"color\": \"#2a3f5f\"}, \"geo\": {\"bgcolor\": \"white\", \"lakecolor\": \"white\", \"landcolor\": \"#E5ECF6\", \"showlakes\": true, \"showland\": true, \"subunitcolor\": \"white\"}, \"hoverlabel\": {\"align\": \"left\"}, \"hovermode\": \"closest\", \"mapbox\": {\"style\": \"light\"}, \"paper_bgcolor\": \"white\", \"plot_bgcolor\": \"#E5ECF6\", \"polar\": {\"angularaxis\": {\"gridcolor\": \"white\", \"linecolor\": \"white\", \"ticks\": \"\"}, \"bgcolor\": \"#E5ECF6\", \"radialaxis\": {\"gridcolor\": \"white\", \"linecolor\": \"white\", \"ticks\": \"\"}}, \"scene\": {\"xaxis\": {\"backgroundcolor\": \"#E5ECF6\", \"gridcolor\": \"white\", \"gridwidth\": 2, \"linecolor\": \"white\", \"showbackground\": true, \"ticks\": \"\", \"zerolinecolor\": \"white\"}, \"yaxis\": {\"backgroundcolor\": \"#E5ECF6\", \"gridcolor\": \"white\", \"gridwidth\": 2, \"linecolor\": \"white\", \"showbackground\": true, \"ticks\": \"\", \"zerolinecolor\": \"white\"}, \"zaxis\": {\"backgroundcolor\": \"#E5ECF6\", \"gridcolor\": \"white\", \"gridwidth\": 2, \"linecolor\": \"white\", \"showbackground\": true, \"ticks\": \"\", \"zerolinecolor\": \"white\"}}, \"shapedefaults\": {\"line\": {\"color\": \"#2a3f5f\"}}, \"ternary\": {\"aaxis\": {\"gridcolor\": \"white\", \"linecolor\": \"white\", \"ticks\": \"\"}, \"baxis\": {\"gridcolor\": \"white\", \"linecolor\": \"white\", \"ticks\": \"\"}, \"bgcolor\": \"#E5ECF6\", \"caxis\": {\"gridcolor\": \"white\", \"linecolor\": \"white\", \"ticks\": \"\"}}, \"title\": {\"x\": 0.05}, \"xaxis\": {\"automargin\": true, \"gridcolor\": \"white\", \"linecolor\": \"white\", \"ticks\": \"\", \"title\": {\"standoff\": 15}, \"zerolinecolor\": \"white\", \"zerolinewidth\": 2}, \"yaxis\": {\"automargin\": true, \"gridcolor\": \"white\", \"linecolor\": \"white\", \"ticks\": \"\", \"title\": {\"standoff\": 15}, \"zerolinecolor\": \"white\", \"zerolinewidth\": 2}}}, \"title\": {\"text\": \"Top 20 Companies Using H1B VISAS\"}, \"uniformtext\": {\"minsize\": 14}, \"width\": 500, \"xaxis\": {\"dtick\": 1, \"showgrid\": false, \"tickcolor\": \"#e0e5db\", \"tickfont\": {\"color\": \"#151515\"}, \"ticklen\": 12, \"ticks\": \"outside\", \"tickwidth\": 3, \"title\": {\"font\": {\"color\": \"#151515\"}, \"text\": \"% Share in Total Approved Applications\"}}, \"yaxis\": {\"dtick\": 1, \"tickangle\": 0, \"tickcolor\": \"#e0e5db\", \"tickfont\": {\"color\": \"#151515\", \"family\": \"Rockwell\", \"size\": 12}, \"ticklen\": 12, \"ticks\": \"outside\", \"tickwidth\": 3}},\n",
       "                        {\"responsive\": true}\n",
       "                    ).then(function(){\n",
       "                            \n",
       "var gd = document.getElementById('2c1b9ab3-28d7-4d7f-b878-e50587695e51');\n",
       "var x = new MutationObserver(function (mutations, observer) {{\n",
       "        var display = window.getComputedStyle(gd).display;\n",
       "        if (!display || display === 'none') {{\n",
       "            console.log([gd, 'removed!']);\n",
       "            Plotly.purge(gd);\n",
       "            observer.disconnect();\n",
       "        }}\n",
       "}});\n",
       "\n",
       "// Listen for the removal of the full notebook cells\n",
       "var notebookContainer = gd.closest('#notebook-container');\n",
       "if (notebookContainer) {{\n",
       "    x.observe(notebookContainer, {childList: true});\n",
       "}}\n",
       "\n",
       "// Listen for the clearing of the current output cell\n",
       "var outputEl = gd.closest('.output');\n",
       "if (outputEl) {{\n",
       "    x.observe(outputEl, {childList: true});\n",
       "}}\n",
       "\n",
       "                        })\n",
       "                };\n",
       "                });\n",
       "            </script>\n",
       "        </div>"
      ]
     },
     "metadata": {},
     "output_type": "display_data"
    }
   ],
   "source": [
    "import plotly.graph_objects as go\n",
    "\n",
    "fig = go.Figure(data=[go.Bar(\n",
    "    y=[x for x in df14['Employer'].iloc[::-1]],\n",
    "    x=[y for  y in df14['percent_total_H1B'].iloc[::-1]],\n",
    "    width=.51,\n",
    "    orientation='h',\n",
    "    marker_color='#00b8b8',\n",
    "    text=[y for  y in df14['percent_total_H1B'].iloc[::-1]],\n",
    "    textposition='outside',# marker color can be a single color value or an iterable\n",
    ")])\n",
    "fig.update_layout(\n",
    "    plot_bgcolor='rgba(0,0,0,0)'\n",
    ")\n",
    "fig.update_yaxes(\n",
    "        tickangle = 360,\n",
    "        tickfont=dict(family='Rockwell', color='#2677bb', size=8))\n",
    "fig.update_yaxes(tickangle = 360,tickfont=dict(family='Rockwell', color='#151515', size=12))\n",
    "fig.update_traces(marker_line_width=.5, opacity=0.9)\n",
    "fig.update_yaxes(dtick=1)\n",
    "fig.update_xaxes(dtick=1,ticks=\"outside\", tickwidth=3, tickcolor='#e0e5db', ticklen=12,showgrid=False)\n",
    "fig.update_yaxes(ticks=\"outside\", tickwidth=3, tickcolor='#e0e5db', ticklen=12)\n",
    "fig.update_traces(marker_line_width=.5, opacity=0.9)\n",
    "fig.update_layout(title=\"Top 20 Companies Using H1B VISAS\", \n",
    "                 legend=dict(x=.73,y=0.98, traceorder='reversed', font_size=12), \n",
    "                 width=500,\n",
    "                 height=600,\n",
    "                 uniformtext_minsize=14,\n",
    "                 xaxis=dict(\n",
    "        title=\"% Share in Total Approved Applications\",\n",
    "        titlefont=dict(\n",
    "            color=\"#151515\"\n",
    "        ),\n",
    "        tickfont=dict(\n",
    "            color=\"#151515\"\n",
    "        )\n",
    "    ),\n",
    "    )"
   ]
  },
  {
   "cell_type": "markdown",
   "metadata": {},
   "source": [
    "### How does the Employer State relationship look like?\n"
   ]
  },
  {
   "cell_type": "code",
   "execution_count": 550,
   "metadata": {},
   "outputs": [
    {
     "data": {
      "text/html": [
       "<div>\n",
       "<style scoped>\n",
       "    .dataframe tbody tr th:only-of-type {\n",
       "        vertical-align: middle;\n",
       "    }\n",
       "\n",
       "    .dataframe tbody tr th {\n",
       "        vertical-align: top;\n",
       "    }\n",
       "\n",
       "    .dataframe thead th {\n",
       "        text-align: right;\n",
       "    }\n",
       "</style>\n",
       "<table border=\"1\" class=\"dataframe\">\n",
       "  <thead>\n",
       "    <tr style=\"text-align: right;\">\n",
       "      <th></th>\n",
       "      <th>State</th>\n",
       "      <th>Employer</th>\n",
       "      <th>total_visas_State</th>\n",
       "      <th>max_visa_in_state</th>\n",
       "      <th>percent_visa</th>\n",
       "    </tr>\n",
       "  </thead>\n",
       "  <tbody>\n",
       "    <tr>\n",
       "      <th>0</th>\n",
       "      <td>MD</td>\n",
       "      <td>TATA</td>\n",
       "      <td>121999</td>\n",
       "      <td>74504</td>\n",
       "      <td>61.0</td>\n",
       "    </tr>\n",
       "    <tr>\n",
       "      <th>1</th>\n",
       "      <td>VT</td>\n",
       "      <td>ITECH US INC</td>\n",
       "      <td>2994</td>\n",
       "      <td>1677</td>\n",
       "      <td>56.0</td>\n",
       "    </tr>\n",
       "    <tr>\n",
       "      <th>2</th>\n",
       "      <td>NC</td>\n",
       "      <td>IBM</td>\n",
       "      <td>63728</td>\n",
       "      <td>30357</td>\n",
       "      <td>48.0</td>\n",
       "    </tr>\n",
       "    <tr>\n",
       "      <th>3</th>\n",
       "      <td>ID</td>\n",
       "      <td>MICRON TECHNOLOGY INC</td>\n",
       "      <td>3914</td>\n",
       "      <td>1791</td>\n",
       "      <td>46.0</td>\n",
       "    </tr>\n",
       "    <tr>\n",
       "      <th>4</th>\n",
       "      <td>AR</td>\n",
       "      <td>WAL-MART</td>\n",
       "      <td>10463</td>\n",
       "      <td>4120</td>\n",
       "      <td>39.0</td>\n",
       "    </tr>\n",
       "  </tbody>\n",
       "</table>\n",
       "</div>"
      ],
      "text/plain": [
       "  State               Employer  total_visas_State  max_visa_in_state  percent_visa\n",
       "0    MD                   TATA             121999              74504          61.0\n",
       "1    VT           ITECH US INC               2994               1677          56.0\n",
       "2    NC                    IBM              63728              30357          48.0\n",
       "3    ID  MICRON TECHNOLOGY INC               3914               1791          46.0\n",
       "4    AR               WAL-MART              10463               4120          39.0"
      ]
     },
     "execution_count": 550,
     "metadata": {},
     "output_type": "execute_result"
    }
   ],
   "source": [
    "h1b_query9= '''\n",
    "with h1b_table_by_state AS\n",
    "(\n",
    "select  \n",
    "h1b.State AS State,\n",
    "h1b.Employer AS Employer,\n",
    "SUM(h1b.Initial_Approvals)  + SUM(h1b.Continuing_Approvals) AS total_visas_State, \n",
    "Max(h1b2.approvals_post_2016) AS max_visa_in_state\n",
    "from h1b LEFT JOIN (\n",
    "    select  \n",
    "       State, Employer,\n",
    "       SUM(Initial_Approvals)  + SUM(Continuing_Approvals) AS approvals_post_2016\n",
    "       from h1b\n",
    "       where Fiscal_Year !='2019'\n",
    "       group by State,Employer\n",
    "       order by 3 desc\n",
    "\n",
    ") h1b2 ON h1b.State = h1b2.State and h1b.Employer = h1b2.Employer \n",
    "where h1b.Fiscal_Year !='2019'\n",
    "group by h1b.State\n",
    "order by 4 desc\n",
    ")\n",
    "select\n",
    "htbs.State,\n",
    "htbs.Employer,\n",
    "htbs.total_visas_State,\n",
    "htbs.max_visa_in_state,\n",
    "(CAST(htbs.max_visa_in_state AS REAL)/ CAST(htbs.total_visas_State AS REAL))*100 AS percent_visa\n",
    "from h1b_table_by_state htbs \n",
    "order by 5 desc;\n",
    "'''\n",
    "\n",
    "df9 = pd.read_sql_query(h1b_query9, conn)\n",
    "#print(f' df 9 \\n {df9}')\n",
    "df9['percent_visa']=df9['percent_visa'].apply(lambda x: round(x,0))\n",
    "df9.head()\n"
   ]
  },
  {
   "cell_type": "code",
   "execution_count": 494,
   "metadata": {},
   "outputs": [
    {
     "name": "stderr",
     "output_type": "stream",
     "text": [
      "/usr/local/lib/python3.7/site-packages/ipykernel_launcher.py:2: SettingWithCopyWarning:\n",
      "\n",
      "\n",
      "A value is trying to be set on a copy of a slice from a DataFrame.\n",
      "Try using .loc[row_indexer,col_indexer] = value instead\n",
      "\n",
      "See the caveats in the documentation: http://pandas.pydata.org/pandas-docs/stable/indexing.html#indexing-view-versus-copy\n",
      "\n"
     ]
    }
   ],
   "source": [
    "df9a=df9[df9['percent_visa']>10]\n",
    "df9a['State']=df9a['State'].map(state_code2State)"
   ]
  },
  {
   "cell_type": "code",
   "execution_count": 551,
   "metadata": {},
   "outputs": [
    {
     "name": "stderr",
     "output_type": "stream",
     "text": [
      "/usr/local/lib/python3.7/site-packages/ipykernel_launcher.py:2: SettingWithCopyWarning:\n",
      "\n",
      "\n",
      "A value is trying to be set on a copy of a slice from a DataFrame.\n",
      "Try using .loc[row_indexer,col_indexer] = value instead\n",
      "\n",
      "See the caveats in the documentation: http://pandas.pydata.org/pandas-docs/stable/indexing.html#indexing-view-versus-copy\n",
      "\n"
     ]
    }
   ],
   "source": [
    "df9a=df9[df9['percent_visa']>10]\n",
    "df9a['State']=df9a['State'].map(state_code2State)\n",
    "df9d=df9a.copy(deep=True)\n",
    "df9d['Employer']=df9d['Employer'].str.replace('MICRON TECHNOLOGY INC','MICRON <br> TECHNOLOGY INC')\n",
    "df9d['Employer']=df9d['Employer'].str.replace('Alaska-UNIV OF ALASKA FAIRBANKS','Alaska-UNIV OF <br> ALASKA FAIRBANKS')\n",
    "df9d['Employer']=df9d['Employer'].str.replace('PRICEWATERHOUSECOOPERS','PWC')\n",
    "df9d['Employer']=df9d['Employer'].str.replace('THE UNIV OF ALABAMA AT BIRMINGHAM','THE UNIV OF ALABAMA <br> AT BIRMINGHAM')\n",
    "df9d['Employer']=df9d['Employer'].str.replace('V-SOFT CONSULTING GROUP INC','V-SOFT CONSULTING')\n",
    "df9d['Employer']=df9d['Employer'].str.replace('UNIV OF ALASKA FAIRBANKS','UNIV OF ALASKA <br> FAIRBANKS')\n",
    "df9d['Employer']=df9d['Employer'].str.replace('SOUTH DAKOTA STATE UNIVERSITY','SOUTH DAKOTA <br> STATE UNIVERSITY')\n",
    "df9d['Employer']=df9d['Employer'].str.replace('MONTANA STATE UNIVERSITY','MONTANA STATE <br> UNIVERSITY')\n",
    "df9d['Employer']=df9d['Employer'].str.replace('LOS ALAMOS NATIONAL SECURITY LLC','LOS ALAMOS NATIONAL <br> SECURITY LLC')\n",
    "\n",
    "df9d['Employer']=[\"<br>\".join([x,str(z)]) for x,z in zip(df9d['Employer'],df9d['percent_visa'])]\n",
    "df9d['Employer']=[\" \".join([str(z),'%']) for z in df9d['Employer']]\n"
   ]
  },
  {
   "cell_type": "code",
   "execution_count": 552,
   "metadata": {},
   "outputs": [
    {
     "data": {
      "text/html": [
       "<div>\n",
       "<style scoped>\n",
       "    .dataframe tbody tr th:only-of-type {\n",
       "        vertical-align: middle;\n",
       "    }\n",
       "\n",
       "    .dataframe tbody tr th {\n",
       "        vertical-align: top;\n",
       "    }\n",
       "\n",
       "    .dataframe thead th {\n",
       "        text-align: right;\n",
       "    }\n",
       "</style>\n",
       "<table border=\"1\" class=\"dataframe\">\n",
       "  <thead>\n",
       "    <tr style=\"text-align: right;\">\n",
       "      <th></th>\n",
       "      <th>State</th>\n",
       "      <th>Employer</th>\n",
       "      <th>total_visas_State</th>\n",
       "      <th>max_visa_in_state</th>\n",
       "      <th>percent_visa</th>\n",
       "      <th>ids</th>\n",
       "      <th>parents</th>\n",
       "    </tr>\n",
       "  </thead>\n",
       "  <tbody>\n",
       "    <tr>\n",
       "      <th>0</th>\n",
       "      <td>Maryland</td>\n",
       "      <td>TATA&lt;br&gt;61.0 %</td>\n",
       "      <td>121999</td>\n",
       "      <td>74504</td>\n",
       "      <td>61.0</td>\n",
       "      <td>Maryland</td>\n",
       "      <td></td>\n",
       "    </tr>\n",
       "    <tr>\n",
       "      <th>1</th>\n",
       "      <td>Vermont</td>\n",
       "      <td>ITECH US INC&lt;br&gt;56.0 %</td>\n",
       "      <td>2994</td>\n",
       "      <td>1677</td>\n",
       "      <td>56.0</td>\n",
       "      <td>Vermont</td>\n",
       "      <td></td>\n",
       "    </tr>\n",
       "    <tr>\n",
       "      <th>2</th>\n",
       "      <td>North Carolina</td>\n",
       "      <td>IBM&lt;br&gt;48.0 %</td>\n",
       "      <td>63728</td>\n",
       "      <td>30357</td>\n",
       "      <td>48.0</td>\n",
       "      <td>North Carolina</td>\n",
       "      <td></td>\n",
       "    </tr>\n",
       "    <tr>\n",
       "      <th>3</th>\n",
       "      <td>Idaho</td>\n",
       "      <td>MICRON &lt;br&gt; TECHNOLOGY INC&lt;br&gt;46.0 %</td>\n",
       "      <td>3914</td>\n",
       "      <td>1791</td>\n",
       "      <td>46.0</td>\n",
       "      <td>Idaho</td>\n",
       "      <td></td>\n",
       "    </tr>\n",
       "    <tr>\n",
       "      <th>4</th>\n",
       "      <td>Arkansas</td>\n",
       "      <td>WAL-MART&lt;br&gt;39.0 %</td>\n",
       "      <td>10463</td>\n",
       "      <td>4120</td>\n",
       "      <td>39.0</td>\n",
       "      <td>Arkansas</td>\n",
       "      <td></td>\n",
       "    </tr>\n",
       "    <tr>\n",
       "      <th>5</th>\n",
       "      <td>Washington</td>\n",
       "      <td>MICROSOFT&lt;br&gt;38.0 %</td>\n",
       "      <td>95411</td>\n",
       "      <td>36151</td>\n",
       "      <td>38.0</td>\n",
       "      <td>Washington</td>\n",
       "      <td></td>\n",
       "    </tr>\n",
       "    <tr>\n",
       "      <th>6</th>\n",
       "      <td>Tennessee</td>\n",
       "      <td>CUMMINS&lt;br&gt;27.0 %</td>\n",
       "      <td>24813</td>\n",
       "      <td>6773</td>\n",
       "      <td>27.0</td>\n",
       "      <td>Tennessee</td>\n",
       "      <td></td>\n",
       "    </tr>\n",
       "    <tr>\n",
       "      <th>7</th>\n",
       "      <td>Pennsylvania</td>\n",
       "      <td>DELOITTE&lt;br&gt;26.0 %</td>\n",
       "      <td>109917</td>\n",
       "      <td>28968</td>\n",
       "      <td>26.0</td>\n",
       "      <td>Pennsylvania</td>\n",
       "      <td></td>\n",
       "    </tr>\n",
       "    <tr>\n",
       "      <th>8</th>\n",
       "      <td>Rhode Island</td>\n",
       "      <td>CVS/PHARMACY&lt;br&gt;24.0 %</td>\n",
       "      <td>7072</td>\n",
       "      <td>1679</td>\n",
       "      <td>24.0</td>\n",
       "      <td>Rhode Island</td>\n",
       "      <td></td>\n",
       "    </tr>\n",
       "    <tr>\n",
       "      <th>9</th>\n",
       "      <td>Texas</td>\n",
       "      <td>INFOSYS&lt;br&gt;24.0 %</td>\n",
       "      <td>411275</td>\n",
       "      <td>97180</td>\n",
       "      <td>24.0</td>\n",
       "      <td>Texas</td>\n",
       "      <td></td>\n",
       "    </tr>\n",
       "    <tr>\n",
       "      <th>10</th>\n",
       "      <td>Illinois</td>\n",
       "      <td>ACCENTURE&lt;br&gt;23.0 %</td>\n",
       "      <td>160014</td>\n",
       "      <td>36249</td>\n",
       "      <td>23.0</td>\n",
       "      <td>Illinois</td>\n",
       "      <td></td>\n",
       "    </tr>\n",
       "    <tr>\n",
       "      <th>11</th>\n",
       "      <td>Wyoming</td>\n",
       "      <td>UNIV OF WYOMING&lt;br&gt;22.0 %</td>\n",
       "      <td>639</td>\n",
       "      <td>143</td>\n",
       "      <td>22.0</td>\n",
       "      <td>Wyoming</td>\n",
       "      <td></td>\n",
       "    </tr>\n",
       "    <tr>\n",
       "      <th>12</th>\n",
       "      <td>Arizona</td>\n",
       "      <td>INTEL&lt;br&gt;19.0 %</td>\n",
       "      <td>27748</td>\n",
       "      <td>5409</td>\n",
       "      <td>19.0</td>\n",
       "      <td>Arizona</td>\n",
       "      <td></td>\n",
       "    </tr>\n",
       "    <tr>\n",
       "      <th>13</th>\n",
       "      <td>Alaska</td>\n",
       "      <td>UNIV OF ALASKA &lt;br&gt; FAIRBANKS&lt;br&gt;19.0 %</td>\n",
       "      <td>714</td>\n",
       "      <td>136</td>\n",
       "      <td>19.0</td>\n",
       "      <td>Alaska</td>\n",
       "      <td></td>\n",
       "    </tr>\n",
       "    <tr>\n",
       "      <th>14</th>\n",
       "      <td>Kentucky</td>\n",
       "      <td>V-SOFT CONSULTING&lt;br&gt;18.0 %</td>\n",
       "      <td>10016</td>\n",
       "      <td>1806</td>\n",
       "      <td>18.0</td>\n",
       "      <td>Kentucky</td>\n",
       "      <td></td>\n",
       "    </tr>\n",
       "    <tr>\n",
       "      <th>15</th>\n",
       "      <td>Michigan</td>\n",
       "      <td>SYNTEL&lt;br&gt;18.0 %</td>\n",
       "      <td>99444</td>\n",
       "      <td>17708</td>\n",
       "      <td>18.0</td>\n",
       "      <td>Michigan</td>\n",
       "      <td></td>\n",
       "    </tr>\n",
       "    <tr>\n",
       "      <th>16</th>\n",
       "      <td>Montana</td>\n",
       "      <td>MONTANA STATE &lt;br&gt; UNIVERSITY&lt;br&gt;16.0 %</td>\n",
       "      <td>607</td>\n",
       "      <td>95</td>\n",
       "      <td>16.0</td>\n",
       "      <td>Montana</td>\n",
       "      <td></td>\n",
       "    </tr>\n",
       "    <tr>\n",
       "      <th>17</th>\n",
       "      <td>New Jersey</td>\n",
       "      <td>WIPRO&lt;br&gt;16.0 %</td>\n",
       "      <td>384639</td>\n",
       "      <td>59993</td>\n",
       "      <td>16.0</td>\n",
       "      <td>New Jersey</td>\n",
       "      <td></td>\n",
       "    </tr>\n",
       "    <tr>\n",
       "      <th>18</th>\n",
       "      <td>West Virginia</td>\n",
       "      <td>WEST VIRGINIA UNIV&lt;br&gt;15.0 %</td>\n",
       "      <td>2136</td>\n",
       "      <td>326</td>\n",
       "      <td>15.0</td>\n",
       "      <td>West Virginia</td>\n",
       "      <td></td>\n",
       "    </tr>\n",
       "    <tr>\n",
       "      <th>19</th>\n",
       "      <td>Florida</td>\n",
       "      <td>PWC&lt;br&gt;15.0 %</td>\n",
       "      <td>84959</td>\n",
       "      <td>12677</td>\n",
       "      <td>15.0</td>\n",
       "      <td>Florida</td>\n",
       "      <td></td>\n",
       "    </tr>\n",
       "    <tr>\n",
       "      <th>20</th>\n",
       "      <td>Nebraska</td>\n",
       "      <td>PROKARMA INC&lt;br&gt;15.0 %</td>\n",
       "      <td>8422</td>\n",
       "      <td>1234</td>\n",
       "      <td>15.0</td>\n",
       "      <td>Nebraska</td>\n",
       "      <td></td>\n",
       "    </tr>\n",
       "    <tr>\n",
       "      <th>21</th>\n",
       "      <td>Virgin Islands</td>\n",
       "      <td>U S VIRGIN ISLANDS DEPT OF ED&lt;br&gt;14.0 %</td>\n",
       "      <td>479</td>\n",
       "      <td>68</td>\n",
       "      <td>14.0</td>\n",
       "      <td>Virgin Islands</td>\n",
       "      <td></td>\n",
       "    </tr>\n",
       "    <tr>\n",
       "      <th>22</th>\n",
       "      <td>Hawaii</td>\n",
       "      <td>UNIVERSITY OF HAWAII&lt;br&gt;14.0 %</td>\n",
       "      <td>2509</td>\n",
       "      <td>351</td>\n",
       "      <td>14.0</td>\n",
       "      <td>Hawaii</td>\n",
       "      <td></td>\n",
       "    </tr>\n",
       "    <tr>\n",
       "      <th>23</th>\n",
       "      <td>South Dakota</td>\n",
       "      <td>SOUTH DAKOTA &lt;br&gt; STATE UNIVERSITY&lt;br&gt;13.0 %</td>\n",
       "      <td>1430</td>\n",
       "      <td>179</td>\n",
       "      <td>13.0</td>\n",
       "      <td>South Dakota</td>\n",
       "      <td></td>\n",
       "    </tr>\n",
       "    <tr>\n",
       "      <th>24</th>\n",
       "      <td>Iowa</td>\n",
       "      <td>THE UNIVERSITY OF IOWA&lt;br&gt;12.0 %</td>\n",
       "      <td>10390</td>\n",
       "      <td>1294</td>\n",
       "      <td>12.0</td>\n",
       "      <td>Iowa</td>\n",
       "      <td></td>\n",
       "    </tr>\n",
       "    <tr>\n",
       "      <th>25</th>\n",
       "      <td>Alabama</td>\n",
       "      <td>THE UNIV OF ALABAMA &lt;br&gt; AT BIRMINGHAM&lt;br&gt;12.0 %</td>\n",
       "      <td>8379</td>\n",
       "      <td>1004</td>\n",
       "      <td>12.0</td>\n",
       "      <td>Alabama</td>\n",
       "      <td></td>\n",
       "    </tr>\n",
       "    <tr>\n",
       "      <th>26</th>\n",
       "      <td>New Mexico</td>\n",
       "      <td>LOS ALAMOS NATIONAL &lt;br&gt; SECURITY LLC&lt;br&gt;12.0 %</td>\n",
       "      <td>4364</td>\n",
       "      <td>504</td>\n",
       "      <td>12.0</td>\n",
       "      <td>New Mexico</td>\n",
       "      <td></td>\n",
       "    </tr>\n",
       "    <tr>\n",
       "      <th>27</th>\n",
       "      <td>Maine</td>\n",
       "      <td>RITE PROS INC&lt;br&gt;11.0 %</td>\n",
       "      <td>2500</td>\n",
       "      <td>270</td>\n",
       "      <td>11.0</td>\n",
       "      <td>Maine</td>\n",
       "      <td></td>\n",
       "    </tr>\n",
       "  </tbody>\n",
       "</table>\n",
       "</div>"
      ],
      "text/plain": [
       "             State                                          Employer  total_visas_State  max_visa_in_state  percent_visa             ids parents\n",
       "0         Maryland                                    TATA<br>61.0 %             121999              74504          61.0        Maryland        \n",
       "1          Vermont                            ITECH US INC<br>56.0 %               2994               1677          56.0         Vermont        \n",
       "2   North Carolina                                     IBM<br>48.0 %              63728              30357          48.0  North Carolina        \n",
       "3            Idaho              MICRON <br> TECHNOLOGY INC<br>46.0 %               3914               1791          46.0           Idaho        \n",
       "4         Arkansas                                WAL-MART<br>39.0 %              10463               4120          39.0        Arkansas        \n",
       "5       Washington                               MICROSOFT<br>38.0 %              95411              36151          38.0      Washington        \n",
       "6        Tennessee                                 CUMMINS<br>27.0 %              24813               6773          27.0       Tennessee        \n",
       "7     Pennsylvania                                DELOITTE<br>26.0 %             109917              28968          26.0    Pennsylvania        \n",
       "8     Rhode Island                            CVS/PHARMACY<br>24.0 %               7072               1679          24.0    Rhode Island        \n",
       "9            Texas                                 INFOSYS<br>24.0 %             411275              97180          24.0           Texas        \n",
       "10        Illinois                               ACCENTURE<br>23.0 %             160014              36249          23.0        Illinois        \n",
       "11         Wyoming                         UNIV OF WYOMING<br>22.0 %                639                143          22.0         Wyoming        \n",
       "12         Arizona                                   INTEL<br>19.0 %              27748               5409          19.0         Arizona        \n",
       "13          Alaska           UNIV OF ALASKA <br> FAIRBANKS<br>19.0 %                714                136          19.0          Alaska        \n",
       "14        Kentucky                       V-SOFT CONSULTING<br>18.0 %              10016               1806          18.0        Kentucky        \n",
       "15        Michigan                                  SYNTEL<br>18.0 %              99444              17708          18.0        Michigan        \n",
       "16         Montana           MONTANA STATE <br> UNIVERSITY<br>16.0 %                607                 95          16.0         Montana        \n",
       "17      New Jersey                                   WIPRO<br>16.0 %             384639              59993          16.0      New Jersey        \n",
       "18   West Virginia                      WEST VIRGINIA UNIV<br>15.0 %               2136                326          15.0   West Virginia        \n",
       "19         Florida                                     PWC<br>15.0 %              84959              12677          15.0         Florida        \n",
       "20        Nebraska                            PROKARMA INC<br>15.0 %               8422               1234          15.0        Nebraska        \n",
       "21  Virgin Islands           U S VIRGIN ISLANDS DEPT OF ED<br>14.0 %                479                 68          14.0  Virgin Islands        \n",
       "22          Hawaii                    UNIVERSITY OF HAWAII<br>14.0 %               2509                351          14.0          Hawaii        \n",
       "23    South Dakota      SOUTH DAKOTA <br> STATE UNIVERSITY<br>13.0 %               1430                179          13.0    South Dakota        \n",
       "24            Iowa                  THE UNIVERSITY OF IOWA<br>12.0 %              10390               1294          12.0            Iowa        \n",
       "25         Alabama  THE UNIV OF ALABAMA <br> AT BIRMINGHAM<br>12.0 %               8379               1004          12.0         Alabama        \n",
       "26      New Mexico   LOS ALAMOS NATIONAL <br> SECURITY LLC<br>12.0 %               4364                504          12.0      New Mexico        \n",
       "27           Maine                           RITE PROS INC<br>11.0 %               2500                270          11.0           Maine        "
      ]
     },
     "execution_count": 552,
     "metadata": {},
     "output_type": "execute_result"
    }
   ],
   "source": [
    "df9d['ids']= df9d['State'].to_list()\n",
    "df9d['parents']=\"\"\n",
    "df9d"
   ]
  },
  {
   "cell_type": "code",
   "execution_count": 553,
   "metadata": {},
   "outputs": [
    {
     "data": {
      "text/html": [
       "<div>\n",
       "<style scoped>\n",
       "    .dataframe tbody tr th:only-of-type {\n",
       "        vertical-align: middle;\n",
       "    }\n",
       "\n",
       "    .dataframe tbody tr th {\n",
       "        vertical-align: top;\n",
       "    }\n",
       "\n",
       "    .dataframe thead th {\n",
       "        text-align: right;\n",
       "    }\n",
       "</style>\n",
       "<table border=\"1\" class=\"dataframe\">\n",
       "  <thead>\n",
       "    <tr style=\"text-align: right;\">\n",
       "      <th></th>\n",
       "      <th>State</th>\n",
       "      <th>Employer</th>\n",
       "      <th>total_visas_State</th>\n",
       "      <th>max_visa_in_state</th>\n",
       "      <th>percent_visa</th>\n",
       "      <th>ids</th>\n",
       "      <th>parents</th>\n",
       "    </tr>\n",
       "  </thead>\n",
       "  <tbody>\n",
       "    <tr>\n",
       "      <th>0</th>\n",
       "      <td>Maryland</td>\n",
       "      <td>TATA&lt;br&gt;61.0 %</td>\n",
       "      <td>121999</td>\n",
       "      <td>74504</td>\n",
       "      <td>61.0</td>\n",
       "      <td>Maryland-TATA&lt;br&gt;61.0 %</td>\n",
       "      <td>Maryland</td>\n",
       "    </tr>\n",
       "    <tr>\n",
       "      <th>1</th>\n",
       "      <td>Vermont</td>\n",
       "      <td>ITECH US INC&lt;br&gt;56.0 %</td>\n",
       "      <td>2994</td>\n",
       "      <td>1677</td>\n",
       "      <td>56.0</td>\n",
       "      <td>Vermont-ITECH US INC&lt;br&gt;56.0 %</td>\n",
       "      <td>Vermont</td>\n",
       "    </tr>\n",
       "    <tr>\n",
       "      <th>2</th>\n",
       "      <td>North Carolina</td>\n",
       "      <td>IBM&lt;br&gt;48.0 %</td>\n",
       "      <td>63728</td>\n",
       "      <td>30357</td>\n",
       "      <td>48.0</td>\n",
       "      <td>North Carolina-IBM&lt;br&gt;48.0 %</td>\n",
       "      <td>North Carolina</td>\n",
       "    </tr>\n",
       "    <tr>\n",
       "      <th>3</th>\n",
       "      <td>Idaho</td>\n",
       "      <td>MICRON &lt;br&gt; TECHNOLOGY INC&lt;br&gt;46.0 %</td>\n",
       "      <td>3914</td>\n",
       "      <td>1791</td>\n",
       "      <td>46.0</td>\n",
       "      <td>Idaho-MICRON &lt;br&gt; TECHNOLOGY INC&lt;br&gt;46.0 %</td>\n",
       "      <td>Idaho</td>\n",
       "    </tr>\n",
       "    <tr>\n",
       "      <th>4</th>\n",
       "      <td>Arkansas</td>\n",
       "      <td>WAL-MART&lt;br&gt;39.0 %</td>\n",
       "      <td>10463</td>\n",
       "      <td>4120</td>\n",
       "      <td>39.0</td>\n",
       "      <td>Arkansas-WAL-MART&lt;br&gt;39.0 %</td>\n",
       "      <td>Arkansas</td>\n",
       "    </tr>\n",
       "  </tbody>\n",
       "</table>\n",
       "</div>"
      ],
      "text/plain": [
       "            State                              Employer  total_visas_State  max_visa_in_state  percent_visa                                         ids         parents\n",
       "0        Maryland                        TATA<br>61.0 %             121999              74504          61.0                     Maryland-TATA<br>61.0 %        Maryland\n",
       "1         Vermont                ITECH US INC<br>56.0 %               2994               1677          56.0              Vermont-ITECH US INC<br>56.0 %         Vermont\n",
       "2  North Carolina                         IBM<br>48.0 %              63728              30357          48.0                North Carolina-IBM<br>48.0 %  North Carolina\n",
       "3           Idaho  MICRON <br> TECHNOLOGY INC<br>46.0 %               3914               1791          46.0  Idaho-MICRON <br> TECHNOLOGY INC<br>46.0 %           Idaho\n",
       "4        Arkansas                    WAL-MART<br>39.0 %              10463               4120          39.0                 Arkansas-WAL-MART<br>39.0 %        Arkansas"
      ]
     },
     "execution_count": 553,
     "metadata": {},
     "output_type": "execute_result"
    }
   ],
   "source": [
    "df9e=df9d.copy(deep=True)\n",
    "df9e['ids']=[\"-\".join([x,y]) for x,y in zip(df9e['State'],df9e['Employer'])]\n",
    "df9e['parents']=df9e.State.to_list()\n",
    "df9e.head()"
   ]
  },
  {
   "cell_type": "code",
   "execution_count": 554,
   "metadata": {},
   "outputs": [
    {
     "data": {
      "text/html": [
       "<div>\n",
       "<style scoped>\n",
       "    .dataframe tbody tr th:only-of-type {\n",
       "        vertical-align: middle;\n",
       "    }\n",
       "\n",
       "    .dataframe tbody tr th {\n",
       "        vertical-align: top;\n",
       "    }\n",
       "\n",
       "    .dataframe thead th {\n",
       "        text-align: right;\n",
       "    }\n",
       "</style>\n",
       "<table border=\"1\" class=\"dataframe\">\n",
       "  <thead>\n",
       "    <tr style=\"text-align: right;\">\n",
       "      <th></th>\n",
       "      <th>State</th>\n",
       "      <th>Employer</th>\n",
       "      <th>total_visas_State</th>\n",
       "      <th>max_visa_in_state</th>\n",
       "      <th>percent_visa</th>\n",
       "      <th>ids</th>\n",
       "      <th>parents</th>\n",
       "      <th>colors</th>\n",
       "    </tr>\n",
       "  </thead>\n",
       "  <tbody>\n",
       "    <tr>\n",
       "      <th>0</th>\n",
       "      <td>Maryland</td>\n",
       "      <td>TATA&lt;br&gt;61.0 %</td>\n",
       "      <td>121999</td>\n",
       "      <td>74504</td>\n",
       "      <td>61.0</td>\n",
       "      <td>Maryland</td>\n",
       "      <td></td>\n",
       "      <td>#de3d83</td>\n",
       "    </tr>\n",
       "    <tr>\n",
       "      <th>1</th>\n",
       "      <td>Vermont</td>\n",
       "      <td>ITECH US INC&lt;br&gt;56.0 %</td>\n",
       "      <td>2994</td>\n",
       "      <td>1677</td>\n",
       "      <td>56.0</td>\n",
       "      <td>Vermont</td>\n",
       "      <td></td>\n",
       "      <td>#de3d83</td>\n",
       "    </tr>\n",
       "    <tr>\n",
       "      <th>2</th>\n",
       "      <td>North Carolina</td>\n",
       "      <td>IBM&lt;br&gt;48.0 %</td>\n",
       "      <td>63728</td>\n",
       "      <td>30357</td>\n",
       "      <td>48.0</td>\n",
       "      <td>North Carolina</td>\n",
       "      <td></td>\n",
       "      <td>#e4bd0b</td>\n",
       "    </tr>\n",
       "    <tr>\n",
       "      <th>3</th>\n",
       "      <td>Idaho</td>\n",
       "      <td>MICRON &lt;br&gt; TECHNOLOGY INC&lt;br&gt;46.0 %</td>\n",
       "      <td>3914</td>\n",
       "      <td>1791</td>\n",
       "      <td>46.0</td>\n",
       "      <td>Idaho</td>\n",
       "      <td></td>\n",
       "      <td>#e4bd0b</td>\n",
       "    </tr>\n",
       "    <tr>\n",
       "      <th>4</th>\n",
       "      <td>Arkansas</td>\n",
       "      <td>WAL-MART&lt;br&gt;39.0 %</td>\n",
       "      <td>10463</td>\n",
       "      <td>4120</td>\n",
       "      <td>39.0</td>\n",
       "      <td>Arkansas</td>\n",
       "      <td></td>\n",
       "      <td>#e4bd0b</td>\n",
       "    </tr>\n",
       "  </tbody>\n",
       "</table>\n",
       "</div>"
      ],
      "text/plain": [
       "            State                              Employer  total_visas_State  max_visa_in_state  percent_visa             ids parents   colors\n",
       "0        Maryland                        TATA<br>61.0 %             121999              74504          61.0        Maryland          #de3d83\n",
       "1         Vermont                ITECH US INC<br>56.0 %               2994               1677          56.0         Vermont          #de3d83\n",
       "2  North Carolina                         IBM<br>48.0 %              63728              30357          48.0  North Carolina          #e4bd0b\n",
       "3           Idaho  MICRON <br> TECHNOLOGY INC<br>46.0 %               3914               1791          46.0           Idaho          #e4bd0b\n",
       "4        Arkansas                    WAL-MART<br>39.0 %              10463               4120          39.0        Arkansas          #e4bd0b"
      ]
     },
     "execution_count": 554,
     "metadata": {},
     "output_type": "execute_result"
    }
   ],
   "source": [
    "df9f= pd.concat([df9d,df9e], axis=0)\n",
    "df9f['colors']  = ['#00b8b8' if x < 15 else '#e4bd0b' if x<50 else \"#de3d83\" for x in df9f['percent_visa']]\n",
    "df9f.head()"
   ]
  },
  {
   "cell_type": "code",
   "execution_count": 525,
   "metadata": {},
   "outputs": [
    {
     "name": "stdout",
     "output_type": "stream",
     "text": [
      " labels ['Maryland', 'Vermont', 'North Carolina', 'Idaho', 'Arkansas', 'Washington', 'Tennessee', 'Pennsylvania', 'Rhode Island', 'Texas', 'Illinois', 'Wyoming', 'Arizona', 'Alaska', 'Kentucky', 'Michigan', 'Montana', 'New Jersey', 'West Virginia', 'Florida', 'Nebraska', 'Virgin Islands', 'Hawaii', 'South Dakota', 'Iowa', 'Alabama', 'New Mexico', 'Maine', 'TATA<br>61.0 %', 'ITECH US INC<br>56.0 %', 'IBM<br>48.0 %', 'MICRON <br> TECHNOLOGY INC<br>46.0 %', 'WAL-MART<br>39.0 %', 'MICROSOFT<br>38.0 %', 'CUMMINS<br>27.0 %', 'DELOITTE<br>26.0 %', 'CVS/PHARMACY<br>24.0 %', 'INFOSYS<br>24.0 %', 'ACCENTURE<br>23.0 %', 'UNIV OF WYOMING<br>22.0 %', 'INTEL<br>19.0 %', 'UNIV OF ALASKA <br> FAIRBANKS<br>19.0 %', 'V-SOFT CONSULTING<br>18.0 %', 'SYNTEL<br>18.0 %', 'MONTANA STATE <br> UNIVERSITY<br>16.0 %', 'WIPRO<br>16.0 %', 'WEST VIRGINIA UNIV<br>15.0 %', 'PWC<br>15.0 %', 'PROKARMA INC<br>15.0 %', 'U S VIRGIN ISLANDS DEPT OF ED<br>14.0 %', 'UNIVERSITY OF HAWAII<br>14.0 %', 'SOUTH DAKOTA <br> STATE UNIVERSITY<br>13.0 %', 'THE UNIVERSITY OF IOWA<br>12.0 %', 'THE UNIV OF ALABAMA <br> AT BIRMINGHAM<br>12.0 %', 'LOS ALAMOS NATIONAL <br> SECURITY LLC<br>12.0 %', 'RITE PROS INC<br>11.0 %']\n",
      " parents ['', '', '', '', '', '', '', '', '', '', '', '', '', '', '', '', '', '', '', '', '', '', '', '', '', '', '', '', 'Maryland', 'Vermont', 'North Carolina', 'Idaho', 'Arkansas', 'Washington', 'Tennessee', 'Pennsylvania', 'Rhode Island', 'Texas', 'Illinois', 'Wyoming', 'Arizona', 'Alaska', 'Kentucky', 'Michigan', 'Montana', 'New Jersey', 'West Virginia', 'Florida', 'Nebraska', 'Virgin Islands', 'Hawaii', 'South Dakota', 'Iowa', 'Alabama', 'New Mexico', 'Maine']\n"
     ]
    }
   ],
   "source": [
    "labelsa= [state for state in df9f['State'].unique()]\n",
    "labelsb = [x for x in df9f['Employer'].unique()]\n",
    "labels= labelsa+labelsb\n",
    "parents = [x for x in df9f['parents']]\n",
    "print(f' labels {labels}')\n",
    "print(f' parents {parents}')"
   ]
  },
  {
   "cell_type": "code",
   "execution_count": 555,
   "metadata": {},
   "outputs": [
    {
     "data": {
      "text/plain": [
       "['Maryland', 'Vermont', 'North Carolina', 'Idaho', 'Arkansas']"
      ]
     },
     "execution_count": 555,
     "metadata": {},
     "output_type": "execute_result"
    }
   ],
   "source": [
    "ids=[x for x in df9f['ids']]\n",
    "ids[0:5]"
   ]
  },
  {
   "cell_type": "code",
   "execution_count": 527,
   "metadata": {},
   "outputs": [
    {
     "data": {
      "application/vnd.plotly.v1+json": {
       "config": {
        "plotlyServerURL": "https://plot.ly"
       },
       "data": [
        {
         "ids": [
          "Maryland",
          "Vermont",
          "North Carolina",
          "Idaho",
          "Arkansas",
          "Washington",
          "Tennessee",
          "Pennsylvania",
          "Rhode Island",
          "Texas",
          "Illinois",
          "Wyoming",
          "Arizona",
          "Alaska",
          "Kentucky",
          "Michigan",
          "Montana",
          "New Jersey",
          "West Virginia",
          "Florida",
          "Nebraska",
          "Virgin Islands",
          "Hawaii",
          "South Dakota",
          "Iowa",
          "Alabama",
          "New Mexico",
          "Maine",
          "Maryland-TATA<br>61.0 %",
          "Vermont-ITECH US INC<br>56.0 %",
          "North Carolina-IBM<br>48.0 %",
          "Idaho-MICRON <br> TECHNOLOGY INC<br>46.0 %",
          "Arkansas-WAL-MART<br>39.0 %",
          "Washington-MICROSOFT<br>38.0 %",
          "Tennessee-CUMMINS<br>27.0 %",
          "Pennsylvania-DELOITTE<br>26.0 %",
          "Rhode Island-CVS/PHARMACY<br>24.0 %",
          "Texas-INFOSYS<br>24.0 %",
          "Illinois-ACCENTURE<br>23.0 %",
          "Wyoming-UNIV OF WYOMING<br>22.0 %",
          "Arizona-INTEL<br>19.0 %",
          "Alaska-UNIV OF ALASKA <br> FAIRBANKS<br>19.0 %",
          "Kentucky-V-SOFT CONSULTING<br>18.0 %",
          "Michigan-SYNTEL<br>18.0 %",
          "Montana-MONTANA STATE <br> UNIVERSITY<br>16.0 %",
          "New Jersey-WIPRO<br>16.0 %",
          "West Virginia-WEST VIRGINIA UNIV<br>15.0 %",
          "Florida-PWC<br>15.0 %",
          "Nebraska-PROKARMA INC<br>15.0 %",
          "Virgin Islands-U S VIRGIN ISLANDS DEPT OF ED<br>14.0 %",
          "Hawaii-UNIVERSITY OF HAWAII<br>14.0 %",
          "South Dakota-SOUTH DAKOTA <br> STATE UNIVERSITY<br>13.0 %",
          "Iowa-THE UNIVERSITY OF IOWA<br>12.0 %",
          "Alabama-THE UNIV OF ALABAMA <br> AT BIRMINGHAM<br>12.0 %",
          "New Mexico-LOS ALAMOS NATIONAL <br> SECURITY LLC<br>12.0 %",
          "Maine-RITE PROS INC<br>11.0 %"
         ],
         "labels": [
          "Maryland",
          "Vermont",
          "North Carolina",
          "Idaho",
          "Arkansas",
          "Washington",
          "Tennessee",
          "Pennsylvania",
          "Rhode Island",
          "Texas",
          "Illinois",
          "Wyoming",
          "Arizona",
          "Alaska",
          "Kentucky",
          "Michigan",
          "Montana",
          "New Jersey",
          "West Virginia",
          "Florida",
          "Nebraska",
          "Virgin Islands",
          "Hawaii",
          "South Dakota",
          "Iowa",
          "Alabama",
          "New Mexico",
          "Maine",
          "TATA<br>61.0 %",
          "ITECH US INC<br>56.0 %",
          "IBM<br>48.0 %",
          "MICRON <br> TECHNOLOGY INC<br>46.0 %",
          "WAL-MART<br>39.0 %",
          "MICROSOFT<br>38.0 %",
          "CUMMINS<br>27.0 %",
          "DELOITTE<br>26.0 %",
          "CVS/PHARMACY<br>24.0 %",
          "INFOSYS<br>24.0 %",
          "ACCENTURE<br>23.0 %",
          "UNIV OF WYOMING<br>22.0 %",
          "INTEL<br>19.0 %",
          "UNIV OF ALASKA <br> FAIRBANKS<br>19.0 %",
          "V-SOFT CONSULTING<br>18.0 %",
          "SYNTEL<br>18.0 %",
          "MONTANA STATE <br> UNIVERSITY<br>16.0 %",
          "WIPRO<br>16.0 %",
          "WEST VIRGINIA UNIV<br>15.0 %",
          "PWC<br>15.0 %",
          "PROKARMA INC<br>15.0 %",
          "U S VIRGIN ISLANDS DEPT OF ED<br>14.0 %",
          "UNIVERSITY OF HAWAII<br>14.0 %",
          "SOUTH DAKOTA <br> STATE UNIVERSITY<br>13.0 %",
          "THE UNIVERSITY OF IOWA<br>12.0 %",
          "THE UNIV OF ALABAMA <br> AT BIRMINGHAM<br>12.0 %",
          "LOS ALAMOS NATIONAL <br> SECURITY LLC<br>12.0 %",
          "RITE PROS INC<br>11.0 %"
         ],
         "marker": {
          "colors": [
           "#de3d83",
           "#de3d83",
           "#e4bd0b",
           "#e4bd0b",
           "#e4bd0b",
           "#e4bd0b",
           "#e4bd0b",
           "#e4bd0b",
           "#e4bd0b",
           "#e4bd0b",
           "#e4bd0b",
           "#e4bd0b",
           "#e4bd0b",
           "#e4bd0b",
           "#e4bd0b",
           "#e4bd0b",
           "#e4bd0b",
           "#e4bd0b",
           "#e4bd0b",
           "#e4bd0b",
           "#e4bd0b",
           "#00b8b8",
           "#00b8b8",
           "#00b8b8",
           "#00b8b8",
           "#00b8b8",
           "#00b8b8",
           "#00b8b8",
           "#de3d83",
           "#de3d83",
           "#e4bd0b",
           "#e4bd0b",
           "#e4bd0b",
           "#e4bd0b",
           "#e4bd0b",
           "#e4bd0b",
           "#e4bd0b",
           "#e4bd0b",
           "#e4bd0b",
           "#e4bd0b",
           "#e4bd0b",
           "#e4bd0b",
           "#e4bd0b",
           "#e4bd0b",
           "#e4bd0b",
           "#e4bd0b",
           "#e4bd0b",
           "#e4bd0b",
           "#e4bd0b",
           "#00b8b8",
           "#00b8b8",
           "#00b8b8",
           "#00b8b8",
           "#00b8b8",
           "#00b8b8",
           "#00b8b8"
          ]
         },
         "parents": [
          "",
          "",
          "",
          "",
          "",
          "",
          "",
          "",
          "",
          "",
          "",
          "",
          "",
          "",
          "",
          "",
          "",
          "",
          "",
          "",
          "",
          "",
          "",
          "",
          "",
          "",
          "",
          "",
          "Maryland",
          "Vermont",
          "North Carolina",
          "Idaho",
          "Arkansas",
          "Washington",
          "Tennessee",
          "Pennsylvania",
          "Rhode Island",
          "Texas",
          "Illinois",
          "Wyoming",
          "Arizona",
          "Alaska",
          "Kentucky",
          "Michigan",
          "Montana",
          "New Jersey",
          "West Virginia",
          "Florida",
          "Nebraska",
          "Virgin Islands",
          "Hawaii",
          "South Dakota",
          "Iowa",
          "Alabama",
          "New Mexico",
          "Maine"
         ],
         "type": "sunburst"
        }
       ],
       "layout": {
        "margin": {
         "b": 0,
         "l": 0,
         "r": 0,
         "t": 0
        },
        "template": {
         "data": {
          "bar": [
           {
            "error_x": {
             "color": "#2a3f5f"
            },
            "error_y": {
             "color": "#2a3f5f"
            },
            "marker": {
             "line": {
              "color": "#E5ECF6",
              "width": 0.5
             }
            },
            "type": "bar"
           }
          ],
          "barpolar": [
           {
            "marker": {
             "line": {
              "color": "#E5ECF6",
              "width": 0.5
             }
            },
            "type": "barpolar"
           }
          ],
          "carpet": [
           {
            "aaxis": {
             "endlinecolor": "#2a3f5f",
             "gridcolor": "white",
             "linecolor": "white",
             "minorgridcolor": "white",
             "startlinecolor": "#2a3f5f"
            },
            "baxis": {
             "endlinecolor": "#2a3f5f",
             "gridcolor": "white",
             "linecolor": "white",
             "minorgridcolor": "white",
             "startlinecolor": "#2a3f5f"
            },
            "type": "carpet"
           }
          ],
          "choropleth": [
           {
            "colorbar": {
             "outlinewidth": 0,
             "ticks": ""
            },
            "type": "choropleth"
           }
          ],
          "contour": [
           {
            "colorbar": {
             "outlinewidth": 0,
             "ticks": ""
            },
            "colorscale": [
             [
              0,
              "#0d0887"
             ],
             [
              0.1111111111111111,
              "#46039f"
             ],
             [
              0.2222222222222222,
              "#7201a8"
             ],
             [
              0.3333333333333333,
              "#9c179e"
             ],
             [
              0.4444444444444444,
              "#bd3786"
             ],
             [
              0.5555555555555556,
              "#d8576b"
             ],
             [
              0.6666666666666666,
              "#ed7953"
             ],
             [
              0.7777777777777778,
              "#fb9f3a"
             ],
             [
              0.8888888888888888,
              "#fdca26"
             ],
             [
              1,
              "#f0f921"
             ]
            ],
            "type": "contour"
           }
          ],
          "contourcarpet": [
           {
            "colorbar": {
             "outlinewidth": 0,
             "ticks": ""
            },
            "type": "contourcarpet"
           }
          ],
          "heatmap": [
           {
            "colorbar": {
             "outlinewidth": 0,
             "ticks": ""
            },
            "colorscale": [
             [
              0,
              "#0d0887"
             ],
             [
              0.1111111111111111,
              "#46039f"
             ],
             [
              0.2222222222222222,
              "#7201a8"
             ],
             [
              0.3333333333333333,
              "#9c179e"
             ],
             [
              0.4444444444444444,
              "#bd3786"
             ],
             [
              0.5555555555555556,
              "#d8576b"
             ],
             [
              0.6666666666666666,
              "#ed7953"
             ],
             [
              0.7777777777777778,
              "#fb9f3a"
             ],
             [
              0.8888888888888888,
              "#fdca26"
             ],
             [
              1,
              "#f0f921"
             ]
            ],
            "type": "heatmap"
           }
          ],
          "heatmapgl": [
           {
            "colorbar": {
             "outlinewidth": 0,
             "ticks": ""
            },
            "colorscale": [
             [
              0,
              "#0d0887"
             ],
             [
              0.1111111111111111,
              "#46039f"
             ],
             [
              0.2222222222222222,
              "#7201a8"
             ],
             [
              0.3333333333333333,
              "#9c179e"
             ],
             [
              0.4444444444444444,
              "#bd3786"
             ],
             [
              0.5555555555555556,
              "#d8576b"
             ],
             [
              0.6666666666666666,
              "#ed7953"
             ],
             [
              0.7777777777777778,
              "#fb9f3a"
             ],
             [
              0.8888888888888888,
              "#fdca26"
             ],
             [
              1,
              "#f0f921"
             ]
            ],
            "type": "heatmapgl"
           }
          ],
          "histogram": [
           {
            "marker": {
             "colorbar": {
              "outlinewidth": 0,
              "ticks": ""
             }
            },
            "type": "histogram"
           }
          ],
          "histogram2d": [
           {
            "colorbar": {
             "outlinewidth": 0,
             "ticks": ""
            },
            "colorscale": [
             [
              0,
              "#0d0887"
             ],
             [
              0.1111111111111111,
              "#46039f"
             ],
             [
              0.2222222222222222,
              "#7201a8"
             ],
             [
              0.3333333333333333,
              "#9c179e"
             ],
             [
              0.4444444444444444,
              "#bd3786"
             ],
             [
              0.5555555555555556,
              "#d8576b"
             ],
             [
              0.6666666666666666,
              "#ed7953"
             ],
             [
              0.7777777777777778,
              "#fb9f3a"
             ],
             [
              0.8888888888888888,
              "#fdca26"
             ],
             [
              1,
              "#f0f921"
             ]
            ],
            "type": "histogram2d"
           }
          ],
          "histogram2dcontour": [
           {
            "colorbar": {
             "outlinewidth": 0,
             "ticks": ""
            },
            "colorscale": [
             [
              0,
              "#0d0887"
             ],
             [
              0.1111111111111111,
              "#46039f"
             ],
             [
              0.2222222222222222,
              "#7201a8"
             ],
             [
              0.3333333333333333,
              "#9c179e"
             ],
             [
              0.4444444444444444,
              "#bd3786"
             ],
             [
              0.5555555555555556,
              "#d8576b"
             ],
             [
              0.6666666666666666,
              "#ed7953"
             ],
             [
              0.7777777777777778,
              "#fb9f3a"
             ],
             [
              0.8888888888888888,
              "#fdca26"
             ],
             [
              1,
              "#f0f921"
             ]
            ],
            "type": "histogram2dcontour"
           }
          ],
          "mesh3d": [
           {
            "colorbar": {
             "outlinewidth": 0,
             "ticks": ""
            },
            "type": "mesh3d"
           }
          ],
          "parcoords": [
           {
            "line": {
             "colorbar": {
              "outlinewidth": 0,
              "ticks": ""
             }
            },
            "type": "parcoords"
           }
          ],
          "pie": [
           {
            "automargin": true,
            "type": "pie"
           }
          ],
          "scatter": [
           {
            "marker": {
             "colorbar": {
              "outlinewidth": 0,
              "ticks": ""
             }
            },
            "type": "scatter"
           }
          ],
          "scatter3d": [
           {
            "line": {
             "colorbar": {
              "outlinewidth": 0,
              "ticks": ""
             }
            },
            "marker": {
             "colorbar": {
              "outlinewidth": 0,
              "ticks": ""
             }
            },
            "type": "scatter3d"
           }
          ],
          "scattercarpet": [
           {
            "marker": {
             "colorbar": {
              "outlinewidth": 0,
              "ticks": ""
             }
            },
            "type": "scattercarpet"
           }
          ],
          "scattergeo": [
           {
            "marker": {
             "colorbar": {
              "outlinewidth": 0,
              "ticks": ""
             }
            },
            "type": "scattergeo"
           }
          ],
          "scattergl": [
           {
            "marker": {
             "colorbar": {
              "outlinewidth": 0,
              "ticks": ""
             }
            },
            "type": "scattergl"
           }
          ],
          "scattermapbox": [
           {
            "marker": {
             "colorbar": {
              "outlinewidth": 0,
              "ticks": ""
             }
            },
            "type": "scattermapbox"
           }
          ],
          "scatterpolar": [
           {
            "marker": {
             "colorbar": {
              "outlinewidth": 0,
              "ticks": ""
             }
            },
            "type": "scatterpolar"
           }
          ],
          "scatterpolargl": [
           {
            "marker": {
             "colorbar": {
              "outlinewidth": 0,
              "ticks": ""
             }
            },
            "type": "scatterpolargl"
           }
          ],
          "scatterternary": [
           {
            "marker": {
             "colorbar": {
              "outlinewidth": 0,
              "ticks": ""
             }
            },
            "type": "scatterternary"
           }
          ],
          "surface": [
           {
            "colorbar": {
             "outlinewidth": 0,
             "ticks": ""
            },
            "colorscale": [
             [
              0,
              "#0d0887"
             ],
             [
              0.1111111111111111,
              "#46039f"
             ],
             [
              0.2222222222222222,
              "#7201a8"
             ],
             [
              0.3333333333333333,
              "#9c179e"
             ],
             [
              0.4444444444444444,
              "#bd3786"
             ],
             [
              0.5555555555555556,
              "#d8576b"
             ],
             [
              0.6666666666666666,
              "#ed7953"
             ],
             [
              0.7777777777777778,
              "#fb9f3a"
             ],
             [
              0.8888888888888888,
              "#fdca26"
             ],
             [
              1,
              "#f0f921"
             ]
            ],
            "type": "surface"
           }
          ],
          "table": [
           {
            "cells": {
             "fill": {
              "color": "#EBF0F8"
             },
             "line": {
              "color": "white"
             }
            },
            "header": {
             "fill": {
              "color": "#C8D4E3"
             },
             "line": {
              "color": "white"
             }
            },
            "type": "table"
           }
          ]
         },
         "layout": {
          "annotationdefaults": {
           "arrowcolor": "#2a3f5f",
           "arrowhead": 0,
           "arrowwidth": 1
          },
          "coloraxis": {
           "colorbar": {
            "outlinewidth": 0,
            "ticks": ""
           }
          },
          "colorscale": {
           "diverging": [
            [
             0,
             "#8e0152"
            ],
            [
             0.1,
             "#c51b7d"
            ],
            [
             0.2,
             "#de77ae"
            ],
            [
             0.3,
             "#f1b6da"
            ],
            [
             0.4,
             "#fde0ef"
            ],
            [
             0.5,
             "#f7f7f7"
            ],
            [
             0.6,
             "#e6f5d0"
            ],
            [
             0.7,
             "#b8e186"
            ],
            [
             0.8,
             "#7fbc41"
            ],
            [
             0.9,
             "#4d9221"
            ],
            [
             1,
             "#276419"
            ]
           ],
           "sequential": [
            [
             0,
             "#0d0887"
            ],
            [
             0.1111111111111111,
             "#46039f"
            ],
            [
             0.2222222222222222,
             "#7201a8"
            ],
            [
             0.3333333333333333,
             "#9c179e"
            ],
            [
             0.4444444444444444,
             "#bd3786"
            ],
            [
             0.5555555555555556,
             "#d8576b"
            ],
            [
             0.6666666666666666,
             "#ed7953"
            ],
            [
             0.7777777777777778,
             "#fb9f3a"
            ],
            [
             0.8888888888888888,
             "#fdca26"
            ],
            [
             1,
             "#f0f921"
            ]
           ],
           "sequentialminus": [
            [
             0,
             "#0d0887"
            ],
            [
             0.1111111111111111,
             "#46039f"
            ],
            [
             0.2222222222222222,
             "#7201a8"
            ],
            [
             0.3333333333333333,
             "#9c179e"
            ],
            [
             0.4444444444444444,
             "#bd3786"
            ],
            [
             0.5555555555555556,
             "#d8576b"
            ],
            [
             0.6666666666666666,
             "#ed7953"
            ],
            [
             0.7777777777777778,
             "#fb9f3a"
            ],
            [
             0.8888888888888888,
             "#fdca26"
            ],
            [
             1,
             "#f0f921"
            ]
           ]
          },
          "colorway": [
           "#636efa",
           "#EF553B",
           "#00cc96",
           "#ab63fa",
           "#FFA15A",
           "#19d3f3",
           "#FF6692",
           "#B6E880",
           "#FF97FF",
           "#FECB52"
          ],
          "font": {
           "color": "#2a3f5f"
          },
          "geo": {
           "bgcolor": "white",
           "lakecolor": "white",
           "landcolor": "#E5ECF6",
           "showlakes": true,
           "showland": true,
           "subunitcolor": "white"
          },
          "hoverlabel": {
           "align": "left"
          },
          "hovermode": "closest",
          "mapbox": {
           "style": "light"
          },
          "paper_bgcolor": "white",
          "plot_bgcolor": "#E5ECF6",
          "polar": {
           "angularaxis": {
            "gridcolor": "white",
            "linecolor": "white",
            "ticks": ""
           },
           "bgcolor": "#E5ECF6",
           "radialaxis": {
            "gridcolor": "white",
            "linecolor": "white",
            "ticks": ""
           }
          },
          "scene": {
           "xaxis": {
            "backgroundcolor": "#E5ECF6",
            "gridcolor": "white",
            "gridwidth": 2,
            "linecolor": "white",
            "showbackground": true,
            "ticks": "",
            "zerolinecolor": "white"
           },
           "yaxis": {
            "backgroundcolor": "#E5ECF6",
            "gridcolor": "white",
            "gridwidth": 2,
            "linecolor": "white",
            "showbackground": true,
            "ticks": "",
            "zerolinecolor": "white"
           },
           "zaxis": {
            "backgroundcolor": "#E5ECF6",
            "gridcolor": "white",
            "gridwidth": 2,
            "linecolor": "white",
            "showbackground": true,
            "ticks": "",
            "zerolinecolor": "white"
           }
          },
          "shapedefaults": {
           "line": {
            "color": "#2a3f5f"
           }
          },
          "ternary": {
           "aaxis": {
            "gridcolor": "white",
            "linecolor": "white",
            "ticks": ""
           },
           "baxis": {
            "gridcolor": "white",
            "linecolor": "white",
            "ticks": ""
           },
           "bgcolor": "#E5ECF6",
           "caxis": {
            "gridcolor": "white",
            "linecolor": "white",
            "ticks": ""
           }
          },
          "title": {
           "x": 0.05
          },
          "xaxis": {
           "automargin": true,
           "gridcolor": "white",
           "linecolor": "white",
           "ticks": "",
           "title": {
            "standoff": 15
           },
           "zerolinecolor": "white",
           "zerolinewidth": 2
          },
          "yaxis": {
           "automargin": true,
           "gridcolor": "white",
           "linecolor": "white",
           "ticks": "",
           "title": {
            "standoff": 15
           },
           "zerolinecolor": "white",
           "zerolinewidth": 2
          }
         }
        }
       }
      },
      "text/html": [
       "<div>\n",
       "        \n",
       "        \n",
       "            <div id=\"95b5225f-7946-46b5-b551-40e44d45a4bb\" class=\"plotly-graph-div\" style=\"height:525px; width:100%;\"></div>\n",
       "            <script type=\"text/javascript\">\n",
       "                require([\"plotly\"], function(Plotly) {\n",
       "                    window.PLOTLYENV=window.PLOTLYENV || {};\n",
       "                    \n",
       "                if (document.getElementById(\"95b5225f-7946-46b5-b551-40e44d45a4bb\")) {\n",
       "                    Plotly.newPlot(\n",
       "                        '95b5225f-7946-46b5-b551-40e44d45a4bb',\n",
       "                        [{\"ids\": [\"Maryland\", \"Vermont\", \"North Carolina\", \"Idaho\", \"Arkansas\", \"Washington\", \"Tennessee\", \"Pennsylvania\", \"Rhode Island\", \"Texas\", \"Illinois\", \"Wyoming\", \"Arizona\", \"Alaska\", \"Kentucky\", \"Michigan\", \"Montana\", \"New Jersey\", \"West Virginia\", \"Florida\", \"Nebraska\", \"Virgin Islands\", \"Hawaii\", \"South Dakota\", \"Iowa\", \"Alabama\", \"New Mexico\", \"Maine\", \"Maryland-TATA<br>61.0 %\", \"Vermont-ITECH US INC<br>56.0 %\", \"North Carolina-IBM<br>48.0 %\", \"Idaho-MICRON <br> TECHNOLOGY INC<br>46.0 %\", \"Arkansas-WAL-MART<br>39.0 %\", \"Washington-MICROSOFT<br>38.0 %\", \"Tennessee-CUMMINS<br>27.0 %\", \"Pennsylvania-DELOITTE<br>26.0 %\", \"Rhode Island-CVS/PHARMACY<br>24.0 %\", \"Texas-INFOSYS<br>24.0 %\", \"Illinois-ACCENTURE<br>23.0 %\", \"Wyoming-UNIV OF WYOMING<br>22.0 %\", \"Arizona-INTEL<br>19.0 %\", \"Alaska-UNIV OF ALASKA <br> FAIRBANKS<br>19.0 %\", \"Kentucky-V-SOFT CONSULTING<br>18.0 %\", \"Michigan-SYNTEL<br>18.0 %\", \"Montana-MONTANA STATE <br> UNIVERSITY<br>16.0 %\", \"New Jersey-WIPRO<br>16.0 %\", \"West Virginia-WEST VIRGINIA UNIV<br>15.0 %\", \"Florida-PWC<br>15.0 %\", \"Nebraska-PROKARMA INC<br>15.0 %\", \"Virgin Islands-U S VIRGIN ISLANDS DEPT OF ED<br>14.0 %\", \"Hawaii-UNIVERSITY OF HAWAII<br>14.0 %\", \"South Dakota-SOUTH DAKOTA <br> STATE UNIVERSITY<br>13.0 %\", \"Iowa-THE UNIVERSITY OF IOWA<br>12.0 %\", \"Alabama-THE UNIV OF ALABAMA <br> AT BIRMINGHAM<br>12.0 %\", \"New Mexico-LOS ALAMOS NATIONAL <br> SECURITY LLC<br>12.0 %\", \"Maine-RITE PROS INC<br>11.0 %\"], \"labels\": [\"Maryland\", \"Vermont\", \"North Carolina\", \"Idaho\", \"Arkansas\", \"Washington\", \"Tennessee\", \"Pennsylvania\", \"Rhode Island\", \"Texas\", \"Illinois\", \"Wyoming\", \"Arizona\", \"Alaska\", \"Kentucky\", \"Michigan\", \"Montana\", \"New Jersey\", \"West Virginia\", \"Florida\", \"Nebraska\", \"Virgin Islands\", \"Hawaii\", \"South Dakota\", \"Iowa\", \"Alabama\", \"New Mexico\", \"Maine\", \"TATA<br>61.0 %\", \"ITECH US INC<br>56.0 %\", \"IBM<br>48.0 %\", \"MICRON <br> TECHNOLOGY INC<br>46.0 %\", \"WAL-MART<br>39.0 %\", \"MICROSOFT<br>38.0 %\", \"CUMMINS<br>27.0 %\", \"DELOITTE<br>26.0 %\", \"CVS/PHARMACY<br>24.0 %\", \"INFOSYS<br>24.0 %\", \"ACCENTURE<br>23.0 %\", \"UNIV OF WYOMING<br>22.0 %\", \"INTEL<br>19.0 %\", \"UNIV OF ALASKA <br> FAIRBANKS<br>19.0 %\", \"V-SOFT CONSULTING<br>18.0 %\", \"SYNTEL<br>18.0 %\", \"MONTANA STATE <br> UNIVERSITY<br>16.0 %\", \"WIPRO<br>16.0 %\", \"WEST VIRGINIA UNIV<br>15.0 %\", \"PWC<br>15.0 %\", \"PROKARMA INC<br>15.0 %\", \"U S VIRGIN ISLANDS DEPT OF ED<br>14.0 %\", \"UNIVERSITY OF HAWAII<br>14.0 %\", \"SOUTH DAKOTA <br> STATE UNIVERSITY<br>13.0 %\", \"THE UNIVERSITY OF IOWA<br>12.0 %\", \"THE UNIV OF ALABAMA <br> AT BIRMINGHAM<br>12.0 %\", \"LOS ALAMOS NATIONAL <br> SECURITY LLC<br>12.0 %\", \"RITE PROS INC<br>11.0 %\"], \"marker\": {\"colors\": [\"#de3d83\", \"#de3d83\", \"#e4bd0b\", \"#e4bd0b\", \"#e4bd0b\", \"#e4bd0b\", \"#e4bd0b\", \"#e4bd0b\", \"#e4bd0b\", \"#e4bd0b\", \"#e4bd0b\", \"#e4bd0b\", \"#e4bd0b\", \"#e4bd0b\", \"#e4bd0b\", \"#e4bd0b\", \"#e4bd0b\", \"#e4bd0b\", \"#e4bd0b\", \"#e4bd0b\", \"#e4bd0b\", \"#00b8b8\", \"#00b8b8\", \"#00b8b8\", \"#00b8b8\", \"#00b8b8\", \"#00b8b8\", \"#00b8b8\", \"#de3d83\", \"#de3d83\", \"#e4bd0b\", \"#e4bd0b\", \"#e4bd0b\", \"#e4bd0b\", \"#e4bd0b\", \"#e4bd0b\", \"#e4bd0b\", \"#e4bd0b\", \"#e4bd0b\", \"#e4bd0b\", \"#e4bd0b\", \"#e4bd0b\", \"#e4bd0b\", \"#e4bd0b\", \"#e4bd0b\", \"#e4bd0b\", \"#e4bd0b\", \"#e4bd0b\", \"#e4bd0b\", \"#00b8b8\", \"#00b8b8\", \"#00b8b8\", \"#00b8b8\", \"#00b8b8\", \"#00b8b8\", \"#00b8b8\"]}, \"parents\": [\"\", \"\", \"\", \"\", \"\", \"\", \"\", \"\", \"\", \"\", \"\", \"\", \"\", \"\", \"\", \"\", \"\", \"\", \"\", \"\", \"\", \"\", \"\", \"\", \"\", \"\", \"\", \"\", \"Maryland\", \"Vermont\", \"North Carolina\", \"Idaho\", \"Arkansas\", \"Washington\", \"Tennessee\", \"Pennsylvania\", \"Rhode Island\", \"Texas\", \"Illinois\", \"Wyoming\", \"Arizona\", \"Alaska\", \"Kentucky\", \"Michigan\", \"Montana\", \"New Jersey\", \"West Virginia\", \"Florida\", \"Nebraska\", \"Virgin Islands\", \"Hawaii\", \"South Dakota\", \"Iowa\", \"Alabama\", \"New Mexico\", \"Maine\"], \"type\": \"sunburst\"}],\n",
       "                        {\"margin\": {\"b\": 0, \"l\": 0, \"r\": 0, \"t\": 0}, \"template\": {\"data\": {\"bar\": [{\"error_x\": {\"color\": \"#2a3f5f\"}, \"error_y\": {\"color\": \"#2a3f5f\"}, \"marker\": {\"line\": {\"color\": \"#E5ECF6\", \"width\": 0.5}}, \"type\": \"bar\"}], \"barpolar\": [{\"marker\": {\"line\": {\"color\": \"#E5ECF6\", \"width\": 0.5}}, \"type\": \"barpolar\"}], \"carpet\": [{\"aaxis\": {\"endlinecolor\": \"#2a3f5f\", \"gridcolor\": \"white\", \"linecolor\": \"white\", \"minorgridcolor\": \"white\", \"startlinecolor\": \"#2a3f5f\"}, \"baxis\": {\"endlinecolor\": \"#2a3f5f\", \"gridcolor\": \"white\", \"linecolor\": \"white\", \"minorgridcolor\": \"white\", \"startlinecolor\": \"#2a3f5f\"}, \"type\": \"carpet\"}], \"choropleth\": [{\"colorbar\": {\"outlinewidth\": 0, \"ticks\": \"\"}, \"type\": \"choropleth\"}], \"contour\": [{\"colorbar\": {\"outlinewidth\": 0, \"ticks\": \"\"}, \"colorscale\": [[0.0, \"#0d0887\"], [0.1111111111111111, \"#46039f\"], [0.2222222222222222, \"#7201a8\"], [0.3333333333333333, \"#9c179e\"], [0.4444444444444444, \"#bd3786\"], [0.5555555555555556, \"#d8576b\"], [0.6666666666666666, \"#ed7953\"], [0.7777777777777778, \"#fb9f3a\"], [0.8888888888888888, \"#fdca26\"], [1.0, \"#f0f921\"]], \"type\": \"contour\"}], \"contourcarpet\": [{\"colorbar\": {\"outlinewidth\": 0, \"ticks\": \"\"}, \"type\": \"contourcarpet\"}], \"heatmap\": [{\"colorbar\": {\"outlinewidth\": 0, \"ticks\": \"\"}, \"colorscale\": [[0.0, \"#0d0887\"], [0.1111111111111111, \"#46039f\"], [0.2222222222222222, \"#7201a8\"], [0.3333333333333333, \"#9c179e\"], [0.4444444444444444, \"#bd3786\"], [0.5555555555555556, \"#d8576b\"], [0.6666666666666666, \"#ed7953\"], [0.7777777777777778, \"#fb9f3a\"], [0.8888888888888888, \"#fdca26\"], [1.0, \"#f0f921\"]], \"type\": \"heatmap\"}], \"heatmapgl\": [{\"colorbar\": {\"outlinewidth\": 0, \"ticks\": \"\"}, \"colorscale\": [[0.0, \"#0d0887\"], [0.1111111111111111, \"#46039f\"], [0.2222222222222222, \"#7201a8\"], [0.3333333333333333, \"#9c179e\"], [0.4444444444444444, \"#bd3786\"], [0.5555555555555556, \"#d8576b\"], [0.6666666666666666, \"#ed7953\"], [0.7777777777777778, \"#fb9f3a\"], [0.8888888888888888, \"#fdca26\"], [1.0, \"#f0f921\"]], \"type\": \"heatmapgl\"}], \"histogram\": [{\"marker\": {\"colorbar\": {\"outlinewidth\": 0, \"ticks\": \"\"}}, \"type\": \"histogram\"}], \"histogram2d\": [{\"colorbar\": {\"outlinewidth\": 0, \"ticks\": \"\"}, \"colorscale\": [[0.0, \"#0d0887\"], [0.1111111111111111, \"#46039f\"], [0.2222222222222222, \"#7201a8\"], [0.3333333333333333, \"#9c179e\"], [0.4444444444444444, \"#bd3786\"], [0.5555555555555556, \"#d8576b\"], [0.6666666666666666, \"#ed7953\"], [0.7777777777777778, \"#fb9f3a\"], [0.8888888888888888, \"#fdca26\"], [1.0, \"#f0f921\"]], \"type\": \"histogram2d\"}], \"histogram2dcontour\": [{\"colorbar\": {\"outlinewidth\": 0, \"ticks\": \"\"}, \"colorscale\": [[0.0, \"#0d0887\"], [0.1111111111111111, \"#46039f\"], [0.2222222222222222, \"#7201a8\"], [0.3333333333333333, \"#9c179e\"], [0.4444444444444444, \"#bd3786\"], [0.5555555555555556, \"#d8576b\"], [0.6666666666666666, \"#ed7953\"], [0.7777777777777778, \"#fb9f3a\"], [0.8888888888888888, \"#fdca26\"], [1.0, \"#f0f921\"]], \"type\": \"histogram2dcontour\"}], \"mesh3d\": [{\"colorbar\": {\"outlinewidth\": 0, \"ticks\": \"\"}, \"type\": \"mesh3d\"}], \"parcoords\": [{\"line\": {\"colorbar\": {\"outlinewidth\": 0, \"ticks\": \"\"}}, \"type\": \"parcoords\"}], \"pie\": [{\"automargin\": true, \"type\": \"pie\"}], \"scatter\": [{\"marker\": {\"colorbar\": {\"outlinewidth\": 0, \"ticks\": \"\"}}, \"type\": \"scatter\"}], \"scatter3d\": [{\"line\": {\"colorbar\": {\"outlinewidth\": 0, \"ticks\": \"\"}}, \"marker\": {\"colorbar\": {\"outlinewidth\": 0, \"ticks\": \"\"}}, \"type\": \"scatter3d\"}], \"scattercarpet\": [{\"marker\": {\"colorbar\": {\"outlinewidth\": 0, \"ticks\": \"\"}}, \"type\": \"scattercarpet\"}], \"scattergeo\": [{\"marker\": {\"colorbar\": {\"outlinewidth\": 0, \"ticks\": \"\"}}, \"type\": \"scattergeo\"}], \"scattergl\": [{\"marker\": {\"colorbar\": {\"outlinewidth\": 0, \"ticks\": \"\"}}, \"type\": \"scattergl\"}], \"scattermapbox\": [{\"marker\": {\"colorbar\": {\"outlinewidth\": 0, \"ticks\": \"\"}}, \"type\": \"scattermapbox\"}], \"scatterpolar\": [{\"marker\": {\"colorbar\": {\"outlinewidth\": 0, \"ticks\": \"\"}}, \"type\": \"scatterpolar\"}], \"scatterpolargl\": [{\"marker\": {\"colorbar\": {\"outlinewidth\": 0, \"ticks\": \"\"}}, \"type\": \"scatterpolargl\"}], \"scatterternary\": [{\"marker\": {\"colorbar\": {\"outlinewidth\": 0, \"ticks\": \"\"}}, \"type\": \"scatterternary\"}], \"surface\": [{\"colorbar\": {\"outlinewidth\": 0, \"ticks\": \"\"}, \"colorscale\": [[0.0, \"#0d0887\"], [0.1111111111111111, \"#46039f\"], [0.2222222222222222, \"#7201a8\"], [0.3333333333333333, \"#9c179e\"], [0.4444444444444444, \"#bd3786\"], [0.5555555555555556, \"#d8576b\"], [0.6666666666666666, \"#ed7953\"], [0.7777777777777778, \"#fb9f3a\"], [0.8888888888888888, \"#fdca26\"], [1.0, \"#f0f921\"]], \"type\": \"surface\"}], \"table\": [{\"cells\": {\"fill\": {\"color\": \"#EBF0F8\"}, \"line\": {\"color\": \"white\"}}, \"header\": {\"fill\": {\"color\": \"#C8D4E3\"}, \"line\": {\"color\": \"white\"}}, \"type\": \"table\"}]}, \"layout\": {\"annotationdefaults\": {\"arrowcolor\": \"#2a3f5f\", \"arrowhead\": 0, \"arrowwidth\": 1}, \"coloraxis\": {\"colorbar\": {\"outlinewidth\": 0, \"ticks\": \"\"}}, \"colorscale\": {\"diverging\": [[0, \"#8e0152\"], [0.1, \"#c51b7d\"], [0.2, \"#de77ae\"], [0.3, \"#f1b6da\"], [0.4, \"#fde0ef\"], [0.5, \"#f7f7f7\"], [0.6, \"#e6f5d0\"], [0.7, \"#b8e186\"], [0.8, \"#7fbc41\"], [0.9, \"#4d9221\"], [1, \"#276419\"]], \"sequential\": [[0.0, \"#0d0887\"], [0.1111111111111111, \"#46039f\"], [0.2222222222222222, \"#7201a8\"], [0.3333333333333333, \"#9c179e\"], [0.4444444444444444, \"#bd3786\"], [0.5555555555555556, \"#d8576b\"], [0.6666666666666666, \"#ed7953\"], [0.7777777777777778, \"#fb9f3a\"], [0.8888888888888888, \"#fdca26\"], [1.0, \"#f0f921\"]], \"sequentialminus\": [[0.0, \"#0d0887\"], [0.1111111111111111, \"#46039f\"], [0.2222222222222222, \"#7201a8\"], [0.3333333333333333, \"#9c179e\"], [0.4444444444444444, \"#bd3786\"], [0.5555555555555556, \"#d8576b\"], [0.6666666666666666, \"#ed7953\"], [0.7777777777777778, \"#fb9f3a\"], [0.8888888888888888, \"#fdca26\"], [1.0, \"#f0f921\"]]}, \"colorway\": [\"#636efa\", \"#EF553B\", \"#00cc96\", \"#ab63fa\", \"#FFA15A\", \"#19d3f3\", \"#FF6692\", \"#B6E880\", \"#FF97FF\", \"#FECB52\"], \"font\": {\"color\": \"#2a3f5f\"}, \"geo\": {\"bgcolor\": \"white\", \"lakecolor\": \"white\", \"landcolor\": \"#E5ECF6\", \"showlakes\": true, \"showland\": true, \"subunitcolor\": \"white\"}, \"hoverlabel\": {\"align\": \"left\"}, \"hovermode\": \"closest\", \"mapbox\": {\"style\": \"light\"}, \"paper_bgcolor\": \"white\", \"plot_bgcolor\": \"#E5ECF6\", \"polar\": {\"angularaxis\": {\"gridcolor\": \"white\", \"linecolor\": \"white\", \"ticks\": \"\"}, \"bgcolor\": \"#E5ECF6\", \"radialaxis\": {\"gridcolor\": \"white\", \"linecolor\": \"white\", \"ticks\": \"\"}}, \"scene\": {\"xaxis\": {\"backgroundcolor\": \"#E5ECF6\", \"gridcolor\": \"white\", \"gridwidth\": 2, \"linecolor\": \"white\", \"showbackground\": true, \"ticks\": \"\", \"zerolinecolor\": \"white\"}, \"yaxis\": {\"backgroundcolor\": \"#E5ECF6\", \"gridcolor\": \"white\", \"gridwidth\": 2, \"linecolor\": \"white\", \"showbackground\": true, \"ticks\": \"\", \"zerolinecolor\": \"white\"}, \"zaxis\": {\"backgroundcolor\": \"#E5ECF6\", \"gridcolor\": \"white\", \"gridwidth\": 2, \"linecolor\": \"white\", \"showbackground\": true, \"ticks\": \"\", \"zerolinecolor\": \"white\"}}, \"shapedefaults\": {\"line\": {\"color\": \"#2a3f5f\"}}, \"ternary\": {\"aaxis\": {\"gridcolor\": \"white\", \"linecolor\": \"white\", \"ticks\": \"\"}, \"baxis\": {\"gridcolor\": \"white\", \"linecolor\": \"white\", \"ticks\": \"\"}, \"bgcolor\": \"#E5ECF6\", \"caxis\": {\"gridcolor\": \"white\", \"linecolor\": \"white\", \"ticks\": \"\"}}, \"title\": {\"x\": 0.05}, \"xaxis\": {\"automargin\": true, \"gridcolor\": \"white\", \"linecolor\": \"white\", \"ticks\": \"\", \"title\": {\"standoff\": 15}, \"zerolinecolor\": \"white\", \"zerolinewidth\": 2}, \"yaxis\": {\"automargin\": true, \"gridcolor\": \"white\", \"linecolor\": \"white\", \"ticks\": \"\", \"title\": {\"standoff\": 15}, \"zerolinecolor\": \"white\", \"zerolinewidth\": 2}}}},\n",
       "                        {\"responsive\": true}\n",
       "                    ).then(function(){\n",
       "                            \n",
       "var gd = document.getElementById('95b5225f-7946-46b5-b551-40e44d45a4bb');\n",
       "var x = new MutationObserver(function (mutations, observer) {{\n",
       "        var display = window.getComputedStyle(gd).display;\n",
       "        if (!display || display === 'none') {{\n",
       "            console.log([gd, 'removed!']);\n",
       "            Plotly.purge(gd);\n",
       "            observer.disconnect();\n",
       "        }}\n",
       "}});\n",
       "\n",
       "// Listen for the removal of the full notebook cells\n",
       "var notebookContainer = gd.closest('#notebook-container');\n",
       "if (notebookContainer) {{\n",
       "    x.observe(notebookContainer, {childList: true});\n",
       "}}\n",
       "\n",
       "// Listen for the clearing of the current output cell\n",
       "var outputEl = gd.closest('.output');\n",
       "if (outputEl) {{\n",
       "    x.observe(outputEl, {childList: true});\n",
       "}}\n",
       "\n",
       "                        })\n",
       "                };\n",
       "                });\n",
       "            </script>\n",
       "        </div>"
      ]
     },
     "metadata": {},
     "output_type": "display_data"
    }
   ],
   "source": [
    "import plotly.graph_objects as go\n",
    "\n",
    "fig =go.Figure(go.Sunburst(\n",
    " ids=[x for x in df9f['ids']],\n",
    "  labels= labels,\n",
    "  parents=parents,\n",
    "  marker=dict(\n",
    "        colors=df9f['colors']\n",
    "    )\n",
    "))\n",
    "fig.update_layout(margin = dict(t=0, l=0, r=0, b=0))\n",
    "\n",
    "fig.show()"
   ]
  },
  {
   "cell_type": "code",
   "execution_count": null,
   "metadata": {},
   "outputs": [],
   "source": []
  }
 ],
 "metadata": {
  "kernelspec": {
   "display_name": "Python 3.7.3 64-bit",
   "language": "python",
   "name": "python37364bit2b8427184f3a4d4aa3afd1d3859411ec"
  },
  "language_info": {
   "codemirror_mode": {
    "name": "ipython",
    "version": 3
   },
   "file_extension": ".py",
   "mimetype": "text/x-python",
   "name": "python",
   "nbconvert_exporter": "python",
   "pygments_lexer": "ipython3",
   "version": "3.7.3"
  }
 },
 "nbformat": 4,
 "nbformat_minor": 2
}
