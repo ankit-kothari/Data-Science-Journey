{
 "cells": [
  {
   "cell_type": "code",
   "execution_count": 89,
   "metadata": {},
   "outputs": [],
   "source": [
    "import pandas as pd\n",
    "import dash\n",
    "from dash.dependencies import Input, Output, State\n",
    "import dash_core_components as dcc\n",
    "import dash_html_components as html\n",
    "import dash_table\n",
    "import plotly\n",
    "from plotly import graph_objs as go\n",
    "from plotly.graph_objs import *\n",
    "from flask import Flask\n",
    "import pandas as pd\n",
    "import numpy as np\n",
    "import os\n",
    "import sqlite3\n",
    "import copy"
   ]
  },
  {
   "cell_type": "markdown",
   "metadata": {},
   "source": [
    "### Connecting to the Database"
   ]
  },
  {
   "cell_type": "code",
   "execution_count": 90,
   "metadata": {},
   "outputs": [],
   "source": [
    "conn = sqlite3.connect(\"/Users/ankitkothari/Documents/COMPLETED_PROJECTS/H1B_data_analysis/us_h1b.db\")"
   ]
  },
  {
   "cell_type": "markdown",
   "metadata": {},
   "source": [
    "### Filtering Criteria"
   ]
  },
  {
   "cell_type": "code",
   "execution_count": 91,
   "metadata": {},
   "outputs": [
    {
     "name": "stdout",
     "output_type": "stream",
     "text": [
      "              Employer  Denials  Approvals  Fiscal_Year\n",
      "0          3A SOFT INC        3         82           10\n",
      "1    3CORE SYSTEMS INC       22        163           10\n",
      "2      3I INFOTECH INC      144       1486           10\n",
      "3  3K TECHNOLOGIES LLC       13        215           10\n",
      "4           3M COMPANY        5        240           10\n"
     ]
    }
   ],
   "source": [
    "filter_query = ''' \n",
    "select  \n",
    "h1b.Employer,\n",
    "h1b2.Denials,\n",
    "h1b2.Approvals,\n",
    "h1b2.Fiscal_Year\n",
    "from h1b left join\n",
    "(\n",
    "select \n",
    "Employer,\n",
    "SUM(Initial_Denials) + SUM(Continuing_Denials) Denials,\n",
    "count(DISTINCT Fiscal_Year) Fiscal_Year,\n",
    "SUM(h1b.Initial_Approvals)+ SUM(h1b.Continuing_Approvals) Approvals\n",
    "from h1b \n",
    "where h1b.Fiscal_Year !='2019'\n",
    "group by 1\n",
    ") h1b2 on h1b.Employer = h1b2.Employer\n",
    "group by 1\n",
    "having h1b2.Fiscal_Year>9 and h1b2.Denials>2 and h1b2.Approvals >50\n",
    ";'''\n",
    "\n",
    "\n",
    "\n",
    "pandas_filter_query = pd.read_sql_query(filter_query, conn)\n",
    "pandas_filter_query.to_csv(\"/Users/ankitkothari/Documents/dash-app/pandas_filter_query1.csv\")\n",
    "pandas_filter_query['Denials']=pandas_filter_query['Denials'].astype(int)\n",
    "print(pandas_filter_query.head())"
   ]
  },
  {
   "cell_type": "markdown",
   "metadata": {},
   "source": [
    "### Initializing the DASH APP"
   ]
  },
  {
   "cell_type": "code",
   "execution_count": 92,
   "metadata": {},
   "outputs": [],
   "source": [
    "app = dash.Dash()\n",
    "\n",
    "app.css.append_css({'external_url': 'https://cdn.rawgit.com/plotly/dash-app-stylesheets/2d266c578d2a6e8850ebce48fdb52759b2aef506/stylesheet-oil-and-gas.css'})\n"
   ]
  },
  {
   "cell_type": "markdown",
   "metadata": {},
   "source": [
    "### Drop Down Menu tp Select Employer"
   ]
  },
  {
   "cell_type": "code",
   "execution_count": 93,
   "metadata": {},
   "outputs": [],
   "source": [
    "employer_class = [{'label': str(item),\n",
    "                      'value': str(item)}\n",
    "                     for item in pandas_filter_query['Employer'].unique()]"
   ]
  },
  {
   "cell_type": "code",
   "execution_count": 94,
   "metadata": {},
   "outputs": [
    {
     "data": {
      "text/plain": [
       "[{'label': '3A SOFT INC', 'value': '3A SOFT INC'},\n",
       " {'label': '3CORE SYSTEMS INC', 'value': '3CORE SYSTEMS INC'},\n",
       " {'label': '3I INFOTECH INC', 'value': '3I INFOTECH INC'},\n",
       " {'label': '3K TECHNOLOGIES LLC', 'value': '3K TECHNOLOGIES LLC'}]"
      ]
     },
     "execution_count": 94,
     "metadata": {},
     "output_type": "execute_result"
    }
   ],
   "source": [
    "employer_class[0:4]"
   ]
  },
  {
   "cell_type": "markdown",
   "metadata": {},
   "source": [
    "### App Layout"
   ]
  },
  {
   "cell_type": "code",
   "execution_count": 95,
   "metadata": {},
   "outputs": [],
   "source": [
    "app.layout = html.Div([\n",
    "    html.Div(\n",
    "        [\n",
    "            html.H1(\n",
    "                'H1B VISA TRENDS',\n",
    "                style={'font-family': 'Helvetica',\n",
    "                       \"margin-top\": \"0\",\n",
    "                       \"margin-bottom\": \"0\",\n",
    "                       \"color\":\"black\",\n",
    "                       \"width\": \"100%\"},\n",
    "                className='eight columns',\n",
    "            ),\n",
    "        ], className='row', style={'display': 'inline-block'}\n",
    "    ),\n",
    "    html.Div(\n",
    "        [\n",
    "            html.Div([\n",
    "                 #dcc.Input(id='my-id', value='Choose your Employer:', type='text'),\n",
    "                 html.P('Please select the Employer:'),\n",
    "                 dcc.Dropdown(\n",
    "                        id='employer',\n",
    "                        options= employer_class,\n",
    "                        multi=False,\n",
    "                        value=None\n",
    "            )\n",
    "                ],\n",
    "                className='eight columns',\n",
    "                style={'margin-top': '10', 'margin-right': \"0\"}\n",
    "\n",
    "            ),\n",
    "\n",
    "        ], className='row',style={'width': '120%', 'display': 'inline-block'} ),\n",
    "    html.Div(\n",
    "        [\n",
    "\n",
    "                dcc.Graph(\n",
    "                id='bar-graph-2',\n",
    "                style={\"margin-right\": \"0\"},\n",
    "                className='five columns',\n",
    "            ),\n",
    "                dcc.Graph(\n",
    "                id='bar-graph',\n",
    "                style={\"margin-left\": \"10\"},\n",
    "                className='five columns',\n",
    "            ),\n",
    "            html.H2('Data'),\n",
    "            html.Div([\n",
    "        html.P('1. The Data has been taken from the USCIS website.'),\n",
    "        html.P('2. The Data has been cleaned and analyzed, so there may be inaccuracies'),\n",
    "        html.P('3. This should not be treated as a source of truth'),\n",
    "        html.P('4. New Approvals and Continuing Approvals are combined together.'),\n",
    "        html.P('5. Employers who have used H1B program for atleast 8 fiscal years'),\n",
    "        html.P('   are only counted.'),\n",
    "    ])\n",
    "        ], className='row',style={'width': '100%', 'display': 'inline-block'}),\n",
    "    html.Div(\n",
    "        [\n",
    "            \n",
    "                dcc.Graph(\n",
    "                id='bar-graph-3',\n",
    "                style={\"margin-right\": \"0\"},\n",
    "                className='five columns',\n",
    "            ),\n",
    "                dcc.Graph(\n",
    "                id='map-graph',\n",
    "                style={\"margin-right\": \"0\"},\n",
    "                className='five columns',\n",
    "            ),\n",
    "                html.H2('Connect'),\n",
    "        dcc.Markdown('''\n",
    "[**LinkedIn**](https://www.linkedin.com/in/ankit-kothari-510a9623/)\n",
    "\n",
    "[**Code**](https://github.com/ankit-kothari/Data-Science-Journey/tree/master/Data%20Exploration%20Analysis%20and%20Visualization/H1B-Data-Analysis-master).\n",
    "'''),\n",
    "            html.Div([\n",
    "        html.P('Please connect with me if you have any questions or if you like this')])\n",
    "        ], className='row', style={'width': '100%', 'display': 'inline-block'}),\n",
    "])\n"
   ]
  },
  {
   "cell_type": "markdown",
   "metadata": {},
   "source": [
    "### Querying Approvals and Denials By Fiscal Year for each Employer"
   ]
  },
  {
   "cell_type": "code",
   "execution_count": 96,
   "metadata": {},
   "outputs": [
    {
     "name": "stdout",
     "output_type": "stream",
     "text": [
      "   Fiscal_Year             Employer  Approvals  Denials\n",
      "0         2009          3A SOFT INC          2      0.0\n",
      "1         2009    3CORE SYSTEMS INC          7      3.0\n",
      "2         2009      3I INFOTECH INC         20      0.0\n",
      "3         2009  3K TECHNOLOGIES LLC         16      1.0\n",
      "4         2009           3M COMPANY         13      1.0\n"
     ]
    }
   ],
   "source": [
    "h1b_query20 = ''' \n",
    "with employer_filter as\n",
    "(\n",
    "select  \n",
    "h1b.Employer, count(DISTINCT h1b.Fiscal_Year) Fiscal_Year,\n",
    "h1b2.Denials\n",
    "from h1b left join\n",
    "(\n",
    "select \n",
    "Employer,\n",
    "SUM(Initial_Denials) + SUM(Continuing_Denials) Denials,\n",
    "SUM(h1b.Initial_Approvals)+ SUM(h1b.Continuing_Approvals) Approvals\n",
    "from h1b \n",
    "group by 1\n",
    ") h1b2 on h1b.Employer = h1b2.Employer\n",
    "where h1b.Fiscal_Year !='2019'\n",
    "group by 1\n",
    "having count(DISTINCT h1b.Fiscal_Year)>9 and h1b2.Denials>2 and h1b2.Approvals >50\n",
    ")\n",
    "select  \n",
    "h1b.Fiscal_Year,h1b.Employer,\n",
    "SUM(h1b.Initial_Approvals)+ SUM(h1b.Continuing_Approvals) Approvals, \n",
    "SUM(h1b.Initial_Denials)+SUM(h1b.Continuing_Denials) AS Denials\n",
    "from employer_filter ef left join h1b on h1b.Employer=ef.Employer\n",
    "where h1b.Fiscal_Year !='2019'\n",
    "group by h1b.Fiscal_Year, h1b.Employer\n",
    "'''\n",
    "\n",
    "pandas_fiscal_year = pd.read_sql_query(h1b_query20, conn)\n",
    "pandas_fiscal_year.to_csv(\"/Users/ankitkothari/Documents/dash-app/pandas_fiscal_year1.csv\")\n",
    "print(pandas_fiscal_year.head())"
   ]
  },
  {
   "cell_type": "markdown",
   "metadata": {},
   "source": [
    "### Ploting Approvals and Denials By Fiscal Year for selected Employer"
   ]
  },
  {
   "cell_type": "code",
   "execution_count": 97,
   "metadata": {},
   "outputs": [],
   "source": [
    "@app.callback(\n",
    "    dash.dependencies.Output('bar-graph', 'figure'),\n",
    "    [dash.dependencies.Input('employer', 'value')]\n",
    ")\n",
    "\n",
    "\n",
    "def fiscal_plot(employer=None):\n",
    "  try: \n",
    "        employer=employer.upper() \n",
    "  except:\n",
    "        employer=None\n",
    "  if employer is not None:\n",
    "    df21=pandas_fiscal_year[pandas_fiscal_year['Employer']==employer]\n",
    "    df21=df21.groupby('Fiscal_Year').sum()\n",
    "    df21=df21.reset_index()\n",
    "    print(df21.head())\n",
    "  else:\n",
    "    employer='APPLE'\n",
    "    df21=pandas_fiscal_year[pandas_fiscal_year['Employer']==employer]\n",
    "    df21=df21.groupby('Fiscal_Year').sum()\n",
    "    df21=df21.reset_index()\n",
    "    print(df21.head())\n",
    "    print(df21)\n",
    "  fig = go.Figure()\n",
    "  fig.add_trace(go.Bar(x=[x for x in df21.Fiscal_Year] , y=df21.Approvals,marker_color='#2677bb', name='Count of Approvals'))\n",
    "  fig.add_trace(go.Scatter(x=[x for x in df21.Fiscal_Year], y=df21.Denials, mode='lines', name='Count of Denials', yaxis=\"y2\", line=dict(color='#bfbabe', width=4)))\n",
    "  fig.update_layout(\n",
    "    plot_bgcolor='rgba(0,0,0,0)'\n",
    ")\n",
    "  fig.update_xaxes(\n",
    "    dtick=1,showgrid=False\n",
    ")\n",
    "  fig.update_yaxes(\n",
    "    showgrid=False\n",
    ")\n",
    "  fig.update_layout(title=\"Approvals and Denials by Fiscal year for {}\".format(employer), \n",
    "                 legend=dict(x=.03,y=0.98, traceorder='reversed', font_size=12), \n",
    "                 width=800,\n",
    "                 height=400,\n",
    "                 uniformtext_minsize=8,\n",
    "                 uniformtext_mode='hide',\n",
    "                 yaxis=dict(\n",
    "        title=\"Count of Approvals (Bar)\",\n",
    "        titlefont=dict(\n",
    "            color=\"#151515\"\n",
    "        ),\n",
    "        anchor=\"x\",           \n",
    "        tickfont=dict(\n",
    "            color=\"#151515\"\n",
    "        )\n",
    "    ),\n",
    "    yaxis2=dict(\n",
    "        title=\"Count of Denials (line)\",\n",
    "        titlefont=dict(\n",
    "            color=\"#151515\"\n",
    "        ),\n",
    "        tickfont=dict(\n",
    "            color=\"#151515\"\n",
    "        ),\n",
    "        anchor=\"x\",\n",
    "        side=\"right\",\n",
    "        zeroline=False,\n",
    "        overlaying=\"y\",\n",
    "        position=1\n",
    "    ),)\n",
    "  fig.update_layout(\n",
    "    plot_bgcolor='#e0e5db'\n",
    ")\n",
    "  fig.add_shape(\n",
    "        # Rectangle reference to the axes\n",
    "            type=\"rect\",\n",
    "            xref=\"x\",\n",
    "            yref=\"paper\",\n",
    "            x0='2016',\n",
    "            y0=-0.01,\n",
    "            x1='2018',\n",
    "            y1=1.1,\n",
    "            line=dict(\n",
    "                color=\"#007500\",\n",
    "                width=5,\n",
    "            ),\n",
    "        )\n",
    "  return fig"
   ]
  },
  {
   "cell_type": "markdown",
   "metadata": {},
   "source": [
    "### Query to how you compare to national Average"
   ]
  },
  {
   "cell_type": "code",
   "execution_count": 98,
   "metadata": {},
   "outputs": [],
   "source": [
    "h1b_query26 ='''\n",
    "with national as\n",
    "(\n",
    "select  \n",
    "SUM(Initial_Denials) + SUM(Continuing_Denials) AS Denials, \n",
    "SUM(Initial_Approvals)  + SUM(Continuing_Approvals) + SUM(Initial_Denials) + SUM(Continuing_Denials) AS Totals\n",
    "from h1b\n",
    "where Fiscal_Year !='2019'\n",
    "),\n",
    "employer as\n",
    "(\n",
    "select  \n",
    "Employer,  SUM(Initial_Denials) + SUM(Continuing_Denials) AS Denials, \n",
    "SUM(Initial_Approvals)  + SUM(Continuing_Approvals) + SUM(Initial_Denials) + SUM(Continuing_Denials) AS Totals\n",
    "from h1b\n",
    "group by Employer\n",
    "order by 3 desc\n",
    ")\n",
    "select \n",
    "employer.Employer,\n",
    "CAST(national.Denials AS REAL)/ CAST(national.Totals AS REAL) AS national_average,\n",
    "CAST(employer.Denials AS REAL)/ CAST(employer.Totals AS REAL) AS employer_average\n",
    "from national, employer\n",
    ";'''\n",
    "  \n",
    "pandas_health_query = pd.read_sql_query(h1b_query26, conn)\n",
    "pandas_health_query.to_csv(\"/Users/ankitkothari/Documents/dash-app/pandas_health_query1.csv\")"
   ]
  },
  {
   "cell_type": "code",
   "execution_count": 99,
   "metadata": {},
   "outputs": [
    {
     "data": {
      "text/html": [
       "<div>\n",
       "<style scoped>\n",
       "    .dataframe tbody tr th:only-of-type {\n",
       "        vertical-align: middle;\n",
       "    }\n",
       "\n",
       "    .dataframe tbody tr th {\n",
       "        vertical-align: top;\n",
       "    }\n",
       "\n",
       "    .dataframe thead th {\n",
       "        text-align: right;\n",
       "    }\n",
       "</style>\n",
       "<table border=\"1\" class=\"dataframe\">\n",
       "  <thead>\n",
       "    <tr style=\"text-align: right;\">\n",
       "      <th></th>\n",
       "      <th>Employer</th>\n",
       "      <th>national_average</th>\n",
       "      <th>employer_average</th>\n",
       "    </tr>\n",
       "  </thead>\n",
       "  <tbody>\n",
       "    <tr>\n",
       "      <th>0</th>\n",
       "      <td>COGNIZANT</td>\n",
       "      <td>0.067428</td>\n",
       "      <td>0.077690</td>\n",
       "    </tr>\n",
       "    <tr>\n",
       "      <th>1</th>\n",
       "      <td>INFOSYS</td>\n",
       "      <td>0.067428</td>\n",
       "      <td>0.040010</td>\n",
       "    </tr>\n",
       "    <tr>\n",
       "      <th>2</th>\n",
       "      <td>TATA</td>\n",
       "      <td>0.067428</td>\n",
       "      <td>0.065242</td>\n",
       "    </tr>\n",
       "    <tr>\n",
       "      <th>3</th>\n",
       "      <td>WIPRO</td>\n",
       "      <td>0.067428</td>\n",
       "      <td>0.063889</td>\n",
       "    </tr>\n",
       "    <tr>\n",
       "      <th>4</th>\n",
       "      <td>DELOITTE</td>\n",
       "      <td>0.067428</td>\n",
       "      <td>0.111768</td>\n",
       "    </tr>\n",
       "  </tbody>\n",
       "</table>\n",
       "</div>"
      ],
      "text/plain": [
       "    Employer  national_average  employer_average\n",
       "0  COGNIZANT          0.067428          0.077690\n",
       "1    INFOSYS          0.067428          0.040010\n",
       "2       TATA          0.067428          0.065242\n",
       "3      WIPRO          0.067428          0.063889\n",
       "4   DELOITTE          0.067428          0.111768"
      ]
     },
     "execution_count": 99,
     "metadata": {},
     "output_type": "execute_result"
    }
   ],
   "source": [
    "pandas_health_query.head()"
   ]
  },
  {
   "cell_type": "markdown",
   "metadata": {},
   "source": [
    "### Ploting how you compare to national Average"
   ]
  },
  {
   "cell_type": "code",
   "execution_count": 100,
   "metadata": {},
   "outputs": [],
   "source": [
    "@app.callback(\n",
    "    dash.dependencies.Output('bar-graph-2', 'figure'),\n",
    "    [dash.dependencies.Input('employer', 'value')]\n",
    ")\n",
    "\n",
    "def health(employer=None):\n",
    "  try: \n",
    "    employer=employer.upper()\n",
    "  except:\n",
    "    employer=None\n",
    "  if employer is not None:\n",
    "    df35a = pandas_health_query[pandas_health_query['Employer']==employer]\n",
    "  else:\n",
    "    employer='APPLE'\n",
    "    df35a = pandas_health_query[pandas_health_query['Employer']==employer]\n",
    "  print(df35a)\n",
    "  df35a = pd.melt(df35a, id_vars=['Employer'], value_vars=['national_average','employer_average'])\n",
    "  df35a['value']=df35a['value'].apply(lambda x: round(x,2)*100)\n",
    "  colors = ['#2677bb',] * 2\n",
    "  colors[1] = '#007500'\n",
    "\n",
    "  fig = go.Figure(data=[go.Bar(\n",
    "    y=['National <br> (USA)', '{}'.format(employer)],\n",
    "    x=[x  for  x in df35a['value']],\n",
    "    width=.51,\n",
    "    orientation='h',\n",
    "    marker_color=colors, # marker color can be a single color value or an iterable\n",
    "    text=[int(x)  for  x in df35a['value']],\n",
    "    textposition='outside'# marker color can be a single color value or an iterable\n",
    ")])\n",
    "  fig.update_layout(\n",
    "    plot_bgcolor='rgba(0,0,0,0)'\n",
    ")\n",
    "  fig.update_yaxes(\n",
    "        tickangle = 360,\n",
    "        tickfont=dict(family='Rockwell', color='#151515', size=14))\n",
    "  fig.update_traces(marker_line_width=.5, opacity=0.9)\n",
    "  fig.update_layout(title=\"How you compare with National Denial Rate\", \n",
    "                 legend=dict(x=.73,y=0.98, traceorder='reversed', font_size=12), \n",
    "                 width=800,\n",
    "                 height=400,\n",
    "                 uniformtext_minsize=12,\n",
    "                 xaxis=dict(\n",
    "        title=\"H1B Visa Denial Rate %\",\n",
    "        titlefont=dict(\n",
    "            color=\"#151515\"\n",
    "        ),\n",
    "        tickfont=dict(\n",
    "            color=\"#151515\"\n",
    "        )\n",
    "    ),\n",
    "    )\n",
    "  return fig"
   ]
  },
  {
   "cell_type": "markdown",
   "metadata": {},
   "source": [
    "### Query How you compare pre and post 2016 with other Employers"
   ]
  },
  {
   "cell_type": "code",
   "execution_count": 101,
   "metadata": {},
   "outputs": [
    {
     "data": {
      "text/plain": [
       "(2447, 5)"
      ]
     },
     "execution_count": 101,
     "metadata": {},
     "output_type": "execute_result"
    }
   ],
   "source": [
    "h1b_query21a= ''' \n",
    "with h1b_table_by_state AS\n",
    "(\n",
    "select  \n",
    "h1b.Employer,   \n",
    "SUM(h1b.Initial_Approvals)  + SUM(h1b.Continuing_Approvals) AS approvals_pre_2016, \n",
    "SUM(h1b.Initial_Denials) + SUM(h1b.Continuing_Denials) AS denials_pre_2016,\n",
    "(CAST(SUM(h1b.Initial_Denials) AS REAL) + CAST(SUM(h1b.Continuing_Denials) AS REAL)) / (CAST(SUM(h1b.Initial_Denials) AS REAL) + CAST(SUM(h1b.Continuing_Denials) AS REAL)+CAST(SUM(h1b.Initial_Approvals) AS REAL) + CAST(SUM(h1b.Continuing_Approvals) AS REAL))*100 AS denial_pre_2016,\n",
    "h1b2.Employer,\n",
    "h1b2.approvals_post_2016, \n",
    "h1b2.denials_post_2016,\n",
    "h1b2.denial_post_2016\n",
    "\n",
    "from h1b LEFT JOIN (\n",
    "    select  \n",
    "       Employer,  \n",
    "       SUM(Initial_Approvals)  + SUM(Continuing_Approvals) AS approvals_post_2016, \n",
    "       SUM(Initial_Denials) + SUM(Continuing_Denials) AS denials_post_2016,\n",
    "       (CAST(SUM(Initial_Denials) AS REAL) + CAST(SUM(Continuing_Denials) AS REAL)) / (CAST(SUM(Initial_Denials) AS REAL) + CAST(SUM(Continuing_Denials) AS REAL)+CAST(SUM(Initial_Approvals) AS REAL) + CAST(SUM(Continuing_Approvals) AS REAL))*100 AS denial_post_2016,\n",
    "       Fiscal_Year\n",
    "       from h1b\n",
    "       where Fiscal_Year !='2019' and Fiscal_Year>2016\n",
    "       group by Employer\n",
    "\n",
    ") h1b2 ON h1b.Employer = h1b2.Employer\n",
    "where h1b.Fiscal_Year !='2019' and h1b.Fiscal_Year<=2016\n",
    "group by h1b.Employer\n",
    "), fiscal_count as\n",
    "(\n",
    "select  \n",
    "Employer, count(DISTINCT h1b.Fiscal_Year) Fiscal_Year \n",
    "from h1b \n",
    "where h1b.Fiscal_Year !='2019'\n",
    "group by 1\n",
    "having count(DISTINCT h1b.Fiscal_Year)>9\n",
    ")\n",
    "select \n",
    "hs.Employer,\n",
    "fc.Fiscal_Year,\n",
    "hs.denial_pre_2016 AS denial_rate_pre_2016,\n",
    "hs.denial_post_2016 AS denial_rate_post_2016,\n",
    "hs.denial_post_2016 - hs.denial_pre_2016 AS delta_denial_rates_pre_post2016\n",
    "from h1b_table_by_state hs  join fiscal_count fc on hs.Employer=fc.Employer\n",
    "order by 4 desc\n",
    ";\n",
    "'''\n",
    "\n",
    "pandas_compare_query = pd.read_sql_query(h1b_query21a, conn)\n",
    "pandas_compare_query.to_csv(\"/Users/ankitkothari/Documents/dash-app/pandas_compare_query1.csv\")\n",
    "pandas_compare_query.shape"
   ]
  },
  {
   "cell_type": "code",
   "execution_count": 102,
   "metadata": {},
   "outputs": [
    {
     "data": {
      "text/plain": [
       "(1325, 8)"
      ]
     },
     "execution_count": 102,
     "metadata": {},
     "output_type": "execute_result"
    }
   ],
   "source": [
    "pandas_comparison_query=pandas_filter_query.merge(pandas_compare_query, how='left', left_on='Employer', right_on='Employer')\n",
    "pandas_comparison_query.shape"
   ]
  },
  {
   "cell_type": "markdown",
   "metadata": {},
   "source": [
    "### Plotting How you compare pre and post 2016 with other Employers"
   ]
  },
  {
   "cell_type": "code",
   "execution_count": 103,
   "metadata": {
    "scrolled": true
   },
   "outputs": [],
   "source": [
    "@app.callback(\n",
    "    dash.dependencies.Output('bar-graph-3', 'figure'),\n",
    "    [dash.dependencies.Input('employer', 'value')]\n",
    ")\n",
    "\n",
    "\n",
    "def compare_plot(employer):\n",
    "  try: \n",
    "    employer=employer.upper()\n",
    "  except:\n",
    "    employer=None\n",
    "  if employer is None:\n",
    "    employer='APPLE'\n",
    "  companies=[\"{}\".format(employer),\"APPLE\",\"FACEBOOK\",\"AMAZON\",\"MICROSOFT\",\"GOOGLE\",\"TATA\", \"ACCENTURE\", \"WIPRO\",\"CAPGEMINI\",\"MINDTREE\"]\n",
    "  print(companies)\n",
    "  df21=pandas_comparison_query\n",
    "  df21['companies']= df21['Employer'].apply(lambda x: \"US_COMPANY\" if x in companies  else \"NA\")\n",
    "  df21=df21[df21['companies'] != \"NA\"]\n",
    "  df21=df21.sort_values(by=['denial_rate_post_2016'], ascending=True)\n",
    "  df21[['denial_rate_pre_2016','denial_rate_post_2016','delta_denial_rates_pre_post2016']]=df21[['denial_rate_pre_2016','denial_rate_post_2016','delta_denial_rates_pre_post2016']].apply(lambda x: round(x,2))\n",
    "  fig = go.Figure()\n",
    "  print(df21)\n",
    "  y1=[str(x)  for  x in df21['denial_rate_pre_2016']]\n",
    "  y2=[str(x)  for  x in df21['denial_rate_post_2016']]\n",
    "  #fig.add_trace(go.Bar(x=df20.Fiscal_Year , y=df20.Approvals, mode='markers+lines', name='JOB TIME', line=dict(color='#e4bd0b', width=2)))\n",
    "  fig.add_trace(go.Bar(y=[x for x in df21.Employer] , x=df21.denial_rate_pre_2016,marker_color='#2677bb',orientation='h', name='Denial Rate Pre 2016', text=y1,\n",
    "    textposition='outside'))\n",
    "  fig.add_trace(go.Bar(y=[x for x in df21.Employer] , x=df21.denial_rate_post_2016,marker_color='#bfbabe',orientation='h', name='Denial Rate Post 2016',text=y2,\n",
    "    textposition='outside'))\n",
    "  #fig.add_trace(go.Scatter(x=[x for x in df20.Fiscal_Year], y=df20.Denials, mode='lines', name='Count of Denials', yaxis=\"y2\", line=dict(color='#bfbabe', width=4)))\n",
    "  fig.update_layout(\n",
    "    plot_bgcolor='rgba(0,0,0,0)'\n",
    ")\n",
    "  fig.update_xaxes(\n",
    "        tickangle = 0,\n",
    "        tickfont=dict(family='Rockwell', color='#151515', size=16))\n",
    "\n",
    "  fig.update_xaxes(\n",
    "    dtick=2, showgrid=False\n",
    ")\n",
    "  fig.update_yaxes(\n",
    "    dtick=1,showgrid=False\n",
    ")\n",
    "  fig.update_yaxes(ticks=\"outside\", tickwidth=3, tickcolor='#e0e5db', ticklen=12)\n",
    "  fig.update_layout(title=\"How you compare with other Employers?\", \n",
    "                 legend=dict(x=.73,y=0.78, traceorder='reversed', font_size=12), \n",
    "                 width=600,\n",
    "                 height=600,\n",
    "                 yaxis=dict(\n",
    "        title=\"\",\n",
    "        titlefont=dict(\n",
    "            color=\"#151515\"\n",
    "        ),\n",
    "        tickfont=dict(\n",
    "            color=\"#151515\"\n",
    "        )\n",
    "    ),\n",
    "                  xaxis=dict(title=\"% Denial Rate\",titlefont=dict(color=\"#151515\"),\n",
    "                            tickfont=dict(color=\"#151515\")),)\n",
    "\n",
    "\n",
    "  return fig"
   ]
  },
  {
   "cell_type": "markdown",
   "metadata": {},
   "source": [
    "### Query Distribution of Approved Visa Across State"
   ]
  },
  {
   "cell_type": "code",
   "execution_count": 104,
   "metadata": {},
   "outputs": [
    {
     "data": {
      "text/html": [
       "<div>\n",
       "<style scoped>\n",
       "    .dataframe tbody tr th:only-of-type {\n",
       "        vertical-align: middle;\n",
       "    }\n",
       "\n",
       "    .dataframe tbody tr th {\n",
       "        vertical-align: top;\n",
       "    }\n",
       "\n",
       "    .dataframe thead th {\n",
       "        text-align: right;\n",
       "    }\n",
       "</style>\n",
       "<table border=\"1\" class=\"dataframe\">\n",
       "  <thead>\n",
       "    <tr style=\"text-align: right;\">\n",
       "      <th></th>\n",
       "      <th>State</th>\n",
       "      <th>Employer</th>\n",
       "      <th>total_visas_State</th>\n",
       "    </tr>\n",
       "  </thead>\n",
       "  <tbody>\n",
       "    <tr>\n",
       "      <th>24</th>\n",
       "      <td>CA</td>\n",
       "      <td>ACCEL NORTH AMERICA INC</td>\n",
       "      <td>84.0</td>\n",
       "    </tr>\n",
       "  </tbody>\n",
       "</table>\n",
       "</div>"
      ],
      "text/plain": [
       "   State                 Employer  total_visas_State\n",
       "24    CA  ACCEL NORTH AMERICA INC               84.0"
      ]
     },
     "execution_count": 104,
     "metadata": {},
     "output_type": "execute_result"
    }
   ],
   "source": [
    "h1b_query35 = ''' \n",
    "select  \n",
    "h1b.State,\n",
    "h1b.Employer,\n",
    "SUM(h1b.Initial_Approvals)  + SUM(h1b.Continuing_Approvals) AS total_visas_State\n",
    "from h1b\n",
    "where h1b.Fiscal_Year !='2019' and h1b.Employer in (\n",
    "select  \n",
    "h1b.Employer\n",
    "from h1b left join\n",
    "(\n",
    "select \n",
    "distinct Employer,\n",
    "SUM(Initial_Denials) + SUM(Continuing_Denials) Denials,\n",
    "count(DISTINCT Fiscal_Year) Fiscal_Year,\n",
    "SUM(h1b.Initial_Approvals)+ SUM(h1b.Continuing_Approvals) Approvals\n",
    "from h1b \n",
    "where h1b.Fiscal_Year !='2019'\n",
    "group by 1\n",
    ") h1b2 on h1b.Employer = h1b2.Employer\n",
    "group by 1\n",
    "having h1b2.Fiscal_Year>9 and h1b2.Denials>2 and h1b2.Approvals >50)\n",
    "group by 2,1\n",
    ";'''\n",
    "\n",
    "\n",
    "map_query = pd.read_sql_query(h1b_query35, conn)\n",
    "map_query.to_csv(\"/Users/ankitkothari/Documents/dash-app/map_query1.csv\")\n",
    "map_query['total_visas_State']=map_query['total_visas_State'].astype(float)\n",
    "map_query[map_query['Employer']=='ACCEL NORTH AMERICA INC']"
   ]
  },
  {
   "cell_type": "markdown",
   "metadata": {},
   "source": [
    "### Plotting Distribution of Approved Visa Across State"
   ]
  },
  {
   "cell_type": "code",
   "execution_count": 105,
   "metadata": {},
   "outputs": [],
   "source": [
    "@app.callback(\n",
    "    dash.dependencies.Output('map-graph', 'figure'),\n",
    "    [dash.dependencies.Input('employer', 'value')]\n",
    ")\n",
    "def update_graph(employer):\n",
    "  try: \n",
    "    employer=employer.upper()\n",
    "  except:\n",
    "    employer=None\n",
    "  if employer is None:\n",
    "    employer='APPLE'\n",
    "  df35 = map_query[map_query['Employer']==employer]\n",
    "  print(df35)\n",
    "  df35=df35.sort_values(by='total_visas_State', ascending=False)\n",
    "  df35=df35.dropna(how='any')\n",
    "  colors  = [\"#2677bb\" if x < 1000 else '#bfbabe' if x<=10000 else '#007500' for x in df35['total_visas_State']]\n",
    "  print(colors)\n",
    "  fig = go.Figure(data=go.Choropleth(\n",
    "    locations=df35['State'], # Spatial coordinates, # Data to be color-coded\n",
    "    locationmode = 'USA-states', # set of locations match entries in `locations`\n",
    "    z = df35['total_visas_State'].astype(float),\n",
    "    showscale=False,\n",
    "    colorbar = dict(showticklabels=False),\n",
    "    colorscale = colors\n",
    "    ,\n",
    "    \n",
    "))\n",
    "\n",
    "  fig.update_layout(\n",
    "    title_text = 'Approved H1B Applications for in US By States'.format(employer),\n",
    "    geo_scope='usa', # limite map scope to USA\n",
    ")\n",
    "\n",
    "  return fig\n"
   ]
  },
  {
   "cell_type": "code",
   "execution_count": null,
   "metadata": {},
   "outputs": [
    {
     "name": "stdout",
     "output_type": "stream",
     "text": [
      " * Serving Flask app \"__main__\" (lazy loading)\n",
      " * Environment: production\n",
      "   WARNING: Do not use the development server in a production environment.\n",
      "   Use a production WSGI server instead.\n",
      " * Debug mode: off\n"
     ]
    },
    {
     "name": "stderr",
     "output_type": "stream",
     "text": [
      " * Running on http://127.0.0.1:8050/ (Press CTRL+C to quit)\n",
      "127.0.0.1 - - [02/Oct/2020 03:08:41] \"\u001b[37mGET / HTTP/1.1\u001b[0m\" 200 -\n",
      "127.0.0.1 - - [02/Oct/2020 03:08:42] \"\u001b[37mGET /_dash-dependencies HTTP/1.1\u001b[0m\" 200 -\n",
      "127.0.0.1 - - [02/Oct/2020 03:08:42] \"\u001b[37mGET /_dash-layout HTTP/1.1\u001b[0m\" 200 -\n"
     ]
    },
    {
     "name": "stdout",
     "output_type": "stream",
     "text": [
      "    State Employer  total_visas_State\n",
      "173    CA    APPLE            13744.0\n",
      "174    CT    APPLE                4.0\n",
      "175    DC    APPLE                1.0\n",
      "176    FL    APPLE                0.0\n",
      "177    MA    APPLE                3.0\n",
      "178    MI    APPLE                8.0\n",
      "179    MN    APPLE               10.0\n",
      "180    NC    APPLE                1.0\n",
      "181    NJ    APPLE               26.0\n",
      "182    NY    APPLE                8.0\n",
      "183    OH    APPLE                7.0\n",
      "184    PA    APPLE                3.0\n",
      "185    TN    APPLE                2.0\n",
      "186    TX    APPLE                2.0\n",
      "187    VA    APPLE                4.0['APPLE', 'APPLE', 'FACEBOOK', 'AMAZON', 'MICROSOFT', 'GOOGLE', 'TATA', 'ACCENTURE', 'WIPRO', 'CAPGEMINI', 'MINDTREE']\n",
      "\n",
      "['#007500', '#2677bb', '#2677bb', '#2677bb', '#2677bb', '#2677bb', '#2677bb', '#2677bb', '#2677bb', '#2677bb', '#2677bb', '#2677bb', '#2677bb', '#2677bb', '#2677bb']   Employer  national_average  employer_average\n",
      "19    APPLE          0.067428          0.008554\n",
      "   Fiscal_Year  Approvals  Denials\n",
      "0         2009        357      4.0\n",
      "1         2010        421      7.0\n",
      "2         2011        731      4.0\n",
      "3         2012        888      3.0\n",
      "4         2013       1018      3.0\n",
      "\n",
      "   Fiscal_Year  Approvals  Denials\n",
      "0         2009        357      4.0\n",
      "1         2010        421      7.0\n",
      "2         2011        731      4.0\n",
      "3         2012        888      3.0\n",
      "4         2013       1018      3.0\n",
      "5         2014       1461      3.0\n",
      "6         2015       1697     15.0\n",
      "7         2016       2056      9.0\n",
      "8         2017       2084     22.0\n",
      "9         2018       3110     42.0\n"
     ]
    },
    {
     "name": "stderr",
     "output_type": "stream",
     "text": [
      "127.0.0.1 - - [02/Oct/2020 03:08:43] \"\u001b[37mPOST /_dash-update-component HTTP/1.1\u001b[0m\" 200 -\n",
      "127.0.0.1 - - [02/Oct/2020 03:08:43] \"\u001b[37mPOST /_dash-update-component HTTP/1.1\u001b[0m\" 200 -\n",
      "127.0.0.1 - - [02/Oct/2020 03:08:43] \"\u001b[37mPOST /_dash-update-component HTTP/1.1\u001b[0m\" 200 -\n",
      "127.0.0.1 - - [02/Oct/2020 03:08:43] \"\u001b[37mPOST /_dash-update-component HTTP/1.1\u001b[0m\" 200 -\n"
     ]
    },
    {
     "name": "stdout",
     "output_type": "stream",
     "text": [
      "       Employer  Denials  Approvals  Fiscal_Year_x  Fiscal_Year_y  \\\n",
      "422    FACEBOOK       49       8188             10             10   \n",
      "96        APPLE      112      13823             10             10   \n",
      "488      GOOGLE      135      18657             10             10   \n",
      "730   MICROSOFT      438      36174             10             10   \n",
      "59       AMAZON      323      23819             10             10   \n",
      "1121       TATA     3932      75435             10             10   \n",
      "14    ACCENTURE     1470      36740             10             10   \n",
      "1283      WIPRO     3531      60012             10             10   \n",
      "738    MINDTREE      344       5706             10             10   \n",
      "202   CAPGEMINI     2762      16391             10             10   \n",
      "\n",
      "      denial_rate_pre_2016  denial_rate_post_2016  \\\n",
      "422                   0.46                   0.73   \n",
      "96                    0.55                   1.22   \n",
      "488                   0.40                   1.35   \n",
      "730                   1.03                   1.72   \n",
      "59                    0.85                   1.84   \n",
      "1121                  5.16                   4.52   \n",
      "14                    2.28                   8.93   \n",
      "1283                  4.67                   9.66   \n",
      "738                   3.12                  10.40   \n",
      "202                   4.46                  25.08   \n",
      "\n",
      "      delta_denial_rates_pre_post2016   companies  \n",
      "422                              0.27  US_COMPANY  \n",
      "96                               0.66  US_COMPANY  \n",
      "488                              0.95  US_COMPANY  \n",
      "730                              0.69  US_COMPANY  \n",
      "59                               0.99  US_COMPANY  \n",
      "1121                            -0.63  US_COMPANY  \n",
      "14                               6.65  US_COMPANY  \n",
      "1283                             4.99  US_COMPANY  \n",
      "738                              7.29  US_COMPANY  \n",
      "202                             20.61  US_COMPANY  \n"
     ]
    }
   ],
   "source": [
    "if __name__ == '__main__':\n",
    "    app.run_server()"
   ]
  },
  {
   "cell_type": "code",
   "execution_count": null,
   "metadata": {},
   "outputs": [],
   "source": []
  }
 ],
 "metadata": {
  "kernelspec": {
   "display_name": "Python 3.7.3 64-bit",
   "language": "python",
   "name": "python37364bit2b8427184f3a4d4aa3afd1d3859411ec"
  },
  "language_info": {
   "codemirror_mode": {
    "name": "ipython",
    "version": 3
   },
   "file_extension": ".py",
   "mimetype": "text/x-python",
   "name": "python",
   "nbconvert_exporter": "python",
   "pygments_lexer": "ipython3",
   "version": "3.7.3"
  }
 },
 "nbformat": 4,
 "nbformat_minor": 2
}
