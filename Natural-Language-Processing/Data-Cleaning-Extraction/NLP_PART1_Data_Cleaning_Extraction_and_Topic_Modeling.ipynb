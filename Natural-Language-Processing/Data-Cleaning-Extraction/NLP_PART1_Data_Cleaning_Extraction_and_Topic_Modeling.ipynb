{
  "nbformat": 4,
  "nbformat_minor": 0,
  "metadata": {
    "colab": {
      "name": "NLP PART1: Data Cleaning Extraction and Topic Modeling.ipynb",
      "provenance": [],
      "collapsed_sections": [],
      "mount_file_id": "1rXDFWIySDIw5a24mNScqU4dLUPsAAsSc",
      "authorship_tag": "ABX9TyME38QPmGXpU96XpTTPqvvN",
      "include_colab_link": true
    },
    "kernelspec": {
      "name": "python3",
      "display_name": "Python 3"
    }
  },
  "cells": [
    {
      "cell_type": "markdown",
      "metadata": {
        "id": "view-in-github",
        "colab_type": "text"
      },
      "source": [
        "<a href=\"https://colab.research.google.com/github/ankit-kothari/Data-Cleaning-Extraction/blob/master/NLP_PART1_Data_Cleaning_Extraction_and_Topic_Modeling.ipynb\" target=\"_parent\"><img src=\"https://colab.research.google.com/assets/colab-badge.svg\" alt=\"Open In Colab\"/></a>"
      ]
    },
    {
      "cell_type": "code",
      "metadata": {
        "id": "9wAq-Dzl5rGx",
        "colab_type": "code",
        "colab": {}
      },
      "source": [
        "##GENERAL\n",
        "import time\n",
        "import pandas as pd\n",
        "import matplotlib.pyplot as plt\n",
        "import numpy as np\n",
        "import random\n",
        "from collections import Counter\n",
        "import csv\n",
        "import re\n",
        "\n",
        "##SPACY\n",
        "import spacy\n",
        "nlp = spacy.load('en_core_web_sm')\n",
        "#nlp = spacy.load('en_core_web_md')\n",
        "#nlp = spacy.load('en_core_web_lg')\n",
        "from spacy.matcher import Matcher\n",
        "from spacy.matcher import PhraseMatcher\n",
        "from spacy.tokens import Span\n",
        "from spacy.pipeline import SentenceSegmenter\n",
        "from spacy import displacy\n",
        "\n",
        "\n",
        "from tensorflow.keras.utils import to_categorical\n",
        "from tensorflow.keras.models import Sequential\n",
        "from tensorflow.keras.layers import Dense, Conv2D, MaxPool2D, Flatten\n",
        "from tensorflow.keras.callbacks import EarlyStopping\n",
        "\n",
        "##SKLEARN\n",
        "from sklearn.feature_extraction.text import TfidfVectorizer\n",
        "from sklearn.metrics import classification_report,confusion_matrix\n",
        "from sklearn.model_selection import train_test_split\n",
        "from sklearn.pipeline import Pipeline\n",
        "from sklearn.decomposition import NMF"
      ],
      "execution_count": null,
      "outputs": []
    },
    {
      "cell_type": "code",
      "metadata": {
        "id": "5NKxpspQ8zy6",
        "colab_type": "code",
        "colab": {
          "base_uri": "https://localhost:8080/",
          "height": 139
        },
        "outputId": "5e68a320-f955-4416-9653-697bdce68eb0"
      },
      "source": [
        "from google.colab import drive\n",
        "drive.mount('/gdrive')\n",
        "%cd /gdrive"
      ],
      "execution_count": null,
      "outputs": [
        {
          "output_type": "stream",
          "text": [
            "Go to this URL in a browser: https://accounts.google.com/o/oauth2/auth?client_id=947318989803-6bn6qk8qdgf4n4g3pfee6491hc0brc4i.apps.googleusercontent.com&redirect_uri=urn%3aietf%3awg%3aoauth%3a2.0%3aoob&response_type=code&scope=email%20https%3a%2f%2fwww.googleapis.com%2fauth%2fdocs.test%20https%3a%2f%2fwww.googleapis.com%2fauth%2fdrive%20https%3a%2f%2fwww.googleapis.com%2fauth%2fdrive.photos.readonly%20https%3a%2f%2fwww.googleapis.com%2fauth%2fpeopleapi.readonly\n",
            "\n",
            "Enter your authorization code:\n",
            "··········\n",
            "Mounted at /gdrive\n",
            "/gdrive\n"
          ],
          "name": "stdout"
        }
      ]
    },
    {
      "cell_type": "markdown",
      "metadata": {
        "id": "Nl9J7ej8B1ro",
        "colab_type": "text"
      },
      "source": [
        "**LOADING THE DATA**"
      ]
    },
    {
      "cell_type": "code",
      "metadata": {
        "id": "QUnPPGw99EEy",
        "colab_type": "code",
        "colab": {
          "base_uri": "https://localhost:8080/",
          "height": 34
        },
        "outputId": "177a3415-2f01-48dd-fa3c-c83736b6e89a"
      },
      "source": [
        "data = pd.read_csv('/gdrive/My Drive/data/train.csv')\n",
        "data.columns = ['rating','title','review']\n",
        "data.shape"
      ],
      "execution_count": null,
      "outputs": [
        {
          "output_type": "execute_result",
          "data": {
            "text/plain": [
              "(2999999, 3)"
            ]
          },
          "metadata": {
            "tags": []
          },
          "execution_count": 3
        }
      ]
    },
    {
      "cell_type": "markdown",
      "metadata": {
        "id": "t3NxkM8BB6WZ",
        "colab_type": "text"
      },
      "source": [
        "**TEXT CLEANING**"
      ]
    },
    {
      "cell_type": "code",
      "metadata": {
        "id": "_31c80mNs7hq",
        "colab_type": "code",
        "colab": {}
      },
      "source": [
        "contraction_mapping = {\"ain't\": \"is not\",\"don't\": \"do not\", \"aren't\": \"are not\",\"can't\": \"cannot\", \"'cause\": \"because\", \"could've\": \"could have\", \"couldn't\": \"could not\",\n",
        "                           \"didn't\": \"did not\", \"doesn't\": \"does not\", \"don't\": \"do not\", \"hadn't\": \"had not\", \"hasn't\": \"has not\", \"haven't\": \"have not\",\n",
        "                           \"he'd\": \"he would\",\"he'll\": \"he will\", \"he's\": \"he is\", \"how'd\": \"how did\", \"how'd'y\": \"how do you\", \"how'll\": \"how will\", \"how's\": \"how is\",\n",
        "                           \"I'd\": \"I would\", \"I'd've\": \"I would have\", \"I'll\": \"I will\", \"I'll've\": \"I will have\",\"I'm\": \"I am\", \"I've\": \"I have\", \"i'd\": \"i would\",\n",
        "                           \"i'd've\": \"i would have\", \"i'll\": \"i will\",  \"i'll've\": \"i will have\",\"i'm\": \"i am\", \"i've\": \"i have\", \"isn't\": \"is not\", \"it'd\": \"it would\",\n",
        "                           \"it'd've\": \"it would have\", \"it'll\": \"it will\", \"it'll've\": \"it will have\",\"it's\": \"it is\", \"let's\": \"let us\", \"ma'am\": \"madam\",\n",
        "                           \"mayn't\": \"may not\", \"might've\": \"might have\",\"mightn't\": \"might not\",\"mightn't've\": \"might not have\", \"must've\": \"must have\",\n",
        "                           \"mustn't\": \"must not\", \"mustn't've\": \"must not have\", \"needn't\": \"need not\", \"needn't've\": \"need not have\",\"o'clock\": \"of the clock\",\n",
        "                           \"oughtn't\": \"ought not\", \"oughtn't've\": \"ought not have\", \"shan't\": \"shall not\", \"sha'n't\": \"shall not\", \"shan't've\": \"shall not have\",\n",
        "                           \"she'd\": \"she would\", \"she'd've\": \"she would have\", \"she'll\": \"she will\", \"she'll've\": \"she will have\", \"she's\": \"she is\",\n",
        "                           \"should've\": \"should have\", \"shouldn't\": \"should not\", \"shouldn't've\": \"should not have\", \"so've\": \"so have\",\"so's\": \"so as\",\n",
        "                           \"this's\": \"this is\",\"that'd\": \"that would\", \"that'd've\": \"that would have\", \"that's\": \"that is\", \"there'd\": \"there would\",\n",
        "                           \"there'd've\": \"there would have\", \"there's\": \"there is\", \"here's\": \"here is\",\"they'd\": \"they would\", \"they'd've\": \"they would have\",\n",
        "                           \"they'll\": \"they will\", \"they'll've\": \"they will have\", \"they're\": \"they are\", \"they've\": \"they have\", \"to've\": \"to have\",\n",
        "                           \"wasn't\": \"was not\", \"we'd\": \"we would\", \"we'd've\": \"we would have\", \"we'll\": \"we will\", \"we'll've\": \"we will have\", \"we're\": \"we are\",\n",
        "                           \"we've\": \"we have\", \"weren't\": \"were not\", \"what'll\": \"what will\", \"what'll've\": \"what will have\", \"what're\": \"what are\",\n",
        "                           \"what's\": \"what is\", \"what've\": \"what have\", \"when's\": \"when is\", \"when've\": \"when have\", \"where'd\": \"where did\", \"where's\": \"where is\",\n",
        "                           \"where've\": \"where have\", \"who'll\": \"who will\", \"who'll've\": \"who will have\", \"who's\": \"who is\", \"who've\": \"who have\",\n",
        "                           \"why's\": \"why is\", \"why've\": \"why have\", \"will've\": \"will have\", \"won't\": \"will not\", \"won't've\": \"will not have\",\n",
        "                           \"would've\": \"would have\", \"wouldn't\": \"would not\", \"wouldn't've\": \"would not have\", \"y'all\": \"you all\",\n",
        "                           \"y'all'd\": \"you all would\",\"y'all'd've\": \"you all would have\",\"y'all're\": \"you all are\",\"y'all've\": \"you all have\",\n",
        "                           \"you'd\": \"you would\", \"you'd've\": \"you would have\", \"you'll\": \"you will\", \"you'll've\": \"you will have\",\n",
        "                           \"you're\": \"you are\", \"you've\": \"you have\", \"w/\":\"with\", \"cnt\":\"cannot\", \"w/o\":\"without\",\"u\":\"you\"}\n",
        "\n",
        "\n",
        "def spacy_preprocessing(text):\n",
        "    #print(text)\n",
        "    #text = re.sub(r\"\\S*\\w*.(com)\\S*\", \"\",text) #replaces any email or websitw with space\n",
        "    text = re.sub(r\"\\b([a-zA-Z]{1})\\b\", \" \", text) #replaces single random characters in the text with space\n",
        "    text = re.sub(r\"[^a-zA-Z]\",\" \",text) #replaces special characters with spaces\n",
        "    text = re.sub(r\"(.)\\1{3,}\", r\"\\1\", text) #replaces multiple character with a word with one like pooooost will be post\n",
        "    text = re.sub(r\"\\s{2,}\", r\" \", text) #replaces multiple space in the line with single space\n",
        "    \n",
        "    \n",
        "    tokens = text.split(\" \")\n",
        "    #print(tokens)\n",
        "    clean_tokens = [contraction_mapping[i] if i in contraction_mapping else i for i in tokens]\n",
        "    text = \" \".join(clean_tokens)\n",
        "    #except:\n",
        "    #text=text\n",
        "    clean_text=[]\n",
        "    for token in nlp(text):\n",
        "       if (token.lemma_ != \"-PRON-\") & (token.text not in nlp.Defaults.stop_words):\n",
        "           clean_text.append(token.text.lower())\n",
        "       elif (token.lemma_ == \"-PRON-\")  & (token.text not in nlp.Defaults.stop_words):\n",
        "           clean_text.append(token.text.lower())\n",
        "       else:\n",
        "           continue\n",
        "    clean_string = \" \".join(clean_text).lstrip()\n",
        "    #print(type(clean_string))\n",
        "    return clean_string"
      ],
      "execution_count": null,
      "outputs": []
    },
    {
      "cell_type": "code",
      "metadata": {
        "id": "G4TXflvR9W8m",
        "colab_type": "code",
        "colab": {
          "base_uri": "https://localhost:8080/",
          "height": 34
        },
        "outputId": "767fa12b-a026-49a3-fe5f-d489e4251da2"
      },
      "source": [
        "data.shape"
      ],
      "execution_count": null,
      "outputs": [
        {
          "output_type": "execute_result",
          "data": {
            "text/plain": [
              "(2999999, 3)"
            ]
          },
          "metadata": {
            "tags": []
          },
          "execution_count": 5
        }
      ]
    },
    {
      "cell_type": "markdown",
      "metadata": {
        "id": "tmKOTX0oCAFf",
        "colab_type": "text"
      },
      "source": [
        "**DATA EXTRACTION**"
      ]
    },
    {
      "cell_type": "code",
      "metadata": {
        "id": "X3UkJ90kJzlT",
        "colab_type": "code",
        "colab": {
          "base_uri": "https://localhost:8080/",
          "height": 700
        },
        "outputId": "89a93cb2-8273-4508-e6f2-1bfe81506e84"
      },
      "source": [
        "pd.set_option('display.max_colwidth', -1)\n",
        "def frametransform(rating):\n",
        "  if rating == 5 or rating == 4:\n",
        "    return \"Good\"\n",
        "  elif rating == 3:\n",
        "    return \"Average\"\n",
        "  else:\n",
        "    return \"Bad\"\n",
        "\n",
        "data['review_category']= data['rating'].apply(frametransform)\n",
        "pattern =r'\\b([Aa]mazon[.+(a-z)]*)' #extracting all reviews where amazon is mentioned\n",
        "data= data[data['review'].str.contains(pattern, na=False)]\n",
        "data=data.dropna()\n",
        "data['clean_review'] = data['review'].apply(spacy_preprocessing)\n",
        "data.head()"
      ],
      "execution_count": null,
      "outputs": [
        {
          "output_type": "stream",
          "text": [
            "/usr/local/lib/python3.6/dist-packages/ipykernel_launcher.py:1: FutureWarning: Passing a negative integer is deprecated in version 1.0 and will not be supported in future version. Instead, use None to not limit the column width.\n",
            "  \"\"\"Entry point for launching an IPython kernel.\n",
            "/usr/local/lib/python3.6/dist-packages/pandas/core/strings.py:1954: UserWarning: This pattern has match groups. To actually get the groups, use str.extract.\n",
            "  return func(self, *args, **kwargs)\n"
          ],
          "name": "stderr"
        },
        {
          "output_type": "execute_result",
          "data": {
            "text/html": [
              "<div>\n",
              "<style scoped>\n",
              "    .dataframe tbody tr th:only-of-type {\n",
              "        vertical-align: middle;\n",
              "    }\n",
              "\n",
              "    .dataframe tbody tr th {\n",
              "        vertical-align: top;\n",
              "    }\n",
              "\n",
              "    .dataframe thead th {\n",
              "        text-align: right;\n",
              "    }\n",
              "</style>\n",
              "<table border=\"1\" class=\"dataframe\">\n",
              "  <thead>\n",
              "    <tr style=\"text-align: right;\">\n",
              "      <th></th>\n",
              "      <th>rating</th>\n",
              "      <th>title</th>\n",
              "      <th>review</th>\n",
              "      <th>review_category</th>\n",
              "      <th>clean_review</th>\n",
              "    </tr>\n",
              "  </thead>\n",
              "  <tbody>\n",
              "    <tr>\n",
              "      <th>5</th>\n",
              "      <td>1</td>\n",
              "      <td>Buyer beware</td>\n",
              "      <td>This is a self-published book, and if you want to know why--read a few paragraphs! Those 5 star reviews must have been written by Ms. Haddon's family and friends--or perhaps, by herself! I can't imagine anyone reading the whole thing--I spent an evening with the book and a friend and we were in hysterics reading bits and pieces of it to one another. It is most definitely bad enough to be entered into some kind of a \"worst book\" contest. I can't believe Amazon even sells this kind of thing. Maybe I can offer them my 8th grade term paper on \"To Kill a Mockingbird\"--a book I am quite sure Ms. Haddon never heard of. Anyway, unless you are in a mood to send a book to someone as a joke---stay far, far away from this one!</td>\n",
              "      <td>Bad</td>\n",
              "      <td>this self published book want know read paragraphs those star reviews written ms haddon family friends imagine reading thing spent evening book friend hysterics reading bits pieces it definitely bad entered kind worst book contest believe amazon sells kind thing maybe offer th grade term paper to kill mockingbird book sure ms haddon heard anyway mood send book joke stay far far away</td>\n",
              "    </tr>\n",
              "    <tr>\n",
              "      <th>15</th>\n",
              "      <td>1</td>\n",
              "      <td>Another Abysmal Digital Copy</td>\n",
              "      <td>Rather than scratches and insect droppings, this one has random pixelations combined with muddy light and vague image resolution. Probably the cue should have been the packaging is straight out of your street corner bootleg dealer.If you've ever seen a reasonably good condition film copy, you know the defining visuals of his film are the crystal clear lighting contrasts in black and white. The surrounding countryside and 'old home' scenes are set with early morning ground mists or the haze of memory while the events on the bridge and in the water are bright, clear, and immediate.Here everything is dull, dark, and clouded. Or, if you remember the timbre and enunciation of Captain's commands, so are the visuals.After that, it is hard to believe this award winning, critically acclaimed film's best presentation is on YOUTUBE. Somewhere \"out there\" is a DVD that comes up to the standard of a 16mm public library reel.Just none of them appear to be on Amazon.</td>\n",
              "      <td>Bad</td>\n",
              "      <td>rather scratches insect droppings random pixelations combined muddy light vague image resolution probably cue packaging straight street corner bootleg dealer if ve seen reasonably good condition film copy know defining visuals film crystal clear lighting contrasts black white the surrounding countryside old home scenes set early morning ground mists haze memory events bridge water bright clear immediate here dull dark clouded or remember timbre enunciation captain commands visuals after hard believe award winning critically acclaimed film best presentation youtube somewhere dvd comes standard mm public library reel just appear amazon</td>\n",
              "    </tr>\n",
              "    <tr>\n",
              "      <th>21</th>\n",
              "      <td>5</td>\n",
              "      <td>CHECK OUT THE K6000 CHARGER!</td>\n",
              "      <td>Greetings. Kodak also has a K6000 charger which comes with 4 NiMH 2100 mAh batteries. Two batteries charge is 64 minutes and 4 batteries charge in 140 minutes. The problem is that Amazon doesn't carry them YET. Good bye.</td>\n",
              "      <td>Good</td>\n",
              "      <td>greetings kodak k charger comes nimh mah batteries two batteries charge minutes batteries charge minutes the problem amazon doesn carry yet good bye</td>\n",
              "    </tr>\n",
              "    <tr>\n",
              "      <th>50</th>\n",
              "      <td>2</td>\n",
              "      <td>Maybe I got a bad one.</td>\n",
              "      <td>My experience: I got this from FM, not Amazon. The DVD player rattled pretty loudly sometimes (but not always) when I put in a DVD. I tried several. The picture quality wasn't all that great and the screen got a horizontal line thru the middle after a short time that would not go away. Plus one of the other reviewers was dead on about the remote - the layout makes no sense at all! Very poor human engineering, IMO. I brought it back to the store for a refund. I saw the same model under the Emerson name for &lt;$400 at WM but was hesitant to buy it.</td>\n",
              "      <td>Bad</td>\n",
              "      <td>my experience got fm amazon the dvd player rattled pretty loudly dvd tried the picture quality wasn great screen got horizontal line middle short time away plus reviewers dead remote layout makes sense very poor human engineering imo brought store refund saw model emerson wm hesitant buy</td>\n",
              "    </tr>\n",
              "    <tr>\n",
              "      <th>64</th>\n",
              "      <td>2</td>\n",
              "      <td>Didn't live up to expectations.</td>\n",
              "      <td>I ordered these shoes to replace the previous pair that had ripped apart at the sole. Clark said they did not make this shoe anymore, so I had to order them through Amazon. Sadly, the second pair ripped in the same place within 3 months. My son has since bought a similar pair from Sperry and they seem to be holding up much better.</td>\n",
              "      <td>Bad</td>\n",
              "      <td>ordered shoes replace previous pair ripped apart sole clark said shoe anymore order amazon sadly second pair ripped place months my son bought similar pair sperry holding better</td>\n",
              "    </tr>\n",
              "  </tbody>\n",
              "</table>\n",
              "</div>"
            ],
            "text/plain": [
              "    rating  ...                                                                                                                                                                                                                                                                                                                                                                                                                                                                                                                                                                                                                                                       clean_review\n",
              "5   1       ...  this self published book want know read paragraphs those star reviews written ms haddon family friends imagine reading thing spent evening book friend hysterics reading bits pieces it definitely bad entered kind worst book contest believe amazon sells kind thing maybe offer th grade term paper to kill mockingbird book sure ms haddon heard anyway mood send book joke stay far far away                                                                                                                                                                                                                                                                \n",
              "15  1       ...  rather scratches insect droppings random pixelations combined muddy light vague image resolution probably cue packaging straight street corner bootleg dealer if ve seen reasonably good condition film copy know defining visuals film crystal clear lighting contrasts black white the surrounding countryside old home scenes set early morning ground mists haze memory events bridge water bright clear immediate here dull dark clouded or remember timbre enunciation captain commands visuals after hard believe award winning critically acclaimed film best presentation youtube somewhere dvd comes standard mm public library reel just appear amazon\n",
              "21  5       ...  greetings kodak k charger comes nimh mah batteries two batteries charge minutes batteries charge minutes the problem amazon doesn carry yet good bye                                                                                                                                                                                                                                                                                                                                                                                                                                                                                                             \n",
              "50  2       ...  my experience got fm amazon the dvd player rattled pretty loudly dvd tried the picture quality wasn great screen got horizontal line middle short time away plus reviewers dead remote layout makes sense very poor human engineering imo brought store refund saw model emerson wm hesitant buy                                                                                                                                                                                                                                                                                                                                                                 \n",
              "64  2       ...  ordered shoes replace previous pair ripped apart sole clark said shoe anymore order amazon sadly second pair ripped place months my son bought similar pair sperry holding better                                                                                                                                                                                                                                                                                                                                                                                                                                                                                \n",
              "\n",
              "[5 rows x 5 columns]"
            ]
          },
          "metadata": {
            "tags": []
          },
          "execution_count": 6
        }
      ]
    },
    {
      "cell_type": "code",
      "metadata": {
        "id": "ywBeE0ke9L2l",
        "colab_type": "code",
        "colab": {
          "base_uri": "https://localhost:8080/",
          "height": 34
        },
        "outputId": "a655260a-bb6c-4bfb-9a63-00f222217781"
      },
      "source": [
        "data.shape"
      ],
      "execution_count": null,
      "outputs": [
        {
          "output_type": "execute_result",
          "data": {
            "text/plain": [
              "(112106, 5)"
            ]
          },
          "metadata": {
            "tags": []
          },
          "execution_count": 15
        }
      ]
    },
    {
      "cell_type": "markdown",
      "metadata": {
        "id": "AOCvzPldCTSW",
        "colab_type": "text"
      },
      "source": [
        "**SAVING THE CLEANED DATA IN A NEW CSV FILE**"
      ]
    },
    {
      "cell_type": "code",
      "metadata": {
        "id": "Bse1CjE5qCoY",
        "colab_type": "code",
        "colab": {}
      },
      "source": [
        "data['review']=data['review'].str.replace(pattern, \"Amazon\")\n",
        "data.to_csv('/gdrive/My Drive/data/cleaned_Amazon_reviews.csv')"
      ],
      "execution_count": null,
      "outputs": []
    },
    {
      "cell_type": "markdown",
      "metadata": {
        "id": "9kKoue0kCZOH",
        "colab_type": "text"
      },
      "source": [
        "**LOADING THE CLEAN DATA** "
      ]
    },
    {
      "cell_type": "code",
      "metadata": {
        "id": "naBf_iqayWtD",
        "colab_type": "code",
        "colab": {
          "base_uri": "https://localhost:8080/",
          "height": 615
        },
        "outputId": "ad7b0684-791c-4a1b-c9d8-d4d5d277f532"
      },
      "source": [
        "pd.set_option('display.max_colwidth', -1)\n",
        "pattern =r'\\b([Aa]mazon[.+(a-z)]*)'\n",
        "clean_data = pd.read_csv('/gdrive/My Drive/data/cleaned_Amazon_reviews.csv')\n",
        "companies = (clean_data['clean_review'].str.extract(pattern))\n",
        "companies.columns=['company']\n",
        "companies['company'].unique()"
      ],
      "execution_count": null,
      "outputs": [
        {
          "output_type": "stream",
          "text": [
            "/usr/local/lib/python3.6/dist-packages/ipykernel_launcher.py:1: FutureWarning: Passing a negative integer is deprecated in version 1.0 and will not be supported in future version. Instead, use None to not limit the column width.\n",
            "  \"\"\"Entry point for launching an IPython kernel.\n"
          ],
          "name": "stderr"
        },
        {
          "output_type": "execute_result",
          "data": {
            "text/plain": [
              "array(['amazon', 'amazona', 'amazonian', 'amazonmom', 'amazoni',\n",
              "       'amazonians', 'amazonkindle', 'amazonthe', 'amazons', 'amazone',\n",
              "       'amazontorrent', 'amazonthis', 'amazonia', 'amazonoids',\n",
              "       'amazonseller', 'amazoneparrots', 'amazontimex', 'amazoncons',\n",
              "       'amazongeorge', 'amazontelling', 'amazonas', 'amazonthey',\n",
              "       'amazonuk', 'amazonkurt', 'amazoning', 'amazonno', 'amazong',\n",
              "       'amazondotcom', 'amazonget', 'amazonheads', 'amazoners',\n",
              "       'amazonic', 'amazonit', 'amazonhaving', 'amazonco',\n",
              "       'amazonstoners', 'amazonshipping', 'amazonu', 'amazonmp',\n",
              "       'amazonwhat', 'amazonprime', 'amazonjon', 'amazonbut',\n",
              "       'amazontold', 'amazoncables', 'amazonner', 'amazonpros',\n",
              "       'amazoness', 'amazontargus', 'amazonrmmcdonald', 'amazonor',\n",
              "       'amazonvisually', 'amazonlet', 'amazoncame', 'amazonis',\n",
              "       'amazonenjoyable', 'amazonbasics', 'amazonflyweb', 'amazonfor',\n",
              "       'amazonbook', 'amazonyo', 'amazonmeguiar', 'amazonmarketplace',\n",
              "       'amazonbooks', 'amazonwork', 'amazonee', 'amazonand', 'amazonhas',\n",
              "       'amazonoffers', 'amazonbig', 'amazonmovie', 'amazonnestea',\n",
              "       'amazoncan', 'amazoniteblack', 'amazonto', 'amazonrecommended',\n",
              "       'amazonclearly', 'amazonwas', 'amazonshould', 'amazonstore',\n",
              "       'amazonm', 'amazonneeds', 'amazonp', 'amazoner', 'amazonland',\n",
              "       'amazonchief', 'amazoned', 'amazonclean', 'amazonservice',\n",
              "       'amazonconschuck', 'amazonies', 'amazonvery', 'amazonearlier',\n",
              "       'amazonllc', 'amazonparts', 'amazoneasier', 'amazonmike',\n",
              "       'amazonyou', 'amazonboostaroo', 'amazoncould', 'amazond',\n",
              "       'amazonsincerly', 'amazonsfault', 'amazonn', 'amazonsells',\n",
              "       'amazoneventually', 'amazonif', 'amazonsincerely', 'amazoncitadel',\n",
              "       'amazoneasy', 'amazonwhich', 'amazonaccount', 'amazontotal',\n",
              "       'amazonly', 'amazonwith', 'amazonthanks', 'amazonreplacing',\n",
              "       'amazonazing', 'amazonstalker', 'amazonagain', 'amazonluckily',\n",
              "       'amazonknight', 'amazonomron', 'amazonam', 'amazonauthor',\n",
              "       'amazonsweet', 'amazonallows', 'amazongreat', 'amazonwould',\n",
              "       'amazoncomparable', 'amazonother'], dtype=object)"
            ]
          },
          "metadata": {
            "tags": []
          },
          "execution_count": 8
        }
      ]
    },
    {
      "cell_type": "code",
      "metadata": {
        "id": "wmDMA9Qj37GS",
        "colab_type": "code",
        "colab": {
          "base_uri": "https://localhost:8080/",
          "height": 680
        },
        "outputId": "e2c64420-a4ca-43ef-e30a-16def2b48d8f"
      },
      "source": [
        "clean_data['clean_review']=clean_data['clean_review'].str.replace(pattern, \"Amazon\")\n",
        "clean_data.head()"
      ],
      "execution_count": null,
      "outputs": [
        {
          "output_type": "execute_result",
          "data": {
            "text/html": [
              "<div>\n",
              "<style scoped>\n",
              "    .dataframe tbody tr th:only-of-type {\n",
              "        vertical-align: middle;\n",
              "    }\n",
              "\n",
              "    .dataframe tbody tr th {\n",
              "        vertical-align: top;\n",
              "    }\n",
              "\n",
              "    .dataframe thead th {\n",
              "        text-align: right;\n",
              "    }\n",
              "</style>\n",
              "<table border=\"1\" class=\"dataframe\">\n",
              "  <thead>\n",
              "    <tr style=\"text-align: right;\">\n",
              "      <th></th>\n",
              "      <th>Unnamed: 0</th>\n",
              "      <th>rating</th>\n",
              "      <th>title</th>\n",
              "      <th>review</th>\n",
              "      <th>review_category</th>\n",
              "      <th>clean_review</th>\n",
              "    </tr>\n",
              "  </thead>\n",
              "  <tbody>\n",
              "    <tr>\n",
              "      <th>0</th>\n",
              "      <td>5</td>\n",
              "      <td>1</td>\n",
              "      <td>Buyer beware</td>\n",
              "      <td>This is a self-published book, and if you want to know why--read a few paragraphs! Those 5 star reviews must have been written by Ms. Haddon's family and friends--or perhaps, by herself! I can't imagine anyone reading the whole thing--I spent an evening with the book and a friend and we were in hysterics reading bits and pieces of it to one another. It is most definitely bad enough to be entered into some kind of a \"worst book\" contest. I can't believe Amazon even sells this kind of thing. Maybe I can offer them my 8th grade term paper on \"To Kill a Mockingbird\"--a book I am quite sure Ms. Haddon never heard of. Anyway, unless you are in a mood to send a book to someone as a joke---stay far, far away from this one!</td>\n",
              "      <td>Bad</td>\n",
              "      <td>this self published book want know read paragraphs those star reviews written ms haddon family friends imagine reading thing spent evening book friend hysterics reading bits pieces it definitely bad entered kind worst book contest believe Amazon sells kind thing maybe offer th grade term paper to kill mockingbird book sure ms haddon heard anyway mood send book joke stay far far away</td>\n",
              "    </tr>\n",
              "    <tr>\n",
              "      <th>1</th>\n",
              "      <td>15</td>\n",
              "      <td>1</td>\n",
              "      <td>Another Abysmal Digital Copy</td>\n",
              "      <td>Rather than scratches and insect droppings, this one has random pixelations combined with muddy light and vague image resolution. Probably the cue should have been the packaging is straight out of your street corner bootleg dealer.If you've ever seen a reasonably good condition film copy, you know the defining visuals of his film are the crystal clear lighting contrasts in black and white. The surrounding countryside and 'old home' scenes are set with early morning ground mists or the haze of memory while the events on the bridge and in the water are bright, clear, and immediate.Here everything is dull, dark, and clouded. Or, if you remember the timbre and enunciation of Captain's commands, so are the visuals.After that, it is hard to believe this award winning, critically acclaimed film's best presentation is on YOUTUBE. Somewhere \"out there\" is a DVD that comes up to the standard of a 16mm public library reel.Just none of them appear to be on Amazon</td>\n",
              "      <td>Bad</td>\n",
              "      <td>rather scratches insect droppings random pixelations combined muddy light vague image resolution probably cue packaging straight street corner bootleg dealer if ve seen reasonably good condition film copy know defining visuals film crystal clear lighting contrasts black white the surrounding countryside old home scenes set early morning ground mists haze memory events bridge water bright clear immediate here dull dark clouded or remember timbre enunciation captain commands visuals after hard believe award winning critically acclaimed film best presentation youtube somewhere dvd comes standard mm public library reel just appear Amazon</td>\n",
              "    </tr>\n",
              "    <tr>\n",
              "      <th>2</th>\n",
              "      <td>21</td>\n",
              "      <td>5</td>\n",
              "      <td>CHECK OUT THE K6000 CHARGER!</td>\n",
              "      <td>Greetings. Kodak also has a K6000 charger which comes with 4 NiMH 2100 mAh batteries. Two batteries charge is 64 minutes and 4 batteries charge in 140 minutes. The problem is that Amazon doesn't carry them YET. Good bye.</td>\n",
              "      <td>Good</td>\n",
              "      <td>greetings kodak k charger comes nimh mah batteries two batteries charge minutes batteries charge minutes the problem Amazon doesn carry yet good bye</td>\n",
              "    </tr>\n",
              "    <tr>\n",
              "      <th>3</th>\n",
              "      <td>50</td>\n",
              "      <td>2</td>\n",
              "      <td>Maybe I got a bad one.</td>\n",
              "      <td>My experience: I got this from FM, not Amazon The DVD player rattled pretty loudly sometimes (but not always) when I put in a DVD. I tried several. The picture quality wasn't all that great and the screen got a horizontal line thru the middle after a short time that would not go away. Plus one of the other reviewers was dead on about the remote - the layout makes no sense at all! Very poor human engineering, IMO. I brought it back to the store for a refund. I saw the same model under the Emerson name for &lt;$400 at WM but was hesitant to buy it.</td>\n",
              "      <td>Bad</td>\n",
              "      <td>my experience got fm Amazon the dvd player rattled pretty loudly dvd tried the picture quality wasn great screen got horizontal line middle short time away plus reviewers dead remote layout makes sense very poor human engineering imo brought store refund saw model emerson wm hesitant buy</td>\n",
              "    </tr>\n",
              "    <tr>\n",
              "      <th>4</th>\n",
              "      <td>64</td>\n",
              "      <td>2</td>\n",
              "      <td>Didn't live up to expectations.</td>\n",
              "      <td>I ordered these shoes to replace the previous pair that had ripped apart at the sole. Clark said they did not make this shoe anymore, so I had to order them through Amazon Sadly, the second pair ripped in the same place within 3 months. My son has since bought a similar pair from Sperry and they seem to be holding up much better.</td>\n",
              "      <td>Bad</td>\n",
              "      <td>ordered shoes replace previous pair ripped apart sole clark said shoe anymore order Amazon sadly second pair ripped place months my son bought similar pair sperry holding better</td>\n",
              "    </tr>\n",
              "  </tbody>\n",
              "</table>\n",
              "</div>"
            ],
            "text/plain": [
              "   Unnamed: 0  ...                                                                                                                                                                                                                                                                                                                                                                                                                                                                                                                                                                                                                                                       clean_review\n",
              "0  5           ...  this self published book want know read paragraphs those star reviews written ms haddon family friends imagine reading thing spent evening book friend hysterics reading bits pieces it definitely bad entered kind worst book contest believe Amazon sells kind thing maybe offer th grade term paper to kill mockingbird book sure ms haddon heard anyway mood send book joke stay far far away                                                                                                                                                                                                                                                                \n",
              "1  15          ...  rather scratches insect droppings random pixelations combined muddy light vague image resolution probably cue packaging straight street corner bootleg dealer if ve seen reasonably good condition film copy know defining visuals film crystal clear lighting contrasts black white the surrounding countryside old home scenes set early morning ground mists haze memory events bridge water bright clear immediate here dull dark clouded or remember timbre enunciation captain commands visuals after hard believe award winning critically acclaimed film best presentation youtube somewhere dvd comes standard mm public library reel just appear Amazon\n",
              "2  21          ...  greetings kodak k charger comes nimh mah batteries two batteries charge minutes batteries charge minutes the problem Amazon doesn carry yet good bye                                                                                                                                                                                                                                                                                                                                                                                                                                                                                                             \n",
              "3  50          ...  my experience got fm Amazon the dvd player rattled pretty loudly dvd tried the picture quality wasn great screen got horizontal line middle short time away plus reviewers dead remote layout makes sense very poor human engineering imo brought store refund saw model emerson wm hesitant buy                                                                                                                                                                                                                                                                                                                                                                 \n",
              "4  64          ...  ordered shoes replace previous pair ripped apart sole clark said shoe anymore order Amazon sadly second pair ripped place months my son bought similar pair sperry holding better                                                                                                                                                                                                                                                                                                                                                                                                                                                                                \n",
              "\n",
              "[5 rows x 6 columns]"
            ]
          },
          "metadata": {
            "tags": []
          },
          "execution_count": 9
        }
      ]
    },
    {
      "cell_type": "markdown",
      "metadata": {
        "id": "R0RiKBAnC2Ap",
        "colab_type": "text"
      },
      "source": [
        "**TOPIC MODELING**"
      ]
    },
    {
      "cell_type": "code",
      "metadata": {
        "id": "QImhSpz04sDV",
        "colab_type": "code",
        "colab": {
          "base_uri": "https://localhost:8080/",
          "height": 68
        },
        "outputId": "bf593c28-f777-4afd-f82c-edb175cd8f8c"
      },
      "source": [
        "tfidf = TfidfVectorizer(max_df=0.95, min_df=5, stop_words='english')\n",
        "dtm = tfidf.fit_transform(clean_data['clean_review'])\n",
        "nmf_model = NMF(n_components=15,random_state=42)\n",
        "nmf_model.fit(dtm)\n",
        "print(len(tfidf.get_feature_names()))\n",
        "print(tfidf.get_feature_names()[2700])\n",
        "print(nmf_model.components_.shape)"
      ],
      "execution_count": null,
      "outputs": [
        {
          "output_type": "stream",
          "text": [
            "26027\n",
            "breathing\n",
            "(15, 26027)\n"
          ],
          "name": "stdout"
        }
      ]
    },
    {
      "cell_type": "code",
      "metadata": {
        "id": "Dq65CqSF6Ge4",
        "colab_type": "code",
        "colab": {
          "base_uri": "https://localhost:8080/",
          "height": 1000
        },
        "outputId": "95e32d6b-0669-48f3-d16c-7514f1c63115"
      },
      "source": [
        "for index,topic in enumerate(nmf_model.components_):\n",
        "    print(f'THE TOP 15 WORDS FOR TOPIC #{index}')\n",
        "    print([[tfidf.get_feature_names()[i],nmf_model.components_[index][i].round(4)] for i in topic.argsort()[-15:]])\n",
        "    print('\\n')"
      ],
      "execution_count": null,
      "outputs": [
        {
          "output_type": "stream",
          "text": [
            "THE TOP 15 WORDS FOR TOPIC #0\n",
            "[['battery', 0.9314], ['got', 0.934], ['reviews', 0.9593], ['ve', 0.9597], ['return', 0.9675], ['didn', 0.9704], ['new', 0.9708], ['unit', 1.0729], ['time', 1.1914], ['buy', 1.3241], ['like', 1.3622], ['don', 1.4351], ['use', 1.4604], ['work', 1.5361], ['bought', 1.9406]]\n",
            "\n",
            "\n",
            "THE TOP 15 WORDS FOR TOPIC #1\n",
            "[['cover', 0.1862], ['page', 0.1935], ['information', 0.2009], ['copy', 0.2234], ['review', 0.2241], ['com', 0.2377], ['written', 0.2486], ['reviews', 0.2585], ['story', 0.2717], ['reading', 0.352], ['author', 0.3824], ['pages', 0.3916], ['books', 0.5073], ['read', 0.8374], ['book', 4.6406]]\n",
            "\n",
            "\n",
            "THE TOP 15 WORDS FOR TOPIC #2\n",
            "[['ray', 0.1929], ['review', 0.1944], ['copy', 0.2051], ['like', 0.213], ['video', 0.2182], ['acting', 0.219], ['love', 0.2311], ['saw', 0.2424], ['seen', 0.2943], ['watching', 0.2943], ['watched', 0.3011], ['story', 0.3061], ['film', 0.3941], ['movies', 0.6997], ['movie', 4.7848]]\n",
            "\n",
            "\n",
            "THE TOP 15 WORDS FOR TOPIC #3\n",
            "[['listening', 0.2336], ['cds', 0.2516], ['com', 0.2586], ['sound', 0.2598], ['love', 0.2872], ['like', 0.3178], ['heard', 0.3265], ['track', 0.3343], ['tracks', 0.3681], ['listen', 0.3744], ['song', 0.6414], ['songs', 0.9286], ['album', 0.9673], ['music', 1.0887], ['cd', 3.6868]]\n",
            "\n",
            "\n",
            "THE TOP 15 WORDS FOR TOPIC #4\n",
            "[['quality', 0.241], ['vhs', 0.261], ['video', 0.2822], ['blu', 0.2909], ['copy', 0.2919], ['film', 0.2926], ['players', 0.2978], ['ray', 0.3188], ['version', 0.3262], ['dvds', 0.3549], ['disc', 0.3879], ['region', 0.493], ['play', 0.6348], ['player', 0.8039], ['dvd', 4.3705]]\n",
            "\n",
            "\n",
            "THE TOP 15 WORDS FOR TOPIC #5\n",
            "[['shipped', 0.4354], ['weeks', 0.4375], ['arrived', 0.486], ['shipping', 0.6109], ['company', 0.6153], ['time', 0.6225], ['refund', 0.6392], ['days', 0.6636], ['customer', 0.7482], ['sent', 0.9724], ['seller', 0.9989], ['service', 1.0031], ['received', 1.9441], ['ordered', 2.0198], ['order', 2.2725]]\n",
            "\n",
            "\n",
            "THE TOP 15 WORDS FOR TOPIC #6\n",
            "[['buy', 0.1038], ['information', 0.105], ['use', 0.1065], ['return', 0.1091], ['packaging', 0.1161], ['company', 0.1314], ['disappointed', 0.1324], ['recommend', 0.1354], ['com', 0.1839], ['review', 0.1965], ['purchase', 0.2009], ['purchased', 0.201], ['products', 0.2301], ['description', 0.3262], ['product', 3.9061]]\n",
            "\n",
            "\n",
            "THE TOP 15 WORDS FOR TOPIC #7\n",
            "[['love', 0.2529], ['better', 0.2682], ['pay', 0.2756], ['cheaper', 0.295], ['paid', 0.3166], ['local', 0.3169], ['purchase', 0.3352], ['worth', 0.3433], ['stores', 0.3518], ['buy', 0.4311], ['store', 0.4526], ['free', 0.5252], ['best', 0.7121], ['shipping', 0.9957], ['price', 3.3105]]\n",
            "\n",
            "\n",
            "THE TOP 15 WORDS FOR TOPIC #8\n",
            "[['disappointed', 0.1321], ['picture', 0.1484], ['wrong', 0.164], ['received', 0.1741], ['seller', 0.1854], ['shipped', 0.1867], ['refund', 0.1952], ['purchase', 0.214], ['items', 0.2208], ['shipping', 0.2259], ['description', 0.2332], ['returned', 0.2792], ['purchased', 0.2956], ['return', 0.528], ['item', 3.724]]\n",
            "\n",
            "\n",
            "THE TOP 15 WORDS FOR TOPIC #9\n",
            "[['like', 0.1519], ['nt', 0.1541], ['version', 0.1639], ['son', 0.1666], ['old', 0.1691], ['computer', 0.1717], ['video', 0.1831], ['card', 0.1866], ['graphics', 0.2455], ['playing', 0.2669], ['played', 0.3253], ['fun', 0.4414], ['games', 0.6463], ['play', 0.7434], ['game', 3.9705]]\n",
            "\n",
            "\n",
            "THE TOP 15 WORDS FOR TOPIC #10\n",
            "[['series', 0.1805], ['paperback', 0.1825], ['text', 0.1866], ['reader', 0.1923], ['buy', 0.2268], ['love', 0.2398], ['device', 0.2522], ['download', 0.2531], ['reading', 0.3243], ['available', 0.3272], ['read', 0.5825], ['edition', 0.6666], ['version', 1.3391], ['books', 1.478], ['kindle', 2.9971]]\n",
            "\n",
            "\n",
            "THE TOP 15 WORDS FOR TOPIC #11\n",
            "[['looks', 0.1377], ['watching', 0.1401], ['prime', 0.1446], ['wrist', 0.1579], ['tv', 0.1653], ['episodes', 0.1862], ['episode', 0.2105], ['love', 0.2211], ['video', 0.2683], ['series', 0.2741], ['watches', 0.3088], ['band', 0.3502], ['time', 0.3935], ['season', 0.4277], ['watch', 3.9986]]\n",
            "\n",
            "\n",
            "THE TOP 15 WORDS FOR TOPIC #12\n",
            "[['pieces', 0.3392], ['damaged', 0.3469], ['came', 0.3522], ['episodes', 0.3664], ['missing', 0.3791], ['discs', 0.4312], ['series', 0.4361], ['opened', 0.4381], ['packaging', 0.4853], ['arrived', 0.5352], ['broken', 0.6267], ['disc', 0.7427], ['season', 0.7826], ['box', 2.8086], ['set', 3.717]]\n",
            "\n",
            "\n",
            "THE TOP 15 WORDS FOR TOPIC #13\n",
            "[['quickly', 0.1499], ['job', 0.1611], ['recommend', 0.1612], ['happy', 0.1677], ['condition', 0.1782], ['got', 0.1821], ['thank', 0.1911], ['deal', 0.226], ['fast', 0.2325], ['easy', 0.2783], ['works', 0.295], ['service', 0.372], ['thanks', 0.4072], ['love', 0.4673], ['great', 3.7637]]\n",
            "\n",
            "\n",
            "THE TOP 15 WORDS FOR TOPIC #14\n",
            "[['overall', 0.1573], ['little', 0.1695], ['album', 0.1988], ['looks', 0.2047], ['video', 0.214], ['condition', 0.2394], ['picture', 0.2637], ['poor', 0.2667], ['bad', 0.2697], ['pretty', 0.2766], ['better', 0.3359], ['sound', 0.5521], ['like', 0.586], ['quality', 1.345], ['good', 3.3109]]\n",
            "\n",
            "\n"
          ],
          "name": "stdout"
        }
      ]
    },
    {
      "cell_type": "markdown",
      "metadata": {
        "id": "Z5GlDPgHC9Ho",
        "colab_type": "text"
      },
      "source": [
        "**ASSIGNING TOPIC TO EACH REVIEW BASED ON THE NMF MODELING and MAPPING IT TO A TOPIC NAME**"
      ]
    },
    {
      "cell_type": "code",
      "metadata": {
        "id": "0vyJHT4M6h4G",
        "colab_type": "code",
        "colab": {}
      },
      "source": [
        "topic_category = nmf_model.transform(dtm)\n",
        "clean_data['topic_category'] = topic_category.argmax(axis=1)\n",
        "topic_mapping={0:'refund-and-return', 1:'books',2:'movies',3:'music',4:'video-quality',5:'shipping',6:'product-quality',7:'cost',8:'refund-and-return',9:'games', 10:'books', 11:'tv-series',12:'packaging',13:'deals',14:'product-quality'}\n",
        "clean_data['topic_name']=clean_data['topic_category'].map(topic_mapping) \n",
        "clean_data= clean_data[['review','clean_review','review_category','topic_category', 'topic_name']]"
      ],
      "execution_count": null,
      "outputs": []
    },
    {
      "cell_type": "markdown",
      "metadata": {
        "id": "-No7PSc-DMkP",
        "colab_type": "text"
      },
      "source": [
        "**GROUPPING THE DATAFRAME BY TOPIC NAME AND REVIEW CATEGORY (GOOD, BAD, AVERAGE) AND SORTING IT BY THE WORST PERCENTAGE OF BAD REVIEWS**"
      ]
    },
    {
      "cell_type": "code",
      "metadata": {
        "id": "CFNRIdsbAUPV",
        "colab_type": "code",
        "colab": {
          "base_uri": "https://localhost:8080/",
          "height": 483
        },
        "outputId": "8b96c616-7fde-4df3-910b-274a7eb0ff6f"
      },
      "source": [
        "clean_data_grouped = clean_data.groupby(['topic_name','review_category']).agg(\n",
        "  {\n",
        "\n",
        "    'review_category':'count'\n",
        "\n",
        "  })\n",
        "\n",
        "clean_data_grouped= clean_data_grouped.unstack().reset_index()\n",
        "clean_data_grouped['percentage_bad']= (clean_data_grouped['review_category']['Bad']/(clean_data_grouped['review_category']['Average']+clean_data_grouped['review_category']['Good']+clean_data_grouped['review_category']['Bad'])*100)\n",
        "clean_data_grouped['percentage_bad']=clean_data_grouped['percentage_bad'].round(2)\n",
        "clean_data_grouped.sort_values(by=['percentage_bad'], ascending=False)\n",
        "clean_data_grouped.index.rename('ID', inplace=True)\n",
        "clean_data_grouped"
      ],
      "execution_count": null,
      "outputs": [
        {
          "output_type": "execute_result",
          "data": {
            "text/html": [
              "<div>\n",
              "<style scoped>\n",
              "    .dataframe tbody tr th:only-of-type {\n",
              "        vertical-align: middle;\n",
              "    }\n",
              "\n",
              "    .dataframe tbody tr th {\n",
              "        vertical-align: top;\n",
              "    }\n",
              "\n",
              "    .dataframe thead tr th {\n",
              "        text-align: left;\n",
              "    }\n",
              "\n",
              "    .dataframe thead tr:last-of-type th {\n",
              "        text-align: right;\n",
              "    }\n",
              "</style>\n",
              "<table border=\"1\" class=\"dataframe\">\n",
              "  <thead>\n",
              "    <tr>\n",
              "      <th></th>\n",
              "      <th>topic_name</th>\n",
              "      <th colspan=\"3\" halign=\"left\">review_category</th>\n",
              "      <th>percentage_bad</th>\n",
              "    </tr>\n",
              "    <tr>\n",
              "      <th>review_category</th>\n",
              "      <th></th>\n",
              "      <th>Average</th>\n",
              "      <th>Bad</th>\n",
              "      <th>Good</th>\n",
              "      <th></th>\n",
              "    </tr>\n",
              "    <tr>\n",
              "      <th>ID</th>\n",
              "      <th></th>\n",
              "      <th></th>\n",
              "      <th></th>\n",
              "      <th></th>\n",
              "      <th></th>\n",
              "    </tr>\n",
              "  </thead>\n",
              "  <tbody>\n",
              "    <tr>\n",
              "      <th>0</th>\n",
              "      <td>books</td>\n",
              "      <td>2618</td>\n",
              "      <td>8714</td>\n",
              "      <td>4941</td>\n",
              "      <td>53.55</td>\n",
              "    </tr>\n",
              "    <tr>\n",
              "      <th>1</th>\n",
              "      <td>cost</td>\n",
              "      <td>1358</td>\n",
              "      <td>2654</td>\n",
              "      <td>5114</td>\n",
              "      <td>29.08</td>\n",
              "    </tr>\n",
              "    <tr>\n",
              "      <th>2</th>\n",
              "      <td>deals</td>\n",
              "      <td>931</td>\n",
              "      <td>2139</td>\n",
              "      <td>4910</td>\n",
              "      <td>26.80</td>\n",
              "    </tr>\n",
              "    <tr>\n",
              "      <th>3</th>\n",
              "      <td>games</td>\n",
              "      <td>262</td>\n",
              "      <td>823</td>\n",
              "      <td>624</td>\n",
              "      <td>48.16</td>\n",
              "    </tr>\n",
              "    <tr>\n",
              "      <th>4</th>\n",
              "      <td>movies</td>\n",
              "      <td>852</td>\n",
              "      <td>2286</td>\n",
              "      <td>1717</td>\n",
              "      <td>47.09</td>\n",
              "    </tr>\n",
              "    <tr>\n",
              "      <th>5</th>\n",
              "      <td>music</td>\n",
              "      <td>1228</td>\n",
              "      <td>3367</td>\n",
              "      <td>3173</td>\n",
              "      <td>43.34</td>\n",
              "    </tr>\n",
              "    <tr>\n",
              "      <th>6</th>\n",
              "      <td>packaging</td>\n",
              "      <td>865</td>\n",
              "      <td>2664</td>\n",
              "      <td>1214</td>\n",
              "      <td>56.17</td>\n",
              "    </tr>\n",
              "    <tr>\n",
              "      <th>7</th>\n",
              "      <td>product-quality</td>\n",
              "      <td>3152</td>\n",
              "      <td>11178</td>\n",
              "      <td>5565</td>\n",
              "      <td>56.18</td>\n",
              "    </tr>\n",
              "    <tr>\n",
              "      <th>8</th>\n",
              "      <td>refund-and-return</td>\n",
              "      <td>3163</td>\n",
              "      <td>15050</td>\n",
              "      <td>4807</td>\n",
              "      <td>65.38</td>\n",
              "    </tr>\n",
              "    <tr>\n",
              "      <th>9</th>\n",
              "      <td>shipping</td>\n",
              "      <td>1085</td>\n",
              "      <td>5912</td>\n",
              "      <td>1614</td>\n",
              "      <td>68.66</td>\n",
              "    </tr>\n",
              "    <tr>\n",
              "      <th>10</th>\n",
              "      <td>tv-series</td>\n",
              "      <td>425</td>\n",
              "      <td>1374</td>\n",
              "      <td>1124</td>\n",
              "      <td>47.01</td>\n",
              "    </tr>\n",
              "    <tr>\n",
              "      <th>11</th>\n",
              "      <td>video-quality</td>\n",
              "      <td>764</td>\n",
              "      <td>3166</td>\n",
              "      <td>1273</td>\n",
              "      <td>60.85</td>\n",
              "    </tr>\n",
              "  </tbody>\n",
              "</table>\n",
              "</div>"
            ],
            "text/plain": [
              "                        topic_name review_category              percentage_bad\n",
              "review_category                            Average    Bad  Good               \n",
              "ID                                                                            \n",
              "0                books              2618            8714   4941  53.55        \n",
              "1                cost               1358            2654   5114  29.08        \n",
              "2                deals              931             2139   4910  26.80        \n",
              "3                games              262             823    624   48.16        \n",
              "4                movies             852             2286   1717  47.09        \n",
              "5                music              1228            3367   3173  43.34        \n",
              "6                packaging          865             2664   1214  56.17        \n",
              "7                product-quality    3152            11178  5565  56.18        \n",
              "8                refund-and-return  3163            15050  4807  65.38        \n",
              "9                shipping           1085            5912   1614  68.66        \n",
              "10               tv-series          425             1374   1124  47.01        \n",
              "11               video-quality      764             3166   1273  60.85        "
            ]
          },
          "metadata": {
            "tags": []
          },
          "execution_count": 13
        }
      ]
    },
    {
      "cell_type": "markdown",
      "metadata": {
        "id": "hcU40t_JGxOe",
        "colab_type": "text"
      },
      "source": [
        "**NEXT UP IN NLP PART 2: WE WILL LOOK IN INDEPTH OF TOPIC CATEGORY *PRODUCT-QUALITY* for AMAZON REVIEWS AND MODEL THEM FOR GOOD BAD OR AVERAGE '**"
      ]
    },
    {
      "cell_type": "code",
      "metadata": {
        "id": "rzOlKyozKAaE",
        "colab_type": "code",
        "colab": {}
      },
      "source": [
        "amazon_product_quality = clean_data[clean_data['topic_name'].isin(['movies','music','books','games','video-quality','refund-and-return'])]\n",
        "amazon_product_quality.to_csv('/gdrive/My Drive/data/amazon_products.csv')"
      ],
      "execution_count": null,
      "outputs": []
    }
  ]
}