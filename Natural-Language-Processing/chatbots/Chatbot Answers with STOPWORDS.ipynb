{
 "cells": [
  {
   "cell_type": "code",
   "execution_count": 9,
   "metadata": {},
   "outputs": [
    {
     "name": "stderr",
     "output_type": "stream",
     "text": [
      "[nltk_data] Downloading package stopwords to\n",
      "[nltk_data]     /Users/ankitkothari/nltk_data...\n",
      "[nltk_data]   Package stopwords is already up-to-date!\n",
      "[nltk_data] Downloading package punkt to\n",
      "[nltk_data]     /Users/ankitkothari/nltk_data...\n",
      "[nltk_data]   Package punkt is already up-to-date!\n",
      "[nltk_data] Downloading package averaged_perceptron_tagger to\n",
      "[nltk_data]     /Users/ankitkothari/nltk_data...\n",
      "[nltk_data]   Package averaged_perceptron_tagger is already up-to-\n",
      "[nltk_data]       date!\n",
      "[nltk_data] Downloading package wordnet to\n",
      "[nltk_data]     /Users/ankitkothari/nltk_data...\n",
      "[nltk_data]   Package wordnet is already up-to-date!\n"
     ]
    }
   ],
   "source": [
    "import os\n",
    "import time\n",
    "import re\n",
    "import slackclient\n",
    "import pandas as pd\n",
    "import numpy as np\n",
    "\n",
    "#NLTK\n",
    "import nltk\n",
    "from nltk.tokenize import TreebankWordTokenizer\n",
    "from nltk.corpus import stopwords\n",
    "from nltk.stem import wordnet\n",
    "nltk.download('stopwords')\n",
    "from nltk import pos_tag\n",
    "nltk.download('punkt')\n",
    "nltk.download('averaged_perceptron_tagger')\n",
    "nltk.download('wordnet')\n",
    "stopwords = stopwords.words('english')\n",
    "from nltk import word_tokenize, sent_tokenize\n",
    "\n",
    "#SKLEARN\n",
    "from sklearn.metrics import pairwise_distances # to perfrom cosine similarity\n",
    "from sklearn.feature_extraction.text import TfidfVectorizer # to perform tfidf"
   ]
  },
  {
   "cell_type": "markdown",
   "metadata": {},
   "source": [
    "#### CONNECT THE SLACKBOT BY THIS SECRET TOKEN "
   ]
  },
  {
   "cell_type": "code",
   "execution_count": 10,
   "metadata": {},
   "outputs": [],
   "source": [
    "slack_clients = slackclient.SlackClient('<slack_secret_token>')"
   ]
  },
  {
   "cell_type": "markdown",
   "metadata": {},
   "source": [
    "#### DATA: QUESTIONS AND RESPONSES"
   ]
  },
  {
   "cell_type": "code",
   "execution_count": 12,
   "metadata": {},
   "outputs": [
    {
     "data": {
      "text/html": [
       "<div>\n",
       "<style scoped>\n",
       "    .dataframe tbody tr th:only-of-type {\n",
       "        vertical-align: middle;\n",
       "    }\n",
       "\n",
       "    .dataframe tbody tr th {\n",
       "        vertical-align: top;\n",
       "    }\n",
       "\n",
       "    .dataframe thead th {\n",
       "        text-align: right;\n",
       "    }\n",
       "</style>\n",
       "<table border=\"1\" class=\"dataframe\">\n",
       "  <thead>\n",
       "    <tr style=\"text-align: right;\">\n",
       "      <th></th>\n",
       "      <th>Context</th>\n",
       "      <th>Text Response</th>\n",
       "    </tr>\n",
       "  </thead>\n",
       "  <tbody>\n",
       "    <tr>\n",
       "      <th>0</th>\n",
       "      <td>What is the best temperature to brew coffee?</td>\n",
       "      <td>According to chemical studies, the optimal water temperature for drip coffee is 95-98C. According to my notes, colder water doesn't extract enough caffeine/essential oils from the beans, and above such temperature the acidity increases wildly.</td>\n",
       "    </tr>\n",
       "    <tr>\n",
       "      <th>1</th>\n",
       "      <td>Quality of coffee</td>\n",
       "      <td>The quality of a brew depends on the following factors (in no particular order):\\nTime since grinding the beans.\\nTime since roasting.\\nCleanliness with brewing equipment.\\nBean quality (what crop, etc.).\\nWater quality.\\n</td>\n",
       "    </tr>\n",
       "    <tr>\n",
       "      <th>2</th>\n",
       "      <td>What is the difference between arabica and robusta?</td>\n",
       "      <td>Arabica beans and robusta beans are two different species of coffee. They are the primary species of coffee that find their way into the American cup. The general differences are those of taste, and the conditions under which the two species differ in production.</td>\n",
       "    </tr>\n",
       "    <tr>\n",
       "      <th>3</th>\n",
       "      <td>Just how much ground coffee do I need for x amount of coffee?</td>\n",
       "      <td>a. Whatever seems right to you. b. It may change slightly from coffee to coffee and according to freshness.</td>\n",
       "    </tr>\n",
       "    <tr>\n",
       "      <th>4</th>\n",
       "      <td>What are the different between Preparation Methods\\n</td>\n",
       "      <td>Drip\\nFrench Press\\nEspresso\\nPercolator</td>\n",
       "    </tr>\n",
       "  </tbody>\n",
       "</table>\n",
       "</div>"
      ],
      "text/plain": [
       "                                                         Context  \\\n",
       "0  What is the best temperature to brew coffee?                    \n",
       "1  Quality of coffee                                               \n",
       "2  What is the difference between arabica and robusta?             \n",
       "3  Just how much ground coffee do I need for x amount of coffee?   \n",
       "4  What are the different between Preparation Methods\\n            \n",
       "\n",
       "                                                                                                                                                                                                                                                             Text Response  \n",
       "0  According to chemical studies, the optimal water temperature for drip coffee is 95-98C. According to my notes, colder water doesn't extract enough caffeine/essential oils from the beans, and above such temperature the acidity increases wildly.                      \n",
       "1  The quality of a brew depends on the following factors (in no particular order):\\nTime since grinding the beans.\\nTime since roasting.\\nCleanliness with brewing equipment.\\nBean quality (what crop, etc.).\\nWater quality.\\n                                           \n",
       "2  Arabica beans and robusta beans are two different species of coffee. They are the primary species of coffee that find their way into the American cup. The general differences are those of taste, and the conditions under which the two species differ in production.  \n",
       "3  a. Whatever seems right to you. b. It may change slightly from coffee to coffee and according to freshness.                                                                                                                                                              \n",
       "4  Drip\\nFrench Press\\nEspresso\\nPercolator                                                                                                                                                                                                                                 "
      ]
     },
     "execution_count": 12,
     "metadata": {},
     "output_type": "execute_result"
    }
   ],
   "source": [
    "pd.set_option('display.max_colwidth', -1)\n",
    "data = pd.read_csv('./coffee.csv')\n",
    "data.ffill(axis=0, inplace= True)\n",
    "context = data['Context'].values\n",
    "context_string = data['Context'].str.cat(sep='\\n')\n",
    "data.head()"
   ]
  },
  {
   "cell_type": "markdown",
   "metadata": {},
   "source": [
    "#### Text Preprocessing and not removing stop-words"
   ]
  },
  {
   "cell_type": "code",
   "execution_count": 14,
   "metadata": {},
   "outputs": [
    {
     "data": {
      "text/plain": [
       "0    what be the best temperature to brew coffee                 \n",
       "1    quality of coffee                                           \n",
       "2    what be the difference between arabica and robusta          \n",
       "3    just how much ground coffee do i need for x amount of coffee\n",
       "4    what be the different between preparation methods           \n",
       "Name: nltk_cleaning, dtype: object"
      ]
     },
     "execution_count": 14,
     "metadata": {},
     "output_type": "execute_result"
    }
   ],
   "source": [
    "def nltk_cleaning(text):\n",
    "  token_text = word_tokenize(text)\n",
    "  clean_text = []\n",
    "  lemma = wordnet.WordNetLemmatizer()\n",
    "  tag_list = pos_tag(token_text, tagset=None)\n",
    "  for token, pos_token in tag_list:\n",
    "   if token not in '\\n\\n \\n\\n\\n!\"-#$%&()--.*''+,-/:;``<=>[``?@[\\\\]^_`''{|}~\\t\\n`\\'\\'':\n",
    "     if pos_token.startswith('V'):  # Verb\n",
    "         pos_val='v'\n",
    "     elif pos_token.startswith('J'): # Adjective\n",
    "         pos_val='a'\n",
    "     elif pos_token.startswith('R'): # Adverb\n",
    "         pos_val='r'\n",
    "     else:\n",
    "         pos_val='n' # Noun\n",
    "     lemma_token= lemma.lemmatize(token,pos_val)\n",
    "     clean_text.append(lemma_token.lower())\n",
    "   else:\n",
    "      continue \n",
    "  return \" \".join(clean_text)\n",
    "data['nltk_cleaning']= data['Context'].apply(nltk_cleaning)\n",
    "data['nltk_cleaning'].head()"
   ]
  },
  {
   "cell_type": "markdown",
   "metadata": {},
   "source": [
    "#### Text Vectorization TFIDF"
   ]
  },
  {
   "cell_type": "code",
   "execution_count": 15,
   "metadata": {},
   "outputs": [],
   "source": [
    "tfidf = TfidfVectorizer() # intializing the count vectorizer\n",
    "X = tfidf.fit_transform(data['nltk_cleaning']).toarray()\n",
    "features = tfidf.get_feature_names()\n",
    "df_idf = pd.DataFrame(X, columns = features)\n",
    "Question_tf ='thanks for your support!'\n",
    "Question_lemma_tf = nltk_cleaning(Question_tf) # applying the function that we created for text normalizing\n",
    "Question_tf = tfidf.transform([Question_lemma_tf]).toarray() # applying bow\n",
    "cosine_value_tf = 1- pairwise_distances(df_idf, Question_tf, metric = 'cosine' )\n",
    "index_value = cosine_value_tf.argmax() # returns the index number of highest value\n",
    "data['similarity_tfidf']=cosine_value_tf # creating a new column\n",
    "#print(data.sort_values('similarity_tfidf', ascending=False).iloc[0:2])\n",
    "df_simi_tf = pd.DataFrame(data, columns=['Text Response','similarity_tfidf']) # taking similarity value of responses for the question we took\n",
    "#print(df_simi_tf.sort_values('similarity_tfidf', ascending=False))\n",
    "ending_text = ['bye','done', 'thanks', 'exit', 'ok', 'x']"
   ]
  },
  {
   "cell_type": "markdown",
   "metadata": {},
   "source": [
    "#### Parsing the Incoming Commands from Slack"
   ]
  },
  {
   "cell_type": "code",
   "execution_count": 16,
   "metadata": {},
   "outputs": [],
   "source": [
    "def parse_bot_commands(slack_events):\n",
    "    for event in slack_events:\n",
    "        if event[\"type\"] == \"message\" and not \"subtype\" in event:\n",
    "            message = event[\"text\"]\n",
    "            return message, event[\"channel\"], event['user']\n",
    "    return None, None, None\n"
   ]
  },
  {
   "cell_type": "markdown",
   "metadata": {},
   "source": [
    "#### How to interpret the incoming message from Slack and send appropriate responses"
   ]
  },
  {
   "cell_type": "code",
   "execution_count": 17,
   "metadata": {},
   "outputs": [
    {
     "name": "stdout",
     "output_type": "stream",
     "text": [
      "Done\n"
     ]
    }
   ],
   "source": [
    "def handle_command(command, channel,user):\n",
    "    # Default response is help text for the user\n",
    "    accepted_users = ['<slack_user_id>']\n",
    "    ending_text = ['bye','done', 'thanks', 'exit', 'ok', 'x']\n",
    "    if user not in accepted_users:\n",
    "          response = \"Not an authorised user\"\n",
    "    elif command in ending_text:\n",
    "          response = \"Bye! Thanks for chatting\"\n",
    "    else:\n",
    "      try:\n",
    "        Question_lemma_tf = nltk_cleaning(command) # applying the function that we created for text normalizing\n",
    "        Question_tf = tfidf.transform([Question_lemma_tf]).toarray() # applying bow\n",
    "        cosine_value_tf = 1- pairwise_distances(df_idf, Question_tf, metric = 'cosine' )\n",
    "        index_value = cosine_value_tf.argmax()\n",
    "        response = data['Text Response'].loc[index_value]\n",
    "      except:\n",
    "          response='Sorry, Not sure what you mean'\n",
    "        \n",
    "    \n",
    "\n",
    "    # Sends the response back to the channel\n",
    "    slack_clients.api_call(\n",
    "        \"chat.postMessage\",\n",
    "        type=\"divider\",\n",
    "        channel=channel,\n",
    "        #text=':coffee:'+':coffee:'+\"*\"+response+\"*\" + ':coffee:'+':coffee:',\n",
    "        attachments=[{\n",
    "        \"blocks\":[\n",
    "\t\t{\n",
    "\t\t\t\"type\": \"section\",\n",
    "\t\t\t\"block_id\": \"section567\",\n",
    "\t\t\t\"text\": {\n",
    "\t\t\t\t\"type\": \"mrkdwn\",\n",
    "\t\t\t\t\"text\": ':coffee:'+':coffee:'+\"*\"+response+\"*\" + ':coffee:'+':coffee:'\n",
    "\t\t\t},\n",
    "\t\t\t\"accessory\": {\n",
    "\t\t\t\t\"type\": \"image\",\n",
    "\t\t\t\t\"image_url\": \"https://png.pngtree.com/png-clipart/20190903/original/pngtree-yellow-woven-bag-of-coffee-beans-png-image_4418658.jpg\",\n",
    "\t\t\t\t\"alt_text\": \"Haunted hotel image\"\n",
    "\t\t\t}}\n",
    "\t\t]}]\n",
    "    )\n",
    "\n",
    "##Running the application\n",
    "print(\"Done\")"
   ]
  },
  {
   "cell_type": "markdown",
   "metadata": {},
   "source": [
    "#### Making the SLACK API call to read all the incoming text"
   ]
  },
  {
   "cell_type": "code",
   "execution_count": null,
   "metadata": {},
   "outputs": [
    {
     "name": "stdout",
     "output_type": "stream",
     "text": [
      "Starter Bot connected and running!\n"
     ]
    }
   ],
   "source": [
    "# constants\n",
    "RTM_READ_DELAY = 1 # 1 second delay between reading from RTM\n",
    "if __name__ == \"__main__\":\n",
    "    if slack_clients.rtm_connect(with_team_state=False):\n",
    "        print(\"Starter Bot connected and running!\")\n",
    "        # Read bot's user ID by calling Web API method `auth.test`\n",
    "        starterbot_id = slack_clients.api_call(\"auth.test\")[\"user_id\"]\n",
    "        while True:\n",
    "            command, channel, user = parse_bot_commands(slack_clients.rtm_read())\n",
    "            if command == 'shutdownthebot':\n",
    "                break\n",
    "            else:\n",
    "               if command is None:\n",
    "                  continue\n",
    "               else:\n",
    "                  handle_command(command, channel, user)\n",
    "            time.sleep(RTM_READ_DELAY)\n",
    "    else:\n",
    "        print(\"Connection failed. Exception traceback printed above.\")"
   ]
  },
  {
   "cell_type": "code",
   "execution_count": null,
   "metadata": {},
   "outputs": [],
   "source": []
  }
 ],
 "metadata": {
  "kernelspec": {
   "display_name": "Python 3.7.3 64-bit",
   "language": "python",
   "name": "python37364bit2b8427184f3a4d4aa3afd1d3859411ec"
  },
  "language_info": {
   "codemirror_mode": {
    "name": "ipython",
    "version": 3
   },
   "file_extension": ".py",
   "mimetype": "text/x-python",
   "name": "python",
   "nbconvert_exporter": "python",
   "pygments_lexer": "ipython3",
   "version": "3.7.3"
  }
 },
 "nbformat": 4,
 "nbformat_minor": 2
}
