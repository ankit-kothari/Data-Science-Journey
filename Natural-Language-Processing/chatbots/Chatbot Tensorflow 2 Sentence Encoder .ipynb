{
 "cells": [
  {
   "cell_type": "code",
   "execution_count": 54,
   "metadata": {},
   "outputs": [
    {
     "name": "stderr",
     "output_type": "stream",
     "text": [
      "[nltk_data] Downloading package stopwords to\n",
      "[nltk_data]     /Users/ankitkothari/nltk_data...\n",
      "[nltk_data]   Package stopwords is already up-to-date!\n",
      "[nltk_data] Downloading package punkt to\n",
      "[nltk_data]     /Users/ankitkothari/nltk_data...\n",
      "[nltk_data]   Package punkt is already up-to-date!\n",
      "[nltk_data] Downloading package averaged_perceptron_tagger to\n",
      "[nltk_data]     /Users/ankitkothari/nltk_data...\n",
      "[nltk_data]   Package averaged_perceptron_tagger is already up-to-\n",
      "[nltk_data]       date!\n",
      "[nltk_data] Downloading package wordnet to\n",
      "[nltk_data]     /Users/ankitkothari/nltk_data...\n",
      "[nltk_data]   Package wordnet is already up-to-date!\n"
     ]
    }
   ],
   "source": [
    "import os\n",
    "import time\n",
    "import re\n",
    "import slackclient\n",
    "import pandas as pd\n",
    "import numpy as np\n",
    "\n",
    "#NLTK\n",
    "import nltk\n",
    "from nltk.tokenize import TreebankWordTokenizer\n",
    "from nltk.corpus import stopwords\n",
    "from nltk.stem import wordnet\n",
    "nltk.download('stopwords')\n",
    "from nltk import pos_tag\n",
    "nltk.download('punkt')\n",
    "nltk.download('averaged_perceptron_tagger')\n",
    "nltk.download('wordnet')\n",
    "stopwords = stopwords.words('english')\n",
    "from nltk import word_tokenize, sent_tokenize\n",
    "\n",
    "#SKLEARN\n",
    "import tensorflow_hub as hub\n",
    "from sklearn.metrics import pairwise_distances # to perfrom cosine similarity\n",
    "from sklearn.feature_extraction.text import TfidfVectorizer # to perform tfidf"
   ]
  },
  {
   "cell_type": "markdown",
   "metadata": {},
   "source": [
    "#### CONNECT THE SLACKBOT BY THIS SECRET TOKEN STARTS WITH 'x...-....')"
   ]
  },
  {
   "cell_type": "code",
   "execution_count": 55,
   "metadata": {},
   "outputs": [],
   "source": [
    "slack_clients = slackclient.SlackClient('SLACK APP TOKEN')"
   ]
  },
  {
   "cell_type": "markdown",
   "metadata": {},
   "source": [
    "#### DATA: QUESTIONS AND RESPONSES"
   ]
  },
  {
   "cell_type": "code",
   "execution_count": 66,
   "metadata": {},
   "outputs": [
    {
     "data": {
      "text/html": [
       "<div>\n",
       "<style scoped>\n",
       "    .dataframe tbody tr th:only-of-type {\n",
       "        vertical-align: middle;\n",
       "    }\n",
       "\n",
       "    .dataframe tbody tr th {\n",
       "        vertical-align: top;\n",
       "    }\n",
       "\n",
       "    .dataframe thead th {\n",
       "        text-align: right;\n",
       "    }\n",
       "</style>\n",
       "<table border=\"1\" class=\"dataframe\">\n",
       "  <thead>\n",
       "    <tr style=\"text-align: right;\">\n",
       "      <th></th>\n",
       "      <th>Context</th>\n",
       "      <th>Text Response</th>\n",
       "    </tr>\n",
       "  </thead>\n",
       "  <tbody>\n",
       "    <tr>\n",
       "      <th>0</th>\n",
       "      <td>What is the best temperature to brew coffee?</td>\n",
       "      <td>According to chemical studies, the optimal water temperature for drip coffee is 95-98C. According to my notes, colder water doesn't extract enough caffeine/essential oils from the beans, and above such temperature the acidity increases wildly.</td>\n",
       "    </tr>\n",
       "    <tr>\n",
       "      <th>1</th>\n",
       "      <td>Quality of coffee</td>\n",
       "      <td>The quality of a brew depends on the following factors (in no particular order):\\nTime since grinding the beans.\\nTime since roasting.\\nCleanliness with brewing equipment.\\nBean quality (what crop, etc.).\\nWater quality.\\n</td>\n",
       "    </tr>\n",
       "    <tr>\n",
       "      <th>2</th>\n",
       "      <td>What is the difference between arabica and robusta?</td>\n",
       "      <td>Arabica beans and robusta beans are two different species of coffee. They are the primary species of coffee that find their way into the American cup. The general differences are those of taste, and the conditions under which the two species differ in production.</td>\n",
       "    </tr>\n",
       "    <tr>\n",
       "      <th>3</th>\n",
       "      <td>Just how much ground coffee do I need for x amount of coffee?</td>\n",
       "      <td>a. Whatever seems right to you. b. It may change slightly from coffee to coffee and according to freshness.</td>\n",
       "    </tr>\n",
       "    <tr>\n",
       "      <th>4</th>\n",
       "      <td>What are the different between Preparation Methods\\n</td>\n",
       "      <td>Drip\\nFrench Press\\nEspresso\\nPercolator</td>\n",
       "    </tr>\n",
       "  </tbody>\n",
       "</table>\n",
       "</div>"
      ],
      "text/plain": [
       "                                                         Context  \\\n",
       "0  What is the best temperature to brew coffee?                    \n",
       "1  Quality of coffee                                               \n",
       "2  What is the difference between arabica and robusta?             \n",
       "3  Just how much ground coffee do I need for x amount of coffee?   \n",
       "4  What are the different between Preparation Methods\\n            \n",
       "\n",
       "                                                                                                                                                                                                                                                             Text Response  \n",
       "0  According to chemical studies, the optimal water temperature for drip coffee is 95-98C. According to my notes, colder water doesn't extract enough caffeine/essential oils from the beans, and above such temperature the acidity increases wildly.                      \n",
       "1  The quality of a brew depends on the following factors (in no particular order):\\nTime since grinding the beans.\\nTime since roasting.\\nCleanliness with brewing equipment.\\nBean quality (what crop, etc.).\\nWater quality.\\n                                           \n",
       "2  Arabica beans and robusta beans are two different species of coffee. They are the primary species of coffee that find their way into the American cup. The general differences are those of taste, and the conditions under which the two species differ in production.  \n",
       "3  a. Whatever seems right to you. b. It may change slightly from coffee to coffee and according to freshness.                                                                                                                                                              \n",
       "4  Drip\\nFrench Press\\nEspresso\\nPercolator                                                                                                                                                                                                                                 "
      ]
     },
     "execution_count": 66,
     "metadata": {},
     "output_type": "execute_result"
    }
   ],
   "source": [
    "pd.set_option('display.max_colwidth', -1)\n",
    "\n",
    "data = pd.read_csv('./coffee.csv')\n",
    "data.ffill(axis=0, inplace= True)\n",
    "context = data['Context'].values\n",
    "context_string = data['Context'].str.cat(sep='\\n')\n",
    "data.head()"
   ]
  },
  {
   "cell_type": "markdown",
   "metadata": {},
   "source": [
    "#### Text Preprocessing"
   ]
  },
  {
   "cell_type": "code",
   "execution_count": 67,
   "metadata": {},
   "outputs": [
    {
     "data": {
      "text/plain": [
       "0    what be the best temperature to brew coffee                 \n",
       "1    quality of coffee                                           \n",
       "2    what be the difference between arabica and robusta          \n",
       "3    just how much ground coffee do i need for x amount of coffee\n",
       "4    what be the different between preparation methods           \n",
       "Name: nltk_cleaning, dtype: object"
      ]
     },
     "execution_count": 67,
     "metadata": {},
     "output_type": "execute_result"
    }
   ],
   "source": [
    "def nltk_cleaning(text):\n",
    "  token_text = word_tokenize(text)\n",
    "  clean_text = []\n",
    "  lemma = wordnet.WordNetLemmatizer()\n",
    "  tag_list = pos_tag(token_text, tagset=None)\n",
    "  for token, pos_token in tag_list:\n",
    "   if token not in '\\n\\n \\n\\n\\n!\"-#$%&()--.*''+,-/:;``<=>[``?@[\\\\]^_`''{|}~\\t\\n`\\'\\'':\n",
    "     if pos_token.startswith('V'):  # Verb\n",
    "         pos_val='v'\n",
    "     elif pos_token.startswith('J'): # Adjective\n",
    "         pos_val='a'\n",
    "     elif pos_token.startswith('R'): # Adverb\n",
    "         pos_val='r'\n",
    "     else:\n",
    "         pos_val='n' # Noun\n",
    "     lemma_token= lemma.lemmatize(token,pos_val)\n",
    "     clean_text.append(lemma_token.lower())\n",
    "   else:\n",
    "      continue \n",
    "  return \" \".join(clean_text)\n",
    "data['nltk_cleaning']= data['Context'].apply(nltk_cleaning)\n",
    "data['nltk_cleaning'].head()"
   ]
  },
  {
   "cell_type": "markdown",
   "metadata": {},
   "source": [
    "#### LOADING IN THE TF SENTENCE ENCODER EMBEDDINGS "
   ]
  },
  {
   "cell_type": "code",
   "execution_count": 68,
   "metadata": {},
   "outputs": [
    {
     "name": "stdout",
     "output_type": "stream",
     "text": [
      "(2, 512)\n"
     ]
    }
   ],
   "source": [
    "embed = hub.load(\"https://tfhub.dev/google/universal-sentence-encoder/4\")\n",
    "embeddings = embed([\n",
    "    \"The quick brown fox jumps over the lazy dog.\",\n",
    "    \"I am a sentence for which I would like to get its embedding\"])\n",
    "\n",
    "print(embeddings.shape)"
   ]
  },
  {
   "cell_type": "markdown",
   "metadata": {},
   "source": [
    "#### ENCODING THE QUESTIONS WITH ENCODER DIMENSION 512"
   ]
  },
  {
   "cell_type": "code",
   "execution_count": 69,
   "metadata": {},
   "outputs": [],
   "source": [
    "que_list = [embed([x]) for x in data['nltk_cleaning']]\n",
    "que_array = np.array(que_list)\n",
    "que_array=que_array.reshape(27,512)"
   ]
  },
  {
   "cell_type": "markdown",
   "metadata": {},
   "source": [
    "#### CONVERTING IT INTO A DATAFRAME WITH QUESTIONS X DIMENSION MATRIX"
   ]
  },
  {
   "cell_type": "code",
   "execution_count": 70,
   "metadata": {},
   "outputs": [
    {
     "name": "stdout",
     "output_type": "stream",
     "text": [
      "27\n"
     ]
    },
    {
     "data": {
      "text/plain": [
       "(27, 512)"
      ]
     },
     "execution_count": 70,
     "metadata": {},
     "output_type": "execute_result"
    }
   ],
   "source": [
    "X= np.array([str(i)+\"_vector\" for i in range(512)])\n",
    "X = X.reshape(1,512)\n",
    "print(len(que_array))\n",
    "match_frame = pd.DataFrame(que_array)\n",
    "match_frame.shape"
   ]
  },
  {
   "cell_type": "code",
   "execution_count": 71,
   "metadata": {},
   "outputs": [
    {
     "name": "stdout",
     "output_type": "stream",
     "text": [
      "<class 'str'>\n",
      "how many cup can i have in a day\n",
      "(1, 512)\n",
      "[[-3.88510115e-02 -6.62912577e-02 -2.90930793e-02  9.06389579e-03\n",
      "   4.16994728e-02  5.13799228e-02 -2.38981564e-02  2.01780125e-02\n",
      "  -3.96104939e-02  1.70970932e-02 -2.47557666e-02 -1.89401098e-02\n",
      "  -1.99111030e-02 -2.19903663e-02 -8.72539729e-02  2.55828705e-02\n",
      "  -1.35452384e-02 -2.31218990e-02 -9.72076203e-04 -2.82054357e-02\n",
      "   3.23695391e-02 -1.68545209e-02 -1.97919700e-02 -4.15924983e-03\n",
      "  -1.99679583e-02 -1.17185013e-02 -3.50795723e-02 -5.35474122e-02\n",
      "   4.93184291e-03  4.71282639e-02  1.68616567e-02  5.76052666e-02\n",
      "   2.89916079e-02  2.07012128e-02  4.47171852e-02  3.26159187e-02\n",
      "   6.54935315e-02  4.01345156e-02  2.22950093e-02 -7.53672868e-02\n",
      "  -2.10039839e-02  5.81175461e-02 -3.08844093e-02  8.19734111e-02\n",
      "  -3.66232656e-02  2.67254841e-02 -6.38269186e-02 -4.84988689e-02\n",
      "   5.53586967e-02 -5.82688898e-02  6.14239909e-02  1.16166130e-01\n",
      "  -2.74743792e-03 -7.01569393e-02  1.03371078e-02 -2.10806597e-02\n",
      "  -1.00392610e-01  2.00126451e-02 -7.06136152e-02  7.52600329e-03\n",
      "  -4.70366031e-02 -7.70671219e-02  1.94671322e-02 -9.55465287e-02\n",
      "   6.76926225e-03 -3.81912291e-02 -7.12149516e-02 -1.25541417e-02\n",
      "   7.62304589e-02 -3.97442020e-02 -3.66376638e-02 -2.18193717e-02\n",
      "   2.39455774e-02  9.65103656e-02 -2.38095038e-02 -4.21456108e-03\n",
      "   6.73018992e-02 -6.71200305e-02  9.04426351e-02  4.68131788e-02\n",
      "   3.13408524e-02  6.85358746e-03 -1.55796381e-02 -9.92092863e-03\n",
      "  -2.79265102e-02 -3.35135385e-02  1.57149341e-02  3.78762670e-02\n",
      "   1.87480338e-02 -7.45796710e-02  6.23833761e-02 -1.60578955e-02\n",
      "   1.12999221e-02  6.96481839e-02 -6.88259900e-02 -1.90281612e-03\n",
      "   4.30751033e-02  4.60890979e-02 -3.43478732e-02 -1.62497186e-03\n",
      "  -1.42857246e-02  3.41369323e-02 -1.15420930e-02 -3.01284362e-02\n",
      "  -3.19632553e-02  6.82753744e-03  4.39467169e-02 -1.05060693e-02\n",
      "  -3.05583607e-02 -1.53679680e-02  4.52241041e-02  4.23457101e-02\n",
      "  -3.99810523e-02  1.80424862e-02 -7.58670568e-02 -3.42876762e-02\n",
      "   1.36104682e-02 -1.85900722e-02 -5.93270175e-04 -7.34402332e-04\n",
      "   4.13090661e-02 -1.34223849e-02 -7.90640563e-02  1.69519037e-02\n",
      "  -2.80760024e-02 -4.02029185e-03 -1.00346524e-02  9.96118970e-03\n",
      "   7.43362084e-02 -2.36631054e-02 -3.35228331e-02  4.65990938e-02\n",
      "  -2.28858590e-02 -2.45940574e-02 -3.58512998e-02 -4.83849794e-02\n",
      "  -2.32067294e-02 -4.04853709e-02  6.24227896e-03  1.37289418e-02\n",
      "  -3.77349630e-02 -7.64479935e-02  4.98269238e-02  3.62662063e-03\n",
      "   2.19600499e-02 -1.87367648e-02  6.16850518e-02 -8.52291733e-02\n",
      "  -1.55174509e-02  1.16156470e-02 -3.11069284e-02  4.52389345e-02\n",
      "  -7.14483252e-03 -3.07416227e-02 -5.42558208e-02 -8.42551589e-02\n",
      "  -2.75466628e-02  8.05521905e-02  8.04383866e-03  1.85553208e-02\n",
      "   5.36426380e-02  4.75725997e-03 -5.59906028e-02  8.24352726e-02\n",
      "  -8.29286501e-02 -8.46418645e-03 -3.81941278e-03 -2.36744341e-02\n",
      "   3.21228690e-02  2.54527596e-03  3.41152176e-02  2.31712852e-02\n",
      "  -2.91808583e-02 -1.61914453e-02  2.88506765e-02 -3.59070972e-02\n",
      "  -8.95024277e-03 -5.28484397e-02  1.77210961e-02 -2.25666668e-02\n",
      "   8.93379524e-02  5.44666387e-02  1.14168726e-01  1.40330680e-02\n",
      "   1.97684653e-02 -1.93379063e-03  6.27103746e-02 -4.82990593e-03\n",
      "  -9.56903677e-05  3.01201791e-02 -3.93525250e-02 -2.46597864e-02\n",
      "  -6.81489781e-02 -6.90787798e-04 -3.36363986e-02  7.33731966e-03\n",
      "  -1.75302103e-02 -4.16431688e-02  5.02710007e-02 -6.26116097e-02\n",
      "  -4.43245396e-02  2.84220837e-02  9.62360483e-03  1.04907744e-01\n",
      "  -1.26880058e-03 -4.25025374e-02  2.17861421e-02  1.21264532e-02\n",
      "  -1.69900618e-02  4.84471731e-02  4.93734814e-02  2.80837398e-02\n",
      "   2.07101181e-02  8.58188719e-02  6.99928254e-02  1.42201502e-02\n",
      "  -3.84813882e-02  8.97933394e-02  1.13674933e-02  1.01513350e-02\n",
      "   1.44881159e-02  2.96637304e-02  4.00178470e-02  1.73943886e-03\n",
      "  -6.50146231e-03 -1.57378744e-02 -6.98231300e-03 -3.68989371e-02\n",
      "   1.84936076e-02 -6.23358525e-02 -4.39854600e-02 -6.49585873e-02\n",
      "  -3.38839181e-03  7.05411881e-02 -2.94363406e-02 -2.64616404e-02\n",
      "   1.32683478e-02  6.04455650e-04 -3.63427750e-03 -8.32822081e-03\n",
      "  -4.16179523e-02 -2.16845050e-02  2.49184594e-02  4.20684293e-02\n",
      "  -4.97490428e-02  1.07357375e-01 -3.24848518e-02  2.91090757e-02\n",
      "   1.07322797e-01 -3.01429443e-02  4.46963497e-02 -2.80778725e-02\n",
      "   1.15206279e-02  6.24179170e-02 -4.74576578e-02  2.60195248e-02\n",
      "   2.96765789e-02 -6.61187395e-02 -1.92861725e-02  3.01777925e-02\n",
      "   2.95672249e-02  4.54007946e-02 -1.04427397e-01  2.41735000e-02\n",
      "  -2.33577769e-02  1.47887329e-02  4.12403047e-02 -9.36657637e-02\n",
      "   4.18210439e-02  8.46695825e-02 -8.21362510e-02 -3.18173207e-02\n",
      "  -1.86294448e-02 -3.67311724e-02 -3.78485769e-02  2.60378532e-02\n",
      "   6.64073601e-02  2.69793961e-02 -4.72748652e-02  9.89589915e-02\n",
      "   3.10806669e-02 -7.39562837e-03 -5.20192012e-02  1.28838532e-02\n",
      "  -1.58273522e-02  1.19376332e-02 -3.60371843e-02 -1.13945100e-02\n",
      "  -1.83585659e-02 -3.24834287e-02 -5.60635068e-02 -5.59411310e-02\n",
      "  -6.29738197e-02 -9.58790351e-03  8.12943578e-02 -1.44781442e-02\n",
      "  -5.14898412e-02 -7.41060590e-03  8.23029876e-03 -1.77038461e-02\n",
      "  -9.61142927e-02 -7.10519925e-02  2.62027979e-02 -8.40896834e-03\n",
      "   4.09228774e-03 -2.56037526e-02  3.62137184e-02  1.60022657e-02\n",
      "  -6.25036731e-02 -2.62615010e-02 -2.77071036e-02 -1.15644922e-02\n",
      "  -5.84399626e-02  2.35059820e-02  1.02000600e-02 -2.10384931e-02\n",
      "   5.63260056e-02  4.95996233e-03  3.52693088e-02 -1.94253318e-03\n",
      "  -1.62400510e-02 -2.03826688e-02 -2.90626772e-02  7.41295591e-02\n",
      "  -2.53407359e-02  7.26615340e-02 -4.29575704e-02  5.27397431e-02\n",
      "  -9.33642685e-02  6.58553615e-02 -4.75969389e-02 -7.69009534e-03\n",
      "  -1.70658771e-02 -3.97143215e-02  1.45353144e-02  5.13032712e-02\n",
      "  -1.16817476e-02 -8.07875171e-02  4.97026835e-03 -2.82611679e-02\n",
      "   4.74544838e-02 -1.34923123e-02  3.10698226e-02  7.61785880e-02\n",
      "   2.82513332e-02 -1.00687914e-01  1.13535430e-02 -6.08423632e-03\n",
      "   3.67561616e-02  5.76806739e-02  1.22660957e-02 -1.48651237e-02\n",
      "   8.05185288e-02 -4.24040258e-02 -1.26372445e-02 -8.88731051e-03\n",
      "  -1.05531521e-01  1.38330683e-02  5.98980859e-02  7.31607378e-02\n",
      "  -6.69675916e-02  4.29920815e-02  6.71883225e-02  4.98016039e-03\n",
      "  -3.22315767e-02  5.83950151e-03 -8.81612077e-02 -3.72853689e-02\n",
      "  -6.67773336e-02  2.62312237e-02 -6.37694299e-02 -3.64427269e-02\n",
      "   1.12263840e-02  2.02560853e-02 -1.70837194e-02 -1.99740287e-02\n",
      "   3.43139172e-02 -4.57970873e-02  3.47102880e-02  4.08789143e-02\n",
      "  -1.86154619e-02  7.53430463e-03  2.15593316e-02 -6.38063299e-03\n",
      "   1.01572191e-02 -1.29850134e-02 -3.54494862e-02 -3.56929265e-02\n",
      "  -3.45491171e-02  4.70162816e-02 -6.94176927e-02  4.49287556e-02\n",
      "  -4.55480665e-02  1.96197275e-02 -2.29710713e-02  1.35336611e-02\n",
      "  -2.48609297e-02  4.44542393e-02 -1.87783111e-02  4.24334817e-02\n",
      "   2.50066235e-03  2.00882764e-03 -1.30468886e-02 -3.04359030e-02\n",
      "   3.53743881e-03 -5.68523891e-02 -3.86722274e-02 -5.97295873e-02\n",
      "  -4.17721383e-02 -4.09069844e-02 -5.47945499e-02 -1.27400300e-02\n",
      "  -6.04033098e-02  9.48588029e-02 -7.26250038e-02  2.27348581e-02\n",
      "   7.36484677e-03  5.81155866e-02  5.99061102e-02 -7.03969151e-02\n",
      "   6.53180340e-03  1.58164408e-02 -2.35385355e-02 -2.98520699e-02\n",
      "  -1.71230230e-02  3.83532569e-02  3.95404473e-02  7.87147507e-02\n",
      "  -3.92954685e-02 -1.18532116e-02  2.86653973e-02  4.49011512e-02\n",
      "   8.63893516e-03  9.48056281e-02 -2.69078016e-02  5.31326309e-02\n",
      "  -4.88201752e-02  1.30288303e-02 -6.52825460e-02 -7.67685175e-02\n",
      "  -2.47256570e-02  4.16780598e-02  1.58502329e-02  2.47585550e-02\n",
      "   7.74781108e-02 -3.42277288e-02  3.37350592e-02  7.64941871e-02\n",
      "  -2.96605993e-02 -7.01223835e-02  1.71597693e-02  2.93117650e-02\n",
      "  -2.75229453e-03 -3.44670936e-02 -1.31973643e-02 -9.36054289e-02\n",
      "   6.94540748e-03 -1.63055472e-02  4.77062631e-03 -2.96829250e-02\n",
      "  -1.15175489e-02 -6.16120035e-03 -3.06581403e-03 -9.67134833e-02\n",
      "   3.60190272e-02 -6.71933889e-02 -7.29823783e-02 -2.56332681e-02\n",
      "  -9.68619948e-04  3.88904512e-02 -4.63927761e-02 -3.19347717e-02\n",
      "   1.73372868e-02 -2.77684759e-02 -4.80485894e-02 -1.44783696e-02\n",
      "   6.26444444e-02 -4.30174870e-04  4.19151932e-02 -3.49237286e-02\n",
      "   1.93214193e-02 -7.72802085e-02 -2.08669621e-03  3.67873609e-02\n",
      "  -5.12741134e-02 -6.87616393e-02 -1.03275225e-01  2.07670573e-02\n",
      "   1.59133691e-02  1.39223691e-02  1.00851312e-01  1.58369392e-02\n",
      "   3.13817486e-02 -2.88807247e-02 -1.92694925e-02  4.00772877e-02\n",
      "   2.43705921e-02 -3.32101956e-02  1.11936545e-02  7.21231550e-02\n",
      "  -7.69811915e-03  3.18726450e-02 -2.84125619e-02  9.75843221e-02\n",
      "  -1.56802554e-02 -5.11665307e-02 -9.75142419e-03  4.40300303e-03\n",
      "   5.59462793e-03 -9.89509467e-03 -5.59256738e-03 -4.15799394e-02]]\n"
     ]
    }
   ],
   "source": [
    "sent = 'how many cups can i have in a day'\n",
    "Question = nltk_cleaning(sent)\n",
    "print(type(Question))\n",
    "print(Question)\n",
    "Question_tf = embed([Question])\n",
    "Question_tf = np.array(Question_tf)\n",
    "Question_tf= Question_tf.reshape(-1,512)\n",
    "print(Question_tf.shape)\n",
    "print(Question_tf)"
   ]
  },
  {
   "cell_type": "markdown",
   "metadata": {},
   "source": [
    "#### SAMPLE ANSWER"
   ]
  },
  {
   "cell_type": "code",
   "execution_count": 72,
   "metadata": {},
   "outputs": [
    {
     "data": {
      "text/plain": [
       "'On average, the regular person is safe drinking 3-5 cups of coffee a day. Ultimately, its up to you to understand how your body responds to coffee, and to judge when you shouldn’t have any more. If you respond well to large amounts of caffeine, and don’t become jittery or get stomach pain, then you can drink what you want, but if you know that drinking lots of coffee keeps you up at night and leads to headaches in the morning, cut down to 3 cups a day. Drinking more than 5 cups of coffee a day has been linked to a raise in cholesterol, so if you’re a heavy coffee drinker sticking to 5 is the recommended amount.'"
      ]
     },
     "execution_count": 72,
     "metadata": {},
     "output_type": "execute_result"
    }
   ],
   "source": [
    "cosine_value_tf = 1- pairwise_distances(match_frame, Question_tf, metric = 'cosine' )\n",
    "index_value = cosine_value_tf.argmax() \n",
    "answer = data['Text Response'].iloc[index_value]\n",
    "answer"
   ]
  },
  {
   "cell_type": "markdown",
   "metadata": {},
   "source": [
    "#### Parsing the Incoming Commands from Slack"
   ]
  },
  {
   "cell_type": "code",
   "execution_count": 73,
   "metadata": {},
   "outputs": [],
   "source": [
    "def parse_bot_commands(slack_events):\n",
    "    for event in slack_events:\n",
    "        if event[\"type\"] == \"message\" and not \"subtype\" in event:\n",
    "            message = event[\"text\"]\n",
    "            return message, event[\"channel\"], event['user']\n",
    "    return None, None, None\n"
   ]
  },
  {
   "cell_type": "markdown",
   "metadata": {},
   "source": [
    "#### How to interpret the incoming message from Slack and send appropriate responses\n",
    "####  Replace SLACK USER ID with the actual id's of all the user's who can have access to this cahtbot"
   ]
  },
  {
   "cell_type": "code",
   "execution_count": 74,
   "metadata": {},
   "outputs": [
    {
     "name": "stdout",
     "output_type": "stream",
     "text": [
      "Done\n"
     ]
    }
   ],
   "source": [
    "def handle_command(command, channel,user):\n",
    "    # Default response is help text for the user\n",
    "    accepted_users = ['<SLACK USER ID>']\n",
    "    ending_text = ['bye','done', 'thanks', 'exit', 'ok', 'x']\n",
    "    if user not in accepted_users:\n",
    "          response = \"Not an authorised user\"\n",
    "    elif command in ending_text:\n",
    "          response = \"Bye! Thanks for chatting\"\n",
    "    else:\n",
    "      try:\n",
    "        Question = nltk_cleaning(command)\n",
    "        print(type(Question))\n",
    "        print(Question)\n",
    "        Question_tf = embed([Question])\n",
    "        Question_tf = np.array(Question_tf)\n",
    "        Question_tf= Question_tf.reshape(-1,512) \n",
    "        cosine_value_tf = 1- pairwise_distances(match_frame, Question_tf, metric = 'cosine' )\n",
    "        index_value = cosine_value_tf.argmax() \n",
    "        response = data['Text Response'].iloc[index_value]\n",
    "      except:\n",
    "          response='Sorry, Not sure what you mean'\n",
    "        \n",
    "    \n",
    "\n",
    "    # Sends the response back to the channel\n",
    "    slack_clients.api_call(\n",
    "        \"chat.postMessage\",\n",
    "        type=\"divider\",\n",
    "        channel=channel,\n",
    "        #text=':coffee:'+':coffee:'+\"*\"+response+\"*\" + ':coffee:'+':coffee:',\n",
    "        attachments=[{\n",
    "        \"blocks\":[\n",
    "\t\t{\n",
    "\t\t\t\"type\": \"section\",\n",
    "\t\t\t\"block_id\": \"section567\",\n",
    "\t\t\t\"text\": {\n",
    "\t\t\t\t\"type\": \"mrkdwn\",\n",
    "\t\t\t\t\"text\": ':coffee:'+':coffee:'+\"*\"+response+\"*\" + ':coffee:'+':coffee:'\n",
    "\t\t\t},\n",
    "\t\t\t\"accessory\": {\n",
    "\t\t\t\t\"type\": \"image\",\n",
    "\t\t\t\t\"image_url\": \"https://png.pngtree.com/png-clipart/20190903/original/pngtree-yellow-woven-bag-of-coffee-beans-png-image_4418658.jpg\",\n",
    "\t\t\t\t\"alt_text\": \"Haunted hotel image\"\n",
    "\t\t\t}}\n",
    "\t\t]}]\n",
    "    )\n",
    "\n",
    "##Running the application\n",
    "print(\"Done\")"
   ]
  },
  {
   "cell_type": "code",
   "execution_count": null,
   "metadata": {},
   "outputs": [
    {
     "name": "stdout",
     "output_type": "stream",
     "text": [
      "Starter Bot connected and running!\n"
     ]
    }
   ],
   "source": [
    "# constants\n",
    "RTM_READ_DELAY = 1 # 1 second delay between reading from RTM\n",
    "if __name__ == \"__main__\":\n",
    "    if slack_clients.rtm_connect(with_team_state=False):\n",
    "        print(\"Starter Bot connected and running!\")\n",
    "        # Read bot's user ID by calling Web API method `auth.test`\n",
    "        starterbot_id = slack_clients.api_call(\"auth.test\")[\"user_id\"]\n",
    "        while True:\n",
    "            command, channel, user = parse_bot_commands(slack_clients.rtm_read())\n",
    "            if command == 'shutdownthebot':\n",
    "                break\n",
    "            else:\n",
    "               if command is None:\n",
    "                  continue\n",
    "               else:\n",
    "                  handle_command(command, channel, user)\n",
    "            time.sleep(RTM_READ_DELAY)\n",
    "    else:\n",
    "        print(\"Connection failed. Exception traceback printed above.\")"
   ]
  },
  {
   "cell_type": "code",
   "execution_count": null,
   "metadata": {},
   "outputs": [],
   "source": []
  },
  {
   "cell_type": "code",
   "execution_count": null,
   "metadata": {},
   "outputs": [],
   "source": []
  }
 ],
 "metadata": {
  "kernelspec": {
   "display_name": "Python 3.7.3 64-bit",
   "language": "python",
   "name": "python37364bit2b8427184f3a4d4aa3afd1d3859411ec"
  }
 },
 "nbformat": 4,
 "nbformat_minor": 2
}
