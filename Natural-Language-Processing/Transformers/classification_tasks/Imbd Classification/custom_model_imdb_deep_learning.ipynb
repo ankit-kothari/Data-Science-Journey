{
  "nbformat": 4,
  "nbformat_minor": 0,
  "metadata": {
    "colab": {
      "name": "custom_model_imdb_deep_learning.ipynb",
      "provenance": [],
      "collapsed_sections": [],
      "machine_shape": "hm",
      "toc_visible": true,
      "authorship_tag": "ABX9TyMZmFDuf4n5VXaeaz9y3iLG",
      "include_colab_link": true
    },
    "kernelspec": {
      "name": "python3",
      "display_name": "Python 3"
    },
    "language_info": {
      "name": "python"
    },
    "accelerator": "GPU",
    "gpuClass": "standard",
    "widgets": {
      "application/vnd.jupyter.widget-state+json": {
        "e5b6d376c1cb4ea0b6ef3b59e20833d2": {
          "model_module": "@jupyter-widgets/controls",
          "model_name": "HBoxModel",
          "model_module_version": "1.5.0",
          "state": {
            "_dom_classes": [],
            "_model_module": "@jupyter-widgets/controls",
            "_model_module_version": "1.5.0",
            "_model_name": "HBoxModel",
            "_view_count": null,
            "_view_module": "@jupyter-widgets/controls",
            "_view_module_version": "1.5.0",
            "_view_name": "HBoxView",
            "box_style": "",
            "children": [
              "IPY_MODEL_a0d93df590694f8788c3e81cc8e01477",
              "IPY_MODEL_6622db406af64668a82ff00cfa8a42ea",
              "IPY_MODEL_3789392ff0d64dc2977f7dc5fae3d0c8"
            ],
            "layout": "IPY_MODEL_5bf603e7c07043ec833c9d7f47eceb07"
          }
        },
        "a0d93df590694f8788c3e81cc8e01477": {
          "model_module": "@jupyter-widgets/controls",
          "model_name": "HTMLModel",
          "model_module_version": "1.5.0",
          "state": {
            "_dom_classes": [],
            "_model_module": "@jupyter-widgets/controls",
            "_model_module_version": "1.5.0",
            "_model_name": "HTMLModel",
            "_view_count": null,
            "_view_module": "@jupyter-widgets/controls",
            "_view_module_version": "1.5.0",
            "_view_name": "HTMLView",
            "description": "",
            "description_tooltip": null,
            "layout": "IPY_MODEL_bd8cd0c2aa494a15b0573a00fa56ca5c",
            "placeholder": "​",
            "style": "IPY_MODEL_c8c679cbc4154e719df7237209d91d0c",
            "value": "100%"
          }
        },
        "6622db406af64668a82ff00cfa8a42ea": {
          "model_module": "@jupyter-widgets/controls",
          "model_name": "FloatProgressModel",
          "model_module_version": "1.5.0",
          "state": {
            "_dom_classes": [],
            "_model_module": "@jupyter-widgets/controls",
            "_model_module_version": "1.5.0",
            "_model_name": "FloatProgressModel",
            "_view_count": null,
            "_view_module": "@jupyter-widgets/controls",
            "_view_module_version": "1.5.0",
            "_view_name": "ProgressView",
            "bar_style": "success",
            "description": "",
            "description_tooltip": null,
            "layout": "IPY_MODEL_53ab9e63ab6b4f84aa9c135e6429d9df",
            "max": 3,
            "min": 0,
            "orientation": "horizontal",
            "style": "IPY_MODEL_91c094420a884e369b8a6232e8822e90",
            "value": 3
          }
        },
        "3789392ff0d64dc2977f7dc5fae3d0c8": {
          "model_module": "@jupyter-widgets/controls",
          "model_name": "HTMLModel",
          "model_module_version": "1.5.0",
          "state": {
            "_dom_classes": [],
            "_model_module": "@jupyter-widgets/controls",
            "_model_module_version": "1.5.0",
            "_model_name": "HTMLModel",
            "_view_count": null,
            "_view_module": "@jupyter-widgets/controls",
            "_view_module_version": "1.5.0",
            "_view_name": "HTMLView",
            "description": "",
            "description_tooltip": null,
            "layout": "IPY_MODEL_76fb8820f19447a484fb183ff02020da",
            "placeholder": "​",
            "style": "IPY_MODEL_1929ed07e95c41678c1437102041b5b8",
            "value": " 3/3 [00:00&lt;00:00, 91.21it/s]"
          }
        },
        "5bf603e7c07043ec833c9d7f47eceb07": {
          "model_module": "@jupyter-widgets/base",
          "model_name": "LayoutModel",
          "model_module_version": "1.2.0",
          "state": {
            "_model_module": "@jupyter-widgets/base",
            "_model_module_version": "1.2.0",
            "_model_name": "LayoutModel",
            "_view_count": null,
            "_view_module": "@jupyter-widgets/base",
            "_view_module_version": "1.2.0",
            "_view_name": "LayoutView",
            "align_content": null,
            "align_items": null,
            "align_self": null,
            "border": null,
            "bottom": null,
            "display": null,
            "flex": null,
            "flex_flow": null,
            "grid_area": null,
            "grid_auto_columns": null,
            "grid_auto_flow": null,
            "grid_auto_rows": null,
            "grid_column": null,
            "grid_gap": null,
            "grid_row": null,
            "grid_template_areas": null,
            "grid_template_columns": null,
            "grid_template_rows": null,
            "height": null,
            "justify_content": null,
            "justify_items": null,
            "left": null,
            "margin": null,
            "max_height": null,
            "max_width": null,
            "min_height": null,
            "min_width": null,
            "object_fit": null,
            "object_position": null,
            "order": null,
            "overflow": null,
            "overflow_x": null,
            "overflow_y": null,
            "padding": null,
            "right": null,
            "top": null,
            "visibility": null,
            "width": null
          }
        },
        "bd8cd0c2aa494a15b0573a00fa56ca5c": {
          "model_module": "@jupyter-widgets/base",
          "model_name": "LayoutModel",
          "model_module_version": "1.2.0",
          "state": {
            "_model_module": "@jupyter-widgets/base",
            "_model_module_version": "1.2.0",
            "_model_name": "LayoutModel",
            "_view_count": null,
            "_view_module": "@jupyter-widgets/base",
            "_view_module_version": "1.2.0",
            "_view_name": "LayoutView",
            "align_content": null,
            "align_items": null,
            "align_self": null,
            "border": null,
            "bottom": null,
            "display": null,
            "flex": null,
            "flex_flow": null,
            "grid_area": null,
            "grid_auto_columns": null,
            "grid_auto_flow": null,
            "grid_auto_rows": null,
            "grid_column": null,
            "grid_gap": null,
            "grid_row": null,
            "grid_template_areas": null,
            "grid_template_columns": null,
            "grid_template_rows": null,
            "height": null,
            "justify_content": null,
            "justify_items": null,
            "left": null,
            "margin": null,
            "max_height": null,
            "max_width": null,
            "min_height": null,
            "min_width": null,
            "object_fit": null,
            "object_position": null,
            "order": null,
            "overflow": null,
            "overflow_x": null,
            "overflow_y": null,
            "padding": null,
            "right": null,
            "top": null,
            "visibility": null,
            "width": null
          }
        },
        "c8c679cbc4154e719df7237209d91d0c": {
          "model_module": "@jupyter-widgets/controls",
          "model_name": "DescriptionStyleModel",
          "model_module_version": "1.5.0",
          "state": {
            "_model_module": "@jupyter-widgets/controls",
            "_model_module_version": "1.5.0",
            "_model_name": "DescriptionStyleModel",
            "_view_count": null,
            "_view_module": "@jupyter-widgets/base",
            "_view_module_version": "1.2.0",
            "_view_name": "StyleView",
            "description_width": ""
          }
        },
        "53ab9e63ab6b4f84aa9c135e6429d9df": {
          "model_module": "@jupyter-widgets/base",
          "model_name": "LayoutModel",
          "model_module_version": "1.2.0",
          "state": {
            "_model_module": "@jupyter-widgets/base",
            "_model_module_version": "1.2.0",
            "_model_name": "LayoutModel",
            "_view_count": null,
            "_view_module": "@jupyter-widgets/base",
            "_view_module_version": "1.2.0",
            "_view_name": "LayoutView",
            "align_content": null,
            "align_items": null,
            "align_self": null,
            "border": null,
            "bottom": null,
            "display": null,
            "flex": null,
            "flex_flow": null,
            "grid_area": null,
            "grid_auto_columns": null,
            "grid_auto_flow": null,
            "grid_auto_rows": null,
            "grid_column": null,
            "grid_gap": null,
            "grid_row": null,
            "grid_template_areas": null,
            "grid_template_columns": null,
            "grid_template_rows": null,
            "height": null,
            "justify_content": null,
            "justify_items": null,
            "left": null,
            "margin": null,
            "max_height": null,
            "max_width": null,
            "min_height": null,
            "min_width": null,
            "object_fit": null,
            "object_position": null,
            "order": null,
            "overflow": null,
            "overflow_x": null,
            "overflow_y": null,
            "padding": null,
            "right": null,
            "top": null,
            "visibility": null,
            "width": null
          }
        },
        "91c094420a884e369b8a6232e8822e90": {
          "model_module": "@jupyter-widgets/controls",
          "model_name": "ProgressStyleModel",
          "model_module_version": "1.5.0",
          "state": {
            "_model_module": "@jupyter-widgets/controls",
            "_model_module_version": "1.5.0",
            "_model_name": "ProgressStyleModel",
            "_view_count": null,
            "_view_module": "@jupyter-widgets/base",
            "_view_module_version": "1.2.0",
            "_view_name": "StyleView",
            "bar_color": null,
            "description_width": ""
          }
        },
        "76fb8820f19447a484fb183ff02020da": {
          "model_module": "@jupyter-widgets/base",
          "model_name": "LayoutModel",
          "model_module_version": "1.2.0",
          "state": {
            "_model_module": "@jupyter-widgets/base",
            "_model_module_version": "1.2.0",
            "_model_name": "LayoutModel",
            "_view_count": null,
            "_view_module": "@jupyter-widgets/base",
            "_view_module_version": "1.2.0",
            "_view_name": "LayoutView",
            "align_content": null,
            "align_items": null,
            "align_self": null,
            "border": null,
            "bottom": null,
            "display": null,
            "flex": null,
            "flex_flow": null,
            "grid_area": null,
            "grid_auto_columns": null,
            "grid_auto_flow": null,
            "grid_auto_rows": null,
            "grid_column": null,
            "grid_gap": null,
            "grid_row": null,
            "grid_template_areas": null,
            "grid_template_columns": null,
            "grid_template_rows": null,
            "height": null,
            "justify_content": null,
            "justify_items": null,
            "left": null,
            "margin": null,
            "max_height": null,
            "max_width": null,
            "min_height": null,
            "min_width": null,
            "object_fit": null,
            "object_position": null,
            "order": null,
            "overflow": null,
            "overflow_x": null,
            "overflow_y": null,
            "padding": null,
            "right": null,
            "top": null,
            "visibility": null,
            "width": null
          }
        },
        "1929ed07e95c41678c1437102041b5b8": {
          "model_module": "@jupyter-widgets/controls",
          "model_name": "DescriptionStyleModel",
          "model_module_version": "1.5.0",
          "state": {
            "_model_module": "@jupyter-widgets/controls",
            "_model_module_version": "1.5.0",
            "_model_name": "DescriptionStyleModel",
            "_view_count": null,
            "_view_module": "@jupyter-widgets/base",
            "_view_module_version": "1.2.0",
            "_view_name": "StyleView",
            "description_width": ""
          }
        },
        "ae2c5ad13b8445c1b106fa6b333d83f4": {
          "model_module": "@jupyter-widgets/controls",
          "model_name": "HBoxModel",
          "model_module_version": "1.5.0",
          "state": {
            "_dom_classes": [],
            "_model_module": "@jupyter-widgets/controls",
            "_model_module_version": "1.5.0",
            "_model_name": "HBoxModel",
            "_view_count": null,
            "_view_module": "@jupyter-widgets/controls",
            "_view_module_version": "1.5.0",
            "_view_name": "HBoxView",
            "box_style": "",
            "children": [
              "IPY_MODEL_fa01440fc0e14cd892cca45425e18aee",
              "IPY_MODEL_84388f6596d240da8dc2bf174c9d59fd",
              "IPY_MODEL_806b1ee254634682b5ce477932f6c374"
            ],
            "layout": "IPY_MODEL_d489d863a9e94236bc15dbd82de3652b"
          }
        },
        "fa01440fc0e14cd892cca45425e18aee": {
          "model_module": "@jupyter-widgets/controls",
          "model_name": "HTMLModel",
          "model_module_version": "1.5.0",
          "state": {
            "_dom_classes": [],
            "_model_module": "@jupyter-widgets/controls",
            "_model_module_version": "1.5.0",
            "_model_name": "HTMLModel",
            "_view_count": null,
            "_view_module": "@jupyter-widgets/controls",
            "_view_module_version": "1.5.0",
            "_view_name": "HTMLView",
            "description": "",
            "description_tooltip": null,
            "layout": "IPY_MODEL_88ba8c033dde4e1183808b6d8f8a59fd",
            "placeholder": "​",
            "style": "IPY_MODEL_f6b30b7e362f47bbae6c58e8a63a483b",
            "value": "100%"
          }
        },
        "84388f6596d240da8dc2bf174c9d59fd": {
          "model_module": "@jupyter-widgets/controls",
          "model_name": "FloatProgressModel",
          "model_module_version": "1.5.0",
          "state": {
            "_dom_classes": [],
            "_model_module": "@jupyter-widgets/controls",
            "_model_module_version": "1.5.0",
            "_model_name": "FloatProgressModel",
            "_view_count": null,
            "_view_module": "@jupyter-widgets/controls",
            "_view_module_version": "1.5.0",
            "_view_name": "ProgressView",
            "bar_style": "success",
            "description": "",
            "description_tooltip": null,
            "layout": "IPY_MODEL_1dc7f46a9e0d4da79664a37ac9d4014e",
            "max": 25,
            "min": 0,
            "orientation": "horizontal",
            "style": "IPY_MODEL_69e56c42f07e46579658035a853449c8",
            "value": 25
          }
        },
        "806b1ee254634682b5ce477932f6c374": {
          "model_module": "@jupyter-widgets/controls",
          "model_name": "HTMLModel",
          "model_module_version": "1.5.0",
          "state": {
            "_dom_classes": [],
            "_model_module": "@jupyter-widgets/controls",
            "_model_module_version": "1.5.0",
            "_model_name": "HTMLModel",
            "_view_count": null,
            "_view_module": "@jupyter-widgets/controls",
            "_view_module_version": "1.5.0",
            "_view_name": "HTMLView",
            "description": "",
            "description_tooltip": null,
            "layout": "IPY_MODEL_44b09a831a2c4301b772d4160b2838a9",
            "placeholder": "​",
            "style": "IPY_MODEL_be31053d1a614f5c953772a3d6490b93",
            "value": " 25/25 [00:08&lt;00:00,  2.70ba/s]"
          }
        },
        "d489d863a9e94236bc15dbd82de3652b": {
          "model_module": "@jupyter-widgets/base",
          "model_name": "LayoutModel",
          "model_module_version": "1.2.0",
          "state": {
            "_model_module": "@jupyter-widgets/base",
            "_model_module_version": "1.2.0",
            "_model_name": "LayoutModel",
            "_view_count": null,
            "_view_module": "@jupyter-widgets/base",
            "_view_module_version": "1.2.0",
            "_view_name": "LayoutView",
            "align_content": null,
            "align_items": null,
            "align_self": null,
            "border": null,
            "bottom": null,
            "display": null,
            "flex": null,
            "flex_flow": null,
            "grid_area": null,
            "grid_auto_columns": null,
            "grid_auto_flow": null,
            "grid_auto_rows": null,
            "grid_column": null,
            "grid_gap": null,
            "grid_row": null,
            "grid_template_areas": null,
            "grid_template_columns": null,
            "grid_template_rows": null,
            "height": null,
            "justify_content": null,
            "justify_items": null,
            "left": null,
            "margin": null,
            "max_height": null,
            "max_width": null,
            "min_height": null,
            "min_width": null,
            "object_fit": null,
            "object_position": null,
            "order": null,
            "overflow": null,
            "overflow_x": null,
            "overflow_y": null,
            "padding": null,
            "right": null,
            "top": null,
            "visibility": null,
            "width": null
          }
        },
        "88ba8c033dde4e1183808b6d8f8a59fd": {
          "model_module": "@jupyter-widgets/base",
          "model_name": "LayoutModel",
          "model_module_version": "1.2.0",
          "state": {
            "_model_module": "@jupyter-widgets/base",
            "_model_module_version": "1.2.0",
            "_model_name": "LayoutModel",
            "_view_count": null,
            "_view_module": "@jupyter-widgets/base",
            "_view_module_version": "1.2.0",
            "_view_name": "LayoutView",
            "align_content": null,
            "align_items": null,
            "align_self": null,
            "border": null,
            "bottom": null,
            "display": null,
            "flex": null,
            "flex_flow": null,
            "grid_area": null,
            "grid_auto_columns": null,
            "grid_auto_flow": null,
            "grid_auto_rows": null,
            "grid_column": null,
            "grid_gap": null,
            "grid_row": null,
            "grid_template_areas": null,
            "grid_template_columns": null,
            "grid_template_rows": null,
            "height": null,
            "justify_content": null,
            "justify_items": null,
            "left": null,
            "margin": null,
            "max_height": null,
            "max_width": null,
            "min_height": null,
            "min_width": null,
            "object_fit": null,
            "object_position": null,
            "order": null,
            "overflow": null,
            "overflow_x": null,
            "overflow_y": null,
            "padding": null,
            "right": null,
            "top": null,
            "visibility": null,
            "width": null
          }
        },
        "f6b30b7e362f47bbae6c58e8a63a483b": {
          "model_module": "@jupyter-widgets/controls",
          "model_name": "DescriptionStyleModel",
          "model_module_version": "1.5.0",
          "state": {
            "_model_module": "@jupyter-widgets/controls",
            "_model_module_version": "1.5.0",
            "_model_name": "DescriptionStyleModel",
            "_view_count": null,
            "_view_module": "@jupyter-widgets/base",
            "_view_module_version": "1.2.0",
            "_view_name": "StyleView",
            "description_width": ""
          }
        },
        "1dc7f46a9e0d4da79664a37ac9d4014e": {
          "model_module": "@jupyter-widgets/base",
          "model_name": "LayoutModel",
          "model_module_version": "1.2.0",
          "state": {
            "_model_module": "@jupyter-widgets/base",
            "_model_module_version": "1.2.0",
            "_model_name": "LayoutModel",
            "_view_count": null,
            "_view_module": "@jupyter-widgets/base",
            "_view_module_version": "1.2.0",
            "_view_name": "LayoutView",
            "align_content": null,
            "align_items": null,
            "align_self": null,
            "border": null,
            "bottom": null,
            "display": null,
            "flex": null,
            "flex_flow": null,
            "grid_area": null,
            "grid_auto_columns": null,
            "grid_auto_flow": null,
            "grid_auto_rows": null,
            "grid_column": null,
            "grid_gap": null,
            "grid_row": null,
            "grid_template_areas": null,
            "grid_template_columns": null,
            "grid_template_rows": null,
            "height": null,
            "justify_content": null,
            "justify_items": null,
            "left": null,
            "margin": null,
            "max_height": null,
            "max_width": null,
            "min_height": null,
            "min_width": null,
            "object_fit": null,
            "object_position": null,
            "order": null,
            "overflow": null,
            "overflow_x": null,
            "overflow_y": null,
            "padding": null,
            "right": null,
            "top": null,
            "visibility": null,
            "width": null
          }
        },
        "69e56c42f07e46579658035a853449c8": {
          "model_module": "@jupyter-widgets/controls",
          "model_name": "ProgressStyleModel",
          "model_module_version": "1.5.0",
          "state": {
            "_model_module": "@jupyter-widgets/controls",
            "_model_module_version": "1.5.0",
            "_model_name": "ProgressStyleModel",
            "_view_count": null,
            "_view_module": "@jupyter-widgets/base",
            "_view_module_version": "1.2.0",
            "_view_name": "StyleView",
            "bar_color": null,
            "description_width": ""
          }
        },
        "44b09a831a2c4301b772d4160b2838a9": {
          "model_module": "@jupyter-widgets/base",
          "model_name": "LayoutModel",
          "model_module_version": "1.2.0",
          "state": {
            "_model_module": "@jupyter-widgets/base",
            "_model_module_version": "1.2.0",
            "_model_name": "LayoutModel",
            "_view_count": null,
            "_view_module": "@jupyter-widgets/base",
            "_view_module_version": "1.2.0",
            "_view_name": "LayoutView",
            "align_content": null,
            "align_items": null,
            "align_self": null,
            "border": null,
            "bottom": null,
            "display": null,
            "flex": null,
            "flex_flow": null,
            "grid_area": null,
            "grid_auto_columns": null,
            "grid_auto_flow": null,
            "grid_auto_rows": null,
            "grid_column": null,
            "grid_gap": null,
            "grid_row": null,
            "grid_template_areas": null,
            "grid_template_columns": null,
            "grid_template_rows": null,
            "height": null,
            "justify_content": null,
            "justify_items": null,
            "left": null,
            "margin": null,
            "max_height": null,
            "max_width": null,
            "min_height": null,
            "min_width": null,
            "object_fit": null,
            "object_position": null,
            "order": null,
            "overflow": null,
            "overflow_x": null,
            "overflow_y": null,
            "padding": null,
            "right": null,
            "top": null,
            "visibility": null,
            "width": null
          }
        },
        "be31053d1a614f5c953772a3d6490b93": {
          "model_module": "@jupyter-widgets/controls",
          "model_name": "DescriptionStyleModel",
          "model_module_version": "1.5.0",
          "state": {
            "_model_module": "@jupyter-widgets/controls",
            "_model_module_version": "1.5.0",
            "_model_name": "DescriptionStyleModel",
            "_view_count": null,
            "_view_module": "@jupyter-widgets/base",
            "_view_module_version": "1.2.0",
            "_view_name": "StyleView",
            "description_width": ""
          }
        },
        "4e62015aa1bf43c2af38a143d36eedff": {
          "model_module": "@jupyter-widgets/controls",
          "model_name": "HBoxModel",
          "model_module_version": "1.5.0",
          "state": {
            "_dom_classes": [],
            "_model_module": "@jupyter-widgets/controls",
            "_model_module_version": "1.5.0",
            "_model_name": "HBoxModel",
            "_view_count": null,
            "_view_module": "@jupyter-widgets/controls",
            "_view_module_version": "1.5.0",
            "_view_name": "HBoxView",
            "box_style": "",
            "children": [
              "IPY_MODEL_0bb4db8002ac4903bf385d10b73c046d",
              "IPY_MODEL_7e84d02e33904716ae245a54fff4818c",
              "IPY_MODEL_20a210e812914d958344740264f62392"
            ],
            "layout": "IPY_MODEL_4e50d37547ff48228f7bb6894957d19b"
          }
        },
        "0bb4db8002ac4903bf385d10b73c046d": {
          "model_module": "@jupyter-widgets/controls",
          "model_name": "HTMLModel",
          "model_module_version": "1.5.0",
          "state": {
            "_dom_classes": [],
            "_model_module": "@jupyter-widgets/controls",
            "_model_module_version": "1.5.0",
            "_model_name": "HTMLModel",
            "_view_count": null,
            "_view_module": "@jupyter-widgets/controls",
            "_view_module_version": "1.5.0",
            "_view_name": "HTMLView",
            "description": "",
            "description_tooltip": null,
            "layout": "IPY_MODEL_ad08596b32064fe3863673761c476e14",
            "placeholder": "​",
            "style": "IPY_MODEL_759935c6b6684745ac541e0bd79f4b34",
            "value": "100%"
          }
        },
        "7e84d02e33904716ae245a54fff4818c": {
          "model_module": "@jupyter-widgets/controls",
          "model_name": "FloatProgressModel",
          "model_module_version": "1.5.0",
          "state": {
            "_dom_classes": [],
            "_model_module": "@jupyter-widgets/controls",
            "_model_module_version": "1.5.0",
            "_model_name": "FloatProgressModel",
            "_view_count": null,
            "_view_module": "@jupyter-widgets/controls",
            "_view_module_version": "1.5.0",
            "_view_name": "ProgressView",
            "bar_style": "success",
            "description": "",
            "description_tooltip": null,
            "layout": "IPY_MODEL_81fae68069cf4532a813c3bc45282189",
            "max": 25,
            "min": 0,
            "orientation": "horizontal",
            "style": "IPY_MODEL_fd09a1de0dfb4eca964c863c77f98a0b",
            "value": 25
          }
        },
        "20a210e812914d958344740264f62392": {
          "model_module": "@jupyter-widgets/controls",
          "model_name": "HTMLModel",
          "model_module_version": "1.5.0",
          "state": {
            "_dom_classes": [],
            "_model_module": "@jupyter-widgets/controls",
            "_model_module_version": "1.5.0",
            "_model_name": "HTMLModel",
            "_view_count": null,
            "_view_module": "@jupyter-widgets/controls",
            "_view_module_version": "1.5.0",
            "_view_name": "HTMLView",
            "description": "",
            "description_tooltip": null,
            "layout": "IPY_MODEL_c333681fa65f4921b0ab0ee00d8eedde",
            "placeholder": "​",
            "style": "IPY_MODEL_3fd2ae9e312d417ba8a5743c3ddb2b08",
            "value": " 25/25 [00:08&lt;00:00,  3.34ba/s]"
          }
        },
        "4e50d37547ff48228f7bb6894957d19b": {
          "model_module": "@jupyter-widgets/base",
          "model_name": "LayoutModel",
          "model_module_version": "1.2.0",
          "state": {
            "_model_module": "@jupyter-widgets/base",
            "_model_module_version": "1.2.0",
            "_model_name": "LayoutModel",
            "_view_count": null,
            "_view_module": "@jupyter-widgets/base",
            "_view_module_version": "1.2.0",
            "_view_name": "LayoutView",
            "align_content": null,
            "align_items": null,
            "align_self": null,
            "border": null,
            "bottom": null,
            "display": null,
            "flex": null,
            "flex_flow": null,
            "grid_area": null,
            "grid_auto_columns": null,
            "grid_auto_flow": null,
            "grid_auto_rows": null,
            "grid_column": null,
            "grid_gap": null,
            "grid_row": null,
            "grid_template_areas": null,
            "grid_template_columns": null,
            "grid_template_rows": null,
            "height": null,
            "justify_content": null,
            "justify_items": null,
            "left": null,
            "margin": null,
            "max_height": null,
            "max_width": null,
            "min_height": null,
            "min_width": null,
            "object_fit": null,
            "object_position": null,
            "order": null,
            "overflow": null,
            "overflow_x": null,
            "overflow_y": null,
            "padding": null,
            "right": null,
            "top": null,
            "visibility": null,
            "width": null
          }
        },
        "ad08596b32064fe3863673761c476e14": {
          "model_module": "@jupyter-widgets/base",
          "model_name": "LayoutModel",
          "model_module_version": "1.2.0",
          "state": {
            "_model_module": "@jupyter-widgets/base",
            "_model_module_version": "1.2.0",
            "_model_name": "LayoutModel",
            "_view_count": null,
            "_view_module": "@jupyter-widgets/base",
            "_view_module_version": "1.2.0",
            "_view_name": "LayoutView",
            "align_content": null,
            "align_items": null,
            "align_self": null,
            "border": null,
            "bottom": null,
            "display": null,
            "flex": null,
            "flex_flow": null,
            "grid_area": null,
            "grid_auto_columns": null,
            "grid_auto_flow": null,
            "grid_auto_rows": null,
            "grid_column": null,
            "grid_gap": null,
            "grid_row": null,
            "grid_template_areas": null,
            "grid_template_columns": null,
            "grid_template_rows": null,
            "height": null,
            "justify_content": null,
            "justify_items": null,
            "left": null,
            "margin": null,
            "max_height": null,
            "max_width": null,
            "min_height": null,
            "min_width": null,
            "object_fit": null,
            "object_position": null,
            "order": null,
            "overflow": null,
            "overflow_x": null,
            "overflow_y": null,
            "padding": null,
            "right": null,
            "top": null,
            "visibility": null,
            "width": null
          }
        },
        "759935c6b6684745ac541e0bd79f4b34": {
          "model_module": "@jupyter-widgets/controls",
          "model_name": "DescriptionStyleModel",
          "model_module_version": "1.5.0",
          "state": {
            "_model_module": "@jupyter-widgets/controls",
            "_model_module_version": "1.5.0",
            "_model_name": "DescriptionStyleModel",
            "_view_count": null,
            "_view_module": "@jupyter-widgets/base",
            "_view_module_version": "1.2.0",
            "_view_name": "StyleView",
            "description_width": ""
          }
        },
        "81fae68069cf4532a813c3bc45282189": {
          "model_module": "@jupyter-widgets/base",
          "model_name": "LayoutModel",
          "model_module_version": "1.2.0",
          "state": {
            "_model_module": "@jupyter-widgets/base",
            "_model_module_version": "1.2.0",
            "_model_name": "LayoutModel",
            "_view_count": null,
            "_view_module": "@jupyter-widgets/base",
            "_view_module_version": "1.2.0",
            "_view_name": "LayoutView",
            "align_content": null,
            "align_items": null,
            "align_self": null,
            "border": null,
            "bottom": null,
            "display": null,
            "flex": null,
            "flex_flow": null,
            "grid_area": null,
            "grid_auto_columns": null,
            "grid_auto_flow": null,
            "grid_auto_rows": null,
            "grid_column": null,
            "grid_gap": null,
            "grid_row": null,
            "grid_template_areas": null,
            "grid_template_columns": null,
            "grid_template_rows": null,
            "height": null,
            "justify_content": null,
            "justify_items": null,
            "left": null,
            "margin": null,
            "max_height": null,
            "max_width": null,
            "min_height": null,
            "min_width": null,
            "object_fit": null,
            "object_position": null,
            "order": null,
            "overflow": null,
            "overflow_x": null,
            "overflow_y": null,
            "padding": null,
            "right": null,
            "top": null,
            "visibility": null,
            "width": null
          }
        },
        "fd09a1de0dfb4eca964c863c77f98a0b": {
          "model_module": "@jupyter-widgets/controls",
          "model_name": "ProgressStyleModel",
          "model_module_version": "1.5.0",
          "state": {
            "_model_module": "@jupyter-widgets/controls",
            "_model_module_version": "1.5.0",
            "_model_name": "ProgressStyleModel",
            "_view_count": null,
            "_view_module": "@jupyter-widgets/base",
            "_view_module_version": "1.2.0",
            "_view_name": "StyleView",
            "bar_color": null,
            "description_width": ""
          }
        },
        "c333681fa65f4921b0ab0ee00d8eedde": {
          "model_module": "@jupyter-widgets/base",
          "model_name": "LayoutModel",
          "model_module_version": "1.2.0",
          "state": {
            "_model_module": "@jupyter-widgets/base",
            "_model_module_version": "1.2.0",
            "_model_name": "LayoutModel",
            "_view_count": null,
            "_view_module": "@jupyter-widgets/base",
            "_view_module_version": "1.2.0",
            "_view_name": "LayoutView",
            "align_content": null,
            "align_items": null,
            "align_self": null,
            "border": null,
            "bottom": null,
            "display": null,
            "flex": null,
            "flex_flow": null,
            "grid_area": null,
            "grid_auto_columns": null,
            "grid_auto_flow": null,
            "grid_auto_rows": null,
            "grid_column": null,
            "grid_gap": null,
            "grid_row": null,
            "grid_template_areas": null,
            "grid_template_columns": null,
            "grid_template_rows": null,
            "height": null,
            "justify_content": null,
            "justify_items": null,
            "left": null,
            "margin": null,
            "max_height": null,
            "max_width": null,
            "min_height": null,
            "min_width": null,
            "object_fit": null,
            "object_position": null,
            "order": null,
            "overflow": null,
            "overflow_x": null,
            "overflow_y": null,
            "padding": null,
            "right": null,
            "top": null,
            "visibility": null,
            "width": null
          }
        },
        "3fd2ae9e312d417ba8a5743c3ddb2b08": {
          "model_module": "@jupyter-widgets/controls",
          "model_name": "DescriptionStyleModel",
          "model_module_version": "1.5.0",
          "state": {
            "_model_module": "@jupyter-widgets/controls",
            "_model_module_version": "1.5.0",
            "_model_name": "DescriptionStyleModel",
            "_view_count": null,
            "_view_module": "@jupyter-widgets/base",
            "_view_module_version": "1.2.0",
            "_view_name": "StyleView",
            "description_width": ""
          }
        },
        "14ef1394ce6642faab95e669c451b354": {
          "model_module": "@jupyter-widgets/controls",
          "model_name": "HBoxModel",
          "model_module_version": "1.5.0",
          "state": {
            "_dom_classes": [],
            "_model_module": "@jupyter-widgets/controls",
            "_model_module_version": "1.5.0",
            "_model_name": "HBoxModel",
            "_view_count": null,
            "_view_module": "@jupyter-widgets/controls",
            "_view_module_version": "1.5.0",
            "_view_name": "HBoxView",
            "box_style": "",
            "children": [
              "IPY_MODEL_35a4c64f3f37482680b58a82955e0aa6",
              "IPY_MODEL_8fc560636c3f42888c4cc80a06e9b0f1",
              "IPY_MODEL_f8009bb9303a45eb93a67beef2195fa5"
            ],
            "layout": "IPY_MODEL_103ca3b74c4340fcb50eab37a4267fa3"
          }
        },
        "35a4c64f3f37482680b58a82955e0aa6": {
          "model_module": "@jupyter-widgets/controls",
          "model_name": "HTMLModel",
          "model_module_version": "1.5.0",
          "state": {
            "_dom_classes": [],
            "_model_module": "@jupyter-widgets/controls",
            "_model_module_version": "1.5.0",
            "_model_name": "HTMLModel",
            "_view_count": null,
            "_view_module": "@jupyter-widgets/controls",
            "_view_module_version": "1.5.0",
            "_view_name": "HTMLView",
            "description": "",
            "description_tooltip": null,
            "layout": "IPY_MODEL_fbc604bc7efb458aaafeac2e51cf3cf5",
            "placeholder": "​",
            "style": "IPY_MODEL_48c3aec4d5ee4af1bb21539724da8b03",
            "value": "100%"
          }
        },
        "8fc560636c3f42888c4cc80a06e9b0f1": {
          "model_module": "@jupyter-widgets/controls",
          "model_name": "FloatProgressModel",
          "model_module_version": "1.5.0",
          "state": {
            "_dom_classes": [],
            "_model_module": "@jupyter-widgets/controls",
            "_model_module_version": "1.5.0",
            "_model_name": "FloatProgressModel",
            "_view_count": null,
            "_view_module": "@jupyter-widgets/controls",
            "_view_module_version": "1.5.0",
            "_view_name": "ProgressView",
            "bar_style": "success",
            "description": "",
            "description_tooltip": null,
            "layout": "IPY_MODEL_a3e58278b621461ebfb16c500c336fb2",
            "max": 25,
            "min": 0,
            "orientation": "horizontal",
            "style": "IPY_MODEL_004e0a4607af478cb81c988c97d253b2",
            "value": 25
          }
        },
        "f8009bb9303a45eb93a67beef2195fa5": {
          "model_module": "@jupyter-widgets/controls",
          "model_name": "HTMLModel",
          "model_module_version": "1.5.0",
          "state": {
            "_dom_classes": [],
            "_model_module": "@jupyter-widgets/controls",
            "_model_module_version": "1.5.0",
            "_model_name": "HTMLModel",
            "_view_count": null,
            "_view_module": "@jupyter-widgets/controls",
            "_view_module_version": "1.5.0",
            "_view_name": "HTMLView",
            "description": "",
            "description_tooltip": null,
            "layout": "IPY_MODEL_1df8279444b5419dacc7b182db3a3a93",
            "placeholder": "​",
            "style": "IPY_MODEL_9be8bf595582427081ff89cd908599dc",
            "value": " 25/25 [00:06&lt;00:00,  4.09ba/s]"
          }
        },
        "103ca3b74c4340fcb50eab37a4267fa3": {
          "model_module": "@jupyter-widgets/base",
          "model_name": "LayoutModel",
          "model_module_version": "1.2.0",
          "state": {
            "_model_module": "@jupyter-widgets/base",
            "_model_module_version": "1.2.0",
            "_model_name": "LayoutModel",
            "_view_count": null,
            "_view_module": "@jupyter-widgets/base",
            "_view_module_version": "1.2.0",
            "_view_name": "LayoutView",
            "align_content": null,
            "align_items": null,
            "align_self": null,
            "border": null,
            "bottom": null,
            "display": null,
            "flex": null,
            "flex_flow": null,
            "grid_area": null,
            "grid_auto_columns": null,
            "grid_auto_flow": null,
            "grid_auto_rows": null,
            "grid_column": null,
            "grid_gap": null,
            "grid_row": null,
            "grid_template_areas": null,
            "grid_template_columns": null,
            "grid_template_rows": null,
            "height": null,
            "justify_content": null,
            "justify_items": null,
            "left": null,
            "margin": null,
            "max_height": null,
            "max_width": null,
            "min_height": null,
            "min_width": null,
            "object_fit": null,
            "object_position": null,
            "order": null,
            "overflow": null,
            "overflow_x": null,
            "overflow_y": null,
            "padding": null,
            "right": null,
            "top": null,
            "visibility": null,
            "width": null
          }
        },
        "fbc604bc7efb458aaafeac2e51cf3cf5": {
          "model_module": "@jupyter-widgets/base",
          "model_name": "LayoutModel",
          "model_module_version": "1.2.0",
          "state": {
            "_model_module": "@jupyter-widgets/base",
            "_model_module_version": "1.2.0",
            "_model_name": "LayoutModel",
            "_view_count": null,
            "_view_module": "@jupyter-widgets/base",
            "_view_module_version": "1.2.0",
            "_view_name": "LayoutView",
            "align_content": null,
            "align_items": null,
            "align_self": null,
            "border": null,
            "bottom": null,
            "display": null,
            "flex": null,
            "flex_flow": null,
            "grid_area": null,
            "grid_auto_columns": null,
            "grid_auto_flow": null,
            "grid_auto_rows": null,
            "grid_column": null,
            "grid_gap": null,
            "grid_row": null,
            "grid_template_areas": null,
            "grid_template_columns": null,
            "grid_template_rows": null,
            "height": null,
            "justify_content": null,
            "justify_items": null,
            "left": null,
            "margin": null,
            "max_height": null,
            "max_width": null,
            "min_height": null,
            "min_width": null,
            "object_fit": null,
            "object_position": null,
            "order": null,
            "overflow": null,
            "overflow_x": null,
            "overflow_y": null,
            "padding": null,
            "right": null,
            "top": null,
            "visibility": null,
            "width": null
          }
        },
        "48c3aec4d5ee4af1bb21539724da8b03": {
          "model_module": "@jupyter-widgets/controls",
          "model_name": "DescriptionStyleModel",
          "model_module_version": "1.5.0",
          "state": {
            "_model_module": "@jupyter-widgets/controls",
            "_model_module_version": "1.5.0",
            "_model_name": "DescriptionStyleModel",
            "_view_count": null,
            "_view_module": "@jupyter-widgets/base",
            "_view_module_version": "1.2.0",
            "_view_name": "StyleView",
            "description_width": ""
          }
        },
        "a3e58278b621461ebfb16c500c336fb2": {
          "model_module": "@jupyter-widgets/base",
          "model_name": "LayoutModel",
          "model_module_version": "1.2.0",
          "state": {
            "_model_module": "@jupyter-widgets/base",
            "_model_module_version": "1.2.0",
            "_model_name": "LayoutModel",
            "_view_count": null,
            "_view_module": "@jupyter-widgets/base",
            "_view_module_version": "1.2.0",
            "_view_name": "LayoutView",
            "align_content": null,
            "align_items": null,
            "align_self": null,
            "border": null,
            "bottom": null,
            "display": null,
            "flex": null,
            "flex_flow": null,
            "grid_area": null,
            "grid_auto_columns": null,
            "grid_auto_flow": null,
            "grid_auto_rows": null,
            "grid_column": null,
            "grid_gap": null,
            "grid_row": null,
            "grid_template_areas": null,
            "grid_template_columns": null,
            "grid_template_rows": null,
            "height": null,
            "justify_content": null,
            "justify_items": null,
            "left": null,
            "margin": null,
            "max_height": null,
            "max_width": null,
            "min_height": null,
            "min_width": null,
            "object_fit": null,
            "object_position": null,
            "order": null,
            "overflow": null,
            "overflow_x": null,
            "overflow_y": null,
            "padding": null,
            "right": null,
            "top": null,
            "visibility": null,
            "width": null
          }
        },
        "004e0a4607af478cb81c988c97d253b2": {
          "model_module": "@jupyter-widgets/controls",
          "model_name": "ProgressStyleModel",
          "model_module_version": "1.5.0",
          "state": {
            "_model_module": "@jupyter-widgets/controls",
            "_model_module_version": "1.5.0",
            "_model_name": "ProgressStyleModel",
            "_view_count": null,
            "_view_module": "@jupyter-widgets/base",
            "_view_module_version": "1.2.0",
            "_view_name": "StyleView",
            "bar_color": null,
            "description_width": ""
          }
        },
        "1df8279444b5419dacc7b182db3a3a93": {
          "model_module": "@jupyter-widgets/base",
          "model_name": "LayoutModel",
          "model_module_version": "1.2.0",
          "state": {
            "_model_module": "@jupyter-widgets/base",
            "_model_module_version": "1.2.0",
            "_model_name": "LayoutModel",
            "_view_count": null,
            "_view_module": "@jupyter-widgets/base",
            "_view_module_version": "1.2.0",
            "_view_name": "LayoutView",
            "align_content": null,
            "align_items": null,
            "align_self": null,
            "border": null,
            "bottom": null,
            "display": null,
            "flex": null,
            "flex_flow": null,
            "grid_area": null,
            "grid_auto_columns": null,
            "grid_auto_flow": null,
            "grid_auto_rows": null,
            "grid_column": null,
            "grid_gap": null,
            "grid_row": null,
            "grid_template_areas": null,
            "grid_template_columns": null,
            "grid_template_rows": null,
            "height": null,
            "justify_content": null,
            "justify_items": null,
            "left": null,
            "margin": null,
            "max_height": null,
            "max_width": null,
            "min_height": null,
            "min_width": null,
            "object_fit": null,
            "object_position": null,
            "order": null,
            "overflow": null,
            "overflow_x": null,
            "overflow_y": null,
            "padding": null,
            "right": null,
            "top": null,
            "visibility": null,
            "width": null
          }
        },
        "9be8bf595582427081ff89cd908599dc": {
          "model_module": "@jupyter-widgets/controls",
          "model_name": "DescriptionStyleModel",
          "model_module_version": "1.5.0",
          "state": {
            "_model_module": "@jupyter-widgets/controls",
            "_model_module_version": "1.5.0",
            "_model_name": "DescriptionStyleModel",
            "_view_count": null,
            "_view_module": "@jupyter-widgets/base",
            "_view_module_version": "1.2.0",
            "_view_name": "StyleView",
            "description_width": ""
          }
        },
        "c0ae4db4003d4acfab2831ece3e6626a": {
          "model_module": "@jupyter-widgets/controls",
          "model_name": "HBoxModel",
          "model_module_version": "1.5.0",
          "state": {
            "_dom_classes": [],
            "_model_module": "@jupyter-widgets/controls",
            "_model_module_version": "1.5.0",
            "_model_name": "HBoxModel",
            "_view_count": null,
            "_view_module": "@jupyter-widgets/controls",
            "_view_module_version": "1.5.0",
            "_view_name": "HBoxView",
            "box_style": "",
            "children": [
              "IPY_MODEL_c3816dbfd83746d48abfce14ab9be1bb",
              "IPY_MODEL_06407a15419645b59b6133cfa641e42f",
              "IPY_MODEL_86a760c1f4274d9d902d1f137dcd44a4"
            ],
            "layout": "IPY_MODEL_8f621fac8eb44f6b9d014a487394e80d"
          }
        },
        "c3816dbfd83746d48abfce14ab9be1bb": {
          "model_module": "@jupyter-widgets/controls",
          "model_name": "HTMLModel",
          "model_module_version": "1.5.0",
          "state": {
            "_dom_classes": [],
            "_model_module": "@jupyter-widgets/controls",
            "_model_module_version": "1.5.0",
            "_model_name": "HTMLModel",
            "_view_count": null,
            "_view_module": "@jupyter-widgets/controls",
            "_view_module_version": "1.5.0",
            "_view_name": "HTMLView",
            "description": "",
            "description_tooltip": null,
            "layout": "IPY_MODEL_054abf9d3cf440c9a9c8dbcceff0f603",
            "placeholder": "​",
            "style": "IPY_MODEL_c52496212a2042e19de71c3d7adbe67a",
            "value": "100%"
          }
        },
        "06407a15419645b59b6133cfa641e42f": {
          "model_module": "@jupyter-widgets/controls",
          "model_name": "FloatProgressModel",
          "model_module_version": "1.5.0",
          "state": {
            "_dom_classes": [],
            "_model_module": "@jupyter-widgets/controls",
            "_model_module_version": "1.5.0",
            "_model_name": "FloatProgressModel",
            "_view_count": null,
            "_view_module": "@jupyter-widgets/controls",
            "_view_module_version": "1.5.0",
            "_view_name": "ProgressView",
            "bar_style": "success",
            "description": "",
            "description_tooltip": null,
            "layout": "IPY_MODEL_e85e0d1f464e4353bf5c62eae5c53ad1",
            "max": 25,
            "min": 0,
            "orientation": "horizontal",
            "style": "IPY_MODEL_805405aaca464f61ad55cae5e883f731",
            "value": 25
          }
        },
        "86a760c1f4274d9d902d1f137dcd44a4": {
          "model_module": "@jupyter-widgets/controls",
          "model_name": "HTMLModel",
          "model_module_version": "1.5.0",
          "state": {
            "_dom_classes": [],
            "_model_module": "@jupyter-widgets/controls",
            "_model_module_version": "1.5.0",
            "_model_name": "HTMLModel",
            "_view_count": null,
            "_view_module": "@jupyter-widgets/controls",
            "_view_module_version": "1.5.0",
            "_view_name": "HTMLView",
            "description": "",
            "description_tooltip": null,
            "layout": "IPY_MODEL_403be5e4a88b4a659c70d201d98a8879",
            "placeholder": "​",
            "style": "IPY_MODEL_f0d9d47091ea405897942977759956fc",
            "value": " 25/25 [00:06&lt;00:00,  4.18ba/s]"
          }
        },
        "8f621fac8eb44f6b9d014a487394e80d": {
          "model_module": "@jupyter-widgets/base",
          "model_name": "LayoutModel",
          "model_module_version": "1.2.0",
          "state": {
            "_model_module": "@jupyter-widgets/base",
            "_model_module_version": "1.2.0",
            "_model_name": "LayoutModel",
            "_view_count": null,
            "_view_module": "@jupyter-widgets/base",
            "_view_module_version": "1.2.0",
            "_view_name": "LayoutView",
            "align_content": null,
            "align_items": null,
            "align_self": null,
            "border": null,
            "bottom": null,
            "display": null,
            "flex": null,
            "flex_flow": null,
            "grid_area": null,
            "grid_auto_columns": null,
            "grid_auto_flow": null,
            "grid_auto_rows": null,
            "grid_column": null,
            "grid_gap": null,
            "grid_row": null,
            "grid_template_areas": null,
            "grid_template_columns": null,
            "grid_template_rows": null,
            "height": null,
            "justify_content": null,
            "justify_items": null,
            "left": null,
            "margin": null,
            "max_height": null,
            "max_width": null,
            "min_height": null,
            "min_width": null,
            "object_fit": null,
            "object_position": null,
            "order": null,
            "overflow": null,
            "overflow_x": null,
            "overflow_y": null,
            "padding": null,
            "right": null,
            "top": null,
            "visibility": null,
            "width": null
          }
        },
        "054abf9d3cf440c9a9c8dbcceff0f603": {
          "model_module": "@jupyter-widgets/base",
          "model_name": "LayoutModel",
          "model_module_version": "1.2.0",
          "state": {
            "_model_module": "@jupyter-widgets/base",
            "_model_module_version": "1.2.0",
            "_model_name": "LayoutModel",
            "_view_count": null,
            "_view_module": "@jupyter-widgets/base",
            "_view_module_version": "1.2.0",
            "_view_name": "LayoutView",
            "align_content": null,
            "align_items": null,
            "align_self": null,
            "border": null,
            "bottom": null,
            "display": null,
            "flex": null,
            "flex_flow": null,
            "grid_area": null,
            "grid_auto_columns": null,
            "grid_auto_flow": null,
            "grid_auto_rows": null,
            "grid_column": null,
            "grid_gap": null,
            "grid_row": null,
            "grid_template_areas": null,
            "grid_template_columns": null,
            "grid_template_rows": null,
            "height": null,
            "justify_content": null,
            "justify_items": null,
            "left": null,
            "margin": null,
            "max_height": null,
            "max_width": null,
            "min_height": null,
            "min_width": null,
            "object_fit": null,
            "object_position": null,
            "order": null,
            "overflow": null,
            "overflow_x": null,
            "overflow_y": null,
            "padding": null,
            "right": null,
            "top": null,
            "visibility": null,
            "width": null
          }
        },
        "c52496212a2042e19de71c3d7adbe67a": {
          "model_module": "@jupyter-widgets/controls",
          "model_name": "DescriptionStyleModel",
          "model_module_version": "1.5.0",
          "state": {
            "_model_module": "@jupyter-widgets/controls",
            "_model_module_version": "1.5.0",
            "_model_name": "DescriptionStyleModel",
            "_view_count": null,
            "_view_module": "@jupyter-widgets/base",
            "_view_module_version": "1.2.0",
            "_view_name": "StyleView",
            "description_width": ""
          }
        },
        "e85e0d1f464e4353bf5c62eae5c53ad1": {
          "model_module": "@jupyter-widgets/base",
          "model_name": "LayoutModel",
          "model_module_version": "1.2.0",
          "state": {
            "_model_module": "@jupyter-widgets/base",
            "_model_module_version": "1.2.0",
            "_model_name": "LayoutModel",
            "_view_count": null,
            "_view_module": "@jupyter-widgets/base",
            "_view_module_version": "1.2.0",
            "_view_name": "LayoutView",
            "align_content": null,
            "align_items": null,
            "align_self": null,
            "border": null,
            "bottom": null,
            "display": null,
            "flex": null,
            "flex_flow": null,
            "grid_area": null,
            "grid_auto_columns": null,
            "grid_auto_flow": null,
            "grid_auto_rows": null,
            "grid_column": null,
            "grid_gap": null,
            "grid_row": null,
            "grid_template_areas": null,
            "grid_template_columns": null,
            "grid_template_rows": null,
            "height": null,
            "justify_content": null,
            "justify_items": null,
            "left": null,
            "margin": null,
            "max_height": null,
            "max_width": null,
            "min_height": null,
            "min_width": null,
            "object_fit": null,
            "object_position": null,
            "order": null,
            "overflow": null,
            "overflow_x": null,
            "overflow_y": null,
            "padding": null,
            "right": null,
            "top": null,
            "visibility": null,
            "width": null
          }
        },
        "805405aaca464f61ad55cae5e883f731": {
          "model_module": "@jupyter-widgets/controls",
          "model_name": "ProgressStyleModel",
          "model_module_version": "1.5.0",
          "state": {
            "_model_module": "@jupyter-widgets/controls",
            "_model_module_version": "1.5.0",
            "_model_name": "ProgressStyleModel",
            "_view_count": null,
            "_view_module": "@jupyter-widgets/base",
            "_view_module_version": "1.2.0",
            "_view_name": "StyleView",
            "bar_color": null,
            "description_width": ""
          }
        },
        "403be5e4a88b4a659c70d201d98a8879": {
          "model_module": "@jupyter-widgets/base",
          "model_name": "LayoutModel",
          "model_module_version": "1.2.0",
          "state": {
            "_model_module": "@jupyter-widgets/base",
            "_model_module_version": "1.2.0",
            "_model_name": "LayoutModel",
            "_view_count": null,
            "_view_module": "@jupyter-widgets/base",
            "_view_module_version": "1.2.0",
            "_view_name": "LayoutView",
            "align_content": null,
            "align_items": null,
            "align_self": null,
            "border": null,
            "bottom": null,
            "display": null,
            "flex": null,
            "flex_flow": null,
            "grid_area": null,
            "grid_auto_columns": null,
            "grid_auto_flow": null,
            "grid_auto_rows": null,
            "grid_column": null,
            "grid_gap": null,
            "grid_row": null,
            "grid_template_areas": null,
            "grid_template_columns": null,
            "grid_template_rows": null,
            "height": null,
            "justify_content": null,
            "justify_items": null,
            "left": null,
            "margin": null,
            "max_height": null,
            "max_width": null,
            "min_height": null,
            "min_width": null,
            "object_fit": null,
            "object_position": null,
            "order": null,
            "overflow": null,
            "overflow_x": null,
            "overflow_y": null,
            "padding": null,
            "right": null,
            "top": null,
            "visibility": null,
            "width": null
          }
        },
        "f0d9d47091ea405897942977759956fc": {
          "model_module": "@jupyter-widgets/controls",
          "model_name": "DescriptionStyleModel",
          "model_module_version": "1.5.0",
          "state": {
            "_model_module": "@jupyter-widgets/controls",
            "_model_module_version": "1.5.0",
            "_model_name": "DescriptionStyleModel",
            "_view_count": null,
            "_view_module": "@jupyter-widgets/base",
            "_view_module_version": "1.2.0",
            "_view_name": "StyleView",
            "description_width": ""
          }
        }
      }
    }
  },
  "cells": [
    {
      "cell_type": "markdown",
      "metadata": {
        "id": "view-in-github",
        "colab_type": "text"
      },
      "source": [
        "<a href=\"https://colab.research.google.com/github/ankit-kothari/Data-Science-Journey/blob/master/custom_model_imdb_deep_learning.ipynb\" target=\"_parent\"><img src=\"https://colab.research.google.com/assets/colab-badge.svg\" alt=\"Open In Colab\"/></a>"
      ]
    },
    {
      "cell_type": "code",
      "execution_count": null,
      "metadata": {
        "id": "1FcvGQoaJopP"
      },
      "outputs": [],
      "source": [
        "!pip install transformers \n",
        "!pip install dask\n",
        "!pip install 'fsspec>=0.3.3'\n",
        "!pip install datasets\n",
        "!pip install torchinfo"
      ]
    },
    {
      "cell_type": "code",
      "source": [
        "!pip install datasets --upgrade"
      ],
      "metadata": {
        "id": "74JZxz01w6hT"
      },
      "execution_count": null,
      "outputs": []
    },
    {
      "cell_type": "code",
      "source": [
        "gpu_info = !nvidia-smi\n",
        "gpu_info = '\\n'.join(gpu_info)\n",
        "if gpu_info.find('failed') >= 0:\n",
        "  print('Not connected to a GPU')\n",
        "else:\n",
        "  print(gpu_info)"
      ],
      "metadata": {
        "colab": {
          "base_uri": "https://localhost:8080/"
        },
        "id": "uc2ffFLzJ05W",
        "outputId": "3cb7a817-0f48-4853-8740-3af389f4c301"
      },
      "execution_count": 104,
      "outputs": [
        {
          "output_type": "stream",
          "name": "stdout",
          "text": [
            "Sun Jul 10 23:07:30 2022       \n",
            "+-----------------------------------------------------------------------------+\n",
            "| NVIDIA-SMI 460.32.03    Driver Version: 460.32.03    CUDA Version: 11.2     |\n",
            "|-------------------------------+----------------------+----------------------+\n",
            "| GPU  Name        Persistence-M| Bus-Id        Disp.A | Volatile Uncorr. ECC |\n",
            "| Fan  Temp  Perf  Pwr:Usage/Cap|         Memory-Usage | GPU-Util  Compute M. |\n",
            "|                               |                      |               MIG M. |\n",
            "|===============================+======================+======================|\n",
            "|   0  Tesla P100-PCIE...  Off  | 00000000:00:04.0 Off |                    0 |\n",
            "| N/A   37C    P0    33W / 250W |   8047MiB / 16280MiB |      0%      Default |\n",
            "|                               |                      |                  N/A |\n",
            "+-------------------------------+----------------------+----------------------+\n",
            "                                                                               \n",
            "+-----------------------------------------------------------------------------+\n",
            "| Processes:                                                                  |\n",
            "|  GPU   GI   CI        PID   Type   Process name                  GPU Memory |\n",
            "|        ID   ID                                                   Usage      |\n",
            "|=============================================================================|\n",
            "+-----------------------------------------------------------------------------+\n"
          ]
        }
      ]
    },
    {
      "cell_type": "markdown",
      "source": [
        "## GPU Setup"
      ],
      "metadata": {
        "id": "cib43HaRXVBW"
      }
    },
    {
      "cell_type": "code",
      "source": [
        "device = torch.device(\"cuda\" if torch.cuda.is_available() else \"cpu\")"
      ],
      "metadata": {
        "id": "Lt_yXJ2uXUUI"
      },
      "execution_count": 105,
      "outputs": []
    },
    {
      "cell_type": "code",
      "source": [
        "from transformers import pipeline\n",
        "import torch\n",
        "import spacy\n",
        "import tqdm as notebook_tqdm\n",
        "from torchinfo import summary\n",
        "import pandas as pd\n",
        "import numpy as np\n",
        "from sklearn.metrics import classification_report, f1_score, precision_score, recall_score,roc_auc_score,accuracy_score\n",
        "from sklearn.metrics import plot_confusion_matrix,classification_report\n",
        "from sklearn.metrics import confusion_matrix, ConfusionMatrixDisplay\n",
        "from sklearn.model_selection import train_test_split\n",
        "import  matplotlib.pyplot as plt\n",
        "from datasets import load_dataset\n",
        "from spacy.lang.en import English\n",
        "import warnings\n",
        "from tqdm import tqdm\n",
        "import re\n",
        "import string\n",
        "warnings.filterwarnings(\"ignore\")\n",
        "pd.set_option('display.max_rows', None)\n",
        "pd.set_option('display.max_columns', None)\n",
        "pd.set_option('display.width', None)\n",
        "pd.set_option('display.max_colwidth', None)\n",
        "import concurrent.futures\n",
        "import dask.bag as db\n",
        "import dask \n",
        "import graphviz\n",
        "from dask import visualize\n",
        "from torch import nn \n",
        "from transformers import AutoConfig\n",
        "\n",
        "import tensorflow as tf\n",
        "from tensorflow.keras.models import Model\n",
        "from sklearn.model_selection import train_test_split\n",
        "from tensorflow.keras.preprocessing.text import Tokenizer\n",
        "from tensorflow.keras.preprocessing.sequence import pad_sequences\n",
        "from tensorflow.keras.utils import to_categorical\n",
        "from tensorflow.keras.models import Sequential\n",
        "from tensorflow.keras.layers import Dense, Conv2D, MaxPool2D, Flatten, Embedding, LSTM, Bidirectional, GlobalMaxPool1D, Input,BatchNormalization, Dropout, SpatialDropout1D, Conv1D, concatenate\n",
        "from tensorflow.keras.callbacks import EarlyStopping,ModelCheckpoint\n"
      ],
      "metadata": {
        "id": "5oslAeHiJ1rA"
      },
      "execution_count": 106,
      "outputs": []
    },
    {
      "cell_type": "code",
      "source": [
        "import concurrent.futures\n",
        "import dask.bag as db\n",
        "import dask \n",
        "import graphviz\n",
        "from dask import visualize"
      ],
      "metadata": {
        "id": "kFkd0wanvdXz"
      },
      "execution_count": 107,
      "outputs": []
    },
    {
      "cell_type": "markdown",
      "source": [
        "## Loading the Dataset"
      ],
      "metadata": {
        "id": "6U1tuJ53T-F1"
      }
    },
    {
      "cell_type": "code",
      "source": [
        "from datasets import load_dataset"
      ],
      "metadata": {
        "id": "7-iibpsDKDO1"
      },
      "execution_count": 108,
      "outputs": []
    },
    {
      "cell_type": "code",
      "source": [
        "data = load_dataset('imdb')\n",
        "del data['unsupervised']"
      ],
      "metadata": {
        "colab": {
          "base_uri": "https://localhost:8080/",
          "height": 87,
          "referenced_widgets": [
            "e5b6d376c1cb4ea0b6ef3b59e20833d2",
            "a0d93df590694f8788c3e81cc8e01477",
            "6622db406af64668a82ff00cfa8a42ea",
            "3789392ff0d64dc2977f7dc5fae3d0c8",
            "5bf603e7c07043ec833c9d7f47eceb07",
            "bd8cd0c2aa494a15b0573a00fa56ca5c",
            "c8c679cbc4154e719df7237209d91d0c",
            "53ab9e63ab6b4f84aa9c135e6429d9df",
            "91c094420a884e369b8a6232e8822e90",
            "76fb8820f19447a484fb183ff02020da",
            "1929ed07e95c41678c1437102041b5b8"
          ]
        },
        "id": "nS5Lf2i5KGOK",
        "outputId": "aaec64d1-3fce-4f50-f0d9-680b65158499"
      },
      "execution_count": 109,
      "outputs": [
        {
          "output_type": "stream",
          "name": "stderr",
          "text": [
            "Reusing dataset imdb (/root/.cache/huggingface/datasets/imdb/plain_text/1.0.0/2fdd8b9bcadd6e7055e742a706876ba43f19faee861df134affd7a3f60fc38a1)\n"
          ]
        },
        {
          "output_type": "display_data",
          "data": {
            "text/plain": [
              "  0%|          | 0/3 [00:00<?, ?it/s]"
            ],
            "application/vnd.jupyter.widget-view+json": {
              "version_major": 2,
              "version_minor": 0,
              "model_id": "e5b6d376c1cb4ea0b6ef3b59e20833d2"
            }
          },
          "metadata": {}
        }
      ]
    },
    {
      "cell_type": "code",
      "source": [
        "data"
      ],
      "metadata": {
        "colab": {
          "base_uri": "https://localhost:8080/"
        },
        "id": "EwTSbQF-KOmx",
        "outputId": "840855e0-67a5-48b9-a85d-21530ffee47a"
      },
      "execution_count": 110,
      "outputs": [
        {
          "output_type": "execute_result",
          "data": {
            "text/plain": [
              "DatasetDict({\n",
              "    train: Dataset({\n",
              "        features: ['text', 'label'],\n",
              "        num_rows: 25000\n",
              "    })\n",
              "    test: Dataset({\n",
              "        features: ['text', 'label'],\n",
              "        num_rows: 25000\n",
              "    })\n",
              "})"
            ]
          },
          "metadata": {},
          "execution_count": 110
        }
      ]
    },
    {
      "cell_type": "code",
      "source": [
        "data['train']['text'][0]"
      ],
      "metadata": {
        "colab": {
          "base_uri": "https://localhost:8080/",
          "height": 161
        },
        "id": "UbYjM_mJQOTs",
        "outputId": "5dcf4ea1-80b5-411b-beb1-54bb91c3b4c9"
      },
      "execution_count": 111,
      "outputs": [
        {
          "output_type": "execute_result",
          "data": {
            "text/plain": [
              "'I rented I AM CURIOUS-YELLOW from my video store because of all the controversy that surrounded it when it was first released in 1967. I also heard that at first it was seized by U.S. customs if it ever tried to enter this country, therefore being a fan of films considered \"controversial\" I really had to see this for myself.<br /><br />The plot is centered around a young Swedish drama student named Lena who wants to learn everything she can about life. In particular she wants to focus her attentions to making some sort of documentary on what the average Swede thought about certain political issues such as the Vietnam War and race issues in the United States. In between asking politicians and ordinary denizens of Stockholm about their opinions on politics, she has sex with her drama teacher, classmates, and married men.<br /><br />What kills me about I AM CURIOUS-YELLOW is that 40 years ago, this was considered pornographic. Really, the sex and nudity scenes are few and far between, even then it\\'s not shot like some cheaply made porno. While my countrymen mind find it shocking, in reality sex and nudity are a major staple in Swedish cinema. Even Ingmar Bergman, arguably their answer to good old boy John Ford, had sex scenes in his films.<br /><br />I do commend the filmmakers for the fact that any sex shown in the film is shown for artistic purposes rather than just to shock people and make money to be shown in pornographic theaters in America. I AM CURIOUS-YELLOW is a good film for anyone wanting to study the meat and potatoes (no pun intended) of Swedish cinema. But really, this film doesn\\'t have much of a plot.'"
            ],
            "application/vnd.google.colaboratory.intrinsic+json": {
              "type": "string"
            }
          },
          "metadata": {},
          "execution_count": 111
        }
      ]
    },
    {
      "cell_type": "code",
      "source": [
        "data['train']['label'][1]"
      ],
      "metadata": {
        "colab": {
          "base_uri": "https://localhost:8080/"
        },
        "id": "KV7UD-zPQYij",
        "outputId": "eb14551c-11d3-401b-8162-f447550baeb9"
      },
      "execution_count": 112,
      "outputs": [
        {
          "output_type": "execute_result",
          "data": {
            "text/plain": [
              "0"
            ]
          },
          "metadata": {},
          "execution_count": 112
        }
      ]
    },
    {
      "cell_type": "markdown",
      "source": [
        "## Tokenization"
      ],
      "metadata": {
        "id": "NmwrkqI_TK1d"
      }
    },
    {
      "cell_type": "code",
      "source": [
        "from transformers import AutoTokenizer"
      ],
      "metadata": {
        "id": "Xlm1eBDXTIB1"
      },
      "execution_count": 113,
      "outputs": []
    },
    {
      "cell_type": "code",
      "source": [
        "checkpoint = 'distilbert-base-uncased'\n",
        "tokenizer = AutoTokenizer.from_pretrained(checkpoint)"
      ],
      "metadata": {
        "id": "Tu77yWd_TFqk"
      },
      "execution_count": 114,
      "outputs": []
    },
    {
      "cell_type": "code",
      "source": [
        "def tokenize_fn(batch):\n",
        "  return tokenizer(batch['text'], truncation=True, padding=True) #no padding option since it will be handled by the trainer in thsi case\n",
        "tokenized_dataset = data.map(tokenize_fn, batched=True)"
      ],
      "metadata": {
        "colab": {
          "base_uri": "https://localhost:8080/",
          "height": 81,
          "referenced_widgets": [
            "ae2c5ad13b8445c1b106fa6b333d83f4",
            "fa01440fc0e14cd892cca45425e18aee",
            "84388f6596d240da8dc2bf174c9d59fd",
            "806b1ee254634682b5ce477932f6c374",
            "d489d863a9e94236bc15dbd82de3652b",
            "88ba8c033dde4e1183808b6d8f8a59fd",
            "f6b30b7e362f47bbae6c58e8a63a483b",
            "1dc7f46a9e0d4da79664a37ac9d4014e",
            "69e56c42f07e46579658035a853449c8",
            "44b09a831a2c4301b772d4160b2838a9",
            "be31053d1a614f5c953772a3d6490b93",
            "4e62015aa1bf43c2af38a143d36eedff",
            "0bb4db8002ac4903bf385d10b73c046d",
            "7e84d02e33904716ae245a54fff4818c",
            "20a210e812914d958344740264f62392",
            "4e50d37547ff48228f7bb6894957d19b",
            "ad08596b32064fe3863673761c476e14",
            "759935c6b6684745ac541e0bd79f4b34",
            "81fae68069cf4532a813c3bc45282189",
            "fd09a1de0dfb4eca964c863c77f98a0b",
            "c333681fa65f4921b0ab0ee00d8eedde",
            "3fd2ae9e312d417ba8a5743c3ddb2b08"
          ]
        },
        "id": "2nd-oURjTNtT",
        "outputId": "bf3e941b-90fa-4e5b-d9d2-529a80c2fcd4"
      },
      "execution_count": 115,
      "outputs": [
        {
          "output_type": "display_data",
          "data": {
            "text/plain": [
              "  0%|          | 0/25 [00:00<?, ?ba/s]"
            ],
            "application/vnd.jupyter.widget-view+json": {
              "version_major": 2,
              "version_minor": 0,
              "model_id": "ae2c5ad13b8445c1b106fa6b333d83f4"
            }
          },
          "metadata": {}
        },
        {
          "output_type": "display_data",
          "data": {
            "text/plain": [
              "  0%|          | 0/25 [00:00<?, ?ba/s]"
            ],
            "application/vnd.jupyter.widget-view+json": {
              "version_major": 2,
              "version_minor": 0,
              "model_id": "4e62015aa1bf43c2af38a143d36eedff"
            }
          },
          "metadata": {}
        }
      ]
    },
    {
      "cell_type": "code",
      "source": [
        "tokenized_dataset"
      ],
      "metadata": {
        "colab": {
          "base_uri": "https://localhost:8080/"
        },
        "id": "p2cbm6ZTTykM",
        "outputId": "a4e7cb83-cdbe-4aa5-9a64-8260e8b5df8d"
      },
      "execution_count": 116,
      "outputs": [
        {
          "output_type": "execute_result",
          "data": {
            "text/plain": [
              "DatasetDict({\n",
              "    train: Dataset({\n",
              "        features: ['text', 'label', 'input_ids', 'attention_mask'],\n",
              "        num_rows: 25000\n",
              "    })\n",
              "    test: Dataset({\n",
              "        features: ['text', 'label', 'input_ids', 'attention_mask'],\n",
              "        num_rows: 25000\n",
              "    })\n",
              "})"
            ]
          },
          "metadata": {},
          "execution_count": 116
        }
      ]
    },
    {
      "cell_type": "code",
      "source": [
        "text= data['train']['text'][0]"
      ],
      "metadata": {
        "id": "KpuDhpLQUw8Q"
      },
      "execution_count": 117,
      "outputs": []
    },
    {
      "cell_type": "markdown",
      "source": [
        "## Keras Tokenizer (Keeping only top 5000 words in the Voccublary)"
      ],
      "metadata": {
        "id": "AnTmqAL9icMQ"
      }
    },
    {
      "cell_type": "code",
      "source": [
        "# convert the sentences (strings) into integers\n",
        "df_train = data['train']['text']\n",
        "y_train = data['train']['label']\n",
        "df_test = data\n",
        "type(df_train)\n",
        "MAX_VOCAB_SIZE=5000\n",
        "tokenizerk = Tokenizer(num_words=5000, filters='!\"#$%&()*+,-./:;<=>?@[\\\\]^_`{|}~\\t\\n',\n",
        "    lower=True)\n",
        "## Fitting only on text \n",
        "tokenizerk.fit_on_texts(df_train)"
      ],
      "metadata": {
        "id": "fcXq5v8Oie3_"
      },
      "execution_count": 118,
      "outputs": []
    },
    {
      "cell_type": "code",
      "source": [
        "word_counts = tokenizerk.word_counts\n",
        "sorted_word_counts = dict(sorted(word_counts.items(),key=lambda x:x[1], reverse=True))\n"
      ],
      "metadata": {
        "id": "5asLLAeXk9O7"
      },
      "execution_count": 119,
      "outputs": []
    },
    {
      "cell_type": "code",
      "source": [
        "from collections import defaultdict\n",
        "top_5000_words = defaultdict()\n",
        "for key,value in sorted_word_counts.items():\n",
        "  if len(top_5000_words) > MAX_VOCAB_SIZE-1:\n",
        "    break\n",
        "  top_5000_words[key]=value\n",
        "\n"
      ],
      "metadata": {
        "id": "EBYdXnY5rUmn"
      },
      "execution_count": 120,
      "outputs": []
    },
    {
      "cell_type": "code",
      "source": [
        "len(top_5000_words)"
      ],
      "metadata": {
        "colab": {
          "base_uri": "https://localhost:8080/"
        },
        "id": "djqH1ZebtC8i",
        "outputId": "57797d7e-f97d-4fc2-b0d8-cb100f06cfb7"
      },
      "execution_count": 121,
      "outputs": [
        {
          "output_type": "execute_result",
          "data": {
            "text/plain": [
              "5000"
            ]
          },
          "metadata": {},
          "execution_count": 121
        }
      ]
    },
    {
      "cell_type": "code",
      "source": [
        "def normalize(text,top_5000_words ):\n",
        "    '''\n",
        "    Input: list of tokens as strings,  e.g. ['I', ' ', 'saw', ' ', '@psresnik', ' ', 'on', ' ','Twitter']\n",
        "    Output: list of tokens where\n",
        "    All tokens are lowercased\n",
        "    All tokens starting with a whitespace character have been filtered out\n",
        "    All handles (tokens starting with @) have been filtered out\n",
        "    Any underscores have been replaced with + (since we use _ as a special character in bigrams)\n",
        "    '''\n",
        "    tokenlist = text.split(' ')\n",
        "    normalized_tokens = [token.lower().replace('!\"#$%&()*+,-./:;<=>?@[\\\\]^_`{|}~\\t\\n','') for token in tokenlist   # lowercase, _ => +\n",
        "                             if re.search('[^\\s]', token) is not None            # ignore whitespace tokens\n",
        "                             and not token.startswith(\"@\") and token in top_5000_words]\n",
        "    return \" \".join(normalized_tokens)                      # i"
      ],
      "metadata": {
        "id": "ENTl2vWhtaT3"
      },
      "execution_count": 122,
      "outputs": []
    },
    {
      "cell_type": "code",
      "source": [
        "text"
      ],
      "metadata": {
        "colab": {
          "base_uri": "https://localhost:8080/",
          "height": 161
        },
        "id": "CvxtqdvvuJ_q",
        "outputId": "82f4ff42-f03b-4b64-8dd4-bc332da6357b"
      },
      "execution_count": 123,
      "outputs": [
        {
          "output_type": "execute_result",
          "data": {
            "text/plain": [
              "'I rented I AM CURIOUS-YELLOW from my video store because of all the controversy that surrounded it when it was first released in 1967. I also heard that at first it was seized by U.S. customs if it ever tried to enter this country, therefore being a fan of films considered \"controversial\" I really had to see this for myself.<br /><br />The plot is centered around a young Swedish drama student named Lena who wants to learn everything she can about life. In particular she wants to focus her attentions to making some sort of documentary on what the average Swede thought about certain political issues such as the Vietnam War and race issues in the United States. In between asking politicians and ordinary denizens of Stockholm about their opinions on politics, she has sex with her drama teacher, classmates, and married men.<br /><br />What kills me about I AM CURIOUS-YELLOW is that 40 years ago, this was considered pornographic. Really, the sex and nudity scenes are few and far between, even then it\\'s not shot like some cheaply made porno. While my countrymen mind find it shocking, in reality sex and nudity are a major staple in Swedish cinema. Even Ingmar Bergman, arguably their answer to good old boy John Ford, had sex scenes in his films.<br /><br />I do commend the filmmakers for the fact that any sex shown in the film is shown for artistic purposes rather than just to shock people and make money to be shown in pornographic theaters in America. I AM CURIOUS-YELLOW is a good film for anyone wanting to study the meat and potatoes (no pun intended) of Swedish cinema. But really, this film doesn\\'t have much of a plot.'"
            ],
            "application/vnd.google.colaboratory.intrinsic+json": {
              "type": "string"
            }
          },
          "metadata": {},
          "execution_count": 123
        }
      ]
    },
    {
      "cell_type": "code",
      "source": [
        "normalize(text,top_5000_words)"
      ],
      "metadata": {
        "colab": {
          "base_uri": "https://localhost:8080/",
          "height": 161
        },
        "id": "ngkCihsKuIZ7",
        "outputId": "a4f6dcb5-3a51-4d39-a403-3ea747084fd0"
      },
      "execution_count": 124,
      "outputs": [
        {
          "output_type": "execute_result",
          "data": {
            "text/plain": [
              "\"rented from my video store because of all the that surrounded it when it was first released in also heard that at first it was by if it ever tried to enter this therefore being a fan of films considered really had to see this for plot is centered around a young drama student named who wants to learn everything she can about particular she wants to focus her to making some sort of documentary on what the average thought about certain political issues such as the and race issues in the between asking and ordinary of about their opinions on she has sex with her drama and married kills me about is that 40 years this was considered the sex and nudity scenes are few and far even then it's not shot like some made my mind find it in reality sex and nudity are a major in arguably their answer to good old boy had sex scenes in his do the filmmakers for the fact that any sex shown in the film is shown for artistic purposes rather than just to shock people and make money to be shown in theaters in is a good film for anyone wanting to study the meat and of this film doesn't have much of a\""
            ],
            "application/vnd.google.colaboratory.intrinsic+json": {
              "type": "string"
            }
          },
          "metadata": {},
          "execution_count": 124
        }
      ]
    },
    {
      "cell_type": "code",
      "source": [
        "reviews_list = data['train']['text']\n",
        "review_bag = db.from_sequence(reviews_list, npartitions=5)\n",
        "clean_body_train = review_bag.map(normalize,top_5000_words=top_5000_words)\n"
      ],
      "metadata": {
        "id": "Z0MTC7EhvHLU"
      },
      "execution_count": 125,
      "outputs": []
    },
    {
      "cell_type": "code",
      "source": [
        "dask.visualize(clean_body_train)"
      ],
      "metadata": {
        "colab": {
          "base_uri": "https://localhost:8080/",
          "height": 346
        },
        "id": "AkeBkAaCAKOc",
        "outputId": "48c7487d-c5cd-41e5-fa3e-5e119a56636e"
      },
      "execution_count": 126,
      "outputs": [
        {
          "output_type": "execute_result",
          "data": {
            "text/plain": [
              "<IPython.core.display.Image object>"
            ],
            "image/png": "[encoded data removed]"
          },
          "metadata": {},
          "execution_count": 126
        }
      ]
    },
    {
      "cell_type": "code",
      "source": [
        "%%time\n",
        "more_text = clean_body_train.compute()\n"
      ],
      "metadata": {
        "id": "9gU4NjtW3xPr",
        "colab": {
          "base_uri": "https://localhost:8080/"
        },
        "outputId": "9b36761b-7c29-47bd-dcd8-bd6f08c8f2bc"
      },
      "execution_count": 127,
      "outputs": [
        {
          "output_type": "stream",
          "name": "stdout",
          "text": [
            "CPU times: user 636 ms, sys: 606 ms, total: 1.24 s\n",
            "Wall time: 3.71 s\n"
          ]
        }
      ]
    },
    {
      "cell_type": "code",
      "source": [
        "more_text[0]"
      ],
      "metadata": {
        "colab": {
          "base_uri": "https://localhost:8080/",
          "height": 161
        },
        "id": "F6OlGGOj5W8y",
        "outputId": "a3683ec9-564d-41f4-8bae-586a465ae45f"
      },
      "execution_count": 128,
      "outputs": [
        {
          "output_type": "execute_result",
          "data": {
            "text/plain": [
              "\"rented from my video store because of all the that surrounded it when it was first released in also heard that at first it was by if it ever tried to enter this therefore being a fan of films considered really had to see this for plot is centered around a young drama student named who wants to learn everything she can about particular she wants to focus her to making some sort of documentary on what the average thought about certain political issues such as the and race issues in the between asking and ordinary of about their opinions on she has sex with her drama and married kills me about is that 40 years this was considered the sex and nudity scenes are few and far even then it's not shot like some made my mind find it in reality sex and nudity are a major in arguably their answer to good old boy had sex scenes in his do the filmmakers for the fact that any sex shown in the film is shown for artistic purposes rather than just to shock people and make money to be shown in theaters in is a good film for anyone wanting to study the meat and of this film doesn't have much of a\""
            ],
            "application/vnd.google.colaboratory.intrinsic+json": {
              "type": "string"
            }
          },
          "metadata": {},
          "execution_count": 128
        }
      ]
    },
    {
      "cell_type": "code",
      "source": [
        "reviews_list_test = data['test']['text']\n",
        "review_bag_test = db.from_sequence(reviews_list_test, npartitions=3)\n",
        "clean_body_test = review_bag_test.map(normalize,top_5000_words=top_5000_words)\n"
      ],
      "metadata": {
        "id": "A40lIxdB7OCi"
      },
      "execution_count": 129,
      "outputs": []
    },
    {
      "cell_type": "code",
      "source": [
        "more_text_test = clean_body_test.compute()"
      ],
      "metadata": {
        "id": "sQuVGSD57iiP"
      },
      "execution_count": 130,
      "outputs": []
    },
    {
      "cell_type": "code",
      "source": [
        "more_text_test[0]"
      ],
      "metadata": {
        "colab": {
          "base_uri": "https://localhost:8080/",
          "height": 125
        },
        "id": "QUCFujHd7tRR",
        "outputId": "85442c6f-a6d2-4fda-a462-f45626990869"
      },
      "execution_count": 131,
      "outputs": [
        {
          "output_type": "execute_result",
          "data": {
            "text/plain": [
              "\"love and am willing to put up with a are usually and tried to like really but it is to good as 5 is to cheap cardboard stilted that doesn't match the and painfully characters cannot be overcome with a sure there are those of you out there who think 5 is good clichéd and viewers might like emotion and character is a genre that does not take itself seriously may treat important yet not as a serious really difficult to care about the characters here as they are not simply just missing a of actions and reactions are wooden and often painful to makers of it's rubbish as they have to always say otherwise people would not continue must be turning in their as this poorly edited it without breaks really brings this of a show into kill off a main then bring him back as another all over\""
            ],
            "application/vnd.google.colaboratory.intrinsic+json": {
              "type": "string"
            }
          },
          "metadata": {},
          "execution_count": 131
        }
      ]
    },
    {
      "cell_type": "code",
      "source": [
        "data['train'] = data['train'].add_column(name=\"cleaned_reviews\", column=more_text)\n",
        "data['test'] = data['test'].add_column(name=\"cleaned_reviews\", column=more_text_test)"
      ],
      "metadata": {
        "id": "ciDzAgS3yt-5"
      },
      "execution_count": 132,
      "outputs": []
    },
    {
      "cell_type": "code",
      "source": [
        "data['train']['cleaned_reviews'][0]"
      ],
      "metadata": {
        "colab": {
          "base_uri": "https://localhost:8080/",
          "height": 161
        },
        "id": "U7VUh8y06ZD6",
        "outputId": "89588e03-559c-4ce9-fe48-8326438518ba"
      },
      "execution_count": 133,
      "outputs": [
        {
          "output_type": "execute_result",
          "data": {
            "text/plain": [
              "\"rented from my video store because of all the that surrounded it when it was first released in also heard that at first it was by if it ever tried to enter this therefore being a fan of films considered really had to see this for plot is centered around a young drama student named who wants to learn everything she can about particular she wants to focus her to making some sort of documentary on what the average thought about certain political issues such as the and race issues in the between asking and ordinary of about their opinions on she has sex with her drama and married kills me about is that 40 years this was considered the sex and nudity scenes are few and far even then it's not shot like some made my mind find it in reality sex and nudity are a major in arguably their answer to good old boy had sex scenes in his do the filmmakers for the fact that any sex shown in the film is shown for artistic purposes rather than just to shock people and make money to be shown in theaters in is a good film for anyone wanting to study the meat and of this film doesn't have much of a\""
            ],
            "application/vnd.google.colaboratory.intrinsic+json": {
              "type": "string"
            }
          },
          "metadata": {},
          "execution_count": 133
        }
      ]
    },
    {
      "cell_type": "code",
      "source": [
        "data['test']['cleaned_reviews'][0]"
      ],
      "metadata": {
        "colab": {
          "base_uri": "https://localhost:8080/",
          "height": 125
        },
        "id": "NSeLPNUH7zF8",
        "outputId": "ab3bea42-5af9-405c-d2d7-2f0cfa564260"
      },
      "execution_count": 134,
      "outputs": [
        {
          "output_type": "execute_result",
          "data": {
            "text/plain": [
              "\"love and am willing to put up with a are usually and tried to like really but it is to good as 5 is to cheap cardboard stilted that doesn't match the and painfully characters cannot be overcome with a sure there are those of you out there who think 5 is good clichéd and viewers might like emotion and character is a genre that does not take itself seriously may treat important yet not as a serious really difficult to care about the characters here as they are not simply just missing a of actions and reactions are wooden and often painful to makers of it's rubbish as they have to always say otherwise people would not continue must be turning in their as this poorly edited it without breaks really brings this of a show into kill off a main then bring him back as another all over\""
            ],
            "application/vnd.google.colaboratory.intrinsic+json": {
              "type": "string"
            }
          },
          "metadata": {},
          "execution_count": 134
        }
      ]
    },
    {
      "cell_type": "code",
      "source": [
        "data"
      ],
      "metadata": {
        "colab": {
          "base_uri": "https://localhost:8080/"
        },
        "id": "pN6nJG5GABYJ",
        "outputId": "13cdebf8-10d9-4d28-bb37-7f776d4836bb"
      },
      "execution_count": 135,
      "outputs": [
        {
          "output_type": "execute_result",
          "data": {
            "text/plain": [
              "DatasetDict({\n",
              "    train: Dataset({\n",
              "        features: ['text', 'label', 'cleaned_reviews'],\n",
              "        num_rows: 25000\n",
              "    })\n",
              "    test: Dataset({\n",
              "        features: ['text', 'label', 'cleaned_reviews'],\n",
              "        num_rows: 25000\n",
              "    })\n",
              "})"
            ]
          },
          "metadata": {},
          "execution_count": 135
        }
      ]
    },
    {
      "cell_type": "markdown",
      "source": [
        "## Tokenizing"
      ],
      "metadata": {
        "id": "bxyE4p_8AVx-"
      }
    },
    {
      "cell_type": "code",
      "source": [
        "from transformers import AutoTokenizer"
      ],
      "metadata": {
        "id": "BEv_pu3WAdcs"
      },
      "execution_count": 136,
      "outputs": []
    },
    {
      "cell_type": "code",
      "source": [
        "checkpoint = 'distilbert-base-uncased'\n",
        "tokenizer = AutoTokenizer.from_pretrained(checkpoint)"
      ],
      "metadata": {
        "id": "JAn2nSw6AYlO"
      },
      "execution_count": 137,
      "outputs": []
    },
    {
      "cell_type": "code",
      "source": [
        "def tokenize_fn(batch):\n",
        "  return tokenizer(batch['cleaned_reviews'], truncation=True,padding=True) #no padding option since it will be handled by the trainer in thsi case\n",
        "tokenized_dataset = data.map(tokenize_fn, batched=True)"
      ],
      "metadata": {
        "colab": {
          "base_uri": "https://localhost:8080/",
          "height": 81,
          "referenced_widgets": [
            "14ef1394ce6642faab95e669c451b354",
            "35a4c64f3f37482680b58a82955e0aa6",
            "8fc560636c3f42888c4cc80a06e9b0f1",
            "f8009bb9303a45eb93a67beef2195fa5",
            "103ca3b74c4340fcb50eab37a4267fa3",
            "fbc604bc7efb458aaafeac2e51cf3cf5",
            "48c3aec4d5ee4af1bb21539724da8b03",
            "a3e58278b621461ebfb16c500c336fb2",
            "004e0a4607af478cb81c988c97d253b2",
            "1df8279444b5419dacc7b182db3a3a93",
            "9be8bf595582427081ff89cd908599dc",
            "c0ae4db4003d4acfab2831ece3e6626a",
            "c3816dbfd83746d48abfce14ab9be1bb",
            "06407a15419645b59b6133cfa641e42f",
            "86a760c1f4274d9d902d1f137dcd44a4",
            "8f621fac8eb44f6b9d014a487394e80d",
            "054abf9d3cf440c9a9c8dbcceff0f603",
            "c52496212a2042e19de71c3d7adbe67a",
            "e85e0d1f464e4353bf5c62eae5c53ad1",
            "805405aaca464f61ad55cae5e883f731",
            "403be5e4a88b4a659c70d201d98a8879",
            "f0d9d47091ea405897942977759956fc"
          ]
        },
        "id": "y3BMuiNSAjeS",
        "outputId": "2373b45a-0e30-45de-ed2e-6c4c30e6a57e"
      },
      "execution_count": 138,
      "outputs": [
        {
          "output_type": "display_data",
          "data": {
            "text/plain": [
              "  0%|          | 0/25 [00:00<?, ?ba/s]"
            ],
            "application/vnd.jupyter.widget-view+json": {
              "version_major": 2,
              "version_minor": 0,
              "model_id": "14ef1394ce6642faab95e669c451b354"
            }
          },
          "metadata": {}
        },
        {
          "output_type": "display_data",
          "data": {
            "text/plain": [
              "  0%|          | 0/25 [00:00<?, ?ba/s]"
            ],
            "application/vnd.jupyter.widget-view+json": {
              "version_major": 2,
              "version_minor": 0,
              "model_id": "c0ae4db4003d4acfab2831ece3e6626a"
            }
          },
          "metadata": {}
        }
      ]
    },
    {
      "cell_type": "code",
      "source": [
        "tokenized_dataset"
      ],
      "metadata": {
        "colab": {
          "base_uri": "https://localhost:8080/"
        },
        "id": "NRV4nncMAvpD",
        "outputId": "0bfea0a8-11e4-43d6-e2c1-0339404b410b"
      },
      "execution_count": 139,
      "outputs": [
        {
          "output_type": "execute_result",
          "data": {
            "text/plain": [
              "DatasetDict({\n",
              "    train: Dataset({\n",
              "        features: ['text', 'label', 'cleaned_reviews', 'input_ids', 'attention_mask'],\n",
              "        num_rows: 25000\n",
              "    })\n",
              "    test: Dataset({\n",
              "        features: ['text', 'label', 'cleaned_reviews', 'input_ids', 'attention_mask'],\n",
              "        num_rows: 25000\n",
              "    })\n",
              "})"
            ]
          },
          "metadata": {},
          "execution_count": 139
        }
      ]
    },
    {
      "cell_type": "markdown",
      "source": [
        "##  DistilBERT Config File"
      ],
      "metadata": {
        "id": "R96qXTaJoo3_"
      }
    },
    {
      "cell_type": "code",
      "source": [
        "import torch.nn as nn\n",
        "from transformers import DistilBertConfig\n",
        "from transformers.modeling_outputs import SequenceClassifierOutput\n",
        "from transformers.models.distilbert.modeling_distilbert import DistilBertModel\n",
        "from transformers.models.distilbert.modeling_distilbert import DistilBertPreTrainedModel\n"
      ],
      "metadata": {
        "id": "vlPUlG4DoqMb"
      },
      "execution_count": 140,
      "outputs": []
    },
    {
      "cell_type": "code",
      "source": [
        "tags = data[\"train\"].features[\"label\"]\n",
        "print(tags)"
      ],
      "metadata": {
        "colab": {
          "base_uri": "https://localhost:8080/"
        },
        "id": "ZVzJaA-nu4N8",
        "outputId": "9d3a4730-d752-4bf7-f561-c34d8a42566d"
      },
      "execution_count": 141,
      "outputs": [
        {
          "output_type": "stream",
          "name": "stdout",
          "text": [
            "ClassLabel(num_classes=2, names=['neg', 'pos'], id=None)\n"
          ]
        }
      ]
    },
    {
      "cell_type": "code",
      "source": [
        "target_map = {'negative': 0,  'positive': 1}\n",
        "index2tag = {v:k for k,v in target_map.items()}\n",
        "tag2id = target_map"
      ],
      "metadata": {
        "id": "oDcLU3pcH5SO"
      },
      "execution_count": 142,
      "outputs": []
    },
    {
      "cell_type": "code",
      "source": [
        "distilbert_config = AutoConfig.from_pretrained(checkpoint, \n",
        "                                            num_labels=tags.num_classes,\n",
        "                                            id2label = index2tag,\n",
        "                                            label2id = tag2id)"
      ],
      "metadata": {
        "id": "3SKAGntAqhVP"
      },
      "execution_count": 143,
      "outputs": []
    },
    {
      "cell_type": "code",
      "source": [
        "distilbert_config"
      ],
      "metadata": {
        "colab": {
          "base_uri": "https://localhost:8080/"
        },
        "id": "wsLH2P3-qoJA",
        "outputId": "68cc5743-b263-4d05-ebf3-25c6af977997"
      },
      "execution_count": 144,
      "outputs": [
        {
          "output_type": "execute_result",
          "data": {
            "text/plain": [
              "DistilBertConfig {\n",
              "  \"_name_or_path\": \"distilbert-base-uncased\",\n",
              "  \"activation\": \"gelu\",\n",
              "  \"architectures\": [\n",
              "    \"DistilBertForMaskedLM\"\n",
              "  ],\n",
              "  \"attention_dropout\": 0.1,\n",
              "  \"dim\": 768,\n",
              "  \"dropout\": 0.1,\n",
              "  \"hidden_dim\": 3072,\n",
              "  \"id2label\": {\n",
              "    \"0\": \"negative\",\n",
              "    \"1\": \"positive\"\n",
              "  },\n",
              "  \"initializer_range\": 0.02,\n",
              "  \"label2id\": {\n",
              "    \"negative\": 0,\n",
              "    \"positive\": 1\n",
              "  },\n",
              "  \"max_position_embeddings\": 512,\n",
              "  \"model_type\": \"distilbert\",\n",
              "  \"n_heads\": 12,\n",
              "  \"n_layers\": 6,\n",
              "  \"pad_token_id\": 0,\n",
              "  \"qa_dropout\": 0.1,\n",
              "  \"seq_classif_dropout\": 0.2,\n",
              "  \"sinusoidal_pos_embds\": false,\n",
              "  \"tie_weights_\": true,\n",
              "  \"transformers_version\": \"4.20.1\",\n",
              "  \"vocab_size\": 30522\n",
              "}"
            ]
          },
          "metadata": {},
          "execution_count": 144
        }
      ]
    },
    {
      "cell_type": "markdown",
      "source": [
        "## Custom Model "
      ],
      "metadata": {
        "id": "FktfkSENVVcq"
      }
    },
    {
      "cell_type": "code",
      "source": [
        "class IMDBModel(DistilBertPreTrainedModel):\n",
        "    config_class = DistilBertConfig # The config class associated to this model architecture (DistilBertConfig) \n",
        "    def __init__(self, config):\n",
        "        super().__init__(config)\n",
        "        self.num_labels = config.num_labels\n",
        "        # DistilBertForSequenceClassification is a sub-class of DistilBertModel\n",
        "        self.distilbert = DistilBertModel(config) \n",
        "        # dropout is a layer in the DistilBertForSequenceClassification\n",
        "        self.dropout = nn.Dropout(config.dropout) \n",
        "        # linear layer to map the output of the DistilBertForSequenceClassification to the number of labels\n",
        "        self.classifier = nn.Linear(config.dim, config.num_labels)\n",
        "        self.init_weights() # initialize the weights of the model\n",
        "\n",
        "   \n",
        "    def forward(self, input_ids=None, attention_mask=None, labels=None):\n",
        "        # call the DistilBertForSequenceClassification\n",
        "        outputs = self.distilbert(input_ids, attention_mask=attention_mask) \n",
        "        # last_hidden_state is a tensor of shape (batch_size, sequence_length, hidden_size)\n",
        "        last_hidden_layer = outputs.last_hidden_state[:,0,:] #embedding of the [CLS Token] \n",
        "        # dropout the last_hidden_layer\n",
        "        seq_outputs = self.dropout(last_hidden_layer)\n",
        "        # call the linear layer to map the output of the DistilBertForSequenceClassification to the number of labels (2 in this case) and return the logits of the model (the output of the linear layer) as a tensor of shape (batch_size, sequence_length, num_labels)\n",
        "        logits = self.classifier(seq_outputs)\n",
        "\n",
        "        if labels is not None:\n",
        "            # call the cross entropy loss function to compute the loss and return the loss value as a tensor of shape (batch_size, 1)\n",
        "            # logits.view(-1, self.num_labels) has a shape [batch_size, num_labels] and labels.view(-1) has shape [batch_size] tensors\n",
        "            loss = nn.CrossEntropyLoss()(logits.view(-1, self.num_labels), labels.view(-1))\n",
        "      \n",
        "        return SequenceClassifierOutput(logits=logits, loss=loss, hidden_states=outputs.hidden_states, attentions=outputs.attentions)"
      ],
      "metadata": {
        "id": "m_iE4RT9-9mY"
      },
      "execution_count": 145,
      "outputs": []
    },
    {
      "cell_type": "code",
      "source": [
        "##tokenized data \n",
        "sample_text = data['train']['cleaned_reviews'][0]\n",
        "smaple = tokenizer(sample_text, truncation=True,padding=\"max_length\", return_tensors='pt',max_length=512)\n",
        "smaple.keys()"
      ],
      "metadata": {
        "colab": {
          "base_uri": "https://localhost:8080/"
        },
        "id": "t0-saydlkZ5G",
        "outputId": "d1239523-5129-44e1-ba50-4ee35ba82161"
      },
      "execution_count": 146,
      "outputs": [
        {
          "output_type": "execute_result",
          "data": {
            "text/plain": [
              "dict_keys(['input_ids', 'attention_mask'])"
            ]
          },
          "metadata": {},
          "execution_count": 146
        }
      ]
    },
    {
      "cell_type": "markdown",
      "source": [
        "#### Running Model through a sample"
      ],
      "metadata": {
        "id": "-_9QEoheV6_Y"
      }
    },
    {
      "cell_type": "code",
      "source": [
        "model_distilbert = (IMDBModel.from_pretrained(\"distilbert-base-uncased\",config=distilbert_config).to(device))"
      ],
      "metadata": {
        "id": "0edIEwarr8YY"
      },
      "execution_count": 147,
      "outputs": []
    },
    {
      "cell_type": "code",
      "source": [
        "#model_distilbert"
      ],
      "metadata": {
        "id": "mqDyPDjXshcG"
      },
      "execution_count": 148,
      "outputs": []
    },
    {
      "cell_type": "code",
      "source": [
        "sample_label = data['train']['label'][0]\n",
        "type(sample_label)\n",
        "sample_label = torch.tensor(sample_label, dtype=torch.long)\n",
        "type(sample_label)"
      ],
      "metadata": {
        "colab": {
          "base_uri": "https://localhost:8080/"
        },
        "id": "PRKgJOb6U12P",
        "outputId": "c84b9e5a-ef0c-4345-8c33-c0e3beed44d1"
      },
      "execution_count": 149,
      "outputs": [
        {
          "output_type": "execute_result",
          "data": {
            "text/plain": [
              "torch.Tensor"
            ]
          },
          "metadata": {},
          "execution_count": 149
        }
      ]
    },
    {
      "cell_type": "code",
      "source": [
        "preds_distilebert= model_distilbert(sample.to(device),labels=sample_label.to(device))\n",
        "preds_distilebert"
      ],
      "metadata": {
        "colab": {
          "base_uri": "https://localhost:8080/"
        },
        "id": "vpRjNia7smpd",
        "outputId": "ed8227ac-8c17-4505-d35b-66ce53549949"
      },
      "execution_count": 150,
      "outputs": [
        {
          "output_type": "execute_result",
          "data": {
            "text/plain": [
              "SequenceClassifierOutput([('loss',\n",
              "                           tensor(0.6636, device='cuda:0', grad_fn=<NllLossBackward0>)),\n",
              "                          ('logits',\n",
              "                           tensor([[-0.0262, -0.0862]], device='cuda:0', grad_fn=<AddmmBackward0>))])"
            ]
          },
          "metadata": {},
          "execution_count": 150
        }
      ]
    },
    {
      "cell_type": "code",
      "source": [
        "preds_distilebert.loss.cpu().detach().numpy()"
      ],
      "metadata": {
        "colab": {
          "base_uri": "https://localhost:8080/"
        },
        "id": "GOK-cID0QSan",
        "outputId": "1e2c4575-3bcf-44ab-c580-e4583a0564da"
      },
      "execution_count": 151,
      "outputs": [
        {
          "output_type": "execute_result",
          "data": {
            "text/plain": [
              "array(0.66361594, dtype=float32)"
            ]
          },
          "metadata": {},
          "execution_count": 151
        }
      ]
    },
    {
      "cell_type": "code",
      "source": [
        "preds_distilebert.logits.argmax(-1)"
      ],
      "metadata": {
        "colab": {
          "base_uri": "https://localhost:8080/"
        },
        "id": "O_WLyahjRaWE",
        "outputId": "14451f95-9e1c-4104-bb9d-8ba085689a53"
      },
      "execution_count": 152,
      "outputs": [
        {
          "output_type": "execute_result",
          "data": {
            "text/plain": [
              "tensor([0], device='cuda:0')"
            ]
          },
          "metadata": {},
          "execution_count": 152
        }
      ]
    },
    {
      "cell_type": "markdown",
      "source": [
        "## Training Arguments"
      ],
      "metadata": {
        "id": "oNnD81A5DmQn"
      }
    },
    {
      "cell_type": "code",
      "source": [
        "from transformers import TrainingArguments, Trainer, AutoModelForSequenceClassification\n",
        "## Training Arguments\n",
        "batch_size= 16\n",
        "logging_steps = len(tokenized_dataset[\"train\"]) // batch_size\n",
        "model_name = \"imdb_data_custom_model\"\n",
        "training_args = TrainingArguments(\n",
        "    output_dir = model_name,\n",
        "    evaluation_strategy='epoch', # evaluate the model every epoch\n",
        "    num_train_epochs=2, # train for 2 epochs\n",
        "    learning_rate=2e-5, # learning rate for AdamW\n",
        "    per_device_train_batch_size=batch_size, # batch size for training\n",
        "    per_device_eval_batch_size=batch_size, # batch size for evaluation\n",
        "    save_strategy='epoch', # save the model every epoch\n",
        "    logging_steps=logging_steps, # log every epoch\n",
        "    log_level=\"error\",  # log level\n",
        "    push_to_hub=False,\n",
        "    disable_tqdm=False\n",
        "    )"
      ],
      "metadata": {
        "id": "D2pxXgHrDffB"
      },
      "execution_count": 153,
      "outputs": []
    },
    {
      "cell_type": "markdown",
      "source": [
        "## Custom Metric Function"
      ],
      "metadata": {
        "id": "xKz1DpHpD6-u"
      }
    },
    {
      "cell_type": "code",
      "source": [
        "def compute_metrics(pred):\n",
        "  labels=pred.label_ids # get the labels \n",
        "  preds = pred.predictions.argmax(-1) # get the index of the max logit\n",
        "  f1 = f1_score(labels,preds, average=\"weighted\")\n",
        "  acc = accuracy_score(labels,preds)\n",
        "  return {\"accuracy\":acc,\"f1\":f1 }"
      ],
      "metadata": {
        "id": "kiaT6Hrh_Rf1"
      },
      "execution_count": 154,
      "outputs": []
    },
    {
      "cell_type": "markdown",
      "source": [
        "## Training"
      ],
      "metadata": {
        "id": "_e3P8gSbD_fB"
      }
    },
    {
      "cell_type": "code",
      "source": [
        "from transformers import Trainer \n",
        "trainer = Trainer(model=model_distilbert, args=training_args,\n",
        "                  compute_metrics=compute_metrics,\n",
        "                  train_dataset=tokenized_dataset['train'],\n",
        "                  eval_dataset = tokenized_dataset['test'],\n",
        "                  tokenizer=tokenizer)"
      ],
      "metadata": {
        "id": "3lmzQ1lwEKZh"
      },
      "execution_count": 155,
      "outputs": []
    },
    {
      "cell_type": "code",
      "source": [
        "from transformers import Trainer \n",
        "trainer = Trainer(model=model_distilbert, # the model to train\n",
        "                  args=training_args, # the training arguments\n",
        "                  #the input to the compute_metrics function is  the predictions from the model and the labels from the dataset and the output is a dictionary of metrics to be used for evaluation and logging\n",
        "                  compute_metrics=compute_metrics, \n",
        "                  train_dataset=tokenized_dataset['train'], # the training dataset\n",
        "                  eval_dataset = tokenized_dataset['test'], # the evaluation dataset\n",
        "                  tokenizer=tokenizer) # the tokenizer"
      ],
      "metadata": {
        "id": "h7DIZ1xn_Vzj"
      },
      "execution_count": 156,
      "outputs": []
    },
    {
      "cell_type": "code",
      "source": [
        "trainer.train()"
      ],
      "metadata": {
        "colab": {
          "base_uri": "https://localhost:8080/",
          "height": 174
        },
        "id": "vIv7iOkVEPaC",
        "outputId": "8a2673c8-be70-457b-eba1-fe13819c3124"
      },
      "execution_count": 157,
      "outputs": [
        {
          "output_type": "display_data",
          "data": {
            "text/plain": [
              "<IPython.core.display.HTML object>"
            ],
            "text/html": [
              "\n",
              "    <div>\n",
              "      \n",
              "      <progress value='3126' max='3126' style='width:300px; height:20px; vertical-align: middle;'></progress>\n",
              "      [3126/3126 29:52, Epoch 2/2]\n",
              "    </div>\n",
              "    <table border=\"1\" class=\"dataframe\">\n",
              "  <thead>\n",
              " <tr style=\"text-align: left;\">\n",
              "      <th>Epoch</th>\n",
              "      <th>Training Loss</th>\n",
              "      <th>Validation Loss</th>\n",
              "      <th>Accuracy</th>\n",
              "      <th>F1</th>\n",
              "    </tr>\n",
              "  </thead>\n",
              "  <tbody>\n",
              "    <tr>\n",
              "      <td>1</td>\n",
              "      <td>0.325700</td>\n",
              "      <td>0.259585</td>\n",
              "      <td>0.893400</td>\n",
              "      <td>0.893307</td>\n",
              "    </tr>\n",
              "    <tr>\n",
              "      <td>2</td>\n",
              "      <td>0.200000</td>\n",
              "      <td>0.268881</td>\n",
              "      <td>0.900920</td>\n",
              "      <td>0.900900</td>\n",
              "    </tr>\n",
              "  </tbody>\n",
              "</table><p>"
            ]
          },
          "metadata": {}
        },
        {
          "output_type": "execute_result",
          "data": {
            "text/plain": [
              "TrainOutput(global_step=3126, training_loss=0.2629525894853295, metrics={'train_runtime': 1793.4586, 'train_samples_per_second': 27.879, 'train_steps_per_second': 1.743, 'total_flos': 6532655001600000.0, 'train_loss': 0.2629525894853295, 'epoch': 2.0})"
            ]
          },
          "metadata": {},
          "execution_count": 157
        }
      ]
    },
    {
      "cell_type": "code",
      "source": [
        "trainer.evaluate()"
      ],
      "metadata": {
        "colab": {
          "base_uri": "https://localhost:8080/",
          "height": 162
        },
        "id": "9rrl4PmUGPr6",
        "outputId": "b2f21a72-89ff-4796-994e-9b5370b523f1"
      },
      "execution_count": 158,
      "outputs": [
        {
          "output_type": "display_data",
          "data": {
            "text/plain": [
              "<IPython.core.display.HTML object>"
            ],
            "text/html": [
              "\n",
              "    <div>\n",
              "      \n",
              "      <progress value='1563' max='1563' style='width:300px; height:20px; vertical-align: middle;'></progress>\n",
              "      [1563/1563 03:44]\n",
              "    </div>\n",
              "    "
            ]
          },
          "metadata": {}
        },
        {
          "output_type": "execute_result",
          "data": {
            "text/plain": [
              "{'epoch': 2.0,\n",
              " 'eval_accuracy': 0.90092,\n",
              " 'eval_f1': 0.9008997916440724,\n",
              " 'eval_loss': 0.2688814401626587,\n",
              " 'eval_runtime': 224.5196,\n",
              " 'eval_samples_per_second': 111.349,\n",
              " 'eval_steps_per_second': 6.962}"
            ]
          },
          "metadata": {},
          "execution_count": 158
        }
      ]
    },
    {
      "cell_type": "markdown",
      "source": [
        "## Saving the model "
      ],
      "metadata": {
        "id": "ApZzOHQwkjiM"
      }
    },
    {
      "cell_type": "code",
      "source": [
        "!ls -ltra airline_tweet_lp_real"
      ],
      "metadata": {
        "colab": {
          "base_uri": "https://localhost:8080/"
        },
        "id": "e8TaVVZkmXIn",
        "outputId": "a4378691-663e-4d9d-fd40-787d0814be83"
      },
      "execution_count": 159,
      "outputs": [
        {
          "output_type": "stream",
          "name": "stdout",
          "text": [
            "ls: cannot access 'airline_tweet_lp_real': No such file or directory\n"
          ]
        }
      ]
    },
    {
      "cell_type": "code",
      "source": [
        "from transformers import pipeline\n",
        "#loading the trained model with a specific checkpoint\n",
        "imdb_model = pipeline('text-classification',\n",
        "                      model=f\"{model_name}/checkpoint-3126\",\n",
        "                      device=0)"
      ],
      "metadata": {
        "id": "_N1-trgIkix9"
      },
      "execution_count": 160,
      "outputs": []
    },
    {
      "cell_type": "code",
      "source": [
        "imdb_model(data['test']['cleaned_reviews'][0])"
      ],
      "metadata": {
        "colab": {
          "base_uri": "https://localhost:8080/"
        },
        "id": "qIyvwbtHFT8c",
        "outputId": "1963a194-5c32-4e8a-b933-0c6ea6b6a852"
      },
      "execution_count": 161,
      "outputs": [
        {
          "output_type": "execute_result",
          "data": {
            "text/plain": [
              "[{'label': 'positive', 'score': 0.5062223672866821}]"
            ]
          },
          "metadata": {},
          "execution_count": 161
        }
      ]
    },
    {
      "cell_type": "markdown",
      "source": [
        "## Error Analysis"
      ],
      "metadata": {
        "id": "r72NlnvlkpJU"
      }
    },
    {
      "cell_type": "code",
      "source": [
        "f\"{model_name}/checkpoint-3126\""
      ],
      "metadata": {
        "colab": {
          "base_uri": "https://localhost:8080/",
          "height": 35
        },
        "id": "3mqJfLsAktME",
        "outputId": "08969b58-783d-46de-afb3-9300305d2f97"
      },
      "execution_count": 162,
      "outputs": [
        {
          "output_type": "execute_result",
          "data": {
            "text/plain": [
              "'imdb_data_custom_model/checkpoint-3126'"
            ],
            "application/vnd.google.colaboratory.intrinsic+json": {
              "type": "string"
            }
          },
          "metadata": {},
          "execution_count": 162
        }
      ]
    },
    {
      "cell_type": "code",
      "source": [
        "tokenizer.model_input_names"
      ],
      "metadata": {
        "colab": {
          "base_uri": "https://localhost:8080/"
        },
        "id": "jyorntE9Oxtl",
        "outputId": "86599f6d-3c3d-4868-b744-9f4a9d83c748"
      },
      "execution_count": 163,
      "outputs": [
        {
          "output_type": "execute_result",
          "data": {
            "text/plain": [
              "['input_ids', 'attention_mask']"
            ]
          },
          "metadata": {},
          "execution_count": 163
        }
      ]
    },
    {
      "cell_type": "code",
      "source": [
        "from torch.nn.functional import cross_entropy\n",
        "def forward_pass_with_custom_model(batch):\n",
        "    #place all input tensors on the device \n",
        "    inputs = {k: v.to(device) for k, v in batch.items() if k in tokenizer.model_input_names}\n",
        "    #call the model\n",
        "    with torch.no_grad():\n",
        "        outputs = model_distilbert(input_ids=inputs[\"input_ids\"].to(device) , attention_mask=inputs[\"attention_mask\"].to(device), labels=batch[\"label\"].to(device))\n",
        "        #get the logits\n",
        "        logits = outputs.logits\n",
        "        pred_labels = logits.argmax(-1)\n",
        "        loss = cross_entropy(logits, batch[\"label\"].to(device), reduction=\"none\") #shape of logits is (batch_size, num_labels) and shape of batch[\"label\"] is (batch_size)\n",
        "        #place the outputs on the CPU for compatibility with the other dataset columns  \n",
        "        return {\"pred_labels\": pred_labels.cpu().numpy(),\"batch_loss\": loss.cpu().numpy() }"
      ],
      "metadata": {
        "id": "965VnL_RD9kJ"
      },
      "execution_count": 164,
      "outputs": []
    },
    {
      "cell_type": "code",
      "source": [
        "#convert dataset to pytocrch tensors\n",
        "tokenized_dataset.set_format(\"torch\", columns=[\"input_ids\",\"attention_mask\" ,\"label\"])\n",
        "#Compute loss values\n",
        "tokenized_dataset[\"test\"] = tokenized_dataset[\"test\"].map(forward_pass_with_custom_model, batched=True, batch_size=16)"
      ],
      "metadata": {
        "colab": {
          "base_uri": "https://localhost:8080/"
        },
        "id": "RxA_YBcTLqwB",
        "outputId": "355a4a29-2c79-4986-fa0f-93b72dfec495"
      },
      "execution_count": 165,
      "outputs": [
        {
          "output_type": "stream",
          "name": "stderr",
          "text": [
            "Loading cached processed dataset at /root/.cache/huggingface/datasets/imdb/plain_text/1.0.0/2fdd8b9bcadd6e7055e742a706876ba43f19faee861df134affd7a3f60fc38a1/cache-1c80317fa3b1799d.arrow\n"
          ]
        }
      ]
    },
    {
      "cell_type": "code",
      "source": [
        "index2tag"
      ],
      "metadata": {
        "colab": {
          "base_uri": "https://localhost:8080/"
        },
        "id": "PWFfB9xIceCe",
        "outputId": "33ccd0d8-6cbc-4f96-f7cd-6d30e3fe4615"
      },
      "execution_count": 166,
      "outputs": [
        {
          "output_type": "execute_result",
          "data": {
            "text/plain": [
              "{0: 'negative', 1: 'positive'}"
            ]
          },
          "metadata": {},
          "execution_count": 166
        }
      ]
    },
    {
      "cell_type": "markdown",
      "source": [
        "#### Added the predicted label and loss columns"
      ],
      "metadata": {
        "id": "eNwtzeYaWRUB"
      }
    },
    {
      "cell_type": "code",
      "source": [
        "tokenized_dataset"
      ],
      "metadata": {
        "colab": {
          "base_uri": "https://localhost:8080/"
        },
        "id": "AoxREbxLFNVl",
        "outputId": "8478c3c5-fde1-4fad-850c-e1653c5c3b00"
      },
      "execution_count": 167,
      "outputs": [
        {
          "output_type": "execute_result",
          "data": {
            "text/plain": [
              "DatasetDict({\n",
              "    train: Dataset({\n",
              "        features: ['text', 'label', 'cleaned_reviews', 'input_ids', 'attention_mask'],\n",
              "        num_rows: 25000\n",
              "    })\n",
              "    test: Dataset({\n",
              "        features: ['text', 'label', 'cleaned_reviews', 'input_ids', 'attention_mask', 'pred_labels', 'batch_loss'],\n",
              "        num_rows: 25000\n",
              "    })\n",
              "})"
            ]
          },
          "metadata": {},
          "execution_count": 167
        }
      ]
    },
    {
      "cell_type": "code",
      "source": [
        "tokenized_dataset.set_format(\"pandas\")\n",
        "cols = [\"text\",\"label\",\"pred_labels\",\"batch_loss\",\"cleaned_reviews\"]\n",
        "df_test= tokenized_dataset[\"test\"][:][cols]\n",
        "df_test['label'] = df_test[\"label\"].map(index2tag)\n",
        "df_test['pred_labels']=df_test['pred_labels'].map(index2tag)\n"
      ],
      "metadata": {
        "id": "cv9s13jQbgoh"
      },
      "execution_count": 168,
      "outputs": []
    },
    {
      "cell_type": "code",
      "source": [
        "df_test.head(1)"
      ],
      "metadata": {
        "colab": {
          "base_uri": "https://localhost:8080/",
          "height": 455
        },
        "id": "1JPUWAiMcRal",
        "outputId": "4fa44fe4-9a66-4ddc-f42c-f232bb4190ba"
      },
      "execution_count": 169,
      "outputs": [
        {
          "output_type": "execute_result",
          "data": {
            "text/plain": [
              "                                                                                                                                                                                                                                                                                                                                                                                                                                                                                                                                                                                                                                                                                                                                                                                                                                                                                                                                                                                                                                                                                                                                                                                                                                                                                                                                                                                                                                         text  \\\n",
              "0  I love sci-fi and am willing to put up with a lot. Sci-fi movies/TV are usually underfunded, under-appreciated and misunderstood. I tried to like this, I really did, but it is to good TV sci-fi as Babylon 5 is to Star Trek (the original). Silly prosthetics, cheap cardboard sets, stilted dialogues, CG that doesn't match the background, and painfully one-dimensional characters cannot be overcome with a 'sci-fi' setting. (I'm sure there are those of you out there who think Babylon 5 is good sci-fi TV. It's not. It's clichéd and uninspiring.) While US viewers might like emotion and character development, sci-fi is a genre that does not take itself seriously (cf. Star Trek). It may treat important issues, yet not as a serious philosophy. It's really difficult to care about the characters here as they are not simply foolish, just missing a spark of life. Their actions and reactions are wooden and predictable, often painful to watch. The makers of Earth KNOW it's rubbish as they have to always say \"Gene Roddenberry's Earth...\" otherwise people would not continue watching. Roddenberry's ashes must be turning in their orbit as this dull, cheap, poorly edited (watching it without advert breaks really brings this home) trudging Trabant of a show lumbers into space. Spoiler. So, kill off a main character. And then bring him back as another actor. Jeeez! Dallas all over again.   \n",
              "\n",
              "      label pred_labels  batch_loss  \\\n",
              "0  negative    negative    0.003289   \n",
              "\n",
              "                                                                                                                                                                                                                                                                                                                                                                                                                                                                                                                                                                                                                                                                                                                                                                                                      cleaned_reviews  \n",
              "0  love and am willing to put up with a are usually and tried to like really but it is to good as 5 is to cheap cardboard stilted that doesn't match the and painfully characters cannot be overcome with a sure there are those of you out there who think 5 is good clichéd and viewers might like emotion and character is a genre that does not take itself seriously may treat important yet not as a serious really difficult to care about the characters here as they are not simply just missing a of actions and reactions are wooden and often painful to makers of it's rubbish as they have to always say otherwise people would not continue must be turning in their as this poorly edited it without breaks really brings this of a show into kill off a main then bring him back as another all over  "
            ],
            "text/html": [
              "\n",
              "  <div id=\"df-cb8bf7c4-65c0-4260-8b5b-698e5c8e8515\">\n",
              "    <div class=\"colab-df-container\">\n",
              "      <div>\n",
              "<style scoped>\n",
              "    .dataframe tbody tr th:only-of-type {\n",
              "        vertical-align: middle;\n",
              "    }\n",
              "\n",
              "    .dataframe tbody tr th {\n",
              "        vertical-align: top;\n",
              "    }\n",
              "\n",
              "    .dataframe thead th {\n",
              "        text-align: right;\n",
              "    }\n",
              "</style>\n",
              "<table border=\"1\" class=\"dataframe\">\n",
              "  <thead>\n",
              "    <tr style=\"text-align: right;\">\n",
              "      <th></th>\n",
              "      <th>text</th>\n",
              "      <th>label</th>\n",
              "      <th>pred_labels</th>\n",
              "      <th>batch_loss</th>\n",
              "      <th>cleaned_reviews</th>\n",
              "    </tr>\n",
              "  </thead>\n",
              "  <tbody>\n",
              "    <tr>\n",
              "      <th>0</th>\n",
              "      <td>I love sci-fi and am willing to put up with a lot. Sci-fi movies/TV are usually underfunded, under-appreciated and misunderstood. I tried to like this, I really did, but it is to good TV sci-fi as Babylon 5 is to Star Trek (the original). Silly prosthetics, cheap cardboard sets, stilted dialogues, CG that doesn't match the background, and painfully one-dimensional characters cannot be overcome with a 'sci-fi' setting. (I'm sure there are those of you out there who think Babylon 5 is good sci-fi TV. It's not. It's clichéd and uninspiring.) While US viewers might like emotion and character development, sci-fi is a genre that does not take itself seriously (cf. Star Trek). It may treat important issues, yet not as a serious philosophy. It's really difficult to care about the characters here as they are not simply foolish, just missing a spark of life. Their actions and reactions are wooden and predictable, often painful to watch. The makers of Earth KNOW it's rubbish as they have to always say \"Gene Roddenberry's Earth...\" otherwise people would not continue watching. Roddenberry's ashes must be turning in their orbit as this dull, cheap, poorly edited (watching it without advert breaks really brings this home) trudging Trabant of a show lumbers into space. Spoiler. So, kill off a main character. And then bring him back as another actor. Jeeez! Dallas all over again.</td>\n",
              "      <td>negative</td>\n",
              "      <td>negative</td>\n",
              "      <td>0.003289</td>\n",
              "      <td>love and am willing to put up with a are usually and tried to like really but it is to good as 5 is to cheap cardboard stilted that doesn't match the and painfully characters cannot be overcome with a sure there are those of you out there who think 5 is good clichéd and viewers might like emotion and character is a genre that does not take itself seriously may treat important yet not as a serious really difficult to care about the characters here as they are not simply just missing a of actions and reactions are wooden and often painful to makers of it's rubbish as they have to always say otherwise people would not continue must be turning in their as this poorly edited it without breaks really brings this of a show into kill off a main then bring him back as another all over</td>\n",
              "    </tr>\n",
              "  </tbody>\n",
              "</table>\n",
              "</div>\n",
              "      <button class=\"colab-df-convert\" onclick=\"convertToInteractive('df-cb8bf7c4-65c0-4260-8b5b-698e5c8e8515')\"\n",
              "              title=\"Convert this dataframe to an interactive table.\"\n",
              "              style=\"display:none;\">\n",
              "        \n",
              "  <svg xmlns=\"http://www.w3.org/2000/svg\" height=\"24px\"viewBox=\"0 0 24 24\"\n",
              "       width=\"24px\">\n",
              "    <path d=\"M0 0h24v24H0V0z\" fill=\"none\"/>\n",
              "    <path d=\"M18.56 5.44l.94 2.06.94-2.06 2.06-.94-2.06-.94-.94-2.06-.94 2.06-2.06.94zm-11 1L8.5 8.5l.94-2.06 2.06-.94-2.06-.94L8.5 2.5l-.94 2.06-2.06.94zm10 10l.94 2.06.94-2.06 2.06-.94-2.06-.94-.94-2.06-.94 2.06-2.06.94z\"/><path d=\"M17.41 7.96l-1.37-1.37c-.4-.4-.92-.59-1.43-.59-.52 0-1.04.2-1.43.59L10.3 9.45l-7.72 7.72c-.78.78-.78 2.05 0 2.83L4 21.41c.39.39.9.59 1.41.59.51 0 1.02-.2 1.41-.59l7.78-7.78 2.81-2.81c.8-.78.8-2.07 0-2.86zM5.41 20L4 18.59l7.72-7.72 1.47 1.35L5.41 20z\"/>\n",
              "  </svg>\n",
              "      </button>\n",
              "      \n",
              "  <style>\n",
              "    .colab-df-container {\n",
              "      display:flex;\n",
              "      flex-wrap:wrap;\n",
              "      gap: 12px;\n",
              "    }\n",
              "\n",
              "    .colab-df-convert {\n",
              "      background-color: #E8F0FE;\n",
              "      border: none;\n",
              "      border-radius: 50%;\n",
              "      cursor: pointer;\n",
              "      display: none;\n",
              "      fill: #1967D2;\n",
              "      height: 32px;\n",
              "      padding: 0 0 0 0;\n",
              "      width: 32px;\n",
              "    }\n",
              "\n",
              "    .colab-df-convert:hover {\n",
              "      background-color: #E2EBFA;\n",
              "      box-shadow: 0px 1px 2px rgba(60, 64, 67, 0.3), 0px 1px 3px 1px rgba(60, 64, 67, 0.15);\n",
              "      fill: #174EA6;\n",
              "    }\n",
              "\n",
              "    [theme=dark] .colab-df-convert {\n",
              "      background-color: #3B4455;\n",
              "      fill: #D2E3FC;\n",
              "    }\n",
              "\n",
              "    [theme=dark] .colab-df-convert:hover {\n",
              "      background-color: #434B5C;\n",
              "      box-shadow: 0px 1px 3px 1px rgba(0, 0, 0, 0.15);\n",
              "      filter: drop-shadow(0px 1px 2px rgba(0, 0, 0, 0.3));\n",
              "      fill: #FFFFFF;\n",
              "    }\n",
              "  </style>\n",
              "\n",
              "      <script>\n",
              "        const buttonEl =\n",
              "          document.querySelector('#df-cb8bf7c4-65c0-4260-8b5b-698e5c8e8515 button.colab-df-convert');\n",
              "        buttonEl.style.display =\n",
              "          google.colab.kernel.accessAllowed ? 'block' : 'none';\n",
              "\n",
              "        async function convertToInteractive(key) {\n",
              "          const element = document.querySelector('#df-cb8bf7c4-65c0-4260-8b5b-698e5c8e8515');\n",
              "          const dataTable =\n",
              "            await google.colab.kernel.invokeFunction('convertToInteractive',\n",
              "                                                     [key], {});\n",
              "          if (!dataTable) return;\n",
              "\n",
              "          const docLinkHtml = 'Like what you see? Visit the ' +\n",
              "            '<a target=\"_blank\" href=https://colab.research.google.com/notebooks/data_table.ipynb>data table notebook</a>'\n",
              "            + ' to learn more about interactive tables.';\n",
              "          element.innerHTML = '';\n",
              "          dataTable['output_type'] = 'display_data';\n",
              "          await google.colab.output.renderOutput(dataTable, element);\n",
              "          const docLink = document.createElement('div');\n",
              "          docLink.innerHTML = docLinkHtml;\n",
              "          element.appendChild(docLink);\n",
              "        }\n",
              "      </script>\n",
              "    </div>\n",
              "  </div>\n",
              "  "
            ]
          },
          "metadata": {},
          "execution_count": 169
        }
      ]
    },
    {
      "cell_type": "markdown",
      "source": [
        "#### Rows with the Maximum Loss"
      ],
      "metadata": {
        "id": "v8KFyDpiWyKg"
      }
    },
    {
      "cell_type": "code",
      "source": [
        "df_test.sort_values(\"batch_loss\",ascending=False).head(2)"
      ],
      "metadata": {
        "colab": {
          "base_uri": "https://localhost:8080/",
          "height": 972
        },
        "id": "UsdxqIsLcmks",
        "outputId": "b95bf9b0-e36b-4bb5-b8b8-e8dcc7f2a111"
      },
      "execution_count": 170,
      "outputs": [
        {
          "output_type": "execute_result",
          "data": {
            "text/plain": [
              "                                                                                                                                                                                                                                                                                                                                                                                                                                                                                                                                                                                                                                                                                                                                                                                                                                                                                                                                                                                                                                                                                                                                                                                                                                                                                                                                                                                                                                                                                                                                                                                                                                                                                                                                                      text  \\\n",
              "9543   Lois Weber's film \"Hypocrites\" was and still kind of is a very bold and daring film. I enjoyed it and was very impressed by the filming and story of it. The priest sees the hypocrisy of the people in his church and tries to show them the \"naked\" truth. The people are appalled when he reveals the naked statue portraying truth, after failing to lead them to it and the few that did, help along the way. The people do not want to face the truth that they are doing anything wrong, but it shows them putting things before God, going to beach parties acting inappropriate, their materialistic ways, and other things in which the people of our world do that tend to not be morally right. In the end, failing to gain any followers, he must enter into the gates of heaven alone. This film seems to me to be very bold, in the fact that a naked woman is shown throughout it, especially considering the time period in which this film was made. The imagery and symbolism portrayed in this movie I found incredible. The way they made the naked woman translucent and using a naked woman to symbolize the naked truth shows a lot of creativity and art. Showing the different sins of the people as they walked down the road and refused to follow along the path, each with different excuses, setbacks, and/or higher priorities, was a great way of representing the people of today. This film does a very good job of getting the moral message across to its audience. Lois Weber has a tremendous way of capturing her spectators' attention with her creativity, symbolism, visuals, and through auditory. Even the music of the piano throughout this film is very beautiful and fitting with the whole theme.   \n",
              "19488                                                                                                                                                                                                                                                                                                                     The lovely, yet lethal Alexandra (stunning statuesque blonde beauty Stacie Randall, who looks absolutely smashing in a tight black leather outfit) must find a magic amulet so her evil demonic master Faust can cross over into our dimension. It's up to fearless, rugged cop Jonathan Graves (likable Peter Liapis) to stop her. Meanwhile, two pitifully unfunny \"comic relief\" dwarf gnome creatures run amok in Los Angeles. Seasoned veteran schlock exploitation expert Jim Wynorski relates the supremely inane story at a brisk pace and takes none of this foolishness remotely seriously. The cast struggle gamely with the silly material: the adorable Barbara Alyn Woods as sassy, fetching police captain Kate, Raquel Krelle as tart, sexy hooker Jeanine, Bobby Di Cicco as Graves' bumbling, excitable partner Scotty, Peggy Trentini as alluring museum curator Monica, and Ace Mask as the jolly Dr. Rochelle. Mark Stevi's puerile cookie cutter script, an amusingly lowbrow sense of no-brainer humor, Chuck Cirino's bouncy cornball score, the two dwarf guys sporting obvious cheap rubber Halloween masks, J.E. Bash's plain cinematography, no tension or gratuitous female nudity to speak of, and the tacky (less than) special effects all further enhance the overall delicious cheesiness of this prime slice of celluloid Velveeta. An entertainingly brainless piece of lovably lousy dreck.   \n",
              "\n",
              "          label pred_labels  batch_loss  \\\n",
              "9543   negative    positive    6.282280   \n",
              "19488  positive    negative    6.233587   \n",
              "\n",
              "                                                                                                                                                                                                                                                                                                                                                                                                                                                                                                                                                                                                                                                                                                                                                                                                                                                                                                                                                                                                                                                                                                                                                                                                                                                                          cleaned_reviews  \n",
              "9543   film was and still kind of is a very bold and daring enjoyed it and was very impressed by the filming and story of priest sees the of the people in his church and tries to show them the people are when he reveals the naked portraying after failing to lead them to it and the few that help along the people do not want to face the truth that they are doing anything but it shows them putting things before going to beach parties acting their and other things in which the people of our world do that tend to not be the failing to gain any he must enter into the of heaven film seems to me to be very in the fact that a naked woman is shown throughout especially considering the time period in which this film was imagery and symbolism portrayed in this movie found way they made the naked woman and using a naked woman to the naked truth shows a lot of creativity and the different of the people as they walked down the road and to follow along the each with different higher was a great way of the people of film does a very good job of getting the moral message across to its has a tremendous way of capturing her attention with her and through the music of the piano throughout this film is very beautiful and fitting with the whole  \n",
              "19488                                                                                                                                                                                                                                                                                                                                                                                                                                                                                                                                                                                                                                                                                                                         yet blonde beauty who looks absolutely in a tight black must find a magic so her evil master can cross over into our up to cop to stop two unfunny creatures run in veteran exploitation expert the inane story at a pace and takes none of this remotely cast struggle with the silly the adorable as police captain as sexy as partner as museum and as the an sense of the two guys obvious cheap rubber plain no tension or gratuitous female nudity to speak and the special effects all further the overall of this prime of celluloid piece of lousy  "
            ],
            "text/html": [
              "\n",
              "  <div id=\"df-80be81a3-2b75-4976-9463-0faa75a7d4f6\">\n",
              "    <div class=\"colab-df-container\">\n",
              "      <div>\n",
              "<style scoped>\n",
              "    .dataframe tbody tr th:only-of-type {\n",
              "        vertical-align: middle;\n",
              "    }\n",
              "\n",
              "    .dataframe tbody tr th {\n",
              "        vertical-align: top;\n",
              "    }\n",
              "\n",
              "    .dataframe thead th {\n",
              "        text-align: right;\n",
              "    }\n",
              "</style>\n",
              "<table border=\"1\" class=\"dataframe\">\n",
              "  <thead>\n",
              "    <tr style=\"text-align: right;\">\n",
              "      <th></th>\n",
              "      <th>text</th>\n",
              "      <th>label</th>\n",
              "      <th>pred_labels</th>\n",
              "      <th>batch_loss</th>\n",
              "      <th>cleaned_reviews</th>\n",
              "    </tr>\n",
              "  </thead>\n",
              "  <tbody>\n",
              "    <tr>\n",
              "      <th>9543</th>\n",
              "      <td>Lois Weber's film \"Hypocrites\" was and still kind of is a very bold and daring film. I enjoyed it and was very impressed by the filming and story of it. The priest sees the hypocrisy of the people in his church and tries to show them the \"naked\" truth. The people are appalled when he reveals the naked statue portraying truth, after failing to lead them to it and the few that did, help along the way. The people do not want to face the truth that they are doing anything wrong, but it shows them putting things before God, going to beach parties acting inappropriate, their materialistic ways, and other things in which the people of our world do that tend to not be morally right. In the end, failing to gain any followers, he must enter into the gates of heaven alone. This film seems to me to be very bold, in the fact that a naked woman is shown throughout it, especially considering the time period in which this film was made. The imagery and symbolism portrayed in this movie I found incredible. The way they made the naked woman translucent and using a naked woman to symbolize the naked truth shows a lot of creativity and art. Showing the different sins of the people as they walked down the road and refused to follow along the path, each with different excuses, setbacks, and/or higher priorities, was a great way of representing the people of today. This film does a very good job of getting the moral message across to its audience. Lois Weber has a tremendous way of capturing her spectators' attention with her creativity, symbolism, visuals, and through auditory. Even the music of the piano throughout this film is very beautiful and fitting with the whole theme.</td>\n",
              "      <td>negative</td>\n",
              "      <td>positive</td>\n",
              "      <td>6.282280</td>\n",
              "      <td>film was and still kind of is a very bold and daring enjoyed it and was very impressed by the filming and story of priest sees the of the people in his church and tries to show them the people are when he reveals the naked portraying after failing to lead them to it and the few that help along the people do not want to face the truth that they are doing anything but it shows them putting things before going to beach parties acting their and other things in which the people of our world do that tend to not be the failing to gain any he must enter into the of heaven film seems to me to be very in the fact that a naked woman is shown throughout especially considering the time period in which this film was imagery and symbolism portrayed in this movie found way they made the naked woman and using a naked woman to the naked truth shows a lot of creativity and the different of the people as they walked down the road and to follow along the each with different higher was a great way of the people of film does a very good job of getting the moral message across to its has a tremendous way of capturing her attention with her and through the music of the piano throughout this film is very beautiful and fitting with the whole</td>\n",
              "    </tr>\n",
              "    <tr>\n",
              "      <th>19488</th>\n",
              "      <td>The lovely, yet lethal Alexandra (stunning statuesque blonde beauty Stacie Randall, who looks absolutely smashing in a tight black leather outfit) must find a magic amulet so her evil demonic master Faust can cross over into our dimension. It's up to fearless, rugged cop Jonathan Graves (likable Peter Liapis) to stop her. Meanwhile, two pitifully unfunny \"comic relief\" dwarf gnome creatures run amok in Los Angeles. Seasoned veteran schlock exploitation expert Jim Wynorski relates the supremely inane story at a brisk pace and takes none of this foolishness remotely seriously. The cast struggle gamely with the silly material: the adorable Barbara Alyn Woods as sassy, fetching police captain Kate, Raquel Krelle as tart, sexy hooker Jeanine, Bobby Di Cicco as Graves' bumbling, excitable partner Scotty, Peggy Trentini as alluring museum curator Monica, and Ace Mask as the jolly Dr. Rochelle. Mark Stevi's puerile cookie cutter script, an amusingly lowbrow sense of no-brainer humor, Chuck Cirino's bouncy cornball score, the two dwarf guys sporting obvious cheap rubber Halloween masks, J.E. Bash's plain cinematography, no tension or gratuitous female nudity to speak of, and the tacky (less than) special effects all further enhance the overall delicious cheesiness of this prime slice of celluloid Velveeta. An entertainingly brainless piece of lovably lousy dreck.</td>\n",
              "      <td>positive</td>\n",
              "      <td>negative</td>\n",
              "      <td>6.233587</td>\n",
              "      <td>yet blonde beauty who looks absolutely in a tight black must find a magic so her evil master can cross over into our up to cop to stop two unfunny creatures run in veteran exploitation expert the inane story at a pace and takes none of this remotely cast struggle with the silly the adorable as police captain as sexy as partner as museum and as the an sense of the two guys obvious cheap rubber plain no tension or gratuitous female nudity to speak and the special effects all further the overall of this prime of celluloid piece of lousy</td>\n",
              "    </tr>\n",
              "  </tbody>\n",
              "</table>\n",
              "</div>\n",
              "      <button class=\"colab-df-convert\" onclick=\"convertToInteractive('df-80be81a3-2b75-4976-9463-0faa75a7d4f6')\"\n",
              "              title=\"Convert this dataframe to an interactive table.\"\n",
              "              style=\"display:none;\">\n",
              "        \n",
              "  <svg xmlns=\"http://www.w3.org/2000/svg\" height=\"24px\"viewBox=\"0 0 24 24\"\n",
              "       width=\"24px\">\n",
              "    <path d=\"M0 0h24v24H0V0z\" fill=\"none\"/>\n",
              "    <path d=\"M18.56 5.44l.94 2.06.94-2.06 2.06-.94-2.06-.94-.94-2.06-.94 2.06-2.06.94zm-11 1L8.5 8.5l.94-2.06 2.06-.94-2.06-.94L8.5 2.5l-.94 2.06-2.06.94zm10 10l.94 2.06.94-2.06 2.06-.94-2.06-.94-.94-2.06-.94 2.06-2.06.94z\"/><path d=\"M17.41 7.96l-1.37-1.37c-.4-.4-.92-.59-1.43-.59-.52 0-1.04.2-1.43.59L10.3 9.45l-7.72 7.72c-.78.78-.78 2.05 0 2.83L4 21.41c.39.39.9.59 1.41.59.51 0 1.02-.2 1.41-.59l7.78-7.78 2.81-2.81c.8-.78.8-2.07 0-2.86zM5.41 20L4 18.59l7.72-7.72 1.47 1.35L5.41 20z\"/>\n",
              "  </svg>\n",
              "      </button>\n",
              "      \n",
              "  <style>\n",
              "    .colab-df-container {\n",
              "      display:flex;\n",
              "      flex-wrap:wrap;\n",
              "      gap: 12px;\n",
              "    }\n",
              "\n",
              "    .colab-df-convert {\n",
              "      background-color: #E8F0FE;\n",
              "      border: none;\n",
              "      border-radius: 50%;\n",
              "      cursor: pointer;\n",
              "      display: none;\n",
              "      fill: #1967D2;\n",
              "      height: 32px;\n",
              "      padding: 0 0 0 0;\n",
              "      width: 32px;\n",
              "    }\n",
              "\n",
              "    .colab-df-convert:hover {\n",
              "      background-color: #E2EBFA;\n",
              "      box-shadow: 0px 1px 2px rgba(60, 64, 67, 0.3), 0px 1px 3px 1px rgba(60, 64, 67, 0.15);\n",
              "      fill: #174EA6;\n",
              "    }\n",
              "\n",
              "    [theme=dark] .colab-df-convert {\n",
              "      background-color: #3B4455;\n",
              "      fill: #D2E3FC;\n",
              "    }\n",
              "\n",
              "    [theme=dark] .colab-df-convert:hover {\n",
              "      background-color: #434B5C;\n",
              "      box-shadow: 0px 1px 3px 1px rgba(0, 0, 0, 0.15);\n",
              "      filter: drop-shadow(0px 1px 2px rgba(0, 0, 0, 0.3));\n",
              "      fill: #FFFFFF;\n",
              "    }\n",
              "  </style>\n",
              "\n",
              "      <script>\n",
              "        const buttonEl =\n",
              "          document.querySelector('#df-80be81a3-2b75-4976-9463-0faa75a7d4f6 button.colab-df-convert');\n",
              "        buttonEl.style.display =\n",
              "          google.colab.kernel.accessAllowed ? 'block' : 'none';\n",
              "\n",
              "        async function convertToInteractive(key) {\n",
              "          const element = document.querySelector('#df-80be81a3-2b75-4976-9463-0faa75a7d4f6');\n",
              "          const dataTable =\n",
              "            await google.colab.kernel.invokeFunction('convertToInteractive',\n",
              "                                                     [key], {});\n",
              "          if (!dataTable) return;\n",
              "\n",
              "          const docLinkHtml = 'Like what you see? Visit the ' +\n",
              "            '<a target=\"_blank\" href=https://colab.research.google.com/notebooks/data_table.ipynb>data table notebook</a>'\n",
              "            + ' to learn more about interactive tables.';\n",
              "          element.innerHTML = '';\n",
              "          dataTable['output_type'] = 'display_data';\n",
              "          await google.colab.output.renderOutput(dataTable, element);\n",
              "          const docLink = document.createElement('div');\n",
              "          docLink.innerHTML = docLinkHtml;\n",
              "          element.appendChild(docLink);\n",
              "        }\n",
              "      </script>\n",
              "    </div>\n",
              "  </div>\n",
              "  "
            ]
          },
          "metadata": {},
          "execution_count": 170
        }
      ]
    },
    {
      "cell_type": "markdown",
      "source": [
        "#### Rows with Minimum Loss"
      ],
      "metadata": {
        "id": "zRBYCAdIW5no"
      }
    },
    {
      "cell_type": "code",
      "source": [
        "df_test.sort_values(\"batch_loss\",ascending=True).head(2)"
      ],
      "metadata": {
        "colab": {
          "base_uri": "https://localhost:8080/",
          "height": 1000
        },
        "id": "lrktFi3odr-g",
        "outputId": "64f5bab3-65e3-4e79-955a-1d58bee236a0"
      },
      "execution_count": 171,
      "outputs": [
        {
          "output_type": "execute_result",
          "data": {
            "text/plain": [
              "                                                                                                                                                                                                                                                                                                                                                                                                                                                                                                                                                                                                                                                                                                                                                                                                                                                                                                                                                                                                                                                                                                                                                                                                                                                                                                                                                                                                                                                                                                                                                                                                                                                                                                                                                                                                                                                                                                                                                                                                                                                                                                                                                                                                                                                                                                                                                                                                                                                                                                                                                                                                                                                                                                                                                                                                                                                                                                                                                                                                                                                                                                                                                                                                                                                                                                                                                                                                                                                                                                                                 text  \\\n",
              "24354  The Cure is an outstanding real-life drama that deals with a very sensitive subject. It is the story of the profound and dear friendship between two boys, Eric and Dexter. The latter has acquired AIDS from a blood transfusion. Thus he and his mom (Annabella Sciorra) have become outcasts, shunned by the public and labeled as dangerous company, basically due to a common lack of public knowledge of the disease.<br /><br />When Eric (Brad Renfro, known from 'The Client' and 'Apt Pupil') and his mom move into the house next to them, he has to deal with public insults and the fear of catching AIDS himself. However, Eric overcomes his fear and risks everything. At first he starts talking to Dexter, but eventually he climbs over the fence and joins the witty boy (played by Jurassic Park's Joseph Mazzello) and his games. Very quickly he develops a real friendship with Dexter, who is delicately built and frail due to his condition.<br /><br />The central theme of the movie  the theme which makes it pervasively authentic and tragic at the same time  is how Eric and Dexter try to find the ultimate cure. At first they experiment with all kinds of plants and leaves  which is very naive, but also genuine at the same time, as it shows how young kids deal with such heinous diseases and how strongly they still believe in the magic of the world. When they hear about an alleged cure which has been developed in the South, they do not hesitate and take off for an adventure that will bring them even closer together and symbolizes the ultimate quest for hope.<br /><br />So they board a raft and head southwards on the Mississippi River. What starts as a real adventure becomes a dangerous undertaking, which is emotionally intriguing and instructive at the same time. The scene when Dexter reveals his fears and talks about the end of the universe, where everything is dark and cold, Eric hands him his sneaker, a symbol that wherever the boy may have to go, Eric is and will always be with him; he will never have to be alone. This sequence, which is one of the most compelling ones of the movie, features a very convincing interaction between the two actors, who manage to avoid awkward and corny dialogs and deliver a very genuine performance that is eventually smashing in its tenderness and honesty.<br /><br />I will not go any further in outlining the plot, as I do not intend to give away too much information. The ending however is emotionally tough and makes the audience so much a part of the tragedy that everyone who watches the movie will feel personally affected. This aspect makes this movie so strong, so outstanding and so convincing. The emotional burden on every character is so real and so thrashing that even the tougher members of the audience might need some hankies.<br /><br />A 10 is doing justice to this movie and is not too high a rating. There is hardly any other movie I have seen in my life so far that handles such an emotional issue with so much wit and sensibility. It is the story of how two boys make each other's life richer and how they teach each other lessons of life. Thus Dexter overcomes his isolation and sadness, and Eric learns what really counts in life; and both of them realize how much of a gift real friendship is when it comes to the hardest moments of life.<br /><br />This movie is tragic  but its message is sheer inspiration.   \n",
              "1853                                                                                                                                                                                                                                                                                                                                                                                                                                                                                                                                                                                                                                                                                                                                                                                                                                                                                                                                                                                                                                                                                                                                                                                                                                                                                                                                                                                                                                                                                                                                                                                                                                                                                                                                                                                                                                                                                                             Jerry Angell, owner of zombie-horror's finest mullet, returns for more undead action in the sequel to director Todd Sheets' atrocious home-made gore-fest Zombie Bloodbath. This time around, Jerry plays a sleazy low-life thug who, along with his equally despicable partner-in-crime, some escaped convicts, several teenagers, and a bunch of screaming girls, comes face-to-face with a horde of shambling, flesh-eating corpses.<br /><br />Obviously having learnt zilch about improving his craft in the two years since Zombie Bloodbath, Sheets delivers another shoddy mess of a film that somehow manages to be even worse than the originala feat that I thought was almost impossible to achieve. The acting is uniformly lousy, the effects amateurish and cheap (most of the gore appears to be nothing more than a selection of offcuts, offal and blood from the local butcher's shop), the story incomprehensible (as far as I could fathom, the zombies rise from the dead because a scarecrow commands them to!!!), and the direction frustratingly laden with cheap looking video effects and completely meaningless cuts to black-and-white.<br /><br />And as if that wasn't enough to convince you of this film's complete lack of redeeming features, the simply mind-bogglingly moronic ending should do the trick: the few remaining survivors stumble upon an abandoned truck that conveniently happens to have a stash of flesh-eating bacteria laying on its passenger seatjust the thing for dissolving the undead (but, strangely enough, not at all detrimental to the living).   \n",
              "\n",
              "          label pred_labels  batch_loss  \\\n",
              "24354  positive    positive    0.001177   \n",
              "1853   negative    negative    0.001214   \n",
              "\n",
              "                                                                                                                                                                                                                                                                                                                                                                                                                                                                                                                                                                                                                                                                                                                                                                                                                                                                                                                                                                                                                                                                                                                                                                                                                                                                                                                                                                                                                                                                                                                                                                                                                                                                                                                                                                                                                                                                                                                                                                                                                                                                                                                                                                                                                                                                                                                                                                                                              cleaned_reviews  \n",
              "24354  is an outstanding drama that deals with a very sensitive is the story of the profound and dear friendship between two and latter has from a blood he and his mom have become by the public and as dangerous basically due to a common lack of public knowledge of the known from and and his mom move into the house next to he has to deal with public and the fear of catching his fear and first he starts talking to but eventually he over the and the witty boy by and his quickly he develops a real friendship with who is built and due to his central theme of the movie  the theme which makes it authentic and tragic at the same time  is how and try to find the ultimate first they experiment with all kinds of and leaves  which is very but also genuine at the same as it shows how young kids deal with such and how strongly they still believe in the magic of the they hear about an cure which has been developed in the they do not and take off for an adventure that will bring them even closer together and the ultimate quest for they board a and head on the starts as a real adventure becomes a dangerous which is emotionally intriguing and at the same scene when reveals his fears and talks about the end of the where everything is dark and hands him his a that the boy may have to is and will always be with he will never have to be which is one of the most compelling ones of the features a very convincing interaction between the two who manage to avoid awkward and corny dialogs and deliver a very genuine performance that is eventually in its and will not go any further in the as do not to give away too much ending however is emotionally tough and makes the audience so much a part of the tragedy that everyone who watches the movie will feel personally aspect makes this movie so so outstanding and so emotional on every character is so real and so that even the members of the audience might need some 10 is doing justice to this movie and is not too high a is hardly any other movie have seen in my life so far that such an emotional issue with so much wit and is the story of how two boys make each life and how they teach each other lessons of his and and learns what really in and both of them realize how much of a gift real friendship is when it comes to the moments of movie is tragic  but its message is sheer  \n",
              "1853                                                                                                                                                                                                                                                                                                                                                                                                                                                                                                                                                                                                                                                                                                                                                                                                                                                                                                                                                                                                                                                                                                                                                                                                                                                                                                                                                                                                                                                                                         owner of finest returns for more action in the sequel to director atrocious time plays a sleazy along with his equally some escaped several and a bunch of screaming comes with a of having about his craft in the two years since delivers another mess of a film that somehow manages to be even worse than the that thought was almost impossible to acting is the effects amateurish and cheap of the gore appears to be nothing more than a of and blood from the local the story incomprehensible far as could the zombies rise from the dead because a scarecrow them and the direction with cheap looking video effects and completely meaningless cuts to as if that wasn't enough to convince you of this film's complete lack of redeeming the simply moronic ending should do the the few remaining survivors upon an abandoned truck that happens to have a of on its the thing for the strangely not at all to the  "
            ],
            "text/html": [
              "\n",
              "  <div id=\"df-b2f180b5-458e-4601-9682-6044986cb91e\">\n",
              "    <div class=\"colab-df-container\">\n",
              "      <div>\n",
              "<style scoped>\n",
              "    .dataframe tbody tr th:only-of-type {\n",
              "        vertical-align: middle;\n",
              "    }\n",
              "\n",
              "    .dataframe tbody tr th {\n",
              "        vertical-align: top;\n",
              "    }\n",
              "\n",
              "    .dataframe thead th {\n",
              "        text-align: right;\n",
              "    }\n",
              "</style>\n",
              "<table border=\"1\" class=\"dataframe\">\n",
              "  <thead>\n",
              "    <tr style=\"text-align: right;\">\n",
              "      <th></th>\n",
              "      <th>text</th>\n",
              "      <th>label</th>\n",
              "      <th>pred_labels</th>\n",
              "      <th>batch_loss</th>\n",
              "      <th>cleaned_reviews</th>\n",
              "    </tr>\n",
              "  </thead>\n",
              "  <tbody>\n",
              "    <tr>\n",
              "      <th>24354</th>\n",
              "      <td>The Cure is an outstanding real-life drama that deals with a very sensitive subject. It is the story of the profound and dear friendship between two boys, Eric and Dexter. The latter has acquired AIDS from a blood transfusion. Thus he and his mom (Annabella Sciorra) have become outcasts, shunned by the public and labeled as dangerous company, basically due to a common lack of public knowledge of the disease.&lt;br /&gt;&lt;br /&gt;When Eric (Brad Renfro, known from 'The Client' and 'Apt Pupil') and his mom move into the house next to them, he has to deal with public insults and the fear of catching AIDS himself. However, Eric overcomes his fear and risks everything. At first he starts talking to Dexter, but eventually he climbs over the fence and joins the witty boy (played by Jurassic Park's Joseph Mazzello) and his games. Very quickly he develops a real friendship with Dexter, who is delicately built and frail due to his condition.&lt;br /&gt;&lt;br /&gt;The central theme of the movie  the theme which makes it pervasively authentic and tragic at the same time  is how Eric and Dexter try to find the ultimate cure. At first they experiment with all kinds of plants and leaves  which is very naive, but also genuine at the same time, as it shows how young kids deal with such heinous diseases and how strongly they still believe in the magic of the world. When they hear about an alleged cure which has been developed in the South, they do not hesitate and take off for an adventure that will bring them even closer together and symbolizes the ultimate quest for hope.&lt;br /&gt;&lt;br /&gt;So they board a raft and head southwards on the Mississippi River. What starts as a real adventure becomes a dangerous undertaking, which is emotionally intriguing and instructive at the same time. The scene when Dexter reveals his fears and talks about the end of the universe, where everything is dark and cold, Eric hands him his sneaker, a symbol that wherever the boy may have to go, Eric is and will always be with him; he will never have to be alone. This sequence, which is one of the most compelling ones of the movie, features a very convincing interaction between the two actors, who manage to avoid awkward and corny dialogs and deliver a very genuine performance that is eventually smashing in its tenderness and honesty.&lt;br /&gt;&lt;br /&gt;I will not go any further in outlining the plot, as I do not intend to give away too much information. The ending however is emotionally tough and makes the audience so much a part of the tragedy that everyone who watches the movie will feel personally affected. This aspect makes this movie so strong, so outstanding and so convincing. The emotional burden on every character is so real and so thrashing that even the tougher members of the audience might need some hankies.&lt;br /&gt;&lt;br /&gt;A 10 is doing justice to this movie and is not too high a rating. There is hardly any other movie I have seen in my life so far that handles such an emotional issue with so much wit and sensibility. It is the story of how two boys make each other's life richer and how they teach each other lessons of life. Thus Dexter overcomes his isolation and sadness, and Eric learns what really counts in life; and both of them realize how much of a gift real friendship is when it comes to the hardest moments of life.&lt;br /&gt;&lt;br /&gt;This movie is tragic  but its message is sheer inspiration.</td>\n",
              "      <td>positive</td>\n",
              "      <td>positive</td>\n",
              "      <td>0.001177</td>\n",
              "      <td>is an outstanding drama that deals with a very sensitive is the story of the profound and dear friendship between two and latter has from a blood he and his mom have become by the public and as dangerous basically due to a common lack of public knowledge of the known from and and his mom move into the house next to he has to deal with public and the fear of catching his fear and first he starts talking to but eventually he over the and the witty boy by and his quickly he develops a real friendship with who is built and due to his central theme of the movie  the theme which makes it authentic and tragic at the same time  is how and try to find the ultimate first they experiment with all kinds of and leaves  which is very but also genuine at the same as it shows how young kids deal with such and how strongly they still believe in the magic of the they hear about an cure which has been developed in the they do not and take off for an adventure that will bring them even closer together and the ultimate quest for they board a and head on the starts as a real adventure becomes a dangerous which is emotionally intriguing and at the same scene when reveals his fears and talks about the end of the where everything is dark and hands him his a that the boy may have to is and will always be with he will never have to be which is one of the most compelling ones of the features a very convincing interaction between the two who manage to avoid awkward and corny dialogs and deliver a very genuine performance that is eventually in its and will not go any further in the as do not to give away too much ending however is emotionally tough and makes the audience so much a part of the tragedy that everyone who watches the movie will feel personally aspect makes this movie so so outstanding and so emotional on every character is so real and so that even the members of the audience might need some 10 is doing justice to this movie and is not too high a is hardly any other movie have seen in my life so far that such an emotional issue with so much wit and is the story of how two boys make each life and how they teach each other lessons of his and and learns what really in and both of them realize how much of a gift real friendship is when it comes to the moments of movie is tragic  but its message is sheer</td>\n",
              "    </tr>\n",
              "    <tr>\n",
              "      <th>1853</th>\n",
              "      <td>Jerry Angell, owner of zombie-horror's finest mullet, returns for more undead action in the sequel to director Todd Sheets' atrocious home-made gore-fest Zombie Bloodbath. This time around, Jerry plays a sleazy low-life thug who, along with his equally despicable partner-in-crime, some escaped convicts, several teenagers, and a bunch of screaming girls, comes face-to-face with a horde of shambling, flesh-eating corpses.&lt;br /&gt;&lt;br /&gt;Obviously having learnt zilch about improving his craft in the two years since Zombie Bloodbath, Sheets delivers another shoddy mess of a film that somehow manages to be even worse than the originala feat that I thought was almost impossible to achieve. The acting is uniformly lousy, the effects amateurish and cheap (most of the gore appears to be nothing more than a selection of offcuts, offal and blood from the local butcher's shop), the story incomprehensible (as far as I could fathom, the zombies rise from the dead because a scarecrow commands them to!!!), and the direction frustratingly laden with cheap looking video effects and completely meaningless cuts to black-and-white.&lt;br /&gt;&lt;br /&gt;And as if that wasn't enough to convince you of this film's complete lack of redeeming features, the simply mind-bogglingly moronic ending should do the trick: the few remaining survivors stumble upon an abandoned truck that conveniently happens to have a stash of flesh-eating bacteria laying on its passenger seatjust the thing for dissolving the undead (but, strangely enough, not at all detrimental to the living).</td>\n",
              "      <td>negative</td>\n",
              "      <td>negative</td>\n",
              "      <td>0.001214</td>\n",
              "      <td>owner of finest returns for more action in the sequel to director atrocious time plays a sleazy along with his equally some escaped several and a bunch of screaming comes with a of having about his craft in the two years since delivers another mess of a film that somehow manages to be even worse than the that thought was almost impossible to acting is the effects amateurish and cheap of the gore appears to be nothing more than a of and blood from the local the story incomprehensible far as could the zombies rise from the dead because a scarecrow them and the direction with cheap looking video effects and completely meaningless cuts to as if that wasn't enough to convince you of this film's complete lack of redeeming the simply moronic ending should do the the few remaining survivors upon an abandoned truck that happens to have a of on its the thing for the strangely not at all to the</td>\n",
              "    </tr>\n",
              "  </tbody>\n",
              "</table>\n",
              "</div>\n",
              "      <button class=\"colab-df-convert\" onclick=\"convertToInteractive('df-b2f180b5-458e-4601-9682-6044986cb91e')\"\n",
              "              title=\"Convert this dataframe to an interactive table.\"\n",
              "              style=\"display:none;\">\n",
              "        \n",
              "  <svg xmlns=\"http://www.w3.org/2000/svg\" height=\"24px\"viewBox=\"0 0 24 24\"\n",
              "       width=\"24px\">\n",
              "    <path d=\"M0 0h24v24H0V0z\" fill=\"none\"/>\n",
              "    <path d=\"M18.56 5.44l.94 2.06.94-2.06 2.06-.94-2.06-.94-.94-2.06-.94 2.06-2.06.94zm-11 1L8.5 8.5l.94-2.06 2.06-.94-2.06-.94L8.5 2.5l-.94 2.06-2.06.94zm10 10l.94 2.06.94-2.06 2.06-.94-2.06-.94-.94-2.06-.94 2.06-2.06.94z\"/><path d=\"M17.41 7.96l-1.37-1.37c-.4-.4-.92-.59-1.43-.59-.52 0-1.04.2-1.43.59L10.3 9.45l-7.72 7.72c-.78.78-.78 2.05 0 2.83L4 21.41c.39.39.9.59 1.41.59.51 0 1.02-.2 1.41-.59l7.78-7.78 2.81-2.81c.8-.78.8-2.07 0-2.86zM5.41 20L4 18.59l7.72-7.72 1.47 1.35L5.41 20z\"/>\n",
              "  </svg>\n",
              "      </button>\n",
              "      \n",
              "  <style>\n",
              "    .colab-df-container {\n",
              "      display:flex;\n",
              "      flex-wrap:wrap;\n",
              "      gap: 12px;\n",
              "    }\n",
              "\n",
              "    .colab-df-convert {\n",
              "      background-color: #E8F0FE;\n",
              "      border: none;\n",
              "      border-radius: 50%;\n",
              "      cursor: pointer;\n",
              "      display: none;\n",
              "      fill: #1967D2;\n",
              "      height: 32px;\n",
              "      padding: 0 0 0 0;\n",
              "      width: 32px;\n",
              "    }\n",
              "\n",
              "    .colab-df-convert:hover {\n",
              "      background-color: #E2EBFA;\n",
              "      box-shadow: 0px 1px 2px rgba(60, 64, 67, 0.3), 0px 1px 3px 1px rgba(60, 64, 67, 0.15);\n",
              "      fill: #174EA6;\n",
              "    }\n",
              "\n",
              "    [theme=dark] .colab-df-convert {\n",
              "      background-color: #3B4455;\n",
              "      fill: #D2E3FC;\n",
              "    }\n",
              "\n",
              "    [theme=dark] .colab-df-convert:hover {\n",
              "      background-color: #434B5C;\n",
              "      box-shadow: 0px 1px 3px 1px rgba(0, 0, 0, 0.15);\n",
              "      filter: drop-shadow(0px 1px 2px rgba(0, 0, 0, 0.3));\n",
              "      fill: #FFFFFF;\n",
              "    }\n",
              "  </style>\n",
              "\n",
              "      <script>\n",
              "        const buttonEl =\n",
              "          document.querySelector('#df-b2f180b5-458e-4601-9682-6044986cb91e button.colab-df-convert');\n",
              "        buttonEl.style.display =\n",
              "          google.colab.kernel.accessAllowed ? 'block' : 'none';\n",
              "\n",
              "        async function convertToInteractive(key) {\n",
              "          const element = document.querySelector('#df-b2f180b5-458e-4601-9682-6044986cb91e');\n",
              "          const dataTable =\n",
              "            await google.colab.kernel.invokeFunction('convertToInteractive',\n",
              "                                                     [key], {});\n",
              "          if (!dataTable) return;\n",
              "\n",
              "          const docLinkHtml = 'Like what you see? Visit the ' +\n",
              "            '<a target=\"_blank\" href=https://colab.research.google.com/notebooks/data_table.ipynb>data table notebook</a>'\n",
              "            + ' to learn more about interactive tables.';\n",
              "          element.innerHTML = '';\n",
              "          dataTable['output_type'] = 'display_data';\n",
              "          await google.colab.output.renderOutput(dataTable, element);\n",
              "          const docLink = document.createElement('div');\n",
              "          docLink.innerHTML = docLinkHtml;\n",
              "          element.appendChild(docLink);\n",
              "        }\n",
              "      </script>\n",
              "    </div>\n",
              "  </div>\n",
              "  "
            ]
          },
          "metadata": {},
          "execution_count": 171
        }
      ]
    }
  ]
}