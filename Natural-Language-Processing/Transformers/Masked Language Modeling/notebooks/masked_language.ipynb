{
 "cells": [
  {
   "cell_type": "code",
   "execution_count": 17,
   "metadata": {},
   "outputs": [],
   "source": [
    "import pandas as pd\n",
    "import numpy as np\n",
    "from transformers import BertTokenizer, BertForMaskedLM\n",
    "from transformers import pipeline\n",
    "import  matplotlib.pyplot as plt\n",
    "import warnings\n",
    "import dask.bag as db\n",
    "import dask.dataframe as dd\n",
    "import dask.multiprocessing\n",
    "import textwrap\n",
    "import re\n",
    "warnings.filterwarnings(\"ignore\")\n",
    "pd.set_option('display.max_rows', None)\n",
    "pd.set_option('display.max_columns', None)\n",
    "pd.set_option('display.width', None)\n",
    "pd.set_option('display.max_colwidth', None)\n",
    "\n"
   ]
  },
  {
   "cell_type": "code",
   "execution_count": 7,
   "metadata": {},
   "outputs": [],
   "source": [
    "data = pd.read_csv('/workspaces/Data-Science-Journey/Natural-Language-Processing/Transformers/Masked Language Modeling/input/bbc_text_cls.csv')"
   ]
  },
  {
   "cell_type": "code",
   "execution_count": 8,
   "metadata": {},
   "outputs": [
    {
     "data": {
      "text/html": [
       "<div>\n",
       "<style scoped>\n",
       "    .dataframe tbody tr th:only-of-type {\n",
       "        vertical-align: middle;\n",
       "    }\n",
       "\n",
       "    .dataframe tbody tr th {\n",
       "        vertical-align: top;\n",
       "    }\n",
       "\n",
       "    .dataframe thead th {\n",
       "        text-align: right;\n",
       "    }\n",
       "</style>\n",
       "<table border=\"1\" class=\"dataframe\">\n",
       "  <thead>\n",
       "    <tr style=\"text-align: right;\">\n",
       "      <th></th>\n",
       "      <th>text</th>\n",
       "      <th>labels</th>\n",
       "    </tr>\n",
       "  </thead>\n",
       "  <tbody>\n",
       "    <tr>\n",
       "      <th>1042</th>\n",
       "      <td>Labour accused of broken pledge\\n\\nLabour has already broken its pre-election promise on immigration before the ink has dried on its new pledge card, the Tories have claimed.\\n\\nHome Secretary Charles Clarke has been quoted as telling Labour members he wants more migrants to come to the UK. Tory co-chairman Liam Fox said the comments were at odds with Tony Blair's prediction of a net cut in immigration. But Mr Clarke accused him of trying to score \"cheap political points\" by muddling immigration with asylum.\\n\\nLondon's Evening Standard quoted Mr Clarke telling Labour activists at a question and answer session in Gateshead that he wanted Britain to offer refuge for those fleeing tyranny. \"That's not only a moral duty and a legal duty, but something which is part of the essence of this country,\" he said.\\n\\n\"We want more migration, more people come to study and to work. \"We want more people coming to look for refuge.\" Mr Blair's was asked last Wednesday if the government's new immigration plans, including a point system for economic migrants, would reduce net migration. The prime minister told MPs: \"The abusers will be weeded out, and as a result of the end of chain migration [where families have an automatic right to settle], the numbers will probably fall.\"\\n\\nOn Monday, Dr Fox told reporters: \"The prime minister has broken his word so many times in the past but now his promises do not even last a week. \"The Labour Party election pledges, even when they are so incredibly vague, do not even last four days.\"\\n\\nThe Tories want quotas for economic migrants and refugees and on Tuesday will outline more details of their plans for health checks on migrants. Mr Clarke dismissed the latest Tory attack. \"This is simply a scurrilous attempt by the Tories to score cheap political points,\" he said. \"The Tories are purposely mixing together two separate issues of immigration and asylum.\"\\n\\nMr Clarke said he had made clear the UK would welcome genuine economic migrants for key jobs on a strict points based system. And only asylum seekers genuinely fleeing death or persecution would be admitted. \"Under our plans we expect unfounded applications to continue to fall,\" he added. Earlier, Dr Fox accused Mr Blair and other Cabinet ministers of telling lies about Tory policies and then attacking the lies. He told BBC Radio: \"If you are willing to lie about the reasons for going to war, I guess you are going to lie about anything at all.\" The latest pre-election spats come after Mr Blair told Labour members the Tories offered a \"hard right agenda\" which would take Britain backwards. Lib Dem leader Charles Kennedy accelerating Lib Dem election preparations this week as he visits Manchester, Liverpool, Leicester, Somerset, Basingstoke, Shrewsbury, Dorset and Torbay.</td>\n",
       "      <td>politics</td>\n",
       "    </tr>\n",
       "    <tr>\n",
       "      <th>2047</th>\n",
       "      <td>Disney backs Sony DVD technology\\n\\nA next generation DVD technology backed by Sony has received a major boost.\\n\\nFilm giant Disney says it will produce its future DVDs using Sony's Blu-ray Disc technology, but has not ruled out a rival format developed by Toshiba. The two competing DVD formats, Blu-ray developed by Sony and others, and Toshiba's HD-DVD, have been courting top film studios for several months. The next generation of DVDs promises very high quality pictures and sound, as well as a lot of data. Both technologies use a blue laser to write information. It has a shorter wavelength so more data can be stored. Disney is the latest studio to announce which technology it is backing in a format battle which mirrors the 1980s Betamax versus VHS war. Sony lost out to JVC in that fight.\\n\\nThe current battle for Hollywood's hearts and minds is a crucial one because high-definition films will bring in billions of revenue and the studios would prefer to use one standard. Last month, Paramount, Universal and Warner Brothers said they were opting for the Toshiba and NEC-backed format, HD-DVD high-definition discs.\\n\\nThose studios currently produce about 45% of DVD content. Sony Pictures Entertainment and MGM Studios have already staked their allegiance with the Blu-ray Disc Association, whose members also include technology companies Dell, Samsung and Matsushita. Twentieth Century Fox is still to announce which technology it will be supporting. If Fox decided to go with Blu-ray too, it would mean the format would have a 47% share of DVD content. Disney said its films would be available on the Blu-ray format when DVD players for the standard went on sale on North America and Japan, expected in 2006. Universal is to start producing films on the HD-DVD format in 2005, and Paramount will start releasing titles using the standard in 2006. Toshiba expects sales of HD-DVDs to reach 300bn yen ($2.9bn, £1.5bn) by 2010.</td>\n",
       "      <td>tech</td>\n",
       "    </tr>\n",
       "  </tbody>\n",
       "</table>\n",
       "</div>"
      ],
      "text/plain": [
       "                                                                                                                                                                                                                                                                                                                                                                                                                                                                                                                                                                                                                                                                                                                                                                                                                                                                                                                                                                                                                                                                                                                                                                                                                                                                                                                                                                                                                                                                                                                                                                                                                                                                                                                                                                                                                                                                                                                                                                                                                                                                                                                                                                                                                                                                                                                                                                                                                                                                                                                                                                                                                                                                                                                                                                                                                                                                                                            text  \\\n",
       "1042  Labour accused of broken pledge\\n\\nLabour has already broken its pre-election promise on immigration before the ink has dried on its new pledge card, the Tories have claimed.\\n\\nHome Secretary Charles Clarke has been quoted as telling Labour members he wants more migrants to come to the UK. Tory co-chairman Liam Fox said the comments were at odds with Tony Blair's prediction of a net cut in immigration. But Mr Clarke accused him of trying to score \"cheap political points\" by muddling immigration with asylum.\\n\\nLondon's Evening Standard quoted Mr Clarke telling Labour activists at a question and answer session in Gateshead that he wanted Britain to offer refuge for those fleeing tyranny. \"That's not only a moral duty and a legal duty, but something which is part of the essence of this country,\" he said.\\n\\n\"We want more migration, more people come to study and to work. \"We want more people coming to look for refuge.\" Mr Blair's was asked last Wednesday if the government's new immigration plans, including a point system for economic migrants, would reduce net migration. The prime minister told MPs: \"The abusers will be weeded out, and as a result of the end of chain migration [where families have an automatic right to settle], the numbers will probably fall.\"\\n\\nOn Monday, Dr Fox told reporters: \"The prime minister has broken his word so many times in the past but now his promises do not even last a week. \"The Labour Party election pledges, even when they are so incredibly vague, do not even last four days.\"\\n\\nThe Tories want quotas for economic migrants and refugees and on Tuesday will outline more details of their plans for health checks on migrants. Mr Clarke dismissed the latest Tory attack. \"This is simply a scurrilous attempt by the Tories to score cheap political points,\" he said. \"The Tories are purposely mixing together two separate issues of immigration and asylum.\"\\n\\nMr Clarke said he had made clear the UK would welcome genuine economic migrants for key jobs on a strict points based system. And only asylum seekers genuinely fleeing death or persecution would be admitted. \"Under our plans we expect unfounded applications to continue to fall,\" he added. Earlier, Dr Fox accused Mr Blair and other Cabinet ministers of telling lies about Tory policies and then attacking the lies. He told BBC Radio: \"If you are willing to lie about the reasons for going to war, I guess you are going to lie about anything at all.\" The latest pre-election spats come after Mr Blair told Labour members the Tories offered a \"hard right agenda\" which would take Britain backwards. Lib Dem leader Charles Kennedy accelerating Lib Dem election preparations this week as he visits Manchester, Liverpool, Leicester, Somerset, Basingstoke, Shrewsbury, Dorset and Torbay.   \n",
       "2047                                                                                                                                                                                                                                                                                                                                                                                                                                                                                                                                                                                                                                                                                                                                                                                                                                                                                    Disney backs Sony DVD technology\\n\\nA next generation DVD technology backed by Sony has received a major boost.\\n\\nFilm giant Disney says it will produce its future DVDs using Sony's Blu-ray Disc technology, but has not ruled out a rival format developed by Toshiba. The two competing DVD formats, Blu-ray developed by Sony and others, and Toshiba's HD-DVD, have been courting top film studios for several months. The next generation of DVDs promises very high quality pictures and sound, as well as a lot of data. Both technologies use a blue laser to write information. It has a shorter wavelength so more data can be stored. Disney is the latest studio to announce which technology it is backing in a format battle which mirrors the 1980s Betamax versus VHS war. Sony lost out to JVC in that fight.\\n\\nThe current battle for Hollywood's hearts and minds is a crucial one because high-definition films will bring in billions of revenue and the studios would prefer to use one standard. Last month, Paramount, Universal and Warner Brothers said they were opting for the Toshiba and NEC-backed format, HD-DVD high-definition discs.\\n\\nThose studios currently produce about 45% of DVD content. Sony Pictures Entertainment and MGM Studios have already staked their allegiance with the Blu-ray Disc Association, whose members also include technology companies Dell, Samsung and Matsushita. Twentieth Century Fox is still to announce which technology it will be supporting. If Fox decided to go with Blu-ray too, it would mean the format would have a 47% share of DVD content. Disney said its films would be available on the Blu-ray format when DVD players for the standard went on sale on North America and Japan, expected in 2006. Universal is to start producing films on the HD-DVD format in 2005, and Paramount will start releasing titles using the standard in 2006. Toshiba expects sales of HD-DVDs to reach 300bn yen ($2.9bn, £1.5bn) by 2010.   \n",
       "\n",
       "        labels  \n",
       "1042  politics  \n",
       "2047      tech  "
      ]
     },
     "execution_count": 8,
     "metadata": {},
     "output_type": "execute_result"
    }
   ],
   "source": [
    "data.sample(2)"
   ]
  },
  {
   "cell_type": "code",
   "execution_count": 10,
   "metadata": {},
   "outputs": [
    {
     "data": {
      "text/plain": [
       "array(['business', 'entertainment', 'politics', 'sport', 'tech'],\n",
       "      dtype=object)"
      ]
     },
     "execution_count": 10,
     "metadata": {},
     "output_type": "execute_result"
    }
   ],
   "source": [
    "labels = data['labels'].unique()\n",
    "labels"
   ]
  },
  {
   "cell_type": "code",
   "execution_count": 12,
   "metadata": {},
   "outputs": [],
   "source": [
    "#use business  \n",
    "business = data[data['labels'] == 'business']"
   ]
  },
  {
   "cell_type": "code",
   "execution_count": 13,
   "metadata": {},
   "outputs": [
    {
     "data": {
      "text/plain": [
       "'China bans new tobacco factories\\n\\nThe world\\'s biggest tobacco consumer, China, has said it will not allow any new tobacco factories to be built.\\n\\nChina already has more than enough cigarette-making capacity, according to a spokesman for the tobacco industry regulator quoted in China Daily. The ban threatens to reignite tensions between the regulator and British American Tobacco, which plans to become China\\'s first foreign cigarette maker. A spokeswoman for Bat declined to comment on the report.\\n\\n\"China won\\'t allow any new tobacco factories to be built, including joint ventures\", said Xing Wangli, a spokesman for the State Tobacco Administration Monopoly quoted in China Daily. He also said that the state would retain its monopoly on cigarette distribution. China has 350 million smokers who consumer 1.7 trillion cigarettes a year. Smoking is fashionable in China, where it is seen as an essential - and manly - sociable touch for some jobs, such as salesmen. More young, urban woman are taking up smoking too. In July 2004, Bat announced it had won approval for to build a $1.5bn (£800m) joint venture factory in China which would make it the first foreign cigarette maker to manufacture there.\\n\\nThe State Tobacco Monopoly Administration said a week later that it had not approved the deal, leading to an embarrassing public row. Bat told the BBC at that time that it had not negotiated with the STMC, and secured approval from \"the highest levels of government\". Since then, the row has flared occasionally, most recently at a forum in November. Bat consistently declines to comment. \"Xing\\'s statement comes as especially bad news for British American Tobacco\", the China Daily newspaper said of the latest development. The Bat spokeswoman said: \"There is nothing for us to add...since our announcement in July last year. The central government of China is the authority that approved our strategic investment.\" The decision to ban further tobacco factories does not apply to deals made before 2005, according to the French news agency AFP. The joint venture factory was expected to take till 2006 to build. The Bat spokeswoman would not comment on its progress. However, if the STMA continues to take a tough stance, expansion opportunities could be limited.\\n\\nChina\\'s tobacco market is increasingly valuable as anti-smoking campaigners target public smoking in the West. China Daily said the market was currently enjoying steady growth, making more than 210bn yuan ($25.4bn) in pre-tax profits last year, almost double the figure in 2000. The paper made no mention of health concerns. The STMA is trying to restructure the domestic tobacco industry, closing some factories, though such moves can be unpopular with local governments.'"
      ]
     },
     "execution_count": 13,
     "metadata": {},
     "output_type": "execute_result"
    }
   ],
   "source": [
    "i = np.random.choice(business.shape[0])\n",
    "doc = business.iloc[i]['text']\n"
   ]
  },
  {
   "cell_type": "code",
   "execution_count": 16,
   "metadata": {},
   "outputs": [
    {
     "name": "stdout",
     "output_type": "stream",
     "text": [
      "China bans new tobacco factories\n",
      "\n",
      "The world's biggest tobacco consumer, China, has said it will not\n",
      "allow any new tobacco factories to be built.\n",
      "\n",
      "China already has more than enough cigarette-making\n",
      "capacity, according to a spokesman for the tobacco industry regulator quoted in China Daily.  The\n",
      "ban threatens to reignite tensions between the regulator and British American Tobacco, which plans\n",
      "to become China's first foreign cigarette maker.  A spokeswoman for Bat declined to comment on the\n",
      "report.\n",
      "\n",
      "\"China won't allow any new tobacco factories to be built, including joint ventures\", said\n",
      "Xing Wangli, a spokesman for the State Tobacco Administration Monopoly quoted in China Daily.  He\n",
      "also said that the state would retain its monopoly on cigarette distribution.  China has 350 million\n",
      "smokers who consumer 1.7 trillion cigarettes a year.  Smoking is fashionable in China, where it is\n",
      "seen as an essential - and manly - sociable touch for some jobs, such as salesmen.  More young,\n",
      "urban woman are taking up smoking too.  In July 2004, Bat announced it had won approval for to build\n",
      "a $1.5bn (£800m) joint venture factory in China which would make it the first foreign cigarette\n",
      "maker to manufacture there.\n",
      "\n",
      "The State Tobacco Monopoly Administration said a week later that it had\n",
      "not approved the deal, leading to an embarrassing public row.  Bat told the BBC at that time that it\n",
      "had not negotiated with the STMC, and secured approval from \"the highest levels of government\".\n",
      "Since then, the row has flared occasionally, most recently at a forum in November.  Bat consistently\n",
      "declines to comment.  \"Xing's statement comes as especially bad news for British American Tobacco\",\n",
      "the China Daily newspaper said of the latest development.  The Bat spokeswoman said: \"There is\n",
      "nothing for us to add...since our announcement in July last year.  The central government of China\n",
      "is the authority that approved our strategic investment.\"  The decision to ban further tobacco\n",
      "factories does not apply to deals made before 2005, according to the French news agency AFP. The\n",
      "joint venture factory was expected to take till 2006 to build.  The Bat spokeswoman would not\n",
      "comment on its progress.  However, if the STMA continues to take a tough stance, expansion\n",
      "opportunities could be limited.\n",
      "\n",
      "China's tobacco market is increasingly valuable as anti-smoking\n",
      "campaigners target public smoking in the West.  China Daily said the market was currently enjoying\n",
      "steady growth, making more than 210bn yuan ($25.4bn) in pre-tax profits last year, almost double the\n",
      "figure in 2000. The paper made no mention of health concerns.  The STMA is trying to restructure the\n",
      "domestic tobacco industry, closing some factories, though such moves can be unpopular with local\n",
      "governments.\n"
     ]
    }
   ],
   "source": [
    "print(textwrap.fill(doc, width=100, replace_whitespace=False, fix_sentence_endings=True))\n"
   ]
  },
  {
   "cell_type": "code",
   "execution_count": 18,
   "metadata": {},
   "outputs": [
    {
     "name": "stderr",
     "output_type": "stream",
     "text": [
      "No model was supplied, defaulted to distilroberta-base (https://huggingface.co/distilroberta-base)\n",
      "Downloading: 100%|██████████| 480/480 [00:00<00:00, 323kB/s]\n",
      "2022-05-31 19:29:40.587613: W tensorflow/stream_executor/platform/default/dso_loader.cc:64] Could not load dynamic library 'libcuda.so.1'; dlerror: libcuda.so.1: cannot open shared object file: No such file or directory\n",
      "2022-05-31 19:29:40.587664: W tensorflow/stream_executor/cuda/cuda_driver.cc:269] failed call to cuInit: UNKNOWN ERROR (303)\n",
      "2022-05-31 19:29:40.587689: I tensorflow/stream_executor/cuda/cuda_diagnostics.cc:156] kernel driver does not appear to be running on this host (codespaces-d6b1fc): /proc/driver/nvidia/version does not exist\n",
      "2022-05-31 19:29:40.611593: I tensorflow/core/platform/cpu_feature_guard.cc:151] This TensorFlow binary is optimized with oneAPI Deep Neural Network Library (oneDNN) to use the following CPU instructions in performance-critical operations:  AVX2 AVX512F FMA\n",
      "To enable them in other operations, rebuild TensorFlow with the appropriate compiler flags.\n",
      "Downloading: 100%|██████████| 316M/316M [00:05<00:00, 55.4MB/s] \n",
      "Downloading: 100%|██████████| 878k/878k [00:00<00:00, 23.8MB/s]\n",
      "Downloading: 100%|██████████| 446k/446k [00:00<00:00, 22.9MB/s]\n",
      "Downloading: 100%|██████████| 1.29M/1.29M [00:00<00:00, 31.4MB/s]\n"
     ]
    }
   ],
   "source": [
    "mlm = pipeline('fill-mask')"
   ]
  },
  {
   "cell_type": "markdown",
   "metadata": {},
   "source": [
    "### Dcoument Masking"
   ]
  },
  {
   "cell_type": "code",
   "execution_count": 23,
   "metadata": {},
   "outputs": [
    {
     "data": {
      "text/plain": [
       "[{'score': 0.9836392998695374,\n",
       "  'token': 16186,\n",
       "  'token_str': ' ventures',\n",
       "  'sequence': \"China won't allow any new tobacco factories to be built, including joint ventures.\"},\n",
       " {'score': 0.0025801227893680334,\n",
       "  'token': 5057,\n",
       "  'token_str': ' venture',\n",
       "  'sequence': \"China won't allow any new tobacco factories to be built, including joint venture.\"},\n",
       " {'score': 0.001987362978979945,\n",
       "  'token': 1414,\n",
       "  'token_str': ' operations',\n",
       "  'sequence': \"China won't allow any new tobacco factories to be built, including joint operations.\"},\n",
       " {'score': 0.0017193241510540247,\n",
       "  'token': 2644,\n",
       "  'token_str': ' facilities',\n",
       "  'sequence': \"China won't allow any new tobacco factories to be built, including joint facilities.\"},\n",
       " {'score': 0.0008507522288709879,\n",
       "  'token': 12321,\n",
       "  'token_str': ' mines',\n",
       "  'sequence': \"China won't allow any new tobacco factories to be built, including joint mines.\"}]"
      ]
     },
     "execution_count": 23,
     "metadata": {},
     "output_type": "execute_result"
    }
   ],
   "source": [
    "# The correct word is \"ventures\"\n",
    "mlm(\"China won't allow any new tobacco factories to be built, including joint <mask>.\")"
   ]
  },
  {
   "cell_type": "code",
   "execution_count": 24,
   "metadata": {},
   "outputs": [
    {
     "data": {
      "text/plain": [
       "[{'score': 0.3507581949234009,\n",
       "  'token': 15704,\n",
       "  'token_str': ' escalating',\n",
       "  'sequence': 'The State Tobacco Monopoly Administration said a week later that it had not approved the deal, leading to an escalating public row.'},\n",
       " {'score': 0.08897868543863297,\n",
       "  'token': 5800,\n",
       "  'token_str': ' angry',\n",
       "  'sequence': 'The State Tobacco Monopoly Administration said a week later that it had not approved the deal, leading to an angry public row.'},\n",
       " {'score': 0.08817937225103378,\n",
       "  'token': 19373,\n",
       "  'token_str': ' ensuing',\n",
       "  'sequence': 'The State Tobacco Monopoly Administration said a week later that it had not approved the deal, leading to an ensuing public row.'},\n",
       " {'score': 0.0822053849697113,\n",
       "  'token': 5676,\n",
       "  'token_str': ' intense',\n",
       "  'sequence': 'The State Tobacco Monopoly Administration said a week later that it had not approved the deal, leading to an intense public row.'},\n",
       " {'score': 0.08190160989761353,\n",
       "  'token': 2256,\n",
       "  'token_str': ' ongoing',\n",
       "  'sequence': 'The State Tobacco Monopoly Administration said a week later that it had not approved the deal, leading to an ongoing public row.'}]"
      ]
     },
     "execution_count": 24,
     "metadata": {},
     "output_type": "execute_result"
    }
   ],
   "source": [
    "# The correct word is embarrassing\n",
    "mlm(\"The State Tobacco Monopoly Administration said a week later that it had not approved the deal, leading to an <mask> public row.\")\n"
   ]
  },
  {
   "cell_type": "markdown",
   "metadata": {},
   "source": [
    "### Random Sentences"
   ]
  },
  {
   "cell_type": "code",
   "execution_count": 20,
   "metadata": {},
   "outputs": [
    {
     "data": {
      "text/plain": [
       "[{'score': 0.10228192806243896,\n",
       "  'token': 869,\n",
       "  'token_str': ' player',\n",
       "  'sequence': 'Sachin Tendulkar is the greatest player'},\n",
       " {'score': 0.05268482863903046,\n",
       "  'token': 19931,\n",
       "  'token_str': ' footballer',\n",
       "  'sequence': 'Sachin Tendulkar is the greatest footballer'},\n",
       " {'score': 0.04472578689455986,\n",
       "  'token': 313,\n",
       "  'token_str': ' man',\n",
       "  'sequence': 'Sachin Tendulkar is the greatest man'},\n",
       " {'score': 0.04333339259028435,\n",
       "  'token': 19921,\n",
       "  'token_str': ' boxer',\n",
       "  'sequence': 'Sachin Tendulkar is the greatest boxer'},\n",
       " {'score': 0.037813544273376465,\n",
       "  'token': 8340,\n",
       "  'token_str': ' athlete',\n",
       "  'sequence': 'Sachin Tendulkar is the greatest athlete'}]"
      ]
     },
     "execution_count": 20,
     "metadata": {},
     "output_type": "execute_result"
    }
   ],
   "source": [
    "mlm('Sachin Tendulkar is the greatest <mask>')"
   ]
  },
  {
   "cell_type": "code",
   "execution_count": 21,
   "metadata": {},
   "outputs": [
    {
     "data": {
      "text/plain": [
       "[{'score': 0.8346965909004211,\n",
       "  'token': 666,\n",
       "  'token_str': ' India',\n",
       "  'sequence': 'Narendra Modi is the prime minister of India'},\n",
       " {'score': 0.15124286711215973,\n",
       "  'token': 13401,\n",
       "  'token_str': ' Gujarat',\n",
       "  'sequence': 'Narendra Modi is the prime minister of Gujarat'},\n",
       " {'score': 0.005578575190156698,\n",
       "  'token': 14729,\n",
       "  'token_str': ' Maharashtra',\n",
       "  'sequence': 'Narendra Modi is the prime minister of Maharashtra'},\n",
       " {'score': 0.00400516577064991,\n",
       "  'token': 21186,\n",
       "  'token_str': ' Bihar',\n",
       "  'sequence': 'Narendra Modi is the prime minister of Bihar'},\n",
       " {'score': 0.0011899309465661645,\n",
       "  'token': 4698,\n",
       "  'token_str': ' Modi',\n",
       "  'sequence': 'Narendra Modi is the prime minister of Modi'}]"
      ]
     },
     "execution_count": 21,
     "metadata": {},
     "output_type": "execute_result"
    }
   ],
   "source": [
    "mlm('Narendra Modi is the prime minister of <mask>')"
   ]
  },
  {
   "cell_type": "code",
   "execution_count": 22,
   "metadata": {},
   "outputs": [
    {
     "data": {
      "text/plain": [
       "[{'score': 0.8384806513786316,\n",
       "  'token': 437,\n",
       "  'token_str': \"'m\",\n",
       "  'sequence': \"I'm going to the cold play concert\"},\n",
       " {'score': 0.10716044157743454,\n",
       "  'token': 524,\n",
       "  'token_str': ' am',\n",
       "  'sequence': 'I am going to the cold play concert'},\n",
       " {'score': 0.016575874760746956,\n",
       "  'token': 657,\n",
       "  'token_str': ' love',\n",
       "  'sequence': 'I love going to the cold play concert'},\n",
       " {'score': 0.007973400875926018,\n",
       "  'token': 4157,\n",
       "  'token_str': ' hate',\n",
       "  'sequence': 'I hate going to the cold play concert'},\n",
       " {'score': 0.007471032906323671,\n",
       "  'token': 21,\n",
       "  'token_str': ' was',\n",
       "  'sequence': 'I was going to the cold play concert'}]"
      ]
     },
     "execution_count": 22,
     "metadata": {},
     "output_type": "execute_result"
    }
   ],
   "source": [
    "mlm('I <mask> going to the cold play concert')"
   ]
  }
 ],
 "metadata": {
  "interpreter": {
   "hash": "4f946df053fbf2b937619d3c5458e7af74262f9a954d8797ba0b27400bcafe06"
  },
  "kernelspec": {
   "display_name": "Python 3.10.4 64-bit",
   "language": "python",
   "name": "python3"
  },
  "language_info": {
   "codemirror_mode": {
    "name": "ipython",
    "version": 3
   },
   "file_extension": ".py",
   "mimetype": "text/x-python",
   "name": "python",
   "nbconvert_exporter": "python",
   "pygments_lexer": "ipython3",
   "version": "3.10.4"
  },
  "orig_nbformat": 4
 },
 "nbformat": 4,
 "nbformat_minor": 2
}
