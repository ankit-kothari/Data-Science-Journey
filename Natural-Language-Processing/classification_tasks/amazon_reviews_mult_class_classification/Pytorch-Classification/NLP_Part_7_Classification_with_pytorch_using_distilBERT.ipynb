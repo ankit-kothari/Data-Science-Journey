{
  "nbformat": 4,
  "nbformat_minor": 0,
  "metadata": {
    "colab": {
      "name": "NLP Part 7: Classification with pytorch using distilBERT.ipynb",
      "provenance": [],
      "collapsed_sections": []
    },
    "kernelspec": {
      "name": "python3",
      "display_name": "Python 3"
    },
    "accelerator": "GPU"
  },
  "cells": [
    {
      "cell_type": "code",
      "metadata": {
        "id": "JJ9GSXQVL-h4"
      },
      "source": [
        "##GENERAL\n",
        "import time\n",
        "import pandas as pd\n",
        "import matplotlib.pyplot as plt\n",
        "import numpy as np\n",
        "import random\n",
        "from collections import Counter\n",
        "import csv\n",
        "import re\n",
        "import os\n",
        "\n",
        "import tensorflow as tf\n",
        "from tensorflow.keras.models import Model\n",
        "from sklearn.model_selection import train_test_split\n",
        "from tensorflow.keras.preprocessing.text import Tokenizer\n",
        "from tensorflow.keras.preprocessing.sequence import pad_sequences\n",
        "from tensorflow.keras.utils import to_categorical\n",
        "from tensorflow.keras.models import Sequential\n",
        "from tensorflow.keras.layers import Dense, Conv2D, MaxPool2D, Flatten, Embedding, LSTM, Bidirectional, GlobalMaxPool1D, Input,BatchNormalization, Dropout\n",
        "from tensorflow.keras.callbacks import EarlyStopping,ModelCheckpoint\n",
        "\n",
        "##SKLEARN\n",
        "from sklearn.metrics import classification_report,confusion_matrix\n",
        "from sklearn.model_selection import train_test_split\n",
        "\n",
        "import torch\n",
        "import transformers as ppb\n",
        "import warnings\n",
        "warnings.filterwarnings('ignore')\n",
        "from torch.utils.data import TensorDataset, DataLoader, RandomSampler, SequentialSampler\n",
        "from keras.preprocessing.sequence import pad_sequences\n",
        "from sklearn.model_selection import train_test_split\n",
        "from pytorch_pretrained_bert import BertTokenizer, BertConfig\n",
        "from pytorch_pretrained_bert import BertAdam, BertForSequenceClassification\n",
        "from tqdm import tqdm, trange"
      ],
      "execution_count": 221,
      "outputs": []
    },
    {
      "cell_type": "code",
      "metadata": {
        "id": "hU02359_PKou",
        "outputId": "85d5c112-053b-47b7-9628-6f0425467bb7",
        "colab": {
          "base_uri": "https://localhost:8080/",
          "height": 51
        }
      },
      "source": [
        "from google.colab import drive\n",
        "drive.mount('/gdrive')\n",
        "%cd /gdrive"
      ],
      "execution_count": 222,
      "outputs": [
        {
          "output_type": "stream",
          "text": [
            "Drive already mounted at /gdrive; to attempt to forcibly remount, call drive.mount(\"/gdrive\", force_remount=True).\n",
            "/gdrive\n"
          ],
          "name": "stdout"
        }
      ]
    },
    {
      "cell_type": "markdown",
      "metadata": {
        "id": "qLZBuFl4BD7z"
      },
      "source": [
        "##Loading in the data"
      ]
    },
    {
      "cell_type": "code",
      "metadata": {
        "id": "YflJ2hoEPFHG",
        "outputId": "c9b1a756-cd2e-4ccd-d934-c15a88fad85f",
        "colab": {
          "base_uri": "https://localhost:8080/",
          "height": 221
        }
      },
      "source": [
        "data = pd.read_csv('/gdrive/My Drive/data/amazon_products.csv')\n",
        "data = data.drop(columns=['Unnamed: 0'])\n",
        "data.info()"
      ],
      "execution_count": 223,
      "outputs": [
        {
          "output_type": "stream",
          "text": [
            "<class 'pandas.core.frame.DataFrame'>\n",
            "RangeIndex: 58828 entries, 0 to 58827\n",
            "Data columns (total 5 columns):\n",
            " #   Column           Non-Null Count  Dtype \n",
            "---  ------           --------------  ----- \n",
            " 0   review           58828 non-null  object\n",
            " 1   clean_review     58828 non-null  object\n",
            " 2   review_category  58828 non-null  object\n",
            " 3   topic_category   58828 non-null  int64 \n",
            " 4   topic_name       58828 non-null  object\n",
            "dtypes: int64(1), object(4)\n",
            "memory usage: 2.2+ MB\n"
          ],
          "name": "stdout"
        }
      ]
    },
    {
      "cell_type": "code",
      "metadata": {
        "id": "y4KOK1OZPS3O",
        "outputId": "7a21f650-e418-442e-df61-4ef94980d927",
        "colab": {
          "base_uri": "https://localhost:8080/",
          "height": 51
        }
      },
      "source": [
        "data['topic_name'].unique()"
      ],
      "execution_count": 224,
      "outputs": [
        {
          "output_type": "execute_result",
          "data": {
            "text/plain": [
              "array(['books', 'video-quality', 'refund-and-return', 'movies', 'music',\n",
              "       'games'], dtype=object)"
            ]
          },
          "metadata": {
            "tags": []
          },
          "execution_count": 224
        }
      ]
    },
    {
      "cell_type": "markdown",
      "metadata": {
        "id": "MwK6OooMBMJi"
      },
      "source": [
        "##Creating the Text to Categorical Columns"
      ]
    },
    {
      "cell_type": "code",
      "metadata": {
        "id": "qIAWL0z7PVKL",
        "outputId": "b564a680-85b5-4057-f0fc-1a3c47c3b3a6",
        "colab": {
          "base_uri": "https://localhost:8080/",
          "height": 255
        }
      },
      "source": [
        "data['topic_name']=data['topic_name'].astype('category')\n",
        "data['topic_name'].cat.categories\n",
        "print(data['topic_name'].cat.categories)\n",
        "data['topic_category_codes']=data['topic_name'].cat.codes.values\n",
        "data = data.drop(columns=['review','review_category','topic_category','topic_name'])\n",
        "data.head()"
      ],
      "execution_count": 225,
      "outputs": [
        {
          "output_type": "stream",
          "text": [
            "Index(['books', 'games', 'movies', 'music', 'refund-and-return',\n",
            "       'video-quality'],\n",
            "      dtype='object')\n"
          ],
          "name": "stdout"
        },
        {
          "output_type": "execute_result",
          "data": {
            "text/html": [
              "<div>\n",
              "<style scoped>\n",
              "    .dataframe tbody tr th:only-of-type {\n",
              "        vertical-align: middle;\n",
              "    }\n",
              "\n",
              "    .dataframe tbody tr th {\n",
              "        vertical-align: top;\n",
              "    }\n",
              "\n",
              "    .dataframe thead th {\n",
              "        text-align: right;\n",
              "    }\n",
              "</style>\n",
              "<table border=\"1\" class=\"dataframe\">\n",
              "  <thead>\n",
              "    <tr style=\"text-align: right;\">\n",
              "      <th></th>\n",
              "      <th>clean_review</th>\n",
              "      <th>topic_category_codes</th>\n",
              "    </tr>\n",
              "  </thead>\n",
              "  <tbody>\n",
              "    <tr>\n",
              "      <th>0</th>\n",
              "      <td>this self published book want know read paragr...</td>\n",
              "      <td>0</td>\n",
              "    </tr>\n",
              "    <tr>\n",
              "      <th>1</th>\n",
              "      <td>rather scratches insect droppings random pixel...</td>\n",
              "      <td>5</td>\n",
              "    </tr>\n",
              "    <tr>\n",
              "      <th>2</th>\n",
              "      <td>my experience got fm Amazon the dvd player rat...</td>\n",
              "      <td>5</td>\n",
              "    </tr>\n",
              "    <tr>\n",
              "      <th>3</th>\n",
              "      <td>ordered dvd received substitute received dvd o...</td>\n",
              "      <td>5</td>\n",
              "    </tr>\n",
              "    <tr>\n",
              "      <th>4</th>\n",
              "      <td>disappointed performance it underpowered const...</td>\n",
              "      <td>4</td>\n",
              "    </tr>\n",
              "  </tbody>\n",
              "</table>\n",
              "</div>"
            ],
            "text/plain": [
              "                                        clean_review  topic_category_codes\n",
              "0  this self published book want know read paragr...                     0\n",
              "1  rather scratches insect droppings random pixel...                     5\n",
              "2  my experience got fm Amazon the dvd player rat...                     5\n",
              "3  ordered dvd received substitute received dvd o...                     5\n",
              "4  disappointed performance it underpowered const...                     4"
            ]
          },
          "metadata": {
            "tags": []
          },
          "execution_count": 225
        }
      ]
    },
    {
      "cell_type": "markdown",
      "metadata": {
        "id": "OuuZFD2wBSfH"
      },
      "source": [
        "##Tokeinze the data using distilBERT Embeddings and distilBERT pre-trained model"
      ]
    },
    {
      "cell_type": "code",
      "metadata": {
        "id": "Hty3Jb_i5X3p"
      },
      "source": [
        "data=data.iloc[:,:]"
      ],
      "execution_count": 226,
      "outputs": []
    },
    {
      "cell_type": "code",
      "metadata": {
        "id": "R_9pTxXBiuTt",
        "outputId": "d7b374eb-79c9-4a19-c501-66f56e3ea4ab",
        "colab": {
          "base_uri": "https://localhost:8080/",
          "height": 136
        }
      },
      "source": [
        "data['topic_category_codes'].value_counts()"
      ],
      "execution_count": 227,
      "outputs": [
        {
          "output_type": "execute_result",
          "data": {
            "text/plain": [
              "4    23020\n",
              "0    16273\n",
              "3     7768\n",
              "5     5203\n",
              "2     4855\n",
              "1     1709\n",
              "Name: topic_category_codes, dtype: int64"
            ]
          },
          "metadata": {
            "tags": []
          },
          "execution_count": 227
        }
      ]
    },
    {
      "cell_type": "code",
      "metadata": {
        "id": "jG8aFIeCPlgJ"
      },
      "source": [
        "data.to_csv('/gdrive/My Drive/data/pytorch_amazon_products_bert.csv')"
      ],
      "execution_count": 228,
      "outputs": []
    },
    {
      "cell_type": "code",
      "metadata": {
        "id": "fidlnzQV7Jjd",
        "outputId": "5adfe27e-f438-4cd7-9a23-73aa49a664bc",
        "colab": {
          "base_uri": "https://localhost:8080/",
          "height": 1000
        }
      },
      "source": [
        "# For DistilBERT:\n",
        "model_class, tokenizer_class, pretrained_weights = (ppb.DistilBertModel, ppb.DistilBertTokenizer, 'distilbert-base-uncased')\n",
        "\n",
        "## Want BERT instead of distilBERT? Uncomment the following line:\n",
        "#model_class, tokenizer_class, pretrained_weights = (ppb.BertModel, ppb.BertTokenizer, 'bert-base-uncased')\n",
        "\n",
        "# Load pretrained model/tokenizer\n",
        "tokenizer = tokenizer_class.from_pretrained(pretrained_weights)\n",
        "model = model_class.from_pretrained(pretrained_weights)\n",
        "model.cuda()"
      ],
      "execution_count": 229,
      "outputs": [
        {
          "output_type": "execute_result",
          "data": {
            "text/plain": [
              "DistilBertModel(\n",
              "  (embeddings): Embeddings(\n",
              "    (word_embeddings): Embedding(30522, 768, padding_idx=0)\n",
              "    (position_embeddings): Embedding(512, 768)\n",
              "    (LayerNorm): LayerNorm((768,), eps=1e-12, elementwise_affine=True)\n",
              "    (dropout): Dropout(p=0.1, inplace=False)\n",
              "  )\n",
              "  (transformer): Transformer(\n",
              "    (layer): ModuleList(\n",
              "      (0): TransformerBlock(\n",
              "        (attention): MultiHeadSelfAttention(\n",
              "          (dropout): Dropout(p=0.1, inplace=False)\n",
              "          (q_lin): Linear(in_features=768, out_features=768, bias=True)\n",
              "          (k_lin): Linear(in_features=768, out_features=768, bias=True)\n",
              "          (v_lin): Linear(in_features=768, out_features=768, bias=True)\n",
              "          (out_lin): Linear(in_features=768, out_features=768, bias=True)\n",
              "        )\n",
              "        (sa_layer_norm): LayerNorm((768,), eps=1e-12, elementwise_affine=True)\n",
              "        (ffn): FFN(\n",
              "          (dropout): Dropout(p=0.1, inplace=False)\n",
              "          (lin1): Linear(in_features=768, out_features=3072, bias=True)\n",
              "          (lin2): Linear(in_features=3072, out_features=768, bias=True)\n",
              "        )\n",
              "        (output_layer_norm): LayerNorm((768,), eps=1e-12, elementwise_affine=True)\n",
              "      )\n",
              "      (1): TransformerBlock(\n",
              "        (attention): MultiHeadSelfAttention(\n",
              "          (dropout): Dropout(p=0.1, inplace=False)\n",
              "          (q_lin): Linear(in_features=768, out_features=768, bias=True)\n",
              "          (k_lin): Linear(in_features=768, out_features=768, bias=True)\n",
              "          (v_lin): Linear(in_features=768, out_features=768, bias=True)\n",
              "          (out_lin): Linear(in_features=768, out_features=768, bias=True)\n",
              "        )\n",
              "        (sa_layer_norm): LayerNorm((768,), eps=1e-12, elementwise_affine=True)\n",
              "        (ffn): FFN(\n",
              "          (dropout): Dropout(p=0.1, inplace=False)\n",
              "          (lin1): Linear(in_features=768, out_features=3072, bias=True)\n",
              "          (lin2): Linear(in_features=3072, out_features=768, bias=True)\n",
              "        )\n",
              "        (output_layer_norm): LayerNorm((768,), eps=1e-12, elementwise_affine=True)\n",
              "      )\n",
              "      (2): TransformerBlock(\n",
              "        (attention): MultiHeadSelfAttention(\n",
              "          (dropout): Dropout(p=0.1, inplace=False)\n",
              "          (q_lin): Linear(in_features=768, out_features=768, bias=True)\n",
              "          (k_lin): Linear(in_features=768, out_features=768, bias=True)\n",
              "          (v_lin): Linear(in_features=768, out_features=768, bias=True)\n",
              "          (out_lin): Linear(in_features=768, out_features=768, bias=True)\n",
              "        )\n",
              "        (sa_layer_norm): LayerNorm((768,), eps=1e-12, elementwise_affine=True)\n",
              "        (ffn): FFN(\n",
              "          (dropout): Dropout(p=0.1, inplace=False)\n",
              "          (lin1): Linear(in_features=768, out_features=3072, bias=True)\n",
              "          (lin2): Linear(in_features=3072, out_features=768, bias=True)\n",
              "        )\n",
              "        (output_layer_norm): LayerNorm((768,), eps=1e-12, elementwise_affine=True)\n",
              "      )\n",
              "      (3): TransformerBlock(\n",
              "        (attention): MultiHeadSelfAttention(\n",
              "          (dropout): Dropout(p=0.1, inplace=False)\n",
              "          (q_lin): Linear(in_features=768, out_features=768, bias=True)\n",
              "          (k_lin): Linear(in_features=768, out_features=768, bias=True)\n",
              "          (v_lin): Linear(in_features=768, out_features=768, bias=True)\n",
              "          (out_lin): Linear(in_features=768, out_features=768, bias=True)\n",
              "        )\n",
              "        (sa_layer_norm): LayerNorm((768,), eps=1e-12, elementwise_affine=True)\n",
              "        (ffn): FFN(\n",
              "          (dropout): Dropout(p=0.1, inplace=False)\n",
              "          (lin1): Linear(in_features=768, out_features=3072, bias=True)\n",
              "          (lin2): Linear(in_features=3072, out_features=768, bias=True)\n",
              "        )\n",
              "        (output_layer_norm): LayerNorm((768,), eps=1e-12, elementwise_affine=True)\n",
              "      )\n",
              "      (4): TransformerBlock(\n",
              "        (attention): MultiHeadSelfAttention(\n",
              "          (dropout): Dropout(p=0.1, inplace=False)\n",
              "          (q_lin): Linear(in_features=768, out_features=768, bias=True)\n",
              "          (k_lin): Linear(in_features=768, out_features=768, bias=True)\n",
              "          (v_lin): Linear(in_features=768, out_features=768, bias=True)\n",
              "          (out_lin): Linear(in_features=768, out_features=768, bias=True)\n",
              "        )\n",
              "        (sa_layer_norm): LayerNorm((768,), eps=1e-12, elementwise_affine=True)\n",
              "        (ffn): FFN(\n",
              "          (dropout): Dropout(p=0.1, inplace=False)\n",
              "          (lin1): Linear(in_features=768, out_features=3072, bias=True)\n",
              "          (lin2): Linear(in_features=3072, out_features=768, bias=True)\n",
              "        )\n",
              "        (output_layer_norm): LayerNorm((768,), eps=1e-12, elementwise_affine=True)\n",
              "      )\n",
              "      (5): TransformerBlock(\n",
              "        (attention): MultiHeadSelfAttention(\n",
              "          (dropout): Dropout(p=0.1, inplace=False)\n",
              "          (q_lin): Linear(in_features=768, out_features=768, bias=True)\n",
              "          (k_lin): Linear(in_features=768, out_features=768, bias=True)\n",
              "          (v_lin): Linear(in_features=768, out_features=768, bias=True)\n",
              "          (out_lin): Linear(in_features=768, out_features=768, bias=True)\n",
              "        )\n",
              "        (sa_layer_norm): LayerNorm((768,), eps=1e-12, elementwise_affine=True)\n",
              "        (ffn): FFN(\n",
              "          (dropout): Dropout(p=0.1, inplace=False)\n",
              "          (lin1): Linear(in_features=768, out_features=3072, bias=True)\n",
              "          (lin2): Linear(in_features=3072, out_features=768, bias=True)\n",
              "        )\n",
              "        (output_layer_norm): LayerNorm((768,), eps=1e-12, elementwise_affine=True)\n",
              "      )\n",
              "    )\n",
              "  )\n",
              ")"
            ]
          },
          "metadata": {
            "tags": []
          },
          "execution_count": 229
        }
      ]
    },
    {
      "cell_type": "code",
      "metadata": {
        "id": "4VIPxY7CPhdy",
        "outputId": "c21daef8-b73f-405f-a2d6-a0132ee80e25",
        "colab": {
          "base_uri": "https://localhost:8080/",
          "height": 51
        }
      },
      "source": [
        "\n",
        "tokenized = data['clean_review'].apply((lambda x: tokenizer.encode(x, add_special_tokens=True)))\n",
        "max_len = [len(sent) for sent in tokenized]\n",
        "max_len = max(max_len)\n",
        "padded = pad_sequences(tokenized, maxlen=75, padding='post', truncating=\"post\", dtype='long')\n",
        "print('Shape of data tensor:', padded.shape)\n",
        "attention_mask = np.where(padded != 0, 1, 0)\n",
        "print('Shape of attention:', attention_mask.shape)"
      ],
      "execution_count": 230,
      "outputs": [
        {
          "output_type": "stream",
          "text": [
            "Shape of data tensor: (58828, 75)\n",
            "Shape of attention: (58828, 75)\n"
          ],
          "name": "stdout"
        }
      ]
    },
    {
      "cell_type": "code",
      "metadata": {
        "id": "4RLPAQskDs4-",
        "outputId": "0953bae5-40c6-4a40-e818-4128b193c583",
        "colab": {
          "base_uri": "https://localhost:8080/",
          "height": 34
        }
      },
      "source": [
        "device = torch.device(\"cuda:0\" if torch.cuda.is_available() else \"cpu\")\n",
        "print(device)"
      ],
      "execution_count": 231,
      "outputs": [
        {
          "output_type": "stream",
          "text": [
            "cuda:0\n"
          ],
          "name": "stdout"
        }
      ]
    },
    {
      "cell_type": "code",
      "metadata": {
        "id": "TgdbM2ED-Fg3"
      },
      "source": [
        "labels= data.iloc[:,1].values\n"
      ],
      "execution_count": 232,
      "outputs": []
    },
    {
      "cell_type": "markdown",
      "metadata": {
        "id": "CuQGitxhFaI1"
      },
      "source": [
        "## Creating the Traning, Test and Attention Mask"
      ]
    },
    {
      "cell_type": "code",
      "metadata": {
        "id": "U64Cjkbw8QVc"
      },
      "source": [
        "train_inputs, validation_inputs, train_labels, validation_labels = train_test_split(padded, labels, \n",
        "                                                            random_state=2018, test_size=0.1, stratify=data.topic_category_codes.values)\n",
        "train_masks, validation_masks, _, _ = train_test_split(attention_mask, padded,\n",
        "                                             random_state=2018, test_size=0.1, stratify=data.topic_category_codes.values)"
      ],
      "execution_count": 233,
      "outputs": []
    },
    {
      "cell_type": "code",
      "metadata": {
        "id": "-Gg5Ypne-5aV",
        "outputId": "57bcf5f3-d5d8-4f55-f95f-f9445e4805a7",
        "colab": {
          "base_uri": "https://localhost:8080/",
          "height": 136
        }
      },
      "source": [
        "train_inputs"
      ],
      "execution_count": 234,
      "outputs": [
        {
          "output_type": "execute_result",
          "data": {
            "text/plain": [
              "array([[  101,  4299,  2246, ...,     0,     0,     0],\n",
              "       [  101,  6823,  1055, ...,     0,     0,     0],\n",
              "       [  101,  2310,  4149, ...,     0,     0,     0],\n",
              "       ...,\n",
              "       [  101,  2137, 10282, ...,     0,     0,     0],\n",
              "       [  101,  3728,  2657, ...,     0,     0,     0],\n",
              "       [  101,  2045,  2503, ...,     0,     0,     0]])"
            ]
          },
          "metadata": {
            "tags": []
          },
          "execution_count": 234
        }
      ]
    },
    {
      "cell_type": "code",
      "metadata": {
        "id": "RQX8ItRMYlos",
        "outputId": "15be87cd-7d08-4aff-911d-868197454f2a",
        "colab": {
          "base_uri": "https://localhost:8080/",
          "height": 136
        }
      },
      "source": [
        "train_masks"
      ],
      "execution_count": 235,
      "outputs": [
        {
          "output_type": "execute_result",
          "data": {
            "text/plain": [
              "array([[1, 1, 1, ..., 0, 0, 0],\n",
              "       [1, 1, 1, ..., 0, 0, 0],\n",
              "       [1, 1, 1, ..., 0, 0, 0],\n",
              "       ...,\n",
              "       [1, 1, 1, ..., 0, 0, 0],\n",
              "       [1, 1, 1, ..., 0, 0, 0],\n",
              "       [1, 1, 1, ..., 0, 0, 0]])"
            ]
          },
          "metadata": {
            "tags": []
          },
          "execution_count": 235
        }
      ]
    },
    {
      "cell_type": "code",
      "metadata": {
        "id": "espFVjrkaGqu",
        "outputId": "f58e8d01-cdff-4344-b137-cda37206349c",
        "colab": {
          "base_uri": "https://localhost:8080/",
          "height": 34
        }
      },
      "source": [
        "np.bincount(train_labels)"
      ],
      "execution_count": 236,
      "outputs": [
        {
          "output_type": "execute_result",
          "data": {
            "text/plain": [
              "array([14646,  1538,  4369,  6991, 20718,  4683])"
            ]
          },
          "metadata": {
            "tags": []
          },
          "execution_count": 236
        }
      ]
    },
    {
      "cell_type": "code",
      "metadata": {
        "id": "P1DeUx6YaVtn",
        "outputId": "f816ea5c-241a-48e0-a991-a52cc67312cc",
        "colab": {
          "base_uri": "https://localhost:8080/",
          "height": 34
        }
      },
      "source": [
        "np.bincount(validation_labels)"
      ],
      "execution_count": 237,
      "outputs": [
        {
          "output_type": "execute_result",
          "data": {
            "text/plain": [
              "array([1627,  171,  486,  777, 2302,  520])"
            ]
          },
          "metadata": {
            "tags": []
          },
          "execution_count": 237
        }
      ]
    },
    {
      "cell_type": "markdown",
      "metadata": {
        "id": "rUs0ud6rFhxi"
      },
      "source": [
        "## Creating Dataloader objects "
      ]
    },
    {
      "cell_type": "code",
      "metadata": {
        "id": "W-tNBIui-ef7"
      },
      "source": [
        "train_inputs = torch.tensor(train_inputs)\n",
        "validation_inputs = torch.tensor(validation_inputs)\n",
        "train_labels = torch.tensor(train_labels)\n",
        "validation_labels = torch.tensor(validation_labels)\n",
        "train_masks = torch.tensor(train_masks)\n",
        "validation_masks = torch.tensor(validation_masks)"
      ],
      "execution_count": 238,
      "outputs": []
    },
    {
      "cell_type": "code",
      "metadata": {
        "id": "M97521kY_nNV"
      },
      "source": [
        "batch_size = 32\n",
        "train_data = TensorDataset(train_inputs, train_masks, train_labels)\n",
        "train_sampler = RandomSampler(train_data)\n",
        "train_dataloader = DataLoader(train_data, sampler=train_sampler, batch_size=batch_size)\n",
        "\n",
        "validation_data = TensorDataset(validation_inputs, validation_masks, validation_labels)\n",
        "validation_sampler = SequentialSampler(validation_data)\n",
        "validation_dataloader = DataLoader(validation_data, sampler=validation_sampler, batch_size=batch_size)\n"
      ],
      "execution_count": 239,
      "outputs": []
    },
    {
      "cell_type": "code",
      "metadata": {
        "id": "nIA3TkAkfaIF",
        "outputId": "73ace853-6230-4798-f881-fc24f7f68466",
        "colab": {
          "base_uri": "https://localhost:8080/",
          "height": 34
        }
      },
      "source": [
        "train_dataloader"
      ],
      "execution_count": 240,
      "outputs": [
        {
          "output_type": "execute_result",
          "data": {
            "text/plain": [
              "<torch.utils.data.dataloader.DataLoader at 0x7fba8bc3b7f0>"
            ]
          },
          "metadata": {
            "tags": []
          },
          "execution_count": 240
        }
      ]
    },
    {
      "cell_type": "code",
      "metadata": {
        "id": "ZaL74mvWhzPA",
        "outputId": "98696e34-b8cc-4358-c443-c744967ced82",
        "colab": {
          "base_uri": "https://localhost:8080/",
          "height": 34
        }
      },
      "source": [
        "model.parameters()"
      ],
      "execution_count": 241,
      "outputs": [
        {
          "output_type": "execute_result",
          "data": {
            "text/plain": [
              "<generator object Module.parameters at 0x7fb9f01661a8>"
            ]
          },
          "metadata": {
            "tags": []
          },
          "execution_count": 241
        }
      ]
    },
    {
      "cell_type": "markdown",
      "metadata": {
        "id": "xjQqtvgXF2yg"
      },
      "source": [
        "## Using Transfer Learning to convert Bert Tokens to Embeddings\n",
        "\n",
        "- Use only the embedding for [CLS] token which according to the original paper is an aggregate representation of the whole sentence used for classification tasks."
      ]
    },
    {
      "cell_type": "code",
      "metadata": {
        "id": "A3448_9nlwfN"
      },
      "source": [
        "features = []\n",
        "features_labels = []\n",
        "for batch in train_dataloader:\n",
        "  batch = tuple(t.to(device) for t in batch)\n",
        "  # Unpack the inputs from our dataloader\n",
        "  b_input_ids, b_input_mask, b_labels = batch\n",
        "  with torch.no_grad():\n",
        "    last_hidden_states = model(b_input_ids, attention_mask=b_input_mask)\n",
        "    last_hidden_states= last_hidden_states[0][:,0,:].cpu().numpy()\n",
        "    features.append(last_hidden_states)\n",
        "    features_labels.append(b_labels.cpu().numpy())\n",
        "    "
      ],
      "execution_count": 242,
      "outputs": []
    },
    {
      "cell_type": "code",
      "metadata": {
        "id": "caJzMVlGmkoP",
        "outputId": "13fea905-700f-40ae-c633-af6a4e585fcb",
        "colab": {
          "base_uri": "https://localhost:8080/",
          "height": 34
        }
      },
      "source": [
        "features_labels = np.asarray(features_labels)\n",
        "features_labels_list = [a for a in features_labels]\n",
        "features_labels = np.concatenate(features_labels_list, axis=0)\n",
        "features_labels.shape"
      ],
      "execution_count": 243,
      "outputs": [
        {
          "output_type": "execute_result",
          "data": {
            "text/plain": [
              "(52945,)"
            ]
          },
          "metadata": {
            "tags": []
          },
          "execution_count": 243
        }
      ]
    },
    {
      "cell_type": "code",
      "metadata": {
        "id": "80S3jP71p00v",
        "outputId": "39a036ff-d458-48eb-d991-af3e438cd0ef",
        "colab": {
          "base_uri": "https://localhost:8080/",
          "height": 34
        }
      },
      "source": [
        "features = np.asarray(features)\n",
        "feature_list = [a for a in features]\n",
        "features = np.concatenate(feature_list, axis=0)\n",
        "features.shape"
      ],
      "execution_count": 244,
      "outputs": [
        {
          "output_type": "execute_result",
          "data": {
            "text/plain": [
              "(52945, 768)"
            ]
          },
          "metadata": {
            "tags": []
          },
          "execution_count": 244
        }
      ]
    },
    {
      "cell_type": "markdown",
      "metadata": {
        "id": "COddUCeqGVvA"
      },
      "source": [
        "## Creating a Multi Classification Model using BERT Embedding for Sentence"
      ]
    },
    {
      "cell_type": "code",
      "metadata": {
        "id": "IrdzHbDGuPzL",
        "outputId": "db7e97c2-003f-4f8b-8a66-4a047739055e",
        "colab": {
          "base_uri": "https://localhost:8080/",
          "height": 323
        }
      },
      "source": [
        "model = Sequential()\n",
        "model.add(Dense(768, activation='relu', kernel_initializer=tf.keras.initializers.glorot_normal(seed=None), input_shape=(768,)))\n",
        "#model.add(Dropout(0.5))\n",
        "model.add(Dense(39,kernel_initializer=tf.keras.initializers.glorot_normal(seed=None), activation='relu'))\n",
        "model.add(Dense(19,kernel_initializer=tf.keras.initializers.glorot_normal(seed=None), activation='relu'))\n",
        "model.add(BatchNormalization())\n",
        "model.add(Dense(6, activation='softmax'))\n",
        "model.summary()"
      ],
      "execution_count": 245,
      "outputs": [
        {
          "output_type": "stream",
          "text": [
            "Model: \"sequential_4\"\n",
            "_________________________________________________________________\n",
            "Layer (type)                 Output Shape              Param #   \n",
            "=================================================================\n",
            "dense_16 (Dense)             (None, 768)               590592    \n",
            "_________________________________________________________________\n",
            "dense_17 (Dense)             (None, 39)                29991     \n",
            "_________________________________________________________________\n",
            "dense_18 (Dense)             (None, 19)                760       \n",
            "_________________________________________________________________\n",
            "batch_normalization_4 (Batch (None, 19)                76        \n",
            "_________________________________________________________________\n",
            "dense_19 (Dense)             (None, 6)                 120       \n",
            "=================================================================\n",
            "Total params: 621,539\n",
            "Trainable params: 621,501\n",
            "Non-trainable params: 38\n",
            "_________________________________________________________________\n"
          ],
          "name": "stdout"
        }
      ]
    },
    {
      "cell_type": "markdown",
      "metadata": {
        "id": "e9BlyTHoHHmp"
      },
      "source": [
        "## Training the Classification Model "
      ]
    },
    {
      "cell_type": "code",
      "metadata": {
        "id": "mQ4iCf2LuU8s"
      },
      "source": [
        "import keras\n",
        "from keras import optimizers\n",
        "rms = keras.optimizers.RMSprop(lr=0.01, rho=0.9)\n",
        "adam = keras.optimizers.Adam(lr=0.001, beta_1=0.9, beta_2=0.999, amsgrad=False)\n",
        "sgd = optimizers.SGD(lr=0.01, clipnorm=1.)\n",
        "model.compile(loss='sparse_categorical_crossentropy', optimizer=adam, metrics=['accuracy'])"
      ],
      "execution_count": 246,
      "outputs": []
    },
    {
      "cell_type": "code",
      "metadata": {
        "id": "AuqJMQ3WutlJ"
      },
      "source": [
        "X_train, X_val, y_train, y_val = train_test_split(features, \n",
        "                                                  features_labels, \n",
        "                                                  test_size=0.15, \n",
        "                                                  random_state=42, \n",
        "                                                  stratify=features_labels)\n"
      ],
      "execution_count": 247,
      "outputs": []
    },
    {
      "cell_type": "code",
      "metadata": {
        "id": "1at61Hsz71rz"
      },
      "source": [
        "checkpoint = ModelCheckpoint(\"/content/drive/My Drive/models/amazon_bert.h5\",\n",
        "                             monitor=\"val_loss\",\n",
        "                             mode=\"min\",\n",
        "                             save_best_only = True,\n",
        "                             verbose=1)\n",
        "\n",
        "earlystop = EarlyStopping(monitor = 'val_loss', \n",
        "                          min_delta = 0, \n",
        "                          patience = 20,\n",
        "                          verbose = 1,\n",
        "                          restore_best_weights = True)\n",
        "\n",
        "# we put our call backs into a callback list\n",
        "callbacks = [earlystop, checkpoint]"
      ],
      "execution_count": 248,
      "outputs": []
    },
    {
      "cell_type": "code",
      "metadata": {
        "id": "fFkNwaTYuZCd",
        "outputId": "bbd7ea14-a5e4-40cc-e655-bdee144c6259",
        "colab": {
          "base_uri": "https://localhost:8080/",
          "height": 1000
        }
      },
      "source": [
        "model.fit(X_train, y_train, \n",
        "          batch_size=32, epochs=100, verbose=1,\n",
        "          callbacks=callbacks,\n",
        "          validation_data=(X_val, y_val))"
      ],
      "execution_count": 249,
      "outputs": [
        {
          "output_type": "stream",
          "text": [
            "Epoch 1/100\n",
            "1391/1407 [============================>.] - ETA: 0s - loss: 0.4471 - accuracy: 0.8681\n",
            "Epoch 00001: val_loss improved from inf to 0.40775, saving model to /content/drive/My Drive/models/amazon_bert.h5\n",
            "1407/1407 [==============================] - 4s 3ms/step - loss: 0.4461 - accuracy: 0.8683 - val_loss: 0.4078 - val_accuracy: 0.8611\n",
            "Epoch 2/100\n",
            "1391/1407 [============================>.] - ETA: 0s - loss: 0.3326 - accuracy: 0.8944\n",
            "Epoch 00002: val_loss did not improve from 0.40775\n",
            "1407/1407 [==============================] - 4s 3ms/step - loss: 0.3329 - accuracy: 0.8944 - val_loss: 0.4446 - val_accuracy: 0.8685\n",
            "Epoch 3/100\n",
            "1393/1407 [============================>.] - ETA: 0s - loss: 0.3090 - accuracy: 0.8997\n",
            "Epoch 00003: val_loss improved from 0.40775 to 0.33981, saving model to /content/drive/My Drive/models/amazon_bert.h5\n",
            "1407/1407 [==============================] - 4s 3ms/step - loss: 0.3084 - accuracy: 0.8998 - val_loss: 0.3398 - val_accuracy: 0.8850\n",
            "Epoch 4/100\n",
            "1396/1407 [============================>.] - ETA: 0s - loss: 0.2973 - accuracy: 0.9031\n",
            "Epoch 00004: val_loss did not improve from 0.33981\n",
            "1407/1407 [==============================] - 4s 3ms/step - loss: 0.2971 - accuracy: 0.9031 - val_loss: 0.4224 - val_accuracy: 0.8707\n",
            "Epoch 5/100\n",
            "1403/1407 [============================>.] - ETA: 0s - loss: 0.2846 - accuracy: 0.9080\n",
            "Epoch 00005: val_loss did not improve from 0.33981\n",
            "1407/1407 [==============================] - 4s 3ms/step - loss: 0.2844 - accuracy: 0.9081 - val_loss: 0.3414 - val_accuracy: 0.8921\n",
            "Epoch 6/100\n",
            "1397/1407 [============================>.] - ETA: 0s - loss: 0.2750 - accuracy: 0.9092\n",
            "Epoch 00006: val_loss improved from 0.33981 to 0.31570, saving model to /content/drive/My Drive/models/amazon_bert.h5\n",
            "1407/1407 [==============================] - 4s 3ms/step - loss: 0.2749 - accuracy: 0.9092 - val_loss: 0.3157 - val_accuracy: 0.8970\n",
            "Epoch 7/100\n",
            "1393/1407 [============================>.] - ETA: 0s - loss: 0.2666 - accuracy: 0.9117\n",
            "Epoch 00007: val_loss did not improve from 0.31570\n",
            "1407/1407 [==============================] - 4s 3ms/step - loss: 0.2666 - accuracy: 0.9117 - val_loss: 0.3192 - val_accuracy: 0.9015\n",
            "Epoch 8/100\n",
            "1405/1407 [============================>.] - ETA: 0s - loss: 0.2594 - accuracy: 0.9134\n",
            "Epoch 00008: val_loss improved from 0.31570 to 0.29689, saving model to /content/drive/My Drive/models/amazon_bert.h5\n",
            "1407/1407 [==============================] - 4s 3ms/step - loss: 0.2595 - accuracy: 0.9133 - val_loss: 0.2969 - val_accuracy: 0.9044\n",
            "Epoch 9/100\n",
            "1397/1407 [============================>.] - ETA: 0s - loss: 0.2542 - accuracy: 0.9165\n",
            "Epoch 00009: val_loss improved from 0.29689 to 0.29470, saving model to /content/drive/My Drive/models/amazon_bert.h5\n",
            "1407/1407 [==============================] - 4s 3ms/step - loss: 0.2543 - accuracy: 0.9166 - val_loss: 0.2947 - val_accuracy: 0.9054\n",
            "Epoch 10/100\n",
            "1397/1407 [============================>.] - ETA: 0s - loss: 0.2462 - accuracy: 0.9178\n",
            "Epoch 00010: val_loss improved from 0.29470 to 0.27964, saving model to /content/drive/My Drive/models/amazon_bert.h5\n",
            "1407/1407 [==============================] - 4s 3ms/step - loss: 0.2468 - accuracy: 0.9176 - val_loss: 0.2796 - val_accuracy: 0.9071\n",
            "Epoch 11/100\n",
            "1394/1407 [============================>.] - ETA: 0s - loss: 0.2393 - accuracy: 0.9197\n",
            "Epoch 00011: val_loss improved from 0.27964 to 0.27836, saving model to /content/drive/My Drive/models/amazon_bert.h5\n",
            "1407/1407 [==============================] - 4s 3ms/step - loss: 0.2392 - accuracy: 0.9196 - val_loss: 0.2784 - val_accuracy: 0.9116\n",
            "Epoch 12/100\n",
            "1405/1407 [============================>.] - ETA: 0s - loss: 0.2344 - accuracy: 0.9217\n",
            "Epoch 00012: val_loss did not improve from 0.27836\n",
            "1407/1407 [==============================] - 4s 3ms/step - loss: 0.2344 - accuracy: 0.9217 - val_loss: 0.2946 - val_accuracy: 0.9073\n",
            "Epoch 13/100\n",
            "1401/1407 [============================>.] - ETA: 0s - loss: 0.2306 - accuracy: 0.9230\n",
            "Epoch 00013: val_loss did not improve from 0.27836\n",
            "1407/1407 [==============================] - 4s 3ms/step - loss: 0.2303 - accuracy: 0.9231 - val_loss: 0.3524 - val_accuracy: 0.8910\n",
            "Epoch 14/100\n",
            "1402/1407 [============================>.] - ETA: 0s - loss: 0.2250 - accuracy: 0.9243\n",
            "Epoch 00014: val_loss did not improve from 0.27836\n",
            "1407/1407 [==============================] - 5s 3ms/step - loss: 0.2253 - accuracy: 0.9241 - val_loss: 0.3075 - val_accuracy: 0.9071\n",
            "Epoch 15/100\n",
            "1400/1407 [============================>.] - ETA: 0s - loss: 0.2183 - accuracy: 0.9261\n",
            "Epoch 00015: val_loss did not improve from 0.27836\n",
            "1407/1407 [==============================] - 4s 3ms/step - loss: 0.2182 - accuracy: 0.9261 - val_loss: 0.3226 - val_accuracy: 0.9017\n",
            "Epoch 16/100\n",
            "1398/1407 [============================>.] - ETA: 0s - loss: 0.2136 - accuracy: 0.9275\n",
            "Epoch 00016: val_loss did not improve from 0.27836\n",
            "1407/1407 [==============================] - 4s 3ms/step - loss: 0.2138 - accuracy: 0.9274 - val_loss: 0.2981 - val_accuracy: 0.9059\n",
            "Epoch 17/100\n",
            "1397/1407 [============================>.] - ETA: 0s - loss: 0.2109 - accuracy: 0.9289\n",
            "Epoch 00017: val_loss did not improve from 0.27836\n",
            "1407/1407 [==============================] - 4s 3ms/step - loss: 0.2109 - accuracy: 0.9289 - val_loss: 0.2914 - val_accuracy: 0.9109\n",
            "Epoch 18/100\n",
            "1399/1407 [============================>.] - ETA: 0s - loss: 0.2054 - accuracy: 0.9307\n",
            "Epoch 00018: val_loss did not improve from 0.27836\n",
            "1407/1407 [==============================] - 4s 3ms/step - loss: 0.2056 - accuracy: 0.9306 - val_loss: 0.3234 - val_accuracy: 0.9032\n",
            "Epoch 19/100\n",
            "1395/1407 [============================>.] - ETA: 0s - loss: 0.2007 - accuracy: 0.9320\n",
            "Epoch 00019: val_loss did not improve from 0.27836\n",
            "1407/1407 [==============================] - 4s 3ms/step - loss: 0.2009 - accuracy: 0.9320 - val_loss: 0.3351 - val_accuracy: 0.8976\n",
            "Epoch 20/100\n",
            "1398/1407 [============================>.] - ETA: 0s - loss: 0.1964 - accuracy: 0.9344\n",
            "Epoch 00020: val_loss did not improve from 0.27836\n",
            "1407/1407 [==============================] - 4s 3ms/step - loss: 0.1969 - accuracy: 0.9342 - val_loss: 0.3293 - val_accuracy: 0.8986\n",
            "Epoch 21/100\n",
            "1398/1407 [============================>.] - ETA: 0s - loss: 0.1895 - accuracy: 0.9350\n",
            "Epoch 00021: val_loss did not improve from 0.27836\n",
            "1407/1407 [==============================] - 5s 3ms/step - loss: 0.1895 - accuracy: 0.9350 - val_loss: 0.3494 - val_accuracy: 0.8957\n",
            "Epoch 22/100\n",
            "1399/1407 [============================>.] - ETA: 0s - loss: 0.1896 - accuracy: 0.9359\n",
            "Epoch 00022: val_loss did not improve from 0.27836\n",
            "1407/1407 [==============================] - 5s 3ms/step - loss: 0.1899 - accuracy: 0.9359 - val_loss: 0.2921 - val_accuracy: 0.9115\n",
            "Epoch 23/100\n",
            "1402/1407 [============================>.] - ETA: 0s - loss: 0.1814 - accuracy: 0.9386\n",
            "Epoch 00023: val_loss improved from 0.27836 to 0.27189, saving model to /content/drive/My Drive/models/amazon_bert.h5\n",
            "1407/1407 [==============================] - 5s 3ms/step - loss: 0.1816 - accuracy: 0.9386 - val_loss: 0.2719 - val_accuracy: 0.9168\n",
            "Epoch 24/100\n",
            "1398/1407 [============================>.] - ETA: 0s - loss: 0.1780 - accuracy: 0.9394\n",
            "Epoch 00024: val_loss did not improve from 0.27189\n",
            "1407/1407 [==============================] - 4s 3ms/step - loss: 0.1779 - accuracy: 0.9395 - val_loss: 0.3054 - val_accuracy: 0.9091\n",
            "Epoch 25/100\n",
            "1394/1407 [============================>.] - ETA: 0s - loss: 0.1747 - accuracy: 0.9410\n",
            "Epoch 00025: val_loss did not improve from 0.27189\n",
            "1407/1407 [==============================] - 4s 3ms/step - loss: 0.1746 - accuracy: 0.9411 - val_loss: 0.2880 - val_accuracy: 0.9141\n",
            "Epoch 26/100\n",
            "1401/1407 [============================>.] - ETA: 0s - loss: 0.1728 - accuracy: 0.9408\n",
            "Epoch 00026: val_loss did not improve from 0.27189\n",
            "1407/1407 [==============================] - 4s 3ms/step - loss: 0.1732 - accuracy: 0.9406 - val_loss: 0.2983 - val_accuracy: 0.9115\n",
            "Epoch 27/100\n",
            "1399/1407 [============================>.] - ETA: 0s - loss: 0.1662 - accuracy: 0.9434\n",
            "Epoch 00027: val_loss did not improve from 0.27189\n",
            "1407/1407 [==============================] - 4s 3ms/step - loss: 0.1664 - accuracy: 0.9434 - val_loss: 0.3344 - val_accuracy: 0.9034\n",
            "Epoch 28/100\n",
            "1397/1407 [============================>.] - ETA: 0s - loss: 0.1640 - accuracy: 0.9435\n",
            "Epoch 00028: val_loss did not improve from 0.27189\n",
            "1407/1407 [==============================] - 4s 3ms/step - loss: 0.1640 - accuracy: 0.9436 - val_loss: 0.3001 - val_accuracy: 0.9092\n",
            "Epoch 29/100\n",
            "1403/1407 [============================>.] - ETA: 0s - loss: 0.1604 - accuracy: 0.9445\n",
            "Epoch 00029: val_loss did not improve from 0.27189\n",
            "1407/1407 [==============================] - 4s 3ms/step - loss: 0.1602 - accuracy: 0.9446 - val_loss: 0.3287 - val_accuracy: 0.9078\n",
            "Epoch 30/100\n",
            "1395/1407 [============================>.] - ETA: 0s - loss: 0.1572 - accuracy: 0.9457\n",
            "Epoch 00030: val_loss did not improve from 0.27189\n",
            "1407/1407 [==============================] - 4s 3ms/step - loss: 0.1569 - accuracy: 0.9458 - val_loss: 0.3463 - val_accuracy: 0.8986\n",
            "Epoch 31/100\n",
            "1406/1407 [============================>.] - ETA: 0s - loss: 0.1528 - accuracy: 0.9470\n",
            "Epoch 00031: val_loss did not improve from 0.27189\n",
            "1407/1407 [==============================] - 4s 3ms/step - loss: 0.1528 - accuracy: 0.9470 - val_loss: 0.3142 - val_accuracy: 0.9114\n",
            "Epoch 32/100\n",
            "1397/1407 [============================>.] - ETA: 0s - loss: 0.1477 - accuracy: 0.9485\n",
            "Epoch 00032: val_loss did not improve from 0.27189\n",
            "1407/1407 [==============================] - 4s 3ms/step - loss: 0.1479 - accuracy: 0.9485 - val_loss: 0.3052 - val_accuracy: 0.9114\n",
            "Epoch 33/100\n",
            "1392/1407 [============================>.] - ETA: 0s - loss: 0.1435 - accuracy: 0.9498\n",
            "Epoch 00033: val_loss did not improve from 0.27189\n",
            "1407/1407 [==============================] - 4s 3ms/step - loss: 0.1436 - accuracy: 0.9497 - val_loss: 0.3655 - val_accuracy: 0.8974\n",
            "Epoch 34/100\n",
            "1392/1407 [============================>.] - ETA: 0s - loss: 0.1426 - accuracy: 0.9508\n",
            "Epoch 00034: val_loss did not improve from 0.27189\n",
            "1407/1407 [==============================] - 4s 3ms/step - loss: 0.1424 - accuracy: 0.9509 - val_loss: 0.3280 - val_accuracy: 0.9077\n",
            "Epoch 35/100\n",
            "1396/1407 [============================>.] - ETA: 0s - loss: 0.1396 - accuracy: 0.9519\n",
            "Epoch 00035: val_loss did not improve from 0.27189\n",
            "1407/1407 [==============================] - 4s 3ms/step - loss: 0.1396 - accuracy: 0.9518 - val_loss: 0.3580 - val_accuracy: 0.9048\n",
            "Epoch 36/100\n",
            "1396/1407 [============================>.] - ETA: 0s - loss: 0.1362 - accuracy: 0.9527\n",
            "Epoch 00036: val_loss did not improve from 0.27189\n",
            "1407/1407 [==============================] - 4s 3ms/step - loss: 0.1361 - accuracy: 0.9528 - val_loss: 0.3366 - val_accuracy: 0.9078\n",
            "Epoch 37/100\n",
            "1396/1407 [============================>.] - ETA: 0s - loss: 0.1319 - accuracy: 0.9543\n",
            "Epoch 00037: val_loss did not improve from 0.27189\n",
            "1407/1407 [==============================] - 4s 3ms/step - loss: 0.1320 - accuracy: 0.9543 - val_loss: 0.3130 - val_accuracy: 0.9125\n",
            "Epoch 38/100\n",
            "1396/1407 [============================>.] - ETA: 0s - loss: 0.1285 - accuracy: 0.9554\n",
            "Epoch 00038: val_loss did not improve from 0.27189\n",
            "1407/1407 [==============================] - 4s 3ms/step - loss: 0.1286 - accuracy: 0.9554 - val_loss: 0.3569 - val_accuracy: 0.9007\n",
            "Epoch 39/100\n",
            "1395/1407 [============================>.] - ETA: 0s - loss: 0.1287 - accuracy: 0.9556\n",
            "Epoch 00039: val_loss did not improve from 0.27189\n",
            "1407/1407 [==============================] - 5s 3ms/step - loss: 0.1287 - accuracy: 0.9556 - val_loss: 0.3387 - val_accuracy: 0.9063\n",
            "Epoch 40/100\n",
            "1401/1407 [============================>.] - ETA: 0s - loss: 0.1261 - accuracy: 0.9556\n",
            "Epoch 00040: val_loss did not improve from 0.27189\n",
            "1407/1407 [==============================] - 4s 3ms/step - loss: 0.1260 - accuracy: 0.9557 - val_loss: 0.3545 - val_accuracy: 0.9008\n",
            "Epoch 41/100\n",
            "1401/1407 [============================>.] - ETA: 0s - loss: 0.1185 - accuracy: 0.9595\n",
            "Epoch 00041: val_loss did not improve from 0.27189\n",
            "1407/1407 [==============================] - 4s 3ms/step - loss: 0.1187 - accuracy: 0.9595 - val_loss: 0.3456 - val_accuracy: 0.9105\n",
            "Epoch 42/100\n",
            "1404/1407 [============================>.] - ETA: 0s - loss: 0.1177 - accuracy: 0.9582\n",
            "Epoch 00042: val_loss did not improve from 0.27189\n",
            "1407/1407 [==============================] - 4s 3ms/step - loss: 0.1177 - accuracy: 0.9582 - val_loss: 0.3544 - val_accuracy: 0.9091\n",
            "Epoch 43/100\n",
            "1398/1407 [============================>.] - ETA: 0s - loss: 0.1173 - accuracy: 0.9587Restoring model weights from the end of the best epoch.\n",
            "\n",
            "Epoch 00043: val_loss did not improve from 0.27189\n",
            "1407/1407 [==============================] - 4s 3ms/step - loss: 0.1175 - accuracy: 0.9586 - val_loss: 0.3371 - val_accuracy: 0.9145\n",
            "Epoch 00043: early stopping\n"
          ],
          "name": "stdout"
        },
        {
          "output_type": "execute_result",
          "data": {
            "text/plain": [
              "<tensorflow.python.keras.callbacks.History at 0x7fb9f049c438>"
            ]
          },
          "metadata": {
            "tags": []
          },
          "execution_count": 249
        }
      ]
    },
    {
      "cell_type": "markdown",
      "metadata": {
        "id": "w_nfJCH5HOzv"
      },
      "source": [
        "## Evaluating Model Performance"
      ]
    },
    {
      "cell_type": "code",
      "metadata": {
        "id": "swLVI2Ec8QeU"
      },
      "source": [
        "y_hat = model.predict(X_val)\n",
        "y_hat = np.argmax(y_hat, axis=1)"
      ],
      "execution_count": 250,
      "outputs": []
    },
    {
      "cell_type": "code",
      "metadata": {
        "id": "ZXN6JMUh8ZlB"
      },
      "source": [
        "from sklearn.metrics import confusion_matrix\n",
        "import itertools\n",
        "def plot_confusion_matrix(cm, classes,\n",
        "                          normalize=False,\n",
        "                          title='Confusion matrix',\n",
        "                          cmap=plt.cm.Blues):\n",
        "  \"\"\"\n",
        "  This function prints and plots the confusion matrix.\n",
        "  Normalization can be applied by setting `normalize=True`.\n",
        "  \"\"\"\n",
        "  if normalize:\n",
        "      cm = cm.astype('float') / cm.sum(axis=1)[:, np.newaxis]\n",
        "      print(\"Normalized confusion matrix\")\n",
        "  else:\n",
        "      print('Confusion matrix, without normalization')\n",
        "\n",
        "  print(cm)\n",
        "\n",
        "  plt.imshow(cm, interpolation='nearest', cmap=cmap)\n",
        "  plt.title(title)\n",
        "  plt.colorbar()\n",
        "  tick_marks = np.arange(len(classes))\n",
        "  plt.xticks(tick_marks, classes, rotation=45)\n",
        "  plt.yticks(tick_marks, classes)\n",
        "\n",
        "  fmt = '.2f' if normalize else 'd'\n",
        "  thresh = cm.max() / 2.\n",
        "  for i, j in itertools.product(range(cm.shape[0]), range(cm.shape[1])):\n",
        "      plt.text(j, i, format(cm[i, j], fmt),\n",
        "               horizontalalignment=\"center\",\n",
        "               color=\"white\" if cm[i, j] > thresh else \"black\")\n",
        "\n",
        "  plt.tight_layout()\n",
        "  plt.ylabel('True label')\n",
        "  plt.xlabel('Predicted label')\n",
        "  plt.show()"
      ],
      "execution_count": 251,
      "outputs": []
    },
    {
      "cell_type": "code",
      "metadata": {
        "id": "k6WSbxYH8dLY",
        "outputId": "65ab297b-5562-41ab-ab75-1d68dc3d0dae",
        "colab": {
          "base_uri": "https://localhost:8080/",
          "height": 430
        }
      },
      "source": [
        "cm = confusion_matrix(y_val, y_hat)\n",
        "plot_confusion_matrix(cm, [0,1,2,3,4,5])"
      ],
      "execution_count": 252,
      "outputs": [
        {
          "output_type": "stream",
          "text": [
            "Confusion matrix, without normalization\n",
            "[[2072    2   25   19   69   10]\n",
            " [   8  191    1    6   20    5]\n",
            " [  19    0  562    7   20   47]\n",
            " [  23    1    3  963   47   12]\n",
            " [  96   10   25   46 2891   40]\n",
            " [   8    3   35   25   29  602]]\n"
          ],
          "name": "stdout"
        },
        {
          "output_type": "display_data",
          "data": {
            "image/png": "[encoded data removed]",
            "text/plain": [
              "<Figure size 432x288 with 2 Axes>"
            ]
          },
          "metadata": {
            "tags": [],
            "needs_background": "light"
          }
        }
      ]
    }
  ]
}