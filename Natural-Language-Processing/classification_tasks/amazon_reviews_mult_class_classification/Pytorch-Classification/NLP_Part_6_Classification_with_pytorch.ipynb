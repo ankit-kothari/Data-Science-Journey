{
  "nbformat": 4,
  "nbformat_minor": 0,
  "metadata": {
    "colab": {
      "name": "NLP Part 6: Classification with pytorch.ipynb",
      "provenance": [],
      "collapsed_sections": [],
      "mount_file_id": "1f__k2hFhzJhEPisVCs-FgGcYXTgM9BWN",
      "authorship_tag": "ABX9TyPbhbj95G7/KN7Fd3WLJ0cm",
      "include_colab_link": true
    },
    "kernelspec": {
      "name": "python3",
      "display_name": "Python 3"
    },
    "accelerator": "GPU"
  },
  "cells": [
    {
      "cell_type": "markdown",
      "metadata": {
        "id": "view-in-github",
        "colab_type": "text"
      },
      "source": [
        "<a href=\"https://colab.research.google.com/github/ankit-kothari/pytorch_approach_to_classification/blob/master/NLP_Part_6_Classification_with_pytorch.ipynb\" target=\"_parent\"><img src=\"https://colab.research.google.com/assets/colab-badge.svg\" alt=\"Open In Colab\"/></a>"
      ]
    },
    {
      "cell_type": "code",
      "metadata": {
        "id": "JJ9GSXQVL-h4",
        "colab_type": "code",
        "colab": {}
      },
      "source": [
        "import os\n",
        "import torch\n",
        "import torch.nn as nn\n",
        "import torchtext.data as ttd\n",
        "from torchtext.vocab import GloVe\n",
        "import torch.nn.functional as F\n",
        "import numpy as np\n",
        "import pandas as pd\n",
        "import matplotlib.pyplot as plt\n",
        "from datetime import datetime"
      ],
      "execution_count": null,
      "outputs": []
    },
    {
      "cell_type": "code",
      "metadata": {
        "id": "hU02359_PKou",
        "colab_type": "code",
        "colab": {
          "base_uri": "https://localhost:8080/",
          "height": 71
        },
        "outputId": "64276deb-e24d-4dc6-e5ea-f06095feaf46"
      },
      "source": [
        "from google.colab import drive\n",
        "drive.mount('/gdrive')\n",
        "%cd /gdrive"
      ],
      "execution_count": null,
      "outputs": [
        {
          "output_type": "stream",
          "text": [
            "Drive already mounted at /gdrive; to attempt to forcibly remount, call drive.mount(\"/gdrive\", force_remount=True).\n",
            "/gdrive\n"
          ],
          "name": "stdout"
        }
      ]
    },
    {
      "cell_type": "code",
      "metadata": {
        "id": "YflJ2hoEPFHG",
        "colab_type": "code",
        "colab": {
          "base_uri": "https://localhost:8080/",
          "height": 221
        },
        "outputId": "cb884148-b02c-483f-fda8-87500eafcc22"
      },
      "source": [
        "data = pd.read_csv('/gdrive/My Drive/data/amazon_products.csv')\n",
        "data = data.drop(columns=['Unnamed: 0'])\n",
        "data.info()"
      ],
      "execution_count": null,
      "outputs": [
        {
          "output_type": "stream",
          "text": [
            "<class 'pandas.core.frame.DataFrame'>\n",
            "RangeIndex: 58828 entries, 0 to 58827\n",
            "Data columns (total 5 columns):\n",
            " #   Column           Non-Null Count  Dtype \n",
            "---  ------           --------------  ----- \n",
            " 0   review           58828 non-null  object\n",
            " 1   clean_review     58828 non-null  object\n",
            " 2   review_category  58828 non-null  object\n",
            " 3   topic_category   58828 non-null  int64 \n",
            " 4   topic_name       58828 non-null  object\n",
            "dtypes: int64(1), object(4)\n",
            "memory usage: 2.2+ MB\n"
          ],
          "name": "stdout"
        }
      ]
    },
    {
      "cell_type": "code",
      "metadata": {
        "id": "y4KOK1OZPS3O",
        "colab_type": "code",
        "colab": {
          "base_uri": "https://localhost:8080/",
          "height": 51
        },
        "outputId": "57419d98-cf75-4858-ef88-b73f6c42cf8d"
      },
      "source": [
        "data['topic_name'].unique()"
      ],
      "execution_count": null,
      "outputs": [
        {
          "output_type": "execute_result",
          "data": {
            "text/plain": [
              "array(['books', 'video-quality', 'refund-and-return', 'movies', 'music',\n",
              "       'games'], dtype=object)"
            ]
          },
          "metadata": {
            "tags": []
          },
          "execution_count": 263
        }
      ]
    },
    {
      "cell_type": "code",
      "metadata": {
        "id": "qIAWL0z7PVKL",
        "colab_type": "code",
        "colab": {
          "base_uri": "https://localhost:8080/",
          "height": 255
        },
        "outputId": "8b7e4096-4dfd-44b8-c6c6-18d58a492e53"
      },
      "source": [
        "data['topic_name']=data['topic_name'].astype('category')\n",
        "data['topic_name'].cat.categories\n",
        "print(data['topic_name'].cat.categories)\n",
        "data['topic_category_codes']=data['topic_name'].cat.codes.values\n",
        "data = data.drop(columns=['review','review_category','topic_category','topic_name'])\n",
        "data.head()"
      ],
      "execution_count": null,
      "outputs": [
        {
          "output_type": "stream",
          "text": [
            "Index(['books', 'games', 'movies', 'music', 'refund-and-return',\n",
            "       'video-quality'],\n",
            "      dtype='object')\n"
          ],
          "name": "stdout"
        },
        {
          "output_type": "execute_result",
          "data": {
            "text/html": [
              "<div>\n",
              "<style scoped>\n",
              "    .dataframe tbody tr th:only-of-type {\n",
              "        vertical-align: middle;\n",
              "    }\n",
              "\n",
              "    .dataframe tbody tr th {\n",
              "        vertical-align: top;\n",
              "    }\n",
              "\n",
              "    .dataframe thead th {\n",
              "        text-align: right;\n",
              "    }\n",
              "</style>\n",
              "<table border=\"1\" class=\"dataframe\">\n",
              "  <thead>\n",
              "    <tr style=\"text-align: right;\">\n",
              "      <th></th>\n",
              "      <th>clean_review</th>\n",
              "      <th>topic_category_codes</th>\n",
              "    </tr>\n",
              "  </thead>\n",
              "  <tbody>\n",
              "    <tr>\n",
              "      <th>0</th>\n",
              "      <td>this self published book want know read paragr...</td>\n",
              "      <td>0</td>\n",
              "    </tr>\n",
              "    <tr>\n",
              "      <th>1</th>\n",
              "      <td>rather scratches insect droppings random pixel...</td>\n",
              "      <td>5</td>\n",
              "    </tr>\n",
              "    <tr>\n",
              "      <th>2</th>\n",
              "      <td>my experience got fm Amazon the dvd player rat...</td>\n",
              "      <td>5</td>\n",
              "    </tr>\n",
              "    <tr>\n",
              "      <th>3</th>\n",
              "      <td>ordered dvd received substitute received dvd o...</td>\n",
              "      <td>5</td>\n",
              "    </tr>\n",
              "    <tr>\n",
              "      <th>4</th>\n",
              "      <td>disappointed performance it underpowered const...</td>\n",
              "      <td>4</td>\n",
              "    </tr>\n",
              "  </tbody>\n",
              "</table>\n",
              "</div>"
            ],
            "text/plain": [
              "                                        clean_review  topic_category_codes\n",
              "0  this self published book want know read paragr...                     0\n",
              "1  rather scratches insect droppings random pixel...                     5\n",
              "2  my experience got fm Amazon the dvd player rat...                     5\n",
              "3  ordered dvd received substitute received dvd o...                     5\n",
              "4  disappointed performance it underpowered const...                     4"
            ]
          },
          "metadata": {
            "tags": []
          },
          "execution_count": 264
        }
      ]
    },
    {
      "cell_type": "code",
      "metadata": {
        "id": "R_9pTxXBiuTt",
        "colab_type": "code",
        "colab": {
          "base_uri": "https://localhost:8080/",
          "height": 136
        },
        "outputId": "ba9561ba-407a-4a65-9a11-b129bef8d0f7"
      },
      "source": [
        "data['topic_category_codes'].value_counts()"
      ],
      "execution_count": null,
      "outputs": [
        {
          "output_type": "execute_result",
          "data": {
            "text/plain": [
              "4    23020\n",
              "0    16273\n",
              "3     7768\n",
              "5     5203\n",
              "2     4855\n",
              "1     1709\n",
              "Name: topic_category_codes, dtype: int64"
            ]
          },
          "metadata": {
            "tags": []
          },
          "execution_count": 265
        }
      ]
    },
    {
      "cell_type": "code",
      "metadata": {
        "id": "jG8aFIeCPlgJ",
        "colab_type": "code",
        "colab": {}
      },
      "source": [
        "data.to_csv('/gdrive/My Drive/data/pytorch_amazon_products.csv')"
      ],
      "execution_count": null,
      "outputs": []
    },
    {
      "cell_type": "code",
      "metadata": {
        "id": "4VIPxY7CPhdy",
        "colab_type": "code",
        "colab": {}
      },
      "source": [
        "TEXT = ttd.Field(\n",
        "    sequential=True,\n",
        "    batch_first=True,\n",
        "    lower=False,\n",
        "    tokenize='spacy',\n",
        "    pad_first=True)\n",
        "LABEL = ttd.Field(sequential=False, use_vocab=False, is_target=True,batch_first=True)"
      ],
      "execution_count": null,
      "outputs": []
    },
    {
      "cell_type": "code",
      "metadata": {
        "id": "1ZfPdS21PwF_",
        "colab_type": "code",
        "colab": {}
      },
      "source": [
        "dataset = ttd.TabularDataset(\n",
        "    path='/gdrive/My Drive/data/pytorch_amazon_products.csv',\n",
        "    format='csv',\n",
        "    skip_header=True,\n",
        "    fields=[(None,None),('data', TEXT), ('label', LABEL)]\n",
        ")"
      ],
      "execution_count": null,
      "outputs": []
    },
    {
      "cell_type": "code",
      "metadata": {
        "id": "7YIIAFcYQoqH",
        "colab_type": "code",
        "colab": {}
      },
      "source": [
        "import random\n",
        "train_dataset, test_dataset = dataset.split(split_ratio=0.7)"
      ],
      "execution_count": null,
      "outputs": []
    },
    {
      "cell_type": "code",
      "metadata": {
        "id": "r75eDwvTVWTN",
        "colab_type": "code",
        "colab": {
          "base_uri": "https://localhost:8080/",
          "height": 54
        },
        "outputId": "d0adc3af-d124-4541-db2a-99e8c307ca87"
      },
      "source": [
        "print(vars(train_dataset.examples[0]))"
      ],
      "execution_count": null,
      "outputs": [
        {
          "output_type": "stream",
          "text": [
            "{'data': ['and', 'exactly', 'tale', 'it', 'adventure', 'ring', 'true', 'found', 'later', 'jones', 'biographer', 'wrote', 'numerous', 'instances', 'tristan', 'twisted', 'truth', 'nonetheless', 'fun', 'read', 'stars', 'you', 'buy', 'copy', 'bill', 'books', 'Amazon', 'marketplace', 'judge'], 'label': '0'}\n"
          ],
          "name": "stdout"
        }
      ]
    },
    {
      "cell_type": "code",
      "metadata": {
        "id": "WaMBDK_h9PEL",
        "colab_type": "code",
        "colab": {
          "base_uri": "https://localhost:8080/",
          "height": 54
        },
        "outputId": "ba188e54-5de1-4674-abe2-8c56397fd3bc"
      },
      "source": [
        "print(vars(train_dataset[1]))"
      ],
      "execution_count": null,
      "outputs": [
        {
          "output_type": "stream",
          "text": [
            "{'data': ['joel', 'kasow', 'gave', 'disc', 'neutral', 'review', 'fanfare', 'finding', 'small', 'faults', 'style', 'soloists', 'notes', 'for', 'complete', 'selections', 'male', 'choruses', 'suggests', 'cd', 'soloist', 'collection', 'sawallisch', 'emi', 'cd', 'medium', 'sized', 'group', 'collection', 'ortner', 'teldec', 'for', 'single', 'dic', 'sample', 'love', 'knothe', 'rendition', 'small', 'groups', 'including', 'songs', 'women', 'chorus', 'capriccio', 'time', 'favorite', 'cds', 'germanic', 'early', 'romantic', 'singing', 'varied', 'dynamic', 'schubert', 'program', 'absolutely', 'luscious', 'however', 'find', 'Amazon'], 'label': '3'}\n"
          ],
          "name": "stdout"
        }
      ]
    },
    {
      "cell_type": "code",
      "metadata": {
        "id": "WDg57ytrRAME",
        "colab_type": "code",
        "colab": {}
      },
      "source": [
        "#initialize glove embeddings\n",
        "TEXT.build_vocab(train_dataset,min_freq=4, max_size=24998)  \n",
        "\n",
        "#No. of unique tokens in text\n",
        "print(\"Size of TEXT vocabulary:\",len(TEXT.vocab))\n",
        "\n",
        "#No. of unique tokens in label\n",
        "#print(\"Size of LABEL vocabulary:\",len(LABEL.vocab))\n",
        "\n",
        "#Commonly used words\n",
        "print(TEXT.vocab.freqs.most_common(10))  \n",
        "\n",
        "#Word dictionary\n",
        "print(TEXT.vocab.stoi)  "
      ],
      "execution_count": null,
      "outputs": []
    },
    {
      "cell_type": "code",
      "metadata": {
        "id": "uGutFdrFjzK9",
        "colab_type": "code",
        "colab": {}
      },
      "source": [
        "vocab = TEXT.vocab"
      ],
      "execution_count": null,
      "outputs": []
    },
    {
      "cell_type": "code",
      "metadata": {
        "id": "gCCm1_WUj4Ka",
        "colab_type": "code",
        "colab": {
          "base_uri": "https://localhost:8080/",
          "height": 34
        },
        "outputId": "c04a7d2b-d9b8-45a8-e3ef-acdf24f1b372"
      },
      "source": [
        "len(vocab)"
      ],
      "execution_count": null,
      "outputs": [
        {
          "output_type": "execute_result",
          "data": {
            "text/plain": [
              "20782"
            ]
          },
          "metadata": {
            "tags": []
          },
          "execution_count": 274
        }
      ]
    },
    {
      "cell_type": "code",
      "metadata": {
        "id": "e6ApZ9_HXO4V",
        "colab_type": "code",
        "colab": {}
      },
      "source": [
        "word2idx =TEXT.vocab.stoi"
      ],
      "execution_count": null,
      "outputs": []
    },
    {
      "cell_type": "code",
      "metadata": {
        "id": "0Th4wNZ2hrWS",
        "colab_type": "code",
        "colab": {
          "base_uri": "https://localhost:8080/",
          "height": 34
        },
        "outputId": "845f8d2b-047a-4884-e741-3e8d3321bb62"
      },
      "source": [
        "type(word2idx)"
      ],
      "execution_count": null,
      "outputs": [
        {
          "output_type": "execute_result",
          "data": {
            "text/plain": [
              "collections.defaultdict"
            ]
          },
          "metadata": {
            "tags": []
          },
          "execution_count": 276
        }
      ]
    },
    {
      "cell_type": "code",
      "metadata": {
        "id": "lXmblUxY3Sdz",
        "colab_type": "code",
        "colab": {
          "base_uri": "https://localhost:8080/",
          "height": 51
        },
        "outputId": "af394ab0-6f0e-4766-fd87-f35445dfda51"
      },
      "source": [
        "# load in pre-trained word vectors\n",
        "EMBEDDING_DIM=50\n",
        "MAX_VOCAB_SIZE=25000\n",
        "print('Loading word vectors...')\n",
        "word2vec = {}\n",
        "with open(os.path.join('/gdrive/My Drive/data/glove.6B.%sd.txt' % EMBEDDING_DIM)) as f:\n",
        "  for line in f:\n",
        "    values = line.split()\n",
        "    word = values[0]\n",
        "    value = np.asarray(values[1:] , dtype='float32')\n",
        "    word2vec[word]=value\n",
        "print(len(word2vec))"
      ],
      "execution_count": null,
      "outputs": [
        {
          "output_type": "stream",
          "text": [
            "Loading word vectors...\n",
            "400000\n"
          ],
          "name": "stdout"
        }
      ]
    },
    {
      "cell_type": "code",
      "metadata": {
        "id": "KH6dSmaX4V9A",
        "colab_type": "code",
        "colab": {}
      },
      "source": [
        "word2vec['<unk>']=word2vec['unk']\n",
        "word2vec['<pad>']=word2vec['pad']"
      ],
      "execution_count": null,
      "outputs": []
    },
    {
      "cell_type": "code",
      "metadata": {
        "id": "kpu4TKos5Knx",
        "colab_type": "code",
        "colab": {}
      },
      "source": [
        "rem_list=['unk','pad']"
      ],
      "execution_count": null,
      "outputs": []
    },
    {
      "cell_type": "code",
      "metadata": {
        "id": "tKhh1gJP5EeL",
        "colab_type": "code",
        "colab": {
          "base_uri": "https://localhost:8080/",
          "height": 357
        },
        "outputId": "8b78057b-af83-4d55-e64e-bedb5e4b7eb4"
      },
      "source": [
        "[word2vec.pop(key) for key in rem_list]"
      ],
      "execution_count": null,
      "outputs": [
        {
          "output_type": "execute_result",
          "data": {
            "text/plain": [
              "[array([-7.9149e-01,  8.6617e-01,  1.1998e-01,  9.2287e-04,  2.7760e-01,\n",
              "        -4.9185e-01,  5.0195e-01,  6.0792e-04, -2.5845e-01,  1.7865e-01,\n",
              "         2.5350e-01,  7.6572e-01,  5.0664e-01,  4.0250e-01, -2.1388e-03,\n",
              "        -2.8397e-01, -5.0324e-01,  3.0449e-01,  5.1779e-01,  1.5090e-02,\n",
              "        -3.5031e-01, -1.1278e+00,  3.3253e-01, -3.5250e-01,  4.1326e-02,\n",
              "         1.0863e+00,  3.3910e-02,  3.3564e-01,  4.9745e-01, -7.0131e-02,\n",
              "        -1.2192e+00, -4.8512e-01, -3.8512e-02, -1.3554e-01, -1.6380e-01,\n",
              "         5.2321e-01, -3.1318e-01, -1.6550e-01,  1.1909e-01, -1.5115e-01,\n",
              "        -1.5621e-01, -6.2655e-01, -6.2336e-01, -4.2150e-01,  4.1873e-01,\n",
              "        -9.2472e-01,  1.1049e+00, -2.9996e-01, -6.3003e-03,  3.9540e-01],\n",
              "       dtype=float32),\n",
              " array([ 0.15728 , -0.55574 ,  0.72423 ,  0.23084 , -0.31139 , -0.3413  ,\n",
              "        -0.07583 , -0.54296 ,  0.1319  ,  0.1219  , -0.078471, -0.12752 ,\n",
              "         0.38156 ,  1.2938  , -0.80035 ,  0.56079 , -0.60463 , -0.083568,\n",
              "        -0.71688 , -0.021396, -0.031043,  0.36484 , -0.18153 , -0.7503  ,\n",
              "         0.075754, -0.69306 ,  0.36186 ,  0.55955 ,  0.55961 , -0.095321,\n",
              "         1.6133  ,  0.12529 , -1.3211  ,  0.74766 , -0.72517 ,  0.9462  ,\n",
              "         0.55716 ,  0.13449 , -0.11515 , -0.1499  ,  0.54128 ,  0.75025 ,\n",
              "        -0.86573 ,  0.60522 ,  0.25461 , -0.31233 ,  0.53436 , -0.36961 ,\n",
              "         0.32481 , -0.54596 ], dtype=float32)]"
            ]
          },
          "metadata": {
            "tags": []
          },
          "execution_count": 280
        }
      ]
    },
    {
      "cell_type": "code",
      "metadata": {
        "id": "whtr_OVq327u",
        "colab_type": "code",
        "colab": {
          "base_uri": "https://localhost:8080/",
          "height": 51
        },
        "outputId": "5f06c377-d374-4883-f145-9971f459dfa7"
      },
      "source": [
        "# prepare embedding matrix\n",
        "#print('Filling pre-trained embeddings...')\n",
        "num_words = min(MAX_VOCAB_SIZE, len(word2idx))\n",
        "embedding_matrix = np.zeros((num_words, EMBEDDING_DIM))\n",
        "for word,i in word2idx.items():\n",
        "  #print(word)\n",
        "  #print(i)\n",
        "  if i < MAX_VOCAB_SIZE:\n",
        "    embedding_vector= word2vec.get(word)\n",
        "    if embedding_vector is not None:\n",
        "      embedding_matrix[i]=embedding_vector\n",
        "embedding_matrix=torch.tensor(embedding_matrix, dtype=float)\n",
        "print(type(embedding_matrix))\n",
        "print(embedding_matrix.shape)"
      ],
      "execution_count": null,
      "outputs": [
        {
          "output_type": "stream",
          "text": [
            "<class 'torch.Tensor'>\n",
            "torch.Size([20782, 50])\n"
          ],
          "name": "stdout"
        }
      ]
    },
    {
      "cell_type": "code",
      "metadata": {
        "id": "YBkUyiVN97FA",
        "colab_type": "code",
        "colab": {
          "base_uri": "https://localhost:8080/",
          "height": 204
        },
        "outputId": "24fb8895-43b7-4b90-c516-5637f9cf83cd"
      },
      "source": [
        "embedding_matrix[7]"
      ],
      "execution_count": null,
      "outputs": [
        {
          "output_type": "execute_result",
          "data": {
            "text/plain": [
              "tensor([ 3.6808e-01,  2.0834e-01, -2.2319e-01,  4.6283e-02,  2.0098e-01,\n",
              "         2.7515e-01, -7.7127e-01, -7.6804e-01, -3.4861e-01,  5.0620e-01,\n",
              "        -2.4401e-01,  7.1775e-01, -3.3348e-01,  3.7554e-01,  4.4756e-01,\n",
              "         3.6698e-01,  4.3533e-01,  4.7570e-01, -5.6113e-02, -9.3531e-01,\n",
              "        -2.7591e-01,  3.1610e-01,  2.2116e-01,  3.6304e-01,  1.0757e-01,\n",
              "        -1.7638e+00, -1.2624e+00,  3.0284e-01,  5.6286e-01, -1.0214e+00,\n",
              "         3.2353e+00,  4.8483e-01,  2.7953e-02,  3.6082e-02, -7.8554e-02,\n",
              "         1.8761e-01, -5.2573e-01,  3.7200e-02,  2.7579e-01, -7.7360e-02,\n",
              "        -2.7955e-01,  7.9752e-01,  1.6028e-03,  4.5479e-01,  8.8382e-01,\n",
              "         4.3893e-01, -1.9263e-01, -6.7236e-01, -3.9709e-01,  2.5183e-01],\n",
              "       dtype=torch.float64)"
            ]
          },
          "metadata": {
            "tags": []
          },
          "execution_count": 282
        }
      ]
    },
    {
      "cell_type": "code",
      "metadata": {
        "id": "0uTWo339CXvp",
        "colab_type": "code",
        "colab": {}
      },
      "source": [
        "def create_emb_layer(weights_matrix, non_trainable=False):\n",
        "    vocab_size, embedding_dim = embedding_matrix.shape\n",
        "    emb_layer = nn.Embedding(vocab_size, embedding_dim)\n",
        "    emb_layer.load_state_dict({'weight': weights_matrix})\n",
        "    if non_trainable:\n",
        "        emb_layer.weight.requires_grad = False\n",
        "\n",
        "    return emb_layer, num_embeddings, embedding_dim"
      ],
      "execution_count": null,
      "outputs": []
    },
    {
      "cell_type": "code",
      "metadata": {
        "id": "4RLPAQskDs4-",
        "colab_type": "code",
        "colab": {
          "base_uri": "https://localhost:8080/",
          "height": 34
        },
        "outputId": "329b8e1c-1523-49dc-c03a-0b7d629ab87f"
      },
      "source": [
        "device = torch.device(\"cuda:0\" if torch.cuda.is_available() else \"cpu\")\n",
        "print(device)"
      ],
      "execution_count": null,
      "outputs": [
        {
          "output_type": "stream",
          "text": [
            "cuda:0\n"
          ],
          "name": "stdout"
        }
      ]
    },
    {
      "cell_type": "code",
      "metadata": {
        "id": "MGS9I9ETNRFu",
        "colab_type": "code",
        "colab": {}
      },
      "source": [
        "#BATCH_SIZE = 64\n",
        "#train_iter, test_iter = ttd.Iterator.splits(\n",
        "#        (train_dataset, test_dataset), sort_key=lambda x: len(x.data),\n",
        "#        batch_sizes=(32, 256), device=device)\n",
        "\n",
        "\n",
        "train_iter, test_iter = ttd.BucketIterator.splits(\n",
        "    (train_dataset, test_dataset), \n",
        "    sort_key = lambda x: len(x.data),\n",
        "    sort_within_batch=True,\n",
        "    batch_sizes=(128, 256),\n",
        "    device = device)"
      ],
      "execution_count": null,
      "outputs": []
    },
    {
      "cell_type": "code",
      "metadata": {
        "id": "VM59c8kKZrEH",
        "colab_type": "code",
        "colab": {
          "base_uri": "https://localhost:8080/",
          "height": 34
        },
        "outputId": "0f397887-dfe6-4b33-9281-3ff89cd246f4"
      },
      "source": [
        "print(len(train_iter))"
      ],
      "execution_count": null,
      "outputs": [
        {
          "output_type": "stream",
          "text": [
            "322\n"
          ],
          "name": "stdout"
        }
      ]
    },
    {
      "cell_type": "code",
      "metadata": {
        "id": "GCeNP2TtO6Lp",
        "colab_type": "code",
        "colab": {
          "base_uri": "https://localhost:8080/",
          "height": 51
        },
        "outputId": "a9c872ed-42d6-4866-9f19-51c0bab99c43"
      },
      "source": [
        "for inputs, targets in train_iter:\n",
        "  print(\"inputs shape:\", inputs.shape)\n",
        "  print(\"targets shape:\", targets.shape)\n",
        "  break"
      ],
      "execution_count": null,
      "outputs": [
        {
          "output_type": "stream",
          "text": [
            "inputs shape: torch.Size([128, 38])\n",
            "targets shape: torch.Size([128])\n"
          ],
          "name": "stdout"
        }
      ]
    },
    {
      "cell_type": "code",
      "metadata": {
        "id": "BUI7qZebO_3m",
        "colab_type": "code",
        "colab": {
          "base_uri": "https://localhost:8080/",
          "height": 51
        },
        "outputId": "0499e98f-e692-4983-f001-98ece3c34849"
      },
      "source": [
        "for inputs, targets in test_iter:\n",
        "  print(\"inputs:\", inputs.shape)\n",
        "  print(\"targets:\", targets.shape)\n",
        "  break"
      ],
      "execution_count": null,
      "outputs": [
        {
          "output_type": "stream",
          "text": [
            "inputs: torch.Size([256, 10])\n",
            "targets: torch.Size([256])\n"
          ],
          "name": "stdout"
        }
      ]
    },
    {
      "cell_type": "code",
      "metadata": {
        "id": "BJeHdveyQQff",
        "colab_type": "code",
        "colab": {}
      },
      "source": [
        "# Things you should automatically know and have memorized\n",
        "# N = number of samples\n",
        "# T = sequence length\n",
        "# D = number of input features\n",
        "# M = number of hidden units\n",
        "# K = number of output units\n",
        "\n",
        "class RNN(nn.Module):\n",
        "  def __init__(self, n_vocab, embed_dim, n_hidden, n_rnnlayers, n_outputs, weights_matrix):\n",
        "    super(RNN, self).__init__()\n",
        "    self.V = n_vocab\n",
        "    self.D = embed_dim\n",
        "    self.M = n_hidden\n",
        "    self.K = n_outputs\n",
        "    self.L = n_rnnlayers\n",
        "    self.dropout1 = nn.Dropout(0.5)\n",
        "    self.embedding_matrix = weights_matrix\n",
        "    self.embed = nn.Embedding(self.V, self.D,    \n",
        "                         _weight=self.embedding_matrix)\n",
        "\n",
        "    self.rnn = nn.LSTM(\n",
        "        input_size=self.D,\n",
        "        hidden_size= self.M,\n",
        "        num_layers = self.L,\n",
        "        batch_first = True\n",
        "    )\n",
        "    self.fc = nn.Linear(self.M, self.K)\n",
        "\n",
        "  def forward(self, X):\n",
        "    # initial hidden states\n",
        "    h0 = torch.zeros(self.L, X.size(0), self.M).to(device)\n",
        "    c0 = torch.zeros(self.L, X.size(0), self.M).to(device)\n",
        "\n",
        "    out = self.embed(X)\n",
        "    #print(f'embedding shape {out.shape}')\n",
        "    out = out.float()\n",
        "    out, _ = self.rnn(out,(h0,c0) )\n",
        "    out = F.relu(out)\n",
        "    #print(f'LSTM out shape {out.shape}')\n",
        "    # max pool\n",
        "    drop = self.dropout1(out)\n",
        "    out, _ = torch.max(drop, 1)\n",
        "    out = F.relu(out)\n",
        "    #print(f'MAXPOOL out shape {out.shape}')\n",
        "    #we only want h(T) at the final time step\n",
        "    out = self.dropout1(out)\n",
        "    #print(f'Dropout shape {out.shape}')\n",
        "    out = self.fc(out)\n",
        "    #print(f'Dense out shape {out.shape}')\n",
        "    return out\n"
      ],
      "execution_count": null,
      "outputs": []
    },
    {
      "cell_type": "code",
      "metadata": {
        "id": "MNA2NfqBae9f",
        "colab_type": "code",
        "colab": {
          "base_uri": "https://localhost:8080/",
          "height": 119
        },
        "outputId": "b845344f-d1bb-4339-ad6a-0b8440e5f1e3"
      },
      "source": [
        "model = RNN(len(vocab), 50, 128, 2, 6, embedding_matrix)\n",
        "model.to(device)"
      ],
      "execution_count": null,
      "outputs": [
        {
          "output_type": "execute_result",
          "data": {
            "text/plain": [
              "RNN(\n",
              "  (dropout1): Dropout(p=0.5, inplace=False)\n",
              "  (embed): Embedding(20782, 50)\n",
              "  (rnn): LSTM(50, 128, num_layers=2, batch_first=True)\n",
              "  (fc): Linear(in_features=128, out_features=6, bias=True)\n",
              ")"
            ]
          },
          "metadata": {
            "tags": []
          },
          "execution_count": 308
        }
      ]
    },
    {
      "cell_type": "code",
      "metadata": {
        "id": "O6uC8Lt-ENaM",
        "colab_type": "code",
        "colab": {}
      },
      "source": [
        "total_param  = []\n",
        "for p in model.parameters():\n",
        "    total_param.append(int(p.numel()))"
      ],
      "execution_count": null,
      "outputs": []
    },
    {
      "cell_type": "code",
      "metadata": {
        "id": "PPLsz9cXXfH_",
        "colab_type": "code",
        "colab": {
          "base_uri": "https://localhost:8080/",
          "height": 51
        },
        "outputId": "61b20741-afe3-4a1a-e82e-25d8a8242827"
      },
      "source": [
        "X = np.random.randint(5, size=(2, 4))\n",
        "inputs = torch.LongTensor([[1,2,4,5],[4,3,2,9]])\n",
        "inputs"
      ],
      "execution_count": null,
      "outputs": [
        {
          "output_type": "execute_result",
          "data": {
            "text/plain": [
              "tensor([[1, 2, 4, 5],\n",
              "        [4, 3, 2, 9]])"
            ]
          },
          "metadata": {
            "tags": []
          },
          "execution_count": 310
        }
      ]
    },
    {
      "cell_type": "code",
      "metadata": {
        "id": "8bQ0dKFbd9E4",
        "colab_type": "code",
        "colab": {
          "base_uri": "https://localhost:8080/",
          "height": 68
        },
        "outputId": "4f244e49-cd98-4134-b63b-a4c01811af6d"
      },
      "source": [
        "model(inputs.to(device))"
      ],
      "execution_count": null,
      "outputs": [
        {
          "output_type": "execute_result",
          "data": {
            "text/plain": [
              "tensor([[ 0.0209, -0.0737, -0.0733,  0.0667, -0.0779,  0.0125],\n",
              "        [ 0.0893, -0.0498, -0.0257,  0.0325,  0.0041, -0.0428]],\n",
              "       device='cuda:0', grad_fn=<AddmmBackward>)"
            ]
          },
          "metadata": {
            "tags": []
          },
          "execution_count": 311
        }
      ]
    },
    {
      "cell_type": "code",
      "metadata": {
        "id": "hEpTPsPrxFPR",
        "colab_type": "code",
        "colab": {}
      },
      "source": [
        "criterion = nn.CrossEntropyLoss()\n",
        "optimizer = torch.optim.Adam(model.parameters(), lr=0.001)"
      ],
      "execution_count": null,
      "outputs": []
    },
    {
      "cell_type": "code",
      "metadata": {
        "id": "LpPSVhqIUVh6",
        "colab_type": "code",
        "colab": {
          "base_uri": "https://localhost:8080/",
          "height": 289
        },
        "outputId": "d762ef32-4b27-4bcb-ece0-d2e8a2e0748c"
      },
      "source": [
        "import time\n",
        "epochs = 10\n",
        "best_valid_loss = float('inf')\n",
        "running_loss_history = []\n",
        "running_corrects_history = []\n",
        "val_running_loss_history = []\n",
        "val_running_corrects_history = []\n",
        "start_time=time.time()\n",
        "for e in range(epochs):\n",
        "  t0 = time.time()\n",
        "  running_loss = 0.0\n",
        "  running_corrects = 0.0\n",
        "  val_running_loss = 0.0\n",
        "  val_running_corrects = 0.0\n",
        "  total_inputs= 0.0\n",
        "  total_test_inputs=0.0\n",
        "  for inputs, labels in train_iter:\n",
        "    #print(len(inputs))\n",
        "    labels = labels.to(device)\n",
        "    outputs = model(inputs)\n",
        "    loss = criterion(outputs, labels)\n",
        "    \n",
        "    optimizer.zero_grad()\n",
        "    loss.backward()\n",
        "    optimizer.step()\n",
        "    \n",
        "    _, preds = torch.max(outputs, 1)\n",
        "    running_loss += loss.item()\n",
        "    total_inputs += len(inputs)\n",
        "    \n",
        "    #print(f' corrects {torch.sum(preds == labels.data)}')\n",
        "    running_corrects += torch.sum(preds == labels.data)\n",
        "  \n",
        "  \n",
        "  else:\n",
        "    with torch.no_grad():\n",
        "      for val_inputs, val_labels in test_iter:\n",
        "        val_inputs = val_inputs.to(device)\n",
        "        val_labels = val_labels.to(device)\n",
        "        val_outputs = model(val_inputs)\n",
        "        val_loss = criterion(val_outputs, val_labels)\n",
        "        _, val_preds = torch.max(val_outputs, 1)\n",
        "        val_running_loss += val_loss.item()\n",
        "        val_running_corrects += torch.sum(val_preds == val_labels.data)\n",
        "        total_test_inputs += len(val_inputs)\n",
        "        \n",
        "      \n",
        "      if val_running_loss < best_valid_loss:\n",
        "          best_valid_loss=val_running_loss\n",
        "          model_name='/gdrive/My Drive/models/pytorch_amazon_classification.pt'\n",
        "          torch.save(model.state_dict(), model_name)\n",
        "          print(f'Epoch {e} model saved at {val_loss:.2f}' )\n",
        "    \n",
        " \n",
        "  print(f'Epoch {e}  {time.time() - t0:.0f}  Train_loss: {running_loss/len(train_iter):.4f} Train_acc: {(running_corrects/total_inputs)*100:.4f} val_loss: {val_running_loss/len(test_iter):.4f} val_accuracy: {(val_running_corrects/total_test_inputs)*100:.4f}')\n",
        "  val_running_loss_history.append(val_running_loss/len(test_iter))\n",
        "  running_loss_history.append(running_loss/len(train_iter))\n",
        "print(f'\\nDuration: {time.time() - start_time:.0f} seconds') # print the time elapsed   "
      ],
      "execution_count": null,
      "outputs": [
        {
          "output_type": "stream",
          "text": [
            "Epoch 0 model saved at 0.26\n",
            "Epoch 0  4  Train_loss: 0.5653 Train_acc: 81.8334 val_loss: 0.2325 val_accuracy: 93.0870\n",
            "Epoch 1 model saved at 0.19\n",
            "Epoch 1  3  Train_loss: 0.1796 Train_acc: 94.3006 val_loss: 0.1684 val_accuracy: 94.5206\n",
            "Epoch 2 model saved at 0.19\n",
            "Epoch 2  4  Train_loss: 0.1308 Train_acc: 95.7625 val_loss: 0.1433 val_accuracy: 95.4896\n",
            "Epoch 3 model saved at 0.20\n",
            "Epoch 3  4  Train_loss: 0.1107 Train_acc: 96.3137 val_loss: 0.1314 val_accuracy: 95.8069\n",
            "Epoch 4  3  Train_loss: 0.0960 Train_acc: 96.8286 val_loss: 0.1334 val_accuracy: 95.7786\n",
            "Epoch 5  4  Train_loss: 0.0818 Train_acc: 97.3677 val_loss: 0.1493 val_accuracy: 95.4272\n",
            "Epoch 6  4  Train_loss: 0.0697 Train_acc: 97.7222 val_loss: 0.1492 val_accuracy: 95.5632\n",
            "Epoch 7  3  Train_loss: 0.0606 Train_acc: 98.0962 val_loss: 0.1582 val_accuracy: 95.4386\n",
            "Epoch 8  3  Train_loss: 0.0501 Train_acc: 98.4094 val_loss: 0.1762 val_accuracy: 95.4726\n",
            "Epoch 9  3  Train_loss: 0.0453 Train_acc: 98.5891 val_loss: 0.1584 val_accuracy: 95.6369\n",
            "\n",
            "Duration: 35 seconds\n"
          ],
          "name": "stdout"
        }
      ]
    },
    {
      "cell_type": "code",
      "metadata": {
        "id": "DSbjJmNCWX41",
        "colab_type": "code",
        "colab": {
          "base_uri": "https://localhost:8080/",
          "height": 187
        },
        "outputId": "4e267e11-a8a7-470c-87ec-3fb18822092c"
      },
      "source": [
        "running_loss_history"
      ],
      "execution_count": null,
      "outputs": [
        {
          "output_type": "execute_result",
          "data": {
            "text/plain": [
              "[0.5652775702917058,\n",
              " 0.17964779701292144,\n",
              " 0.1308401056004237,\n",
              " 0.11072331899487824,\n",
              " 0.09600391206534012,\n",
              " 0.08176499737646453,\n",
              " 0.06972224253189305,\n",
              " 0.06062820110967533,\n",
              " 0.050116236628212546,\n",
              " 0.04532498639273625]"
            ]
          },
          "metadata": {
            "tags": []
          },
          "execution_count": 314
        }
      ]
    },
    {
      "cell_type": "code",
      "metadata": {
        "id": "2ze4R18FdZsc",
        "colab_type": "code",
        "colab": {
          "base_uri": "https://localhost:8080/",
          "height": 187
        },
        "outputId": "5a184fc1-8b34-4d3d-b1a0-3b96332cf849"
      },
      "source": [
        "val_running_loss_history"
      ],
      "execution_count": null,
      "outputs": [
        {
          "output_type": "execute_result",
          "data": {
            "text/plain": [
              "[0.23252072617195654,\n",
              " 0.16843769353800925,\n",
              " 0.14331624570532123,\n",
              " 0.1313542852151221,\n",
              " 0.13340250386492067,\n",
              " 0.14928680949884912,\n",
              " 0.14921716579060623,\n",
              " 0.15820448338121607,\n",
              " 0.1762267647014148,\n",
              " 0.1583901868350264]"
            ]
          },
          "metadata": {
            "tags": []
          },
          "execution_count": 329
        }
      ]
    },
    {
      "cell_type": "code",
      "metadata": {
        "id": "zLlzdECMqtjp",
        "colab_type": "code",
        "colab": {
          "base_uri": "https://localhost:8080/",
          "height": 282
        },
        "outputId": "5f5331b1-12d9-4c48-dc71-396795412d48"
      },
      "source": [
        "plt.plot(running_loss_history, label='training loss')\n",
        "plt.plot(val_running_loss_history, label='validation loss')\n",
        "plt.legend()"
      ],
      "execution_count": null,
      "outputs": [
        {
          "output_type": "execute_result",
          "data": {
            "text/plain": [
              "<matplotlib.legend.Legend at 0x7fd1f06d37b8>"
            ]
          },
          "metadata": {
            "tags": []
          },
          "execution_count": 328
        },
        {
          "output_type": "display_data",
          "data": {
            "image/png": "[encoded data removed]",
            "text/plain": [
              "<Figure size 432x288 with 1 Axes>"
            ]
          },
          "metadata": {
            "tags": [],
            "needs_background": "light"
          }
        }
      ]
    },
    {
      "cell_type": "code",
      "metadata": {
        "id": "tlQInOfkjPgF",
        "colab_type": "code",
        "colab": {
          "base_uri": "https://localhost:8080/",
          "height": 34
        },
        "outputId": "5ddc0ff0-c642-4f2b-a5e0-870d94c62ee6"
      },
      "source": [
        "len(test_iter)"
      ],
      "execution_count": null,
      "outputs": [
        {
          "output_type": "execute_result",
          "data": {
            "text/plain": [
              "69"
            ]
          },
          "metadata": {
            "tags": []
          },
          "execution_count": 316
        }
      ]
    },
    {
      "cell_type": "code",
      "metadata": {
        "id": "LxmNqqWnHfA6",
        "colab_type": "code",
        "colab": {
          "base_uri": "https://localhost:8080/",
          "height": 119
        },
        "outputId": "9faddfdf-7df2-45dd-ce75-7448b36a7c33"
      },
      "source": [
        "path='/gdrive/My Drive/models/pytorch_amazon_classification.pt'\n",
        "model.load_state_dict(torch.load(path));\n",
        "model.eval()\n",
        "\n"
      ],
      "execution_count": null,
      "outputs": [
        {
          "output_type": "execute_result",
          "data": {
            "text/plain": [
              "RNN(\n",
              "  (dropout1): Dropout(p=0.5, inplace=False)\n",
              "  (embed): Embedding(20782, 50)\n",
              "  (rnn): LSTM(50, 128, num_layers=2, batch_first=True)\n",
              "  (fc): Linear(in_features=128, out_features=6, bias=True)\n",
              ")"
            ]
          },
          "metadata": {
            "tags": []
          },
          "execution_count": 317
        }
      ]
    },
    {
      "cell_type": "code",
      "metadata": {
        "id": "4dD2ui5BIOSM",
        "colab_type": "code",
        "colab": {}
      },
      "source": [
        "#inference \n",
        "import spacy\n",
        "nlp = spacy.load('en')\n",
        "\n",
        "def predict(model, sentence):\n",
        "    print(sentence)\n",
        "    tokenized = [tok.text for tok in nlp.tokenizer(sentence)]  #tokenize the sentence \n",
        "    print(tokenized)\n",
        "    indexed = np.array([TEXT.vocab.stoi[t] for t in tokenized])      #convert to integer sequence\n",
        "    print(indexed)\n",
        "    length = len(indexed)                                    #compute no. of words\n",
        "    print(indexed)\n",
        "    tensor = torch.LongTensor(indexed).to(device)  \n",
        "    tensor = tensor.unsqueeze(1)  \n",
        "    print(torch.Size(tensor))\n",
        "    tensor = tensor.view(-1, len(tensor))     #convert to tensor\n",
        "                             #reshape in form of batch,no. of words\n",
        "                   #convert to tensor\n",
        "    prediction = model(tensor.to(device))                  #prediction \n",
        "    return torch.max(prediction,1) "
      ],
      "execution_count": null,
      "outputs": []
    },
    {
      "cell_type": "code",
      "metadata": {
        "id": "rW_e9kcuHxx4",
        "colab_type": "code",
        "colab": {
          "base_uri": "https://localhost:8080/",
          "height": 139
        },
        "outputId": "35550eb2-c9d4-4d68-df2d-0bf0ae319898"
      },
      "source": [
        "predict(model, \"I like the movie titanic which is shown on prime\")\n"
      ],
      "execution_count": null,
      "outputs": [
        {
          "output_type": "stream",
          "text": [
            "I like the movie titanic which is shown on prime\n",
            "['I', 'like', 'the', 'movie', 'titanic', 'which', 'is', 'shown', 'on', 'prime']\n",
            "[   0    7    3   11 7569 1784  455  693  313  775]\n",
            "[   0    7    3   11 7569 1784  455  693  313  775]\n",
            "torch.Size([0, 7, 3, 11, 7569, 1784, 455, 693, 313, 775])\n"
          ],
          "name": "stdout"
        },
        {
          "output_type": "execute_result",
          "data": {
            "text/plain": [
              "torch.return_types.max(values=tensor([2.5408], device='cuda:0', grad_fn=<MaxBackward0>), indices=tensor([2], device='cuda:0'))"
            ]
          },
          "metadata": {
            "tags": []
          },
          "execution_count": 319
        }
      ]
    },
    {
      "cell_type": "code",
      "metadata": {
        "id": "_7eENgP5N9ip",
        "colab_type": "code",
        "colab": {
          "base_uri": "https://localhost:8080/",
          "height": 207
        },
        "outputId": "37ed14fc-799e-40bb-ee0f-43b7f3ba54ac"
      },
      "source": [
        "predict(model, \"that was a wondeful  written content by my best author gave me a lot of insights in life. It had a lot of meaing to it.\")\n"
      ],
      "execution_count": null,
      "outputs": [
        {
          "output_type": "stream",
          "text": [
            "that was a wondeful  written content by my best author gave me a lot of insights in life. It had a lot of meaing to it.\n",
            "['that', 'was', 'a', 'wondeful', ' ', 'written', 'content', 'by', 'my', 'best', 'author', 'gave', 'me', 'a', 'lot', 'of', 'insights', 'in', 'life', '.', 'It', 'had', 'a', 'lot', 'of', 'meaing', 'to', 'it', '.']\n",
            "[ 144  860 1682    0    0  174  436  771   40   62  141  184 1002 1682\n",
            "  102  429 3276   92  189    0    0  910 1682  102  429    0  277    5\n",
            "    0]\n",
            "[ 144  860 1682    0    0  174  436  771   40   62  141  184 1002 1682\n",
            "  102  429 3276   92  189    0    0  910 1682  102  429    0  277    5\n",
            "    0]\n",
            "torch.Size([144, 860, 1682, 0, 0, 174, 436, 771, 40, 62, 141, 184, 1002, 1682, 102, 429, 3276, 92, 189, 0, 0, 910, 1682, 102, 429, 0, 277, 5, 0])\n"
          ],
          "name": "stdout"
        },
        {
          "output_type": "execute_result",
          "data": {
            "text/plain": [
              "torch.return_types.max(values=tensor([1.0335], device='cuda:0', grad_fn=<MaxBackward0>), indices=tensor([0], device='cuda:0'))"
            ]
          },
          "metadata": {
            "tags": []
          },
          "execution_count": 320
        }
      ]
    },
    {
      "cell_type": "code",
      "metadata": {
        "id": "FMopoj5BPM_i",
        "colab_type": "code",
        "colab": {
          "base_uri": "https://localhost:8080/",
          "height": 139
        },
        "outputId": "ed76325f-2b8d-4a88-d66f-92bc3f2e5dc9"
      },
      "source": [
        "predict(model, \"that was a wondeful  movie but the songs were pathetic.\")\n"
      ],
      "execution_count": null,
      "outputs": [
        {
          "output_type": "stream",
          "text": [
            "that was a wondeful  movie but the songs were pathetic.\n",
            "['that', 'was', 'a', 'wondeful', ' ', 'movie', 'but', 'the', 'songs', 'were', 'pathetic', '.']\n",
            "[ 144  860 1682    0    0   11   49    3   99 4825 2517    0]\n",
            "[ 144  860 1682    0    0   11   49    3   99 4825 2517    0]\n",
            "torch.Size([144, 860, 1682, 0, 0, 11, 49, 3, 99, 4825, 2517, 0])\n"
          ],
          "name": "stdout"
        },
        {
          "output_type": "execute_result",
          "data": {
            "text/plain": [
              "torch.return_types.max(values=tensor([2.4996], device='cuda:0', grad_fn=<MaxBackward0>), indices=tensor([2], device='cuda:0'))"
            ]
          },
          "metadata": {
            "tags": []
          },
          "execution_count": 321
        }
      ]
    },
    {
      "cell_type": "code",
      "metadata": {
        "id": "L1R1PH8QPYJJ",
        "colab_type": "code",
        "colab": {
          "base_uri": "https://localhost:8080/",
          "height": 139
        },
        "outputId": "a1d0963d-e67a-4f55-e3e4-f8bf786aa8bd"
      },
      "source": [
        "predict(model, \"the songs were great but the movie was pathetic.\")\n"
      ],
      "execution_count": null,
      "outputs": [
        {
          "output_type": "stream",
          "text": [
            "the songs were great but the movie was pathetic.\n",
            "['the', 'songs', 'were', 'great', 'but', 'the', 'movie', 'was', 'pathetic', '.']\n",
            "[   3   99 4825   19   49    3   11  860 2517    0]\n",
            "[   3   99 4825   19   49    3   11  860 2517    0]\n",
            "torch.Size([3, 99, 4825, 19, 49, 3, 11, 860, 2517, 0])\n"
          ],
          "name": "stdout"
        },
        {
          "output_type": "execute_result",
          "data": {
            "text/plain": [
              "torch.return_types.max(values=tensor([1.6832], device='cuda:0', grad_fn=<MaxBackward0>), indices=tensor([2], device='cuda:0'))"
            ]
          },
          "metadata": {
            "tags": []
          },
          "execution_count": 322
        }
      ]
    }
  ]
}