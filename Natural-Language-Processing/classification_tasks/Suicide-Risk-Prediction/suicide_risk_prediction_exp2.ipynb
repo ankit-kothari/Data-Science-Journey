{
  "cells": [
    {
      "cell_type": "markdown",
      "metadata": {
        "colab_type": "text",
        "id": "view-in-github"
      },
      "source": [
        "<a href=\"https://colab.research.google.com/github/ankit-kothari/Data-Science-Journey/blob/master/suicide_risk_prediction_exp2.ipynb\" target=\"_parent\"><img src=\"https://colab.research.google.com/assets/colab-badge.svg\" alt=\"Open In Colab\"/></a>"
      ]
    },
    {
      "cell_type": "code",
      "execution_count": null,
      "metadata": {
        "id": "s2dVRbuYORkc"
      },
      "outputs": [],
      "source": [
        "!pip install transformers \n",
        "!pip install dask\n",
        "!pip install 'fsspec>=0.3.3'\n",
        "!pip install datasets\n",
        "!pip install torchinfo"
      ]
    },
    {
      "cell_type": "code",
      "execution_count": 2,
      "metadata": {
        "colab": {
          "base_uri": "https://localhost:8080/"
        },
        "id": "tbyvuAuCYgDZ",
        "outputId": "e3df4bb6-d2a4-4a38-d75a-cd0cbc7e4ef0"
      },
      "outputs": [
        {
          "name": "stdout",
          "output_type": "stream",
          "text": [
            "Wed Aug 24 21:58:57 2022       \n",
            "+-----------------------------------------------------------------------------+\n",
            "| NVIDIA-SMI 460.32.03    Driver Version: 460.32.03    CUDA Version: 11.2     |\n",
            "|-------------------------------+----------------------+----------------------+\n",
            "| GPU  Name        Persistence-M| Bus-Id        Disp.A | Volatile Uncorr. ECC |\n",
            "| Fan  Temp  Perf  Pwr:Usage/Cap|         Memory-Usage | GPU-Util  Compute M. |\n",
            "|                               |                      |               MIG M. |\n",
            "|===============================+======================+======================|\n",
            "|   0  Tesla V100-SXM2...  Off  | 00000000:00:04.0 Off |                    0 |\n",
            "| N/A   38C    P0    24W / 300W |      0MiB / 16160MiB |      0%      Default |\n",
            "|                               |                      |                  N/A |\n",
            "+-------------------------------+----------------------+----------------------+\n",
            "                                                                               \n",
            "+-----------------------------------------------------------------------------+\n",
            "| Processes:                                                                  |\n",
            "|  GPU   GI   CI        PID   Type   Process name                  GPU Memory |\n",
            "|        ID   ID                                                   Usage      |\n",
            "|=============================================================================|\n",
            "|  No running processes found                                                 |\n",
            "+-----------------------------------------------------------------------------+\n"
          ]
        }
      ],
      "source": [
        "gpu_info = !nvidia-smi\n",
        "gpu_info = '\\n'.join(gpu_info)\n",
        "if gpu_info.find('failed') >= 0:\n",
        "  print('Not connected to a GPU')\n",
        "else:\n",
        "  print(gpu_info)"
      ]
    },
    {
      "cell_type": "code",
      "execution_count": 3,
      "metadata": {
        "id": "-UtRZVr3ZInf"
      },
      "outputs": [],
      "source": [
        "from transformers import pipeline\n",
        "import torch\n",
        "import spacy\n",
        "import tqdm as notebook_tqdm\n",
        "from torchinfo import summary\n",
        "import pandas as pd\n",
        "import numpy as np\n",
        "from sklearn.metrics import classification_report, f1_score, precision_score, recall_score,roc_auc_score,accuracy_score\n",
        "from sklearn.metrics import plot_confusion_matrix,classification_report\n",
        "from sklearn.metrics import confusion_matrix, ConfusionMatrixDisplay\n",
        "from sklearn.model_selection import train_test_split\n",
        "import  matplotlib.pyplot as plt\n",
        "from datasets import load_dataset\n",
        "from spacy.lang.en import English\n",
        "import warnings\n",
        "from tqdm import tqdm\n",
        "import re\n",
        "import string\n",
        "warnings.filterwarnings(\"ignore\")\n",
        "#pd.set_option('display.max_rows', None)\n",
        "pd.set_option('display.max_columns', None)\n",
        "#pd.set_option('display.width', None)\n",
        "pd.set_option('display.max_colwidth', None)\n",
        "import concurrent.futures\n",
        "import dask.bag as db\n",
        "import dask \n",
        "import graphviz\n",
        "from dask import visualize\n",
        "\n",
        "#nlp = spacy.load('en_core_web_sm')\n",
        "\n",
        "from collections import defaultdict\n",
        "\n",
        "from tqdm import tqdm # Runtime progress bar\n",
        "\n",
        "pd.set_option('display.max_rows', None)\n",
        "pd.set_option('display.max_columns', None)\n",
        "pd.set_option('display.width', None)\n",
        "pd.set_option('display.max_colwidth', None)"
      ]
    },
    {
      "cell_type": "markdown",
      "metadata": {
        "id": "0jzfPvkPolEP"
      },
      "source": [
        "### Loading the Data"
      ]
    },
    {
      "cell_type": "code",
      "execution_count": 4,
      "metadata": {
        "id": "9_rZ-mzQZPn7"
      },
      "outputs": [],
      "source": [
        "stopwords_file = \"/content/drive/Shareddrives/MSML641 Project/msml_641_ankit_sandeep_final_submission/FILE FOR THE PROJECT/mallet_en_stoplist.txt\"\n",
        "train_post = '/content/drive/Shareddrives/MSML641 Project/msml_641_ankit_sandeep_final_submission/FILE FOR THE PROJECT/task_A_train_posts.csv'\n",
        "train_label = '/content/drive/Shareddrives/MSML641 Project/msml_641_ankit_sandeep_final_submission/FILE FOR THE PROJECT/crowd_train.csv'\n",
        "\n",
        "test_post= '/content/drive/Shareddrives/MSML641 Project/msml_641_ankit_sandeep_final_submission/FILE FOR THE PROJECT/task_A_test_posts.csv'\n",
        "test_label= '/content/drive/Shareddrives/MSML641 Project/msml_641_ankit_sandeep_final_submission/FILE FOR THE PROJECT/crowd_test_A.csv'\n",
        "\n",
        "valid_post = '/content/drive/Shareddrives/MSML641 Project/msml_641_ankit_sandeep_final_submission/FILE FOR THE PROJECT/expert.csv'\n",
        "valid_label= '/content/drive/Shareddrives/MSML641 Project/msml_641_ankit_sandeep_final_submission/FILE FOR THE PROJECT/expert.csv'\n",
        "\n",
        "shared_posts_train = '/content/drive/Shareddrives/MSML641 Project/msml_641_ankit_sandeep_final_submission/FILE FOR THE PROJECT/shared_task_posts.csv'\n",
        "shared_posts_test = '/content/drive/Shareddrives/MSML641 Project/msml_641_ankit_sandeep_final_submission/FILE FOR THE PROJECT/shared_task_posts_test.csv'\n"
      ]
    },
    {
      "cell_type": "code",
      "execution_count": 5,
      "metadata": {
        "colab": {
          "base_uri": "https://localhost:8080/"
        },
        "id": "VaqxeksuZX7M",
        "outputId": "789723d4-7327-4f36-c70f-2bb5b1385093"
      },
      "outputs": [
        {
          "name": "stdout",
          "output_type": "stream",
          "text": [
            "Mounted at /content/drive\n"
          ]
        }
      ],
      "source": [
        "from google.colab import drive\n",
        "drive.mount('/content/drive')"
      ]
    },
    {
      "cell_type": "markdown",
      "metadata": {
        "id": "aYZBshFloo1r"
      },
      "source": [
        "### NLP Helper Functions"
      ]
    },
    {
      "cell_type": "code",
      "execution_count": 6,
      "metadata": {
        "colab": {
          "base_uri": "https://localhost:8080/"
        },
        "id": "sezzv3_maC2j",
        "outputId": "f6e942c8-5346-40b7-c7a3-91373193fe01"
      },
      "outputs": [
        {
          "name": "stderr",
          "output_type": "stream",
          "text": [
            "524it [00:00, 727.27it/s]\n"
          ]
        }
      ],
      "source": [
        "def load_stopwords(filename):\n",
        "    stopwords = [] \n",
        "    with open(filename, \"r\") as f:\n",
        "      stopwords = [] \n",
        "      for line in tqdm(f):\n",
        "        line = re.sub(r\"\\n\",\"\",line, flags=re.I)\n",
        "        stopwords.append(line)\n",
        "      return set(stopwords)\n",
        "\n",
        "stopwords= load_stopwords(stopwords_file)\n",
        "nlp = English(parser=False)\n",
        "def spacy_preprocessing(text):\n",
        "    '''\n",
        "    text: accepts stings text\n",
        "    stopwords: list of stopwords\n",
        "    proceduralwords: list of procedural words in politics\n",
        "    exclude_list: Custom list of words to include ex: ['mr','managers']\n",
        "    clean_tokens: maps words like you're to you are\n",
        "    returns a clean string\n",
        "\n",
        "    Parameters\n",
        "    remove_punctuations: yes removes all puntuations\n",
        "    remove_stopwords:  yes removes all stopwords\n",
        "    remove_nonalpha: yes removes all characters execpt uppercase and lowercase letters\n",
        "    Example: text = text = \"I am soooooo excited Mr. , to learn nlp. s123 2003 you're doing      great. He will be awesome!!   managers for life\"\n",
        "\n",
        "    '''\n",
        "    \n",
        "    exclude_list=[]\n",
        "    remove_punctuations='yes'\n",
        "    remove_stopwords='yes'\n",
        "    remove_nonalpha='yes'\n",
        "\n",
        "    #removing any websit\n",
        "    text = re.sub(r\"http[s]://[a-zA-Z.\\/0-9?=]*\\b\", \"\", text)\n",
        "    # replaces single random characters in the text with space\n",
        "    text = re.sub(r\"\\b([a-zA-Z]{1})\\b\", \" \", text)\n",
        "    # replaces special characters with spaces\n",
        "    if remove_nonalpha == 'yes':\n",
        "        text = re.sub(r\"[^a-zA-Z]\", \" \", text)\n",
        "    # replaces multiple character with a word with one like pooooost will be post\n",
        "    text = re.sub(r\"(.)\\1{3,}\", r\"\\1\", text)\n",
        "    # replaces multiple space in the line with single space\n",
        "    text = re.sub(r\"\\s{2,}\", r\" \", text)\n",
        "\n",
        "    clean_text = []\n",
        "    \n",
        "    doc = nlp(text)\n",
        "    for token in doc:\n",
        "        if (remove_punctuations == 'yes') & (remove_stopwords == 'yes'):\n",
        "            if (token.orth_ not in string.punctuation) & (token.orth_.lower() not in stopwords) & (token.orth_.lower() not in exclude_list):\n",
        "                clean_text.append(token.orth_.lower())\n",
        "        elif (remove_punctuations == 'yes') & (remove_stopwords == 'no'):\n",
        "            if (token.orth_ not in string.punctuation):\n",
        "                clean_text.append(token.orth_.lower())\n",
        "        elif (remove_punctuations == 'no') & (remove_stopwords == 'yes') & (token.orth_.lower() not in exclude_list):\n",
        "            if (token.orth_ not in stopwords) & (\n",
        "                    token.orth_ not in string.punctuation):\n",
        "                clean_text.append(token.orth_.lower())\n",
        "        else:\n",
        "            clean_text.append(token.orth_.lower())\n",
        "            continue\n",
        "    clean_string = \" \".join(clean_text).lstrip()\n",
        "    return clean_string\n",
        "\n",
        "def normalize_tokens(tokenlist):\n",
        "    '''\n",
        "    Input: list of tokens as strings,  e.g. ['I', ' ', 'saw', ' ', '@psresnik', ' ', 'on', ' ','Twitter']\n",
        "    Output: list of tokens where\n",
        "    All tokens are lowercased\n",
        "    All tokens starting with a whitespace character have been filtered out\n",
        "    All handles (tokens starting with @) have been filtered out\n",
        "    Any underscores have been replaced with + (since we use _ as a special character in bigrams)\n",
        "    '''\n",
        "    normalized_tokens = [token.lower().replace('_','+') for token in tokenlist   # lowercase, _ => +\n",
        "                             if re.search('[^\\s]', token) is not None            # ignore whitespace tokens\n",
        "                             and not token.startswith(\"@\")                       # ignore  handles\n",
        "                        ]\n",
        "    return normalized_tokens\n"
      ]
    },
    {
      "cell_type": "markdown",
      "metadata": {
        "id": "9keiOywCaRU2"
      },
      "source": [
        "### Data Pre-Processing"
      ]
    },
    {
      "cell_type": "code",
      "execution_count": 7,
      "metadata": {
        "id": "rMHbCyf-aP_8"
      },
      "outputs": [],
      "source": [
        "def load_data(post_A_file, label_file, shared_posts_file):\n",
        "  data = pd.read_csv(post_A_file)\n",
        "  print(\n",
        "    f'The Shape Task A file containg data for r/sucudiewatch channel is {data.shape}'\n",
        "  )\n",
        "  print(f'Unique User Ids {data.user_id.nunique()}')\n",
        "  data_labels = pd.read_csv(label_file)\n",
        "  #data_labels=data_labels.dropna()\n",
        "  print(f'The user-id --> label mapping file {data_labels.shape}')\n",
        "  print(\n",
        "    f'The distribution of labels in the the dataset \\n{data_labels.label.value_counts()}'\n",
        "  )\n",
        "  posts = pd.read_csv(shared_posts_file)\n",
        "  merged_data = pd.DataFrame()\n",
        "  merged_data = posts.merge(data, how='inner', left_on='post_id',right_on='post_id',validate='one_to_many')\n",
        "  merged_data.drop(columns=['user_id_y','subreddit_y'],inplace=True)\n",
        "  merged_data.columns=['post_id', 'user_id', 'timestamp', 'subreddit', 'post_title','post_body']\n",
        "  merged_labeled_data = merged_data.merge(data_labels, how='inner',left_on='user_id',right_on='user_id')\n",
        "  merged_labeled_data.dropna(subset=['post_body'],inplace=True)\n",
        "  merged_labeled_data.drop(columns=['post_id','subreddit'],inplace=True)\n",
        "  return merged_labeled_data"
      ]
    },
    {
      "cell_type": "code",
      "execution_count": 8,
      "metadata": {
        "colab": {
          "base_uri": "https://localhost:8080/"
        },
        "id": "AgoG72ypadnk",
        "outputId": "ecf287f5-d6eb-4718-d7f5-3297e138bc68"
      },
      "outputs": [
        {
          "name": "stdout",
          "output_type": "stream",
          "text": [
            "The Shape Task A file containg data for r/sucudiewatch channel is (919, 3)\n",
            "Unique User Ids 496\n",
            "The user-id --> label mapping file (993, 2)\n",
            "The distribution of labels in the the dataset \n",
            "d    206\n",
            "a    127\n",
            "c    113\n",
            "b     50\n",
            "Name: label, dtype: int64\n"
          ]
        }
      ],
      "source": [
        "train_data = load_data(train_post, train_label, shared_posts_train)"
      ]
    },
    {
      "cell_type": "code",
      "execution_count": 9,
      "metadata": {
        "colab": {
          "base_uri": "https://localhost:8080/"
        },
        "id": "bnWY0SOkaiz2",
        "outputId": "ca192a0b-2887-43f4-9856-84de1ba430a0"
      },
      "outputs": [
        {
          "name": "stdout",
          "output_type": "stream",
          "text": [
            "The Shape Task A file containg data for r/sucudiewatch channel is (186, 3)\n",
            "Unique User Ids 125\n",
            "The user-id --> label mapping file (125, 2)\n",
            "The distribution of labels in the the dataset \n",
            "d    52\n",
            "a    32\n",
            "c    28\n",
            "b    13\n",
            "Name: label, dtype: int64\n"
          ]
        }
      ],
      "source": [
        "test_data = load_data(test_post, test_label, shared_posts_test)"
      ]
    },
    {
      "cell_type": "code",
      "execution_count": 10,
      "metadata": {
        "colab": {
          "base_uri": "https://localhost:8080/"
        },
        "id": "TT2rY7cEbC9p",
        "outputId": "24917316-72dd-411e-986d-004021ef5b7f"
      },
      "outputs": [
        {
          "name": "stdout",
          "output_type": "stream",
          "text": [
            "8.93 s ± 1.86 s per loop (mean ± std. dev. of 7 runs, 1 loop each)\n"
          ]
        }
      ],
      "source": [
        "%%timeit\n",
        "#Convert the list to a Dask bag\n",
        "reviews_list = train_data['post_body'].to_list()\n",
        "review_bag = db.from_sequence(reviews_list, npartitions=3)\n",
        "clean_body_train = review_bag.map(spacy_preprocessing)\n",
        "train_data['clean_body'] =clean_body_train.compute()"
      ]
    },
    {
      "cell_type": "code",
      "execution_count": 11,
      "metadata": {
        "colab": {
          "base_uri": "https://localhost:8080/",
          "height": 1000
        },
        "id": "d3bJrIEPbd_E",
        "outputId": "45774188-d1d5-44cf-b0c3-9ec18f91eeeb"
      },
      "outputs": [
        {
          "data": {
            "text/html": [
              "\n",
              "  <div id=\"df-1b63375a-2f2d-4e78-a5bb-47252e92bdc8\">\n",
              "    <div class=\"colab-df-container\">\n",
              "      <div>\n",
              "<style scoped>\n",
              "    .dataframe tbody tr th:only-of-type {\n",
              "        vertical-align: middle;\n",
              "    }\n",
              "\n",
              "    .dataframe tbody tr th {\n",
              "        vertical-align: top;\n",
              "    }\n",
              "\n",
              "    .dataframe thead th {\n",
              "        text-align: right;\n",
              "    }\n",
              "</style>\n",
              "<table border=\"1\" class=\"dataframe\">\n",
              "  <thead>\n",
              "    <tr style=\"text-align: right;\">\n",
              "      <th></th>\n",
              "      <th>user_id</th>\n",
              "      <th>timestamp</th>\n",
              "      <th>post_title</th>\n",
              "      <th>post_body</th>\n",
              "      <th>label</th>\n",
              "      <th>clean_body</th>\n",
              "    </tr>\n",
              "  </thead>\n",
              "  <tbody>\n",
              "    <tr>\n",
              "      <th>0</th>\n",
              "      <td>22002</td>\n",
              "      <td>1406494593</td>\n",
              "      <td>Yesterday i turned off cigarette in my hand.</td>\n",
              "      <td>I was at party. When everyone were having fun... i went to smoke... I don't remember much, but it fucking hurt's, but it's nothing compare to pain inside. Most of things i do... is just for other people. I don't want them to be sad, beacuse of me. I almost never talk about my problems and even i must... am just saying its fine. That am okey.. People think am cool person, confident etc... but they are so fucking wrong.Scar is something real... Am glad that i did that... am just opening my hand and see it... It's not in my head... Am witness of my depression... One of few things that are real... is this scar. Am 21 old male... but i feel like 80... Just wanted to share my thoughts.Thank you.. that you are here.</td>\n",
              "      <td>a</td>\n",
              "      <td>party fun smoke don remember fucking hurt compare pain inside things people don sad beacuse talk problems fine okey people cool person confident fucking wrong scar real glad opening hand head witness depression things real scar male feel wanted share thoughts</td>\n",
              "    </tr>\n",
              "    <tr>\n",
              "      <th>1</th>\n",
              "      <td>22006</td>\n",
              "      <td>1395339794</td>\n",
              "      <td>Not sure what to do now.</td>\n",
              "      <td>Hi. So for starters, I take Zoloft, 75g; they come in little capsules of 25g and I have to take three. Anyway, yesterday I swallowed approximately thirty of these capsules. I know it won't kill me. But I still don't know why I did it. Definitely not for attention because I only told one person. I just. I don't know.I feel like shit.I didn't get any sleep. Anxiety was beyond level.I'm shaking, my heart is racing, I get dizzy, and I can't seem to walk. My legs just give in and I collapse.Anyways, I'm not sure what to do now.I thought about hanging myself. Learned how to tie a noose and everything. What should I do?I've already been an inpatient at the hospital. I've already seen someone for my medication. I don't need to go to the hospital...Do I? Not sure.Undecided.Help.</td>\n",
              "      <td>c</td>\n",
              "      <td>starters zoloft capsules yesterday swallowed approximately thirty capsules won kill don attention told person don feel shit didn sleep anxiety level shaking heart racing dizzy walk legs give collapse thought hanging learned tie noose ve inpatient hospital ve medication don hospital undecided</td>\n",
              "    </tr>\n",
              "    <tr>\n",
              "      <th>2</th>\n",
              "      <td>22015</td>\n",
              "      <td>1337230954</td>\n",
              "      <td>I despise sounding so pathetically melodramatic, but I'm just tired.</td>\n",
              "      <td>I apologize in advance for this being so long. I just couldn't stop typing.I want to die.I’ve done nothing, and I’m going nowhere. I know I’m going nowhere because the second I’m put under pressure, I crack and fall apart at the seams.Everyone thinks I’m this wonderful person and all I can do is hate myself. All I can feel is that they must be lying to me. I’m not smart, I’m not athletic, the only thing I would even consider myself remotely talented in is art, and we all know how far that shit takes you in life. I love science, but I’m probably just throwing myself into a field that I’m going to drown. The study I love, Virology, means likely trying to go for a PHD. I’m fooling myself if I think I can get that far. Just last year I nearly committed suicide from pushing myself to try to be in AP classes. I needed to keep improving myself, I needed to be smarter. Instead all I did was fall apart and had to be taken out of all of them half-way through the year and put into honors classes. My GPA was ruined, I failed one of my classes, and the thought of doing a problem on the board in front of everyone sends me into panic attacks. Instead I watched as my smart, well-adjusted friends were able to pull through and do well. Now it feels like I’m in a different world. All I can think is that they must see me pass in the hallway and think, “Remember her? She used to have such a promising future.”All I can think is that they must feel I didn’t try hard enough. After all, if they could do it, why shouldn’t I be able to? I have lost over the years my best friend. My first real friend. She lied to me twice- the first time it hurt, but I accepted it and tried to forgive. The second time was over the same issue, and felt like a knife in my stomach. And she knows I have trust issues ever since my parents divorced. She apologized for it once, and proceeded to try to act as though it never happened. If I even mentioned that I had been hurt by it, she would get sulky and say she *had* apologized, even if I barely remember it. So then I would feel guilty. When I tried to open up about how I felt when I was sad, it would immediately turn into essentially a dick-measuring contest of who’s sadder. But I still remember the nights we would spend watching LOST and stay up late talking about philosophy and books and, well, anything. I miss her so much, but I don’t even recognize her anymore. I feel I could never trust her again. We haven’t talked in months. And I know if I was to go to her and tell her all of this- she would immediately get defensive and deny everything. So I would shut up. Again.Like every fucking day.I hate my body. I hate it so much. The sponginess, the softness of it, the roundness- it’s absolutely sick and disgusting. My grandpa keeps acting as though calling me an attractive young woman is a compliment, despite knowing full well I’m attending therapy for transgender issues. When I point this out to him, he simply says, “Well, YOU ARE. It’s not like I’m going to LIE to you.” I suppose I’m lucky I’m afraid of pain, else I would have started self-harming years ago. The thought is tempting though. Sometimes I fantasize that my breasts are like large, disgusting zits and I can pop them like one. Or if I take a knife and make a slit from the underside, I’ll be able to just squeeze out pus and blood until it’s all out and I have a flat chest. When no one is around I try to move my chest in front of the microwave as much as possible in the hopes that it’s not an urban myth and that I can give myself breast cancer. Other times I’m convinced I can cut off my own skin. Just peel it off like a wetsuit. More than once I’ve considered actually trying it, peeling off this female skin and being able to see the real me underneath it. There’s nothing underneath though but blood, sinew and bone.Then there’s the fact that though I feel like a man, I am not very manly. At all. I am such a fucking girl it’s downright pathetic. How could anyone take me seriously when lately I cry at the drop of a hat? I’m weak, into arts and drama and know nothing about fishing, cars, sports, and my emotions swing back and forth like a pendulum. The moment I even start to feel confidant and as though that doesn’t really matter… well, let me just try to quote my grandfather on that. “Dramatic_pause, you don’t know *what* you want yet. Your grandfather has been around and gays and transgenders-“ disclaimer, he’s the type that predates a sexist remark with, ‘I have nothing against women!’ “- and worked with them before, and I’ve talked to doctors too. If you were really… *like that*, we would have seen signs earlier. I haven’t seen anything like that, and your grandfather is a smart whip.”Great. As if I didn’t doubt myself enough.(continued in comments)</td>\n",
              "      <td>d</td>\n",
              "      <td>apologize advance long couldn stop typing die ve put pressure crack fall seams thinks wonderful person hate feel lying smart athletic thing remotely talented art shit takes life love science throwing field drown study love virology means phd fooling year committed suicide pushing ap classes needed improving needed smarter fall half year put honors classes gpa ruined failed classes thought problem board front sends panic attacks watched smart adjusted friends pull feels world pass hallway remember promising future feel didn hard shouldn lost years friend real friend lied time hurt accepted forgive time issue felt knife stomach trust issues parents divorced apologized proceeded act happened mentioned hurt sulky apologized barely remember feel guilty open felt sad immediately turn essentially dick measuring contest sadder remember nights spend watching lost stay late talking philosophy books miss don recognize anymore feel trust haven talked months immediately defensive deny shut fucking day hate body hate sponginess softness roundness absolutely sick disgusting grandpa acting calling attractive young woman compliment knowing full attending therapy transgender issues point simply lie suppose lucky afraid pain started harming years ago thought tempting fantasize breasts large disgusting zits pop knife make slit underside ll squeeze pus blood flat chest move chest front microwave hopes urban myth give breast cancer times convinced cut skin peel wetsuit ve considered peeling female skin real underneath underneath blood sinew bone fact feel man manly fucking girl downright pathetic cry drop hat weak arts drama fishing cars sports emotions swing back pendulum moment start feel confidant doesn matter quote grandfather dramatic pause don grandfather gays transgenders disclaimer type predates sexist remark women worked ve talked doctors signs earlier haven grandfather smart whip great didn doubt continued comments</td>\n",
              "    </tr>\n",
              "    <tr>\n",
              "      <th>3</th>\n",
              "      <td>22134</td>\n",
              "      <td>1310621370</td>\n",
              "      <td>You guys saved me</td>\n",
              "      <td>I made a thread yesterday where I expressed a desire to end my life. I ended up taking a metric fuckton of pills and tried to suffocate myself. Two things stopped me: 1. My puppy started crying. Which, for some reason, made me cry.2. I thought about all of you that replied to my thread. People I didn't know who were reaching out to me. People who had gone through similar rough patches like me and then made it out the other side. This isn't the first time Reddit has helped me, and I hope to soon be able to give back what has been given to me. Thanks to all who reached out to me. You helped me find a reason to keep on keeping on.[pic of my dog](_URL_   he says 'thank you' too.</td>\n",
              "      <td>d</td>\n",
              "      <td>made thread yesterday expressed desire end life ended taking metric fuckton pills suffocate things stopped puppy started crying reason made cry thought replied thread people didn reaching people similar rough patches made side isn time reddit helped hope give back reached helped find reason keeping pic dog url</td>\n",
              "    </tr>\n",
              "    <tr>\n",
              "      <th>6</th>\n",
              "      <td>22134</td>\n",
              "      <td>1343885091</td>\n",
              "      <td>Back again.</td>\n",
              "      <td>I tried last night, but threw up the pills. I ran away from the hospital angry that I am still alive. My GF of 10 years is gone. My family mostly hates me. I have no friends. No job. I can't even afford to get a replacement drivers licsense. I'm waiting on umemployment and living in a halfway house where everyone is drinking or using drugs. I've tried to see a light at the end of the tunnel, but I can see nothing good about my life. It's almost unfair to ask me to endure this pain. I'm in such a hole and I have no way out. I'd move out of here, but I am broke. I'd get a job, but I have no ID. I can't even afford fucking bus fare. My GF is seeing someone else and my heart is broken. I've never in life imagined a person could hurt so deeply. Nobody really cares about me. I'm all alone and the only thing I can think of is how great it would be to not feel this way. And no amount of alcohol or drugs can fill that void. It'd be better to be dead. Christ, I can't even go out in public without wanting to cry and hide. I'm stuck in this foul house, with foul people and nothing to look forward to, except a non-stop montage of thinking about my ex, and the life that I lost. I'm crying so hard right now. I can't take this. I've had three serious attempts in the last two months. I think my next one will finally do the trick. I don't even know why I bothered to write this, except that I want somebody to know how hurt I am and how that pain is causing me to take my own life.</td>\n",
              "      <td>d</td>\n",
              "      <td>night threw pills ran hospital angry alive gf years family hates friends job afford replacement drivers licsense waiting umemployment living halfway house drinking drugs ve light end tunnel good life unfair endure pain hole move broke job id afford fucking bus fare gf heart broken ve life imagined person hurt deeply cares thing great feel amount alcohol drugs fill void dead christ public wanting cry hide stuck foul house foul people forward stop montage thinking life lost crying hard ve attempts months finally trick don bothered write hurt pain causing life</td>\n",
              "    </tr>\n",
              "  </tbody>\n",
              "</table>\n",
              "</div>\n",
              "      <button class=\"colab-df-convert\" onclick=\"convertToInteractive('df-1b63375a-2f2d-4e78-a5bb-47252e92bdc8')\"\n",
              "              title=\"Convert this dataframe to an interactive table.\"\n",
              "              style=\"display:none;\">\n",
              "        \n",
              "  <svg xmlns=\"http://www.w3.org/2000/svg\" height=\"24px\"viewBox=\"0 0 24 24\"\n",
              "       width=\"24px\">\n",
              "    <path d=\"M0 0h24v24H0V0z\" fill=\"none\"/>\n",
              "    <path d=\"M18.56 5.44l.94 2.06.94-2.06 2.06-.94-2.06-.94-.94-2.06-.94 2.06-2.06.94zm-11 1L8.5 8.5l.94-2.06 2.06-.94-2.06-.94L8.5 2.5l-.94 2.06-2.06.94zm10 10l.94 2.06.94-2.06 2.06-.94-2.06-.94-.94-2.06-.94 2.06-2.06.94z\"/><path d=\"M17.41 7.96l-1.37-1.37c-.4-.4-.92-.59-1.43-.59-.52 0-1.04.2-1.43.59L10.3 9.45l-7.72 7.72c-.78.78-.78 2.05 0 2.83L4 21.41c.39.39.9.59 1.41.59.51 0 1.02-.2 1.41-.59l7.78-7.78 2.81-2.81c.8-.78.8-2.07 0-2.86zM5.41 20L4 18.59l7.72-7.72 1.47 1.35L5.41 20z\"/>\n",
              "  </svg>\n",
              "      </button>\n",
              "      \n",
              "  <style>\n",
              "    .colab-df-container {\n",
              "      display:flex;\n",
              "      flex-wrap:wrap;\n",
              "      gap: 12px;\n",
              "    }\n",
              "\n",
              "    .colab-df-convert {\n",
              "      background-color: #E8F0FE;\n",
              "      border: none;\n",
              "      border-radius: 50%;\n",
              "      cursor: pointer;\n",
              "      display: none;\n",
              "      fill: #1967D2;\n",
              "      height: 32px;\n",
              "      padding: 0 0 0 0;\n",
              "      width: 32px;\n",
              "    }\n",
              "\n",
              "    .colab-df-convert:hover {\n",
              "      background-color: #E2EBFA;\n",
              "      box-shadow: 0px 1px 2px rgba(60, 64, 67, 0.3), 0px 1px 3px 1px rgba(60, 64, 67, 0.15);\n",
              "      fill: #174EA6;\n",
              "    }\n",
              "\n",
              "    [theme=dark] .colab-df-convert {\n",
              "      background-color: #3B4455;\n",
              "      fill: #D2E3FC;\n",
              "    }\n",
              "\n",
              "    [theme=dark] .colab-df-convert:hover {\n",
              "      background-color: #434B5C;\n",
              "      box-shadow: 0px 1px 3px 1px rgba(0, 0, 0, 0.15);\n",
              "      filter: drop-shadow(0px 1px 2px rgba(0, 0, 0, 0.3));\n",
              "      fill: #FFFFFF;\n",
              "    }\n",
              "  </style>\n",
              "\n",
              "      <script>\n",
              "        const buttonEl =\n",
              "          document.querySelector('#df-1b63375a-2f2d-4e78-a5bb-47252e92bdc8 button.colab-df-convert');\n",
              "        buttonEl.style.display =\n",
              "          google.colab.kernel.accessAllowed ? 'block' : 'none';\n",
              "\n",
              "        async function convertToInteractive(key) {\n",
              "          const element = document.querySelector('#df-1b63375a-2f2d-4e78-a5bb-47252e92bdc8');\n",
              "          const dataTable =\n",
              "            await google.colab.kernel.invokeFunction('convertToInteractive',\n",
              "                                                     [key], {});\n",
              "          if (!dataTable) return;\n",
              "\n",
              "          const docLinkHtml = 'Like what you see? Visit the ' +\n",
              "            '<a target=\"_blank\" href=https://colab.research.google.com/notebooks/data_table.ipynb>data table notebook</a>'\n",
              "            + ' to learn more about interactive tables.';\n",
              "          element.innerHTML = '';\n",
              "          dataTable['output_type'] = 'display_data';\n",
              "          await google.colab.output.renderOutput(dataTable, element);\n",
              "          const docLink = document.createElement('div');\n",
              "          docLink.innerHTML = docLinkHtml;\n",
              "          element.appendChild(docLink);\n",
              "        }\n",
              "      </script>\n",
              "    </div>\n",
              "  </div>\n",
              "  "
            ],
            "text/plain": [
              "   user_id   timestamp  \\\n",
              "0    22002  1406494593   \n",
              "1    22006  1395339794   \n",
              "2    22015  1337230954   \n",
              "3    22134  1310621370   \n",
              "6    22134  1343885091   \n",
              "\n",
              "                                                             post_title  \\\n",
              "0                          Yesterday i turned off cigarette in my hand.   \n",
              "1                                              Not sure what to do now.   \n",
              "2  I despise sounding so pathetically melodramatic, but I'm just tired.   \n",
              "3                                                     You guys saved me   \n",
              "6                                                           Back again.   \n",
              "\n",
              "                                                                                                                                                                                                                                                                                                                                                                                                                                                                                                                                                                                                                                                                                                                                                                                                                                                                                                                                                                                                                                                                                                                                                                                                                                                                                                                                                                                                                                                                                                                                                                                                                                                                                                                                                                                                                                                                                                                                                                                                                                                                                                                                                                                                                                                                                                                                                                                                                                                                                                                                                                                                                                                                                                                                                                                                                                                                                                                                                                                                                                                                                                                                                                                                                                                                                                                                                                                                                                                                                                                                                                                                                                                                                                                                                                                                                                                                                                                                                                                                                                                                                                                                                                                                                                                                                                                                                                                                                                                                                                                                                                                                                                                                                                                                                                                                                                                                                                                                                                                       post_body  \\\n",
              "0                                                                                                                                                                                                                                                                                                                                                                                                                                                                                                                                                                                                                                                                                                                                                                                                                                                                                                                                                                                                                                                                                                                                                                                                                                                                                                                                                                                                                                                                                                                                                                                                                                                                                                                                                                                                                                                                                                                                                                                                                                                                                                                                                                                                                                                                                                                                                                                                                                                                                                                                                                                                                                                                                                                                                                                                                                                                                                                                                                                                                                                                                                                                                                                                                                                                                                                                                                                                                                                                                                                                                                                                                                                                                                                                                                                                                                                                                                                                                                                                                                                                                                                                                                                                                                                 I was at party. When everyone were having fun... i went to smoke... I don't remember much, but it fucking hurt's, but it's nothing compare to pain inside. Most of things i do... is just for other people. I don't want them to be sad, beacuse of me. I almost never talk about my problems and even i must... am just saying its fine. That am okey.. People think am cool person, confident etc... but they are so fucking wrong.Scar is something real... Am glad that i did that... am just opening my hand and see it... It's not in my head... Am witness of my depression... One of few things that are real... is this scar. Am 21 old male... but i feel like 80... Just wanted to share my thoughts.Thank you.. that you are here.   \n",
              "1                                                                                                                                                                                                                                                                                                                                                                                                                                                                                                                                                                                                                                                                                                                                                                                                                                                                                                                                                                                                                                                                                                                                                                                                                                                                                                                                                                                                                                                                                                                                                                                                                                                                                                                                                                                                                                                                                                                                                                                                                                                                                                                                                                                                                                                                                                                                                                                                                                                                                                                                                                                                                                                                                                                                                                                                                                                                                                                                                                                                                                                                                                                                                                                                                                                                                                                                                                                                                                                                                                                                                                                                                                                                                                                                                                                                                                                                                                                                                                                                                                                                                                                                                                                   Hi. So for starters, I take Zoloft, 75g; they come in little capsules of 25g and I have to take three. Anyway, yesterday I swallowed approximately thirty of these capsules. I know it won't kill me. But I still don't know why I did it. Definitely not for attention because I only told one person. I just. I don't know.I feel like shit.I didn't get any sleep. Anxiety was beyond level.I'm shaking, my heart is racing, I get dizzy, and I can't seem to walk. My legs just give in and I collapse.Anyways, I'm not sure what to do now.I thought about hanging myself. Learned how to tie a noose and everything. What should I do?I've already been an inpatient at the hospital. I've already seen someone for my medication. I don't need to go to the hospital...Do I? Not sure.Undecided.Help.   \n",
              "2  I apologize in advance for this being so long. I just couldn't stop typing.I want to die.I’ve done nothing, and I’m going nowhere. I know I’m going nowhere because the second I’m put under pressure, I crack and fall apart at the seams.Everyone thinks I’m this wonderful person and all I can do is hate myself. All I can feel is that they must be lying to me. I’m not smart, I’m not athletic, the only thing I would even consider myself remotely talented in is art, and we all know how far that shit takes you in life. I love science, but I’m probably just throwing myself into a field that I’m going to drown. The study I love, Virology, means likely trying to go for a PHD. I’m fooling myself if I think I can get that far. Just last year I nearly committed suicide from pushing myself to try to be in AP classes. I needed to keep improving myself, I needed to be smarter. Instead all I did was fall apart and had to be taken out of all of them half-way through the year and put into honors classes. My GPA was ruined, I failed one of my classes, and the thought of doing a problem on the board in front of everyone sends me into panic attacks. Instead I watched as my smart, well-adjusted friends were able to pull through and do well. Now it feels like I’m in a different world. All I can think is that they must see me pass in the hallway and think, “Remember her? She used to have such a promising future.”All I can think is that they must feel I didn’t try hard enough. After all, if they could do it, why shouldn’t I be able to? I have lost over the years my best friend. My first real friend. She lied to me twice- the first time it hurt, but I accepted it and tried to forgive. The second time was over the same issue, and felt like a knife in my stomach. And she knows I have trust issues ever since my parents divorced. She apologized for it once, and proceeded to try to act as though it never happened. If I even mentioned that I had been hurt by it, she would get sulky and say she *had* apologized, even if I barely remember it. So then I would feel guilty. When I tried to open up about how I felt when I was sad, it would immediately turn into essentially a dick-measuring contest of who’s sadder. But I still remember the nights we would spend watching LOST and stay up late talking about philosophy and books and, well, anything. I miss her so much, but I don’t even recognize her anymore. I feel I could never trust her again. We haven’t talked in months. And I know if I was to go to her and tell her all of this- she would immediately get defensive and deny everything. So I would shut up. Again.Like every fucking day.I hate my body. I hate it so much. The sponginess, the softness of it, the roundness- it’s absolutely sick and disgusting. My grandpa keeps acting as though calling me an attractive young woman is a compliment, despite knowing full well I’m attending therapy for transgender issues. When I point this out to him, he simply says, “Well, YOU ARE. It’s not like I’m going to LIE to you.” I suppose I’m lucky I’m afraid of pain, else I would have started self-harming years ago. The thought is tempting though. Sometimes I fantasize that my breasts are like large, disgusting zits and I can pop them like one. Or if I take a knife and make a slit from the underside, I’ll be able to just squeeze out pus and blood until it’s all out and I have a flat chest. When no one is around I try to move my chest in front of the microwave as much as possible in the hopes that it’s not an urban myth and that I can give myself breast cancer. Other times I’m convinced I can cut off my own skin. Just peel it off like a wetsuit. More than once I’ve considered actually trying it, peeling off this female skin and being able to see the real me underneath it. There’s nothing underneath though but blood, sinew and bone.Then there’s the fact that though I feel like a man, I am not very manly. At all. I am such a fucking girl it’s downright pathetic. How could anyone take me seriously when lately I cry at the drop of a hat? I’m weak, into arts and drama and know nothing about fishing, cars, sports, and my emotions swing back and forth like a pendulum. The moment I even start to feel confidant and as though that doesn’t really matter… well, let me just try to quote my grandfather on that. “Dramatic_pause, you don’t know *what* you want yet. Your grandfather has been around and gays and transgenders-“ disclaimer, he’s the type that predates a sexist remark with, ‘I have nothing against women!’ “- and worked with them before, and I’ve talked to doctors too. If you were really… *like that*, we would have seen signs earlier. I haven’t seen anything like that, and your grandfather is a smart whip.”Great. As if I didn’t doubt myself enough.(continued in comments)   \n",
              "3                                                                                                                                                                                                                                                                                                                                                                                                                                                                                                                                                                                                                                                                                                                                                                                                                                                                                                                                                                                                                                                                                                                                                                                                                                                                                                                                                                                                                                                                                                                                                                                                                                                                                                                                                                                                                                                                                                                                                                                                                                                                                                                                                                                                                                                                                                                                                                                                                                                                                                                                                                                                                                                                                                                                                                                                                                                                                                                                                                                                                                                                                                                                                                                                                                                                                                                                                                                                                                                                                                                                                                                                                                                                                                                                                                                                                                                                                                                                                                                                                                                                                                                                                                                                                                                                                    I made a thread yesterday where I expressed a desire to end my life. I ended up taking a metric fuckton of pills and tried to suffocate myself. Two things stopped me: 1. My puppy started crying. Which, for some reason, made me cry.2. I thought about all of you that replied to my thread. People I didn't know who were reaching out to me. People who had gone through similar rough patches like me and then made it out the other side. This isn't the first time Reddit has helped me, and I hope to soon be able to give back what has been given to me. Thanks to all who reached out to me. You helped me find a reason to keep on keeping on.[pic of my dog](_URL_   he says 'thank you' too.   \n",
              "6                                                                                                                                                                                                                                                                                                                                                                                                                                                                                                                                                                                                                                                                                                                                                                                                                                                                                                                                                                                                                                                                                                                                                                                                                                                                                                                                                                                                                                                                                                                                                                                                                                                                                                                                                                                                                                                                                                                                                                                                                                                                                                                                                                                                                                                                                                                                                                                                                                                                                                                                                                                                                                                                                                                                                                                                                                                                                                                                                                                                                                                                                                                                                                                                                                                                                                                                                                                                                                                  I tried last night, but threw up the pills. I ran away from the hospital angry that I am still alive. My GF of 10 years is gone. My family mostly hates me. I have no friends. No job. I can't even afford to get a replacement drivers licsense. I'm waiting on umemployment and living in a halfway house where everyone is drinking or using drugs. I've tried to see a light at the end of the tunnel, but I can see nothing good about my life. It's almost unfair to ask me to endure this pain. I'm in such a hole and I have no way out. I'd move out of here, but I am broke. I'd get a job, but I have no ID. I can't even afford fucking bus fare. My GF is seeing someone else and my heart is broken. I've never in life imagined a person could hurt so deeply. Nobody really cares about me. I'm all alone and the only thing I can think of is how great it would be to not feel this way. And no amount of alcohol or drugs can fill that void. It'd be better to be dead. Christ, I can't even go out in public without wanting to cry and hide. I'm stuck in this foul house, with foul people and nothing to look forward to, except a non-stop montage of thinking about my ex, and the life that I lost. I'm crying so hard right now. I can't take this. I've had three serious attempts in the last two months. I think my next one will finally do the trick. I don't even know why I bothered to write this, except that I want somebody to know how hurt I am and how that pain is causing me to take my own life.   \n",
              "\n",
              "  label  \\\n",
              "0     a   \n",
              "1     c   \n",
              "2     d   \n",
              "3     d   \n",
              "6     d   \n",
              "\n",
              "                                                                                                                                                                                                                                                                                                                                                                                                                                                                                                                                                                                                                                                                                                                                                                                                                                                                                                                                                                                                                                                                                                                                                                                                                                                                                                                                                                                                                                                                                                                                                                                                                                                                                                                                                                                                                                                                                                                                                                                                         clean_body  \n",
              "0                                                                                                                                                                                                                                                                                                                                                                                                                                                                                                                                                                                                                                                                                                                                                                                                                                                                                                                                                                                                                                                                                                                                                                                                                                                                                                                                                                                                                                                                                                                                                                                                                                                                                                                                               party fun smoke don remember fucking hurt compare pain inside things people don sad beacuse talk problems fine okey people cool person confident fucking wrong scar real glad opening hand head witness depression things real scar male feel wanted share thoughts  \n",
              "1                                                                                                                                                                                                                                                                                                                                                                                                                                                                                                                                                                                                                                                                                                                                                                                                                                                                                                                                                                                                                                                                                                                                                                                                                                                                                                                                                                                                                                                                                                                                                                                                                                                                                                              starters zoloft capsules yesterday swallowed approximately thirty capsules won kill don attention told person don feel shit didn sleep anxiety level shaking heart racing dizzy walk legs give collapse thought hanging learned tie noose ve inpatient hospital ve medication don hospital undecided  \n",
              "2  apologize advance long couldn stop typing die ve put pressure crack fall seams thinks wonderful person hate feel lying smart athletic thing remotely talented art shit takes life love science throwing field drown study love virology means phd fooling year committed suicide pushing ap classes needed improving needed smarter fall half year put honors classes gpa ruined failed classes thought problem board front sends panic attacks watched smart adjusted friends pull feels world pass hallway remember promising future feel didn hard shouldn lost years friend real friend lied time hurt accepted forgive time issue felt knife stomach trust issues parents divorced apologized proceeded act happened mentioned hurt sulky apologized barely remember feel guilty open felt sad immediately turn essentially dick measuring contest sadder remember nights spend watching lost stay late talking philosophy books miss don recognize anymore feel trust haven talked months immediately defensive deny shut fucking day hate body hate sponginess softness roundness absolutely sick disgusting grandpa acting calling attractive young woman compliment knowing full attending therapy transgender issues point simply lie suppose lucky afraid pain started harming years ago thought tempting fantasize breasts large disgusting zits pop knife make slit underside ll squeeze pus blood flat chest move chest front microwave hopes urban myth give breast cancer times convinced cut skin peel wetsuit ve considered peeling female skin real underneath underneath blood sinew bone fact feel man manly fucking girl downright pathetic cry drop hat weak arts drama fishing cars sports emotions swing back pendulum moment start feel confidant doesn matter quote grandfather dramatic pause don grandfather gays transgenders disclaimer type predates sexist remark women worked ve talked doctors signs earlier haven grandfather smart whip great didn doubt continued comments  \n",
              "3                                                                                                                                                                                                                                                                                                                                                                                                                                                                                                                                                                                                                                                                                                                                                                                                                                                                                                                                                                                                                                                                                                                                                                                                                                                                                                                                                                                                                                                                                                                                                                                                                                                                                           made thread yesterday expressed desire end life ended taking metric fuckton pills suffocate things stopped puppy started crying reason made cry thought replied thread people didn reaching people similar rough patches made side isn time reddit helped hope give back reached helped find reason keeping pic dog url  \n",
              "6                                                                                                                                                                                                                                                                                                                                                                                                                                                                                                                                                                                                                                                                                                                                                                                                                                                                                                                                                                                                                                                                                                                                                                                                                                                                                                                                                                                                                               night threw pills ran hospital angry alive gf years family hates friends job afford replacement drivers licsense waiting umemployment living halfway house drinking drugs ve light end tunnel good life unfair endure pain hole move broke job id afford fucking bus fare gf heart broken ve life imagined person hurt deeply cares thing great feel amount alcohol drugs fill void dead christ public wanting cry hide stuck foul house foul people forward stop montage thinking life lost crying hard ve attempts months finally trick don bothered write hurt pain causing life  "
            ]
          },
          "execution_count": 11,
          "metadata": {},
          "output_type": "execute_result"
        }
      ],
      "source": [
        "train_data.head()"
      ]
    },
    {
      "cell_type": "markdown",
      "metadata": {
        "id": "WJnVqEjfo2P_"
      },
      "source": [
        "#### Cleeaning the Data"
      ]
    },
    {
      "cell_type": "code",
      "execution_count": 12,
      "metadata": {
        "colab": {
          "base_uri": "https://localhost:8080/"
        },
        "id": "2f77H3v6bbij",
        "outputId": "c975e134-265f-4a2c-e1a8-383f14916811"
      },
      "outputs": [
        {
          "name": "stdout",
          "output_type": "stream",
          "text": [
            "7.36 s ± 447 ms per loop (mean ± std. dev. of 7 runs, 1 loop each)\n"
          ]
        }
      ],
      "source": [
        "%%timeit\n",
        "#Convert the list to a Dask bag\n",
        "reviews_list_test = test_data['post_body'].to_list()\n",
        "review_bag_test = db.from_sequence(reviews_list_test, npartitions=3)\n",
        "clean_body_test = review_bag_test.map(spacy_preprocessing)\n",
        "test_data['clean_body'] =clean_body_test.compute()"
      ]
    },
    {
      "cell_type": "code",
      "execution_count": 13,
      "metadata": {
        "id": "ylYVU9Yez-AL"
      },
      "outputs": [],
      "source": [
        "def data_preprocessing(df):\n",
        "  df['rank'] = df.groupby([\"user_id\"])[\"timestamp\"].rank(\"dense\", ascending=False)\n",
        "  df = df.query('rank<=3')\n",
        "  agg_user_comment = df.groupby(['user_id','label'], as_index=False)['clean_body'].agg(['unique']).reset_index()\n",
        "  sentencs = pd.DataFrame(agg_user_comment['unique'].to_list(), columns = ['sent1', 'sent2', 'sent3'])\n",
        "  combined = pd.concat([agg_user_comment['label'],sentencs ], axis=1)\n",
        "  combined['length']=combined['sent1'].apply(lambda x: len(x.split(' ')))\n",
        "  combined = combined.query('length>20')\n",
        "  combined.drop(columns=['length'], inplace=True)\n",
        "  return combined\n"
      ]
    },
    {
      "cell_type": "code",
      "execution_count": 14,
      "metadata": {
        "id": "rE9vJEIK0wzb"
      },
      "outputs": [],
      "source": [
        "train_df = data_preprocessing(train_data)\n",
        "test_df = data_preprocessing(test_data)\n"
      ]
    },
    {
      "cell_type": "code",
      "execution_count": 15,
      "metadata": {
        "id": "HNM8G1jy863d"
      },
      "outputs": [],
      "source": [
        "train_df = train_df.fillna(value=-100)\n",
        "test_df = test_df.fillna(value=-100)"
      ]
    },
    {
      "cell_type": "code",
      "execution_count": 16,
      "metadata": {
        "colab": {
          "base_uri": "https://localhost:8080/",
          "height": 312
        },
        "id": "pgbgh3-d0891",
        "outputId": "7448135d-a0c0-4f01-9a40-27fd3667b4d2"
      },
      "outputs": [
        {
          "data": {
            "text/html": [
              "\n",
              "  <div id=\"df-3fc1d7d9-0a1b-4092-aef9-dc9f2a2fde95\">\n",
              "    <div class=\"colab-df-container\">\n",
              "      <div>\n",
              "<style scoped>\n",
              "    .dataframe tbody tr th:only-of-type {\n",
              "        vertical-align: middle;\n",
              "    }\n",
              "\n",
              "    .dataframe tbody tr th {\n",
              "        vertical-align: top;\n",
              "    }\n",
              "\n",
              "    .dataframe thead th {\n",
              "        text-align: right;\n",
              "    }\n",
              "</style>\n",
              "<table border=\"1\" class=\"dataframe\">\n",
              "  <thead>\n",
              "    <tr style=\"text-align: right;\">\n",
              "      <th></th>\n",
              "      <th>label</th>\n",
              "      <th>sent1</th>\n",
              "      <th>sent2</th>\n",
              "      <th>sent3</th>\n",
              "    </tr>\n",
              "  </thead>\n",
              "  <tbody>\n",
              "    <tr>\n",
              "      <th>0</th>\n",
              "      <td>d</td>\n",
              "      <td>stuck hate confidence abilities future stuck dead end job badly time university courses technical career choke terrified confidence ll state don rest life thing keeping alive fact don put parents son killing future hopeless bleak confident skills change dying easier failing change</td>\n",
              "      <td>things depressed suicide disappearing living totally grid viable option future uncertain bleak terrifying give feel</td>\n",
              "      <td>-100</td>\n",
              "    </tr>\n",
              "    <tr>\n",
              "      <th>2</th>\n",
              "      <td>c</td>\n",
              "      <td>background white male college graduate enroll graduate program job enroll masters program afraid dying thought suicide comforting recently occupies bit thoughts kill gunshot overdose ready access thing prevents arm love mom massive support system source love hate disappoint leave conclusion stay alive eventually passes case reason carry shallow selfish weighs ton bricks thinks ahead wouldn worry emotions product perception couldn dead don joy things anymore ve started burnt job enjoy school people distract good feels hole extremely unhappy end rant</td>\n",
              "      <td>-100</td>\n",
              "      <td>-100</td>\n",
              "    </tr>\n",
              "  </tbody>\n",
              "</table>\n",
              "</div>\n",
              "      <button class=\"colab-df-convert\" onclick=\"convertToInteractive('df-3fc1d7d9-0a1b-4092-aef9-dc9f2a2fde95')\"\n",
              "              title=\"Convert this dataframe to an interactive table.\"\n",
              "              style=\"display:none;\">\n",
              "        \n",
              "  <svg xmlns=\"http://www.w3.org/2000/svg\" height=\"24px\"viewBox=\"0 0 24 24\"\n",
              "       width=\"24px\">\n",
              "    <path d=\"M0 0h24v24H0V0z\" fill=\"none\"/>\n",
              "    <path d=\"M18.56 5.44l.94 2.06.94-2.06 2.06-.94-2.06-.94-.94-2.06-.94 2.06-2.06.94zm-11 1L8.5 8.5l.94-2.06 2.06-.94-2.06-.94L8.5 2.5l-.94 2.06-2.06.94zm10 10l.94 2.06.94-2.06 2.06-.94-2.06-.94-.94-2.06-.94 2.06-2.06.94z\"/><path d=\"M17.41 7.96l-1.37-1.37c-.4-.4-.92-.59-1.43-.59-.52 0-1.04.2-1.43.59L10.3 9.45l-7.72 7.72c-.78.78-.78 2.05 0 2.83L4 21.41c.39.39.9.59 1.41.59.51 0 1.02-.2 1.41-.59l7.78-7.78 2.81-2.81c.8-.78.8-2.07 0-2.86zM5.41 20L4 18.59l7.72-7.72 1.47 1.35L5.41 20z\"/>\n",
              "  </svg>\n",
              "      </button>\n",
              "      \n",
              "  <style>\n",
              "    .colab-df-container {\n",
              "      display:flex;\n",
              "      flex-wrap:wrap;\n",
              "      gap: 12px;\n",
              "    }\n",
              "\n",
              "    .colab-df-convert {\n",
              "      background-color: #E8F0FE;\n",
              "      border: none;\n",
              "      border-radius: 50%;\n",
              "      cursor: pointer;\n",
              "      display: none;\n",
              "      fill: #1967D2;\n",
              "      height: 32px;\n",
              "      padding: 0 0 0 0;\n",
              "      width: 32px;\n",
              "    }\n",
              "\n",
              "    .colab-df-convert:hover {\n",
              "      background-color: #E2EBFA;\n",
              "      box-shadow: 0px 1px 2px rgba(60, 64, 67, 0.3), 0px 1px 3px 1px rgba(60, 64, 67, 0.15);\n",
              "      fill: #174EA6;\n",
              "    }\n",
              "\n",
              "    [theme=dark] .colab-df-convert {\n",
              "      background-color: #3B4455;\n",
              "      fill: #D2E3FC;\n",
              "    }\n",
              "\n",
              "    [theme=dark] .colab-df-convert:hover {\n",
              "      background-color: #434B5C;\n",
              "      box-shadow: 0px 1px 3px 1px rgba(0, 0, 0, 0.15);\n",
              "      filter: drop-shadow(0px 1px 2px rgba(0, 0, 0, 0.3));\n",
              "      fill: #FFFFFF;\n",
              "    }\n",
              "  </style>\n",
              "\n",
              "      <script>\n",
              "        const buttonEl =\n",
              "          document.querySelector('#df-3fc1d7d9-0a1b-4092-aef9-dc9f2a2fde95 button.colab-df-convert');\n",
              "        buttonEl.style.display =\n",
              "          google.colab.kernel.accessAllowed ? 'block' : 'none';\n",
              "\n",
              "        async function convertToInteractive(key) {\n",
              "          const element = document.querySelector('#df-3fc1d7d9-0a1b-4092-aef9-dc9f2a2fde95');\n",
              "          const dataTable =\n",
              "            await google.colab.kernel.invokeFunction('convertToInteractive',\n",
              "                                                     [key], {});\n",
              "          if (!dataTable) return;\n",
              "\n",
              "          const docLinkHtml = 'Like what you see? Visit the ' +\n",
              "            '<a target=\"_blank\" href=https://colab.research.google.com/notebooks/data_table.ipynb>data table notebook</a>'\n",
              "            + ' to learn more about interactive tables.';\n",
              "          element.innerHTML = '';\n",
              "          dataTable['output_type'] = 'display_data';\n",
              "          await google.colab.output.renderOutput(dataTable, element);\n",
              "          const docLink = document.createElement('div');\n",
              "          docLink.innerHTML = docLinkHtml;\n",
              "          element.appendChild(docLink);\n",
              "        }\n",
              "      </script>\n",
              "    </div>\n",
              "  </div>\n",
              "  "
            ],
            "text/plain": [
              "  label  \\\n",
              "0     d   \n",
              "2     c   \n",
              "\n",
              "                                                                                                                                                                                                                                                                                                                                                                                                                                                                                                                                                                        sent1  \\\n",
              "0                                                                                                                                                                                                                                                                                   stuck hate confidence abilities future stuck dead end job badly time university courses technical career choke terrified confidence ll state don rest life thing keeping alive fact don put parents son killing future hopeless bleak confident skills change dying easier failing change   \n",
              "2  background white male college graduate enroll graduate program job enroll masters program afraid dying thought suicide comforting recently occupies bit thoughts kill gunshot overdose ready access thing prevents arm love mom massive support system source love hate disappoint leave conclusion stay alive eventually passes case reason carry shallow selfish weighs ton bricks thinks ahead wouldn worry emotions product perception couldn dead don joy things anymore ve started burnt job enjoy school people distract good feels hole extremely unhappy end rant   \n",
              "\n",
              "                                                                                                                 sent2  \\\n",
              "0  things depressed suicide disappearing living totally grid viable option future uncertain bleak terrifying give feel   \n",
              "2                                                                                                                 -100   \n",
              "\n",
              "  sent3  \n",
              "0  -100  \n",
              "2  -100  "
            ]
          },
          "execution_count": 16,
          "metadata": {},
          "output_type": "execute_result"
        }
      ],
      "source": [
        "train_df.head(2)"
      ]
    },
    {
      "cell_type": "code",
      "execution_count": 17,
      "metadata": {
        "colab": {
          "base_uri": "https://localhost:8080/",
          "height": 260
        },
        "id": "IaBTyCqm1XgQ",
        "outputId": "40ce9f80-a58c-4b52-9816-0b2b6cd2bf70"
      },
      "outputs": [
        {
          "data": {
            "text/html": [
              "\n",
              "  <div id=\"df-8a6b8d7c-469b-4db8-9af5-259acca7b92e\">\n",
              "    <div class=\"colab-df-container\">\n",
              "      <div>\n",
              "<style scoped>\n",
              "    .dataframe tbody tr th:only-of-type {\n",
              "        vertical-align: middle;\n",
              "    }\n",
              "\n",
              "    .dataframe tbody tr th {\n",
              "        vertical-align: top;\n",
              "    }\n",
              "\n",
              "    .dataframe thead th {\n",
              "        text-align: right;\n",
              "    }\n",
              "</style>\n",
              "<table border=\"1\" class=\"dataframe\">\n",
              "  <thead>\n",
              "    <tr style=\"text-align: right;\">\n",
              "      <th></th>\n",
              "      <th>label</th>\n",
              "      <th>sent1</th>\n",
              "      <th>sent2</th>\n",
              "      <th>sent3</th>\n",
              "    </tr>\n",
              "  </thead>\n",
              "  <tbody>\n",
              "    <tr>\n",
              "      <th>0</th>\n",
              "      <td>d</td>\n",
              "      <td>haven felt years jsut deal anymore absolutely closest friend doesn anymore thinks boyfriend cheating methe guy doesn talk anymore dfucking boring crazy nt nt care knowi iti die nt anymore wash oit wine liquor cover smile donei ca nt anymore</td>\n",
              "      <td>-100</td>\n",
              "      <td>-100</td>\n",
              "    </tr>\n",
              "    <tr>\n",
              "      <th>1</th>\n",
              "      <td>d</td>\n",
              "      <td>months cousin told doesn live anymore made pact birthday happy kill birthday tomorrow ve thing stayed night talking nights texted week sitting van rope ready girlfriend contacted goodbye message scared person talk talk managed home sleep ringing dad ringing suicide line rang speak cliff area days ago sat hours contemplating jumping sat person change mind doesn feel change mind ve begged doctors faith ve begged speak dad scared losing scared turning family upside scared break uncle aunties heart terrified live guilt hope doesn guess needed speak mind strangers</td>\n",
              "      <td>-100</td>\n",
              "      <td>-100</td>\n",
              "    </tr>\n",
              "  </tbody>\n",
              "</table>\n",
              "</div>\n",
              "      <button class=\"colab-df-convert\" onclick=\"convertToInteractive('df-8a6b8d7c-469b-4db8-9af5-259acca7b92e')\"\n",
              "              title=\"Convert this dataframe to an interactive table.\"\n",
              "              style=\"display:none;\">\n",
              "        \n",
              "  <svg xmlns=\"http://www.w3.org/2000/svg\" height=\"24px\"viewBox=\"0 0 24 24\"\n",
              "       width=\"24px\">\n",
              "    <path d=\"M0 0h24v24H0V0z\" fill=\"none\"/>\n",
              "    <path d=\"M18.56 5.44l.94 2.06.94-2.06 2.06-.94-2.06-.94-.94-2.06-.94 2.06-2.06.94zm-11 1L8.5 8.5l.94-2.06 2.06-.94-2.06-.94L8.5 2.5l-.94 2.06-2.06.94zm10 10l.94 2.06.94-2.06 2.06-.94-2.06-.94-.94-2.06-.94 2.06-2.06.94z\"/><path d=\"M17.41 7.96l-1.37-1.37c-.4-.4-.92-.59-1.43-.59-.52 0-1.04.2-1.43.59L10.3 9.45l-7.72 7.72c-.78.78-.78 2.05 0 2.83L4 21.41c.39.39.9.59 1.41.59.51 0 1.02-.2 1.41-.59l7.78-7.78 2.81-2.81c.8-.78.8-2.07 0-2.86zM5.41 20L4 18.59l7.72-7.72 1.47 1.35L5.41 20z\"/>\n",
              "  </svg>\n",
              "      </button>\n",
              "      \n",
              "  <style>\n",
              "    .colab-df-container {\n",
              "      display:flex;\n",
              "      flex-wrap:wrap;\n",
              "      gap: 12px;\n",
              "    }\n",
              "\n",
              "    .colab-df-convert {\n",
              "      background-color: #E8F0FE;\n",
              "      border: none;\n",
              "      border-radius: 50%;\n",
              "      cursor: pointer;\n",
              "      display: none;\n",
              "      fill: #1967D2;\n",
              "      height: 32px;\n",
              "      padding: 0 0 0 0;\n",
              "      width: 32px;\n",
              "    }\n",
              "\n",
              "    .colab-df-convert:hover {\n",
              "      background-color: #E2EBFA;\n",
              "      box-shadow: 0px 1px 2px rgba(60, 64, 67, 0.3), 0px 1px 3px 1px rgba(60, 64, 67, 0.15);\n",
              "      fill: #174EA6;\n",
              "    }\n",
              "\n",
              "    [theme=dark] .colab-df-convert {\n",
              "      background-color: #3B4455;\n",
              "      fill: #D2E3FC;\n",
              "    }\n",
              "\n",
              "    [theme=dark] .colab-df-convert:hover {\n",
              "      background-color: #434B5C;\n",
              "      box-shadow: 0px 1px 3px 1px rgba(0, 0, 0, 0.15);\n",
              "      filter: drop-shadow(0px 1px 2px rgba(0, 0, 0, 0.3));\n",
              "      fill: #FFFFFF;\n",
              "    }\n",
              "  </style>\n",
              "\n",
              "      <script>\n",
              "        const buttonEl =\n",
              "          document.querySelector('#df-8a6b8d7c-469b-4db8-9af5-259acca7b92e button.colab-df-convert');\n",
              "        buttonEl.style.display =\n",
              "          google.colab.kernel.accessAllowed ? 'block' : 'none';\n",
              "\n",
              "        async function convertToInteractive(key) {\n",
              "          const element = document.querySelector('#df-8a6b8d7c-469b-4db8-9af5-259acca7b92e');\n",
              "          const dataTable =\n",
              "            await google.colab.kernel.invokeFunction('convertToInteractive',\n",
              "                                                     [key], {});\n",
              "          if (!dataTable) return;\n",
              "\n",
              "          const docLinkHtml = 'Like what you see? Visit the ' +\n",
              "            '<a target=\"_blank\" href=https://colab.research.google.com/notebooks/data_table.ipynb>data table notebook</a>'\n",
              "            + ' to learn more about interactive tables.';\n",
              "          element.innerHTML = '';\n",
              "          dataTable['output_type'] = 'display_data';\n",
              "          await google.colab.output.renderOutput(dataTable, element);\n",
              "          const docLink = document.createElement('div');\n",
              "          docLink.innerHTML = docLinkHtml;\n",
              "          element.appendChild(docLink);\n",
              "        }\n",
              "      </script>\n",
              "    </div>\n",
              "  </div>\n",
              "  "
            ],
            "text/plain": [
              "  label  \\\n",
              "0     d   \n",
              "1     d   \n",
              "\n",
              "                                                                                                                                                                                                                                                                                                                                                                                                                                                                                                                                                                                   sent1  \\\n",
              "0                                                                                                                                                                                                                                                                                                                                       haven felt years jsut deal anymore absolutely closest friend doesn anymore thinks boyfriend cheating methe guy doesn talk anymore dfucking boring crazy nt nt care knowi iti die nt anymore wash oit wine liquor cover smile donei ca nt anymore   \n",
              "1  months cousin told doesn live anymore made pact birthday happy kill birthday tomorrow ve thing stayed night talking nights texted week sitting van rope ready girlfriend contacted goodbye message scared person talk talk managed home sleep ringing dad ringing suicide line rang speak cliff area days ago sat hours contemplating jumping sat person change mind doesn feel change mind ve begged doctors faith ve begged speak dad scared losing scared turning family upside scared break uncle aunties heart terrified live guilt hope doesn guess needed speak mind strangers   \n",
              "\n",
              "  sent2 sent3  \n",
              "0  -100  -100  \n",
              "1  -100  -100  "
            ]
          },
          "execution_count": 17,
          "metadata": {},
          "output_type": "execute_result"
        }
      ],
      "source": [
        "test_df.head(2)"
      ]
    },
    {
      "cell_type": "code",
      "execution_count": 18,
      "metadata": {
        "colab": {
          "base_uri": "https://localhost:8080/"
        },
        "id": "s02J4yQGKSxI",
        "outputId": "2ade0b50-671a-411f-e6cb-0dccb83fa97e"
      },
      "outputs": [
        {
          "name": "stdout",
          "output_type": "stream",
          "text": [
            "<class 'pandas.core.frame.DataFrame'>\n",
            "Int64Index: 386 entries, 0 to 495\n",
            "Data columns (total 4 columns):\n",
            " #   Column  Non-Null Count  Dtype \n",
            "---  ------  --------------  ----- \n",
            " 0   label   386 non-null    object\n",
            " 1   sent1   386 non-null    object\n",
            " 2   sent2   386 non-null    object\n",
            " 3   sent3   386 non-null    object\n",
            "dtypes: object(4)\n",
            "memory usage: 15.1+ KB\n"
          ]
        }
      ],
      "source": [
        "train_df.info()"
      ]
    },
    {
      "cell_type": "code",
      "execution_count": 19,
      "metadata": {
        "colab": {
          "base_uri": "https://localhost:8080/"
        },
        "id": "wVhzuJalJlJc",
        "outputId": "d8a08c22-23eb-45b5-8aa7-37fd51bf0be7"
      },
      "outputs": [
        {
          "name": "stdout",
          "output_type": "stream",
          "text": [
            "<class 'pandas.core.frame.DataFrame'>\n",
            "Int64Index: 101 entries, 0 to 124\n",
            "Data columns (total 4 columns):\n",
            " #   Column  Non-Null Count  Dtype \n",
            "---  ------  --------------  ----- \n",
            " 0   label   101 non-null    object\n",
            " 1   sent1   101 non-null    object\n",
            " 2   sent2   101 non-null    object\n",
            " 3   sent3   101 non-null    object\n",
            "dtypes: object(4)\n",
            "memory usage: 3.9+ KB\n"
          ]
        }
      ],
      "source": [
        "test_df.info()"
      ]
    },
    {
      "cell_type": "code",
      "execution_count": 20,
      "metadata": {
        "id": "3Bv43BDuIe1U"
      },
      "outputs": [],
      "source": [
        "target_map = {'a': 0,  'b': 1,'c':2,'d':3}\n",
        "train_df['label']=train_df['label'].map(target_map)\n",
        "test_df['label']=test_df['label'].map(target_map)\n",
        "train_df['label'] = train_df['label'].astype('int32')\n",
        "test_df['label'] = test_df['label'].astype('int32')"
      ]
    },
    {
      "cell_type": "markdown",
      "metadata": {
        "id": "jvXfoj33pBHV"
      },
      "source": [
        "#### Saving the pre-processed file"
      ]
    },
    {
      "cell_type": "code",
      "execution_count": 21,
      "metadata": {
        "id": "_sro8ptM3nG8"
      },
      "outputs": [],
      "source": [
        "train_df.to_csv('/content/drive/MyDrive/data/sr_train.csv')\n",
        "test_df.to_csv('/content/drive/MyDrive/data/sr_test.csv')"
      ]
    },
    {
      "cell_type": "markdown",
      "metadata": {
        "id": "srLcYWWPpGZn"
      },
      "source": [
        "### Hugging Face Creating Dataset Object"
      ]
    },
    {
      "cell_type": "code",
      "execution_count": 22,
      "metadata": {
        "colab": {
          "base_uri": "https://localhost:8080/",
          "height": 185,
          "referenced_widgets": [
            "c509cf3859d14851a48094292024c78f",
            "953d9db7325f4a589bbe087f580d9d38",
            "e14881e946ea451596267472cf31bed2",
            "06e3e14aff484da092a018e042099c0b",
            "3a9f934e0d0d4137bd06cb205130fd1d",
            "9fc2bf935590464cbb3a47519a53acd2",
            "0697167dee5a4d59b97ab9c58067910c",
            "7adc0b721fe64db998a1c90aca828567",
            "0f033b6f614145c396d036f040f9fffd",
            "cc3d07cae00a4e96ba5198285818e275",
            "c973f52c69b84c5eb9770be25eab45de",
            "3007823f268e47e4815fb2631c70cc8f",
            "abaaefd14701411fab68966fc3b925f9",
            "68fc1790106e441eae9039052254bb68",
            "458c13fe09894122bad8b9080cd69e6f",
            "3b8f562c983043e39d015bb0e05b7b3a",
            "d8c840ae342e4769a43b5d0d4acf14aa",
            "dd2cae9ef30b473eb90876e0f6a2c5d4",
            "ede9bec91121482398dd92b2c2538d65",
            "5405da813eef4717a75db4d0338cf811",
            "92f9eb33fc0a4ab3abdad685ac3627bd",
            "5ac74a1abd7d42169035a0fbaa5586d3",
            "85fad4492ed649b886d7b9a99ae3e3d5",
            "abafbfaca08049ec93b54ecef400f1cc",
            "3dac5f6da3814390862a50905ca36dcc",
            "8a6b1ac26e244bc0a39f9727aa285620",
            "74046556ad6148a3892f67e6e77d3a36",
            "3f330db133c64376bbd12d93be16a862",
            "c39299ffa3da4bbaa992503c59cbfcb7",
            "b86aa3d5059a45479ffb0b9f26b02934",
            "71bf50adbb5f4e1d96d311aa60b4c37d",
            "75dbe9e80fee4f70a3a5e1a098f6dca4",
            "085daa4f4fb74e55b4500a454474d0ec",
            "85cb25c4e5804c9e9b36b8225d6d33c1",
            "d33b8305d4494fff8f9970f2e77abf3b",
            "e4e0084e5d8c4c848a80a917b1c3a282",
            "7589f5f082604d69abc3b13c3a9b7958",
            "9f364536808c4b96b809a8fa7f368778",
            "ae885e94738d4ab2bc77aca3d75d55c7",
            "776c074106fb403f8196040257f8e0d7",
            "ae4db7e4f27c480d979fe5b675d6d151",
            "97a85ad04ffc465299acee6fec73a63f",
            "7adf135ad35247abb52afb2cd3f55813",
            "cb2e8bebb8ee44b29f6d76aebe003a8b",
            "bb15f167adc746b78a10b6c9b5f0bf29",
            "0fb7a89de5a04bc6b7f32b43b61f52b6",
            "1177257137684bd0ab994cc8e7be81f4",
            "9e022f939b0942a5abeb8b667e228d8f",
            "fd92f63d6aa2486e8243fe62769c61d7",
            "77f8fb145fb64267997737241a742ff7",
            "b70ae1bb76834e3fa60ed7d2e596218a",
            "f0ca73ace8eb4ed2843bd688d0d9f4c3",
            "1ccd685b39fb422d93bfa0c6f1a39334",
            "9b934d4e25ac47f1a0980526a275ad75",
            "9752441b940547fabd67e0930e0658bc"
          ]
        },
        "id": "kpYfgOGT4rYP",
        "outputId": "a2d63612-7626-4129-e2d3-070aaa845a1f"
      },
      "outputs": [
        {
          "name": "stderr",
          "output_type": "stream",
          "text": [
            "WARNING:datasets.builder:Using custom data configuration default-ee465537a2e74cd8\n"
          ]
        },
        {
          "name": "stdout",
          "output_type": "stream",
          "text": [
            "Downloading and preparing dataset csv/default to /root/.cache/huggingface/datasets/csv/default-ee465537a2e74cd8/0.0.0/652c3096f041ee27b04d2232d41f10547a8fecda3e284a79a0ec4053c916ef7a...\n"
          ]
        },
        {
          "data": {
            "application/vnd.jupyter.widget-view+json": {
              "model_id": "c509cf3859d14851a48094292024c78f",
              "version_major": 2,
              "version_minor": 0
            },
            "text/plain": [
              "Downloading data files:   0%|          | 0/2 [00:00<?, ?it/s]"
            ]
          },
          "metadata": {},
          "output_type": "display_data"
        },
        {
          "data": {
            "application/vnd.jupyter.widget-view+json": {
              "model_id": "3007823f268e47e4815fb2631c70cc8f",
              "version_major": 2,
              "version_minor": 0
            },
            "text/plain": [
              "Extracting data files:   0%|          | 0/2 [00:00<?, ?it/s]"
            ]
          },
          "metadata": {},
          "output_type": "display_data"
        },
        {
          "data": {
            "application/vnd.jupyter.widget-view+json": {
              "model_id": "85fad4492ed649b886d7b9a99ae3e3d5",
              "version_major": 2,
              "version_minor": 0
            },
            "text/plain": [
              "0 tables [00:00, ? tables/s]"
            ]
          },
          "metadata": {},
          "output_type": "display_data"
        },
        {
          "data": {
            "application/vnd.jupyter.widget-view+json": {
              "model_id": "85cb25c4e5804c9e9b36b8225d6d33c1",
              "version_major": 2,
              "version_minor": 0
            },
            "text/plain": [
              "0 tables [00:00, ? tables/s]"
            ]
          },
          "metadata": {},
          "output_type": "display_data"
        },
        {
          "name": "stdout",
          "output_type": "stream",
          "text": [
            "Dataset csv downloaded and prepared to /root/.cache/huggingface/datasets/csv/default-ee465537a2e74cd8/0.0.0/652c3096f041ee27b04d2232d41f10547a8fecda3e284a79a0ec4053c916ef7a. Subsequent calls will reuse this data.\n"
          ]
        },
        {
          "data": {
            "application/vnd.jupyter.widget-view+json": {
              "model_id": "bb15f167adc746b78a10b6c9b5f0bf29",
              "version_major": 2,
              "version_minor": 0
            },
            "text/plain": [
              "  0%|          | 0/2 [00:00<?, ?it/s]"
            ]
          },
          "metadata": {},
          "output_type": "display_data"
        }
      ],
      "source": [
        "raw_datasets = load_dataset(\n",
        "    'csv',\n",
        "    data_files={'train':'/content/drive/MyDrive/data/sr_train.csv',\n",
        "                'test':'/content/drive/MyDrive/data/sr_test.csv'}\n",
        ")"
      ]
    },
    {
      "cell_type": "code",
      "execution_count": 23,
      "metadata": {
        "colab": {
          "base_uri": "https://localhost:8080/"
        },
        "id": "0I6jwodd444T",
        "outputId": "325388e6-331e-465b-b413-544716513de0"
      },
      "outputs": [
        {
          "data": {
            "text/plain": [
              "DatasetDict({\n",
              "    train: Dataset({\n",
              "        features: ['Unnamed: 0', 'label', 'sent1', 'sent2', 'sent3'],\n",
              "        num_rows: 386\n",
              "    })\n",
              "    test: Dataset({\n",
              "        features: ['Unnamed: 0', 'label', 'sent1', 'sent2', 'sent3'],\n",
              "        num_rows: 101\n",
              "    })\n",
              "})"
            ]
          },
          "execution_count": 23,
          "metadata": {},
          "output_type": "execute_result"
        }
      ],
      "source": [
        "raw_datasets"
      ]
    },
    {
      "cell_type": "code",
      "execution_count": 24,
      "metadata": {
        "colab": {
          "base_uri": "https://localhost:8080/",
          "height": 70
        },
        "id": "D3adt6mA4-Kl",
        "outputId": "ea2ab7d2-3e3b-4c18-f265-375f4bc88531"
      },
      "outputs": [
        {
          "data": {
            "application/vnd.google.colaboratory.intrinsic+json": {
              "type": "string"
            },
            "text/plain": [
              "'stuck hate confidence abilities future stuck dead end job badly time university courses technical career choke terrified confidence ll state don rest life thing keeping alive fact don put parents son killing future hopeless bleak confident skills change dying easier failing change'"
            ]
          },
          "execution_count": 24,
          "metadata": {},
          "output_type": "execute_result"
        }
      ],
      "source": [
        "raw_datasets['train']['sent1'][0]"
      ]
    },
    {
      "cell_type": "code",
      "execution_count": 25,
      "metadata": {
        "colab": {
          "base_uri": "https://localhost:8080/",
          "height": 70
        },
        "id": "LLVbmMXN5Dw7",
        "outputId": "7e1ccde2-5ee1-4f45-eaf7-e12d3fb48501"
      },
      "outputs": [
        {
          "data": {
            "application/vnd.google.colaboratory.intrinsic+json": {
              "type": "string"
            },
            "text/plain": [
              "'haven felt years jsut deal anymore absolutely closest friend doesn anymore thinks boyfriend cheating methe guy doesn talk anymore dfucking boring crazy nt nt care knowi iti die nt anymore wash oit wine liquor cover smile donei ca nt anymore'"
            ]
          },
          "execution_count": 25,
          "metadata": {},
          "output_type": "execute_result"
        }
      ],
      "source": [
        "raw_datasets['test']['sent1'][0]"
      ]
    },
    {
      "cell_type": "markdown",
      "metadata": {
        "id": "0stkMHp4pQq6"
      },
      "source": [
        "### Tokenizer"
      ]
    },
    {
      "cell_type": "code",
      "execution_count": 26,
      "metadata": {
        "id": "dFs6HA1m5MbG"
      },
      "outputs": [],
      "source": [
        "from transformers import AutoTokenizer"
      ]
    },
    {
      "cell_type": "code",
      "execution_count": 27,
      "metadata": {
        "colab": {
          "base_uri": "https://localhost:8080/",
          "height": 145,
          "referenced_widgets": [
            "d3a20be5dfc54d3fa1ae670492cc4ba8",
            "d7687beb50744fcd8876366f57d88d48",
            "fcb24ceafc4840a3a55d9595b2bf7829",
            "768f7a0613fc4861a607eb9ae5a6be34",
            "41db81ec90424b05bdfc1bb6cf2722cf",
            "d779d38a5f2d462aa15f79bd4df494cf",
            "21079b667dcd48489bc32aa6f95a4bae",
            "fb4608a041aa49929b994c9005b34236",
            "18eac079373f45a6943e53b39dc03a5d",
            "f3661110012a4572964d2ab5345d2cd7",
            "3418907326cf401eb6329a5dbacfac81",
            "739643434cf04551aabf4459a6e08a90",
            "e3c9065fa9f64288abcb2555c581df0b",
            "3924ee6b40a04ce2bbfc06b756cadbd3",
            "34513ab71c51406b819085f3317217e3",
            "36bd07587e8d4796b0dfc881d29be1c7",
            "8ea5c15d20d441c6aa44ef8713f74b49",
            "c63ce2bb70a340619da664fd9bf9ae1c",
            "a707dc5c546e4c87a348dae960139bbc",
            "83ead7f8cff944c1913ba4b819432c92",
            "fbb023250e4d4476b294ec473b36377f",
            "a797845f02db41708a9487b38b22af71",
            "3dda4e386e9c4a289d2d6ad93b63990f",
            "68111280984b4eacb2bdb88d7f1c6bca",
            "555414167de44724b3d4f8ae374d3d4e",
            "1b43aa271af04ac3a5316bbaee2f9635",
            "1eb85186b96042c987d78d32a177c47c",
            "965a74b27fef4747bd8d08a1b5018d1b",
            "3b92dedc42514bfbb2d9cc6c6d715e55",
            "d716eeb5c2944415bea79716f5ae7553",
            "725ee7e74d6b42b7bc7fbdf859c7a592",
            "3f99181bd8b34eee95a01c9d72d1f2fb",
            "4c68b26271a74de7a597ca71a2d5535d",
            "1dd23656de98421aa74584b9cdf44af0",
            "d2411397d8a54aaf947ff9e6d7851ddc",
            "412e03aca3b94d5b9861f507a43100fe",
            "3a3f01b3b36b49e6a5e1d1ccdc126f99",
            "66ac041c630f4aa0b2df800ab4ee9f7a",
            "bc12617fbefe41d2b4b13ea2b697856d",
            "0e51a92b2bc4479f9b2a127ddf2862c7",
            "1fb4a50342244dd69850153a84bb6a8d",
            "1ace7f22d8324e8f8f25c327405cca4c",
            "29fcf0832fb84fc5870c1026a8030732",
            "e6647f3d034c47cdae964512b1473d39"
          ]
        },
        "id": "Z_B2-hXU5PQW",
        "outputId": "34026c34-e284-4319-9926-8c9afc23049f"
      },
      "outputs": [
        {
          "data": {
            "application/vnd.jupyter.widget-view+json": {
              "model_id": "d3a20be5dfc54d3fa1ae670492cc4ba8",
              "version_major": 2,
              "version_minor": 0
            },
            "text/plain": [
              "Downloading config.json:   0%|          | 0.00/481 [00:00<?, ?B/s]"
            ]
          },
          "metadata": {},
          "output_type": "display_data"
        },
        {
          "data": {
            "application/vnd.jupyter.widget-view+json": {
              "model_id": "739643434cf04551aabf4459a6e08a90",
              "version_major": 2,
              "version_minor": 0
            },
            "text/plain": [
              "Downloading vocab.json:   0%|          | 0.00/878k [00:00<?, ?B/s]"
            ]
          },
          "metadata": {},
          "output_type": "display_data"
        },
        {
          "data": {
            "application/vnd.jupyter.widget-view+json": {
              "model_id": "3dda4e386e9c4a289d2d6ad93b63990f",
              "version_major": 2,
              "version_minor": 0
            },
            "text/plain": [
              "Downloading merges.txt:   0%|          | 0.00/446k [00:00<?, ?B/s]"
            ]
          },
          "metadata": {},
          "output_type": "display_data"
        },
        {
          "data": {
            "application/vnd.jupyter.widget-view+json": {
              "model_id": "1dd23656de98421aa74584b9cdf44af0",
              "version_major": 2,
              "version_minor": 0
            },
            "text/plain": [
              "Downloading tokenizer.json:   0%|          | 0.00/1.29M [00:00<?, ?B/s]"
            ]
          },
          "metadata": {},
          "output_type": "display_data"
        }
      ],
      "source": [
        "checkpoint =\"roberta-base\"\n",
        "tokenizer = AutoTokenizer.from_pretrained(checkpoint)"
      ]
    },
    {
      "cell_type": "code",
      "execution_count": 28,
      "metadata": {
        "colab": {
          "base_uri": "https://localhost:8080/"
        },
        "id": "784oTtHl5x9-",
        "outputId": "3466e6ae-9aa4-4f5b-d40b-b22b6aa501de"
      },
      "outputs": [
        {
          "data": {
            "text/plain": [
              "PreTrainedTokenizerFast(name_or_path='roberta-base', vocab_size=50265, model_max_len=512, is_fast=True, padding_side='right', truncation_side='right', special_tokens={'bos_token': '<s>', 'eos_token': '</s>', 'unk_token': '<unk>', 'sep_token': '</s>', 'pad_token': '<pad>', 'cls_token': '<s>', 'mask_token': AddedToken(\"<mask>\", rstrip=False, lstrip=True, single_word=False, normalized=False)})"
            ]
          },
          "execution_count": 28,
          "metadata": {},
          "output_type": "execute_result"
        }
      ],
      "source": [
        "tokenizer"
      ]
    },
    {
      "cell_type": "code",
      "execution_count": 29,
      "metadata": {
        "colab": {
          "base_uri": "https://localhost:8080/",
          "height": 81,
          "referenced_widgets": [
            "abcd0b3233de4098abad05334bc77e01",
            "3cd1833de0e249869ac95e86c1c3a9b4",
            "4ef138fc198147198a57b0d8690ce396",
            "6f32f28b8a55480b818a124b6856e331",
            "d0ca76729d4d4c0fa93c1468afdc52be",
            "b8efda51002a487bbbfdceb01ee74461",
            "0b11acb371cd4be4854011f7898a0707",
            "5f23ecfb91a44c79b5388ea238cf5aed",
            "d4e25191f94847a29445c4035f2ccd7e",
            "64c5290cdcbb4d54af66628133a7a801",
            "e99324c135b547c2bd732c0aa8da20b0",
            "36e3a48865da4745b082048cf8e7b7ef",
            "42bd1304a0574c6fa0f4cd1eb822de3c",
            "e839b8aed5e5417bad590b15098f22db",
            "f4a80f7c5eb24b46b492dbff6631f0da",
            "46a5d53e51844aabbfd857ec0dbc5d0a",
            "234f246583564206b89f3396f3c268b4",
            "5eabbad5d94d4babbd6609e22209211f",
            "9f94ceb9154e41668e882a0b8bbbd67d",
            "32641316325e4d03a439af3858b1d7f6",
            "2295f66eb6f54b63b94fc4124d6ba2e7",
            "7859dc44cc234c9c86eca96438e85927"
          ]
        },
        "id": "UaW9wFdN5j81",
        "outputId": "931c1264-5840-4d4f-9987-ac7ac40e255d"
      },
      "outputs": [
        {
          "data": {
            "application/vnd.jupyter.widget-view+json": {
              "model_id": "abcd0b3233de4098abad05334bc77e01",
              "version_major": 2,
              "version_minor": 0
            },
            "text/plain": [
              "  0%|          | 0/1 [00:00<?, ?ba/s]"
            ]
          },
          "metadata": {},
          "output_type": "display_data"
        },
        {
          "data": {
            "application/vnd.jupyter.widget-view+json": {
              "model_id": "36e3a48865da4745b082048cf8e7b7ef",
              "version_major": 2,
              "version_minor": 0
            },
            "text/plain": [
              "  0%|          | 0/1 [00:00<?, ?ba/s]"
            ]
          },
          "metadata": {},
          "output_type": "display_data"
        }
      ],
      "source": [
        "def tokenize_fn(batch):\n",
        "  return tokenizer(batch['sent1'],batch['sent2'], truncation=True, padding=True, max_length=512)\n",
        "\n",
        "tokenized_dataset = raw_datasets.map(tokenize_fn, batched=True)"
      ]
    },
    {
      "cell_type": "code",
      "execution_count": 30,
      "metadata": {
        "colab": {
          "base_uri": "https://localhost:8080/"
        },
        "id": "FsBqrqOH-Qfm",
        "outputId": "103a3d48-fc96-4acb-ae95-e1b2c83e3386"
      },
      "outputs": [
        {
          "data": {
            "text/plain": [
              "DatasetDict({\n",
              "    train: Dataset({\n",
              "        features: ['Unnamed: 0', 'label', 'sent1', 'sent2', 'sent3', 'input_ids', 'attention_mask'],\n",
              "        num_rows: 386\n",
              "    })\n",
              "    test: Dataset({\n",
              "        features: ['Unnamed: 0', 'label', 'sent1', 'sent2', 'sent3', 'input_ids', 'attention_mask'],\n",
              "        num_rows: 101\n",
              "    })\n",
              "})"
            ]
          },
          "execution_count": 30,
          "metadata": {},
          "output_type": "execute_result"
        }
      ],
      "source": [
        "tokenized_dataset"
      ]
    },
    {
      "cell_type": "code",
      "execution_count": 31,
      "metadata": {
        "colab": {
          "base_uri": "https://localhost:8080/"
        },
        "id": "rdNpTvNw-SDE",
        "outputId": "26463aca-14c3-4be0-e9cd-75dc1dd72e00"
      },
      "outputs": [
        {
          "data": {
            "text/plain": [
              "[0, 620, 5858, 4157, 2123, 11360, 499, 4889, 1462, 253]"
            ]
          },
          "execution_count": 31,
          "metadata": {},
          "output_type": "execute_result"
        }
      ],
      "source": [
        "tokenized_dataset['train']['input_ids'][0][0:10]"
      ]
    },
    {
      "cell_type": "code",
      "execution_count": 32,
      "metadata": {
        "id": "1kz4nayR-fwq"
      },
      "outputs": [],
      "source": [
        "#tokenized_dataset['train']['token_type_ids'][0][0:10]"
      ]
    },
    {
      "cell_type": "code",
      "execution_count": 33,
      "metadata": {
        "colab": {
          "base_uri": "https://localhost:8080/"
        },
        "id": "Px1rmqo3JCJ7",
        "outputId": "38b347aa-2443-4dfe-8b1e-b0fd98541999"
      },
      "outputs": [
        {
          "data": {
            "text/plain": [
              "[3, 2, 3]"
            ]
          },
          "execution_count": 33,
          "metadata": {},
          "output_type": "execute_result"
        }
      ],
      "source": [
        "tokenized_dataset['train']['label'][0:3]"
      ]
    },
    {
      "cell_type": "code",
      "execution_count": null,
      "metadata": {
        "colab": {
          "base_uri": "https://localhost:8080/",
          "height": 174
        },
        "id": "AOxuCWa0-5ke",
        "outputId": "9651e4a8-94b8-416a-f451-fac5ef23dc1d"
      },
      "outputs": [],
      "source": [
        "tokenizer.decode(tokenized_dataset['train']['input_ids'][0])"
      ]
    },
    {
      "cell_type": "markdown",
      "metadata": {
        "id": "BvibjvnLpi4C"
      },
      "source": [
        "### Config File for the Model "
      ]
    },
    {
      "cell_type": "code",
      "execution_count": 35,
      "metadata": {
        "id": "YALGGx5tEBYU"
      },
      "outputs": [],
      "source": [
        "from torch import nn \n",
        "from transformers import AutoConfig\n",
        "\n",
        "num_labels=4\n",
        "config = AutoConfig.from_pretrained(checkpoint, num_labels=num_labels)"
      ]
    },
    {
      "cell_type": "code",
      "execution_count": 36,
      "metadata": {
        "id": "KLKyMe5qESsW"
      },
      "outputs": [],
      "source": [
        "target_map = {'a': 0,  'b': 1,'c':2,'d':3}"
      ]
    },
    {
      "cell_type": "code",
      "execution_count": 37,
      "metadata": {
        "colab": {
          "base_uri": "https://localhost:8080/"
        },
        "id": "Br4agsOeEa1t",
        "outputId": "f3685b73-2183-4e33-d8e5-5f5efbea2364"
      },
      "outputs": [
        {
          "data": {
            "text/plain": [
              "{0: 'a', 1: 'b', 2: 'c', 3: 'd'}"
            ]
          },
          "execution_count": 37,
          "metadata": {},
          "output_type": "execute_result"
        }
      ],
      "source": [
        "config.id2label = {v:k for k,v in target_map.items()}\n",
        "config.id2label"
      ]
    },
    {
      "cell_type": "code",
      "execution_count": 38,
      "metadata": {
        "colab": {
          "base_uri": "https://localhost:8080/"
        },
        "id": "UZ5HCin6EhL8",
        "outputId": "d68f7d75-ba83-4c9f-b024-74fc21cfd1ae"
      },
      "outputs": [
        {
          "data": {
            "text/plain": [
              "{'a': 0, 'b': 1, 'c': 2, 'd': 3}"
            ]
          },
          "execution_count": 38,
          "metadata": {},
          "output_type": "execute_result"
        }
      ],
      "source": [
        "config.label2id = target_map\n",
        "config.label2id"
      ]
    },
    {
      "cell_type": "code",
      "execution_count": 39,
      "metadata": {
        "colab": {
          "base_uri": "https://localhost:8080/"
        },
        "id": "lm2z27NxIHqi",
        "outputId": "ecbe60b9-4cd9-4918-aa29-a80df496dfea"
      },
      "outputs": [
        {
          "data": {
            "text/plain": [
              "RobertaConfig {\n",
              "  \"_name_or_path\": \"roberta-base\",\n",
              "  \"architectures\": [\n",
              "    \"RobertaForMaskedLM\"\n",
              "  ],\n",
              "  \"attention_probs_dropout_prob\": 0.1,\n",
              "  \"bos_token_id\": 0,\n",
              "  \"classifier_dropout\": null,\n",
              "  \"eos_token_id\": 2,\n",
              "  \"hidden_act\": \"gelu\",\n",
              "  \"hidden_dropout_prob\": 0.1,\n",
              "  \"hidden_size\": 768,\n",
              "  \"id2label\": {\n",
              "    \"0\": \"a\",\n",
              "    \"1\": \"b\",\n",
              "    \"2\": \"c\",\n",
              "    \"3\": \"d\"\n",
              "  },\n",
              "  \"initializer_range\": 0.02,\n",
              "  \"intermediate_size\": 3072,\n",
              "  \"label2id\": {\n",
              "    \"a\": 0,\n",
              "    \"b\": 1,\n",
              "    \"c\": 2,\n",
              "    \"d\": 3\n",
              "  },\n",
              "  \"layer_norm_eps\": 1e-05,\n",
              "  \"max_position_embeddings\": 514,\n",
              "  \"model_type\": \"roberta\",\n",
              "  \"num_attention_heads\": 12,\n",
              "  \"num_hidden_layers\": 12,\n",
              "  \"pad_token_id\": 1,\n",
              "  \"position_embedding_type\": \"absolute\",\n",
              "  \"transformers_version\": \"4.21.2\",\n",
              "  \"type_vocab_size\": 1,\n",
              "  \"use_cache\": true,\n",
              "  \"vocab_size\": 50265\n",
              "}"
            ]
          },
          "execution_count": 39,
          "metadata": {},
          "output_type": "execute_result"
        }
      ],
      "source": [
        "config"
      ]
    },
    {
      "cell_type": "markdown",
      "metadata": {
        "id": "3MrO1aumpnqB"
      },
      "source": [
        "### Loading the Model for Classification"
      ]
    },
    {
      "cell_type": "code",
      "execution_count": 40,
      "metadata": {
        "id": "uTo9dWg3EnXQ"
      },
      "outputs": [],
      "source": [
        "from transformers import AutoModelForSequenceClassification\n",
        "import torch"
      ]
    },
    {
      "cell_type": "code",
      "execution_count": 41,
      "metadata": {
        "colab": {
          "base_uri": "https://localhost:8080/",
          "height": 156,
          "referenced_widgets": [
            "9679c63737bd42c687b40bac0cee5119",
            "5ddf15b5a12f48cf9bde62e9f48ae546",
            "17bc42c5d66e47989ad8e585b4d17ee6",
            "fadf68740b4c4c8f8887a3e0c0bfd80a",
            "3988f479bc4943a2bb59a5233d4458a0",
            "f1dbd914a45548e594becb02b990d0a3",
            "5a3f643e7ef64bfbb1f5410fb60c1a56",
            "c4317dbaae924beb95c8a58fca4d39bf",
            "c274404d0fe94bb7beec87f423011425",
            "f8e77019dd9b4f7c99ebc9fc9490932e",
            "3c46c45320c34ac59624c52496db9a69"
          ]
        },
        "id": "IwLW6cQYEqMP",
        "outputId": "ffbc8365-556b-4f6b-f832-b6a13ec51d65"
      },
      "outputs": [
        {
          "data": {
            "application/vnd.jupyter.widget-view+json": {
              "model_id": "9679c63737bd42c687b40bac0cee5119",
              "version_major": 2,
              "version_minor": 0
            },
            "text/plain": [
              "Downloading pytorch_model.bin:   0%|          | 0.00/478M [00:00<?, ?B/s]"
            ]
          },
          "metadata": {},
          "output_type": "display_data"
        },
        {
          "name": "stderr",
          "output_type": "stream",
          "text": [
            "Some weights of the model checkpoint at roberta-base were not used when initializing RobertaForSequenceClassification: ['lm_head.decoder.weight', 'roberta.pooler.dense.bias', 'lm_head.bias', 'roberta.pooler.dense.weight', 'lm_head.dense.weight', 'lm_head.dense.bias', 'lm_head.layer_norm.weight', 'lm_head.layer_norm.bias']\n",
            "- This IS expected if you are initializing RobertaForSequenceClassification from the checkpoint of a model trained on another task or with another architecture (e.g. initializing a BertForSequenceClassification model from a BertForPreTraining model).\n",
            "- This IS NOT expected if you are initializing RobertaForSequenceClassification from the checkpoint of a model that you expect to be exactly identical (initializing a BertForSequenceClassification model from a BertForSequenceClassification model).\n",
            "Some weights of RobertaForSequenceClassification were not initialized from the model checkpoint at roberta-base and are newly initialized: ['classifier.dense.bias', 'classifier.out_proj.weight', 'classifier.dense.weight', 'classifier.out_proj.bias']\n",
            "You should probably TRAIN this model on a down-stream task to be able to use it for predictions and inference.\n"
          ]
        }
      ],
      "source": [
        "device = torch.device(\"cuda\" if torch.cuda.is_available() else \"cpu\")\n",
        "model = (AutoModelForSequenceClassification.from_pretrained(\"roberta-base\", config=config).to(device))"
      ]
    },
    {
      "cell_type": "code",
      "execution_count": null,
      "metadata": {
        "id": "lXRRURqUnC8l"
      },
      "outputs": [],
      "source": [
        "model"
      ]
    },
    {
      "cell_type": "markdown",
      "metadata": {
        "id": "THRhl1IMl1n4"
      },
      "source": [
        "### Testing Model"
      ]
    },
    {
      "cell_type": "code",
      "execution_count": 43,
      "metadata": {
        "colab": {
          "base_uri": "https://localhost:8080/"
        },
        "id": "FDtfwOYVl5Ks",
        "outputId": "3a66dc3e-de22-49e0-ae7e-5e15d2344afd"
      },
      "outputs": [
        {
          "data": {
            "text/plain": [
              "dict_keys(['input_ids', 'attention_mask'])"
            ]
          },
          "execution_count": 43,
          "metadata": {},
          "output_type": "execute_result"
        }
      ],
      "source": [
        "##tokenized data \n",
        "sample_text1 = raw_datasets['train']['sent1'][0]\n",
        "sample_text2 = raw_datasets['train']['sent2'][0]\n",
        "sample = tokenizer(sample_text1, truncation=True,padding=True, return_tensors='pt',max_length=512)\n",
        "sample.keys()"
      ]
    },
    {
      "cell_type": "code",
      "execution_count": 44,
      "metadata": {
        "id": "pNsCXquinusW"
      },
      "outputs": [],
      "source": [
        "#model.resize_token_embeddings(len(tokenizer))"
      ]
    },
    {
      "cell_type": "code",
      "execution_count": 45,
      "metadata": {
        "colab": {
          "base_uri": "https://localhost:8080/",
          "height": 70
        },
        "id": "BqyiYu6NmPta",
        "outputId": "05f45460-2c64-4ad0-d378-f1c8cd0b911a"
      },
      "outputs": [
        {
          "data": {
            "application/vnd.google.colaboratory.intrinsic+json": {
              "type": "string"
            },
            "text/plain": [
              "'<s>stuck hate confidence abilities future stuck dead end job badly time university courses technical career choke terrified confidence ll state don rest life thing keeping alive fact don put parents son killing future hopeless bleak confident skills change dying easier failing change</s>'"
            ]
          },
          "execution_count": 45,
          "metadata": {},
          "output_type": "execute_result"
        }
      ],
      "source": [
        "tokenizer.decode(sample['input_ids'][0])"
      ]
    },
    {
      "cell_type": "code",
      "execution_count": 46,
      "metadata": {
        "colab": {
          "base_uri": "https://localhost:8080/"
        },
        "id": "3tqRmTf4me4y",
        "outputId": "36c99897-9bcf-4201-cb2d-43376ba6beb8"
      },
      "outputs": [
        {
          "name": "stdout",
          "output_type": "stream",
          "text": [
            "sample label 3\n"
          ]
        },
        {
          "data": {
            "text/plain": [
              "torch.Tensor"
            ]
          },
          "execution_count": 46,
          "metadata": {},
          "output_type": "execute_result"
        }
      ],
      "source": [
        "sample_label = raw_datasets['train']['label'][0]\n",
        "print(f'sample label {sample_label}')\n",
        "sample_label = torch.tensor(sample_label, dtype=torch.long)\n",
        "type(sample_label)"
      ]
    },
    {
      "cell_type": "code",
      "execution_count": 47,
      "metadata": {
        "colab": {
          "base_uri": "https://localhost:8080/"
        },
        "id": "IU6anavUmtU_",
        "outputId": "a02017c3-19a9-4908-c266-c9119a654c05"
      },
      "outputs": [
        {
          "data": {
            "text/plain": [
              "SequenceClassifierOutput(loss=None, logits=tensor([[-0.0679, -0.1089, -0.0102,  0.0095]], device='cuda:0',\n",
              "       grad_fn=<AddmmBackward0>), hidden_states=None, attentions=None)"
            ]
          },
          "execution_count": 47,
          "metadata": {},
          "output_type": "execute_result"
        }
      ],
      "source": [
        "preds_distilebert= model(sample['input_ids'].to(device))\n",
        "preds_distilebert"
      ]
    },
    {
      "cell_type": "markdown",
      "metadata": {
        "id": "KDVKxfxIpt9r"
      },
      "source": [
        "### Training Arguments"
      ]
    },
    {
      "cell_type": "code",
      "execution_count": 48,
      "metadata": {
        "id": "zGZ5taQxGppE"
      },
      "outputs": [],
      "source": [
        "from transformers import TrainingArguments, Trainer, AutoModelForSequenceClassification\n",
        "## Training Arguments\n",
        "batch_size= 16\n",
        "logging_steps = len(tokenized_dataset[\"train\"]) // batch_size\n",
        "model_name = \"suicide_risk_analysis_model\"\n",
        "training_args = TrainingArguments(\n",
        "    'suicide_risk_model_preediction',\n",
        "    evaluation_strategy='epoch',\n",
        "    num_train_epochs=6,\n",
        "    learning_rate=2e-5,\n",
        "    per_device_train_batch_size=batch_size,\n",
        "    per_device_eval_batch_size=batch_size,\n",
        "    save_strategy='epoch',\n",
        "    logging_steps=logging_steps,\n",
        "    log_level=\"error\",\n",
        "    push_to_hub=False,\n",
        "    disable_tqdm=False\n",
        "    )"
      ]
    },
    {
      "cell_type": "markdown",
      "metadata": {
        "id": "L6X2AUsMpxiE"
      },
      "source": [
        "### Compute Metric Function"
      ]
    },
    {
      "cell_type": "code",
      "execution_count": 49,
      "metadata": {
        "id": "01Z0jkgAGv_-"
      },
      "outputs": [],
      "source": [
        "def compute_metrics(pred):\n",
        "  labels=pred.label_ids\n",
        "  preds = pred.predictions.argmax(-1)\n",
        "  f1 = f1_score(labels,preds, average=\"weighted\"),\n",
        "  acc = accuracy_score(labels,preds)\n",
        "  return {\"accuracy\":acc,\"f1\":f1}"
      ]
    },
    {
      "cell_type": "markdown",
      "metadata": {
        "id": "_sz5TkPrp4_b"
      },
      "source": [
        "### Trainer Object"
      ]
    },
    {
      "cell_type": "code",
      "execution_count": 50,
      "metadata": {
        "id": "KLFBzkiWGzsI"
      },
      "outputs": [],
      "source": [
        "from transformers import Trainer \n",
        "trainer = Trainer(model=model, args=training_args,\n",
        "                  compute_metrics=compute_metrics,\n",
        "                  train_dataset=tokenized_dataset['train'],\n",
        "                  eval_dataset = tokenized_dataset['test'],\n",
        "                  tokenizer=tokenizer)"
      ]
    },
    {
      "cell_type": "markdown",
      "metadata": {
        "id": "5WC_WYHvp88j"
      },
      "source": [
        "### Training "
      ]
    },
    {
      "cell_type": "code",
      "execution_count": 51,
      "metadata": {
        "colab": {
          "base_uri": "https://localhost:8080/",
          "height": 316
        },
        "id": "bVBspiquG2Oo",
        "outputId": "00902bba-6daf-487c-d7cb-69e702eb8039"
      },
      "outputs": [
        {
          "data": {
            "text/html": [
              "\n",
              "    <div>\n",
              "      \n",
              "      <progress value='150' max='150' style='width:300px; height:20px; vertical-align: middle;'></progress>\n",
              "      [150/150 01:48, Epoch 6/6]\n",
              "    </div>\n",
              "    <table border=\"1\" class=\"dataframe\">\n",
              "  <thead>\n",
              " <tr style=\"text-align: left;\">\n",
              "      <th>Epoch</th>\n",
              "      <th>Training Loss</th>\n",
              "      <th>Validation Loss</th>\n",
              "      <th>Accuracy</th>\n",
              "      <th>F1</th>\n",
              "    </tr>\n",
              "  </thead>\n",
              "  <tbody>\n",
              "    <tr>\n",
              "      <td>1</td>\n",
              "      <td>1.303900</td>\n",
              "      <td>1.261558</td>\n",
              "      <td>0.435644</td>\n",
              "      <td>(0.26439057698873336,)</td>\n",
              "    </tr>\n",
              "    <tr>\n",
              "      <td>2</td>\n",
              "      <td>1.228400</td>\n",
              "      <td>1.199885</td>\n",
              "      <td>0.435644</td>\n",
              "      <td>(0.26439057698873336,)</td>\n",
              "    </tr>\n",
              "    <tr>\n",
              "      <td>3</td>\n",
              "      <td>1.209200</td>\n",
              "      <td>1.165433</td>\n",
              "      <td>0.514851</td>\n",
              "      <td>(0.415070078436415,)</td>\n",
              "    </tr>\n",
              "    <tr>\n",
              "      <td>4</td>\n",
              "      <td>1.140100</td>\n",
              "      <td>1.131815</td>\n",
              "      <td>0.554455</td>\n",
              "      <td>(0.4504381472630021,)</td>\n",
              "    </tr>\n",
              "    <tr>\n",
              "      <td>5</td>\n",
              "      <td>1.034900</td>\n",
              "      <td>1.165664</td>\n",
              "      <td>0.534653</td>\n",
              "      <td>(0.4337594679008131,)</td>\n",
              "    </tr>\n",
              "    <tr>\n",
              "      <td>6</td>\n",
              "      <td>1.044300</td>\n",
              "      <td>1.178573</td>\n",
              "      <td>0.534653</td>\n",
              "      <td>(0.4333424646812507,)</td>\n",
              "    </tr>\n",
              "  </tbody>\n",
              "</table><p>"
            ],
            "text/plain": [
              "<IPython.core.display.HTML object>"
            ]
          },
          "metadata": {},
          "output_type": "display_data"
        },
        {
          "data": {
            "text/plain": [
              "TrainOutput(global_step=150, training_loss=1.1546370347340902, metrics={'train_runtime': 109.0742, 'train_samples_per_second': 21.233, 'train_steps_per_second': 1.375, 'total_flos': 609376146702336.0, 'train_loss': 1.1546370347340902, 'epoch': 6.0})"
            ]
          },
          "execution_count": 51,
          "metadata": {},
          "output_type": "execute_result"
        }
      ],
      "source": [
        "trainer.train()"
      ]
    },
    {
      "cell_type": "markdown",
      "metadata": {
        "id": "s1jzd7YRfZh0"
      },
      "source": [
        "### Loading in the Checkpoints"
      ]
    },
    {
      "cell_type": "code",
      "execution_count": 52,
      "metadata": {
        "colab": {
          "base_uri": "https://localhost:8080/"
        },
        "id": "68N9kpkIfdXK",
        "outputId": "63100dd2-9b30-479c-d66a-0634278097b3"
      },
      "outputs": [
        {
          "name": "stdout",
          "output_type": "stream",
          "text": [
            "total 36\n",
            "drwxr-xr-x 1 root root 4096 Aug 24 22:02 ..\n",
            "drwxr-xr-x 3 root root 4096 Aug 24 22:02 runs\n",
            "drwxr-xr-x 2 root root 4096 Aug 24 22:03 checkpoint-25\n",
            "drwxr-xr-x 2 root root 4096 Aug 24 22:03 checkpoint-50\n",
            "drwxr-xr-x 2 root root 4096 Aug 24 22:03 checkpoint-75\n",
            "drwxr-xr-x 2 root root 4096 Aug 24 22:04 checkpoint-100\n",
            "drwxr-xr-x 2 root root 4096 Aug 24 22:04 checkpoint-125\n",
            "drwxr-xr-x 9 root root 4096 Aug 24 22:04 .\n",
            "drwxr-xr-x 2 root root 4096 Aug 24 22:04 checkpoint-150\n"
          ]
        }
      ],
      "source": [
        "!ls -ltra suicide_risk_model_preediction"
      ]
    },
    {
      "cell_type": "markdown",
      "metadata": {
        "id": "XAgHumhcftE5"
      },
      "source": [
        "### Creating a Pipeline for Prediction"
      ]
    },
    {
      "cell_type": "code",
      "execution_count": 53,
      "metadata": {
        "id": "eJSfUmwOflmw"
      },
      "outputs": [],
      "source": [
        "from transformers import pipeline"
      ]
    },
    {
      "cell_type": "code",
      "execution_count": 54,
      "metadata": {
        "id": "hhelu6xLfxqZ"
      },
      "outputs": [],
      "source": [
        "#loading the trained model with a specific checkpoint\n",
        "savedmodel = pipeline('text-classification',\n",
        "                      model='suicide_risk_model_preediction/checkpoint-125',\n",
        "                      device=0)"
      ]
    },
    {
      "cell_type": "code",
      "execution_count": 55,
      "metadata": {
        "colab": {
          "base_uri": "https://localhost:8080/"
        },
        "id": "QJP0lT6vf6cs",
        "outputId": "5d6643c6-6fbd-4e2e-ff7a-9994226bc87b"
      },
      "outputs": [
        {
          "data": {
            "text/plain": [
              "[3, 0]"
            ]
          },
          "execution_count": 55,
          "metadata": {},
          "output_type": "execute_result"
        }
      ],
      "source": [
        "test_pred = savedmodel(raw_datasets['test']['sent1'],raw_datasets['test']['sent2'])\n",
        "test_inx = [target_map[k['label']] for k in test_pred]\n",
        "test_inx[0:2]"
      ]
    },
    {
      "cell_type": "markdown",
      "metadata": {
        "id": "oj0UNswgqBXG"
      },
      "source": [
        "### Model Evaluation"
      ]
    },
    {
      "cell_type": "code",
      "execution_count": 56,
      "metadata": {
        "id": "O-JAGx-lf-PX"
      },
      "outputs": [],
      "source": [
        "cm = confusion_matrix(raw_datasets['test']['label'], test_inx, labels=[0, 1,2,3])"
      ]
    },
    {
      "cell_type": "code",
      "execution_count": 57,
      "metadata": {
        "colab": {
          "base_uri": "https://localhost:8080/",
          "height": 279
        },
        "id": "SpaasnzmgAUL",
        "outputId": "21feda6d-6a10-496e-9549-c8aef0582718"
      },
      "outputs": [
        {
          "data": {
            "image/png": "[encoded data removed]",
            "text/plain": [
              "<Figure size 432x288 with 2 Axes>"
            ]
          },
          "metadata": {
            "needs_background": "light"
          },
          "output_type": "display_data"
        }
      ],
      "source": [
        "disp = ConfusionMatrixDisplay(confusion_matrix=cm,\n",
        "                             display_labels=['No Risk', 'Low Risk','Moderate Risk','Severe Risk'])\n",
        "disp.plot()\n",
        "plt.grid(False)\n",
        "plt.show()"
      ]
    },
    {
      "cell_type": "code",
      "execution_count": 58,
      "metadata": {
        "colab": {
          "base_uri": "https://localhost:8080/"
        },
        "id": "W608Y36Tiua3",
        "outputId": "f9b2789b-cff1-4d28-dc2a-35aacc6bc0b1"
      },
      "outputs": [
        {
          "name": "stdout",
          "output_type": "stream",
          "text": [
            "              precision    recall  f1-score   support\n",
            "\n",
            "           0       0.56      0.72      0.63        25\n",
            "           1       0.00      0.00      0.00        10\n",
            "           2       0.00      0.00      0.00        22\n",
            "           3       0.52      0.82      0.64        44\n",
            "\n",
            "    accuracy                           0.53       101\n",
            "   macro avg       0.27      0.38      0.32       101\n",
            "weighted avg       0.37      0.53      0.43       101\n",
            "\n"
          ]
        }
      ],
      "source": [
        "print(classification_report(raw_datasets['test']['label'], test_inx))"
      ]
    },
    {
      "cell_type": "markdown",
      "metadata": {
        "id": "0FE4sfz6j6un"
      },
      "source": [
        "### Error Analysis"
      ]
    },
    {
      "cell_type": "code",
      "execution_count": 59,
      "metadata": {
        "colab": {
          "base_uri": "https://localhost:8080/",
          "height": 35
        },
        "id": "IIQPDGxDj9oo",
        "outputId": "bf54bac1-41d4-417b-a657-4dfef761d8a2"
      },
      "outputs": [
        {
          "data": {
            "application/vnd.google.colaboratory.intrinsic+json": {
              "type": "string"
            },
            "text/plain": [
              "'suicide_risk_model_preediction/checkpoint-125'"
            ]
          },
          "execution_count": 59,
          "metadata": {},
          "output_type": "execute_result"
        }
      ],
      "source": [
        "f\"suicide_risk_model_preediction/checkpoint-125\""
      ]
    },
    {
      "cell_type": "code",
      "execution_count": 60,
      "metadata": {
        "colab": {
          "base_uri": "https://localhost:8080/"
        },
        "id": "gvavSznzkYyy",
        "outputId": "eb51dd38-cd87-4aae-d7a1-bebc436c475a"
      },
      "outputs": [
        {
          "data": {
            "text/plain": [
              "['input_ids', 'attention_mask']"
            ]
          },
          "execution_count": 60,
          "metadata": {},
          "output_type": "execute_result"
        }
      ],
      "source": [
        "tokenizer.model_input_names"
      ]
    },
    {
      "cell_type": "code",
      "execution_count": 61,
      "metadata": {
        "id": "pqhcN_GUkcGZ"
      },
      "outputs": [],
      "source": [
        "from torch.nn.functional import cross_entropy\n",
        "def forward_pass_with_custom_model(batch):\n",
        "    #place all input tensors on the device \n",
        "    inputs = {k: v.to(device) for k, v in batch.items() if k in tokenizer.model_input_names}\n",
        "    #call the model\n",
        "    with torch.no_grad():\n",
        "        outputs = model(input_ids=inputs[\"input_ids\"].to(device) , attention_mask=inputs[\"attention_mask\"].to(device), labels=batch[\"label\"].to(device))\n",
        "        #get the logits\n",
        "        logits = outputs.logits\n",
        "        pred_labels = logits.argmax(-1)\n",
        "        loss = cross_entropy(logits, batch[\"label\"].to(device), reduction=\"none\") #shape of logits is (batch_size, num_labels) and shape of batch[\"label\"] is (batch_size)\n",
        "        #place the outputs on the CPU for compatibility with the other dataset columns  \n",
        "        return {\"pred_labels\": pred_labels.cpu().numpy(),\"batch_loss\": loss.cpu().numpy() }"
      ]
    },
    {
      "cell_type": "code",
      "execution_count": 62,
      "metadata": {
        "colab": {
          "base_uri": "https://localhost:8080/",
          "height": 49,
          "referenced_widgets": [
            "a590c12ea847472fbafb126b5c073b33",
            "b3c0ac89e0c8444b8f237ab4ca81ccd1",
            "9de9f0bebedd4fe6a320274078ea53d0",
            "52f2ce5ae7d749b29ef80b65a885fd1e",
            "ae97106ccb1f447db9c300db00274ff3",
            "499fa2c609e34ca0bb26cbbc24b4f8b3",
            "e3bef294ab224ec09d19118d4913ae16",
            "e7c52dbba6574dcca0c8704655e889c8",
            "c1a2aae235c743efae196d2a36bca142",
            "b014478906924c369d92c8735562b3a1",
            "cee12d85428348e984c6d173fde114c4"
          ]
        },
        "id": "p1pQQRZbkpVS",
        "outputId": "10559501-2933-400d-d1b0-51a14cd7868c"
      },
      "outputs": [
        {
          "data": {
            "application/vnd.jupyter.widget-view+json": {
              "model_id": "a590c12ea847472fbafb126b5c073b33",
              "version_major": 2,
              "version_minor": 0
            },
            "text/plain": [
              "  0%|          | 0/7 [00:00<?, ?ba/s]"
            ]
          },
          "metadata": {},
          "output_type": "display_data"
        }
      ],
      "source": [
        "#convert dataset to pytocrch tensors\n",
        "tokenized_dataset.set_format(\"torch\", columns=[\"input_ids\",\"attention_mask\" ,\"label\"])\n",
        "#Compute loss values\n",
        "tokenized_dataset[\"test\"] = tokenized_dataset[\"test\"].map(forward_pass_with_custom_model, batched=True, batch_size=16)"
      ]
    },
    {
      "cell_type": "code",
      "execution_count": 63,
      "metadata": {
        "colab": {
          "base_uri": "https://localhost:8080/"
        },
        "id": "28LuBqpQkwrX",
        "outputId": "9bb9b13e-8b3e-4ab1-9774-c5361c2b3c44"
      },
      "outputs": [
        {
          "data": {
            "text/plain": [
              "DatasetDict({\n",
              "    train: Dataset({\n",
              "        features: ['Unnamed: 0', 'label', 'sent1', 'sent2', 'sent3', 'input_ids', 'attention_mask'],\n",
              "        num_rows: 386\n",
              "    })\n",
              "    test: Dataset({\n",
              "        features: ['Unnamed: 0', 'label', 'sent1', 'sent2', 'sent3', 'input_ids', 'attention_mask', 'pred_labels', 'batch_loss'],\n",
              "        num_rows: 101\n",
              "    })\n",
              "})"
            ]
          },
          "execution_count": 63,
          "metadata": {},
          "output_type": "execute_result"
        }
      ],
      "source": [
        "tokenized_dataset"
      ]
    },
    {
      "cell_type": "code",
      "execution_count": 64,
      "metadata": {
        "id": "TkKaN2yNlFKE"
      },
      "outputs": [],
      "source": [
        "index2tag = {0:'No Risk', 1:'Low Risk',2:'Moderate Risk',3:'Severe Risk'}"
      ]
    },
    {
      "cell_type": "code",
      "execution_count": 65,
      "metadata": {
        "id": "KPs_GUhGk2Wp"
      },
      "outputs": [],
      "source": [
        "tokenized_dataset.set_format(\"pandas\")\n",
        "cols = [\"sent1\",\"sent2\",\"label\",\"pred_labels\",\"batch_loss\"]\n",
        "df_test= tokenized_dataset[\"test\"][:][cols]\n",
        "df_test['label'] = df_test[\"label\"].map(index2tag)\n",
        "df_test['pred_labels']=df_test['pred_labels'].map(index2tag)"
      ]
    },
    {
      "cell_type": "code",
      "execution_count": 70,
      "metadata": {
        "colab": {
          "base_uri": "https://localhost:8080/",
          "height": 597
        },
        "id": "JLC_5fS-ljSt",
        "outputId": "bda65483-60bc-428e-af33-f4af88be9341"
      },
      "outputs": [
        {
          "data": {
            "text/html": [
              "\n",
              "  <div id=\"df-d01726b8-19b4-419c-afcc-d7f2e71ba25e\">\n",
              "    <div class=\"colab-df-container\">\n",
              "      <div>\n",
              "<style scoped>\n",
              "    .dataframe tbody tr th:only-of-type {\n",
              "        vertical-align: middle;\n",
              "    }\n",
              "\n",
              "    .dataframe tbody tr th {\n",
              "        vertical-align: top;\n",
              "    }\n",
              "\n",
              "    .dataframe thead th {\n",
              "        text-align: right;\n",
              "    }\n",
              "</style>\n",
              "<table border=\"1\" class=\"dataframe\">\n",
              "  <thead>\n",
              "    <tr style=\"text-align: right;\">\n",
              "      <th></th>\n",
              "      <th>sent1</th>\n",
              "      <th>sent2</th>\n",
              "      <th>label</th>\n",
              "      <th>pred_labels</th>\n",
              "      <th>batch_loss</th>\n",
              "    </tr>\n",
              "  </thead>\n",
              "  <tbody>\n",
              "    <tr>\n",
              "      <th>0</th>\n",
              "      <td>haven felt years jsut deal anymore absolutely closest friend doesn anymore thinks boyfriend cheating methe guy doesn talk anymore dfucking boring crazy nt nt care knowi iti die nt anymore wash oit wine liquor cover smile donei ca nt anymore</td>\n",
              "      <td>-100</td>\n",
              "      <td>Severe Risk</td>\n",
              "      <td>Severe Risk</td>\n",
              "      <td>0.434678</td>\n",
              "    </tr>\n",
              "    <tr>\n",
              "      <th>1</th>\n",
              "      <td>months cousin told doesn live anymore made pact birthday happy kill birthday tomorrow ve thing stayed night talking nights texted week sitting van rope ready girlfriend contacted goodbye message scared person talk talk managed home sleep ringing dad ringing suicide line rang speak cliff area days ago sat hours contemplating jumping sat person change mind doesn feel change mind ve begged doctors faith ve begged speak dad scared losing scared turning family upside scared break uncle aunties heart terrified live guilt hope doesn guess needed speak mind strangers</td>\n",
              "      <td>-100</td>\n",
              "      <td>Severe Risk</td>\n",
              "      <td>No Risk</td>\n",
              "      <td>1.677534</td>\n",
              "    </tr>\n",
              "    <tr>\n",
              "      <th>2</th>\n",
              "      <td>past months ve talking guy school ve talked lot time hinting depression night told contemplating suicide cut wrists told counselor school convinced put thinking suicide side time frightened don ve dependency issues feels built tough outer shell horrible thing past ve year call school acts happy convincingly make worse helping</td>\n",
              "      <td>-100</td>\n",
              "      <td>No Risk</td>\n",
              "      <td>No Risk</td>\n",
              "      <td>0.479106</td>\n",
              "    </tr>\n",
              "    <tr>\n",
              "      <th>3</th>\n",
              "      <td>thought killing week years decide hurting family truely feel life useless piece shit make love happy works die kill stones longer</td>\n",
              "      <td>-100</td>\n",
              "      <td>Severe Risk</td>\n",
              "      <td>Severe Risk</td>\n",
              "      <td>0.483577</td>\n",
              "    </tr>\n",
              "    <tr>\n",
              "      <th>4</th>\n",
              "      <td>start trained crisis suicide intervention tricks trade people jackass skip formalities write thoughts people intervention steps urgent danger plan haven items intent kill share emerging suicidal thoughts stranger doesn good stuff pathetic piece shit unreal don deserve live killed world place bet parents sister cry bit pretty fast brother show funeral boyfriend sad find deserves mention big piece shit suicide outlet action plan frequent ve decided pills park worry fragile person find dead traumatized life don family members find drive mother chemo brother sister swear didn cancer dead kill fucked don fool thinking care mother good person nope total piece shit don deserve happiness don deserve deserve die pissed kill horrible car accident happened wasn fault killed didn horribly traumatize driver car pretty didn post wrong place</td>\n",
              "      <td>-100</td>\n",
              "      <td>Low Risk</td>\n",
              "      <td>Severe Risk</td>\n",
              "      <td>2.525621</td>\n",
              "    </tr>\n",
              "  </tbody>\n",
              "</table>\n",
              "</div>\n",
              "      <button class=\"colab-df-convert\" onclick=\"convertToInteractive('df-d01726b8-19b4-419c-afcc-d7f2e71ba25e')\"\n",
              "              title=\"Convert this dataframe to an interactive table.\"\n",
              "              style=\"display:none;\">\n",
              "        \n",
              "  <svg xmlns=\"http://www.w3.org/2000/svg\" height=\"24px\"viewBox=\"0 0 24 24\"\n",
              "       width=\"24px\">\n",
              "    <path d=\"M0 0h24v24H0V0z\" fill=\"none\"/>\n",
              "    <path d=\"M18.56 5.44l.94 2.06.94-2.06 2.06-.94-2.06-.94-.94-2.06-.94 2.06-2.06.94zm-11 1L8.5 8.5l.94-2.06 2.06-.94-2.06-.94L8.5 2.5l-.94 2.06-2.06.94zm10 10l.94 2.06.94-2.06 2.06-.94-2.06-.94-.94-2.06-.94 2.06-2.06.94z\"/><path d=\"M17.41 7.96l-1.37-1.37c-.4-.4-.92-.59-1.43-.59-.52 0-1.04.2-1.43.59L10.3 9.45l-7.72 7.72c-.78.78-.78 2.05 0 2.83L4 21.41c.39.39.9.59 1.41.59.51 0 1.02-.2 1.41-.59l7.78-7.78 2.81-2.81c.8-.78.8-2.07 0-2.86zM5.41 20L4 18.59l7.72-7.72 1.47 1.35L5.41 20z\"/>\n",
              "  </svg>\n",
              "      </button>\n",
              "      \n",
              "  <style>\n",
              "    .colab-df-container {\n",
              "      display:flex;\n",
              "      flex-wrap:wrap;\n",
              "      gap: 12px;\n",
              "    }\n",
              "\n",
              "    .colab-df-convert {\n",
              "      background-color: #E8F0FE;\n",
              "      border: none;\n",
              "      border-radius: 50%;\n",
              "      cursor: pointer;\n",
              "      display: none;\n",
              "      fill: #1967D2;\n",
              "      height: 32px;\n",
              "      padding: 0 0 0 0;\n",
              "      width: 32px;\n",
              "    }\n",
              "\n",
              "    .colab-df-convert:hover {\n",
              "      background-color: #E2EBFA;\n",
              "      box-shadow: 0px 1px 2px rgba(60, 64, 67, 0.3), 0px 1px 3px 1px rgba(60, 64, 67, 0.15);\n",
              "      fill: #174EA6;\n",
              "    }\n",
              "\n",
              "    [theme=dark] .colab-df-convert {\n",
              "      background-color: #3B4455;\n",
              "      fill: #D2E3FC;\n",
              "    }\n",
              "\n",
              "    [theme=dark] .colab-df-convert:hover {\n",
              "      background-color: #434B5C;\n",
              "      box-shadow: 0px 1px 3px 1px rgba(0, 0, 0, 0.15);\n",
              "      filter: drop-shadow(0px 1px 2px rgba(0, 0, 0, 0.3));\n",
              "      fill: #FFFFFF;\n",
              "    }\n",
              "  </style>\n",
              "\n",
              "      <script>\n",
              "        const buttonEl =\n",
              "          document.querySelector('#df-d01726b8-19b4-419c-afcc-d7f2e71ba25e button.colab-df-convert');\n",
              "        buttonEl.style.display =\n",
              "          google.colab.kernel.accessAllowed ? 'block' : 'none';\n",
              "\n",
              "        async function convertToInteractive(key) {\n",
              "          const element = document.querySelector('#df-d01726b8-19b4-419c-afcc-d7f2e71ba25e');\n",
              "          const dataTable =\n",
              "            await google.colab.kernel.invokeFunction('convertToInteractive',\n",
              "                                                     [key], {});\n",
              "          if (!dataTable) return;\n",
              "\n",
              "          const docLinkHtml = 'Like what you see? Visit the ' +\n",
              "            '<a target=\"_blank\" href=https://colab.research.google.com/notebooks/data_table.ipynb>data table notebook</a>'\n",
              "            + ' to learn more about interactive tables.';\n",
              "          element.innerHTML = '';\n",
              "          dataTable['output_type'] = 'display_data';\n",
              "          await google.colab.output.renderOutput(dataTable, element);\n",
              "          const docLink = document.createElement('div');\n",
              "          docLink.innerHTML = docLinkHtml;\n",
              "          element.appendChild(docLink);\n",
              "        }\n",
              "      </script>\n",
              "    </div>\n",
              "  </div>\n",
              "  "
            ],
            "text/plain": [
              "                                                                                                                                                                                                                                                                                                                                                                                                                                                                                                                                                                                                                                                                                                                                                                                                                                                                    sent1  \\\n",
              "0                                                                                                                                                                                                                                                                                                                                                                                                                                                                                                                                                                                                                        haven felt years jsut deal anymore absolutely closest friend doesn anymore thinks boyfriend cheating methe guy doesn talk anymore dfucking boring crazy nt nt care knowi iti die nt anymore wash oit wine liquor cover smile donei ca nt anymore   \n",
              "1                                                                                                                                                                                                                                                                                   months cousin told doesn live anymore made pact birthday happy kill birthday tomorrow ve thing stayed night talking nights texted week sitting van rope ready girlfriend contacted goodbye message scared person talk talk managed home sleep ringing dad ringing suicide line rang speak cliff area days ago sat hours contemplating jumping sat person change mind doesn feel change mind ve begged doctors faith ve begged speak dad scared losing scared turning family upside scared break uncle aunties heart terrified live guilt hope doesn guess needed speak mind strangers   \n",
              "2                                                                                                                                                                                                                                                                                                                                                                                                                                                                                                                                 past months ve talking guy school ve talked lot time hinting depression night told contemplating suicide cut wrists told counselor school convinced put thinking suicide side time frightened don ve dependency issues feels built tough outer shell horrible thing past ve year call school acts happy convincingly make worse helping   \n",
              "3                                                                                                                                                                                                                                                                                                                                                                                                                                                                                                                                                                                                                                                                                                                                       thought killing week years decide hurting family truely feel life useless piece shit make love happy works die kill stones longer   \n",
              "4  start trained crisis suicide intervention tricks trade people jackass skip formalities write thoughts people intervention steps urgent danger plan haven items intent kill share emerging suicidal thoughts stranger doesn good stuff pathetic piece shit unreal don deserve live killed world place bet parents sister cry bit pretty fast brother show funeral boyfriend sad find deserves mention big piece shit suicide outlet action plan frequent ve decided pills park worry fragile person find dead traumatized life don family members find drive mother chemo brother sister swear didn cancer dead kill fucked don fool thinking care mother good person nope total piece shit don deserve happiness don deserve deserve die pissed kill horrible car accident happened wasn fault killed didn horribly traumatize driver car pretty didn post wrong place   \n",
              "\n",
              "  sent2        label  pred_labels  batch_loss  \n",
              "0  -100  Severe Risk  Severe Risk    0.434678  \n",
              "1  -100  Severe Risk      No Risk    1.677534  \n",
              "2  -100      No Risk      No Risk    0.479106  \n",
              "3  -100  Severe Risk  Severe Risk    0.483577  \n",
              "4  -100     Low Risk  Severe Risk    2.525621  "
            ]
          },
          "execution_count": 70,
          "metadata": {},
          "output_type": "execute_result"
        }
      ],
      "source": [
        "df_test.head()"
      ]
    },
    {
      "cell_type": "code",
      "execution_count": 71,
      "metadata": {
        "colab": {
          "base_uri": "https://localhost:8080/"
        },
        "id": "SL8RbMNglrkb",
        "outputId": "66dcaf7a-6f3b-439e-87ad-c8c8aa00a70c"
      },
      "outputs": [
        {
          "data": {
            "text/plain": [
              "(47, 5)"
            ]
          },
          "execution_count": 71,
          "metadata": {},
          "output_type": "execute_result"
        }
      ],
      "source": [
        "df_test.query('label!=pred_labels').shape"
      ]
    },
    {
      "cell_type": "code",
      "execution_count": 74,
      "metadata": {
        "colab": {
          "base_uri": "https://localhost:8080/",
          "height": 1000
        },
        "id": "ZuaGegOjnC5H",
        "outputId": "2e1d6f23-5ad0-4414-d6ca-924b9fd4973f"
      },
      "outputs": [
        {
          "data": {
            "text/html": [
              "\n",
              "  <div id=\"df-9de97dec-6a36-4f79-bf5e-0b36c46da1c3\">\n",
              "    <div class=\"colab-df-container\">\n",
              "      <div>\n",
              "<style scoped>\n",
              "    .dataframe tbody tr th:only-of-type {\n",
              "        vertical-align: middle;\n",
              "    }\n",
              "\n",
              "    .dataframe tbody tr th {\n",
              "        vertical-align: top;\n",
              "    }\n",
              "\n",
              "    .dataframe thead th {\n",
              "        text-align: right;\n",
              "    }\n",
              "</style>\n",
              "<table border=\"1\" class=\"dataframe\">\n",
              "  <thead>\n",
              "    <tr style=\"text-align: right;\">\n",
              "      <th></th>\n",
              "      <th>sent1</th>\n",
              "      <th>sent2</th>\n",
              "      <th>label</th>\n",
              "      <th>pred_labels</th>\n",
              "      <th>batch_loss</th>\n",
              "    </tr>\n",
              "  </thead>\n",
              "  <tbody>\n",
              "    <tr>\n",
              "      <th>9</th>\n",
              "      <td>year australia marks grades substantially fault dread study nowadays deliberately put revision lazy piece shit recently english task purely hate english burning passion compulsory subject school parents found don feel lazy improve year undergo hsc big exam year end time high school putting friends year preparing told essays space days hearing made freak knowing ll push work time year main thing school making feel suicidal social aspect moment workload don spend time studying subjects english parents forced advanced english constantly listen feel killing life busy time don hsc year prevent good university degree ends job money worst fear fear support future lazy shit haven planned ending thought year makes tl dr school work english subject future life makes killing</td>\n",
              "      <td>-100</td>\n",
              "      <td>Moderate Risk</td>\n",
              "      <td>Severe Risk</td>\n",
              "      <td>1.414802</td>\n",
              "    </tr>\n",
              "    <tr>\n",
              "      <th>10</th>\n",
              "      <td>depression spell light happened customer work week url female socially anxious ve struggled long time social anxiety depression poor social skills ve assertive person situation store week highlighted weaknesses exposed fact dealing people standing don feel crying ve entertaining suicidal thoughts tempting hate guy thought showed signs recently changed past appearance ugly insides face body inside disappoint worth don blame guy liking anymore grappled feelings advice leave reply message loss</td>\n",
              "      <td>-100</td>\n",
              "      <td>Moderate Risk</td>\n",
              "      <td>No Risk</td>\n",
              "      <td>1.661113</td>\n",
              "    </tr>\n",
              "    <tr>\n",
              "      <th>17</th>\n",
              "      <td>ve conclusion fucking loser ve anger issues weight concious stuck horrible girlfriend bullshit cutting money wise fucking explain accused cheating fuck shit work meaningless fucking job sales rep verizon store computer car owe money guns sickens thinking honestly ve worse part shit bad desire damn thing hell nt wanna end good shitty person ve put long year dream positive future nt happening reddit entertain passive agressive sociopath</td>\n",
              "      <td>-100</td>\n",
              "      <td>Moderate Risk</td>\n",
              "      <td>Severe Risk</td>\n",
              "      <td>1.445659</td>\n",
              "    </tr>\n",
              "    <tr>\n",
              "      <th>18</th>\n",
              "      <td>time thought friends thought family thought school wrong wrong asshole asshole words make sense asshole nt anymore sat day day girlfriend broke gave advice nt talking spend nights crying slapped made feel mind risk job cheer buy favorite snack voltage mountain person watermelon sour patch kids person hell bought plan shit fuck boyfriend nt support found pregnant acted cared sentences people call friends heartbreak gave advice needed turned fault parents fight divorce imminent failing school puts stress friends fall support wait letting place matter work easily replaceable point nt everytime text feel stop guys nt pretend care stop making risk neck ca nt spend fucking lunch break leave sit car cry school everyday everyfuckingday feel anger hatred sorrow matter fuck guys making feel fuck making feel died tomorrow notice ended hospital stay find bottle vodka freezer stand roof hope nt broken bones checking find dads gun nice experience shot angry everytime smile break skull wall physically hurt unbearable asshole sensitive give fuck year post calling jump slit wrists till bleed tie noose possibilities deserve spend life suffering asshole nt deserve quickly person person person jesse emmalee ca nt longer ca nt tired feeling friend nt bullet puts misery guys hard asshole group guys care</td>\n",
              "      <td>-100</td>\n",
              "      <td>Moderate Risk</td>\n",
              "      <td>Severe Risk</td>\n",
              "      <td>1.551612</td>\n",
              "    </tr>\n",
              "    <tr>\n",
              "      <th>30</th>\n",
              "      <td>yofi ve trouble suicidal thoughts depression part life long remember grew toxic environment abusive father mother protected moved college raped bf years pushed edge psych ward received counseling started medication depression wasn bad incessant thoughts ending life finally stopped time years literally thought day years moved back home place living increased rent find work pay difference cleaned dump basement turned apartment curtain walls things guess dad violent rarely home semesters year depression coming back general don bed morning feeling sucked joy fun cared days ago thoughts back haven considered killing past year half thoughts head broken record brain playing tl dr depression meds therapy rid suicidal thoughts back moved back home ranting life</td>\n",
              "      <td>back missing month school skip class time turned act semester sick week death family week running goodwill clothing drive caused miss exams asked profs make contacted late asked tons questions didn earlier didn turn random assignment weeks ago judgmental eye understand questions decided make test explain don year anniversary bf tomorrow test hour drilling questions don things finally walk campus days flashbacks longest time flashback raping time guy looked finally broke left abusive relationship stayed school managed continue passing classes moderate severe depression turned attendance extenuating circumstances couldn class weeks row nervous anxious ounce courage make ve overcome endure questions missed petty assignment weeks ago absent couple classes feel ve overcome life ll stick anniversary bf hold</td>\n",
              "      <td>Moderate Risk</td>\n",
              "      <td>Severe Risk</td>\n",
              "      <td>1.492312</td>\n",
              "    </tr>\n",
              "  </tbody>\n",
              "</table>\n",
              "</div>\n",
              "      <button class=\"colab-df-convert\" onclick=\"convertToInteractive('df-9de97dec-6a36-4f79-bf5e-0b36c46da1c3')\"\n",
              "              title=\"Convert this dataframe to an interactive table.\"\n",
              "              style=\"display:none;\">\n",
              "        \n",
              "  <svg xmlns=\"http://www.w3.org/2000/svg\" height=\"24px\"viewBox=\"0 0 24 24\"\n",
              "       width=\"24px\">\n",
              "    <path d=\"M0 0h24v24H0V0z\" fill=\"none\"/>\n",
              "    <path d=\"M18.56 5.44l.94 2.06.94-2.06 2.06-.94-2.06-.94-.94-2.06-.94 2.06-2.06.94zm-11 1L8.5 8.5l.94-2.06 2.06-.94-2.06-.94L8.5 2.5l-.94 2.06-2.06.94zm10 10l.94 2.06.94-2.06 2.06-.94-2.06-.94-.94-2.06-.94 2.06-2.06.94z\"/><path d=\"M17.41 7.96l-1.37-1.37c-.4-.4-.92-.59-1.43-.59-.52 0-1.04.2-1.43.59L10.3 9.45l-7.72 7.72c-.78.78-.78 2.05 0 2.83L4 21.41c.39.39.9.59 1.41.59.51 0 1.02-.2 1.41-.59l7.78-7.78 2.81-2.81c.8-.78.8-2.07 0-2.86zM5.41 20L4 18.59l7.72-7.72 1.47 1.35L5.41 20z\"/>\n",
              "  </svg>\n",
              "      </button>\n",
              "      \n",
              "  <style>\n",
              "    .colab-df-container {\n",
              "      display:flex;\n",
              "      flex-wrap:wrap;\n",
              "      gap: 12px;\n",
              "    }\n",
              "\n",
              "    .colab-df-convert {\n",
              "      background-color: #E8F0FE;\n",
              "      border: none;\n",
              "      border-radius: 50%;\n",
              "      cursor: pointer;\n",
              "      display: none;\n",
              "      fill: #1967D2;\n",
              "      height: 32px;\n",
              "      padding: 0 0 0 0;\n",
              "      width: 32px;\n",
              "    }\n",
              "\n",
              "    .colab-df-convert:hover {\n",
              "      background-color: #E2EBFA;\n",
              "      box-shadow: 0px 1px 2px rgba(60, 64, 67, 0.3), 0px 1px 3px 1px rgba(60, 64, 67, 0.15);\n",
              "      fill: #174EA6;\n",
              "    }\n",
              "\n",
              "    [theme=dark] .colab-df-convert {\n",
              "      background-color: #3B4455;\n",
              "      fill: #D2E3FC;\n",
              "    }\n",
              "\n",
              "    [theme=dark] .colab-df-convert:hover {\n",
              "      background-color: #434B5C;\n",
              "      box-shadow: 0px 1px 3px 1px rgba(0, 0, 0, 0.15);\n",
              "      filter: drop-shadow(0px 1px 2px rgba(0, 0, 0, 0.3));\n",
              "      fill: #FFFFFF;\n",
              "    }\n",
              "  </style>\n",
              "\n",
              "      <script>\n",
              "        const buttonEl =\n",
              "          document.querySelector('#df-9de97dec-6a36-4f79-bf5e-0b36c46da1c3 button.colab-df-convert');\n",
              "        buttonEl.style.display =\n",
              "          google.colab.kernel.accessAllowed ? 'block' : 'none';\n",
              "\n",
              "        async function convertToInteractive(key) {\n",
              "          const element = document.querySelector('#df-9de97dec-6a36-4f79-bf5e-0b36c46da1c3');\n",
              "          const dataTable =\n",
              "            await google.colab.kernel.invokeFunction('convertToInteractive',\n",
              "                                                     [key], {});\n",
              "          if (!dataTable) return;\n",
              "\n",
              "          const docLinkHtml = 'Like what you see? Visit the ' +\n",
              "            '<a target=\"_blank\" href=https://colab.research.google.com/notebooks/data_table.ipynb>data table notebook</a>'\n",
              "            + ' to learn more about interactive tables.';\n",
              "          element.innerHTML = '';\n",
              "          dataTable['output_type'] = 'display_data';\n",
              "          await google.colab.output.renderOutput(dataTable, element);\n",
              "          const docLink = document.createElement('div');\n",
              "          docLink.innerHTML = docLinkHtml;\n",
              "          element.appendChild(docLink);\n",
              "        }\n",
              "      </script>\n",
              "    </div>\n",
              "  </div>\n",
              "  "
            ],
            "text/plain": [
              "                                                                                                                                                                                                                                                                                                                                                                                                                                                                                                                                                                                                                                                                                                                                                                                                                                                                                                                                                                                                                                                                                                                                                                                                                                                                                                                                                     sent1  \\\n",
              "9                                                                                                                                                                                                                                                                                                                                                                                                                                                                                                                                                   year australia marks grades substantially fault dread study nowadays deliberately put revision lazy piece shit recently english task purely hate english burning passion compulsory subject school parents found don feel lazy improve year undergo hsc big exam year end time high school putting friends year preparing told essays space days hearing made freak knowing ll push work time year main thing school making feel suicidal social aspect moment workload don spend time studying subjects english parents forced advanced english constantly listen feel killing life busy time don hsc year prevent good university degree ends job money worst fear fear support future lazy shit haven planned ending thought year makes tl dr school work english subject future life makes killing   \n",
              "10                                                                                                                                                                                                                                                                                                                                                                                                                                                                                                                                                                                                                                                                                                                                                                                                                                         depression spell light happened customer work week url female socially anxious ve struggled long time social anxiety depression poor social skills ve assertive person situation store week highlighted weaknesses exposed fact dealing people standing don feel crying ve entertaining suicidal thoughts tempting hate guy thought showed signs recently changed past appearance ugly insides face body inside disappoint worth don blame guy liking anymore grappled feelings advice leave reply message loss   \n",
              "17                                                                                                                                                                                                                                                                                                                                                                                                                                                                                                                                                                                                                                                                                                                                                                                                                                                                                                  ve conclusion fucking loser ve anger issues weight concious stuck horrible girlfriend bullshit cutting money wise fucking explain accused cheating fuck shit work meaningless fucking job sales rep verizon store computer car owe money guns sickens thinking honestly ve worse part shit bad desire damn thing hell nt wanna end good shitty person ve put long year dream positive future nt happening reddit entertain passive agressive sociopath   \n",
              "18  time thought friends thought family thought school wrong wrong asshole asshole words make sense asshole nt anymore sat day day girlfriend broke gave advice nt talking spend nights crying slapped made feel mind risk job cheer buy favorite snack voltage mountain person watermelon sour patch kids person hell bought plan shit fuck boyfriend nt support found pregnant acted cared sentences people call friends heartbreak gave advice needed turned fault parents fight divorce imminent failing school puts stress friends fall support wait letting place matter work easily replaceable point nt everytime text feel stop guys nt pretend care stop making risk neck ca nt spend fucking lunch break leave sit car cry school everyday everyfuckingday feel anger hatred sorrow matter fuck guys making feel fuck making feel died tomorrow notice ended hospital stay find bottle vodka freezer stand roof hope nt broken bones checking find dads gun nice experience shot angry everytime smile break skull wall physically hurt unbearable asshole sensitive give fuck year post calling jump slit wrists till bleed tie noose possibilities deserve spend life suffering asshole nt deserve quickly person person person jesse emmalee ca nt longer ca nt tired feeling friend nt bullet puts misery guys hard asshole group guys care   \n",
              "30                                                                                                                                                                                                                                                                                                                                                                                                                                                                                                                                                               yofi ve trouble suicidal thoughts depression part life long remember grew toxic environment abusive father mother protected moved college raped bf years pushed edge psych ward received counseling started medication depression wasn bad incessant thoughts ending life finally stopped time years literally thought day years moved back home place living increased rent find work pay difference cleaned dump basement turned apartment curtain walls things guess dad violent rarely home semesters year depression coming back general don bed morning feeling sucked joy fun cared days ago thoughts back haven considered killing past year half thoughts head broken record brain playing tl dr depression meds therapy rid suicidal thoughts back moved back home ranting life   \n",
              "\n",
              "                                                                                                                                                                                                                                                                                                                                                                                                                                                                                                                                                                                                                                                                                                                                                                                                                                           sent2  \\\n",
              "9                                                                                                                                                                                                                                                                                                                                                                                                                                                                                                                                                                                                                                                                                                                                                                                                                                           -100   \n",
              "10                                                                                                                                                                                                                                                                                                                                                                                                                                                                                                                                                                                                                                                                                                                                                                                                                                          -100   \n",
              "17                                                                                                                                                                                                                                                                                                                                                                                                                                                                                                                                                                                                                                                                                                                                                                                                                                          -100   \n",
              "18                                                                                                                                                                                                                                                                                                                                                                                                                                                                                                                                                                                                                                                                                                                                                                                                                                          -100   \n",
              "30  back missing month school skip class time turned act semester sick week death family week running goodwill clothing drive caused miss exams asked profs make contacted late asked tons questions didn earlier didn turn random assignment weeks ago judgmental eye understand questions decided make test explain don year anniversary bf tomorrow test hour drilling questions don things finally walk campus days flashbacks longest time flashback raping time guy looked finally broke left abusive relationship stayed school managed continue passing classes moderate severe depression turned attendance extenuating circumstances couldn class weeks row nervous anxious ounce courage make ve overcome endure questions missed petty assignment weeks ago absent couple classes feel ve overcome life ll stick anniversary bf hold   \n",
              "\n",
              "            label  pred_labels  batch_loss  \n",
              "9   Moderate Risk  Severe Risk    1.414802  \n",
              "10  Moderate Risk      No Risk    1.661113  \n",
              "17  Moderate Risk  Severe Risk    1.445659  \n",
              "18  Moderate Risk  Severe Risk    1.551612  \n",
              "30  Moderate Risk  Severe Risk    1.492312  "
            ]
          },
          "execution_count": 74,
          "metadata": {},
          "output_type": "execute_result"
        }
      ],
      "source": [
        "df_test.query(\"label=='Moderate Risk'\").head()"
      ]
    },
    {
      "cell_type": "code",
      "execution_count": 73,
      "metadata": {
        "colab": {
          "base_uri": "https://localhost:8080/"
        },
        "id": "Fh7k3LRUnTT3",
        "outputId": "10244b4c-ded0-43a2-9a66-588ca5d86858"
      },
      "outputs": [
        {
          "data": {
            "text/plain": [
              "(0, 5)"
            ]
          },
          "execution_count": 73,
          "metadata": {},
          "output_type": "execute_result"
        }
      ],
      "source": [
        "df_test.query(\"label=='Severe Risk' & pred_labels=='Moderate Risk'\").shape"
      ]
    },
    {
      "cell_type": "code",
      "execution_count": 72,
      "metadata": {
        "colab": {
          "base_uri": "https://localhost:8080/"
        },
        "id": "5xLs-uFQ48Gh",
        "outputId": "88621c3c-9d66-4d0a-cd0a-d997fa8fde1f"
      },
      "outputs": [
        {
          "data": {
            "text/plain": [
              "(18, 5)"
            ]
          },
          "execution_count": 72,
          "metadata": {},
          "output_type": "execute_result"
        }
      ],
      "source": [
        "df_test.query(\"label=='Moderate Risk' & pred_labels=='Severe Risk'\").shape"
      ]
    }
  ],
  "metadata": {
    "accelerator": "GPU",
    "colab": {
      "authorship_tag": "ABX9TyOalpx2ptdw4d37fO9zLrke",
      "collapsed_sections": [],
      "include_colab_link": true,
      "name": "suicide_risk_prediction_exp2.ipynb",
      "provenance": []
    },
    "gpuClass": "standard",
    "kernelspec": {
      "display_name": "Python 3",
      "name": "python3"
    },
    "language_info": {
      "name": "python"
    },
    "widgets": {
      "application/vnd.jupyter.widget-state+json": {
        "0697167dee5a4d59b97ab9c58067910c": {
          "model_module": "@jupyter-widgets/controls",
          "model_module_version": "1.5.0",
          "model_name": "DescriptionStyleModel",
          "state": {
            "_model_module": "@jupyter-widgets/controls",
            "_model_module_version": "1.5.0",
            "_model_name": "DescriptionStyleModel",
            "_view_count": null,
            "_view_module": "@jupyter-widgets/base",
            "_view_module_version": "1.2.0",
            "_view_name": "StyleView",
            "description_width": ""
          }
        },
        "06e3e14aff484da092a018e042099c0b": {
          "model_module": "@jupyter-widgets/controls",
          "model_module_version": "1.5.0",
          "model_name": "HTMLModel",
          "state": {
            "_dom_classes": [],
            "_model_module": "@jupyter-widgets/controls",
            "_model_module_version": "1.5.0",
            "_model_name": "HTMLModel",
            "_view_count": null,
            "_view_module": "@jupyter-widgets/controls",
            "_view_module_version": "1.5.0",
            "_view_name": "HTMLView",
            "description": "",
            "description_tooltip": null,
            "layout": "IPY_MODEL_cc3d07cae00a4e96ba5198285818e275",
            "placeholder": "​",
            "style": "IPY_MODEL_c973f52c69b84c5eb9770be25eab45de",
            "value": " 2/2 [00:00&lt;00:00, 41.89it/s]"
          }
        },
        "085daa4f4fb74e55b4500a454474d0ec": {
          "model_module": "@jupyter-widgets/controls",
          "model_module_version": "1.5.0",
          "model_name": "DescriptionStyleModel",
          "state": {
            "_model_module": "@jupyter-widgets/controls",
            "_model_module_version": "1.5.0",
            "_model_name": "DescriptionStyleModel",
            "_view_count": null,
            "_view_module": "@jupyter-widgets/base",
            "_view_module_version": "1.2.0",
            "_view_name": "StyleView",
            "description_width": ""
          }
        },
        "0b11acb371cd4be4854011f7898a0707": {
          "model_module": "@jupyter-widgets/controls",
          "model_module_version": "1.5.0",
          "model_name": "DescriptionStyleModel",
          "state": {
            "_model_module": "@jupyter-widgets/controls",
            "_model_module_version": "1.5.0",
            "_model_name": "DescriptionStyleModel",
            "_view_count": null,
            "_view_module": "@jupyter-widgets/base",
            "_view_module_version": "1.2.0",
            "_view_name": "StyleView",
            "description_width": ""
          }
        },
        "0e51a92b2bc4479f9b2a127ddf2862c7": {
          "model_module": "@jupyter-widgets/controls",
          "model_module_version": "1.5.0",
          "model_name": "DescriptionStyleModel",
          "state": {
            "_model_module": "@jupyter-widgets/controls",
            "_model_module_version": "1.5.0",
            "_model_name": "DescriptionStyleModel",
            "_view_count": null,
            "_view_module": "@jupyter-widgets/base",
            "_view_module_version": "1.2.0",
            "_view_name": "StyleView",
            "description_width": ""
          }
        },
        "0f033b6f614145c396d036f040f9fffd": {
          "model_module": "@jupyter-widgets/controls",
          "model_module_version": "1.5.0",
          "model_name": "ProgressStyleModel",
          "state": {
            "_model_module": "@jupyter-widgets/controls",
            "_model_module_version": "1.5.0",
            "_model_name": "ProgressStyleModel",
            "_view_count": null,
            "_view_module": "@jupyter-widgets/base",
            "_view_module_version": "1.2.0",
            "_view_name": "StyleView",
            "bar_color": null,
            "description_width": ""
          }
        },
        "0fb7a89de5a04bc6b7f32b43b61f52b6": {
          "model_module": "@jupyter-widgets/controls",
          "model_module_version": "1.5.0",
          "model_name": "HTMLModel",
          "state": {
            "_dom_classes": [],
            "_model_module": "@jupyter-widgets/controls",
            "_model_module_version": "1.5.0",
            "_model_name": "HTMLModel",
            "_view_count": null,
            "_view_module": "@jupyter-widgets/controls",
            "_view_module_version": "1.5.0",
            "_view_name": "HTMLView",
            "description": "",
            "description_tooltip": null,
            "layout": "IPY_MODEL_77f8fb145fb64267997737241a742ff7",
            "placeholder": "​",
            "style": "IPY_MODEL_b70ae1bb76834e3fa60ed7d2e596218a",
            "value": "100%"
          }
        },
        "1177257137684bd0ab994cc8e7be81f4": {
          "model_module": "@jupyter-widgets/controls",
          "model_module_version": "1.5.0",
          "model_name": "FloatProgressModel",
          "state": {
            "_dom_classes": [],
            "_model_module": "@jupyter-widgets/controls",
            "_model_module_version": "1.5.0",
            "_model_name": "FloatProgressModel",
            "_view_count": null,
            "_view_module": "@jupyter-widgets/controls",
            "_view_module_version": "1.5.0",
            "_view_name": "ProgressView",
            "bar_style": "success",
            "description": "",
            "description_tooltip": null,
            "layout": "IPY_MODEL_f0ca73ace8eb4ed2843bd688d0d9f4c3",
            "max": 2,
            "min": 0,
            "orientation": "horizontal",
            "style": "IPY_MODEL_1ccd685b39fb422d93bfa0c6f1a39334",
            "value": 2
          }
        },
        "17bc42c5d66e47989ad8e585b4d17ee6": {
          "model_module": "@jupyter-widgets/controls",
          "model_module_version": "1.5.0",
          "model_name": "FloatProgressModel",
          "state": {
            "_dom_classes": [],
            "_model_module": "@jupyter-widgets/controls",
            "_model_module_version": "1.5.0",
            "_model_name": "FloatProgressModel",
            "_view_count": null,
            "_view_module": "@jupyter-widgets/controls",
            "_view_module_version": "1.5.0",
            "_view_name": "ProgressView",
            "bar_style": "success",
            "description": "",
            "description_tooltip": null,
            "layout": "IPY_MODEL_c4317dbaae924beb95c8a58fca4d39bf",
            "max": 501200538,
            "min": 0,
            "orientation": "horizontal",
            "style": "IPY_MODEL_c274404d0fe94bb7beec87f423011425",
            "value": 501200538
          }
        },
        "18eac079373f45a6943e53b39dc03a5d": {
          "model_module": "@jupyter-widgets/controls",
          "model_module_version": "1.5.0",
          "model_name": "ProgressStyleModel",
          "state": {
            "_model_module": "@jupyter-widgets/controls",
            "_model_module_version": "1.5.0",
            "_model_name": "ProgressStyleModel",
            "_view_count": null,
            "_view_module": "@jupyter-widgets/base",
            "_view_module_version": "1.2.0",
            "_view_name": "StyleView",
            "bar_color": null,
            "description_width": ""
          }
        },
        "1ace7f22d8324e8f8f25c327405cca4c": {
          "model_module": "@jupyter-widgets/controls",
          "model_module_version": "1.5.0",
          "model_name": "ProgressStyleModel",
          "state": {
            "_model_module": "@jupyter-widgets/controls",
            "_model_module_version": "1.5.0",
            "_model_name": "ProgressStyleModel",
            "_view_count": null,
            "_view_module": "@jupyter-widgets/base",
            "_view_module_version": "1.2.0",
            "_view_name": "StyleView",
            "bar_color": null,
            "description_width": ""
          }
        },
        "1b43aa271af04ac3a5316bbaee2f9635": {
          "model_module": "@jupyter-widgets/controls",
          "model_module_version": "1.5.0",
          "model_name": "HTMLModel",
          "state": {
            "_dom_classes": [],
            "_model_module": "@jupyter-widgets/controls",
            "_model_module_version": "1.5.0",
            "_model_name": "HTMLModel",
            "_view_count": null,
            "_view_module": "@jupyter-widgets/controls",
            "_view_module_version": "1.5.0",
            "_view_name": "HTMLView",
            "description": "",
            "description_tooltip": null,
            "layout": "IPY_MODEL_3f99181bd8b34eee95a01c9d72d1f2fb",
            "placeholder": "​",
            "style": "IPY_MODEL_4c68b26271a74de7a597ca71a2d5535d",
            "value": " 446k/446k [00:00&lt;00:00, 649kB/s]"
          }
        },
        "1ccd685b39fb422d93bfa0c6f1a39334": {
          "model_module": "@jupyter-widgets/controls",
          "model_module_version": "1.5.0",
          "model_name": "ProgressStyleModel",
          "state": {
            "_model_module": "@jupyter-widgets/controls",
            "_model_module_version": "1.5.0",
            "_model_name": "ProgressStyleModel",
            "_view_count": null,
            "_view_module": "@jupyter-widgets/base",
            "_view_module_version": "1.2.0",
            "_view_name": "StyleView",
            "bar_color": null,
            "description_width": ""
          }
        },
        "1dd23656de98421aa74584b9cdf44af0": {
          "model_module": "@jupyter-widgets/controls",
          "model_module_version": "1.5.0",
          "model_name": "HBoxModel",
          "state": {
            "_dom_classes": [],
            "_model_module": "@jupyter-widgets/controls",
            "_model_module_version": "1.5.0",
            "_model_name": "HBoxModel",
            "_view_count": null,
            "_view_module": "@jupyter-widgets/controls",
            "_view_module_version": "1.5.0",
            "_view_name": "HBoxView",
            "box_style": "",
            "children": [
              "IPY_MODEL_d2411397d8a54aaf947ff9e6d7851ddc",
              "IPY_MODEL_412e03aca3b94d5b9861f507a43100fe",
              "IPY_MODEL_3a3f01b3b36b49e6a5e1d1ccdc126f99"
            ],
            "layout": "IPY_MODEL_66ac041c630f4aa0b2df800ab4ee9f7a"
          }
        },
        "1eb85186b96042c987d78d32a177c47c": {
          "model_module": "@jupyter-widgets/base",
          "model_module_version": "1.2.0",
          "model_name": "LayoutModel",
          "state": {
            "_model_module": "@jupyter-widgets/base",
            "_model_module_version": "1.2.0",
            "_model_name": "LayoutModel",
            "_view_count": null,
            "_view_module": "@jupyter-widgets/base",
            "_view_module_version": "1.2.0",
            "_view_name": "LayoutView",
            "align_content": null,
            "align_items": null,
            "align_self": null,
            "border": null,
            "bottom": null,
            "display": null,
            "flex": null,
            "flex_flow": null,
            "grid_area": null,
            "grid_auto_columns": null,
            "grid_auto_flow": null,
            "grid_auto_rows": null,
            "grid_column": null,
            "grid_gap": null,
            "grid_row": null,
            "grid_template_areas": null,
            "grid_template_columns": null,
            "grid_template_rows": null,
            "height": null,
            "justify_content": null,
            "justify_items": null,
            "left": null,
            "margin": null,
            "max_height": null,
            "max_width": null,
            "min_height": null,
            "min_width": null,
            "object_fit": null,
            "object_position": null,
            "order": null,
            "overflow": null,
            "overflow_x": null,
            "overflow_y": null,
            "padding": null,
            "right": null,
            "top": null,
            "visibility": null,
            "width": null
          }
        },
        "1fb4a50342244dd69850153a84bb6a8d": {
          "model_module": "@jupyter-widgets/base",
          "model_module_version": "1.2.0",
          "model_name": "LayoutModel",
          "state": {
            "_model_module": "@jupyter-widgets/base",
            "_model_module_version": "1.2.0",
            "_model_name": "LayoutModel",
            "_view_count": null,
            "_view_module": "@jupyter-widgets/base",
            "_view_module_version": "1.2.0",
            "_view_name": "LayoutView",
            "align_content": null,
            "align_items": null,
            "align_self": null,
            "border": null,
            "bottom": null,
            "display": null,
            "flex": null,
            "flex_flow": null,
            "grid_area": null,
            "grid_auto_columns": null,
            "grid_auto_flow": null,
            "grid_auto_rows": null,
            "grid_column": null,
            "grid_gap": null,
            "grid_row": null,
            "grid_template_areas": null,
            "grid_template_columns": null,
            "grid_template_rows": null,
            "height": null,
            "justify_content": null,
            "justify_items": null,
            "left": null,
            "margin": null,
            "max_height": null,
            "max_width": null,
            "min_height": null,
            "min_width": null,
            "object_fit": null,
            "object_position": null,
            "order": null,
            "overflow": null,
            "overflow_x": null,
            "overflow_y": null,
            "padding": null,
            "right": null,
            "top": null,
            "visibility": null,
            "width": null
          }
        },
        "21079b667dcd48489bc32aa6f95a4bae": {
          "model_module": "@jupyter-widgets/controls",
          "model_module_version": "1.5.0",
          "model_name": "DescriptionStyleModel",
          "state": {
            "_model_module": "@jupyter-widgets/controls",
            "_model_module_version": "1.5.0",
            "_model_name": "DescriptionStyleModel",
            "_view_count": null,
            "_view_module": "@jupyter-widgets/base",
            "_view_module_version": "1.2.0",
            "_view_name": "StyleView",
            "description_width": ""
          }
        },
        "2295f66eb6f54b63b94fc4124d6ba2e7": {
          "model_module": "@jupyter-widgets/base",
          "model_module_version": "1.2.0",
          "model_name": "LayoutModel",
          "state": {
            "_model_module": "@jupyter-widgets/base",
            "_model_module_version": "1.2.0",
            "_model_name": "LayoutModel",
            "_view_count": null,
            "_view_module": "@jupyter-widgets/base",
            "_view_module_version": "1.2.0",
            "_view_name": "LayoutView",
            "align_content": null,
            "align_items": null,
            "align_self": null,
            "border": null,
            "bottom": null,
            "display": null,
            "flex": null,
            "flex_flow": null,
            "grid_area": null,
            "grid_auto_columns": null,
            "grid_auto_flow": null,
            "grid_auto_rows": null,
            "grid_column": null,
            "grid_gap": null,
            "grid_row": null,
            "grid_template_areas": null,
            "grid_template_columns": null,
            "grid_template_rows": null,
            "height": null,
            "justify_content": null,
            "justify_items": null,
            "left": null,
            "margin": null,
            "max_height": null,
            "max_width": null,
            "min_height": null,
            "min_width": null,
            "object_fit": null,
            "object_position": null,
            "order": null,
            "overflow": null,
            "overflow_x": null,
            "overflow_y": null,
            "padding": null,
            "right": null,
            "top": null,
            "visibility": null,
            "width": null
          }
        },
        "234f246583564206b89f3396f3c268b4": {
          "model_module": "@jupyter-widgets/base",
          "model_module_version": "1.2.0",
          "model_name": "LayoutModel",
          "state": {
            "_model_module": "@jupyter-widgets/base",
            "_model_module_version": "1.2.0",
            "_model_name": "LayoutModel",
            "_view_count": null,
            "_view_module": "@jupyter-widgets/base",
            "_view_module_version": "1.2.0",
            "_view_name": "LayoutView",
            "align_content": null,
            "align_items": null,
            "align_self": null,
            "border": null,
            "bottom": null,
            "display": null,
            "flex": null,
            "flex_flow": null,
            "grid_area": null,
            "grid_auto_columns": null,
            "grid_auto_flow": null,
            "grid_auto_rows": null,
            "grid_column": null,
            "grid_gap": null,
            "grid_row": null,
            "grid_template_areas": null,
            "grid_template_columns": null,
            "grid_template_rows": null,
            "height": null,
            "justify_content": null,
            "justify_items": null,
            "left": null,
            "margin": null,
            "max_height": null,
            "max_width": null,
            "min_height": null,
            "min_width": null,
            "object_fit": null,
            "object_position": null,
            "order": null,
            "overflow": null,
            "overflow_x": null,
            "overflow_y": null,
            "padding": null,
            "right": null,
            "top": null,
            "visibility": null,
            "width": null
          }
        },
        "29fcf0832fb84fc5870c1026a8030732": {
          "model_module": "@jupyter-widgets/base",
          "model_module_version": "1.2.0",
          "model_name": "LayoutModel",
          "state": {
            "_model_module": "@jupyter-widgets/base",
            "_model_module_version": "1.2.0",
            "_model_name": "LayoutModel",
            "_view_count": null,
            "_view_module": "@jupyter-widgets/base",
            "_view_module_version": "1.2.0",
            "_view_name": "LayoutView",
            "align_content": null,
            "align_items": null,
            "align_self": null,
            "border": null,
            "bottom": null,
            "display": null,
            "flex": null,
            "flex_flow": null,
            "grid_area": null,
            "grid_auto_columns": null,
            "grid_auto_flow": null,
            "grid_auto_rows": null,
            "grid_column": null,
            "grid_gap": null,
            "grid_row": null,
            "grid_template_areas": null,
            "grid_template_columns": null,
            "grid_template_rows": null,
            "height": null,
            "justify_content": null,
            "justify_items": null,
            "left": null,
            "margin": null,
            "max_height": null,
            "max_width": null,
            "min_height": null,
            "min_width": null,
            "object_fit": null,
            "object_position": null,
            "order": null,
            "overflow": null,
            "overflow_x": null,
            "overflow_y": null,
            "padding": null,
            "right": null,
            "top": null,
            "visibility": null,
            "width": null
          }
        },
        "3007823f268e47e4815fb2631c70cc8f": {
          "model_module": "@jupyter-widgets/controls",
          "model_module_version": "1.5.0",
          "model_name": "HBoxModel",
          "state": {
            "_dom_classes": [],
            "_model_module": "@jupyter-widgets/controls",
            "_model_module_version": "1.5.0",
            "_model_name": "HBoxModel",
            "_view_count": null,
            "_view_module": "@jupyter-widgets/controls",
            "_view_module_version": "1.5.0",
            "_view_name": "HBoxView",
            "box_style": "",
            "children": [
              "IPY_MODEL_abaaefd14701411fab68966fc3b925f9",
              "IPY_MODEL_68fc1790106e441eae9039052254bb68",
              "IPY_MODEL_458c13fe09894122bad8b9080cd69e6f"
            ],
            "layout": "IPY_MODEL_3b8f562c983043e39d015bb0e05b7b3a"
          }
        },
        "32641316325e4d03a439af3858b1d7f6": {
          "model_module": "@jupyter-widgets/controls",
          "model_module_version": "1.5.0",
          "model_name": "ProgressStyleModel",
          "state": {
            "_model_module": "@jupyter-widgets/controls",
            "_model_module_version": "1.5.0",
            "_model_name": "ProgressStyleModel",
            "_view_count": null,
            "_view_module": "@jupyter-widgets/base",
            "_view_module_version": "1.2.0",
            "_view_name": "StyleView",
            "bar_color": null,
            "description_width": ""
          }
        },
        "3418907326cf401eb6329a5dbacfac81": {
          "model_module": "@jupyter-widgets/controls",
          "model_module_version": "1.5.0",
          "model_name": "DescriptionStyleModel",
          "state": {
            "_model_module": "@jupyter-widgets/controls",
            "_model_module_version": "1.5.0",
            "_model_name": "DescriptionStyleModel",
            "_view_count": null,
            "_view_module": "@jupyter-widgets/base",
            "_view_module_version": "1.2.0",
            "_view_name": "StyleView",
            "description_width": ""
          }
        },
        "34513ab71c51406b819085f3317217e3": {
          "model_module": "@jupyter-widgets/controls",
          "model_module_version": "1.5.0",
          "model_name": "HTMLModel",
          "state": {
            "_dom_classes": [],
            "_model_module": "@jupyter-widgets/controls",
            "_model_module_version": "1.5.0",
            "_model_name": "HTMLModel",
            "_view_count": null,
            "_view_module": "@jupyter-widgets/controls",
            "_view_module_version": "1.5.0",
            "_view_name": "HTMLView",
            "description": "",
            "description_tooltip": null,
            "layout": "IPY_MODEL_fbb023250e4d4476b294ec473b36377f",
            "placeholder": "​",
            "style": "IPY_MODEL_a797845f02db41708a9487b38b22af71",
            "value": " 878k/878k [00:00&lt;00:00, 1.88MB/s]"
          }
        },
        "36bd07587e8d4796b0dfc881d29be1c7": {
          "model_module": "@jupyter-widgets/base",
          "model_module_version": "1.2.0",
          "model_name": "LayoutModel",
          "state": {
            "_model_module": "@jupyter-widgets/base",
            "_model_module_version": "1.2.0",
            "_model_name": "LayoutModel",
            "_view_count": null,
            "_view_module": "@jupyter-widgets/base",
            "_view_module_version": "1.2.0",
            "_view_name": "LayoutView",
            "align_content": null,
            "align_items": null,
            "align_self": null,
            "border": null,
            "bottom": null,
            "display": null,
            "flex": null,
            "flex_flow": null,
            "grid_area": null,
            "grid_auto_columns": null,
            "grid_auto_flow": null,
            "grid_auto_rows": null,
            "grid_column": null,
            "grid_gap": null,
            "grid_row": null,
            "grid_template_areas": null,
            "grid_template_columns": null,
            "grid_template_rows": null,
            "height": null,
            "justify_content": null,
            "justify_items": null,
            "left": null,
            "margin": null,
            "max_height": null,
            "max_width": null,
            "min_height": null,
            "min_width": null,
            "object_fit": null,
            "object_position": null,
            "order": null,
            "overflow": null,
            "overflow_x": null,
            "overflow_y": null,
            "padding": null,
            "right": null,
            "top": null,
            "visibility": null,
            "width": null
          }
        },
        "36e3a48865da4745b082048cf8e7b7ef": {
          "model_module": "@jupyter-widgets/controls",
          "model_module_version": "1.5.0",
          "model_name": "HBoxModel",
          "state": {
            "_dom_classes": [],
            "_model_module": "@jupyter-widgets/controls",
            "_model_module_version": "1.5.0",
            "_model_name": "HBoxModel",
            "_view_count": null,
            "_view_module": "@jupyter-widgets/controls",
            "_view_module_version": "1.5.0",
            "_view_name": "HBoxView",
            "box_style": "",
            "children": [
              "IPY_MODEL_42bd1304a0574c6fa0f4cd1eb822de3c",
              "IPY_MODEL_e839b8aed5e5417bad590b15098f22db",
              "IPY_MODEL_f4a80f7c5eb24b46b492dbff6631f0da"
            ],
            "layout": "IPY_MODEL_46a5d53e51844aabbfd857ec0dbc5d0a"
          }
        },
        "3924ee6b40a04ce2bbfc06b756cadbd3": {
          "model_module": "@jupyter-widgets/controls",
          "model_module_version": "1.5.0",
          "model_name": "FloatProgressModel",
          "state": {
            "_dom_classes": [],
            "_model_module": "@jupyter-widgets/controls",
            "_model_module_version": "1.5.0",
            "_model_name": "FloatProgressModel",
            "_view_count": null,
            "_view_module": "@jupyter-widgets/controls",
            "_view_module_version": "1.5.0",
            "_view_name": "ProgressView",
            "bar_style": "success",
            "description": "",
            "description_tooltip": null,
            "layout": "IPY_MODEL_a707dc5c546e4c87a348dae960139bbc",
            "max": 898823,
            "min": 0,
            "orientation": "horizontal",
            "style": "IPY_MODEL_83ead7f8cff944c1913ba4b819432c92",
            "value": 898823
          }
        },
        "3988f479bc4943a2bb59a5233d4458a0": {
          "model_module": "@jupyter-widgets/base",
          "model_module_version": "1.2.0",
          "model_name": "LayoutModel",
          "state": {
            "_model_module": "@jupyter-widgets/base",
            "_model_module_version": "1.2.0",
            "_model_name": "LayoutModel",
            "_view_count": null,
            "_view_module": "@jupyter-widgets/base",
            "_view_module_version": "1.2.0",
            "_view_name": "LayoutView",
            "align_content": null,
            "align_items": null,
            "align_self": null,
            "border": null,
            "bottom": null,
            "display": null,
            "flex": null,
            "flex_flow": null,
            "grid_area": null,
            "grid_auto_columns": null,
            "grid_auto_flow": null,
            "grid_auto_rows": null,
            "grid_column": null,
            "grid_gap": null,
            "grid_row": null,
            "grid_template_areas": null,
            "grid_template_columns": null,
            "grid_template_rows": null,
            "height": null,
            "justify_content": null,
            "justify_items": null,
            "left": null,
            "margin": null,
            "max_height": null,
            "max_width": null,
            "min_height": null,
            "min_width": null,
            "object_fit": null,
            "object_position": null,
            "order": null,
            "overflow": null,
            "overflow_x": null,
            "overflow_y": null,
            "padding": null,
            "right": null,
            "top": null,
            "visibility": null,
            "width": null
          }
        },
        "3a3f01b3b36b49e6a5e1d1ccdc126f99": {
          "model_module": "@jupyter-widgets/controls",
          "model_module_version": "1.5.0",
          "model_name": "HTMLModel",
          "state": {
            "_dom_classes": [],
            "_model_module": "@jupyter-widgets/controls",
            "_model_module_version": "1.5.0",
            "_model_name": "HTMLModel",
            "_view_count": null,
            "_view_module": "@jupyter-widgets/controls",
            "_view_module_version": "1.5.0",
            "_view_name": "HTMLView",
            "description": "",
            "description_tooltip": null,
            "layout": "IPY_MODEL_29fcf0832fb84fc5870c1026a8030732",
            "placeholder": "​",
            "style": "IPY_MODEL_e6647f3d034c47cdae964512b1473d39",
            "value": " 1.29M/1.29M [00:00&lt;00:00, 1.90MB/s]"
          }
        },
        "3a9f934e0d0d4137bd06cb205130fd1d": {
          "model_module": "@jupyter-widgets/base",
          "model_module_version": "1.2.0",
          "model_name": "LayoutModel",
          "state": {
            "_model_module": "@jupyter-widgets/base",
            "_model_module_version": "1.2.0",
            "_model_name": "LayoutModel",
            "_view_count": null,
            "_view_module": "@jupyter-widgets/base",
            "_view_module_version": "1.2.0",
            "_view_name": "LayoutView",
            "align_content": null,
            "align_items": null,
            "align_self": null,
            "border": null,
            "bottom": null,
            "display": null,
            "flex": null,
            "flex_flow": null,
            "grid_area": null,
            "grid_auto_columns": null,
            "grid_auto_flow": null,
            "grid_auto_rows": null,
            "grid_column": null,
            "grid_gap": null,
            "grid_row": null,
            "grid_template_areas": null,
            "grid_template_columns": null,
            "grid_template_rows": null,
            "height": null,
            "justify_content": null,
            "justify_items": null,
            "left": null,
            "margin": null,
            "max_height": null,
            "max_width": null,
            "min_height": null,
            "min_width": null,
            "object_fit": null,
            "object_position": null,
            "order": null,
            "overflow": null,
            "overflow_x": null,
            "overflow_y": null,
            "padding": null,
            "right": null,
            "top": null,
            "visibility": null,
            "width": null
          }
        },
        "3b8f562c983043e39d015bb0e05b7b3a": {
          "model_module": "@jupyter-widgets/base",
          "model_module_version": "1.2.0",
          "model_name": "LayoutModel",
          "state": {
            "_model_module": "@jupyter-widgets/base",
            "_model_module_version": "1.2.0",
            "_model_name": "LayoutModel",
            "_view_count": null,
            "_view_module": "@jupyter-widgets/base",
            "_view_module_version": "1.2.0",
            "_view_name": "LayoutView",
            "align_content": null,
            "align_items": null,
            "align_self": null,
            "border": null,
            "bottom": null,
            "display": null,
            "flex": null,
            "flex_flow": null,
            "grid_area": null,
            "grid_auto_columns": null,
            "grid_auto_flow": null,
            "grid_auto_rows": null,
            "grid_column": null,
            "grid_gap": null,
            "grid_row": null,
            "grid_template_areas": null,
            "grid_template_columns": null,
            "grid_template_rows": null,
            "height": null,
            "justify_content": null,
            "justify_items": null,
            "left": null,
            "margin": null,
            "max_height": null,
            "max_width": null,
            "min_height": null,
            "min_width": null,
            "object_fit": null,
            "object_position": null,
            "order": null,
            "overflow": null,
            "overflow_x": null,
            "overflow_y": null,
            "padding": null,
            "right": null,
            "top": null,
            "visibility": null,
            "width": null
          }
        },
        "3b92dedc42514bfbb2d9cc6c6d715e55": {
          "model_module": "@jupyter-widgets/controls",
          "model_module_version": "1.5.0",
          "model_name": "DescriptionStyleModel",
          "state": {
            "_model_module": "@jupyter-widgets/controls",
            "_model_module_version": "1.5.0",
            "_model_name": "DescriptionStyleModel",
            "_view_count": null,
            "_view_module": "@jupyter-widgets/base",
            "_view_module_version": "1.2.0",
            "_view_name": "StyleView",
            "description_width": ""
          }
        },
        "3c46c45320c34ac59624c52496db9a69": {
          "model_module": "@jupyter-widgets/controls",
          "model_module_version": "1.5.0",
          "model_name": "DescriptionStyleModel",
          "state": {
            "_model_module": "@jupyter-widgets/controls",
            "_model_module_version": "1.5.0",
            "_model_name": "DescriptionStyleModel",
            "_view_count": null,
            "_view_module": "@jupyter-widgets/base",
            "_view_module_version": "1.2.0",
            "_view_name": "StyleView",
            "description_width": ""
          }
        },
        "3cd1833de0e249869ac95e86c1c3a9b4": {
          "model_module": "@jupyter-widgets/controls",
          "model_module_version": "1.5.0",
          "model_name": "HTMLModel",
          "state": {
            "_dom_classes": [],
            "_model_module": "@jupyter-widgets/controls",
            "_model_module_version": "1.5.0",
            "_model_name": "HTMLModel",
            "_view_count": null,
            "_view_module": "@jupyter-widgets/controls",
            "_view_module_version": "1.5.0",
            "_view_name": "HTMLView",
            "description": "",
            "description_tooltip": null,
            "layout": "IPY_MODEL_b8efda51002a487bbbfdceb01ee74461",
            "placeholder": "​",
            "style": "IPY_MODEL_0b11acb371cd4be4854011f7898a0707",
            "value": "100%"
          }
        },
        "3dac5f6da3814390862a50905ca36dcc": {
          "model_module": "@jupyter-widgets/controls",
          "model_module_version": "1.5.0",
          "model_name": "FloatProgressModel",
          "state": {
            "_dom_classes": [],
            "_model_module": "@jupyter-widgets/controls",
            "_model_module_version": "1.5.0",
            "_model_name": "FloatProgressModel",
            "_view_count": null,
            "_view_module": "@jupyter-widgets/controls",
            "_view_module_version": "1.5.0",
            "_view_name": "ProgressView",
            "bar_style": "info",
            "description": "",
            "description_tooltip": null,
            "layout": "IPY_MODEL_b86aa3d5059a45479ffb0b9f26b02934",
            "max": 1,
            "min": 0,
            "orientation": "horizontal",
            "style": "IPY_MODEL_71bf50adbb5f4e1d96d311aa60b4c37d",
            "value": 1
          }
        },
        "3dda4e386e9c4a289d2d6ad93b63990f": {
          "model_module": "@jupyter-widgets/controls",
          "model_module_version": "1.5.0",
          "model_name": "HBoxModel",
          "state": {
            "_dom_classes": [],
            "_model_module": "@jupyter-widgets/controls",
            "_model_module_version": "1.5.0",
            "_model_name": "HBoxModel",
            "_view_count": null,
            "_view_module": "@jupyter-widgets/controls",
            "_view_module_version": "1.5.0",
            "_view_name": "HBoxView",
            "box_style": "",
            "children": [
              "IPY_MODEL_68111280984b4eacb2bdb88d7f1c6bca",
              "IPY_MODEL_555414167de44724b3d4f8ae374d3d4e",
              "IPY_MODEL_1b43aa271af04ac3a5316bbaee2f9635"
            ],
            "layout": "IPY_MODEL_1eb85186b96042c987d78d32a177c47c"
          }
        },
        "3f330db133c64376bbd12d93be16a862": {
          "model_module": "@jupyter-widgets/base",
          "model_module_version": "1.2.0",
          "model_name": "LayoutModel",
          "state": {
            "_model_module": "@jupyter-widgets/base",
            "_model_module_version": "1.2.0",
            "_model_name": "LayoutModel",
            "_view_count": null,
            "_view_module": "@jupyter-widgets/base",
            "_view_module_version": "1.2.0",
            "_view_name": "LayoutView",
            "align_content": null,
            "align_items": null,
            "align_self": null,
            "border": null,
            "bottom": null,
            "display": null,
            "flex": null,
            "flex_flow": null,
            "grid_area": null,
            "grid_auto_columns": null,
            "grid_auto_flow": null,
            "grid_auto_rows": null,
            "grid_column": null,
            "grid_gap": null,
            "grid_row": null,
            "grid_template_areas": null,
            "grid_template_columns": null,
            "grid_template_rows": null,
            "height": null,
            "justify_content": null,
            "justify_items": null,
            "left": null,
            "margin": null,
            "max_height": null,
            "max_width": null,
            "min_height": null,
            "min_width": null,
            "object_fit": null,
            "object_position": null,
            "order": null,
            "overflow": null,
            "overflow_x": null,
            "overflow_y": null,
            "padding": null,
            "right": null,
            "top": null,
            "visibility": null,
            "width": null
          }
        },
        "3f99181bd8b34eee95a01c9d72d1f2fb": {
          "model_module": "@jupyter-widgets/base",
          "model_module_version": "1.2.0",
          "model_name": "LayoutModel",
          "state": {
            "_model_module": "@jupyter-widgets/base",
            "_model_module_version": "1.2.0",
            "_model_name": "LayoutModel",
            "_view_count": null,
            "_view_module": "@jupyter-widgets/base",
            "_view_module_version": "1.2.0",
            "_view_name": "LayoutView",
            "align_content": null,
            "align_items": null,
            "align_self": null,
            "border": null,
            "bottom": null,
            "display": null,
            "flex": null,
            "flex_flow": null,
            "grid_area": null,
            "grid_auto_columns": null,
            "grid_auto_flow": null,
            "grid_auto_rows": null,
            "grid_column": null,
            "grid_gap": null,
            "grid_row": null,
            "grid_template_areas": null,
            "grid_template_columns": null,
            "grid_template_rows": null,
            "height": null,
            "justify_content": null,
            "justify_items": null,
            "left": null,
            "margin": null,
            "max_height": null,
            "max_width": null,
            "min_height": null,
            "min_width": null,
            "object_fit": null,
            "object_position": null,
            "order": null,
            "overflow": null,
            "overflow_x": null,
            "overflow_y": null,
            "padding": null,
            "right": null,
            "top": null,
            "visibility": null,
            "width": null
          }
        },
        "412e03aca3b94d5b9861f507a43100fe": {
          "model_module": "@jupyter-widgets/controls",
          "model_module_version": "1.5.0",
          "model_name": "FloatProgressModel",
          "state": {
            "_dom_classes": [],
            "_model_module": "@jupyter-widgets/controls",
            "_model_module_version": "1.5.0",
            "_model_name": "FloatProgressModel",
            "_view_count": null,
            "_view_module": "@jupyter-widgets/controls",
            "_view_module_version": "1.5.0",
            "_view_name": "ProgressView",
            "bar_style": "success",
            "description": "",
            "description_tooltip": null,
            "layout": "IPY_MODEL_1fb4a50342244dd69850153a84bb6a8d",
            "max": 1355863,
            "min": 0,
            "orientation": "horizontal",
            "style": "IPY_MODEL_1ace7f22d8324e8f8f25c327405cca4c",
            "value": 1355863
          }
        },
        "41db81ec90424b05bdfc1bb6cf2722cf": {
          "model_module": "@jupyter-widgets/base",
          "model_module_version": "1.2.0",
          "model_name": "LayoutModel",
          "state": {
            "_model_module": "@jupyter-widgets/base",
            "_model_module_version": "1.2.0",
            "_model_name": "LayoutModel",
            "_view_count": null,
            "_view_module": "@jupyter-widgets/base",
            "_view_module_version": "1.2.0",
            "_view_name": "LayoutView",
            "align_content": null,
            "align_items": null,
            "align_self": null,
            "border": null,
            "bottom": null,
            "display": null,
            "flex": null,
            "flex_flow": null,
            "grid_area": null,
            "grid_auto_columns": null,
            "grid_auto_flow": null,
            "grid_auto_rows": null,
            "grid_column": null,
            "grid_gap": null,
            "grid_row": null,
            "grid_template_areas": null,
            "grid_template_columns": null,
            "grid_template_rows": null,
            "height": null,
            "justify_content": null,
            "justify_items": null,
            "left": null,
            "margin": null,
            "max_height": null,
            "max_width": null,
            "min_height": null,
            "min_width": null,
            "object_fit": null,
            "object_position": null,
            "order": null,
            "overflow": null,
            "overflow_x": null,
            "overflow_y": null,
            "padding": null,
            "right": null,
            "top": null,
            "visibility": null,
            "width": null
          }
        },
        "42bd1304a0574c6fa0f4cd1eb822de3c": {
          "model_module": "@jupyter-widgets/controls",
          "model_module_version": "1.5.0",
          "model_name": "HTMLModel",
          "state": {
            "_dom_classes": [],
            "_model_module": "@jupyter-widgets/controls",
            "_model_module_version": "1.5.0",
            "_model_name": "HTMLModel",
            "_view_count": null,
            "_view_module": "@jupyter-widgets/controls",
            "_view_module_version": "1.5.0",
            "_view_name": "HTMLView",
            "description": "",
            "description_tooltip": null,
            "layout": "IPY_MODEL_234f246583564206b89f3396f3c268b4",
            "placeholder": "​",
            "style": "IPY_MODEL_5eabbad5d94d4babbd6609e22209211f",
            "value": "100%"
          }
        },
        "458c13fe09894122bad8b9080cd69e6f": {
          "model_module": "@jupyter-widgets/controls",
          "model_module_version": "1.5.0",
          "model_name": "HTMLModel",
          "state": {
            "_dom_classes": [],
            "_model_module": "@jupyter-widgets/controls",
            "_model_module_version": "1.5.0",
            "_model_name": "HTMLModel",
            "_view_count": null,
            "_view_module": "@jupyter-widgets/controls",
            "_view_module_version": "1.5.0",
            "_view_name": "HTMLView",
            "description": "",
            "description_tooltip": null,
            "layout": "IPY_MODEL_92f9eb33fc0a4ab3abdad685ac3627bd",
            "placeholder": "​",
            "style": "IPY_MODEL_5ac74a1abd7d42169035a0fbaa5586d3",
            "value": " 2/2 [00:00&lt;00:00, 31.15it/s]"
          }
        },
        "46a5d53e51844aabbfd857ec0dbc5d0a": {
          "model_module": "@jupyter-widgets/base",
          "model_module_version": "1.2.0",
          "model_name": "LayoutModel",
          "state": {
            "_model_module": "@jupyter-widgets/base",
            "_model_module_version": "1.2.0",
            "_model_name": "LayoutModel",
            "_view_count": null,
            "_view_module": "@jupyter-widgets/base",
            "_view_module_version": "1.2.0",
            "_view_name": "LayoutView",
            "align_content": null,
            "align_items": null,
            "align_self": null,
            "border": null,
            "bottom": null,
            "display": null,
            "flex": null,
            "flex_flow": null,
            "grid_area": null,
            "grid_auto_columns": null,
            "grid_auto_flow": null,
            "grid_auto_rows": null,
            "grid_column": null,
            "grid_gap": null,
            "grid_row": null,
            "grid_template_areas": null,
            "grid_template_columns": null,
            "grid_template_rows": null,
            "height": null,
            "justify_content": null,
            "justify_items": null,
            "left": null,
            "margin": null,
            "max_height": null,
            "max_width": null,
            "min_height": null,
            "min_width": null,
            "object_fit": null,
            "object_position": null,
            "order": null,
            "overflow": null,
            "overflow_x": null,
            "overflow_y": null,
            "padding": null,
            "right": null,
            "top": null,
            "visibility": null,
            "width": null
          }
        },
        "499fa2c609e34ca0bb26cbbc24b4f8b3": {
          "model_module": "@jupyter-widgets/base",
          "model_module_version": "1.2.0",
          "model_name": "LayoutModel",
          "state": {
            "_model_module": "@jupyter-widgets/base",
            "_model_module_version": "1.2.0",
            "_model_name": "LayoutModel",
            "_view_count": null,
            "_view_module": "@jupyter-widgets/base",
            "_view_module_version": "1.2.0",
            "_view_name": "LayoutView",
            "align_content": null,
            "align_items": null,
            "align_self": null,
            "border": null,
            "bottom": null,
            "display": null,
            "flex": null,
            "flex_flow": null,
            "grid_area": null,
            "grid_auto_columns": null,
            "grid_auto_flow": null,
            "grid_auto_rows": null,
            "grid_column": null,
            "grid_gap": null,
            "grid_row": null,
            "grid_template_areas": null,
            "grid_template_columns": null,
            "grid_template_rows": null,
            "height": null,
            "justify_content": null,
            "justify_items": null,
            "left": null,
            "margin": null,
            "max_height": null,
            "max_width": null,
            "min_height": null,
            "min_width": null,
            "object_fit": null,
            "object_position": null,
            "order": null,
            "overflow": null,
            "overflow_x": null,
            "overflow_y": null,
            "padding": null,
            "right": null,
            "top": null,
            "visibility": null,
            "width": null
          }
        },
        "4c68b26271a74de7a597ca71a2d5535d": {
          "model_module": "@jupyter-widgets/controls",
          "model_module_version": "1.5.0",
          "model_name": "DescriptionStyleModel",
          "state": {
            "_model_module": "@jupyter-widgets/controls",
            "_model_module_version": "1.5.0",
            "_model_name": "DescriptionStyleModel",
            "_view_count": null,
            "_view_module": "@jupyter-widgets/base",
            "_view_module_version": "1.2.0",
            "_view_name": "StyleView",
            "description_width": ""
          }
        },
        "4ef138fc198147198a57b0d8690ce396": {
          "model_module": "@jupyter-widgets/controls",
          "model_module_version": "1.5.0",
          "model_name": "FloatProgressModel",
          "state": {
            "_dom_classes": [],
            "_model_module": "@jupyter-widgets/controls",
            "_model_module_version": "1.5.0",
            "_model_name": "FloatProgressModel",
            "_view_count": null,
            "_view_module": "@jupyter-widgets/controls",
            "_view_module_version": "1.5.0",
            "_view_name": "ProgressView",
            "bar_style": "success",
            "description": "",
            "description_tooltip": null,
            "layout": "IPY_MODEL_5f23ecfb91a44c79b5388ea238cf5aed",
            "max": 1,
            "min": 0,
            "orientation": "horizontal",
            "style": "IPY_MODEL_d4e25191f94847a29445c4035f2ccd7e",
            "value": 1
          }
        },
        "52f2ce5ae7d749b29ef80b65a885fd1e": {
          "model_module": "@jupyter-widgets/controls",
          "model_module_version": "1.5.0",
          "model_name": "HTMLModel",
          "state": {
            "_dom_classes": [],
            "_model_module": "@jupyter-widgets/controls",
            "_model_module_version": "1.5.0",
            "_model_name": "HTMLModel",
            "_view_count": null,
            "_view_module": "@jupyter-widgets/controls",
            "_view_module_version": "1.5.0",
            "_view_name": "HTMLView",
            "description": "",
            "description_tooltip": null,
            "layout": "IPY_MODEL_b014478906924c369d92c8735562b3a1",
            "placeholder": "​",
            "style": "IPY_MODEL_cee12d85428348e984c6d173fde114c4",
            "value": " 7/7 [00:01&lt;00:00,  6.87ba/s]"
          }
        },
        "5405da813eef4717a75db4d0338cf811": {
          "model_module": "@jupyter-widgets/controls",
          "model_module_version": "1.5.0",
          "model_name": "ProgressStyleModel",
          "state": {
            "_model_module": "@jupyter-widgets/controls",
            "_model_module_version": "1.5.0",
            "_model_name": "ProgressStyleModel",
            "_view_count": null,
            "_view_module": "@jupyter-widgets/base",
            "_view_module_version": "1.2.0",
            "_view_name": "StyleView",
            "bar_color": null,
            "description_width": ""
          }
        },
        "555414167de44724b3d4f8ae374d3d4e": {
          "model_module": "@jupyter-widgets/controls",
          "model_module_version": "1.5.0",
          "model_name": "FloatProgressModel",
          "state": {
            "_dom_classes": [],
            "_model_module": "@jupyter-widgets/controls",
            "_model_module_version": "1.5.0",
            "_model_name": "FloatProgressModel",
            "_view_count": null,
            "_view_module": "@jupyter-widgets/controls",
            "_view_module_version": "1.5.0",
            "_view_name": "ProgressView",
            "bar_style": "success",
            "description": "",
            "description_tooltip": null,
            "layout": "IPY_MODEL_d716eeb5c2944415bea79716f5ae7553",
            "max": 456318,
            "min": 0,
            "orientation": "horizontal",
            "style": "IPY_MODEL_725ee7e74d6b42b7bc7fbdf859c7a592",
            "value": 456318
          }
        },
        "5a3f643e7ef64bfbb1f5410fb60c1a56": {
          "model_module": "@jupyter-widgets/controls",
          "model_module_version": "1.5.0",
          "model_name": "DescriptionStyleModel",
          "state": {
            "_model_module": "@jupyter-widgets/controls",
            "_model_module_version": "1.5.0",
            "_model_name": "DescriptionStyleModel",
            "_view_count": null,
            "_view_module": "@jupyter-widgets/base",
            "_view_module_version": "1.2.0",
            "_view_name": "StyleView",
            "description_width": ""
          }
        },
        "5ac74a1abd7d42169035a0fbaa5586d3": {
          "model_module": "@jupyter-widgets/controls",
          "model_module_version": "1.5.0",
          "model_name": "DescriptionStyleModel",
          "state": {
            "_model_module": "@jupyter-widgets/controls",
            "_model_module_version": "1.5.0",
            "_model_name": "DescriptionStyleModel",
            "_view_count": null,
            "_view_module": "@jupyter-widgets/base",
            "_view_module_version": "1.2.0",
            "_view_name": "StyleView",
            "description_width": ""
          }
        },
        "5ddf15b5a12f48cf9bde62e9f48ae546": {
          "model_module": "@jupyter-widgets/controls",
          "model_module_version": "1.5.0",
          "model_name": "HTMLModel",
          "state": {
            "_dom_classes": [],
            "_model_module": "@jupyter-widgets/controls",
            "_model_module_version": "1.5.0",
            "_model_name": "HTMLModel",
            "_view_count": null,
            "_view_module": "@jupyter-widgets/controls",
            "_view_module_version": "1.5.0",
            "_view_name": "HTMLView",
            "description": "",
            "description_tooltip": null,
            "layout": "IPY_MODEL_f1dbd914a45548e594becb02b990d0a3",
            "placeholder": "​",
            "style": "IPY_MODEL_5a3f643e7ef64bfbb1f5410fb60c1a56",
            "value": "Downloading pytorch_model.bin: 100%"
          }
        },
        "5eabbad5d94d4babbd6609e22209211f": {
          "model_module": "@jupyter-widgets/controls",
          "model_module_version": "1.5.0",
          "model_name": "DescriptionStyleModel",
          "state": {
            "_model_module": "@jupyter-widgets/controls",
            "_model_module_version": "1.5.0",
            "_model_name": "DescriptionStyleModel",
            "_view_count": null,
            "_view_module": "@jupyter-widgets/base",
            "_view_module_version": "1.2.0",
            "_view_name": "StyleView",
            "description_width": ""
          }
        },
        "5f23ecfb91a44c79b5388ea238cf5aed": {
          "model_module": "@jupyter-widgets/base",
          "model_module_version": "1.2.0",
          "model_name": "LayoutModel",
          "state": {
            "_model_module": "@jupyter-widgets/base",
            "_model_module_version": "1.2.0",
            "_model_name": "LayoutModel",
            "_view_count": null,
            "_view_module": "@jupyter-widgets/base",
            "_view_module_version": "1.2.0",
            "_view_name": "LayoutView",
            "align_content": null,
            "align_items": null,
            "align_self": null,
            "border": null,
            "bottom": null,
            "display": null,
            "flex": null,
            "flex_flow": null,
            "grid_area": null,
            "grid_auto_columns": null,
            "grid_auto_flow": null,
            "grid_auto_rows": null,
            "grid_column": null,
            "grid_gap": null,
            "grid_row": null,
            "grid_template_areas": null,
            "grid_template_columns": null,
            "grid_template_rows": null,
            "height": null,
            "justify_content": null,
            "justify_items": null,
            "left": null,
            "margin": null,
            "max_height": null,
            "max_width": null,
            "min_height": null,
            "min_width": null,
            "object_fit": null,
            "object_position": null,
            "order": null,
            "overflow": null,
            "overflow_x": null,
            "overflow_y": null,
            "padding": null,
            "right": null,
            "top": null,
            "visibility": null,
            "width": null
          }
        },
        "64c5290cdcbb4d54af66628133a7a801": {
          "model_module": "@jupyter-widgets/base",
          "model_module_version": "1.2.0",
          "model_name": "LayoutModel",
          "state": {
            "_model_module": "@jupyter-widgets/base",
            "_model_module_version": "1.2.0",
            "_model_name": "LayoutModel",
            "_view_count": null,
            "_view_module": "@jupyter-widgets/base",
            "_view_module_version": "1.2.0",
            "_view_name": "LayoutView",
            "align_content": null,
            "align_items": null,
            "align_self": null,
            "border": null,
            "bottom": null,
            "display": null,
            "flex": null,
            "flex_flow": null,
            "grid_area": null,
            "grid_auto_columns": null,
            "grid_auto_flow": null,
            "grid_auto_rows": null,
            "grid_column": null,
            "grid_gap": null,
            "grid_row": null,
            "grid_template_areas": null,
            "grid_template_columns": null,
            "grid_template_rows": null,
            "height": null,
            "justify_content": null,
            "justify_items": null,
            "left": null,
            "margin": null,
            "max_height": null,
            "max_width": null,
            "min_height": null,
            "min_width": null,
            "object_fit": null,
            "object_position": null,
            "order": null,
            "overflow": null,
            "overflow_x": null,
            "overflow_y": null,
            "padding": null,
            "right": null,
            "top": null,
            "visibility": null,
            "width": null
          }
        },
        "66ac041c630f4aa0b2df800ab4ee9f7a": {
          "model_module": "@jupyter-widgets/base",
          "model_module_version": "1.2.0",
          "model_name": "LayoutModel",
          "state": {
            "_model_module": "@jupyter-widgets/base",
            "_model_module_version": "1.2.0",
            "_model_name": "LayoutModel",
            "_view_count": null,
            "_view_module": "@jupyter-widgets/base",
            "_view_module_version": "1.2.0",
            "_view_name": "LayoutView",
            "align_content": null,
            "align_items": null,
            "align_self": null,
            "border": null,
            "bottom": null,
            "display": null,
            "flex": null,
            "flex_flow": null,
            "grid_area": null,
            "grid_auto_columns": null,
            "grid_auto_flow": null,
            "grid_auto_rows": null,
            "grid_column": null,
            "grid_gap": null,
            "grid_row": null,
            "grid_template_areas": null,
            "grid_template_columns": null,
            "grid_template_rows": null,
            "height": null,
            "justify_content": null,
            "justify_items": null,
            "left": null,
            "margin": null,
            "max_height": null,
            "max_width": null,
            "min_height": null,
            "min_width": null,
            "object_fit": null,
            "object_position": null,
            "order": null,
            "overflow": null,
            "overflow_x": null,
            "overflow_y": null,
            "padding": null,
            "right": null,
            "top": null,
            "visibility": null,
            "width": null
          }
        },
        "68111280984b4eacb2bdb88d7f1c6bca": {
          "model_module": "@jupyter-widgets/controls",
          "model_module_version": "1.5.0",
          "model_name": "HTMLModel",
          "state": {
            "_dom_classes": [],
            "_model_module": "@jupyter-widgets/controls",
            "_model_module_version": "1.5.0",
            "_model_name": "HTMLModel",
            "_view_count": null,
            "_view_module": "@jupyter-widgets/controls",
            "_view_module_version": "1.5.0",
            "_view_name": "HTMLView",
            "description": "",
            "description_tooltip": null,
            "layout": "IPY_MODEL_965a74b27fef4747bd8d08a1b5018d1b",
            "placeholder": "​",
            "style": "IPY_MODEL_3b92dedc42514bfbb2d9cc6c6d715e55",
            "value": "Downloading merges.txt: 100%"
          }
        },
        "68fc1790106e441eae9039052254bb68": {
          "model_module": "@jupyter-widgets/controls",
          "model_module_version": "1.5.0",
          "model_name": "FloatProgressModel",
          "state": {
            "_dom_classes": [],
            "_model_module": "@jupyter-widgets/controls",
            "_model_module_version": "1.5.0",
            "_model_name": "FloatProgressModel",
            "_view_count": null,
            "_view_module": "@jupyter-widgets/controls",
            "_view_module_version": "1.5.0",
            "_view_name": "ProgressView",
            "bar_style": "success",
            "description": "",
            "description_tooltip": null,
            "layout": "IPY_MODEL_ede9bec91121482398dd92b2c2538d65",
            "max": 2,
            "min": 0,
            "orientation": "horizontal",
            "style": "IPY_MODEL_5405da813eef4717a75db4d0338cf811",
            "value": 2
          }
        },
        "6f32f28b8a55480b818a124b6856e331": {
          "model_module": "@jupyter-widgets/controls",
          "model_module_version": "1.5.0",
          "model_name": "HTMLModel",
          "state": {
            "_dom_classes": [],
            "_model_module": "@jupyter-widgets/controls",
            "_model_module_version": "1.5.0",
            "_model_name": "HTMLModel",
            "_view_count": null,
            "_view_module": "@jupyter-widgets/controls",
            "_view_module_version": "1.5.0",
            "_view_name": "HTMLView",
            "description": "",
            "description_tooltip": null,
            "layout": "IPY_MODEL_64c5290cdcbb4d54af66628133a7a801",
            "placeholder": "​",
            "style": "IPY_MODEL_e99324c135b547c2bd732c0aa8da20b0",
            "value": " 1/1 [00:00&lt;00:00,  4.20ba/s]"
          }
        },
        "71bf50adbb5f4e1d96d311aa60b4c37d": {
          "model_module": "@jupyter-widgets/controls",
          "model_module_version": "1.5.0",
          "model_name": "ProgressStyleModel",
          "state": {
            "_model_module": "@jupyter-widgets/controls",
            "_model_module_version": "1.5.0",
            "_model_name": "ProgressStyleModel",
            "_view_count": null,
            "_view_module": "@jupyter-widgets/base",
            "_view_module_version": "1.2.0",
            "_view_name": "StyleView",
            "bar_color": null,
            "description_width": ""
          }
        },
        "725ee7e74d6b42b7bc7fbdf859c7a592": {
          "model_module": "@jupyter-widgets/controls",
          "model_module_version": "1.5.0",
          "model_name": "ProgressStyleModel",
          "state": {
            "_model_module": "@jupyter-widgets/controls",
            "_model_module_version": "1.5.0",
            "_model_name": "ProgressStyleModel",
            "_view_count": null,
            "_view_module": "@jupyter-widgets/base",
            "_view_module_version": "1.2.0",
            "_view_name": "StyleView",
            "bar_color": null,
            "description_width": ""
          }
        },
        "739643434cf04551aabf4459a6e08a90": {
          "model_module": "@jupyter-widgets/controls",
          "model_module_version": "1.5.0",
          "model_name": "HBoxModel",
          "state": {
            "_dom_classes": [],
            "_model_module": "@jupyter-widgets/controls",
            "_model_module_version": "1.5.0",
            "_model_name": "HBoxModel",
            "_view_count": null,
            "_view_module": "@jupyter-widgets/controls",
            "_view_module_version": "1.5.0",
            "_view_name": "HBoxView",
            "box_style": "",
            "children": [
              "IPY_MODEL_e3c9065fa9f64288abcb2555c581df0b",
              "IPY_MODEL_3924ee6b40a04ce2bbfc06b756cadbd3",
              "IPY_MODEL_34513ab71c51406b819085f3317217e3"
            ],
            "layout": "IPY_MODEL_36bd07587e8d4796b0dfc881d29be1c7"
          }
        },
        "74046556ad6148a3892f67e6e77d3a36": {
          "model_module": "@jupyter-widgets/base",
          "model_module_version": "1.2.0",
          "model_name": "LayoutModel",
          "state": {
            "_model_module": "@jupyter-widgets/base",
            "_model_module_version": "1.2.0",
            "_model_name": "LayoutModel",
            "_view_count": null,
            "_view_module": "@jupyter-widgets/base",
            "_view_module_version": "1.2.0",
            "_view_name": "LayoutView",
            "align_content": null,
            "align_items": null,
            "align_self": null,
            "border": null,
            "bottom": null,
            "display": null,
            "flex": null,
            "flex_flow": null,
            "grid_area": null,
            "grid_auto_columns": null,
            "grid_auto_flow": null,
            "grid_auto_rows": null,
            "grid_column": null,
            "grid_gap": null,
            "grid_row": null,
            "grid_template_areas": null,
            "grid_template_columns": null,
            "grid_template_rows": null,
            "height": null,
            "justify_content": null,
            "justify_items": null,
            "left": null,
            "margin": null,
            "max_height": null,
            "max_width": null,
            "min_height": null,
            "min_width": null,
            "object_fit": null,
            "object_position": null,
            "order": null,
            "overflow": null,
            "overflow_x": null,
            "overflow_y": null,
            "padding": null,
            "right": null,
            "top": null,
            "visibility": null,
            "width": null
          }
        },
        "7589f5f082604d69abc3b13c3a9b7958": {
          "model_module": "@jupyter-widgets/controls",
          "model_module_version": "1.5.0",
          "model_name": "HTMLModel",
          "state": {
            "_dom_classes": [],
            "_model_module": "@jupyter-widgets/controls",
            "_model_module_version": "1.5.0",
            "_model_name": "HTMLModel",
            "_view_count": null,
            "_view_module": "@jupyter-widgets/controls",
            "_view_module_version": "1.5.0",
            "_view_name": "HTMLView",
            "description": "",
            "description_tooltip": null,
            "layout": "IPY_MODEL_7adf135ad35247abb52afb2cd3f55813",
            "placeholder": "​",
            "style": "IPY_MODEL_cb2e8bebb8ee44b29f6d76aebe003a8b",
            "value": " 0/? [00:00&lt;?, ? tables/s]"
          }
        },
        "75dbe9e80fee4f70a3a5e1a098f6dca4": {
          "model_module": "@jupyter-widgets/base",
          "model_module_version": "1.2.0",
          "model_name": "LayoutModel",
          "state": {
            "_model_module": "@jupyter-widgets/base",
            "_model_module_version": "1.2.0",
            "_model_name": "LayoutModel",
            "_view_count": null,
            "_view_module": "@jupyter-widgets/base",
            "_view_module_version": "1.2.0",
            "_view_name": "LayoutView",
            "align_content": null,
            "align_items": null,
            "align_self": null,
            "border": null,
            "bottom": null,
            "display": null,
            "flex": null,
            "flex_flow": null,
            "grid_area": null,
            "grid_auto_columns": null,
            "grid_auto_flow": null,
            "grid_auto_rows": null,
            "grid_column": null,
            "grid_gap": null,
            "grid_row": null,
            "grid_template_areas": null,
            "grid_template_columns": null,
            "grid_template_rows": null,
            "height": null,
            "justify_content": null,
            "justify_items": null,
            "left": null,
            "margin": null,
            "max_height": null,
            "max_width": null,
            "min_height": null,
            "min_width": null,
            "object_fit": null,
            "object_position": null,
            "order": null,
            "overflow": null,
            "overflow_x": null,
            "overflow_y": null,
            "padding": null,
            "right": null,
            "top": null,
            "visibility": null,
            "width": null
          }
        },
        "768f7a0613fc4861a607eb9ae5a6be34": {
          "model_module": "@jupyter-widgets/controls",
          "model_module_version": "1.5.0",
          "model_name": "HTMLModel",
          "state": {
            "_dom_classes": [],
            "_model_module": "@jupyter-widgets/controls",
            "_model_module_version": "1.5.0",
            "_model_name": "HTMLModel",
            "_view_count": null,
            "_view_module": "@jupyter-widgets/controls",
            "_view_module_version": "1.5.0",
            "_view_name": "HTMLView",
            "description": "",
            "description_tooltip": null,
            "layout": "IPY_MODEL_f3661110012a4572964d2ab5345d2cd7",
            "placeholder": "​",
            "style": "IPY_MODEL_3418907326cf401eb6329a5dbacfac81",
            "value": " 481/481 [00:00&lt;00:00, 15.4kB/s]"
          }
        },
        "776c074106fb403f8196040257f8e0d7": {
          "model_module": "@jupyter-widgets/controls",
          "model_module_version": "1.5.0",
          "model_name": "DescriptionStyleModel",
          "state": {
            "_model_module": "@jupyter-widgets/controls",
            "_model_module_version": "1.5.0",
            "_model_name": "DescriptionStyleModel",
            "_view_count": null,
            "_view_module": "@jupyter-widgets/base",
            "_view_module_version": "1.2.0",
            "_view_name": "StyleView",
            "description_width": ""
          }
        },
        "77f8fb145fb64267997737241a742ff7": {
          "model_module": "@jupyter-widgets/base",
          "model_module_version": "1.2.0",
          "model_name": "LayoutModel",
          "state": {
            "_model_module": "@jupyter-widgets/base",
            "_model_module_version": "1.2.0",
            "_model_name": "LayoutModel",
            "_view_count": null,
            "_view_module": "@jupyter-widgets/base",
            "_view_module_version": "1.2.0",
            "_view_name": "LayoutView",
            "align_content": null,
            "align_items": null,
            "align_self": null,
            "border": null,
            "bottom": null,
            "display": null,
            "flex": null,
            "flex_flow": null,
            "grid_area": null,
            "grid_auto_columns": null,
            "grid_auto_flow": null,
            "grid_auto_rows": null,
            "grid_column": null,
            "grid_gap": null,
            "grid_row": null,
            "grid_template_areas": null,
            "grid_template_columns": null,
            "grid_template_rows": null,
            "height": null,
            "justify_content": null,
            "justify_items": null,
            "left": null,
            "margin": null,
            "max_height": null,
            "max_width": null,
            "min_height": null,
            "min_width": null,
            "object_fit": null,
            "object_position": null,
            "order": null,
            "overflow": null,
            "overflow_x": null,
            "overflow_y": null,
            "padding": null,
            "right": null,
            "top": null,
            "visibility": null,
            "width": null
          }
        },
        "7859dc44cc234c9c86eca96438e85927": {
          "model_module": "@jupyter-widgets/controls",
          "model_module_version": "1.5.0",
          "model_name": "DescriptionStyleModel",
          "state": {
            "_model_module": "@jupyter-widgets/controls",
            "_model_module_version": "1.5.0",
            "_model_name": "DescriptionStyleModel",
            "_view_count": null,
            "_view_module": "@jupyter-widgets/base",
            "_view_module_version": "1.2.0",
            "_view_name": "StyleView",
            "description_width": ""
          }
        },
        "7adc0b721fe64db998a1c90aca828567": {
          "model_module": "@jupyter-widgets/base",
          "model_module_version": "1.2.0",
          "model_name": "LayoutModel",
          "state": {
            "_model_module": "@jupyter-widgets/base",
            "_model_module_version": "1.2.0",
            "_model_name": "LayoutModel",
            "_view_count": null,
            "_view_module": "@jupyter-widgets/base",
            "_view_module_version": "1.2.0",
            "_view_name": "LayoutView",
            "align_content": null,
            "align_items": null,
            "align_self": null,
            "border": null,
            "bottom": null,
            "display": null,
            "flex": null,
            "flex_flow": null,
            "grid_area": null,
            "grid_auto_columns": null,
            "grid_auto_flow": null,
            "grid_auto_rows": null,
            "grid_column": null,
            "grid_gap": null,
            "grid_row": null,
            "grid_template_areas": null,
            "grid_template_columns": null,
            "grid_template_rows": null,
            "height": null,
            "justify_content": null,
            "justify_items": null,
            "left": null,
            "margin": null,
            "max_height": null,
            "max_width": null,
            "min_height": null,
            "min_width": null,
            "object_fit": null,
            "object_position": null,
            "order": null,
            "overflow": null,
            "overflow_x": null,
            "overflow_y": null,
            "padding": null,
            "right": null,
            "top": null,
            "visibility": null,
            "width": null
          }
        },
        "7adf135ad35247abb52afb2cd3f55813": {
          "model_module": "@jupyter-widgets/base",
          "model_module_version": "1.2.0",
          "model_name": "LayoutModel",
          "state": {
            "_model_module": "@jupyter-widgets/base",
            "_model_module_version": "1.2.0",
            "_model_name": "LayoutModel",
            "_view_count": null,
            "_view_module": "@jupyter-widgets/base",
            "_view_module_version": "1.2.0",
            "_view_name": "LayoutView",
            "align_content": null,
            "align_items": null,
            "align_self": null,
            "border": null,
            "bottom": null,
            "display": null,
            "flex": null,
            "flex_flow": null,
            "grid_area": null,
            "grid_auto_columns": null,
            "grid_auto_flow": null,
            "grid_auto_rows": null,
            "grid_column": null,
            "grid_gap": null,
            "grid_row": null,
            "grid_template_areas": null,
            "grid_template_columns": null,
            "grid_template_rows": null,
            "height": null,
            "justify_content": null,
            "justify_items": null,
            "left": null,
            "margin": null,
            "max_height": null,
            "max_width": null,
            "min_height": null,
            "min_width": null,
            "object_fit": null,
            "object_position": null,
            "order": null,
            "overflow": null,
            "overflow_x": null,
            "overflow_y": null,
            "padding": null,
            "right": null,
            "top": null,
            "visibility": null,
            "width": null
          }
        },
        "83ead7f8cff944c1913ba4b819432c92": {
          "model_module": "@jupyter-widgets/controls",
          "model_module_version": "1.5.0",
          "model_name": "ProgressStyleModel",
          "state": {
            "_model_module": "@jupyter-widgets/controls",
            "_model_module_version": "1.5.0",
            "_model_name": "ProgressStyleModel",
            "_view_count": null,
            "_view_module": "@jupyter-widgets/base",
            "_view_module_version": "1.2.0",
            "_view_name": "StyleView",
            "bar_color": null,
            "description_width": ""
          }
        },
        "85cb25c4e5804c9e9b36b8225d6d33c1": {
          "model_module": "@jupyter-widgets/controls",
          "model_module_version": "1.5.0",
          "model_name": "HBoxModel",
          "state": {
            "_dom_classes": [],
            "_model_module": "@jupyter-widgets/controls",
            "_model_module_version": "1.5.0",
            "_model_name": "HBoxModel",
            "_view_count": null,
            "_view_module": "@jupyter-widgets/controls",
            "_view_module_version": "1.5.0",
            "_view_name": "HBoxView",
            "box_style": "",
            "children": [
              "IPY_MODEL_d33b8305d4494fff8f9970f2e77abf3b",
              "IPY_MODEL_e4e0084e5d8c4c848a80a917b1c3a282",
              "IPY_MODEL_7589f5f082604d69abc3b13c3a9b7958"
            ],
            "layout": "IPY_MODEL_9f364536808c4b96b809a8fa7f368778"
          }
        },
        "85fad4492ed649b886d7b9a99ae3e3d5": {
          "model_module": "@jupyter-widgets/controls",
          "model_module_version": "1.5.0",
          "model_name": "HBoxModel",
          "state": {
            "_dom_classes": [],
            "_model_module": "@jupyter-widgets/controls",
            "_model_module_version": "1.5.0",
            "_model_name": "HBoxModel",
            "_view_count": null,
            "_view_module": "@jupyter-widgets/controls",
            "_view_module_version": "1.5.0",
            "_view_name": "HBoxView",
            "box_style": "",
            "children": [
              "IPY_MODEL_abafbfaca08049ec93b54ecef400f1cc",
              "IPY_MODEL_3dac5f6da3814390862a50905ca36dcc",
              "IPY_MODEL_8a6b1ac26e244bc0a39f9727aa285620"
            ],
            "layout": "IPY_MODEL_74046556ad6148a3892f67e6e77d3a36"
          }
        },
        "8a6b1ac26e244bc0a39f9727aa285620": {
          "model_module": "@jupyter-widgets/controls",
          "model_module_version": "1.5.0",
          "model_name": "HTMLModel",
          "state": {
            "_dom_classes": [],
            "_model_module": "@jupyter-widgets/controls",
            "_model_module_version": "1.5.0",
            "_model_name": "HTMLModel",
            "_view_count": null,
            "_view_module": "@jupyter-widgets/controls",
            "_view_module_version": "1.5.0",
            "_view_name": "HTMLView",
            "description": "",
            "description_tooltip": null,
            "layout": "IPY_MODEL_75dbe9e80fee4f70a3a5e1a098f6dca4",
            "placeholder": "​",
            "style": "IPY_MODEL_085daa4f4fb74e55b4500a454474d0ec",
            "value": " 0/? [00:00&lt;?, ? tables/s]"
          }
        },
        "8ea5c15d20d441c6aa44ef8713f74b49": {
          "model_module": "@jupyter-widgets/base",
          "model_module_version": "1.2.0",
          "model_name": "LayoutModel",
          "state": {
            "_model_module": "@jupyter-widgets/base",
            "_model_module_version": "1.2.0",
            "_model_name": "LayoutModel",
            "_view_count": null,
            "_view_module": "@jupyter-widgets/base",
            "_view_module_version": "1.2.0",
            "_view_name": "LayoutView",
            "align_content": null,
            "align_items": null,
            "align_self": null,
            "border": null,
            "bottom": null,
            "display": null,
            "flex": null,
            "flex_flow": null,
            "grid_area": null,
            "grid_auto_columns": null,
            "grid_auto_flow": null,
            "grid_auto_rows": null,
            "grid_column": null,
            "grid_gap": null,
            "grid_row": null,
            "grid_template_areas": null,
            "grid_template_columns": null,
            "grid_template_rows": null,
            "height": null,
            "justify_content": null,
            "justify_items": null,
            "left": null,
            "margin": null,
            "max_height": null,
            "max_width": null,
            "min_height": null,
            "min_width": null,
            "object_fit": null,
            "object_position": null,
            "order": null,
            "overflow": null,
            "overflow_x": null,
            "overflow_y": null,
            "padding": null,
            "right": null,
            "top": null,
            "visibility": null,
            "width": null
          }
        },
        "92f9eb33fc0a4ab3abdad685ac3627bd": {
          "model_module": "@jupyter-widgets/base",
          "model_module_version": "1.2.0",
          "model_name": "LayoutModel",
          "state": {
            "_model_module": "@jupyter-widgets/base",
            "_model_module_version": "1.2.0",
            "_model_name": "LayoutModel",
            "_view_count": null,
            "_view_module": "@jupyter-widgets/base",
            "_view_module_version": "1.2.0",
            "_view_name": "LayoutView",
            "align_content": null,
            "align_items": null,
            "align_self": null,
            "border": null,
            "bottom": null,
            "display": null,
            "flex": null,
            "flex_flow": null,
            "grid_area": null,
            "grid_auto_columns": null,
            "grid_auto_flow": null,
            "grid_auto_rows": null,
            "grid_column": null,
            "grid_gap": null,
            "grid_row": null,
            "grid_template_areas": null,
            "grid_template_columns": null,
            "grid_template_rows": null,
            "height": null,
            "justify_content": null,
            "justify_items": null,
            "left": null,
            "margin": null,
            "max_height": null,
            "max_width": null,
            "min_height": null,
            "min_width": null,
            "object_fit": null,
            "object_position": null,
            "order": null,
            "overflow": null,
            "overflow_x": null,
            "overflow_y": null,
            "padding": null,
            "right": null,
            "top": null,
            "visibility": null,
            "width": null
          }
        },
        "953d9db7325f4a589bbe087f580d9d38": {
          "model_module": "@jupyter-widgets/controls",
          "model_module_version": "1.5.0",
          "model_name": "HTMLModel",
          "state": {
            "_dom_classes": [],
            "_model_module": "@jupyter-widgets/controls",
            "_model_module_version": "1.5.0",
            "_model_name": "HTMLModel",
            "_view_count": null,
            "_view_module": "@jupyter-widgets/controls",
            "_view_module_version": "1.5.0",
            "_view_name": "HTMLView",
            "description": "",
            "description_tooltip": null,
            "layout": "IPY_MODEL_9fc2bf935590464cbb3a47519a53acd2",
            "placeholder": "​",
            "style": "IPY_MODEL_0697167dee5a4d59b97ab9c58067910c",
            "value": "Downloading data files: 100%"
          }
        },
        "965a74b27fef4747bd8d08a1b5018d1b": {
          "model_module": "@jupyter-widgets/base",
          "model_module_version": "1.2.0",
          "model_name": "LayoutModel",
          "state": {
            "_model_module": "@jupyter-widgets/base",
            "_model_module_version": "1.2.0",
            "_model_name": "LayoutModel",
            "_view_count": null,
            "_view_module": "@jupyter-widgets/base",
            "_view_module_version": "1.2.0",
            "_view_name": "LayoutView",
            "align_content": null,
            "align_items": null,
            "align_self": null,
            "border": null,
            "bottom": null,
            "display": null,
            "flex": null,
            "flex_flow": null,
            "grid_area": null,
            "grid_auto_columns": null,
            "grid_auto_flow": null,
            "grid_auto_rows": null,
            "grid_column": null,
            "grid_gap": null,
            "grid_row": null,
            "grid_template_areas": null,
            "grid_template_columns": null,
            "grid_template_rows": null,
            "height": null,
            "justify_content": null,
            "justify_items": null,
            "left": null,
            "margin": null,
            "max_height": null,
            "max_width": null,
            "min_height": null,
            "min_width": null,
            "object_fit": null,
            "object_position": null,
            "order": null,
            "overflow": null,
            "overflow_x": null,
            "overflow_y": null,
            "padding": null,
            "right": null,
            "top": null,
            "visibility": null,
            "width": null
          }
        },
        "9679c63737bd42c687b40bac0cee5119": {
          "model_module": "@jupyter-widgets/controls",
          "model_module_version": "1.5.0",
          "model_name": "HBoxModel",
          "state": {
            "_dom_classes": [],
            "_model_module": "@jupyter-widgets/controls",
            "_model_module_version": "1.5.0",
            "_model_name": "HBoxModel",
            "_view_count": null,
            "_view_module": "@jupyter-widgets/controls",
            "_view_module_version": "1.5.0",
            "_view_name": "HBoxView",
            "box_style": "",
            "children": [
              "IPY_MODEL_5ddf15b5a12f48cf9bde62e9f48ae546",
              "IPY_MODEL_17bc42c5d66e47989ad8e585b4d17ee6",
              "IPY_MODEL_fadf68740b4c4c8f8887a3e0c0bfd80a"
            ],
            "layout": "IPY_MODEL_3988f479bc4943a2bb59a5233d4458a0"
          }
        },
        "9752441b940547fabd67e0930e0658bc": {
          "model_module": "@jupyter-widgets/controls",
          "model_module_version": "1.5.0",
          "model_name": "DescriptionStyleModel",
          "state": {
            "_model_module": "@jupyter-widgets/controls",
            "_model_module_version": "1.5.0",
            "_model_name": "DescriptionStyleModel",
            "_view_count": null,
            "_view_module": "@jupyter-widgets/base",
            "_view_module_version": "1.2.0",
            "_view_name": "StyleView",
            "description_width": ""
          }
        },
        "97a85ad04ffc465299acee6fec73a63f": {
          "model_module": "@jupyter-widgets/controls",
          "model_module_version": "1.5.0",
          "model_name": "ProgressStyleModel",
          "state": {
            "_model_module": "@jupyter-widgets/controls",
            "_model_module_version": "1.5.0",
            "_model_name": "ProgressStyleModel",
            "_view_count": null,
            "_view_module": "@jupyter-widgets/base",
            "_view_module_version": "1.2.0",
            "_view_name": "StyleView",
            "bar_color": null,
            "description_width": ""
          }
        },
        "9b934d4e25ac47f1a0980526a275ad75": {
          "model_module": "@jupyter-widgets/base",
          "model_module_version": "1.2.0",
          "model_name": "LayoutModel",
          "state": {
            "_model_module": "@jupyter-widgets/base",
            "_model_module_version": "1.2.0",
            "_model_name": "LayoutModel",
            "_view_count": null,
            "_view_module": "@jupyter-widgets/base",
            "_view_module_version": "1.2.0",
            "_view_name": "LayoutView",
            "align_content": null,
            "align_items": null,
            "align_self": null,
            "border": null,
            "bottom": null,
            "display": null,
            "flex": null,
            "flex_flow": null,
            "grid_area": null,
            "grid_auto_columns": null,
            "grid_auto_flow": null,
            "grid_auto_rows": null,
            "grid_column": null,
            "grid_gap": null,
            "grid_row": null,
            "grid_template_areas": null,
            "grid_template_columns": null,
            "grid_template_rows": null,
            "height": null,
            "justify_content": null,
            "justify_items": null,
            "left": null,
            "margin": null,
            "max_height": null,
            "max_width": null,
            "min_height": null,
            "min_width": null,
            "object_fit": null,
            "object_position": null,
            "order": null,
            "overflow": null,
            "overflow_x": null,
            "overflow_y": null,
            "padding": null,
            "right": null,
            "top": null,
            "visibility": null,
            "width": null
          }
        },
        "9de9f0bebedd4fe6a320274078ea53d0": {
          "model_module": "@jupyter-widgets/controls",
          "model_module_version": "1.5.0",
          "model_name": "FloatProgressModel",
          "state": {
            "_dom_classes": [],
            "_model_module": "@jupyter-widgets/controls",
            "_model_module_version": "1.5.0",
            "_model_name": "FloatProgressModel",
            "_view_count": null,
            "_view_module": "@jupyter-widgets/controls",
            "_view_module_version": "1.5.0",
            "_view_name": "ProgressView",
            "bar_style": "success",
            "description": "",
            "description_tooltip": null,
            "layout": "IPY_MODEL_e7c52dbba6574dcca0c8704655e889c8",
            "max": 7,
            "min": 0,
            "orientation": "horizontal",
            "style": "IPY_MODEL_c1a2aae235c743efae196d2a36bca142",
            "value": 7
          }
        },
        "9e022f939b0942a5abeb8b667e228d8f": {
          "model_module": "@jupyter-widgets/controls",
          "model_module_version": "1.5.0",
          "model_name": "HTMLModel",
          "state": {
            "_dom_classes": [],
            "_model_module": "@jupyter-widgets/controls",
            "_model_module_version": "1.5.0",
            "_model_name": "HTMLModel",
            "_view_count": null,
            "_view_module": "@jupyter-widgets/controls",
            "_view_module_version": "1.5.0",
            "_view_name": "HTMLView",
            "description": "",
            "description_tooltip": null,
            "layout": "IPY_MODEL_9b934d4e25ac47f1a0980526a275ad75",
            "placeholder": "​",
            "style": "IPY_MODEL_9752441b940547fabd67e0930e0658bc",
            "value": " 2/2 [00:00&lt;00:00, 45.37it/s]"
          }
        },
        "9f364536808c4b96b809a8fa7f368778": {
          "model_module": "@jupyter-widgets/base",
          "model_module_version": "1.2.0",
          "model_name": "LayoutModel",
          "state": {
            "_model_module": "@jupyter-widgets/base",
            "_model_module_version": "1.2.0",
            "_model_name": "LayoutModel",
            "_view_count": null,
            "_view_module": "@jupyter-widgets/base",
            "_view_module_version": "1.2.0",
            "_view_name": "LayoutView",
            "align_content": null,
            "align_items": null,
            "align_self": null,
            "border": null,
            "bottom": null,
            "display": null,
            "flex": null,
            "flex_flow": null,
            "grid_area": null,
            "grid_auto_columns": null,
            "grid_auto_flow": null,
            "grid_auto_rows": null,
            "grid_column": null,
            "grid_gap": null,
            "grid_row": null,
            "grid_template_areas": null,
            "grid_template_columns": null,
            "grid_template_rows": null,
            "height": null,
            "justify_content": null,
            "justify_items": null,
            "left": null,
            "margin": null,
            "max_height": null,
            "max_width": null,
            "min_height": null,
            "min_width": null,
            "object_fit": null,
            "object_position": null,
            "order": null,
            "overflow": null,
            "overflow_x": null,
            "overflow_y": null,
            "padding": null,
            "right": null,
            "top": null,
            "visibility": null,
            "width": null
          }
        },
        "9f94ceb9154e41668e882a0b8bbbd67d": {
          "model_module": "@jupyter-widgets/base",
          "model_module_version": "1.2.0",
          "model_name": "LayoutModel",
          "state": {
            "_model_module": "@jupyter-widgets/base",
            "_model_module_version": "1.2.0",
            "_model_name": "LayoutModel",
            "_view_count": null,
            "_view_module": "@jupyter-widgets/base",
            "_view_module_version": "1.2.0",
            "_view_name": "LayoutView",
            "align_content": null,
            "align_items": null,
            "align_self": null,
            "border": null,
            "bottom": null,
            "display": null,
            "flex": null,
            "flex_flow": null,
            "grid_area": null,
            "grid_auto_columns": null,
            "grid_auto_flow": null,
            "grid_auto_rows": null,
            "grid_column": null,
            "grid_gap": null,
            "grid_row": null,
            "grid_template_areas": null,
            "grid_template_columns": null,
            "grid_template_rows": null,
            "height": null,
            "justify_content": null,
            "justify_items": null,
            "left": null,
            "margin": null,
            "max_height": null,
            "max_width": null,
            "min_height": null,
            "min_width": null,
            "object_fit": null,
            "object_position": null,
            "order": null,
            "overflow": null,
            "overflow_x": null,
            "overflow_y": null,
            "padding": null,
            "right": null,
            "top": null,
            "visibility": null,
            "width": null
          }
        },
        "9fc2bf935590464cbb3a47519a53acd2": {
          "model_module": "@jupyter-widgets/base",
          "model_module_version": "1.2.0",
          "model_name": "LayoutModel",
          "state": {
            "_model_module": "@jupyter-widgets/base",
            "_model_module_version": "1.2.0",
            "_model_name": "LayoutModel",
            "_view_count": null,
            "_view_module": "@jupyter-widgets/base",
            "_view_module_version": "1.2.0",
            "_view_name": "LayoutView",
            "align_content": null,
            "align_items": null,
            "align_self": null,
            "border": null,
            "bottom": null,
            "display": null,
            "flex": null,
            "flex_flow": null,
            "grid_area": null,
            "grid_auto_columns": null,
            "grid_auto_flow": null,
            "grid_auto_rows": null,
            "grid_column": null,
            "grid_gap": null,
            "grid_row": null,
            "grid_template_areas": null,
            "grid_template_columns": null,
            "grid_template_rows": null,
            "height": null,
            "justify_content": null,
            "justify_items": null,
            "left": null,
            "margin": null,
            "max_height": null,
            "max_width": null,
            "min_height": null,
            "min_width": null,
            "object_fit": null,
            "object_position": null,
            "order": null,
            "overflow": null,
            "overflow_x": null,
            "overflow_y": null,
            "padding": null,
            "right": null,
            "top": null,
            "visibility": null,
            "width": null
          }
        },
        "a590c12ea847472fbafb126b5c073b33": {
          "model_module": "@jupyter-widgets/controls",
          "model_module_version": "1.5.0",
          "model_name": "HBoxModel",
          "state": {
            "_dom_classes": [],
            "_model_module": "@jupyter-widgets/controls",
            "_model_module_version": "1.5.0",
            "_model_name": "HBoxModel",
            "_view_count": null,
            "_view_module": "@jupyter-widgets/controls",
            "_view_module_version": "1.5.0",
            "_view_name": "HBoxView",
            "box_style": "",
            "children": [
              "IPY_MODEL_b3c0ac89e0c8444b8f237ab4ca81ccd1",
              "IPY_MODEL_9de9f0bebedd4fe6a320274078ea53d0",
              "IPY_MODEL_52f2ce5ae7d749b29ef80b65a885fd1e"
            ],
            "layout": "IPY_MODEL_ae97106ccb1f447db9c300db00274ff3"
          }
        },
        "a707dc5c546e4c87a348dae960139bbc": {
          "model_module": "@jupyter-widgets/base",
          "model_module_version": "1.2.0",
          "model_name": "LayoutModel",
          "state": {
            "_model_module": "@jupyter-widgets/base",
            "_model_module_version": "1.2.0",
            "_model_name": "LayoutModel",
            "_view_count": null,
            "_view_module": "@jupyter-widgets/base",
            "_view_module_version": "1.2.0",
            "_view_name": "LayoutView",
            "align_content": null,
            "align_items": null,
            "align_self": null,
            "border": null,
            "bottom": null,
            "display": null,
            "flex": null,
            "flex_flow": null,
            "grid_area": null,
            "grid_auto_columns": null,
            "grid_auto_flow": null,
            "grid_auto_rows": null,
            "grid_column": null,
            "grid_gap": null,
            "grid_row": null,
            "grid_template_areas": null,
            "grid_template_columns": null,
            "grid_template_rows": null,
            "height": null,
            "justify_content": null,
            "justify_items": null,
            "left": null,
            "margin": null,
            "max_height": null,
            "max_width": null,
            "min_height": null,
            "min_width": null,
            "object_fit": null,
            "object_position": null,
            "order": null,
            "overflow": null,
            "overflow_x": null,
            "overflow_y": null,
            "padding": null,
            "right": null,
            "top": null,
            "visibility": null,
            "width": null
          }
        },
        "a797845f02db41708a9487b38b22af71": {
          "model_module": "@jupyter-widgets/controls",
          "model_module_version": "1.5.0",
          "model_name": "DescriptionStyleModel",
          "state": {
            "_model_module": "@jupyter-widgets/controls",
            "_model_module_version": "1.5.0",
            "_model_name": "DescriptionStyleModel",
            "_view_count": null,
            "_view_module": "@jupyter-widgets/base",
            "_view_module_version": "1.2.0",
            "_view_name": "StyleView",
            "description_width": ""
          }
        },
        "abaaefd14701411fab68966fc3b925f9": {
          "model_module": "@jupyter-widgets/controls",
          "model_module_version": "1.5.0",
          "model_name": "HTMLModel",
          "state": {
            "_dom_classes": [],
            "_model_module": "@jupyter-widgets/controls",
            "_model_module_version": "1.5.0",
            "_model_name": "HTMLModel",
            "_view_count": null,
            "_view_module": "@jupyter-widgets/controls",
            "_view_module_version": "1.5.0",
            "_view_name": "HTMLView",
            "description": "",
            "description_tooltip": null,
            "layout": "IPY_MODEL_d8c840ae342e4769a43b5d0d4acf14aa",
            "placeholder": "​",
            "style": "IPY_MODEL_dd2cae9ef30b473eb90876e0f6a2c5d4",
            "value": "Extracting data files: 100%"
          }
        },
        "abafbfaca08049ec93b54ecef400f1cc": {
          "model_module": "@jupyter-widgets/controls",
          "model_module_version": "1.5.0",
          "model_name": "HTMLModel",
          "state": {
            "_dom_classes": [],
            "_model_module": "@jupyter-widgets/controls",
            "_model_module_version": "1.5.0",
            "_model_name": "HTMLModel",
            "_view_count": null,
            "_view_module": "@jupyter-widgets/controls",
            "_view_module_version": "1.5.0",
            "_view_name": "HTMLView",
            "description": "",
            "description_tooltip": null,
            "layout": "IPY_MODEL_3f330db133c64376bbd12d93be16a862",
            "placeholder": "​",
            "style": "IPY_MODEL_c39299ffa3da4bbaa992503c59cbfcb7",
            "value": ""
          }
        },
        "abcd0b3233de4098abad05334bc77e01": {
          "model_module": "@jupyter-widgets/controls",
          "model_module_version": "1.5.0",
          "model_name": "HBoxModel",
          "state": {
            "_dom_classes": [],
            "_model_module": "@jupyter-widgets/controls",
            "_model_module_version": "1.5.0",
            "_model_name": "HBoxModel",
            "_view_count": null,
            "_view_module": "@jupyter-widgets/controls",
            "_view_module_version": "1.5.0",
            "_view_name": "HBoxView",
            "box_style": "",
            "children": [
              "IPY_MODEL_3cd1833de0e249869ac95e86c1c3a9b4",
              "IPY_MODEL_4ef138fc198147198a57b0d8690ce396",
              "IPY_MODEL_6f32f28b8a55480b818a124b6856e331"
            ],
            "layout": "IPY_MODEL_d0ca76729d4d4c0fa93c1468afdc52be"
          }
        },
        "ae4db7e4f27c480d979fe5b675d6d151": {
          "model_module": "@jupyter-widgets/base",
          "model_module_version": "1.2.0",
          "model_name": "LayoutModel",
          "state": {
            "_model_module": "@jupyter-widgets/base",
            "_model_module_version": "1.2.0",
            "_model_name": "LayoutModel",
            "_view_count": null,
            "_view_module": "@jupyter-widgets/base",
            "_view_module_version": "1.2.0",
            "_view_name": "LayoutView",
            "align_content": null,
            "align_items": null,
            "align_self": null,
            "border": null,
            "bottom": null,
            "display": null,
            "flex": null,
            "flex_flow": null,
            "grid_area": null,
            "grid_auto_columns": null,
            "grid_auto_flow": null,
            "grid_auto_rows": null,
            "grid_column": null,
            "grid_gap": null,
            "grid_row": null,
            "grid_template_areas": null,
            "grid_template_columns": null,
            "grid_template_rows": null,
            "height": null,
            "justify_content": null,
            "justify_items": null,
            "left": null,
            "margin": null,
            "max_height": null,
            "max_width": null,
            "min_height": null,
            "min_width": null,
            "object_fit": null,
            "object_position": null,
            "order": null,
            "overflow": null,
            "overflow_x": null,
            "overflow_y": null,
            "padding": null,
            "right": null,
            "top": null,
            "visibility": null,
            "width": "20px"
          }
        },
        "ae885e94738d4ab2bc77aca3d75d55c7": {
          "model_module": "@jupyter-widgets/base",
          "model_module_version": "1.2.0",
          "model_name": "LayoutModel",
          "state": {
            "_model_module": "@jupyter-widgets/base",
            "_model_module_version": "1.2.0",
            "_model_name": "LayoutModel",
            "_view_count": null,
            "_view_module": "@jupyter-widgets/base",
            "_view_module_version": "1.2.0",
            "_view_name": "LayoutView",
            "align_content": null,
            "align_items": null,
            "align_self": null,
            "border": null,
            "bottom": null,
            "display": null,
            "flex": null,
            "flex_flow": null,
            "grid_area": null,
            "grid_auto_columns": null,
            "grid_auto_flow": null,
            "grid_auto_rows": null,
            "grid_column": null,
            "grid_gap": null,
            "grid_row": null,
            "grid_template_areas": null,
            "grid_template_columns": null,
            "grid_template_rows": null,
            "height": null,
            "justify_content": null,
            "justify_items": null,
            "left": null,
            "margin": null,
            "max_height": null,
            "max_width": null,
            "min_height": null,
            "min_width": null,
            "object_fit": null,
            "object_position": null,
            "order": null,
            "overflow": null,
            "overflow_x": null,
            "overflow_y": null,
            "padding": null,
            "right": null,
            "top": null,
            "visibility": null,
            "width": null
          }
        },
        "ae97106ccb1f447db9c300db00274ff3": {
          "model_module": "@jupyter-widgets/base",
          "model_module_version": "1.2.0",
          "model_name": "LayoutModel",
          "state": {
            "_model_module": "@jupyter-widgets/base",
            "_model_module_version": "1.2.0",
            "_model_name": "LayoutModel",
            "_view_count": null,
            "_view_module": "@jupyter-widgets/base",
            "_view_module_version": "1.2.0",
            "_view_name": "LayoutView",
            "align_content": null,
            "align_items": null,
            "align_self": null,
            "border": null,
            "bottom": null,
            "display": null,
            "flex": null,
            "flex_flow": null,
            "grid_area": null,
            "grid_auto_columns": null,
            "grid_auto_flow": null,
            "grid_auto_rows": null,
            "grid_column": null,
            "grid_gap": null,
            "grid_row": null,
            "grid_template_areas": null,
            "grid_template_columns": null,
            "grid_template_rows": null,
            "height": null,
            "justify_content": null,
            "justify_items": null,
            "left": null,
            "margin": null,
            "max_height": null,
            "max_width": null,
            "min_height": null,
            "min_width": null,
            "object_fit": null,
            "object_position": null,
            "order": null,
            "overflow": null,
            "overflow_x": null,
            "overflow_y": null,
            "padding": null,
            "right": null,
            "top": null,
            "visibility": null,
            "width": null
          }
        },
        "b014478906924c369d92c8735562b3a1": {
          "model_module": "@jupyter-widgets/base",
          "model_module_version": "1.2.0",
          "model_name": "LayoutModel",
          "state": {
            "_model_module": "@jupyter-widgets/base",
            "_model_module_version": "1.2.0",
            "_model_name": "LayoutModel",
            "_view_count": null,
            "_view_module": "@jupyter-widgets/base",
            "_view_module_version": "1.2.0",
            "_view_name": "LayoutView",
            "align_content": null,
            "align_items": null,
            "align_self": null,
            "border": null,
            "bottom": null,
            "display": null,
            "flex": null,
            "flex_flow": null,
            "grid_area": null,
            "grid_auto_columns": null,
            "grid_auto_flow": null,
            "grid_auto_rows": null,
            "grid_column": null,
            "grid_gap": null,
            "grid_row": null,
            "grid_template_areas": null,
            "grid_template_columns": null,
            "grid_template_rows": null,
            "height": null,
            "justify_content": null,
            "justify_items": null,
            "left": null,
            "margin": null,
            "max_height": null,
            "max_width": null,
            "min_height": null,
            "min_width": null,
            "object_fit": null,
            "object_position": null,
            "order": null,
            "overflow": null,
            "overflow_x": null,
            "overflow_y": null,
            "padding": null,
            "right": null,
            "top": null,
            "visibility": null,
            "width": null
          }
        },
        "b3c0ac89e0c8444b8f237ab4ca81ccd1": {
          "model_module": "@jupyter-widgets/controls",
          "model_module_version": "1.5.0",
          "model_name": "HTMLModel",
          "state": {
            "_dom_classes": [],
            "_model_module": "@jupyter-widgets/controls",
            "_model_module_version": "1.5.0",
            "_model_name": "HTMLModel",
            "_view_count": null,
            "_view_module": "@jupyter-widgets/controls",
            "_view_module_version": "1.5.0",
            "_view_name": "HTMLView",
            "description": "",
            "description_tooltip": null,
            "layout": "IPY_MODEL_499fa2c609e34ca0bb26cbbc24b4f8b3",
            "placeholder": "​",
            "style": "IPY_MODEL_e3bef294ab224ec09d19118d4913ae16",
            "value": "100%"
          }
        },
        "b70ae1bb76834e3fa60ed7d2e596218a": {
          "model_module": "@jupyter-widgets/controls",
          "model_module_version": "1.5.0",
          "model_name": "DescriptionStyleModel",
          "state": {
            "_model_module": "@jupyter-widgets/controls",
            "_model_module_version": "1.5.0",
            "_model_name": "DescriptionStyleModel",
            "_view_count": null,
            "_view_module": "@jupyter-widgets/base",
            "_view_module_version": "1.2.0",
            "_view_name": "StyleView",
            "description_width": ""
          }
        },
        "b86aa3d5059a45479ffb0b9f26b02934": {
          "model_module": "@jupyter-widgets/base",
          "model_module_version": "1.2.0",
          "model_name": "LayoutModel",
          "state": {
            "_model_module": "@jupyter-widgets/base",
            "_model_module_version": "1.2.0",
            "_model_name": "LayoutModel",
            "_view_count": null,
            "_view_module": "@jupyter-widgets/base",
            "_view_module_version": "1.2.0",
            "_view_name": "LayoutView",
            "align_content": null,
            "align_items": null,
            "align_self": null,
            "border": null,
            "bottom": null,
            "display": null,
            "flex": null,
            "flex_flow": null,
            "grid_area": null,
            "grid_auto_columns": null,
            "grid_auto_flow": null,
            "grid_auto_rows": null,
            "grid_column": null,
            "grid_gap": null,
            "grid_row": null,
            "grid_template_areas": null,
            "grid_template_columns": null,
            "grid_template_rows": null,
            "height": null,
            "justify_content": null,
            "justify_items": null,
            "left": null,
            "margin": null,
            "max_height": null,
            "max_width": null,
            "min_height": null,
            "min_width": null,
            "object_fit": null,
            "object_position": null,
            "order": null,
            "overflow": null,
            "overflow_x": null,
            "overflow_y": null,
            "padding": null,
            "right": null,
            "top": null,
            "visibility": null,
            "width": "20px"
          }
        },
        "b8efda51002a487bbbfdceb01ee74461": {
          "model_module": "@jupyter-widgets/base",
          "model_module_version": "1.2.0",
          "model_name": "LayoutModel",
          "state": {
            "_model_module": "@jupyter-widgets/base",
            "_model_module_version": "1.2.0",
            "_model_name": "LayoutModel",
            "_view_count": null,
            "_view_module": "@jupyter-widgets/base",
            "_view_module_version": "1.2.0",
            "_view_name": "LayoutView",
            "align_content": null,
            "align_items": null,
            "align_self": null,
            "border": null,
            "bottom": null,
            "display": null,
            "flex": null,
            "flex_flow": null,
            "grid_area": null,
            "grid_auto_columns": null,
            "grid_auto_flow": null,
            "grid_auto_rows": null,
            "grid_column": null,
            "grid_gap": null,
            "grid_row": null,
            "grid_template_areas": null,
            "grid_template_columns": null,
            "grid_template_rows": null,
            "height": null,
            "justify_content": null,
            "justify_items": null,
            "left": null,
            "margin": null,
            "max_height": null,
            "max_width": null,
            "min_height": null,
            "min_width": null,
            "object_fit": null,
            "object_position": null,
            "order": null,
            "overflow": null,
            "overflow_x": null,
            "overflow_y": null,
            "padding": null,
            "right": null,
            "top": null,
            "visibility": null,
            "width": null
          }
        },
        "bb15f167adc746b78a10b6c9b5f0bf29": {
          "model_module": "@jupyter-widgets/controls",
          "model_module_version": "1.5.0",
          "model_name": "HBoxModel",
          "state": {
            "_dom_classes": [],
            "_model_module": "@jupyter-widgets/controls",
            "_model_module_version": "1.5.0",
            "_model_name": "HBoxModel",
            "_view_count": null,
            "_view_module": "@jupyter-widgets/controls",
            "_view_module_version": "1.5.0",
            "_view_name": "HBoxView",
            "box_style": "",
            "children": [
              "IPY_MODEL_0fb7a89de5a04bc6b7f32b43b61f52b6",
              "IPY_MODEL_1177257137684bd0ab994cc8e7be81f4",
              "IPY_MODEL_9e022f939b0942a5abeb8b667e228d8f"
            ],
            "layout": "IPY_MODEL_fd92f63d6aa2486e8243fe62769c61d7"
          }
        },
        "bc12617fbefe41d2b4b13ea2b697856d": {
          "model_module": "@jupyter-widgets/base",
          "model_module_version": "1.2.0",
          "model_name": "LayoutModel",
          "state": {
            "_model_module": "@jupyter-widgets/base",
            "_model_module_version": "1.2.0",
            "_model_name": "LayoutModel",
            "_view_count": null,
            "_view_module": "@jupyter-widgets/base",
            "_view_module_version": "1.2.0",
            "_view_name": "LayoutView",
            "align_content": null,
            "align_items": null,
            "align_self": null,
            "border": null,
            "bottom": null,
            "display": null,
            "flex": null,
            "flex_flow": null,
            "grid_area": null,
            "grid_auto_columns": null,
            "grid_auto_flow": null,
            "grid_auto_rows": null,
            "grid_column": null,
            "grid_gap": null,
            "grid_row": null,
            "grid_template_areas": null,
            "grid_template_columns": null,
            "grid_template_rows": null,
            "height": null,
            "justify_content": null,
            "justify_items": null,
            "left": null,
            "margin": null,
            "max_height": null,
            "max_width": null,
            "min_height": null,
            "min_width": null,
            "object_fit": null,
            "object_position": null,
            "order": null,
            "overflow": null,
            "overflow_x": null,
            "overflow_y": null,
            "padding": null,
            "right": null,
            "top": null,
            "visibility": null,
            "width": null
          }
        },
        "c1a2aae235c743efae196d2a36bca142": {
          "model_module": "@jupyter-widgets/controls",
          "model_module_version": "1.5.0",
          "model_name": "ProgressStyleModel",
          "state": {
            "_model_module": "@jupyter-widgets/controls",
            "_model_module_version": "1.5.0",
            "_model_name": "ProgressStyleModel",
            "_view_count": null,
            "_view_module": "@jupyter-widgets/base",
            "_view_module_version": "1.2.0",
            "_view_name": "StyleView",
            "bar_color": null,
            "description_width": ""
          }
        },
        "c274404d0fe94bb7beec87f423011425": {
          "model_module": "@jupyter-widgets/controls",
          "model_module_version": "1.5.0",
          "model_name": "ProgressStyleModel",
          "state": {
            "_model_module": "@jupyter-widgets/controls",
            "_model_module_version": "1.5.0",
            "_model_name": "ProgressStyleModel",
            "_view_count": null,
            "_view_module": "@jupyter-widgets/base",
            "_view_module_version": "1.2.0",
            "_view_name": "StyleView",
            "bar_color": null,
            "description_width": ""
          }
        },
        "c39299ffa3da4bbaa992503c59cbfcb7": {
          "model_module": "@jupyter-widgets/controls",
          "model_module_version": "1.5.0",
          "model_name": "DescriptionStyleModel",
          "state": {
            "_model_module": "@jupyter-widgets/controls",
            "_model_module_version": "1.5.0",
            "_model_name": "DescriptionStyleModel",
            "_view_count": null,
            "_view_module": "@jupyter-widgets/base",
            "_view_module_version": "1.2.0",
            "_view_name": "StyleView",
            "description_width": ""
          }
        },
        "c4317dbaae924beb95c8a58fca4d39bf": {
          "model_module": "@jupyter-widgets/base",
          "model_module_version": "1.2.0",
          "model_name": "LayoutModel",
          "state": {
            "_model_module": "@jupyter-widgets/base",
            "_model_module_version": "1.2.0",
            "_model_name": "LayoutModel",
            "_view_count": null,
            "_view_module": "@jupyter-widgets/base",
            "_view_module_version": "1.2.0",
            "_view_name": "LayoutView",
            "align_content": null,
            "align_items": null,
            "align_self": null,
            "border": null,
            "bottom": null,
            "display": null,
            "flex": null,
            "flex_flow": null,
            "grid_area": null,
            "grid_auto_columns": null,
            "grid_auto_flow": null,
            "grid_auto_rows": null,
            "grid_column": null,
            "grid_gap": null,
            "grid_row": null,
            "grid_template_areas": null,
            "grid_template_columns": null,
            "grid_template_rows": null,
            "height": null,
            "justify_content": null,
            "justify_items": null,
            "left": null,
            "margin": null,
            "max_height": null,
            "max_width": null,
            "min_height": null,
            "min_width": null,
            "object_fit": null,
            "object_position": null,
            "order": null,
            "overflow": null,
            "overflow_x": null,
            "overflow_y": null,
            "padding": null,
            "right": null,
            "top": null,
            "visibility": null,
            "width": null
          }
        },
        "c509cf3859d14851a48094292024c78f": {
          "model_module": "@jupyter-widgets/controls",
          "model_module_version": "1.5.0",
          "model_name": "HBoxModel",
          "state": {
            "_dom_classes": [],
            "_model_module": "@jupyter-widgets/controls",
            "_model_module_version": "1.5.0",
            "_model_name": "HBoxModel",
            "_view_count": null,
            "_view_module": "@jupyter-widgets/controls",
            "_view_module_version": "1.5.0",
            "_view_name": "HBoxView",
            "box_style": "",
            "children": [
              "IPY_MODEL_953d9db7325f4a589bbe087f580d9d38",
              "IPY_MODEL_e14881e946ea451596267472cf31bed2",
              "IPY_MODEL_06e3e14aff484da092a018e042099c0b"
            ],
            "layout": "IPY_MODEL_3a9f934e0d0d4137bd06cb205130fd1d"
          }
        },
        "c63ce2bb70a340619da664fd9bf9ae1c": {
          "model_module": "@jupyter-widgets/controls",
          "model_module_version": "1.5.0",
          "model_name": "DescriptionStyleModel",
          "state": {
            "_model_module": "@jupyter-widgets/controls",
            "_model_module_version": "1.5.0",
            "_model_name": "DescriptionStyleModel",
            "_view_count": null,
            "_view_module": "@jupyter-widgets/base",
            "_view_module_version": "1.2.0",
            "_view_name": "StyleView",
            "description_width": ""
          }
        },
        "c973f52c69b84c5eb9770be25eab45de": {
          "model_module": "@jupyter-widgets/controls",
          "model_module_version": "1.5.0",
          "model_name": "DescriptionStyleModel",
          "state": {
            "_model_module": "@jupyter-widgets/controls",
            "_model_module_version": "1.5.0",
            "_model_name": "DescriptionStyleModel",
            "_view_count": null,
            "_view_module": "@jupyter-widgets/base",
            "_view_module_version": "1.2.0",
            "_view_name": "StyleView",
            "description_width": ""
          }
        },
        "cb2e8bebb8ee44b29f6d76aebe003a8b": {
          "model_module": "@jupyter-widgets/controls",
          "model_module_version": "1.5.0",
          "model_name": "DescriptionStyleModel",
          "state": {
            "_model_module": "@jupyter-widgets/controls",
            "_model_module_version": "1.5.0",
            "_model_name": "DescriptionStyleModel",
            "_view_count": null,
            "_view_module": "@jupyter-widgets/base",
            "_view_module_version": "1.2.0",
            "_view_name": "StyleView",
            "description_width": ""
          }
        },
        "cc3d07cae00a4e96ba5198285818e275": {
          "model_module": "@jupyter-widgets/base",
          "model_module_version": "1.2.0",
          "model_name": "LayoutModel",
          "state": {
            "_model_module": "@jupyter-widgets/base",
            "_model_module_version": "1.2.0",
            "_model_name": "LayoutModel",
            "_view_count": null,
            "_view_module": "@jupyter-widgets/base",
            "_view_module_version": "1.2.0",
            "_view_name": "LayoutView",
            "align_content": null,
            "align_items": null,
            "align_self": null,
            "border": null,
            "bottom": null,
            "display": null,
            "flex": null,
            "flex_flow": null,
            "grid_area": null,
            "grid_auto_columns": null,
            "grid_auto_flow": null,
            "grid_auto_rows": null,
            "grid_column": null,
            "grid_gap": null,
            "grid_row": null,
            "grid_template_areas": null,
            "grid_template_columns": null,
            "grid_template_rows": null,
            "height": null,
            "justify_content": null,
            "justify_items": null,
            "left": null,
            "margin": null,
            "max_height": null,
            "max_width": null,
            "min_height": null,
            "min_width": null,
            "object_fit": null,
            "object_position": null,
            "order": null,
            "overflow": null,
            "overflow_x": null,
            "overflow_y": null,
            "padding": null,
            "right": null,
            "top": null,
            "visibility": null,
            "width": null
          }
        },
        "cee12d85428348e984c6d173fde114c4": {
          "model_module": "@jupyter-widgets/controls",
          "model_module_version": "1.5.0",
          "model_name": "DescriptionStyleModel",
          "state": {
            "_model_module": "@jupyter-widgets/controls",
            "_model_module_version": "1.5.0",
            "_model_name": "DescriptionStyleModel",
            "_view_count": null,
            "_view_module": "@jupyter-widgets/base",
            "_view_module_version": "1.2.0",
            "_view_name": "StyleView",
            "description_width": ""
          }
        },
        "d0ca76729d4d4c0fa93c1468afdc52be": {
          "model_module": "@jupyter-widgets/base",
          "model_module_version": "1.2.0",
          "model_name": "LayoutModel",
          "state": {
            "_model_module": "@jupyter-widgets/base",
            "_model_module_version": "1.2.0",
            "_model_name": "LayoutModel",
            "_view_count": null,
            "_view_module": "@jupyter-widgets/base",
            "_view_module_version": "1.2.0",
            "_view_name": "LayoutView",
            "align_content": null,
            "align_items": null,
            "align_self": null,
            "border": null,
            "bottom": null,
            "display": null,
            "flex": null,
            "flex_flow": null,
            "grid_area": null,
            "grid_auto_columns": null,
            "grid_auto_flow": null,
            "grid_auto_rows": null,
            "grid_column": null,
            "grid_gap": null,
            "grid_row": null,
            "grid_template_areas": null,
            "grid_template_columns": null,
            "grid_template_rows": null,
            "height": null,
            "justify_content": null,
            "justify_items": null,
            "left": null,
            "margin": null,
            "max_height": null,
            "max_width": null,
            "min_height": null,
            "min_width": null,
            "object_fit": null,
            "object_position": null,
            "order": null,
            "overflow": null,
            "overflow_x": null,
            "overflow_y": null,
            "padding": null,
            "right": null,
            "top": null,
            "visibility": null,
            "width": null
          }
        },
        "d2411397d8a54aaf947ff9e6d7851ddc": {
          "model_module": "@jupyter-widgets/controls",
          "model_module_version": "1.5.0",
          "model_name": "HTMLModel",
          "state": {
            "_dom_classes": [],
            "_model_module": "@jupyter-widgets/controls",
            "_model_module_version": "1.5.0",
            "_model_name": "HTMLModel",
            "_view_count": null,
            "_view_module": "@jupyter-widgets/controls",
            "_view_module_version": "1.5.0",
            "_view_name": "HTMLView",
            "description": "",
            "description_tooltip": null,
            "layout": "IPY_MODEL_bc12617fbefe41d2b4b13ea2b697856d",
            "placeholder": "​",
            "style": "IPY_MODEL_0e51a92b2bc4479f9b2a127ddf2862c7",
            "value": "Downloading tokenizer.json: 100%"
          }
        },
        "d33b8305d4494fff8f9970f2e77abf3b": {
          "model_module": "@jupyter-widgets/controls",
          "model_module_version": "1.5.0",
          "model_name": "HTMLModel",
          "state": {
            "_dom_classes": [],
            "_model_module": "@jupyter-widgets/controls",
            "_model_module_version": "1.5.0",
            "_model_name": "HTMLModel",
            "_view_count": null,
            "_view_module": "@jupyter-widgets/controls",
            "_view_module_version": "1.5.0",
            "_view_name": "HTMLView",
            "description": "",
            "description_tooltip": null,
            "layout": "IPY_MODEL_ae885e94738d4ab2bc77aca3d75d55c7",
            "placeholder": "​",
            "style": "IPY_MODEL_776c074106fb403f8196040257f8e0d7",
            "value": ""
          }
        },
        "d3a20be5dfc54d3fa1ae670492cc4ba8": {
          "model_module": "@jupyter-widgets/controls",
          "model_module_version": "1.5.0",
          "model_name": "HBoxModel",
          "state": {
            "_dom_classes": [],
            "_model_module": "@jupyter-widgets/controls",
            "_model_module_version": "1.5.0",
            "_model_name": "HBoxModel",
            "_view_count": null,
            "_view_module": "@jupyter-widgets/controls",
            "_view_module_version": "1.5.0",
            "_view_name": "HBoxView",
            "box_style": "",
            "children": [
              "IPY_MODEL_d7687beb50744fcd8876366f57d88d48",
              "IPY_MODEL_fcb24ceafc4840a3a55d9595b2bf7829",
              "IPY_MODEL_768f7a0613fc4861a607eb9ae5a6be34"
            ],
            "layout": "IPY_MODEL_41db81ec90424b05bdfc1bb6cf2722cf"
          }
        },
        "d4e25191f94847a29445c4035f2ccd7e": {
          "model_module": "@jupyter-widgets/controls",
          "model_module_version": "1.5.0",
          "model_name": "ProgressStyleModel",
          "state": {
            "_model_module": "@jupyter-widgets/controls",
            "_model_module_version": "1.5.0",
            "_model_name": "ProgressStyleModel",
            "_view_count": null,
            "_view_module": "@jupyter-widgets/base",
            "_view_module_version": "1.2.0",
            "_view_name": "StyleView",
            "bar_color": null,
            "description_width": ""
          }
        },
        "d716eeb5c2944415bea79716f5ae7553": {
          "model_module": "@jupyter-widgets/base",
          "model_module_version": "1.2.0",
          "model_name": "LayoutModel",
          "state": {
            "_model_module": "@jupyter-widgets/base",
            "_model_module_version": "1.2.0",
            "_model_name": "LayoutModel",
            "_view_count": null,
            "_view_module": "@jupyter-widgets/base",
            "_view_module_version": "1.2.0",
            "_view_name": "LayoutView",
            "align_content": null,
            "align_items": null,
            "align_self": null,
            "border": null,
            "bottom": null,
            "display": null,
            "flex": null,
            "flex_flow": null,
            "grid_area": null,
            "grid_auto_columns": null,
            "grid_auto_flow": null,
            "grid_auto_rows": null,
            "grid_column": null,
            "grid_gap": null,
            "grid_row": null,
            "grid_template_areas": null,
            "grid_template_columns": null,
            "grid_template_rows": null,
            "height": null,
            "justify_content": null,
            "justify_items": null,
            "left": null,
            "margin": null,
            "max_height": null,
            "max_width": null,
            "min_height": null,
            "min_width": null,
            "object_fit": null,
            "object_position": null,
            "order": null,
            "overflow": null,
            "overflow_x": null,
            "overflow_y": null,
            "padding": null,
            "right": null,
            "top": null,
            "visibility": null,
            "width": null
          }
        },
        "d7687beb50744fcd8876366f57d88d48": {
          "model_module": "@jupyter-widgets/controls",
          "model_module_version": "1.5.0",
          "model_name": "HTMLModel",
          "state": {
            "_dom_classes": [],
            "_model_module": "@jupyter-widgets/controls",
            "_model_module_version": "1.5.0",
            "_model_name": "HTMLModel",
            "_view_count": null,
            "_view_module": "@jupyter-widgets/controls",
            "_view_module_version": "1.5.0",
            "_view_name": "HTMLView",
            "description": "",
            "description_tooltip": null,
            "layout": "IPY_MODEL_d779d38a5f2d462aa15f79bd4df494cf",
            "placeholder": "​",
            "style": "IPY_MODEL_21079b667dcd48489bc32aa6f95a4bae",
            "value": "Downloading config.json: 100%"
          }
        },
        "d779d38a5f2d462aa15f79bd4df494cf": {
          "model_module": "@jupyter-widgets/base",
          "model_module_version": "1.2.0",
          "model_name": "LayoutModel",
          "state": {
            "_model_module": "@jupyter-widgets/base",
            "_model_module_version": "1.2.0",
            "_model_name": "LayoutModel",
            "_view_count": null,
            "_view_module": "@jupyter-widgets/base",
            "_view_module_version": "1.2.0",
            "_view_name": "LayoutView",
            "align_content": null,
            "align_items": null,
            "align_self": null,
            "border": null,
            "bottom": null,
            "display": null,
            "flex": null,
            "flex_flow": null,
            "grid_area": null,
            "grid_auto_columns": null,
            "grid_auto_flow": null,
            "grid_auto_rows": null,
            "grid_column": null,
            "grid_gap": null,
            "grid_row": null,
            "grid_template_areas": null,
            "grid_template_columns": null,
            "grid_template_rows": null,
            "height": null,
            "justify_content": null,
            "justify_items": null,
            "left": null,
            "margin": null,
            "max_height": null,
            "max_width": null,
            "min_height": null,
            "min_width": null,
            "object_fit": null,
            "object_position": null,
            "order": null,
            "overflow": null,
            "overflow_x": null,
            "overflow_y": null,
            "padding": null,
            "right": null,
            "top": null,
            "visibility": null,
            "width": null
          }
        },
        "d8c840ae342e4769a43b5d0d4acf14aa": {
          "model_module": "@jupyter-widgets/base",
          "model_module_version": "1.2.0",
          "model_name": "LayoutModel",
          "state": {
            "_model_module": "@jupyter-widgets/base",
            "_model_module_version": "1.2.0",
            "_model_name": "LayoutModel",
            "_view_count": null,
            "_view_module": "@jupyter-widgets/base",
            "_view_module_version": "1.2.0",
            "_view_name": "LayoutView",
            "align_content": null,
            "align_items": null,
            "align_self": null,
            "border": null,
            "bottom": null,
            "display": null,
            "flex": null,
            "flex_flow": null,
            "grid_area": null,
            "grid_auto_columns": null,
            "grid_auto_flow": null,
            "grid_auto_rows": null,
            "grid_column": null,
            "grid_gap": null,
            "grid_row": null,
            "grid_template_areas": null,
            "grid_template_columns": null,
            "grid_template_rows": null,
            "height": null,
            "justify_content": null,
            "justify_items": null,
            "left": null,
            "margin": null,
            "max_height": null,
            "max_width": null,
            "min_height": null,
            "min_width": null,
            "object_fit": null,
            "object_position": null,
            "order": null,
            "overflow": null,
            "overflow_x": null,
            "overflow_y": null,
            "padding": null,
            "right": null,
            "top": null,
            "visibility": null,
            "width": null
          }
        },
        "dd2cae9ef30b473eb90876e0f6a2c5d4": {
          "model_module": "@jupyter-widgets/controls",
          "model_module_version": "1.5.0",
          "model_name": "DescriptionStyleModel",
          "state": {
            "_model_module": "@jupyter-widgets/controls",
            "_model_module_version": "1.5.0",
            "_model_name": "DescriptionStyleModel",
            "_view_count": null,
            "_view_module": "@jupyter-widgets/base",
            "_view_module_version": "1.2.0",
            "_view_name": "StyleView",
            "description_width": ""
          }
        },
        "e14881e946ea451596267472cf31bed2": {
          "model_module": "@jupyter-widgets/controls",
          "model_module_version": "1.5.0",
          "model_name": "FloatProgressModel",
          "state": {
            "_dom_classes": [],
            "_model_module": "@jupyter-widgets/controls",
            "_model_module_version": "1.5.0",
            "_model_name": "FloatProgressModel",
            "_view_count": null,
            "_view_module": "@jupyter-widgets/controls",
            "_view_module_version": "1.5.0",
            "_view_name": "ProgressView",
            "bar_style": "success",
            "description": "",
            "description_tooltip": null,
            "layout": "IPY_MODEL_7adc0b721fe64db998a1c90aca828567",
            "max": 2,
            "min": 0,
            "orientation": "horizontal",
            "style": "IPY_MODEL_0f033b6f614145c396d036f040f9fffd",
            "value": 2
          }
        },
        "e3bef294ab224ec09d19118d4913ae16": {
          "model_module": "@jupyter-widgets/controls",
          "model_module_version": "1.5.0",
          "model_name": "DescriptionStyleModel",
          "state": {
            "_model_module": "@jupyter-widgets/controls",
            "_model_module_version": "1.5.0",
            "_model_name": "DescriptionStyleModel",
            "_view_count": null,
            "_view_module": "@jupyter-widgets/base",
            "_view_module_version": "1.2.0",
            "_view_name": "StyleView",
            "description_width": ""
          }
        },
        "e3c9065fa9f64288abcb2555c581df0b": {
          "model_module": "@jupyter-widgets/controls",
          "model_module_version": "1.5.0",
          "model_name": "HTMLModel",
          "state": {
            "_dom_classes": [],
            "_model_module": "@jupyter-widgets/controls",
            "_model_module_version": "1.5.0",
            "_model_name": "HTMLModel",
            "_view_count": null,
            "_view_module": "@jupyter-widgets/controls",
            "_view_module_version": "1.5.0",
            "_view_name": "HTMLView",
            "description": "",
            "description_tooltip": null,
            "layout": "IPY_MODEL_8ea5c15d20d441c6aa44ef8713f74b49",
            "placeholder": "​",
            "style": "IPY_MODEL_c63ce2bb70a340619da664fd9bf9ae1c",
            "value": "Downloading vocab.json: 100%"
          }
        },
        "e4e0084e5d8c4c848a80a917b1c3a282": {
          "model_module": "@jupyter-widgets/controls",
          "model_module_version": "1.5.0",
          "model_name": "FloatProgressModel",
          "state": {
            "_dom_classes": [],
            "_model_module": "@jupyter-widgets/controls",
            "_model_module_version": "1.5.0",
            "_model_name": "FloatProgressModel",
            "_view_count": null,
            "_view_module": "@jupyter-widgets/controls",
            "_view_module_version": "1.5.0",
            "_view_name": "ProgressView",
            "bar_style": "info",
            "description": "",
            "description_tooltip": null,
            "layout": "IPY_MODEL_ae4db7e4f27c480d979fe5b675d6d151",
            "max": 1,
            "min": 0,
            "orientation": "horizontal",
            "style": "IPY_MODEL_97a85ad04ffc465299acee6fec73a63f",
            "value": 1
          }
        },
        "e6647f3d034c47cdae964512b1473d39": {
          "model_module": "@jupyter-widgets/controls",
          "model_module_version": "1.5.0",
          "model_name": "DescriptionStyleModel",
          "state": {
            "_model_module": "@jupyter-widgets/controls",
            "_model_module_version": "1.5.0",
            "_model_name": "DescriptionStyleModel",
            "_view_count": null,
            "_view_module": "@jupyter-widgets/base",
            "_view_module_version": "1.2.0",
            "_view_name": "StyleView",
            "description_width": ""
          }
        },
        "e7c52dbba6574dcca0c8704655e889c8": {
          "model_module": "@jupyter-widgets/base",
          "model_module_version": "1.2.0",
          "model_name": "LayoutModel",
          "state": {
            "_model_module": "@jupyter-widgets/base",
            "_model_module_version": "1.2.0",
            "_model_name": "LayoutModel",
            "_view_count": null,
            "_view_module": "@jupyter-widgets/base",
            "_view_module_version": "1.2.0",
            "_view_name": "LayoutView",
            "align_content": null,
            "align_items": null,
            "align_self": null,
            "border": null,
            "bottom": null,
            "display": null,
            "flex": null,
            "flex_flow": null,
            "grid_area": null,
            "grid_auto_columns": null,
            "grid_auto_flow": null,
            "grid_auto_rows": null,
            "grid_column": null,
            "grid_gap": null,
            "grid_row": null,
            "grid_template_areas": null,
            "grid_template_columns": null,
            "grid_template_rows": null,
            "height": null,
            "justify_content": null,
            "justify_items": null,
            "left": null,
            "margin": null,
            "max_height": null,
            "max_width": null,
            "min_height": null,
            "min_width": null,
            "object_fit": null,
            "object_position": null,
            "order": null,
            "overflow": null,
            "overflow_x": null,
            "overflow_y": null,
            "padding": null,
            "right": null,
            "top": null,
            "visibility": null,
            "width": null
          }
        },
        "e839b8aed5e5417bad590b15098f22db": {
          "model_module": "@jupyter-widgets/controls",
          "model_module_version": "1.5.0",
          "model_name": "FloatProgressModel",
          "state": {
            "_dom_classes": [],
            "_model_module": "@jupyter-widgets/controls",
            "_model_module_version": "1.5.0",
            "_model_name": "FloatProgressModel",
            "_view_count": null,
            "_view_module": "@jupyter-widgets/controls",
            "_view_module_version": "1.5.0",
            "_view_name": "ProgressView",
            "bar_style": "success",
            "description": "",
            "description_tooltip": null,
            "layout": "IPY_MODEL_9f94ceb9154e41668e882a0b8bbbd67d",
            "max": 1,
            "min": 0,
            "orientation": "horizontal",
            "style": "IPY_MODEL_32641316325e4d03a439af3858b1d7f6",
            "value": 1
          }
        },
        "e99324c135b547c2bd732c0aa8da20b0": {
          "model_module": "@jupyter-widgets/controls",
          "model_module_version": "1.5.0",
          "model_name": "DescriptionStyleModel",
          "state": {
            "_model_module": "@jupyter-widgets/controls",
            "_model_module_version": "1.5.0",
            "_model_name": "DescriptionStyleModel",
            "_view_count": null,
            "_view_module": "@jupyter-widgets/base",
            "_view_module_version": "1.2.0",
            "_view_name": "StyleView",
            "description_width": ""
          }
        },
        "ede9bec91121482398dd92b2c2538d65": {
          "model_module": "@jupyter-widgets/base",
          "model_module_version": "1.2.0",
          "model_name": "LayoutModel",
          "state": {
            "_model_module": "@jupyter-widgets/base",
            "_model_module_version": "1.2.0",
            "_model_name": "LayoutModel",
            "_view_count": null,
            "_view_module": "@jupyter-widgets/base",
            "_view_module_version": "1.2.0",
            "_view_name": "LayoutView",
            "align_content": null,
            "align_items": null,
            "align_self": null,
            "border": null,
            "bottom": null,
            "display": null,
            "flex": null,
            "flex_flow": null,
            "grid_area": null,
            "grid_auto_columns": null,
            "grid_auto_flow": null,
            "grid_auto_rows": null,
            "grid_column": null,
            "grid_gap": null,
            "grid_row": null,
            "grid_template_areas": null,
            "grid_template_columns": null,
            "grid_template_rows": null,
            "height": null,
            "justify_content": null,
            "justify_items": null,
            "left": null,
            "margin": null,
            "max_height": null,
            "max_width": null,
            "min_height": null,
            "min_width": null,
            "object_fit": null,
            "object_position": null,
            "order": null,
            "overflow": null,
            "overflow_x": null,
            "overflow_y": null,
            "padding": null,
            "right": null,
            "top": null,
            "visibility": null,
            "width": null
          }
        },
        "f0ca73ace8eb4ed2843bd688d0d9f4c3": {
          "model_module": "@jupyter-widgets/base",
          "model_module_version": "1.2.0",
          "model_name": "LayoutModel",
          "state": {
            "_model_module": "@jupyter-widgets/base",
            "_model_module_version": "1.2.0",
            "_model_name": "LayoutModel",
            "_view_count": null,
            "_view_module": "@jupyter-widgets/base",
            "_view_module_version": "1.2.0",
            "_view_name": "LayoutView",
            "align_content": null,
            "align_items": null,
            "align_self": null,
            "border": null,
            "bottom": null,
            "display": null,
            "flex": null,
            "flex_flow": null,
            "grid_area": null,
            "grid_auto_columns": null,
            "grid_auto_flow": null,
            "grid_auto_rows": null,
            "grid_column": null,
            "grid_gap": null,
            "grid_row": null,
            "grid_template_areas": null,
            "grid_template_columns": null,
            "grid_template_rows": null,
            "height": null,
            "justify_content": null,
            "justify_items": null,
            "left": null,
            "margin": null,
            "max_height": null,
            "max_width": null,
            "min_height": null,
            "min_width": null,
            "object_fit": null,
            "object_position": null,
            "order": null,
            "overflow": null,
            "overflow_x": null,
            "overflow_y": null,
            "padding": null,
            "right": null,
            "top": null,
            "visibility": null,
            "width": null
          }
        },
        "f1dbd914a45548e594becb02b990d0a3": {
          "model_module": "@jupyter-widgets/base",
          "model_module_version": "1.2.0",
          "model_name": "LayoutModel",
          "state": {
            "_model_module": "@jupyter-widgets/base",
            "_model_module_version": "1.2.0",
            "_model_name": "LayoutModel",
            "_view_count": null,
            "_view_module": "@jupyter-widgets/base",
            "_view_module_version": "1.2.0",
            "_view_name": "LayoutView",
            "align_content": null,
            "align_items": null,
            "align_self": null,
            "border": null,
            "bottom": null,
            "display": null,
            "flex": null,
            "flex_flow": null,
            "grid_area": null,
            "grid_auto_columns": null,
            "grid_auto_flow": null,
            "grid_auto_rows": null,
            "grid_column": null,
            "grid_gap": null,
            "grid_row": null,
            "grid_template_areas": null,
            "grid_template_columns": null,
            "grid_template_rows": null,
            "height": null,
            "justify_content": null,
            "justify_items": null,
            "left": null,
            "margin": null,
            "max_height": null,
            "max_width": null,
            "min_height": null,
            "min_width": null,
            "object_fit": null,
            "object_position": null,
            "order": null,
            "overflow": null,
            "overflow_x": null,
            "overflow_y": null,
            "padding": null,
            "right": null,
            "top": null,
            "visibility": null,
            "width": null
          }
        },
        "f3661110012a4572964d2ab5345d2cd7": {
          "model_module": "@jupyter-widgets/base",
          "model_module_version": "1.2.0",
          "model_name": "LayoutModel",
          "state": {
            "_model_module": "@jupyter-widgets/base",
            "_model_module_version": "1.2.0",
            "_model_name": "LayoutModel",
            "_view_count": null,
            "_view_module": "@jupyter-widgets/base",
            "_view_module_version": "1.2.0",
            "_view_name": "LayoutView",
            "align_content": null,
            "align_items": null,
            "align_self": null,
            "border": null,
            "bottom": null,
            "display": null,
            "flex": null,
            "flex_flow": null,
            "grid_area": null,
            "grid_auto_columns": null,
            "grid_auto_flow": null,
            "grid_auto_rows": null,
            "grid_column": null,
            "grid_gap": null,
            "grid_row": null,
            "grid_template_areas": null,
            "grid_template_columns": null,
            "grid_template_rows": null,
            "height": null,
            "justify_content": null,
            "justify_items": null,
            "left": null,
            "margin": null,
            "max_height": null,
            "max_width": null,
            "min_height": null,
            "min_width": null,
            "object_fit": null,
            "object_position": null,
            "order": null,
            "overflow": null,
            "overflow_x": null,
            "overflow_y": null,
            "padding": null,
            "right": null,
            "top": null,
            "visibility": null,
            "width": null
          }
        },
        "f4a80f7c5eb24b46b492dbff6631f0da": {
          "model_module": "@jupyter-widgets/controls",
          "model_module_version": "1.5.0",
          "model_name": "HTMLModel",
          "state": {
            "_dom_classes": [],
            "_model_module": "@jupyter-widgets/controls",
            "_model_module_version": "1.5.0",
            "_model_name": "HTMLModel",
            "_view_count": null,
            "_view_module": "@jupyter-widgets/controls",
            "_view_module_version": "1.5.0",
            "_view_name": "HTMLView",
            "description": "",
            "description_tooltip": null,
            "layout": "IPY_MODEL_2295f66eb6f54b63b94fc4124d6ba2e7",
            "placeholder": "​",
            "style": "IPY_MODEL_7859dc44cc234c9c86eca96438e85927",
            "value": " 1/1 [00:00&lt;00:00, 11.11ba/s]"
          }
        },
        "f8e77019dd9b4f7c99ebc9fc9490932e": {
          "model_module": "@jupyter-widgets/base",
          "model_module_version": "1.2.0",
          "model_name": "LayoutModel",
          "state": {
            "_model_module": "@jupyter-widgets/base",
            "_model_module_version": "1.2.0",
            "_model_name": "LayoutModel",
            "_view_count": null,
            "_view_module": "@jupyter-widgets/base",
            "_view_module_version": "1.2.0",
            "_view_name": "LayoutView",
            "align_content": null,
            "align_items": null,
            "align_self": null,
            "border": null,
            "bottom": null,
            "display": null,
            "flex": null,
            "flex_flow": null,
            "grid_area": null,
            "grid_auto_columns": null,
            "grid_auto_flow": null,
            "grid_auto_rows": null,
            "grid_column": null,
            "grid_gap": null,
            "grid_row": null,
            "grid_template_areas": null,
            "grid_template_columns": null,
            "grid_template_rows": null,
            "height": null,
            "justify_content": null,
            "justify_items": null,
            "left": null,
            "margin": null,
            "max_height": null,
            "max_width": null,
            "min_height": null,
            "min_width": null,
            "object_fit": null,
            "object_position": null,
            "order": null,
            "overflow": null,
            "overflow_x": null,
            "overflow_y": null,
            "padding": null,
            "right": null,
            "top": null,
            "visibility": null,
            "width": null
          }
        },
        "fadf68740b4c4c8f8887a3e0c0bfd80a": {
          "model_module": "@jupyter-widgets/controls",
          "model_module_version": "1.5.0",
          "model_name": "HTMLModel",
          "state": {
            "_dom_classes": [],
            "_model_module": "@jupyter-widgets/controls",
            "_model_module_version": "1.5.0",
            "_model_name": "HTMLModel",
            "_view_count": null,
            "_view_module": "@jupyter-widgets/controls",
            "_view_module_version": "1.5.0",
            "_view_name": "HTMLView",
            "description": "",
            "description_tooltip": null,
            "layout": "IPY_MODEL_f8e77019dd9b4f7c99ebc9fc9490932e",
            "placeholder": "​",
            "style": "IPY_MODEL_3c46c45320c34ac59624c52496db9a69",
            "value": " 478M/478M [00:08&lt;00:00, 59.2MB/s]"
          }
        },
        "fb4608a041aa49929b994c9005b34236": {
          "model_module": "@jupyter-widgets/base",
          "model_module_version": "1.2.0",
          "model_name": "LayoutModel",
          "state": {
            "_model_module": "@jupyter-widgets/base",
            "_model_module_version": "1.2.0",
            "_model_name": "LayoutModel",
            "_view_count": null,
            "_view_module": "@jupyter-widgets/base",
            "_view_module_version": "1.2.0",
            "_view_name": "LayoutView",
            "align_content": null,
            "align_items": null,
            "align_self": null,
            "border": null,
            "bottom": null,
            "display": null,
            "flex": null,
            "flex_flow": null,
            "grid_area": null,
            "grid_auto_columns": null,
            "grid_auto_flow": null,
            "grid_auto_rows": null,
            "grid_column": null,
            "grid_gap": null,
            "grid_row": null,
            "grid_template_areas": null,
            "grid_template_columns": null,
            "grid_template_rows": null,
            "height": null,
            "justify_content": null,
            "justify_items": null,
            "left": null,
            "margin": null,
            "max_height": null,
            "max_width": null,
            "min_height": null,
            "min_width": null,
            "object_fit": null,
            "object_position": null,
            "order": null,
            "overflow": null,
            "overflow_x": null,
            "overflow_y": null,
            "padding": null,
            "right": null,
            "top": null,
            "visibility": null,
            "width": null
          }
        },
        "fbb023250e4d4476b294ec473b36377f": {
          "model_module": "@jupyter-widgets/base",
          "model_module_version": "1.2.0",
          "model_name": "LayoutModel",
          "state": {
            "_model_module": "@jupyter-widgets/base",
            "_model_module_version": "1.2.0",
            "_model_name": "LayoutModel",
            "_view_count": null,
            "_view_module": "@jupyter-widgets/base",
            "_view_module_version": "1.2.0",
            "_view_name": "LayoutView",
            "align_content": null,
            "align_items": null,
            "align_self": null,
            "border": null,
            "bottom": null,
            "display": null,
            "flex": null,
            "flex_flow": null,
            "grid_area": null,
            "grid_auto_columns": null,
            "grid_auto_flow": null,
            "grid_auto_rows": null,
            "grid_column": null,
            "grid_gap": null,
            "grid_row": null,
            "grid_template_areas": null,
            "grid_template_columns": null,
            "grid_template_rows": null,
            "height": null,
            "justify_content": null,
            "justify_items": null,
            "left": null,
            "margin": null,
            "max_height": null,
            "max_width": null,
            "min_height": null,
            "min_width": null,
            "object_fit": null,
            "object_position": null,
            "order": null,
            "overflow": null,
            "overflow_x": null,
            "overflow_y": null,
            "padding": null,
            "right": null,
            "top": null,
            "visibility": null,
            "width": null
          }
        },
        "fcb24ceafc4840a3a55d9595b2bf7829": {
          "model_module": "@jupyter-widgets/controls",
          "model_module_version": "1.5.0",
          "model_name": "FloatProgressModel",
          "state": {
            "_dom_classes": [],
            "_model_module": "@jupyter-widgets/controls",
            "_model_module_version": "1.5.0",
            "_model_name": "FloatProgressModel",
            "_view_count": null,
            "_view_module": "@jupyter-widgets/controls",
            "_view_module_version": "1.5.0",
            "_view_name": "ProgressView",
            "bar_style": "success",
            "description": "",
            "description_tooltip": null,
            "layout": "IPY_MODEL_fb4608a041aa49929b994c9005b34236",
            "max": 481,
            "min": 0,
            "orientation": "horizontal",
            "style": "IPY_MODEL_18eac079373f45a6943e53b39dc03a5d",
            "value": 481
          }
        },
        "fd92f63d6aa2486e8243fe62769c61d7": {
          "model_module": "@jupyter-widgets/base",
          "model_module_version": "1.2.0",
          "model_name": "LayoutModel",
          "state": {
            "_model_module": "@jupyter-widgets/base",
            "_model_module_version": "1.2.0",
            "_model_name": "LayoutModel",
            "_view_count": null,
            "_view_module": "@jupyter-widgets/base",
            "_view_module_version": "1.2.0",
            "_view_name": "LayoutView",
            "align_content": null,
            "align_items": null,
            "align_self": null,
            "border": null,
            "bottom": null,
            "display": null,
            "flex": null,
            "flex_flow": null,
            "grid_area": null,
            "grid_auto_columns": null,
            "grid_auto_flow": null,
            "grid_auto_rows": null,
            "grid_column": null,
            "grid_gap": null,
            "grid_row": null,
            "grid_template_areas": null,
            "grid_template_columns": null,
            "grid_template_rows": null,
            "height": null,
            "justify_content": null,
            "justify_items": null,
            "left": null,
            "margin": null,
            "max_height": null,
            "max_width": null,
            "min_height": null,
            "min_width": null,
            "object_fit": null,
            "object_position": null,
            "order": null,
            "overflow": null,
            "overflow_x": null,
            "overflow_y": null,
            "padding": null,
            "right": null,
            "top": null,
            "visibility": null,
            "width": null
          }
        }
      }
    }
  },
  "nbformat": 4,
  "nbformat_minor": 0
}
