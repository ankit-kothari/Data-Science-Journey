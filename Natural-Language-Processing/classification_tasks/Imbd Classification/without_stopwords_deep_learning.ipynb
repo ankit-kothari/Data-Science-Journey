{
  "cells": [
    {
      "cell_type": "code",
      "execution_count": null,
      "metadata": {
        "id": "1FcvGQoaJopP"
      },
      "outputs": [],
      "source": [
        "!pip install transformers \n",
        "!pip install dask\n",
        "!pip install 'fsspec>=0.3.3'\n",
        "!pip install datasets\n",
        "!pip install torchinfo"
      ]
    },
    {
      "cell_type": "code",
      "execution_count": null,
      "metadata": {
        "id": "74JZxz01w6hT"
      },
      "outputs": [],
      "source": [
        "!pip install datasets --upgrade"
      ]
    },
    {
      "cell_type": "code",
      "execution_count": 5,
      "metadata": {
        "colab": {
          "base_uri": "https://localhost:8080/"
        },
        "id": "uc2ffFLzJ05W",
        "outputId": "726d7aef-ef7b-4e54-c4f9-593e4d7a8cfb"
      },
      "outputs": [
        {
          "name": "stdout",
          "output_type": "stream",
          "text": [
            "Fri Jul  8 00:33:12 2022       \n",
            "+-----------------------------------------------------------------------------+\n",
            "| NVIDIA-SMI 460.32.03    Driver Version: 460.32.03    CUDA Version: 11.2     |\n",
            "|-------------------------------+----------------------+----------------------+\n",
            "| GPU  Name        Persistence-M| Bus-Id        Disp.A | Volatile Uncorr. ECC |\n",
            "| Fan  Temp  Perf  Pwr:Usage/Cap|         Memory-Usage | GPU-Util  Compute M. |\n",
            "|                               |                      |               MIG M. |\n",
            "|===============================+======================+======================|\n",
            "|   0  Tesla V100-SXM2...  Off  | 00000000:00:04.0 Off |                    0 |\n",
            "| N/A   39C    P0    24W / 300W |      2MiB / 16160MiB |      0%      Default |\n",
            "|                               |                      |                  N/A |\n",
            "+-------------------------------+----------------------+----------------------+\n",
            "                                                                               \n",
            "+-----------------------------------------------------------------------------+\n",
            "| Processes:                                                                  |\n",
            "|  GPU   GI   CI        PID   Type   Process name                  GPU Memory |\n",
            "|        ID   ID                                                   Usage      |\n",
            "|=============================================================================|\n",
            "|  No running processes found                                                 |\n",
            "+-----------------------------------------------------------------------------+\n"
          ]
        }
      ],
      "source": [
        "gpu_info = !nvidia-smi\n",
        "gpu_info = '\\n'.join(gpu_info)\n",
        "if gpu_info.find('failed') >= 0:\n",
        "  print('Not connected to a GPU')\n",
        "else:\n",
        "  print(gpu_info)"
      ]
    },
    {
      "cell_type": "code",
      "execution_count": 6,
      "metadata": {
        "id": "5oslAeHiJ1rA"
      },
      "outputs": [],
      "source": [
        "from transformers import pipeline\n",
        "import torch\n",
        "import spacy\n",
        "import tqdm as notebook_tqdm\n",
        "from torchinfo import summary\n",
        "import pandas as pd\n",
        "import numpy as np\n",
        "from sklearn.metrics import classification_report, f1_score, precision_score, recall_score,roc_auc_score,accuracy_score\n",
        "from sklearn.metrics import plot_confusion_matrix,classification_report\n",
        "from sklearn.metrics import confusion_matrix, ConfusionMatrixDisplay\n",
        "from sklearn.model_selection import train_test_split\n",
        "import  matplotlib.pyplot as plt\n",
        "from datasets import load_dataset\n",
        "from spacy.lang.en import English\n",
        "import warnings\n",
        "from tqdm import tqdm\n",
        "import re\n",
        "import string\n",
        "warnings.filterwarnings(\"ignore\")\n",
        "pd.set_option('display.max_rows', None)\n",
        "pd.set_option('display.max_columns', None)\n",
        "pd.set_option('display.width', None)\n",
        "pd.set_option('display.max_colwidth', None)\n",
        "import concurrent.futures\n",
        "import dask.bag as db\n",
        "import dask \n",
        "import graphviz\n",
        "from dask import visualize\n",
        "from torch import nn \n",
        "from transformers import AutoConfig\n",
        "\n",
        "import tensorflow as tf\n",
        "from tensorflow.keras.models import Model\n",
        "from sklearn.model_selection import train_test_split\n",
        "from tensorflow.keras.preprocessing.text import Tokenizer\n",
        "from tensorflow.keras.preprocessing.sequence import pad_sequences\n",
        "from tensorflow.keras.utils import to_categorical\n",
        "from tensorflow.keras.models import Sequential\n",
        "from tensorflow.keras.layers import Dense, Conv2D, MaxPool2D, Flatten, Embedding, LSTM, Bidirectional, GlobalMaxPool1D, Input,BatchNormalization, Dropout, SpatialDropout1D, Conv1D, concatenate\n",
        "from tensorflow.keras.callbacks import EarlyStopping,ModelCheckpoint\n"
      ]
    },
    {
      "cell_type": "code",
      "execution_count": 7,
      "metadata": {
        "id": "kFkd0wanvdXz"
      },
      "outputs": [],
      "source": [
        "import concurrent.futures\n",
        "import dask.bag as db\n",
        "import dask \n",
        "import graphviz\n",
        "from dask import visualize"
      ]
    },
    {
      "cell_type": "markdown",
      "metadata": {
        "id": "k4_kdS-MhKCC"
      },
      "source": [
        "## Loading the Dataset"
      ]
    },
    {
      "cell_type": "code",
      "execution_count": 8,
      "metadata": {
        "id": "7-iibpsDKDO1"
      },
      "outputs": [],
      "source": [
        "from datasets import load_dataset"
      ]
    },
    {
      "cell_type": "code",
      "execution_count": null,
      "metadata": {
        "colab": {
          "base_uri": "https://localhost:8080/",
          "height": 201,
          "referenced_widgets": [
            "02e40d7b133b4cef820318c2d36dfeaf",
            "8f1b6a7c07cf47d39141c0289c982124",
            "00ba159c89544af3b923797e53bd8563",
            "e81218dbee274cd1ab75ac05bc915fb6",
            "a7a00b837e104dd7ace7cdcaab584e3e",
            "d9ed892ebbe5480a906e4221d2065174",
            "66f2ae8c57b44306a365f6cef9ab7667",
            "a7a231d481aa4b6b83abfcb5d1025b16",
            "8599345b4c9e42f88789525d16bd3e88",
            "336aa4c83b8e4425835b53dc9bd58319",
            "e99d67cd116340f5ba2b64f485673cef",
            "85cc6e5d33fe41bf8d9e7bf87229ddf7",
            "3946b6ac13c2464c9e524478f2cb0bce",
            "1086facf681446eab9262cea62efa42e",
            "fc8ae0ef2c4943cfb59d794bd9d79472",
            "a5f6fff3e7cb451c99aea502178e3fbc",
            "3f6880efb3074985acff53e4e19c9cf9",
            "380b7177c2234fa196d493c7cbf9068b",
            "e482db41500147d3afc9b06913ae118d",
            "41a3b9b223a04f818bd8a35e8ec62711",
            "bb5e988fec264ad0bbed1912cd0f7179",
            "cf16d030b0c04d53a57f4f861bc429b8",
            "e225e71ab01e4e68a1316375d65575c2",
            "1f9d0f1bdf644dceb63dc54d458232b7",
            "b7f74e68c8044a44823681913f941869",
            "4b127a1e88864622897f17b077b163c1",
            "701f6429f08c43be9acb442131bad40b",
            "206e318eeadf465daccf7502fb545c0d",
            "9a60c7e081684f3fa9f3426ca4b1bebe",
            "eb4d05f6fb9f41b0a629483c83308b91",
            "46e6f425820c4f1b90a85e4c0149844c",
            "eaeef4ff50c240acbcc1eabeff9d3b4f",
            "a55d0edf965d4b5097e38ba366f39a83",
            "017a34a509014ad5b64a6ca9f16b2733",
            "06c32f4384044bc0b0e24fe4492ce78a",
            "95165445aa5a483aafd3ea14b4cc97b7",
            "8a8053a21fa144819446e503a5a74478",
            "94f0e9359ed94dd484ff9c3dd884908b",
            "6430c2bc55654ae9bd089952bae627de",
            "958083abc01a4e209d3efe79b3ae1f7b",
            "26325a157fe3432dbfb9dd943ccd91da",
            "b0e5754fb5a44e0bb05bd5bc43e5b4df",
            "f84f7cf06d4d43be91f66345a2f41f27",
            "462a5df90c394c448cd3cddbc4918f78",
            "02aa975a719048a78d7d85b9c8d715b0",
            "da8427d4c09c4e05806fe89a16aca3aa",
            "63138d57afd44808ac4e24f183325177",
            "cc27977238db42fca576dceacb0e6cda",
            "647fc87925194fed9584765af0702c2d",
            "a92d9ec7018042a380a665e80e3b53e2",
            "8baa1c9bbd834ef8835bcccd945e4b5e",
            "068bcf63dece49f3b56fec16f29087a0",
            "2f4eaee6420141fbbc4987a5ab654550",
            "398e54a497ae441589c5f43822fd5b0d",
            "7f50797ebfb64d86aa51f31bd7116a87",
            "13beb5f175d24f73a949dd16279c53c9",
            "6c401b64d37f4b6b88b685a3183a9444",
            "ecf5857fad1d48da94ed5a75ce4dee15",
            "9d4f01be3423407890295adf43c904f1",
            "a9c2c5e2971b4f1995bc02132cb11561",
            "948986eff9b64283a84b46a1742000bc",
            "7a3c2fa1825a4078a78bd605d7b08ccf",
            "b8fad8cb84f24beb961c1c881e720363",
            "ecd6e0e0c42940d380a9abe3df275bb3",
            "f7020223221948059e08a49f31a4a723",
            "8c4f64911314483aa2887187cc2fc78f",
            "24db027a8a6f4279b9c44d1b9d732018",
            "a4b8b21fea4344b59f385f9d3c8c3d8f",
            "6eef802617814e3888eacfada2f2e1e1",
            "9131e8057b354cfbbd77da9ca4b1bbdb",
            "3a1209918c694404b23674005cca4c12",
            "bfcaf53496b94afba82ff66742e6b118",
            "54d4fd940cc64caaa3041b4ea6e89c23",
            "08f6bff1b89342ef9ce6d0c83e70fe3b",
            "5aabd94c3c034f349afb91f5982fbee7",
            "13ac458253914dfaad729c0dd2ea1c69",
            "32138e0be5af495e8a48eb91d3882e45"
          ]
        },
        "id": "nS5Lf2i5KGOK",
        "outputId": "eb503415-d477-4a16-9645-038ae75aa569"
      },
      "outputs": [],
      "source": [
        "data = load_dataset('imdb')\n",
        "del data['unsupervised']"
      ]
    },
    {
      "cell_type": "code",
      "execution_count": 10,
      "metadata": {
        "colab": {
          "base_uri": "https://localhost:8080/"
        },
        "id": "EwTSbQF-KOmx",
        "outputId": "fc910acd-6389-49c2-a8b5-a6859b72f8d6"
      },
      "outputs": [
        {
          "data": {
            "text/plain": [
              "DatasetDict({\n",
              "    train: Dataset({\n",
              "        features: ['text', 'label'],\n",
              "        num_rows: 25000\n",
              "    })\n",
              "    test: Dataset({\n",
              "        features: ['text', 'label'],\n",
              "        num_rows: 25000\n",
              "    })\n",
              "})"
            ]
          },
          "execution_count": 10,
          "metadata": {},
          "output_type": "execute_result"
        }
      ],
      "source": [
        "data"
      ]
    },
    {
      "cell_type": "code",
      "execution_count": 11,
      "metadata": {
        "colab": {
          "base_uri": "https://localhost:8080/",
          "height": 143
        },
        "id": "UbYjM_mJQOTs",
        "outputId": "0a90d12f-9934-49db-9fae-d6de8b5739e3"
      },
      "outputs": [
        {
          "data": {
            "application/vnd.google.colaboratory.intrinsic+json": {
              "type": "string"
            },
            "text/plain": [
              "'I rented I AM CURIOUS-YELLOW from my video store because of all the controversy that surrounded it when it was first released in 1967. I also heard that at first it was seized by U.S. customs if it ever tried to enter this country, therefore being a fan of films considered \"controversial\" I really had to see this for myself.<br /><br />The plot is centered around a young Swedish drama student named Lena who wants to learn everything she can about life. In particular she wants to focus her attentions to making some sort of documentary on what the average Swede thought about certain political issues such as the Vietnam War and race issues in the United States. In between asking politicians and ordinary denizens of Stockholm about their opinions on politics, she has sex with her drama teacher, classmates, and married men.<br /><br />What kills me about I AM CURIOUS-YELLOW is that 40 years ago, this was considered pornographic. Really, the sex and nudity scenes are few and far between, even then it\\'s not shot like some cheaply made porno. While my countrymen mind find it shocking, in reality sex and nudity are a major staple in Swedish cinema. Even Ingmar Bergman, arguably their answer to good old boy John Ford, had sex scenes in his films.<br /><br />I do commend the filmmakers for the fact that any sex shown in the film is shown for artistic purposes rather than just to shock people and make money to be shown in pornographic theaters in America. I AM CURIOUS-YELLOW is a good film for anyone wanting to study the meat and potatoes (no pun intended) of Swedish cinema. But really, this film doesn\\'t have much of a plot.'"
            ]
          },
          "execution_count": 11,
          "metadata": {},
          "output_type": "execute_result"
        }
      ],
      "source": [
        "data['train']['text'][0]"
      ]
    },
    {
      "cell_type": "code",
      "execution_count": 12,
      "metadata": {
        "colab": {
          "base_uri": "https://localhost:8080/"
        },
        "id": "KV7UD-zPQYij",
        "outputId": "81f3f09f-24dc-4d3b-bedc-4a34d7df1ffc"
      },
      "outputs": [
        {
          "data": {
            "text/plain": [
              "0"
            ]
          },
          "execution_count": 12,
          "metadata": {},
          "output_type": "execute_result"
        }
      ],
      "source": [
        "data['train']['label'][1]"
      ]
    },
    {
      "cell_type": "markdown",
      "metadata": {
        "id": "aa8vUFF0MbDF"
      },
      "source": [
        "#### Removing the stop words"
      ]
    },
    {
      "cell_type": "code",
      "execution_count": 13,
      "metadata": {
        "id": "E0jj_H3ONtf0"
      },
      "outputs": [],
      "source": [
        "import spacy\n",
        "nlp = spacy.load('en_core_web_sm')"
      ]
    },
    {
      "cell_type": "code",
      "execution_count": 20,
      "metadata": {
        "id": "FiJN3f30Mhnv"
      },
      "outputs": [],
      "source": [
        "def spacy_preprocessing(text):\n",
        "    clean_text = []\n",
        "    for token in nlp(text):\n",
        "       if token.text not in nlp.Defaults.stop_words:\n",
        "           clean_text.append(token.text.lower())\n",
        "       else:\n",
        "           continue\n",
        "    clean_string = \" \".join(clean_text).lstrip()\n",
        "    return clean_string"
      ]
    },
    {
      "cell_type": "code",
      "execution_count": 22,
      "metadata": {
        "colab": {
          "base_uri": "https://localhost:8080/",
          "height": 143
        },
        "id": "I1fjWtvDUPZT",
        "outputId": "4b08e772-9b97-4c26-9194-ad067a6e3031"
      },
      "outputs": [
        {
          "data": {
            "application/vnd.google.colaboratory.intrinsic+json": {
              "type": "string"
            },
            "text/plain": [
              "'I rented I AM CURIOUS-YELLOW from my video store because of all the controversy that surrounded it when it was first released in 1967. I also heard that at first it was seized by U.S. customs if it ever tried to enter this country, therefore being a fan of films considered \"controversial\" I really had to see this for myself.<br /><br />The plot is centered around a young Swedish drama student named Lena who wants to learn everything she can about life. In particular she wants to focus her attentions to making some sort of documentary on what the average Swede thought about certain political issues such as the Vietnam War and race issues in the United States. In between asking politicians and ordinary denizens of Stockholm about their opinions on politics, she has sex with her drama teacher, classmates, and married men.<br /><br />What kills me about I AM CURIOUS-YELLOW is that 40 years ago, this was considered pornographic. Really, the sex and nudity scenes are few and far between, even then it\\'s not shot like some cheaply made porno. While my countrymen mind find it shocking, in reality sex and nudity are a major staple in Swedish cinema. Even Ingmar Bergman, arguably their answer to good old boy John Ford, had sex scenes in his films.<br /><br />I do commend the filmmakers for the fact that any sex shown in the film is shown for artistic purposes rather than just to shock people and make money to be shown in pornographic theaters in America. I AM CURIOUS-YELLOW is a good film for anyone wanting to study the meat and potatoes (no pun intended) of Swedish cinema. But really, this film doesn\\'t have much of a plot.'"
            ]
          },
          "execution_count": 22,
          "metadata": {},
          "output_type": "execute_result"
        }
      ],
      "source": [
        "data['train']['text'][0]"
      ]
    },
    {
      "cell_type": "code",
      "execution_count": 21,
      "metadata": {
        "colab": {
          "base_uri": "https://localhost:8080/",
          "height": 143
        },
        "id": "qjZsNEBuUHSw",
        "outputId": "db823065-46b4-4c35-9902-c5e427413649"
      },
      "outputs": [
        {
          "data": {
            "application/vnd.google.colaboratory.intrinsic+json": {
              "type": "string"
            },
            "text/plain": [
              "'i rented i am curious - yellow video store controversy surrounded released 1967 . i heard seized u.s. customs tried enter country , fan films considered \" controversial \" i myself.<br /><br />the plot centered young swedish drama student named lena wants learn life . in particular wants focus attentions making sort documentary average swede thought certain political issues vietnam war race issues united states . in asking politicians ordinary denizens stockholm opinions politics , sex drama teacher , classmates , married men.<br /><br />what kills i am curious - yellow 40 years ago , considered pornographic . really , sex nudity scenes far , shot like cheaply porno . while countrymen mind find shocking , reality sex nudity major staple swedish cinema . even ingmar bergman , arguably answer good old boy john ford , sex scenes films.<br /><br />i commend filmmakers fact sex shown film shown artistic purposes shock people money shown pornographic theaters america . i am curious - yellow good film wanting study meat potatoes ( pun intended ) swedish cinema . but , film plot .'"
            ]
          },
          "execution_count": 21,
          "metadata": {},
          "output_type": "execute_result"
        }
      ],
      "source": [
        "spacy_preprocessing(data['train']['text'][0])"
      ]
    },
    {
      "cell_type": "code",
      "execution_count": 23,
      "metadata": {
        "id": "kO3Ggq5gTt6X"
      },
      "outputs": [],
      "source": [
        "reviews_lists = data['train']['text']\n",
        "review_bags = db.from_sequence(reviews_lists, npartitions=3)\n",
        "clean_stopwords_train = review_bags.map(spacy_preprocessing)\n"
      ]
    },
    {
      "cell_type": "code",
      "execution_count": 24,
      "metadata": {
        "id": "kuTTd8iAUxM3"
      },
      "outputs": [],
      "source": [
        "remove_stopwords_train = clean_stopwords_train.compute()"
      ]
    },
    {
      "cell_type": "code",
      "execution_count": 25,
      "metadata": {
        "id": "45PFGZlERta1"
      },
      "outputs": [],
      "source": [
        "reviews_list_tests = data['test']['text']\n",
        "review_bag_tests = db.from_sequence(reviews_list_tests, npartitions=3)\n",
        "clean_stopwords_test = review_bag_tests.map(spacy_preprocessing)\n"
      ]
    },
    {
      "cell_type": "code",
      "execution_count": null,
      "metadata": {
        "id": "vvKCIicOTdn7"
      },
      "outputs": [],
      "source": []
    },
    {
      "cell_type": "code",
      "execution_count": 26,
      "metadata": {
        "id": "cPEmQbRkTeZM"
      },
      "outputs": [],
      "source": [
        "remove_stopwords_test = clean_stopwords_test.compute()"
      ]
    },
    {
      "cell_type": "code",
      "execution_count": 27,
      "metadata": {
        "id": "ATwkmCHPTPvU"
      },
      "outputs": [],
      "source": [
        "data['train'] = data['train'].add_column(name=\"without_stopwords_reviews\", column=remove_stopwords_train)\n",
        "data['test'] = data['test'].add_column(name=\"without_stopwords_reviews\", column=remove_stopwords_test)"
      ]
    },
    {
      "cell_type": "code",
      "execution_count": 28,
      "metadata": {
        "colab": {
          "base_uri": "https://localhost:8080/"
        },
        "id": "VQUBJcoNY1Ro",
        "outputId": "bdb36f75-427a-4001-ba69-d82d74f5a9fa"
      },
      "outputs": [
        {
          "data": {
            "text/plain": [
              "DatasetDict({\n",
              "    train: Dataset({\n",
              "        features: ['text', 'label', 'without_stopwords_reviews'],\n",
              "        num_rows: 25000\n",
              "    })\n",
              "    test: Dataset({\n",
              "        features: ['text', 'label', 'without_stopwords_reviews'],\n",
              "        num_rows: 25000\n",
              "    })\n",
              "})"
            ]
          },
          "execution_count": 28,
          "metadata": {},
          "output_type": "execute_result"
        }
      ],
      "source": [
        "data"
      ]
    },
    {
      "cell_type": "code",
      "execution_count": null,
      "metadata": {
        "id": "RI5l-V-OQH97"
      },
      "outputs": [],
      "source": [
        "#data['test']['text']=data['train'].map(spacy_preprocessing)"
      ]
    },
    {
      "cell_type": "markdown",
      "metadata": {
        "id": "AnTmqAL9icMQ"
      },
      "source": [
        "## Keras Tokenizer \n",
        "- Find the top 5000 used words\n",
        "- and filter the traing and test data with only those 5000 words"
      ]
    },
    {
      "cell_type": "code",
      "execution_count": 29,
      "metadata": {
        "id": "fcXq5v8Oie3_"
      },
      "outputs": [],
      "source": [
        "# convert the sentences (strings) into integers\n",
        "df_train = data['train']['without_stopwords_reviews']\n",
        "y_train = data['train']['label']\n",
        "type(df_train)\n",
        "MAX_VOCAB_SIZE=5000\n",
        "tokenizerk = Tokenizer(num_words=5000, filters='!\"#$%&()*+,-./:;<=>?@[\\\\]^_`{|}~\\t\\n',\n",
        "    lower=True)\n",
        "## Fitting only on text \n",
        "tokenizerk.fit_on_texts(df_train)"
      ]
    },
    {
      "cell_type": "code",
      "execution_count": 30,
      "metadata": {
        "id": "5asLLAeXk9O7"
      },
      "outputs": [],
      "source": [
        "word_counts = tokenizerk.word_counts\n",
        "sorted_word_counts = dict(sorted(word_counts.items(),key=lambda x:x[1], reverse=True))\n"
      ]
    },
    {
      "cell_type": "code",
      "execution_count": 31,
      "metadata": {
        "id": "EBYdXnY5rUmn"
      },
      "outputs": [],
      "source": [
        "from collections import defaultdict\n",
        "top_5000_words = defaultdict()\n",
        "for key,value in sorted_word_counts.items():\n",
        "  if len(top_5000_words) > MAX_VOCAB_SIZE-1:\n",
        "    break\n",
        "  top_5000_words[key]=value\n",
        "\n"
      ]
    },
    {
      "cell_type": "code",
      "execution_count": 32,
      "metadata": {
        "colab": {
          "base_uri": "https://localhost:8080/"
        },
        "id": "djqH1ZebtC8i",
        "outputId": "4f1626c6-d44e-421c-a569-75e8c580c416"
      },
      "outputs": [
        {
          "data": {
            "text/plain": [
              "5000"
            ]
          },
          "execution_count": 32,
          "metadata": {},
          "output_type": "execute_result"
        }
      ],
      "source": [
        "len(top_5000_words)"
      ]
    },
    {
      "cell_type": "code",
      "execution_count": 33,
      "metadata": {
        "id": "ENTl2vWhtaT3"
      },
      "outputs": [],
      "source": [
        "def normalize(text,top_5000_words ):\n",
        "    '''\n",
        "    Input: list of tokens as strings,  e.g. ['I', ' ', 'saw', ' ', '@psresnik', ' ', 'on', ' ','Twitter']\n",
        "    Output: list of tokens where\n",
        "    All tokens are lowercased\n",
        "    All tokens starting with a whitespace character have been filtered out\n",
        "    All handles (tokens starting with @) have been filtered out\n",
        "    Any underscores have been replaced with + (since we use _ as a special character in bigrams)\n",
        "    '''\n",
        "    tokenlist = text.split(' ')\n",
        "    normalized_tokens = [token.lower().replace('!\"#$%&()*+,-./:;<=>?@[\\\\]^_`{|}~\\t\\n','') for token in tokenlist   # lowercase, _ => +\n",
        "                             if re.search('[^\\s]', token) is not None            # ignore whitespace tokens\n",
        "                             and not token.startswith(\"@\") and token in top_5000_words]\n",
        "    return \" \".join(normalized_tokens)                      # i"
      ]
    },
    {
      "cell_type": "code",
      "execution_count": 34,
      "metadata": {
        "id": "Z0MTC7EhvHLU"
      },
      "outputs": [],
      "source": [
        "reviews_list = data['train']['without_stopwords_reviews']\n",
        "review_bag = db.from_sequence(reviews_list, npartitions=3)\n",
        "clean_body_train = review_bag.map(normalize,top_5000_words=top_5000_words)\n"
      ]
    },
    {
      "cell_type": "code",
      "execution_count": 35,
      "metadata": {
        "colab": {
          "base_uri": "https://localhost:8080/",
          "height": 346
        },
        "id": "AkeBkAaCAKOc",
        "outputId": "190fe104-25d6-46a4-c992-4ba385e2ffd6"
      },
      "outputs": [
        {
          "data": {
            "image/png": "[encoded data removed]",
            "text/plain": [
              "<IPython.core.display.Image object>"
            ]
          },
          "execution_count": 35,
          "metadata": {},
          "output_type": "execute_result"
        }
      ],
      "source": [
        "dask.visualize(clean_body_train)"
      ]
    },
    {
      "cell_type": "code",
      "execution_count": 36,
      "metadata": {
        "id": "9gU4NjtW3xPr"
      },
      "outputs": [],
      "source": [
        "more_text = clean_body_train.compute()\n"
      ]
    },
    {
      "cell_type": "code",
      "execution_count": 37,
      "metadata": {
        "colab": {
          "base_uri": "https://localhost:8080/",
          "height": 125
        },
        "id": "F6OlGGOj5W8y",
        "outputId": "a91c3342-5895-4352-ca1c-e06a98c7b7c5"
      },
      "outputs": [
        {
          "data": {
            "application/vnd.google.colaboratory.intrinsic+json": {
              "type": "string"
            },
            "text/plain": [
              "'i rented i am curious yellow video store surrounded released i heard tried enter country fan films considered controversial i plot centered young swedish drama student named lena wants learn life in particular wants focus making sort documentary average thought certain political issues vietnam war race issues united states in asking ordinary opinions politics sex drama teacher married kills i am curious yellow 40 years ago considered really sex nudity scenes far shot like porno while mind find shocking reality sex nudity major swedish cinema even bergman arguably answer good old boy john ford sex scenes filmmakers fact sex shown film shown artistic purposes shock people money shown theaters america i am curious yellow good film wanting study meat intended swedish cinema but film plot'"
            ]
          },
          "execution_count": 37,
          "metadata": {},
          "output_type": "execute_result"
        }
      ],
      "source": [
        "more_text[0]"
      ]
    },
    {
      "cell_type": "code",
      "execution_count": 38,
      "metadata": {
        "id": "A40lIxdB7OCi"
      },
      "outputs": [],
      "source": [
        "reviews_list_test = data['test']['without_stopwords_reviews']\n",
        "review_bag_test = db.from_sequence(reviews_list_test, npartitions=3)\n",
        "clean_body_test = review_bag_test.map(normalize,top_5000_words=top_5000_words)\n"
      ]
    },
    {
      "cell_type": "code",
      "execution_count": 39,
      "metadata": {
        "id": "sQuVGSD57iiP"
      },
      "outputs": [],
      "source": [
        "more_text_test = clean_body_test.compute()"
      ]
    },
    {
      "cell_type": "code",
      "execution_count": 40,
      "metadata": {
        "colab": {
          "base_uri": "https://localhost:8080/",
          "height": 107
        },
        "id": "QUCFujHd7tRR",
        "outputId": "eda238da-d4e8-41b3-ecf0-6260e9764616"
      },
      "outputs": [
        {
          "data": {
            "application/vnd.google.colaboratory.intrinsic+json": {
              "type": "string"
            },
            "text/plain": [
              "\"i love sci fi willing lot sci fi movies tv usually appreciated i tried like i good tv sci fi 5 star trek original silly cheap cardboard sets stilted dialogues cg match background painfully dimensional characters overcome ' sci fi ' setting i sure think 5 good sci fi tv it it clichéd while us viewers like emotion character development sci fi genre seriously star trek it treat important issues philosophy it difficult care characters simply missing life their actions reactions wooden predictable painful watch the makers earth know rubbish gene earth people continue watching turning dull cheap poorly edited watching breaks brings home space spoiler so kill main character and bring actor\""
            ]
          },
          "execution_count": 40,
          "metadata": {},
          "output_type": "execute_result"
        }
      ],
      "source": [
        "more_text_test[0]"
      ]
    },
    {
      "cell_type": "code",
      "execution_count": 41,
      "metadata": {
        "id": "ciDzAgS3yt-5"
      },
      "outputs": [],
      "source": [
        "data['train'] = data['train'].add_column(name=\"cleaned_reviews\", column=more_text)\n",
        "data['test'] = data['test'].add_column(name=\"cleaned_reviews\", column=more_text_test)"
      ]
    },
    {
      "cell_type": "code",
      "execution_count": 71,
      "metadata": {
        "colab": {
          "base_uri": "https://localhost:8080/",
          "height": 107
        },
        "id": "U7VUh8y06ZD6",
        "outputId": "5c1f07d4-f62e-4e47-acc0-3b7935711613"
      },
      "outputs": [
        {
          "data": {
            "application/vnd.google.colaboratory.intrinsic+json": {
              "type": "string"
            },
            "text/plain": [
              "'it great favorite stars 30 years ago including john ritter ben they looked wonderful but they given characters good lines work i understood cared characters smaller female roles fine camp competent small sidekick parts they showed talent sad star better films sadly i think dorothy got chance act important film film appears fans i open minded i started watching i big peter fan i enjoyed movie cat early ones so surprised i barely able awake watching ironic movie detective involved five years later ex girlfriend hit television series called stealing story idea of course great difference series tons witty dialogue tries slapstick line it ai paper moon version what up doc'"
            ]
          },
          "execution_count": 71,
          "metadata": {},
          "output_type": "execute_result"
        }
      ],
      "source": [
        "data['train']['cleaned_reviews'][10]"
      ]
    },
    {
      "cell_type": "code",
      "execution_count": 43,
      "metadata": {
        "colab": {
          "base_uri": "https://localhost:8080/",
          "height": 107
        },
        "id": "NSeLPNUH7zF8",
        "outputId": "267a9374-bb86-4b68-a7c0-1ea3f0f19bae"
      },
      "outputs": [
        {
          "data": {
            "application/vnd.google.colaboratory.intrinsic+json": {
              "type": "string"
            },
            "text/plain": [
              "\"i love sci fi willing lot sci fi movies tv usually appreciated i tried like i good tv sci fi 5 star trek original silly cheap cardboard sets stilted dialogues cg match background painfully dimensional characters overcome ' sci fi ' setting i sure think 5 good sci fi tv it it clichéd while us viewers like emotion character development sci fi genre seriously star trek it treat important issues philosophy it difficult care characters simply missing life their actions reactions wooden predictable painful watch the makers earth know rubbish gene earth people continue watching turning dull cheap poorly edited watching breaks brings home space spoiler so kill main character and bring actor\""
            ]
          },
          "execution_count": 43,
          "metadata": {},
          "output_type": "execute_result"
        }
      ],
      "source": [
        "data['test']['cleaned_reviews'][0]"
      ]
    },
    {
      "cell_type": "code",
      "execution_count": 44,
      "metadata": {
        "colab": {
          "base_uri": "https://localhost:8080/"
        },
        "id": "pN6nJG5GABYJ",
        "outputId": "6a0e0a39-dae1-4c3b-c4d6-575963ce7fb3"
      },
      "outputs": [
        {
          "data": {
            "text/plain": [
              "DatasetDict({\n",
              "    train: Dataset({\n",
              "        features: ['text', 'label', 'without_stopwords_reviews', 'cleaned_reviews'],\n",
              "        num_rows: 25000\n",
              "    })\n",
              "    test: Dataset({\n",
              "        features: ['text', 'label', 'without_stopwords_reviews', 'cleaned_reviews'],\n",
              "        num_rows: 25000\n",
              "    })\n",
              "})"
            ]
          },
          "execution_count": 44,
          "metadata": {},
          "output_type": "execute_result"
        }
      ],
      "source": [
        "data"
      ]
    },
    {
      "cell_type": "markdown",
      "metadata": {
        "id": "bxyE4p_8AVx-"
      },
      "source": [
        "## Tokenizing"
      ]
    },
    {
      "cell_type": "code",
      "execution_count": 45,
      "metadata": {
        "id": "BEv_pu3WAdcs"
      },
      "outputs": [],
      "source": [
        "from transformers import AutoTokenizer"
      ]
    },
    {
      "cell_type": "code",
      "execution_count": 46,
      "metadata": {
        "colab": {
          "base_uri": "https://localhost:8080/",
          "height": 145,
          "referenced_widgets": [
            "5ca29a28f2524dc2b4de0f1a41cc54ef",
            "93e952c9a6304cb7bcc91a286ed722bb",
            "b43b6647281749ba8315407ee572af47",
            "35a81ff73cf84c149830efe145345735",
            "79e9fc4da375473899b8c2e9fda45368",
            "644cf56543bb4cd0b4b81dd54cd9c187",
            "0efc5a2af18c4032adec6c498cc26f99",
            "bb9e62e353a74d2795fbb56e2ac1eb05",
            "0ebfbf94e7f34db89a0dcb0dda4a7727",
            "29b1c98e43d44ce0a459fe7ef81b11f2",
            "87767a29709844799dd190855db6caf0",
            "7ec5fe0997ea41bbbbc8ca1effdb6760",
            "38738e99a42e4a169c41ac02f328079e",
            "0602c357ff174d34922af01820fd6aba",
            "1ee9c4e7bcd746a8b238758dc8c660c3",
            "72b3c4b31da34e02a753f2d237d9f3e7",
            "408b666c03af4b3bb949d69f54b34478",
            "a313f77b38a84f8491bda57acdfb0670",
            "2c658f7a76ff4be28ded6e9e3cee48aa",
            "9e5a3241557e4a2a9c35c6fb80a914c6",
            "b9ae9637386a4d44a837172e4190329e",
            "294bffe20e9740b088c42d74c8b02b23",
            "2b54ee7375d94a00b36da9c208aa332e",
            "5ce2371f6e0e4787a1b313d1751dfdef",
            "b5fc601b3e684d288fe62f6bb2cf2f61",
            "dfcd1b4e208140fa9d712233431ccd90",
            "91e19682b1db47a0abe032ec4b25bc82",
            "ddad35cfb6594d81b34f62bd9a24a001",
            "1ca8078330ec4d7db244ddfe98d903b4",
            "cced6e01e39244f2ab0aa3b5507f4688",
            "4e158b0b6b6047b3a2e378151586a010",
            "ec42e2b5bb2648d6ac40055d24098130",
            "bf8907936f35490987b80b45e772feb1",
            "69f0a9f7c8e44bd6bc84abca60f98baf",
            "68a9239f7e43451786df2287c8854987",
            "c4e4d9b20f28421889e7c83c5bb9fbba",
            "39d33c1351904b17827d70cce46679d1",
            "36af88a6606b4b1daa9dd3c17da25f50",
            "ea495ca1e6504c6ebe4841d0a5193f4d",
            "da83d8f1df844bbf9b99fb2c52880d9a",
            "e8ed85f1e2b8499ba1e8f75e13d03c9d",
            "9e0050e97a384ea2a8c15a0010a9ba9f",
            "34ef978fe6fd4fa6aaaba7a97ac6cd01",
            "cef716ead6cf46a297b6b231674d2e8b"
          ]
        },
        "id": "JAn2nSw6AYlO",
        "outputId": "6ea5a2be-72ba-47d6-b763-31bd0dfc3e1e"
      },
      "outputs": [
        {
          "data": {
            "application/vnd.jupyter.widget-view+json": {
              "model_id": "5ca29a28f2524dc2b4de0f1a41cc54ef",
              "version_major": 2,
              "version_minor": 0
            },
            "text/plain": [
              "Downloading:   0%|          | 0.00/28.0 [00:00<?, ?B/s]"
            ]
          },
          "metadata": {},
          "output_type": "display_data"
        },
        {
          "data": {
            "application/vnd.jupyter.widget-view+json": {
              "model_id": "7ec5fe0997ea41bbbbc8ca1effdb6760",
              "version_major": 2,
              "version_minor": 0
            },
            "text/plain": [
              "Downloading:   0%|          | 0.00/483 [00:00<?, ?B/s]"
            ]
          },
          "metadata": {},
          "output_type": "display_data"
        },
        {
          "data": {
            "application/vnd.jupyter.widget-view+json": {
              "model_id": "2b54ee7375d94a00b36da9c208aa332e",
              "version_major": 2,
              "version_minor": 0
            },
            "text/plain": [
              "Downloading:   0%|          | 0.00/226k [00:00<?, ?B/s]"
            ]
          },
          "metadata": {},
          "output_type": "display_data"
        },
        {
          "data": {
            "application/vnd.jupyter.widget-view+json": {
              "model_id": "69f0a9f7c8e44bd6bc84abca60f98baf",
              "version_major": 2,
              "version_minor": 0
            },
            "text/plain": [
              "Downloading:   0%|          | 0.00/455k [00:00<?, ?B/s]"
            ]
          },
          "metadata": {},
          "output_type": "display_data"
        }
      ],
      "source": [
        "checkpoint = 'distilbert-base-uncased'\n",
        "tokenizer = AutoTokenizer.from_pretrained(checkpoint)\n",
        "device = torch.device(\"cuda\" if torch.cuda.is_available() else \"cpu\")"
      ]
    },
    {
      "cell_type": "code",
      "execution_count": 104,
      "metadata": {
        "colab": {
          "base_uri": "https://localhost:8080/",
          "height": 81,
          "referenced_widgets": [
            "30e2392d9381479b9da740f7f9f4f51b",
            "568ef351fb724b04839568721cebf51d",
            "d223c1848aef4b26a45de22863edcc90",
            "450b6b9c8f6a4d5eae609fdafe1f2f6d",
            "8b8ffc5f03ed42b9a2cf80b176f9c761",
            "eacaed9927e24e4984aab3a1a92e6b62",
            "9bffd7754f82440593d16f9b255d50c9",
            "dfd9832d298848c7bf2bd09aba7819a8",
            "ae4e39bc5a504f3185db00176c833396",
            "708a147f50884572a579630b5e575e72",
            "1e1241ef06214051a2c18e6333c1ba75",
            "35f4b76be5b6446a8feb0f91ad984cd5",
            "4b8c398f71774fcc89e79905fef660ce",
            "694a8442591545199bb089c033c38d1c",
            "17b0b72e1b5449a48e67c6dfc874a7e2",
            "39c7095b683449a08e0b33595629f245",
            "704ec27f926d44a48e8652554743f6d9",
            "e85c6bad1303482d94ee43ed6855055d",
            "d0d8a37d4b904644be1f62a5cc63ae05",
            "81c0d0406cb14b45b44af110764610ba",
            "664644b949ad4db6bf1dfa46db22f905",
            "22bb3d40aa304d029768cdbe6aca120b"
          ]
        },
        "id": "y3BMuiNSAjeS",
        "outputId": "b596a398-5a97-4cf4-8ad3-c2eb594c5dd5"
      },
      "outputs": [
        {
          "data": {
            "application/vnd.jupyter.widget-view+json": {
              "model_id": "30e2392d9381479b9da740f7f9f4f51b",
              "version_major": 2,
              "version_minor": 0
            },
            "text/plain": [
              "  0%|          | 0/25 [00:00<?, ?ba/s]"
            ]
          },
          "metadata": {},
          "output_type": "display_data"
        },
        {
          "data": {
            "application/vnd.jupyter.widget-view+json": {
              "model_id": "35f4b76be5b6446a8feb0f91ad984cd5",
              "version_major": 2,
              "version_minor": 0
            },
            "text/plain": [
              "  0%|          | 0/25 [00:00<?, ?ba/s]"
            ]
          },
          "metadata": {},
          "output_type": "display_data"
        }
      ],
      "source": [
        "def tokenize_fn(batch):\n",
        "  return tokenizer(batch['cleaned_reviews'], truncation=True,padding='max_length',max_length=512) #no padding option since it will be handled by the trainer in thsi case\n",
        "tokenized_dataset = data.map(tokenize_fn, batched=True)"
      ]
    },
    {
      "cell_type": "code",
      "execution_count": 105,
      "metadata": {
        "colab": {
          "base_uri": "https://localhost:8080/"
        },
        "id": "NRV4nncMAvpD",
        "outputId": "c5d2ce7c-9802-49b3-ab3b-a2af8becfc96"
      },
      "outputs": [
        {
          "data": {
            "text/plain": [
              "DatasetDict({\n",
              "    train: Dataset({\n",
              "        features: ['text', 'label', 'without_stopwords_reviews', 'cleaned_reviews', 'input_ids', 'attention_mask'],\n",
              "        num_rows: 25000\n",
              "    })\n",
              "    test: Dataset({\n",
              "        features: ['text', 'label', 'without_stopwords_reviews', 'cleaned_reviews', 'input_ids', 'attention_mask'],\n",
              "        num_rows: 25000\n",
              "    })\n",
              "})"
            ]
          },
          "execution_count": 105,
          "metadata": {},
          "output_type": "execute_result"
        }
      ],
      "source": [
        "tokenized_dataset"
      ]
    },
    {
      "cell_type": "markdown",
      "metadata": {
        "id": "5DH8ziAcXRWx"
      },
      "source": [
        "## Embeddings Last Hidden State (features)\n",
        "- These Embeddings will be common to all architecture"
      ]
    },
    {
      "cell_type": "code",
      "execution_count": 106,
      "metadata": {
        "colab": {
          "base_uri": "https://localhost:8080/"
        },
        "id": "FBqbRlDBZL5S",
        "outputId": "2f79cf17-4463-409d-9b68-546d3fb1b3a9"
      },
      "outputs": [
        {
          "name": "stderr",
          "output_type": "stream",
          "text": [
            "Some weights of the model checkpoint at distilbert-base-uncased were not used when initializing DistilBertModel: ['vocab_layer_norm.bias', 'vocab_projector.weight', 'vocab_transform.bias', 'vocab_projector.bias', 'vocab_transform.weight', 'vocab_layer_norm.weight']\n",
            "- This IS expected if you are initializing DistilBertModel from the checkpoint of a model trained on another task or with another architecture (e.g. initializing a BertForSequenceClassification model from a BertForPreTraining model).\n",
            "- This IS NOT expected if you are initializing DistilBertModel from the checkpoint of a model that you expect to be exactly identical (initializing a BertForSequenceClassification model from a BertForSequenceClassification model).\n"
          ]
        }
      ],
      "source": [
        "from transformers import AutoModel\n",
        "checkpoint = 'distilbert-base-uncased'\n",
        "model = AutoModel.from_pretrained(checkpoint).to(device)"
      ]
    },
    {
      "cell_type": "code",
      "execution_count": 107,
      "metadata": {
        "colab": {
          "base_uri": "https://localhost:8080/"
        },
        "id": "rW6AsG5CefXl",
        "outputId": "31e92387-da46-4bd9-d093-4fd865ec6836"
      },
      "outputs": [
        {
          "data": {
            "text/plain": [
              "['input_ids', 'attention_mask']"
            ]
          },
          "execution_count": 107,
          "metadata": {},
          "output_type": "execute_result"
        }
      ],
      "source": [
        "tokenizer.model_input_names"
      ]
    },
    {
      "cell_type": "code",
      "execution_count": null,
      "metadata": {
        "colab": {
          "base_uri": "https://localhost:8080/"
        },
        "id": "rrvV3t3Nek7y",
        "outputId": "896705db-1ca0-4fdf-c43a-48339e700ecf"
      },
      "outputs": [],
      "source": [
        "tokenized_dataset['train']['input_ids'][0]"
      ]
    },
    {
      "cell_type": "code",
      "execution_count": 109,
      "metadata": {
        "id": "G6tp4VJKaYhc"
      },
      "outputs": [],
      "source": [
        "device = torch.device(\"cuda\" if torch.cuda.is_available() else \"cpu\")"
      ]
    },
    {
      "cell_type": "code",
      "execution_count": 110,
      "metadata": {
        "id": "KgRyREh9XPWJ"
      },
      "outputs": [],
      "source": [
        "def extract_hidden_states(batch):\n",
        "  # Place model inputs on the GPU\n",
        "  inputs = {k:v.to(device) for k,v in batch.items() if k in tokenizer.model_input_names and isinstance(v, list)==False}\n",
        "  # Extract Last Hidden State \n",
        "  with torch.no_grad():\n",
        "    last_hidden_state = model(**inputs).last_hidden_state\n",
        "  #Return Vector for [CLS] token\n",
        "  return {'hidden_state': last_hidden_state[:,0].cpu().numpy()}\n"
      ]
    },
    {
      "cell_type": "code",
      "execution_count": 94,
      "metadata": {
        "id": "TOekEn-neBdn"
      },
      "outputs": [],
      "source": []
    },
    {
      "cell_type": "code",
      "execution_count": 111,
      "metadata": {
        "id": "LpZYyqjXbFgI"
      },
      "outputs": [],
      "source": [
        "tokenized_dataset.set_format(\"torch\", columns=['input_ids', 'attention_mask','label'])"
      ]
    },
    {
      "cell_type": "code",
      "execution_count": 112,
      "metadata": {
        "colab": {
          "base_uri": "https://localhost:8080/"
        },
        "id": "2NlcpGxnaGRQ",
        "outputId": "812e5bf8-39ca-4930-c314-98cba37def5a"
      },
      "outputs": [
        {
          "data": {
            "text/plain": [
              "DatasetDict({\n",
              "    train: Dataset({\n",
              "        features: ['text', 'label', 'without_stopwords_reviews', 'cleaned_reviews', 'input_ids', 'attention_mask'],\n",
              "        num_rows: 25000\n",
              "    })\n",
              "    test: Dataset({\n",
              "        features: ['text', 'label', 'without_stopwords_reviews', 'cleaned_reviews', 'input_ids', 'attention_mask'],\n",
              "        num_rows: 25000\n",
              "    })\n",
              "})"
            ]
          },
          "execution_count": 112,
          "metadata": {},
          "output_type": "execute_result"
        }
      ],
      "source": [
        "tokenized_dataset"
      ]
    },
    {
      "cell_type": "code",
      "execution_count": 113,
      "metadata": {
        "colab": {
          "base_uri": "https://localhost:8080/",
          "height": 81,
          "referenced_widgets": [
            "8cd29b82a0464bb19ea1f9cb246bbecf",
            "42ef3100d1a54dc1a6c9bbf58456d8ef",
            "508866f57bba4b26813d940d29a00aad",
            "be24b5d06c8e44d586c209c0d15c0647",
            "e7fad451e3dd44bebc564e46af8e72b6",
            "43a17854ee9048bbb4efa0633e630c83",
            "5151513a9d8942ceba40d4509e747393",
            "14935a2c4a51420cb9a94b1e7fa970ad",
            "16d87811b097439b849a2a583ddb3743",
            "8ee13237ff82455a8f231d32153eb4e2",
            "1d95dbaf8528400eb581d559e0ed0db2",
            "8514e7913cb74a158e96c921b0e1d2de",
            "9a8d3a5e02cd4f918f3a6d4106d32794",
            "50f864085da2476fb6a6d1eefc059b11",
            "c999b15b946c469f8f8fb565ecc440c2",
            "8a641ef303c64bec84443f5711f8ebe5",
            "9c8179cfe26b401a9f22d71af13599cf",
            "741c02194d71413988142d5e57bc6045",
            "155e46b30eeb47d6ae6392f5ed6f264d",
            "55c07c9241b344cbb25dc1602c2f3bbc",
            "50c636f2ff6f4ef2aa71e5cb0a020a95",
            "292132fb0e364f06bcf88bfa2a007870"
          ]
        },
        "id": "KHzJ2-BPbZKB",
        "outputId": "1630a485-0e53-45fa-a489-c0a7637d05a7"
      },
      "outputs": [
        {
          "data": {
            "application/vnd.jupyter.widget-view+json": {
              "model_id": "8cd29b82a0464bb19ea1f9cb246bbecf",
              "version_major": 2,
              "version_minor": 0
            },
            "text/plain": [
              "  0%|          | 0/1563 [00:00<?, ?ba/s]"
            ]
          },
          "metadata": {},
          "output_type": "display_data"
        },
        {
          "data": {
            "application/vnd.jupyter.widget-view+json": {
              "model_id": "8514e7913cb74a158e96c921b0e1d2de",
              "version_major": 2,
              "version_minor": 0
            },
            "text/plain": [
              "  0%|          | 0/1563 [00:00<?, ?ba/s]"
            ]
          },
          "metadata": {},
          "output_type": "display_data"
        }
      ],
      "source": [
        "tokenized_hidden_states = tokenized_dataset.map(extract_hidden_states, batched=True, batch_size=16)"
      ]
    },
    {
      "cell_type": "code",
      "execution_count": 114,
      "metadata": {
        "colab": {
          "base_uri": "https://localhost:8080/"
        },
        "id": "fu4ivGL2eKdN",
        "outputId": "978b4df7-73e9-4842-a566-4c7bd9f414f2"
      },
      "outputs": [
        {
          "data": {
            "text/plain": [
              "torch.Size([25000, 768])"
            ]
          },
          "execution_count": 114,
          "metadata": {},
          "output_type": "execute_result"
        }
      ],
      "source": [
        "tokenized_hidden_states['train']['hidden_state'].shape"
      ]
    },
    {
      "cell_type": "code",
      "execution_count": 115,
      "metadata": {
        "colab": {
          "base_uri": "https://localhost:8080/"
        },
        "id": "OEg5niAmeWKg",
        "outputId": "18b69f26-2ea0-4ed9-d489-99b344eaa013"
      },
      "outputs": [
        {
          "data": {
            "text/plain": [
              "torch.Size([25000, 768])"
            ]
          },
          "execution_count": 115,
          "metadata": {},
          "output_type": "execute_result"
        }
      ],
      "source": [
        "tokenized_hidden_states['test']['hidden_state'].shape"
      ]
    },
    {
      "cell_type": "markdown",
      "metadata": {
        "id": "o3_2LH6ieckr"
      },
      "source": [
        "## Train and Test Data "
      ]
    },
    {
      "cell_type": "code",
      "execution_count": 116,
      "metadata": {
        "id": "LZra2kKoeYcl"
      },
      "outputs": [],
      "source": [
        "X_train = np.array(tokenized_hidden_states['train'][\"hidden_state\"])\n",
        "y_train = np.array(tokenized_hidden_states['train'][\"label\"])\n",
        "X_valid = np.array(tokenized_hidden_states['test'][\"hidden_state\"])\n",
        "y_valid = np.array(tokenized_hidden_states['test'][\"label\"])"
      ]
    },
    {
      "cell_type": "markdown",
      "metadata": {
        "id": "CdYYyi0Gk4TI"
      },
      "source": [
        "## DistilBERT Embeddings + Logistic Regression"
      ]
    },
    {
      "cell_type": "markdown",
      "metadata": {
        "id": "MvGwS9lmHG5l"
      },
      "source": [
        "#### Logistic Regression Model "
      ]
    },
    {
      "cell_type": "code",
      "execution_count": 117,
      "metadata": {
        "id": "I7LtZEJYe43U"
      },
      "outputs": [],
      "source": [
        "from sklearn.linear_model import LogisticRegression\n",
        "\n",
        "lr = LogisticRegression(max_iter=3000)\n",
        "lr.fit(X_train,y_train)\n",
        "preds = lr.predict(X_valid)"
      ]
    },
    {
      "cell_type": "markdown",
      "metadata": {
        "id": "v_PalHnvHLPc"
      },
      "source": [
        "#### Performance Metric"
      ]
    },
    {
      "cell_type": "code",
      "execution_count": 118,
      "metadata": {
        "id": "aR9kdPX3ffXX"
      },
      "outputs": [],
      "source": [
        "cm = confusion_matrix(y_valid, preds, labels=[0, 1])"
      ]
    },
    {
      "cell_type": "code",
      "execution_count": 119,
      "metadata": {
        "colab": {
          "base_uri": "https://localhost:8080/",
          "height": 279
        },
        "id": "_XKIB1RzfiA7",
        "outputId": "12ccb658-c8f4-403b-c8a3-6883d5972fbc"
      },
      "outputs": [
        {
          "data": {
            "image/png": "[encoded data removed]",
            "text/plain": [
              "<Figure size 432x288 with 2 Axes>"
            ]
          },
          "metadata": {
            "needs_background": "light"
          },
          "output_type": "display_data"
        }
      ],
      "source": [
        "disp = ConfusionMatrixDisplay(confusion_matrix=cm,\n",
        "                             display_labels=['negative', 'positive'])\n",
        "disp.plot()\n",
        "plt.grid(False)\n",
        "plt.show()"
      ]
    },
    {
      "cell_type": "code",
      "execution_count": 120,
      "metadata": {
        "colab": {
          "base_uri": "https://localhost:8080/"
        },
        "id": "N5ceFWocfjft",
        "outputId": "5640ba7c-e188-482d-bb25-e3c9f3b4cad6"
      },
      "outputs": [
        {
          "name": "stdout",
          "output_type": "stream",
          "text": [
            "              precision    recall  f1-score   support\n",
            "\n",
            "           0       0.84      0.84      0.84     12500\n",
            "           1       0.84      0.84      0.84     12500\n",
            "\n",
            "    accuracy                           0.84     25000\n",
            "   macro avg       0.84      0.84      0.84     25000\n",
            "weighted avg       0.84      0.84      0.84     25000\n",
            "\n"
          ]
        }
      ],
      "source": [
        "print(classification_report(y_valid,preds))"
      ]
    },
    {
      "cell_type": "markdown",
      "metadata": {
        "id": "9OYmpsrnkjTb"
      },
      "source": [
        "## DistilBERT Embeddings + ANN Head "
      ]
    },
    {
      "cell_type": "markdown",
      "metadata": {
        "id": "T6730I5AwlVh"
      },
      "source": [
        "#### Model Architecture for ANN"
      ]
    },
    {
      "cell_type": "code",
      "execution_count": 121,
      "metadata": {
        "colab": {
          "base_uri": "https://localhost:8080/"
        },
        "id": "LTgeW_k5zEfU",
        "outputId": "419d631d-ad92-416c-9aba-c6111d0b31f5"
      },
      "outputs": [
        {
          "name": "stdout",
          "output_type": "stream",
          "text": [
            "Model: \"sequential\"\n",
            "_________________________________________________________________\n",
            " Layer (type)                Output Shape              Param #   \n",
            "=================================================================\n",
            " dense (Dense)               (None, 768)               590592    \n",
            "                                                                 \n",
            " dense_1 (Dense)             (None, 600)               461400    \n",
            "                                                                 \n",
            " dense_2 (Dense)             (None, 600)               360600    \n",
            "                                                                 \n",
            " batch_normalization (BatchN  (None, 600)              2400      \n",
            " ormalization)                                                   \n",
            "                                                                 \n",
            " dense_3 (Dense)             (None, 1)                 601       \n",
            "                                                                 \n",
            "=================================================================\n",
            "Total params: 1,415,593\n",
            "Trainable params: 1,414,393\n",
            "Non-trainable params: 1,200\n",
            "_________________________________________________________________\n"
          ]
        }
      ],
      "source": [
        "model = Sequential()\n",
        "model.add(Dense(768, activation='relu', kernel_initializer='normal', input_shape=(768,)))\n",
        "#model.add(Dropout(0.2))\n",
        "model.add(Dense(600,kernel_initializer='normal', activation='relu'))\n",
        "model.add(Dense(600,kernel_initializer='normal', activation='relu'))\n",
        "#model.add(Dense(19,kernel_initializer='normal', activation='relu'))\n",
        "model.add(BatchNormalization())\n",
        "model.add(Dense(1, activation='sigmoid'))\n",
        "model.summary()"
      ]
    },
    {
      "cell_type": "code",
      "execution_count": 122,
      "metadata": {
        "colab": {
          "base_uri": "https://localhost:8080/"
        },
        "id": "c4jpyLBAzQbF",
        "outputId": "b7c5be38-be16-4cab-c64c-506886a6835d"
      },
      "outputs": [
        {
          "name": "stdout",
          "output_type": "stream",
          "text": [
            "Model: \"sequential\"\n",
            "_________________________________________________________________\n",
            " Layer (type)                Output Shape              Param #   \n",
            "=================================================================\n",
            " dense (Dense)               (None, 768)               590592    \n",
            "                                                                 \n",
            " dense_1 (Dense)             (None, 600)               461400    \n",
            "                                                                 \n",
            " dense_2 (Dense)             (None, 600)               360600    \n",
            "                                                                 \n",
            " batch_normalization (BatchN  (None, 600)              2400      \n",
            " ormalization)                                                   \n",
            "                                                                 \n",
            " dense_3 (Dense)             (None, 1)                 601       \n",
            "                                                                 \n",
            "=================================================================\n",
            "Total params: 1,415,593\n",
            "Trainable params: 1,414,393\n",
            "Non-trainable params: 1,200\n",
            "_________________________________________________________________\n",
            "None\n"
          ]
        }
      ],
      "source": [
        "model.compile(\n",
        "  loss=tf.keras.losses.binary_crossentropy,\n",
        "  optimizer=tf.keras.optimizers.Adam(lr=0.001),\n",
        "  metrics=['accuracy']\n",
        ")\n",
        "print(model.summary())"
      ]
    },
    {
      "cell_type": "code",
      "execution_count": 123,
      "metadata": {
        "colab": {
          "base_uri": "https://localhost:8080/"
        },
        "id": "HEo9geJT0FKl",
        "outputId": "40c287fa-c55c-4ea6-9adf-6aab8fcbabf8"
      },
      "outputs": [
        {
          "data": {
            "text/plain": [
              "(25000, 768)"
            ]
          },
          "execution_count": 123,
          "metadata": {},
          "output_type": "execute_result"
        }
      ],
      "source": [
        "X_train.shape"
      ]
    },
    {
      "cell_type": "markdown",
      "metadata": {
        "id": "x5vNrdGBFvEy"
      },
      "source": [
        "#### Model Training "
      ]
    },
    {
      "cell_type": "code",
      "execution_count": 124,
      "metadata": {
        "colab": {
          "base_uri": "https://localhost:8080/"
        },
        "id": "KLiZctviztBR",
        "outputId": "cb61c332-f49e-4f6b-94d8-28cef4e35516"
      },
      "outputs": [
        {
          "name": "stdout",
          "output_type": "stream",
          "text": [
            "Epoch 1/40\n",
            "196/196 [==============================] - 5s 7ms/step - loss: 0.4323 - accuracy: 0.8065 - val_loss: 0.5179 - val_accuracy: 0.7476\n",
            "Epoch 2/40\n",
            "196/196 [==============================] - 1s 6ms/step - loss: 0.3936 - accuracy: 0.8264 - val_loss: 0.4191 - val_accuracy: 0.8108\n",
            "Epoch 3/40\n",
            "196/196 [==============================] - 1s 6ms/step - loss: 0.3895 - accuracy: 0.8275 - val_loss: 0.3989 - val_accuracy: 0.8210\n",
            "Epoch 4/40\n",
            "196/196 [==============================] - 1s 6ms/step - loss: 0.3832 - accuracy: 0.8318 - val_loss: 0.6437 - val_accuracy: 0.7102\n",
            "Epoch 5/40\n",
            "196/196 [==============================] - 1s 6ms/step - loss: 0.3790 - accuracy: 0.8341 - val_loss: 0.3881 - val_accuracy: 0.8279\n",
            "Epoch 6/40\n",
            "196/196 [==============================] - 1s 6ms/step - loss: 0.3760 - accuracy: 0.8372 - val_loss: 0.3842 - val_accuracy: 0.8263\n",
            "Epoch 7/40\n",
            "196/196 [==============================] - 1s 6ms/step - loss: 0.3743 - accuracy: 0.8326 - val_loss: 0.4026 - val_accuracy: 0.8200\n",
            "Epoch 8/40\n",
            "196/196 [==============================] - 1s 6ms/step - loss: 0.3722 - accuracy: 0.8358 - val_loss: 0.4066 - val_accuracy: 0.8137\n",
            "Epoch 9/40\n",
            "196/196 [==============================] - 1s 6ms/step - loss: 0.3717 - accuracy: 0.8375 - val_loss: 0.3785 - val_accuracy: 0.8300\n",
            "Epoch 10/40\n",
            "196/196 [==============================] - 1s 6ms/step - loss: 0.3686 - accuracy: 0.8390 - val_loss: 0.3935 - val_accuracy: 0.8210\n",
            "Epoch 11/40\n",
            "196/196 [==============================] - 1s 6ms/step - loss: 0.3667 - accuracy: 0.8403 - val_loss: 0.4104 - val_accuracy: 0.8168\n",
            "Epoch 12/40\n",
            "196/196 [==============================] - 1s 6ms/step - loss: 0.3656 - accuracy: 0.8406 - val_loss: 0.6407 - val_accuracy: 0.7046\n",
            "Epoch 13/40\n",
            "196/196 [==============================] - 1s 6ms/step - loss: 0.3671 - accuracy: 0.8388 - val_loss: 0.3908 - val_accuracy: 0.8245\n",
            "Epoch 14/40\n",
            "196/196 [==============================] - 1s 6ms/step - loss: 0.3641 - accuracy: 0.8409 - val_loss: 0.6116 - val_accuracy: 0.7463\n",
            "Epoch 15/40\n",
            "196/196 [==============================] - 1s 6ms/step - loss: 0.3627 - accuracy: 0.8418 - val_loss: 0.4937 - val_accuracy: 0.7752\n",
            "Epoch 16/40\n",
            "196/196 [==============================] - 1s 6ms/step - loss: 0.3615 - accuracy: 0.8430 - val_loss: 0.4918 - val_accuracy: 0.7845\n",
            "Epoch 17/40\n",
            "196/196 [==============================] - 1s 6ms/step - loss: 0.3572 - accuracy: 0.8434 - val_loss: 0.4933 - val_accuracy: 0.7835\n",
            "Epoch 18/40\n",
            "196/196 [==============================] - 1s 6ms/step - loss: 0.3570 - accuracy: 0.8448 - val_loss: 0.4405 - val_accuracy: 0.7995\n",
            "Epoch 19/40\n",
            "196/196 [==============================] - 1s 6ms/step - loss: 0.3584 - accuracy: 0.8434 - val_loss: 0.4877 - val_accuracy: 0.7822\n",
            "Epoch 20/40\n",
            "196/196 [==============================] - 1s 6ms/step - loss: 0.3567 - accuracy: 0.8454 - val_loss: 0.8456 - val_accuracy: 0.6595\n",
            "Epoch 21/40\n",
            "196/196 [==============================] - 1s 6ms/step - loss: 0.3552 - accuracy: 0.8452 - val_loss: 0.3925 - val_accuracy: 0.8257\n",
            "Epoch 22/40\n",
            "196/196 [==============================] - 1s 6ms/step - loss: 0.3525 - accuracy: 0.8482 - val_loss: 0.3903 - val_accuracy: 0.8254\n",
            "Epoch 23/40\n",
            "196/196 [==============================] - 1s 6ms/step - loss: 0.3527 - accuracy: 0.8464 - val_loss: 0.4155 - val_accuracy: 0.8084\n",
            "Epoch 24/40\n",
            "196/196 [==============================] - 1s 6ms/step - loss: 0.3504 - accuracy: 0.8480 - val_loss: 0.3848 - val_accuracy: 0.8293\n",
            "Epoch 25/40\n",
            "196/196 [==============================] - 1s 6ms/step - loss: 0.3488 - accuracy: 0.8482 - val_loss: 0.3960 - val_accuracy: 0.8217\n",
            "Epoch 26/40\n",
            "196/196 [==============================] - 1s 6ms/step - loss: 0.3490 - accuracy: 0.8473 - val_loss: 0.4897 - val_accuracy: 0.7734\n",
            "Epoch 27/40\n",
            "196/196 [==============================] - 1s 6ms/step - loss: 0.3466 - accuracy: 0.8507 - val_loss: 0.8349 - val_accuracy: 0.6603\n",
            "Epoch 28/40\n",
            "196/196 [==============================] - 1s 6ms/step - loss: 0.3470 - accuracy: 0.8466 - val_loss: 0.4316 - val_accuracy: 0.8035\n",
            "Epoch 29/40\n",
            "196/196 [==============================] - 1s 6ms/step - loss: 0.3456 - accuracy: 0.8504 - val_loss: 0.3850 - val_accuracy: 0.8269\n",
            "Epoch 30/40\n",
            "196/196 [==============================] - 1s 6ms/step - loss: 0.3430 - accuracy: 0.8500 - val_loss: 0.3828 - val_accuracy: 0.8326\n",
            "Epoch 31/40\n",
            "196/196 [==============================] - 1s 6ms/step - loss: 0.3436 - accuracy: 0.8523 - val_loss: 0.4128 - val_accuracy: 0.8168\n",
            "Epoch 32/40\n",
            "196/196 [==============================] - 1s 6ms/step - loss: 0.3422 - accuracy: 0.8503 - val_loss: 0.7316 - val_accuracy: 0.7048\n",
            "Epoch 33/40\n",
            "196/196 [==============================] - 1s 6ms/step - loss: 0.3425 - accuracy: 0.8528 - val_loss: 0.4587 - val_accuracy: 0.7899\n",
            "Epoch 34/40\n",
            "196/196 [==============================] - 1s 6ms/step - loss: 0.3417 - accuracy: 0.8534 - val_loss: 0.3808 - val_accuracy: 0.8300\n",
            "Epoch 35/40\n",
            "196/196 [==============================] - 1s 6ms/step - loss: 0.3398 - accuracy: 0.8531 - val_loss: 0.4412 - val_accuracy: 0.7984\n",
            "Epoch 36/40\n",
            "196/196 [==============================] - 1s 6ms/step - loss: 0.3384 - accuracy: 0.8536 - val_loss: 0.4641 - val_accuracy: 0.7964\n",
            "Epoch 37/40\n",
            "196/196 [==============================] - 1s 6ms/step - loss: 0.3386 - accuracy: 0.8531 - val_loss: 0.4027 - val_accuracy: 0.8152\n",
            "Epoch 38/40\n",
            "196/196 [==============================] - 1s 6ms/step - loss: 0.3359 - accuracy: 0.8555 - val_loss: 0.5443 - val_accuracy: 0.7513\n",
            "Epoch 39/40\n",
            "196/196 [==============================] - 1s 6ms/step - loss: 0.3355 - accuracy: 0.8557 - val_loss: 0.3862 - val_accuracy: 0.8291\n",
            "Epoch 40/40\n",
            "196/196 [==============================] - 1s 6ms/step - loss: 0.3346 - accuracy: 0.8560 - val_loss: 0.4064 - val_accuracy: 0.8173\n"
          ]
        }
      ],
      "source": [
        "r = model.fit(X_train,\n",
        "        y_train,\n",
        "        batch_size=128,\n",
        "  epochs=40,\n",
        "  validation_data=(X_valid, y_valid)\n",
        ")  "
      ]
    },
    {
      "cell_type": "markdown",
      "metadata": {
        "id": "9x9-TcseF1h5"
      },
      "source": [
        "#### Model Validation"
      ]
    },
    {
      "cell_type": "code",
      "execution_count": 125,
      "metadata": {
        "id": "TkNqCNW-42zd"
      },
      "outputs": [],
      "source": [
        "preds_ann = model.predict(X_valid)"
      ]
    },
    {
      "cell_type": "code",
      "execution_count": 126,
      "metadata": {
        "colab": {
          "base_uri": "https://localhost:8080/"
        },
        "id": "-omPbAZ96Veh",
        "outputId": "cd6cff77-cce8-4e7a-f5d8-0cbc118e3f6c"
      },
      "outputs": [
        {
          "data": {
            "text/plain": [
              "(25000,)"
            ]
          },
          "execution_count": 126,
          "metadata": {},
          "output_type": "execute_result"
        }
      ],
      "source": [
        "y_valid.shape"
      ]
    },
    {
      "cell_type": "code",
      "execution_count": 127,
      "metadata": {
        "id": "BdPiHLE_6IR2"
      },
      "outputs": [],
      "source": [
        "preds_ann = np.where(preds_ann>0.5,1,0).reshape(y_valid.shape)"
      ]
    },
    {
      "cell_type": "code",
      "execution_count": 128,
      "metadata": {
        "colab": {
          "base_uri": "https://localhost:8080/"
        },
        "id": "Wn5s4ez35NNc",
        "outputId": "483dd751-9aef-460f-b18f-40c9959d7ab4"
      },
      "outputs": [
        {
          "data": {
            "text/plain": [
              "array([0, 0, 0, ..., 0, 0, 1])"
            ]
          },
          "execution_count": 128,
          "metadata": {},
          "output_type": "execute_result"
        }
      ],
      "source": [
        "preds_ann"
      ]
    },
    {
      "cell_type": "code",
      "execution_count": 129,
      "metadata": {
        "id": "ddUgBY8j5IEY"
      },
      "outputs": [],
      "source": [
        "cm = confusion_matrix(y_valid, preds_ann, labels=[0, 1])"
      ]
    },
    {
      "cell_type": "code",
      "execution_count": 130,
      "metadata": {
        "colab": {
          "base_uri": "https://localhost:8080/",
          "height": 279
        },
        "id": "QXJP5Hvo6j2K",
        "outputId": "fd7008a4-0b32-48a1-a1c0-202e91ad9ded"
      },
      "outputs": [
        {
          "data": {
            "image/png": "[encoded data removed]",
            "text/plain": [
              "<Figure size 432x288 with 2 Axes>"
            ]
          },
          "metadata": {
            "needs_background": "light"
          },
          "output_type": "display_data"
        }
      ],
      "source": [
        "disp = ConfusionMatrixDisplay(confusion_matrix=cm,\n",
        "                             display_labels=['negative', 'positive'])\n",
        "disp.plot()\n",
        "plt.grid(False)\n",
        "plt.show()"
      ]
    },
    {
      "cell_type": "code",
      "execution_count": 131,
      "metadata": {
        "colab": {
          "base_uri": "https://localhost:8080/"
        },
        "id": "9KrwDe426oTq",
        "outputId": "67d121b8-9b9c-457f-c3ca-9a1b6aaf6a28"
      },
      "outputs": [
        {
          "name": "stdout",
          "output_type": "stream",
          "text": [
            "              precision    recall  f1-score   support\n",
            "\n",
            "           0       0.77      0.90      0.83     12500\n",
            "           1       0.88      0.74      0.80     12500\n",
            "\n",
            "    accuracy                           0.82     25000\n",
            "   macro avg       0.83      0.82      0.82     25000\n",
            "weighted avg       0.83      0.82      0.82     25000\n",
            "\n"
          ]
        }
      ],
      "source": [
        "print(classification_report(y_valid,preds_ann))"
      ]
    },
    {
      "cell_type": "markdown",
      "metadata": {
        "id": "Aw7gD--ZkrZN"
      },
      "source": [
        "## DistilBERT Embeddings + CNN Model Concatenation"
      ]
    },
    {
      "cell_type": "code",
      "execution_count": 132,
      "metadata": {
        "id": "_IRsk4jeUvlk"
      },
      "outputs": [],
      "source": [
        "from transformers import AutoConfig"
      ]
    },
    {
      "cell_type": "markdown",
      "metadata": {
        "id": "bxkPaJIOE2AG"
      },
      "source": [
        "#### Preparing the inputs for CNN"
      ]
    },
    {
      "cell_type": "code",
      "execution_count": 133,
      "metadata": {
        "id": "XWcsYpl9hMhZ"
      },
      "outputs": [],
      "source": [
        "X_train_cnn = X_train.reshape(25000,768,1)\n",
        "X_test_cnn = X_valid.reshape(25000,768,1)"
      ]
    },
    {
      "cell_type": "code",
      "execution_count": 134,
      "metadata": {
        "colab": {
          "base_uri": "https://localhost:8080/"
        },
        "id": "Rf_7WTkWh-lV",
        "outputId": "3b0db28a-98ef-4480-a11e-7d50c7ad8680"
      },
      "outputs": [
        {
          "data": {
            "text/plain": [
              "(25000, 768, 1)"
            ]
          },
          "execution_count": 134,
          "metadata": {},
          "output_type": "execute_result"
        }
      ],
      "source": [
        "X_train_cnn.shape"
      ]
    },
    {
      "cell_type": "code",
      "execution_count": 135,
      "metadata": {
        "id": "RvhPu2MUpWkP"
      },
      "outputs": [],
      "source": [
        "import tensorflow as tf\n",
        "from tensorflow.keras.models import Model\n",
        "from sklearn.model_selection import train_test_split\n",
        "from tensorflow.keras.preprocessing.text import Tokenizer\n",
        "from tensorflow.keras.preprocessing.sequence import pad_sequences\n",
        "from tensorflow.keras.utils import to_categorical\n",
        "from tensorflow.keras.models import Sequential\n",
        "from tensorflow.keras.layers import Dense, Conv2D, MaxPool2D, Flatten, Embedding, LSTM, Bidirectional, GlobalMaxPool1D, Input,BatchNormalization, Dropout, SpatialDropout1D, Conv1D, concatenate\n",
        "from tensorflow.keras.callbacks import EarlyStopping,ModelCheckpoint\n",
        "\n",
        "##SKLEARN\n",
        "from sklearn.feature_extraction.text import TfidfVectorizer\n",
        "from sklearn.metrics import classification_report,confusion_matrix\n",
        "from sklearn.model_selection import train_test_split\n",
        "from sklearn.pipeline import Pipeline\n",
        "from sklearn.decomposition import NMF\n"
      ]
    },
    {
      "cell_type": "markdown",
      "metadata": {
        "id": "ou_DlcLME59z"
      },
      "source": [
        "#### Model Architecture for CNN (using concatenation of CNN Layers)"
      ]
    },
    {
      "cell_type": "code",
      "execution_count": 136,
      "metadata": {
        "id": "2TtYcoqIOGyO"
      },
      "outputs": [],
      "source": [
        "input_ = Input(shape=(768,1))\n",
        "\n",
        "\n",
        "conv1 = Conv1D(256, 20,strides=1, activation='relu')(input_)\n",
        "maxp_1 = GlobalMaxPool1D(name='maxp_1')(conv1)\n",
        "\n",
        "conv2= Conv1D(256, 10, activation='relu' )(input_)\n",
        "maxp_2 = GlobalMaxPool1D(name='maxp_2')(conv2)\n",
        "\n",
        "conv3= Conv1D(256, 5, activation='relu' )(input_)\n",
        "maxp_3 = GlobalMaxPool1D(name='maxp_3')(conv3)\n",
        "\n",
        "concat = concatenate([maxp_1, maxp_2, maxp_3])\n",
        "\n",
        "dense_layer = Dense(64, activation='relu', name='dense')(concat)\n",
        "\n",
        "\n",
        "output = Dense(1, activation=\"sigmoid\")(dense_layer)\n",
        "#output = dense(dense_layer)\n",
        "model = Model(input_, output)\n",
        "\n"
      ]
    },
    {
      "cell_type": "code",
      "execution_count": 137,
      "metadata": {
        "colab": {
          "base_uri": "https://localhost:8080/"
        },
        "id": "G9nHyy3PuW7F",
        "outputId": "c92101ba-8d45-41e4-8f24-c2d697781fd5"
      },
      "outputs": [
        {
          "name": "stdout",
          "output_type": "stream",
          "text": [
            "Model: \"model\"\n",
            "__________________________________________________________________________________________________\n",
            " Layer (type)                   Output Shape         Param #     Connected to                     \n",
            "==================================================================================================\n",
            " input_1 (InputLayer)           [(None, 768, 1)]     0           []                               \n",
            "                                                                                                  \n",
            " conv1d (Conv1D)                (None, 749, 256)     5376        ['input_1[0][0]']                \n",
            "                                                                                                  \n",
            " conv1d_1 (Conv1D)              (None, 759, 256)     2816        ['input_1[0][0]']                \n",
            "                                                                                                  \n",
            " conv1d_2 (Conv1D)              (None, 764, 256)     1536        ['input_1[0][0]']                \n",
            "                                                                                                  \n",
            " maxp_1 (GlobalMaxPooling1D)    (None, 256)          0           ['conv1d[0][0]']                 \n",
            "                                                                                                  \n",
            " maxp_2 (GlobalMaxPooling1D)    (None, 256)          0           ['conv1d_1[0][0]']               \n",
            "                                                                                                  \n",
            " maxp_3 (GlobalMaxPooling1D)    (None, 256)          0           ['conv1d_2[0][0]']               \n",
            "                                                                                                  \n",
            " concatenate (Concatenate)      (None, 768)          0           ['maxp_1[0][0]',                 \n",
            "                                                                  'maxp_2[0][0]',                 \n",
            "                                                                  'maxp_3[0][0]']                 \n",
            "                                                                                                  \n",
            " dense (Dense)                  (None, 64)           49216       ['concatenate[0][0]']            \n",
            "                                                                                                  \n",
            " dense_4 (Dense)                (None, 1)            65          ['dense[0][0]']                  \n",
            "                                                                                                  \n",
            "==================================================================================================\n",
            "Total params: 59,009\n",
            "Trainable params: 59,009\n",
            "Non-trainable params: 0\n",
            "__________________________________________________________________________________________________\n",
            "None\n"
          ]
        }
      ],
      "source": [
        "model.compile(\n",
        "  loss=tf.keras.losses.binary_crossentropy,\n",
        "  optimizer=tf.keras.optimizers.Adam(lr=0.0001),\n",
        "  metrics=['accuracy']\n",
        ")\n",
        "print(model.summary())"
      ]
    },
    {
      "cell_type": "code",
      "execution_count": 138,
      "metadata": {
        "id": "jyYatohnoppB"
      },
      "outputs": [],
      "source": [
        "checkpoint = ModelCheckpoint(\"/content/drive/MyDrive/UMD/MSML612_assignment2/sw.h5\",\n",
        "                             monitor=\"val_loss\",\n",
        "                             mode=\"min\",\n",
        "                             save_best_only = True,\n",
        "                             verbose=1)\n",
        "\n",
        "earlystop = EarlyStopping(monitor = 'val_loss', \n",
        "                          min_delta = 0, \n",
        "                          patience = 20,\n",
        "                          verbose = 1,\n",
        "                          restore_best_weights = True)\n",
        "\n",
        "# we put our call backs into a callback list\n",
        "callbacks = [earlystop, checkpoint]"
      ]
    },
    {
      "cell_type": "markdown",
      "metadata": {
        "id": "S8Y9YfynFCim"
      },
      "source": [
        "#### Model Training "
      ]
    },
    {
      "cell_type": "code",
      "execution_count": 139,
      "metadata": {
        "colab": {
          "base_uri": "https://localhost:8080/"
        },
        "id": "6aJU22VHtlHc",
        "outputId": "08930557-d0e1-45c5-fcbc-0057074ee9fc"
      },
      "outputs": [
        {
          "name": "stdout",
          "output_type": "stream",
          "text": [
            "Epoch 1/10\n",
            "391/391 [==============================] - ETA: 0s - loss: 0.6753 - accuracy: 0.6068\n",
            "Epoch 1: val_loss improved from inf to 0.65866, saving model to /content/drive/MyDrive/UMD/MSML612_assignment2/sw.h5\n",
            "391/391 [==============================] - 15s 15ms/step - loss: 0.6753 - accuracy: 0.6068 - val_loss: 0.6587 - val_accuracy: 0.6594\n",
            "Epoch 2/10\n",
            "390/391 [============================>.] - ETA: 0s - loss: 0.6403 - accuracy: 0.6687\n",
            "Epoch 2: val_loss improved from 0.65866 to 0.62574, saving model to /content/drive/MyDrive/UMD/MSML612_assignment2/sw.h5\n",
            "391/391 [==============================] - 6s 14ms/step - loss: 0.6402 - accuracy: 0.6689 - val_loss: 0.6257 - val_accuracy: 0.6747\n",
            "Epoch 3/10\n",
            "388/391 [============================>.] - ETA: 0s - loss: 0.6075 - accuracy: 0.6896\n",
            "Epoch 3: val_loss improved from 0.62574 to 0.59398, saving model to /content/drive/MyDrive/UMD/MSML612_assignment2/sw.h5\n",
            "391/391 [==============================] - 6s 14ms/step - loss: 0.6074 - accuracy: 0.6898 - val_loss: 0.5940 - val_accuracy: 0.7051\n",
            "Epoch 4/10\n",
            "391/391 [==============================] - ETA: 0s - loss: 0.5793 - accuracy: 0.7089\n",
            "Epoch 4: val_loss improved from 0.59398 to 0.57221, saving model to /content/drive/MyDrive/UMD/MSML612_assignment2/sw.h5\n",
            "391/391 [==============================] - 6s 15ms/step - loss: 0.5793 - accuracy: 0.7089 - val_loss: 0.5722 - val_accuracy: 0.7166\n",
            "Epoch 5/10\n",
            "386/391 [============================>.] - ETA: 0s - loss: 0.5557 - accuracy: 0.7259\n",
            "Epoch 5: val_loss improved from 0.57221 to 0.54937, saving model to /content/drive/MyDrive/UMD/MSML612_assignment2/sw.h5\n",
            "391/391 [==============================] - 6s 14ms/step - loss: 0.5557 - accuracy: 0.7259 - val_loss: 0.5494 - val_accuracy: 0.7309\n",
            "Epoch 6/10\n",
            "386/391 [============================>.] - ETA: 0s - loss: 0.5371 - accuracy: 0.7398\n",
            "Epoch 6: val_loss improved from 0.54937 to 0.53064, saving model to /content/drive/MyDrive/UMD/MSML612_assignment2/sw.h5\n",
            "391/391 [==============================] - 6s 14ms/step - loss: 0.5369 - accuracy: 0.7400 - val_loss: 0.5306 - val_accuracy: 0.7452\n",
            "Epoch 7/10\n",
            "387/391 [============================>.] - ETA: 0s - loss: 0.5235 - accuracy: 0.7471\n",
            "Epoch 7: val_loss improved from 0.53064 to 0.52044, saving model to /content/drive/MyDrive/UMD/MSML612_assignment2/sw.h5\n",
            "391/391 [==============================] - 6s 14ms/step - loss: 0.5236 - accuracy: 0.7472 - val_loss: 0.5204 - val_accuracy: 0.7488\n",
            "Epoch 8/10\n",
            "388/391 [============================>.] - ETA: 0s - loss: 0.5114 - accuracy: 0.7558\n",
            "Epoch 8: val_loss improved from 0.52044 to 0.51993, saving model to /content/drive/MyDrive/UMD/MSML612_assignment2/sw.h5\n",
            "391/391 [==============================] - 6s 14ms/step - loss: 0.5114 - accuracy: 0.7556 - val_loss: 0.5199 - val_accuracy: 0.7431\n",
            "Epoch 9/10\n",
            "388/391 [============================>.] - ETA: 0s - loss: 0.5012 - accuracy: 0.7593\n",
            "Epoch 9: val_loss improved from 0.51993 to 0.50518, saving model to /content/drive/MyDrive/UMD/MSML612_assignment2/sw.h5\n",
            "391/391 [==============================] - 6s 15ms/step - loss: 0.5013 - accuracy: 0.7592 - val_loss: 0.5052 - val_accuracy: 0.7567\n",
            "Epoch 10/10\n",
            "390/391 [============================>.] - ETA: 0s - loss: 0.4933 - accuracy: 0.7671\n",
            "Epoch 10: val_loss improved from 0.50518 to 0.49264, saving model to /content/drive/MyDrive/UMD/MSML612_assignment2/sw.h5\n",
            "391/391 [==============================] - 6s 15ms/step - loss: 0.4932 - accuracy: 0.7672 - val_loss: 0.4926 - val_accuracy: 0.7688\n"
          ]
        }
      ],
      "source": [
        "r = model.fit(X_train_cnn,\n",
        "        y_train,\n",
        "        batch_size=64,\n",
        "  epochs=10,\n",
        "  callbacks=callbacks,\n",
        "  validation_data=(X_test_cnn, y_valid)\n",
        ")  "
      ]
    },
    {
      "cell_type": "markdown",
      "metadata": {
        "id": "gMF6IGGRFGab"
      },
      "source": [
        "#### Model Accuracy"
      ]
    },
    {
      "cell_type": "code",
      "execution_count": 161,
      "metadata": {
        "id": "G8s0tcIfOGvX"
      },
      "outputs": [],
      "source": [
        "from tensorflow.keras.models import load_model\n",
        "cnn = load_model('/content/drive/MyDrive/UMD/MSML612_assignment2/sw.h5')\n"
      ]
    },
    {
      "cell_type": "code",
      "execution_count": 162,
      "metadata": {
        "id": "reYxNnggu0wM"
      },
      "outputs": [],
      "source": [
        "preds_cnn=cnn.predict(X_valid)"
      ]
    },
    {
      "cell_type": "code",
      "execution_count": 163,
      "metadata": {
        "id": "YtPgFhc0OGss"
      },
      "outputs": [],
      "source": [
        "preds_cnn = np.where(preds_cnn>0.5,1,0).reshape(y_valid.shape)"
      ]
    },
    {
      "cell_type": "code",
      "execution_count": 164,
      "metadata": {
        "id": "-M0zTuzpOGqC"
      },
      "outputs": [],
      "source": [
        "cm = confusion_matrix(y_valid, preds_cnn, labels=[0, 1])"
      ]
    },
    {
      "cell_type": "code",
      "execution_count": 165,
      "metadata": {
        "colab": {
          "base_uri": "https://localhost:8080/",
          "height": 279
        },
        "id": "XVd1viFhOGnQ",
        "outputId": "b289203f-fe46-453c-93aa-f00158f5b101"
      },
      "outputs": [
        {
          "data": {
            "image/png": "[encoded data removed]",
            "text/plain": [
              "<Figure size 432x288 with 2 Axes>"
            ]
          },
          "metadata": {
            "needs_background": "light"
          },
          "output_type": "display_data"
        }
      ],
      "source": [
        "disp = ConfusionMatrixDisplay(confusion_matrix=cm,\n",
        "                             display_labels=['negative', 'positive'])\n",
        "disp.plot()\n",
        "plt.grid(False)\n",
        "plt.show()"
      ]
    },
    {
      "cell_type": "code",
      "execution_count": 166,
      "metadata": {
        "colab": {
          "base_uri": "https://localhost:8080/"
        },
        "id": "C2pBwUpvOGj1",
        "outputId": "4b802155-66e9-42f5-8800-4f21431d7e66"
      },
      "outputs": [
        {
          "name": "stdout",
          "output_type": "stream",
          "text": [
            "              precision    recall  f1-score   support\n",
            "\n",
            "           0       0.77      0.77      0.77     12500\n",
            "           1       0.77      0.77      0.77     12500\n",
            "\n",
            "    accuracy                           0.77     25000\n",
            "   macro avg       0.77      0.77      0.77     25000\n",
            "weighted avg       0.77      0.77      0.77     25000\n",
            "\n"
          ]
        }
      ],
      "source": [
        "print(classification_report(y_valid,preds_cnn))"
      ]
    },
    {
      "cell_type": "markdown",
      "metadata": {
        "id": "O2zUZn9f9kt9"
      },
      "source": [
        "## DistilBERT Embedding + CNN Suquential "
      ]
    },
    {
      "cell_type": "markdown",
      "metadata": {
        "id": "fdXJzBoRFL_P"
      },
      "source": [
        "#### Model Architecture "
      ]
    },
    {
      "cell_type": "code",
      "execution_count": 167,
      "metadata": {
        "id": "5T-JBb91OGgt"
      },
      "outputs": [],
      "source": [
        "input_ = Input(shape=(768,1))\n",
        "\n",
        "\n",
        "conv1 = Conv1D(256, 20,strides=1, activation='relu')(input_)\n",
        "maxp_1 = GlobalMaxPool1D(name='maxp_1')(conv1)\n",
        "\n",
        "conv2= Conv1D(128, 10, activation='relu' )(conv1)\n",
        "maxp_2 = GlobalMaxPool1D(name='maxp_2')(conv2)\n",
        "\n",
        "#conv3= Conv1D(256, 5, activation='relu' )(input_)\n",
        "#maxp_3 = GlobalMaxPool1D(name='maxp_3')(conv3)\n",
        "\n",
        "#concat = concatenate([maxp_1, maxp_2, maxp_3])\n",
        "\n",
        "dense_layer = Dense(128, activation='relu', name='dense')(maxp_2)\n",
        "\n",
        "\n",
        "output = Dense(1, activation=\"sigmoid\")(dense_layer)\n",
        "#output = dense(dense_layer)\n",
        "model2_cnn = Model(input_, output)\n"
      ]
    },
    {
      "cell_type": "code",
      "execution_count": 168,
      "metadata": {
        "colab": {
          "base_uri": "https://localhost:8080/"
        },
        "id": "GGfE39H5-Z28",
        "outputId": "fa414a66-e5e2-428d-c706-8ceba6938ae0"
      },
      "outputs": [
        {
          "name": "stdout",
          "output_type": "stream",
          "text": [
            "Model: \"model_2\"\n",
            "_________________________________________________________________\n",
            " Layer (type)                Output Shape              Param #   \n",
            "=================================================================\n",
            " input_3 (InputLayer)        [(None, 768, 1)]          0         \n",
            "                                                                 \n",
            " conv1d_5 (Conv1D)           (None, 749, 256)          5376      \n",
            "                                                                 \n",
            " conv1d_6 (Conv1D)           (None, 740, 128)          327808    \n",
            "                                                                 \n",
            " maxp_2 (GlobalMaxPooling1D)  (None, 128)              0         \n",
            "                                                                 \n",
            " dense (Dense)               (None, 128)               16512     \n",
            "                                                                 \n",
            " dense_6 (Dense)             (None, 1)                 129       \n",
            "                                                                 \n",
            "=================================================================\n",
            "Total params: 349,825\n",
            "Trainable params: 349,825\n",
            "Non-trainable params: 0\n",
            "_________________________________________________________________\n",
            "None\n"
          ]
        }
      ],
      "source": [
        "model2_cnn.compile(\n",
        "  loss=tf.keras.losses.binary_crossentropy,\n",
        "  optimizer=tf.keras.optimizers.Adam(lr=0.0001),\n",
        "  metrics=['accuracy']\n",
        ")\n",
        "print(model2_cnn.summary())"
      ]
    },
    {
      "cell_type": "code",
      "execution_count": 169,
      "metadata": {
        "id": "oc6IRvHr-iQT"
      },
      "outputs": [],
      "source": [
        "checkpoint = ModelCheckpoint(\"/content/drive/MyDrive/UMD/MSML612_assignment2/sw_seq.h5\",\n",
        "                             monitor=\"val_loss\",\n",
        "                             mode=\"min\",\n",
        "                             save_best_only = True,\n",
        "                             verbose=1)\n",
        "\n",
        "earlystop = EarlyStopping(monitor = 'val_loss', \n",
        "                          min_delta = 0, \n",
        "                          patience = 20,\n",
        "                          verbose = 1,\n",
        "                          restore_best_weights = True)\n",
        "\n",
        "# we put our call backs into a callback list\n",
        "callbacks = [earlystop, checkpoint]"
      ]
    },
    {
      "cell_type": "markdown",
      "metadata": {
        "id": "Czg32LLQFRYw"
      },
      "source": [
        "#### Model Training "
      ]
    },
    {
      "cell_type": "code",
      "execution_count": 170,
      "metadata": {
        "colab": {
          "base_uri": "https://localhost:8080/"
        },
        "id": "nTItUggQ-oa6",
        "outputId": "8182c2da-bfd0-4331-84a0-ff781b1b52e4"
      },
      "outputs": [
        {
          "name": "stdout",
          "output_type": "stream",
          "text": [
            "Epoch 1/15\n",
            "386/391 [============================>.] - ETA: 0s - loss: 0.6385 - accuracy: 0.6543\n",
            "Epoch 1: val_loss improved from inf to 0.56493, saving model to /content/drive/MyDrive/UMD/MSML612_assignment2/sw_seq.h5\n",
            "391/391 [==============================] - 6s 15ms/step - loss: 0.6377 - accuracy: 0.6552 - val_loss: 0.5649 - val_accuracy: 0.7206\n",
            "Epoch 2/15\n",
            "388/391 [============================>.] - ETA: 0s - loss: 0.5034 - accuracy: 0.7602\n",
            "Epoch 2: val_loss improved from 0.56493 to 0.46890, saving model to /content/drive/MyDrive/UMD/MSML612_assignment2/sw_seq.h5\n",
            "391/391 [==============================] - 6s 14ms/step - loss: 0.5036 - accuracy: 0.7601 - val_loss: 0.4689 - val_accuracy: 0.7818\n",
            "Epoch 3/15\n",
            "388/391 [============================>.] - ETA: 0s - loss: 0.4534 - accuracy: 0.7905\n",
            "Epoch 3: val_loss improved from 0.46890 to 0.44273, saving model to /content/drive/MyDrive/UMD/MSML612_assignment2/sw_seq.h5\n",
            "391/391 [==============================] - 6s 15ms/step - loss: 0.4532 - accuracy: 0.7906 - val_loss: 0.4427 - val_accuracy: 0.7966\n",
            "Epoch 4/15\n",
            "389/391 [============================>.] - ETA: 0s - loss: 0.4347 - accuracy: 0.7985\n",
            "Epoch 4: val_loss improved from 0.44273 to 0.43173, saving model to /content/drive/MyDrive/UMD/MSML612_assignment2/sw_seq.h5\n",
            "391/391 [==============================] - 6s 14ms/step - loss: 0.4347 - accuracy: 0.7986 - val_loss: 0.4317 - val_accuracy: 0.8018\n",
            "Epoch 5/15\n",
            "386/391 [============================>.] - ETA: 0s - loss: 0.4252 - accuracy: 0.8050\n",
            "Epoch 5: val_loss improved from 0.43173 to 0.42493, saving model to /content/drive/MyDrive/UMD/MSML612_assignment2/sw_seq.h5\n",
            "391/391 [==============================] - 5s 14ms/step - loss: 0.4248 - accuracy: 0.8049 - val_loss: 0.4249 - val_accuracy: 0.8061\n",
            "Epoch 6/15\n",
            "388/391 [============================>.] - ETA: 0s - loss: 0.4168 - accuracy: 0.8102\n",
            "Epoch 6: val_loss improved from 0.42493 to 0.41779, saving model to /content/drive/MyDrive/UMD/MSML612_assignment2/sw_seq.h5\n",
            "391/391 [==============================] - 5s 14ms/step - loss: 0.4165 - accuracy: 0.8105 - val_loss: 0.4178 - val_accuracy: 0.8101\n",
            "Epoch 7/15\n",
            "389/391 [============================>.] - ETA: 0s - loss: 0.4123 - accuracy: 0.8138\n",
            "Epoch 7: val_loss did not improve from 0.41779\n",
            "391/391 [==============================] - 5s 14ms/step - loss: 0.4121 - accuracy: 0.8138 - val_loss: 0.4528 - val_accuracy: 0.7829\n",
            "Epoch 8/15\n",
            "390/391 [============================>.] - ETA: 0s - loss: 0.4073 - accuracy: 0.8161\n",
            "Epoch 8: val_loss did not improve from 0.41779\n",
            "391/391 [==============================] - 5s 14ms/step - loss: 0.4074 - accuracy: 0.8162 - val_loss: 0.4303 - val_accuracy: 0.8005\n",
            "Epoch 9/15\n",
            "388/391 [============================>.] - ETA: 0s - loss: 0.4001 - accuracy: 0.8201\n",
            "Epoch 9: val_loss improved from 0.41779 to 0.40810, saving model to /content/drive/MyDrive/UMD/MSML612_assignment2/sw_seq.h5\n",
            "391/391 [==============================] - 6s 14ms/step - loss: 0.4001 - accuracy: 0.8202 - val_loss: 0.4081 - val_accuracy: 0.8170\n",
            "Epoch 10/15\n",
            "386/391 [============================>.] - ETA: 0s - loss: 0.4012 - accuracy: 0.8177\n",
            "Epoch 10: val_loss improved from 0.40810 to 0.40709, saving model to /content/drive/MyDrive/UMD/MSML612_assignment2/sw_seq.h5\n",
            "391/391 [==============================] - 6s 14ms/step - loss: 0.4009 - accuracy: 0.8180 - val_loss: 0.4071 - val_accuracy: 0.8147\n",
            "Epoch 11/15\n",
            "389/391 [============================>.] - ETA: 0s - loss: 0.3929 - accuracy: 0.8238\n",
            "Epoch 11: val_loss did not improve from 0.40709\n",
            "391/391 [==============================] - 6s 14ms/step - loss: 0.3924 - accuracy: 0.8242 - val_loss: 0.4121 - val_accuracy: 0.8133\n",
            "Epoch 12/15\n",
            "387/391 [============================>.] - ETA: 0s - loss: 0.3909 - accuracy: 0.8246\n",
            "Epoch 12: val_loss did not improve from 0.40709\n",
            "391/391 [==============================] - 5s 14ms/step - loss: 0.3909 - accuracy: 0.8246 - val_loss: 0.4291 - val_accuracy: 0.8023\n",
            "Epoch 13/15\n",
            "389/391 [============================>.] - ETA: 0s - loss: 0.3879 - accuracy: 0.8260\n",
            "Epoch 13: val_loss improved from 0.40709 to 0.40359, saving model to /content/drive/MyDrive/UMD/MSML612_assignment2/sw_seq.h5\n",
            "391/391 [==============================] - 5s 14ms/step - loss: 0.3876 - accuracy: 0.8262 - val_loss: 0.4036 - val_accuracy: 0.8152\n",
            "Epoch 14/15\n",
            "390/391 [============================>.] - ETA: 0s - loss: 0.3851 - accuracy: 0.8267\n",
            "Epoch 14: val_loss improved from 0.40359 to 0.39658, saving model to /content/drive/MyDrive/UMD/MSML612_assignment2/sw_seq.h5\n",
            "391/391 [==============================] - 6s 14ms/step - loss: 0.3852 - accuracy: 0.8266 - val_loss: 0.3966 - val_accuracy: 0.8228\n",
            "Epoch 15/15\n",
            "389/391 [============================>.] - ETA: 0s - loss: 0.3814 - accuracy: 0.8323\n",
            "Epoch 15: val_loss did not improve from 0.39658\n",
            "391/391 [==============================] - 5s 14ms/step - loss: 0.3815 - accuracy: 0.8323 - val_loss: 0.3981 - val_accuracy: 0.8214\n"
          ]
        }
      ],
      "source": [
        "r = model2_cnn.fit(X_train_cnn,\n",
        "        y_train,\n",
        "        batch_size=64,\n",
        "  epochs=15,\n",
        "  callbacks=callbacks,\n",
        "  validation_data=(X_test_cnn, y_valid)\n",
        ")  "
      ]
    },
    {
      "cell_type": "code",
      "execution_count": 171,
      "metadata": {
        "id": "sueSTTByDsAE"
      },
      "outputs": [],
      "source": [
        "from tensorflow.keras.models import load_model\n",
        "cnn2 = load_model('/content/drive/MyDrive/UMD/MSML612_assignment2/sw_seq.h5')\n",
        "\n"
      ]
    },
    {
      "cell_type": "markdown",
      "metadata": {
        "id": "CrB5FaUcFfIv"
      },
      "source": [
        "#### Model Metrics"
      ]
    },
    {
      "cell_type": "code",
      "execution_count": 172,
      "metadata": {
        "colab": {
          "base_uri": "https://localhost:8080/",
          "height": 279
        },
        "id": "MoOZJAC1D3O3",
        "outputId": "90974e83-75b9-4377-ba2d-f82793bad81f"
      },
      "outputs": [
        {
          "data": {
            "image/png": "[encoded data removed]",
            "text/plain": [
              "<Figure size 432x288 with 2 Axes>"
            ]
          },
          "metadata": {
            "needs_background": "light"
          },
          "output_type": "display_data"
        }
      ],
      "source": [
        "preds_cnn2 = cnn2.predict(X_valid)\n",
        "preds_cnn2 = np.where(preds_cnn2>0.5,1,0).reshape(y_valid.shape)\n",
        "cm = confusion_matrix(y_valid, preds_cnn2, labels=[0, 1])\n",
        "disp = ConfusionMatrixDisplay(confusion_matrix=cm,\n",
        "                             display_labels=['negative', 'positive'])\n",
        "disp.plot()\n",
        "plt.grid(False)\n",
        "plt.show()"
      ]
    },
    {
      "cell_type": "code",
      "execution_count": 173,
      "metadata": {
        "colab": {
          "base_uri": "https://localhost:8080/"
        },
        "id": "FxHAHludET9u",
        "outputId": "cb93df8b-11f4-4791-bf4a-034750486869"
      },
      "outputs": [
        {
          "name": "stdout",
          "output_type": "stream",
          "text": [
            "              precision    recall  f1-score   support\n",
            "\n",
            "           0       0.83      0.82      0.82     12500\n",
            "           1       0.82      0.83      0.82     12500\n",
            "\n",
            "    accuracy                           0.82     25000\n",
            "   macro avg       0.82      0.82      0.82     25000\n",
            "weighted avg       0.82      0.82      0.82     25000\n",
            "\n"
          ]
        }
      ],
      "source": [
        "print(classification_report(y_valid,preds_cnn2))"
      ]
    }
  ],
  "metadata": {
    "accelerator": "GPU",
    "colab": {
      "collapsed_sections": [],
      "machine_shape": "hm",
      "name": "without_stopwords_assignment_2_msml_deep_learning.ipynb",
      "provenance": [],
      "toc_visible": true
    },
    "gpuClass": "standard",
    "kernelspec": {
      "display_name": "Python 3",
      "name": "python3"
    },
    "language_info": {
      "name": "python"
    },
    "widgets": {
      "application/vnd.jupyter.widget-state+json": {
        "00ba159c89544af3b923797e53bd8563": {
          "model_module": "@jupyter-widgets/controls",
          "model_module_version": "1.5.0",
          "model_name": "FloatProgressModel",
          "state": {
            "_dom_classes": [],
            "_model_module": "@jupyter-widgets/controls",
            "_model_module_version": "1.5.0",
            "_model_name": "FloatProgressModel",
            "_view_count": null,
            "_view_module": "@jupyter-widgets/controls",
            "_view_module_version": "1.5.0",
            "_view_name": "ProgressView",
            "bar_style": "success",
            "description": "",
            "description_tooltip": null,
            "layout": "IPY_MODEL_a7a231d481aa4b6b83abfcb5d1025b16",
            "max": 1789,
            "min": 0,
            "orientation": "horizontal",
            "style": "IPY_MODEL_8599345b4c9e42f88789525d16bd3e88",
            "value": 1789
          }
        },
        "017a34a509014ad5b64a6ca9f16b2733": {
          "model_module": "@jupyter-widgets/controls",
          "model_module_version": "1.5.0",
          "model_name": "HBoxModel",
          "state": {
            "_dom_classes": [],
            "_model_module": "@jupyter-widgets/controls",
            "_model_module_version": "1.5.0",
            "_model_name": "HBoxModel",
            "_view_count": null,
            "_view_module": "@jupyter-widgets/controls",
            "_view_module_version": "1.5.0",
            "_view_name": "HBoxView",
            "box_style": "",
            "children": [
              "IPY_MODEL_06c32f4384044bc0b0e24fe4492ce78a",
              "IPY_MODEL_95165445aa5a483aafd3ea14b4cc97b7",
              "IPY_MODEL_8a8053a21fa144819446e503a5a74478"
            ],
            "layout": "IPY_MODEL_94f0e9359ed94dd484ff9c3dd884908b"
          }
        },
        "02aa975a719048a78d7d85b9c8d715b0": {
          "model_module": "@jupyter-widgets/controls",
          "model_module_version": "1.5.0",
          "model_name": "HBoxModel",
          "state": {
            "_dom_classes": [],
            "_model_module": "@jupyter-widgets/controls",
            "_model_module_version": "1.5.0",
            "_model_name": "HBoxModel",
            "_view_count": null,
            "_view_module": "@jupyter-widgets/controls",
            "_view_module_version": "1.5.0",
            "_view_name": "HBoxView",
            "box_style": "",
            "children": [
              "IPY_MODEL_da8427d4c09c4e05806fe89a16aca3aa",
              "IPY_MODEL_63138d57afd44808ac4e24f183325177",
              "IPY_MODEL_cc27977238db42fca576dceacb0e6cda"
            ],
            "layout": "IPY_MODEL_647fc87925194fed9584765af0702c2d"
          }
        },
        "02e40d7b133b4cef820318c2d36dfeaf": {
          "model_module": "@jupyter-widgets/controls",
          "model_module_version": "1.5.0",
          "model_name": "HBoxModel",
          "state": {
            "_dom_classes": [],
            "_model_module": "@jupyter-widgets/controls",
            "_model_module_version": "1.5.0",
            "_model_name": "HBoxModel",
            "_view_count": null,
            "_view_module": "@jupyter-widgets/controls",
            "_view_module_version": "1.5.0",
            "_view_name": "HBoxView",
            "box_style": "",
            "children": [
              "IPY_MODEL_8f1b6a7c07cf47d39141c0289c982124",
              "IPY_MODEL_00ba159c89544af3b923797e53bd8563",
              "IPY_MODEL_e81218dbee274cd1ab75ac05bc915fb6"
            ],
            "layout": "IPY_MODEL_a7a00b837e104dd7ace7cdcaab584e3e"
          }
        },
        "0602c357ff174d34922af01820fd6aba": {
          "model_module": "@jupyter-widgets/controls",
          "model_module_version": "1.5.0",
          "model_name": "FloatProgressModel",
          "state": {
            "_dom_classes": [],
            "_model_module": "@jupyter-widgets/controls",
            "_model_module_version": "1.5.0",
            "_model_name": "FloatProgressModel",
            "_view_count": null,
            "_view_module": "@jupyter-widgets/controls",
            "_view_module_version": "1.5.0",
            "_view_name": "ProgressView",
            "bar_style": "success",
            "description": "",
            "description_tooltip": null,
            "layout": "IPY_MODEL_2c658f7a76ff4be28ded6e9e3cee48aa",
            "max": 483,
            "min": 0,
            "orientation": "horizontal",
            "style": "IPY_MODEL_9e5a3241557e4a2a9c35c6fb80a914c6",
            "value": 483
          }
        },
        "068bcf63dece49f3b56fec16f29087a0": {
          "model_module": "@jupyter-widgets/base",
          "model_module_version": "1.2.0",
          "model_name": "LayoutModel",
          "state": {
            "_model_module": "@jupyter-widgets/base",
            "_model_module_version": "1.2.0",
            "_model_name": "LayoutModel",
            "_view_count": null,
            "_view_module": "@jupyter-widgets/base",
            "_view_module_version": "1.2.0",
            "_view_name": "LayoutView",
            "align_content": null,
            "align_items": null,
            "align_self": null,
            "border": null,
            "bottom": null,
            "display": null,
            "flex": null,
            "flex_flow": null,
            "grid_area": null,
            "grid_auto_columns": null,
            "grid_auto_flow": null,
            "grid_auto_rows": null,
            "grid_column": null,
            "grid_gap": null,
            "grid_row": null,
            "grid_template_areas": null,
            "grid_template_columns": null,
            "grid_template_rows": null,
            "height": null,
            "justify_content": null,
            "justify_items": null,
            "left": null,
            "margin": null,
            "max_height": null,
            "max_width": null,
            "min_height": null,
            "min_width": null,
            "object_fit": null,
            "object_position": null,
            "order": null,
            "overflow": null,
            "overflow_x": null,
            "overflow_y": null,
            "padding": null,
            "right": null,
            "top": null,
            "visibility": null,
            "width": null
          }
        },
        "06c32f4384044bc0b0e24fe4492ce78a": {
          "model_module": "@jupyter-widgets/controls",
          "model_module_version": "1.5.0",
          "model_name": "HTMLModel",
          "state": {
            "_dom_classes": [],
            "_model_module": "@jupyter-widgets/controls",
            "_model_module_version": "1.5.0",
            "_model_name": "HTMLModel",
            "_view_count": null,
            "_view_module": "@jupyter-widgets/controls",
            "_view_module_version": "1.5.0",
            "_view_name": "HTMLView",
            "description": "",
            "description_tooltip": null,
            "layout": "IPY_MODEL_6430c2bc55654ae9bd089952bae627de",
            "placeholder": "​",
            "style": "IPY_MODEL_958083abc01a4e209d3efe79b3ae1f7b",
            "value": "Generating train split:  98%"
          }
        },
        "08f6bff1b89342ef9ce6d0c83e70fe3b": {
          "model_module": "@jupyter-widgets/base",
          "model_module_version": "1.2.0",
          "model_name": "LayoutModel",
          "state": {
            "_model_module": "@jupyter-widgets/base",
            "_model_module_version": "1.2.0",
            "_model_name": "LayoutModel",
            "_view_count": null,
            "_view_module": "@jupyter-widgets/base",
            "_view_module_version": "1.2.0",
            "_view_name": "LayoutView",
            "align_content": null,
            "align_items": null,
            "align_self": null,
            "border": null,
            "bottom": null,
            "display": null,
            "flex": null,
            "flex_flow": null,
            "grid_area": null,
            "grid_auto_columns": null,
            "grid_auto_flow": null,
            "grid_auto_rows": null,
            "grid_column": null,
            "grid_gap": null,
            "grid_row": null,
            "grid_template_areas": null,
            "grid_template_columns": null,
            "grid_template_rows": null,
            "height": null,
            "justify_content": null,
            "justify_items": null,
            "left": null,
            "margin": null,
            "max_height": null,
            "max_width": null,
            "min_height": null,
            "min_width": null,
            "object_fit": null,
            "object_position": null,
            "order": null,
            "overflow": null,
            "overflow_x": null,
            "overflow_y": null,
            "padding": null,
            "right": null,
            "top": null,
            "visibility": null,
            "width": null
          }
        },
        "0ebfbf94e7f34db89a0dcb0dda4a7727": {
          "model_module": "@jupyter-widgets/controls",
          "model_module_version": "1.5.0",
          "model_name": "ProgressStyleModel",
          "state": {
            "_model_module": "@jupyter-widgets/controls",
            "_model_module_version": "1.5.0",
            "_model_name": "ProgressStyleModel",
            "_view_count": null,
            "_view_module": "@jupyter-widgets/base",
            "_view_module_version": "1.2.0",
            "_view_name": "StyleView",
            "bar_color": null,
            "description_width": ""
          }
        },
        "0efc5a2af18c4032adec6c498cc26f99": {
          "model_module": "@jupyter-widgets/controls",
          "model_module_version": "1.5.0",
          "model_name": "DescriptionStyleModel",
          "state": {
            "_model_module": "@jupyter-widgets/controls",
            "_model_module_version": "1.5.0",
            "_model_name": "DescriptionStyleModel",
            "_view_count": null,
            "_view_module": "@jupyter-widgets/base",
            "_view_module_version": "1.2.0",
            "_view_name": "StyleView",
            "description_width": ""
          }
        },
        "1086facf681446eab9262cea62efa42e": {
          "model_module": "@jupyter-widgets/controls",
          "model_module_version": "1.5.0",
          "model_name": "FloatProgressModel",
          "state": {
            "_dom_classes": [],
            "_model_module": "@jupyter-widgets/controls",
            "_model_module_version": "1.5.0",
            "_model_name": "FloatProgressModel",
            "_view_count": null,
            "_view_module": "@jupyter-widgets/controls",
            "_view_module_version": "1.5.0",
            "_view_name": "ProgressView",
            "bar_style": "success",
            "description": "",
            "description_tooltip": null,
            "layout": "IPY_MODEL_e482db41500147d3afc9b06913ae118d",
            "max": 1054,
            "min": 0,
            "orientation": "horizontal",
            "style": "IPY_MODEL_41a3b9b223a04f818bd8a35e8ec62711",
            "value": 1054
          }
        },
        "13ac458253914dfaad729c0dd2ea1c69": {
          "model_module": "@jupyter-widgets/base",
          "model_module_version": "1.2.0",
          "model_name": "LayoutModel",
          "state": {
            "_model_module": "@jupyter-widgets/base",
            "_model_module_version": "1.2.0",
            "_model_name": "LayoutModel",
            "_view_count": null,
            "_view_module": "@jupyter-widgets/base",
            "_view_module_version": "1.2.0",
            "_view_name": "LayoutView",
            "align_content": null,
            "align_items": null,
            "align_self": null,
            "border": null,
            "bottom": null,
            "display": null,
            "flex": null,
            "flex_flow": null,
            "grid_area": null,
            "grid_auto_columns": null,
            "grid_auto_flow": null,
            "grid_auto_rows": null,
            "grid_column": null,
            "grid_gap": null,
            "grid_row": null,
            "grid_template_areas": null,
            "grid_template_columns": null,
            "grid_template_rows": null,
            "height": null,
            "justify_content": null,
            "justify_items": null,
            "left": null,
            "margin": null,
            "max_height": null,
            "max_width": null,
            "min_height": null,
            "min_width": null,
            "object_fit": null,
            "object_position": null,
            "order": null,
            "overflow": null,
            "overflow_x": null,
            "overflow_y": null,
            "padding": null,
            "right": null,
            "top": null,
            "visibility": null,
            "width": null
          }
        },
        "13beb5f175d24f73a949dd16279c53c9": {
          "model_module": "@jupyter-widgets/controls",
          "model_module_version": "1.5.0",
          "model_name": "HBoxModel",
          "state": {
            "_dom_classes": [],
            "_model_module": "@jupyter-widgets/controls",
            "_model_module_version": "1.5.0",
            "_model_name": "HBoxModel",
            "_view_count": null,
            "_view_module": "@jupyter-widgets/controls",
            "_view_module_version": "1.5.0",
            "_view_name": "HBoxView",
            "box_style": "",
            "children": [
              "IPY_MODEL_6c401b64d37f4b6b88b685a3183a9444",
              "IPY_MODEL_ecf5857fad1d48da94ed5a75ce4dee15",
              "IPY_MODEL_9d4f01be3423407890295adf43c904f1"
            ],
            "layout": "IPY_MODEL_a9c2c5e2971b4f1995bc02132cb11561"
          }
        },
        "14935a2c4a51420cb9a94b1e7fa970ad": {
          "model_module": "@jupyter-widgets/base",
          "model_module_version": "1.2.0",
          "model_name": "LayoutModel",
          "state": {
            "_model_module": "@jupyter-widgets/base",
            "_model_module_version": "1.2.0",
            "_model_name": "LayoutModel",
            "_view_count": null,
            "_view_module": "@jupyter-widgets/base",
            "_view_module_version": "1.2.0",
            "_view_name": "LayoutView",
            "align_content": null,
            "align_items": null,
            "align_self": null,
            "border": null,
            "bottom": null,
            "display": null,
            "flex": null,
            "flex_flow": null,
            "grid_area": null,
            "grid_auto_columns": null,
            "grid_auto_flow": null,
            "grid_auto_rows": null,
            "grid_column": null,
            "grid_gap": null,
            "grid_row": null,
            "grid_template_areas": null,
            "grid_template_columns": null,
            "grid_template_rows": null,
            "height": null,
            "justify_content": null,
            "justify_items": null,
            "left": null,
            "margin": null,
            "max_height": null,
            "max_width": null,
            "min_height": null,
            "min_width": null,
            "object_fit": null,
            "object_position": null,
            "order": null,
            "overflow": null,
            "overflow_x": null,
            "overflow_y": null,
            "padding": null,
            "right": null,
            "top": null,
            "visibility": null,
            "width": null
          }
        },
        "155e46b30eeb47d6ae6392f5ed6f264d": {
          "model_module": "@jupyter-widgets/base",
          "model_module_version": "1.2.0",
          "model_name": "LayoutModel",
          "state": {
            "_model_module": "@jupyter-widgets/base",
            "_model_module_version": "1.2.0",
            "_model_name": "LayoutModel",
            "_view_count": null,
            "_view_module": "@jupyter-widgets/base",
            "_view_module_version": "1.2.0",
            "_view_name": "LayoutView",
            "align_content": null,
            "align_items": null,
            "align_self": null,
            "border": null,
            "bottom": null,
            "display": null,
            "flex": null,
            "flex_flow": null,
            "grid_area": null,
            "grid_auto_columns": null,
            "grid_auto_flow": null,
            "grid_auto_rows": null,
            "grid_column": null,
            "grid_gap": null,
            "grid_row": null,
            "grid_template_areas": null,
            "grid_template_columns": null,
            "grid_template_rows": null,
            "height": null,
            "justify_content": null,
            "justify_items": null,
            "left": null,
            "margin": null,
            "max_height": null,
            "max_width": null,
            "min_height": null,
            "min_width": null,
            "object_fit": null,
            "object_position": null,
            "order": null,
            "overflow": null,
            "overflow_x": null,
            "overflow_y": null,
            "padding": null,
            "right": null,
            "top": null,
            "visibility": null,
            "width": null
          }
        },
        "16d87811b097439b849a2a583ddb3743": {
          "model_module": "@jupyter-widgets/controls",
          "model_module_version": "1.5.0",
          "model_name": "ProgressStyleModel",
          "state": {
            "_model_module": "@jupyter-widgets/controls",
            "_model_module_version": "1.5.0",
            "_model_name": "ProgressStyleModel",
            "_view_count": null,
            "_view_module": "@jupyter-widgets/base",
            "_view_module_version": "1.2.0",
            "_view_name": "StyleView",
            "bar_color": null,
            "description_width": ""
          }
        },
        "17b0b72e1b5449a48e67c6dfc874a7e2": {
          "model_module": "@jupyter-widgets/controls",
          "model_module_version": "1.5.0",
          "model_name": "HTMLModel",
          "state": {
            "_dom_classes": [],
            "_model_module": "@jupyter-widgets/controls",
            "_model_module_version": "1.5.0",
            "_model_name": "HTMLModel",
            "_view_count": null,
            "_view_module": "@jupyter-widgets/controls",
            "_view_module_version": "1.5.0",
            "_view_name": "HTMLView",
            "description": "",
            "description_tooltip": null,
            "layout": "IPY_MODEL_664644b949ad4db6bf1dfa46db22f905",
            "placeholder": "​",
            "style": "IPY_MODEL_22bb3d40aa304d029768cdbe6aca120b",
            "value": " 25/25 [00:05&lt;00:00,  4.27ba/s]"
          }
        },
        "1ca8078330ec4d7db244ddfe98d903b4": {
          "model_module": "@jupyter-widgets/controls",
          "model_module_version": "1.5.0",
          "model_name": "DescriptionStyleModel",
          "state": {
            "_model_module": "@jupyter-widgets/controls",
            "_model_module_version": "1.5.0",
            "_model_name": "DescriptionStyleModel",
            "_view_count": null,
            "_view_module": "@jupyter-widgets/base",
            "_view_module_version": "1.2.0",
            "_view_name": "StyleView",
            "description_width": ""
          }
        },
        "1d95dbaf8528400eb581d559e0ed0db2": {
          "model_module": "@jupyter-widgets/controls",
          "model_module_version": "1.5.0",
          "model_name": "DescriptionStyleModel",
          "state": {
            "_model_module": "@jupyter-widgets/controls",
            "_model_module_version": "1.5.0",
            "_model_name": "DescriptionStyleModel",
            "_view_count": null,
            "_view_module": "@jupyter-widgets/base",
            "_view_module_version": "1.2.0",
            "_view_name": "StyleView",
            "description_width": ""
          }
        },
        "1e1241ef06214051a2c18e6333c1ba75": {
          "model_module": "@jupyter-widgets/controls",
          "model_module_version": "1.5.0",
          "model_name": "DescriptionStyleModel",
          "state": {
            "_model_module": "@jupyter-widgets/controls",
            "_model_module_version": "1.5.0",
            "_model_name": "DescriptionStyleModel",
            "_view_count": null,
            "_view_module": "@jupyter-widgets/base",
            "_view_module_version": "1.2.0",
            "_view_name": "StyleView",
            "description_width": ""
          }
        },
        "1ee9c4e7bcd746a8b238758dc8c660c3": {
          "model_module": "@jupyter-widgets/controls",
          "model_module_version": "1.5.0",
          "model_name": "HTMLModel",
          "state": {
            "_dom_classes": [],
            "_model_module": "@jupyter-widgets/controls",
            "_model_module_version": "1.5.0",
            "_model_name": "HTMLModel",
            "_view_count": null,
            "_view_module": "@jupyter-widgets/controls",
            "_view_module_version": "1.5.0",
            "_view_name": "HTMLView",
            "description": "",
            "description_tooltip": null,
            "layout": "IPY_MODEL_b9ae9637386a4d44a837172e4190329e",
            "placeholder": "​",
            "style": "IPY_MODEL_294bffe20e9740b088c42d74c8b02b23",
            "value": " 483/483 [00:00&lt;00:00, 18.7kB/s]"
          }
        },
        "1f9d0f1bdf644dceb63dc54d458232b7": {
          "model_module": "@jupyter-widgets/controls",
          "model_module_version": "1.5.0",
          "model_name": "HTMLModel",
          "state": {
            "_dom_classes": [],
            "_model_module": "@jupyter-widgets/controls",
            "_model_module_version": "1.5.0",
            "_model_name": "HTMLModel",
            "_view_count": null,
            "_view_module": "@jupyter-widgets/controls",
            "_view_module_version": "1.5.0",
            "_view_name": "HTMLView",
            "description": "",
            "description_tooltip": null,
            "layout": "IPY_MODEL_206e318eeadf465daccf7502fb545c0d",
            "placeholder": "​",
            "style": "IPY_MODEL_9a60c7e081684f3fa9f3426ca4b1bebe",
            "value": "Downloading data: 100%"
          }
        },
        "206e318eeadf465daccf7502fb545c0d": {
          "model_module": "@jupyter-widgets/base",
          "model_module_version": "1.2.0",
          "model_name": "LayoutModel",
          "state": {
            "_model_module": "@jupyter-widgets/base",
            "_model_module_version": "1.2.0",
            "_model_name": "LayoutModel",
            "_view_count": null,
            "_view_module": "@jupyter-widgets/base",
            "_view_module_version": "1.2.0",
            "_view_name": "LayoutView",
            "align_content": null,
            "align_items": null,
            "align_self": null,
            "border": null,
            "bottom": null,
            "display": null,
            "flex": null,
            "flex_flow": null,
            "grid_area": null,
            "grid_auto_columns": null,
            "grid_auto_flow": null,
            "grid_auto_rows": null,
            "grid_column": null,
            "grid_gap": null,
            "grid_row": null,
            "grid_template_areas": null,
            "grid_template_columns": null,
            "grid_template_rows": null,
            "height": null,
            "justify_content": null,
            "justify_items": null,
            "left": null,
            "margin": null,
            "max_height": null,
            "max_width": null,
            "min_height": null,
            "min_width": null,
            "object_fit": null,
            "object_position": null,
            "order": null,
            "overflow": null,
            "overflow_x": null,
            "overflow_y": null,
            "padding": null,
            "right": null,
            "top": null,
            "visibility": null,
            "width": null
          }
        },
        "22bb3d40aa304d029768cdbe6aca120b": {
          "model_module": "@jupyter-widgets/controls",
          "model_module_version": "1.5.0",
          "model_name": "DescriptionStyleModel",
          "state": {
            "_model_module": "@jupyter-widgets/controls",
            "_model_module_version": "1.5.0",
            "_model_name": "DescriptionStyleModel",
            "_view_count": null,
            "_view_module": "@jupyter-widgets/base",
            "_view_module_version": "1.2.0",
            "_view_name": "StyleView",
            "description_width": ""
          }
        },
        "24db027a8a6f4279b9c44d1b9d732018": {
          "model_module": "@jupyter-widgets/controls",
          "model_module_version": "1.5.0",
          "model_name": "HBoxModel",
          "state": {
            "_dom_classes": [],
            "_model_module": "@jupyter-widgets/controls",
            "_model_module_version": "1.5.0",
            "_model_name": "HBoxModel",
            "_view_count": null,
            "_view_module": "@jupyter-widgets/controls",
            "_view_module_version": "1.5.0",
            "_view_name": "HBoxView",
            "box_style": "",
            "children": [
              "IPY_MODEL_a4b8b21fea4344b59f385f9d3c8c3d8f",
              "IPY_MODEL_6eef802617814e3888eacfada2f2e1e1",
              "IPY_MODEL_9131e8057b354cfbbd77da9ca4b1bbdb"
            ],
            "layout": "IPY_MODEL_3a1209918c694404b23674005cca4c12"
          }
        },
        "26325a157fe3432dbfb9dd943ccd91da": {
          "model_module": "@jupyter-widgets/base",
          "model_module_version": "1.2.0",
          "model_name": "LayoutModel",
          "state": {
            "_model_module": "@jupyter-widgets/base",
            "_model_module_version": "1.2.0",
            "_model_name": "LayoutModel",
            "_view_count": null,
            "_view_module": "@jupyter-widgets/base",
            "_view_module_version": "1.2.0",
            "_view_name": "LayoutView",
            "align_content": null,
            "align_items": null,
            "align_self": null,
            "border": null,
            "bottom": null,
            "display": null,
            "flex": null,
            "flex_flow": null,
            "grid_area": null,
            "grid_auto_columns": null,
            "grid_auto_flow": null,
            "grid_auto_rows": null,
            "grid_column": null,
            "grid_gap": null,
            "grid_row": null,
            "grid_template_areas": null,
            "grid_template_columns": null,
            "grid_template_rows": null,
            "height": null,
            "justify_content": null,
            "justify_items": null,
            "left": null,
            "margin": null,
            "max_height": null,
            "max_width": null,
            "min_height": null,
            "min_width": null,
            "object_fit": null,
            "object_position": null,
            "order": null,
            "overflow": null,
            "overflow_x": null,
            "overflow_y": null,
            "padding": null,
            "right": null,
            "top": null,
            "visibility": null,
            "width": null
          }
        },
        "292132fb0e364f06bcf88bfa2a007870": {
          "model_module": "@jupyter-widgets/controls",
          "model_module_version": "1.5.0",
          "model_name": "DescriptionStyleModel",
          "state": {
            "_model_module": "@jupyter-widgets/controls",
            "_model_module_version": "1.5.0",
            "_model_name": "DescriptionStyleModel",
            "_view_count": null,
            "_view_module": "@jupyter-widgets/base",
            "_view_module_version": "1.2.0",
            "_view_name": "StyleView",
            "description_width": ""
          }
        },
        "294bffe20e9740b088c42d74c8b02b23": {
          "model_module": "@jupyter-widgets/controls",
          "model_module_version": "1.5.0",
          "model_name": "DescriptionStyleModel",
          "state": {
            "_model_module": "@jupyter-widgets/controls",
            "_model_module_version": "1.5.0",
            "_model_name": "DescriptionStyleModel",
            "_view_count": null,
            "_view_module": "@jupyter-widgets/base",
            "_view_module_version": "1.2.0",
            "_view_name": "StyleView",
            "description_width": ""
          }
        },
        "29b1c98e43d44ce0a459fe7ef81b11f2": {
          "model_module": "@jupyter-widgets/base",
          "model_module_version": "1.2.0",
          "model_name": "LayoutModel",
          "state": {
            "_model_module": "@jupyter-widgets/base",
            "_model_module_version": "1.2.0",
            "_model_name": "LayoutModel",
            "_view_count": null,
            "_view_module": "@jupyter-widgets/base",
            "_view_module_version": "1.2.0",
            "_view_name": "LayoutView",
            "align_content": null,
            "align_items": null,
            "align_self": null,
            "border": null,
            "bottom": null,
            "display": null,
            "flex": null,
            "flex_flow": null,
            "grid_area": null,
            "grid_auto_columns": null,
            "grid_auto_flow": null,
            "grid_auto_rows": null,
            "grid_column": null,
            "grid_gap": null,
            "grid_row": null,
            "grid_template_areas": null,
            "grid_template_columns": null,
            "grid_template_rows": null,
            "height": null,
            "justify_content": null,
            "justify_items": null,
            "left": null,
            "margin": null,
            "max_height": null,
            "max_width": null,
            "min_height": null,
            "min_width": null,
            "object_fit": null,
            "object_position": null,
            "order": null,
            "overflow": null,
            "overflow_x": null,
            "overflow_y": null,
            "padding": null,
            "right": null,
            "top": null,
            "visibility": null,
            "width": null
          }
        },
        "2b54ee7375d94a00b36da9c208aa332e": {
          "model_module": "@jupyter-widgets/controls",
          "model_module_version": "1.5.0",
          "model_name": "HBoxModel",
          "state": {
            "_dom_classes": [],
            "_model_module": "@jupyter-widgets/controls",
            "_model_module_version": "1.5.0",
            "_model_name": "HBoxModel",
            "_view_count": null,
            "_view_module": "@jupyter-widgets/controls",
            "_view_module_version": "1.5.0",
            "_view_name": "HBoxView",
            "box_style": "",
            "children": [
              "IPY_MODEL_5ce2371f6e0e4787a1b313d1751dfdef",
              "IPY_MODEL_b5fc601b3e684d288fe62f6bb2cf2f61",
              "IPY_MODEL_dfcd1b4e208140fa9d712233431ccd90"
            ],
            "layout": "IPY_MODEL_91e19682b1db47a0abe032ec4b25bc82"
          }
        },
        "2c658f7a76ff4be28ded6e9e3cee48aa": {
          "model_module": "@jupyter-widgets/base",
          "model_module_version": "1.2.0",
          "model_name": "LayoutModel",
          "state": {
            "_model_module": "@jupyter-widgets/base",
            "_model_module_version": "1.2.0",
            "_model_name": "LayoutModel",
            "_view_count": null,
            "_view_module": "@jupyter-widgets/base",
            "_view_module_version": "1.2.0",
            "_view_name": "LayoutView",
            "align_content": null,
            "align_items": null,
            "align_self": null,
            "border": null,
            "bottom": null,
            "display": null,
            "flex": null,
            "flex_flow": null,
            "grid_area": null,
            "grid_auto_columns": null,
            "grid_auto_flow": null,
            "grid_auto_rows": null,
            "grid_column": null,
            "grid_gap": null,
            "grid_row": null,
            "grid_template_areas": null,
            "grid_template_columns": null,
            "grid_template_rows": null,
            "height": null,
            "justify_content": null,
            "justify_items": null,
            "left": null,
            "margin": null,
            "max_height": null,
            "max_width": null,
            "min_height": null,
            "min_width": null,
            "object_fit": null,
            "object_position": null,
            "order": null,
            "overflow": null,
            "overflow_x": null,
            "overflow_y": null,
            "padding": null,
            "right": null,
            "top": null,
            "visibility": null,
            "width": null
          }
        },
        "2f4eaee6420141fbbc4987a5ab654550": {
          "model_module": "@jupyter-widgets/controls",
          "model_module_version": "1.5.0",
          "model_name": "ProgressStyleModel",
          "state": {
            "_model_module": "@jupyter-widgets/controls",
            "_model_module_version": "1.5.0",
            "_model_name": "ProgressStyleModel",
            "_view_count": null,
            "_view_module": "@jupyter-widgets/base",
            "_view_module_version": "1.2.0",
            "_view_name": "StyleView",
            "bar_color": null,
            "description_width": ""
          }
        },
        "30e2392d9381479b9da740f7f9f4f51b": {
          "model_module": "@jupyter-widgets/controls",
          "model_module_version": "1.5.0",
          "model_name": "HBoxModel",
          "state": {
            "_dom_classes": [],
            "_model_module": "@jupyter-widgets/controls",
            "_model_module_version": "1.5.0",
            "_model_name": "HBoxModel",
            "_view_count": null,
            "_view_module": "@jupyter-widgets/controls",
            "_view_module_version": "1.5.0",
            "_view_name": "HBoxView",
            "box_style": "",
            "children": [
              "IPY_MODEL_568ef351fb724b04839568721cebf51d",
              "IPY_MODEL_d223c1848aef4b26a45de22863edcc90",
              "IPY_MODEL_450b6b9c8f6a4d5eae609fdafe1f2f6d"
            ],
            "layout": "IPY_MODEL_8b8ffc5f03ed42b9a2cf80b176f9c761"
          }
        },
        "32138e0be5af495e8a48eb91d3882e45": {
          "model_module": "@jupyter-widgets/controls",
          "model_module_version": "1.5.0",
          "model_name": "DescriptionStyleModel",
          "state": {
            "_model_module": "@jupyter-widgets/controls",
            "_model_module_version": "1.5.0",
            "_model_name": "DescriptionStyleModel",
            "_view_count": null,
            "_view_module": "@jupyter-widgets/base",
            "_view_module_version": "1.2.0",
            "_view_name": "StyleView",
            "description_width": ""
          }
        },
        "336aa4c83b8e4425835b53dc9bd58319": {
          "model_module": "@jupyter-widgets/base",
          "model_module_version": "1.2.0",
          "model_name": "LayoutModel",
          "state": {
            "_model_module": "@jupyter-widgets/base",
            "_model_module_version": "1.2.0",
            "_model_name": "LayoutModel",
            "_view_count": null,
            "_view_module": "@jupyter-widgets/base",
            "_view_module_version": "1.2.0",
            "_view_name": "LayoutView",
            "align_content": null,
            "align_items": null,
            "align_self": null,
            "border": null,
            "bottom": null,
            "display": null,
            "flex": null,
            "flex_flow": null,
            "grid_area": null,
            "grid_auto_columns": null,
            "grid_auto_flow": null,
            "grid_auto_rows": null,
            "grid_column": null,
            "grid_gap": null,
            "grid_row": null,
            "grid_template_areas": null,
            "grid_template_columns": null,
            "grid_template_rows": null,
            "height": null,
            "justify_content": null,
            "justify_items": null,
            "left": null,
            "margin": null,
            "max_height": null,
            "max_width": null,
            "min_height": null,
            "min_width": null,
            "object_fit": null,
            "object_position": null,
            "order": null,
            "overflow": null,
            "overflow_x": null,
            "overflow_y": null,
            "padding": null,
            "right": null,
            "top": null,
            "visibility": null,
            "width": null
          }
        },
        "34ef978fe6fd4fa6aaaba7a97ac6cd01": {
          "model_module": "@jupyter-widgets/base",
          "model_module_version": "1.2.0",
          "model_name": "LayoutModel",
          "state": {
            "_model_module": "@jupyter-widgets/base",
            "_model_module_version": "1.2.0",
            "_model_name": "LayoutModel",
            "_view_count": null,
            "_view_module": "@jupyter-widgets/base",
            "_view_module_version": "1.2.0",
            "_view_name": "LayoutView",
            "align_content": null,
            "align_items": null,
            "align_self": null,
            "border": null,
            "bottom": null,
            "display": null,
            "flex": null,
            "flex_flow": null,
            "grid_area": null,
            "grid_auto_columns": null,
            "grid_auto_flow": null,
            "grid_auto_rows": null,
            "grid_column": null,
            "grid_gap": null,
            "grid_row": null,
            "grid_template_areas": null,
            "grid_template_columns": null,
            "grid_template_rows": null,
            "height": null,
            "justify_content": null,
            "justify_items": null,
            "left": null,
            "margin": null,
            "max_height": null,
            "max_width": null,
            "min_height": null,
            "min_width": null,
            "object_fit": null,
            "object_position": null,
            "order": null,
            "overflow": null,
            "overflow_x": null,
            "overflow_y": null,
            "padding": null,
            "right": null,
            "top": null,
            "visibility": null,
            "width": null
          }
        },
        "35a81ff73cf84c149830efe145345735": {
          "model_module": "@jupyter-widgets/controls",
          "model_module_version": "1.5.0",
          "model_name": "HTMLModel",
          "state": {
            "_dom_classes": [],
            "_model_module": "@jupyter-widgets/controls",
            "_model_module_version": "1.5.0",
            "_model_name": "HTMLModel",
            "_view_count": null,
            "_view_module": "@jupyter-widgets/controls",
            "_view_module_version": "1.5.0",
            "_view_name": "HTMLView",
            "description": "",
            "description_tooltip": null,
            "layout": "IPY_MODEL_29b1c98e43d44ce0a459fe7ef81b11f2",
            "placeholder": "​",
            "style": "IPY_MODEL_87767a29709844799dd190855db6caf0",
            "value": " 28.0/28.0 [00:00&lt;00:00, 982B/s]"
          }
        },
        "35f4b76be5b6446a8feb0f91ad984cd5": {
          "model_module": "@jupyter-widgets/controls",
          "model_module_version": "1.5.0",
          "model_name": "HBoxModel",
          "state": {
            "_dom_classes": [],
            "_model_module": "@jupyter-widgets/controls",
            "_model_module_version": "1.5.0",
            "_model_name": "HBoxModel",
            "_view_count": null,
            "_view_module": "@jupyter-widgets/controls",
            "_view_module_version": "1.5.0",
            "_view_name": "HBoxView",
            "box_style": "",
            "children": [
              "IPY_MODEL_4b8c398f71774fcc89e79905fef660ce",
              "IPY_MODEL_694a8442591545199bb089c033c38d1c",
              "IPY_MODEL_17b0b72e1b5449a48e67c6dfc874a7e2"
            ],
            "layout": "IPY_MODEL_39c7095b683449a08e0b33595629f245"
          }
        },
        "36af88a6606b4b1daa9dd3c17da25f50": {
          "model_module": "@jupyter-widgets/base",
          "model_module_version": "1.2.0",
          "model_name": "LayoutModel",
          "state": {
            "_model_module": "@jupyter-widgets/base",
            "_model_module_version": "1.2.0",
            "_model_name": "LayoutModel",
            "_view_count": null,
            "_view_module": "@jupyter-widgets/base",
            "_view_module_version": "1.2.0",
            "_view_name": "LayoutView",
            "align_content": null,
            "align_items": null,
            "align_self": null,
            "border": null,
            "bottom": null,
            "display": null,
            "flex": null,
            "flex_flow": null,
            "grid_area": null,
            "grid_auto_columns": null,
            "grid_auto_flow": null,
            "grid_auto_rows": null,
            "grid_column": null,
            "grid_gap": null,
            "grid_row": null,
            "grid_template_areas": null,
            "grid_template_columns": null,
            "grid_template_rows": null,
            "height": null,
            "justify_content": null,
            "justify_items": null,
            "left": null,
            "margin": null,
            "max_height": null,
            "max_width": null,
            "min_height": null,
            "min_width": null,
            "object_fit": null,
            "object_position": null,
            "order": null,
            "overflow": null,
            "overflow_x": null,
            "overflow_y": null,
            "padding": null,
            "right": null,
            "top": null,
            "visibility": null,
            "width": null
          }
        },
        "380b7177c2234fa196d493c7cbf9068b": {
          "model_module": "@jupyter-widgets/controls",
          "model_module_version": "1.5.0",
          "model_name": "DescriptionStyleModel",
          "state": {
            "_model_module": "@jupyter-widgets/controls",
            "_model_module_version": "1.5.0",
            "_model_name": "DescriptionStyleModel",
            "_view_count": null,
            "_view_module": "@jupyter-widgets/base",
            "_view_module_version": "1.2.0",
            "_view_name": "StyleView",
            "description_width": ""
          }
        },
        "38738e99a42e4a169c41ac02f328079e": {
          "model_module": "@jupyter-widgets/controls",
          "model_module_version": "1.5.0",
          "model_name": "HTMLModel",
          "state": {
            "_dom_classes": [],
            "_model_module": "@jupyter-widgets/controls",
            "_model_module_version": "1.5.0",
            "_model_name": "HTMLModel",
            "_view_count": null,
            "_view_module": "@jupyter-widgets/controls",
            "_view_module_version": "1.5.0",
            "_view_name": "HTMLView",
            "description": "",
            "description_tooltip": null,
            "layout": "IPY_MODEL_408b666c03af4b3bb949d69f54b34478",
            "placeholder": "​",
            "style": "IPY_MODEL_a313f77b38a84f8491bda57acdfb0670",
            "value": "Downloading: 100%"
          }
        },
        "3946b6ac13c2464c9e524478f2cb0bce": {
          "model_module": "@jupyter-widgets/controls",
          "model_module_version": "1.5.0",
          "model_name": "HTMLModel",
          "state": {
            "_dom_classes": [],
            "_model_module": "@jupyter-widgets/controls",
            "_model_module_version": "1.5.0",
            "_model_name": "HTMLModel",
            "_view_count": null,
            "_view_module": "@jupyter-widgets/controls",
            "_view_module_version": "1.5.0",
            "_view_name": "HTMLView",
            "description": "",
            "description_tooltip": null,
            "layout": "IPY_MODEL_3f6880efb3074985acff53e4e19c9cf9",
            "placeholder": "​",
            "style": "IPY_MODEL_380b7177c2234fa196d493c7cbf9068b",
            "value": "Downloading metadata: "
          }
        },
        "398e54a497ae441589c5f43822fd5b0d": {
          "model_module": "@jupyter-widgets/base",
          "model_module_version": "1.2.0",
          "model_name": "LayoutModel",
          "state": {
            "_model_module": "@jupyter-widgets/base",
            "_model_module_version": "1.2.0",
            "_model_name": "LayoutModel",
            "_view_count": null,
            "_view_module": "@jupyter-widgets/base",
            "_view_module_version": "1.2.0",
            "_view_name": "LayoutView",
            "align_content": null,
            "align_items": null,
            "align_self": null,
            "border": null,
            "bottom": null,
            "display": null,
            "flex": null,
            "flex_flow": null,
            "grid_area": null,
            "grid_auto_columns": null,
            "grid_auto_flow": null,
            "grid_auto_rows": null,
            "grid_column": null,
            "grid_gap": null,
            "grid_row": null,
            "grid_template_areas": null,
            "grid_template_columns": null,
            "grid_template_rows": null,
            "height": null,
            "justify_content": null,
            "justify_items": null,
            "left": null,
            "margin": null,
            "max_height": null,
            "max_width": null,
            "min_height": null,
            "min_width": null,
            "object_fit": null,
            "object_position": null,
            "order": null,
            "overflow": null,
            "overflow_x": null,
            "overflow_y": null,
            "padding": null,
            "right": null,
            "top": null,
            "visibility": null,
            "width": null
          }
        },
        "39c7095b683449a08e0b33595629f245": {
          "model_module": "@jupyter-widgets/base",
          "model_module_version": "1.2.0",
          "model_name": "LayoutModel",
          "state": {
            "_model_module": "@jupyter-widgets/base",
            "_model_module_version": "1.2.0",
            "_model_name": "LayoutModel",
            "_view_count": null,
            "_view_module": "@jupyter-widgets/base",
            "_view_module_version": "1.2.0",
            "_view_name": "LayoutView",
            "align_content": null,
            "align_items": null,
            "align_self": null,
            "border": null,
            "bottom": null,
            "display": null,
            "flex": null,
            "flex_flow": null,
            "grid_area": null,
            "grid_auto_columns": null,
            "grid_auto_flow": null,
            "grid_auto_rows": null,
            "grid_column": null,
            "grid_gap": null,
            "grid_row": null,
            "grid_template_areas": null,
            "grid_template_columns": null,
            "grid_template_rows": null,
            "height": null,
            "justify_content": null,
            "justify_items": null,
            "left": null,
            "margin": null,
            "max_height": null,
            "max_width": null,
            "min_height": null,
            "min_width": null,
            "object_fit": null,
            "object_position": null,
            "order": null,
            "overflow": null,
            "overflow_x": null,
            "overflow_y": null,
            "padding": null,
            "right": null,
            "top": null,
            "visibility": null,
            "width": null
          }
        },
        "39d33c1351904b17827d70cce46679d1": {
          "model_module": "@jupyter-widgets/controls",
          "model_module_version": "1.5.0",
          "model_name": "HTMLModel",
          "state": {
            "_dom_classes": [],
            "_model_module": "@jupyter-widgets/controls",
            "_model_module_version": "1.5.0",
            "_model_name": "HTMLModel",
            "_view_count": null,
            "_view_module": "@jupyter-widgets/controls",
            "_view_module_version": "1.5.0",
            "_view_name": "HTMLView",
            "description": "",
            "description_tooltip": null,
            "layout": "IPY_MODEL_34ef978fe6fd4fa6aaaba7a97ac6cd01",
            "placeholder": "​",
            "style": "IPY_MODEL_cef716ead6cf46a297b6b231674d2e8b",
            "value": " 455k/455k [00:00&lt;00:00, 646kB/s]"
          }
        },
        "3a1209918c694404b23674005cca4c12": {
          "model_module": "@jupyter-widgets/base",
          "model_module_version": "1.2.0",
          "model_name": "LayoutModel",
          "state": {
            "_model_module": "@jupyter-widgets/base",
            "_model_module_version": "1.2.0",
            "_model_name": "LayoutModel",
            "_view_count": null,
            "_view_module": "@jupyter-widgets/base",
            "_view_module_version": "1.2.0",
            "_view_name": "LayoutView",
            "align_content": null,
            "align_items": null,
            "align_self": null,
            "border": null,
            "bottom": null,
            "display": null,
            "flex": null,
            "flex_flow": null,
            "grid_area": null,
            "grid_auto_columns": null,
            "grid_auto_flow": null,
            "grid_auto_rows": null,
            "grid_column": null,
            "grid_gap": null,
            "grid_row": null,
            "grid_template_areas": null,
            "grid_template_columns": null,
            "grid_template_rows": null,
            "height": null,
            "justify_content": null,
            "justify_items": null,
            "left": null,
            "margin": null,
            "max_height": null,
            "max_width": null,
            "min_height": null,
            "min_width": null,
            "object_fit": null,
            "object_position": null,
            "order": null,
            "overflow": null,
            "overflow_x": null,
            "overflow_y": null,
            "padding": null,
            "right": null,
            "top": null,
            "visibility": null,
            "width": null
          }
        },
        "3f6880efb3074985acff53e4e19c9cf9": {
          "model_module": "@jupyter-widgets/base",
          "model_module_version": "1.2.0",
          "model_name": "LayoutModel",
          "state": {
            "_model_module": "@jupyter-widgets/base",
            "_model_module_version": "1.2.0",
            "_model_name": "LayoutModel",
            "_view_count": null,
            "_view_module": "@jupyter-widgets/base",
            "_view_module_version": "1.2.0",
            "_view_name": "LayoutView",
            "align_content": null,
            "align_items": null,
            "align_self": null,
            "border": null,
            "bottom": null,
            "display": null,
            "flex": null,
            "flex_flow": null,
            "grid_area": null,
            "grid_auto_columns": null,
            "grid_auto_flow": null,
            "grid_auto_rows": null,
            "grid_column": null,
            "grid_gap": null,
            "grid_row": null,
            "grid_template_areas": null,
            "grid_template_columns": null,
            "grid_template_rows": null,
            "height": null,
            "justify_content": null,
            "justify_items": null,
            "left": null,
            "margin": null,
            "max_height": null,
            "max_width": null,
            "min_height": null,
            "min_width": null,
            "object_fit": null,
            "object_position": null,
            "order": null,
            "overflow": null,
            "overflow_x": null,
            "overflow_y": null,
            "padding": null,
            "right": null,
            "top": null,
            "visibility": null,
            "width": null
          }
        },
        "408b666c03af4b3bb949d69f54b34478": {
          "model_module": "@jupyter-widgets/base",
          "model_module_version": "1.2.0",
          "model_name": "LayoutModel",
          "state": {
            "_model_module": "@jupyter-widgets/base",
            "_model_module_version": "1.2.0",
            "_model_name": "LayoutModel",
            "_view_count": null,
            "_view_module": "@jupyter-widgets/base",
            "_view_module_version": "1.2.0",
            "_view_name": "LayoutView",
            "align_content": null,
            "align_items": null,
            "align_self": null,
            "border": null,
            "bottom": null,
            "display": null,
            "flex": null,
            "flex_flow": null,
            "grid_area": null,
            "grid_auto_columns": null,
            "grid_auto_flow": null,
            "grid_auto_rows": null,
            "grid_column": null,
            "grid_gap": null,
            "grid_row": null,
            "grid_template_areas": null,
            "grid_template_columns": null,
            "grid_template_rows": null,
            "height": null,
            "justify_content": null,
            "justify_items": null,
            "left": null,
            "margin": null,
            "max_height": null,
            "max_width": null,
            "min_height": null,
            "min_width": null,
            "object_fit": null,
            "object_position": null,
            "order": null,
            "overflow": null,
            "overflow_x": null,
            "overflow_y": null,
            "padding": null,
            "right": null,
            "top": null,
            "visibility": null,
            "width": null
          }
        },
        "41a3b9b223a04f818bd8a35e8ec62711": {
          "model_module": "@jupyter-widgets/controls",
          "model_module_version": "1.5.0",
          "model_name": "ProgressStyleModel",
          "state": {
            "_model_module": "@jupyter-widgets/controls",
            "_model_module_version": "1.5.0",
            "_model_name": "ProgressStyleModel",
            "_view_count": null,
            "_view_module": "@jupyter-widgets/base",
            "_view_module_version": "1.2.0",
            "_view_name": "StyleView",
            "bar_color": null,
            "description_width": ""
          }
        },
        "42ef3100d1a54dc1a6c9bbf58456d8ef": {
          "model_module": "@jupyter-widgets/controls",
          "model_module_version": "1.5.0",
          "model_name": "HTMLModel",
          "state": {
            "_dom_classes": [],
            "_model_module": "@jupyter-widgets/controls",
            "_model_module_version": "1.5.0",
            "_model_name": "HTMLModel",
            "_view_count": null,
            "_view_module": "@jupyter-widgets/controls",
            "_view_module_version": "1.5.0",
            "_view_name": "HTMLView",
            "description": "",
            "description_tooltip": null,
            "layout": "IPY_MODEL_43a17854ee9048bbb4efa0633e630c83",
            "placeholder": "​",
            "style": "IPY_MODEL_5151513a9d8942ceba40d4509e747393",
            "value": "100%"
          }
        },
        "43a17854ee9048bbb4efa0633e630c83": {
          "model_module": "@jupyter-widgets/base",
          "model_module_version": "1.2.0",
          "model_name": "LayoutModel",
          "state": {
            "_model_module": "@jupyter-widgets/base",
            "_model_module_version": "1.2.0",
            "_model_name": "LayoutModel",
            "_view_count": null,
            "_view_module": "@jupyter-widgets/base",
            "_view_module_version": "1.2.0",
            "_view_name": "LayoutView",
            "align_content": null,
            "align_items": null,
            "align_self": null,
            "border": null,
            "bottom": null,
            "display": null,
            "flex": null,
            "flex_flow": null,
            "grid_area": null,
            "grid_auto_columns": null,
            "grid_auto_flow": null,
            "grid_auto_rows": null,
            "grid_column": null,
            "grid_gap": null,
            "grid_row": null,
            "grid_template_areas": null,
            "grid_template_columns": null,
            "grid_template_rows": null,
            "height": null,
            "justify_content": null,
            "justify_items": null,
            "left": null,
            "margin": null,
            "max_height": null,
            "max_width": null,
            "min_height": null,
            "min_width": null,
            "object_fit": null,
            "object_position": null,
            "order": null,
            "overflow": null,
            "overflow_x": null,
            "overflow_y": null,
            "padding": null,
            "right": null,
            "top": null,
            "visibility": null,
            "width": null
          }
        },
        "450b6b9c8f6a4d5eae609fdafe1f2f6d": {
          "model_module": "@jupyter-widgets/controls",
          "model_module_version": "1.5.0",
          "model_name": "HTMLModel",
          "state": {
            "_dom_classes": [],
            "_model_module": "@jupyter-widgets/controls",
            "_model_module_version": "1.5.0",
            "_model_name": "HTMLModel",
            "_view_count": null,
            "_view_module": "@jupyter-widgets/controls",
            "_view_module_version": "1.5.0",
            "_view_name": "HTMLView",
            "description": "",
            "description_tooltip": null,
            "layout": "IPY_MODEL_708a147f50884572a579630b5e575e72",
            "placeholder": "​",
            "style": "IPY_MODEL_1e1241ef06214051a2c18e6333c1ba75",
            "value": " 25/25 [00:05&lt;00:00,  4.64ba/s]"
          }
        },
        "462a5df90c394c448cd3cddbc4918f78": {
          "model_module": "@jupyter-widgets/controls",
          "model_module_version": "1.5.0",
          "model_name": "DescriptionStyleModel",
          "state": {
            "_model_module": "@jupyter-widgets/controls",
            "_model_module_version": "1.5.0",
            "_model_name": "DescriptionStyleModel",
            "_view_count": null,
            "_view_module": "@jupyter-widgets/base",
            "_view_module_version": "1.2.0",
            "_view_name": "StyleView",
            "description_width": ""
          }
        },
        "46e6f425820c4f1b90a85e4c0149844c": {
          "model_module": "@jupyter-widgets/controls",
          "model_module_version": "1.5.0",
          "model_name": "ProgressStyleModel",
          "state": {
            "_model_module": "@jupyter-widgets/controls",
            "_model_module_version": "1.5.0",
            "_model_name": "ProgressStyleModel",
            "_view_count": null,
            "_view_module": "@jupyter-widgets/base",
            "_view_module_version": "1.2.0",
            "_view_name": "StyleView",
            "bar_color": null,
            "description_width": ""
          }
        },
        "4b127a1e88864622897f17b077b163c1": {
          "model_module": "@jupyter-widgets/controls",
          "model_module_version": "1.5.0",
          "model_name": "HTMLModel",
          "state": {
            "_dom_classes": [],
            "_model_module": "@jupyter-widgets/controls",
            "_model_module_version": "1.5.0",
            "_model_name": "HTMLModel",
            "_view_count": null,
            "_view_module": "@jupyter-widgets/controls",
            "_view_module_version": "1.5.0",
            "_view_name": "HTMLView",
            "description": "",
            "description_tooltip": null,
            "layout": "IPY_MODEL_eaeef4ff50c240acbcc1eabeff9d3b4f",
            "placeholder": "​",
            "style": "IPY_MODEL_a55d0edf965d4b5097e38ba366f39a83",
            "value": " 84.1M/84.1M [00:10&lt;00:00, 17.8MB/s]"
          }
        },
        "4b8c398f71774fcc89e79905fef660ce": {
          "model_module": "@jupyter-widgets/controls",
          "model_module_version": "1.5.0",
          "model_name": "HTMLModel",
          "state": {
            "_dom_classes": [],
            "_model_module": "@jupyter-widgets/controls",
            "_model_module_version": "1.5.0",
            "_model_name": "HTMLModel",
            "_view_count": null,
            "_view_module": "@jupyter-widgets/controls",
            "_view_module_version": "1.5.0",
            "_view_name": "HTMLView",
            "description": "",
            "description_tooltip": null,
            "layout": "IPY_MODEL_704ec27f926d44a48e8652554743f6d9",
            "placeholder": "​",
            "style": "IPY_MODEL_e85c6bad1303482d94ee43ed6855055d",
            "value": "100%"
          }
        },
        "4e158b0b6b6047b3a2e378151586a010": {
          "model_module": "@jupyter-widgets/controls",
          "model_module_version": "1.5.0",
          "model_name": "ProgressStyleModel",
          "state": {
            "_model_module": "@jupyter-widgets/controls",
            "_model_module_version": "1.5.0",
            "_model_name": "ProgressStyleModel",
            "_view_count": null,
            "_view_module": "@jupyter-widgets/base",
            "_view_module_version": "1.2.0",
            "_view_name": "StyleView",
            "bar_color": null,
            "description_width": ""
          }
        },
        "508866f57bba4b26813d940d29a00aad": {
          "model_module": "@jupyter-widgets/controls",
          "model_module_version": "1.5.0",
          "model_name": "FloatProgressModel",
          "state": {
            "_dom_classes": [],
            "_model_module": "@jupyter-widgets/controls",
            "_model_module_version": "1.5.0",
            "_model_name": "FloatProgressModel",
            "_view_count": null,
            "_view_module": "@jupyter-widgets/controls",
            "_view_module_version": "1.5.0",
            "_view_name": "ProgressView",
            "bar_style": "success",
            "description": "",
            "description_tooltip": null,
            "layout": "IPY_MODEL_14935a2c4a51420cb9a94b1e7fa970ad",
            "max": 1563,
            "min": 0,
            "orientation": "horizontal",
            "style": "IPY_MODEL_16d87811b097439b849a2a583ddb3743",
            "value": 1563
          }
        },
        "50c636f2ff6f4ef2aa71e5cb0a020a95": {
          "model_module": "@jupyter-widgets/base",
          "model_module_version": "1.2.0",
          "model_name": "LayoutModel",
          "state": {
            "_model_module": "@jupyter-widgets/base",
            "_model_module_version": "1.2.0",
            "_model_name": "LayoutModel",
            "_view_count": null,
            "_view_module": "@jupyter-widgets/base",
            "_view_module_version": "1.2.0",
            "_view_name": "LayoutView",
            "align_content": null,
            "align_items": null,
            "align_self": null,
            "border": null,
            "bottom": null,
            "display": null,
            "flex": null,
            "flex_flow": null,
            "grid_area": null,
            "grid_auto_columns": null,
            "grid_auto_flow": null,
            "grid_auto_rows": null,
            "grid_column": null,
            "grid_gap": null,
            "grid_row": null,
            "grid_template_areas": null,
            "grid_template_columns": null,
            "grid_template_rows": null,
            "height": null,
            "justify_content": null,
            "justify_items": null,
            "left": null,
            "margin": null,
            "max_height": null,
            "max_width": null,
            "min_height": null,
            "min_width": null,
            "object_fit": null,
            "object_position": null,
            "order": null,
            "overflow": null,
            "overflow_x": null,
            "overflow_y": null,
            "padding": null,
            "right": null,
            "top": null,
            "visibility": null,
            "width": null
          }
        },
        "50f864085da2476fb6a6d1eefc059b11": {
          "model_module": "@jupyter-widgets/controls",
          "model_module_version": "1.5.0",
          "model_name": "FloatProgressModel",
          "state": {
            "_dom_classes": [],
            "_model_module": "@jupyter-widgets/controls",
            "_model_module_version": "1.5.0",
            "_model_name": "FloatProgressModel",
            "_view_count": null,
            "_view_module": "@jupyter-widgets/controls",
            "_view_module_version": "1.5.0",
            "_view_name": "ProgressView",
            "bar_style": "success",
            "description": "",
            "description_tooltip": null,
            "layout": "IPY_MODEL_155e46b30eeb47d6ae6392f5ed6f264d",
            "max": 1563,
            "min": 0,
            "orientation": "horizontal",
            "style": "IPY_MODEL_55c07c9241b344cbb25dc1602c2f3bbc",
            "value": 1563
          }
        },
        "5151513a9d8942ceba40d4509e747393": {
          "model_module": "@jupyter-widgets/controls",
          "model_module_version": "1.5.0",
          "model_name": "DescriptionStyleModel",
          "state": {
            "_model_module": "@jupyter-widgets/controls",
            "_model_module_version": "1.5.0",
            "_model_name": "DescriptionStyleModel",
            "_view_count": null,
            "_view_module": "@jupyter-widgets/base",
            "_view_module_version": "1.2.0",
            "_view_name": "StyleView",
            "description_width": ""
          }
        },
        "54d4fd940cc64caaa3041b4ea6e89c23": {
          "model_module": "@jupyter-widgets/controls",
          "model_module_version": "1.5.0",
          "model_name": "DescriptionStyleModel",
          "state": {
            "_model_module": "@jupyter-widgets/controls",
            "_model_module_version": "1.5.0",
            "_model_name": "DescriptionStyleModel",
            "_view_count": null,
            "_view_module": "@jupyter-widgets/base",
            "_view_module_version": "1.2.0",
            "_view_name": "StyleView",
            "description_width": ""
          }
        },
        "55c07c9241b344cbb25dc1602c2f3bbc": {
          "model_module": "@jupyter-widgets/controls",
          "model_module_version": "1.5.0",
          "model_name": "ProgressStyleModel",
          "state": {
            "_model_module": "@jupyter-widgets/controls",
            "_model_module_version": "1.5.0",
            "_model_name": "ProgressStyleModel",
            "_view_count": null,
            "_view_module": "@jupyter-widgets/base",
            "_view_module_version": "1.2.0",
            "_view_name": "StyleView",
            "bar_color": null,
            "description_width": ""
          }
        },
        "568ef351fb724b04839568721cebf51d": {
          "model_module": "@jupyter-widgets/controls",
          "model_module_version": "1.5.0",
          "model_name": "HTMLModel",
          "state": {
            "_dom_classes": [],
            "_model_module": "@jupyter-widgets/controls",
            "_model_module_version": "1.5.0",
            "_model_name": "HTMLModel",
            "_view_count": null,
            "_view_module": "@jupyter-widgets/controls",
            "_view_module_version": "1.5.0",
            "_view_name": "HTMLView",
            "description": "",
            "description_tooltip": null,
            "layout": "IPY_MODEL_eacaed9927e24e4984aab3a1a92e6b62",
            "placeholder": "​",
            "style": "IPY_MODEL_9bffd7754f82440593d16f9b255d50c9",
            "value": "100%"
          }
        },
        "5aabd94c3c034f349afb91f5982fbee7": {
          "model_module": "@jupyter-widgets/controls",
          "model_module_version": "1.5.0",
          "model_name": "ProgressStyleModel",
          "state": {
            "_model_module": "@jupyter-widgets/controls",
            "_model_module_version": "1.5.0",
            "_model_name": "ProgressStyleModel",
            "_view_count": null,
            "_view_module": "@jupyter-widgets/base",
            "_view_module_version": "1.2.0",
            "_view_name": "StyleView",
            "bar_color": null,
            "description_width": ""
          }
        },
        "5ca29a28f2524dc2b4de0f1a41cc54ef": {
          "model_module": "@jupyter-widgets/controls",
          "model_module_version": "1.5.0",
          "model_name": "HBoxModel",
          "state": {
            "_dom_classes": [],
            "_model_module": "@jupyter-widgets/controls",
            "_model_module_version": "1.5.0",
            "_model_name": "HBoxModel",
            "_view_count": null,
            "_view_module": "@jupyter-widgets/controls",
            "_view_module_version": "1.5.0",
            "_view_name": "HBoxView",
            "box_style": "",
            "children": [
              "IPY_MODEL_93e952c9a6304cb7bcc91a286ed722bb",
              "IPY_MODEL_b43b6647281749ba8315407ee572af47",
              "IPY_MODEL_35a81ff73cf84c149830efe145345735"
            ],
            "layout": "IPY_MODEL_79e9fc4da375473899b8c2e9fda45368"
          }
        },
        "5ce2371f6e0e4787a1b313d1751dfdef": {
          "model_module": "@jupyter-widgets/controls",
          "model_module_version": "1.5.0",
          "model_name": "HTMLModel",
          "state": {
            "_dom_classes": [],
            "_model_module": "@jupyter-widgets/controls",
            "_model_module_version": "1.5.0",
            "_model_name": "HTMLModel",
            "_view_count": null,
            "_view_module": "@jupyter-widgets/controls",
            "_view_module_version": "1.5.0",
            "_view_name": "HTMLView",
            "description": "",
            "description_tooltip": null,
            "layout": "IPY_MODEL_ddad35cfb6594d81b34f62bd9a24a001",
            "placeholder": "​",
            "style": "IPY_MODEL_1ca8078330ec4d7db244ddfe98d903b4",
            "value": "Downloading: 100%"
          }
        },
        "63138d57afd44808ac4e24f183325177": {
          "model_module": "@jupyter-widgets/controls",
          "model_module_version": "1.5.0",
          "model_name": "FloatProgressModel",
          "state": {
            "_dom_classes": [],
            "_model_module": "@jupyter-widgets/controls",
            "_model_module_version": "1.5.0",
            "_model_name": "FloatProgressModel",
            "_view_count": null,
            "_view_module": "@jupyter-widgets/controls",
            "_view_module_version": "1.5.0",
            "_view_name": "ProgressView",
            "bar_style": "",
            "description": "",
            "description_tooltip": null,
            "layout": "IPY_MODEL_068bcf63dece49f3b56fec16f29087a0",
            "max": 25000,
            "min": 0,
            "orientation": "horizontal",
            "style": "IPY_MODEL_2f4eaee6420141fbbc4987a5ab654550",
            "value": 25000
          }
        },
        "6430c2bc55654ae9bd089952bae627de": {
          "model_module": "@jupyter-widgets/base",
          "model_module_version": "1.2.0",
          "model_name": "LayoutModel",
          "state": {
            "_model_module": "@jupyter-widgets/base",
            "_model_module_version": "1.2.0",
            "_model_name": "LayoutModel",
            "_view_count": null,
            "_view_module": "@jupyter-widgets/base",
            "_view_module_version": "1.2.0",
            "_view_name": "LayoutView",
            "align_content": null,
            "align_items": null,
            "align_self": null,
            "border": null,
            "bottom": null,
            "display": null,
            "flex": null,
            "flex_flow": null,
            "grid_area": null,
            "grid_auto_columns": null,
            "grid_auto_flow": null,
            "grid_auto_rows": null,
            "grid_column": null,
            "grid_gap": null,
            "grid_row": null,
            "grid_template_areas": null,
            "grid_template_columns": null,
            "grid_template_rows": null,
            "height": null,
            "justify_content": null,
            "justify_items": null,
            "left": null,
            "margin": null,
            "max_height": null,
            "max_width": null,
            "min_height": null,
            "min_width": null,
            "object_fit": null,
            "object_position": null,
            "order": null,
            "overflow": null,
            "overflow_x": null,
            "overflow_y": null,
            "padding": null,
            "right": null,
            "top": null,
            "visibility": null,
            "width": null
          }
        },
        "644cf56543bb4cd0b4b81dd54cd9c187": {
          "model_module": "@jupyter-widgets/base",
          "model_module_version": "1.2.0",
          "model_name": "LayoutModel",
          "state": {
            "_model_module": "@jupyter-widgets/base",
            "_model_module_version": "1.2.0",
            "_model_name": "LayoutModel",
            "_view_count": null,
            "_view_module": "@jupyter-widgets/base",
            "_view_module_version": "1.2.0",
            "_view_name": "LayoutView",
            "align_content": null,
            "align_items": null,
            "align_self": null,
            "border": null,
            "bottom": null,
            "display": null,
            "flex": null,
            "flex_flow": null,
            "grid_area": null,
            "grid_auto_columns": null,
            "grid_auto_flow": null,
            "grid_auto_rows": null,
            "grid_column": null,
            "grid_gap": null,
            "grid_row": null,
            "grid_template_areas": null,
            "grid_template_columns": null,
            "grid_template_rows": null,
            "height": null,
            "justify_content": null,
            "justify_items": null,
            "left": null,
            "margin": null,
            "max_height": null,
            "max_width": null,
            "min_height": null,
            "min_width": null,
            "object_fit": null,
            "object_position": null,
            "order": null,
            "overflow": null,
            "overflow_x": null,
            "overflow_y": null,
            "padding": null,
            "right": null,
            "top": null,
            "visibility": null,
            "width": null
          }
        },
        "647fc87925194fed9584765af0702c2d": {
          "model_module": "@jupyter-widgets/base",
          "model_module_version": "1.2.0",
          "model_name": "LayoutModel",
          "state": {
            "_model_module": "@jupyter-widgets/base",
            "_model_module_version": "1.2.0",
            "_model_name": "LayoutModel",
            "_view_count": null,
            "_view_module": "@jupyter-widgets/base",
            "_view_module_version": "1.2.0",
            "_view_name": "LayoutView",
            "align_content": null,
            "align_items": null,
            "align_self": null,
            "border": null,
            "bottom": null,
            "display": null,
            "flex": null,
            "flex_flow": null,
            "grid_area": null,
            "grid_auto_columns": null,
            "grid_auto_flow": null,
            "grid_auto_rows": null,
            "grid_column": null,
            "grid_gap": null,
            "grid_row": null,
            "grid_template_areas": null,
            "grid_template_columns": null,
            "grid_template_rows": null,
            "height": null,
            "justify_content": null,
            "justify_items": null,
            "left": null,
            "margin": null,
            "max_height": null,
            "max_width": null,
            "min_height": null,
            "min_width": null,
            "object_fit": null,
            "object_position": null,
            "order": null,
            "overflow": null,
            "overflow_x": null,
            "overflow_y": null,
            "padding": null,
            "right": null,
            "top": null,
            "visibility": null,
            "width": null
          }
        },
        "664644b949ad4db6bf1dfa46db22f905": {
          "model_module": "@jupyter-widgets/base",
          "model_module_version": "1.2.0",
          "model_name": "LayoutModel",
          "state": {
            "_model_module": "@jupyter-widgets/base",
            "_model_module_version": "1.2.0",
            "_model_name": "LayoutModel",
            "_view_count": null,
            "_view_module": "@jupyter-widgets/base",
            "_view_module_version": "1.2.0",
            "_view_name": "LayoutView",
            "align_content": null,
            "align_items": null,
            "align_self": null,
            "border": null,
            "bottom": null,
            "display": null,
            "flex": null,
            "flex_flow": null,
            "grid_area": null,
            "grid_auto_columns": null,
            "grid_auto_flow": null,
            "grid_auto_rows": null,
            "grid_column": null,
            "grid_gap": null,
            "grid_row": null,
            "grid_template_areas": null,
            "grid_template_columns": null,
            "grid_template_rows": null,
            "height": null,
            "justify_content": null,
            "justify_items": null,
            "left": null,
            "margin": null,
            "max_height": null,
            "max_width": null,
            "min_height": null,
            "min_width": null,
            "object_fit": null,
            "object_position": null,
            "order": null,
            "overflow": null,
            "overflow_x": null,
            "overflow_y": null,
            "padding": null,
            "right": null,
            "top": null,
            "visibility": null,
            "width": null
          }
        },
        "66f2ae8c57b44306a365f6cef9ab7667": {
          "model_module": "@jupyter-widgets/controls",
          "model_module_version": "1.5.0",
          "model_name": "DescriptionStyleModel",
          "state": {
            "_model_module": "@jupyter-widgets/controls",
            "_model_module_version": "1.5.0",
            "_model_name": "DescriptionStyleModel",
            "_view_count": null,
            "_view_module": "@jupyter-widgets/base",
            "_view_module_version": "1.2.0",
            "_view_name": "StyleView",
            "description_width": ""
          }
        },
        "68a9239f7e43451786df2287c8854987": {
          "model_module": "@jupyter-widgets/controls",
          "model_module_version": "1.5.0",
          "model_name": "HTMLModel",
          "state": {
            "_dom_classes": [],
            "_model_module": "@jupyter-widgets/controls",
            "_model_module_version": "1.5.0",
            "_model_name": "HTMLModel",
            "_view_count": null,
            "_view_module": "@jupyter-widgets/controls",
            "_view_module_version": "1.5.0",
            "_view_name": "HTMLView",
            "description": "",
            "description_tooltip": null,
            "layout": "IPY_MODEL_ea495ca1e6504c6ebe4841d0a5193f4d",
            "placeholder": "​",
            "style": "IPY_MODEL_da83d8f1df844bbf9b99fb2c52880d9a",
            "value": "Downloading: 100%"
          }
        },
        "694a8442591545199bb089c033c38d1c": {
          "model_module": "@jupyter-widgets/controls",
          "model_module_version": "1.5.0",
          "model_name": "FloatProgressModel",
          "state": {
            "_dom_classes": [],
            "_model_module": "@jupyter-widgets/controls",
            "_model_module_version": "1.5.0",
            "_model_name": "FloatProgressModel",
            "_view_count": null,
            "_view_module": "@jupyter-widgets/controls",
            "_view_module_version": "1.5.0",
            "_view_name": "ProgressView",
            "bar_style": "success",
            "description": "",
            "description_tooltip": null,
            "layout": "IPY_MODEL_d0d8a37d4b904644be1f62a5cc63ae05",
            "max": 25,
            "min": 0,
            "orientation": "horizontal",
            "style": "IPY_MODEL_81c0d0406cb14b45b44af110764610ba",
            "value": 25
          }
        },
        "69f0a9f7c8e44bd6bc84abca60f98baf": {
          "model_module": "@jupyter-widgets/controls",
          "model_module_version": "1.5.0",
          "model_name": "HBoxModel",
          "state": {
            "_dom_classes": [],
            "_model_module": "@jupyter-widgets/controls",
            "_model_module_version": "1.5.0",
            "_model_name": "HBoxModel",
            "_view_count": null,
            "_view_module": "@jupyter-widgets/controls",
            "_view_module_version": "1.5.0",
            "_view_name": "HBoxView",
            "box_style": "",
            "children": [
              "IPY_MODEL_68a9239f7e43451786df2287c8854987",
              "IPY_MODEL_c4e4d9b20f28421889e7c83c5bb9fbba",
              "IPY_MODEL_39d33c1351904b17827d70cce46679d1"
            ],
            "layout": "IPY_MODEL_36af88a6606b4b1daa9dd3c17da25f50"
          }
        },
        "6c401b64d37f4b6b88b685a3183a9444": {
          "model_module": "@jupyter-widgets/controls",
          "model_module_version": "1.5.0",
          "model_name": "HTMLModel",
          "state": {
            "_dom_classes": [],
            "_model_module": "@jupyter-widgets/controls",
            "_model_module_version": "1.5.0",
            "_model_name": "HTMLModel",
            "_view_count": null,
            "_view_module": "@jupyter-widgets/controls",
            "_view_module_version": "1.5.0",
            "_view_name": "HTMLView",
            "description": "",
            "description_tooltip": null,
            "layout": "IPY_MODEL_948986eff9b64283a84b46a1742000bc",
            "placeholder": "​",
            "style": "IPY_MODEL_7a3c2fa1825a4078a78bd605d7b08ccf",
            "value": "Generating unsupervised split:  99%"
          }
        },
        "6eef802617814e3888eacfada2f2e1e1": {
          "model_module": "@jupyter-widgets/controls",
          "model_module_version": "1.5.0",
          "model_name": "FloatProgressModel",
          "state": {
            "_dom_classes": [],
            "_model_module": "@jupyter-widgets/controls",
            "_model_module_version": "1.5.0",
            "_model_name": "FloatProgressModel",
            "_view_count": null,
            "_view_module": "@jupyter-widgets/controls",
            "_view_module_version": "1.5.0",
            "_view_name": "ProgressView",
            "bar_style": "success",
            "description": "",
            "description_tooltip": null,
            "layout": "IPY_MODEL_08f6bff1b89342ef9ce6d0c83e70fe3b",
            "max": 3,
            "min": 0,
            "orientation": "horizontal",
            "style": "IPY_MODEL_5aabd94c3c034f349afb91f5982fbee7",
            "value": 3
          }
        },
        "701f6429f08c43be9acb442131bad40b": {
          "model_module": "@jupyter-widgets/base",
          "model_module_version": "1.2.0",
          "model_name": "LayoutModel",
          "state": {
            "_model_module": "@jupyter-widgets/base",
            "_model_module_version": "1.2.0",
            "_model_name": "LayoutModel",
            "_view_count": null,
            "_view_module": "@jupyter-widgets/base",
            "_view_module_version": "1.2.0",
            "_view_name": "LayoutView",
            "align_content": null,
            "align_items": null,
            "align_self": null,
            "border": null,
            "bottom": null,
            "display": null,
            "flex": null,
            "flex_flow": null,
            "grid_area": null,
            "grid_auto_columns": null,
            "grid_auto_flow": null,
            "grid_auto_rows": null,
            "grid_column": null,
            "grid_gap": null,
            "grid_row": null,
            "grid_template_areas": null,
            "grid_template_columns": null,
            "grid_template_rows": null,
            "height": null,
            "justify_content": null,
            "justify_items": null,
            "left": null,
            "margin": null,
            "max_height": null,
            "max_width": null,
            "min_height": null,
            "min_width": null,
            "object_fit": null,
            "object_position": null,
            "order": null,
            "overflow": null,
            "overflow_x": null,
            "overflow_y": null,
            "padding": null,
            "right": null,
            "top": null,
            "visibility": null,
            "width": null
          }
        },
        "704ec27f926d44a48e8652554743f6d9": {
          "model_module": "@jupyter-widgets/base",
          "model_module_version": "1.2.0",
          "model_name": "LayoutModel",
          "state": {
            "_model_module": "@jupyter-widgets/base",
            "_model_module_version": "1.2.0",
            "_model_name": "LayoutModel",
            "_view_count": null,
            "_view_module": "@jupyter-widgets/base",
            "_view_module_version": "1.2.0",
            "_view_name": "LayoutView",
            "align_content": null,
            "align_items": null,
            "align_self": null,
            "border": null,
            "bottom": null,
            "display": null,
            "flex": null,
            "flex_flow": null,
            "grid_area": null,
            "grid_auto_columns": null,
            "grid_auto_flow": null,
            "grid_auto_rows": null,
            "grid_column": null,
            "grid_gap": null,
            "grid_row": null,
            "grid_template_areas": null,
            "grid_template_columns": null,
            "grid_template_rows": null,
            "height": null,
            "justify_content": null,
            "justify_items": null,
            "left": null,
            "margin": null,
            "max_height": null,
            "max_width": null,
            "min_height": null,
            "min_width": null,
            "object_fit": null,
            "object_position": null,
            "order": null,
            "overflow": null,
            "overflow_x": null,
            "overflow_y": null,
            "padding": null,
            "right": null,
            "top": null,
            "visibility": null,
            "width": null
          }
        },
        "708a147f50884572a579630b5e575e72": {
          "model_module": "@jupyter-widgets/base",
          "model_module_version": "1.2.0",
          "model_name": "LayoutModel",
          "state": {
            "_model_module": "@jupyter-widgets/base",
            "_model_module_version": "1.2.0",
            "_model_name": "LayoutModel",
            "_view_count": null,
            "_view_module": "@jupyter-widgets/base",
            "_view_module_version": "1.2.0",
            "_view_name": "LayoutView",
            "align_content": null,
            "align_items": null,
            "align_self": null,
            "border": null,
            "bottom": null,
            "display": null,
            "flex": null,
            "flex_flow": null,
            "grid_area": null,
            "grid_auto_columns": null,
            "grid_auto_flow": null,
            "grid_auto_rows": null,
            "grid_column": null,
            "grid_gap": null,
            "grid_row": null,
            "grid_template_areas": null,
            "grid_template_columns": null,
            "grid_template_rows": null,
            "height": null,
            "justify_content": null,
            "justify_items": null,
            "left": null,
            "margin": null,
            "max_height": null,
            "max_width": null,
            "min_height": null,
            "min_width": null,
            "object_fit": null,
            "object_position": null,
            "order": null,
            "overflow": null,
            "overflow_x": null,
            "overflow_y": null,
            "padding": null,
            "right": null,
            "top": null,
            "visibility": null,
            "width": null
          }
        },
        "72b3c4b31da34e02a753f2d237d9f3e7": {
          "model_module": "@jupyter-widgets/base",
          "model_module_version": "1.2.0",
          "model_name": "LayoutModel",
          "state": {
            "_model_module": "@jupyter-widgets/base",
            "_model_module_version": "1.2.0",
            "_model_name": "LayoutModel",
            "_view_count": null,
            "_view_module": "@jupyter-widgets/base",
            "_view_module_version": "1.2.0",
            "_view_name": "LayoutView",
            "align_content": null,
            "align_items": null,
            "align_self": null,
            "border": null,
            "bottom": null,
            "display": null,
            "flex": null,
            "flex_flow": null,
            "grid_area": null,
            "grid_auto_columns": null,
            "grid_auto_flow": null,
            "grid_auto_rows": null,
            "grid_column": null,
            "grid_gap": null,
            "grid_row": null,
            "grid_template_areas": null,
            "grid_template_columns": null,
            "grid_template_rows": null,
            "height": null,
            "justify_content": null,
            "justify_items": null,
            "left": null,
            "margin": null,
            "max_height": null,
            "max_width": null,
            "min_height": null,
            "min_width": null,
            "object_fit": null,
            "object_position": null,
            "order": null,
            "overflow": null,
            "overflow_x": null,
            "overflow_y": null,
            "padding": null,
            "right": null,
            "top": null,
            "visibility": null,
            "width": null
          }
        },
        "741c02194d71413988142d5e57bc6045": {
          "model_module": "@jupyter-widgets/controls",
          "model_module_version": "1.5.0",
          "model_name": "DescriptionStyleModel",
          "state": {
            "_model_module": "@jupyter-widgets/controls",
            "_model_module_version": "1.5.0",
            "_model_name": "DescriptionStyleModel",
            "_view_count": null,
            "_view_module": "@jupyter-widgets/base",
            "_view_module_version": "1.2.0",
            "_view_name": "StyleView",
            "description_width": ""
          }
        },
        "79e9fc4da375473899b8c2e9fda45368": {
          "model_module": "@jupyter-widgets/base",
          "model_module_version": "1.2.0",
          "model_name": "LayoutModel",
          "state": {
            "_model_module": "@jupyter-widgets/base",
            "_model_module_version": "1.2.0",
            "_model_name": "LayoutModel",
            "_view_count": null,
            "_view_module": "@jupyter-widgets/base",
            "_view_module_version": "1.2.0",
            "_view_name": "LayoutView",
            "align_content": null,
            "align_items": null,
            "align_self": null,
            "border": null,
            "bottom": null,
            "display": null,
            "flex": null,
            "flex_flow": null,
            "grid_area": null,
            "grid_auto_columns": null,
            "grid_auto_flow": null,
            "grid_auto_rows": null,
            "grid_column": null,
            "grid_gap": null,
            "grid_row": null,
            "grid_template_areas": null,
            "grid_template_columns": null,
            "grid_template_rows": null,
            "height": null,
            "justify_content": null,
            "justify_items": null,
            "left": null,
            "margin": null,
            "max_height": null,
            "max_width": null,
            "min_height": null,
            "min_width": null,
            "object_fit": null,
            "object_position": null,
            "order": null,
            "overflow": null,
            "overflow_x": null,
            "overflow_y": null,
            "padding": null,
            "right": null,
            "top": null,
            "visibility": null,
            "width": null
          }
        },
        "7a3c2fa1825a4078a78bd605d7b08ccf": {
          "model_module": "@jupyter-widgets/controls",
          "model_module_version": "1.5.0",
          "model_name": "DescriptionStyleModel",
          "state": {
            "_model_module": "@jupyter-widgets/controls",
            "_model_module_version": "1.5.0",
            "_model_name": "DescriptionStyleModel",
            "_view_count": null,
            "_view_module": "@jupyter-widgets/base",
            "_view_module_version": "1.2.0",
            "_view_name": "StyleView",
            "description_width": ""
          }
        },
        "7ec5fe0997ea41bbbbc8ca1effdb6760": {
          "model_module": "@jupyter-widgets/controls",
          "model_module_version": "1.5.0",
          "model_name": "HBoxModel",
          "state": {
            "_dom_classes": [],
            "_model_module": "@jupyter-widgets/controls",
            "_model_module_version": "1.5.0",
            "_model_name": "HBoxModel",
            "_view_count": null,
            "_view_module": "@jupyter-widgets/controls",
            "_view_module_version": "1.5.0",
            "_view_name": "HBoxView",
            "box_style": "",
            "children": [
              "IPY_MODEL_38738e99a42e4a169c41ac02f328079e",
              "IPY_MODEL_0602c357ff174d34922af01820fd6aba",
              "IPY_MODEL_1ee9c4e7bcd746a8b238758dc8c660c3"
            ],
            "layout": "IPY_MODEL_72b3c4b31da34e02a753f2d237d9f3e7"
          }
        },
        "7f50797ebfb64d86aa51f31bd7116a87": {
          "model_module": "@jupyter-widgets/controls",
          "model_module_version": "1.5.0",
          "model_name": "DescriptionStyleModel",
          "state": {
            "_model_module": "@jupyter-widgets/controls",
            "_model_module_version": "1.5.0",
            "_model_name": "DescriptionStyleModel",
            "_view_count": null,
            "_view_module": "@jupyter-widgets/base",
            "_view_module_version": "1.2.0",
            "_view_name": "StyleView",
            "description_width": ""
          }
        },
        "81c0d0406cb14b45b44af110764610ba": {
          "model_module": "@jupyter-widgets/controls",
          "model_module_version": "1.5.0",
          "model_name": "ProgressStyleModel",
          "state": {
            "_model_module": "@jupyter-widgets/controls",
            "_model_module_version": "1.5.0",
            "_model_name": "ProgressStyleModel",
            "_view_count": null,
            "_view_module": "@jupyter-widgets/base",
            "_view_module_version": "1.2.0",
            "_view_name": "StyleView",
            "bar_color": null,
            "description_width": ""
          }
        },
        "8514e7913cb74a158e96c921b0e1d2de": {
          "model_module": "@jupyter-widgets/controls",
          "model_module_version": "1.5.0",
          "model_name": "HBoxModel",
          "state": {
            "_dom_classes": [],
            "_model_module": "@jupyter-widgets/controls",
            "_model_module_version": "1.5.0",
            "_model_name": "HBoxModel",
            "_view_count": null,
            "_view_module": "@jupyter-widgets/controls",
            "_view_module_version": "1.5.0",
            "_view_name": "HBoxView",
            "box_style": "",
            "children": [
              "IPY_MODEL_9a8d3a5e02cd4f918f3a6d4106d32794",
              "IPY_MODEL_50f864085da2476fb6a6d1eefc059b11",
              "IPY_MODEL_c999b15b946c469f8f8fb565ecc440c2"
            ],
            "layout": "IPY_MODEL_8a641ef303c64bec84443f5711f8ebe5"
          }
        },
        "8599345b4c9e42f88789525d16bd3e88": {
          "model_module": "@jupyter-widgets/controls",
          "model_module_version": "1.5.0",
          "model_name": "ProgressStyleModel",
          "state": {
            "_model_module": "@jupyter-widgets/controls",
            "_model_module_version": "1.5.0",
            "_model_name": "ProgressStyleModel",
            "_view_count": null,
            "_view_module": "@jupyter-widgets/base",
            "_view_module_version": "1.2.0",
            "_view_name": "StyleView",
            "bar_color": null,
            "description_width": ""
          }
        },
        "85cc6e5d33fe41bf8d9e7bf87229ddf7": {
          "model_module": "@jupyter-widgets/controls",
          "model_module_version": "1.5.0",
          "model_name": "HBoxModel",
          "state": {
            "_dom_classes": [],
            "_model_module": "@jupyter-widgets/controls",
            "_model_module_version": "1.5.0",
            "_model_name": "HBoxModel",
            "_view_count": null,
            "_view_module": "@jupyter-widgets/controls",
            "_view_module_version": "1.5.0",
            "_view_name": "HBoxView",
            "box_style": "",
            "children": [
              "IPY_MODEL_3946b6ac13c2464c9e524478f2cb0bce",
              "IPY_MODEL_1086facf681446eab9262cea62efa42e",
              "IPY_MODEL_fc8ae0ef2c4943cfb59d794bd9d79472"
            ],
            "layout": "IPY_MODEL_a5f6fff3e7cb451c99aea502178e3fbc"
          }
        },
        "87767a29709844799dd190855db6caf0": {
          "model_module": "@jupyter-widgets/controls",
          "model_module_version": "1.5.0",
          "model_name": "DescriptionStyleModel",
          "state": {
            "_model_module": "@jupyter-widgets/controls",
            "_model_module_version": "1.5.0",
            "_model_name": "DescriptionStyleModel",
            "_view_count": null,
            "_view_module": "@jupyter-widgets/base",
            "_view_module_version": "1.2.0",
            "_view_name": "StyleView",
            "description_width": ""
          }
        },
        "8a641ef303c64bec84443f5711f8ebe5": {
          "model_module": "@jupyter-widgets/base",
          "model_module_version": "1.2.0",
          "model_name": "LayoutModel",
          "state": {
            "_model_module": "@jupyter-widgets/base",
            "_model_module_version": "1.2.0",
            "_model_name": "LayoutModel",
            "_view_count": null,
            "_view_module": "@jupyter-widgets/base",
            "_view_module_version": "1.2.0",
            "_view_name": "LayoutView",
            "align_content": null,
            "align_items": null,
            "align_self": null,
            "border": null,
            "bottom": null,
            "display": null,
            "flex": null,
            "flex_flow": null,
            "grid_area": null,
            "grid_auto_columns": null,
            "grid_auto_flow": null,
            "grid_auto_rows": null,
            "grid_column": null,
            "grid_gap": null,
            "grid_row": null,
            "grid_template_areas": null,
            "grid_template_columns": null,
            "grid_template_rows": null,
            "height": null,
            "justify_content": null,
            "justify_items": null,
            "left": null,
            "margin": null,
            "max_height": null,
            "max_width": null,
            "min_height": null,
            "min_width": null,
            "object_fit": null,
            "object_position": null,
            "order": null,
            "overflow": null,
            "overflow_x": null,
            "overflow_y": null,
            "padding": null,
            "right": null,
            "top": null,
            "visibility": null,
            "width": null
          }
        },
        "8a8053a21fa144819446e503a5a74478": {
          "model_module": "@jupyter-widgets/controls",
          "model_module_version": "1.5.0",
          "model_name": "HTMLModel",
          "state": {
            "_dom_classes": [],
            "_model_module": "@jupyter-widgets/controls",
            "_model_module_version": "1.5.0",
            "_model_name": "HTMLModel",
            "_view_count": null,
            "_view_module": "@jupyter-widgets/controls",
            "_view_module_version": "1.5.0",
            "_view_name": "HTMLView",
            "description": "",
            "description_tooltip": null,
            "layout": "IPY_MODEL_f84f7cf06d4d43be91f66345a2f41f27",
            "placeholder": "​",
            "style": "IPY_MODEL_462a5df90c394c448cd3cddbc4918f78",
            "value": " 24569/25000 [00:04&lt;00:00, 8320.82 examples/s]"
          }
        },
        "8b8ffc5f03ed42b9a2cf80b176f9c761": {
          "model_module": "@jupyter-widgets/base",
          "model_module_version": "1.2.0",
          "model_name": "LayoutModel",
          "state": {
            "_model_module": "@jupyter-widgets/base",
            "_model_module_version": "1.2.0",
            "_model_name": "LayoutModel",
            "_view_count": null,
            "_view_module": "@jupyter-widgets/base",
            "_view_module_version": "1.2.0",
            "_view_name": "LayoutView",
            "align_content": null,
            "align_items": null,
            "align_self": null,
            "border": null,
            "bottom": null,
            "display": null,
            "flex": null,
            "flex_flow": null,
            "grid_area": null,
            "grid_auto_columns": null,
            "grid_auto_flow": null,
            "grid_auto_rows": null,
            "grid_column": null,
            "grid_gap": null,
            "grid_row": null,
            "grid_template_areas": null,
            "grid_template_columns": null,
            "grid_template_rows": null,
            "height": null,
            "justify_content": null,
            "justify_items": null,
            "left": null,
            "margin": null,
            "max_height": null,
            "max_width": null,
            "min_height": null,
            "min_width": null,
            "object_fit": null,
            "object_position": null,
            "order": null,
            "overflow": null,
            "overflow_x": null,
            "overflow_y": null,
            "padding": null,
            "right": null,
            "top": null,
            "visibility": null,
            "width": null
          }
        },
        "8baa1c9bbd834ef8835bcccd945e4b5e": {
          "model_module": "@jupyter-widgets/controls",
          "model_module_version": "1.5.0",
          "model_name": "DescriptionStyleModel",
          "state": {
            "_model_module": "@jupyter-widgets/controls",
            "_model_module_version": "1.5.0",
            "_model_name": "DescriptionStyleModel",
            "_view_count": null,
            "_view_module": "@jupyter-widgets/base",
            "_view_module_version": "1.2.0",
            "_view_name": "StyleView",
            "description_width": ""
          }
        },
        "8c4f64911314483aa2887187cc2fc78f": {
          "model_module": "@jupyter-widgets/controls",
          "model_module_version": "1.5.0",
          "model_name": "DescriptionStyleModel",
          "state": {
            "_model_module": "@jupyter-widgets/controls",
            "_model_module_version": "1.5.0",
            "_model_name": "DescriptionStyleModel",
            "_view_count": null,
            "_view_module": "@jupyter-widgets/base",
            "_view_module_version": "1.2.0",
            "_view_name": "StyleView",
            "description_width": ""
          }
        },
        "8cd29b82a0464bb19ea1f9cb246bbecf": {
          "model_module": "@jupyter-widgets/controls",
          "model_module_version": "1.5.0",
          "model_name": "HBoxModel",
          "state": {
            "_dom_classes": [],
            "_model_module": "@jupyter-widgets/controls",
            "_model_module_version": "1.5.0",
            "_model_name": "HBoxModel",
            "_view_count": null,
            "_view_module": "@jupyter-widgets/controls",
            "_view_module_version": "1.5.0",
            "_view_name": "HBoxView",
            "box_style": "",
            "children": [
              "IPY_MODEL_42ef3100d1a54dc1a6c9bbf58456d8ef",
              "IPY_MODEL_508866f57bba4b26813d940d29a00aad",
              "IPY_MODEL_be24b5d06c8e44d586c209c0d15c0647"
            ],
            "layout": "IPY_MODEL_e7fad451e3dd44bebc564e46af8e72b6"
          }
        },
        "8ee13237ff82455a8f231d32153eb4e2": {
          "model_module": "@jupyter-widgets/base",
          "model_module_version": "1.2.0",
          "model_name": "LayoutModel",
          "state": {
            "_model_module": "@jupyter-widgets/base",
            "_model_module_version": "1.2.0",
            "_model_name": "LayoutModel",
            "_view_count": null,
            "_view_module": "@jupyter-widgets/base",
            "_view_module_version": "1.2.0",
            "_view_name": "LayoutView",
            "align_content": null,
            "align_items": null,
            "align_self": null,
            "border": null,
            "bottom": null,
            "display": null,
            "flex": null,
            "flex_flow": null,
            "grid_area": null,
            "grid_auto_columns": null,
            "grid_auto_flow": null,
            "grid_auto_rows": null,
            "grid_column": null,
            "grid_gap": null,
            "grid_row": null,
            "grid_template_areas": null,
            "grid_template_columns": null,
            "grid_template_rows": null,
            "height": null,
            "justify_content": null,
            "justify_items": null,
            "left": null,
            "margin": null,
            "max_height": null,
            "max_width": null,
            "min_height": null,
            "min_width": null,
            "object_fit": null,
            "object_position": null,
            "order": null,
            "overflow": null,
            "overflow_x": null,
            "overflow_y": null,
            "padding": null,
            "right": null,
            "top": null,
            "visibility": null,
            "width": null
          }
        },
        "8f1b6a7c07cf47d39141c0289c982124": {
          "model_module": "@jupyter-widgets/controls",
          "model_module_version": "1.5.0",
          "model_name": "HTMLModel",
          "state": {
            "_dom_classes": [],
            "_model_module": "@jupyter-widgets/controls",
            "_model_module_version": "1.5.0",
            "_model_name": "HTMLModel",
            "_view_count": null,
            "_view_module": "@jupyter-widgets/controls",
            "_view_module_version": "1.5.0",
            "_view_name": "HTMLView",
            "description": "",
            "description_tooltip": null,
            "layout": "IPY_MODEL_d9ed892ebbe5480a906e4221d2065174",
            "placeholder": "​",
            "style": "IPY_MODEL_66f2ae8c57b44306a365f6cef9ab7667",
            "value": "Downloading builder script: "
          }
        },
        "9131e8057b354cfbbd77da9ca4b1bbdb": {
          "model_module": "@jupyter-widgets/controls",
          "model_module_version": "1.5.0",
          "model_name": "HTMLModel",
          "state": {
            "_dom_classes": [],
            "_model_module": "@jupyter-widgets/controls",
            "_model_module_version": "1.5.0",
            "_model_name": "HTMLModel",
            "_view_count": null,
            "_view_module": "@jupyter-widgets/controls",
            "_view_module_version": "1.5.0",
            "_view_name": "HTMLView",
            "description": "",
            "description_tooltip": null,
            "layout": "IPY_MODEL_13ac458253914dfaad729c0dd2ea1c69",
            "placeholder": "​",
            "style": "IPY_MODEL_32138e0be5af495e8a48eb91d3882e45",
            "value": " 3/3 [00:00&lt;00:00, 88.04it/s]"
          }
        },
        "91e19682b1db47a0abe032ec4b25bc82": {
          "model_module": "@jupyter-widgets/base",
          "model_module_version": "1.2.0",
          "model_name": "LayoutModel",
          "state": {
            "_model_module": "@jupyter-widgets/base",
            "_model_module_version": "1.2.0",
            "_model_name": "LayoutModel",
            "_view_count": null,
            "_view_module": "@jupyter-widgets/base",
            "_view_module_version": "1.2.0",
            "_view_name": "LayoutView",
            "align_content": null,
            "align_items": null,
            "align_self": null,
            "border": null,
            "bottom": null,
            "display": null,
            "flex": null,
            "flex_flow": null,
            "grid_area": null,
            "grid_auto_columns": null,
            "grid_auto_flow": null,
            "grid_auto_rows": null,
            "grid_column": null,
            "grid_gap": null,
            "grid_row": null,
            "grid_template_areas": null,
            "grid_template_columns": null,
            "grid_template_rows": null,
            "height": null,
            "justify_content": null,
            "justify_items": null,
            "left": null,
            "margin": null,
            "max_height": null,
            "max_width": null,
            "min_height": null,
            "min_width": null,
            "object_fit": null,
            "object_position": null,
            "order": null,
            "overflow": null,
            "overflow_x": null,
            "overflow_y": null,
            "padding": null,
            "right": null,
            "top": null,
            "visibility": null,
            "width": null
          }
        },
        "93e952c9a6304cb7bcc91a286ed722bb": {
          "model_module": "@jupyter-widgets/controls",
          "model_module_version": "1.5.0",
          "model_name": "HTMLModel",
          "state": {
            "_dom_classes": [],
            "_model_module": "@jupyter-widgets/controls",
            "_model_module_version": "1.5.0",
            "_model_name": "HTMLModel",
            "_view_count": null,
            "_view_module": "@jupyter-widgets/controls",
            "_view_module_version": "1.5.0",
            "_view_name": "HTMLView",
            "description": "",
            "description_tooltip": null,
            "layout": "IPY_MODEL_644cf56543bb4cd0b4b81dd54cd9c187",
            "placeholder": "​",
            "style": "IPY_MODEL_0efc5a2af18c4032adec6c498cc26f99",
            "value": "Downloading: 100%"
          }
        },
        "948986eff9b64283a84b46a1742000bc": {
          "model_module": "@jupyter-widgets/base",
          "model_module_version": "1.2.0",
          "model_name": "LayoutModel",
          "state": {
            "_model_module": "@jupyter-widgets/base",
            "_model_module_version": "1.2.0",
            "_model_name": "LayoutModel",
            "_view_count": null,
            "_view_module": "@jupyter-widgets/base",
            "_view_module_version": "1.2.0",
            "_view_name": "LayoutView",
            "align_content": null,
            "align_items": null,
            "align_self": null,
            "border": null,
            "bottom": null,
            "display": null,
            "flex": null,
            "flex_flow": null,
            "grid_area": null,
            "grid_auto_columns": null,
            "grid_auto_flow": null,
            "grid_auto_rows": null,
            "grid_column": null,
            "grid_gap": null,
            "grid_row": null,
            "grid_template_areas": null,
            "grid_template_columns": null,
            "grid_template_rows": null,
            "height": null,
            "justify_content": null,
            "justify_items": null,
            "left": null,
            "margin": null,
            "max_height": null,
            "max_width": null,
            "min_height": null,
            "min_width": null,
            "object_fit": null,
            "object_position": null,
            "order": null,
            "overflow": null,
            "overflow_x": null,
            "overflow_y": null,
            "padding": null,
            "right": null,
            "top": null,
            "visibility": null,
            "width": null
          }
        },
        "94f0e9359ed94dd484ff9c3dd884908b": {
          "model_module": "@jupyter-widgets/base",
          "model_module_version": "1.2.0",
          "model_name": "LayoutModel",
          "state": {
            "_model_module": "@jupyter-widgets/base",
            "_model_module_version": "1.2.0",
            "_model_name": "LayoutModel",
            "_view_count": null,
            "_view_module": "@jupyter-widgets/base",
            "_view_module_version": "1.2.0",
            "_view_name": "LayoutView",
            "align_content": null,
            "align_items": null,
            "align_self": null,
            "border": null,
            "bottom": null,
            "display": null,
            "flex": null,
            "flex_flow": null,
            "grid_area": null,
            "grid_auto_columns": null,
            "grid_auto_flow": null,
            "grid_auto_rows": null,
            "grid_column": null,
            "grid_gap": null,
            "grid_row": null,
            "grid_template_areas": null,
            "grid_template_columns": null,
            "grid_template_rows": null,
            "height": null,
            "justify_content": null,
            "justify_items": null,
            "left": null,
            "margin": null,
            "max_height": null,
            "max_width": null,
            "min_height": null,
            "min_width": null,
            "object_fit": null,
            "object_position": null,
            "order": null,
            "overflow": null,
            "overflow_x": null,
            "overflow_y": null,
            "padding": null,
            "right": null,
            "top": null,
            "visibility": null,
            "width": null
          }
        },
        "95165445aa5a483aafd3ea14b4cc97b7": {
          "model_module": "@jupyter-widgets/controls",
          "model_module_version": "1.5.0",
          "model_name": "FloatProgressModel",
          "state": {
            "_dom_classes": [],
            "_model_module": "@jupyter-widgets/controls",
            "_model_module_version": "1.5.0",
            "_model_name": "FloatProgressModel",
            "_view_count": null,
            "_view_module": "@jupyter-widgets/controls",
            "_view_module_version": "1.5.0",
            "_view_name": "ProgressView",
            "bar_style": "",
            "description": "",
            "description_tooltip": null,
            "layout": "IPY_MODEL_26325a157fe3432dbfb9dd943ccd91da",
            "max": 25000,
            "min": 0,
            "orientation": "horizontal",
            "style": "IPY_MODEL_b0e5754fb5a44e0bb05bd5bc43e5b4df",
            "value": 25000
          }
        },
        "958083abc01a4e209d3efe79b3ae1f7b": {
          "model_module": "@jupyter-widgets/controls",
          "model_module_version": "1.5.0",
          "model_name": "DescriptionStyleModel",
          "state": {
            "_model_module": "@jupyter-widgets/controls",
            "_model_module_version": "1.5.0",
            "_model_name": "DescriptionStyleModel",
            "_view_count": null,
            "_view_module": "@jupyter-widgets/base",
            "_view_module_version": "1.2.0",
            "_view_name": "StyleView",
            "description_width": ""
          }
        },
        "9a60c7e081684f3fa9f3426ca4b1bebe": {
          "model_module": "@jupyter-widgets/controls",
          "model_module_version": "1.5.0",
          "model_name": "DescriptionStyleModel",
          "state": {
            "_model_module": "@jupyter-widgets/controls",
            "_model_module_version": "1.5.0",
            "_model_name": "DescriptionStyleModel",
            "_view_count": null,
            "_view_module": "@jupyter-widgets/base",
            "_view_module_version": "1.2.0",
            "_view_name": "StyleView",
            "description_width": ""
          }
        },
        "9a8d3a5e02cd4f918f3a6d4106d32794": {
          "model_module": "@jupyter-widgets/controls",
          "model_module_version": "1.5.0",
          "model_name": "HTMLModel",
          "state": {
            "_dom_classes": [],
            "_model_module": "@jupyter-widgets/controls",
            "_model_module_version": "1.5.0",
            "_model_name": "HTMLModel",
            "_view_count": null,
            "_view_module": "@jupyter-widgets/controls",
            "_view_module_version": "1.5.0",
            "_view_name": "HTMLView",
            "description": "",
            "description_tooltip": null,
            "layout": "IPY_MODEL_9c8179cfe26b401a9f22d71af13599cf",
            "placeholder": "​",
            "style": "IPY_MODEL_741c02194d71413988142d5e57bc6045",
            "value": "100%"
          }
        },
        "9bffd7754f82440593d16f9b255d50c9": {
          "model_module": "@jupyter-widgets/controls",
          "model_module_version": "1.5.0",
          "model_name": "DescriptionStyleModel",
          "state": {
            "_model_module": "@jupyter-widgets/controls",
            "_model_module_version": "1.5.0",
            "_model_name": "DescriptionStyleModel",
            "_view_count": null,
            "_view_module": "@jupyter-widgets/base",
            "_view_module_version": "1.2.0",
            "_view_name": "StyleView",
            "description_width": ""
          }
        },
        "9c8179cfe26b401a9f22d71af13599cf": {
          "model_module": "@jupyter-widgets/base",
          "model_module_version": "1.2.0",
          "model_name": "LayoutModel",
          "state": {
            "_model_module": "@jupyter-widgets/base",
            "_model_module_version": "1.2.0",
            "_model_name": "LayoutModel",
            "_view_count": null,
            "_view_module": "@jupyter-widgets/base",
            "_view_module_version": "1.2.0",
            "_view_name": "LayoutView",
            "align_content": null,
            "align_items": null,
            "align_self": null,
            "border": null,
            "bottom": null,
            "display": null,
            "flex": null,
            "flex_flow": null,
            "grid_area": null,
            "grid_auto_columns": null,
            "grid_auto_flow": null,
            "grid_auto_rows": null,
            "grid_column": null,
            "grid_gap": null,
            "grid_row": null,
            "grid_template_areas": null,
            "grid_template_columns": null,
            "grid_template_rows": null,
            "height": null,
            "justify_content": null,
            "justify_items": null,
            "left": null,
            "margin": null,
            "max_height": null,
            "max_width": null,
            "min_height": null,
            "min_width": null,
            "object_fit": null,
            "object_position": null,
            "order": null,
            "overflow": null,
            "overflow_x": null,
            "overflow_y": null,
            "padding": null,
            "right": null,
            "top": null,
            "visibility": null,
            "width": null
          }
        },
        "9d4f01be3423407890295adf43c904f1": {
          "model_module": "@jupyter-widgets/controls",
          "model_module_version": "1.5.0",
          "model_name": "HTMLModel",
          "state": {
            "_dom_classes": [],
            "_model_module": "@jupyter-widgets/controls",
            "_model_module_version": "1.5.0",
            "_model_name": "HTMLModel",
            "_view_count": null,
            "_view_module": "@jupyter-widgets/controls",
            "_view_module_version": "1.5.0",
            "_view_name": "HTMLView",
            "description": "",
            "description_tooltip": null,
            "layout": "IPY_MODEL_f7020223221948059e08a49f31a4a723",
            "placeholder": "​",
            "style": "IPY_MODEL_8c4f64911314483aa2887187cc2fc78f",
            "value": " 49478/50000 [00:09&lt;00:00, 8123.45 examples/s]"
          }
        },
        "9e0050e97a384ea2a8c15a0010a9ba9f": {
          "model_module": "@jupyter-widgets/controls",
          "model_module_version": "1.5.0",
          "model_name": "ProgressStyleModel",
          "state": {
            "_model_module": "@jupyter-widgets/controls",
            "_model_module_version": "1.5.0",
            "_model_name": "ProgressStyleModel",
            "_view_count": null,
            "_view_module": "@jupyter-widgets/base",
            "_view_module_version": "1.2.0",
            "_view_name": "StyleView",
            "bar_color": null,
            "description_width": ""
          }
        },
        "9e5a3241557e4a2a9c35c6fb80a914c6": {
          "model_module": "@jupyter-widgets/controls",
          "model_module_version": "1.5.0",
          "model_name": "ProgressStyleModel",
          "state": {
            "_model_module": "@jupyter-widgets/controls",
            "_model_module_version": "1.5.0",
            "_model_name": "ProgressStyleModel",
            "_view_count": null,
            "_view_module": "@jupyter-widgets/base",
            "_view_module_version": "1.2.0",
            "_view_name": "StyleView",
            "bar_color": null,
            "description_width": ""
          }
        },
        "a313f77b38a84f8491bda57acdfb0670": {
          "model_module": "@jupyter-widgets/controls",
          "model_module_version": "1.5.0",
          "model_name": "DescriptionStyleModel",
          "state": {
            "_model_module": "@jupyter-widgets/controls",
            "_model_module_version": "1.5.0",
            "_model_name": "DescriptionStyleModel",
            "_view_count": null,
            "_view_module": "@jupyter-widgets/base",
            "_view_module_version": "1.2.0",
            "_view_name": "StyleView",
            "description_width": ""
          }
        },
        "a4b8b21fea4344b59f385f9d3c8c3d8f": {
          "model_module": "@jupyter-widgets/controls",
          "model_module_version": "1.5.0",
          "model_name": "HTMLModel",
          "state": {
            "_dom_classes": [],
            "_model_module": "@jupyter-widgets/controls",
            "_model_module_version": "1.5.0",
            "_model_name": "HTMLModel",
            "_view_count": null,
            "_view_module": "@jupyter-widgets/controls",
            "_view_module_version": "1.5.0",
            "_view_name": "HTMLView",
            "description": "",
            "description_tooltip": null,
            "layout": "IPY_MODEL_bfcaf53496b94afba82ff66742e6b118",
            "placeholder": "​",
            "style": "IPY_MODEL_54d4fd940cc64caaa3041b4ea6e89c23",
            "value": "100%"
          }
        },
        "a55d0edf965d4b5097e38ba366f39a83": {
          "model_module": "@jupyter-widgets/controls",
          "model_module_version": "1.5.0",
          "model_name": "DescriptionStyleModel",
          "state": {
            "_model_module": "@jupyter-widgets/controls",
            "_model_module_version": "1.5.0",
            "_model_name": "DescriptionStyleModel",
            "_view_count": null,
            "_view_module": "@jupyter-widgets/base",
            "_view_module_version": "1.2.0",
            "_view_name": "StyleView",
            "description_width": ""
          }
        },
        "a5f6fff3e7cb451c99aea502178e3fbc": {
          "model_module": "@jupyter-widgets/base",
          "model_module_version": "1.2.0",
          "model_name": "LayoutModel",
          "state": {
            "_model_module": "@jupyter-widgets/base",
            "_model_module_version": "1.2.0",
            "_model_name": "LayoutModel",
            "_view_count": null,
            "_view_module": "@jupyter-widgets/base",
            "_view_module_version": "1.2.0",
            "_view_name": "LayoutView",
            "align_content": null,
            "align_items": null,
            "align_self": null,
            "border": null,
            "bottom": null,
            "display": null,
            "flex": null,
            "flex_flow": null,
            "grid_area": null,
            "grid_auto_columns": null,
            "grid_auto_flow": null,
            "grid_auto_rows": null,
            "grid_column": null,
            "grid_gap": null,
            "grid_row": null,
            "grid_template_areas": null,
            "grid_template_columns": null,
            "grid_template_rows": null,
            "height": null,
            "justify_content": null,
            "justify_items": null,
            "left": null,
            "margin": null,
            "max_height": null,
            "max_width": null,
            "min_height": null,
            "min_width": null,
            "object_fit": null,
            "object_position": null,
            "order": null,
            "overflow": null,
            "overflow_x": null,
            "overflow_y": null,
            "padding": null,
            "right": null,
            "top": null,
            "visibility": null,
            "width": null
          }
        },
        "a7a00b837e104dd7ace7cdcaab584e3e": {
          "model_module": "@jupyter-widgets/base",
          "model_module_version": "1.2.0",
          "model_name": "LayoutModel",
          "state": {
            "_model_module": "@jupyter-widgets/base",
            "_model_module_version": "1.2.0",
            "_model_name": "LayoutModel",
            "_view_count": null,
            "_view_module": "@jupyter-widgets/base",
            "_view_module_version": "1.2.0",
            "_view_name": "LayoutView",
            "align_content": null,
            "align_items": null,
            "align_self": null,
            "border": null,
            "bottom": null,
            "display": null,
            "flex": null,
            "flex_flow": null,
            "grid_area": null,
            "grid_auto_columns": null,
            "grid_auto_flow": null,
            "grid_auto_rows": null,
            "grid_column": null,
            "grid_gap": null,
            "grid_row": null,
            "grid_template_areas": null,
            "grid_template_columns": null,
            "grid_template_rows": null,
            "height": null,
            "justify_content": null,
            "justify_items": null,
            "left": null,
            "margin": null,
            "max_height": null,
            "max_width": null,
            "min_height": null,
            "min_width": null,
            "object_fit": null,
            "object_position": null,
            "order": null,
            "overflow": null,
            "overflow_x": null,
            "overflow_y": null,
            "padding": null,
            "right": null,
            "top": null,
            "visibility": null,
            "width": null
          }
        },
        "a7a231d481aa4b6b83abfcb5d1025b16": {
          "model_module": "@jupyter-widgets/base",
          "model_module_version": "1.2.0",
          "model_name": "LayoutModel",
          "state": {
            "_model_module": "@jupyter-widgets/base",
            "_model_module_version": "1.2.0",
            "_model_name": "LayoutModel",
            "_view_count": null,
            "_view_module": "@jupyter-widgets/base",
            "_view_module_version": "1.2.0",
            "_view_name": "LayoutView",
            "align_content": null,
            "align_items": null,
            "align_self": null,
            "border": null,
            "bottom": null,
            "display": null,
            "flex": null,
            "flex_flow": null,
            "grid_area": null,
            "grid_auto_columns": null,
            "grid_auto_flow": null,
            "grid_auto_rows": null,
            "grid_column": null,
            "grid_gap": null,
            "grid_row": null,
            "grid_template_areas": null,
            "grid_template_columns": null,
            "grid_template_rows": null,
            "height": null,
            "justify_content": null,
            "justify_items": null,
            "left": null,
            "margin": null,
            "max_height": null,
            "max_width": null,
            "min_height": null,
            "min_width": null,
            "object_fit": null,
            "object_position": null,
            "order": null,
            "overflow": null,
            "overflow_x": null,
            "overflow_y": null,
            "padding": null,
            "right": null,
            "top": null,
            "visibility": null,
            "width": null
          }
        },
        "a92d9ec7018042a380a665e80e3b53e2": {
          "model_module": "@jupyter-widgets/base",
          "model_module_version": "1.2.0",
          "model_name": "LayoutModel",
          "state": {
            "_model_module": "@jupyter-widgets/base",
            "_model_module_version": "1.2.0",
            "_model_name": "LayoutModel",
            "_view_count": null,
            "_view_module": "@jupyter-widgets/base",
            "_view_module_version": "1.2.0",
            "_view_name": "LayoutView",
            "align_content": null,
            "align_items": null,
            "align_self": null,
            "border": null,
            "bottom": null,
            "display": null,
            "flex": null,
            "flex_flow": null,
            "grid_area": null,
            "grid_auto_columns": null,
            "grid_auto_flow": null,
            "grid_auto_rows": null,
            "grid_column": null,
            "grid_gap": null,
            "grid_row": null,
            "grid_template_areas": null,
            "grid_template_columns": null,
            "grid_template_rows": null,
            "height": null,
            "justify_content": null,
            "justify_items": null,
            "left": null,
            "margin": null,
            "max_height": null,
            "max_width": null,
            "min_height": null,
            "min_width": null,
            "object_fit": null,
            "object_position": null,
            "order": null,
            "overflow": null,
            "overflow_x": null,
            "overflow_y": null,
            "padding": null,
            "right": null,
            "top": null,
            "visibility": null,
            "width": null
          }
        },
        "a9c2c5e2971b4f1995bc02132cb11561": {
          "model_module": "@jupyter-widgets/base",
          "model_module_version": "1.2.0",
          "model_name": "LayoutModel",
          "state": {
            "_model_module": "@jupyter-widgets/base",
            "_model_module_version": "1.2.0",
            "_model_name": "LayoutModel",
            "_view_count": null,
            "_view_module": "@jupyter-widgets/base",
            "_view_module_version": "1.2.0",
            "_view_name": "LayoutView",
            "align_content": null,
            "align_items": null,
            "align_self": null,
            "border": null,
            "bottom": null,
            "display": null,
            "flex": null,
            "flex_flow": null,
            "grid_area": null,
            "grid_auto_columns": null,
            "grid_auto_flow": null,
            "grid_auto_rows": null,
            "grid_column": null,
            "grid_gap": null,
            "grid_row": null,
            "grid_template_areas": null,
            "grid_template_columns": null,
            "grid_template_rows": null,
            "height": null,
            "justify_content": null,
            "justify_items": null,
            "left": null,
            "margin": null,
            "max_height": null,
            "max_width": null,
            "min_height": null,
            "min_width": null,
            "object_fit": null,
            "object_position": null,
            "order": null,
            "overflow": null,
            "overflow_x": null,
            "overflow_y": null,
            "padding": null,
            "right": null,
            "top": null,
            "visibility": null,
            "width": null
          }
        },
        "ae4e39bc5a504f3185db00176c833396": {
          "model_module": "@jupyter-widgets/controls",
          "model_module_version": "1.5.0",
          "model_name": "ProgressStyleModel",
          "state": {
            "_model_module": "@jupyter-widgets/controls",
            "_model_module_version": "1.5.0",
            "_model_name": "ProgressStyleModel",
            "_view_count": null,
            "_view_module": "@jupyter-widgets/base",
            "_view_module_version": "1.2.0",
            "_view_name": "StyleView",
            "bar_color": null,
            "description_width": ""
          }
        },
        "b0e5754fb5a44e0bb05bd5bc43e5b4df": {
          "model_module": "@jupyter-widgets/controls",
          "model_module_version": "1.5.0",
          "model_name": "ProgressStyleModel",
          "state": {
            "_model_module": "@jupyter-widgets/controls",
            "_model_module_version": "1.5.0",
            "_model_name": "ProgressStyleModel",
            "_view_count": null,
            "_view_module": "@jupyter-widgets/base",
            "_view_module_version": "1.2.0",
            "_view_name": "StyleView",
            "bar_color": null,
            "description_width": ""
          }
        },
        "b43b6647281749ba8315407ee572af47": {
          "model_module": "@jupyter-widgets/controls",
          "model_module_version": "1.5.0",
          "model_name": "FloatProgressModel",
          "state": {
            "_dom_classes": [],
            "_model_module": "@jupyter-widgets/controls",
            "_model_module_version": "1.5.0",
            "_model_name": "FloatProgressModel",
            "_view_count": null,
            "_view_module": "@jupyter-widgets/controls",
            "_view_module_version": "1.5.0",
            "_view_name": "ProgressView",
            "bar_style": "success",
            "description": "",
            "description_tooltip": null,
            "layout": "IPY_MODEL_bb9e62e353a74d2795fbb56e2ac1eb05",
            "max": 28,
            "min": 0,
            "orientation": "horizontal",
            "style": "IPY_MODEL_0ebfbf94e7f34db89a0dcb0dda4a7727",
            "value": 28
          }
        },
        "b5fc601b3e684d288fe62f6bb2cf2f61": {
          "model_module": "@jupyter-widgets/controls",
          "model_module_version": "1.5.0",
          "model_name": "FloatProgressModel",
          "state": {
            "_dom_classes": [],
            "_model_module": "@jupyter-widgets/controls",
            "_model_module_version": "1.5.0",
            "_model_name": "FloatProgressModel",
            "_view_count": null,
            "_view_module": "@jupyter-widgets/controls",
            "_view_module_version": "1.5.0",
            "_view_name": "ProgressView",
            "bar_style": "success",
            "description": "",
            "description_tooltip": null,
            "layout": "IPY_MODEL_cced6e01e39244f2ab0aa3b5507f4688",
            "max": 231508,
            "min": 0,
            "orientation": "horizontal",
            "style": "IPY_MODEL_4e158b0b6b6047b3a2e378151586a010",
            "value": 231508
          }
        },
        "b7f74e68c8044a44823681913f941869": {
          "model_module": "@jupyter-widgets/controls",
          "model_module_version": "1.5.0",
          "model_name": "FloatProgressModel",
          "state": {
            "_dom_classes": [],
            "_model_module": "@jupyter-widgets/controls",
            "_model_module_version": "1.5.0",
            "_model_name": "FloatProgressModel",
            "_view_count": null,
            "_view_module": "@jupyter-widgets/controls",
            "_view_module_version": "1.5.0",
            "_view_name": "ProgressView",
            "bar_style": "success",
            "description": "",
            "description_tooltip": null,
            "layout": "IPY_MODEL_eb4d05f6fb9f41b0a629483c83308b91",
            "max": 84125825,
            "min": 0,
            "orientation": "horizontal",
            "style": "IPY_MODEL_46e6f425820c4f1b90a85e4c0149844c",
            "value": 84125825
          }
        },
        "b8fad8cb84f24beb961c1c881e720363": {
          "model_module": "@jupyter-widgets/base",
          "model_module_version": "1.2.0",
          "model_name": "LayoutModel",
          "state": {
            "_model_module": "@jupyter-widgets/base",
            "_model_module_version": "1.2.0",
            "_model_name": "LayoutModel",
            "_view_count": null,
            "_view_module": "@jupyter-widgets/base",
            "_view_module_version": "1.2.0",
            "_view_name": "LayoutView",
            "align_content": null,
            "align_items": null,
            "align_self": null,
            "border": null,
            "bottom": null,
            "display": null,
            "flex": null,
            "flex_flow": null,
            "grid_area": null,
            "grid_auto_columns": null,
            "grid_auto_flow": null,
            "grid_auto_rows": null,
            "grid_column": null,
            "grid_gap": null,
            "grid_row": null,
            "grid_template_areas": null,
            "grid_template_columns": null,
            "grid_template_rows": null,
            "height": null,
            "justify_content": null,
            "justify_items": null,
            "left": null,
            "margin": null,
            "max_height": null,
            "max_width": null,
            "min_height": null,
            "min_width": null,
            "object_fit": null,
            "object_position": null,
            "order": null,
            "overflow": null,
            "overflow_x": null,
            "overflow_y": null,
            "padding": null,
            "right": null,
            "top": null,
            "visibility": null,
            "width": null
          }
        },
        "b9ae9637386a4d44a837172e4190329e": {
          "model_module": "@jupyter-widgets/base",
          "model_module_version": "1.2.0",
          "model_name": "LayoutModel",
          "state": {
            "_model_module": "@jupyter-widgets/base",
            "_model_module_version": "1.2.0",
            "_model_name": "LayoutModel",
            "_view_count": null,
            "_view_module": "@jupyter-widgets/base",
            "_view_module_version": "1.2.0",
            "_view_name": "LayoutView",
            "align_content": null,
            "align_items": null,
            "align_self": null,
            "border": null,
            "bottom": null,
            "display": null,
            "flex": null,
            "flex_flow": null,
            "grid_area": null,
            "grid_auto_columns": null,
            "grid_auto_flow": null,
            "grid_auto_rows": null,
            "grid_column": null,
            "grid_gap": null,
            "grid_row": null,
            "grid_template_areas": null,
            "grid_template_columns": null,
            "grid_template_rows": null,
            "height": null,
            "justify_content": null,
            "justify_items": null,
            "left": null,
            "margin": null,
            "max_height": null,
            "max_width": null,
            "min_height": null,
            "min_width": null,
            "object_fit": null,
            "object_position": null,
            "order": null,
            "overflow": null,
            "overflow_x": null,
            "overflow_y": null,
            "padding": null,
            "right": null,
            "top": null,
            "visibility": null,
            "width": null
          }
        },
        "bb5e988fec264ad0bbed1912cd0f7179": {
          "model_module": "@jupyter-widgets/base",
          "model_module_version": "1.2.0",
          "model_name": "LayoutModel",
          "state": {
            "_model_module": "@jupyter-widgets/base",
            "_model_module_version": "1.2.0",
            "_model_name": "LayoutModel",
            "_view_count": null,
            "_view_module": "@jupyter-widgets/base",
            "_view_module_version": "1.2.0",
            "_view_name": "LayoutView",
            "align_content": null,
            "align_items": null,
            "align_self": null,
            "border": null,
            "bottom": null,
            "display": null,
            "flex": null,
            "flex_flow": null,
            "grid_area": null,
            "grid_auto_columns": null,
            "grid_auto_flow": null,
            "grid_auto_rows": null,
            "grid_column": null,
            "grid_gap": null,
            "grid_row": null,
            "grid_template_areas": null,
            "grid_template_columns": null,
            "grid_template_rows": null,
            "height": null,
            "justify_content": null,
            "justify_items": null,
            "left": null,
            "margin": null,
            "max_height": null,
            "max_width": null,
            "min_height": null,
            "min_width": null,
            "object_fit": null,
            "object_position": null,
            "order": null,
            "overflow": null,
            "overflow_x": null,
            "overflow_y": null,
            "padding": null,
            "right": null,
            "top": null,
            "visibility": null,
            "width": null
          }
        },
        "bb9e62e353a74d2795fbb56e2ac1eb05": {
          "model_module": "@jupyter-widgets/base",
          "model_module_version": "1.2.0",
          "model_name": "LayoutModel",
          "state": {
            "_model_module": "@jupyter-widgets/base",
            "_model_module_version": "1.2.0",
            "_model_name": "LayoutModel",
            "_view_count": null,
            "_view_module": "@jupyter-widgets/base",
            "_view_module_version": "1.2.0",
            "_view_name": "LayoutView",
            "align_content": null,
            "align_items": null,
            "align_self": null,
            "border": null,
            "bottom": null,
            "display": null,
            "flex": null,
            "flex_flow": null,
            "grid_area": null,
            "grid_auto_columns": null,
            "grid_auto_flow": null,
            "grid_auto_rows": null,
            "grid_column": null,
            "grid_gap": null,
            "grid_row": null,
            "grid_template_areas": null,
            "grid_template_columns": null,
            "grid_template_rows": null,
            "height": null,
            "justify_content": null,
            "justify_items": null,
            "left": null,
            "margin": null,
            "max_height": null,
            "max_width": null,
            "min_height": null,
            "min_width": null,
            "object_fit": null,
            "object_position": null,
            "order": null,
            "overflow": null,
            "overflow_x": null,
            "overflow_y": null,
            "padding": null,
            "right": null,
            "top": null,
            "visibility": null,
            "width": null
          }
        },
        "be24b5d06c8e44d586c209c0d15c0647": {
          "model_module": "@jupyter-widgets/controls",
          "model_module_version": "1.5.0",
          "model_name": "HTMLModel",
          "state": {
            "_dom_classes": [],
            "_model_module": "@jupyter-widgets/controls",
            "_model_module_version": "1.5.0",
            "_model_name": "HTMLModel",
            "_view_count": null,
            "_view_module": "@jupyter-widgets/controls",
            "_view_module_version": "1.5.0",
            "_view_name": "HTMLView",
            "description": "",
            "description_tooltip": null,
            "layout": "IPY_MODEL_8ee13237ff82455a8f231d32153eb4e2",
            "placeholder": "​",
            "style": "IPY_MODEL_1d95dbaf8528400eb581d559e0ed0db2",
            "value": " 1563/1563 [02:19&lt;00:00, 12.08ba/s]"
          }
        },
        "bf8907936f35490987b80b45e772feb1": {
          "model_module": "@jupyter-widgets/controls",
          "model_module_version": "1.5.0",
          "model_name": "DescriptionStyleModel",
          "state": {
            "_model_module": "@jupyter-widgets/controls",
            "_model_module_version": "1.5.0",
            "_model_name": "DescriptionStyleModel",
            "_view_count": null,
            "_view_module": "@jupyter-widgets/base",
            "_view_module_version": "1.2.0",
            "_view_name": "StyleView",
            "description_width": ""
          }
        },
        "bfcaf53496b94afba82ff66742e6b118": {
          "model_module": "@jupyter-widgets/base",
          "model_module_version": "1.2.0",
          "model_name": "LayoutModel",
          "state": {
            "_model_module": "@jupyter-widgets/base",
            "_model_module_version": "1.2.0",
            "_model_name": "LayoutModel",
            "_view_count": null,
            "_view_module": "@jupyter-widgets/base",
            "_view_module_version": "1.2.0",
            "_view_name": "LayoutView",
            "align_content": null,
            "align_items": null,
            "align_self": null,
            "border": null,
            "bottom": null,
            "display": null,
            "flex": null,
            "flex_flow": null,
            "grid_area": null,
            "grid_auto_columns": null,
            "grid_auto_flow": null,
            "grid_auto_rows": null,
            "grid_column": null,
            "grid_gap": null,
            "grid_row": null,
            "grid_template_areas": null,
            "grid_template_columns": null,
            "grid_template_rows": null,
            "height": null,
            "justify_content": null,
            "justify_items": null,
            "left": null,
            "margin": null,
            "max_height": null,
            "max_width": null,
            "min_height": null,
            "min_width": null,
            "object_fit": null,
            "object_position": null,
            "order": null,
            "overflow": null,
            "overflow_x": null,
            "overflow_y": null,
            "padding": null,
            "right": null,
            "top": null,
            "visibility": null,
            "width": null
          }
        },
        "c4e4d9b20f28421889e7c83c5bb9fbba": {
          "model_module": "@jupyter-widgets/controls",
          "model_module_version": "1.5.0",
          "model_name": "FloatProgressModel",
          "state": {
            "_dom_classes": [],
            "_model_module": "@jupyter-widgets/controls",
            "_model_module_version": "1.5.0",
            "_model_name": "FloatProgressModel",
            "_view_count": null,
            "_view_module": "@jupyter-widgets/controls",
            "_view_module_version": "1.5.0",
            "_view_name": "ProgressView",
            "bar_style": "success",
            "description": "",
            "description_tooltip": null,
            "layout": "IPY_MODEL_e8ed85f1e2b8499ba1e8f75e13d03c9d",
            "max": 466062,
            "min": 0,
            "orientation": "horizontal",
            "style": "IPY_MODEL_9e0050e97a384ea2a8c15a0010a9ba9f",
            "value": 466062
          }
        },
        "c999b15b946c469f8f8fb565ecc440c2": {
          "model_module": "@jupyter-widgets/controls",
          "model_module_version": "1.5.0",
          "model_name": "HTMLModel",
          "state": {
            "_dom_classes": [],
            "_model_module": "@jupyter-widgets/controls",
            "_model_module_version": "1.5.0",
            "_model_name": "HTMLModel",
            "_view_count": null,
            "_view_module": "@jupyter-widgets/controls",
            "_view_module_version": "1.5.0",
            "_view_name": "HTMLView",
            "description": "",
            "description_tooltip": null,
            "layout": "IPY_MODEL_50c636f2ff6f4ef2aa71e5cb0a020a95",
            "placeholder": "​",
            "style": "IPY_MODEL_292132fb0e364f06bcf88bfa2a007870",
            "value": " 1563/1563 [02:18&lt;00:00, 12.11ba/s]"
          }
        },
        "cc27977238db42fca576dceacb0e6cda": {
          "model_module": "@jupyter-widgets/controls",
          "model_module_version": "1.5.0",
          "model_name": "HTMLModel",
          "state": {
            "_dom_classes": [],
            "_model_module": "@jupyter-widgets/controls",
            "_model_module_version": "1.5.0",
            "_model_name": "HTMLModel",
            "_view_count": null,
            "_view_module": "@jupyter-widgets/controls",
            "_view_module_version": "1.5.0",
            "_view_name": "HTMLView",
            "description": "",
            "description_tooltip": null,
            "layout": "IPY_MODEL_398e54a497ae441589c5f43822fd5b0d",
            "placeholder": "​",
            "style": "IPY_MODEL_7f50797ebfb64d86aa51f31bd7116a87",
            "value": " 24670/25000 [00:03&lt;00:00, 8690.76 examples/s]"
          }
        },
        "cced6e01e39244f2ab0aa3b5507f4688": {
          "model_module": "@jupyter-widgets/base",
          "model_module_version": "1.2.0",
          "model_name": "LayoutModel",
          "state": {
            "_model_module": "@jupyter-widgets/base",
            "_model_module_version": "1.2.0",
            "_model_name": "LayoutModel",
            "_view_count": null,
            "_view_module": "@jupyter-widgets/base",
            "_view_module_version": "1.2.0",
            "_view_name": "LayoutView",
            "align_content": null,
            "align_items": null,
            "align_self": null,
            "border": null,
            "bottom": null,
            "display": null,
            "flex": null,
            "flex_flow": null,
            "grid_area": null,
            "grid_auto_columns": null,
            "grid_auto_flow": null,
            "grid_auto_rows": null,
            "grid_column": null,
            "grid_gap": null,
            "grid_row": null,
            "grid_template_areas": null,
            "grid_template_columns": null,
            "grid_template_rows": null,
            "height": null,
            "justify_content": null,
            "justify_items": null,
            "left": null,
            "margin": null,
            "max_height": null,
            "max_width": null,
            "min_height": null,
            "min_width": null,
            "object_fit": null,
            "object_position": null,
            "order": null,
            "overflow": null,
            "overflow_x": null,
            "overflow_y": null,
            "padding": null,
            "right": null,
            "top": null,
            "visibility": null,
            "width": null
          }
        },
        "cef716ead6cf46a297b6b231674d2e8b": {
          "model_module": "@jupyter-widgets/controls",
          "model_module_version": "1.5.0",
          "model_name": "DescriptionStyleModel",
          "state": {
            "_model_module": "@jupyter-widgets/controls",
            "_model_module_version": "1.5.0",
            "_model_name": "DescriptionStyleModel",
            "_view_count": null,
            "_view_module": "@jupyter-widgets/base",
            "_view_module_version": "1.2.0",
            "_view_name": "StyleView",
            "description_width": ""
          }
        },
        "cf16d030b0c04d53a57f4f861bc429b8": {
          "model_module": "@jupyter-widgets/controls",
          "model_module_version": "1.5.0",
          "model_name": "DescriptionStyleModel",
          "state": {
            "_model_module": "@jupyter-widgets/controls",
            "_model_module_version": "1.5.0",
            "_model_name": "DescriptionStyleModel",
            "_view_count": null,
            "_view_module": "@jupyter-widgets/base",
            "_view_module_version": "1.2.0",
            "_view_name": "StyleView",
            "description_width": ""
          }
        },
        "d0d8a37d4b904644be1f62a5cc63ae05": {
          "model_module": "@jupyter-widgets/base",
          "model_module_version": "1.2.0",
          "model_name": "LayoutModel",
          "state": {
            "_model_module": "@jupyter-widgets/base",
            "_model_module_version": "1.2.0",
            "_model_name": "LayoutModel",
            "_view_count": null,
            "_view_module": "@jupyter-widgets/base",
            "_view_module_version": "1.2.0",
            "_view_name": "LayoutView",
            "align_content": null,
            "align_items": null,
            "align_self": null,
            "border": null,
            "bottom": null,
            "display": null,
            "flex": null,
            "flex_flow": null,
            "grid_area": null,
            "grid_auto_columns": null,
            "grid_auto_flow": null,
            "grid_auto_rows": null,
            "grid_column": null,
            "grid_gap": null,
            "grid_row": null,
            "grid_template_areas": null,
            "grid_template_columns": null,
            "grid_template_rows": null,
            "height": null,
            "justify_content": null,
            "justify_items": null,
            "left": null,
            "margin": null,
            "max_height": null,
            "max_width": null,
            "min_height": null,
            "min_width": null,
            "object_fit": null,
            "object_position": null,
            "order": null,
            "overflow": null,
            "overflow_x": null,
            "overflow_y": null,
            "padding": null,
            "right": null,
            "top": null,
            "visibility": null,
            "width": null
          }
        },
        "d223c1848aef4b26a45de22863edcc90": {
          "model_module": "@jupyter-widgets/controls",
          "model_module_version": "1.5.0",
          "model_name": "FloatProgressModel",
          "state": {
            "_dom_classes": [],
            "_model_module": "@jupyter-widgets/controls",
            "_model_module_version": "1.5.0",
            "_model_name": "FloatProgressModel",
            "_view_count": null,
            "_view_module": "@jupyter-widgets/controls",
            "_view_module_version": "1.5.0",
            "_view_name": "ProgressView",
            "bar_style": "success",
            "description": "",
            "description_tooltip": null,
            "layout": "IPY_MODEL_dfd9832d298848c7bf2bd09aba7819a8",
            "max": 25,
            "min": 0,
            "orientation": "horizontal",
            "style": "IPY_MODEL_ae4e39bc5a504f3185db00176c833396",
            "value": 25
          }
        },
        "d9ed892ebbe5480a906e4221d2065174": {
          "model_module": "@jupyter-widgets/base",
          "model_module_version": "1.2.0",
          "model_name": "LayoutModel",
          "state": {
            "_model_module": "@jupyter-widgets/base",
            "_model_module_version": "1.2.0",
            "_model_name": "LayoutModel",
            "_view_count": null,
            "_view_module": "@jupyter-widgets/base",
            "_view_module_version": "1.2.0",
            "_view_name": "LayoutView",
            "align_content": null,
            "align_items": null,
            "align_self": null,
            "border": null,
            "bottom": null,
            "display": null,
            "flex": null,
            "flex_flow": null,
            "grid_area": null,
            "grid_auto_columns": null,
            "grid_auto_flow": null,
            "grid_auto_rows": null,
            "grid_column": null,
            "grid_gap": null,
            "grid_row": null,
            "grid_template_areas": null,
            "grid_template_columns": null,
            "grid_template_rows": null,
            "height": null,
            "justify_content": null,
            "justify_items": null,
            "left": null,
            "margin": null,
            "max_height": null,
            "max_width": null,
            "min_height": null,
            "min_width": null,
            "object_fit": null,
            "object_position": null,
            "order": null,
            "overflow": null,
            "overflow_x": null,
            "overflow_y": null,
            "padding": null,
            "right": null,
            "top": null,
            "visibility": null,
            "width": null
          }
        },
        "da83d8f1df844bbf9b99fb2c52880d9a": {
          "model_module": "@jupyter-widgets/controls",
          "model_module_version": "1.5.0",
          "model_name": "DescriptionStyleModel",
          "state": {
            "_model_module": "@jupyter-widgets/controls",
            "_model_module_version": "1.5.0",
            "_model_name": "DescriptionStyleModel",
            "_view_count": null,
            "_view_module": "@jupyter-widgets/base",
            "_view_module_version": "1.2.0",
            "_view_name": "StyleView",
            "description_width": ""
          }
        },
        "da8427d4c09c4e05806fe89a16aca3aa": {
          "model_module": "@jupyter-widgets/controls",
          "model_module_version": "1.5.0",
          "model_name": "HTMLModel",
          "state": {
            "_dom_classes": [],
            "_model_module": "@jupyter-widgets/controls",
            "_model_module_version": "1.5.0",
            "_model_name": "HTMLModel",
            "_view_count": null,
            "_view_module": "@jupyter-widgets/controls",
            "_view_module_version": "1.5.0",
            "_view_name": "HTMLView",
            "description": "",
            "description_tooltip": null,
            "layout": "IPY_MODEL_a92d9ec7018042a380a665e80e3b53e2",
            "placeholder": "​",
            "style": "IPY_MODEL_8baa1c9bbd834ef8835bcccd945e4b5e",
            "value": "Generating test split:  99%"
          }
        },
        "ddad35cfb6594d81b34f62bd9a24a001": {
          "model_module": "@jupyter-widgets/base",
          "model_module_version": "1.2.0",
          "model_name": "LayoutModel",
          "state": {
            "_model_module": "@jupyter-widgets/base",
            "_model_module_version": "1.2.0",
            "_model_name": "LayoutModel",
            "_view_count": null,
            "_view_module": "@jupyter-widgets/base",
            "_view_module_version": "1.2.0",
            "_view_name": "LayoutView",
            "align_content": null,
            "align_items": null,
            "align_self": null,
            "border": null,
            "bottom": null,
            "display": null,
            "flex": null,
            "flex_flow": null,
            "grid_area": null,
            "grid_auto_columns": null,
            "grid_auto_flow": null,
            "grid_auto_rows": null,
            "grid_column": null,
            "grid_gap": null,
            "grid_row": null,
            "grid_template_areas": null,
            "grid_template_columns": null,
            "grid_template_rows": null,
            "height": null,
            "justify_content": null,
            "justify_items": null,
            "left": null,
            "margin": null,
            "max_height": null,
            "max_width": null,
            "min_height": null,
            "min_width": null,
            "object_fit": null,
            "object_position": null,
            "order": null,
            "overflow": null,
            "overflow_x": null,
            "overflow_y": null,
            "padding": null,
            "right": null,
            "top": null,
            "visibility": null,
            "width": null
          }
        },
        "dfcd1b4e208140fa9d712233431ccd90": {
          "model_module": "@jupyter-widgets/controls",
          "model_module_version": "1.5.0",
          "model_name": "HTMLModel",
          "state": {
            "_dom_classes": [],
            "_model_module": "@jupyter-widgets/controls",
            "_model_module_version": "1.5.0",
            "_model_name": "HTMLModel",
            "_view_count": null,
            "_view_module": "@jupyter-widgets/controls",
            "_view_module_version": "1.5.0",
            "_view_name": "HTMLView",
            "description": "",
            "description_tooltip": null,
            "layout": "IPY_MODEL_ec42e2b5bb2648d6ac40055d24098130",
            "placeholder": "​",
            "style": "IPY_MODEL_bf8907936f35490987b80b45e772feb1",
            "value": " 226k/226k [00:00&lt;00:00, 595kB/s]"
          }
        },
        "dfd9832d298848c7bf2bd09aba7819a8": {
          "model_module": "@jupyter-widgets/base",
          "model_module_version": "1.2.0",
          "model_name": "LayoutModel",
          "state": {
            "_model_module": "@jupyter-widgets/base",
            "_model_module_version": "1.2.0",
            "_model_name": "LayoutModel",
            "_view_count": null,
            "_view_module": "@jupyter-widgets/base",
            "_view_module_version": "1.2.0",
            "_view_name": "LayoutView",
            "align_content": null,
            "align_items": null,
            "align_self": null,
            "border": null,
            "bottom": null,
            "display": null,
            "flex": null,
            "flex_flow": null,
            "grid_area": null,
            "grid_auto_columns": null,
            "grid_auto_flow": null,
            "grid_auto_rows": null,
            "grid_column": null,
            "grid_gap": null,
            "grid_row": null,
            "grid_template_areas": null,
            "grid_template_columns": null,
            "grid_template_rows": null,
            "height": null,
            "justify_content": null,
            "justify_items": null,
            "left": null,
            "margin": null,
            "max_height": null,
            "max_width": null,
            "min_height": null,
            "min_width": null,
            "object_fit": null,
            "object_position": null,
            "order": null,
            "overflow": null,
            "overflow_x": null,
            "overflow_y": null,
            "padding": null,
            "right": null,
            "top": null,
            "visibility": null,
            "width": null
          }
        },
        "e225e71ab01e4e68a1316375d65575c2": {
          "model_module": "@jupyter-widgets/controls",
          "model_module_version": "1.5.0",
          "model_name": "HBoxModel",
          "state": {
            "_dom_classes": [],
            "_model_module": "@jupyter-widgets/controls",
            "_model_module_version": "1.5.0",
            "_model_name": "HBoxModel",
            "_view_count": null,
            "_view_module": "@jupyter-widgets/controls",
            "_view_module_version": "1.5.0",
            "_view_name": "HBoxView",
            "box_style": "",
            "children": [
              "IPY_MODEL_1f9d0f1bdf644dceb63dc54d458232b7",
              "IPY_MODEL_b7f74e68c8044a44823681913f941869",
              "IPY_MODEL_4b127a1e88864622897f17b077b163c1"
            ],
            "layout": "IPY_MODEL_701f6429f08c43be9acb442131bad40b"
          }
        },
        "e482db41500147d3afc9b06913ae118d": {
          "model_module": "@jupyter-widgets/base",
          "model_module_version": "1.2.0",
          "model_name": "LayoutModel",
          "state": {
            "_model_module": "@jupyter-widgets/base",
            "_model_module_version": "1.2.0",
            "_model_name": "LayoutModel",
            "_view_count": null,
            "_view_module": "@jupyter-widgets/base",
            "_view_module_version": "1.2.0",
            "_view_name": "LayoutView",
            "align_content": null,
            "align_items": null,
            "align_self": null,
            "border": null,
            "bottom": null,
            "display": null,
            "flex": null,
            "flex_flow": null,
            "grid_area": null,
            "grid_auto_columns": null,
            "grid_auto_flow": null,
            "grid_auto_rows": null,
            "grid_column": null,
            "grid_gap": null,
            "grid_row": null,
            "grid_template_areas": null,
            "grid_template_columns": null,
            "grid_template_rows": null,
            "height": null,
            "justify_content": null,
            "justify_items": null,
            "left": null,
            "margin": null,
            "max_height": null,
            "max_width": null,
            "min_height": null,
            "min_width": null,
            "object_fit": null,
            "object_position": null,
            "order": null,
            "overflow": null,
            "overflow_x": null,
            "overflow_y": null,
            "padding": null,
            "right": null,
            "top": null,
            "visibility": null,
            "width": null
          }
        },
        "e7fad451e3dd44bebc564e46af8e72b6": {
          "model_module": "@jupyter-widgets/base",
          "model_module_version": "1.2.0",
          "model_name": "LayoutModel",
          "state": {
            "_model_module": "@jupyter-widgets/base",
            "_model_module_version": "1.2.0",
            "_model_name": "LayoutModel",
            "_view_count": null,
            "_view_module": "@jupyter-widgets/base",
            "_view_module_version": "1.2.0",
            "_view_name": "LayoutView",
            "align_content": null,
            "align_items": null,
            "align_self": null,
            "border": null,
            "bottom": null,
            "display": null,
            "flex": null,
            "flex_flow": null,
            "grid_area": null,
            "grid_auto_columns": null,
            "grid_auto_flow": null,
            "grid_auto_rows": null,
            "grid_column": null,
            "grid_gap": null,
            "grid_row": null,
            "grid_template_areas": null,
            "grid_template_columns": null,
            "grid_template_rows": null,
            "height": null,
            "justify_content": null,
            "justify_items": null,
            "left": null,
            "margin": null,
            "max_height": null,
            "max_width": null,
            "min_height": null,
            "min_width": null,
            "object_fit": null,
            "object_position": null,
            "order": null,
            "overflow": null,
            "overflow_x": null,
            "overflow_y": null,
            "padding": null,
            "right": null,
            "top": null,
            "visibility": null,
            "width": null
          }
        },
        "e81218dbee274cd1ab75ac05bc915fb6": {
          "model_module": "@jupyter-widgets/controls",
          "model_module_version": "1.5.0",
          "model_name": "HTMLModel",
          "state": {
            "_dom_classes": [],
            "_model_module": "@jupyter-widgets/controls",
            "_model_module_version": "1.5.0",
            "_model_name": "HTMLModel",
            "_view_count": null,
            "_view_module": "@jupyter-widgets/controls",
            "_view_module_version": "1.5.0",
            "_view_name": "HTMLView",
            "description": "",
            "description_tooltip": null,
            "layout": "IPY_MODEL_336aa4c83b8e4425835b53dc9bd58319",
            "placeholder": "​",
            "style": "IPY_MODEL_e99d67cd116340f5ba2b64f485673cef",
            "value": " 4.31k/? [00:00&lt;00:00, 147kB/s]"
          }
        },
        "e85c6bad1303482d94ee43ed6855055d": {
          "model_module": "@jupyter-widgets/controls",
          "model_module_version": "1.5.0",
          "model_name": "DescriptionStyleModel",
          "state": {
            "_model_module": "@jupyter-widgets/controls",
            "_model_module_version": "1.5.0",
            "_model_name": "DescriptionStyleModel",
            "_view_count": null,
            "_view_module": "@jupyter-widgets/base",
            "_view_module_version": "1.2.0",
            "_view_name": "StyleView",
            "description_width": ""
          }
        },
        "e8ed85f1e2b8499ba1e8f75e13d03c9d": {
          "model_module": "@jupyter-widgets/base",
          "model_module_version": "1.2.0",
          "model_name": "LayoutModel",
          "state": {
            "_model_module": "@jupyter-widgets/base",
            "_model_module_version": "1.2.0",
            "_model_name": "LayoutModel",
            "_view_count": null,
            "_view_module": "@jupyter-widgets/base",
            "_view_module_version": "1.2.0",
            "_view_name": "LayoutView",
            "align_content": null,
            "align_items": null,
            "align_self": null,
            "border": null,
            "bottom": null,
            "display": null,
            "flex": null,
            "flex_flow": null,
            "grid_area": null,
            "grid_auto_columns": null,
            "grid_auto_flow": null,
            "grid_auto_rows": null,
            "grid_column": null,
            "grid_gap": null,
            "grid_row": null,
            "grid_template_areas": null,
            "grid_template_columns": null,
            "grid_template_rows": null,
            "height": null,
            "justify_content": null,
            "justify_items": null,
            "left": null,
            "margin": null,
            "max_height": null,
            "max_width": null,
            "min_height": null,
            "min_width": null,
            "object_fit": null,
            "object_position": null,
            "order": null,
            "overflow": null,
            "overflow_x": null,
            "overflow_y": null,
            "padding": null,
            "right": null,
            "top": null,
            "visibility": null,
            "width": null
          }
        },
        "e99d67cd116340f5ba2b64f485673cef": {
          "model_module": "@jupyter-widgets/controls",
          "model_module_version": "1.5.0",
          "model_name": "DescriptionStyleModel",
          "state": {
            "_model_module": "@jupyter-widgets/controls",
            "_model_module_version": "1.5.0",
            "_model_name": "DescriptionStyleModel",
            "_view_count": null,
            "_view_module": "@jupyter-widgets/base",
            "_view_module_version": "1.2.0",
            "_view_name": "StyleView",
            "description_width": ""
          }
        },
        "ea495ca1e6504c6ebe4841d0a5193f4d": {
          "model_module": "@jupyter-widgets/base",
          "model_module_version": "1.2.0",
          "model_name": "LayoutModel",
          "state": {
            "_model_module": "@jupyter-widgets/base",
            "_model_module_version": "1.2.0",
            "_model_name": "LayoutModel",
            "_view_count": null,
            "_view_module": "@jupyter-widgets/base",
            "_view_module_version": "1.2.0",
            "_view_name": "LayoutView",
            "align_content": null,
            "align_items": null,
            "align_self": null,
            "border": null,
            "bottom": null,
            "display": null,
            "flex": null,
            "flex_flow": null,
            "grid_area": null,
            "grid_auto_columns": null,
            "grid_auto_flow": null,
            "grid_auto_rows": null,
            "grid_column": null,
            "grid_gap": null,
            "grid_row": null,
            "grid_template_areas": null,
            "grid_template_columns": null,
            "grid_template_rows": null,
            "height": null,
            "justify_content": null,
            "justify_items": null,
            "left": null,
            "margin": null,
            "max_height": null,
            "max_width": null,
            "min_height": null,
            "min_width": null,
            "object_fit": null,
            "object_position": null,
            "order": null,
            "overflow": null,
            "overflow_x": null,
            "overflow_y": null,
            "padding": null,
            "right": null,
            "top": null,
            "visibility": null,
            "width": null
          }
        },
        "eacaed9927e24e4984aab3a1a92e6b62": {
          "model_module": "@jupyter-widgets/base",
          "model_module_version": "1.2.0",
          "model_name": "LayoutModel",
          "state": {
            "_model_module": "@jupyter-widgets/base",
            "_model_module_version": "1.2.0",
            "_model_name": "LayoutModel",
            "_view_count": null,
            "_view_module": "@jupyter-widgets/base",
            "_view_module_version": "1.2.0",
            "_view_name": "LayoutView",
            "align_content": null,
            "align_items": null,
            "align_self": null,
            "border": null,
            "bottom": null,
            "display": null,
            "flex": null,
            "flex_flow": null,
            "grid_area": null,
            "grid_auto_columns": null,
            "grid_auto_flow": null,
            "grid_auto_rows": null,
            "grid_column": null,
            "grid_gap": null,
            "grid_row": null,
            "grid_template_areas": null,
            "grid_template_columns": null,
            "grid_template_rows": null,
            "height": null,
            "justify_content": null,
            "justify_items": null,
            "left": null,
            "margin": null,
            "max_height": null,
            "max_width": null,
            "min_height": null,
            "min_width": null,
            "object_fit": null,
            "object_position": null,
            "order": null,
            "overflow": null,
            "overflow_x": null,
            "overflow_y": null,
            "padding": null,
            "right": null,
            "top": null,
            "visibility": null,
            "width": null
          }
        },
        "eaeef4ff50c240acbcc1eabeff9d3b4f": {
          "model_module": "@jupyter-widgets/base",
          "model_module_version": "1.2.0",
          "model_name": "LayoutModel",
          "state": {
            "_model_module": "@jupyter-widgets/base",
            "_model_module_version": "1.2.0",
            "_model_name": "LayoutModel",
            "_view_count": null,
            "_view_module": "@jupyter-widgets/base",
            "_view_module_version": "1.2.0",
            "_view_name": "LayoutView",
            "align_content": null,
            "align_items": null,
            "align_self": null,
            "border": null,
            "bottom": null,
            "display": null,
            "flex": null,
            "flex_flow": null,
            "grid_area": null,
            "grid_auto_columns": null,
            "grid_auto_flow": null,
            "grid_auto_rows": null,
            "grid_column": null,
            "grid_gap": null,
            "grid_row": null,
            "grid_template_areas": null,
            "grid_template_columns": null,
            "grid_template_rows": null,
            "height": null,
            "justify_content": null,
            "justify_items": null,
            "left": null,
            "margin": null,
            "max_height": null,
            "max_width": null,
            "min_height": null,
            "min_width": null,
            "object_fit": null,
            "object_position": null,
            "order": null,
            "overflow": null,
            "overflow_x": null,
            "overflow_y": null,
            "padding": null,
            "right": null,
            "top": null,
            "visibility": null,
            "width": null
          }
        },
        "eb4d05f6fb9f41b0a629483c83308b91": {
          "model_module": "@jupyter-widgets/base",
          "model_module_version": "1.2.0",
          "model_name": "LayoutModel",
          "state": {
            "_model_module": "@jupyter-widgets/base",
            "_model_module_version": "1.2.0",
            "_model_name": "LayoutModel",
            "_view_count": null,
            "_view_module": "@jupyter-widgets/base",
            "_view_module_version": "1.2.0",
            "_view_name": "LayoutView",
            "align_content": null,
            "align_items": null,
            "align_self": null,
            "border": null,
            "bottom": null,
            "display": null,
            "flex": null,
            "flex_flow": null,
            "grid_area": null,
            "grid_auto_columns": null,
            "grid_auto_flow": null,
            "grid_auto_rows": null,
            "grid_column": null,
            "grid_gap": null,
            "grid_row": null,
            "grid_template_areas": null,
            "grid_template_columns": null,
            "grid_template_rows": null,
            "height": null,
            "justify_content": null,
            "justify_items": null,
            "left": null,
            "margin": null,
            "max_height": null,
            "max_width": null,
            "min_height": null,
            "min_width": null,
            "object_fit": null,
            "object_position": null,
            "order": null,
            "overflow": null,
            "overflow_x": null,
            "overflow_y": null,
            "padding": null,
            "right": null,
            "top": null,
            "visibility": null,
            "width": null
          }
        },
        "ec42e2b5bb2648d6ac40055d24098130": {
          "model_module": "@jupyter-widgets/base",
          "model_module_version": "1.2.0",
          "model_name": "LayoutModel",
          "state": {
            "_model_module": "@jupyter-widgets/base",
            "_model_module_version": "1.2.0",
            "_model_name": "LayoutModel",
            "_view_count": null,
            "_view_module": "@jupyter-widgets/base",
            "_view_module_version": "1.2.0",
            "_view_name": "LayoutView",
            "align_content": null,
            "align_items": null,
            "align_self": null,
            "border": null,
            "bottom": null,
            "display": null,
            "flex": null,
            "flex_flow": null,
            "grid_area": null,
            "grid_auto_columns": null,
            "grid_auto_flow": null,
            "grid_auto_rows": null,
            "grid_column": null,
            "grid_gap": null,
            "grid_row": null,
            "grid_template_areas": null,
            "grid_template_columns": null,
            "grid_template_rows": null,
            "height": null,
            "justify_content": null,
            "justify_items": null,
            "left": null,
            "margin": null,
            "max_height": null,
            "max_width": null,
            "min_height": null,
            "min_width": null,
            "object_fit": null,
            "object_position": null,
            "order": null,
            "overflow": null,
            "overflow_x": null,
            "overflow_y": null,
            "padding": null,
            "right": null,
            "top": null,
            "visibility": null,
            "width": null
          }
        },
        "ecd6e0e0c42940d380a9abe3df275bb3": {
          "model_module": "@jupyter-widgets/controls",
          "model_module_version": "1.5.0",
          "model_name": "ProgressStyleModel",
          "state": {
            "_model_module": "@jupyter-widgets/controls",
            "_model_module_version": "1.5.0",
            "_model_name": "ProgressStyleModel",
            "_view_count": null,
            "_view_module": "@jupyter-widgets/base",
            "_view_module_version": "1.2.0",
            "_view_name": "StyleView",
            "bar_color": null,
            "description_width": ""
          }
        },
        "ecf5857fad1d48da94ed5a75ce4dee15": {
          "model_module": "@jupyter-widgets/controls",
          "model_module_version": "1.5.0",
          "model_name": "FloatProgressModel",
          "state": {
            "_dom_classes": [],
            "_model_module": "@jupyter-widgets/controls",
            "_model_module_version": "1.5.0",
            "_model_name": "FloatProgressModel",
            "_view_count": null,
            "_view_module": "@jupyter-widgets/controls",
            "_view_module_version": "1.5.0",
            "_view_name": "ProgressView",
            "bar_style": "",
            "description": "",
            "description_tooltip": null,
            "layout": "IPY_MODEL_b8fad8cb84f24beb961c1c881e720363",
            "max": 50000,
            "min": 0,
            "orientation": "horizontal",
            "style": "IPY_MODEL_ecd6e0e0c42940d380a9abe3df275bb3",
            "value": 50000
          }
        },
        "f7020223221948059e08a49f31a4a723": {
          "model_module": "@jupyter-widgets/base",
          "model_module_version": "1.2.0",
          "model_name": "LayoutModel",
          "state": {
            "_model_module": "@jupyter-widgets/base",
            "_model_module_version": "1.2.0",
            "_model_name": "LayoutModel",
            "_view_count": null,
            "_view_module": "@jupyter-widgets/base",
            "_view_module_version": "1.2.0",
            "_view_name": "LayoutView",
            "align_content": null,
            "align_items": null,
            "align_self": null,
            "border": null,
            "bottom": null,
            "display": null,
            "flex": null,
            "flex_flow": null,
            "grid_area": null,
            "grid_auto_columns": null,
            "grid_auto_flow": null,
            "grid_auto_rows": null,
            "grid_column": null,
            "grid_gap": null,
            "grid_row": null,
            "grid_template_areas": null,
            "grid_template_columns": null,
            "grid_template_rows": null,
            "height": null,
            "justify_content": null,
            "justify_items": null,
            "left": null,
            "margin": null,
            "max_height": null,
            "max_width": null,
            "min_height": null,
            "min_width": null,
            "object_fit": null,
            "object_position": null,
            "order": null,
            "overflow": null,
            "overflow_x": null,
            "overflow_y": null,
            "padding": null,
            "right": null,
            "top": null,
            "visibility": null,
            "width": null
          }
        },
        "f84f7cf06d4d43be91f66345a2f41f27": {
          "model_module": "@jupyter-widgets/base",
          "model_module_version": "1.2.0",
          "model_name": "LayoutModel",
          "state": {
            "_model_module": "@jupyter-widgets/base",
            "_model_module_version": "1.2.0",
            "_model_name": "LayoutModel",
            "_view_count": null,
            "_view_module": "@jupyter-widgets/base",
            "_view_module_version": "1.2.0",
            "_view_name": "LayoutView",
            "align_content": null,
            "align_items": null,
            "align_self": null,
            "border": null,
            "bottom": null,
            "display": null,
            "flex": null,
            "flex_flow": null,
            "grid_area": null,
            "grid_auto_columns": null,
            "grid_auto_flow": null,
            "grid_auto_rows": null,
            "grid_column": null,
            "grid_gap": null,
            "grid_row": null,
            "grid_template_areas": null,
            "grid_template_columns": null,
            "grid_template_rows": null,
            "height": null,
            "justify_content": null,
            "justify_items": null,
            "left": null,
            "margin": null,
            "max_height": null,
            "max_width": null,
            "min_height": null,
            "min_width": null,
            "object_fit": null,
            "object_position": null,
            "order": null,
            "overflow": null,
            "overflow_x": null,
            "overflow_y": null,
            "padding": null,
            "right": null,
            "top": null,
            "visibility": null,
            "width": null
          }
        },
        "fc8ae0ef2c4943cfb59d794bd9d79472": {
          "model_module": "@jupyter-widgets/controls",
          "model_module_version": "1.5.0",
          "model_name": "HTMLModel",
          "state": {
            "_dom_classes": [],
            "_model_module": "@jupyter-widgets/controls",
            "_model_module_version": "1.5.0",
            "_model_name": "HTMLModel",
            "_view_count": null,
            "_view_module": "@jupyter-widgets/controls",
            "_view_module_version": "1.5.0",
            "_view_name": "HTMLView",
            "description": "",
            "description_tooltip": null,
            "layout": "IPY_MODEL_bb5e988fec264ad0bbed1912cd0f7179",
            "placeholder": "​",
            "style": "IPY_MODEL_cf16d030b0c04d53a57f4f861bc429b8",
            "value": " 2.17k/? [00:00&lt;00:00, 76.8kB/s]"
          }
        }
      }
    }
  },
  "nbformat": 4,
  "nbformat_minor": 0
}
