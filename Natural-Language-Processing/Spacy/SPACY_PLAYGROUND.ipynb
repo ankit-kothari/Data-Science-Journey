{
  "nbformat": 4,
  "nbformat_minor": 0,
  "metadata": {
    "kernelspec": {
      "name": "python3",
      "display_name": "Python 3"
    },
    "language_info": {
      "codemirror_mode": {
        "name": "ipython",
        "version": 3
      },
      "file_extension": ".py",
      "mimetype": "text/x-python",
      "name": "python",
      "nbconvert_exporter": "python",
      "pygments_lexer": "ipython3",
      "version": "3.7.3"
    },
    "colab": {
      "name": "SPACY_PLAYGROUND.ipynb",
      "provenance": [],
      "collapsed_sections": [],
      "include_colab_link": true
    }
  },
  "cells": [
    {
      "cell_type": "markdown",
      "metadata": {
        "id": "view-in-github",
        "colab_type": "text"
      },
      "source": [
        "<a href=\"https://colab.research.google.com/github/ankit-kothari/spacy_playground/blob/master/SPACY_PLAYGROUND.ipynb\" target=\"_parent\"><img src=\"https://colab.research.google.com/assets/colab-badge.svg\" alt=\"Open In Colab\"/></a>"
      ]
    },
    {
      "cell_type": "code",
      "metadata": {
        "id": "5LqNGIApi3pd",
        "colab_type": "code",
        "colab": {}
      },
      "source": [
        "##GENERAL\n",
        "import pandas as pd\n",
        "import matplotlib.pyplot as plt\n",
        "import numpy as np\n",
        "import random\n",
        "from collections import Counter\n",
        "import csv\n",
        "import re\n",
        "\n",
        "##SPACY\n",
        "import spacy\n",
        "nlp = spacy.load('en_core_web_sm')\n",
        "#nlp = spacy.load('en_core_web_md')\n",
        "#nlp = spacy.load('en_core_web_lg')\n",
        "from spacy.matcher import Matcher\n",
        "from spacy.matcher import PhraseMatcher\n",
        "from spacy.tokens import Span\n",
        "from spacy.pipeline import SentenceSegmenter\n",
        "from spacy import displacy\n",
        "\n",
        "##NLTK\n",
        "import nltk\n",
        "from nltk.stem.porter import *\n",
        "from nltk.stem.snowball import SnowballStemmer\n",
        "\n",
        "##SKLEARN\n",
        "from sklearn.model_selection import train_test_split\n",
        "from sklearn.pipeline import Pipeline\n",
        "from sklearn.feature_extraction.text import CountVectorizer\n",
        "from sklearn.feature_extraction.text import TfidfVectorizer\n",
        "from sklearn.svm import LinearSVC\n",
        "from sklearn.decomposition import LatentDirichletAllocation\n",
        "from sklearn.decomposition import NMF\n",
        "\n"
      ],
      "execution_count": null,
      "outputs": []
    },
    {
      "cell_type": "markdown",
      "metadata": {
        "id": "43M0Ke6V3hJW",
        "colab_type": "text"
      },
      "source": [
        "# Data Preprocessing and Exploration"
      ]
    },
    {
      "cell_type": "markdown",
      "metadata": {
        "id": "VHOsx8bwy-rW",
        "colab_type": "text"
      },
      "source": [
        "###Documentation"
      ]
    },
    {
      "cell_type": "code",
      "metadata": {
        "id": "ldzAf403i3pf",
        "colab_type": "code",
        "colab": {}
      },
      "source": [
        "###Annotations: https://spacy.io/api/annotation\n",
        "### Visualization: https://spacy.io/usage/visualizers\n",
        "### Named EntitY Recog https://spacy.io/usage/linguistic-features#named-entities\n",
        "#### https://spacy.io/api/annotation#dependency-parsing"
      ],
      "execution_count": null,
      "outputs": []
    },
    {
      "cell_type": "code",
      "metadata": {
        "id": "iPWrRqXoi3ph",
        "colab_type": "code",
        "colab": {
          "base_uri": "https://localhost:8080/",
          "height": 122
        },
        "outputId": "a8e87e98-6630-415a-873d-caaccd5c179b"
      },
      "source": [
        "from google.colab import drive\n",
        "drive.mount('/content/drive')"
      ],
      "execution_count": null,
      "outputs": [
        {
          "output_type": "stream",
          "text": [
            "Go to this URL in a browser: https://accounts.google.com/o/oauth2/auth?client_id=947318989803-6bn6qk8qdgf4n4g3pfee6491hc0brc4i.apps.googleusercontent.com&redirect_uri=urn%3aietf%3awg%3aoauth%3a2.0%3aoob&response_type=code&scope=email%20https%3a%2f%2fwww.googleapis.com%2fauth%2fdocs.test%20https%3a%2f%2fwww.googleapis.com%2fauth%2fdrive%20https%3a%2f%2fwww.googleapis.com%2fauth%2fdrive.photos.readonly%20https%3a%2f%2fwww.googleapis.com%2fauth%2fpeopleapi.readonly\n",
            "\n",
            "Enter your authorization code:\n",
            "··········\n",
            "Mounted at /content/drive\n"
          ],
          "name": "stdout"
        }
      ]
    },
    {
      "cell_type": "markdown",
      "metadata": {
        "id": "hsFgeeCX2zvQ",
        "colab_type": "text"
      },
      "source": [
        "###Loading the Data"
      ]
    },
    {
      "cell_type": "code",
      "metadata": {
        "id": "A7A4FMEoi3pk",
        "colab_type": "code",
        "colab": {
          "base_uri": "https://localhost:8080/",
          "height": 306
        },
        "outputId": "5388db5f-2301-4b2a-dcd3-c38a70c9d672"
      },
      "source": [
        "data = pd.read_csv('/content/drive/My Drive/data/Womens Clothing E-Commerce Reviews 2.csv')\n",
        "data.head()"
      ],
      "execution_count": null,
      "outputs": [
        {
          "output_type": "execute_result",
          "data": {
            "text/html": [
              "<div>\n",
              "<style scoped>\n",
              "    .dataframe tbody tr th:only-of-type {\n",
              "        vertical-align: middle;\n",
              "    }\n",
              "\n",
              "    .dataframe tbody tr th {\n",
              "        vertical-align: top;\n",
              "    }\n",
              "\n",
              "    .dataframe thead th {\n",
              "        text-align: right;\n",
              "    }\n",
              "</style>\n",
              "<table border=\"1\" class=\"dataframe\">\n",
              "  <thead>\n",
              "    <tr style=\"text-align: right;\">\n",
              "      <th></th>\n",
              "      <th>Unnamed: 0</th>\n",
              "      <th>Clothing ID</th>\n",
              "      <th>Age</th>\n",
              "      <th>Title</th>\n",
              "      <th>Review Text</th>\n",
              "      <th>Rating</th>\n",
              "      <th>Recommended IND</th>\n",
              "      <th>Positive Feedback Count</th>\n",
              "      <th>Division Name</th>\n",
              "      <th>Department Name</th>\n",
              "      <th>Class Name</th>\n",
              "    </tr>\n",
              "  </thead>\n",
              "  <tbody>\n",
              "    <tr>\n",
              "      <th>0</th>\n",
              "      <td>0</td>\n",
              "      <td>767</td>\n",
              "      <td>33</td>\n",
              "      <td>NaN</td>\n",
              "      <td>Absolutely wonderful - silky and sexy and comf...</td>\n",
              "      <td>4</td>\n",
              "      <td>1</td>\n",
              "      <td>0</td>\n",
              "      <td>Initmates</td>\n",
              "      <td>Intimate</td>\n",
              "      <td>Intimates</td>\n",
              "    </tr>\n",
              "    <tr>\n",
              "      <th>1</th>\n",
              "      <td>1</td>\n",
              "      <td>1080</td>\n",
              "      <td>34</td>\n",
              "      <td>NaN</td>\n",
              "      <td>Love this dress!  it's sooo pretty.  i happene...</td>\n",
              "      <td>5</td>\n",
              "      <td>1</td>\n",
              "      <td>4</td>\n",
              "      <td>General</td>\n",
              "      <td>Dresses</td>\n",
              "      <td>Dresses</td>\n",
              "    </tr>\n",
              "    <tr>\n",
              "      <th>2</th>\n",
              "      <td>2</td>\n",
              "      <td>1077</td>\n",
              "      <td>60</td>\n",
              "      <td>Some major design flaws</td>\n",
              "      <td>I had such high hopes for this dress and reall...</td>\n",
              "      <td>3</td>\n",
              "      <td>0</td>\n",
              "      <td>0</td>\n",
              "      <td>General</td>\n",
              "      <td>Dresses</td>\n",
              "      <td>Dresses</td>\n",
              "    </tr>\n",
              "    <tr>\n",
              "      <th>3</th>\n",
              "      <td>3</td>\n",
              "      <td>1049</td>\n",
              "      <td>50</td>\n",
              "      <td>My favorite buy!</td>\n",
              "      <td>I love, love, love this jumpsuit. it's fun, fl...</td>\n",
              "      <td>5</td>\n",
              "      <td>1</td>\n",
              "      <td>0</td>\n",
              "      <td>General Petite</td>\n",
              "      <td>Bottoms</td>\n",
              "      <td>Pants</td>\n",
              "    </tr>\n",
              "    <tr>\n",
              "      <th>4</th>\n",
              "      <td>4</td>\n",
              "      <td>847</td>\n",
              "      <td>47</td>\n",
              "      <td>Flattering shirt</td>\n",
              "      <td>This shirt is very flattering to all due to th...</td>\n",
              "      <td>5</td>\n",
              "      <td>1</td>\n",
              "      <td>6</td>\n",
              "      <td>General</td>\n",
              "      <td>Tops</td>\n",
              "      <td>Blouses</td>\n",
              "    </tr>\n",
              "  </tbody>\n",
              "</table>\n",
              "</div>"
            ],
            "text/plain": [
              "   Unnamed: 0  Clothing ID  Age  ...   Division Name Department Name  Class Name\n",
              "0           0          767   33  ...       Initmates        Intimate   Intimates\n",
              "1           1         1080   34  ...         General         Dresses     Dresses\n",
              "2           2         1077   60  ...         General         Dresses     Dresses\n",
              "3           3         1049   50  ...  General Petite         Bottoms       Pants\n",
              "4           4          847   47  ...         General            Tops     Blouses\n",
              "\n",
              "[5 rows x 11 columns]"
            ]
          },
          "metadata": {
            "tags": []
          },
          "execution_count": 4
        }
      ]
    },
    {
      "cell_type": "markdown",
      "metadata": {
        "id": "GndBKD1f6_XD",
        "colab_type": "text"
      },
      "source": [
        "1. Identifying the maximum number of reviews by Class Name \n",
        "2. Identifying the Clothing ID whihc has the maximum Reviews for the "
      ]
    },
    {
      "cell_type": "markdown",
      "metadata": {
        "id": "VvqZZGch9ZnQ",
        "colab_type": "text"
      },
      "source": [
        "###Data Exploration"
      ]
    },
    {
      "cell_type": "code",
      "metadata": {
        "id": "msIlZZLH7ac0",
        "colab_type": "code",
        "colab": {
          "base_uri": "https://localhost:8080/",
          "height": 119
        },
        "outputId": "9c65e823-73e4-440f-8b8c-597b3607e965"
      },
      "source": [
        "data['Class Name'].value_counts()[0:5]"
      ],
      "execution_count": null,
      "outputs": [
        {
          "output_type": "execute_result",
          "data": {
            "text/plain": [
              "Dresses     6319\n",
              "Knits       4843\n",
              "Blouses     3097\n",
              "Sweaters    1428\n",
              "Pants       1388\n",
              "Name: Class Name, dtype: int64"
            ]
          },
          "metadata": {
            "tags": []
          },
          "execution_count": 5
        }
      ]
    },
    {
      "cell_type": "code",
      "metadata": {
        "id": "9uHaoApp7kPI",
        "colab_type": "code",
        "colab": {
          "base_uri": "https://localhost:8080/",
          "height": 119
        },
        "outputId": "5161260c-a0c5-44f4-f291-e60c58c58332"
      },
      "source": [
        "data_dress = data[(data['Class Name']=='Dresses')]\n",
        "data_dress['Clothing ID'].value_counts()[0:5]"
      ],
      "execution_count": null,
      "outputs": [
        {
          "output_type": "execute_result",
          "data": {
            "text/plain": [
              "1078    1024\n",
              "1094     756\n",
              "1081     582\n",
              "1110     480\n",
              "1095     327\n",
              "Name: Clothing ID, dtype: int64"
            ]
          },
          "metadata": {
            "tags": []
          },
          "execution_count": 6
        }
      ]
    },
    {
      "cell_type": "markdown",
      "metadata": {
        "id": "QYuVhvDl7Z-_",
        "colab_type": "text"
      },
      "source": [
        "1. Filtering the data with the Class Name which has the maximum reviews **DRESSS**\n",
        "2. Filtering the data with Clothing ID **1078** which has the maximum reviews for Class Name **DRESS**"
      ]
    },
    {
      "cell_type": "markdown",
      "metadata": {
        "id": "SnBF3RVU3H8j",
        "colab_type": "text"
      },
      "source": [
        "###Filtering the data "
      ]
    },
    {
      "cell_type": "code",
      "metadata": {
        "id": "FEw7X3kfi3pp",
        "colab_type": "code",
        "colab": {}
      },
      "source": [
        "data_dress = data[(data['Class Name']=='Dresses') & (data['Clothing ID']==1078)]"
      ],
      "execution_count": null,
      "outputs": []
    },
    {
      "cell_type": "code",
      "metadata": {
        "id": "JTIir5Q2i3pt",
        "colab_type": "code",
        "colab": {
          "base_uri": "https://localhost:8080/",
          "height": 306
        },
        "outputId": "8e76c750-0230-487f-a89e-1c4cff08bb2d"
      },
      "source": [
        "data_dress.head()"
      ],
      "execution_count": null,
      "outputs": [
        {
          "output_type": "execute_result",
          "data": {
            "text/html": [
              "<div>\n",
              "<style scoped>\n",
              "    .dataframe tbody tr th:only-of-type {\n",
              "        vertical-align: middle;\n",
              "    }\n",
              "\n",
              "    .dataframe tbody tr th {\n",
              "        vertical-align: top;\n",
              "    }\n",
              "\n",
              "    .dataframe thead th {\n",
              "        text-align: right;\n",
              "    }\n",
              "</style>\n",
              "<table border=\"1\" class=\"dataframe\">\n",
              "  <thead>\n",
              "    <tr style=\"text-align: right;\">\n",
              "      <th></th>\n",
              "      <th>Unnamed: 0</th>\n",
              "      <th>Clothing ID</th>\n",
              "      <th>Age</th>\n",
              "      <th>Title</th>\n",
              "      <th>Review Text</th>\n",
              "      <th>Rating</th>\n",
              "      <th>Recommended IND</th>\n",
              "      <th>Positive Feedback Count</th>\n",
              "      <th>Division Name</th>\n",
              "      <th>Department Name</th>\n",
              "      <th>Class Name</th>\n",
              "    </tr>\n",
              "  </thead>\n",
              "  <tbody>\n",
              "    <tr>\n",
              "      <th>69</th>\n",
              "      <td>69</td>\n",
              "      <td>1078</td>\n",
              "      <td>56</td>\n",
              "      <td>Great summer fabric!</td>\n",
              "      <td>I really wanted this to work. alas, it had a s...</td>\n",
              "      <td>3</td>\n",
              "      <td>0</td>\n",
              "      <td>1</td>\n",
              "      <td>General Petite</td>\n",
              "      <td>Dresses</td>\n",
              "      <td>Dresses</td>\n",
              "    </tr>\n",
              "    <tr>\n",
              "      <th>90</th>\n",
              "      <td>90</td>\n",
              "      <td>1078</td>\n",
              "      <td>51</td>\n",
              "      <td>Sweet flattering dress</td>\n",
              "      <td>I love cute summer dresses and this one, espec...</td>\n",
              "      <td>4</td>\n",
              "      <td>1</td>\n",
              "      <td>0</td>\n",
              "      <td>General Petite</td>\n",
              "      <td>Dresses</td>\n",
              "      <td>Dresses</td>\n",
              "    </tr>\n",
              "    <tr>\n",
              "      <th>117</th>\n",
              "      <td>117</td>\n",
              "      <td>1078</td>\n",
              "      <td>32</td>\n",
              "      <td>NaN</td>\n",
              "      <td>This is the perfect summer dress. it can be dr...</td>\n",
              "      <td>5</td>\n",
              "      <td>1</td>\n",
              "      <td>2</td>\n",
              "      <td>General Petite</td>\n",
              "      <td>Dresses</td>\n",
              "      <td>Dresses</td>\n",
              "    </tr>\n",
              "    <tr>\n",
              "      <th>467</th>\n",
              "      <td>467</td>\n",
              "      <td>1078</td>\n",
              "      <td>61</td>\n",
              "      <td>Great sweater dress!</td>\n",
              "      <td>Nice fit and flare style, not clingy at all. i...</td>\n",
              "      <td>5</td>\n",
              "      <td>1</td>\n",
              "      <td>1</td>\n",
              "      <td>General</td>\n",
              "      <td>Dresses</td>\n",
              "      <td>Dresses</td>\n",
              "    </tr>\n",
              "    <tr>\n",
              "      <th>470</th>\n",
              "      <td>470</td>\n",
              "      <td>1078</td>\n",
              "      <td>33</td>\n",
              "      <td>Cute, but cheap</td>\n",
              "      <td>When i first opened this dress and tried it on...</td>\n",
              "      <td>3</td>\n",
              "      <td>0</td>\n",
              "      <td>0</td>\n",
              "      <td>General</td>\n",
              "      <td>Dresses</td>\n",
              "      <td>Dresses</td>\n",
              "    </tr>\n",
              "  </tbody>\n",
              "</table>\n",
              "</div>"
            ],
            "text/plain": [
              "     Unnamed: 0  Clothing ID  Age  ...   Division Name Department Name  Class Name\n",
              "69           69         1078   56  ...  General Petite         Dresses     Dresses\n",
              "90           90         1078   51  ...  General Petite         Dresses     Dresses\n",
              "117         117         1078   32  ...  General Petite         Dresses     Dresses\n",
              "467         467         1078   61  ...         General         Dresses     Dresses\n",
              "470         470         1078   33  ...         General         Dresses     Dresses\n",
              "\n",
              "[5 rows x 11 columns]"
            ]
          },
          "metadata": {
            "tags": []
          },
          "execution_count": 8
        }
      ]
    },
    {
      "cell_type": "markdown",
      "metadata": {
        "id": "mOE11vzJ_c9S",
        "colab_type": "text"
      },
      "source": [
        "###ANALYZING THE REVIEWS FOR **DRESSES** AND CLOTHING ID **1078**"
      ]
    },
    {
      "cell_type": "markdown",
      "metadata": {
        "id": "gp3UhjlV_uok",
        "colab_type": "text"
      },
      "source": [
        "1. Converting Reviews into Spacy Object"
      ]
    },
    {
      "cell_type": "code",
      "metadata": {
        "id": "Oe7aJQmIi3pv",
        "colab_type": "code",
        "colab": {
          "base_uri": "https://localhost:8080/",
          "height": 190
        },
        "outputId": "233704ed-f30a-49f5-9b01-595140bf1fe9"
      },
      "source": [
        "#for i in data_dress['Review Text']:\n",
        "    #print(i)   \n",
        "##print(\".\".join(data_dress['Review Text']))\n",
        "dress_review=data_dress['Review Text'].str.cat(sep='\\n')\n",
        "doc = nlp(dress_review)\n",
        "doc[1200:1600]"
      ],
      "execution_count": null,
      "outputs": [
        {
          "output_type": "execute_result",
          "data": {
            "text/plain": [
              "skirt.\n",
              "\n",
              "love it! will be easy to wear casually and work appropriate, too. the sale price was a huge bonus.\n",
              "I love this dress because its very playful and bouncy. it puts me in a light hearted mood when i wear it. i originally wanted to buy the grey color but my store only had the navy, so i tried it on. the navy is brighter and more colorful than it looks on line and the stripes are more varied in color than in the picture - so its quite appealing and vibrant. the lines of the dress are also quite flattering. all in all, its a fun dress!\n",
              "This dress is comfortable as well as flattering, which does not happen very often!\n",
              "looks good with navy tights too!\n",
              "Based on some reviews i decided to get the regular xs, even tho i am an xs petite (5'2, 107 lb, 32c) i found the fit to be flattering -- fitted enough but not too loose or tight. the length is perfect and work appropriate, and the material has some weight to it. the grey one is colorful and cute. the only problem is the bagginess of the arms -- very unflattering. if i push the sleeves up, it hides the bagginess a little, but i would like to have the option to wear the dress with long sleeves., s\n",
              "I went to my local store and they only had the blue dress in stock, i had seen it online and i didn't expect to like the blue one. i tried it on anyway, and it was adorable! i struggled to choose, but i ordered the gray one at the store and they shipped it directly to me. it arrived quickly and i love it!\n",
              "I thought that it looked like it belonged on a 15 year-old. i can almost see why they styled the model in what looks like ankle socks....ready for cheerleading. for reference it fits true to size, but is very short. i am 5'2\" and tried on a regular small - it was"
            ]
          },
          "metadata": {
            "tags": []
          },
          "execution_count": 9
        }
      ]
    },
    {
      "cell_type": "markdown",
      "metadata": {
        "id": "fqBOWoLgAPFR",
        "colab_type": "text"
      },
      "source": [
        "2. UNDERSTANDING THE SENTENCE STRUCTURE"
      ]
    },
    {
      "cell_type": "code",
      "metadata": {
        "id": "6pua66Sui3p0",
        "colab_type": "code",
        "colab": {
          "base_uri": "https://localhost:8080/",
          "height": 187
        },
        "outputId": "9318f30e-11db-4e9f-c5e2-580e1a211d77"
      },
      "source": [
        "for token in doc[0:10]:\n",
        "    print(f'{token.text:{10}} {token.lemma_:{10}} {token.pos_:{6}} {token.dep_:{12}} {spacy.explain(token.tag_)}')"
      ],
      "execution_count": null,
      "outputs": [
        {
          "output_type": "stream",
          "text": [
            "I          -PRON-     PRON   nsubj        pronoun, personal\n",
            "really     really     ADV    advmod       adverb\n",
            "wanted     want       VERB   ROOT         verb, past tense\n",
            "this       this       DET    nsubj        determiner\n",
            "to         to         PART   aux          infinitival \"to\"\n",
            "work       work       VERB   ccomp        verb, base form\n",
            ".          .          PUNCT  punct        punctuation mark, sentence closer\n",
            "alas       alas       INTJ   intj         interjection\n",
            ",          ,          PUNCT  punct        punctuation mark, comma\n",
            "it         -PRON-     PRON   nsubj        pronoun, personal\n"
          ],
          "name": "stdout"
        }
      ]
    },
    {
      "cell_type": "markdown",
      "metadata": {
        "id": "4L_D3wg2Ae0u",
        "colab_type": "text"
      },
      "source": [
        "3. CONTENTS OF A NLP PIPELINE IN SPACY"
      ]
    },
    {
      "cell_type": "code",
      "metadata": {
        "id": "BYkFXV17i3p4",
        "colab_type": "code",
        "colab": {
          "base_uri": "https://localhost:8080/",
          "height": 68
        },
        "outputId": "0ec64d8c-bbab-4f0f-fa33-ac56ea684146"
      },
      "source": [
        "nlp.pipeline"
      ],
      "execution_count": null,
      "outputs": [
        {
          "output_type": "execute_result",
          "data": {
            "text/plain": [
              "[('tagger', <spacy.pipeline.pipes.Tagger at 0x7efe0806dfd0>),\n",
              " ('parser', <spacy.pipeline.pipes.DependencyParser at 0x7efe07ec6708>),\n",
              " ('ner', <spacy.pipeline.pipes.EntityRecognizer at 0x7efe07ec6768>)]"
            ]
          },
          "metadata": {
            "tags": []
          },
          "execution_count": 11
        }
      ]
    },
    {
      "cell_type": "markdown",
      "metadata": {
        "id": "bv9ezlxuBfTw",
        "colab_type": "text"
      },
      "source": [
        "4. BREAKING THE CONTENTS BY SPAN AND SENTENCE METHODS"
      ]
    },
    {
      "cell_type": "code",
      "metadata": {
        "id": "ccXuqy3Bi3p6",
        "colab_type": "code",
        "colab": {
          "base_uri": "https://localhost:8080/",
          "height": 51
        },
        "outputId": "0ae47fbb-e037-4740-9842-2a4b8b52684b"
      },
      "source": [
        "dress_span = doc[0:20]\n",
        "print(dress_span)\n",
        "print(type(dress_span))"
      ],
      "execution_count": null,
      "outputs": [
        {
          "output_type": "stream",
          "text": [
            "I really wanted this to work. alas, it had a strange fit for me. the straps would\n",
            "<class 'spacy.tokens.span.Span'>\n"
          ],
          "name": "stdout"
        }
      ]
    },
    {
      "cell_type": "code",
      "metadata": {
        "id": "1YHd-fwsi3p8",
        "colab_type": "code",
        "colab": {
          "base_uri": "https://localhost:8080/",
          "height": 204
        },
        "outputId": "3a692eff-ec56-4a3d-fa23-77db16e0145c"
      },
      "source": [
        "i=0\n",
        "for i,sent in enumerate(doc.sents):\n",
        "    i+=1\n",
        "    print(sent)\n",
        "    if i==10:\n",
        "      break"
      ],
      "execution_count": null,
      "outputs": [
        {
          "output_type": "stream",
          "text": [
            "I really wanted this to work.\n",
            "alas, it had a strange fit for me.\n",
            "the straps would not stay up, and it had a weird fit under the breast.\n",
            "it worked standing up, but the minute i sat down it fell off my shoulders.\n",
            "the fabric was beautiful!\n",
            "and i loved that it had pockets.\n",
            "\n",
            "I love cute summer dresses and this one, especially because it is made out of linen, is unique.\n",
            "it is very well-made with a design that is quite flattering.\n",
            "i am 5 foot 6 and a little curvy with a 38 c bust\n",
            "and i got a size 10.\n"
          ],
          "name": "stdout"
        }
      ]
    },
    {
      "cell_type": "code",
      "metadata": {
        "id": "B6FR8WIAi3p-",
        "colab_type": "code",
        "colab": {
          "base_uri": "https://localhost:8080/",
          "height": 34
        },
        "outputId": "979c2196-1a55-488f-af72-c85d5b908c38"
      },
      "source": [
        "doc[17].is_sent_start"
      ],
      "execution_count": null,
      "outputs": [
        {
          "output_type": "execute_result",
          "data": {
            "text/plain": [
              "True"
            ]
          },
          "metadata": {
            "tags": []
          },
          "execution_count": 14
        }
      ]
    },
    {
      "cell_type": "markdown",
      "metadata": {
        "id": "qSGxmAkJDyMH",
        "colab_type": "text"
      },
      "source": [
        "5. CONVERTING THE TOKENS INTO PANDAS DATAFRAME WITH **POS** AND **LEMMA** FOR EACH WORD"
      ]
    },
    {
      "cell_type": "code",
      "metadata": {
        "id": "5SLQe73ki3qA",
        "colab_type": "code",
        "colab": {
          "base_uri": "https://localhost:8080/",
          "height": 359
        },
        "outputId": "0f6459e9-a3cc-429d-8485-c36fd6c1bfdc"
      },
      "source": [
        "dress_frame = pd.DataFrame()\n",
        "o=0\n",
        "for token in doc:\n",
        "    dress_frame.loc[o, 'lemma']= token.lemma_\n",
        "    dress_frame.loc[o, 'pos']= token.pos_\n",
        "    dress_frame.loc[o, 'text']= token.text\n",
        "    dress_frame.loc[o, 'lemma'] = token.dep_\n",
        "    o=o+1\n",
        "dress_frame[0:10]"
      ],
      "execution_count": null,
      "outputs": [
        {
          "output_type": "execute_result",
          "data": {
            "text/html": [
              "<div>\n",
              "<style scoped>\n",
              "    .dataframe tbody tr th:only-of-type {\n",
              "        vertical-align: middle;\n",
              "    }\n",
              "\n",
              "    .dataframe tbody tr th {\n",
              "        vertical-align: top;\n",
              "    }\n",
              "\n",
              "    .dataframe thead th {\n",
              "        text-align: right;\n",
              "    }\n",
              "</style>\n",
              "<table border=\"1\" class=\"dataframe\">\n",
              "  <thead>\n",
              "    <tr style=\"text-align: right;\">\n",
              "      <th></th>\n",
              "      <th>lemma</th>\n",
              "      <th>pos</th>\n",
              "      <th>text</th>\n",
              "    </tr>\n",
              "  </thead>\n",
              "  <tbody>\n",
              "    <tr>\n",
              "      <th>0</th>\n",
              "      <td>nsubj</td>\n",
              "      <td>PRON</td>\n",
              "      <td>I</td>\n",
              "    </tr>\n",
              "    <tr>\n",
              "      <th>1</th>\n",
              "      <td>advmod</td>\n",
              "      <td>ADV</td>\n",
              "      <td>really</td>\n",
              "    </tr>\n",
              "    <tr>\n",
              "      <th>2</th>\n",
              "      <td>ROOT</td>\n",
              "      <td>VERB</td>\n",
              "      <td>wanted</td>\n",
              "    </tr>\n",
              "    <tr>\n",
              "      <th>3</th>\n",
              "      <td>nsubj</td>\n",
              "      <td>DET</td>\n",
              "      <td>this</td>\n",
              "    </tr>\n",
              "    <tr>\n",
              "      <th>4</th>\n",
              "      <td>aux</td>\n",
              "      <td>PART</td>\n",
              "      <td>to</td>\n",
              "    </tr>\n",
              "    <tr>\n",
              "      <th>5</th>\n",
              "      <td>ccomp</td>\n",
              "      <td>VERB</td>\n",
              "      <td>work</td>\n",
              "    </tr>\n",
              "    <tr>\n",
              "      <th>6</th>\n",
              "      <td>punct</td>\n",
              "      <td>PUNCT</td>\n",
              "      <td>.</td>\n",
              "    </tr>\n",
              "    <tr>\n",
              "      <th>7</th>\n",
              "      <td>intj</td>\n",
              "      <td>INTJ</td>\n",
              "      <td>alas</td>\n",
              "    </tr>\n",
              "    <tr>\n",
              "      <th>8</th>\n",
              "      <td>punct</td>\n",
              "      <td>PUNCT</td>\n",
              "      <td>,</td>\n",
              "    </tr>\n",
              "    <tr>\n",
              "      <th>9</th>\n",
              "      <td>nsubj</td>\n",
              "      <td>PRON</td>\n",
              "      <td>it</td>\n",
              "    </tr>\n",
              "  </tbody>\n",
              "</table>\n",
              "</div>"
            ],
            "text/plain": [
              "    lemma    pos    text\n",
              "0   nsubj   PRON       I\n",
              "1  advmod    ADV  really\n",
              "2    ROOT   VERB  wanted\n",
              "3   nsubj    DET    this\n",
              "4     aux   PART      to\n",
              "5   ccomp   VERB    work\n",
              "6   punct  PUNCT       .\n",
              "7    intj   INTJ    alas\n",
              "8   punct  PUNCT       ,\n",
              "9   nsubj   PRON      it"
            ]
          },
          "metadata": {
            "tags": []
          },
          "execution_count": 15
        }
      ]
    },
    {
      "cell_type": "markdown",
      "metadata": {
        "id": "80buKByyEpxE",
        "colab_type": "text"
      },
      "source": [
        "6. GROUPING THE TOKENS WITH PARTS OF SPEECH(POS)"
      ]
    },
    {
      "cell_type": "code",
      "metadata": {
        "id": "Ih7uw3rxi3qC",
        "colab_type": "code",
        "colab": {
          "base_uri": "https://localhost:8080/",
          "height": 306
        },
        "outputId": "b00bd6af-2072-44ed-9a72-536669459780"
      },
      "source": [
        "group_dress = dress_frame.groupby(['pos']).agg(\n",
        "    {\n",
        "      'text':'count' \n",
        "    })\n",
        "group_dress['text'].sort_values(ascending=False)[0:15]"
      ],
      "execution_count": null,
      "outputs": [
        {
          "output_type": "execute_result",
          "data": {
            "text/plain": [
              "pos\n",
              "NOUN     11003\n",
              "DET       8329\n",
              "PUNCT     8311\n",
              "VERB      7634\n",
              "PRON      6510\n",
              "ADJ       6399\n",
              "ADP       5133\n",
              "AUX       4879\n",
              "ADV       4787\n",
              "CCONJ     3339\n",
              "PART      1692\n",
              "SCONJ     1361\n",
              "SPACE     1327\n",
              "NUM       1101\n",
              "PROPN      822\n",
              "Name: text, dtype: int64"
            ]
          },
          "metadata": {
            "tags": []
          },
          "execution_count": 16
        }
      ]
    },
    {
      "cell_type": "markdown",
      "metadata": {
        "id": "EUYbVDzEEbBd",
        "colab_type": "text"
      },
      "source": [
        "7. FILTERING THE DATA WITH ONLY **ADJECTIVE** AND COUNTING ITS FREQUENCY"
      ]
    },
    {
      "cell_type": "code",
      "metadata": {
        "id": "rEUxjG-Yi3qG",
        "colab_type": "code",
        "colab": {}
      },
      "source": [
        "group_dress_adj = dress_frame[dress_frame['pos']=='ADJ'].groupby(['text']).agg(\n",
        "    {\n",
        "      'text':'count'      \n",
        "    })"
      ],
      "execution_count": null,
      "outputs": []
    },
    {
      "cell_type": "code",
      "metadata": {
        "id": "84yXNhFCi3qI",
        "colab_type": "code",
        "colab": {
          "base_uri": "https://localhost:8080/",
          "height": 136
        },
        "outputId": "288bfa38-e443-4797-92d3-de2b537f75ab"
      },
      "source": [
        "group_dress_adj['text'].sort_values(ascending=False)[0:5]"
      ],
      "execution_count": null,
      "outputs": [
        {
          "output_type": "execute_result",
          "data": {
            "text/plain": [
              "text\n",
              "great          257\n",
              "flattering     185\n",
              "perfect        176\n",
              "comfortable    162\n",
              "small          149\n",
              "Name: text, dtype: int64"
            ]
          },
          "metadata": {
            "tags": []
          },
          "execution_count": 18
        }
      ]
    },
    {
      "cell_type": "code",
      "metadata": {
        "id": "xKRYAt2Ri3qT",
        "colab_type": "code",
        "colab": {
          "base_uri": "https://localhost:8080/",
          "height": 34
        },
        "outputId": "fa330db1-8b51-4b90-800e-0534180bb73e"
      },
      "source": [
        "len(doc.vocab)"
      ],
      "execution_count": null,
      "outputs": [
        {
          "output_type": "execute_result",
          "data": {
            "text/plain": [
              "4205"
            ]
          },
          "metadata": {
            "tags": []
          },
          "execution_count": 19
        }
      ]
    },
    {
      "cell_type": "markdown",
      "metadata": {
        "id": "aTr2p130GfMw",
        "colab_type": "text"
      },
      "source": [
        "8. Exploring NER Label **MONEY**"
      ]
    },
    {
      "cell_type": "code",
      "metadata": {
        "id": "nk3A9s5qi3qV",
        "colab_type": "code",
        "colab": {
          "base_uri": "https://localhost:8080/",
          "height": 391
        },
        "outputId": "eb3d85a3-3be8-4c60-95a1-6c65140a4b5b"
      },
      "source": [
        "for ent in doc.ents:\n",
        "    if ent.label_ == 'MONEY':\n",
        "     print(ent.text+' - '+ent.label_+' - '+str(spacy.explain(ent.label_)))"
      ],
      "execution_count": null,
      "outputs": [
        {
          "output_type": "stream",
          "text": [
            "102# - MONEY - Monetary values, including unit\n",
            "135 - MONEY - Monetary values, including unit\n",
            "two cents - MONEY - Monetary values, including unit\n",
            "128# - MONEY - Monetary values, including unit\n",
            "140# 34d - MONEY - Monetary values, including unit\n",
            "120# - MONEY - Monetary values, including unit\n",
            "140# 5'3 - MONEY - Monetary values, including unit\n",
            "15 bucks - MONEY - Monetary values, including unit\n",
            "158 - MONEY - Monetary values, including unit\n",
            "120# - MONEY - Monetary values, including unit\n",
            "over $50 - MONEY - Monetary values, including unit\n",
            "5'3 - MONEY - Monetary values, including unit\n",
            "110# - MONEY - Monetary values, including unit\n",
            "168 - MONEY - Monetary values, including unit\n",
            "49 - MONEY - Monetary values, including unit\n",
            "79 - MONEY - Monetary values, including unit\n",
            "39;fuzzy&#39 - MONEY - Monetary values, including unit\n",
            "over $250 - MONEY - Monetary values, including unit\n",
            "#32b# - MONEY - Monetary values, including unit\n",
            "120# max - MONEY - Monetary values, including unit\n",
            "138 - MONEY - Monetary values, including unit\n",
            "135# 36c - MONEY - Monetary values, including unit\n"
          ],
          "name": "stdout"
        }
      ]
    },
    {
      "cell_type": "markdown",
      "metadata": {
        "id": "xYi2JWorGzz6",
        "colab_type": "text"
      },
      "source": [
        "9. DOCUMNET PROPERTIES"
      ]
    },
    {
      "cell_type": "code",
      "metadata": {
        "id": "7CzRIBxki3qX",
        "colab_type": "code",
        "colab": {}
      },
      "source": [
        "#Similar to Doc.ents, Doc.noun_chunks are another object property.\n",
        "#Noun chunks are \"base noun phrases\" – flat phrases that have a noun as their head. \n",
        "#You can think of noun chunks as a noun plus the words describing the noun – for example, \n",
        "#in Sheb Wooley's 1958 song, a *\"one-eyed, one-horned, flying, purple people-eater\"* \n",
        "#would be one long noun chunk.\n",
        "\n",
        "#https://spacy.io/usage/visualizers"
      ],
      "execution_count": null,
      "outputs": []
    },
    {
      "cell_type": "code",
      "metadata": {
        "id": "1VgJy3X_i3qZ",
        "colab_type": "code",
        "colab": {
          "base_uri": "https://localhost:8080/",
          "height": 272
        },
        "outputId": "a7fd9704-ccd5-4c0d-a4b2-7e01453222b4"
      },
      "source": [
        "i=0\n",
        "for chunk in doc.noun_chunks:\n",
        "    i+=1\n",
        "    print(chunk.text)\n",
        "    if i ==15:\n",
        "      break"
      ],
      "execution_count": null,
      "outputs": [
        {
          "output_type": "stream",
          "text": [
            "I\n",
            "it\n",
            "a strange fit\n",
            "me\n",
            "the straps\n",
            "it\n",
            "a weird fit\n",
            "the breast\n",
            "it\n",
            "i\n",
            "it\n",
            "my shoulders\n",
            "the fabric\n",
            "i\n",
            "it\n"
          ],
          "name": "stdout"
        }
      ]
    },
    {
      "cell_type": "markdown",
      "metadata": {
        "id": "mLG75Ww3HZKK",
        "colab_type": "text"
      },
      "source": [
        "10. EXPLORING **DIFFERENT POS** FOR THE SAME WORD **SIZE**"
      ]
    },
    {
      "cell_type": "code",
      "metadata": {
        "id": "Abc-i4jXi3qd",
        "colab_type": "code",
        "colab": {
          "base_uri": "https://localhost:8080/",
          "height": 272
        },
        "outputId": "3ec4322c-40e6-4569-87be-430770f9ec80"
      },
      "source": [
        "#Text: The original token text.\n",
        "#Dep: The syntactic relation connecting child to head.\n",
        "#Head text: The original text of the token head.\n",
        "#Head POS: The part-of-speech tag of the token head.\n",
        "#Children: The immediate syntactic dependents of the token.\n",
        "\n",
        "i=0\n",
        "for token in doc:\n",
        "  if token.text ==\"size\":\n",
        "    if i == 15:\n",
        "      break\n",
        "    else:\n",
        "     i+=1\n",
        "     print(f'{token.text:{14}} {token.head.text:{12}} {token.head.pos_:{10}} {[child for child in token.children]}')"
      ],
      "execution_count": null,
      "outputs": [
        {
          "output_type": "stream",
          "text": [
            "size           got          VERB       [a, 10]\n",
            "size           to           ADP        []\n",
            "size           down         ADP        [a]\n",
            "size           xs           PROPN      []\n",
            "size           xl           PROPN      []\n",
            "size           to           ADP        []\n",
            "size           was          AUX        [a, petite]\n",
            "size           looked       VERB       [neither]\n",
            "size           runs         VERB       [so, i, would, down, framed]\n",
            "size           purchased    VERB       [the, 4, ,, fit]\n",
            "size           small        ADJ        []\n",
            "size           needed       VERB       [to, versital, ,, cute]\n",
            "size           ordered      VERB       [my, regular, ,, medium]\n",
            "size           to           PART       []\n",
            "size           returned     VERB       [my]\n"
          ],
          "name": "stdout"
        }
      ]
    },
    {
      "cell_type": "code",
      "metadata": {
        "id": "HX5Kjx3Wi3qf",
        "colab_type": "code",
        "colab": {
          "base_uri": "https://localhost:8080/",
          "height": 542
        },
        "outputId": "55484890-2a90-4beb-8ab8-381363eb1a68"
      },
      "source": [
        "displacy.render(doc[0:500], style='ent', jupyter=True, options={'distance': 110})"
      ],
      "execution_count": null,
      "outputs": [
        {
          "output_type": "display_data",
          "data": {
            "text/html": [
              "<span class=\"tex2jax_ignore\"><div class=\"entities\" style=\"line-height: 2.5; direction: ltr\">I really wanted this to work. alas, it had a strange fit for me. the straps would not stay up, and it had a weird fit under the breast. it worked standing up, but the minute i sat down it fell off my shoulders. the fabric was beautiful! and i loved that it had pockets.</br>I love cute \n",
              "<mark class=\"entity\" style=\"background: #bfe1d9; padding: 0.45em 0.6em; margin: 0 0.25em; line-height: 1; border-radius: 0.35em;\">\n",
              "    summer\n",
              "    <span style=\"font-size: 0.8em; font-weight: bold; line-height: 1; border-radius: 0.35em; text-transform: uppercase; vertical-align: middle; margin-left: 0.5rem\">DATE</span>\n",
              "</mark>\n",
              " dresses and this one, especially because it is made out of linen, is unique. it is very well-made with a design that is quite flattering. i am \n",
              "<mark class=\"entity\" style=\"background: #e4e7d2; padding: 0.45em 0.6em; margin: 0 0.25em; line-height: 1; border-radius: 0.35em;\">\n",
              "    5 foot\n",
              "    <span style=\"font-size: 0.8em; font-weight: bold; line-height: 1; border-radius: 0.35em; text-transform: uppercase; vertical-align: middle; margin-left: 0.5rem\">QUANTITY</span>\n",
              "</mark>\n",
              " \n",
              "<mark class=\"entity\" style=\"background: #e4e7d2; padding: 0.45em 0.6em; margin: 0 0.25em; line-height: 1; border-radius: 0.35em;\">\n",
              "    6\n",
              "    <span style=\"font-size: 0.8em; font-weight: bold; line-height: 1; border-radius: 0.35em; text-transform: uppercase; vertical-align: middle; margin-left: 0.5rem\">CARDINAL</span>\n",
              "</mark>\n",
              " and a little curvy with a \n",
              "<mark class=\"entity\" style=\"background: #e4e7d2; padding: 0.45em 0.6em; margin: 0 0.25em; line-height: 1; border-radius: 0.35em;\">\n",
              "    38\n",
              "    <span style=\"font-size: 0.8em; font-weight: bold; line-height: 1; border-radius: 0.35em; text-transform: uppercase; vertical-align: middle; margin-left: 0.5rem\">CARDINAL</span>\n",
              "</mark>\n",
              " c bust and i got a size \n",
              "<mark class=\"entity\" style=\"background: #e4e7d2; padding: 0.45em 0.6em; margin: 0 0.25em; line-height: 1; border-radius: 0.35em;\">\n",
              "    10\n",
              "    <span style=\"font-size: 0.8em; font-weight: bold; line-height: 1; border-radius: 0.35em; text-transform: uppercase; vertical-align: middle; margin-left: 0.5rem\">CARDINAL</span>\n",
              "</mark>\n",
              ". it fits well although it is difficult to zip up because the material has no give. the perfect dress to wear to \n",
              "<mark class=\"entity\" style=\"background: #feca74; padding: 0.45em 0.6em; margin: 0 0.25em; line-height: 1; border-radius: 0.35em;\">\n",
              "    italy\n",
              "    <span style=\"font-size: 0.8em; font-weight: bold; line-height: 1; border-radius: 0.35em; text-transform: uppercase; vertical-align: middle; margin-left: 0.5rem\">GPE</span>\n",
              "</mark>\n",
              " or \n",
              "<mark class=\"entity\" style=\"background: #feca74; padding: 0.45em 0.6em; margin: 0 0.25em; line-height: 1; border-radius: 0.35em;\">\n",
              "    france\n",
              "    <span style=\"font-size: 0.8em; font-weight: bold; line-height: 1; border-radius: 0.35em; text-transform: uppercase; vertical-align: middle; margin-left: 0.5rem\">GPE</span>\n",
              "</mark>\n",
              "! now i just have to book my tickets!</br>This is the perfect summer dress. it can be dressed up or down. the quality of the linen fabric is very nice. i'm \n",
              "<mark class=\"entity\" style=\"background: #e4e7d2; padding: 0.45em 0.6em; margin: 0 0.25em; line-height: 1; border-radius: 0.35em;\">\n",
              "    5'1\n",
              "    <span style=\"font-size: 0.8em; font-weight: bold; line-height: 1; border-radius: 0.35em; text-transform: uppercase; vertical-align: middle; margin-left: 0.5rem\">CARDINAL</span>\n",
              "</mark>\n",
              "&quot; and it hit right below my knees. i found it to run true to size. those with a smaller bust might want to go down a size, but the tie in the front can be adjusted. it's lovely.</br>Nice fit and flare style, not clingy at all. i got the grey color, petite large, fits perfect. will wear with tights/boots or booties. lots of color options to accessorize with.</br>When i \n",
              "<mark class=\"entity\" style=\"background: #e4e7d2; padding: 0.45em 0.6em; margin: 0 0.25em; line-height: 1; border-radius: 0.35em;\">\n",
              "    first\n",
              "    <span style=\"font-size: 0.8em; font-weight: bold; line-height: 1; border-radius: 0.35em; text-transform: uppercase; vertical-align: middle; margin-left: 0.5rem\">ORDINAL</span>\n",
              "</mark>\n",
              " opened this dress and tried it on i thought it was adorable. it is very flattering on my hourglass figure and hides my recent baby weight. the problem is the hem. it was already rolling up when i took it out of the package, and i should have noticed and returned it, but i figured the problem would be easily solved by a good ironing. well, it wasn't, and it gets worse every time i wash the dress. it's like the hem isn't constructed properly.</br>I love this sweater dress and get compliments every time i wear it.. i bought the \n",
              "<mark class=\"entity\" style=\"background: #7aecec; padding: 0.45em 0.6em; margin: 0 0.25em; line-height: 1; border-radius: 0.35em;\">\n",
              "    navy\n",
              "    <span style=\"font-size: 0.8em; font-weight: bold; line-height: 1; border-radius: 0.35em; text-transform: uppercase; vertical-align: middle; margin-left: 0.5rem\">ORG</span>\n",
              "</mark>\n",
              " in size xs. the pattern and colors are just fun and youthful, although you don't have to be young to look good in this dress. the dress is fitted, but the skirt flares, making it flattering if you have hips like me. the material is not too heavy so you can wear \n",
              "<mark class=\"entity\" style=\"background: #bfe1d9; padding: 0.45em 0.6em; margin: 0 0.25em; line-height: 1; border-radius: 0.35em;\">\n",
              "    this 3 seasons fall\n",
              "    <span style=\"font-size: 0.8em; font-weight: bold; line-height: 1; border-radius: 0.35em; text-transform: uppercase; vertical-align: middle; margin-left: 0.5rem\">DATE</span>\n",
              "</mark>\n",
              ", \n",
              "<mark class=\"entity\" style=\"background: #bfe1d9; padding: 0.45em 0.6em; margin: 0 0.25em; line-height: 1; border-radius: 0.35em;\">\n",
              "    winter, spring\n",
              "    <span style=\"font-size: 0.8em; font-weight: bold; line-height: 1; border-radius: 0.35em; text-transform: uppercase; vertical-align: middle; margin-left: 0.5rem\">DATE</span>\n",
              "</mark>\n",
              ". as other reviews have mentioned the dress is short. i am \n",
              "<mark class=\"entity\" style=\"background: #e4e7d2; padding: 0.45em 0.6em; margin: 0 0.25em; line-height: 1; border-radius: 0.35em;\">\n",
              "    5'9\n",
              "    <span style=\"font-size: 0.8em; font-weight: bold; line-height: 1; border-radius: 0.35em; text-transform: uppercase; vertical-align: middle; margin-left: 0.5rem\">CARDINAL</span>\n",
              "</mark>\n",
              "&quot; so it does hit well above my knees. this isn't an is\n",
              "Extremely flattering. an easy dress to wear - good </div></span>"
            ],
            "text/plain": [
              "<IPython.core.display.HTML object>"
            ]
          },
          "metadata": {
            "tags": []
          }
        }
      ]
    },
    {
      "cell_type": "markdown",
      "metadata": {
        "id": "MJQOorHForO6",
        "colab_type": "text"
      },
      "source": [
        "#Stemming\n",
        "not included in spacy and only used in nltk"
      ]
    },
    {
      "cell_type": "markdown",
      "metadata": {
        "id": "2bfaNB3bylhE",
        "colab_type": "text"
      },
      "source": [
        "Stemming on ADJECTIVE"
      ]
    },
    {
      "cell_type": "code",
      "metadata": {
        "id": "EOdJWINmi3qk",
        "colab_type": "code",
        "colab": {
          "base_uri": "https://localhost:8080/",
          "height": 359
        },
        "outputId": "26627f2f-ad7b-4eaa-eda9-33449c354b75"
      },
      "source": [
        "dress_adj = dress_frame[(dress_frame['pos']=='ADJ') & (dress_frame['lemma']=='acomp' )]\n",
        "dress_adj[0:10]"
      ],
      "execution_count": null,
      "outputs": [
        {
          "output_type": "execute_result",
          "data": {
            "text/html": [
              "<div>\n",
              "<style scoped>\n",
              "    .dataframe tbody tr th:only-of-type {\n",
              "        vertical-align: middle;\n",
              "    }\n",
              "\n",
              "    .dataframe tbody tr th {\n",
              "        vertical-align: top;\n",
              "    }\n",
              "\n",
              "    .dataframe thead th {\n",
              "        text-align: right;\n",
              "    }\n",
              "</style>\n",
              "<table border=\"1\" class=\"dataframe\">\n",
              "  <thead>\n",
              "    <tr style=\"text-align: right;\">\n",
              "      <th></th>\n",
              "      <th>lemma</th>\n",
              "      <th>pos</th>\n",
              "      <th>text</th>\n",
              "    </tr>\n",
              "  </thead>\n",
              "  <tbody>\n",
              "    <tr>\n",
              "      <th>54</th>\n",
              "      <td>acomp</td>\n",
              "      <td>ADJ</td>\n",
              "      <td>beautiful</td>\n",
              "    </tr>\n",
              "    <tr>\n",
              "      <th>84</th>\n",
              "      <td>acomp</td>\n",
              "      <td>ADJ</td>\n",
              "      <td>unique</td>\n",
              "    </tr>\n",
              "    <tr>\n",
              "      <th>98</th>\n",
              "      <td>acomp</td>\n",
              "      <td>ADJ</td>\n",
              "      <td>flattering</td>\n",
              "    </tr>\n",
              "    <tr>\n",
              "      <th>127</th>\n",
              "      <td>acomp</td>\n",
              "      <td>ADJ</td>\n",
              "      <td>difficult</td>\n",
              "    </tr>\n",
              "    <tr>\n",
              "      <th>181</th>\n",
              "      <td>acomp</td>\n",
              "      <td>ADJ</td>\n",
              "      <td>nice</td>\n",
              "    </tr>\n",
              "    <tr>\n",
              "      <th>200</th>\n",
              "      <td>acomp</td>\n",
              "      <td>ADJ</td>\n",
              "      <td>true</td>\n",
              "    </tr>\n",
              "    <tr>\n",
              "      <th>229</th>\n",
              "      <td>acomp</td>\n",
              "      <td>ADJ</td>\n",
              "      <td>lovely</td>\n",
              "    </tr>\n",
              "    <tr>\n",
              "      <th>253</th>\n",
              "      <td>acomp</td>\n",
              "      <td>ADJ</td>\n",
              "      <td>perfect</td>\n",
              "    </tr>\n",
              "    <tr>\n",
              "      <th>287</th>\n",
              "      <td>acomp</td>\n",
              "      <td>ADJ</td>\n",
              "      <td>adorable</td>\n",
              "    </tr>\n",
              "    <tr>\n",
              "      <th>292</th>\n",
              "      <td>acomp</td>\n",
              "      <td>ADJ</td>\n",
              "      <td>flattering</td>\n",
              "    </tr>\n",
              "  </tbody>\n",
              "</table>\n",
              "</div>"
            ],
            "text/plain": [
              "     lemma  pos        text\n",
              "54   acomp  ADJ   beautiful\n",
              "84   acomp  ADJ      unique\n",
              "98   acomp  ADJ  flattering\n",
              "127  acomp  ADJ   difficult\n",
              "181  acomp  ADJ        nice\n",
              "200  acomp  ADJ        true\n",
              "229  acomp  ADJ      lovely\n",
              "253  acomp  ADJ     perfect\n",
              "287  acomp  ADJ    adorable\n",
              "292  acomp  ADJ  flattering"
            ]
          },
          "metadata": {
            "tags": []
          },
          "execution_count": 25
        }
      ]
    },
    {
      "cell_type": "code",
      "metadata": {
        "id": "1vmsu-Vdi3ql",
        "colab_type": "code",
        "colab": {
          "base_uri": "https://localhost:8080/",
          "height": 187
        },
        "outputId": "6b69cc10-0643-4bfe-e4de-0021f877e8fa"
      },
      "source": [
        "list_of_adj_acomp_unique = [i for i in dress_adj['text'].unique()]\n",
        "list_of_adj_acomp_unique[0:10]"
      ],
      "execution_count": null,
      "outputs": [
        {
          "output_type": "execute_result",
          "data": {
            "text/plain": [
              "['beautiful',\n",
              " 'unique',\n",
              " 'flattering',\n",
              " 'difficult',\n",
              " 'nice',\n",
              " 'true',\n",
              " 'lovely',\n",
              " 'perfect',\n",
              " 'adorable',\n",
              " 'worse']"
            ]
          },
          "metadata": {
            "tags": []
          },
          "execution_count": 26
        }
      ]
    },
    {
      "cell_type": "code",
      "metadata": {
        "id": "ol83_k8TEvJq",
        "colab_type": "code",
        "colab": {}
      },
      "source": [
        "p_stemmer = PorterStemmer()"
      ],
      "execution_count": null,
      "outputs": []
    },
    {
      "cell_type": "code",
      "metadata": {
        "id": "SMOj6uwsi3qn",
        "colab_type": "code",
        "colab": {
          "base_uri": "https://localhost:8080/",
          "height": 187
        },
        "outputId": "1626b7c1-66d5-4ad3-8988-7e30962a820e"
      },
      "source": [
        "for word in list_of_adj_acomp_unique[0:10]:\n",
        "    print(f'The stem of the word {word:{10}} is {p_stemmer.stem(word):{20}}')"
      ],
      "execution_count": null,
      "outputs": [
        {
          "output_type": "stream",
          "text": [
            "The stem of the word beautiful  is beauti              \n",
            "The stem of the word unique     is uniqu               \n",
            "The stem of the word flattering is flatter             \n",
            "The stem of the word difficult  is difficult           \n",
            "The stem of the word nice       is nice                \n",
            "The stem of the word true       is true                \n",
            "The stem of the word lovely     is love                \n",
            "The stem of the word perfect    is perfect             \n",
            "The stem of the word adorable   is ador                \n",
            "The stem of the word worse      is wors                \n"
          ],
          "name": "stdout"
        }
      ]
    },
    {
      "cell_type": "code",
      "metadata": {
        "id": "gUP2Dfo4i3qq",
        "colab_type": "code",
        "colab": {}
      },
      "source": [
        "# The Snowball Stemmer requires that you pass a language parameter\n",
        "s_stemmer = SnowballStemmer(language='english')"
      ],
      "execution_count": null,
      "outputs": []
    },
    {
      "cell_type": "code",
      "metadata": {
        "id": "QxVlLViqi3qt",
        "colab_type": "code",
        "colab": {
          "base_uri": "https://localhost:8080/",
          "height": 187
        },
        "outputId": "435a529b-c8a0-4ce6-f920-7b5409915b08"
      },
      "source": [
        "for word in list_of_adj_acomp_unique[0:10]:\n",
        "    print(f'The stem of the word {word:{10}} is {s_stemmer.stem(word):{20}}')"
      ],
      "execution_count": null,
      "outputs": [
        {
          "output_type": "stream",
          "text": [
            "The stem of the word beautiful  is beauti              \n",
            "The stem of the word unique     is uniqu               \n",
            "The stem of the word flattering is flatter             \n",
            "The stem of the word difficult  is difficult           \n",
            "The stem of the word nice       is nice                \n",
            "The stem of the word true       is true                \n",
            "The stem of the word lovely     is love                \n",
            "The stem of the word perfect    is perfect             \n",
            "The stem of the word adorable   is ador                \n",
            "The stem of the word worse      is wors                \n"
          ],
          "name": "stdout"
        }
      ]
    },
    {
      "cell_type": "markdown",
      "metadata": {
        "id": "l_YrLm-YyhAz",
        "colab_type": "text"
      },
      "source": [
        "Stemming on VERB"
      ]
    },
    {
      "cell_type": "code",
      "metadata": {
        "id": "ptVfCsr4xCd9",
        "colab_type": "code",
        "colab": {
          "base_uri": "https://localhost:8080/",
          "height": 359
        },
        "outputId": "85257faf-f8c2-4fda-8c1d-d1cddeb0df73"
      },
      "source": [
        "dress_verb = dress_frame[(dress_frame['pos']=='VERB') & (dress_frame['lemma']=='acomp' )]\n",
        "dress_verb[0:10]"
      ],
      "execution_count": null,
      "outputs": [
        {
          "output_type": "execute_result",
          "data": {
            "text/html": [
              "<div>\n",
              "<style scoped>\n",
              "    .dataframe tbody tr th:only-of-type {\n",
              "        vertical-align: middle;\n",
              "    }\n",
              "\n",
              "    .dataframe tbody tr th {\n",
              "        vertical-align: top;\n",
              "    }\n",
              "\n",
              "    .dataframe thead th {\n",
              "        text-align: right;\n",
              "    }\n",
              "</style>\n",
              "<table border=\"1\" class=\"dataframe\">\n",
              "  <thead>\n",
              "    <tr style=\"text-align: right;\">\n",
              "      <th></th>\n",
              "      <th>lemma</th>\n",
              "      <th>pos</th>\n",
              "      <th>text</th>\n",
              "    </tr>\n",
              "  </thead>\n",
              "  <tbody>\n",
              "    <tr>\n",
              "      <th>91</th>\n",
              "      <td>acomp</td>\n",
              "      <td>VERB</td>\n",
              "      <td>made</td>\n",
              "    </tr>\n",
              "    <tr>\n",
              "      <th>567</th>\n",
              "      <td>acomp</td>\n",
              "      <td>VERB</td>\n",
              "      <td>wearing</td>\n",
              "    </tr>\n",
              "    <tr>\n",
              "      <th>2526</th>\n",
              "      <td>acomp</td>\n",
              "      <td>VERB</td>\n",
              "      <td>made</td>\n",
              "    </tr>\n",
              "    <tr>\n",
              "      <th>4471</th>\n",
              "      <td>acomp</td>\n",
              "      <td>VERB</td>\n",
              "      <td>chested</td>\n",
              "    </tr>\n",
              "    <tr>\n",
              "      <th>4853</th>\n",
              "      <td>acomp</td>\n",
              "      <td>VERB</td>\n",
              "      <td>faded</td>\n",
              "    </tr>\n",
              "    <tr>\n",
              "      <th>6134</th>\n",
              "      <td>acomp</td>\n",
              "      <td>VERB</td>\n",
              "      <td>closed</td>\n",
              "    </tr>\n",
              "    <tr>\n",
              "      <th>8687</th>\n",
              "      <td>acomp</td>\n",
              "      <td>VERB</td>\n",
              "      <td>worried</td>\n",
              "    </tr>\n",
              "    <tr>\n",
              "      <th>9350</th>\n",
              "      <td>acomp</td>\n",
              "      <td>VERB</td>\n",
              "      <td>dressed</td>\n",
              "    </tr>\n",
              "    <tr>\n",
              "      <th>10675</th>\n",
              "      <td>acomp</td>\n",
              "      <td>VERB</td>\n",
              "      <td>looking</td>\n",
              "    </tr>\n",
              "    <tr>\n",
              "      <th>10781</th>\n",
              "      <td>acomp</td>\n",
              "      <td>VERB</td>\n",
              "      <td>endowed</td>\n",
              "    </tr>\n",
              "  </tbody>\n",
              "</table>\n",
              "</div>"
            ],
            "text/plain": [
              "       lemma   pos     text\n",
              "91     acomp  VERB     made\n",
              "567    acomp  VERB  wearing\n",
              "2526   acomp  VERB     made\n",
              "4471   acomp  VERB  chested\n",
              "4853   acomp  VERB    faded\n",
              "6134   acomp  VERB   closed\n",
              "8687   acomp  VERB  worried\n",
              "9350   acomp  VERB  dressed\n",
              "10675  acomp  VERB  looking\n",
              "10781  acomp  VERB  endowed"
            ]
          },
          "metadata": {
            "tags": []
          },
          "execution_count": 31
        }
      ]
    },
    {
      "cell_type": "code",
      "metadata": {
        "id": "TTNFQJKexKyS",
        "colab_type": "code",
        "colab": {
          "base_uri": "https://localhost:8080/",
          "height": 187
        },
        "outputId": "01080969-f7f0-47f4-c642-4e62cbaf4703"
      },
      "source": [
        "list_of_verb_acomp_unique = [i for i in dress_verb['text'].unique()]\n",
        "list_of_verb_acomp_unique[0:10]"
      ],
      "execution_count": null,
      "outputs": [
        {
          "output_type": "execute_result",
          "data": {
            "text/plain": [
              "['made',\n",
              " 'wearing',\n",
              " 'chested',\n",
              " 'faded',\n",
              " 'closed',\n",
              " 'worried',\n",
              " 'dressed',\n",
              " 'looking',\n",
              " 'endowed',\n",
              " 'pictured']"
            ]
          },
          "metadata": {
            "tags": []
          },
          "execution_count": 32
        }
      ]
    },
    {
      "cell_type": "code",
      "metadata": {
        "id": "qR4dZrEFx99u",
        "colab_type": "code",
        "colab": {
          "base_uri": "https://localhost:8080/",
          "height": 187
        },
        "outputId": "d25737e2-a0e2-476e-ed45-1421f6f995df"
      },
      "source": [
        "for word in list_of_verb_acomp_unique[0:10]:\n",
        "    print(f'The stem of the word {word:{10}} is {s_stemmer.stem(word):{20}}')"
      ],
      "execution_count": null,
      "outputs": [
        {
          "output_type": "stream",
          "text": [
            "The stem of the word made       is made                \n",
            "The stem of the word wearing    is wear                \n",
            "The stem of the word chested    is chest               \n",
            "The stem of the word faded      is fade                \n",
            "The stem of the word closed     is close               \n",
            "The stem of the word worried    is worri               \n",
            "The stem of the word dressed    is dress               \n",
            "The stem of the word looking    is look                \n",
            "The stem of the word endowed    is endow               \n",
            "The stem of the word pictured   is pictur              \n"
          ],
          "name": "stdout"
        }
      ]
    },
    {
      "cell_type": "markdown",
      "metadata": {
        "id": "6b_7lxUjHKnU",
        "colab_type": "text"
      },
      "source": [
        "# **Lemmatization**"
      ]
    },
    {
      "cell_type": "markdown",
      "metadata": {
        "id": "PPjrUZNyptuV",
        "colab_type": "text"
      },
      "source": [
        "\n",
        "1. In contrast to stemming, lemmatization looks beyond word reduction, and considers a language's full vocabulary to apply a morphological analysis to words. \n",
        "2. The lemma of 'was' is 'be' and the lemma of 'mice' is 'mouse'. \n",
        "3. Further, the lemma of 'meeting' might be 'meet' or 'meeting' depending on its use in a sentence.\n",
        "\n"
      ]
    },
    {
      "cell_type": "markdown",
      "metadata": {
        "id": "8pia4oKVyYPv",
        "colab_type": "text"
      },
      "source": [
        "Lemmetization on ADJECTIVE's"
      ]
    },
    {
      "cell_type": "code",
      "metadata": {
        "id": "lF_na0Mpi3qw",
        "colab_type": "code",
        "colab": {
          "base_uri": "https://localhost:8080/",
          "height": 187
        },
        "outputId": "759d0fbb-b1ef-49fe-e1de-b1e867275521"
      },
      "source": [
        "#list_of_adj_acomp_unique = nlp(list_of_adj_acomp_unique)\n",
        "i=0\n",
        "for token in doc:\n",
        "    if token.pos_ == 'ADJ' and token.dep_ =='acomp':\n",
        "      if i<10:\n",
        "        i+=1\n",
        "        print(f'{token.text:{10}} {token.lemma_:{10}} {token.pos_:{6}} {token.dep_:{12}} {spacy.explain(token.tag_)}')\n",
        "      else:\n",
        "        break"
      ],
      "execution_count": null,
      "outputs": [
        {
          "output_type": "stream",
          "text": [
            "beautiful  beautiful  ADJ    acomp        adjective\n",
            "unique     unique     ADJ    acomp        adjective\n",
            "flattering flattering ADJ    acomp        adjective\n",
            "difficult  difficult  ADJ    acomp        adjective\n",
            "nice       nice       ADJ    acomp        adjective\n",
            "true       true       ADJ    acomp        adjective\n",
            "lovely     lovely     ADJ    acomp        adjective\n",
            "perfect    perfect    ADJ    acomp        adjective\n",
            "adorable   adorable   ADJ    acomp        adjective\n",
            "flattering flattering ADJ    acomp        adjective\n"
          ],
          "name": "stdout"
        }
      ]
    },
    {
      "cell_type": "markdown",
      "metadata": {
        "id": "O6ivtku_ySYF",
        "colab_type": "text"
      },
      "source": [
        "Lemmetization on VERB's"
      ]
    },
    {
      "cell_type": "code",
      "metadata": {
        "id": "hD3qKEZlw59r",
        "colab_type": "code",
        "colab": {
          "base_uri": "https://localhost:8080/",
          "height": 187
        },
        "outputId": "4f37b9aa-5c98-40de-9698-2f9ab0417121"
      },
      "source": [
        "i=0\n",
        "for token in doc:\n",
        "    if token.pos_ == 'VERB' and token.dep_ =='acomp':\n",
        "      if i<10:\n",
        "        i+=1\n",
        "        print(f'{token.text:{10}} {token.lemma_:{10}} {token.pos_:{6}} {token.dep_:{12}} {spacy.explain(token.tag_)}')\n",
        "      else:\n",
        "        break"
      ],
      "execution_count": null,
      "outputs": [
        {
          "output_type": "stream",
          "text": [
            "made       make       VERB   acomp        verb, past participle\n",
            "wearing    wear       VERB   acomp        verb, gerund or present participle\n",
            "made       make       VERB   acomp        verb, past participle\n",
            "chested    cheste     VERB   acomp        verb, past participle\n",
            "faded      fade       VERB   acomp        verb, past participle\n",
            "closed     close      VERB   acomp        verb, past participle\n",
            "worried    worry      VERB   acomp        verb, past participle\n",
            "dressed    dress      VERB   acomp        verb, past participle\n",
            "looking    look       VERB   acomp        verb, gerund or present participle\n",
            "endowed    endow      VERB   acomp        verb, past participle\n"
          ],
          "name": "stdout"
        }
      ]
    },
    {
      "cell_type": "markdown",
      "metadata": {
        "id": "KErGbXrwHzpU",
        "colab_type": "text"
      },
      "source": [
        "# **Stop Words**"
      ]
    },
    {
      "cell_type": "markdown",
      "metadata": {
        "id": "Y5ARDwp608oN",
        "colab_type": "text"
      },
      "source": [
        "List of Default Stop Words"
      ]
    },
    {
      "cell_type": "code",
      "metadata": {
        "id": "vIU7S3y2i3qz",
        "colab_type": "code",
        "colab": {
          "base_uri": "https://localhost:8080/",
          "height": 187
        },
        "outputId": "58b9add9-df24-4f95-e2f2-48170fb2f26d"
      },
      "source": [
        "stop_words = nlp.Defaults.stop_words\n",
        "stop_word = [i for i in stop_words]\n",
        "stop_word[0:10]"
      ],
      "execution_count": null,
      "outputs": [
        {
          "output_type": "execute_result",
          "data": {
            "text/plain": [
              "['around',\n",
              " 'put',\n",
              " 'very',\n",
              " 'twelve',\n",
              " 'per',\n",
              " 'nor',\n",
              " 'we',\n",
              " 'more',\n",
              " 'namely',\n",
              " 'also']"
            ]
          },
          "metadata": {
            "tags": []
          },
          "execution_count": 36
        }
      ]
    },
    {
      "cell_type": "markdown",
      "metadata": {
        "id": "lIbkL4C81BSL",
        "colab_type": "text"
      },
      "source": [
        "Check if the word is a STOPWORD or not"
      ]
    },
    {
      "cell_type": "code",
      "metadata": {
        "id": "OpZ5g1ULi3q2",
        "colab_type": "code",
        "colab": {
          "base_uri": "https://localhost:8080/",
          "height": 34
        },
        "outputId": "0e6b4780-8fb6-4551-9272-3ea36c43c39f"
      },
      "source": [
        "nlp.vocab['is']"
      ],
      "execution_count": null,
      "outputs": [
        {
          "output_type": "execute_result",
          "data": {
            "text/plain": [
              "<spacy.lexeme.Lexeme at 0x7efdf4a8c900>"
            ]
          },
          "metadata": {
            "tags": []
          },
          "execution_count": 37
        }
      ]
    },
    {
      "cell_type": "code",
      "metadata": {
        "id": "ftPUYHdki3q4",
        "colab_type": "code",
        "colab": {
          "base_uri": "https://localhost:8080/",
          "height": 34
        },
        "outputId": "e970691a-4430-435a-df1e-ded50008d4c5"
      },
      "source": [
        "nlp.vocab['is'].is_stop"
      ],
      "execution_count": null,
      "outputs": [
        {
          "output_type": "execute_result",
          "data": {
            "text/plain": [
              "True"
            ]
          },
          "metadata": {
            "tags": []
          },
          "execution_count": 38
        }
      ]
    },
    {
      "cell_type": "code",
      "metadata": {
        "id": "g5k57MFci3q6",
        "colab_type": "code",
        "colab": {
          "base_uri": "https://localhost:8080/",
          "height": 34
        },
        "outputId": "90a65020-ac94-4b7c-c48b-2ca6c003a92f"
      },
      "source": [
        "nlp.vocab['mystery'].is_stop"
      ],
      "execution_count": null,
      "outputs": [
        {
          "output_type": "execute_result",
          "data": {
            "text/plain": [
              "False"
            ]
          },
          "metadata": {
            "tags": []
          },
          "execution_count": 39
        }
      ]
    },
    {
      "cell_type": "markdown",
      "metadata": {
        "id": "hjaR3o-U1IGp",
        "colab_type": "text"
      },
      "source": [
        "Adding a stop word to the list of default list of STOPWORDS"
      ]
    },
    {
      "cell_type": "code",
      "metadata": {
        "id": "6FbaiWk_i3q9",
        "colab_type": "code",
        "colab": {}
      },
      "source": [
        "#Adding a stop word\n",
        "#Add the word to the set of stop words. Use lowercase!\n",
        "nlp.Defaults.stop_words.add('btw')\n",
        "\n",
        "# Set the stop_word tag on the lexeme\n",
        "nlp.vocab['btw'].is_stop = True"
      ],
      "execution_count": null,
      "outputs": []
    },
    {
      "cell_type": "markdown",
      "metadata": {
        "id": "WH6F6ZDO1egR",
        "colab_type": "text"
      },
      "source": [
        "Removing a stop word from the list of default list of STOPWORDS"
      ]
    },
    {
      "cell_type": "code",
      "metadata": {
        "id": "XbsjRt6Wi3q-",
        "colab_type": "code",
        "colab": {}
      },
      "source": [
        "# Remove the word from the set of stop words\n",
        "nlp.Defaults.stop_words.remove('however')\n",
        "\n",
        "# Remove the stop_word tag from the lexeme\n",
        "nlp.vocab['however'].is_stop = False"
      ],
      "execution_count": null,
      "outputs": []
    },
    {
      "cell_type": "code",
      "metadata": {
        "id": "rRpKmqCG12Rj",
        "colab_type": "code",
        "colab": {
          "base_uri": "https://localhost:8080/",
          "height": 34
        },
        "outputId": "4cbe40c6-d47c-4d42-b7b1-95a083420418"
      },
      "source": [
        "nlp.vocab['however'].is_stop"
      ],
      "execution_count": null,
      "outputs": [
        {
          "output_type": "execute_result",
          "data": {
            "text/plain": [
              "False"
            ]
          },
          "metadata": {
            "tags": []
          },
          "execution_count": 42
        }
      ]
    },
    {
      "cell_type": "markdown",
      "metadata": {
        "id": "aLMETTyS_p4z",
        "colab_type": "text"
      },
      "source": [
        "#Vocublary and Matching"
      ]
    },
    {
      "cell_type": "markdown",
      "metadata": {
        "id": "yom7dytvAZrc",
        "colab_type": "text"
      },
      "source": [
        "Matcher"
      ]
    },
    {
      "cell_type": "code",
      "metadata": {
        "id": "HxXZtwxHi3rC",
        "colab_type": "code",
        "colab": {}
      },
      "source": [
        "\n",
        "#Here matcher is an object that pairs to the current \n",
        "#Vocab object. We can add and remove specific named matchers to matcher as needed.\n",
        "\n",
        "#https://spacy.io/usage/rule-based-matching\n",
        "\n",
        "#pattern1 = [{'LOWER': 'solarpower'}]\n",
        "#pattern2 = [{'LOWER': 'solar'}, {'LOWER': 'power'}]\n",
        "#pattern3 = [{'LOWER': 'solar'}, {'IS_PUNCT': True}, {'LOWER': 'power'}]\n",
        "\n",
        "#matcher.add('SolarPower', None, pattern1, pattern2, pattern3)\n",
        "#matcher.remove('SolarPower')\n",
        "\n",
        "\n",
        "matcher = Matcher(nlp.vocab)"
      ],
      "execution_count": null,
      "outputs": []
    },
    {
      "cell_type": "code",
      "metadata": {
        "id": "iSQRFs71i3rF",
        "colab_type": "code",
        "colab": {
          "base_uri": "https://localhost:8080/",
          "height": 34
        },
        "outputId": "a295a985-a318-4453-f1aa-e563be4d219d"
      },
      "source": [
        "pattern1 = [{'LOWER': 'tight','OP':'+'}]\n",
        "pattern2 = [{'LOWER': 'petites'}]\n",
        "matcher.add('sizes', None, pattern1,pattern2)\n",
        "matcher"
      ],
      "execution_count": null,
      "outputs": [
        {
          "output_type": "execute_result",
          "data": {
            "text/plain": [
              "<spacy.matcher.matcher.Matcher at 0x7efe08387548>"
            ]
          },
          "metadata": {
            "tags": []
          },
          "execution_count": 44
        }
      ]
    },
    {
      "cell_type": "code",
      "metadata": {
        "id": "L7TMSkfii3rH",
        "colab_type": "code",
        "colab": {
          "base_uri": "https://localhost:8080/",
          "height": 54
        },
        "outputId": "95b7ff74-2d62-45db-b183-e3280e66739a"
      },
      "source": [
        "found_matches = matcher(doc)\n",
        "print(found_matches)"
      ],
      "execution_count": null,
      "outputs": [
        {
          "output_type": "stream",
          "text": [
            "[(2738833442157585811, 1392, 1393), (2738833442157585811, 2658, 2659), (2738833442157585811, 3698, 3699), (2738833442157585811, 4138, 4139), (2738833442157585811, 5541, 5542), (2738833442157585811, 7383, 7384), (2738833442157585811, 7795, 7796), (2738833442157585811, 7884, 7885), (2738833442157585811, 8178, 8179), (2738833442157585811, 8437, 8438), (2738833442157585811, 8525, 8526), (2738833442157585811, 10724, 10725), (2738833442157585811, 12160, 12161), (2738833442157585811, 12831, 12832), (2738833442157585811, 13128, 13129), (2738833442157585811, 14542, 14543), (2738833442157585811, 15100, 15101), (2738833442157585811, 15812, 15813), (2738833442157585811, 15880, 15881), (2738833442157585811, 16810, 16811), (2738833442157585811, 18412, 18413), (2738833442157585811, 18733, 18734), (2738833442157585811, 18798, 18799), (2738833442157585811, 19671, 19672), (2738833442157585811, 21287, 21288), (2738833442157585811, 24605, 24606), (2738833442157585811, 25599, 25600), (2738833442157585811, 26438, 26439), (2738833442157585811, 26548, 26549), (2738833442157585811, 27137, 27138), (2738833442157585811, 27863, 27864), (2738833442157585811, 30949, 30950), (2738833442157585811, 31199, 31200), (2738833442157585811, 32650, 32651), (2738833442157585811, 32911, 32912), (2738833442157585811, 35610, 35611), (2738833442157585811, 36041, 36042), (2738833442157585811, 36214, 36215), (2738833442157585811, 36413, 36414), (2738833442157585811, 36540, 36541), (2738833442157585811, 36839, 36840), (2738833442157585811, 37121, 37122), (2738833442157585811, 37152, 37153), (2738833442157585811, 38611, 38612), (2738833442157585811, 44472, 44473), (2738833442157585811, 44504, 44505), (2738833442157585811, 47120, 47121), (2738833442157585811, 48717, 48718), (2738833442157585811, 48909, 48910), (2738833442157585811, 49111, 49112), (2738833442157585811, 49115, 49116), (2738833442157585811, 50628, 50629), (2738833442157585811, 50683, 50684), (2738833442157585811, 50836, 50837), (2738833442157585811, 51330, 51331), (2738833442157585811, 51345, 51346), (2738833442157585811, 51919, 51920), (2738833442157585811, 54952, 54953), (2738833442157585811, 55266, 55267), (2738833442157585811, 55485, 55486), (2738833442157585811, 56791, 56792), (2738833442157585811, 57229, 57230), (2738833442157585811, 57347, 57348), (2738833442157585811, 58391, 58392), (2738833442157585811, 58451, 58452), (2738833442157585811, 59003, 59004), (2738833442157585811, 61271, 61272), (2738833442157585811, 61389, 61390), (2738833442157585811, 61513, 61514), (2738833442157585811, 61599, 61600), (2738833442157585811, 61808, 61809), (2738833442157585811, 62234, 62235), (2738833442157585811, 62372, 62373), (2738833442157585811, 63050, 63051), (2738833442157585811, 66156, 66157), (2738833442157585811, 66665, 66666), (2738833442157585811, 70167, 70168), (2738833442157585811, 70479, 70480), (2738833442157585811, 71818, 71819)]\n"
          ],
          "name": "stdout"
        }
      ]
    },
    {
      "cell_type": "code",
      "metadata": {
        "id": "P7O3OW4dDJGK",
        "colab_type": "code",
        "colab": {
          "base_uri": "https://localhost:8080/",
          "height": 207
        },
        "outputId": "ff24c9c2-5e5e-4018-bbd8-00dd922af9fe"
      },
      "source": [
        "for match, starting, ending in found_matches[0:10]:\n",
        "   for sent in doc.sents: \n",
        "    if sent.start< starting and sent.end > ending:\n",
        "        print(doc[sent.start:sent.end])\n",
        "    else:\n",
        "        continue"
      ],
      "execution_count": null,
      "outputs": [
        {
          "output_type": "stream",
          "text": [
            "i found the fit to be flattering -- fitted enough but not too loose or tight.\n",
            "i do think the cut is on the trim side, but it isn't tight or fitted.\n",
            "it is a bit looser on top (i'm 32c) and more form-fitting around the hips but not tight or clingy.\n",
            "the end of the sleeves (where the buttons are) are very tight but\n",
            "the arm holes were tight, but have very cute buttons if you look closely at the picture.  \n",
            "both fit well, but the sleeves in the large were quite tight.\n",
            "when it arrived and i tried it on, it fit great on my arms, wasn't too tight on my neck, but once it went down over my chest (36c), the dress never came back \"in\" to show my feminine waist/shape.\n",
            "it is a perfect length and drapes well...not too tight at all.\n",
            "ok, the arms were a little tight.\n",
            "i also love how versatile it is--you can wear it as a dress as shown on the models, or as a tunic over tight jeans or jeggings/leggings.\n"
          ],
          "name": "stdout"
        }
      ]
    },
    {
      "cell_type": "markdown",
      "metadata": {
        "id": "jOLdhjQaDpbI",
        "colab_type": "text"
      },
      "source": [
        "PhraseMatcher"
      ]
    },
    {
      "cell_type": "code",
      "metadata": {
        "id": "yNN20tPJi3rT",
        "colab_type": "code",
        "colab": {}
      },
      "source": [
        "phrase_matcher = PhraseMatcher(nlp.vocab)"
      ],
      "execution_count": null,
      "outputs": []
    },
    {
      "cell_type": "code",
      "metadata": {
        "id": "c4v4u1bgi3rV",
        "colab_type": "code",
        "colab": {
          "base_uri": "https://localhost:8080/",
          "height": 34
        },
        "outputId": "e855b81c-e3ea-4fe6-f4f8-35218bb91623"
      },
      "source": [
        "phrase_matcher = PhraseMatcher(nlp.vocab)\n",
        "phrase = ['tight', 'extremely tight', 'too tight', 'wrong size']\n",
        "phrase_patterns =  [nlp(text) for text in phrase]\n",
        "print(phrase_patterns)\n",
        "phrase_matcher.add('rsk', None, *phrase_patterns)"
      ],
      "execution_count": null,
      "outputs": [
        {
          "output_type": "stream",
          "text": [
            "[tight, extremely tight, too tight, wrong size]\n"
          ],
          "name": "stdout"
        }
      ]
    },
    {
      "cell_type": "code",
      "metadata": {
        "id": "PObqz892i3rW",
        "colab_type": "code",
        "colab": {
          "base_uri": "https://localhost:8080/",
          "height": 187
        },
        "outputId": "529a99c2-ea24-4233-f492-64e45ccb547d"
      },
      "source": [
        "# Build a list of matches:\n",
        "phrase_matches = phrase_matcher(doc)\n",
        "phrase_matches[0:10]"
      ],
      "execution_count": null,
      "outputs": [
        {
          "output_type": "execute_result",
          "data": {
            "text/plain": [
              "[(3674190656160917763, 1392, 1393),\n",
              " (3674190656160917763, 2658, 2659),\n",
              " (3674190656160917763, 3698, 3699),\n",
              " (3674190656160917763, 4138, 4139),\n",
              " (3674190656160917763, 5541, 5542),\n",
              " (3674190656160917763, 7383, 7384),\n",
              " (3674190656160917763, 7794, 7796),\n",
              " (3674190656160917763, 7795, 7796),\n",
              " (3674190656160917763, 7883, 7885),\n",
              " (3674190656160917763, 7884, 7885)]"
            ]
          },
          "metadata": {
            "tags": []
          },
          "execution_count": 49
        }
      ]
    },
    {
      "cell_type": "code",
      "metadata": {
        "id": "d3FsiGwBi3rZ",
        "colab_type": "code",
        "colab": {
          "base_uri": "https://localhost:8080/",
          "height": 309
        },
        "outputId": "c6cd4c9b-cc87-40c0-e656-92da2c11babb"
      },
      "source": [
        "for match, starting, ending in phrase_matches[30:40]:\n",
        "   for sent in doc.sents: \n",
        "    if sent.start< starting and sent.end > ending:\n",
        "        print(doc[sent.start:sent.end])\n",
        "    else:\n",
        "        continue"
      ],
      "execution_count": null,
      "outputs": [
        {
          "output_type": "stream",
          "text": [
            "the armholes fit perfectly though, if i had sized down they may have been too tight.\n",
            "the slip was also slightly tight over hips.\n",
            "i may have to try, though, as otherwise it's a great workable dress for summer--not too tight or revealing in the b\n",
            "\n",
            "i may have to try, though, as otherwise it's a great workable dress for summer--not too tight or revealing in the b\n",
            "\n",
            "for myself, the sleeves are tight and  so is the fit across the back and shoulders.  \n",
            "one comment mentioned that the slip underneath was tight in the hips, yet as a size 30 in pants the slip was still fine.\n",
            "This dress is beautiful but the bottom half was too tight for my shape.\n",
            "\n",
            "This dress is beautiful but the bottom half was too tight for my shape.\n",
            "\n",
            "the shoulders were only tight due to the lack of flexibility in the bottom - no elastic at the waist and no placket below the waist to increase the ease of mobility taking the garment on and off - so if i had to use the ladies' room, i had to plan ahead. \n",
            "\n",
            "\n",
            "the over-dress is beautiful, however the under-slip is very tight and is apparently made for some one who has no bust at all.  \n"
          ],
          "name": "stdout"
        }
      ]
    },
    {
      "cell_type": "markdown",
      "metadata": {
        "id": "nBl72TKxG5Vu",
        "colab_type": "text"
      },
      "source": [
        "#Parts of Speech and NER"
      ]
    },
    {
      "cell_type": "code",
      "metadata": {
        "id": "3E9vqQg-o7eU",
        "colab_type": "code",
        "colab": {
          "base_uri": "https://localhost:8080/",
          "height": 323
        },
        "outputId": "7147e4c9-831f-42f8-e3fa-4e3f8ab67038"
      },
      "source": [
        "POS_count = doc.count_by(spacy.attrs.POS)\n",
        "for k,v in sorted(POS_count.items()):\n",
        "  print(f'{k}, {doc.vocab[k].text} {v} ')"
      ],
      "execution_count": null,
      "outputs": [
        {
          "output_type": "stream",
          "text": [
            "84, ADJ 6399 \n",
            "85, ADP 5133 \n",
            "86, ADV 4787 \n",
            "87, AUX 4879 \n",
            "89, CCONJ 3339 \n",
            "90, DET 8329 \n",
            "91, INTJ 87 \n",
            "92, NOUN 11003 \n",
            "93, NUM 1101 \n",
            "94, PART 1692 \n",
            "95, PRON 6510 \n",
            "96, PROPN 822 \n",
            "97, PUNCT 8311 \n",
            "98, SCONJ 1361 \n",
            "99, SYM 140 \n",
            "100, VERB 7634 \n",
            "101, X 37 \n",
            "103, SPACE 1327 \n"
          ],
          "name": "stdout"
        }
      ]
    },
    {
      "cell_type": "code",
      "metadata": {
        "id": "a2Wu2x_Vq6x5",
        "colab_type": "code",
        "colab": {
          "base_uri": "https://localhost:8080/",
          "height": 187
        },
        "outputId": "7e0efc56-37aa-46bc-dbb4-7c3d6c5e6ef2"
      },
      "source": [
        "i=0\n",
        "for token in doc:\n",
        "    if token.pos_ == 'INTJ':\n",
        "     if i<10:\n",
        "      i+=1\n",
        "      print(f'{token.text:{10}} {token.lemma_:{10}} {token.pos_:{6}} {token.tag_:{12}} {spacy.explain(token.tag_)}') \n",
        "     else:\n",
        "       break"
      ],
      "execution_count": null,
      "outputs": [
        {
          "output_type": "stream",
          "text": [
            "alas       alas       INTJ   UH           interjection\n",
            "well       well       INTJ   UH           interjection\n",
            "eh         eh         INTJ   UH           interjection\n",
            "ha         ha         INTJ   UH           interjection\n",
            "yeah       yeah       INTJ   UH           interjection\n",
            "like       like       INTJ   UH           interjection\n",
            "well       well       INTJ   UH           interjection\n",
            "well       well       INTJ   UH           interjection\n",
            "well       well       INTJ   UH           interjection\n",
            "aw         aw         INTJ   UH           interjection\n"
          ],
          "name": "stdout"
        }
      ]
    },
    {
      "cell_type": "code",
      "metadata": {
        "id": "peEqMCZuv1sV",
        "colab_type": "code",
        "colab": {
          "base_uri": "https://localhost:8080/",
          "height": 34
        },
        "outputId": "f64f2c4c-ec58-4335-a057-1be01530790f"
      },
      "source": [
        "spans = list(doc.sents)[0]\n",
        "spans"
      ],
      "execution_count": null,
      "outputs": [
        {
          "output_type": "execute_result",
          "data": {
            "text/plain": [
              "I really wanted this to work."
            ]
          },
          "metadata": {
            "tags": []
          },
          "execution_count": 53
        }
      ]
    },
    {
      "cell_type": "markdown",
      "metadata": {
        "id": "V9MTmMkXGwKV",
        "colab_type": "text"
      },
      "source": [
        "# Named Entity Recognition"
      ]
    },
    {
      "cell_type": "code",
      "metadata": {
        "id": "6HPCoEh5FM_e",
        "colab_type": "code",
        "colab": {
          "base_uri": "https://localhost:8080/",
          "height": 227
        },
        "outputId": "da615fd3-fbc3-47fb-fc02-5b5710776b7b"
      },
      "source": [
        "displacy.render(doc[0:200], style='ent', jupyter=True, options={'distance': 110})"
      ],
      "execution_count": null,
      "outputs": [
        {
          "output_type": "display_data",
          "data": {
            "text/html": [
              "<span class=\"tex2jax_ignore\"><div class=\"entities\" style=\"line-height: 2.5; direction: ltr\">I really wanted this to work. alas, it had a strange fit for me. the straps would not stay up, and it had a weird fit under the breast. it worked standing up, but the minute i sat down it fell off my shoulders. the fabric was beautiful! and i loved that it had pockets.</br>I love cute \n",
              "<mark class=\"entity\" style=\"background: #bfe1d9; padding: 0.45em 0.6em; margin: 0 0.25em; line-height: 1; border-radius: 0.35em;\">\n",
              "    summer\n",
              "    <span style=\"font-size: 0.8em; font-weight: bold; line-height: 1; border-radius: 0.35em; text-transform: uppercase; vertical-align: middle; margin-left: 0.5rem\">DATE</span>\n",
              "</mark>\n",
              " dresses and this one, especially because it is made out of linen, is unique. it is very well-made with a design that is quite flattering. i am \n",
              "<mark class=\"entity\" style=\"background: #e4e7d2; padding: 0.45em 0.6em; margin: 0 0.25em; line-height: 1; border-radius: 0.35em;\">\n",
              "    5 foot\n",
              "    <span style=\"font-size: 0.8em; font-weight: bold; line-height: 1; border-radius: 0.35em; text-transform: uppercase; vertical-align: middle; margin-left: 0.5rem\">QUANTITY</span>\n",
              "</mark>\n",
              " \n",
              "<mark class=\"entity\" style=\"background: #e4e7d2; padding: 0.45em 0.6em; margin: 0 0.25em; line-height: 1; border-radius: 0.35em;\">\n",
              "    6\n",
              "    <span style=\"font-size: 0.8em; font-weight: bold; line-height: 1; border-radius: 0.35em; text-transform: uppercase; vertical-align: middle; margin-left: 0.5rem\">CARDINAL</span>\n",
              "</mark>\n",
              " and a little curvy with a \n",
              "<mark class=\"entity\" style=\"background: #e4e7d2; padding: 0.45em 0.6em; margin: 0 0.25em; line-height: 1; border-radius: 0.35em;\">\n",
              "    38\n",
              "    <span style=\"font-size: 0.8em; font-weight: bold; line-height: 1; border-radius: 0.35em; text-transform: uppercase; vertical-align: middle; margin-left: 0.5rem\">CARDINAL</span>\n",
              "</mark>\n",
              " c bust and i got a size \n",
              "<mark class=\"entity\" style=\"background: #e4e7d2; padding: 0.45em 0.6em; margin: 0 0.25em; line-height: 1; border-radius: 0.35em;\">\n",
              "    10\n",
              "    <span style=\"font-size: 0.8em; font-weight: bold; line-height: 1; border-radius: 0.35em; text-transform: uppercase; vertical-align: middle; margin-left: 0.5rem\">CARDINAL</span>\n",
              "</mark>\n",
              ". it fits well although it is difficult to zip up because the material has no give. the perfect dress to wear to \n",
              "<mark class=\"entity\" style=\"background: #feca74; padding: 0.45em 0.6em; margin: 0 0.25em; line-height: 1; border-radius: 0.35em;\">\n",
              "    italy\n",
              "    <span style=\"font-size: 0.8em; font-weight: bold; line-height: 1; border-radius: 0.35em; text-transform: uppercase; vertical-align: middle; margin-left: 0.5rem\">GPE</span>\n",
              "</mark>\n",
              " or \n",
              "<mark class=\"entity\" style=\"background: #feca74; padding: 0.45em 0.6em; margin: 0 0.25em; line-height: 1; border-radius: 0.35em;\">\n",
              "    france\n",
              "    <span style=\"font-size: 0.8em; font-weight: bold; line-height: 1; border-radius: 0.35em; text-transform: uppercase; vertical-align: middle; margin-left: 0.5rem\">GPE</span>\n",
              "</mark>\n",
              "! now i just have to book my tickets!</br>This is the perfect summer dress. it can be dressed up or down. the quality of the linen fabric is very nice. i'm \n",
              "<mark class=\"entity\" style=\"background: #e4e7d2; padding: 0.45em 0.6em; margin: 0 0.25em; line-height: 1; border-radius: 0.35em;\">\n",
              "    5'1\n",
              "    <span style=\"font-size: 0.8em; font-weight: bold; line-height: 1; border-radius: 0.35em; text-transform: uppercase; vertical-align: middle; margin-left: 0.5rem\">CARDINAL</span>\n",
              "</mark>\n",
              "&quot; and it hit right below my knees. i found it to run </div></span>"
            ],
            "text/plain": [
              "<IPython.core.display.HTML object>"
            ]
          },
          "metadata": {
            "tags": []
          }
        }
      ]
    },
    {
      "cell_type": "code",
      "metadata": {
        "id": "1Uh_oGJxFd4c",
        "colab_type": "code",
        "colab": {
          "base_uri": "https://localhost:8080/",
          "height": 119
        },
        "outputId": "a37169b9-2cd3-44b4-8b3a-12b971c5c946"
      },
      "source": [
        "def show_ents(doc):\n",
        "    if doc.ents:\n",
        "        for ent in doc.ents:\n",
        "          if ent.label_ == 'PRODUCT':\n",
        "            print(ent.text+' - '+ent.label_+' - '+str(spacy.explain(ent.label_)))\n",
        "    else:\n",
        "        print('No named entities found.')\n",
        "\n",
        "document = show_ents(doc)\n",
        "document"
      ],
      "execution_count": null,
      "outputs": [
        {
          "output_type": "stream",
          "text": [
            "the s fit - PRODUCT - Objects, vehicles, foods, etc. (not services)\n",
            "the s fit great - PRODUCT - Objects, vehicles, foods, etc. (not services)\n",
            "p6 - PRODUCT - Objects, vehicles, foods, etc. (not services)\n",
            "s - PRODUCT - Objects, vehicles, foods, etc. (not services)\n",
            "a34b - PRODUCT - Objects, vehicles, foods, etc. (not services)\n",
            "small/ - PRODUCT - Objects, vehicles, foods, etc. (not services)\n"
          ],
          "name": "stdout"
        }
      ]
    },
    {
      "cell_type": "code",
      "metadata": {
        "id": "_7_rcrRuHN6d",
        "colab_type": "code",
        "colab": {
          "base_uri": "https://localhost:8080/",
          "height": 34
        },
        "outputId": "6cd762ed-d957-42d9-bd88-0acc626efaf8"
      },
      "source": [
        "PRODUCT = doc.vocab.strings[u\"PRODUCT\"]\n",
        "PRODUCT"
      ],
      "execution_count": null,
      "outputs": [
        {
          "output_type": "execute_result",
          "data": {
            "text/plain": [
              "386"
            ]
          },
          "metadata": {
            "tags": []
          },
          "execution_count": 56
        }
      ]
    },
    {
      "cell_type": "markdown",
      "metadata": {
        "id": "8T9CZd3obTGc",
        "colab_type": "text"
      },
      "source": [
        "# **Adding the custome entity tags**"
      ]
    },
    {
      "cell_type": "code",
      "metadata": {
        "id": "V8Wuru2_LIq1",
        "colab_type": "code",
        "colab": {
          "base_uri": "https://localhost:8080/",
          "height": 51
        },
        "outputId": "fbef01d6-5444-4555-f9d2-334e5cd821e6"
      },
      "source": [
        "for i,token in enumerate(doc):\n",
        "  if token.text == 'dress':\n",
        "     print(token.text)\n",
        "     print(i)\n",
        "     break"
      ],
      "execution_count": null,
      "outputs": [
        {
          "output_type": "stream",
          "text": [
            "dress\n",
            "140\n"
          ],
          "name": "stdout"
        }
      ]
    },
    {
      "cell_type": "code",
      "metadata": {
        "id": "hbPGVBncjKoK",
        "colab_type": "code",
        "colab": {
          "base_uri": "https://localhost:8080/",
          "height": 34
        },
        "outputId": "81525d31-8df8-43f7-e571-d283b06e1a9b"
      },
      "source": [
        "doc[140]"
      ],
      "execution_count": null,
      "outputs": [
        {
          "output_type": "execute_result",
          "data": {
            "text/plain": [
              "dress"
            ]
          },
          "metadata": {
            "tags": []
          },
          "execution_count": 58
        }
      ]
    },
    {
      "cell_type": "code",
      "metadata": {
        "id": "Q24HmK_2TYBB",
        "colab_type": "code",
        "colab": {
          "base_uri": "https://localhost:8080/",
          "height": 527
        },
        "outputId": "68faccc4-636d-4404-9615-ebb5e43bdbfe"
      },
      "source": [
        "list(doc)[130:160]"
      ],
      "execution_count": null,
      "outputs": [
        {
          "output_type": "execute_result",
          "data": {
            "text/plain": [
              "[up,\n",
              " because,\n",
              " the,\n",
              " material,\n",
              " has,\n",
              " no,\n",
              " give,\n",
              " .,\n",
              " the,\n",
              " perfect,\n",
              " dress,\n",
              " to,\n",
              " wear,\n",
              " to,\n",
              " italy,\n",
              " or,\n",
              " france,\n",
              " !,\n",
              " now,\n",
              " i,\n",
              " just,\n",
              " have,\n",
              " to,\n",
              " book,\n",
              " my,\n",
              " tickets,\n",
              " !,\n",
              " ,\n",
              " This,\n",
              " is]"
            ]
          },
          "metadata": {
            "tags": []
          },
          "execution_count": 59
        }
      ]
    },
    {
      "cell_type": "code",
      "metadata": {
        "id": "hG4F5Tj3LDlb",
        "colab_type": "code",
        "colab": {}
      },
      "source": [
        "new_ent = Span(doc,140, 141, label=PRODUCT)\n",
        "doc.ents = list(doc.ents)+ [new_ent]"
      ],
      "execution_count": null,
      "outputs": []
    },
    {
      "cell_type": "code",
      "metadata": {
        "id": "FR-JQTDMMRCl",
        "colab_type": "code",
        "colab": {
          "base_uri": "https://localhost:8080/",
          "height": 136
        },
        "outputId": "8902ad74-dea7-463a-b874-7fe4ef8b5fcc"
      },
      "source": [
        "show_ents(doc)"
      ],
      "execution_count": null,
      "outputs": [
        {
          "output_type": "stream",
          "text": [
            "dress - PRODUCT - Objects, vehicles, foods, etc. (not services)\n",
            "the s fit - PRODUCT - Objects, vehicles, foods, etc. (not services)\n",
            "the s fit great - PRODUCT - Objects, vehicles, foods, etc. (not services)\n",
            "p6 - PRODUCT - Objects, vehicles, foods, etc. (not services)\n",
            "s - PRODUCT - Objects, vehicles, foods, etc. (not services)\n",
            "a34b - PRODUCT - Objects, vehicles, foods, etc. (not services)\n",
            "small/ - PRODUCT - Objects, vehicles, foods, etc. (not services)\n"
          ],
          "name": "stdout"
        }
      ]
    },
    {
      "cell_type": "code",
      "metadata": {
        "id": "CtxTgilRygF1",
        "colab_type": "code",
        "colab": {
          "base_uri": "https://localhost:8080/",
          "height": 34
        },
        "outputId": "76a7a202-e7c3-4f14-e6c1-5c10ff9780db"
      },
      "source": [
        "phrase_matcher = PhraseMatcher(nlp.vocab)\n",
        "phrase = ['dress']\n",
        "phrase_patterns =  [nlp(text) for text in phrase]\n",
        "print(phrase_patterns)\n",
        "phrase_matcher.add('rsk', None, *phrase_patterns)"
      ],
      "execution_count": null,
      "outputs": [
        {
          "output_type": "stream",
          "text": [
            "[dress]\n"
          ],
          "name": "stdout"
        }
      ]
    },
    {
      "cell_type": "code",
      "metadata": {
        "id": "SY3xmDbKa-bd",
        "colab_type": "code",
        "colab": {
          "base_uri": "https://localhost:8080/",
          "height": 187
        },
        "outputId": "e86b3fcf-6328-46d5-80a2-56f8454f157d"
      },
      "source": [
        "phrase_matches = phrase_matcher(doc)\n",
        "phrase_matches[0:10]"
      ],
      "execution_count": null,
      "outputs": [
        {
          "output_type": "execute_result",
          "data": {
            "text/plain": [
              "[(3674190656160917763, 140, 141),\n",
              " (3674190656160917763, 163, 164),\n",
              " (3674190656160917763, 278, 279),\n",
              " (3674190656160917763, 362, 363),\n",
              " (3674190656160917763, 379, 380),\n",
              " (3674190656160917763, 420, 421),\n",
              " (3674190656160917763, 423, 424),\n",
              " (3674190656160917763, 467, 468),\n",
              " (3674190656160917763, 495, 496),\n",
              " (3674190656160917763, 510, 511)]"
            ]
          },
          "metadata": {
            "tags": []
          },
          "execution_count": 63
        }
      ]
    },
    {
      "cell_type": "code",
      "metadata": {
        "id": "ti1AVEeG1wNK",
        "colab_type": "code",
        "colab": {
          "base_uri": "https://localhost:8080/",
          "height": 34
        },
        "outputId": "6052d264-dd30-4750-beb6-1a44b56aea4a"
      },
      "source": [
        "new_ents_dress = [Span(doc, match[1], match[2], label=PRODUCT) for match in phrase_matches if match[1] != 140]\n",
        "new_ents_dress[0:5]"
      ],
      "execution_count": null,
      "outputs": [
        {
          "output_type": "execute_result",
          "data": {
            "text/plain": [
              "[dress, dress, dress, dress, dress]"
            ]
          },
          "metadata": {
            "tags": []
          },
          "execution_count": 64
        }
      ]
    },
    {
      "cell_type": "markdown",
      "metadata": {
        "id": "iFWD4QEqGaw0",
        "colab_type": "text"
      },
      "source": [
        "#Sentence Segmentation"
      ]
    },
    {
      "cell_type": "code",
      "metadata": {
        "id": "9__JQbzzGgoE",
        "colab_type": "code",
        "colab": {
          "base_uri": "https://localhost:8080/",
          "height": 68
        },
        "outputId": "87a15976-dc12-491b-83b5-578abca7bfab"
      },
      "source": [
        "ss_list = list(doc.sents)[0:3]\n",
        "ss_list"
      ],
      "execution_count": null,
      "outputs": [
        {
          "output_type": "execute_result",
          "data": {
            "text/plain": [
              "[I really wanted this to work.,\n",
              " alas, it had a strange fit for me.,\n",
              " the straps would not stay up, and it had a weird fit under the breast.]"
            ]
          },
          "metadata": {
            "tags": []
          },
          "execution_count": 65
        }
      ]
    },
    {
      "cell_type": "markdown",
      "metadata": {
        "id": "ukAsSa4fI2OE",
        "colab_type": "text"
      },
      "source": [
        "Adding segmentation rule"
      ]
    },
    {
      "cell_type": "code",
      "metadata": {
        "id": "sdzF82vVI49C",
        "colab_type": "code",
        "colab": {
          "base_uri": "https://localhost:8080/",
          "height": 34
        },
        "outputId": "021bb3c4-927b-40d6-82a0-4f79917a27fb"
      },
      "source": [
        "ss= [str(sent) for sent in ss_list]\n",
        "ss= \".\".join(ss)\n",
        "print(type(ss))\n"
      ],
      "execution_count": null,
      "outputs": [
        {
          "output_type": "stream",
          "text": [
            "<class 'str'>\n"
          ],
          "name": "stdout"
        }
      ]
    },
    {
      "cell_type": "code",
      "metadata": {
        "id": "lLS715rYRVoI",
        "colab_type": "code",
        "colab": {
          "base_uri": "https://localhost:8080/",
          "height": 34
        },
        "outputId": "58e24e6a-14fe-428d-8a2d-4c2aaf58b38f"
      },
      "source": [
        "dec_ss= nlp(ss)\n",
        "type(dec_ss)"
      ],
      "execution_count": null,
      "outputs": [
        {
          "output_type": "execute_result",
          "data": {
            "text/plain": [
              "spacy.tokens.doc.Doc"
            ]
          },
          "metadata": {
            "tags": []
          },
          "execution_count": 67
        }
      ]
    },
    {
      "cell_type": "code",
      "metadata": {
        "id": "ISPO8CqiRYDi",
        "colab_type": "code",
        "colab": {
          "base_uri": "https://localhost:8080/",
          "height": 68
        },
        "outputId": "b4a9c0d8-556f-4761-f623-80e5582b64ca"
      },
      "source": [
        "for sent in dec_ss.sents:\n",
        "  print(sent)"
      ],
      "execution_count": null,
      "outputs": [
        {
          "output_type": "stream",
          "text": [
            "I really wanted this to work..\n",
            "alas, it had a strange fit for me..\n",
            "the straps would not stay up, and it had a weird fit under the breast.\n"
          ],
          "name": "stdout"
        }
      ]
    },
    {
      "cell_type": "code",
      "metadata": {
        "id": "mj-pWQDNWQ5m",
        "colab_type": "code",
        "colab": {}
      },
      "source": [
        "def set_custome_segmentations(doc):\n",
        "  for token in doc[:-1]:\n",
        "    if token.text == \",\":\n",
        "      doc[token.i+1].is_sent_start = True\n",
        "  return doc"
      ],
      "execution_count": null,
      "outputs": []
    },
    {
      "cell_type": "code",
      "metadata": {
        "id": "zJ6mE7LsWvSs",
        "colab_type": "code",
        "colab": {
          "base_uri": "https://localhost:8080/",
          "height": 34
        },
        "outputId": "566bb469-7351-45b5-f819-2c824929fa59"
      },
      "source": [
        "#nlp.remove_i(set_custome_segmentation_rules, before='parser')\n",
        "#nlp.remove_pipe(\"set_custome_segmentation\")\n",
        "nlp.pipe_names\n",
        "nlp.add_pipe(set_custome_segmentations, before='parser')\n",
        "print(nlp.pipe_names)"
      ],
      "execution_count": null,
      "outputs": [
        {
          "output_type": "stream",
          "text": [
            "['tagger', 'set_custome_segmentations', 'parser', 'ner']\n"
          ],
          "name": "stdout"
        }
      ]
    },
    {
      "cell_type": "markdown",
      "metadata": {
        "id": "nQhDSZx5XJEN",
        "colab_type": "text"
      },
      "source": [
        "**BEFORE SEGMENTATION RULE**"
      ]
    },
    {
      "cell_type": "code",
      "metadata": {
        "id": "tk0PSZLEXJfo",
        "colab_type": "code",
        "colab": {
          "base_uri": "https://localhost:8080/",
          "height": 68
        },
        "outputId": "f376d752-af6e-44ee-eb14-206cedde2c5d"
      },
      "source": [
        "for sent in dec_ss.sents:\n",
        "  print(sent)"
      ],
      "execution_count": null,
      "outputs": [
        {
          "output_type": "stream",
          "text": [
            "I really wanted this to work..\n",
            "alas, it had a strange fit for me..\n",
            "the straps would not stay up, and it had a weird fit under the breast.\n"
          ],
          "name": "stdout"
        }
      ]
    },
    {
      "cell_type": "markdown",
      "metadata": {
        "id": "rH5_NpGhXJ7U",
        "colab_type": "text"
      },
      "source": [
        "**AFTER SEGMENTAION RULE**"
      ]
    },
    {
      "cell_type": "code",
      "metadata": {
        "id": "Qa93c9lzXKYP",
        "colab_type": "code",
        "colab": {
          "base_uri": "https://localhost:8080/",
          "height": 102
        },
        "outputId": "b6b918f3-f7aa-48ce-b1e8-d680cc0b9c6c"
      },
      "source": [
        "doc_post_ss = nlp(ss)\n",
        "for sent in doc_post_ss.sents:\n",
        "  print(sent)"
      ],
      "execution_count": null,
      "outputs": [
        {
          "output_type": "stream",
          "text": [
            "I really wanted this to work..\n",
            "alas,\n",
            "it had a strange fit for me..\n",
            "the straps would not stay up,\n",
            "and it had a weird fit under the breast.\n"
          ],
          "name": "stdout"
        }
      ]
    },
    {
      "cell_type": "code",
      "metadata": {
        "id": "7EIEv6vEsj69",
        "colab_type": "code",
        "colab": {
          "base_uri": "https://localhost:8080/",
          "height": 68
        },
        "outputId": "3500195e-b021-43fe-ec68-79d728634054"
      },
      "source": [
        "for sent in dec_ss.sents:\n",
        "  print(sent)"
      ],
      "execution_count": null,
      "outputs": [
        {
          "output_type": "stream",
          "text": [
            "I really wanted this to work..\n",
            "alas, it had a strange fit for me..\n",
            "the straps would not stay up, and it had a weird fit under the breast.\n"
          ],
          "name": "stdout"
        }
      ]
    }
  ]
}