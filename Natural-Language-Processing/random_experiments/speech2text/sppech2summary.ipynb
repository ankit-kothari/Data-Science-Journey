{
  "cells": [
    {
      "cell_type": "code",
      "execution_count": 13,
      "metadata": {
        "id": "jIpqPLCSfifl"
      },
      "outputs": [],
      "source": [
        "#!pip3 install vosk\n",
        "#!pip3 install pydub # for audio processing\n",
        "#!pip3 install rpunct\n",
        "#!pip3 install transformers"
      ]
    },
    {
      "cell_type": "code",
      "execution_count": 2,
      "metadata": {
        "id": "LCnNrCJpfifn"
      },
      "outputs": [],
      "source": [
        "from vosk import Model, KaldiRecognizer\n",
        "from pydub import AudioSegment\n",
        "import json\n"
      ]
    },
    {
      "cell_type": "code",
      "execution_count": 3,
      "metadata": {
        "id": "HCU7nYeSfifo",
        "outputId": "83fd5742-0d8c-4e98-f040-e6cdb603fa3d",
        "colab": {
          "base_uri": "https://localhost:8080/"
        }
      },
      "outputs": [
        {
          "output_type": "stream",
          "name": "stderr",
          "text": [
            "vosk-model-en-us-0.22.zip: 100%|██████████| 1.78G/1.78G [00:41<00:00, 46.6MB/s]\n"
          ]
        }
      ],
      "source": [
        "FRAME_RATE = 16000 # Hz\n",
        "CHANNEL = 1 # Mono\n",
        "model = Model(model_name=\"vosk-model-en-us-0.22\") # Model name is \"vosk-model-en-us-0.22\"\n",
        "\n",
        "rec = KaldiRecognizer(model, FRAME_RATE)\n",
        "rec.SetWords(True)"
      ]
    },
    {
      "cell_type": "code",
      "source": [
        "from google.colab import drive\n",
        "drive.mount('/content/drive')"
      ],
      "metadata": {
        "id": "lTO1zAPsfp9W",
        "outputId": "a6396eaa-1fc8-4914-bf58-6a94de0a6e07",
        "colab": {
          "base_uri": "https://localhost:8080/"
        }
      },
      "execution_count": 4,
      "outputs": [
        {
          "output_type": "stream",
          "name": "stdout",
          "text": [
            "Mounted at /content/drive\n"
          ]
        }
      ]
    },
    {
      "cell_type": "code",
      "execution_count": 5,
      "metadata": {
        "id": "UPBW2ReKfifo"
      },
      "outputs": [],
      "source": [
        "mp3 = AudioSegment.from_mp3(\"/content/drive/MyDrive/data/speech2sum/marketplace.mp3\")\n",
        "mp3 = mp3.set_frame_rate(FRAME_RATE)\n",
        "mp3 = mp3.set_channels(CHANNEL)"
      ]
    },
    {
      "cell_type": "code",
      "source": [
        "rec.AcceptWaveform(mp3.raw_data) #raw_data is the binary represantaion of the original file\n",
        "result = rec.Result() #outputs a JSON file\n",
        "raw_text = json.loads(result)"
      ],
      "metadata": {
        "id": "HPcmIylktJQN"
      },
      "execution_count": 6,
      "outputs": []
    },
    {
      "cell_type": "code",
      "source": [
        "raw_text"
      ],
      "metadata": {
        "id": "MnSpAet7tnqE",
        "outputId": "19272ae2-508b-436d-f802-a6c973beef32",
        "colab": {
          "base_uri": "https://localhost:8080/"
        }
      },
      "execution_count": 7,
      "outputs": [
        {
          "output_type": "execute_result",
          "data": {
            "text/plain": [
              "{'result': [{'conf': 1.0, 'end': 0.18, 'start': 0.09, 'word': 'the'},\n",
              "  {'conf': 1.0, 'end': 0.57, 'start': 0.18, 'word': 'funny'},\n",
              "  {'conf': 1.0, 'end': 0.96, 'start': 0.6, 'word': 'thing'},\n",
              "  {'conf': 1.0, 'end': 1.23, 'start': 0.96, 'word': 'about'},\n",
              "  {'conf': 1.0, 'end': 1.32, 'start': 1.23, 'word': 'the'},\n",
              "  {'conf': 1.0, 'end': 1.68, 'start': 1.32, 'word': 'big'},\n",
              "  {'conf': 1.0, 'end': 2.22, 'start': 1.71, 'word': 'economic'},\n",
              "  {'conf': 1.0, 'end': 2.49, 'start': 2.22, 'word': 'news'},\n",
              "  {'conf': 1.0, 'end': 2.58, 'start': 2.49, 'word': 'of'},\n",
              "  {'conf': 1.0, 'end': 2.67, 'start': 2.58, 'word': 'the'},\n",
              "  {'conf': 1.0, 'end': 3.06, 'start': 2.67, 'word': 'day'},\n",
              "  {'conf': 1.0, 'end': 3.75, 'start': 3.63, 'word': 'the'},\n",
              "  {'conf': 1.0, 'end': 3.96, 'start': 3.75, 'word': 'fed'},\n",
              "  {'conf': 1.0, 'end': 4.26, 'start': 3.96, 'word': 'raising'},\n",
              "  {'conf': 1.0, 'end': 4.59, 'start': 4.26, 'word': 'interest'},\n",
              "  {'conf': 1.0, 'end': 4.98, 'start': 4.59, 'word': 'rates'},\n",
              "  {'conf': 1.0, 'end': 5.28, 'start': 5.01, 'word': 'half'},\n",
              "  {'conf': 1.0, 'end': 5.31, 'start': 5.28, 'word': 'a'},\n",
              "  {'conf': 1.0, 'end': 5.7, 'start': 5.31, 'word': 'percentage'},\n",
              "  {'conf': 1.0, 'end': 6.0, 'start': 5.7, 'word': 'point'},\n",
              "  {'conf': 1.0, 'end': 6.87, 'start': 6.6, 'word': 'was'},\n",
              "  {'conf': 1.0, 'end': 6.96, 'start': 6.87, 'word': 'that'},\n",
              "  {'conf': 1.0, 'end': 7.08, 'start': 6.96, 'word': 'there'},\n",
              "  {'conf': 1.0, 'end': 7.23, 'start': 7.08, 'word': 'was'},\n",
              "  {'conf': 1.0, 'end': 7.47, 'start': 7.23, 'word': 'only'},\n",
              "  {'conf': 1.0, 'end': 7.77, 'start': 7.47, 'word': 'really'},\n",
              "  {'conf': 1.0, 'end': 8.13, 'start': 7.77, 'word': 'one'},\n",
              "  {'conf': 1.0, 'end': 8.64, 'start': 8.13, 'word': 'tidbit'},\n",
              "  {'conf': 1.0, 'end': 8.82, 'start': 8.64, 'word': 'of'},\n",
              "  {'conf': 1.0, 'end': 9.27, 'start': 8.82, 'word': 'actual'},\n",
              "  {'conf': 1.0, 'end': 9.66, 'start': 9.27, 'word': 'news'},\n",
              "  {'conf': 1.0, 'end': 9.78, 'start': 9.66, 'word': 'in'},\n",
              "  {'conf': 1.0, 'end': 9.87, 'start': 9.78, 'word': 'the'},\n",
              "  {'conf': 1.0, 'end': 10.26, 'start': 9.87, 'word': 'news'},\n",
              "  {'conf': 1.0, 'end': 10.47, 'start': 10.29, 'word': 'and'},\n",
              "  {'conf': 1.0, 'end': 10.59, 'start': 10.47, 'word': 'the'},\n",
              "  {'conf': 1.0, 'end': 10.98, 'start': 10.59, 'word': 'interest'},\n",
              "  {'conf': 1.0, 'end': 11.19, 'start': 10.98, 'word': 'rate'},\n",
              "  {'conf': 1.0, 'end': 11.79, 'start': 11.19, 'word': 'increase'},\n",
              "  {'conf': 1.0, 'end': 12.87, 'start': 12.06, 'word': \"wasn't\"},\n",
              "  {'conf': 1.0, 'end': 13.35, 'start': 12.99, 'word': 'it'},\n",
              "  {'conf': 1.0, 'end': 13.62, 'start': 13.35, 'word': 'you'},\n",
              "  {'conf': 0.793655, 'end': 13.77, 'start': 13.62, 'word': 'knew'},\n",
              "  {'conf': 1.0, 'end': 13.89, 'start': 13.77, 'word': 'it'},\n",
              "  {'conf': 1.0, 'end': 14.01, 'start': 13.89, 'word': 'was'},\n",
              "  {'conf': 1.0, 'end': 14.4, 'start': 14.01, 'word': 'coming'},\n",
              "  {'conf': 1.0, 'end': 14.85, 'start': 14.58, 'word': 'i'},\n",
              "  {'conf': 0.896532, 'end': 15.03, 'start': 14.85, 'word': 'knew'},\n",
              "  {'conf': 1.0, 'end': 15.15, 'start': 15.03, 'word': 'it'},\n",
              "  {'conf': 1.0, 'end': 15.3, 'start': 15.15, 'word': 'was'},\n",
              "  {'conf': 1.0, 'end': 15.66, 'start': 15.3, 'word': 'common'},\n",
              "  {'conf': 1.0, 'end': 16.11, 'start': 15.66, 'word': 'wall'},\n",
              "  {'conf': 1.0, 'end': 16.47, 'start': 16.11, 'word': 'street'},\n",
              "  {'conf': 1.0, 'end': 16.86, 'start': 16.47, 'word': 'news'},\n",
              "  {'conf': 1.0, 'end': 17.07, 'start': 16.86, 'word': 'come'},\n",
              "  {'conf': 1.0, 'end': 17.19, 'start': 17.07, 'word': 'and'},\n",
              "  {'conf': 1.0, 'end': 18.21, 'start': 17.19, 'word': 'businesses'},\n",
              "  {'conf': 1.0, 'end': 18.6, 'start': 18.24, 'word': 'knew'},\n",
              "  {'conf': 1.0, 'end': 18.75, 'start': 18.6, 'word': 'it'},\n",
              "  {'conf': 1.0, 'end': 18.93, 'start': 18.75, 'word': 'was'},\n",
              "  {'conf': 0.683684, 'end': 19.29, 'start': 18.93, 'word': 'common'},\n",
              "  {'conf': 1.0, 'end': 20.07, 'start': 19.74, 'word': 'so'},\n",
              "  {'conf': 1.0, 'end': 20.46, 'start': 20.07, 'word': 'on'},\n",
              "  {'conf': 1.0, 'end': 20.76, 'start': 20.49, 'word': 'this'},\n",
              "  {'conf': 1.0, 'end': 21.0, 'start': 20.76, 'word': 'fed'},\n",
              "  {'conf': 1.0, 'end': 21.21, 'start': 21.0, 'word': 'day'},\n",
              "  {'conf': 1.0, 'end': 21.33, 'start': 21.21, 'word': 'on'},\n",
              "  {'conf': 1.0, 'end': 21.48, 'start': 21.33, 'word': 'this'},\n",
              "  {'conf': 1.0, 'end': 21.9, 'start': 21.48, 'word': 'program'},\n",
              "  {'conf': 1.0, 'end': 22.29, 'start': 21.9, 'word': 'something'},\n",
              "  {'conf': 1.0, 'end': 22.35, 'start': 22.29, 'word': 'a'},\n",
              "  {'conf': 1.0, 'end': 22.53, 'start': 22.35, 'word': 'little'},\n",
              "  {'conf': 1.0, 'end': 22.65, 'start': 22.53, 'word': 'bit'},\n",
              "  {'conf': 1.0, 'end': 22.98, 'start': 22.65, 'word': 'different'},\n",
              "  {'conf': 1.0, 'end': 23.22, 'start': 22.98, 'word': 'jay'},\n",
              "  {'conf': 1.0, 'end': 23.73, 'start': 23.22, 'word': 'powell'},\n",
              "  {'conf': 1.0, 'end': 23.88, 'start': 23.73, 'word': 'in'},\n",
              "  {'conf': 1.0, 'end': 24.03, 'start': 23.88, 'word': 'his'},\n",
              "  {'conf': 1.0, 'end': 24.3, 'start': 24.03, 'word': 'own'},\n",
              "  {'conf': 1.0, 'end': 24.63, 'start': 24.3, 'word': 'words'},\n",
              "  {'conf': 1.0, 'end': 25.11, 'start': 24.63, 'word': 'five'},\n",
              "  {'conf': 1.0, 'end': 25.26, 'start': 25.11, 'word': 'of'},\n",
              "  {'conf': 1.0, 'end': 25.41, 'start': 25.26, 'word': \"'em\"},\n",
              "  {'conf': 1.0, 'end': 25.65, 'start': 25.41, 'word': 'his'},\n",
              "  {'conf': 1.0, 'end': 26.16, 'start': 25.65, 'word': 'most'},\n",
              "  {'conf': 1.0, 'end': 26.64, 'start': 26.19, 'word': 'used'},\n",
              "  {'conf': 1.0, 'end': 27.143496, 'start': 26.64, 'word': 'economic'},\n",
              "  {'conf': 0.616202, 'end': 27.36, 'start': 27.15, 'word': 'words'},\n",
              "  {'conf': 1.0, 'end': 27.54, 'start': 27.36, 'word': 'from'},\n",
              "  {'conf': 1.0, 'end': 27.81, 'start': 27.54, 'word': \"today's\"},\n",
              "  {'conf': 1.0, 'end': 28.02, 'start': 27.81, 'word': 'press'},\n",
              "  {'conf': 1.0, 'end': 28.38, 'start': 28.02, 'word': 'conference'},\n",
              "  {'conf': 0.627945, 'end': 29.07, 'start': 28.86, 'word': 'were'},\n",
              "  {'conf': 1.0, 'end': 29.31, 'start': 29.07, 'word': 'number'},\n",
              "  {'conf': 1.0, 'end': 29.58, 'start': 29.31, 'word': 'one'},\n",
              "  {'conf': 1.0, 'end': 29.64, 'start': 29.58, 'word': 'of'},\n",
              "  {'conf': 1.0, 'end': 30.12, 'start': 29.64, 'word': 'course'},\n",
              "  {'conf': 1.0, 'end': 30.39, 'start': 30.12, 'word': \"it's\"},\n",
              "  {'conf': 1.0, 'end': 30.48, 'start': 30.39, 'word': 'the'},\n",
              "  {'conf': 1.0, 'end': 30.87, 'start': 30.48, 'word': 'biggie'},\n",
              "  {'conf': 1.0, 'end': 31.44, 'start': 31.23, 'word': 'two'},\n",
              "  {'conf': 0.522913, 'end': 31.86, 'start': 31.44, 'word': 'percent'},\n",
              "  {'conf': 1.0, 'end': 32.37, 'start': 31.92, 'word': 'inflation'},\n",
              "  {'conf': 1.0, 'end': 32.7, 'start': 32.37, 'word': 'inflation'},\n",
              "  {'conf': 1.0, 'end': 33.21, 'start': 32.7, 'word': 'inflation'},\n",
              "  {'conf': 1.0, 'end': 33.81, 'start': 33.21, 'word': 'inflation'},\n",
              "  {'conf': 1.0, 'end': 34.41, 'start': 33.84, 'word': 'inflation'},\n",
              "  {'conf': 1.0, 'end': 34.77, 'start': 34.41, 'word': 'inflation'},\n",
              "  {'conf': 0.719482, 'end': 35.07, 'start': 34.77, 'word': 'lh'},\n",
              "  {'conf': 1.0, 'end': 35.4, 'start': 35.083766, 'word': 'dealing'},\n",
              "  {'conf': 1.0, 'end': 35.55, 'start': 35.4, 'word': 'with'},\n",
              "  {'conf': 1.0, 'end': 36.03, 'start': 35.55, 'word': 'inflation'},\n",
              "  {'conf': 1.0, 'end': 36.63, 'start': 36.3, 'word': 'pals'},\n",
              "  {'conf': 1.0, 'end': 36.87, 'start': 36.63, 'word': 'big'},\n",
              "  {'conf': 1.0, 'end': 37.17, 'start': 36.87, 'word': 'worry'},\n",
              "  {'conf': 1.0, 'end': 37.29, 'start': 37.17, 'word': 'the'},\n",
              "  {'conf': 1.0, 'end': 37.56, 'start': 37.29, 'word': 'thing'},\n",
              "  {'conf': 1.0, 'end': 37.92, 'start': 37.56, 'word': 'keeping'},\n",
              "  {'conf': 1.0, 'end': 38.07, 'start': 37.92, 'word': 'him'},\n",
              "  {'conf': 1.0, 'end': 38.25, 'start': 38.07, 'word': 'up'},\n",
              "  {'conf': 1.0, 'end': 38.37, 'start': 38.25, 'word': 'at'},\n",
              "  {'conf': 1.0, 'end': 38.67, 'start': 38.37, 'word': 'night'},\n",
              "  {'conf': 1.0, 'end': 39.27, 'start': 38.67, 'word': 'price'},\n",
              "  {'conf': 1.0, 'end': 40.38, 'start': 39.3, 'word': 'stability'},\n",
              "  {'conf': 1.0, 'end': 40.65, 'start': 40.38, 'word': 'is'},\n",
              "  {'conf': 1.0, 'end': 40.77, 'start': 40.65, 'word': 'the'},\n",
              "  {'conf': 0.997342, 'end': 41.13, 'start': 40.77, 'word': \"fed's\"},\n",
              "  {'conf': 1.0, 'end': 41.67, 'start': 41.16, 'word': 'whole'},\n",
              "  {'conf': 0.970088, 'end': 42.3, 'start': 41.67, 'word': 'ballgame'},\n",
              "  {'conf': 1.0, 'end': 42.48, 'start': 42.3, 'word': 'right'},\n",
              "  {'conf': 1.0, 'end': 42.72, 'start': 42.48, 'word': 'now'},\n",
              "  {'conf': 0.504811, 'end': 43.140004, 'start': 42.720004, 'word': 'pau'},\n",
              "  {'conf': 1.0, 'end': 43.62, 'start': 43.140004, 'word': 'basically'},\n",
              "  {'conf': 1.0, 'end': 44.04, 'start': 43.62, 'word': 'said'},\n",
              "  {'conf': 1.0, 'end': 44.28, 'start': 44.04, 'word': 'as'},\n",
              "  {'conf': 1.0, 'end': 44.64, 'start': 44.28, 'word': 'much'},\n",
              "  {'conf': 0.730566, 'end': 45.15, 'start': 44.76, 'word': 'today'},\n",
              "  {'conf': 0.287749, 'end': 45.327385, 'start': 45.15, 'word': \"we're\"}],\n",
              " 'text': \"the funny thing about the big economic news of the day the fed raising interest rates half a percentage point was that there was only really one tidbit of actual news in the news and the interest rate increase wasn't it you knew it was coming i knew it was common wall street news come and businesses knew it was common so on this fed day on this program something a little bit different jay powell in his own words five of 'em his most used economic words from today's press conference were number one of course it's the biggie two percent inflation inflation inflation inflation inflation inflation lh dealing with inflation pals big worry the thing keeping him up at night price stability is the fed's whole ballgame right now pau basically said as much today we're\"}"
            ]
          },
          "metadata": {},
          "execution_count": 7
        }
      ]
    },
    {
      "cell_type": "code",
      "source": [
        "text=raw_text['text']\n",
        "text"
      ],
      "metadata": {
        "id": "xi1zh391uFDS",
        "outputId": "0604ab06-2334-435c-b5da-bdfca3862fa7",
        "colab": {
          "base_uri": "https://localhost:8080/",
          "height": 140
        }
      },
      "execution_count": 8,
      "outputs": [
        {
          "output_type": "execute_result",
          "data": {
            "text/plain": [
              "\"the funny thing about the big economic news of the day the fed raising interest rates half a percentage point was that there was only really one tidbit of actual news in the news and the interest rate increase wasn't it you knew it was coming i knew it was common wall street news come and businesses knew it was common so on this fed day on this program something a little bit different jay powell in his own words five of 'em his most used economic words from today's press conference were number one of course it's the biggie two percent inflation inflation inflation inflation inflation inflation lh dealing with inflation pals big worry the thing keeping him up at night price stability is the fed's whole ballgame right now pau basically said as much today we're\""
            ],
            "application/vnd.google.colaboratory.intrinsic+json": {
              "type": "string"
            }
          },
          "metadata": {},
          "execution_count": 8
        }
      ]
    },
    {
      "cell_type": "code",
      "source": [
        "import torch\n",
        "from rpunct import RestorePuncts\n",
        "device = torch.device(\"cuda\" if torch.cuda.is_available() else \"cpu\")\n",
        "#use_cuda= False\n",
        "\n",
        "# The default language is 'english'\n",
        "rpunct = RestorePuncts()"
      ],
      "metadata": {
        "id": "8iF5PtGpwylo"
      },
      "execution_count": 10,
      "outputs": []
    },
    {
      "cell_type": "code",
      "source": [
        "rpunct.punctuate(text)"
      ],
      "metadata": {
        "id": "wdkdnN-z1IA_",
        "outputId": "da46f4d4-3e46-4b45-899e-1a4ddf86acfd",
        "colab": {
          "base_uri": "https://localhost:8080/",
          "height": 140
        }
      },
      "execution_count": 11,
      "outputs": [
        {
          "output_type": "execute_result",
          "data": {
            "text/plain": [
              "\"The funny thing about the big economic news of the day the Fed raising interest rates half a percentage point was that there was only really one tidbit of actual news in the news. And the interest rate increase wasn't it. You knew it was coming. I knew it was common. Wall Street news come. and businesses knew it was common. So on this Fed day on this program, something a little bit different. Jay Powell in his own words, Five of 'em His most used economic words from today's press conference were: Number One: Of course, it's the biggie. Two Percent Inflation. Inflation. Inflation. Inflation. Inflation. Inflation. Lh. Dealing with inflation pals. Big worry. The thing keeping him up at night? price stability is the Fed's whole ballgame right now. Pau basically said as much today. we're.\""
            ],
            "application/vnd.google.colaboratory.intrinsic+json": {
              "type": "string"
            }
          },
          "metadata": {},
          "execution_count": 11
        }
      ]
    }
  ],
  "metadata": {
    "interpreter": {
      "hash": "4f946df053fbf2b937619d3c5458e7af74262f9a954d8797ba0b27400bcafe06"
    },
    "kernelspec": {
      "display_name": "Python 3.10.4 64-bit",
      "language": "python",
      "name": "python3"
    },
    "language_info": {
      "codemirror_mode": {
        "name": "ipython",
        "version": 3
      },
      "file_extension": ".py",
      "mimetype": "text/x-python",
      "name": "python",
      "nbconvert_exporter": "python",
      "pygments_lexer": "ipython3",
      "version": "3.10.4"
    },
    "orig_nbformat": 4,
    "colab": {
      "name": "sppech2summary.ipynb",
      "provenance": [],
      "machine_shape": "hm"
    },
    "gpuClass": "standard",
    "accelerator": "GPU"
  },
  "nbformat": 4,
  "nbformat_minor": 0
}