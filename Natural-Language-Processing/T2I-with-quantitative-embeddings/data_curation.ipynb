{
  "nbformat": 4,
  "nbformat_minor": 0,
  "metadata": {
    "colab": {
      "name": "data_curation.ipynb",
      "provenance": [],
      "collapsed_sections": []
    },
    "kernelspec": {
      "name": "python3",
      "display_name": "Python 3"
    },
    "language_info": {
      "name": "python"
    }
  },
  "cells": [
    {
      "cell_type": "code",
      "execution_count": null,
      "metadata": {
        "id": "vl2dmEDkN7XI",
        "colab": {
          "base_uri": "https://localhost:8080/"
        },
        "outputId": "b60e2b7d-0a8b-4d5c-c127-ed3988a8d42c"
      },
      "outputs": [
        {
          "output_type": "stream",
          "name": "stdout",
          "text": [
            "Looking in indexes: https://pypi.org/simple, https://us-python.pkg.dev/colab-wheels/public/simple/\n",
            "Collecting ndjson\n",
            "  Downloading ndjson-0.3.1-py2.py3-none-any.whl (5.3 kB)\n",
            "Installing collected packages: ndjson\n",
            "Successfully installed ndjson-0.3.1\n"
          ]
        }
      ],
      "source": [
        "import pandas as pd\n",
        "import numpy as np \n",
        "%matplotlib inline\n",
        "from pycocotools.coco import COCO\n",
        "import numpy as np\n",
        "import skimage.io as io\n",
        "import matplotlib.pyplot as plt\n",
        "import pylab\n",
        "!pip install ndjson\n"
      ]
    },
    {
      "cell_type": "code",
      "source": [
        "!gdown https://drive.google.com/uc?id=1BNCRmYK0x6qx6knpGrZPGqPuQiEh7NPN\n",
        "!gdown https://drive.google.com/uc?id=1BTIae-YYyTvZNyor3Od5Nkms4Y1mH_0O\n",
        "!gdown https://drive.google.com/uc?id=1B4jUdGkkCwYVGuj894EQHDQxWNJj78g0\n",
        "!gdown https://drive.google.com/uc?id=1B20mc0udeAymHxd-0K5vOkOBmOPp1lt4\n",
        "!gdown https://drive.google.com/uc?id=1B9ptrAc_ayFe2xw1I2VtGajBFCfBiEyB\n",
        "!gdown https://drive.google.com/uc?id=1BJYnALyY0ndcKooYFf1CJkCro_lbEtJZ\n",
        "\n",
        "#!gdown https://drive.google.com/uc?id=1BTIae-YYyTvZNyor3Od5Nkms4Y1mH_0O\n",
        "#!gdown https://drive.google.com/uc?id=1BTIae-YYyTvZNyor3Od5Nkms4Y1mH_0O\n"
      ],
      "metadata": {
        "colab": {
          "base_uri": "https://localhost:8080/"
        },
        "id": "Zv8S1n1mPO6s",
        "outputId": "54503096-4bae-4f0a-8aef-38a4f89a9edf"
      },
      "execution_count": null,
      "outputs": [
        {
          "output_type": "stream",
          "name": "stdout",
          "text": [
            "Downloading...\n",
            "From: https://drive.google.com/uc?id=1BNCRmYK0x6qx6knpGrZPGqPuQiEh7NPN\n",
            "To: /content/train_tallyqa.json\n",
            "100% 47.2M/47.2M [00:00<00:00, 111MB/s]\n",
            "Downloading...\n",
            "From: https://drive.google.com/uc?id=1BTIae-YYyTvZNyor3Od5Nkms4Y1mH_0O\n",
            "To: /content/test_tallqa.json\n",
            "100% 7.51M/7.51M [00:00<00:00, 103MB/s]\n",
            "Downloading...\n",
            "From: https://drive.google.com/uc?id=1B4jUdGkkCwYVGuj894EQHDQxWNJj78g0\n",
            "To: /content/instances_train2014.json\n",
            "100% 333M/333M [00:04<00:00, 80.4MB/s]\n",
            "Downloading...\n",
            "From: https://drive.google.com/uc?id=1B20mc0udeAymHxd-0K5vOkOBmOPp1lt4\n",
            "To: /content/captions_train2014.json\n",
            "100% 66.8M/66.8M [00:00<00:00, 231MB/s]\n",
            "Downloading...\n",
            "From: https://drive.google.com/uc?id=1B9ptrAc_ayFe2xw1I2VtGajBFCfBiEyB\n",
            "To: /content/instances_val2014.json\n",
            "100% 161M/161M [00:01<00:00, 120MB/s]\n",
            "Downloading...\n",
            "From: https://drive.google.com/uc?id=1BJYnALyY0ndcKooYFf1CJkCro_lbEtJZ\n",
            "To: /content/captions_val2014.json\n",
            "100% 32.4M/32.4M [00:00<00:00, 134MB/s]\n"
          ]
        }
      ]
    },
    {
      "cell_type": "code",
      "source": [
        "data_tallqa_train = pd.read_json('/content/train_tallyqa.json')\n",
        "data_tallqa_test = pd.read_json('/content/test_tallqa.json')\n",
        "tally_qa = pd.concat([data_tallqa_train,data_tallqa_test], axis=0)\n",
        "tally_qa['image_origin']= tally_qa['image'].apply(lambda x: x.split('_')[0])\n",
        "tally_qa = tally_qa[tally_qa['image_origin'].isin(['train2014/COCO', 'val2014/COCO'])].reset_index(drop=True)\n",
        "tally_qa = tally_qa.drop_duplicates(subset=['image'],keep='first')"
      ],
      "metadata": {
        "id": "Q6C44GO_P1yb"
      },
      "execution_count": null,
      "outputs": []
    },
    {
      "cell_type": "code",
      "source": [
        "tally_qa.head(2)"
      ],
      "metadata": {
        "colab": {
          "base_uri": "https://localhost:8080/",
          "height": 112
        },
        "id": "89aTRT0eQPSG",
        "outputId": "be0ca4fc-13c6-4df9-93d0-3d90dfd2e631"
      },
      "execution_count": null,
      "outputs": [
        {
          "output_type": "execute_result",
          "data": {
            "text/plain": [
              "                                       image  answer   data_source  \\\n",
              "0  train2014/COCO_train2014_000000247712.jpg       2  imported_vqa   \n",
              "1  train2014/COCO_train2014_000000464605.jpg       1  imported_vqa   \n",
              "\n",
              "                             question  image_id  question_id issimple  \\\n",
              "0  How many skateboards in the photo?    247712     20000000      NaN   \n",
              "1     How many skiers are in the air?    464605     20000001      NaN   \n",
              "\n",
              "     image_origin  \n",
              "0  train2014/COCO  \n",
              "1  train2014/COCO  "
            ],
            "text/html": [
              "\n",
              "  <div id=\"df-333feecd-9ee4-4454-8569-d9cfb1b385cf\">\n",
              "    <div class=\"colab-df-container\">\n",
              "      <div>\n",
              "<style scoped>\n",
              "    .dataframe tbody tr th:only-of-type {\n",
              "        vertical-align: middle;\n",
              "    }\n",
              "\n",
              "    .dataframe tbody tr th {\n",
              "        vertical-align: top;\n",
              "    }\n",
              "\n",
              "    .dataframe thead th {\n",
              "        text-align: right;\n",
              "    }\n",
              "</style>\n",
              "<table border=\"1\" class=\"dataframe\">\n",
              "  <thead>\n",
              "    <tr style=\"text-align: right;\">\n",
              "      <th></th>\n",
              "      <th>image</th>\n",
              "      <th>answer</th>\n",
              "      <th>data_source</th>\n",
              "      <th>question</th>\n",
              "      <th>image_id</th>\n",
              "      <th>question_id</th>\n",
              "      <th>issimple</th>\n",
              "      <th>image_origin</th>\n",
              "    </tr>\n",
              "  </thead>\n",
              "  <tbody>\n",
              "    <tr>\n",
              "      <th>0</th>\n",
              "      <td>train2014/COCO_train2014_000000247712.jpg</td>\n",
              "      <td>2</td>\n",
              "      <td>imported_vqa</td>\n",
              "      <td>How many skateboards in the photo?</td>\n",
              "      <td>247712</td>\n",
              "      <td>20000000</td>\n",
              "      <td>NaN</td>\n",
              "      <td>train2014/COCO</td>\n",
              "    </tr>\n",
              "    <tr>\n",
              "      <th>1</th>\n",
              "      <td>train2014/COCO_train2014_000000464605.jpg</td>\n",
              "      <td>1</td>\n",
              "      <td>imported_vqa</td>\n",
              "      <td>How many skiers are in the air?</td>\n",
              "      <td>464605</td>\n",
              "      <td>20000001</td>\n",
              "      <td>NaN</td>\n",
              "      <td>train2014/COCO</td>\n",
              "    </tr>\n",
              "  </tbody>\n",
              "</table>\n",
              "</div>\n",
              "      <button class=\"colab-df-convert\" onclick=\"convertToInteractive('df-333feecd-9ee4-4454-8569-d9cfb1b385cf')\"\n",
              "              title=\"Convert this dataframe to an interactive table.\"\n",
              "              style=\"display:none;\">\n",
              "        \n",
              "  <svg xmlns=\"http://www.w3.org/2000/svg\" height=\"24px\"viewBox=\"0 0 24 24\"\n",
              "       width=\"24px\">\n",
              "    <path d=\"M0 0h24v24H0V0z\" fill=\"none\"/>\n",
              "    <path d=\"M18.56 5.44l.94 2.06.94-2.06 2.06-.94-2.06-.94-.94-2.06-.94 2.06-2.06.94zm-11 1L8.5 8.5l.94-2.06 2.06-.94-2.06-.94L8.5 2.5l-.94 2.06-2.06.94zm10 10l.94 2.06.94-2.06 2.06-.94-2.06-.94-.94-2.06-.94 2.06-2.06.94z\"/><path d=\"M17.41 7.96l-1.37-1.37c-.4-.4-.92-.59-1.43-.59-.52 0-1.04.2-1.43.59L10.3 9.45l-7.72 7.72c-.78.78-.78 2.05 0 2.83L4 21.41c.39.39.9.59 1.41.59.51 0 1.02-.2 1.41-.59l7.78-7.78 2.81-2.81c.8-.78.8-2.07 0-2.86zM5.41 20L4 18.59l7.72-7.72 1.47 1.35L5.41 20z\"/>\n",
              "  </svg>\n",
              "      </button>\n",
              "      \n",
              "  <style>\n",
              "    .colab-df-container {\n",
              "      display:flex;\n",
              "      flex-wrap:wrap;\n",
              "      gap: 12px;\n",
              "    }\n",
              "\n",
              "    .colab-df-convert {\n",
              "      background-color: #E8F0FE;\n",
              "      border: none;\n",
              "      border-radius: 50%;\n",
              "      cursor: pointer;\n",
              "      display: none;\n",
              "      fill: #1967D2;\n",
              "      height: 32px;\n",
              "      padding: 0 0 0 0;\n",
              "      width: 32px;\n",
              "    }\n",
              "\n",
              "    .colab-df-convert:hover {\n",
              "      background-color: #E2EBFA;\n",
              "      box-shadow: 0px 1px 2px rgba(60, 64, 67, 0.3), 0px 1px 3px 1px rgba(60, 64, 67, 0.15);\n",
              "      fill: #174EA6;\n",
              "    }\n",
              "\n",
              "    [theme=dark] .colab-df-convert {\n",
              "      background-color: #3B4455;\n",
              "      fill: #D2E3FC;\n",
              "    }\n",
              "\n",
              "    [theme=dark] .colab-df-convert:hover {\n",
              "      background-color: #434B5C;\n",
              "      box-shadow: 0px 1px 3px 1px rgba(0, 0, 0, 0.15);\n",
              "      filter: drop-shadow(0px 1px 2px rgba(0, 0, 0, 0.3));\n",
              "      fill: #FFFFFF;\n",
              "    }\n",
              "  </style>\n",
              "\n",
              "      <script>\n",
              "        const buttonEl =\n",
              "          document.querySelector('#df-333feecd-9ee4-4454-8569-d9cfb1b385cf button.colab-df-convert');\n",
              "        buttonEl.style.display =\n",
              "          google.colab.kernel.accessAllowed ? 'block' : 'none';\n",
              "\n",
              "        async function convertToInteractive(key) {\n",
              "          const element = document.querySelector('#df-333feecd-9ee4-4454-8569-d9cfb1b385cf');\n",
              "          const dataTable =\n",
              "            await google.colab.kernel.invokeFunction('convertToInteractive',\n",
              "                                                     [key], {});\n",
              "          if (!dataTable) return;\n",
              "\n",
              "          const docLinkHtml = 'Like what you see? Visit the ' +\n",
              "            '<a target=\"_blank\" href=https://colab.research.google.com/notebooks/data_table.ipynb>data table notebook</a>'\n",
              "            + ' to learn more about interactive tables.';\n",
              "          element.innerHTML = '';\n",
              "          dataTable['output_type'] = 'display_data';\n",
              "          await google.colab.output.renderOutput(dataTable, element);\n",
              "          const docLink = document.createElement('div');\n",
              "          docLink.innerHTML = docLinkHtml;\n",
              "          element.appendChild(docLink);\n",
              "        }\n",
              "      </script>\n",
              "    </div>\n",
              "  </div>\n",
              "  "
            ]
          },
          "metadata": {},
          "execution_count": 4
        }
      ]
    },
    {
      "cell_type": "code",
      "source": [
        "annFile_instance='/content/instances_train2014.json'\n",
        "annFile_instance_valid = '/content/instances_val2014.json'\n",
        "annFile_caption='/content/captions_train2014.json'\n",
        "annFile_caption_valid = '/content/captions_val2014.json'"
      ],
      "metadata": {
        "id": "qbY7xI61RR8j"
      },
      "execution_count": null,
      "outputs": []
    },
    {
      "cell_type": "code",
      "source": [
        "# get all images containing given categories, select one at random\n",
        "def get_image_ids(path):\n",
        "    coco =COCO(path)\n",
        "    animal_data = []\n",
        "    animals = ['giraffes', 'elephants','zebras','bears','cows','cats','sheep','broccolis','dogs','giraffe','horses','mouse','dog']\n",
        "    for animal in animals:\n",
        "      catIds = coco.getCatIds(catNms=animal)\n",
        "      imgIds = coco.getImgIds(catIds=catIds )\n",
        "      df = pd.DataFrame(imgIds)\n",
        "      df['animal']=animal\n",
        "      animal_data.append(df)\n",
        "    \n",
        "    animal_df = pd.concat([df for df in animal_data],ignore_index=True)\n",
        "    animal_df.columns = ['image_id_coco','animal']\n",
        "    return animal_df"
      ],
      "metadata": {
        "id": "vvZyKZsoSLnF"
      },
      "execution_count": null,
      "outputs": []
    },
    {
      "cell_type": "code",
      "source": [
        "animal_df = get_image_ids(annFile_instance)\n",
        "animal_df_valid = get_image_ids(annFile_instance_valid)\n",
        "animal_ids = pd.concat([animal_df,animal_df_valid], axis=1)"
      ],
      "metadata": {
        "colab": {
          "base_uri": "https://localhost:8080/"
        },
        "id": "PngPDqggXK6A",
        "outputId": "0e0c8bb8-cbb7-4424-c994-49f7cfb3834e"
      },
      "execution_count": null,
      "outputs": [
        {
          "output_type": "stream",
          "name": "stdout",
          "text": [
            "loading annotations into memory...\n",
            "Done (t=21.32s)\n",
            "creating index...\n",
            "index created!\n",
            "loading annotations into memory...\n",
            "Done (t=5.26s)\n",
            "creating index...\n",
            "index created!\n"
          ]
        }
      ]
    },
    {
      "cell_type": "code",
      "source": [
        "animal_df['animal'].value_counts()"
      ],
      "metadata": {
        "colab": {
          "base_uri": "https://localhost:8080/"
        },
        "id": "wgrKtVyESPzv",
        "outputId": "a4aeb9c1-b81f-4859-a095-e49b80b4946d"
      },
      "execution_count": null,
      "outputs": [
        {
          "output_type": "execute_result",
          "data": {
            "text/plain": [
              "dogs         3041\n",
              "dog          3041\n",
              "cats         2818\n",
              "horses       2068\n",
              "giraffes     1798\n",
              "giraffe      1798\n",
              "elephants    1518\n",
              "cows         1389\n",
              "broccolis    1340\n",
              "zebras       1324\n",
              "mouse        1290\n",
              "sheep        1105\n",
              "bears         668\n",
              "Name: animal, dtype: int64"
            ]
          },
          "metadata": {},
          "execution_count": 8
        }
      ]
    },
    {
      "cell_type": "code",
      "source": [
        "animal_merged = animal_df.merge(tally_qa, left_on='image_id_coco', right_on='image_id', how='inner')\n",
        "animal_merged = animal_merged.drop_duplicates(subset=['image_id'])"
      ],
      "metadata": {
        "id": "dgH1I0OGc0O1"
      },
      "execution_count": null,
      "outputs": []
    },
    {
      "cell_type": "code",
      "source": [
        "animal_merged['image_id'].nunique()"
      ],
      "metadata": {
        "colab": {
          "base_uri": "https://localhost:8080/"
        },
        "id": "AgNfmKJddQkC",
        "outputId": "1c5b012d-16fc-4945-e5a0-07338fc08f28"
      },
      "execution_count": null,
      "outputs": [
        {
          "output_type": "execute_result",
          "data": {
            "text/plain": [
              "14462"
            ]
          },
          "metadata": {},
          "execution_count": 10
        }
      ]
    },
    {
      "cell_type": "code",
      "source": [
        "animal_merged.shape"
      ],
      "metadata": {
        "colab": {
          "base_uri": "https://localhost:8080/"
        },
        "id": "A3xJuF6QdpL8",
        "outputId": "4bb4ccf5-0b2c-49a7-8cf5-439853bb543d"
      },
      "execution_count": null,
      "outputs": [
        {
          "output_type": "execute_result",
          "data": {
            "text/plain": [
              "(14462, 10)"
            ]
          },
          "metadata": {},
          "execution_count": 11
        }
      ]
    },
    {
      "cell_type": "code",
      "source": [
        "import ndjson\n",
        "f = open(annFile_caption)\n",
        "s = ndjson.load(f)\n",
        "data = s[0]"
      ],
      "metadata": {
        "id": "0EXTmBkmcNaH"
      },
      "execution_count": null,
      "outputs": []
    },
    {
      "cell_type": "code",
      "source": [
        "data.keys()"
      ],
      "metadata": {
        "colab": {
          "base_uri": "https://localhost:8080/"
        },
        "id": "vraF9k2rcXQE",
        "outputId": "e3c7b28e-cc04-40a6-c3b0-68ee60522688"
      },
      "execution_count": null,
      "outputs": [
        {
          "output_type": "execute_result",
          "data": {
            "text/plain": [
              "dict_keys(['info', 'images', 'licenses', 'annotations'])"
            ]
          },
          "metadata": {},
          "execution_count": 13
        }
      ]
    },
    {
      "cell_type": "code",
      "source": [
        "data['annotations']\n",
        "caption_dict = {}\n",
        "for dic in data['annotations']:\n",
        "  if(dic['image_id'] not in caption_dict.keys()):\n",
        "    caption_dict[dic['image_id']] = [dic['caption']]\n",
        "  else:\n",
        "    caption_dict[dic['image_id']].append(dic['caption'])\n",
        "#caption_dict"
      ],
      "metadata": {
        "id": "3ZhT_XCdeKz_"
      },
      "execution_count": null,
      "outputs": []
    },
    {
      "cell_type": "code",
      "source": [
        "annotations = []\n",
        "a2 = []\n",
        "a3 = []\n",
        "a4 = []\n",
        "a5 = []\n",
        "for imageid in animal_merged.loc[:,'image_id']:\n",
        "  annotations.append(caption_dict[imageid][0])\n",
        "  a2.append(caption_dict[imageid][1])\n",
        "  a3.append(caption_dict[imageid][2])\n",
        "  a4.append(caption_dict[imageid][3])\n",
        "  a5.append(caption_dict[imageid][4])\n",
        "\n",
        "\n",
        "animal_merged.loc[:,'annot1'] = annotations\n",
        "animal_merged.loc[:,'annot2'] = a2\n",
        "animal_merged.loc[:,'annot3'] = a3\n",
        "animal_merged.loc[:,'annot4'] = a4\n",
        "animal_merged.loc[:,'annot5'] = a5"
      ],
      "metadata": {
        "id": "jYI7mI0ReWLp"
      },
      "execution_count": null,
      "outputs": []
    },
    {
      "cell_type": "code",
      "source": [
        "animal_merged.head()"
      ],
      "metadata": {
        "colab": {
          "base_uri": "https://localhost:8080/",
          "height": 736
        },
        "id": "qXFFKgKueewR",
        "outputId": "5da1a9b4-e89a-40cc-d49b-7d47afbea4bf"
      },
      "execution_count": null,
      "outputs": [
        {
          "output_type": "execute_result",
          "data": {
            "text/plain": [
              "   image_id_coco    animal                                      image  answer  \\\n",
              "0         507908  giraffes  train2014/COCO_train2014_000000507908.jpg       3   \n",
              "2         327695  giraffes  train2014/COCO_train2014_000000327695.jpg       2   \n",
              "5         122899  giraffes  train2014/COCO_train2014_000000122899.jpg       2   \n",
              "7         327702  giraffes  train2014/COCO_train2014_000000327702.jpg       2   \n",
              "9             25  giraffes  train2014/COCO_train2014_000000000025.jpg       2   \n",
              "\n",
              "       data_source                                 question  image_id  \\\n",
              "0     imported_vqa              How many animals are there?    507908   \n",
              "2     imported_vqa  How many species of animals do you see?    327695   \n",
              "5  tdiuc_templates               How many people are there?    122899   \n",
              "7     imported_vqa    How many giraffes are in the picture?    327702   \n",
              "9     imported_vqa             How many giraffes are there?        25   \n",
              "\n",
              "   question_id issimple    image_origin  \\\n",
              "0     20017069      NaN  train2014/COCO   \n",
              "2     20012298      NaN  train2014/COCO   \n",
              "5     10604586      NaN  train2014/COCO   \n",
              "7     20012724      NaN  train2014/COCO   \n",
              "9     20032316      NaN  train2014/COCO   \n",
              "\n",
              "                                              annot1  \\\n",
              "0  Several giraffes standing around in an animal ...   \n",
              "2  some giraffes green grass trees and bushes and...   \n",
              "5    A woman holding a child next to a wooden fence.   \n",
              "7   Woman and infant son hand feeding giraffe at zoo   \n",
              "9    A giraffe eating food from the top of the tree.   \n",
              "\n",
              "                                              annot2  \\\n",
              "0           three giraffes and they are in their pen   \n",
              "2  Giraffes are roaming freely while the people w...   \n",
              "5  Woman holding a small child at a zoo watching ...   \n",
              "7       a woman holding a child is feeding a giraffe   \n",
              "9               A giraffe standing up nearby a tree    \n",
              "\n",
              "                                              annot3  \\\n",
              "0  Several giraffes look over a fence in their ha...   \n",
              "2   Giraffes walking through a large field of grass.   \n",
              "5  A woman holding a child in her arm behind a fe...   \n",
              "7  a lady holding a young boy at a zoo feeding a ...   \n",
              "9      A giraffe mother with its baby in the forest.   \n",
              "\n",
              "                                              annot4  \\\n",
              "0  The giraffes are different heights, but all ha...   \n",
              "2  some kids are watching as giraffes walk around...   \n",
              "5      A woman holding a child looking at a giraffe    \n",
              "7      WOMAN FEEDING A GIRAFFE WHILE HOLDING A CHILD   \n",
              "9       Two giraffes standing in a tree filled area.   \n",
              "\n",
              "                                              annot5  \n",
              "0      Three giraffe look out from their enclosure.   \n",
              "2  Several giraffes, zebra and sheep with a child...  \n",
              "5  The giraffe is walking toward the edge of the ...  \n",
              "7  The woman is showing the child how to feed the...  \n",
              "9  A giraffe standing next to a forest filled wit...  "
            ],
            "text/html": [
              "\n",
              "  <div id=\"df-a3fcf892-f280-44b2-b71b-7e13886b76db\">\n",
              "    <div class=\"colab-df-container\">\n",
              "      <div>\n",
              "<style scoped>\n",
              "    .dataframe tbody tr th:only-of-type {\n",
              "        vertical-align: middle;\n",
              "    }\n",
              "\n",
              "    .dataframe tbody tr th {\n",
              "        vertical-align: top;\n",
              "    }\n",
              "\n",
              "    .dataframe thead th {\n",
              "        text-align: right;\n",
              "    }\n",
              "</style>\n",
              "<table border=\"1\" class=\"dataframe\">\n",
              "  <thead>\n",
              "    <tr style=\"text-align: right;\">\n",
              "      <th></th>\n",
              "      <th>image_id_coco</th>\n",
              "      <th>animal</th>\n",
              "      <th>image</th>\n",
              "      <th>answer</th>\n",
              "      <th>data_source</th>\n",
              "      <th>question</th>\n",
              "      <th>image_id</th>\n",
              "      <th>question_id</th>\n",
              "      <th>issimple</th>\n",
              "      <th>image_origin</th>\n",
              "      <th>annot1</th>\n",
              "      <th>annot2</th>\n",
              "      <th>annot3</th>\n",
              "      <th>annot4</th>\n",
              "      <th>annot5</th>\n",
              "    </tr>\n",
              "  </thead>\n",
              "  <tbody>\n",
              "    <tr>\n",
              "      <th>0</th>\n",
              "      <td>507908</td>\n",
              "      <td>giraffes</td>\n",
              "      <td>train2014/COCO_train2014_000000507908.jpg</td>\n",
              "      <td>3</td>\n",
              "      <td>imported_vqa</td>\n",
              "      <td>How many animals are there?</td>\n",
              "      <td>507908</td>\n",
              "      <td>20017069</td>\n",
              "      <td>NaN</td>\n",
              "      <td>train2014/COCO</td>\n",
              "      <td>Several giraffes standing around in an animal ...</td>\n",
              "      <td>three giraffes and they are in their pen</td>\n",
              "      <td>Several giraffes look over a fence in their ha...</td>\n",
              "      <td>The giraffes are different heights, but all ha...</td>\n",
              "      <td>Three giraffe look out from their enclosure.</td>\n",
              "    </tr>\n",
              "    <tr>\n",
              "      <th>2</th>\n",
              "      <td>327695</td>\n",
              "      <td>giraffes</td>\n",
              "      <td>train2014/COCO_train2014_000000327695.jpg</td>\n",
              "      <td>2</td>\n",
              "      <td>imported_vqa</td>\n",
              "      <td>How many species of animals do you see?</td>\n",
              "      <td>327695</td>\n",
              "      <td>20012298</td>\n",
              "      <td>NaN</td>\n",
              "      <td>train2014/COCO</td>\n",
              "      <td>some giraffes green grass trees and bushes and...</td>\n",
              "      <td>Giraffes are roaming freely while the people w...</td>\n",
              "      <td>Giraffes walking through a large field of grass.</td>\n",
              "      <td>some kids are watching as giraffes walk around...</td>\n",
              "      <td>Several giraffes, zebra and sheep with a child...</td>\n",
              "    </tr>\n",
              "    <tr>\n",
              "      <th>5</th>\n",
              "      <td>122899</td>\n",
              "      <td>giraffes</td>\n",
              "      <td>train2014/COCO_train2014_000000122899.jpg</td>\n",
              "      <td>2</td>\n",
              "      <td>tdiuc_templates</td>\n",
              "      <td>How many people are there?</td>\n",
              "      <td>122899</td>\n",
              "      <td>10604586</td>\n",
              "      <td>NaN</td>\n",
              "      <td>train2014/COCO</td>\n",
              "      <td>A woman holding a child next to a wooden fence.</td>\n",
              "      <td>Woman holding a small child at a zoo watching ...</td>\n",
              "      <td>A woman holding a child in her arm behind a fe...</td>\n",
              "      <td>A woman holding a child looking at a giraffe</td>\n",
              "      <td>The giraffe is walking toward the edge of the ...</td>\n",
              "    </tr>\n",
              "    <tr>\n",
              "      <th>7</th>\n",
              "      <td>327702</td>\n",
              "      <td>giraffes</td>\n",
              "      <td>train2014/COCO_train2014_000000327702.jpg</td>\n",
              "      <td>2</td>\n",
              "      <td>imported_vqa</td>\n",
              "      <td>How many giraffes are in the picture?</td>\n",
              "      <td>327702</td>\n",
              "      <td>20012724</td>\n",
              "      <td>NaN</td>\n",
              "      <td>train2014/COCO</td>\n",
              "      <td>Woman and infant son hand feeding giraffe at zoo</td>\n",
              "      <td>a woman holding a child is feeding a giraffe</td>\n",
              "      <td>a lady holding a young boy at a zoo feeding a ...</td>\n",
              "      <td>WOMAN FEEDING A GIRAFFE WHILE HOLDING A CHILD</td>\n",
              "      <td>The woman is showing the child how to feed the...</td>\n",
              "    </tr>\n",
              "    <tr>\n",
              "      <th>9</th>\n",
              "      <td>25</td>\n",
              "      <td>giraffes</td>\n",
              "      <td>train2014/COCO_train2014_000000000025.jpg</td>\n",
              "      <td>2</td>\n",
              "      <td>imported_vqa</td>\n",
              "      <td>How many giraffes are there?</td>\n",
              "      <td>25</td>\n",
              "      <td>20032316</td>\n",
              "      <td>NaN</td>\n",
              "      <td>train2014/COCO</td>\n",
              "      <td>A giraffe eating food from the top of the tree.</td>\n",
              "      <td>A giraffe standing up nearby a tree</td>\n",
              "      <td>A giraffe mother with its baby in the forest.</td>\n",
              "      <td>Two giraffes standing in a tree filled area.</td>\n",
              "      <td>A giraffe standing next to a forest filled wit...</td>\n",
              "    </tr>\n",
              "  </tbody>\n",
              "</table>\n",
              "</div>\n",
              "      <button class=\"colab-df-convert\" onclick=\"convertToInteractive('df-a3fcf892-f280-44b2-b71b-7e13886b76db')\"\n",
              "              title=\"Convert this dataframe to an interactive table.\"\n",
              "              style=\"display:none;\">\n",
              "        \n",
              "  <svg xmlns=\"http://www.w3.org/2000/svg\" height=\"24px\"viewBox=\"0 0 24 24\"\n",
              "       width=\"24px\">\n",
              "    <path d=\"M0 0h24v24H0V0z\" fill=\"none\"/>\n",
              "    <path d=\"M18.56 5.44l.94 2.06.94-2.06 2.06-.94-2.06-.94-.94-2.06-.94 2.06-2.06.94zm-11 1L8.5 8.5l.94-2.06 2.06-.94-2.06-.94L8.5 2.5l-.94 2.06-2.06.94zm10 10l.94 2.06.94-2.06 2.06-.94-2.06-.94-.94-2.06-.94 2.06-2.06.94z\"/><path d=\"M17.41 7.96l-1.37-1.37c-.4-.4-.92-.59-1.43-.59-.52 0-1.04.2-1.43.59L10.3 9.45l-7.72 7.72c-.78.78-.78 2.05 0 2.83L4 21.41c.39.39.9.59 1.41.59.51 0 1.02-.2 1.41-.59l7.78-7.78 2.81-2.81c.8-.78.8-2.07 0-2.86zM5.41 20L4 18.59l7.72-7.72 1.47 1.35L5.41 20z\"/>\n",
              "  </svg>\n",
              "      </button>\n",
              "      \n",
              "  <style>\n",
              "    .colab-df-container {\n",
              "      display:flex;\n",
              "      flex-wrap:wrap;\n",
              "      gap: 12px;\n",
              "    }\n",
              "\n",
              "    .colab-df-convert {\n",
              "      background-color: #E8F0FE;\n",
              "      border: none;\n",
              "      border-radius: 50%;\n",
              "      cursor: pointer;\n",
              "      display: none;\n",
              "      fill: #1967D2;\n",
              "      height: 32px;\n",
              "      padding: 0 0 0 0;\n",
              "      width: 32px;\n",
              "    }\n",
              "\n",
              "    .colab-df-convert:hover {\n",
              "      background-color: #E2EBFA;\n",
              "      box-shadow: 0px 1px 2px rgba(60, 64, 67, 0.3), 0px 1px 3px 1px rgba(60, 64, 67, 0.15);\n",
              "      fill: #174EA6;\n",
              "    }\n",
              "\n",
              "    [theme=dark] .colab-df-convert {\n",
              "      background-color: #3B4455;\n",
              "      fill: #D2E3FC;\n",
              "    }\n",
              "\n",
              "    [theme=dark] .colab-df-convert:hover {\n",
              "      background-color: #434B5C;\n",
              "      box-shadow: 0px 1px 3px 1px rgba(0, 0, 0, 0.15);\n",
              "      filter: drop-shadow(0px 1px 2px rgba(0, 0, 0, 0.3));\n",
              "      fill: #FFFFFF;\n",
              "    }\n",
              "  </style>\n",
              "\n",
              "      <script>\n",
              "        const buttonEl =\n",
              "          document.querySelector('#df-a3fcf892-f280-44b2-b71b-7e13886b76db button.colab-df-convert');\n",
              "        buttonEl.style.display =\n",
              "          google.colab.kernel.accessAllowed ? 'block' : 'none';\n",
              "\n",
              "        async function convertToInteractive(key) {\n",
              "          const element = document.querySelector('#df-a3fcf892-f280-44b2-b71b-7e13886b76db');\n",
              "          const dataTable =\n",
              "            await google.colab.kernel.invokeFunction('convertToInteractive',\n",
              "                                                     [key], {});\n",
              "          if (!dataTable) return;\n",
              "\n",
              "          const docLinkHtml = 'Like what you see? Visit the ' +\n",
              "            '<a target=\"_blank\" href=https://colab.research.google.com/notebooks/data_table.ipynb>data table notebook</a>'\n",
              "            + ' to learn more about interactive tables.';\n",
              "          element.innerHTML = '';\n",
              "          dataTable['output_type'] = 'display_data';\n",
              "          await google.colab.output.renderOutput(dataTable, element);\n",
              "          const docLink = document.createElement('div');\n",
              "          docLink.innerHTML = docLinkHtml;\n",
              "          element.appendChild(docLink);\n",
              "        }\n",
              "      </script>\n",
              "    </div>\n",
              "  </div>\n",
              "  "
            ]
          },
          "metadata": {},
          "execution_count": 16
        }
      ]
    },
    {
      "cell_type": "code",
      "source": [
        "animal_merged.shape"
      ],
      "metadata": {
        "colab": {
          "base_uri": "https://localhost:8080/"
        },
        "id": "CWx24XXtekwL",
        "outputId": "48f2159a-d769-4991-9c99-4a3eb860fc07"
      },
      "execution_count": null,
      "outputs": [
        {
          "output_type": "execute_result",
          "data": {
            "text/plain": [
              "(14462, 15)"
            ]
          },
          "metadata": {},
          "execution_count": 17
        }
      ]
    },
    {
      "cell_type": "code",
      "source": [
        "animal_merged['image_id'].nunique()"
      ],
      "metadata": {
        "colab": {
          "base_uri": "https://localhost:8080/"
        },
        "id": "SV_6sJflenia",
        "outputId": "9ee27ba0-78a3-4d92-8bb8-4c8dc705a356"
      },
      "execution_count": null,
      "outputs": [
        {
          "output_type": "execute_result",
          "data": {
            "text/plain": [
              "14462"
            ]
          },
          "metadata": {},
          "execution_count": 18
        }
      ]
    },
    {
      "cell_type": "code",
      "source": [
        "animal_merged.isnull().sum()"
      ],
      "metadata": {
        "colab": {
          "base_uri": "https://localhost:8080/"
        },
        "id": "o2HpOiPbfAbN",
        "outputId": "2f78e25c-a50b-4e09-ba54-6020aa681360"
      },
      "execution_count": null,
      "outputs": [
        {
          "output_type": "execute_result",
          "data": {
            "text/plain": [
              "image_id_coco        0\n",
              "animal               0\n",
              "image                0\n",
              "answer               0\n",
              "data_source          0\n",
              "question             0\n",
              "image_id             0\n",
              "question_id          0\n",
              "issimple         14462\n",
              "image_origin         0\n",
              "annot1               0\n",
              "annot2               0\n",
              "annot3               0\n",
              "annot4               0\n",
              "annot5               0\n",
              "dtype: int64"
            ]
          },
          "metadata": {},
          "execution_count": 19
        }
      ]
    },
    {
      "cell_type": "code",
      "source": [
        "animal_merged['animal'].value_counts()"
      ],
      "metadata": {
        "colab": {
          "base_uri": "https://localhost:8080/"
        },
        "id": "_XirKozGfNCb",
        "outputId": "28d0cba0-28f6-4132-e764-ae8d4c4c7f79"
      },
      "execution_count": null,
      "outputs": [
        {
          "output_type": "execute_result",
          "data": {
            "text/plain": [
              "dogs         2104\n",
              "cats         2092\n",
              "horses       1600\n",
              "giraffes     1575\n",
              "elephants    1322\n",
              "broccolis    1209\n",
              "cows         1171\n",
              "zebras       1069\n",
              "mouse         964\n",
              "sheep         892\n",
              "bears         464\n",
              "Name: animal, dtype: int64"
            ]
          },
          "metadata": {},
          "execution_count": 20
        }
      ]
    },
    {
      "cell_type": "code",
      "source": [
        "animal_merged.to_csv('animal_curated_dataset_test.csv')"
      ],
      "metadata": {
        "id": "MhxXo6CxgQBL"
      },
      "execution_count": null,
      "outputs": []
    }
  ]
}