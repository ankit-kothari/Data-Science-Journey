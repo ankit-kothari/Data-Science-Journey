{
 "cells": [
  {
   "cell_type": "code",
   "execution_count": 1,
   "metadata": {},
   "outputs": [
    {
     "name": "stdout",
     "output_type": "stream",
     "text": [
      "Requirement already satisfied: pydub in /opt/python/3.10.4/lib/python3.10/site-packages (0.25.1)\n",
      "\u001b[33mWARNING: There was an error checking the latest version of pip.\u001b[0m\u001b[33m\n",
      "\u001b[0m"
     ]
    }
   ],
   "source": [
    "#!pip3 install vosk\n",
    "!pip3 install pydub # for audio processing"
   ]
  },
  {
   "cell_type": "code",
   "execution_count": 4,
   "metadata": {},
   "outputs": [
    {
     "name": "stderr",
     "output_type": "stream",
     "text": [
      "/opt/python/3.10.4/lib/python3.10/site-packages/pydub/utils.py:170: RuntimeWarning: Couldn't find ffmpeg or avconv - defaulting to ffmpeg, but may not work\n",
      "  warn(\"Couldn't find ffmpeg or avconv - defaulting to ffmpeg, but may not work\", RuntimeWarning)\n"
     ]
    }
   ],
   "source": [
    "from vosk import Model, KaldiRecognizer\n",
    "from pydub import AudioSegment"
   ]
  },
  {
   "cell_type": "code",
   "execution_count": null,
   "metadata": {},
   "outputs": [],
   "source": [
    "FRAME_RATE = 16000 # Hz\n",
    "CHANNEL = 1 # Mono\n",
    "model = Model(model_name=\"vosk-model-small-en-us-0.15\") # Model name is \"vosk-model-en-us-0.22\"\n",
    "\n",
    "rec = KaldiRecognizer(model, FRAME_RATE)\n",
    "rec.SetWords(True)"
   ]
  },
  {
   "cell_type": "code",
   "execution_count": 5,
   "metadata": {},
   "outputs": [
    {
     "name": "stderr",
     "output_type": "stream",
     "text": [
      "/opt/python/3.10.4/lib/python3.10/site-packages/pydub/utils.py:198: RuntimeWarning: Couldn't find ffprobe or avprobe - defaulting to ffprobe, but may not work\n",
      "  warn(\"Couldn't find ffprobe or avprobe - defaulting to ffprobe, but may not work\", RuntimeWarning)\n"
     ]
    },
    {
     "ename": "FileNotFoundError",
     "evalue": "[Errno 2] No such file or directory: 'ffprobe'",
     "output_type": "error",
     "traceback": [
      "\u001b[0;31m---------------------------------------------------------------------------\u001b[0m",
      "\u001b[0;31mFileNotFoundError\u001b[0m                         Traceback (most recent call last)",
      "\u001b[1;32m/workspaces/Data-Science-Journey/Natural-Language-Processing/speech2text/sppech2summary.ipynb Cell 4'\u001b[0m in \u001b[0;36m<cell line: 1>\u001b[0;34m()\u001b[0m\n\u001b[0;32m----> <a href='vscode-notebook-cell://codespaces%2Bankit-kothari-data-science-journey-4rprpr94cqrgj/workspaces/Data-Science-Journey/Natural-Language-Processing/speech2text/sppech2summary.ipynb#ch0000003vscode-remote?line=0'>1</a>\u001b[0m mp3 \u001b[39m=\u001b[39m AudioSegment\u001b[39m.\u001b[39;49mfrom_mp3(\u001b[39m\"\u001b[39;49m\u001b[39m/workspaces/Data-Science-Journey/Natural-Language-Processing/speech2text/input/marketplace.mp3\u001b[39;49m\u001b[39m\"\u001b[39;49m)\n\u001b[1;32m      <a href='vscode-notebook-cell://codespaces%2Bankit-kothari-data-science-journey-4rprpr94cqrgj/workspaces/Data-Science-Journey/Natural-Language-Processing/speech2text/sppech2summary.ipynb#ch0000003vscode-remote?line=1'>2</a>\u001b[0m mp3 \u001b[39m=\u001b[39m mp3\u001b[39m.\u001b[39mset_frame_rate(FRAME_RATE)\n\u001b[1;32m      <a href='vscode-notebook-cell://codespaces%2Bankit-kothari-data-science-journey-4rprpr94cqrgj/workspaces/Data-Science-Journey/Natural-Language-Processing/speech2text/sppech2summary.ipynb#ch0000003vscode-remote?line=2'>3</a>\u001b[0m mp3 \u001b[39m=\u001b[39m mp3\u001b[39m.\u001b[39mset_channels(CHANNEL)\n",
      "File \u001b[0;32m/opt/python/3.10.4/lib/python3.10/site-packages/pydub/audio_segment.py:796\u001b[0m, in \u001b[0;36mAudioSegment.from_mp3\u001b[0;34m(cls, file, parameters)\u001b[0m\n\u001b[1;32m    <a href='file:///opt/python/3.10.4/lib/python3.10/site-packages/pydub/audio_segment.py?line=793'>794</a>\u001b[0m \u001b[39m@classmethod\u001b[39m\n\u001b[1;32m    <a href='file:///opt/python/3.10.4/lib/python3.10/site-packages/pydub/audio_segment.py?line=794'>795</a>\u001b[0m \u001b[39mdef\u001b[39;00m \u001b[39mfrom_mp3\u001b[39m(\u001b[39mcls\u001b[39m, file, parameters\u001b[39m=\u001b[39m\u001b[39mNone\u001b[39;00m):\n\u001b[0;32m--> <a href='file:///opt/python/3.10.4/lib/python3.10/site-packages/pydub/audio_segment.py?line=795'>796</a>\u001b[0m     \u001b[39mreturn\u001b[39;00m \u001b[39mcls\u001b[39;49m\u001b[39m.\u001b[39;49mfrom_file(file, \u001b[39m'\u001b[39;49m\u001b[39mmp3\u001b[39;49m\u001b[39m'\u001b[39;49m, parameters\u001b[39m=\u001b[39;49mparameters)\n",
      "File \u001b[0;32m/opt/python/3.10.4/lib/python3.10/site-packages/pydub/audio_segment.py:728\u001b[0m, in \u001b[0;36mAudioSegment.from_file\u001b[0;34m(cls, file, format, codec, parameters, start_second, duration, **kwargs)\u001b[0m\n\u001b[1;32m    <a href='file:///opt/python/3.10.4/lib/python3.10/site-packages/pydub/audio_segment.py?line=725'>726</a>\u001b[0m     info \u001b[39m=\u001b[39m \u001b[39mNone\u001b[39;00m\n\u001b[1;32m    <a href='file:///opt/python/3.10.4/lib/python3.10/site-packages/pydub/audio_segment.py?line=726'>727</a>\u001b[0m \u001b[39melse\u001b[39;00m:\n\u001b[0;32m--> <a href='file:///opt/python/3.10.4/lib/python3.10/site-packages/pydub/audio_segment.py?line=727'>728</a>\u001b[0m     info \u001b[39m=\u001b[39m mediainfo_json(orig_file, read_ahead_limit\u001b[39m=\u001b[39;49mread_ahead_limit)\n\u001b[1;32m    <a href='file:///opt/python/3.10.4/lib/python3.10/site-packages/pydub/audio_segment.py?line=728'>729</a>\u001b[0m \u001b[39mif\u001b[39;00m info:\n\u001b[1;32m    <a href='file:///opt/python/3.10.4/lib/python3.10/site-packages/pydub/audio_segment.py?line=729'>730</a>\u001b[0m     audio_streams \u001b[39m=\u001b[39m [x \u001b[39mfor\u001b[39;00m x \u001b[39min\u001b[39;00m info[\u001b[39m'\u001b[39m\u001b[39mstreams\u001b[39m\u001b[39m'\u001b[39m]\n\u001b[1;32m    <a href='file:///opt/python/3.10.4/lib/python3.10/site-packages/pydub/audio_segment.py?line=730'>731</a>\u001b[0m                      \u001b[39mif\u001b[39;00m x[\u001b[39m'\u001b[39m\u001b[39mcodec_type\u001b[39m\u001b[39m'\u001b[39m] \u001b[39m==\u001b[39m \u001b[39m'\u001b[39m\u001b[39maudio\u001b[39m\u001b[39m'\u001b[39m]\n",
      "File \u001b[0;32m/opt/python/3.10.4/lib/python3.10/site-packages/pydub/utils.py:274\u001b[0m, in \u001b[0;36mmediainfo_json\u001b[0;34m(filepath, read_ahead_limit)\u001b[0m\n\u001b[1;32m    <a href='file:///opt/python/3.10.4/lib/python3.10/site-packages/pydub/utils.py?line=270'>271</a>\u001b[0m         file\u001b[39m.\u001b[39mclose()\n\u001b[1;32m    <a href='file:///opt/python/3.10.4/lib/python3.10/site-packages/pydub/utils.py?line=272'>273</a>\u001b[0m command \u001b[39m=\u001b[39m [prober, \u001b[39m'\u001b[39m\u001b[39m-of\u001b[39m\u001b[39m'\u001b[39m, \u001b[39m'\u001b[39m\u001b[39mjson\u001b[39m\u001b[39m'\u001b[39m] \u001b[39m+\u001b[39m command_args\n\u001b[0;32m--> <a href='file:///opt/python/3.10.4/lib/python3.10/site-packages/pydub/utils.py?line=273'>274</a>\u001b[0m res \u001b[39m=\u001b[39m Popen(command, stdin\u001b[39m=\u001b[39;49mstdin_parameter, stdout\u001b[39m=\u001b[39;49mPIPE, stderr\u001b[39m=\u001b[39;49mPIPE)\n\u001b[1;32m    <a href='file:///opt/python/3.10.4/lib/python3.10/site-packages/pydub/utils.py?line=274'>275</a>\u001b[0m output, stderr \u001b[39m=\u001b[39m res\u001b[39m.\u001b[39mcommunicate(\u001b[39minput\u001b[39m\u001b[39m=\u001b[39mstdin_data)\n\u001b[1;32m    <a href='file:///opt/python/3.10.4/lib/python3.10/site-packages/pydub/utils.py?line=275'>276</a>\u001b[0m output \u001b[39m=\u001b[39m output\u001b[39m.\u001b[39mdecode(\u001b[39m\"\u001b[39m\u001b[39mutf-8\u001b[39m\u001b[39m\"\u001b[39m, \u001b[39m'\u001b[39m\u001b[39mignore\u001b[39m\u001b[39m'\u001b[39m)\n",
      "File \u001b[0;32m/opt/python/3.10.4/lib/python3.10/subprocess.py:966\u001b[0m, in \u001b[0;36mPopen.__init__\u001b[0;34m(self, args, bufsize, executable, stdin, stdout, stderr, preexec_fn, close_fds, shell, cwd, env, universal_newlines, startupinfo, creationflags, restore_signals, start_new_session, pass_fds, user, group, extra_groups, encoding, errors, text, umask, pipesize)\u001b[0m\n\u001b[1;32m    <a href='file:///opt/python/3.10.4/lib/python3.10/subprocess.py?line=961'>962</a>\u001b[0m         \u001b[39mif\u001b[39;00m \u001b[39mself\u001b[39m\u001b[39m.\u001b[39mtext_mode:\n\u001b[1;32m    <a href='file:///opt/python/3.10.4/lib/python3.10/subprocess.py?line=962'>963</a>\u001b[0m             \u001b[39mself\u001b[39m\u001b[39m.\u001b[39mstderr \u001b[39m=\u001b[39m io\u001b[39m.\u001b[39mTextIOWrapper(\u001b[39mself\u001b[39m\u001b[39m.\u001b[39mstderr,\n\u001b[1;32m    <a href='file:///opt/python/3.10.4/lib/python3.10/subprocess.py?line=963'>964</a>\u001b[0m                     encoding\u001b[39m=\u001b[39mencoding, errors\u001b[39m=\u001b[39merrors)\n\u001b[0;32m--> <a href='file:///opt/python/3.10.4/lib/python3.10/subprocess.py?line=965'>966</a>\u001b[0m     \u001b[39mself\u001b[39;49m\u001b[39m.\u001b[39;49m_execute_child(args, executable, preexec_fn, close_fds,\n\u001b[1;32m    <a href='file:///opt/python/3.10.4/lib/python3.10/subprocess.py?line=966'>967</a>\u001b[0m                         pass_fds, cwd, env,\n\u001b[1;32m    <a href='file:///opt/python/3.10.4/lib/python3.10/subprocess.py?line=967'>968</a>\u001b[0m                         startupinfo, creationflags, shell,\n\u001b[1;32m    <a href='file:///opt/python/3.10.4/lib/python3.10/subprocess.py?line=968'>969</a>\u001b[0m                         p2cread, p2cwrite,\n\u001b[1;32m    <a href='file:///opt/python/3.10.4/lib/python3.10/subprocess.py?line=969'>970</a>\u001b[0m                         c2pread, c2pwrite,\n\u001b[1;32m    <a href='file:///opt/python/3.10.4/lib/python3.10/subprocess.py?line=970'>971</a>\u001b[0m                         errread, errwrite,\n\u001b[1;32m    <a href='file:///opt/python/3.10.4/lib/python3.10/subprocess.py?line=971'>972</a>\u001b[0m                         restore_signals,\n\u001b[1;32m    <a href='file:///opt/python/3.10.4/lib/python3.10/subprocess.py?line=972'>973</a>\u001b[0m                         gid, gids, uid, umask,\n\u001b[1;32m    <a href='file:///opt/python/3.10.4/lib/python3.10/subprocess.py?line=973'>974</a>\u001b[0m                         start_new_session)\n\u001b[1;32m    <a href='file:///opt/python/3.10.4/lib/python3.10/subprocess.py?line=974'>975</a>\u001b[0m \u001b[39mexcept\u001b[39;00m:\n\u001b[1;32m    <a href='file:///opt/python/3.10.4/lib/python3.10/subprocess.py?line=975'>976</a>\u001b[0m     \u001b[39m# Cleanup if the child failed starting.\u001b[39;00m\n\u001b[1;32m    <a href='file:///opt/python/3.10.4/lib/python3.10/subprocess.py?line=976'>977</a>\u001b[0m     \u001b[39mfor\u001b[39;00m f \u001b[39min\u001b[39;00m \u001b[39mfilter\u001b[39m(\u001b[39mNone\u001b[39;00m, (\u001b[39mself\u001b[39m\u001b[39m.\u001b[39mstdin, \u001b[39mself\u001b[39m\u001b[39m.\u001b[39mstdout, \u001b[39mself\u001b[39m\u001b[39m.\u001b[39mstderr)):\n",
      "File \u001b[0;32m/opt/python/3.10.4/lib/python3.10/subprocess.py:1842\u001b[0m, in \u001b[0;36mPopen._execute_child\u001b[0;34m(self, args, executable, preexec_fn, close_fds, pass_fds, cwd, env, startupinfo, creationflags, shell, p2cread, p2cwrite, c2pread, c2pwrite, errread, errwrite, restore_signals, gid, gids, uid, umask, start_new_session)\u001b[0m\n\u001b[1;32m   <a href='file:///opt/python/3.10.4/lib/python3.10/subprocess.py?line=1839'>1840</a>\u001b[0m     \u001b[39mif\u001b[39;00m errno_num \u001b[39m!=\u001b[39m \u001b[39m0\u001b[39m:\n\u001b[1;32m   <a href='file:///opt/python/3.10.4/lib/python3.10/subprocess.py?line=1840'>1841</a>\u001b[0m         err_msg \u001b[39m=\u001b[39m os\u001b[39m.\u001b[39mstrerror(errno_num)\n\u001b[0;32m-> <a href='file:///opt/python/3.10.4/lib/python3.10/subprocess.py?line=1841'>1842</a>\u001b[0m     \u001b[39mraise\u001b[39;00m child_exception_type(errno_num, err_msg, err_filename)\n\u001b[1;32m   <a href='file:///opt/python/3.10.4/lib/python3.10/subprocess.py?line=1842'>1843</a>\u001b[0m \u001b[39mraise\u001b[39;00m child_exception_type(err_msg)\n",
      "\u001b[0;31mFileNotFoundError\u001b[0m: [Errno 2] No such file or directory: 'ffprobe'"
     ]
    }
   ],
   "source": [
    "mp3 = AudioSegment.from_mp3(\"/workspaces/Data-Science-Journey/Natural-Language-Processing/speech2text/input/marketplace.mp3\")\n",
    "mp3 = mp3.set_frame_rate(FRAME_RATE)\n",
    "mp3 = mp3.set_channels(CHANNEL)"
   ]
  }
 ],
 "metadata": {
  "interpreter": {
   "hash": "4f946df053fbf2b937619d3c5458e7af74262f9a954d8797ba0b27400bcafe06"
  },
  "kernelspec": {
   "display_name": "Python 3.10.4 64-bit",
   "language": "python",
   "name": "python3"
  },
  "language_info": {
   "codemirror_mode": {
    "name": "ipython",
    "version": 3
   },
   "file_extension": ".py",
   "mimetype": "text/x-python",
   "name": "python",
   "nbconvert_exporter": "python",
   "pygments_lexer": "ipython3",
   "version": "3.10.4"
  },
  "orig_nbformat": 4
 },
 "nbformat": 4,
 "nbformat_minor": 2
}
