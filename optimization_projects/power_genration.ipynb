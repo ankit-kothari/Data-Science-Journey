{
 "cells": [
  {
   "cell_type": "code",
   "execution_count": 140,
   "id": "074206b6",
   "metadata": {
    "ExecuteTime": {
     "end_time": "2022-03-13T16:31:11.304473Z",
     "start_time": "2022-03-13T16:31:11.301503Z"
    }
   },
   "outputs": [],
   "source": [
    "import pyomo.environ as pyo\n",
    "from pyomo.environ import *\n",
    "from pyomo.opt import SolverFactory"
   ]
  },
  {
   "cell_type": "markdown",
   "id": "f6dc281a",
   "metadata": {},
   "source": [
    "### 1  Initializing Model"
   ]
  },
  {
   "cell_type": "code",
   "execution_count": 141,
   "id": "29a62c89",
   "metadata": {
    "ExecuteTime": {
     "end_time": "2022-03-13T16:31:11.345064Z",
     "start_time": "2022-03-13T16:31:11.341683Z"
    }
   },
   "outputs": [],
   "source": [
    "m = pyo.ConcreteModel()"
   ]
  },
  {
   "cell_type": "markdown",
   "id": "e0afcb82",
   "metadata": {},
   "source": [
    "### 2  Set Parameteres (What is given?)"
   ]
  },
  {
   "cell_type": "code",
   "execution_count": 142,
   "id": "15b0dd1b",
   "metadata": {
    "ExecuteTime": {
     "end_time": "2022-03-13T16:31:11.387506Z",
     "start_time": "2022-03-13T16:31:11.380883Z"
    }
   },
   "outputs": [],
   "source": [
    "# different projects to choose from\n",
    "m.setPg = pyo.Set(initialize=['A', 'B', 'C', 'D', 'E'])\n",
    "m.setPd = pyo.Set(initialize=['X', 'Y', 'Z'])  # number of working days\n",
    "m.g = {\n",
    "    'A': 20,\n",
    "    'B': 10,\n",
    "    'C': 40,\n",
    "    'D': 50,\n",
    "    'E': 5\n",
    "}  #revenue by project\n",
    "m.d = {\n",
    "    'X': 50,\n",
    "    'Y': 20,\n",
    "    'Z': 30,\n",
    "}  #revenue by project\n",
    "m.C = {\n",
    "    'A': 0.10,\n",
    "    'B': 0.05,\n",
    "    'C': 0.30,\n",
    "    'D': 0.40,\n",
    "    'E': 0.01\n",
    "}  #revenue by project\n",
    "m.dsum = sum(m.d[d_id] for d_id in m.d)"
   ]
  },
  {
   "cell_type": "code",
   "execution_count": 143,
   "id": "d1cb85a1",
   "metadata": {
    "ExecuteTime": {
     "end_time": "2022-03-13T16:31:11.393346Z",
     "start_time": "2022-03-13T16:31:11.389673Z"
    }
   },
   "outputs": [
    {
     "data": {
      "text/plain": [
       "dict_keys(['A', 'B', 'C', 'D', 'E'])"
      ]
     },
     "execution_count": 143,
     "metadata": {},
     "output_type": "execute_result"
    }
   ],
   "source": [
    "m.g.keys()"
   ]
  },
  {
   "cell_type": "markdown",
   "id": "3f056526",
   "metadata": {},
   "source": [
    "###   Variables (What do we need to find)?"
   ]
  },
  {
   "cell_type": "code",
   "execution_count": 144,
   "id": "9aa28ea6",
   "metadata": {
    "ExecuteTime": {
     "end_time": "2022-03-13T16:31:11.427726Z",
     "start_time": "2022-03-13T16:31:11.423782Z"
    }
   },
   "outputs": [],
   "source": [
    "m.Pg = pyo.Var(m.setPg, bounds=(0,None))\n",
    "Pg = m.Pg"
   ]
  },
  {
   "cell_type": "code",
   "execution_count": 145,
   "id": "a18a85ca",
   "metadata": {
    "ExecuteTime": {
     "end_time": "2022-03-13T16:31:11.433536Z",
     "start_time": "2022-03-13T16:31:11.430144Z"
    }
   },
   "outputs": [
    {
     "data": {
      "text/plain": [
       "<pyomo.core.base.var._GeneralVarData at 0x7f89e04f27c0>"
      ]
     },
     "execution_count": 145,
     "metadata": {},
     "output_type": "execute_result"
    }
   ],
   "source": [
    "Pg['A']"
   ]
  },
  {
   "cell_type": "markdown",
   "id": "4498b3c0",
   "metadata": {
    "ExecuteTime": {
     "end_time": "2022-03-13T15:08:37.915048Z",
     "start_time": "2022-03-13T15:08:37.910440Z"
    }
   },
   "source": [
    "### Objective Function (How do we find the best possible outcome)?¶"
   ]
  },
  {
   "cell_type": "code",
   "execution_count": null,
   "id": "706e4c25",
   "metadata": {},
   "outputs": [],
   "source": []
  },
  {
   "cell_type": "markdown",
   "id": "2c39cc3c",
   "metadata": {},
   "source": [
    "### Constrains (What are the conditions we need to keep in mind)?\n",
    "\n",
    "- total power generated == total power consumed by the load point\n",
    "- power generated for a g is greater than 0\n",
    "- power generated at each g is less than equal to its limit\n",
    "- power consumed at load point 0 is less than the sum of power generated at 0 and 3"
   ]
  },
  {
   "cell_type": "code",
   "execution_count": 146,
   "id": "7837b53f",
   "metadata": {
    "ExecuteTime": {
     "end_time": "2022-03-13T16:31:11.508637Z",
     "start_time": "2022-03-13T16:31:11.505852Z"
    }
   },
   "outputs": [],
   "source": [
    "pg_sum = sum([Pg[g_id] for g_id in m.g])"
   ]
  },
  {
   "cell_type": "code",
   "execution_count": 147,
   "id": "b684fafa",
   "metadata": {
    "ExecuteTime": {
     "end_time": "2022-03-13T16:31:11.515004Z",
     "start_time": "2022-03-13T16:31:11.511109Z"
    }
   },
   "outputs": [],
   "source": [
    "m.balance = pyo.Constraint(expr = pg_sum == m.dsum)"
   ]
  },
  {
   "cell_type": "code",
   "execution_count": 148,
   "id": "4f8cda58",
   "metadata": {
    "ExecuteTime": {
     "end_time": "2022-03-13T16:31:11.520937Z",
     "start_time": "2022-03-13T16:31:11.517180Z"
    }
   },
   "outputs": [],
   "source": [
    "m.cond = pyo.Constraint(expr = Pg['A']+Pg['D'] >= m.d['X'])"
   ]
  },
  {
   "cell_type": "code",
   "execution_count": 149,
   "id": "0968bb40",
   "metadata": {
    "ExecuteTime": {
     "end_time": "2022-03-13T16:31:11.526713Z",
     "start_time": "2022-03-13T16:31:11.522637Z"
    }
   },
   "outputs": [],
   "source": [
    "m.produced = pyo.ConstraintList()\n",
    "for power_station in m.setPg:\n",
    "    m.produced.add(expr = Pg[power_station]>=0)"
   ]
  },
  {
   "cell_type": "code",
   "execution_count": 150,
   "id": "fed3dc1e",
   "metadata": {
    "ExecuteTime": {
     "end_time": "2022-03-13T16:31:11.533496Z",
     "start_time": "2022-03-13T16:31:11.529085Z"
    }
   },
   "outputs": [],
   "source": [
    "m.Limit = pyo.ConstraintList()\n",
    "for p_station in m.setPg:\n",
    "    m.Limit.add(expr = Pg[p_station] <= m.g[p_station])"
   ]
  },
  {
   "cell_type": "markdown",
   "id": "8f52695d",
   "metadata": {},
   "source": [
    "### Objective Function (How do we find the best possible outcome)?"
   ]
  },
  {
   "cell_type": "code",
   "execution_count": 151,
   "id": "1ecf0abf",
   "metadata": {
    "ExecuteTime": {
     "end_time": "2022-03-13T16:31:11.563271Z",
     "start_time": "2022-03-13T16:31:11.559077Z"
    }
   },
   "outputs": [],
   "source": [
    "cost_sum = sum([Pg[power_station]*m.C[power_station] for power_station in m.setPg])\n",
    "m.obj = pyo.Objective(expr = cost_sum, sense=pyo.minimize)"
   ]
  },
  {
   "cell_type": "markdown",
   "id": "0702810f",
   "metadata": {},
   "source": [
    "### Solveing using Solver"
   ]
  },
  {
   "cell_type": "code",
   "execution_count": 152,
   "id": "859b004d",
   "metadata": {
    "ExecuteTime": {
     "end_time": "2022-03-13T16:31:11.664975Z",
     "start_time": "2022-03-13T16:31:11.565498Z"
    }
   },
   "outputs": [],
   "source": [
    "opt = SolverFactory('gurobi')\n",
    "results = opt.solve(m)"
   ]
  },
  {
   "cell_type": "markdown",
   "id": "ca51b861",
   "metadata": {},
   "source": [
    "### Results"
   ]
  },
  {
   "cell_type": "code",
   "execution_count": 153,
   "id": "2297df0b",
   "metadata": {
    "ExecuteTime": {
     "end_time": "2022-03-13T16:31:11.673388Z",
     "start_time": "2022-03-13T16:31:11.667823Z"
    }
   },
   "outputs": [
    {
     "data": {
      "text/plain": [
       "[20.0, 10.0, 35.0, 30.0, 5.0]"
      ]
     },
     "execution_count": 153,
     "metadata": {},
     "output_type": "execute_result"
    }
   ],
   "source": [
    "[pyo.value(Pg[g]) for g in m.setPg]"
   ]
  },
  {
   "cell_type": "code",
   "execution_count": 154,
   "id": "3cc99f2d",
   "metadata": {
    "ExecuteTime": {
     "end_time": "2022-03-13T18:32:42.531786Z",
     "start_time": "2022-03-13T18:32:42.519839Z"
    }
   },
   "outputs": [
    {
     "name": "stdout",
     "output_type": "stream",
     "text": [
      "4 Set Declarations\n",
      "    Limit_index : Size=1, Index=None, Ordered=Insertion\n",
      "        Key  : Dimen : Domain : Size : Members\n",
      "        None :     1 :    Any :    5 : {1, 2, 3, 4, 5}\n",
      "    produced_index : Size=1, Index=None, Ordered=Insertion\n",
      "        Key  : Dimen : Domain : Size : Members\n",
      "        None :     1 :    Any :    5 : {1, 2, 3, 4, 5}\n",
      "    setPd : Size=1, Index=None, Ordered=Insertion\n",
      "        Key  : Dimen : Domain : Size : Members\n",
      "        None :     1 :    Any :    3 : {'X', 'Y', 'Z'}\n",
      "    setPg : Size=1, Index=None, Ordered=Insertion\n",
      "        Key  : Dimen : Domain : Size : Members\n",
      "        None :     1 :    Any :    5 : {'A', 'B', 'C', 'D', 'E'}\n",
      "\n",
      "1 Var Declarations\n",
      "    Pg : Size=5, Index=setPg\n",
      "        Key : Lower : Value : Upper : Fixed : Stale : Domain\n",
      "          A :     0 :  20.0 :  None : False : False :  Reals\n",
      "          B :     0 :  10.0 :  None : False : False :  Reals\n",
      "          C :     0 :  35.0 :  None : False : False :  Reals\n",
      "          D :     0 :  30.0 :  None : False : False :  Reals\n",
      "          E :     0 :   5.0 :  None : False : False :  Reals\n",
      "\n",
      "1 Objective Declarations\n",
      "    obj : Size=1, Index=None, Active=True\n",
      "        Key  : Active : Sense    : Expression\n",
      "        None :   True : minimize : 0.1*Pg[A] + 0.05*Pg[B] + 0.3*Pg[C] + 0.4*Pg[D] + 0.01*Pg[E]\n",
      "\n",
      "4 Constraint Declarations\n",
      "    Limit : Size=5, Index=Limit_index, Active=True\n",
      "        Key : Lower : Body  : Upper : Active\n",
      "          1 :  -Inf : Pg[A] :  20.0 :   True\n",
      "          2 :  -Inf : Pg[B] :  10.0 :   True\n",
      "          3 :  -Inf : Pg[C] :  40.0 :   True\n",
      "          4 :  -Inf : Pg[D] :  50.0 :   True\n",
      "          5 :  -Inf : Pg[E] :   5.0 :   True\n",
      "    balance : Size=1, Index=None, Active=True\n",
      "        Key  : Lower : Body                                  : Upper : Active\n",
      "        None : 100.0 : Pg[A] + Pg[B] + Pg[C] + Pg[D] + Pg[E] : 100.0 :   True\n",
      "    cond : Size=1, Index=None, Active=True\n",
      "        Key  : Lower : Body          : Upper : Active\n",
      "        None :  50.0 : Pg[A] + Pg[D] :  +Inf :   True\n",
      "    produced : Size=5, Index=produced_index, Active=True\n",
      "        Key : Lower : Body  : Upper : Active\n",
      "          1 :   0.0 : Pg[A] :  +Inf :   True\n",
      "          2 :   0.0 : Pg[B] :  +Inf :   True\n",
      "          3 :   0.0 : Pg[C] :  +Inf :   True\n",
      "          4 :   0.0 : Pg[D] :  +Inf :   True\n",
      "          5 :   0.0 : Pg[E] :  +Inf :   True\n",
      "\n",
      "10 Declarations: setPg setPd Pg balance cond produced_index produced Limit_index Limit obj\n"
     ]
    }
   ],
   "source": [
    "m.pprint()"
   ]
  },
  {
   "cell_type": "code",
   "execution_count": 155,
   "id": "e0a1b201",
   "metadata": {
    "ExecuteTime": {
     "end_time": "2022-03-13T18:33:06.707346Z",
     "start_time": "2022-03-13T18:33:06.702867Z"
    }
   },
   "outputs": [
    {
     "name": "stdout",
     "output_type": "stream",
     "text": [
      "Pg : Size=5, Index=setPg\n",
      "    Key : Lower : Value : Upper : Fixed : Stale : Domain\n",
      "      A :     0 :  20.0 :  None : False : False :  Reals\n",
      "      B :     0 :  10.0 :  None : False : False :  Reals\n",
      "      C :     0 :  35.0 :  None : False : False :  Reals\n",
      "      D :     0 :  30.0 :  None : False : False :  Reals\n",
      "      E :     0 :   5.0 :  None : False : False :  Reals\n"
     ]
    }
   ],
   "source": [
    "m.Pg.pprint()"
   ]
  },
  {
   "cell_type": "markdown",
   "id": "b70e1117",
   "metadata": {},
   "source": [
    "### Summary"
   ]
  },
  {
   "cell_type": "code",
   "execution_count": 156,
   "id": "c121d6a6",
   "metadata": {
    "ExecuteTime": {
     "end_time": "2022-03-13T18:34:49.223987Z",
     "start_time": "2022-03-13T18:34:49.219655Z"
    }
   },
   "outputs": [
    {
     "name": "stdout",
     "output_type": "stream",
     "text": [
      "\n",
      "Problem: \n",
      "- Name: x6\n",
      "  Lower bound: 25.05\n",
      "  Upper bound: 25.05\n",
      "  Number of objectives: 1\n",
      "  Number of constraints: 13\n",
      "  Number of variables: 6\n",
      "  Number of binary variables: 0\n",
      "  Number of integer variables: 0\n",
      "  Number of continuous variables: 6\n",
      "  Number of nonzeros: 18\n",
      "  Sense: minimize\n",
      "Solver: \n",
      "- Status: ok\n",
      "  Return code: 0\n",
      "  Message: Model was solved to optimality (subject to tolerances), and an optimal solution is available.\n",
      "  Termination condition: optimal\n",
      "  Termination message: Model was solved to optimality (subject to tolerances), and an optimal solution is available.\n",
      "  Wall time: 0.0005481243133544922\n",
      "  Error rc: 0\n",
      "  Time: 0.09047603607177734\n",
      "Solution: \n",
      "- number of solutions: 0\n",
      "  number of solutions displayed: 0\n",
      "\n"
     ]
    }
   ],
   "source": [
    "print(results)"
   ]
  },
  {
   "cell_type": "code",
   "execution_count": null,
   "id": "5df90c70",
   "metadata": {},
   "outputs": [],
   "source": []
  }
 ],
 "metadata": {
  "hide_input": false,
  "kernelspec": {
   "display_name": "p39",
   "language": "python",
   "name": "p39"
  },
  "language_info": {
   "codemirror_mode": {
    "name": "ipython",
    "version": 3
   },
   "file_extension": ".py",
   "mimetype": "text/x-python",
   "name": "python",
   "nbconvert_exporter": "python",
   "pygments_lexer": "ipython3",
   "version": "3.9.7"
  },
  "toc": {
   "base_numbering": 1,
   "nav_menu": {},
   "number_sections": true,
   "sideBar": true,
   "skip_h1_title": false,
   "title_cell": "Table of Contents",
   "title_sidebar": "Contents",
   "toc_cell": false,
   "toc_position": {},
   "toc_section_display": true,
   "toc_window_display": false
  }
 },
 "nbformat": 4,
 "nbformat_minor": 5
}
