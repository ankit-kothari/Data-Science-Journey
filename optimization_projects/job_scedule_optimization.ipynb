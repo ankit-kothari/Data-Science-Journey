{
 "cells": [
  {
   "cell_type": "code",
   "execution_count": 13,
   "id": "9351dfff",
   "metadata": {
    "ExecuteTime": {
     "end_time": "2022-03-13T01:56:40.255724Z",
     "start_time": "2022-03-13T01:56:40.252402Z"
    }
   },
   "outputs": [],
   "source": [
    "import pyomo.environ as pyo\n",
    "from pyomo.opt import SolverFactory"
   ]
  },
  {
   "cell_type": "markdown",
   "id": "00a4dc65",
   "metadata": {},
   "source": [
    "### Initializing the Model"
   ]
  },
  {
   "cell_type": "code",
   "execution_count": 40,
   "id": "f007d979",
   "metadata": {
    "ExecuteTime": {
     "end_time": "2022-03-13T03:40:49.898716Z",
     "start_time": "2022-03-13T03:40:49.894476Z"
    }
   },
   "outputs": [],
   "source": [
    "m = pyo.ConcreteModel()"
   ]
  },
  {
   "cell_type": "markdown",
   "id": "b4a25319",
   "metadata": {},
   "source": [
    "### Set Parameteres (What is given?)\n",
    "\n",
    "- Name of the projects\n",
    "- Number of days to do it\n",
    "- Time taken to do each project\n",
    "- Profit for each of the projects\n",
    "- Max hours that can be worked on each day"
   ]
  },
  {
   "cell_type": "code",
   "execution_count": 41,
   "id": "c7498824",
   "metadata": {
    "ExecuteTime": {
     "end_time": "2022-03-13T03:40:50.596872Z",
     "start_time": "2022-03-13T03:40:50.590150Z"
    }
   },
   "outputs": [],
   "source": [
    "m.setJ = pyo.Set(initialize=['A', 'B', 'C', 'D', 'E',\n",
    "                             'F'])  #different projects to choose from\n",
    "m.setD = pyo.Set(initialize=[1, 2, 3])  #number of working days\n",
    "m.D = {\n",
    "    'A': 2,\n",
    "    'B': 3,\n",
    "    'C': 5,\n",
    "    'D': 2,\n",
    "    'E': 6,\n",
    "    'F': 4\n",
    "}  #number of duration for each project\n",
    "m.P = {\n",
    "    'A': 200,\n",
    "    'B': 500,\n",
    "    'C': 300,\n",
    "    'D': 100,\n",
    "    'E': 1000,\n",
    "    'F': 300\n",
    "}  #amount of profit from each project\n",
    "m.maxHours = 6 #number of hours working everyday\n",
    "#m.maxJobDay = 1  #number of projects per day "
   ]
  },
  {
   "cell_type": "markdown",
   "id": "cd3c9431",
   "metadata": {},
   "source": [
    "### Variables (What do we need to find)?\n",
    "\n",
    "- Ans: Which projects we will do on which day.\n",
    "    - J can take [A,B,C,D,E,F]\n",
    "    - D can take [1,2,3]\n",
    "    - x[J,D] = 0 or 1"
   ]
  },
  {
   "cell_type": "code",
   "execution_count": 42,
   "id": "a9640c68",
   "metadata": {
    "ExecuteTime": {
     "end_time": "2022-03-13T03:40:51.304306Z",
     "start_time": "2022-03-13T03:40:51.298823Z"
    }
   },
   "outputs": [],
   "source": [
    "m.x = pyo.Var(m.setJ, m.setD, within=pyo.Binary)"
   ]
  },
  {
   "cell_type": "markdown",
   "id": "771d012c",
   "metadata": {},
   "source": [
    "#### Example: possible_combination "
   ]
  },
  {
   "cell_type": "code",
   "execution_count": 43,
   "id": "75f3af66",
   "metadata": {
    "ExecuteTime": {
     "end_time": "2022-03-13T03:40:51.685542Z",
     "start_time": "2022-03-13T03:40:51.678391Z"
    }
   },
   "outputs": [
    {
     "data": {
      "text/plain": [
       "[[1, 'A'],\n",
       " [1, 'B'],\n",
       " [1, 'C'],\n",
       " [1, 'D'],\n",
       " [1, 'E'],\n",
       " [1, 'F'],\n",
       " [2, 'A'],\n",
       " [2, 'B'],\n",
       " [2, 'C'],\n",
       " [2, 'D'],\n",
       " [2, 'E'],\n",
       " [2, 'F'],\n",
       " [3, 'A'],\n",
       " [3, 'B'],\n",
       " [3, 'C'],\n",
       " [3, 'D'],\n",
       " [3, 'E'],\n",
       " [3, 'F']]"
      ]
     },
     "execution_count": 43,
     "metadata": {},
     "output_type": "execute_result"
    }
   ],
   "source": [
    "jobs = ['A', 'B', 'C', 'D', 'E','F']\n",
    "days = [1,2,3]\n",
    "possible_combination = [ [d,j] for d in days for j in jobs ]\n",
    "possible_combination"
   ]
  },
  {
   "cell_type": "markdown",
   "id": "7afc35eb",
   "metadata": {},
   "source": [
    "### Objective Function (How do we find the best possible outcome)?"
   ]
  },
  {
   "cell_type": "code",
   "execution_count": 44,
   "id": "fd34e464",
   "metadata": {
    "ExecuteTime": {
     "end_time": "2022-03-13T03:40:52.179223Z",
     "start_time": "2022-03-13T03:40:52.173206Z"
    }
   },
   "outputs": [],
   "source": [
    "#m.x[j,d]*m.P[j] says if a project A is done on day 1 then m.x[j,d]==1 and m.P['A']==200\n",
    "m.obj = pyo.Objective(expr=sum(\n",
    "    [m.x[j, d] * m.P[j] for j in m.setJ for d in m.setD]),\n",
    "                      sense=pyo.maximize)"
   ]
  },
  {
   "cell_type": "markdown",
   "id": "62b4673f",
   "metadata": {},
   "source": [
    "### constraints"
   ]
  },
  {
   "cell_type": "code",
   "execution_count": 45,
   "id": "f91958aa",
   "metadata": {
    "ExecuteTime": {
     "end_time": "2022-03-13T03:40:52.583021Z",
     "start_time": "2022-03-13T03:40:52.574362Z"
    }
   },
   "outputs": [],
   "source": [
    "m.C1 = pyo.ConstraintList()\n",
    "m.C2 = pyo.ConstraintList()\n",
    "m.C3 = pyo.ConstraintList()\n",
    "for d in m.setD:\n",
    "    m.C1.add(sum([m.x[j,d]*m.D[j] for j in m.setJ]) <= m.maxHours) #for each day total hours sould be less than 6\n",
    "    \n",
    "for j in m.setJ:\n",
    "    m.C2.add(sum([m.x[j,d] for d in m.setD]) <= 1) #one job can be done only on one of the days\n",
    "    \n",
    "#for d in m.setD:\n",
    "    #m.C3.add(sum(m.x[j,d] for j in m.setJ) ==1) #constrain condition to have only one job per day"
   ]
  },
  {
   "cell_type": "markdown",
   "id": "0f634d30",
   "metadata": {},
   "source": [
    "### Solveing using Solver"
   ]
  },
  {
   "cell_type": "code",
   "execution_count": 46,
   "id": "451974e6",
   "metadata": {
    "ExecuteTime": {
     "end_time": "2022-03-13T03:40:53.014986Z",
     "start_time": "2022-03-13T03:40:52.978111Z"
    }
   },
   "outputs": [
    {
     "name": "stdout",
     "output_type": "stream",
     "text": [
      "6 Set Declarations\n",
      "    C1_index : Size=1, Index=None, Ordered=Insertion\n",
      "        Key  : Dimen : Domain : Size : Members\n",
      "        None :     1 :    Any :    3 : {1, 2, 3}\n",
      "    C2_index : Size=1, Index=None, Ordered=Insertion\n",
      "        Key  : Dimen : Domain : Size : Members\n",
      "        None :     1 :    Any :    6 : {1, 2, 3, 4, 5, 6}\n",
      "    C3_index : Size=1, Index=None, Ordered=Insertion\n",
      "        Key  : Dimen : Domain : Size : Members\n",
      "        None :     1 :    Any :    0 :      {}\n",
      "    setD : Size=1, Index=None, Ordered=Insertion\n",
      "        Key  : Dimen : Domain : Size : Members\n",
      "        None :     1 :    Any :    3 : {1, 2, 3}\n",
      "    setJ : Size=1, Index=None, Ordered=Insertion\n",
      "        Key  : Dimen : Domain : Size : Members\n",
      "        None :     1 :    Any :    6 : {'A', 'B', 'C', 'D', 'E', 'F'}\n",
      "    x_index : Size=1, Index=None, Ordered=True\n",
      "        Key  : Dimen : Domain    : Size : Members\n",
      "        None :     2 : setJ*setD :   18 : {('A', 1), ('A', 2), ('A', 3), ('B', 1), ('B', 2), ('B', 3), ('C', 1), ('C', 2), ('C', 3), ('D', 1), ('D', 2), ('D', 3), ('E', 1), ('E', 2), ('E', 3), ('F', 1), ('F', 2), ('F', 3)}\n",
      "\n",
      "1 Var Declarations\n",
      "    x : Size=18, Index=x_index\n",
      "        Key      : Lower : Value : Upper : Fixed : Stale : Domain\n",
      "        ('A', 1) :     0 :   0.0 :     1 : False : False : Binary\n",
      "        ('A', 2) :     0 :   0.0 :     1 : False : False : Binary\n",
      "        ('A', 3) :     0 :   1.0 :     1 : False : False : Binary\n",
      "        ('B', 1) :     0 :   0.0 :     1 : False : False : Binary\n",
      "        ('B', 2) :     0 :   1.0 :     1 : False : False : Binary\n",
      "        ('B', 3) :     0 :   0.0 :     1 : False : False : Binary\n",
      "        ('C', 1) :     0 :   0.0 :     1 : False : False : Binary\n",
      "        ('C', 2) :     0 :   0.0 :     1 : False : False : Binary\n",
      "        ('C', 3) :     0 :   0.0 :     1 : False : False : Binary\n",
      "        ('D', 1) :     0 :   0.0 :     1 : False : False : Binary\n",
      "        ('D', 2) :     0 :   1.0 :     1 : False : False : Binary\n",
      "        ('D', 3) :     0 :   0.0 :     1 : False : False : Binary\n",
      "        ('E', 1) :     0 :   1.0 :     1 : False : False : Binary\n",
      "        ('E', 2) :     0 :   0.0 :     1 : False : False : Binary\n",
      "        ('E', 3) :     0 :   0.0 :     1 : False : False : Binary\n",
      "        ('F', 1) :     0 :   0.0 :     1 : False : False : Binary\n",
      "        ('F', 2) :     0 :   0.0 :     1 : False : False : Binary\n",
      "        ('F', 3) :     0 :   1.0 :     1 : False : False : Binary\n",
      "\n",
      "1 Objective Declarations\n",
      "    obj : Size=1, Index=None, Active=True\n",
      "        Key  : Active : Sense    : Expression\n",
      "        None :   True : maximize : 200*x[A,1] + 200*x[A,2] + 200*x[A,3] + 500*x[B,1] + 500*x[B,2] + 500*x[B,3] + 300*x[C,1] + 300*x[C,2] + 300*x[C,3] + 100*x[D,1] + 100*x[D,2] + 100*x[D,3] + 1000*x[E,1] + 1000*x[E,2] + 1000*x[E,3] + 300*x[F,1] + 300*x[F,2] + 300*x[F,3]\n",
      "\n",
      "3 Constraint Declarations\n",
      "    C1 : Size=3, Index=C1_index, Active=True\n",
      "        Key : Lower : Body                                                            : Upper : Active\n",
      "          1 :  -Inf : 2*x[A,1] + 3*x[B,1] + 5*x[C,1] + 2*x[D,1] + 6*x[E,1] + 4*x[F,1] :   6.0 :   True\n",
      "          2 :  -Inf : 2*x[A,2] + 3*x[B,2] + 5*x[C,2] + 2*x[D,2] + 6*x[E,2] + 4*x[F,2] :   6.0 :   True\n",
      "          3 :  -Inf : 2*x[A,3] + 3*x[B,3] + 5*x[C,3] + 2*x[D,3] + 6*x[E,3] + 4*x[F,3] :   6.0 :   True\n",
      "    C2 : Size=6, Index=C2_index, Active=True\n",
      "        Key : Lower : Body                     : Upper : Active\n",
      "          1 :  -Inf : x[A,1] + x[A,2] + x[A,3] :   1.0 :   True\n",
      "          2 :  -Inf : x[B,1] + x[B,2] + x[B,3] :   1.0 :   True\n",
      "          3 :  -Inf : x[C,1] + x[C,2] + x[C,3] :   1.0 :   True\n",
      "          4 :  -Inf : x[D,1] + x[D,2] + x[D,3] :   1.0 :   True\n",
      "          5 :  -Inf : x[E,1] + x[E,2] + x[E,3] :   1.0 :   True\n",
      "          6 :  -Inf : x[F,1] + x[F,2] + x[F,3] :   1.0 :   True\n",
      "    C3 : Size=0, Index=C3_index, Active=True\n",
      "        Key : Lower : Body : Upper : Active\n",
      "\n",
      "11 Declarations: setJ setD x_index x obj C1_index C1 C2_index C2 C3_index C3\n"
     ]
    }
   ],
   "source": [
    "opt = SolverFactory('glpk')\n",
    "m.results = opt.solve(m)\n",
    "\n",
    "#print\n",
    "m.pprint()"
   ]
  },
  {
   "cell_type": "code",
   "execution_count": 47,
   "id": "84885a41",
   "metadata": {
    "ExecuteTime": {
     "end_time": "2022-03-13T03:40:53.462052Z",
     "start_time": "2022-03-13T03:40:53.456140Z"
    }
   },
   "outputs": [
    {
     "name": "stdout",
     "output_type": "stream",
     "text": [
      "\n",
      "\n",
      "\n",
      "Profit Total: 2100.0\n",
      "Job E in day 1 (duration 6, profit 1000)\n",
      "Job B in day 2 (duration 3, profit 500)\n",
      "Job D in day 2 (duration 2, profit 100)\n",
      "Job A in day 3 (duration 2, profit 200)\n",
      "Job F in day 3 (duration 4, profit 300)\n"
     ]
    }
   ],
   "source": [
    "print('\\n\\n')\n",
    "print('Profit Total:', pyo.value(m.obj))\n",
    "for d in m.setD:\n",
    "    for j in m.setJ:\n",
    "        if pyo.value(m.x[j, d]) > 0.9:\n",
    "            print('Job %s in day %d (duration %i, profit %i)' %\n",
    "                  (j, d, m.D[j], m.P[j]))"
   ]
  },
  {
   "cell_type": "code",
   "execution_count": null,
   "id": "b4c1fac2",
   "metadata": {},
   "outputs": [],
   "source": []
  },
  {
   "cell_type": "code",
   "execution_count": null,
   "id": "e9988e78",
   "metadata": {},
   "outputs": [],
   "source": []
  }
 ],
 "metadata": {
  "hide_input": false,
  "kernelspec": {
   "display_name": "p39",
   "language": "python",
   "name": "p39"
  },
  "language_info": {
   "codemirror_mode": {
    "name": "ipython",
    "version": 3
   },
   "file_extension": ".py",
   "mimetype": "text/x-python",
   "name": "python",
   "nbconvert_exporter": "python",
   "pygments_lexer": "ipython3",
   "version": "3.9.7"
  },
  "toc": {
   "base_numbering": 1,
   "nav_menu": {},
   "number_sections": true,
   "sideBar": true,
   "skip_h1_title": false,
   "title_cell": "Table of Contents",
   "title_sidebar": "Contents",
   "toc_cell": false,
   "toc_position": {},
   "toc_section_display": true,
   "toc_window_display": false
  }
 },
 "nbformat": 4,
 "nbformat_minor": 5
}
