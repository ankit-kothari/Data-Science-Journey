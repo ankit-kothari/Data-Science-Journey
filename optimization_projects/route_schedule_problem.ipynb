{
 "cells": [
  {
   "cell_type": "code",
   "execution_count": 53,
   "id": "c78822d4",
   "metadata": {
    "ExecuteTime": {
     "end_time": "2022-03-14T00:52:52.065600Z",
     "start_time": "2022-03-14T00:52:52.062744Z"
    }
   },
   "outputs": [],
   "source": [
    "import pandas as pd, numpy as np\n",
    "from ortools.sat.python import cp_model"
   ]
  },
  {
   "cell_type": "markdown",
   "id": "c5a1c8a7",
   "metadata": {},
   "source": [
    "## Constrained Optimization"
   ]
  },
  {
   "cell_type": "markdown",
   "id": "6c3fb628",
   "metadata": {},
   "source": [
    "### inputs"
   ]
  },
  {
   "cell_type": "code",
   "execution_count": 54,
   "id": "95e6d545",
   "metadata": {
    "ExecuteTime": {
     "end_time": "2022-03-14T00:52:52.176083Z",
     "start_time": "2022-03-14T00:52:52.154316Z"
    }
   },
   "outputs": [],
   "source": [
    "nodes = pd.read_excel('route_inputs.xlsx', sheet_name='nodes')\n",
    "paths = pd.read_excel('route_inputs.xlsx', sheet_name='paths')\n",
    "n_nodes = len(nodes)\n",
    "n_paths = len(paths)"
   ]
  },
  {
   "cell_type": "code",
   "execution_count": 55,
   "id": "b3b8d473",
   "metadata": {
    "ExecuteTime": {
     "end_time": "2022-03-14T00:52:52.208050Z",
     "start_time": "2022-03-14T00:52:52.178528Z"
    }
   },
   "outputs": [
    {
     "data": {
      "text/html": [
       "<div>\n",
       "<style scoped>\n",
       "    .dataframe tbody tr th:only-of-type {\n",
       "        vertical-align: middle;\n",
       "    }\n",
       "\n",
       "    .dataframe tbody tr th {\n",
       "        vertical-align: top;\n",
       "    }\n",
       "\n",
       "    .dataframe thead th {\n",
       "        text-align: right;\n",
       "    }\n",
       "</style>\n",
       "<table border=\"1\" class=\"dataframe\">\n",
       "  <thead>\n",
       "    <tr style=\"text-align: right;\">\n",
       "      <th></th>\n",
       "      <th>node</th>\n",
       "      <th>description</th>\n",
       "    </tr>\n",
       "  </thead>\n",
       "  <tbody>\n",
       "    <tr>\n",
       "      <th>0</th>\n",
       "      <td>1</td>\n",
       "      <td>origin</td>\n",
       "    </tr>\n",
       "    <tr>\n",
       "      <th>1</th>\n",
       "      <td>2</td>\n",
       "      <td>middle point</td>\n",
       "    </tr>\n",
       "    <tr>\n",
       "      <th>2</th>\n",
       "      <td>3</td>\n",
       "      <td>middle point</td>\n",
       "    </tr>\n",
       "    <tr>\n",
       "      <th>3</th>\n",
       "      <td>4</td>\n",
       "      <td>middle point</td>\n",
       "    </tr>\n",
       "    <tr>\n",
       "      <th>4</th>\n",
       "      <td>5</td>\n",
       "      <td>middle point</td>\n",
       "    </tr>\n",
       "    <tr>\n",
       "      <th>5</th>\n",
       "      <td>6</td>\n",
       "      <td>middle point</td>\n",
       "    </tr>\n",
       "    <tr>\n",
       "      <th>6</th>\n",
       "      <td>7</td>\n",
       "      <td>destination</td>\n",
       "    </tr>\n",
       "  </tbody>\n",
       "</table>\n",
       "</div>"
      ],
      "text/plain": [
       "   node   description\n",
       "0     1        origin\n",
       "1     2  middle point\n",
       "2     3  middle point\n",
       "3     4  middle point\n",
       "4     5  middle point\n",
       "5     6  middle point\n",
       "6     7   destination"
      ]
     },
     "execution_count": 55,
     "metadata": {},
     "output_type": "execute_result"
    }
   ],
   "source": [
    "nodes"
   ]
  },
  {
   "cell_type": "code",
   "execution_count": 56,
   "id": "25ff2d9f",
   "metadata": {
    "ExecuteTime": {
     "end_time": "2022-03-14T00:52:52.217147Z",
     "start_time": "2022-03-14T00:52:52.209839Z"
    }
   },
   "outputs": [
    {
     "data": {
      "text/html": [
       "<div>\n",
       "<style scoped>\n",
       "    .dataframe tbody tr th:only-of-type {\n",
       "        vertical-align: middle;\n",
       "    }\n",
       "\n",
       "    .dataframe tbody tr th {\n",
       "        vertical-align: top;\n",
       "    }\n",
       "\n",
       "    .dataframe thead th {\n",
       "        text-align: right;\n",
       "    }\n",
       "</style>\n",
       "<table border=\"1\" class=\"dataframe\">\n",
       "  <thead>\n",
       "    <tr style=\"text-align: right;\">\n",
       "      <th></th>\n",
       "      <th>node_from</th>\n",
       "      <th>node_to</th>\n",
       "      <th>distance</th>\n",
       "    </tr>\n",
       "  </thead>\n",
       "  <tbody>\n",
       "    <tr>\n",
       "      <th>0</th>\n",
       "      <td>1</td>\n",
       "      <td>2</td>\n",
       "      <td>220</td>\n",
       "    </tr>\n",
       "    <tr>\n",
       "      <th>1</th>\n",
       "      <td>1</td>\n",
       "      <td>3</td>\n",
       "      <td>1500</td>\n",
       "    </tr>\n",
       "    <tr>\n",
       "      <th>2</th>\n",
       "      <td>2</td>\n",
       "      <td>4</td>\n",
       "      <td>650</td>\n",
       "    </tr>\n",
       "    <tr>\n",
       "      <th>3</th>\n",
       "      <td>2</td>\n",
       "      <td>5</td>\n",
       "      <td>900</td>\n",
       "    </tr>\n",
       "    <tr>\n",
       "      <th>4</th>\n",
       "      <td>4</td>\n",
       "      <td>7</td>\n",
       "      <td>500</td>\n",
       "    </tr>\n",
       "    <tr>\n",
       "      <th>5</th>\n",
       "      <td>5</td>\n",
       "      <td>7</td>\n",
       "      <td>400</td>\n",
       "    </tr>\n",
       "    <tr>\n",
       "      <th>6</th>\n",
       "      <td>3</td>\n",
       "      <td>6</td>\n",
       "      <td>500</td>\n",
       "    </tr>\n",
       "    <tr>\n",
       "      <th>7</th>\n",
       "      <td>6</td>\n",
       "      <td>7</td>\n",
       "      <td>400</td>\n",
       "    </tr>\n",
       "  </tbody>\n",
       "</table>\n",
       "</div>"
      ],
      "text/plain": [
       "   node_from  node_to  distance\n",
       "0          1        2       220\n",
       "1          1        3      1500\n",
       "2          2        4       650\n",
       "3          2        5       900\n",
       "4          4        7       500\n",
       "5          5        7       400\n",
       "6          3        6       500\n",
       "7          6        7       400"
      ]
     },
     "execution_count": 56,
     "metadata": {},
     "output_type": "execute_result"
    }
   ],
   "source": [
    "paths"
   ]
  },
  {
   "cell_type": "markdown",
   "id": "1e66fb21",
   "metadata": {},
   "source": [
    "### Initialinzing Model"
   ]
  },
  {
   "cell_type": "code",
   "execution_count": 57,
   "id": "8ca54834",
   "metadata": {
    "ExecuteTime": {
     "end_time": "2022-03-14T00:52:52.234613Z",
     "start_time": "2022-03-14T00:52:52.231597Z"
    }
   },
   "outputs": [],
   "source": [
    "model = cp_model.CpModel()\n"
   ]
  },
  {
   "cell_type": "markdown",
   "id": "c1848801",
   "metadata": {},
   "source": [
    "### Variables (What do we need to find)?\n",
    "\n",
    "- p is a path index here and its a binary ; whether we are going to take that path or not\n",
    "- whether that particular row in path will be activated or not?\n",
    "- this is a variable we need to look at "
   ]
  },
  {
   "cell_type": "code",
   "execution_count": 58,
   "id": "144e0eec",
   "metadata": {
    "ExecuteTime": {
     "end_time": "2022-03-14T00:52:52.302866Z",
     "start_time": "2022-03-14T00:52:52.298153Z"
    }
   },
   "outputs": [
    {
     "name": "stdout",
     "output_type": "stream",
     "text": [
      "[0.0, 0.0, 0.0, 0.0, 0.0, 0.0, 0.0, 0.0]\n",
      "0\n",
      "1\n",
      "2\n",
      "3\n",
      "4\n",
      "5\n",
      "6\n",
      "7\n",
      "x[[2]]\n"
     ]
    }
   ],
   "source": [
    "x = np.zeros(n_paths).tolist()\n",
    "print(x)\n",
    "for p in paths.index:\n",
    "    print(p)\n",
    "    x[p] = model.NewIntVar(0,1,'x[{}]'.format([p]))\n",
    "print(x[2])"
   ]
  },
  {
   "cell_type": "markdown",
   "id": "fa9da9f2",
   "metadata": {},
   "source": [
    "### objective function (How do we find the best possible outcome)?\n",
    "\n",
    "- we need to make sure the path we chooses x[p] (1 or 0) has the minimum distance to reach from origin to destination\n"
   ]
  },
  {
   "cell_type": "code",
   "execution_count": 59,
   "id": "7a6e57b2",
   "metadata": {
    "ExecuteTime": {
     "end_time": "2022-03-14T00:52:52.367311Z",
     "start_time": "2022-03-14T00:52:52.363844Z"
    }
   },
   "outputs": [],
   "source": [
    "objFun = sum([x[p] * paths.distance[p] for p in paths.index])\n",
    "model.Minimize(objFun)"
   ]
  },
  {
   "cell_type": "code",
   "execution_count": 60,
   "id": "8232448c",
   "metadata": {
    "ExecuteTime": {
     "end_time": "2022-03-14T00:52:52.385896Z",
     "start_time": "2022-03-14T00:52:52.381973Z"
    }
   },
   "outputs": [
    {
     "data": {
      "text/plain": [
       "Sum(Sum(Sum(Sum(Sum(Sum(Sum(ProductCst(x[[0]](0..1), 220), ProductCst(x[[1]](0..1), 1500)), ProductCst(x[[2]](0..1), 650)), ProductCst(x[[3]](0..1), 900)), ProductCst(x[[4]](0..1), 500)), ProductCst(x[[5]](0..1), 400)), ProductCst(x[[6]](0..1), 500)), ProductCst(x[[7]](0..1), 400))"
      ]
     },
     "execution_count": 60,
     "metadata": {},
     "output_type": "execute_result"
    }
   ],
   "source": [
    "objFun"
   ]
  },
  {
   "cell_type": "code",
   "execution_count": 61,
   "id": "4ce05d9d",
   "metadata": {
    "ExecuteTime": {
     "end_time": "2022-03-14T00:52:52.391375Z",
     "start_time": "2022-03-14T00:52:52.388599Z"
    }
   },
   "outputs": [
    {
     "name": "stdout",
     "output_type": "stream",
     "text": [
      "((((((((220 * x[[0]]) + (1500 * x[[1]])) + (650 * x[[2]])) + (900 * x[[3]])) + (500 * x[[4]])) + (400 * x[[5]])) + (500 * x[[6]])) + (400 * x[[7]]))\n"
     ]
    }
   ],
   "source": [
    "print(objFun)"
   ]
  },
  {
   "cell_type": "markdown",
   "id": "d9f6bab3",
   "metadata": {},
   "source": [
    "### Constrains (What are the conditions we need to keep in mind)?"
   ]
  },
  {
   "cell_type": "markdown",
   "id": "ea18fc4e",
   "metadata": {},
   "source": [
    "#### Identifying Orign and Destination "
   ]
  },
  {
   "cell_type": "code",
   "execution_count": 62,
   "id": "b1bb1503",
   "metadata": {
    "ExecuteTime": {
     "end_time": "2022-03-14T00:52:52.486125Z",
     "start_time": "2022-03-14T00:52:52.480928Z"
    }
   },
   "outputs": [
    {
     "name": "stdout",
     "output_type": "stream",
     "text": [
      "1\n",
      "7\n"
     ]
    }
   ],
   "source": [
    "node_origin = int(nodes.node[nodes['description']=='origin'])\n",
    "node_destination = int(nodes.node[nodes['description']=='destination'])\n",
    "\n",
    "print(node_origin)\n",
    "print(node_destination)"
   ]
  },
  {
   "cell_type": "code",
   "execution_count": 63,
   "id": "73738808",
   "metadata": {
    "ExecuteTime": {
     "end_time": "2022-03-14T00:52:52.493858Z",
     "start_time": "2022-03-14T00:52:52.488759Z"
    }
   },
   "outputs": [
    {
     "data": {
      "text/plain": [
       "Int64Index([0, 1], dtype='int64')"
      ]
     },
     "execution_count": 63,
     "metadata": {},
     "output_type": "execute_result"
    }
   ],
   "source": [
    "paths.index[paths.node_from==node_origin]"
   ]
  },
  {
   "cell_type": "code",
   "execution_count": 64,
   "id": "fe6c8e15",
   "metadata": {
    "ExecuteTime": {
     "end_time": "2022-03-14T00:52:52.500804Z",
     "start_time": "2022-03-14T00:52:52.496374Z"
    }
   },
   "outputs": [
    {
     "data": {
      "text/plain": [
       "Int64Index([4, 5, 7], dtype='int64')"
      ]
     },
     "execution_count": 64,
     "metadata": {},
     "output_type": "execute_result"
    }
   ],
   "source": [
    "paths.index[paths.node_to==node_destination]"
   ]
  },
  {
   "cell_type": "markdown",
   "id": "613f58b6",
   "metadata": {},
   "source": [
    "#### Adding constrain : constraint sum(x) == 1 (origin and destination)\n",
    "\n",
    "- Origin Out is Node in Index 0,1 in paths table \n",
    "       - That means either of (1,2) or (1,3) should be active not both\n",
    "- Destination in Node is at Index 4,5,7 in paths table\n",
    "       - That means either of (4,7) , (5,7) , (6,7) should be active not all only one"
   ]
  },
  {
   "cell_type": "code",
   "execution_count": 65,
   "id": "73242a5a",
   "metadata": {
    "ExecuteTime": {
     "end_time": "2022-03-14T00:52:52.548163Z",
     "start_time": "2022-03-14T00:52:52.541940Z"
    }
   },
   "outputs": [
    {
     "data": {
      "text/plain": [
       "<ortools.sat.python.cp_model.Constraint at 0x7fca71294640>"
      ]
     },
     "execution_count": 65,
     "metadata": {},
     "output_type": "execute_result"
    }
   ],
   "source": [
    "model.Add(sum([x[p] for p in paths.index[paths.node_from==node_origin]]) == 1)\n",
    "model.Add(sum([x[p] for p in paths.index[paths.node_to==node_destination]]) == 1)"
   ]
  },
  {
   "cell_type": "markdown",
   "id": "4dc23bcd",
   "metadata": {},
   "source": [
    "#### Adding constrain : constraint sum(x, in) == sum(x, out)"
   ]
  },
  {
   "cell_type": "code",
   "execution_count": 66,
   "id": "36963df3",
   "metadata": {
    "ExecuteTime": {
     "end_time": "2022-03-14T00:52:52.608274Z",
     "start_time": "2022-03-14T00:52:52.598518Z"
    }
   },
   "outputs": [
    {
     "data": {
      "text/html": [
       "<div>\n",
       "<style scoped>\n",
       "    .dataframe tbody tr th:only-of-type {\n",
       "        vertical-align: middle;\n",
       "    }\n",
       "\n",
       "    .dataframe tbody tr th {\n",
       "        vertical-align: top;\n",
       "    }\n",
       "\n",
       "    .dataframe thead th {\n",
       "        text-align: right;\n",
       "    }\n",
       "</style>\n",
       "<table border=\"1\" class=\"dataframe\">\n",
       "  <thead>\n",
       "    <tr style=\"text-align: right;\">\n",
       "      <th></th>\n",
       "      <th>node</th>\n",
       "      <th>description</th>\n",
       "    </tr>\n",
       "  </thead>\n",
       "  <tbody>\n",
       "    <tr>\n",
       "      <th>1</th>\n",
       "      <td>2</td>\n",
       "      <td>middle point</td>\n",
       "    </tr>\n",
       "    <tr>\n",
       "      <th>2</th>\n",
       "      <td>3</td>\n",
       "      <td>middle point</td>\n",
       "    </tr>\n",
       "    <tr>\n",
       "      <th>3</th>\n",
       "      <td>4</td>\n",
       "      <td>middle point</td>\n",
       "    </tr>\n",
       "    <tr>\n",
       "      <th>4</th>\n",
       "      <td>5</td>\n",
       "      <td>middle point</td>\n",
       "    </tr>\n",
       "    <tr>\n",
       "      <th>5</th>\n",
       "      <td>6</td>\n",
       "      <td>middle point</td>\n",
       "    </tr>\n",
       "  </tbody>\n",
       "</table>\n",
       "</div>"
      ],
      "text/plain": [
       "   node   description\n",
       "1     2  middle point\n",
       "2     3  middle point\n",
       "3     4  middle point\n",
       "4     5  middle point\n",
       "5     6  middle point"
      ]
     },
     "execution_count": 66,
     "metadata": {},
     "output_type": "execute_result"
    }
   ],
   "source": [
    "middle_points = nodes.query(\"description=='middle point'\")\n",
    "middle_points"
   ]
  },
  {
   "cell_type": "code",
   "execution_count": 67,
   "id": "2b5672bc",
   "metadata": {
    "ExecuteTime": {
     "end_time": "2022-03-14T00:52:52.616103Z",
     "start_time": "2022-03-14T00:52:52.610401Z"
    }
   },
   "outputs": [],
   "source": [
    "for middle_node in middle_points.node:\n",
    "   sum_in = sum(x[p] for p in paths.index[paths.node_to==middle_node])\n",
    "   sum_out =sum(x[p] for p in paths.index[paths.node_from==middle_node])\n",
    "   model.Add(sum_in == sum_out)"
   ]
  },
  {
   "cell_type": "markdown",
   "id": "f08e9778",
   "metadata": {},
   "source": [
    "### Solveing using Solver"
   ]
  },
  {
   "cell_type": "code",
   "execution_count": 68,
   "id": "52b98e0a",
   "metadata": {
    "ExecuteTime": {
     "end_time": "2022-03-14T00:52:52.661469Z",
     "start_time": "2022-03-14T00:52:52.656514Z"
    }
   },
   "outputs": [],
   "source": [
    "solver = cp_model.CpSolver()\n",
    "status = solver.Solve(model)"
   ]
  },
  {
   "cell_type": "markdown",
   "id": "9d04b9af",
   "metadata": {},
   "source": [
    "### Results"
   ]
  },
  {
   "cell_type": "code",
   "execution_count": 69,
   "id": "e61ee627",
   "metadata": {
    "ExecuteTime": {
     "end_time": "2022-03-14T00:52:52.718677Z",
     "start_time": "2022-03-14T00:52:52.709901Z"
    }
   },
   "outputs": [
    {
     "name": "stdout",
     "output_type": "stream",
     "text": [
      "status = OPTIMAL\n",
      "OF = 1369.9999999999998\n",
      "   node_from  node_to  distance  activated\n",
      "0          1        2       220          1\n",
      "1          1        3      1500          0\n",
      "2          2        4       650          1\n",
      "3          2        5       900          0\n",
      "4          4        7       500          1\n",
      "5          5        7       400          0\n",
      "6          3        6       500          0\n",
      "7          6        7       400          0\n"
     ]
    }
   ],
   "source": [
    "#print\n",
    "print('status =', solver.StatusName(status))\n",
    "print('OF =', solver.ObjectiveValue())\n",
    "\n",
    "paths['activated'] = 0\n",
    "for p in paths.index:\n",
    "    paths.activated[p] = solver.Value(x[p]) ## this prints if the column was activated or not\n",
    "print(paths)"
   ]
  },
  {
   "cell_type": "code",
   "execution_count": null,
   "id": "caac4a68",
   "metadata": {},
   "outputs": [],
   "source": []
  }
 ],
 "metadata": {
  "hide_input": false,
  "kernelspec": {
   "display_name": "p39",
   "language": "python",
   "name": "p39"
  },
  "language_info": {
   "codemirror_mode": {
    "name": "ipython",
    "version": 3
   },
   "file_extension": ".py",
   "mimetype": "text/x-python",
   "name": "python",
   "nbconvert_exporter": "python",
   "pygments_lexer": "ipython3",
   "version": "3.9.7"
  },
  "toc": {
   "base_numbering": 1,
   "nav_menu": {},
   "number_sections": true,
   "sideBar": true,
   "skip_h1_title": false,
   "title_cell": "Table of Contents",
   "title_sidebar": "Contents",
   "toc_cell": false,
   "toc_position": {},
   "toc_section_display": true,
   "toc_window_display": false
  }
 },
 "nbformat": 4,
 "nbformat_minor": 5
}
