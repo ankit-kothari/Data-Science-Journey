{
 "cells": [
  {
   "cell_type": "code",
   "execution_count": 1,
   "id": "34a378db",
   "metadata": {
    "ExecuteTime": {
     "end_time": "2022-03-13T00:33:32.117652Z",
     "start_time": "2022-03-13T00:33:31.677991Z"
    }
   },
   "outputs": [],
   "source": [
    "import pyomo.environ as pyo\n",
    "from pyomo.opt import SolverFactory"
   ]
  },
  {
   "cell_type": "markdown",
   "id": "1fd673c3",
   "metadata": {},
   "source": [
    "### Initializing Model"
   ]
  },
  {
   "cell_type": "code",
   "execution_count": 15,
   "id": "0a2b7323",
   "metadata": {
    "ExecuteTime": {
     "end_time": "2022-03-13T00:46:21.720837Z",
     "start_time": "2022-03-13T00:46:21.717510Z"
    }
   },
   "outputs": [],
   "source": [
    "m = pyo.ConcreteModel()"
   ]
  },
  {
   "cell_type": "markdown",
   "id": "7fd9c06d",
   "metadata": {},
   "source": [
    "### Set Parameteres (What is given?)"
   ]
  },
  {
   "cell_type": "code",
   "execution_count": 16,
   "id": "255aff96",
   "metadata": {
    "ExecuteTime": {
     "end_time": "2022-03-13T00:46:22.516123Z",
     "start_time": "2022-03-13T00:46:22.510350Z"
    }
   },
   "outputs": [],
   "source": [
    "m.set0 = pyo.Set(initialize=['A', 'B', 'C', 'D', 'E'])  #names of open projects\n",
    "m.R = {\n",
    "    'A': 500,\n",
    "    'B': 4000,\n",
    "    'C': 3000,\n",
    "    'D': 2000,\n",
    "    'E': 2000\n",
    "}  #revenue by project\n",
    "m.NT = {\n",
    "    'A': 1,\n",
    "    'B': 3,\n",
    "    'C': 2,\n",
    "    'D': 1,\n",
    "    'E': 5\n",
    "}  #number of teams required by the project\n",
    "m.Nteams = 5 #total teams avaliable to do the projects"
   ]
  },
  {
   "cell_type": "markdown",
   "id": "d31573f9",
   "metadata": {},
   "source": [
    "### Variables (What do we need to find)?"
   ]
  },
  {
   "cell_type": "code",
   "execution_count": 17,
   "id": "02b8d818",
   "metadata": {
    "ExecuteTime": {
     "end_time": "2022-03-13T00:46:23.668095Z",
     "start_time": "2022-03-13T00:46:23.663488Z"
    }
   },
   "outputs": [],
   "source": [
    "m.x = pyo.Var(m.set0,\n",
    "              within=pyo.Binary)  #which open projects will be picked up"
   ]
  },
  {
   "cell_type": "markdown",
   "id": "f43ea4d1",
   "metadata": {},
   "source": [
    "### Objective Function (How do we find the best possible outcome)?\n",
    "\n",
    "- m.x[project_name] == 0 if the project is not active\n",
    "- m.x[project_name] == 1 if the project is active"
   ]
  },
  {
   "cell_type": "code",
   "execution_count": 18,
   "id": "868db002",
   "metadata": {
    "ExecuteTime": {
     "end_time": "2022-03-13T00:46:24.714097Z",
     "start_time": "2022-03-13T00:46:24.708299Z"
    }
   },
   "outputs": [],
   "source": [
    "m.obj = pyo.Objective(\n",
    "    expr=sum([m.x[o] * m.R[o] for o in m.set0]),\n",
    "    sense=pyo.maximize)  #product of active project * revenue for that projeect"
   ]
  },
  {
   "cell_type": "markdown",
   "id": "db2f2e6a",
   "metadata": {},
   "source": [
    "### Constrains (What are the conditions we need to keep in mind)?"
   ]
  },
  {
   "cell_type": "code",
   "execution_count": 19,
   "id": "c2f83a81",
   "metadata": {
    "ExecuteTime": {
     "end_time": "2022-03-13T00:46:25.912757Z",
     "start_time": "2022-03-13T00:46:25.902889Z"
    }
   },
   "outputs": [],
   "source": [
    "m.C1 = pyo.Constraint(expr=sum([m.x[o] * m.NT[o] for o in m.set0]) <=\n",
    "                      m.Nteams)  #total number of teams should be less than 5\n",
    "m.C2 = pyo.Constraint(\n",
    "    expr=m.x['C'] <= m.x['A'])  #project A must happen for C to happen\n",
    "m.C3 = pyo.Constraint(expr=m.x['D'] <= m.x['A'])\n",
    "m.C4 = pyo.Constraint(\n",
    "    expr=m.x['D'] <= m.x['C'])  # project A and C must happen for D to happen"
   ]
  },
  {
   "cell_type": "markdown",
   "id": "66702f7f",
   "metadata": {},
   "source": [
    "### Solveing using Solver"
   ]
  },
  {
   "cell_type": "code",
   "execution_count": 20,
   "id": "4225aa99",
   "metadata": {
    "ExecuteTime": {
     "end_time": "2022-03-13T00:46:52.634028Z",
     "start_time": "2022-03-13T00:46:52.439194Z"
    }
   },
   "outputs": [],
   "source": [
    "#solve\n",
    "opt = SolverFactory('gurobi')\n",
    "m.results = opt.solve(m)"
   ]
  },
  {
   "cell_type": "markdown",
   "id": "f68f5b8f",
   "metadata": {},
   "source": [
    "### Results"
   ]
  },
  {
   "cell_type": "code",
   "execution_count": 21,
   "id": "f8422050",
   "metadata": {
    "ExecuteTime": {
     "end_time": "2022-03-13T00:47:11.245805Z",
     "start_time": "2022-03-13T00:47:11.236420Z"
    }
   },
   "outputs": [
    {
     "name": "stdout",
     "output_type": "stream",
     "text": [
      "1 Set Declarations\n",
      "    set0 : Size=1, Index=None, Ordered=Insertion\n",
      "        Key  : Dimen : Domain : Size : Members\n",
      "        None :     1 :    Any :    5 : {'A', 'B', 'C', 'D', 'E'}\n",
      "\n",
      "1 Var Declarations\n",
      "    x : Size=5, Index=set0\n",
      "        Key : Lower : Value : Upper : Fixed : Stale : Domain\n",
      "          A :     0 :   1.0 :     1 : False : False : Binary\n",
      "          B :     0 :   0.0 :     1 : False : False : Binary\n",
      "          C :     0 :   1.0 :     1 : False : False : Binary\n",
      "          D :     0 :   1.0 :     1 : False : False : Binary\n",
      "          E :     0 :   0.0 :     1 : False : False : Binary\n",
      "\n",
      "1 Objective Declarations\n",
      "    obj : Size=1, Index=None, Active=True\n",
      "        Key  : Active : Sense    : Expression\n",
      "        None :   True : maximize : 500*x[A] + 4000*x[B] + 3000*x[C] + 2000*x[D] + 2000*x[E]\n",
      "\n",
      "4 Constraint Declarations\n",
      "    C1 : Size=1, Index=None, Active=True\n",
      "        Key  : Lower : Body                                   : Upper : Active\n",
      "        None :  -Inf : x[A] + 3*x[B] + 2*x[C] + x[D] + 5*x[E] :   5.0 :   True\n",
      "    C2 : Size=1, Index=None, Active=True\n",
      "        Key  : Lower : Body        : Upper : Active\n",
      "        None :  -Inf : x[C] - x[A] :   0.0 :   True\n",
      "    C3 : Size=1, Index=None, Active=True\n",
      "        Key  : Lower : Body        : Upper : Active\n",
      "        None :  -Inf : x[D] - x[A] :   0.0 :   True\n",
      "    C4 : Size=1, Index=None, Active=True\n",
      "        Key  : Lower : Body        : Upper : Active\n",
      "        None :  -Inf : x[D] - x[C] :   0.0 :   True\n",
      "\n",
      "7 Declarations: set0 x obj C1 C2 C3 C4\n",
      "\n",
      "\n",
      "OF: 5500.0\n"
     ]
    }
   ],
   "source": [
    "m.pprint()\n",
    "print('\\n\\nOF:',pyo.value(m.obj))"
   ]
  },
  {
   "cell_type": "raw",
   "id": "693cfb3f",
   "metadata": {},
   "source": [
    "Project A C and D should be picked up which will yield a revenue of 5500"
   ]
  }
 ],
 "metadata": {
  "hide_input": false,
  "kernelspec": {
   "display_name": "p39",
   "language": "python",
   "name": "p39"
  },
  "language_info": {
   "codemirror_mode": {
    "name": "ipython",
    "version": 3
   },
   "file_extension": ".py",
   "mimetype": "text/x-python",
   "name": "python",
   "nbconvert_exporter": "python",
   "pygments_lexer": "ipython3",
   "version": "3.9.7"
  },
  "toc": {
   "base_numbering": 1,
   "nav_menu": {},
   "number_sections": true,
   "sideBar": true,
   "skip_h1_title": false,
   "title_cell": "Table of Contents",
   "title_sidebar": "Contents",
   "toc_cell": false,
   "toc_position": {},
   "toc_section_display": true,
   "toc_window_display": false
  }
 },
 "nbformat": 4,
 "nbformat_minor": 5
}
