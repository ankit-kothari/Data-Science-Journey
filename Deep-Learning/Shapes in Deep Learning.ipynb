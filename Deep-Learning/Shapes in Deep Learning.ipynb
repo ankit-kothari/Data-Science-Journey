{
 "cells": [
  {
   "cell_type": "code",
   "execution_count": 110,
   "metadata": {},
   "outputs": [],
   "source": [
    "from keras.models import Model\n",
    "from keras.layers import Dense\n",
    "from keras.layers import Input, LSTM, GRU, Bidirectional, GlobalMaxPool1D, MaxPooling1D, Embedding\n",
    "import numpy as np\n",
    "from keras.layers import SimpleRNN # new! \n",
    "import matplotlib.pyplot as plt\n",
    "from keras.layers import SpatialDropout1D, Conv1D, GlobalMaxPooling1D # new! \n",
    "from keras.callbacks import ModelCheckpoint\n",
    "import os\n",
    "from sklearn.metrics import roc_auc_score \n",
    "import keras.backend as K\n",
    "if len(K.tensorflow_backend._get_available_gpus()) > 0:\n",
    "  from keras.layers import CuDNNLSTM as LSTM\n",
    "  from keras.layers import CuDNNGRU as GRU"
   ]
  },
  {
   "cell_type": "code",
   "execution_count": 111,
   "metadata": {},
   "outputs": [],
   "source": [
    "T = 8   ### T is the sequnces lenght\n",
    "D = 2   ### D is the vector length dimensionality\n",
    "M = 3   ### hidden layer size"
   ]
  },
  {
   "cell_type": "code",
   "execution_count": 112,
   "metadata": {},
   "outputs": [
    {
     "data": {
      "text/plain": [
       "array([[[-0.44618286,  0.88019333],\n",
       "        [-0.89017036,  0.26627792],\n",
       "        [-1.49589394,  0.77446926],\n",
       "        [-1.47523688, -0.10624239],\n",
       "        [ 0.57303466, -0.81412297],\n",
       "        [ 0.38048613, -1.62875916],\n",
       "        [ 0.38587117, -0.82175859],\n",
       "        [ 0.49133437,  0.9745502 ]]])"
      ]
     },
     "execution_count": 112,
     "metadata": {},
     "output_type": "execute_result"
    }
   ],
   "source": [
    "X = np.random.randn(1, T, D)\n",
    "X"
   ]
  },
  {
   "cell_type": "markdown",
   "metadata": {},
   "source": [
    "### In the following feedforward we have 3 Dense nuerons so all the 8 (T= sequence length) gets multiplied to each of the nuerons and produces 24 parameters in the output.  "
   ]
  },
  {
   "cell_type": "code",
   "execution_count": 113,
   "metadata": {},
   "outputs": [
    {
     "name": "stdout",
     "output_type": "stream",
     "text": [
      "Model: \"model_128\"\n",
      "_________________________________________________________________\n",
      "Layer (type)                 Output Shape              Param #   \n",
      "=================================================================\n",
      "input_90 (InputLayer)        (None, 8, 2)              0         \n",
      "_________________________________________________________________\n",
      "dense_20 (Dense)             (None, 8, 3)              9         \n",
      "=================================================================\n",
      "Total params: 9\n",
      "Trainable params: 9\n",
      "Non-trainable params: 0\n",
      "_________________________________________________________________\n",
      "Feedforward output: [[[0.5088696  0.3436704  0.7363014 ]\n",
      "  [0.5245103  0.40946135 0.7488073 ]\n",
      "  [0.5396385  0.3061217  0.8854835 ]\n",
      "  [0.5430566  0.43362778 0.8113289 ]\n",
      "  [0.48715964 0.6535339  0.2468077 ]\n",
      "  [0.49646315 0.7496458  0.19164243]\n",
      "  [0.49260673 0.6449926  0.28355432]\n",
      "  [0.48132563 0.37897137 0.52923524]]]\n",
      "Feedforward output.shape: (1, 8, 3)\n"
     ]
    }
   ],
   "source": [
    "def Feedforward():\n",
    "  input_ = Input(shape=(T, D))\n",
    "  rnn = Dense(M, activation='sigmoid')\n",
    "  x = rnn(input_)\n",
    "\n",
    "  model = Model(inputs=input_, outputs=x)\n",
    "  model.summary()\n",
    "  o= model.predict(X)\n",
    "  print(\"Feedforward output:\", o)\n",
    "  print(\"Feedforward output.shape:\", o.shape)\n",
    "Feedforward()"
   ]
  },
  {
   "cell_type": "markdown",
   "metadata": {},
   "source": [
    "### IN RNN if we have 3 (M=3 HIDDEN UNITS) when we pass in a sequence of  8 (T=8), it goes one by one into the network and when  \"return_state=True\" alone, It will output the final value at T(7) (time stamp 7) one from each hidden nueron and the shape will be (1,3) and since return states is true is will also output h: the final hidden state for each of the hidden nueron (1,3) but if the return_sequnece parameter is True as well, then we will get an output vector at each time stamp from T(0) to T(7) (8 is the sequnce length) so T1 will have (1,3) from each hidden state all the way up to T(7) making the output shape to be (8,3)"
   ]
  },
  {
   "cell_type": "code",
   "execution_count": 114,
   "metadata": {},
   "outputs": [
    {
     "name": "stdout",
     "output_type": "stream",
     "text": [
      "Model: \"model_129\"\n",
      "_________________________________________________________________\n",
      "Layer (type)                 Output Shape              Param #   \n",
      "=================================================================\n",
      "input_91 (InputLayer)        (None, 8, 2)              0         \n",
      "_________________________________________________________________\n",
      "simple_rnn_10 (SimpleRNN)    [(None, 3), (None, 3)]    18        \n",
      "=================================================================\n",
      "Total params: 18\n",
      "Trainable params: 18\n",
      "Non-trainable params: 0\n",
      "_________________________________________________________________\n",
      "RNN o: [[ 0.62241155  0.4309334  -0.56761813]]\n",
      "RNN o.shape: (1, 3)\n",
      "RNN h: [[ 0.62241155  0.4309334  -0.56761813]]\n",
      "RNN h: (1, 3)\n"
     ]
    }
   ],
   "source": [
    "def RNN1():\n",
    "  input_ = Input(shape=(T, D))\n",
    "  rnn = SimpleRNN(M,return_state=True )\n",
    "  x = rnn(input_)\n",
    "\n",
    "  model = Model(inputs=input_, outputs=x)\n",
    "  model.summary()\n",
    "  o, h= model.predict(X)\n",
    "  print(\"RNN o:\", o)\n",
    "  print(\"RNN o.shape:\", o.shape)\n",
    "  print(\"RNN h:\", h)\n",
    "  print(\"RNN h:\", h.shape)\n",
    "RNN1()"
   ]
  },
  {
   "cell_type": "code",
   "execution_count": 115,
   "metadata": {},
   "outputs": [
    {
     "name": "stdout",
     "output_type": "stream",
     "text": [
      "Model: \"model_130\"\n",
      "_________________________________________________________________\n",
      "Layer (type)                 Output Shape              Param #   \n",
      "=================================================================\n",
      "input_92 (InputLayer)        (None, 8, 2)              0         \n",
      "_________________________________________________________________\n",
      "simple_rnn_11 (SimpleRNN)    (None, 3)                 18        \n",
      "=================================================================\n",
      "Total params: 18\n",
      "Trainable params: 18\n",
      "Non-trainable params: 0\n",
      "_________________________________________________________________\n",
      "RNN o: [[ 0.1809945 -0.8680041 -0.2581942]]\n",
      "RNN o.shape: (1, 3)\n"
     ]
    }
   ],
   "source": [
    "def RNN2():\n",
    "  input_ = Input(shape=(T, D))\n",
    "  rnn = SimpleRNN(M)\n",
    "  x = rnn(input_)\n",
    "\n",
    "  model = Model(inputs=input_, outputs=x)\n",
    "  model.summary()\n",
    "  o= model.predict(X)\n",
    "  print(\"RNN o:\", o)\n",
    "  print(\"RNN o.shape:\", o.shape)\n",
    "  #print(\"RNN h:\", h)\n",
    "  #print(\"RNN h:\", h.shape)\n",
    "RNN2()"
   ]
  },
  {
   "cell_type": "code",
   "execution_count": 116,
   "metadata": {},
   "outputs": [
    {
     "name": "stdout",
     "output_type": "stream",
     "text": [
      "Model: \"model_131\"\n",
      "_________________________________________________________________\n",
      "Layer (type)                 Output Shape              Param #   \n",
      "=================================================================\n",
      "input_93 (InputLayer)        (None, 8, 2)              0         \n",
      "_________________________________________________________________\n",
      "simple_rnn_12 (SimpleRNN)    [(None, 8, 3), (None, 3)] 18        \n",
      "=================================================================\n",
      "Total params: 18\n",
      "Trainable params: 18\n",
      "Non-trainable params: 0\n",
      "_________________________________________________________________\n",
      "RNN3 o: [[[-0.313571    0.41735008  0.28294384]\n",
      "  [ 0.7114741   0.56325203  0.66680974]\n",
      "  [ 0.90764344  0.21954091  0.5381828 ]\n",
      "  [ 0.9522016  -0.28731886  0.33200467]\n",
      "  [ 0.30792224 -0.88614285 -0.66227067]\n",
      "  [-0.05819295 -0.7262442  -0.6822886 ]\n",
      "  [-0.5579893  -0.32315716 -0.48899856]\n",
      "  [-0.94081473  0.5529743  -0.00507389]]]\n",
      "RNN3 o.shape: (1, 8, 3)\n",
      "RNN3 h: [[-0.94081473  0.5529743  -0.00507389]]\n",
      "RNN3 h: (1, 3)\n"
     ]
    }
   ],
   "source": [
    "def RNN3():\n",
    "  input_ = Input(shape=(T, D))\n",
    "  rnn = SimpleRNN(M,return_state=True, return_sequences=True )\n",
    "  x = rnn(input_)\n",
    "\n",
    "  model = Model(inputs=input_, outputs=x)\n",
    "  model.summary()\n",
    "  o, h= model.predict(X)\n",
    "  print(\"RNN3 o:\", o)\n",
    "  print(\"RNN3 o.shape:\", o.shape)\n",
    "  print(\"RNN3 h:\", h)\n",
    "  print(\"RNN3 h:\", h.shape)\n",
    "RNN3()"
   ]
  },
  {
   "cell_type": "code",
   "execution_count": 117,
   "metadata": {},
   "outputs": [
    {
     "name": "stdout",
     "output_type": "stream",
     "text": [
      "Model: \"model_132\"\n",
      "_________________________________________________________________\n",
      "Layer (type)                 Output Shape              Param #   \n",
      "=================================================================\n",
      "input_94 (InputLayer)        (None, 8, 2)              0         \n",
      "_________________________________________________________________\n",
      "lstm_29 (LSTM)               [(None, 3), (None, 3), (N 72        \n",
      "=================================================================\n",
      "Total params: 72\n",
      "Trainable params: 72\n",
      "Non-trainable params: 0\n",
      "_________________________________________________________________\n",
      "o: [[ 0.00699272  0.02722789 -0.06296945]]\n",
      "o.shape: (1, 3)\n",
      "h1: [[ 0.00699272  0.02722789 -0.06296945]]\n",
      "h1: (1, 3)\n",
      "c1: [[ 0.01578255  0.04722785 -0.13898395]]\n",
      "c1: (1, 3)\n"
     ]
    }
   ],
   "source": [
    "def lstm1():\n",
    "  input_ = Input(shape=(T, D))\n",
    "  rnn = LSTM(M, return_state=True)\n",
    "  x = rnn(input_)\n",
    "\n",
    "  model = Model(inputs=input_, outputs=x)\n",
    "  model.summary()\n",
    "  o, h1, c1= model.predict(X)\n",
    "  print(\"o:\", o)\n",
    "  print(\"o.shape:\", o.shape)\n",
    "  print(\"h1:\", h1)\n",
    "  print(\"h1:\", h1.shape)\n",
    "  print(\"c1:\", c1)\n",
    "  print(\"c1:\", c1.shape)\n",
    "lstm1()"
   ]
  },
  {
   "cell_type": "code",
   "execution_count": 118,
   "metadata": {},
   "outputs": [
    {
     "name": "stdout",
     "output_type": "stream",
     "text": [
      "Model: \"model_133\"\n",
      "_________________________________________________________________\n",
      "Layer (type)                 Output Shape              Param #   \n",
      "=================================================================\n",
      "input_95 (InputLayer)        (None, 8, 2)              0         \n",
      "_________________________________________________________________\n",
      "lstm_30 (LSTM)               [(None, 8, 3), (None, 3), 72        \n",
      "=================================================================\n",
      "Total params: 72\n",
      "Trainable params: 72\n",
      "Non-trainable params: 0\n",
      "_________________________________________________________________\n",
      "o: [[[-0.02079856 -0.04695788 -0.02597704]\n",
      "  [-0.11912648 -0.08934309  0.01937718]\n",
      "  [-0.21947117 -0.16449665  0.03939017]\n",
      "  [-0.3540731  -0.22440933  0.14139205]\n",
      "  [-0.10254806 -0.12842722  0.22566453]\n",
      "  [-0.07818401 -0.06015252  0.33402833]\n",
      "  [-0.01837086 -0.04505     0.24178053]\n",
      "  [ 0.04082727 -0.06423474  0.05443963]]]\n",
      "o.shape: (1, 8, 3)\n",
      "h1: [[ 0.04082727 -0.06423474  0.05443963]]\n",
      "h1: (1, 3)\n",
      "c1: [[ 0.10900966 -0.17327632  0.12877311]]\n",
      "c1: (1, 3)\n"
     ]
    }
   ],
   "source": [
    "def lstm2():\n",
    "  input_ = Input(shape=(T, D))\n",
    "  rnn = LSTM(M, return_state=True, return_sequences=True)\n",
    "  x = rnn(input_)\n",
    "\n",
    "  model = Model(inputs=input_, outputs=x)\n",
    "  model.summary()\n",
    "  o, h1, c1= model.predict(X)\n",
    "  print(\"o:\", o)\n",
    "  print(\"o.shape:\", o.shape)\n",
    "  print(\"h1:\", h1)\n",
    "  print(\"h1:\", h1.shape)\n",
    "  print(\"c1:\", c1)\n",
    "  print(\"c1:\", c1.shape)\n",
    "lstm2()"
   ]
  },
  {
   "cell_type": "code",
   "execution_count": 119,
   "metadata": {},
   "outputs": [
    {
     "name": "stdout",
     "output_type": "stream",
     "text": [
      "o: [[ 0.22681835  0.13234696 -0.06720442]]\n",
      "h: [[ 0.22681835  0.13234696 -0.06720442]]\n"
     ]
    }
   ],
   "source": [
    "def gru1():\n",
    "  input_ = Input(shape=(T, D))\n",
    "  rnn = GRU(M, return_state=True)\n",
    "  x = rnn(input_)\n",
    "\n",
    "  model = Model(inputs=input_, outputs=x)\n",
    "  o, h = model.predict(X)\n",
    "  print(\"o:\", o)\n",
    "  print(\"h:\", h)\n",
    "gru1()"
   ]
  },
  {
   "cell_type": "code",
   "execution_count": 120,
   "metadata": {},
   "outputs": [
    {
     "name": "stdout",
     "output_type": "stream",
     "text": [
      "Model: \"model_135\"\n",
      "_________________________________________________________________\n",
      "Layer (type)                 Output Shape              Param #   \n",
      "=================================================================\n",
      "input_97 (InputLayer)        (None, 8, 2)              0         \n",
      "_________________________________________________________________\n",
      "gru_8 (GRU)                  [(None, 8, 3), (None, 3)] 54        \n",
      "=================================================================\n",
      "Total params: 54\n",
      "Trainable params: 54\n",
      "Non-trainable params: 0\n",
      "_________________________________________________________________\n",
      "o: [[[-0.032772   -0.222101   -0.27413872]\n",
      "  [ 0.03588651 -0.3932826  -0.36444336]\n",
      "  [ 0.06800756 -0.5964422  -0.5277087 ]\n",
      "  [ 0.17930047 -0.6431465  -0.5011515 ]\n",
      "  [-0.02837418 -0.12780999  0.09267104]\n",
      "  [ 0.17021193  0.30628246  0.5586179 ]\n",
      "  [ 0.1879003   0.42520466  0.5834806 ]\n",
      "  [ 0.0690013   0.27580395  0.09497865]]]\n",
      "h: [[0.0690013  0.27580395 0.09497865]]\n"
     ]
    }
   ],
   "source": [
    "def gru2():\n",
    "  input_ = Input(shape=(T, D))\n",
    "  rnn = GRU(M, return_state=True, return_sequences=True)\n",
    "  x = rnn(input_)\n",
    "\n",
    "  model = Model(inputs=input_, outputs=x)\n",
    "  model.summary()\n",
    "  o, h = model.predict(X)\n",
    "  print(\"o:\", o)\n",
    "  print(\"h:\", h)\n",
    "gru2()"
   ]
  },
  {
   "cell_type": "code",
   "execution_count": 121,
   "metadata": {},
   "outputs": [
    {
     "name": "stdout",
     "output_type": "stream",
     "text": [
      "o: [[[ 0.08144294 -0.0144922   0.02785569  0.01346204  0.15914294\n",
      "    0.12310418]\n",
      "  [ 0.11100964  0.021185   -0.02884955  0.10869668  0.17691101\n",
      "    0.04310717]\n",
      "  [ 0.12836488  0.03137673 -0.07398399  0.12803043  0.17053956\n",
      "   -0.00232227]\n",
      "  [ 0.14327629  0.0727216  -0.13148333  0.12695935  0.11495031\n",
      "   -0.08179277]\n",
      "  [ 0.01370428  0.09521818 -0.11657449  0.00400825  0.01867541\n",
      "   -0.21141785]\n",
      "  [-0.22860189  0.13200381 -0.12908387  0.00555963  0.03784036\n",
      "   -0.17415155]\n",
      "  [-0.30896026  0.07103384 -0.11853712 -0.05564697 -0.02674422\n",
      "   -0.06634852]\n",
      "  [-0.20136945 -0.08543979  0.01772762 -0.08496039 -0.08742456\n",
      "    0.07500429]]]\n",
      "o.shape: (1, 8, 6)\n",
      "h1: [[-0.20136945 -0.08543979  0.01772762]]\n",
      "h1: (1, 3)\n",
      "c1: [[-0.3464731  -0.19255051  0.03358482]]\n",
      "c1: (1, 3)\n",
      "h2: [[0.01346204 0.15914294 0.12310418]]\n",
      "c2: [[0.02811301 0.28506312 0.24347708]]\n"
     ]
    }
   ],
   "source": [
    "def bidirectional():\n",
    " input_ = Input(shape=(T, D))\n",
    " rnn = Bidirectional(LSTM(M, return_state=True, return_sequences=True))\n",
    " #rnn = Bidirectional(LSTM(M, return_state=True, return_sequences=True))\n",
    " x = rnn(input_)\n",
    "\n",
    " model = Model(inputs=input_, outputs=x)\n",
    " o, h1, c1, h2, c2 = model.predict(X)\n",
    " print(\"o:\", o)\n",
    " print(\"o.shape:\", o.shape)\n",
    " print(\"h1:\", h1)\n",
    " print(\"h1:\", h1.shape)\n",
    " print(\"c1:\", c1)\n",
    " print(\"c1:\", c1.shape)\n",
    " print(\"h2:\", h2)\n",
    " print(\"c2:\", c2)\n",
    "bidirectional()"
   ]
  },
  {
   "cell_type": "code",
   "execution_count": 122,
   "metadata": {},
   "outputs": [
    {
     "name": "stdout",
     "output_type": "stream",
     "text": [
      "o: [[-0.00954142 -0.00746712  0.1146282 ]]\n",
      "o.shape: (1, 3)\n",
      "o1: [[[-0.00954142 -0.00746712  0.01006698]\n",
      "  [-0.02308757 -0.02658959  0.03071595]\n",
      "  [-0.03544412 -0.06057581  0.06082741]\n",
      "  [-0.05449306 -0.0934532   0.0907956 ]\n",
      "  [-0.07830082 -0.10630091  0.10217678]\n",
      "  [-0.09839532 -0.12024578  0.1146282 ]\n",
      "  [-0.10506757 -0.12314402  0.10794672]\n",
      "  [-0.09300842 -0.09726901  0.07279814]]]\n",
      "o.shape: (1, 8, 3)\n",
      "o2: [[0.49007878 0.52763605]]\n",
      "o2.shape: (1, 2)\n"
     ]
    }
   ],
   "source": [
    "def stacked():\n",
    " input_ = Input(shape=(T, D))\n",
    " rnn = LSTM(M, return_sequences=True)\n",
    " x = rnn(input_)\n",
    " rnn1 = LSTM(M,return_sequences=True)\n",
    " y = rnn1(x)\n",
    " pool=GlobalMaxPool1D()\n",
    " z =pool(y)\n",
    "\n",
    " k = Dense(2, activation=\"sigmoid\")(z)\n",
    "\n",
    " model3 = Model(inputs=input_, outputs=k)        \n",
    " model2 = Model(inputs=input_, outputs=y)\n",
    " model = Model(inputs=input_, outputs=z)\n",
    " o = model.predict(X)\n",
    " print(\"o:\", o)\n",
    " print(\"o.shape:\", o.shape)\n",
    " o1 = model2.predict(X)\n",
    " print(\"o1:\", o1)\n",
    " print(\"o.shape:\", o1.shape)\n",
    " o2 = model3.predict(X)\n",
    " print(\"o2:\", o2)\n",
    " print(\"o2.shape:\", o2.shape)\n",
    "    \n",
    " \n",
    " #print(\"h1:\", h1)\n",
    " #print(\"h1:\", h1.shape)\n",
    " #print(\"c1:\", c1)\n",
    " #print(\"c1:\", c1.shape)\n",
    " #print(\"h2:\", h2)\n",
    " #print(\"c2:\", c2)\n",
    "stacked()"
   ]
  },
  {
   "cell_type": "code",
   "execution_count": 123,
   "metadata": {},
   "outputs": [
    {
     "name": "stdout",
     "output_type": "stream",
     "text": [
      "o_lstm: [[[-0.15176934 -0.17192757 -0.08958323]\n",
      "  [-0.28058323 -0.21000624 -0.15712407]\n",
      "  [-0.4789133  -0.3390882  -0.21852125]\n",
      "  [-0.5469998  -0.30317464 -0.26870087]\n",
      "  [-0.2458614  -0.21090764 -0.0604994 ]\n",
      "  [-0.04673616 -0.09291019  0.19289699]\n",
      "  [ 0.06567791 -0.00607281  0.24865761]\n",
      "  [-0.00932621 -0.06075051  0.1191488 ]]]\n",
      "o_lstm.shape: (1, 8, 3)\n",
      "o: [[[0.         0.         0.        ]\n",
      "  [0.         0.         0.        ]\n",
      "  [0.07827584 0.         0.        ]\n",
      "  [0.13706987 0.22284247 0.        ]]]\n",
      "o.shape: (1, 4, 3)\n",
      "o1: [[0.13706987 0.22284247 0.        ]]\n",
      "o1.shape: (1, 3)\n",
      "o2: [[0.4921129]]\n",
      "o2.shape: (1, 1)\n"
     ]
    }
   ],
   "source": [
    "M=25\n",
    "\n",
    "def conv1d():\n",
    " input_ = Input(shape=(T, D))\n",
    " rnn = LSTM(3, return_sequences=True)\n",
    " x = rnn(input_)\n",
    " conv = Conv1D(3, 2, strides=2, activation='relu')\n",
    " z= conv(x)\n",
    " \n",
    " pool=GlobalMaxPool1D()\n",
    " k =pool(z)\n",
    "    \n",
    " m = Dense(1, activation=\"sigmoid\")(k)\n",
    "\n",
    " model_lstm = Model(inputs=input_, outputs=x)\n",
    " o_lstm = model_lstm.predict(X)\n",
    " print(\"o_lstm:\", o_lstm)\n",
    " print(\"o_lstm.shape:\", o_lstm.shape)\n",
    "\n",
    " model = Model(inputs=input_, outputs=z)\n",
    " o = model.predict(X)\n",
    " print(\"o:\", o)\n",
    " print(\"o.shape:\", o.shape)\n",
    "\n",
    " model1 = Model(inputs=input_, outputs=k)\n",
    " o1 = model1.predict(X)\n",
    " print(\"o1:\", o1)\n",
    " print(\"o1.shape:\", o1.shape)\n",
    "\n",
    " model2 = Model(inputs=input_, outputs=m)\n",
    " o2 = model2.predict(X)\n",
    " print(\"o2:\", o2)\n",
    " print(\"o2.shape:\", o2.shape)\n",
    " \n",
    " \n",
    " #print(\"h1:\", h1)\n",
    " #print(\"h1:\", h1.shape)\n",
    " #print(\"c1:\", c1)\n",
    " #print(\"c1:\", c1.shape)\n",
    " #print(\"h2:\", h2)\n",
    " #print(\"c2:\", c2)\n",
    "conv1d()"
   ]
  },
  {
   "cell_type": "code",
   "execution_count": 124,
   "metadata": {},
   "outputs": [
    {
     "name": "stdout",
     "output_type": "stream",
     "text": [
      "o: [[[0.10587019 0.5994359  0.01610544 0.         0.         0.46499228\n",
      "   0.52529055 0.        ]\n",
      "  [0.12000483 0.         0.08951229 0.         0.04046664 0.30610287\n",
      "   0.13834925 0.08928944]\n",
      "  [0.         0.1547158  1.3044906  0.7653545  0.         0.22515121\n",
      "   0.47719976 0.83462465]\n",
      "  [0.03537676 0.30171108 0.840675   0.9079163  0.         0.\n",
      "   0.44028392 0.57366836]\n",
      "  [0.         0.22010969 0.         0.8329048  0.         0.\n",
      "   0.         0.6720611 ]]]\n",
      "o.shape: (1, 5, 8)\n"
     ]
    }
   ],
   "source": [
    "def conv2d():\n",
    " input_ = Input(shape=(T, D))\n",
    " conv = Conv1D(8, 4, activation='relu')\n",
    " z= conv(input_)\n",
    " model = Model(inputs=input_, outputs=z)\n",
    " o = model.predict(X)\n",
    " print(\"o:\", o)\n",
    " print(\"o.shape:\", o.shape)\n",
    "\n",
    "conv2d()"
   ]
  },
  {
   "cell_type": "code",
   "execution_count": 125,
   "metadata": {},
   "outputs": [
    {
     "name": "stdout",
     "output_type": "stream",
     "text": [
      "o: [[[0.5870526  0.14377053 0.805825   0.8526427  0.         0.        ]\n",
      "  [1.0503271  0.13416599 0.6050166  0.8548841  0.10155728 0.44733346]\n",
      "  [0.9637931  0.08674317 1.1254237  0.914521   0.23590168 0.        ]\n",
      "  [0.24759188 0.         0.         0.         0.42054337 0.        ]\n",
      "  [0.         0.         0.         0.         0.7089676  0.        ]\n",
      "  [0.         0.         0.         0.         0.8636816  0.5877091 ]\n",
      "  [0.15279739 0.         0.         0.         0.         0.66053605]]]\n",
      "o.shape: (1, 7, 6)\n",
      "o_gmp: [[[1.0503271  0.14377053 0.805825   0.8548841  0.10155728 0.44733346]\n",
      "  [0.9637931  0.08674317 1.1254237  0.914521   0.42054337 0.        ]\n",
      "  [0.         0.         0.         0.         0.8636816  0.5877091 ]]]\n",
      "o_gmp.shape: (1, 3, 6)\n",
      "o_conv1: [[[0.        1.3526652]\n",
      "  [0.        0.5773834]]]\n",
      "o_conv1.shape: (1, 2, 2)\n"
     ]
    }
   ],
   "source": [
    "def conv2d():\n",
    " input_ = Input(shape=(T, D))\n",
    " conv = Conv1D(6, 2, strides=1, activation='relu')\n",
    " z= conv(input_)\n",
    "\n",
    " pool=MaxPooling1D(2)\n",
    " k =pool(z)\n",
    "\n",
    " conv1 = Conv1D(2,2, strides=1, activation='relu')\n",
    " x= conv1(k)\n",
    "\n",
    "\n",
    " model = Model(inputs=input_, outputs=z)\n",
    " o = model.predict(X)\n",
    " print(\"o:\", o)\n",
    " print(\"o.shape:\", o.shape)\n",
    "\n",
    "\n",
    " model_gmp = Model(inputs=input_, outputs=k)\n",
    " o_gmp = model_gmp.predict(X)\n",
    " print(\"o_gmp:\", o_gmp)\n",
    " print(\"o_gmp.shape:\", o_gmp.shape)\n",
    "\n",
    " model_conv1 = Model(inputs=input_, outputs=x)\n",
    " o_conv1 = model_conv1.predict(X)\n",
    " print(\"o_conv1:\", o_conv1)\n",
    " print(\"o_conv1.shape:\", o_conv1.shape)\n",
    "conv2d()"
   ]
  },
  {
   "cell_type": "code",
   "execution_count": null,
   "metadata": {},
   "outputs": [],
   "source": []
  },
  {
   "cell_type": "code",
   "execution_count": null,
   "metadata": {},
   "outputs": [],
   "source": []
  },
  {
   "cell_type": "code",
   "execution_count": null,
   "metadata": {},
   "outputs": [],
   "source": []
  }
 ],
 "metadata": {
  "kernelspec": {
   "display_name": "Python 3",
   "language": "python",
   "name": "python3"
  },
  "language_info": {
   "codemirror_mode": {
    "name": "ipython",
    "version": 3
   },
   "file_extension": ".py",
   "mimetype": "text/x-python",
   "name": "python",
   "nbconvert_exporter": "python",
   "pygments_lexer": "ipython3",
   "version": "3.7.3"
  }
 },
 "nbformat": 4,
 "nbformat_minor": 2
}
