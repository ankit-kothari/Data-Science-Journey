{
  "nbformat": 4,
  "nbformat_minor": 0,
  "metadata": {
    "colab": {
      "name": "Copy of multi_label_Classification_amazon_reviews.ipynb",
      "provenance": [],
      "collapsed_sections": []
    },
    "kernelspec": {
      "name": "python3",
      "display_name": "Python 3"
    },
    "accelerator": "GPU"
  },
  "cells": [
    {
      "cell_type": "code",
      "metadata": {
        "id": "qZo0kj5uDKyU",
        "colab_type": "code",
        "outputId": "88f4ae2e-6531-498d-a6e4-7cd0069b0b15",
        "colab": {
          "base_uri": "https://localhost:8080/",
          "height": 80
        }
      },
      "source": [
        "import re\n",
        "import pandas as pd\n",
        "import numpy as np\n",
        "import spacy\n",
        "from spacy.matcher import Matcher\n",
        "from spacy.matcher import PhraseMatcher\n",
        "from spacy.tokens import Span\n",
        "from spacy.pipeline import SentenceSegmenter\n",
        "from spacy import displacy\n",
        "nlp = spacy.load('en_core_web_sm')\n",
        "from keras.layers import Dense, Embedding, Input\n",
        "from keras.models import Model\n",
        "from keras.layers import LSTM, Bidirectional, GlobalMaxPool1D, Dropout\n",
        "from keras.optimizers import Adam\n",
        "from sklearn.metrics import roc_auc_score\n",
        "import keras\n",
        "from keras.datasets import imdb\n",
        "from keras.preprocessing.sequence import pad_sequences\n",
        "from keras.models import Sequential\n",
        "from keras.layers import Dense, Flatten, Dropout\n",
        "from keras.layers import Embedding # new!\n",
        "from keras.callbacks import ModelCheckpoint # new! \n",
        "from keras.preprocessing.text import Tokenizer\n",
        "from keras.preprocessing.text import text_to_word_sequence\n",
        "#import tensorflow.keras.preprocessing.text.Tokenizer\n",
        "import os # new! \n",
        "import tensorflow as tf "
      ],
      "execution_count": 0,
      "outputs": [
        {
          "output_type": "stream",
          "text": [
            "Using TensorFlow backend.\n"
          ],
          "name": "stderr"
        },
        {
          "output_type": "display_data",
          "data": {
            "text/html": [
              "<p style=\"color: red;\">\n",
              "The default version of TensorFlow in Colab will soon switch to TensorFlow 2.x.<br>\n",
              "We recommend you <a href=\"https://www.tensorflow.org/guide/migrate\" target=\"_blank\">upgrade</a> now \n",
              "or ensure your notebook will continue to use TensorFlow 1.x via the <code>%tensorflow_version 1.x</code> magic:\n",
              "<a href=\"https://colab.research.google.com/notebooks/tensorflow_version.ipynb\" target=\"_blank\">more info</a>.</p>\n"
            ],
            "text/plain": [
              "<IPython.core.display.HTML object>"
            ]
          },
          "metadata": {
            "tags": []
          }
        }
      ]
    },
    {
      "cell_type": "markdown",
      "metadata": {
        "id": "HKlRGX6lENNs",
        "colab_type": "text"
      },
      "source": [
        "Making sure the GPU is working"
      ]
    },
    {
      "cell_type": "code",
      "metadata": {
        "id": "j6wWrfA7D7_0",
        "colab_type": "code",
        "outputId": "3dceefce-6791-412d-abe8-13b7220f9556",
        "colab": {
          "base_uri": "https://localhost:8080/",
          "height": 34
        }
      },
      "source": [
        "import tensorflow as tf \n",
        "tf.test.gpu_device_name()"
      ],
      "execution_count": 0,
      "outputs": [
        {
          "output_type": "execute_result",
          "data": {
            "text/plain": [
              "'/device:GPU:0'"
            ]
          },
          "metadata": {
            "tags": []
          },
          "execution_count": 2
        }
      ]
    },
    {
      "cell_type": "markdown",
      "metadata": {
        "id": "wrS8OzzpEQlL",
        "colab_type": "text"
      },
      "source": [
        "Mounting the Drive"
      ]
    },
    {
      "cell_type": "code",
      "metadata": {
        "id": "xPqIJOUVD81O",
        "colab_type": "code",
        "outputId": "4d0359a9-d209-4224-e5fd-aaae7183f017",
        "colab": {
          "base_uri": "https://localhost:8080/",
          "height": 139
        }
      },
      "source": [
        "from google.colab import drive\n",
        "drive.mount('/gdrive')\n",
        "%cd /gdrive"
      ],
      "execution_count": 0,
      "outputs": [
        {
          "output_type": "stream",
          "text": [
            "Go to this URL in a browser: https://accounts.google.com/o/oauth2/auth?client_id=947318989803-6bn6qk8qdgf4n4g3pfee6491hc0brc4i.apps.googleusercontent.com&redirect_uri=urn%3aietf%3awg%3aoauth%3a2.0%3aoob&response_type=code&scope=email%20https%3a%2f%2fwww.googleapis.com%2fauth%2fdocs.test%20https%3a%2f%2fwww.googleapis.com%2fauth%2fdrive%20https%3a%2f%2fwww.googleapis.com%2fauth%2fdrive.photos.readonly%20https%3a%2f%2fwww.googleapis.com%2fauth%2fpeopleapi.readonly\n",
            "\n",
            "Enter your authorization code:\n",
            "··········\n",
            "Mounted at /gdrive\n",
            "/gdrive\n"
          ],
          "name": "stdout"
        }
      ]
    },
    {
      "cell_type": "markdown",
      "metadata": {
        "id": "eWctCfvJDmVs",
        "colab_type": "text"
      },
      "source": [
        "Fetching the data"
      ]
    },
    {
      "cell_type": "code",
      "metadata": {
        "id": "MlZIY_bXDn62",
        "colab_type": "code",
        "outputId": "bf094d9d-8522-466d-d5b0-0dea9cf6ab2a",
        "colab": {
          "base_uri": "https://localhost:8080/",
          "height": 204
        }
      },
      "source": [
        "clean_data = pd.read_csv('/gdrive/My Drive/amazon_review_full_csv/cleaned_topic_amazon_reviews.csv')\n",
        "clean_data.head()"
      ],
      "execution_count": 0,
      "outputs": [
        {
          "output_type": "execute_result",
          "data": {
            "text/html": [
              "<div>\n",
              "<style scoped>\n",
              "    .dataframe tbody tr th:only-of-type {\n",
              "        vertical-align: middle;\n",
              "    }\n",
              "\n",
              "    .dataframe tbody tr th {\n",
              "        vertical-align: top;\n",
              "    }\n",
              "\n",
              "    .dataframe thead th {\n",
              "        text-align: right;\n",
              "    }\n",
              "</style>\n",
              "<table border=\"1\" class=\"dataframe\">\n",
              "  <thead>\n",
              "    <tr style=\"text-align: right;\">\n",
              "      <th></th>\n",
              "      <th>Unnamed: 0</th>\n",
              "      <th>rating</th>\n",
              "      <th>title</th>\n",
              "      <th>review</th>\n",
              "      <th>review_category</th>\n",
              "      <th>company</th>\n",
              "      <th>clean_review</th>\n",
              "      <th>topic_category</th>\n",
              "      <th>topic_name</th>\n",
              "    </tr>\n",
              "  </thead>\n",
              "  <tbody>\n",
              "    <tr>\n",
              "      <th>0</th>\n",
              "      <td>0</td>\n",
              "      <td>1</td>\n",
              "      <td>Buyer beware</td>\n",
              "      <td>This is a selfpublished book and if you want t...</td>\n",
              "      <td>Bad</td>\n",
              "      <td>Amazon</td>\n",
              "      <td>this selfpublished book want know whyread para...</td>\n",
              "      <td>1</td>\n",
              "      <td>books</td>\n",
              "    </tr>\n",
              "    <tr>\n",
              "      <th>1</th>\n",
              "      <td>1</td>\n",
              "      <td>1</td>\n",
              "      <td>Another Abysmal Digital Copy</td>\n",
              "      <td>Rather than scratches and insect droppings thi...</td>\n",
              "      <td>Bad</td>\n",
              "      <td>Amazon</td>\n",
              "      <td>rather scratch insect dropping random pixelati...</td>\n",
              "      <td>5</td>\n",
              "      <td>video-quality</td>\n",
              "    </tr>\n",
              "    <tr>\n",
              "      <th>2</th>\n",
              "      <td>2</td>\n",
              "      <td>5</td>\n",
              "      <td>CHECK OUT THE K6000 CHARGER!</td>\n",
              "      <td>Greetings Kodak also has a K6000 charger which...</td>\n",
              "      <td>Good</td>\n",
              "      <td>Amazon</td>\n",
              "      <td>greetings kodak k6000 charger come nimh mah ba...</td>\n",
              "      <td>11</td>\n",
              "      <td>electronics</td>\n",
              "    </tr>\n",
              "    <tr>\n",
              "      <th>3</th>\n",
              "      <td>3</td>\n",
              "      <td>2</td>\n",
              "      <td>Maybe I got a bad one.</td>\n",
              "      <td>My experience: I got this from FM not Amazon T...</td>\n",
              "      <td>Bad</td>\n",
              "      <td>Amazon</td>\n",
              "      <td>my experience get fm amazon the dvd player rat...</td>\n",
              "      <td>5</td>\n",
              "      <td>video-quality</td>\n",
              "    </tr>\n",
              "    <tr>\n",
              "      <th>4</th>\n",
              "      <td>4</td>\n",
              "      <td>2</td>\n",
              "      <td>Didn't live up to expectations.</td>\n",
              "      <td>I ordered these shoes to replace the previous ...</td>\n",
              "      <td>Bad</td>\n",
              "      <td>Amazon</td>\n",
              "      <td>order shoe replace previous pair rip apart sol...</td>\n",
              "      <td>4</td>\n",
              "      <td>order</td>\n",
              "    </tr>\n",
              "  </tbody>\n",
              "</table>\n",
              "</div>"
            ],
            "text/plain": [
              "   Unnamed: 0  rating  ... topic_category     topic_name\n",
              "0           0       1  ...              1          books\n",
              "1           1       1  ...              5  video-quality\n",
              "2           2       5  ...             11    electronics\n",
              "3           3       2  ...              5  video-quality\n",
              "4           4       2  ...              4          order\n",
              "\n",
              "[5 rows x 9 columns]"
            ]
          },
          "metadata": {
            "tags": []
          },
          "execution_count": 4
        }
      ]
    },
    {
      "cell_type": "code",
      "metadata": {
        "id": "z99WAMZgH4sH",
        "colab_type": "code",
        "colab": {}
      },
      "source": [
        "clean_data_grouped = clean_data.groupby(['topic_name','review_category']).agg(\n",
        "  {\n",
        "\n",
        "    'review_category':'count'\n",
        "\n",
        "  })\n",
        "\n"
      ],
      "execution_count": 0,
      "outputs": []
    },
    {
      "cell_type": "code",
      "metadata": {
        "id": "MZvSp-RXIGxo",
        "colab_type": "code",
        "outputId": "1767db85-6747-4757-dd1b-1ac55ab1c542",
        "colab": {
          "base_uri": "https://localhost:8080/",
          "height": 514
        }
      },
      "source": [
        "clean_data_grouped= clean_data_grouped.unstack().reset_index()\n",
        "clean_data_grouped"
      ],
      "execution_count": 0,
      "outputs": [
        {
          "output_type": "execute_result",
          "data": {
            "text/html": [
              "<div>\n",
              "<style scoped>\n",
              "    .dataframe tbody tr th:only-of-type {\n",
              "        vertical-align: middle;\n",
              "    }\n",
              "\n",
              "    .dataframe tbody tr th {\n",
              "        vertical-align: top;\n",
              "    }\n",
              "\n",
              "    .dataframe thead tr th {\n",
              "        text-align: left;\n",
              "    }\n",
              "</style>\n",
              "<table border=\"1\" class=\"dataframe\">\n",
              "  <thead>\n",
              "    <tr>\n",
              "      <th></th>\n",
              "      <th>topic_name</th>\n",
              "      <th colspan=\"3\" halign=\"left\">review_category</th>\n",
              "    </tr>\n",
              "    <tr>\n",
              "      <th>review_category</th>\n",
              "      <th></th>\n",
              "      <th>Average</th>\n",
              "      <th>Bad</th>\n",
              "      <th>Good</th>\n",
              "    </tr>\n",
              "  </thead>\n",
              "  <tbody>\n",
              "    <tr>\n",
              "      <th>0</th>\n",
              "      <td>books</td>\n",
              "      <td>2058</td>\n",
              "      <td>6663</td>\n",
              "      <td>4118</td>\n",
              "    </tr>\n",
              "    <tr>\n",
              "      <th>1</th>\n",
              "      <td>christmas shopping</td>\n",
              "      <td>763</td>\n",
              "      <td>3347</td>\n",
              "      <td>2173</td>\n",
              "    </tr>\n",
              "    <tr>\n",
              "      <th>2</th>\n",
              "      <td>electronics</td>\n",
              "      <td>382</td>\n",
              "      <td>1867</td>\n",
              "      <td>698</td>\n",
              "    </tr>\n",
              "    <tr>\n",
              "      <th>3</th>\n",
              "      <td>games</td>\n",
              "      <td>329</td>\n",
              "      <td>1010</td>\n",
              "      <td>797</td>\n",
              "    </tr>\n",
              "    <tr>\n",
              "      <th>4</th>\n",
              "      <td>movies</td>\n",
              "      <td>858</td>\n",
              "      <td>2218</td>\n",
              "      <td>1750</td>\n",
              "    </tr>\n",
              "    <tr>\n",
              "      <th>5</th>\n",
              "      <td>music</td>\n",
              "      <td>1320</td>\n",
              "      <td>3404</td>\n",
              "      <td>3375</td>\n",
              "    </tr>\n",
              "    <tr>\n",
              "      <th>6</th>\n",
              "      <td>order</td>\n",
              "      <td>881</td>\n",
              "      <td>4393</td>\n",
              "      <td>1412</td>\n",
              "    </tr>\n",
              "    <tr>\n",
              "      <th>7</th>\n",
              "      <td>packing</td>\n",
              "      <td>3596</td>\n",
              "      <td>11887</td>\n",
              "      <td>7048</td>\n",
              "    </tr>\n",
              "    <tr>\n",
              "      <th>8</th>\n",
              "      <td>product-information</td>\n",
              "      <td>1273</td>\n",
              "      <td>6078</td>\n",
              "      <td>2148</td>\n",
              "    </tr>\n",
              "    <tr>\n",
              "      <th>9</th>\n",
              "      <td>refund-and-return</td>\n",
              "      <td>1408</td>\n",
              "      <td>7471</td>\n",
              "      <td>1424</td>\n",
              "    </tr>\n",
              "    <tr>\n",
              "      <th>10</th>\n",
              "      <td>reviews</td>\n",
              "      <td>817</td>\n",
              "      <td>3459</td>\n",
              "      <td>1348</td>\n",
              "    </tr>\n",
              "    <tr>\n",
              "      <th>11</th>\n",
              "      <td>shipping</td>\n",
              "      <td>1480</td>\n",
              "      <td>2270</td>\n",
              "      <td>6621</td>\n",
              "    </tr>\n",
              "    <tr>\n",
              "      <th>12</th>\n",
              "      <td>tv-series</td>\n",
              "      <td>612</td>\n",
              "      <td>1746</td>\n",
              "      <td>1699</td>\n",
              "    </tr>\n",
              "    <tr>\n",
              "      <th>13</th>\n",
              "      <td>video-quality</td>\n",
              "      <td>913</td>\n",
              "      <td>3464</td>\n",
              "      <td>1360</td>\n",
              "    </tr>\n",
              "  </tbody>\n",
              "</table>\n",
              "</div>"
            ],
            "text/plain": [
              "                          topic_name review_category             \n",
              "review_category                              Average    Bad  Good\n",
              "0                              books            2058   6663  4118\n",
              "1                 christmas shopping             763   3347  2173\n",
              "2                        electronics             382   1867   698\n",
              "3                              games             329   1010   797\n",
              "4                             movies             858   2218  1750\n",
              "5                              music            1320   3404  3375\n",
              "6                              order             881   4393  1412\n",
              "7                            packing            3596  11887  7048\n",
              "8                product-information            1273   6078  2148\n",
              "9                  refund-and-return            1408   7471  1424\n",
              "10                           reviews             817   3459  1348\n",
              "11                          shipping            1480   2270  6621\n",
              "12                         tv-series             612   1746  1699\n",
              "13                     video-quality             913   3464  1360"
            ]
          },
          "metadata": {
            "tags": []
          },
          "execution_count": 6
        }
      ]
    },
    {
      "cell_type": "code",
      "metadata": {
        "id": "3App42LUIPjk",
        "colab_type": "code",
        "outputId": "c4e9acfb-0d2b-45fb-aa53-0699e1c54fbe",
        "colab": {
          "base_uri": "https://localhost:8080/",
          "height": 514
        }
      },
      "source": [
        "clean_data_grouped['percentage_bad']= clean_data_grouped['review_category']['Bad']/(clean_data_grouped['review_category']['Average']+clean_data_grouped['review_category']['Good']+clean_data_grouped['review_category']['Bad'])\n",
        "clean_data_grouped=clean_data_grouped.sort_values(by=['percentage_bad'], ascending=False)\n",
        "clean_data_grouped"
      ],
      "execution_count": 0,
      "outputs": [
        {
          "output_type": "execute_result",
          "data": {
            "text/html": [
              "<div>\n",
              "<style scoped>\n",
              "    .dataframe tbody tr th:only-of-type {\n",
              "        vertical-align: middle;\n",
              "    }\n",
              "\n",
              "    .dataframe tbody tr th {\n",
              "        vertical-align: top;\n",
              "    }\n",
              "\n",
              "    .dataframe thead tr th {\n",
              "        text-align: left;\n",
              "    }\n",
              "</style>\n",
              "<table border=\"1\" class=\"dataframe\">\n",
              "  <thead>\n",
              "    <tr>\n",
              "      <th></th>\n",
              "      <th>topic_name</th>\n",
              "      <th colspan=\"3\" halign=\"left\">review_category</th>\n",
              "      <th>percentage_bad</th>\n",
              "    </tr>\n",
              "    <tr>\n",
              "      <th>review_category</th>\n",
              "      <th></th>\n",
              "      <th>Average</th>\n",
              "      <th>Bad</th>\n",
              "      <th>Good</th>\n",
              "      <th></th>\n",
              "    </tr>\n",
              "  </thead>\n",
              "  <tbody>\n",
              "    <tr>\n",
              "      <th>9</th>\n",
              "      <td>refund-and-return</td>\n",
              "      <td>1408</td>\n",
              "      <td>7471</td>\n",
              "      <td>1424</td>\n",
              "      <td>0.725129</td>\n",
              "    </tr>\n",
              "    <tr>\n",
              "      <th>6</th>\n",
              "      <td>order</td>\n",
              "      <td>881</td>\n",
              "      <td>4393</td>\n",
              "      <td>1412</td>\n",
              "      <td>0.657045</td>\n",
              "    </tr>\n",
              "    <tr>\n",
              "      <th>8</th>\n",
              "      <td>product-information</td>\n",
              "      <td>1273</td>\n",
              "      <td>6078</td>\n",
              "      <td>2148</td>\n",
              "      <td>0.639857</td>\n",
              "    </tr>\n",
              "    <tr>\n",
              "      <th>2</th>\n",
              "      <td>electronics</td>\n",
              "      <td>382</td>\n",
              "      <td>1867</td>\n",
              "      <td>698</td>\n",
              "      <td>0.633526</td>\n",
              "    </tr>\n",
              "    <tr>\n",
              "      <th>10</th>\n",
              "      <td>reviews</td>\n",
              "      <td>817</td>\n",
              "      <td>3459</td>\n",
              "      <td>1348</td>\n",
              "      <td>0.615043</td>\n",
              "    </tr>\n",
              "    <tr>\n",
              "      <th>13</th>\n",
              "      <td>video-quality</td>\n",
              "      <td>913</td>\n",
              "      <td>3464</td>\n",
              "      <td>1360</td>\n",
              "      <td>0.603800</td>\n",
              "    </tr>\n",
              "    <tr>\n",
              "      <th>1</th>\n",
              "      <td>christmas shopping</td>\n",
              "      <td>763</td>\n",
              "      <td>3347</td>\n",
              "      <td>2173</td>\n",
              "      <td>0.532707</td>\n",
              "    </tr>\n",
              "    <tr>\n",
              "      <th>7</th>\n",
              "      <td>packing</td>\n",
              "      <td>3596</td>\n",
              "      <td>11887</td>\n",
              "      <td>7048</td>\n",
              "      <td>0.527584</td>\n",
              "    </tr>\n",
              "    <tr>\n",
              "      <th>0</th>\n",
              "      <td>books</td>\n",
              "      <td>2058</td>\n",
              "      <td>6663</td>\n",
              "      <td>4118</td>\n",
              "      <td>0.518966</td>\n",
              "    </tr>\n",
              "    <tr>\n",
              "      <th>3</th>\n",
              "      <td>games</td>\n",
              "      <td>329</td>\n",
              "      <td>1010</td>\n",
              "      <td>797</td>\n",
              "      <td>0.472846</td>\n",
              "    </tr>\n",
              "    <tr>\n",
              "      <th>4</th>\n",
              "      <td>movies</td>\n",
              "      <td>858</td>\n",
              "      <td>2218</td>\n",
              "      <td>1750</td>\n",
              "      <td>0.459594</td>\n",
              "    </tr>\n",
              "    <tr>\n",
              "      <th>12</th>\n",
              "      <td>tv-series</td>\n",
              "      <td>612</td>\n",
              "      <td>1746</td>\n",
              "      <td>1699</td>\n",
              "      <td>0.430367</td>\n",
              "    </tr>\n",
              "    <tr>\n",
              "      <th>5</th>\n",
              "      <td>music</td>\n",
              "      <td>1320</td>\n",
              "      <td>3404</td>\n",
              "      <td>3375</td>\n",
              "      <td>0.420299</td>\n",
              "    </tr>\n",
              "    <tr>\n",
              "      <th>11</th>\n",
              "      <td>shipping</td>\n",
              "      <td>1480</td>\n",
              "      <td>2270</td>\n",
              "      <td>6621</td>\n",
              "      <td>0.218880</td>\n",
              "    </tr>\n",
              "  </tbody>\n",
              "</table>\n",
              "</div>"
            ],
            "text/plain": [
              "                          topic_name review_category  ...       percentage_bad\n",
              "review_category                              Average  ...  Good               \n",
              "9                  refund-and-return            1408  ...  1424       0.725129\n",
              "6                              order             881  ...  1412       0.657045\n",
              "8                product-information            1273  ...  2148       0.639857\n",
              "2                        electronics             382  ...   698       0.633526\n",
              "10                           reviews             817  ...  1348       0.615043\n",
              "13                     video-quality             913  ...  1360       0.603800\n",
              "1                 christmas shopping             763  ...  2173       0.532707\n",
              "7                            packing            3596  ...  7048       0.527584\n",
              "0                              books            2058  ...  4118       0.518966\n",
              "3                              games             329  ...   797       0.472846\n",
              "4                             movies             858  ...  1750       0.459594\n",
              "12                         tv-series             612  ...  1699       0.430367\n",
              "5                              music            1320  ...  3375       0.420299\n",
              "11                          shipping            1480  ...  6621       0.218880\n",
              "\n",
              "[14 rows x 5 columns]"
            ]
          },
          "metadata": {
            "tags": []
          },
          "execution_count": 7
        }
      ]
    },
    {
      "cell_type": "code",
      "metadata": {
        "id": "ikWGWHZ-JXA_",
        "colab_type": "code",
        "outputId": "e6f39ecb-9236-4905-b61a-a999e7752c16",
        "colab": {
          "base_uri": "https://localhost:8080/",
          "height": 306
        }
      },
      "source": [
        "filtered_data = clean_data[clean_data['topic_name'].isin(['movies','music','books'])]\n",
        "filtered_data.head()"
      ],
      "execution_count": 0,
      "outputs": [
        {
          "output_type": "execute_result",
          "data": {
            "text/html": [
              "<div>\n",
              "<style scoped>\n",
              "    .dataframe tbody tr th:only-of-type {\n",
              "        vertical-align: middle;\n",
              "    }\n",
              "\n",
              "    .dataframe tbody tr th {\n",
              "        vertical-align: top;\n",
              "    }\n",
              "\n",
              "    .dataframe thead th {\n",
              "        text-align: right;\n",
              "    }\n",
              "</style>\n",
              "<table border=\"1\" class=\"dataframe\">\n",
              "  <thead>\n",
              "    <tr style=\"text-align: right;\">\n",
              "      <th></th>\n",
              "      <th>Unnamed: 0</th>\n",
              "      <th>rating</th>\n",
              "      <th>title</th>\n",
              "      <th>review</th>\n",
              "      <th>review_category</th>\n",
              "      <th>company</th>\n",
              "      <th>clean_review</th>\n",
              "      <th>topic_category</th>\n",
              "      <th>topic_name</th>\n",
              "    </tr>\n",
              "  </thead>\n",
              "  <tbody>\n",
              "    <tr>\n",
              "      <th>0</th>\n",
              "      <td>0</td>\n",
              "      <td>1</td>\n",
              "      <td>Buyer beware</td>\n",
              "      <td>This is a selfpublished book and if you want t...</td>\n",
              "      <td>Bad</td>\n",
              "      <td>Amazon</td>\n",
              "      <td>this selfpublished book want know whyread para...</td>\n",
              "      <td>1</td>\n",
              "      <td>books</td>\n",
              "    </tr>\n",
              "    <tr>\n",
              "      <th>8</th>\n",
              "      <td>8</td>\n",
              "      <td>1</td>\n",
              "      <td>ADDONICS PORTABLE CD DRIVE - I am disappointed...</td>\n",
              "      <td>I am disappointed in its performance It seems ...</td>\n",
              "      <td>Bad</td>\n",
              "      <td>Amazon</td>\n",
              "      <td>disappoint performance underpowered constantly...</td>\n",
              "      <td>3</td>\n",
              "      <td>music</td>\n",
              "    </tr>\n",
              "    <tr>\n",
              "      <th>17</th>\n",
              "      <td>17</td>\n",
              "      <td>5</td>\n",
              "      <td>Cruel &amp; Unusual</td>\n",
              "      <td>Received the book promptly and in great condit...</td>\n",
              "      <td>Good</td>\n",
              "      <td>Amazon</td>\n",
              "      <td>receive book promptly great condition thank am...</td>\n",
              "      <td>1</td>\n",
              "      <td>books</td>\n",
              "    </tr>\n",
              "    <tr>\n",
              "      <th>18</th>\n",
              "      <td>18</td>\n",
              "      <td>5</td>\n",
              "      <td>Great book.</td>\n",
              "      <td>Not as spell binding as others in this series ...</td>\n",
              "      <td>Good</td>\n",
              "      <td>Amazon</td>\n",
              "      <td>not spell bind series good take get couple cha...</td>\n",
              "      <td>1</td>\n",
              "      <td>books</td>\n",
              "    </tr>\n",
              "    <tr>\n",
              "      <th>19</th>\n",
              "      <td>19</td>\n",
              "      <td>4</td>\n",
              "      <td>Author's comments</td>\n",
              "      <td>As the author of this book I would just like t...</td>\n",
              "      <td>Good</td>\n",
              "      <td>Amazon</td>\n",
              "      <td>as author book like successfully publish uk re...</td>\n",
              "      <td>1</td>\n",
              "      <td>books</td>\n",
              "    </tr>\n",
              "  </tbody>\n",
              "</table>\n",
              "</div>"
            ],
            "text/plain": [
              "    Unnamed: 0  rating  ... topic_category topic_name\n",
              "0            0       1  ...              1      books\n",
              "8            8       1  ...              3      music\n",
              "17          17       5  ...              1      books\n",
              "18          18       5  ...              1      books\n",
              "19          19       4  ...              1      books\n",
              "\n",
              "[5 rows x 9 columns]"
            ]
          },
          "metadata": {
            "tags": []
          },
          "execution_count": 8
        }
      ]
    },
    {
      "cell_type": "markdown",
      "metadata": {
        "id": "D-WM6UVbuzzf",
        "colab_type": "text"
      },
      "source": [
        "# prepare text samples and their labels\n",
        "\n"
      ]
    },
    {
      "cell_type": "code",
      "metadata": {
        "id": "qasxOK4Fxurz",
        "colab_type": "code",
        "colab": {}
      },
      "source": [
        "def create_dummies(df,column_name):\n",
        "    dummies = pd.get_dummies(df[column_name],prefix=column_name)\n",
        "    df = pd.concat([df,dummies],axis=1)\n",
        "    return df"
      ],
      "execution_count": 0,
      "outputs": []
    },
    {
      "cell_type": "code",
      "metadata": {
        "id": "GSZVjbbYxwxj",
        "colab_type": "code",
        "colab": {}
      },
      "source": [
        "for column in ['review_category','topic_name']:\n",
        " filtered_data= create_dummies(filtered_data, column)"
      ],
      "execution_count": 0,
      "outputs": []
    },
    {
      "cell_type": "code",
      "metadata": {
        "id": "fvGlzVPGycpq",
        "colab_type": "code",
        "outputId": "cfecd12c-f3cb-4168-d7a6-3a22cec04b84",
        "colab": {
          "base_uri": "https://localhost:8080/",
          "height": 1000
        }
      },
      "source": [
        "filtered_data"
      ],
      "execution_count": 0,
      "outputs": [
        {
          "output_type": "execute_result",
          "data": {
            "text/html": [
              "<div>\n",
              "<style scoped>\n",
              "    .dataframe tbody tr th:only-of-type {\n",
              "        vertical-align: middle;\n",
              "    }\n",
              "\n",
              "    .dataframe tbody tr th {\n",
              "        vertical-align: top;\n",
              "    }\n",
              "\n",
              "    .dataframe thead th {\n",
              "        text-align: right;\n",
              "    }\n",
              "</style>\n",
              "<table border=\"1\" class=\"dataframe\">\n",
              "  <thead>\n",
              "    <tr style=\"text-align: right;\">\n",
              "      <th></th>\n",
              "      <th>Unnamed: 0</th>\n",
              "      <th>rating</th>\n",
              "      <th>title</th>\n",
              "      <th>review</th>\n",
              "      <th>review_category</th>\n",
              "      <th>company</th>\n",
              "      <th>clean_review</th>\n",
              "      <th>topic_category</th>\n",
              "      <th>topic_name</th>\n",
              "      <th>review_category_Average</th>\n",
              "      <th>review_category_Bad</th>\n",
              "      <th>review_category_Good</th>\n",
              "      <th>topic_name_books</th>\n",
              "      <th>topic_name_movies</th>\n",
              "      <th>topic_name_music</th>\n",
              "    </tr>\n",
              "  </thead>\n",
              "  <tbody>\n",
              "    <tr>\n",
              "      <th>0</th>\n",
              "      <td>0</td>\n",
              "      <td>1</td>\n",
              "      <td>Buyer beware</td>\n",
              "      <td>This is a selfpublished book and if you want t...</td>\n",
              "      <td>Bad</td>\n",
              "      <td>Amazon</td>\n",
              "      <td>this selfpublished book want know whyread para...</td>\n",
              "      <td>1</td>\n",
              "      <td>books</td>\n",
              "      <td>0</td>\n",
              "      <td>1</td>\n",
              "      <td>0</td>\n",
              "      <td>1</td>\n",
              "      <td>0</td>\n",
              "      <td>0</td>\n",
              "    </tr>\n",
              "    <tr>\n",
              "      <th>8</th>\n",
              "      <td>8</td>\n",
              "      <td>1</td>\n",
              "      <td>ADDONICS PORTABLE CD DRIVE - I am disappointed...</td>\n",
              "      <td>I am disappointed in its performance It seems ...</td>\n",
              "      <td>Bad</td>\n",
              "      <td>Amazon</td>\n",
              "      <td>disappoint performance underpowered constantly...</td>\n",
              "      <td>3</td>\n",
              "      <td>music</td>\n",
              "      <td>0</td>\n",
              "      <td>1</td>\n",
              "      <td>0</td>\n",
              "      <td>0</td>\n",
              "      <td>0</td>\n",
              "      <td>1</td>\n",
              "    </tr>\n",
              "    <tr>\n",
              "      <th>17</th>\n",
              "      <td>17</td>\n",
              "      <td>5</td>\n",
              "      <td>Cruel &amp; Unusual</td>\n",
              "      <td>Received the book promptly and in great condit...</td>\n",
              "      <td>Good</td>\n",
              "      <td>Amazon</td>\n",
              "      <td>receive book promptly great condition thank am...</td>\n",
              "      <td>1</td>\n",
              "      <td>books</td>\n",
              "      <td>0</td>\n",
              "      <td>0</td>\n",
              "      <td>1</td>\n",
              "      <td>1</td>\n",
              "      <td>0</td>\n",
              "      <td>0</td>\n",
              "    </tr>\n",
              "    <tr>\n",
              "      <th>18</th>\n",
              "      <td>18</td>\n",
              "      <td>5</td>\n",
              "      <td>Great book.</td>\n",
              "      <td>Not as spell binding as others in this series ...</td>\n",
              "      <td>Good</td>\n",
              "      <td>Amazon</td>\n",
              "      <td>not spell bind series good take get couple cha...</td>\n",
              "      <td>1</td>\n",
              "      <td>books</td>\n",
              "      <td>0</td>\n",
              "      <td>0</td>\n",
              "      <td>1</td>\n",
              "      <td>1</td>\n",
              "      <td>0</td>\n",
              "      <td>0</td>\n",
              "    </tr>\n",
              "    <tr>\n",
              "      <th>19</th>\n",
              "      <td>19</td>\n",
              "      <td>4</td>\n",
              "      <td>Author's comments</td>\n",
              "      <td>As the author of this book I would just like t...</td>\n",
              "      <td>Good</td>\n",
              "      <td>Amazon</td>\n",
              "      <td>as author book like successfully publish uk re...</td>\n",
              "      <td>1</td>\n",
              "      <td>books</td>\n",
              "      <td>0</td>\n",
              "      <td>0</td>\n",
              "      <td>1</td>\n",
              "      <td>1</td>\n",
              "      <td>0</td>\n",
              "      <td>0</td>\n",
              "    </tr>\n",
              "    <tr>\n",
              "      <th>...</th>\n",
              "      <td>...</td>\n",
              "      <td>...</td>\n",
              "      <td>...</td>\n",
              "      <td>...</td>\n",
              "      <td>...</td>\n",
              "      <td>...</td>\n",
              "      <td>...</td>\n",
              "      <td>...</td>\n",
              "      <td>...</td>\n",
              "      <td>...</td>\n",
              "      <td>...</td>\n",
              "      <td>...</td>\n",
              "      <td>...</td>\n",
              "      <td>...</td>\n",
              "      <td>...</td>\n",
              "    </tr>\n",
              "    <tr>\n",
              "      <th>111928</th>\n",
              "      <td>111928</td>\n",
              "      <td>4</td>\n",
              "      <td>I love vampires.</td>\n",
              "      <td>I will admit I am biased I like almost any vam...</td>\n",
              "      <td>Good</td>\n",
              "      <td>Amazon</td>\n",
              "      <td>admit biased like vampire movie tv love buffy ...</td>\n",
              "      <td>2</td>\n",
              "      <td>movies</td>\n",
              "      <td>0</td>\n",
              "      <td>0</td>\n",
              "      <td>1</td>\n",
              "      <td>0</td>\n",
              "      <td>1</td>\n",
              "      <td>0</td>\n",
              "    </tr>\n",
              "    <tr>\n",
              "      <th>111929</th>\n",
              "      <td>111929</td>\n",
              "      <td>4</td>\n",
              "      <td>reading</td>\n",
              "      <td>these book has a lot of different learning act...</td>\n",
              "      <td>Good</td>\n",
              "      <td>Amazon</td>\n",
              "      <td>book lot different learn activie word like pig...</td>\n",
              "      <td>1</td>\n",
              "      <td>books</td>\n",
              "      <td>0</td>\n",
              "      <td>0</td>\n",
              "      <td>1</td>\n",
              "      <td>1</td>\n",
              "      <td>0</td>\n",
              "      <td>0</td>\n",
              "    </tr>\n",
              "    <tr>\n",
              "      <th>111930</th>\n",
              "      <td>111930</td>\n",
              "      <td>2</td>\n",
              "      <td>Uninspired</td>\n",
              "      <td>Firstly the tracklist for this single does not...</td>\n",
              "      <td>Bad</td>\n",
              "      <td>Amazon</td>\n",
              "      <td>firstly tracklist single match cover art pictu...</td>\n",
              "      <td>3</td>\n",
              "      <td>music</td>\n",
              "      <td>0</td>\n",
              "      <td>1</td>\n",
              "      <td>0</td>\n",
              "      <td>0</td>\n",
              "      <td>0</td>\n",
              "      <td>1</td>\n",
              "    </tr>\n",
              "    <tr>\n",
              "      <th>111931</th>\n",
              "      <td>111931</td>\n",
              "      <td>5</td>\n",
              "      <td>Great!</td>\n",
              "      <td>I read this book when I was a teenager and fee...</td>\n",
              "      <td>Good</td>\n",
              "      <td>Amazon</td>\n",
              "      <td>read book teenager feel n love low character w...</td>\n",
              "      <td>1</td>\n",
              "      <td>books</td>\n",
              "      <td>0</td>\n",
              "      <td>0</td>\n",
              "      <td>1</td>\n",
              "      <td>1</td>\n",
              "      <td>0</td>\n",
              "      <td>0</td>\n",
              "    </tr>\n",
              "    <tr>\n",
              "      <th>111935</th>\n",
              "      <td>111935</td>\n",
              "      <td>3</td>\n",
              "      <td>0</td>\n",
              "      <td>There is a better Music single out available S...</td>\n",
              "      <td>Average</td>\n",
              "      <td>Amazon</td>\n",
              "      <td>there well music single available since amazon...</td>\n",
              "      <td>3</td>\n",
              "      <td>music</td>\n",
              "      <td>1</td>\n",
              "      <td>0</td>\n",
              "      <td>0</td>\n",
              "      <td>0</td>\n",
              "      <td>0</td>\n",
              "      <td>1</td>\n",
              "    </tr>\n",
              "  </tbody>\n",
              "</table>\n",
              "<p>25764 rows × 15 columns</p>\n",
              "</div>"
            ],
            "text/plain": [
              "        Unnamed: 0  rating  ... topic_name_movies topic_name_music\n",
              "0                0       1  ...                 0                0\n",
              "8                8       1  ...                 0                1\n",
              "17              17       5  ...                 0                0\n",
              "18              18       5  ...                 0                0\n",
              "19              19       4  ...                 0                0\n",
              "...            ...     ...  ...               ...              ...\n",
              "111928      111928       4  ...                 1                0\n",
              "111929      111929       4  ...                 0                0\n",
              "111930      111930       2  ...                 0                1\n",
              "111931      111931       5  ...                 0                0\n",
              "111935      111935       3  ...                 0                1\n",
              "\n",
              "[25764 rows x 15 columns]"
            ]
          },
          "metadata": {
            "tags": []
          },
          "execution_count": 11
        }
      ]
    },
    {
      "cell_type": "code",
      "metadata": {
        "id": "0_LwduZNzUXn",
        "colab_type": "code",
        "outputId": "4a8fd068-ce58-4b21-c21f-4abf954c8d61",
        "colab": {
          "base_uri": "https://localhost:8080/",
          "height": 119
        }
      },
      "source": [
        "filtered_data.columns"
      ],
      "execution_count": 0,
      "outputs": [
        {
          "output_type": "execute_result",
          "data": {
            "text/plain": [
              "Index(['Unnamed: 0', 'rating', 'title', 'review', 'review_category', 'company',\n",
              "       'clean_review', 'topic_category', 'topic_name',\n",
              "       'review_category_Average', 'review_category_Bad',\n",
              "       'review_category_Good', 'topic_name_books', 'topic_name_movies',\n",
              "       'topic_name_music'],\n",
              "      dtype='object')"
            ]
          },
          "metadata": {
            "tags": []
          },
          "execution_count": 12
        }
      ]
    },
    {
      "cell_type": "code",
      "metadata": {
        "id": "rIbg06bky-8L",
        "colab_type": "code",
        "outputId": "a9ff859f-c3bb-461e-dbc8-d6ed35971636",
        "colab": {
          "base_uri": "https://localhost:8080/",
          "height": 156
        }
      },
      "source": [
        "print('Loading in comments...')\n",
        "print(filtered_data[\"clean_review\"].dtype)\n",
        "print(\"Transforamation from pandas colums to numpy array using .values\")\n",
        "sentences = filtered_data[\"clean_review\"].fillna(\"DUMMY_VALUE\").values\n",
        "possible_labels = ['review_category_Average', 'review_category_Bad',\n",
        "       'review_category_Good', 'topic_name_books', 'topic_name_movies',\n",
        "       'topic_name_music']\n",
        "targets = filtered_data[possible_labels].values\n",
        "print(type(sentences))\n",
        "print(type(targets))\n",
        "print((sentences[0]))\n",
        "print((targets[0]))"
      ],
      "execution_count": 0,
      "outputs": [
        {
          "output_type": "stream",
          "text": [
            "Loading in comments...\n",
            "object\n",
            "Transforamation from pandas colums to numpy array using .values\n",
            "<class 'numpy.ndarray'>\n",
            "<class 'numpy.ndarray'>\n",
            "this selfpublished book want know whyread paragraph those star review write ms haddon family friendsor imagine read thingi spend evening book friend hysteric read bit piece definitely bad enter kind bad book contest believe amazon sell kind thing maybe offer 8th grade term paper to kill mockingbird\"a book sure ms haddon hear anyway mood send book jokestay far far away\n",
            "[0 1 0 1 0 0]\n"
          ],
          "name": "stdout"
        }
      ]
    },
    {
      "cell_type": "markdown",
      "metadata": {
        "id": "u-oB-Ih2B9V8",
        "colab_type": "text"
      },
      "source": [
        "**Setting up initial configuration**"
      ]
    },
    {
      "cell_type": "code",
      "metadata": {
        "id": "A3TM3BAAB8Pu",
        "colab_type": "code",
        "colab": {}
      },
      "source": [
        "# some configuration\n",
        "MAX_SEQUENCE_LENGTH = 100\n",
        "MAX_VOCAB_SIZE = 20000\n",
        "EMBEDDING_DIM = 50\n",
        "VALIDATION_SPLIT = 0.2\n",
        "BATCH_SIZE = 128\n",
        "EPOCHS = 10\n",
        "output_dir = '/gdrive/My Drive/amazon_review_full_csv'"
      ],
      "execution_count": 0,
      "outputs": []
    },
    {
      "cell_type": "markdown",
      "metadata": {
        "id": "Zsum-cpWBlju",
        "colab_type": "text"
      },
      "source": [
        "Tokenizing the data"
      ]
    },
    {
      "cell_type": "code",
      "metadata": {
        "id": "dnSCI2zjBjlJ",
        "colab_type": "code",
        "colab": {}
      },
      "source": [
        "# convert the sentences (strings) into integers\n",
        "tokenizer = Tokenizer(num_words=MAX_VOCAB_SIZE)\n",
        "tokenizer.fit_on_texts(sentences)\n",
        "sequences = tokenizer.texts_to_sequences(sentences)"
      ],
      "execution_count": 0,
      "outputs": []
    },
    {
      "cell_type": "code",
      "metadata": {
        "id": "kJlwvCruCQ1K",
        "colab_type": "code",
        "outputId": "29cc6647-62a5-4e76-a5ae-e282882ab38f",
        "colab": {
          "base_uri": "https://localhost:8080/",
          "height": 51
        }
      },
      "source": [
        "sequences[1:3]"
      ],
      "execution_count": 0,
      "outputs": [
        {
          "output_type": "execute_result",
          "data": {
            "text/plain": [
              "[[231, 421, 1450, 46, 8, 5, 258, 12, 8627, 29, 46, 73, 2],\n",
              " [68, 1, 1388, 13, 189, 103, 2, 1060, 6, 1]]"
            ]
          },
          "metadata": {
            "tags": []
          },
          "execution_count": 16
        }
      ]
    },
    {
      "cell_type": "code",
      "metadata": {
        "id": "5UTBkyS2f-F2",
        "colab_type": "code",
        "colab": {}
      },
      "source": [
        "#word_seq = [[idx2word[i] for i in sequences[j]] for j in range(len(sequences))]\n",
        "#word_seq[1:3]"
      ],
      "execution_count": 0,
      "outputs": []
    },
    {
      "cell_type": "markdown",
      "metadata": {
        "id": "NiGr1ygjHO-0",
        "colab_type": "text"
      },
      "source": [
        "Creating Dictionary for word-integer mapping"
      ]
    },
    {
      "cell_type": "code",
      "metadata": {
        "id": "twf3cWqJCeHg",
        "colab_type": "code",
        "outputId": "db508622-4100-4b8d-88fd-485c07526064",
        "colab": {
          "base_uri": "https://localhost:8080/",
          "height": 68
        }
      },
      "source": [
        "idx2word = tokenizer.index_word\n",
        "#word2idx = {k:v for v,k in idx2word.items()}\n",
        "word2idx = tokenizer.word_index\n",
        "print('Found %s unique tokens.' % len(word2idx))\n",
        "print(word2idx['instead'])\n",
        "print(idx2word[157])"
      ],
      "execution_count": 0,
      "outputs": [
        {
          "output_type": "stream",
          "text": [
            "Found 71701 unique tokens.\n",
            "157\n",
            "instead\n"
          ],
          "name": "stdout"
        }
      ]
    },
    {
      "cell_type": "markdown",
      "metadata": {
        "id": "EoDVoPZIU0jx",
        "colab_type": "text"
      },
      "source": [
        "Finding out the Max Sequence Lenght and  pad sequences so that we get a N x T matrix"
      ]
    },
    {
      "cell_type": "code",
      "metadata": {
        "id": "hgSvXmIVUzva",
        "colab_type": "code",
        "outputId": "4e8a750a-2d38-42bf-ad35-a4c5186176cd",
        "colab": {
          "base_uri": "https://localhost:8080/",
          "height": 34
        }
      },
      "source": [
        "seq_len = [len(sent) for sent in sequences]\n",
        "max_seq_len = max(seq_len)\n",
        "max_seq_len"
      ],
      "execution_count": 0,
      "outputs": [
        {
          "output_type": "execute_result",
          "data": {
            "text/plain": [
              "133"
            ]
          },
          "metadata": {
            "tags": []
          },
          "execution_count": 19
        }
      ]
    },
    {
      "cell_type": "code",
      "metadata": {
        "id": "SuhkVJdVVWji",
        "colab_type": "code",
        "outputId": "34c213f9-96dc-4db3-ec38-58f515721b46",
        "colab": {
          "base_uri": "https://localhost:8080/",
          "height": 34
        }
      },
      "source": [
        "padded_data = pad_sequences(sequences, maxlen=MAX_SEQUENCE_LENGTH)\n",
        "print('Shape of data tensor:', padded_data.shape)"
      ],
      "execution_count": 0,
      "outputs": [
        {
          "output_type": "stream",
          "text": [
            "Shape of data tensor: (25764, 100)\n"
          ],
          "name": "stdout"
        }
      ]
    },
    {
      "cell_type": "code",
      "metadata": {
        "id": "GJ4sjan-V4IN",
        "colab_type": "code",
        "outputId": "dd162e8a-10b0-4602-ab0e-a08fbb467d82",
        "colab": {
          "base_uri": "https://localhost:8080/",
          "height": 221
        }
      },
      "source": [
        "padded_data[5]"
      ],
      "execution_count": 0,
      "outputs": [
        {
          "output_type": "execute_result",
          "data": {
            "text/plain": [
              "array([    0,     0,     0,     0,     0,     0,     0,     0,     0,\n",
              "           0,     0,     0,     0,     0,     0,     0,     0,     0,\n",
              "           0,     0,     0,     0,   525,  1600,   183,     8,   148,\n",
              "           4,   112,   307,    33,  1612,    88,    31,   859,   130,\n",
              "          28,    72,    11,   112,    23,   325,   115,    31,  1085,\n",
              "         136,   560,  1001,   139,    41,     4,    16,     8,    63,\n",
              "           4,   365,   541,    16,     4,   285,   315,    26,     9,\n",
              "        3834,  5349,     4,    26,     9,  3834,  5349,     4,     7,\n",
              "         141,    10,     4,   184,  9483,   153,    10,     7,     6,\n",
              "        5349,    78,  1778,  2658,   199,   727,    53,  3834,  5349,\n",
              "       10617,    72,   220,     4,  1045,   155,   296,  1382,  1237,\n",
              "         148], dtype=int32)"
            ]
          },
          "metadata": {
            "tags": []
          },
          "execution_count": 21
        }
      ]
    },
    {
      "cell_type": "markdown",
      "metadata": {
        "id": "2f5NgqDpgQt5",
        "colab_type": "text"
      },
      "source": [
        "Creating the mebedding Matrix from Glove"
      ]
    },
    {
      "cell_type": "code",
      "metadata": {
        "id": "ibb3tKlWgPo1",
        "colab_type": "code",
        "outputId": "191be35b-b682-469a-9625-37d86e339cdf",
        "colab": {
          "base_uri": "https://localhost:8080/",
          "height": 51
        }
      },
      "source": [
        "# load in pre-trained word vectors\n",
        "print('Loading word vectors...')\n",
        "word2vec = {}\n",
        "with open(os.path.join('/gdrive/My Drive/amazon_review_full_csv/glove.6B.%sd.txt' % EMBEDDING_DIM)) as f:\n",
        "  for line in f:\n",
        "    values = line.split()\n",
        "    word = values[0]\n",
        "    value = np.asarray(values[1:] , dtype='float32')\n",
        "    word2vec[word]=value\n",
        "print(len(word2vec))"
      ],
      "execution_count": 0,
      "outputs": [
        {
          "output_type": "stream",
          "text": [
            "Loading word vectors...\n",
            "400000\n"
          ],
          "name": "stdout"
        }
      ]
    },
    {
      "cell_type": "code",
      "metadata": {
        "id": "YP8LGW1oWBCU",
        "colab_type": "code",
        "outputId": "0386602e-84d4-41b3-bd1b-e235028fb428",
        "colab": {
          "base_uri": "https://localhost:8080/",
          "height": 187
        }
      },
      "source": [
        "# prepare embedding matrix\n",
        "#print('Filling pre-trained embeddings...')\n",
        "num_words = min(MAX_VOCAB_SIZE, len(word2idx) + 1)\n",
        "print(num_words)\n",
        "embedding_matrix = np.zeros((num_words, EMBEDDING_DIM))\n",
        "embedding_matrix\n",
        "print((embedding_matrix))\n",
        "print(type(embedding_matrix))\n",
        "print(embedding_matrix.shape)"
      ],
      "execution_count": 0,
      "outputs": [
        {
          "output_type": "stream",
          "text": [
            "20000\n",
            "[[0. 0. 0. ... 0. 0. 0.]\n",
            " [0. 0. 0. ... 0. 0. 0.]\n",
            " [0. 0. 0. ... 0. 0. 0.]\n",
            " ...\n",
            " [0. 0. 0. ... 0. 0. 0.]\n",
            " [0. 0. 0. ... 0. 0. 0.]\n",
            " [0. 0. 0. ... 0. 0. 0.]]\n",
            "<class 'numpy.ndarray'>\n",
            "(20000, 50)\n"
          ],
          "name": "stdout"
        }
      ]
    },
    {
      "cell_type": "markdown",
      "metadata": {
        "id": "y1ZyewyZp_lq",
        "colab_type": "text"
      },
      "source": [
        "Filling the empty embedding matrix with the vector values from the Glove for the vocublary and vocubalry size of our dataset"
      ]
    },
    {
      "cell_type": "code",
      "metadata": {
        "id": "XjKbIqY-ooIx",
        "colab_type": "code",
        "outputId": "bd7e7c54-a9d3-434a-e27a-d498ececeb6c",
        "colab": {
          "base_uri": "https://localhost:8080/",
          "height": 255
        }
      },
      "source": [
        "\n",
        "for word,i in word2idx.items():\n",
        "  #print(word)\n",
        "  #print(i)\n",
        "  if i < MAX_VOCAB_SIZE:\n",
        "    embedding_vector= word2vec.get(word)\n",
        "    if embedding_vector is not None:\n",
        "      embedding_matrix[i]=embedding_vector\n",
        "print(embedding_matrix.shape)\n",
        "print((embedding_matrix))"
      ],
      "execution_count": 0,
      "outputs": [
        {
          "output_type": "stream",
          "text": [
            "(20000, 50)\n",
            "[[ 0.          0.          0.         ...  0.          0.\n",
            "   0.        ]\n",
            " [-0.0076543   0.93456    -0.73189002 ... -0.089847   -0.27223\n",
            "  -0.0088736 ]\n",
            " [ 0.56818998 -0.95608997  0.51209003 ... -0.16356     0.059135\n",
            "  -0.76425999]\n",
            " ...\n",
            " [ 0.          0.          0.         ...  0.          0.\n",
            "   0.        ]\n",
            " [-0.59521002 -0.82484001 -0.88629001 ...  0.39816999 -0.25731\n",
            "   0.40994   ]\n",
            " [ 0.48909    -0.071652    0.44681001 ... -0.98063999  0.29967001\n",
            "  -0.56155002]]\n"
          ],
          "name": "stdout"
        }
      ]
    },
    {
      "cell_type": "markdown",
      "metadata": {
        "id": "1--zqhU_rMrf",
        "colab_type": "text"
      },
      "source": [
        "Creating an Embedding Layer"
      ]
    },
    {
      "cell_type": "code",
      "metadata": {
        "id": "PyzSY956rMCP",
        "colab_type": "code",
        "outputId": "75efe367-a468-4873-f8db-d4d2fd3e38c8",
        "colab": {
          "base_uri": "https://localhost:8080/",
          "height": 71
        }
      },
      "source": [
        "embedding_layer = Embedding(\n",
        "    num_words,\n",
        "    EMBEDDING_DIM,\n",
        "    weights=[embedding_matrix],\n",
        "    input_length=MAX_SEQUENCE_LENGTH,\n",
        "    trainable=False\n",
        ")"
      ],
      "execution_count": 0,
      "outputs": [
        {
          "output_type": "stream",
          "text": [
            "WARNING:tensorflow:From /usr/local/lib/python3.6/dist-packages/keras/backend/tensorflow_backend.py:66: The name tf.get_default_graph is deprecated. Please use tf.compat.v1.get_default_graph instead.\n",
            "\n"
          ],
          "name": "stdout"
        }
      ]
    },
    {
      "cell_type": "markdown",
      "metadata": {
        "id": "VZorlHUVtKxy",
        "colab_type": "text"
      },
      "source": [
        "Building the model now"
      ]
    },
    {
      "cell_type": "code",
      "metadata": {
        "id": "FqKZ1tNbtPIV",
        "colab_type": "code",
        "outputId": "4d805a99-89e7-4043-faa3-c0bb5e456f69",
        "colab": {
          "base_uri": "https://localhost:8080/",
          "height": 717
        }
      },
      "source": [
        "input_ = Input(shape=(MAX_SEQUENCE_LENGTH,))\n",
        "embeddings = embedding_layer(input_)\n",
        "lstm = LSTM(25, return_sequences=False)\n",
        "lstm_layer= lstm(embeddings)\n",
        "dense = Dense(len(possible_labels), activation=\"sigmoid\")\n",
        "output = dense(lstm_layer)\n",
        "model = Model(input_, output)\n",
        "\n",
        "model.compile(\n",
        "  loss='binary_crossentropy',\n",
        "  optimizer=Adam(lr=0.01),\n",
        "  metrics=['accuracy']\n",
        ")\n",
        "print(model.summary())\n",
        "\n",
        "\n",
        "\n"
      ],
      "execution_count": 0,
      "outputs": [
        {
          "output_type": "stream",
          "text": [
            "WARNING:tensorflow:From /usr/local/lib/python3.6/dist-packages/keras/backend/tensorflow_backend.py:541: The name tf.placeholder is deprecated. Please use tf.compat.v1.placeholder instead.\n",
            "\n",
            "WARNING:tensorflow:From /usr/local/lib/python3.6/dist-packages/keras/backend/tensorflow_backend.py:4432: The name tf.random_uniform is deprecated. Please use tf.random.uniform instead.\n",
            "\n",
            "WARNING:tensorflow:From /usr/local/lib/python3.6/dist-packages/keras/backend/tensorflow_backend.py:190: The name tf.get_default_session is deprecated. Please use tf.compat.v1.get_default_session instead.\n",
            "\n",
            "WARNING:tensorflow:From /usr/local/lib/python3.6/dist-packages/keras/backend/tensorflow_backend.py:197: The name tf.ConfigProto is deprecated. Please use tf.compat.v1.ConfigProto instead.\n",
            "\n",
            "WARNING:tensorflow:From /usr/local/lib/python3.6/dist-packages/keras/backend/tensorflow_backend.py:203: The name tf.Session is deprecated. Please use tf.compat.v1.Session instead.\n",
            "\n",
            "WARNING:tensorflow:From /usr/local/lib/python3.6/dist-packages/keras/backend/tensorflow_backend.py:207: The name tf.global_variables is deprecated. Please use tf.compat.v1.global_variables instead.\n",
            "\n",
            "WARNING:tensorflow:From /usr/local/lib/python3.6/dist-packages/keras/backend/tensorflow_backend.py:216: The name tf.is_variable_initialized is deprecated. Please use tf.compat.v1.is_variable_initialized instead.\n",
            "\n",
            "WARNING:tensorflow:From /usr/local/lib/python3.6/dist-packages/keras/backend/tensorflow_backend.py:223: The name tf.variables_initializer is deprecated. Please use tf.compat.v1.variables_initializer instead.\n",
            "\n",
            "WARNING:tensorflow:From /usr/local/lib/python3.6/dist-packages/keras/optimizers.py:793: The name tf.train.Optimizer is deprecated. Please use tf.compat.v1.train.Optimizer instead.\n",
            "\n",
            "WARNING:tensorflow:From /usr/local/lib/python3.6/dist-packages/keras/backend/tensorflow_backend.py:3657: The name tf.log is deprecated. Please use tf.math.log instead.\n",
            "\n",
            "WARNING:tensorflow:From /usr/local/lib/python3.6/dist-packages/tensorflow_core/python/ops/nn_impl.py:183: where (from tensorflow.python.ops.array_ops) is deprecated and will be removed in a future version.\n",
            "Instructions for updating:\n",
            "Use tf.where in 2.0, which has the same broadcast rule as np.where\n",
            "Model: \"model_1\"\n",
            "_________________________________________________________________\n",
            "Layer (type)                 Output Shape              Param #   \n",
            "=================================================================\n",
            "input_1 (InputLayer)         (None, 100)               0         \n",
            "_________________________________________________________________\n",
            "embedding_1 (Embedding)      (None, 100, 50)           1000000   \n",
            "_________________________________________________________________\n",
            "lstm_1 (LSTM)                (None, 25)                7600      \n",
            "_________________________________________________________________\n",
            "dense_1 (Dense)              (None, 6)                 156       \n",
            "=================================================================\n",
            "Total params: 1,007,756\n",
            "Trainable params: 7,756\n",
            "Non-trainable params: 1,000,000\n",
            "_________________________________________________________________\n",
            "None\n"
          ],
          "name": "stdout"
        }
      ]
    },
    {
      "cell_type": "code",
      "metadata": {
        "id": "crv_djlixC6Z",
        "colab_type": "code",
        "colab": {}
      },
      "source": [
        "#model.fit(padded_data,\n",
        "        #targets,\n",
        "        #batch_size=BATCH_SIZE,\n",
        "  #epochs=EPOCHS,\n",
        "  #validation_split=VALIDATION_SPLIT\n",
        "#)  \n",
        "          "
      ],
      "execution_count": 0,
      "outputs": []
    },
    {
      "cell_type": "markdown",
      "metadata": {
        "id": "2CjIRe05yl2F",
        "colab_type": "text"
      },
      "source": [
        "Saving the model"
      ]
    },
    {
      "cell_type": "code",
      "metadata": {
        "id": "-Af85826ylP4",
        "colab_type": "code",
        "colab": {}
      },
      "source": [
        "model.load_weights(output_dir+\"/weights.01.hdf5\")"
      ],
      "execution_count": 0,
      "outputs": []
    },
    {
      "cell_type": "code",
      "metadata": {
        "id": "5OK36UzZ1UCT",
        "colab_type": "code",
        "outputId": "83473131-0d2e-4196-9d67-322330af0738",
        "colab": {
          "base_uri": "https://localhost:8080/",
          "height": 34
        }
      },
      "source": [
        "print(len(padded_data))"
      ],
      "execution_count": 0,
      "outputs": [
        {
          "output_type": "stream",
          "text": [
            "25764\n"
          ],
          "name": "stdout"
        }
      ]
    },
    {
      "cell_type": "code",
      "metadata": {
        "id": "urbmc3S80VVX",
        "colab_type": "code",
        "colab": {}
      },
      "source": [
        "y_hat = model.predict(padded_data.reshape(25764,100))"
      ],
      "execution_count": 0,
      "outputs": []
    },
    {
      "cell_type": "code",
      "metadata": {
        "id": "HFp92vUj1shg",
        "colab_type": "code",
        "outputId": "19e47450-ca9d-46d0-9f6c-73cecaabb3d4",
        "colab": {
          "base_uri": "https://localhost:8080/",
          "height": 34
        }
      },
      "source": [
        "y_hat.shape"
      ],
      "execution_count": 0,
      "outputs": [
        {
          "output_type": "execute_result",
          "data": {
            "text/plain": [
              "(25764, 6)"
            ]
          },
          "metadata": {
            "tags": []
          },
          "execution_count": 40
        }
      ]
    },
    {
      "cell_type": "code",
      "metadata": {
        "id": "HAlKstRQ0nkz",
        "colab_type": "code",
        "outputId": "72445f4c-a937-4969-fdca-dd90d98501a9",
        "colab": {
          "base_uri": "https://localhost:8080/",
          "height": 136
        }
      },
      "source": [
        "y_hat.round(2)"
      ],
      "execution_count": 0,
      "outputs": [
        {
          "output_type": "execute_result",
          "data": {
            "text/plain": [
              "array([[0.11, 0.9 , 0.04, 1.  , 0.  , 0.  ],\n",
              "       [0.09, 0.92, 0.03, 0.  , 0.  , 1.  ],\n",
              "       [0.06, 0.09, 0.85, 1.  , 0.  , 0.  ],\n",
              "       ...,\n",
              "       [0.18, 0.7 , 0.09, 0.  , 0.  , 1.  ],\n",
              "       [0.3 , 0.32, 0.35, 1.  , 0.  , 0.  ],\n",
              "       [0.23, 0.1 , 0.74, 0.  , 0.  , 1.  ]], dtype=float32)"
            ]
          },
          "metadata": {
            "tags": []
          },
          "execution_count": 41
        }
      ]
    },
    {
      "cell_type": "code",
      "metadata": {
        "id": "9b3qDvkU0vcc",
        "colab_type": "code",
        "outputId": "232ede4f-9f1b-4358-c087-60c6ad553325",
        "colab": {
          "base_uri": "https://localhost:8080/",
          "height": 34
        }
      },
      "source": [
        "targets[:,1].shape"
      ],
      "execution_count": 0,
      "outputs": [
        {
          "output_type": "execute_result",
          "data": {
            "text/plain": [
              "(25764,)"
            ]
          },
          "metadata": {
            "tags": []
          },
          "execution_count": 42
        }
      ]
    },
    {
      "cell_type": "code",
      "metadata": {
        "id": "gClOR6j7RWHk",
        "colab_type": "code",
        "outputId": "bdffe52e-1969-415a-fe8c-9bd5807fc567",
        "colab": {
          "base_uri": "https://localhost:8080/",
          "height": 34
        }
      },
      "source": [
        "aucs = []\n",
        "for j in range(6):\n",
        "    auc = roc_auc_score(targets[:,j], y_hat[:,j])\n",
        "    aucs.append(auc)\n",
        "print(np.mean(aucs))"
      ],
      "execution_count": 0,
      "outputs": [
        {
          "output_type": "stream",
          "text": [
            "0.8988457864868954\n"
          ],
          "name": "stdout"
        }
      ]
    },
    {
      "cell_type": "markdown",
      "metadata": {
        "id": "PiGJfc18JC8p",
        "colab_type": "text"
      },
      "source": [
        ""
      ]
    }
  ]
}