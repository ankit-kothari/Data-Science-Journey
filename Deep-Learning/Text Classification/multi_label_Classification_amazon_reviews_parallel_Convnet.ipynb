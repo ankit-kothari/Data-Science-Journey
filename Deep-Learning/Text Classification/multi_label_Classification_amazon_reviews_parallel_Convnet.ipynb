{
  "nbformat": 4,
  "nbformat_minor": 0,
  "metadata": {
    "colab": {
      "name": "multi_label_Classification_amazon_reviews_parallel_Convnet.ipynb",
      "provenance": [],
      "collapsed_sections": [],
      "toc_visible": true
    },
    "kernelspec": {
      "name": "python3",
      "display_name": "Python 3"
    },
    "accelerator": "GPU"
  },
  "cells": [
    {
      "cell_type": "code",
      "metadata": {
        "id": "qZo0kj5uDKyU",
        "colab_type": "code",
        "colab": {}
      },
      "source": [
        "import re\n",
        "import pandas as pd\n",
        "import numpy as np\n",
        "import spacy\n",
        "import re\n",
        "from spacy.matcher import Matcher\n",
        "from spacy.matcher import PhraseMatcher\n",
        "from spacy.tokens import Span\n",
        "from spacy.pipeline import SentenceSegmenter\n",
        "from spacy import displacy\n",
        "nlp = spacy.load('en_core_web_sm')\n",
        "from spacy.matcher import Matcher\n",
        "from spacy.matcher import PhraseMatcher\n",
        "from spacy.tokens import Span\n",
        "from spacy.pipeline import SentenceSegmenter\n",
        "from spacy import displacy\n",
        "nlp = spacy.load('en_core_web_sm')\n",
        "from keras.layers import Dense, Embedding, Input\n",
        "from keras.models import Model\n",
        "from keras.layers import LSTM, Bidirectional, GlobalMaxPool1D, Dropout\n",
        "from keras.layers import Input, concatenate # new! \n",
        "from pickle import dump,load\n",
        "from keras.layers import Dense, Dropout, Embedding, SpatialDropout1D, Conv1D, GlobalMaxPooling1D\n",
        "from keras.optimizers import Adam\n",
        "from sklearn.metrics import roc_auc_score\n",
        "import keras\n",
        "from keras.datasets import imdb\n",
        "from keras.preprocessing.sequence import pad_sequences\n",
        "from keras.models import Sequential\n",
        "from keras.layers import Dense, Flatten, Dropout\n",
        "from keras.layers import Embedding # new!\n",
        "from keras.callbacks import ModelCheckpoint # new! \n",
        "from keras.preprocessing.text import Tokenizer\n",
        "from keras.preprocessing.text import text_to_word_sequence\n",
        "#import tensorflow.keras.preprocessing.text.Tokenizer\n",
        "import os # new! \n",
        "import tensorflow as tf "
      ],
      "execution_count": 0,
      "outputs": []
    },
    {
      "cell_type": "markdown",
      "metadata": {
        "id": "HKlRGX6lENNs",
        "colab_type": "text"
      },
      "source": [
        "Making sure the GPU is working"
      ]
    },
    {
      "cell_type": "code",
      "metadata": {
        "id": "j6wWrfA7D7_0",
        "colab_type": "code",
        "outputId": "45085822-cbc1-4332-ae5a-48b4bc21169b",
        "colab": {
          "base_uri": "https://localhost:8080/",
          "height": 34
        }
      },
      "source": [
        "import tensorflow as tf \n",
        "tf.test.gpu_device_name()"
      ],
      "execution_count": 4,
      "outputs": [
        {
          "output_type": "execute_result",
          "data": {
            "text/plain": [
              "'/device:GPU:0'"
            ]
          },
          "metadata": {
            "tags": []
          },
          "execution_count": 4
        }
      ]
    },
    {
      "cell_type": "markdown",
      "metadata": {
        "id": "wrS8OzzpEQlL",
        "colab_type": "text"
      },
      "source": [
        "Mounting the Drive"
      ]
    },
    {
      "cell_type": "code",
      "metadata": {
        "id": "xPqIJOUVD81O",
        "colab_type": "code",
        "outputId": "c022ebec-49d3-42a0-8c56-284baf76af02",
        "colab": {
          "base_uri": "https://localhost:8080/",
          "height": 139
        }
      },
      "source": [
        "from google.colab import drive\n",
        "drive.mount('/gdrive')\n",
        "%cd /gdrive"
      ],
      "execution_count": 5,
      "outputs": [
        {
          "output_type": "stream",
          "text": [
            "Go to this URL in a browser: https://accounts.google.com/o/oauth2/auth?client_id=947318989803-6bn6qk8qdgf4n4g3pfee6491hc0brc4i.apps.googleusercontent.com&redirect_uri=urn%3aietf%3awg%3aoauth%3a2.0%3aoob&response_type=code&scope=email%20https%3a%2f%2fwww.googleapis.com%2fauth%2fdocs.test%20https%3a%2f%2fwww.googleapis.com%2fauth%2fdrive%20https%3a%2f%2fwww.googleapis.com%2fauth%2fdrive.photos.readonly%20https%3a%2f%2fwww.googleapis.com%2fauth%2fpeopleapi.readonly\n",
            "\n",
            "Enter your authorization code:\n",
            "··········\n",
            "Mounted at /gdrive\n",
            "/gdrive\n"
          ],
          "name": "stdout"
        }
      ]
    },
    {
      "cell_type": "markdown",
      "metadata": {
        "id": "eWctCfvJDmVs",
        "colab_type": "text"
      },
      "source": [
        "Fetching the data"
      ]
    },
    {
      "cell_type": "code",
      "metadata": {
        "id": "MlZIY_bXDn62",
        "colab_type": "code",
        "outputId": "b4157313-5497-403a-f1ff-7ef7becbca1f",
        "colab": {
          "base_uri": "https://localhost:8080/",
          "height": 306
        }
      },
      "source": [
        "clean_data = pd.read_csv('/gdrive/My Drive/amazon_review_full_csv/cleaned_topic_amazon_reviews.csv')\n",
        "clean_data.head()"
      ],
      "execution_count": 6,
      "outputs": [
        {
          "output_type": "execute_result",
          "data": {
            "text/html": [
              "<div>\n",
              "<style scoped>\n",
              "    .dataframe tbody tr th:only-of-type {\n",
              "        vertical-align: middle;\n",
              "    }\n",
              "\n",
              "    .dataframe tbody tr th {\n",
              "        vertical-align: top;\n",
              "    }\n",
              "\n",
              "    .dataframe thead th {\n",
              "        text-align: right;\n",
              "    }\n",
              "</style>\n",
              "<table border=\"1\" class=\"dataframe\">\n",
              "  <thead>\n",
              "    <tr style=\"text-align: right;\">\n",
              "      <th></th>\n",
              "      <th>Unnamed: 0</th>\n",
              "      <th>rating</th>\n",
              "      <th>title</th>\n",
              "      <th>review</th>\n",
              "      <th>review_category</th>\n",
              "      <th>company</th>\n",
              "      <th>clean_review</th>\n",
              "      <th>topic_category</th>\n",
              "      <th>topic_name</th>\n",
              "    </tr>\n",
              "  </thead>\n",
              "  <tbody>\n",
              "    <tr>\n",
              "      <th>0</th>\n",
              "      <td>0</td>\n",
              "      <td>1</td>\n",
              "      <td>Buyer beware</td>\n",
              "      <td>This is a selfpublished book and if you want t...</td>\n",
              "      <td>Bad</td>\n",
              "      <td>Amazon</td>\n",
              "      <td>this selfpublished book want know whyread para...</td>\n",
              "      <td>1</td>\n",
              "      <td>books</td>\n",
              "    </tr>\n",
              "    <tr>\n",
              "      <th>1</th>\n",
              "      <td>1</td>\n",
              "      <td>1</td>\n",
              "      <td>Another Abysmal Digital Copy</td>\n",
              "      <td>Rather than scratches and insect droppings thi...</td>\n",
              "      <td>Bad</td>\n",
              "      <td>Amazon</td>\n",
              "      <td>rather scratch insect dropping random pixelati...</td>\n",
              "      <td>5</td>\n",
              "      <td>video-quality</td>\n",
              "    </tr>\n",
              "    <tr>\n",
              "      <th>2</th>\n",
              "      <td>2</td>\n",
              "      <td>5</td>\n",
              "      <td>CHECK OUT THE K6000 CHARGER!</td>\n",
              "      <td>Greetings Kodak also has a K6000 charger which...</td>\n",
              "      <td>Good</td>\n",
              "      <td>Amazon</td>\n",
              "      <td>greetings kodak k6000 charger come nimh mah ba...</td>\n",
              "      <td>11</td>\n",
              "      <td>electronics</td>\n",
              "    </tr>\n",
              "    <tr>\n",
              "      <th>3</th>\n",
              "      <td>3</td>\n",
              "      <td>2</td>\n",
              "      <td>Maybe I got a bad one.</td>\n",
              "      <td>My experience: I got this from FM not Amazon T...</td>\n",
              "      <td>Bad</td>\n",
              "      <td>Amazon</td>\n",
              "      <td>my experience get fm amazon the dvd player rat...</td>\n",
              "      <td>5</td>\n",
              "      <td>video-quality</td>\n",
              "    </tr>\n",
              "    <tr>\n",
              "      <th>4</th>\n",
              "      <td>4</td>\n",
              "      <td>2</td>\n",
              "      <td>Didn't live up to expectations.</td>\n",
              "      <td>I ordered these shoes to replace the previous ...</td>\n",
              "      <td>Bad</td>\n",
              "      <td>Amazon</td>\n",
              "      <td>order shoe replace previous pair rip apart sol...</td>\n",
              "      <td>4</td>\n",
              "      <td>order</td>\n",
              "    </tr>\n",
              "  </tbody>\n",
              "</table>\n",
              "</div>"
            ],
            "text/plain": [
              "   Unnamed: 0  rating  ... topic_category     topic_name\n",
              "0           0       1  ...              1          books\n",
              "1           1       1  ...              5  video-quality\n",
              "2           2       5  ...             11    electronics\n",
              "3           3       2  ...              5  video-quality\n",
              "4           4       2  ...              4          order\n",
              "\n",
              "[5 rows x 9 columns]"
            ]
          },
          "metadata": {
            "tags": []
          },
          "execution_count": 6
        }
      ]
    },
    {
      "cell_type": "code",
      "metadata": {
        "id": "z99WAMZgH4sH",
        "colab_type": "code",
        "colab": {}
      },
      "source": [
        "clean_data_grouped = clean_data.groupby(['topic_name','review_category']).agg(\n",
        "  {\n",
        "\n",
        "    'review_category':'count'\n",
        "\n",
        "  })\n",
        "\n"
      ],
      "execution_count": 0,
      "outputs": []
    },
    {
      "cell_type": "code",
      "metadata": {
        "id": "MZvSp-RXIGxo",
        "colab_type": "code",
        "outputId": "61fb762c-e452-45d6-ef8e-4544aae900e3",
        "colab": {
          "base_uri": "https://localhost:8080/",
          "height": 514
        }
      },
      "source": [
        "clean_data_grouped= clean_data_grouped.unstack().reset_index()\n",
        "clean_data_grouped"
      ],
      "execution_count": 8,
      "outputs": [
        {
          "output_type": "execute_result",
          "data": {
            "text/html": [
              "<div>\n",
              "<style scoped>\n",
              "    .dataframe tbody tr th:only-of-type {\n",
              "        vertical-align: middle;\n",
              "    }\n",
              "\n",
              "    .dataframe tbody tr th {\n",
              "        vertical-align: top;\n",
              "    }\n",
              "\n",
              "    .dataframe thead tr th {\n",
              "        text-align: left;\n",
              "    }\n",
              "</style>\n",
              "<table border=\"1\" class=\"dataframe\">\n",
              "  <thead>\n",
              "    <tr>\n",
              "      <th></th>\n",
              "      <th>topic_name</th>\n",
              "      <th colspan=\"3\" halign=\"left\">review_category</th>\n",
              "    </tr>\n",
              "    <tr>\n",
              "      <th>review_category</th>\n",
              "      <th></th>\n",
              "      <th>Average</th>\n",
              "      <th>Bad</th>\n",
              "      <th>Good</th>\n",
              "    </tr>\n",
              "  </thead>\n",
              "  <tbody>\n",
              "    <tr>\n",
              "      <th>0</th>\n",
              "      <td>books</td>\n",
              "      <td>2058</td>\n",
              "      <td>6663</td>\n",
              "      <td>4118</td>\n",
              "    </tr>\n",
              "    <tr>\n",
              "      <th>1</th>\n",
              "      <td>christmas shopping</td>\n",
              "      <td>763</td>\n",
              "      <td>3347</td>\n",
              "      <td>2173</td>\n",
              "    </tr>\n",
              "    <tr>\n",
              "      <th>2</th>\n",
              "      <td>electronics</td>\n",
              "      <td>382</td>\n",
              "      <td>1867</td>\n",
              "      <td>698</td>\n",
              "    </tr>\n",
              "    <tr>\n",
              "      <th>3</th>\n",
              "      <td>games</td>\n",
              "      <td>329</td>\n",
              "      <td>1010</td>\n",
              "      <td>797</td>\n",
              "    </tr>\n",
              "    <tr>\n",
              "      <th>4</th>\n",
              "      <td>movies</td>\n",
              "      <td>858</td>\n",
              "      <td>2218</td>\n",
              "      <td>1750</td>\n",
              "    </tr>\n",
              "    <tr>\n",
              "      <th>5</th>\n",
              "      <td>music</td>\n",
              "      <td>1320</td>\n",
              "      <td>3404</td>\n",
              "      <td>3375</td>\n",
              "    </tr>\n",
              "    <tr>\n",
              "      <th>6</th>\n",
              "      <td>order</td>\n",
              "      <td>881</td>\n",
              "      <td>4393</td>\n",
              "      <td>1412</td>\n",
              "    </tr>\n",
              "    <tr>\n",
              "      <th>7</th>\n",
              "      <td>packing</td>\n",
              "      <td>3596</td>\n",
              "      <td>11887</td>\n",
              "      <td>7048</td>\n",
              "    </tr>\n",
              "    <tr>\n",
              "      <th>8</th>\n",
              "      <td>product-information</td>\n",
              "      <td>1273</td>\n",
              "      <td>6078</td>\n",
              "      <td>2148</td>\n",
              "    </tr>\n",
              "    <tr>\n",
              "      <th>9</th>\n",
              "      <td>refund-and-return</td>\n",
              "      <td>1408</td>\n",
              "      <td>7471</td>\n",
              "      <td>1424</td>\n",
              "    </tr>\n",
              "    <tr>\n",
              "      <th>10</th>\n",
              "      <td>reviews</td>\n",
              "      <td>817</td>\n",
              "      <td>3459</td>\n",
              "      <td>1348</td>\n",
              "    </tr>\n",
              "    <tr>\n",
              "      <th>11</th>\n",
              "      <td>shipping</td>\n",
              "      <td>1480</td>\n",
              "      <td>2270</td>\n",
              "      <td>6621</td>\n",
              "    </tr>\n",
              "    <tr>\n",
              "      <th>12</th>\n",
              "      <td>tv-series</td>\n",
              "      <td>612</td>\n",
              "      <td>1746</td>\n",
              "      <td>1699</td>\n",
              "    </tr>\n",
              "    <tr>\n",
              "      <th>13</th>\n",
              "      <td>video-quality</td>\n",
              "      <td>913</td>\n",
              "      <td>3464</td>\n",
              "      <td>1360</td>\n",
              "    </tr>\n",
              "  </tbody>\n",
              "</table>\n",
              "</div>"
            ],
            "text/plain": [
              "                          topic_name review_category             \n",
              "review_category                              Average    Bad  Good\n",
              "0                              books            2058   6663  4118\n",
              "1                 christmas shopping             763   3347  2173\n",
              "2                        electronics             382   1867   698\n",
              "3                              games             329   1010   797\n",
              "4                             movies             858   2218  1750\n",
              "5                              music            1320   3404  3375\n",
              "6                              order             881   4393  1412\n",
              "7                            packing            3596  11887  7048\n",
              "8                product-information            1273   6078  2148\n",
              "9                  refund-and-return            1408   7471  1424\n",
              "10                           reviews             817   3459  1348\n",
              "11                          shipping            1480   2270  6621\n",
              "12                         tv-series             612   1746  1699\n",
              "13                     video-quality             913   3464  1360"
            ]
          },
          "metadata": {
            "tags": []
          },
          "execution_count": 8
        }
      ]
    },
    {
      "cell_type": "code",
      "metadata": {
        "id": "8rvIhRYhWsr1",
        "colab_type": "code",
        "colab": {}
      },
      "source": [
        "def spacy_preprocessing(text):\n",
        "    clean_text=[]\n",
        "    text = re.sub(r\"n\\'t\", \" not\", text)\n",
        "    text = re.sub(r\"\\'re\", \" are\", text)\n",
        "    text = re.sub(r\"\\'s\", \" is\", text)\n",
        "    text = re.sub(r\"\\'d\", \" would\", text)\n",
        "    text = re.sub(r\"\\'ll\", \" will\", text)\n",
        "    text = re.sub(r\"\\'t\", \" not\", text)\n",
        "    text = re.sub(r\"\\'ve\", \" have\", text)\n",
        "    text = re.sub(r\"\\'m\", \" am\", text)\n",
        "    text = re.sub(r\"\\'.\", \"\", text)\n",
        "    pos_tag= ['NUM','PRON']\n",
        "    for token in nlp(text):\n",
        "       #print(token.text), #(token.lemma_ != \"-PRON-\") & \n",
        "       if (token.lemma_ != \"-PRON-\") & (token.text not in '\\n\\n \\n\\n\\n!\"-#$%&()--.*+,-/:;<=>?@[\\\\]^_`{|}~\\t\\n\\'...\\'') & (token.text not in nlp.Defaults.stop_words) & (token.pos_ not in pos_tag) :\n",
        "           clean_text.append(token.lemma_.lower())\n",
        "       elif (token.lemma_ == \"-PRON-\")  & (token.text not in nlp.Defaults.stop_words):\n",
        "           clean_text.append(token.text.lower())\n",
        "       else:\n",
        "           continue\n",
        "    return \" \".join(clean_text)"
      ],
      "execution_count": 0,
      "outputs": []
    },
    {
      "cell_type": "code",
      "metadata": {
        "id": "3App42LUIPjk",
        "colab_type": "code",
        "outputId": "644d6ce4-4001-4d1e-ba94-b72b2d4722ff",
        "colab": {
          "base_uri": "https://localhost:8080/",
          "height": 514
        }
      },
      "source": [
        "clean_data_grouped['percentage_bad']= clean_data_grouped['review_category']['Bad']/(clean_data_grouped['review_category']['Average']+clean_data_grouped['review_category']['Good']+clean_data_grouped['review_category']['Bad'])\n",
        "clean_data_grouped=clean_data_grouped.sort_values(by=['percentage_bad'], ascending=False)\n",
        "clean_data_grouped"
      ],
      "execution_count": 9,
      "outputs": [
        {
          "output_type": "execute_result",
          "data": {
            "text/html": [
              "<div>\n",
              "<style scoped>\n",
              "    .dataframe tbody tr th:only-of-type {\n",
              "        vertical-align: middle;\n",
              "    }\n",
              "\n",
              "    .dataframe tbody tr th {\n",
              "        vertical-align: top;\n",
              "    }\n",
              "\n",
              "    .dataframe thead tr th {\n",
              "        text-align: left;\n",
              "    }\n",
              "</style>\n",
              "<table border=\"1\" class=\"dataframe\">\n",
              "  <thead>\n",
              "    <tr>\n",
              "      <th></th>\n",
              "      <th>topic_name</th>\n",
              "      <th colspan=\"3\" halign=\"left\">review_category</th>\n",
              "      <th>percentage_bad</th>\n",
              "    </tr>\n",
              "    <tr>\n",
              "      <th>review_category</th>\n",
              "      <th></th>\n",
              "      <th>Average</th>\n",
              "      <th>Bad</th>\n",
              "      <th>Good</th>\n",
              "      <th></th>\n",
              "    </tr>\n",
              "  </thead>\n",
              "  <tbody>\n",
              "    <tr>\n",
              "      <th>9</th>\n",
              "      <td>refund-and-return</td>\n",
              "      <td>1408</td>\n",
              "      <td>7471</td>\n",
              "      <td>1424</td>\n",
              "      <td>0.725129</td>\n",
              "    </tr>\n",
              "    <tr>\n",
              "      <th>6</th>\n",
              "      <td>order</td>\n",
              "      <td>881</td>\n",
              "      <td>4393</td>\n",
              "      <td>1412</td>\n",
              "      <td>0.657045</td>\n",
              "    </tr>\n",
              "    <tr>\n",
              "      <th>8</th>\n",
              "      <td>product-information</td>\n",
              "      <td>1273</td>\n",
              "      <td>6078</td>\n",
              "      <td>2148</td>\n",
              "      <td>0.639857</td>\n",
              "    </tr>\n",
              "    <tr>\n",
              "      <th>2</th>\n",
              "      <td>electronics</td>\n",
              "      <td>382</td>\n",
              "      <td>1867</td>\n",
              "      <td>698</td>\n",
              "      <td>0.633526</td>\n",
              "    </tr>\n",
              "    <tr>\n",
              "      <th>10</th>\n",
              "      <td>reviews</td>\n",
              "      <td>817</td>\n",
              "      <td>3459</td>\n",
              "      <td>1348</td>\n",
              "      <td>0.615043</td>\n",
              "    </tr>\n",
              "    <tr>\n",
              "      <th>13</th>\n",
              "      <td>video-quality</td>\n",
              "      <td>913</td>\n",
              "      <td>3464</td>\n",
              "      <td>1360</td>\n",
              "      <td>0.603800</td>\n",
              "    </tr>\n",
              "    <tr>\n",
              "      <th>1</th>\n",
              "      <td>christmas shopping</td>\n",
              "      <td>763</td>\n",
              "      <td>3347</td>\n",
              "      <td>2173</td>\n",
              "      <td>0.532707</td>\n",
              "    </tr>\n",
              "    <tr>\n",
              "      <th>7</th>\n",
              "      <td>packing</td>\n",
              "      <td>3596</td>\n",
              "      <td>11887</td>\n",
              "      <td>7048</td>\n",
              "      <td>0.527584</td>\n",
              "    </tr>\n",
              "    <tr>\n",
              "      <th>0</th>\n",
              "      <td>books</td>\n",
              "      <td>2058</td>\n",
              "      <td>6663</td>\n",
              "      <td>4118</td>\n",
              "      <td>0.518966</td>\n",
              "    </tr>\n",
              "    <tr>\n",
              "      <th>3</th>\n",
              "      <td>games</td>\n",
              "      <td>329</td>\n",
              "      <td>1010</td>\n",
              "      <td>797</td>\n",
              "      <td>0.472846</td>\n",
              "    </tr>\n",
              "    <tr>\n",
              "      <th>4</th>\n",
              "      <td>movies</td>\n",
              "      <td>858</td>\n",
              "      <td>2218</td>\n",
              "      <td>1750</td>\n",
              "      <td>0.459594</td>\n",
              "    </tr>\n",
              "    <tr>\n",
              "      <th>12</th>\n",
              "      <td>tv-series</td>\n",
              "      <td>612</td>\n",
              "      <td>1746</td>\n",
              "      <td>1699</td>\n",
              "      <td>0.430367</td>\n",
              "    </tr>\n",
              "    <tr>\n",
              "      <th>5</th>\n",
              "      <td>music</td>\n",
              "      <td>1320</td>\n",
              "      <td>3404</td>\n",
              "      <td>3375</td>\n",
              "      <td>0.420299</td>\n",
              "    </tr>\n",
              "    <tr>\n",
              "      <th>11</th>\n",
              "      <td>shipping</td>\n",
              "      <td>1480</td>\n",
              "      <td>2270</td>\n",
              "      <td>6621</td>\n",
              "      <td>0.218880</td>\n",
              "    </tr>\n",
              "  </tbody>\n",
              "</table>\n",
              "</div>"
            ],
            "text/plain": [
              "                          topic_name review_category  ...       percentage_bad\n",
              "review_category                              Average  ...  Good               \n",
              "9                  refund-and-return            1408  ...  1424       0.725129\n",
              "6                              order             881  ...  1412       0.657045\n",
              "8                product-information            1273  ...  2148       0.639857\n",
              "2                        electronics             382  ...   698       0.633526\n",
              "10                           reviews             817  ...  1348       0.615043\n",
              "13                     video-quality             913  ...  1360       0.603800\n",
              "1                 christmas shopping             763  ...  2173       0.532707\n",
              "7                            packing            3596  ...  7048       0.527584\n",
              "0                              books            2058  ...  4118       0.518966\n",
              "3                              games             329  ...   797       0.472846\n",
              "4                             movies             858  ...  1750       0.459594\n",
              "12                         tv-series             612  ...  1699       0.430367\n",
              "5                              music            1320  ...  3375       0.420299\n",
              "11                          shipping            1480  ...  6621       0.218880\n",
              "\n",
              "[14 rows x 5 columns]"
            ]
          },
          "metadata": {
            "tags": []
          },
          "execution_count": 9
        }
      ]
    },
    {
      "cell_type": "code",
      "metadata": {
        "id": "ikWGWHZ-JXA_",
        "colab_type": "code",
        "outputId": "1989a8f5-e14e-4f45-f513-c7a98c56c921",
        "colab": {
          "base_uri": "https://localhost:8080/",
          "height": 306
        }
      },
      "source": [
        "filtered_data = clean_data[clean_data['topic_name'].isin(['movies','music','books'])]\n",
        "filtered_data.head()"
      ],
      "execution_count": 10,
      "outputs": [
        {
          "output_type": "execute_result",
          "data": {
            "text/html": [
              "<div>\n",
              "<style scoped>\n",
              "    .dataframe tbody tr th:only-of-type {\n",
              "        vertical-align: middle;\n",
              "    }\n",
              "\n",
              "    .dataframe tbody tr th {\n",
              "        vertical-align: top;\n",
              "    }\n",
              "\n",
              "    .dataframe thead th {\n",
              "        text-align: right;\n",
              "    }\n",
              "</style>\n",
              "<table border=\"1\" class=\"dataframe\">\n",
              "  <thead>\n",
              "    <tr style=\"text-align: right;\">\n",
              "      <th></th>\n",
              "      <th>Unnamed: 0</th>\n",
              "      <th>rating</th>\n",
              "      <th>title</th>\n",
              "      <th>review</th>\n",
              "      <th>review_category</th>\n",
              "      <th>company</th>\n",
              "      <th>clean_review</th>\n",
              "      <th>topic_category</th>\n",
              "      <th>topic_name</th>\n",
              "    </tr>\n",
              "  </thead>\n",
              "  <tbody>\n",
              "    <tr>\n",
              "      <th>0</th>\n",
              "      <td>0</td>\n",
              "      <td>1</td>\n",
              "      <td>Buyer beware</td>\n",
              "      <td>This is a selfpublished book and if you want t...</td>\n",
              "      <td>Bad</td>\n",
              "      <td>Amazon</td>\n",
              "      <td>this selfpublished book want know whyread para...</td>\n",
              "      <td>1</td>\n",
              "      <td>books</td>\n",
              "    </tr>\n",
              "    <tr>\n",
              "      <th>8</th>\n",
              "      <td>8</td>\n",
              "      <td>1</td>\n",
              "      <td>ADDONICS PORTABLE CD DRIVE - I am disappointed...</td>\n",
              "      <td>I am disappointed in its performance It seems ...</td>\n",
              "      <td>Bad</td>\n",
              "      <td>Amazon</td>\n",
              "      <td>disappoint performance underpowered constantly...</td>\n",
              "      <td>3</td>\n",
              "      <td>music</td>\n",
              "    </tr>\n",
              "    <tr>\n",
              "      <th>17</th>\n",
              "      <td>17</td>\n",
              "      <td>5</td>\n",
              "      <td>Cruel &amp; Unusual</td>\n",
              "      <td>Received the book promptly and in great condit...</td>\n",
              "      <td>Good</td>\n",
              "      <td>Amazon</td>\n",
              "      <td>receive book promptly great condition thank am...</td>\n",
              "      <td>1</td>\n",
              "      <td>books</td>\n",
              "    </tr>\n",
              "    <tr>\n",
              "      <th>18</th>\n",
              "      <td>18</td>\n",
              "      <td>5</td>\n",
              "      <td>Great book.</td>\n",
              "      <td>Not as spell binding as others in this series ...</td>\n",
              "      <td>Good</td>\n",
              "      <td>Amazon</td>\n",
              "      <td>not spell bind series good take get couple cha...</td>\n",
              "      <td>1</td>\n",
              "      <td>books</td>\n",
              "    </tr>\n",
              "    <tr>\n",
              "      <th>19</th>\n",
              "      <td>19</td>\n",
              "      <td>4</td>\n",
              "      <td>Author's comments</td>\n",
              "      <td>As the author of this book I would just like t...</td>\n",
              "      <td>Good</td>\n",
              "      <td>Amazon</td>\n",
              "      <td>as author book like successfully publish uk re...</td>\n",
              "      <td>1</td>\n",
              "      <td>books</td>\n",
              "    </tr>\n",
              "  </tbody>\n",
              "</table>\n",
              "</div>"
            ],
            "text/plain": [
              "    Unnamed: 0  rating  ... topic_category topic_name\n",
              "0            0       1  ...              1      books\n",
              "8            8       1  ...              3      music\n",
              "17          17       5  ...              1      books\n",
              "18          18       5  ...              1      books\n",
              "19          19       4  ...              1      books\n",
              "\n",
              "[5 rows x 9 columns]"
            ]
          },
          "metadata": {
            "tags": []
          },
          "execution_count": 10
        }
      ]
    },
    {
      "cell_type": "markdown",
      "metadata": {
        "id": "D-WM6UVbuzzf",
        "colab_type": "text"
      },
      "source": [
        "# prepare text samples and their labels\n",
        "\n"
      ]
    },
    {
      "cell_type": "code",
      "metadata": {
        "id": "qasxOK4Fxurz",
        "colab_type": "code",
        "colab": {}
      },
      "source": [
        "def create_dummies(df,column_name):\n",
        "    dummies = pd.get_dummies(df[column_name],prefix=column_name)\n",
        "    df = pd.concat([df,dummies],axis=1)\n",
        "    return df"
      ],
      "execution_count": 0,
      "outputs": []
    },
    {
      "cell_type": "code",
      "metadata": {
        "id": "GSZVjbbYxwxj",
        "colab_type": "code",
        "colab": {}
      },
      "source": [
        "for column in ['review_category','topic_name']:\n",
        " filtered_data= create_dummies(filtered_data, column)"
      ],
      "execution_count": 0,
      "outputs": []
    },
    {
      "cell_type": "code",
      "metadata": {
        "id": "fvGlzVPGycpq",
        "colab_type": "code",
        "outputId": "1b9509b4-0bca-4d2e-e290-c146b297b541",
        "colab": {
          "base_uri": "https://localhost:8080/",
          "height": 1000
        }
      },
      "source": [
        "filtered_data"
      ],
      "execution_count": 13,
      "outputs": [
        {
          "output_type": "execute_result",
          "data": {
            "text/html": [
              "<div>\n",
              "<style scoped>\n",
              "    .dataframe tbody tr th:only-of-type {\n",
              "        vertical-align: middle;\n",
              "    }\n",
              "\n",
              "    .dataframe tbody tr th {\n",
              "        vertical-align: top;\n",
              "    }\n",
              "\n",
              "    .dataframe thead th {\n",
              "        text-align: right;\n",
              "    }\n",
              "</style>\n",
              "<table border=\"1\" class=\"dataframe\">\n",
              "  <thead>\n",
              "    <tr style=\"text-align: right;\">\n",
              "      <th></th>\n",
              "      <th>Unnamed: 0</th>\n",
              "      <th>rating</th>\n",
              "      <th>title</th>\n",
              "      <th>review</th>\n",
              "      <th>review_category</th>\n",
              "      <th>company</th>\n",
              "      <th>clean_review</th>\n",
              "      <th>topic_category</th>\n",
              "      <th>topic_name</th>\n",
              "      <th>review_category_Average</th>\n",
              "      <th>review_category_Bad</th>\n",
              "      <th>review_category_Good</th>\n",
              "      <th>topic_name_books</th>\n",
              "      <th>topic_name_movies</th>\n",
              "      <th>topic_name_music</th>\n",
              "    </tr>\n",
              "  </thead>\n",
              "  <tbody>\n",
              "    <tr>\n",
              "      <th>0</th>\n",
              "      <td>0</td>\n",
              "      <td>1</td>\n",
              "      <td>Buyer beware</td>\n",
              "      <td>This is a selfpublished book and if you want t...</td>\n",
              "      <td>Bad</td>\n",
              "      <td>Amazon</td>\n",
              "      <td>this selfpublished book want know whyread para...</td>\n",
              "      <td>1</td>\n",
              "      <td>books</td>\n",
              "      <td>0</td>\n",
              "      <td>1</td>\n",
              "      <td>0</td>\n",
              "      <td>1</td>\n",
              "      <td>0</td>\n",
              "      <td>0</td>\n",
              "    </tr>\n",
              "    <tr>\n",
              "      <th>8</th>\n",
              "      <td>8</td>\n",
              "      <td>1</td>\n",
              "      <td>ADDONICS PORTABLE CD DRIVE - I am disappointed...</td>\n",
              "      <td>I am disappointed in its performance It seems ...</td>\n",
              "      <td>Bad</td>\n",
              "      <td>Amazon</td>\n",
              "      <td>disappoint performance underpowered constantly...</td>\n",
              "      <td>3</td>\n",
              "      <td>music</td>\n",
              "      <td>0</td>\n",
              "      <td>1</td>\n",
              "      <td>0</td>\n",
              "      <td>0</td>\n",
              "      <td>0</td>\n",
              "      <td>1</td>\n",
              "    </tr>\n",
              "    <tr>\n",
              "      <th>17</th>\n",
              "      <td>17</td>\n",
              "      <td>5</td>\n",
              "      <td>Cruel &amp; Unusual</td>\n",
              "      <td>Received the book promptly and in great condit...</td>\n",
              "      <td>Good</td>\n",
              "      <td>Amazon</td>\n",
              "      <td>receive book promptly great condition thank am...</td>\n",
              "      <td>1</td>\n",
              "      <td>books</td>\n",
              "      <td>0</td>\n",
              "      <td>0</td>\n",
              "      <td>1</td>\n",
              "      <td>1</td>\n",
              "      <td>0</td>\n",
              "      <td>0</td>\n",
              "    </tr>\n",
              "    <tr>\n",
              "      <th>18</th>\n",
              "      <td>18</td>\n",
              "      <td>5</td>\n",
              "      <td>Great book.</td>\n",
              "      <td>Not as spell binding as others in this series ...</td>\n",
              "      <td>Good</td>\n",
              "      <td>Amazon</td>\n",
              "      <td>not spell bind series good take get couple cha...</td>\n",
              "      <td>1</td>\n",
              "      <td>books</td>\n",
              "      <td>0</td>\n",
              "      <td>0</td>\n",
              "      <td>1</td>\n",
              "      <td>1</td>\n",
              "      <td>0</td>\n",
              "      <td>0</td>\n",
              "    </tr>\n",
              "    <tr>\n",
              "      <th>19</th>\n",
              "      <td>19</td>\n",
              "      <td>4</td>\n",
              "      <td>Author's comments</td>\n",
              "      <td>As the author of this book I would just like t...</td>\n",
              "      <td>Good</td>\n",
              "      <td>Amazon</td>\n",
              "      <td>as author book like successfully publish uk re...</td>\n",
              "      <td>1</td>\n",
              "      <td>books</td>\n",
              "      <td>0</td>\n",
              "      <td>0</td>\n",
              "      <td>1</td>\n",
              "      <td>1</td>\n",
              "      <td>0</td>\n",
              "      <td>0</td>\n",
              "    </tr>\n",
              "    <tr>\n",
              "      <th>...</th>\n",
              "      <td>...</td>\n",
              "      <td>...</td>\n",
              "      <td>...</td>\n",
              "      <td>...</td>\n",
              "      <td>...</td>\n",
              "      <td>...</td>\n",
              "      <td>...</td>\n",
              "      <td>...</td>\n",
              "      <td>...</td>\n",
              "      <td>...</td>\n",
              "      <td>...</td>\n",
              "      <td>...</td>\n",
              "      <td>...</td>\n",
              "      <td>...</td>\n",
              "      <td>...</td>\n",
              "    </tr>\n",
              "    <tr>\n",
              "      <th>111928</th>\n",
              "      <td>111928</td>\n",
              "      <td>4</td>\n",
              "      <td>I love vampires.</td>\n",
              "      <td>I will admit I am biased I like almost any vam...</td>\n",
              "      <td>Good</td>\n",
              "      <td>Amazon</td>\n",
              "      <td>admit biased like vampire movie tv love buffy ...</td>\n",
              "      <td>2</td>\n",
              "      <td>movies</td>\n",
              "      <td>0</td>\n",
              "      <td>0</td>\n",
              "      <td>1</td>\n",
              "      <td>0</td>\n",
              "      <td>1</td>\n",
              "      <td>0</td>\n",
              "    </tr>\n",
              "    <tr>\n",
              "      <th>111929</th>\n",
              "      <td>111929</td>\n",
              "      <td>4</td>\n",
              "      <td>reading</td>\n",
              "      <td>these book has a lot of different learning act...</td>\n",
              "      <td>Good</td>\n",
              "      <td>Amazon</td>\n",
              "      <td>book lot different learn activie word like pig...</td>\n",
              "      <td>1</td>\n",
              "      <td>books</td>\n",
              "      <td>0</td>\n",
              "      <td>0</td>\n",
              "      <td>1</td>\n",
              "      <td>1</td>\n",
              "      <td>0</td>\n",
              "      <td>0</td>\n",
              "    </tr>\n",
              "    <tr>\n",
              "      <th>111930</th>\n",
              "      <td>111930</td>\n",
              "      <td>2</td>\n",
              "      <td>Uninspired</td>\n",
              "      <td>Firstly the tracklist for this single does not...</td>\n",
              "      <td>Bad</td>\n",
              "      <td>Amazon</td>\n",
              "      <td>firstly tracklist single match cover art pictu...</td>\n",
              "      <td>3</td>\n",
              "      <td>music</td>\n",
              "      <td>0</td>\n",
              "      <td>1</td>\n",
              "      <td>0</td>\n",
              "      <td>0</td>\n",
              "      <td>0</td>\n",
              "      <td>1</td>\n",
              "    </tr>\n",
              "    <tr>\n",
              "      <th>111931</th>\n",
              "      <td>111931</td>\n",
              "      <td>5</td>\n",
              "      <td>Great!</td>\n",
              "      <td>I read this book when I was a teenager and fee...</td>\n",
              "      <td>Good</td>\n",
              "      <td>Amazon</td>\n",
              "      <td>read book teenager feel n love low character w...</td>\n",
              "      <td>1</td>\n",
              "      <td>books</td>\n",
              "      <td>0</td>\n",
              "      <td>0</td>\n",
              "      <td>1</td>\n",
              "      <td>1</td>\n",
              "      <td>0</td>\n",
              "      <td>0</td>\n",
              "    </tr>\n",
              "    <tr>\n",
              "      <th>111935</th>\n",
              "      <td>111935</td>\n",
              "      <td>3</td>\n",
              "      <td>0</td>\n",
              "      <td>There is a better Music single out available S...</td>\n",
              "      <td>Average</td>\n",
              "      <td>Amazon</td>\n",
              "      <td>there well music single available since amazon...</td>\n",
              "      <td>3</td>\n",
              "      <td>music</td>\n",
              "      <td>1</td>\n",
              "      <td>0</td>\n",
              "      <td>0</td>\n",
              "      <td>0</td>\n",
              "      <td>0</td>\n",
              "      <td>1</td>\n",
              "    </tr>\n",
              "  </tbody>\n",
              "</table>\n",
              "<p>25764 rows × 15 columns</p>\n",
              "</div>"
            ],
            "text/plain": [
              "        Unnamed: 0  rating  ... topic_name_movies topic_name_music\n",
              "0                0       1  ...                 0                0\n",
              "8                8       1  ...                 0                1\n",
              "17              17       5  ...                 0                0\n",
              "18              18       5  ...                 0                0\n",
              "19              19       4  ...                 0                0\n",
              "...            ...     ...  ...               ...              ...\n",
              "111928      111928       4  ...                 1                0\n",
              "111929      111929       4  ...                 0                0\n",
              "111930      111930       2  ...                 0                1\n",
              "111931      111931       5  ...                 0                0\n",
              "111935      111935       3  ...                 0                1\n",
              "\n",
              "[25764 rows x 15 columns]"
            ]
          },
          "metadata": {
            "tags": []
          },
          "execution_count": 13
        }
      ]
    },
    {
      "cell_type": "code",
      "metadata": {
        "id": "0_LwduZNzUXn",
        "colab_type": "code",
        "outputId": "557a01c7-3c86-4de0-a212-79cf9702fee7",
        "colab": {
          "base_uri": "https://localhost:8080/",
          "height": 119
        }
      },
      "source": [
        "filtered_data.columns"
      ],
      "execution_count": 14,
      "outputs": [
        {
          "output_type": "execute_result",
          "data": {
            "text/plain": [
              "Index(['Unnamed: 0', 'rating', 'title', 'review', 'review_category', 'company',\n",
              "       'clean_review', 'topic_category', 'topic_name',\n",
              "       'review_category_Average', 'review_category_Bad',\n",
              "       'review_category_Good', 'topic_name_books', 'topic_name_movies',\n",
              "       'topic_name_music'],\n",
              "      dtype='object')"
            ]
          },
          "metadata": {
            "tags": []
          },
          "execution_count": 14
        }
      ]
    },
    {
      "cell_type": "code",
      "metadata": {
        "id": "rIbg06bky-8L",
        "colab_type": "code",
        "outputId": "47ddc2ce-2636-4cd8-972a-0b8574d3044b",
        "colab": {
          "base_uri": "https://localhost:8080/",
          "height": 156
        }
      },
      "source": [
        "print('Loading in comments...')\n",
        "print(filtered_data[\"clean_review\"].dtype)\n",
        "print(\"Transforamation from pandas colums to numpy array using .values\")\n",
        "sentences = filtered_data[\"clean_review\"].fillna(\"DUMMY_VALUE\").values\n",
        "possible_labels = ['review_category_Average', 'review_category_Bad',\n",
        "       'review_category_Good', 'topic_name_books', 'topic_name_movies',\n",
        "       'topic_name_music']\n",
        "targets = filtered_data[possible_labels].values\n",
        "print(type(sentences))\n",
        "print(type(targets))\n",
        "print((sentences[0]))\n",
        "print((targets[0]))"
      ],
      "execution_count": 15,
      "outputs": [
        {
          "output_type": "stream",
          "text": [
            "Loading in comments...\n",
            "object\n",
            "Transforamation from pandas colums to numpy array using .values\n",
            "<class 'numpy.ndarray'>\n",
            "<class 'numpy.ndarray'>\n",
            "this selfpublished book want know whyread paragraph those star review write ms haddon family friendsor imagine read thingi spend evening book friend hysteric read bit piece definitely bad enter kind bad book contest believe amazon sell kind thing maybe offer 8th grade term paper to kill mockingbird\"a book sure ms haddon hear anyway mood send book jokestay far far away\n",
            "[0 1 0 1 0 0]\n"
          ],
          "name": "stdout"
        }
      ]
    },
    {
      "cell_type": "markdown",
      "metadata": {
        "id": "u-oB-Ih2B9V8",
        "colab_type": "text"
      },
      "source": [
        "**Setting up initial configuration**"
      ]
    },
    {
      "cell_type": "code",
      "metadata": {
        "id": "A3TM3BAAB8Pu",
        "colab_type": "code",
        "colab": {}
      },
      "source": [
        "# some configuration\n",
        "MAX_SEQUENCE_LENGTH = 100\n",
        "MAX_VOCAB_SIZE = 20000\n",
        "EMBEDDING_DIM = 50\n",
        "VALIDATION_SPLIT = 0.2\n",
        "BATCH_SIZE = 128\n",
        "EPOCHS = 10\n",
        "output_dir = '/gdrive/My Drive/amazon_review_full_csv'"
      ],
      "execution_count": 0,
      "outputs": []
    },
    {
      "cell_type": "markdown",
      "metadata": {
        "id": "Zsum-cpWBlju",
        "colab_type": "text"
      },
      "source": [
        "Tokenizing the data"
      ]
    },
    {
      "cell_type": "code",
      "metadata": {
        "id": "dnSCI2zjBjlJ",
        "colab_type": "code",
        "colab": {}
      },
      "source": [
        "# convert the sentences (strings) into integers\n",
        "tokenizer = Tokenizer(num_words=MAX_VOCAB_SIZE)\n",
        "tokenizer.fit_on_texts(sentences)\n",
        "sequences = tokenizer.texts_to_sequences(sentences)"
      ],
      "execution_count": 0,
      "outputs": []
    },
    {
      "cell_type": "code",
      "metadata": {
        "id": "kJlwvCruCQ1K",
        "colab_type": "code",
        "outputId": "a9cd1162-e2d2-45b0-8a6c-197a860d60d0",
        "colab": {
          "base_uri": "https://localhost:8080/",
          "height": 51
        }
      },
      "source": [
        "sequences[1:3]"
      ],
      "execution_count": 18,
      "outputs": [
        {
          "output_type": "execute_result",
          "data": {
            "text/plain": [
              "[[231, 421, 1450, 46, 8, 5, 258, 12, 8627, 29, 46, 73, 2],\n",
              " [68, 1, 1388, 13, 189, 103, 2, 1060, 6, 1]]"
            ]
          },
          "metadata": {
            "tags": []
          },
          "execution_count": 18
        }
      ]
    },
    {
      "cell_type": "code",
      "metadata": {
        "id": "5UTBkyS2f-F2",
        "colab_type": "code",
        "colab": {}
      },
      "source": [
        "#word_seq = [[idx2word[i] for i in sequences[j]] for j in range(len(sequences))]\n",
        "#word_seq[1:3]"
      ],
      "execution_count": 0,
      "outputs": []
    },
    {
      "cell_type": "markdown",
      "metadata": {
        "id": "NiGr1ygjHO-0",
        "colab_type": "text"
      },
      "source": [
        "Creating Dictionary for word-integer mapping"
      ]
    },
    {
      "cell_type": "code",
      "metadata": {
        "id": "twf3cWqJCeHg",
        "colab_type": "code",
        "outputId": "48741068-97a2-43ce-9fcb-e362d7fba90b",
        "colab": {
          "base_uri": "https://localhost:8080/",
          "height": 68
        }
      },
      "source": [
        "idx2word = tokenizer.index_word\n",
        "#word2idx = {k:v for v,k in idx2word.items()}\n",
        "word2idx = tokenizer.word_index\n",
        "print('Found %s unique tokens.' % len(word2idx))\n",
        "print(word2idx['instead'])\n",
        "print(idx2word[157])"
      ],
      "execution_count": 20,
      "outputs": [
        {
          "output_type": "stream",
          "text": [
            "Found 71701 unique tokens.\n",
            "157\n",
            "instead\n"
          ],
          "name": "stdout"
        }
      ]
    },
    {
      "cell_type": "markdown",
      "metadata": {
        "id": "EoDVoPZIU0jx",
        "colab_type": "text"
      },
      "source": [
        "Finding out the Max Sequence Lenght and  pad sequences so that we get a N x T matrix"
      ]
    },
    {
      "cell_type": "code",
      "metadata": {
        "id": "hgSvXmIVUzva",
        "colab_type": "code",
        "outputId": "a8474e5f-9b6a-4e1d-bd44-6553ea643c55",
        "colab": {
          "base_uri": "https://localhost:8080/",
          "height": 34
        }
      },
      "source": [
        "seq_len = [len(sent) for sent in sequences]\n",
        "max_seq_len = max(seq_len)\n",
        "max_seq_len"
      ],
      "execution_count": 21,
      "outputs": [
        {
          "output_type": "execute_result",
          "data": {
            "text/plain": [
              "133"
            ]
          },
          "metadata": {
            "tags": []
          },
          "execution_count": 21
        }
      ]
    },
    {
      "cell_type": "code",
      "metadata": {
        "id": "SuhkVJdVVWji",
        "colab_type": "code",
        "outputId": "332bf7f5-eb72-412e-f2f9-e85d5717c595",
        "colab": {
          "base_uri": "https://localhost:8080/",
          "height": 34
        }
      },
      "source": [
        "padded_data = pad_sequences(sequences, maxlen=MAX_SEQUENCE_LENGTH)\n",
        "print('Shape of data tensor:', padded_data.shape)"
      ],
      "execution_count": 22,
      "outputs": [
        {
          "output_type": "stream",
          "text": [
            "Shape of data tensor: (25764, 100)\n"
          ],
          "name": "stdout"
        }
      ]
    },
    {
      "cell_type": "code",
      "metadata": {
        "id": "GJ4sjan-V4IN",
        "colab_type": "code",
        "outputId": "79c88938-7d3b-4442-b6ac-af0d60a02951",
        "colab": {
          "base_uri": "https://localhost:8080/",
          "height": 221
        }
      },
      "source": [
        "padded_data[5]"
      ],
      "execution_count": 23,
      "outputs": [
        {
          "output_type": "execute_result",
          "data": {
            "text/plain": [
              "array([    0,     0,     0,     0,     0,     0,     0,     0,     0,\n",
              "           0,     0,     0,     0,     0,     0,     0,     0,     0,\n",
              "           0,     0,     0,     0,   525,  1600,   183,     8,   148,\n",
              "           4,   112,   307,    33,  1612,    88,    31,   859,   130,\n",
              "          28,    72,    11,   112,    23,   325,   115,    31,  1085,\n",
              "         136,   560,  1001,   139,    41,     4,    16,     8,    63,\n",
              "           4,   365,   541,    16,     4,   285,   315,    26,     9,\n",
              "        3834,  5349,     4,    26,     9,  3834,  5349,     4,     7,\n",
              "         141,    10,     4,   184,  9483,   153,    10,     7,     6,\n",
              "        5349,    78,  1778,  2658,   199,   727,    53,  3834,  5349,\n",
              "       10617,    72,   220,     4,  1045,   155,   296,  1382,  1237,\n",
              "         148], dtype=int32)"
            ]
          },
          "metadata": {
            "tags": []
          },
          "execution_count": 23
        }
      ]
    },
    {
      "cell_type": "markdown",
      "metadata": {
        "id": "2f5NgqDpgQt5",
        "colab_type": "text"
      },
      "source": [
        "Creating the mebedding Matrix from Glove"
      ]
    },
    {
      "cell_type": "code",
      "metadata": {
        "id": "ibb3tKlWgPo1",
        "colab_type": "code",
        "outputId": "9987e120-0b1d-4855-8e5f-5a3f1bb41952",
        "colab": {
          "base_uri": "https://localhost:8080/",
          "height": 51
        }
      },
      "source": [
        "# load in pre-trained word vectors\n",
        "print('Loading word vectors...')\n",
        "word2vec = {}\n",
        "with open(os.path.join('/gdrive/My Drive/amazon_review_full_csv/glove.6B.%sd.txt' % EMBEDDING_DIM)) as f:\n",
        "  for line in f:\n",
        "    values = line.split()\n",
        "    word = values[0]\n",
        "    value = np.asarray(values[1:] , dtype='float32')\n",
        "    word2vec[word]=value\n",
        "print(len(word2vec))"
      ],
      "execution_count": 24,
      "outputs": [
        {
          "output_type": "stream",
          "text": [
            "Loading word vectors...\n",
            "400000\n"
          ],
          "name": "stdout"
        }
      ]
    },
    {
      "cell_type": "code",
      "metadata": {
        "id": "YP8LGW1oWBCU",
        "colab_type": "code",
        "outputId": "e36bb68d-b141-4383-c5c3-00d0cb77b50e",
        "colab": {
          "base_uri": "https://localhost:8080/",
          "height": 187
        }
      },
      "source": [
        "# prepare embedding matrix\n",
        "#print('Filling pre-trained embeddings...')\n",
        "num_words = min(MAX_VOCAB_SIZE, len(word2idx) + 1)\n",
        "print(num_words)\n",
        "embedding_matrix = np.zeros((num_words, EMBEDDING_DIM))\n",
        "embedding_matrix\n",
        "print((embedding_matrix))\n",
        "print(type(embedding_matrix))\n",
        "print(embedding_matrix.shape)"
      ],
      "execution_count": 25,
      "outputs": [
        {
          "output_type": "stream",
          "text": [
            "20000\n",
            "[[0. 0. 0. ... 0. 0. 0.]\n",
            " [0. 0. 0. ... 0. 0. 0.]\n",
            " [0. 0. 0. ... 0. 0. 0.]\n",
            " ...\n",
            " [0. 0. 0. ... 0. 0. 0.]\n",
            " [0. 0. 0. ... 0. 0. 0.]\n",
            " [0. 0. 0. ... 0. 0. 0.]]\n",
            "<class 'numpy.ndarray'>\n",
            "(20000, 50)\n"
          ],
          "name": "stdout"
        }
      ]
    },
    {
      "cell_type": "markdown",
      "metadata": {
        "id": "y1ZyewyZp_lq",
        "colab_type": "text"
      },
      "source": [
        "Filling the empty embedding matrix with the vector values from the Glove for the vocublary and vocubalry size of our dataset"
      ]
    },
    {
      "cell_type": "code",
      "metadata": {
        "id": "XjKbIqY-ooIx",
        "colab_type": "code",
        "outputId": "3ea5b962-6a5e-4a0b-aae3-5229c2fc8fbb",
        "colab": {
          "base_uri": "https://localhost:8080/",
          "height": 255
        }
      },
      "source": [
        "\n",
        "for word,i in word2idx.items():\n",
        "  #print(word)\n",
        "  #print(i)\n",
        "  if i < MAX_VOCAB_SIZE:\n",
        "    embedding_vector= word2vec.get(word)\n",
        "    if embedding_vector is not None:\n",
        "      embedding_matrix[i]=embedding_vector\n",
        "print(embedding_matrix.shape)\n",
        "print((embedding_matrix))"
      ],
      "execution_count": 26,
      "outputs": [
        {
          "output_type": "stream",
          "text": [
            "(20000, 50)\n",
            "[[ 0.          0.          0.         ...  0.          0.\n",
            "   0.        ]\n",
            " [-0.0076543   0.93456    -0.73189002 ... -0.089847   -0.27223\n",
            "  -0.0088736 ]\n",
            " [ 0.56818998 -0.95608997  0.51209003 ... -0.16356     0.059135\n",
            "  -0.76425999]\n",
            " ...\n",
            " [ 0.          0.          0.         ...  0.          0.\n",
            "   0.        ]\n",
            " [-0.59521002 -0.82484001 -0.88629001 ...  0.39816999 -0.25731\n",
            "   0.40994   ]\n",
            " [ 0.48909    -0.071652    0.44681001 ... -0.98063999  0.29967001\n",
            "  -0.56155002]]\n"
          ],
          "name": "stdout"
        }
      ]
    },
    {
      "cell_type": "markdown",
      "metadata": {
        "id": "1--zqhU_rMrf",
        "colab_type": "text"
      },
      "source": [
        "Creating an Embedding Layer"
      ]
    },
    {
      "cell_type": "code",
      "metadata": {
        "id": "PyzSY956rMCP",
        "colab_type": "code",
        "outputId": "876df5b0-cfc0-4ab7-f944-c0a3d385967a",
        "colab": {
          "base_uri": "https://localhost:8080/",
          "height": 71
        }
      },
      "source": [
        "embedding_layer = Embedding(\n",
        "    num_words,\n",
        "    EMBEDDING_DIM,\n",
        "    weights=[embedding_matrix],\n",
        "    input_length=MAX_SEQUENCE_LENGTH,\n",
        "    trainable=False\n",
        ")"
      ],
      "execution_count": 27,
      "outputs": [
        {
          "output_type": "stream",
          "text": [
            "WARNING:tensorflow:From /usr/local/lib/python3.6/dist-packages/keras/backend/tensorflow_backend.py:66: The name tf.get_default_graph is deprecated. Please use tf.compat.v1.get_default_graph instead.\n",
            "\n"
          ],
          "name": "stdout"
        }
      ]
    },
    {
      "cell_type": "markdown",
      "metadata": {
        "id": "VZorlHUVtKxy",
        "colab_type": "text"
      },
      "source": [
        "Building the model now"
      ]
    },
    {
      "cell_type": "code",
      "metadata": {
        "id": "FqKZ1tNbtPIV",
        "colab_type": "code",
        "outputId": "2695f657-c97e-4a25-a430-fb6617067c7e",
        "colab": {
          "base_uri": "https://localhost:8080/",
          "height": 1000
        }
      },
      "source": [
        "input_ = Input(shape=(MAX_SEQUENCE_LENGTH,))\n",
        "embeddings = embedding_layer(input_)\n",
        "drop_embed_layer = SpatialDropout1D(.2, name='drop_embed')(embeddings)\n",
        "\n",
        "conv1 = Conv1D(256, 20,strides=1, activation='relu')(drop_embed_layer)\n",
        "maxp_1 = GlobalMaxPooling1D(name='maxp_1')(conv1)\n",
        "\n",
        "conv2= Conv1D(256, 10, activation='relu' )(drop_embed_layer)\n",
        "maxp_2 = GlobalMaxPooling1D(name='maxp_2')(conv2)\n",
        "\n",
        "conv3= Conv1D(256, 5, activation='relu' )(drop_embed_layer)\n",
        "maxp_3 = GlobalMaxPooling1D(name='maxp_3')(conv3)\n",
        "\n",
        "concat = concatenate([maxp_1, maxp_2, maxp_3])\n",
        "\n",
        "dense_layer = Dense(64, activation='relu', name='dense')(concat)\n",
        "\n",
        "\n",
        "output = Dense(len(possible_labels), activation=\"sigmoid\")(dense_layer)\n",
        "#output = dense(dense_layer)\n",
        "model = Model(input_, output)\n",
        "\n",
        "model.compile(\n",
        "  loss='binary_crossentropy',\n",
        "  optimizer=Adam(lr=0.01),\n",
        "  metrics=['accuracy']\n",
        ")\n",
        "print(model.summary())\n",
        "\n",
        "\n",
        "\n"
      ],
      "execution_count": 28,
      "outputs": [
        {
          "output_type": "stream",
          "text": [
            "WARNING:tensorflow:From /usr/local/lib/python3.6/dist-packages/keras/backend/tensorflow_backend.py:541: The name tf.placeholder is deprecated. Please use tf.compat.v1.placeholder instead.\n",
            "\n",
            "WARNING:tensorflow:From /usr/local/lib/python3.6/dist-packages/keras/backend/tensorflow_backend.py:4432: The name tf.random_uniform is deprecated. Please use tf.random.uniform instead.\n",
            "\n",
            "WARNING:tensorflow:From /usr/local/lib/python3.6/dist-packages/keras/backend/tensorflow_backend.py:190: The name tf.get_default_session is deprecated. Please use tf.compat.v1.get_default_session instead.\n",
            "\n",
            "WARNING:tensorflow:From /usr/local/lib/python3.6/dist-packages/keras/backend/tensorflow_backend.py:197: The name tf.ConfigProto is deprecated. Please use tf.compat.v1.ConfigProto instead.\n",
            "\n",
            "WARNING:tensorflow:From /usr/local/lib/python3.6/dist-packages/keras/backend/tensorflow_backend.py:203: The name tf.Session is deprecated. Please use tf.compat.v1.Session instead.\n",
            "\n",
            "WARNING:tensorflow:From /usr/local/lib/python3.6/dist-packages/keras/backend/tensorflow_backend.py:207: The name tf.global_variables is deprecated. Please use tf.compat.v1.global_variables instead.\n",
            "\n",
            "WARNING:tensorflow:From /usr/local/lib/python3.6/dist-packages/keras/backend/tensorflow_backend.py:216: The name tf.is_variable_initialized is deprecated. Please use tf.compat.v1.is_variable_initialized instead.\n",
            "\n",
            "WARNING:tensorflow:From /usr/local/lib/python3.6/dist-packages/keras/backend/tensorflow_backend.py:223: The name tf.variables_initializer is deprecated. Please use tf.compat.v1.variables_initializer instead.\n",
            "\n",
            "WARNING:tensorflow:From /usr/local/lib/python3.6/dist-packages/keras/backend/tensorflow_backend.py:148: The name tf.placeholder_with_default is deprecated. Please use tf.compat.v1.placeholder_with_default instead.\n",
            "\n",
            "WARNING:tensorflow:From /usr/local/lib/python3.6/dist-packages/keras/backend/tensorflow_backend.py:3733: calling dropout (from tensorflow.python.ops.nn_ops) with keep_prob is deprecated and will be removed in a future version.\n",
            "Instructions for updating:\n",
            "Please use `rate` instead of `keep_prob`. Rate should be set to `rate = 1 - keep_prob`.\n",
            "WARNING:tensorflow:From /usr/local/lib/python3.6/dist-packages/keras/optimizers.py:793: The name tf.train.Optimizer is deprecated. Please use tf.compat.v1.train.Optimizer instead.\n",
            "\n",
            "WARNING:tensorflow:From /usr/local/lib/python3.6/dist-packages/keras/backend/tensorflow_backend.py:3657: The name tf.log is deprecated. Please use tf.math.log instead.\n",
            "\n",
            "WARNING:tensorflow:From /usr/local/lib/python3.6/dist-packages/tensorflow_core/python/ops/nn_impl.py:183: where (from tensorflow.python.ops.array_ops) is deprecated and will be removed in a future version.\n",
            "Instructions for updating:\n",
            "Use tf.where in 2.0, which has the same broadcast rule as np.where\n",
            "Model: \"model_1\"\n",
            "__________________________________________________________________________________________________\n",
            "Layer (type)                    Output Shape         Param #     Connected to                     \n",
            "==================================================================================================\n",
            "input_1 (InputLayer)            (None, 100)          0                                            \n",
            "__________________________________________________________________________________________________\n",
            "embedding_1 (Embedding)         (None, 100, 50)      1000000     input_1[0][0]                    \n",
            "__________________________________________________________________________________________________\n",
            "drop_embed (SpatialDropout1D)   (None, 100, 50)      0           embedding_1[0][0]                \n",
            "__________________________________________________________________________________________________\n",
            "conv1d_1 (Conv1D)               (None, 81, 256)      256256      drop_embed[0][0]                 \n",
            "__________________________________________________________________________________________________\n",
            "conv1d_2 (Conv1D)               (None, 91, 256)      128256      drop_embed[0][0]                 \n",
            "__________________________________________________________________________________________________\n",
            "conv1d_3 (Conv1D)               (None, 96, 256)      64256       drop_embed[0][0]                 \n",
            "__________________________________________________________________________________________________\n",
            "maxp_1 (GlobalMaxPooling1D)     (None, 256)          0           conv1d_1[0][0]                   \n",
            "__________________________________________________________________________________________________\n",
            "maxp_2 (GlobalMaxPooling1D)     (None, 256)          0           conv1d_2[0][0]                   \n",
            "__________________________________________________________________________________________________\n",
            "maxp_3 (GlobalMaxPooling1D)     (None, 256)          0           conv1d_3[0][0]                   \n",
            "__________________________________________________________________________________________________\n",
            "concatenate_1 (Concatenate)     (None, 768)          0           maxp_1[0][0]                     \n",
            "                                                                 maxp_2[0][0]                     \n",
            "                                                                 maxp_3[0][0]                     \n",
            "__________________________________________________________________________________________________\n",
            "dense (Dense)                   (None, 64)           49216       concatenate_1[0][0]              \n",
            "__________________________________________________________________________________________________\n",
            "dense_1 (Dense)                 (None, 6)            390         dense[0][0]                      \n",
            "==================================================================================================\n",
            "Total params: 1,498,374\n",
            "Trainable params: 498,374\n",
            "Non-trainable params: 1,000,000\n",
            "__________________________________________________________________________________________________\n",
            "None\n"
          ],
          "name": "stdout"
        }
      ]
    },
    {
      "cell_type": "code",
      "metadata": {
        "id": "crv_djlixC6Z",
        "colab_type": "code",
        "outputId": "0272a440-466d-48d7-a6e8-631f9f4bd0f7",
        "colab": {
          "base_uri": "https://localhost:8080/",
          "height": 479
        }
      },
      "source": [
        "model.fit(padded_data,\n",
        "        targets,\n",
        "        batch_size=BATCH_SIZE,\n",
        "  epochs=EPOCHS,\n",
        "  validation_split=VALIDATION_SPLIT\n",
        ")  \n",
        "          "
      ],
      "execution_count": 29,
      "outputs": [
        {
          "output_type": "stream",
          "text": [
            "WARNING:tensorflow:From /usr/local/lib/python3.6/dist-packages/keras/backend/tensorflow_backend.py:1033: The name tf.assign_add is deprecated. Please use tf.compat.v1.assign_add instead.\n",
            "\n",
            "WARNING:tensorflow:From /usr/local/lib/python3.6/dist-packages/keras/backend/tensorflow_backend.py:1020: The name tf.assign is deprecated. Please use tf.compat.v1.assign instead.\n",
            "\n",
            "Train on 20611 samples, validate on 5153 samples\n",
            "Epoch 1/10\n",
            "20611/20611 [==============================] - 4s 209us/step - loss: 0.4558 - acc: 0.8124 - val_loss: 0.3082 - val_acc: 0.8550\n",
            "Epoch 2/10\n",
            "20611/20611 [==============================] - 3s 133us/step - loss: 0.2799 - acc: 0.8704 - val_loss: 0.2765 - val_acc: 0.8772\n",
            "Epoch 3/10\n",
            "20611/20611 [==============================] - 3s 136us/step - loss: 0.2615 - acc: 0.8823 - val_loss: 0.2717 - val_acc: 0.8753\n",
            "Epoch 4/10\n",
            "20611/20611 [==============================] - 3s 136us/step - loss: 0.2467 - acc: 0.8901 - val_loss: 0.2718 - val_acc: 0.8750\n",
            "Epoch 5/10\n",
            "20611/20611 [==============================] - 3s 135us/step - loss: 0.2352 - acc: 0.8955 - val_loss: 0.3171 - val_acc: 0.8553\n",
            "Epoch 6/10\n",
            "20611/20611 [==============================] - 3s 136us/step - loss: 0.2284 - acc: 0.8996 - val_loss: 0.2805 - val_acc: 0.8743\n",
            "Epoch 7/10\n",
            "20611/20611 [==============================] - 3s 136us/step - loss: 0.2158 - acc: 0.9065 - val_loss: 0.4763 - val_acc: 0.8162\n",
            "Epoch 8/10\n",
            "20611/20611 [==============================] - 3s 137us/step - loss: 0.2207 - acc: 0.9021 - val_loss: 0.3594 - val_acc: 0.8549\n",
            "Epoch 9/10\n",
            "20611/20611 [==============================] - 3s 135us/step - loss: 0.1926 - acc: 0.9167 - val_loss: 0.2970 - val_acc: 0.8602\n",
            "Epoch 10/10\n",
            "20611/20611 [==============================] - 3s 136us/step - loss: 0.1842 - acc: 0.9202 - val_loss: 0.3866 - val_acc: 0.8483\n"
          ],
          "name": "stdout"
        },
        {
          "output_type": "execute_result",
          "data": {
            "text/plain": [
              "<keras.callbacks.History at 0x7f8da0ee21d0>"
            ]
          },
          "metadata": {
            "tags": []
          },
          "execution_count": 29
        }
      ]
    },
    {
      "cell_type": "markdown",
      "metadata": {
        "id": "2CjIRe05yl2F",
        "colab_type": "text"
      },
      "source": [
        "Saving the model"
      ]
    },
    {
      "cell_type": "code",
      "metadata": {
        "id": "AMuJK_Vrx2y4",
        "colab_type": "code",
        "colab": {}
      },
      "source": [
        "model.save(output_dir+\"/weights_parallel_conv.01.hdf5\")"
      ],
      "execution_count": 0,
      "outputs": []
    },
    {
      "cell_type": "code",
      "metadata": {
        "id": "-Af85826ylP4",
        "colab_type": "code",
        "colab": {}
      },
      "source": [
        "model.load_weights(output_dir+\"/weights_parallel_conv.01.hdf5\")"
      ],
      "execution_count": 0,
      "outputs": []
    },
    {
      "cell_type": "code",
      "metadata": {
        "id": "5OK36UzZ1UCT",
        "colab_type": "code",
        "outputId": "aa5c9e18-7376-433c-bc99-9ab55a770ccf",
        "colab": {
          "base_uri": "https://localhost:8080/",
          "height": 34
        }
      },
      "source": [
        "print(len(padded_data))"
      ],
      "execution_count": 34,
      "outputs": [
        {
          "output_type": "stream",
          "text": [
            "25764\n"
          ],
          "name": "stdout"
        }
      ]
    },
    {
      "cell_type": "code",
      "metadata": {
        "id": "urbmc3S80VVX",
        "colab_type": "code",
        "colab": {}
      },
      "source": [
        "y_hat = model.predict(padded_data.reshape(25764,100))"
      ],
      "execution_count": 0,
      "outputs": []
    },
    {
      "cell_type": "code",
      "metadata": {
        "id": "HFp92vUj1shg",
        "colab_type": "code",
        "outputId": "33321896-885d-493b-8171-549950d5245c",
        "colab": {
          "base_uri": "https://localhost:8080/",
          "height": 34
        }
      },
      "source": [
        "y_hat.shape"
      ],
      "execution_count": 37,
      "outputs": [
        {
          "output_type": "execute_result",
          "data": {
            "text/plain": [
              "(25764, 6)"
            ]
          },
          "metadata": {
            "tags": []
          },
          "execution_count": 37
        }
      ]
    },
    {
      "cell_type": "code",
      "metadata": {
        "id": "HAlKstRQ0nkz",
        "colab_type": "code",
        "outputId": "69854774-7e3c-4955-ad60-91f25ca519e6",
        "colab": {
          "base_uri": "https://localhost:8080/",
          "height": 136
        }
      },
      "source": [
        "y_hat.round(2)"
      ],
      "execution_count": 38,
      "outputs": [
        {
          "output_type": "execute_result",
          "data": {
            "text/plain": [
              "array([[0.22, 0.81, 0.01, 1.  , 0.  , 0.  ],\n",
              "       [0.1 , 0.94, 0.04, 0.  , 0.  , 1.  ],\n",
              "       [0.  , 0.  , 1.  , 1.  , 0.  , 0.  ],\n",
              "       ...,\n",
              "       [0.28, 0.07, 0.78, 0.  , 0.  , 1.  ],\n",
              "       [0.05, 0.24, 0.47, 1.  , 0.  , 0.  ],\n",
              "       [0.05, 0.02, 0.98, 0.  , 0.  , 1.  ]], dtype=float32)"
            ]
          },
          "metadata": {
            "tags": []
          },
          "execution_count": 38
        }
      ]
    },
    {
      "cell_type": "code",
      "metadata": {
        "id": "9b3qDvkU0vcc",
        "colab_type": "code",
        "outputId": "a94e143a-d5fa-484d-e6bd-fb375a9bdc6b",
        "colab": {
          "base_uri": "https://localhost:8080/",
          "height": 34
        }
      },
      "source": [
        "targets[:,1].shape"
      ],
      "execution_count": 39,
      "outputs": [
        {
          "output_type": "execute_result",
          "data": {
            "text/plain": [
              "(25764,)"
            ]
          },
          "metadata": {
            "tags": []
          },
          "execution_count": 39
        }
      ]
    },
    {
      "cell_type": "code",
      "metadata": {
        "id": "gClOR6j7RWHk",
        "colab_type": "code",
        "outputId": "d2c6a71e-eb5c-4040-b72e-ec84ce0843f7",
        "colab": {
          "base_uri": "https://localhost:8080/",
          "height": 34
        }
      },
      "source": [
        "aucs = []\n",
        "for j in range(6):\n",
        "    auc = roc_auc_score(targets[:,j], y_hat[:,j])\n",
        "    aucs.append(auc)\n",
        "print(np.mean(aucs))"
      ],
      "execution_count": 40,
      "outputs": [
        {
          "output_type": "stream",
          "text": [
            "0.9508196367227838\n"
          ],
          "name": "stdout"
        }
      ]
    },
    {
      "cell_type": "markdown",
      "metadata": {
        "id": "PiGJfc18JC8p",
        "colab_type": "text"
      },
      "source": [
        ""
      ]
    },
    {
      "cell_type": "code",
      "metadata": {
        "id": "6lHpwWzqWPhn",
        "colab_type": "code",
        "colab": {}
      },
      "source": [
        "music_test = \"this piece of music is the shittiest i have seen so bad, the lyrics were horrible !!\""
      ],
      "execution_count": 0,
      "outputs": []
    },
    {
      "cell_type": "code",
      "metadata": {
        "id": "CGvbJMQNWbNK",
        "colab_type": "code",
        "colab": {}
      },
      "source": [
        "def predict_class(text):\n",
        "  cleane_text = spacy_preprocessing(text)\n",
        "  text2idx = tokenizer.texts_to_sequences([cleane_text])\n",
        "  padded_seq = pad_sequences(text2idx, maxlen=MAX_SEQUENCE_LENGTH, truncating='pre')\n",
        "  yhat= model.predict(padded_seq)\n",
        "  yhat = yhat.round(2)\n",
        "  return yhat"
      ],
      "execution_count": 0,
      "outputs": []
    },
    {
      "cell_type": "code",
      "metadata": {
        "id": "e8pTV9PcXEX0",
        "colab_type": "code",
        "colab": {}
      },
      "source": [
        "predicted_class = predict_class(music_test)\n",
        "predicted_class_grade= predicted_class[0,0:3].argsort()[-3:]\n",
        "predicted_class_category= predicted_class[0,3:6].argsort()[-3:]"
      ],
      "execution_count": 0,
      "outputs": []
    },
    {
      "cell_type": "code",
      "metadata": {
        "id": "6bFy3zczfskR",
        "colab_type": "code",
        "colab": {
          "base_uri": "https://localhost:8080/",
          "height": 34
        },
        "outputId": "b0b40058-7028-4232-c914-3f9b17485582"
      },
      "source": [
        "predicted_class_grade  ##1 means bad so the prediction was correct "
      ],
      "execution_count": 127,
      "outputs": [
        {
          "output_type": "execute_result",
          "data": {
            "text/plain": [
              "array([2, 0, 1])"
            ]
          },
          "metadata": {
            "tags": []
          },
          "execution_count": 127
        }
      ]
    },
    {
      "cell_type": "code",
      "metadata": {
        "id": "cJkmr1Llf8iu",
        "colab_type": "code",
        "colab": {
          "base_uri": "https://localhost:8080/",
          "height": 34
        },
        "outputId": "288cae6b-1257-4850-eab1-341fceb16cdd"
      },
      "source": [
        "predicted_class_category ###2 means Music here  so the prediction was correct "
      ],
      "execution_count": 129,
      "outputs": [
        {
          "output_type": "execute_result",
          "data": {
            "text/plain": [
              "array([0, 1, 2])"
            ]
          },
          "metadata": {
            "tags": []
          },
          "execution_count": 129
        }
      ]
    }
  ]
}