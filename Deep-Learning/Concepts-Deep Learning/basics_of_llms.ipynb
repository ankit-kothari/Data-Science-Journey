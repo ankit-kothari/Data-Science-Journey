{
  "cells": [
    {
      "cell_type": "code",
      "execution_count": 1,
      "metadata": {
        "colab": {
          "base_uri": "https://localhost:8080/",
          "height": 52
        },
        "id": "j28iNPic6CSz",
        "outputId": "a4cfc99c-42a5-40bf-a201-8e2140ff0a86"
      },
      "outputs": [
        {
          "name": "stdout",
          "output_type": "stream",
          "text": [
            "Mounted at /content/drive\n"
          ]
        },
        {
          "data": {
            "application/vnd.google.colaboratory.intrinsic+json": {
              "type": "string"
            },
            "text/plain": [
              "'⭐ Mounted successfully!'"
            ]
          },
          "metadata": {},
          "output_type": "display_data"
        }
      ],
      "source": [
        "from logging import exception\n",
        "#@title Step -1: Mount drive\n",
        "#@markdown Run this cell. If prompted, press \"Connect to Google Drive\" and select your Google account.\n",
        "#@markdown Then, under the folder icon 📁 on the left panel, you should see the folder **drive** appear.\n",
        "from google.colab import drive\n",
        "from IPython.display import display, Markdown, HTML\n",
        "import os, sys\n",
        "\n",
        "%load_ext autoreload\n",
        "%autoreload 2\n",
        "try:\n",
        "  drive.mount('/content/drive', force_remount=False)\n",
        "  # os.chdir('/content/drive/My Drive/DLE-Feb23/Projects')\n",
        "  sys.path.append('/content/drive/MyDrive/DLE-Jun23/Projects')\n",
        "  os.chdir('/content/drive/MyDrive/Colab Notebooks/')\n",
        "  display(\"⭐ Mounted successfully!\")\n",
        "except:\n",
        "  display(HTML('<span style=\"color:red\">An error occurred. Try again!</span>'))\n"
      ]
    },
    {
      "cell_type": "code",
      "execution_count": 2,
      "metadata": {
        "id": "nydNA-9-ISLq"
      },
      "outputs": [],
      "source": [
        "#@title Step 0: Import Packages\n",
        "%%capture\n",
        "!pip install openai\n",
        "!pip install scikit-learn\n",
        "!pip install matplotlib\n",
        "!pip install transformers\n",
        "\n",
        "import json\n",
        "import pandas as pd\n",
        "import openai\n",
        "import numpy as np\n",
        "from tqdm import tqdm\n",
        "from sklearn.manifold import TSNE\n",
        "import matplotlib.pyplot as plt\n",
        "from dle_utils.dle_utils import *\n",
        "from sklearn.model_selection import train_test_split\n",
        "from sklearn.metrics import roc_auc_score\n",
        "import transformers\n",
        "import ast\n",
        "import pprint"
      ]
    },
    {
      "cell_type": "markdown",
      "metadata": {
        "id": "jHYQFbSP7vJn"
      },
      "source": [
        "## Step 1: Accessing Open AI's API\n",
        "\n",
        "Before starting this assignment, you'll need to do the following steps:\n",
        "\n",
        "1. [Create an account on OpenAI](https://auth0.openai.com/u/signup/identifier?state=hKFo2SBzQm1sd2pOTUJ2SG9sSHBBdUU1bGNpdllveFhrWW8wc6Fur3VuaXZlcnNhbC1sb2dpbqN0aWTZIHctYmtFZ3h0ck9saDNVWFhUTnRmckM5azd0RjUtMjMwo2NpZNkgRFJpdnNubTJNdTQyVDNLT3BxZHR3QjNOWXZpSFl6d0Q) (if you have not done so already).\n",
        "\n",
        "2. In the upper right hand corner, click on your profile icon and select  **View API keys**. On the API keys page, copy your API key into the cell below.\n",
        "\n",
        "<img src=\"https://drive.google.com/uc?id=1ctYY7b1TqauMobC6J-Vm_VGBF9nv_4XI\" width=800/>\n",
        "\n",
        "You will only see this key once, so make sure to copy it in a safe place!\n",
        "\n",
        "3. On the account dropdown, go to **Manage account** to make sure you have access to credits in your account. If you started a free trial, you should have $5.00. If you're like me and your credits have expired/run out, you may want to create a new account! (Otherwise, ChatGPT API access is quite cheap, so you may want to consider adding payment information)\n",
        "\n",
        "**Remember to remove your API key from the homework before submitting it!**\n"
      ]
    },
    {
      "cell_type": "code",
      "execution_count": 3,
      "metadata": {
        "id": "I1WXEXEqgZkh"
      },
      "outputs": [],
      "source": [
        "# Put down your API key here\n",
        "\n",
        "openai.api_key = \"YOUR_API_KEY\""
      ]
    },
    {
      "cell_type": "markdown",
      "metadata": {
        "id": "oQKRoRAZ9us9"
      },
      "source": [
        "## Deep learning APIs\n",
        "\n",
        "In a not so distance past, loading and using deep learning models was a laborious and difficult task, involving lots of helper functions and niche knowledge about how models worked.\n",
        "\n",
        "Now, thanks to the democratization of AI, the most powerful models are available through APIs. In this assignment, we'll give a quick tutorial on the most recent and exciting API: Open AI's ChatGPT API. Then, we'll go through a real-world example on how they might be used to help you in your own work.\n",
        "\n",
        "### Using OpenAI's API\n",
        "\n",
        "OpenAI's API is really accessible via Python. There are two basic modes in this API.\n",
        "\n",
        "1. ```openai.Embedding```\n",
        "2. ```openai.ChatCompletion```\n",
        "\n",
        "Roughly speaking, these two modes are just the two levels of abstraction. At the first level, the Embedding API gives you the most raw form of the model -- the embedding vectors of a given text. Next, the ChatCompletion API is a higher level version of the embedding API, where the model has been trained to interpret instructions. (By the way, there are other modules like [Audio](https://platform.openai.com/docs/guides/speech-to-text) which are really cool, but we wont' cover here!)"
      ]
    },
    {
      "cell_type": "markdown",
      "metadata": {
        "id": "np1oTA_FPUKw"
      },
      "source": [
        "## Embeddings\n",
        "\n",
        "The first use case is in extracting model embeddings. This is identical to the model embeddings used in week 2's assignment. Here, we'll just do a quick demo in terms of using these embeddings for a downstream task.\n",
        "\n",
        "In the cell below, load ```local_df```. In this, you'll see 1000 genuine Google Local reviews from places in Washington, D.C. Each review is associated with a rating from 1-5."
      ]
    },
    {
      "cell_type": "code",
      "execution_count": 4,
      "metadata": {
        "colab": {
          "base_uri": "https://localhost:8080/",
          "height": 206
        },
        "id": "W3j_d6XRLCOE",
        "outputId": "6328631c-dbed-4455-f45e-f0bf2e021017"
      },
      "outputs": [
        {
          "data": {
            "text/html": [
              "\n",
              "\n",
              "  <div id=\"df-6546a345-fac1-431b-a72d-26df661a0cbb\">\n",
              "    <div class=\"colab-df-container\">\n",
              "      <div>\n",
              "<style scoped>\n",
              "    .dataframe tbody tr th:only-of-type {\n",
              "        vertical-align: middle;\n",
              "    }\n",
              "\n",
              "    .dataframe tbody tr th {\n",
              "        vertical-align: top;\n",
              "    }\n",
              "\n",
              "    .dataframe thead th {\n",
              "        text-align: right;\n",
              "    }\n",
              "</style>\n",
              "<table border=\"1\" class=\"dataframe\">\n",
              "  <thead>\n",
              "    <tr style=\"text-align: right;\">\n",
              "      <th></th>\n",
              "      <th>rating</th>\n",
              "      <th>text</th>\n",
              "    </tr>\n",
              "  </thead>\n",
              "  <tbody>\n",
              "    <tr>\n",
              "      <th>0</th>\n",
              "      <td>4</td>\n",
              "      <td>the food is really good, I had a great experie...</td>\n",
              "    </tr>\n",
              "    <tr>\n",
              "      <th>1</th>\n",
              "      <td>4</td>\n",
              "      <td>High prices for not so big portions! But I thi...</td>\n",
              "    </tr>\n",
              "    <tr>\n",
              "      <th>2</th>\n",
              "      <td>2</td>\n",
              "      <td>The gelato looked \"old\" and ended up having co...</td>\n",
              "    </tr>\n",
              "    <tr>\n",
              "      <th>3</th>\n",
              "      <td>4</td>\n",
              "      <td>(Translated by Google) The fast food restauran...</td>\n",
              "    </tr>\n",
              "    <tr>\n",
              "      <th>4</th>\n",
              "      <td>1</td>\n",
              "      <td>(Translated by Google) The food is barely edib...</td>\n",
              "    </tr>\n",
              "  </tbody>\n",
              "</table>\n",
              "</div>\n",
              "      <button class=\"colab-df-convert\" onclick=\"convertToInteractive('df-6546a345-fac1-431b-a72d-26df661a0cbb')\"\n",
              "              title=\"Convert this dataframe to an interactive table.\"\n",
              "              style=\"display:none;\">\n",
              "\n",
              "  <svg xmlns=\"http://www.w3.org/2000/svg\" height=\"24px\"viewBox=\"0 0 24 24\"\n",
              "       width=\"24px\">\n",
              "    <path d=\"M0 0h24v24H0V0z\" fill=\"none\"/>\n",
              "    <path d=\"M18.56 5.44l.94 2.06.94-2.06 2.06-.94-2.06-.94-.94-2.06-.94 2.06-2.06.94zm-11 1L8.5 8.5l.94-2.06 2.06-.94-2.06-.94L8.5 2.5l-.94 2.06-2.06.94zm10 10l.94 2.06.94-2.06 2.06-.94-2.06-.94-.94-2.06-.94 2.06-2.06.94z\"/><path d=\"M17.41 7.96l-1.37-1.37c-.4-.4-.92-.59-1.43-.59-.52 0-1.04.2-1.43.59L10.3 9.45l-7.72 7.72c-.78.78-.78 2.05 0 2.83L4 21.41c.39.39.9.59 1.41.59.51 0 1.02-.2 1.41-.59l7.78-7.78 2.81-2.81c.8-.78.8-2.07 0-2.86zM5.41 20L4 18.59l7.72-7.72 1.47 1.35L5.41 20z\"/>\n",
              "  </svg>\n",
              "      </button>\n",
              "\n",
              "\n",
              "\n",
              "    <div id=\"df-03a1269f-7c99-4fa2-8ead-5fe2c8dd3e82\">\n",
              "      <button class=\"colab-df-quickchart\" onclick=\"quickchart('df-03a1269f-7c99-4fa2-8ead-5fe2c8dd3e82')\"\n",
              "              title=\"Suggest charts.\"\n",
              "              style=\"display:none;\">\n",
              "\n",
              "<svg xmlns=\"http://www.w3.org/2000/svg\" height=\"24px\"viewBox=\"0 0 24 24\"\n",
              "     width=\"24px\">\n",
              "    <g>\n",
              "        <path d=\"M19 3H5c-1.1 0-2 .9-2 2v14c0 1.1.9 2 2 2h14c1.1 0 2-.9 2-2V5c0-1.1-.9-2-2-2zM9 17H7v-7h2v7zm4 0h-2V7h2v10zm4 0h-2v-4h2v4z\"/>\n",
              "    </g>\n",
              "</svg>\n",
              "      </button>\n",
              "    </div>\n",
              "\n",
              "<style>\n",
              "  .colab-df-quickchart {\n",
              "    background-color: #E8F0FE;\n",
              "    border: none;\n",
              "    border-radius: 50%;\n",
              "    cursor: pointer;\n",
              "    display: none;\n",
              "    fill: #1967D2;\n",
              "    height: 32px;\n",
              "    padding: 0 0 0 0;\n",
              "    width: 32px;\n",
              "  }\n",
              "\n",
              "  .colab-df-quickchart:hover {\n",
              "    background-color: #E2EBFA;\n",
              "    box-shadow: 0px 1px 2px rgba(60, 64, 67, 0.3), 0px 1px 3px 1px rgba(60, 64, 67, 0.15);\n",
              "    fill: #174EA6;\n",
              "  }\n",
              "\n",
              "  [theme=dark] .colab-df-quickchart {\n",
              "    background-color: #3B4455;\n",
              "    fill: #D2E3FC;\n",
              "  }\n",
              "\n",
              "  [theme=dark] .colab-df-quickchart:hover {\n",
              "    background-color: #434B5C;\n",
              "    box-shadow: 0px 1px 3px 1px rgba(0, 0, 0, 0.15);\n",
              "    filter: drop-shadow(0px 1px 2px rgba(0, 0, 0, 0.3));\n",
              "    fill: #FFFFFF;\n",
              "  }\n",
              "</style>\n",
              "\n",
              "    <script>\n",
              "      async function quickchart(key) {\n",
              "        const containerElement = document.querySelector('#' + key);\n",
              "        const charts = await google.colab.kernel.invokeFunction(\n",
              "            'suggestCharts', [key], {});\n",
              "      }\n",
              "    </script>\n",
              "\n",
              "      <script>\n",
              "\n",
              "function displayQuickchartButton(domScope) {\n",
              "  let quickchartButtonEl =\n",
              "    domScope.querySelector('#df-03a1269f-7c99-4fa2-8ead-5fe2c8dd3e82 button.colab-df-quickchart');\n",
              "  quickchartButtonEl.style.display =\n",
              "    google.colab.kernel.accessAllowed ? 'block' : 'none';\n",
              "}\n",
              "\n",
              "        displayQuickchartButton(document);\n",
              "      </script>\n",
              "      <style>\n",
              "    .colab-df-container {\n",
              "      display:flex;\n",
              "      flex-wrap:wrap;\n",
              "      gap: 12px;\n",
              "    }\n",
              "\n",
              "    .colab-df-convert {\n",
              "      background-color: #E8F0FE;\n",
              "      border: none;\n",
              "      border-radius: 50%;\n",
              "      cursor: pointer;\n",
              "      display: none;\n",
              "      fill: #1967D2;\n",
              "      height: 32px;\n",
              "      padding: 0 0 0 0;\n",
              "      width: 32px;\n",
              "    }\n",
              "\n",
              "    .colab-df-convert:hover {\n",
              "      background-color: #E2EBFA;\n",
              "      box-shadow: 0px 1px 2px rgba(60, 64, 67, 0.3), 0px 1px 3px 1px rgba(60, 64, 67, 0.15);\n",
              "      fill: #174EA6;\n",
              "    }\n",
              "\n",
              "    [theme=dark] .colab-df-convert {\n",
              "      background-color: #3B4455;\n",
              "      fill: #D2E3FC;\n",
              "    }\n",
              "\n",
              "    [theme=dark] .colab-df-convert:hover {\n",
              "      background-color: #434B5C;\n",
              "      box-shadow: 0px 1px 3px 1px rgba(0, 0, 0, 0.15);\n",
              "      filter: drop-shadow(0px 1px 2px rgba(0, 0, 0, 0.3));\n",
              "      fill: #FFFFFF;\n",
              "    }\n",
              "  </style>\n",
              "\n",
              "      <script>\n",
              "        const buttonEl =\n",
              "          document.querySelector('#df-6546a345-fac1-431b-a72d-26df661a0cbb button.colab-df-convert');\n",
              "        buttonEl.style.display =\n",
              "          google.colab.kernel.accessAllowed ? 'block' : 'none';\n",
              "\n",
              "        async function convertToInteractive(key) {\n",
              "          const element = document.querySelector('#df-6546a345-fac1-431b-a72d-26df661a0cbb');\n",
              "          const dataTable =\n",
              "            await google.colab.kernel.invokeFunction('convertToInteractive',\n",
              "                                                     [key], {});\n",
              "          if (!dataTable) return;\n",
              "\n",
              "          const docLinkHtml = 'Like what you see? Visit the ' +\n",
              "            '<a target=\"_blank\" href=https://colab.research.google.com/notebooks/data_table.ipynb>data table notebook</a>'\n",
              "            + ' to learn more about interactive tables.';\n",
              "          element.innerHTML = '';\n",
              "          dataTable['output_type'] = 'display_data';\n",
              "          await google.colab.output.renderOutput(dataTable, element);\n",
              "          const docLink = document.createElement('div');\n",
              "          docLink.innerHTML = docLinkHtml;\n",
              "          element.appendChild(docLink);\n",
              "        }\n",
              "      </script>\n",
              "    </div>\n",
              "  </div>\n"
            ],
            "text/plain": [
              "   rating                                               text\n",
              "0       4  the food is really good, I had a great experie...\n",
              "1       4  High prices for not so big portions! But I thi...\n",
              "2       2  The gelato looked \"old\" and ended up having co...\n",
              "3       4  (Translated by Google) The fast food restauran...\n",
              "4       1  (Translated by Google) The food is barely edib..."
            ]
          },
          "execution_count": 4,
          "metadata": {},
          "output_type": "execute_result"
        }
      ],
      "source": [
        "local_df = pd.read_csv('/content/drive/MyDrive/DLE-Jun23/Projects/dle_utils/data/google_local_data.csv', index_col=0)\n",
        "local_df.head()"
      ]
    },
    {
      "cell_type": "markdown",
      "metadata": {
        "id": "B_Sdy9Dsctdy"
      },
      "source": [
        "Let's say that Google users have a tendency to forget to put a 1-5 star rating next to their review. Can we use the embedding API to predict which rating should be associated with each review?\n",
        "\n",
        "### Extracting embeddings\n",
        "\n",
        "Use ```openai.Embedding.create()``` to extract embeddings for each review in ```local_df```.  ```openai.Embedding.create()``` takes in two parameters: ```model``` and ```input```. (You can read embeddings [here](https://platform.openai.com/docs/guides/embeddings/what-are-embeddings)).\n",
        "\n",
        "For ```model```, use ```\"text-embedding-ada-002\"```, which is the best, fastest, and cheapest ($0.0004 / 1k tokens).\n",
        "\n",
        "For ```input```, you just need to enter the text you want to embed as a string.\n",
        "\n",
        "In the cell below, take the first review from ```local_df``` and extract its embedding.\n",
        "\n",
        "(Hint: For a Pandas dataframe, you can access the text from a specific row with ```local_df.iloc[i]['text']```, where ```i``` is the index of the row."
      ]
    },
    {
      "cell_type": "code",
      "execution_count": 5,
      "metadata": {
        "id": "fx7hfwcnvTQG"
      },
      "outputs": [],
      "source": [
        "def get_embedding(text, model=\"text-embedding-ada-002\"):\n",
        "   text = text.replace(\"\\n\", \" \")\n",
        "   return openai.Embedding.create(input = [text], model=model)"
      ]
    },
    {
      "cell_type": "code",
      "execution_count": 6,
      "metadata": {
        "colab": {
          "base_uri": "https://localhost:8080/"
        },
        "id": "NI0spMxFgdIi",
        "outputId": "ab3afdc9-d953-4d56-bcf6-bab746571afd"
      },
      "outputs": [
        {
          "name": "stdout",
          "output_type": "stream",
          "text": [
            "dict_keys(['object', 'data', 'model', 'usage'])\n"
          ]
        }
      ],
      "source": [
        "# Populate response with the embedding of the first row\n",
        "sample_review = local_df.iloc[0]['text']\n",
        "\n",
        "# Extract embedding\n",
        "response = get_embedding(sample_review, model=\"text-embedding-ada-002\")\n",
        "\n",
        "print(response.keys())"
      ]
    },
    {
      "cell_type": "code",
      "execution_count": 7,
      "metadata": {
        "colab": {
          "base_uri": "https://localhost:8080/",
          "height": 64
        },
        "id": "RWqmKAPTeCMV",
        "outputId": "4e11ac4f-9c45-47b5-b06e-0309a9355f10"
      },
      "outputs": [
        {
          "data": {
            "text/markdown": [
              "## Correct! 🎉"
            ],
            "text/plain": [
              "<IPython.core.display.Markdown object>"
            ]
          },
          "execution_count": 7,
          "metadata": {},
          "output_type": "execute_result"
        }
      ],
      "source": [
        "check('4.1.1', response)"
      ]
    },
    {
      "cell_type": "markdown",
      "metadata": {
        "id": "LX7QLySdeBta"
      },
      "source": [
        "The output, ```response```, is accessible as a dictionary.\n",
        "\n",
        "Find where the embeddings are stored in this dictionary. (Hint: You can get the keys to a dictionary with ```.keys()```). The embeddings will be a list of lists, which we want to convert to a numpy array."
      ]
    },
    {
      "cell_type": "code",
      "execution_count": 8,
      "metadata": {
        "id": "iAr1X_gcgfYT"
      },
      "outputs": [],
      "source": [
        "# Extract the embeddings from the response and convert to a numpy array\n",
        "\n",
        "emb_arr = response['data'][0]['embedding']\n",
        "emb_arr_type = type(emb_arr)\n",
        "emb_arr = np.array(emb_arr)\n",
        "\n"
      ]
    },
    {
      "cell_type": "code",
      "execution_count": 9,
      "metadata": {
        "colab": {
          "base_uri": "https://localhost:8080/",
          "height": 64
        },
        "id": "Cqvfz503hHF5",
        "outputId": "0b03b49c-fef4-4ecb-c6cd-037f405834df"
      },
      "outputs": [
        {
          "data": {
            "text/markdown": [
              "## Correct! 🎉"
            ],
            "text/plain": [
              "<IPython.core.display.Markdown object>"
            ]
          },
          "execution_count": 9,
          "metadata": {},
          "output_type": "execute_result"
        }
      ],
      "source": [
        "check('4.1.2', emb_arr)"
      ]
    },
    {
      "cell_type": "markdown",
      "metadata": {
        "id": "-J4bIN9uiAuG"
      },
      "source": [
        "Great! Now that we can extract the embedding for any piece of text, we want to get the embeddings for a subset of ```local_df```.\n",
        "\n",
        "You'll notice the shape of ```emb_arr``` is ```(1536,)```, which is the number of dimensions each embedding is.\n",
        "\n",
        "In the cell below, populate the list ```sample_emb``` with the embeddings for the first **20** reviews. Then, convert ```sample_emb``` into a numpy array. The shape of ```sample_emb``` should be ```(20, 1536)```.\n",
        "\n",
        "This should not take more than a couple of minutes.\n",
        "\n",
        "(You may get a notice like ```RateLimitError: The server is currently overloaded with other requests. Sorry about that! You can retry your request, or contact us through our help center at help.openai.com if the error persists.``` If this happens, you may need to wait a few more minutes. It may also help to use a [sleep](https://www.programiz.com/python-programming/time/sleep) timer to keep under the rate limit.)"
      ]
    },
    {
      "cell_type": "code",
      "execution_count": 10,
      "metadata": {
        "id": "36QrPYI7hhNR"
      },
      "outputs": [],
      "source": [
        "def get_embedding(text, model=\"text-embedding-ada-002\"):\n",
        "   text = text.replace(\"\\n\", \" \")\n",
        "   response=openai.Embedding.create(input = [text], model=model)\n",
        "   return response['data'][0]['embedding']\n",
        "\n",
        "sample_df = local_df.iloc[0:20,1]\n",
        "embedding_df = sample_df.apply(lambda x: get_embedding(x))\n"
      ]
    },
    {
      "cell_type": "code",
      "execution_count": 11,
      "metadata": {
        "id": "LaTnNZx9iWHb"
      },
      "outputs": [],
      "source": [
        "embedding_df = embedding_df.apply(lambda x: np.array(x).reshape(-1,1536))"
      ]
    },
    {
      "cell_type": "code",
      "execution_count": 12,
      "metadata": {
        "id": "fMY-SSEUjwRe"
      },
      "outputs": [],
      "source": [
        "embedding_arrays = embedding_df.values\n",
        "arr = np.array([])\n",
        "for i in embedding_arrays:\n",
        "  arr=np.append(arr,i)"
      ]
    },
    {
      "cell_type": "code",
      "execution_count": 13,
      "metadata": {
        "id": "eQu6ThYNlmaR"
      },
      "outputs": [],
      "source": [
        "sample_emb = arr.reshape(20,-1)"
      ]
    },
    {
      "cell_type": "code",
      "execution_count": 14,
      "metadata": {
        "colab": {
          "base_uri": "https://localhost:8080/",
          "height": 64
        },
        "id": "QqpiXK10mq2n",
        "outputId": "8959c355-b820-4e54-fc02-d7fafe990d4f"
      },
      "outputs": [
        {
          "data": {
            "text/markdown": [
              "## Correct! 🎉"
            ],
            "text/plain": [
              "<IPython.core.display.Markdown object>"
            ]
          },
          "execution_count": 14,
          "metadata": {},
          "output_type": "execute_result"
        }
      ],
      "source": [
        "check('4.1.3', sample_emb)"
      ]
    },
    {
      "cell_type": "markdown",
      "metadata": {
        "id": "Tu6f9ngWEM0e"
      },
      "source": [
        "Great! Next, we want to gather emebeddings for all 1000 reviews. If you have an OpenAI API account that is older than 48 hours old and you have your credit card attached, you can query 1000 reviews easily. However, newer accounts are rate limited. If you find yourself rate-limited, just skip past this next part and we'll provide you the embeddings for the full 1000 as a ```.npy``` file.\n",
        "\n",
        "<img src=\"https://drive.google.com/uc?id=1exdv5DIvWvw9-0O8xYazttEyiuFcdzDg\" width=250/>."
      ]
    },
    {
      "cell_type": "code",
      "execution_count": 15,
      "metadata": {
        "id": "ReZCdOUuxM3H"
      },
      "outputs": [],
      "source": [
        "# Extract embeddings for all reviews in local_df\n",
        "# Populate local_emb with a numpy array of embeddings\n",
        "# Do this part if you aren't rate-limited!\n",
        "\n",
        "def get_embedding(input_string):\n",
        "  ...\n",
        "\n",
        "#local_emb = ..."
      ]
    },
    {
      "cell_type": "code",
      "execution_count": 16,
      "metadata": {
        "id": "Wt89Ot4WpTSl"
      },
      "outputs": [],
      "source": [
        "# If you are rate-limited, just run this!\n",
        "\n",
        "local_emb = np.load('/content/drive/MyDrive/DLE-Jun23/Projects/dle_utils/data/local_emb.npy')"
      ]
    },
    {
      "cell_type": "markdown",
      "metadata": {
        "id": "dRmvkYihlobF"
      },
      "source": [
        "Now that we have a dataset of 1000 embeddings, let's see if we can train a machine learning model to predict the ratings. We can start with doing a binary prediction of whether the review was a low rating (1, 2, or 3) or a high rating (4 or 5).\n",
        "\n",
        "The cell below has been given to you to train a basic model on this binary task."
      ]
    },
    {
      "cell_type": "code",
      "execution_count": 17,
      "metadata": {
        "colab": {
          "base_uri": "https://localhost:8080/"
        },
        "id": "nl0SkjlvOWx4",
        "outputId": "132f13c4-5736-447b-f62b-60d338a35be8"
      },
      "outputs": [
        {
          "name": "stdout",
          "output_type": "stream",
          "text": [
            "Model AUC: 0.9505813953488372\n"
          ]
        }
      ],
      "source": [
        "# Just run this!\n",
        "y = (local_df['rating'] > 3).astype(int).to_list()\n",
        "X = local_emb\n",
        "\n",
        "X_train, X_test, y_train, y_test = train_test_split(X, y, test_size=0.33, random_state=42)\n",
        "\n",
        "from sklearn.linear_model import LogisticRegression\n",
        "\n",
        "clf = LogisticRegression(max_iter=1000, random_state=42).fit(X_train, y_train)\n",
        "\n",
        "print(f'Model AUC: {roc_auc_score(y_test, clf.predict_proba(X_test)[:, 1])}')"
      ]
    },
    {
      "cell_type": "markdown",
      "metadata": {
        "id": "Fkucr_NTOjhw"
      },
      "source": [
        "Not bad, right? An AUC of 0.95 is pretty impressive.\n",
        "\n",
        "Even though OpenAI's API is pretty cheap, using it across a lot of queries could still cost us some serious dough. Fortunately, free versions of large language models exist. Even better news is that they are incredibly easy to use. Run the line below to load up one of these models."
      ]
    },
    {
      "cell_type": "code",
      "execution_count": 18,
      "metadata": {
        "colab": {
          "base_uri": "https://localhost:8080/",
          "height": 145,
          "referenced_widgets": [
            "f3395154d1f646a599a39ed34c4d45df",
            "ebc0631cbb5c4befaf1254ff721b04a0",
            "d7e69b3d6e03446dbe08b77f3adacb10",
            "13d351a06ebd442191b187a2bc0bfa88",
            "6b998a9cb58245f5844c5398abd37c2b",
            "d2ce5ca7a8af4325855f3cbe012aa576",
            "d691dead6b33417b823a4f4d4467a308",
            "ce4751a025d6473e8dfb431a8191398a",
            "a75e97737bfd4da984cd47e74a89fb06",
            "28b9a6b44fab4f228822df2da226e1eb",
            "7b41b4e7de704260937362f6b535a797",
            "585416cda46244a5965a2d278f2d57e4",
            "09ddcf04c0b04e0e8a2a64b694d09385",
            "0c708ebad52a4ba08c6eec04dbca2dfb",
            "2bc762c1b81d4c2da97d0c6156ec0720",
            "d895f27f53d34889bf042d517e3f16c4",
            "d49ee210817443bcb40b50e348e73894",
            "969c30a8fc2843d4bccc8d212a23e983",
            "95ae594572b745c994706652a3c55d1c",
            "326050fa740a46d1b81d22fc6edcc9e2",
            "44c6e510386f4962abfa223094842a81",
            "52062b9db26a4346a7ea60d49e7afe92",
            "b16862dec32f4c00b0e3908b07df935f",
            "604182784ef544beaa623c1719fae3fd",
            "41fb8661046845b7b31f1d716f5251a0",
            "6699dfdb3dbf4925b55a67f5e132617a",
            "6867ee2f685a47618b8dce524099f46c",
            "12148a06fcd04b9b9de64a64296af786",
            "2051bf73da204cbd8406e52d7a41f313",
            "edff1f4250644864afd147f02bc128af",
            "e43ec81763044c2486b25363b32f3182",
            "ade1f011387f4aa4bf03f021636c9520",
            "22dfd859c40843f9a7bbfbf90ec2e6bd",
            "6d7d84712f7e475ba4b099b3f2afdd8a",
            "cce49c04278c4dc3b6caf0a5c448007b",
            "80025345d9fb43b39e7d09166ad17664",
            "74635c54be064f30aba6b0e3700e096b",
            "9152eaf044f4403eb9006458b0de939e",
            "929f982f32584ecbb8cce80f74fc7d75",
            "6027ab09bfce4bfa9caae7a8778ebcf7",
            "8e546ff93d4d4baabc1529e4241d0083",
            "a0e4966fce50410b9e1056f65489a879",
            "73e813c9585f48ceb27d534f6a00a3f8",
            "f6c4cadaa6d641938b9fba8ddf4e3bc7"
          ]
        },
        "id": "LfN1ZAZIOpcS",
        "outputId": "4c9a0ee4-27d4-4568-9ffa-846cdf2fb201"
      },
      "outputs": [
        {
          "data": {
            "application/vnd.jupyter.widget-view+json": {
              "model_id": "f3395154d1f646a599a39ed34c4d45df",
              "version_major": 2,
              "version_minor": 0
            },
            "text/plain": [
              "Downloading (…)lve/main/config.json:   0%|          | 0.00/760 [00:00<?, ?B/s]"
            ]
          },
          "metadata": {},
          "output_type": "display_data"
        },
        {
          "data": {
            "application/vnd.jupyter.widget-view+json": {
              "model_id": "585416cda46244a5965a2d278f2d57e4",
              "version_major": 2,
              "version_minor": 0
            },
            "text/plain": [
              "Downloading pytorch_model.bin:   0%|          | 0.00/467M [00:00<?, ?B/s]"
            ]
          },
          "metadata": {},
          "output_type": "display_data"
        },
        {
          "data": {
            "application/vnd.jupyter.widget-view+json": {
              "model_id": "b16862dec32f4c00b0e3908b07df935f",
              "version_major": 2,
              "version_minor": 0
            },
            "text/plain": [
              "Downloading (…)ve/main/spiece.model:   0%|          | 0.00/798k [00:00<?, ?B/s]"
            ]
          },
          "metadata": {},
          "output_type": "display_data"
        },
        {
          "data": {
            "application/vnd.jupyter.widget-view+json": {
              "model_id": "6d7d84712f7e475ba4b099b3f2afdd8a",
              "version_major": 2,
              "version_minor": 0
            },
            "text/plain": [
              "Downloading (…)/main/tokenizer.json:   0%|          | 0.00/1.38M [00:00<?, ?B/s]"
            ]
          },
          "metadata": {},
          "output_type": "display_data"
        }
      ],
      "source": [
        "from transformers import pipeline\n",
        "pipeline = pipeline('feature-extraction', model='xlnet-base-cased')"
      ]
    },
    {
      "cell_type": "code",
      "execution_count": 19,
      "metadata": {
        "colab": {
          "base_uri": "https://localhost:8080/"
        },
        "id": "3OkEo6IywYvP",
        "outputId": "3da95b60-9ebe-4aef-e71c-691b9e0b362e"
      },
      "outputs": [
        {
          "data": {
            "text/plain": [
              "<transformers.pipelines.feature_extraction.FeatureExtractionPipeline at 0x7bde6f1154e0>"
            ]
          },
          "execution_count": 19,
          "metadata": {},
          "output_type": "execute_result"
        }
      ],
      "source": [
        "pipeline"
      ]
    },
    {
      "cell_type": "markdown",
      "metadata": {
        "id": "F0gYfPo9ryiS"
      },
      "source": [
        "The function ```pipeline``` takes in a string and returns the embedding. However, it will give one embedding for each token, so you'll have to take the average over all tokens like you did in the week 2 assignment.\n",
        "\n",
        "One advantage of using Huggingface is that it's totally free -- no rate limits :)\n",
        "\n",
        "In the cell below, extract all the embeddings using ```pipeline``` and store the embeddings as a numpy array in ```local_emb_hf``` (hf stands for huggingface). After doing so, run the machine learning model and see how well these embeddings perform on this task. (It might take a couple minutes!)\n"
      ]
    },
    {
      "cell_type": "code",
      "execution_count": 19,
      "metadata": {
        "id": "3tjSv1IAwVrV"
      },
      "outputs": [],
      "source": [
        "# Tokenize sentence and extract embedding from the trained layer\n",
        "import torch\n",
        "def sent_embedding(sentence):\n",
        "    embeddings = torch.tensor(pipeline(sentence))\n",
        "\n",
        "    sentence_emb = torch.mean(embeddings, dim=1, keepdim=True)\n",
        "    # Compute the mean of the layer across all words in the sentence.\n",
        "    mean_emb = torch.squeeze(sentence_emb).reshape(1,-1)\n",
        "    return np.array(mean_emb)"
      ]
    },
    {
      "cell_type": "code",
      "execution_count": 20,
      "metadata": {
        "colab": {
          "base_uri": "https://localhost:8080/"
        },
        "id": "mGAzCvv1w4Te",
        "outputId": "29201dc5-3bfd-4536-ccfe-097d4bb71310"
      },
      "outputs": [
        {
          "data": {
            "text/plain": [
              "(1, 768)"
            ]
          },
          "execution_count": 20,
          "metadata": {},
          "output_type": "execute_result"
        }
      ],
      "source": [
        "sent_embedding(local_df.iloc[0]['text']).shape"
      ]
    },
    {
      "cell_type": "code",
      "execution_count": 21,
      "metadata": {
        "id": "dkF8gnAegli7"
      },
      "outputs": [],
      "source": [
        "# Extract embeddings for all reviews in local_df\n",
        "# Populate local_emb_hf with a numpy array of embeddings\n",
        "local_emb_hf = np.array([])\n",
        "for i in range(local_df.shape[0]):\n",
        "  sent =local_df.iloc[i]['text']\n",
        "  embedd = sent_embedding(sent)\n",
        "  local_emb_hf=np.append(local_emb_hf,embedd)\n"
      ]
    },
    {
      "cell_type": "code",
      "execution_count": 22,
      "metadata": {
        "id": "yIfy8BCwyt1X"
      },
      "outputs": [],
      "source": [
        "local_emb_hf = local_emb_hf.reshape(local_df.shape[0],-1)"
      ]
    },
    {
      "cell_type": "code",
      "execution_count": 23,
      "metadata": {
        "colab": {
          "base_uri": "https://localhost:8080/"
        },
        "id": "bunIOAPayozn",
        "outputId": "377af9d4-7221-4219-e732-0f160ffcc5be"
      },
      "outputs": [
        {
          "data": {
            "text/plain": [
              "(1000, 768)"
            ]
          },
          "execution_count": 23,
          "metadata": {},
          "output_type": "execute_result"
        }
      ],
      "source": [
        "local_emb_hf.shape"
      ]
    },
    {
      "cell_type": "code",
      "execution_count": 24,
      "metadata": {
        "colab": {
          "base_uri": "https://localhost:8080/",
          "height": 64
        },
        "id": "xmXbOoSTkr6_",
        "outputId": "0365d331-49a5-4567-ebca-6faf352e8829"
      },
      "outputs": [
        {
          "data": {
            "text/markdown": [
              "## Correct! 🎉"
            ],
            "text/plain": [
              "<IPython.core.display.Markdown object>"
            ]
          },
          "execution_count": 24,
          "metadata": {},
          "output_type": "execute_result"
        }
      ],
      "source": [
        "check('4.1.4', local_emb_hf)"
      ]
    },
    {
      "cell_type": "code",
      "execution_count": 25,
      "metadata": {
        "colab": {
          "base_uri": "https://localhost:8080/"
        },
        "id": "SOEOpfo0pDPi",
        "outputId": "1ee99d61-e9b6-47c7-e1aa-58478533a2d2"
      },
      "outputs": [
        {
          "name": "stdout",
          "output_type": "stream",
          "text": [
            "Model AUC: 0.8898847975882859\n"
          ]
        }
      ],
      "source": [
        "y = (local_df['rating'] > 3).astype(int).to_list()\n",
        "X = local_emb_hf\n",
        "\n",
        "X_train, X_test, y_train, y_test = train_test_split(X, y, test_size=0.33, random_state=42)\n",
        "\n",
        "from sklearn.linear_model import LogisticRegression\n",
        "\n",
        "clf = LogisticRegression(max_iter=1000, random_state=42).fit(X_train, y_train)\n",
        "\n",
        "print(f'Model AUC: {roc_auc_score(y_test, clf.predict_proba(X_test)[:, 1])}')"
      ]
    },
    {
      "cell_type": "markdown",
      "metadata": {
        "id": "VgAJPe3VsJHI"
      },
      "source": [
        "If you did this right, you should be seeing an AUC of around 0.89. It's not bad, but certaintly not as good as 0.95. As you can see, performance comes with a price.\n",
        "\n",
        "If you'd like, you can try a couple other models to see how well they do. [List of huggingface models](https://huggingface.co/models).\n",
        "\n",
        "**Challenge question: Can you find a huggingface model that performs at least 0.90 AUC?**\n",
        "\n",
        "At the end of the day, whether you use OpenAI's API or a free model from huggingface, the choice just depends on what task you need them for.\n",
        "\n",
        "___\n",
        "\n",
        "But what about tasks which we don't have a label for? Suppose we wanted to get the predicted reviews, but we don't have training data? A few years ago, we would have been stuck trying to gather more data. However, now with OpenAI's chat completion API, we may be able to do more than we think.\n",
        "\n",
        "## Chat Completion\n",
        "\n",
        "Chat completion provides a whole new dimension of functionality on large language models. Whereas embeddings are hard to interpret machine language, the chat completion API allows us to give the model instructions on how to interpret the prompt. To illustrate this, we will be working with real reviews of restaurants from Google. Run the cell below to read in the data."
      ]
    },
    {
      "cell_type": "code",
      "execution_count": 26,
      "metadata": {
        "colab": {
          "base_uri": "https://localhost:8080/",
          "height": 206
        },
        "id": "_IEMpzaugpdy",
        "outputId": "731d4ea9-1c7e-492e-a8cd-c710802fe80d"
      },
      "outputs": [
        {
          "data": {
            "text/html": [
              "\n",
              "\n",
              "  <div id=\"df-43048911-f09f-4163-ad47-403582825e0f\">\n",
              "    <div class=\"colab-df-container\">\n",
              "      <div>\n",
              "<style scoped>\n",
              "    .dataframe tbody tr th:only-of-type {\n",
              "        vertical-align: middle;\n",
              "    }\n",
              "\n",
              "    .dataframe tbody tr th {\n",
              "        vertical-align: top;\n",
              "    }\n",
              "\n",
              "    .dataframe thead th {\n",
              "        text-align: right;\n",
              "    }\n",
              "</style>\n",
              "<table border=\"1\" class=\"dataframe\">\n",
              "  <thead>\n",
              "    <tr style=\"text-align: right;\">\n",
              "      <th></th>\n",
              "      <th>business_id</th>\n",
              "      <th>review_text</th>\n",
              "      <th>rating</th>\n",
              "    </tr>\n",
              "  </thead>\n",
              "  <tbody>\n",
              "    <tr>\n",
              "      <th>0</th>\n",
              "      <td>60567465d335d0abfb415b26</td>\n",
              "      <td>The tang of the tomato sauce is outstanding. A...</td>\n",
              "      <td>4</td>\n",
              "    </tr>\n",
              "    <tr>\n",
              "      <th>1</th>\n",
              "      <td>6050fa9f5b4ccec8d5cae994</td>\n",
              "      <td>Chicken and waffles were really good!</td>\n",
              "      <td>5</td>\n",
              "    </tr>\n",
              "    <tr>\n",
              "      <th>2</th>\n",
              "      <td>604be10877e81aaed3cc9a1e</td>\n",
              "      <td>The appetizer of colossal shrimp was very good...</td>\n",
              "      <td>4</td>\n",
              "    </tr>\n",
              "    <tr>\n",
              "      <th>3</th>\n",
              "      <td>60411e017cd8bf130362365a</td>\n",
              "      <td>The fish tacos here  omg! The salad was great ...</td>\n",
              "      <td>5</td>\n",
              "    </tr>\n",
              "    <tr>\n",
              "      <th>4</th>\n",
              "      <td>604139dd7cd8bf1303624208</td>\n",
              "      <td>Ribs are great, as are the mac and cheese, fri...</td>\n",
              "      <td>4</td>\n",
              "    </tr>\n",
              "  </tbody>\n",
              "</table>\n",
              "</div>\n",
              "      <button class=\"colab-df-convert\" onclick=\"convertToInteractive('df-43048911-f09f-4163-ad47-403582825e0f')\"\n",
              "              title=\"Convert this dataframe to an interactive table.\"\n",
              "              style=\"display:none;\">\n",
              "\n",
              "  <svg xmlns=\"http://www.w3.org/2000/svg\" height=\"24px\"viewBox=\"0 0 24 24\"\n",
              "       width=\"24px\">\n",
              "    <path d=\"M0 0h24v24H0V0z\" fill=\"none\"/>\n",
              "    <path d=\"M18.56 5.44l.94 2.06.94-2.06 2.06-.94-2.06-.94-.94-2.06-.94 2.06-2.06.94zm-11 1L8.5 8.5l.94-2.06 2.06-.94-2.06-.94L8.5 2.5l-.94 2.06-2.06.94zm10 10l.94 2.06.94-2.06 2.06-.94-2.06-.94-.94-2.06-.94 2.06-2.06.94z\"/><path d=\"M17.41 7.96l-1.37-1.37c-.4-.4-.92-.59-1.43-.59-.52 0-1.04.2-1.43.59L10.3 9.45l-7.72 7.72c-.78.78-.78 2.05 0 2.83L4 21.41c.39.39.9.59 1.41.59.51 0 1.02-.2 1.41-.59l7.78-7.78 2.81-2.81c.8-.78.8-2.07 0-2.86zM5.41 20L4 18.59l7.72-7.72 1.47 1.35L5.41 20z\"/>\n",
              "  </svg>\n",
              "      </button>\n",
              "\n",
              "\n",
              "\n",
              "    <div id=\"df-d151f8fe-e148-41b1-a064-d1fe07f4d57e\">\n",
              "      <button class=\"colab-df-quickchart\" onclick=\"quickchart('df-d151f8fe-e148-41b1-a064-d1fe07f4d57e')\"\n",
              "              title=\"Suggest charts.\"\n",
              "              style=\"display:none;\">\n",
              "\n",
              "<svg xmlns=\"http://www.w3.org/2000/svg\" height=\"24px\"viewBox=\"0 0 24 24\"\n",
              "     width=\"24px\">\n",
              "    <g>\n",
              "        <path d=\"M19 3H5c-1.1 0-2 .9-2 2v14c0 1.1.9 2 2 2h14c1.1 0 2-.9 2-2V5c0-1.1-.9-2-2-2zM9 17H7v-7h2v7zm4 0h-2V7h2v10zm4 0h-2v-4h2v4z\"/>\n",
              "    </g>\n",
              "</svg>\n",
              "      </button>\n",
              "    </div>\n",
              "\n",
              "<style>\n",
              "  .colab-df-quickchart {\n",
              "    background-color: #E8F0FE;\n",
              "    border: none;\n",
              "    border-radius: 50%;\n",
              "    cursor: pointer;\n",
              "    display: none;\n",
              "    fill: #1967D2;\n",
              "    height: 32px;\n",
              "    padding: 0 0 0 0;\n",
              "    width: 32px;\n",
              "  }\n",
              "\n",
              "  .colab-df-quickchart:hover {\n",
              "    background-color: #E2EBFA;\n",
              "    box-shadow: 0px 1px 2px rgba(60, 64, 67, 0.3), 0px 1px 3px 1px rgba(60, 64, 67, 0.15);\n",
              "    fill: #174EA6;\n",
              "  }\n",
              "\n",
              "  [theme=dark] .colab-df-quickchart {\n",
              "    background-color: #3B4455;\n",
              "    fill: #D2E3FC;\n",
              "  }\n",
              "\n",
              "  [theme=dark] .colab-df-quickchart:hover {\n",
              "    background-color: #434B5C;\n",
              "    box-shadow: 0px 1px 3px 1px rgba(0, 0, 0, 0.15);\n",
              "    filter: drop-shadow(0px 1px 2px rgba(0, 0, 0, 0.3));\n",
              "    fill: #FFFFFF;\n",
              "  }\n",
              "</style>\n",
              "\n",
              "    <script>\n",
              "      async function quickchart(key) {\n",
              "        const containerElement = document.querySelector('#' + key);\n",
              "        const charts = await google.colab.kernel.invokeFunction(\n",
              "            'suggestCharts', [key], {});\n",
              "      }\n",
              "    </script>\n",
              "\n",
              "      <script>\n",
              "\n",
              "function displayQuickchartButton(domScope) {\n",
              "  let quickchartButtonEl =\n",
              "    domScope.querySelector('#df-d151f8fe-e148-41b1-a064-d1fe07f4d57e button.colab-df-quickchart');\n",
              "  quickchartButtonEl.style.display =\n",
              "    google.colab.kernel.accessAllowed ? 'block' : 'none';\n",
              "}\n",
              "\n",
              "        displayQuickchartButton(document);\n",
              "      </script>\n",
              "      <style>\n",
              "    .colab-df-container {\n",
              "      display:flex;\n",
              "      flex-wrap:wrap;\n",
              "      gap: 12px;\n",
              "    }\n",
              "\n",
              "    .colab-df-convert {\n",
              "      background-color: #E8F0FE;\n",
              "      border: none;\n",
              "      border-radius: 50%;\n",
              "      cursor: pointer;\n",
              "      display: none;\n",
              "      fill: #1967D2;\n",
              "      height: 32px;\n",
              "      padding: 0 0 0 0;\n",
              "      width: 32px;\n",
              "    }\n",
              "\n",
              "    .colab-df-convert:hover {\n",
              "      background-color: #E2EBFA;\n",
              "      box-shadow: 0px 1px 2px rgba(60, 64, 67, 0.3), 0px 1px 3px 1px rgba(60, 64, 67, 0.15);\n",
              "      fill: #174EA6;\n",
              "    }\n",
              "\n",
              "    [theme=dark] .colab-df-convert {\n",
              "      background-color: #3B4455;\n",
              "      fill: #D2E3FC;\n",
              "    }\n",
              "\n",
              "    [theme=dark] .colab-df-convert:hover {\n",
              "      background-color: #434B5C;\n",
              "      box-shadow: 0px 1px 3px 1px rgba(0, 0, 0, 0.15);\n",
              "      filter: drop-shadow(0px 1px 2px rgba(0, 0, 0, 0.3));\n",
              "      fill: #FFFFFF;\n",
              "    }\n",
              "  </style>\n",
              "\n",
              "      <script>\n",
              "        const buttonEl =\n",
              "          document.querySelector('#df-43048911-f09f-4163-ad47-403582825e0f button.colab-df-convert');\n",
              "        buttonEl.style.display =\n",
              "          google.colab.kernel.accessAllowed ? 'block' : 'none';\n",
              "\n",
              "        async function convertToInteractive(key) {\n",
              "          const element = document.querySelector('#df-43048911-f09f-4163-ad47-403582825e0f');\n",
              "          const dataTable =\n",
              "            await google.colab.kernel.invokeFunction('convertToInteractive',\n",
              "                                                     [key], {});\n",
              "          if (!dataTable) return;\n",
              "\n",
              "          const docLinkHtml = 'Like what you see? Visit the ' +\n",
              "            '<a target=\"_blank\" href=https://colab.research.google.com/notebooks/data_table.ipynb>data table notebook</a>'\n",
              "            + ' to learn more about interactive tables.';\n",
              "          element.innerHTML = '';\n",
              "          dataTable['output_type'] = 'display_data';\n",
              "          await google.colab.output.renderOutput(dataTable, element);\n",
              "          const docLink = document.createElement('div');\n",
              "          docLink.innerHTML = docLinkHtml;\n",
              "          element.appendChild(docLink);\n",
              "        }\n",
              "      </script>\n",
              "    </div>\n",
              "  </div>\n"
            ],
            "text/plain": [
              "                business_id  \\\n",
              "0  60567465d335d0abfb415b26   \n",
              "1  6050fa9f5b4ccec8d5cae994   \n",
              "2  604be10877e81aaed3cc9a1e   \n",
              "3  60411e017cd8bf130362365a   \n",
              "4  604139dd7cd8bf1303624208   \n",
              "\n",
              "                                         review_text  rating  \n",
              "0  The tang of the tomato sauce is outstanding. A...       4  \n",
              "1              Chicken and waffles were really good!       5  \n",
              "2  The appetizer of colossal shrimp was very good...       4  \n",
              "3  The fish tacos here  omg! The salad was great ...       5  \n",
              "4  Ribs are great, as are the mac and cheese, fri...       4  "
            ]
          },
          "execution_count": 26,
          "metadata": {},
          "output_type": "execute_result"
        }
      ],
      "source": [
        "review_df = pd.read_csv('/content/drive/MyDrive/DLE-Jun23/Projects/dle_utils/data/review_df_cols.csv', index_col=[0])\n",
        "review_df.head()"
      ]
    },
    {
      "cell_type": "markdown",
      "metadata": {
        "id": "G7JTD2BQtzOj"
      },
      "source": [
        "You'll notice three columns: ```business_id, review_text, rating```. The business is a unique id associated with each restaurant. The rating is a score from 1-5, and the review_text is, well, the review text.\n",
        "\n",
        "Rather than try to predict ratings, we're going to try something a little more complicated. Imagine you're working for a restaurant recommendation company, and this user feedback comes in. Your manager wants you to solve this problem and you're tasked with finding the answer using deep learning:\n",
        "\n",
        "**I love using your app to find restaurants, but each time I get to a restaurant, I don't know what to order. I know that other users write reviews about specific menu items, but it's a time-consuming process to go through each review to find them. I wish there was a quick summary of the reviews for each menu item!**\n",
        "\n",
        "Let's break down this problem into a couple steps:\n",
        "\n",
        "1. We want to collect all the reviews for a specific restaurant. For example, we can look at the restaurant with ```business_id=605618c0d335d0abfb415a0f```. Run the cell below to get a sample of the reviews:"
      ]
    },
    {
      "cell_type": "code",
      "execution_count": 27,
      "metadata": {
        "colab": {
          "base_uri": "https://localhost:8080/"
        },
        "id": "XAnEWzWdEXTN",
        "outputId": "87e1160f-67f7-40c0-f253-38a80e31ee96"
      },
      "outputs": [
        {
          "name": "stdout",
          "output_type": "stream",
          "text": [
            "I had the elk burger and my wife had the hot roast beef sandwich, I think the hot sandwich is better tasting.\n",
            "Portions are quite large, you get A WHOLE LOAF OF BREAD (see photo). Pie was great, but they ran out of banana blueberry cream pie so I didnt get try Ethels famous cream topping and ask for the family recipe.\n",
            "I got the cheeseburger with bacon and my husband and mom and sister got the Hawaiian burger! They are big burgers so I recommend sharing!\n",
            "The fries are tasty and perfectly crunchy, the burgers and salad are great too.\n",
            "The fried green beans appetizer was good. The elk burger and Reuben were average. The boysenberry tasted good with the vanilla ice cream though.\n",
            "The Rodeo Burger is DELICIOUS!! But man, that burger... We couldn't make up our minds on either the Apple Pie or the Chocolate Pie.\n",
            "I had the French dip that fantastic, REAL au jus, hubby had chicken fried steak that he loved, my son had a BLT on sourdough and daughter had the fish and chips.\n",
            "I got the elk burger with fries and it was very good. The fries were great! The lunch menu was soup, salad, sandwiches, and burgers.\n",
            "I ordered a local beer and a hamburger, but it was okay. The regular burger was better than the sandwich. The Turkish sandwich had a unique jam inside.\n",
            "Roast beef Manhattan is just not the same without mashed potatoes (they were out), but the fries offered as an alternative sufficed. Everyone enjoyed the sampler platter (though they were out of the fried green beans also). Wings were extra crispy and slightly spicy. Shrimp were large with light flavorful breading. No aoili or marinara sauce, just Ranch and cocktail. I was looking forward to fresh homemade pie and was disappointed to find they were out of everything but blueberry.\n",
            "The porter steak was ok.\n",
            "I would highly recommend the strawberry banana cream pie. The granola crust was amazing. The other hot fruit pies pair very well with ice cream, and it's only a dollar more for the ice cream!\n",
            "Took 35 mins for four standard sandwiches to show up at 3pm. Chicken tastes very stale. Grilled tuna sandwich is no better than the one we purchased from store.\n",
            "Omlette options were min, no real \"supreme\" option. EIGHT bucks for a slice of pie!\n",
            "The taste of a true American homemade burger.\n",
            "The broccoli cheese soup was pretty darn good too.\n"
          ]
        }
      ],
      "source": [
        "# Just run this!\n",
        "reviews = review_df[review_df['business_id']=='605618c0d335d0abfb415a0f']['review_text'].to_list()\n",
        "print('\\n'.join(reviews))"
      ]
    },
    {
      "cell_type": "markdown",
      "metadata": {
        "id": "9Q_AYrmUwlB0"
      },
      "source": [
        "2. For each review, we want to ask ChatGPT to extract the reviews for specific menu items. There are a few formats we can get this in, but to make it clear, we can have ChatGPT return it as a json/dictionary.\n",
        "\n",
        "The idea is to get a lookup table of items, plus their reviews. For example,\n",
        "\n",
        "```{'chow mein': 'Most users found it delicious, with some thinking it is too spicy', \\\n",
        "    'orange chicken': 'This is a crowd favorite, and has been described as \"tangy\" and \"zesty\"'}```\n",
        "\n",
        "Let's start with one of the reviews:"
      ]
    },
    {
      "cell_type": "code",
      "execution_count": 28,
      "metadata": {
        "colab": {
          "base_uri": "https://localhost:8080/"
        },
        "id": "rfjfvedipg71",
        "outputId": "54bc0020-7a80-4bbc-e88e-1ec3ca0b7eed"
      },
      "outputs": [
        {
          "name": "stdout",
          "output_type": "stream",
          "text": [
            "I ordered a local beer and a hamburger, but it was okay. The regular burger was better than the sandwich. The Turkish sandwich had a unique jam inside.\n"
          ]
        }
      ],
      "source": [
        "# Just run this!\n",
        "sample_review = reviews[8]\n",
        "print(sample_review)"
      ]
    },
    {
      "cell_type": "markdown",
      "metadata": {
        "id": "TfMpPXd9yEtB"
      },
      "source": [
        "Now, we want to get ChatGPT to convert this review to a dictionary:\n",
        "\n",
        "To query OpenAI's ChatGPT API, use ```openai.ChatCompletion.create()```. You need to pass two parameters:\n",
        "\n",
        "1. ```model```, which should be 'gpt-3.5-turbo'\n",
        "2. ```messages```, which should be a list of dictionaries. Each dictionary should contain two entries: ```'role'``` and ```'content'```.\n",
        "\n",
        "```'role'``` can either be ```'system'```, ```'user'```, or ```'assistant'```.\n",
        "\n",
        "The role ```'system'``` is meant to be a persistent instruction for the prompt. You can write something like ```'You are an restaurant review writer whose job it is to help people find good menu items. You will return responses is json dictionary format only'```.\n",
        "\n",
        "The role ```'user'``` is the prompt given. For example, the prompt can be: ```'The following text is a list of restaurant reviews. For each unique menu item mentioned, give a summary of the user reviews for that menu item. Return the output in the form of a json dictionary, where the keys are unique menu items and the values are the summary.'```\n"
      ]
    },
    {
      "cell_type": "code",
      "execution_count": 29,
      "metadata": {
        "id": "wh2jiiGa0qKw"
      },
      "outputs": [],
      "source": [
        "# Run these lines\n",
        "system_prompt = 'You are an restaurant review writer whose job it is to help \\\n",
        "               people find good menu items. You will return responses is json \\\n",
        "                dictionary format only'\n",
        "\n",
        "# Feel free to modify this!\n",
        "prompt = f'The following text is a list of restaurant reviews. \\\n",
        "        For each unique menu item mentioned, give a summary of \\\n",
        "        the user reviews for that menu item. \\\n",
        "        Return the output in the form of a json dictionary, \\\n",
        "        where the keys are unique menu items \\\n",
        "        and the values are the summary. : \"{sample_review}\"'\n"
      ]
    },
    {
      "cell_type": "markdown",
      "metadata": {
        "id": "TiMZMeJg3pJ3"
      },
      "source": [
        "The ```.create``` function expects the parameter ```messages``` to be a list, with each element as a dictionary which specifies who (```role```) and what (```content```) is said.\n",
        "\n",
        "So for example, if we wanted to ask ChatGPT what the first US state is, we could pass in the following into ```messages```:\n",
        "\n",
        "```messages=[{'role': 'system', 'content': 'You are a helpful tour guide.'}, {'role': 'user', 'content': 'What is the first US state?'}]```\n",
        "\n",
        "In the cell below, pass the example about US states into ```openai.ChatCompletion.create``` and print out what the output is in ```response```:"
      ]
    },
    {
      "cell_type": "code",
      "execution_count": 30,
      "metadata": {
        "id": "kfqC1n-Y52xQ"
      },
      "outputs": [],
      "source": [
        "messages=[{'role': 'system', 'content': 'You are a helpful tour guide.'}, {'role': 'user', 'content': 'What is the first US state?'}]"
      ]
    },
    {
      "cell_type": "code",
      "execution_count": 31,
      "metadata": {
        "colab": {
          "base_uri": "https://localhost:8080/"
        },
        "id": "l7T7QbLXgw54",
        "outputId": "de023816-44de-4aa4-ada7-29e82fc5571b"
      },
      "outputs": [
        {
          "name": "stdout",
          "output_type": "stream",
          "text": [
            "{\n",
            "  \"id\": \"chatcmpl-7hdapDmW3Nu8oCUxm11uwERqHYzIx\",\n",
            "  \"object\": \"chat.completion\",\n",
            "  \"created\": 1690634655,\n",
            "  \"model\": \"gpt-3.5-turbo-0613\",\n",
            "  \"choices\": [\n",
            "    {\n",
            "      \"index\": 0,\n",
            "      \"message\": {\n",
            "        \"role\": \"assistant\",\n",
            "        \"content\": \"The first state to join the United States was Delaware. It became a state on December 7, 1787, making it the first state to ratify the U.S. Constitution.\"\n",
            "      },\n",
            "      \"finish_reason\": \"stop\"\n",
            "    }\n",
            "  ],\n",
            "  \"usage\": {\n",
            "    \"prompt_tokens\": 25,\n",
            "    \"completion_tokens\": 38,\n",
            "    \"total_tokens\": 63\n",
            "  }\n",
            "}\n"
          ]
        }
      ],
      "source": [
        "response = openai.ChatCompletion.create(model=\"gpt-3.5-turbo\",messages=messages)\n",
        "\n",
        "print(response)"
      ]
    },
    {
      "cell_type": "markdown",
      "metadata": {
        "id": "Vy3aOSCF7Jkv"
      },
      "source": [
        "As you see, the response itself is a dictionary. Here are a couple key things to point out about this response:\n",
        "\n",
        "1. The actual response is found in \"content\" under \"choices\".\n",
        "2. The \"usage\" dictionary may be helpful for understanding how many credits you have used per query (ie. for logging purposes). But don't worry about that for this project.\n",
        "\n",
        "With this information, we are ready to get ChatGPT to convert a restaurant review into a menu item-specific look-up table.\n",
        "\n",
        "In the cell below, query the API given the variables ```prompt``` and ```system_prompt``` defined for above restaurant reviews:"
      ]
    },
    {
      "cell_type": "code",
      "execution_count": 33,
      "metadata": {
        "id": "sJP9fJlKr1pe"
      },
      "outputs": [],
      "source": [
        "messages = messages=[{'role': 'system', 'content': 'You are a helpful tour guide.'}, {'role': 'user', 'content': 'What is the first US state?'}]\n",
        "response = openai.ChatCompletion.create(model=\"gpt-3.5-turbo\",messages=messages)\n",
        "response_as_dict =response['choices'][0][\"message\"][\"content\"]"
      ]
    },
    {
      "cell_type": "code",
      "execution_count": 34,
      "metadata": {
        "id": "OSop0oKe7sqd"
      },
      "outputs": [],
      "source": [
        "messages=[{'role': 'system', 'content': f\"{system_prompt}\"}, {'role': 'user', 'content': f\"{prompt}\"}]"
      ]
    },
    {
      "cell_type": "code",
      "execution_count": 35,
      "metadata": {
        "colab": {
          "base_uri": "https://localhost:8080/"
        },
        "id": "NLU_sDQzgzWm",
        "outputId": "228e3d07-c44d-4189-f603-836a14d50148"
      },
      "outputs": [
        {
          "name": "stdout",
          "output_type": "stream",
          "text": [
            "{\n",
            "  \"id\": \"chatcmpl-7cJ1GmuGOCJBexielRKYxoLq9dkmp\",\n",
            "  \"object\": \"chat.completion\",\n",
            "  \"created\": 1689363930,\n",
            "  \"model\": \"gpt-3.5-turbo-0613\",\n",
            "  \"choices\": [\n",
            "    {\n",
            "      \"index\": 0,\n",
            "      \"message\": {\n",
            "        \"role\": \"assistant\",\n",
            "        \"content\": \"{\\n   \\\"local beer\\\": \\\"The user mentioned that they ordered a local beer, but did not provide any further details about it.\\\",\\n   \\\"hamburger\\\": \\\"The user mentioned that they ordered a hamburger and thought it was okay.\\\",\\n   \\\"regular burger\\\": \\\"The user mentioned that they had a regular burger and liked it better than the sandwich.\\\",\\n   \\\"sandwich\\\": \\\"The user mentioned that they had a sandwich with a unique jam inside, but did not provide any further details about it.\\\",\\n   \\\"Turkish sandwich\\\": \\\"The user mentioned that they had a Turkish sandwich with a unique jam inside.\\\"\\n}\"\n",
            "      },\n",
            "      \"finish_reason\": \"stop\"\n",
            "    }\n",
            "  ],\n",
            "  \"usage\": {\n",
            "    \"prompt_tokens\": 133,\n",
            "    \"completion_tokens\": 123,\n",
            "    \"total_tokens\": 256\n",
            "  }\n",
            "}\n"
          ]
        }
      ],
      "source": [
        "messages=[{'role': 'system', 'content': f\"{system_prompt}\"}, {'role': 'user', 'content': f\"{prompt}\"}]\n",
        "response = openai.ChatCompletion.create(model=\"gpt-3.5-turbo\",messages=messages)\n",
        "\n",
        "print(response)"
      ]
    },
    {
      "cell_type": "code",
      "execution_count": 43,
      "metadata": {
        "colab": {
          "base_uri": "https://localhost:8080/"
        },
        "id": "QHUqoKru9L0x",
        "outputId": "f14f4282-bcfc-4166-e6cd-3d6eafb14aa4"
      },
      "outputs": [
        {
          "data": {
            "text/plain": [
              "{'local beer': 'The user mentioned that they ordered a local beer, but did not provide any further details about it.',\n",
              " 'hamburger': 'The user mentioned that they ordered a hamburger and thought it was okay.',\n",
              " 'regular burger': 'The user mentioned that they had a regular burger and liked it better than the sandwich.',\n",
              " 'sandwich': 'The user mentioned that they had a sandwich with a unique jam inside, but did not provide any further details about it.',\n",
              " 'Turkish sandwich': 'The user mentioned that they had a Turkish sandwich with a unique jam inside.'}"
            ]
          },
          "execution_count": 43,
          "metadata": {},
          "output_type": "execute_result"
        }
      ],
      "source": [
        "ast.literal_eval(response['choices'][0][\"message\"][\"content\"])"
      ]
    },
    {
      "cell_type": "markdown",
      "metadata": {
        "id": "vf62KnIP-Rdv"
      },
      "source": [
        "Next, extract just the content. You will notice it is a string with ```\\n``` and ```\\```. You can turn this into a Python object using ```ast.literal_eval```. This turns a string of a dictionary into an actual dictionary.\n",
        "\n",
        "In the cell below, extract the API's response content and convert it into a Python dictionary using ```ast.literal_eval```. (You may need to navigate the ```response``` dictionary a bit to find what you want)"
      ]
    },
    {
      "cell_type": "code",
      "execution_count": 44,
      "metadata": {
        "colab": {
          "base_uri": "https://localhost:8080/"
        },
        "id": "VhxMZSsDg1c0",
        "outputId": "7b27c388-6e49-4c41-8f9d-b8bd9aeb8d7f"
      },
      "outputs": [
        {
          "name": "stdout",
          "output_type": "stream",
          "text": [
            " Original review: I ordered a local beer and a hamburger, but it was okay. The regular burger was better than the sandwich. The Turkish sandwich had a unique jam inside.\n",
            "{'Turkish sandwich': 'The user mentioned that they had a Turkish sandwich with '\n",
            "                     'a unique jam inside.',\n",
            " 'hamburger': 'The user mentioned that they ordered a hamburger and thought it '\n",
            "              'was okay.',\n",
            " 'local beer': 'The user mentioned that they ordered a local beer, but did not '\n",
            "               'provide any further details about it.',\n",
            " 'regular burger': 'The user mentioned that they had a regular burger and '\n",
            "                   'liked it better than the sandwich.',\n",
            " 'sandwich': 'The user mentioned that they had a sandwich with a unique jam '\n",
            "             'inside, but did not provide any further details about it.'}\n",
            "\n",
            "\n"
          ]
        }
      ],
      "source": [
        "response_as_dict = ast.literal_eval(response['choices'][0][\"message\"][\"content\"])\n",
        "\n",
        "print(f' Original review: {sample_review}')\n",
        "pprint.PrettyPrinter().pprint(response_as_dict)\n",
        "print('\\n')"
      ]
    },
    {
      "cell_type": "code",
      "execution_count": 45,
      "metadata": {
        "colab": {
          "base_uri": "https://localhost:8080/",
          "height": 64
        },
        "id": "WA575Fgx_Apv",
        "outputId": "6dd31e1f-bd93-40ff-9a99-a5900766c4de"
      },
      "outputs": [
        {
          "data": {
            "text/markdown": [
              "## Correct! 🎉"
            ],
            "text/plain": [
              "<IPython.core.display.Markdown object>"
            ]
          },
          "execution_count": 45,
          "metadata": {},
          "output_type": "execute_result"
        }
      ],
      "source": [
        "check('4.1.5', response_as_dict)"
      ]
    },
    {
      "cell_type": "markdown",
      "metadata": {
        "id": "gsUKuqd5-5xw"
      },
      "source": [
        "Does this summary make sense?\n",
        "\n",
        "Next, let's try doing this for multiple reviews.\n",
        "\n",
        "In the cell below, extend the prompt to include all the reviews in the list ```reviews```. You have the choice of the following:\n",
        "\n",
        "1. Combine all the reviews into one giant string and combine that with your original prompt\n",
        "\n",
        "2. Run the prompt once for each review, and then merge the dictionaries into one\n",
        "\n",
        "3. Do the reviews in chunks (a mix between one and two).\n",
        "\n",
        "A few hints: (1) If you are running into token limits from OpenAI, you will need to find a way to divide your prompt into smaller bits and combinin them after. (2) Always be as explicit with the API as possible! (Tell it what you are putting in as input, and what you expect to receive as output).\n",
        "\n"
      ]
    },
    {
      "cell_type": "code",
      "execution_count": 48,
      "metadata": {
        "colab": {
          "base_uri": "https://localhost:8080/",
          "height": 139
        },
        "id": "uQsDTHXrF3sp",
        "outputId": "6972b10c-a8a9-499f-ce40-50da9eb48e11"
      },
      "outputs": [
        {
          "data": {
            "application/vnd.google.colaboratory.intrinsic+json": {
              "type": "string"
            },
            "text/plain": [
              "'the food is really good, I had a great experience. they have a big variety.;High prices for not so big portions! But I think it is the only decent food available on the National Mall area without walking a few miles away from there.;The gelato looked \"old\" and ended up having coffee.;(Translated by Google) The fast food restaurants under the National Palace of Art are not cheap, and there are many choices. They are all Western food. The dining environment is very good and the art atmosphere is strong.\\n\\n(Original)\\n国家艺术宫下的快餐厅，不便宜，选择多，都是西餐，就餐环境非常好，艺术气息浓厚。;(Translated by Google) The food is barely edible and the price is high. The rice was uncooked and the pasta was blown, making it difficult to eat. The seafood pasta contained 4 mussels, but only two of them were shells. It is a strong light. Never go.\\n\\n(Original)\\n음식은 거의 먹을 수 없는 수준이며 가격은 비쌉니다. 밥은 생쌀에다가 파스타는 불어서 먹기 힘이 들었습니다. 해물 파스타에 홍합이 4개 들었는데 그나마 두개는 껍질뿐이었습니다. 강력 비추입니다. 절대 가지 마세요.;Rip off!!!\\nI have dreads and I just needed a quick shade / outline. I was charged $30 for it!!! If it were a full haircut ok but a shade just on the outline that took no more than 10min... ($180 an hour lol)\\nI walked 5 min down the street and asked another barber shop how much they charge for the same job, they said $15!;Great new space combined with great barbers.;Got tightened up by my main man Carl;My local barbershop for 8 years now.;Nice;Quick service, and a variety of snacks! There is a master mechanic on duty who can fix almost anything on a car! Can\\'t remember his name but it starts with a \\'B\";Fast Service.;Watch for cars!!! Good prices :);Excellent service!;The attendant lady at the window is such a beautiful soul 😘;Decent gas prices.;You can buy used tires and get your tire fix and you can buy rims for your car or truck;Small.;Informative and friendly staffs.;Useless. Lady told me first I needed a box for the box I was shipping. Then once we cleared that hurdle, it has to fit through her window. Which it would have. But she was not willing to try. Didn\\'t apologize, dumped me off on another branch. Save your time and go to a real post office.;Ms. Gail Sparrow is awesome. She hooked it up with the secrets of how to get the cheapest rate.  The hours aren\\'t great, but that\\'s a one woman show.  You gotta respect that fact...all alone with people getting upset at her for something that isn\\'t her fault.  Be nice to her.;the men are cool but the ladies? C\\'mon now roll the eyes. This place manifested like UPO nearly across the street ajacently. The air is literally like .5% on fridays.;Hit or Miss - mostly miss. Almost every visit over the last two years results in poor customer service. The last time I used this post office (Spring 2016), my package sat in the back for a month (according to tracking). The post office employees refused to search for it and check the tracking.  Mysteriously, my package started moving once I made calls to the vendor and USPS customer service line.;Mr. Tony has great customer service and was very helpful! Thank you Sir!;Very good post office;Black people at this post office are rude;Why aren’t the accurate hours listed here?;Employees are kind and super fast!;Excellent teaching & family oriented church !\\nSinging is heavenly;I cannot honestly say I\\'ve been in here but if it\\'s a house of the Lord then I recommend it if you go in there and you don\\'t feel comfortable then you leave I can tell you what to do about this I\\'m a spiritual person but all churches are not good churches so I can\\'t recommend it because I never been in it;Will run you away quickly judgmental;This is the best church to be!!!;Okay fine;Just came here to play a quick basketball game. Court is slightly slanted and baskets are double rimmed, but other than that it\\'s okay.;A nice playground with baby swings and things for older children, too.;Could use a little TLC but is does the job.;Nice park...Great Urban location. ..;Fun place to shop and dine..;Nice park.;Is there a better way to make a special occasion truly memorable? Every moment and every morsel at our last visit was outstanding. The setting and service complement  meticulously prepared food. Wait staff is attentive, accommodating  and knowledgable without being unctuous.  Wine reasonable. Two of us shared the veal rib entree - no, three, because it was such a generous portion that our dog feasted on leftovers for days.  Pricey but good value.;I always want to be able to say Citronelle is over the hill, but every time I go I am wowed by the food.;Gastronomique extraordinaire!\\nThe decor is simple \"hotel fine-dining\" style that, purposely, does not distract or detract from the main event/focus, that is, the AMAZING FOOD that fills your senses with joie de vivre et manger.\\n\\nWe left with only one wish -- that our stomachs were larger to accommodate more of the delicious food and desserts.\\n\\nWe dined there recently for a wedding anniversary.  The staff were wonderfully kind and attentive, with spot-on recommendations.  Overall, a to-die-for culinary experience.\\n\\n... Aperitivi -- Mosaic surf and turf | \"canned\" Lobster \\'Begula\\' pasta (to cleverly resemble caviar)\\n... Primi Piatti -- DUCK, roasted, sweet spiced citrus sauce | SABLEFISH, vegetable tart, lobster-saffron broth\\n... Dolci (to DIE for!!!) -- RASPBERRY VACHERIN | NAPOLEON;Delicious but very pricey.;My favorite is the lavender lemonade and the \"caviar\" lobster.;What a absolute delight! The customer service was off the chain! Five stars up for management and cashier! Store was very clean and the stock person was very helpful as well.;It is a good place to shop for house hold products and personal needs, other things for personal use.;Went to drop of FedEx package for pickup!;Went to drop of FedEx package for pickup!;My experience with this particular Rite Aid Walgreens is always a pleasant and positive one.;Nice new look but some ghetto employees....had to leave after 10min of waiting for someone to help me... I work to hard to give my money to them;I like this store;Love stopping by this Rite Aid.;Terrible experience. Was there yesterday to upgrade my phone after he had ordered the phone I wanted. It took him 15 minutes just to process the tax difference of the two phones after swiping my credit card at least 15 times and in the end not being able to process the exchange. In the end, he still put some charges on my credit card even though I walked out of the store without getting anything. Worse than that, I received two emails of receipts of other customers who had purchased products and were in the store sent to my email. Complete lack of privacy. Completely freaked me out. They never answer the phone and the manager was not on the site yesterday.;Good customer service but pricey;One guy working on Black Friday weekend. Refused to give me an approximate wait time. Mask down below nose. Left after an hour with no resolution to my problem.;I can\\'t believe they closed this store.  It was a convenient location for me since I live in Georgetown. The people there were friendly and knowledgeable. I hope they didn\\'t fire the employees and rather just relocated them to other locations. Now i\\'m going to have to go to K Street or Chinatown\\'s location for some help.  I hope they open up another branch in the Georgetown area.;They were helpful bit couldn\\'t address my issue. I still had to call 611;Not satisfied with employee;Top notch dog park. Had no idea one like this existed in DC and it is a god send.;Great dog park! My boys had fun with the variety of dog buddies.;The big field had lots of room for rubbing.;What a great find! My friend and I decided to take our dogs for a walk in Rock a reek Park, and we finished our walk here. There\\'s lots of space for our dogs to run and get the zoomies our of their system. And the other dogs here seemed really friendly as well.;Very nice little dog park.  The  best part is the much larger grassy park right next to it. If there is no one playing soccer it\\'s a fantastic place for dogs to run around.  Much larger than the actual dog park.;Two slices of pizza $9.50 with a small apple juice. Way over priced and did they forget to cut on the heat. But the staff is very friendly and the store is clean. Over all a good place to get a quick slice.;Great staff and good Pizza its a great location to get a single slice and they have lunch deals.;Customer service could have been more polite.;I ordered pizzas for a meeting at work and they delivered right on time! The Pizza was good too.;Good pizza and quick service;Great food, great price.;Not the most flavorful pizza Bmp.  size is small and bland\\n\\n.;Good pizza and stronboli.;Stuffed pizza is the best.;Good pizza!!;(Translated by Google) Good taste\\n\\n(Original)\\nBuen sabor;What could make a famous book store like Politics and Prose better?  Answer, a yummy coffee shop. Actually misleading to call this a coffee shop. It also serves a variety of wines, beers and savory dishes. The cold peanut noodles are delicious on a hot summer\\'s day. Stay for the books, the food, or both!;I came here to work on my paper, bought a bagel and ready to get to work when I then learned there’s no wifi until two pm. What am I doing here then?\\n\\nIt’s better to go over to Little Red Fox but they have limited space. Just unleash the wifi already.;One of the best spaces to find some quiet in public within the District. The coffee is good and so is the food menu. They have a really nice staff so you don\\'t feel like you\\'re bothering anyone. I would recommend spending an afternoon here working on your laptop.;The new renovation of the politics and prose coffee house is fantastic!  The open faced sandwiches are a welcome and delicious addition to the neighborhood!  The service is the fastest for lunch in the neighborhood, but still has a personal touch.  Bill, who was working at the counter in a beret, was extremely helpful and friendly.  Keith, the barista, made one of the best espressos I\\'ve ever had.  I highly recommend stopping by.;Such an inviting atmosphere with varied seating to enjoy the calm of a good book, company or healthy bite, all in abundance.;Best matcha latte !!!;No WiFi on the weekends. Cute place but I wish I had known that before I bought something;Menu changes seasonally, except for the staple drinks and grilled cheeses. No WiFi on the weekends. Pastries just as good as the food on the menu. More seating and booths from 2016 expansion.;Great coffee and snacks; a favorite spot to meet with friends for coffee.;They turn off the wifi all weekend and during lunch on weekdays.;Great matcha latte!;the food is really good, I had a great experience. they have a big variety.;High prices for not so big portions! But I think it is the only decent food available on the National Mall area without walking a few miles away from there.;The gelato looked \"old\" and ended up having coffee.;(Translated by Google) The fast food restaurants under the National Palace of Art are not cheap, and there are many choices. They are all Western food. The dining environment is very good and the art atmosphere is strong.\\n\\n(Original)\\n国家艺术宫下的快餐厅，不便宜，选择多，都是西餐，就餐环境非常好，艺术气息浓厚。;(Translated by Google) The food is barely edible and the price is high. The rice was uncooked and the pasta was blown, making it difficult to eat. The seafood pasta contained 4 mussels, but only two of them were shells. It is a strong light. Never go.\\n\\n(Original)\\n음식은 거의 먹을 수 없는 수준이며 가격은 비쌉니다. 밥은 생쌀에다가 파스타는 불어서 먹기 힘이 들었습니다. 해물 파스타에 홍합이 4개 들었는데 그나마 두개는 껍질뿐이었습니다. 강력 비추입니다. 절대 가지 마세요.;Rip off!!!\\nI have dreads and I just needed a quick shade / outline. I was charged $30 for it!!! If it were a full haircut ok but a shade just on the outline that took no more than 10min... ($180 an hour lol)\\nI walked 5 min down the street and asked another barber shop how much they charge for the same job, they said $15!;Great new space combined with great barbers.;Got tightened up by my main man Carl;My local barbershop for 8 years now.;Nice;Quick service, and a variety of snacks! There is a master mechanic on duty who can fix almost anything on a car! Can\\'t remember his name but it starts with a \\'B\";Fast Service.;Watch for cars!!! Good prices :);Excellent service!;The attendant lady at the window is such a beautiful soul 😘;Decent gas prices.;You can buy used tires and get your tire fix and you can buy rims for your car or truck;Small.;Informative and friendly staffs.;Useless. Lady told me first I needed a box for the box I was shipping. Then once we cleared that hurdle, it has to fit through her window. Which it would have. But she was not willing to try. Didn\\'t apologize, dumped me off on another branch. Save your time and go to a real post office.;Ms. Gail Sparrow is awesome. She hooked it up with the secrets of how to get the cheapest rate.  The hours aren\\'t great, but that\\'s a one woman show.  You gotta respect that fact...all alone with people getting upset at her for something that isn\\'t her fault.  Be nice to her.;the men are cool but the ladies? C\\'mon now roll the eyes. This place manifested like UPO nearly across the street ajacently. The air is literally like .5% on fridays.;Hit or Miss - mostly miss. Almost every visit over the last two years results in poor customer service. The last time I used this post office (Spring 2016), my package sat in the back for a month (according to tracking). The post office employees refused to search for it and check the tracking.  Mysteriously, my package started moving once I made calls to the vendor and USPS customer service line.;Mr. Tony has great customer service and was very helpful! Thank you Sir!;Very good post office;Black people at this post office are rude;Why aren’t the accurate hours listed here?;Employees are kind and super fast!;Excellent teaching & family oriented church !\\nSinging is heavenly;I cannot honestly say I\\'ve been in here but if it\\'s a house of the Lord then I recommend it if you go in there and you don\\'t feel comfortable then you leave I can tell you what to do about this I\\'m a spiritual person but all churches are not good churches so I can\\'t recommend it because I never been in it;Will run you away quickly judgmental;This is the best church to be!!!;Okay fine;Just came here to play a quick basketball game. Court is slightly slanted and baskets are double rimmed, but other than that it\\'s okay.;A nice playground with baby swings and things for older children, too.;Could use a little TLC but is does the job.;Nice park...Great Urban location. ..;Fun place to shop and dine..;Nice park.;Is there a better way to make a special occasion truly memorable? Every moment and every morsel at our last visit was outstanding. The setting and service complement  meticulously prepared food. Wait staff is attentive, accommodating  and knowledgable without being unctuous.  Wine reasonable. Two of us shared the veal rib entree - no, three, because it was such a generous portion that our dog feasted on leftovers for days.  Pricey but good value.;I always want to be able to say Citronelle is over the hill, but every time I go I am wowed by the food.;Gastronomique extraordinaire!\\nThe decor is simple \"hotel fine-dining\" style that, purposely, does not distract or detract from the main event/focus, that is, the AMAZING FOOD that fills your senses with joie de vivre et manger.\\n\\nWe left with only one wish -- that our stomachs were larger to accommodate more of the delicious food and desserts.\\n\\nWe dined there recently for a wedding anniversary.  The staff were wonderfully kind and attentive, with spot-on recommendations.  Overall, a to-die-for culinary experience.\\n\\n... Aperitivi -- Mosaic surf and turf | \"canned\" Lobster \\'Begula\\' pasta (to cleverly resemble caviar)\\n... Primi Piatti -- DUCK, roasted, sweet spiced citrus sauce | SABLEFISH, vegetable tart, lobster-saffron broth\\n... Dolci (to DIE for!!!) -- RASPBERRY VACHERIN | NAPOLEON;Delicious but very pricey.;My favorite is the lavender lemonade and the \"caviar\" lobster.;What a absolute delight! The customer service was off the chain! Five stars up for management and cashier! Store was very clean and the stock person was very helpful as well.;It is a good place to shop for house hold products and personal needs, other things for personal use.;Went to drop of FedEx package for pickup!;Went to drop of FedEx package for pickup!;My experience with this particular Rite Aid Walgreens is always a pleasant and positive one.;Nice new look but some ghetto employees....had to leave after 10min of waiting for someone to help me... I work to hard to give my money to them;I like this store;Love stopping by this Rite Aid.;Terrible experience. Was there yesterday to upgrade my phone after he had ordered the phone I wanted. It took him 15 minutes just to process the tax difference of the two phones after swiping my credit card at least 15 times and in the end not being able to process the exchange. In the end, he still put some charges on my credit card even though I walked out of the store without getting anything. Worse than that, I received two emails of receipts of other customers who had purchased products and were in the store sent to my email. Complete lack of privacy. Completely freaked me out. They never answer the phone and the manager was not on the site yesterday.;Good customer service but pricey;One guy working on Black Friday weekend. Refused to give me an approximate wait time. Mask down below nose. Left after an hour with no resolution to my problem.;I can\\'t believe they closed this store.  It was a convenient location for me since I live in Georgetown. The people there were friendly and knowledgeable. I hope they didn\\'t fire the employees and rather just relocated them to other locations. Now i\\'m going to have to go to K Street or Chinatown\\'s location for some help.  I hope they open up another branch in the Georgetown area.;They were helpful bit couldn\\'t address my issue. I still had to call 611;Not satisfied with employee;Top notch dog park. Had no idea one like this existed in DC and it is a god send.;Great dog park! My boys had fun with the variety of dog buddies.;The big field had lots of room for rubbing.;What a great find! My friend and I decided to take our dogs for a walk in Rock a reek Park, and we finished our walk here. There\\'s lots of space for our dogs to run and get the zoomies our of their system. And the other dogs here seemed really friendly as well.;Very nice little dog park.  The  best part is the much larger grassy park right next to it. If there is no one playing soccer it\\'s a fantastic place for dogs to run around.  Much larger than the actual dog park.;Two slices of pizza $9.50 with a small apple juice. Way over priced and did they forget to cut on the heat. But the staff is very friendly and the store is clean. Over all a good place to get a quick slice.;Great staff and good Pizza its a great location to get a single slice and they have lunch deals.;Customer service could have been more polite.;I ordered pizzas for a meeting at work and they delivered right on time! The Pizza was good too.;Good pizza and quick service;Great food, great price.;Not the most flavorful pizza Bmp.  size is small and bland\\n\\n.;Good pizza and stronboli.;Stuffed pizza is the best.;Good pizza!!;(Translated by Google) Good taste\\n\\n(Original)\\nBuen sabor;What could make a famous book store like Politics and Prose better?  Answer, a yummy coffee shop. Actually misleading to call this a coffee shop. It also serves a variety of wines, beers and savory dishes. The cold peanut noodles are delicious on a hot summer\\'s day. Stay for the books, the food, or both!;I came here to work on my paper, bought a bagel and ready to get to work when I then learned there’s no wifi until two pm. What am I doing here then?\\n\\nIt’s better to go over to Little Red Fox but they have limited space. Just unleash the wifi already.;One of the best spaces to find some quiet in public within the District. The coffee is good and so is the food menu. They have a really nice staff so you don\\'t feel like you\\'re bothering anyone. I would recommend spending an afternoon here working on your laptop.;The new renovation of the politics and prose coffee house is fantastic!  The open faced sandwiches are a welcome and delicious addition to the neighborhood!  The service is the fastest for lunch in the neighborhood, but still has a personal touch.  Bill, who was working at the counter in a beret, was extremely helpful and friendly.  Keith, the barista, made one of the best espressos I\\'ve ever had.  I highly recommend stopping by.;Such an inviting atmosphere with varied seating to enjoy the calm of a good book, company or healthy bite, all in abundance.;Best matcha latte !!!;No WiFi on the weekends. Cute place but I wish I had known that before I bought something;Menu changes seasonally, except for the staple drinks and grilled cheeses. No WiFi on the weekends. Pastries just as good as the food on the menu. More seating and booths from 2016 expansion.;Great coffee and snacks; a favorite spot to meet with friends for coffee.;They turn off the wifi all weekend and during lunch on weekdays.;Great matcha latte!;Amazing! You can walk around, grab your groceries, and walk out within 10 mins flat. Very fast and easy. Good selection, although I\\'d say the layout is a bit difficult to navigate at times as it\\'s an L shaped store. Hope they can expand soon!;Lots of half empty shelves, very limited produce section, prices in line with every other grocery store. There were two other customers in the store when I visited and the staff couldn\\'t even be bothered to say bye on my way out. Next time I\\'ll just go to TJs or Whole Foods down the road.;Kind of neat experience - nothing like I\\'ve ever done before. They\\'re still working out some kinks in the system... As you can see, their pricing system isn\\'t perfect (no way that Mac & Cheese costs $15.98). Everything you buy goes into a virtual cart - but there\\'s no way you can see that - so you can\\'t check how much you\\'re spending as you go or see whether the system made any errors until a bit after you\\'ve left. I hope their system for correcting errors is easy - not that I had any on this visit.;Hyper convenient, though often picked off (especially of produce) and obviously quite creepy what with all the sensors.;Unfortunately, I was not impressed. It\\'s not a store to do a full grocery shopping. Just a place to pick up necessities. Meat or veggie isle was not well stocked. Not a big selection of coffee.;It\\'s a little novelty because you can just grab items and leave. I\\'m a controls engineer and pretty sure Amazon is simple recording everything in store then having a human review and tally purchases.  I doubt Amazon is doing this fully autonomously when human labor is so cheap.\\n\\nSome things that are annoying:\\n\\n1. Only a single small sign that tells you the one tiny button to hit in the Amazon app to display a QR code to gain entry\\n\\n2. Store was about 50% empty. Most of the produce was gone and many empty shelves\\n\\n3. Only name brand junk food.\\n\\n4. Small selection of produce\\n\\n5. Alcohol section is lacking\\n\\n6. Prices are a little higher than other locations\\n\\n7. Amazon doesn\\'t give you a reciept or charge immediately. This further supports my idea that the store is simply reviewing purchases after the fact. Since there\\'s no reciept, and I didn\\'t record the prices for what I purchased there\\'s no way to know if the charge will be accurate. Amazon can increase prices and there\\'s no way to know unless you\\'re prepared.\\n\\nBasically this is a worse version of any convience store. Lack of selection, lack of prepared foods, no idea of the charges.\\n\\nIf you\\'re in a hurry, go to a 7/11, CVS, gas station etc. If you are hungry go to a real grocery store.\\n\\nIf you want to give Bezos more money to continue to exploit employees and waste it on sub orbital flights with a poorly designed rocket, then go to Amazon Fresh;The staff was very friendly and helpful.;No more check out lines!!! Love it;Very clean\\nStaff is very pleasant and helpful\\nPrices are cleat\\nIncredible technology\\nA negative point  do not carry food for animals.;Sarah is amazing!!! She\\'s a wavy/curly hair cutting ninja. Go see her -- you won\\'t regret it! The salon\\'s vibe is also super chill, which creates a relaxing atmosphere in these times.;I looked for a few years to find a salon I really liked after moving to DC and this is definitely it. The gentleman at the desk is always a delight to talk to and make appointments with, and I\\'ve seen two different stylists and they are both outstanding. Highly recommend.;Great staff, great products, conveniently located! I always enjoy going here for my cut!;Talented stylist and tasteful decor. Ask for Andrew.;Highly recommend Leah!;Ask for Andrew!;Went for my road test today.  Showed up on time -their website advised to be early- had my docs, my car (I booked one with a local driving school) and my plastic (they don’t take cash) and was in and out in about an hour.  Oh and I was greeted by two helpful, smiling employees and did my test with a fair and friendly tester.;I had to go there Three times to try to renew my license. I had a terrible experience each time. They are very rude and appear to have no pleasant personalities at all. I mean the majority are so very rude and nasty. On my third visit to get my license, I was told that the name on my information was not my name. I asked for the manager, a woman who was just as nasty. I was in tears by now. Each time I was told something different. Finally, a man who I guess was their supervisor approached and reviewed my information, asked to see my bank statement, then sent me to another person to give my information to and be photographed. It is a horror there. I really hate to have to go there. I would give them zero if I could.;Good customer service;You guys are awesome! I\\'m coming tomorrow again just to thank each and every one of you. :-);I never have to wait longer than 20 mins to be in and out.;Quick courteous and helpful;DMV Enteance on  Kenilworth Ave its a\\none-way street you have to drive slowly or you will very easily. Building Enteance is after Mobil Gas station ⛽.\\npearl parking size is 22 X 8 feet at this location.\\nThey have 2 spots for tests.;Community Dinner Tuesday 5:30 to 6:30;I Love it;Nice;Love it;Jamie and the team are top notch professionals who proactively address any and all car issues you may encounter. Couldn\\'t recommend them more;Jamie was great the manager when  I was unloading  the Volvo. He was able to assist.;I pulled into Exxon Friday afternoon following Thanksgiving with a punctured tire and an urgent need for my car on Sunday.  It required an order for a tire they didn\\'t have on hand over a holiday weekend.  Less than 24 hours elapsed and I drove home with a new tire at a reasonable price; again, on a holiday weekend.\\nThey really delivered.;I have used them multiple times over many years. Great experience. Staff greats me imediattly does quick diagnostic tells me the price and gets it done between 15 minutes and 24 hours. Prices are reasonable.;Replaced a flat tire. Professional, prompt, and fairly priced.;Great honest local business - highly recommend!;I pulled into Exxon Friday afternoon following Thanksgiving with a punctured tire and an urgent need for my car on Sunday.  It required an order for a tire they didn\\'t have on hand over a holiday weekend.  Less than 24 hours elapsed and I drove home with a new tire at a reasonable price; again, on a holiday weekend.\\nThey really delivered.;I have used them multiple times over many years. Great experience. Staff greats me imediattly does quick diagnostic tells me the price and gets it done between 15 minutes and 24 hours. Prices are reasonable.;Fast, affordable service. Got me back on the road in less than 20 minutes.;What initially drove me to Conte’s was the simple fact they were open during their posted hours. Easy enough, right? Well, I’ve been going ever since and recommend them as often as able.\\n\\nThis latest visit was for a Spring tune-up and the funny thing is how I seemingly brought in a Corolla and got back a Supra. Clearly all maintenance boxes were checked off but what shocked me was how clean they got it. Riding a white bike shows just about everything and this isn’t just the frame but the handlebars too. SPOTLESS This said, it’s well worth the cost and time away from your personal if you’re on the fence…\\n\\n“Conte’s Logan Circle”:\\n1. Staff is welcoming and knowledgeable.\\n2. Service prices are competitive.\\n3. Overall experience is unmatched.\\n\\nThere are a few bike shops in the area, each with their bells and whistles, but you will not get the same customer service nor service quality than you will at Conte’s off Q.;Nice place. The team there was helpful and and the service was affordable. They got my bike back in action in just a few minutes. Thank you!;Sales personnel were on point. Customer service was exceptional. This is the place to go for your needs.;I was missing just one bolt on my front derailleur, I figured the minimum charge to replace it would be north of $30. I was pleasantly surprised to be charged only $3.;Got some brakes bled, quick turn over great customer service;Been going to this location for years and even know the company has changed, the customer service and bike service is still the best in DC;Friendly and knowledgable team. Great service. Quick turnaround. Bike running smoother than ever. I also asked them about upgrading my wheel set and they came back with the perfect recommendation. They will be my go-to shop for service and parts going forward. Thanks!;These guys have been taking care of my bikes for years and are so consistently reliable, honest, and fast, I wouldn\\'t go anywhere else!;A rare gem of a DC bike shop that will offer to assist with e-scooters. My disk break needed adjustment, and after contacting about 6 local bike shops, this was the only one that would even consider helping. And, they tuned my scooter break perfectly.;Quick, affordable service! Can’t really ask for much more than that.;Excellent service, came for a small fix, they were quick and picked up a few other necessary adjustments.;Found a broken casette that \"bicycle pro shop\" missed multiple times;Excellent;Fun;I graduated in 1976 prior to the changes;A very nice ball field.;Nice playground for children.;Not great. Pretty dirty and littered.;Nice to visit;(Translated by Google) Mu\\n\\n(Original)\\nMu;Mustard Seed is a wonderful and relaxing massage place.  Prices are up there, but the massage justifies the price.  My masseuse is Caleb, who is thoughtful and carefully addresses troubled areas for maximum results after a massage.  The attention to detail has been great.  I’ve yet to try the other therapists yet, but I’ve heard great things too.  Thank you, Caleb, for your hard work helping me fix my lower back issues!;Not a good massage. Barely worked anything, not a relaxing atmosphere, room was cold, bright, and loud. Worst I\\'ve gotten.;This was an amazing place to go to for a massage 💆\\u200d♂️. The person who gave me a massage got all of my knots out.;Michelle was amazing. She has unique knowledge of anatomy amd physiology. I cant believe how good i feel. Best massage ever;I want to marry Terrance! He was so professional and accommodating. Best massage ever.;Well priced and the masseuse was pretty good. I would go again.;I have not felt better I walked out of there walking on cloud 10000000 i will be back thank you!!!!!!;I have not felt better I walked out of there walking on cloud 10000000 i will be back thank you!!!!!!;We took our teen for a consult on wisdom teeth removal.  The surgery coordinator, Francisco, was prepared when we walked into the room. He had the x-rays from our family dentist up on the monitor and clearly explained everything so that our teen understood what would transpire on his next visit. Dr. Park was thorough and friendly. We have confidence moving forward with the procedure. The office also had all of the preoperative and postoperative medications already called into the pharmacy even though the surgery isn\\'t for 2 weeks.;I went early in the morning for wisdom teeth removed. Staff is very nice and very welcoming. Highly recommend 👍🏽;Dr Kunkle has an amazing manner with patients. The staff is friendly and pleasant. Always a great experience!;Highly recommend! Great staff, clean office and COVID safe. Dr. Kunkle answered all of my questions thoroughly.;Had my wisdom teeth removed here and was very surprised about how nice everyone was. Dr. Park performed the operation and he was qualified, kind, and gentle. He even made sure to follow up with me personally- which blew me away. The whole operation and experience could not have gone any better.;Went in to get all 4 of my wisdom teeth removed with Dr. Park who was very professional. During the day of the surgery everything went accordantly, surgery went smooth, duration was around 1 hr, surprisingly I came out without any significant swelling and no pain and was able to return to work the following day. The finance team there was great to work with, they took care of contacting my insurance and I was charged as accorded. Just want to give a special thanks to Dr. Park and his team for taking really good care of me that day, you are all awesome! Would highly recommend to anyone in the area.;Dr. Kunkle extracted my impacted wisdom tooth. It was a very professional process. We discussed various options and found one that worked for me. Appointment was timely and the staff very friendly.;Having a tooth removed is highly unpleasant. Would spring for the nitrous if I have to do it again. That said, even though I had a root that was entwined with the bone, I came home and two advil every 5 hours was all I needed. Dr. Park even texted to check on me. I hope to never need them, but will 100% go back if needed.;Dr. Park and the staff are amazing. Very professional and nice!;Excellent service!;I love this place . . . they are always very pleasant and helpful.  They have nice Indian trinkets and jewelry, and a variety of incense, comfy clothing and a nice selection of Pashmina\\'s. They\\'re like family, they will even call you when an item comes back in stock.;While this shop is small and quaint, it boasts high quality products backed by excellent customer service. There are lots of indian outfits to choose from - men and women\\'s for different sizes. I bought 3 suits from here - one for myself and the other two for my fiancee. The owner is very friendly with room to negotiate - I bought all 3 outfits for $300.  I highly recommend coming here for an outfit or 2, you won\\'t leave empty-handed or disappointed.;The people are friendly and they have beautiful india dresses and men attire. Beautiful jewelry and India shoes and sandals.;I came here to find a pashmina shawl, and was very pleased with the selection. The shop is quite small but packed with clothing, and it\\'s well-organized. I didn\\'t feel pressured at all by the staff to buy anything, and although the shawl I selected is undoubtedly much cheaper in India, $20 is a reasonable price  for DC. The shawl is of great quality, and I wear it often!;Nice selection helpful owner/staff...seems to be family run.;Very friendly owner and lots of interesting products;Great shop, but has a pushy sales man that kind of puts a damper your experience;Plenty of off-street parking. The facility is clean and the atmosphere is nice. Karen was very nice and extremely knowledgeable.  Thank you Karen!;This is a very nice facility for senior citizens the people there are very kind make you feel great about getting younger lol. because of all the activities and things that I have for you information;Place for 60 over, free great gym, free lunch, and showers,. All Free;Great facility, outstanding center with multitude of activities for senior citizens.;Place for 60 over, free great gym, free lunch, and showers,. All Free;Great facility and staff. Can\\'t wait to go back.;PICK UP PRODUCE PLUS EVERY THURSDAY MORNING GET THERE ABOUT 8AM STARTS AT 9AM;A lot of activities for seniors. Quiet, clean and colorful.;Wonderful resource for the elderly in the community;This is a very nice place;Nice place to go;Nice place to go;MY PEDICURE WAS THE BEST AND THE LADY WAS SO FRIENDLY  ,LONG THE NAIL TECH WAS SUPERB, HIS WIFE LINDA STILL GOOD WITH EYEBROW;Been going here for all the 5 years thag I have been living in DC! Lynn and Helen never fail to get me right!;This cozy neighborhood spot has very reasonable prices and good service. However, wait times can get crazy during peak periods due to the fact that there are only 3-4 employees. They could also benefit from an updated HVAC system. Most standard nail services are available including manicure, pedicure, and waxing.;Lynn was AMAZING;The person who did my nails was excellent.  A slightly unpleasant odor, but my nails look very professional.;They do a great job. Sometimes they make you wait to long.;Awesome people.;good..!!;good....!!!!;Staff at the location are friendly, but service is down often at this location. I\\'ve had to walk out and go to another location several times.🙄;Best place to work, The system down frequently even in the busy tax season!;Not the most helpful staff but I was able to get what I needed and leave quickly. I\\'ll probably detour to another location in the future.;This post office is not open on the weekends. Not even the lobby like others. I\\'m sure there are many reasons for it, but now you know before you go.;Treated me well and efficiently;It\\'s USPS, what you want from it? Regular location with friendly staff.;Service was fast and helpful!;Boardwalk Bar and Eatery has a Jersey Shore theme in their upstairs bar with a food menu of hotdogs, popcorn, and ice cream sandwiches. The downstairs bar maintains the same look and feel of the old Iron Horse with tons of video and bird games. Large beer menu.;Fun place to hangout with friends in a boardwalk themed bar. They have hotdogs and free popcorn, as well as beer and a variety of different excellent cocktails that go well with the theme. Try the cotton candy one;Fun place to hang out and chill after a long day. Games for grown ups to play in the downstairs level. Beachy vibes upstairs bar room. Skee-ball, air hockey, and more.\\nGave 4 stars because although the spirits and beer selections are good, one of the arcade games is based on a racial stereotype of Romani people. This machine should be removed. It\\'s hurtful to myself and my other Romani cousins I\\'ve brought here. Not a good way to keep Roma patrons.;Really fun spot with arcade games and an excellent drink and beer list;Great pregame spot awesome service and great house created mixed drinks.;A little crowded in the basement. Needs to reconfigure tables and games to allow more space.;No FOOD.SERIOUSLY;Very fun spot for a birthday;onion rings were dry and old. I was in a hurry. I asked about several items but ended up selecting the curry shrimp when I got to my destination the hospital where I was going to stay overnight I realize that they had given me a chicken and so I had to go back to give them the food back we had a confrontation so I requested my money back. got to the hospital they let me go a place to get something to eat I got it  was so hot and I still didn\\'t get a chance to eat before having my procedure;Great customer service reasonable prices and good food. The lunch specials are an excellent value;I love the friendliness from the lady behind the counter.;Good food great place to pick food up and go;our go-to Chinese food in Petworth;Great food;CLOSED.   Glad that’s over with.;Carryout;In these troubled times ... hope EPA can stand up for something !;Hard to navigate. Bad old bathrooms. There are some nice architectural features in the building.;Shame this agency gets such a beautiful building;(Translated by Google) A very pretty architecture of this building of the Roman style.\\n\\n(Original)\\nUn très jolie architecture de cette édifice du style romain.;(Translated by Google) ATTENTION AND ACCURACY!\\n\\n(Original)\\nFEGYELEM ES PONTOSSAG !;I\\'ve Been With Over 5 Years Luv Them Excellent Customer Service;I have had nothing but good experiences w/Ace Cash Express and I hope that it continues.;It would be great if Ace cash express continues to offer its services up to time of closing,  not telling customers you can not cash a check over $500, because money put away;It\\'s fast friendly and convenient.;Problem solved;Permanently closed;Beautiful. Serene. Great quotes;The Khalil Gibran Memorial is one of the most obscure memorials in Washington, D.C., but one that\\'s worth a visit if you\\'re nearby. It\\'s near the Observatory across the street from the U.K. Embassy and right next to the Embassy of South Africa.\\n\\nThe memorial itself is small, but mighty. As you cross a small stone bridge, you read about this Lebanese- American writer/poet. As you wind around the memorial, you read more quotes by him until you get to the center with benches and more quotes.\\n\\nIf you\\'re a fan of Gibran, this is a must-visit. If you\\'re in the area, it\\'s a very peaceful and inspiring place to sit, reflect, and journal.;I parked on 30th St NW and took the Normanstone trail over the hill to Mass ave and walked the short distance to the memorial. Beautiful yet small memorial of a timeless poet. Though traffic can be loud near sunset, it\\'s the best time to visit as the memorial is oriented west. You can also see the sun set over the British embassy.\\nRestoring the water features would make this little spot absolutely magical.;I will have to check on the text of the memorial in the morning to make it a more accurate review.  But I was just awestruck by the architecture of the landscaping.  I\\'ll be back soon.;Very peaceful park. Love the deers...nice walk too;One of DC\\'s hidden gems.  If you enjoy Gibran\\'s books, this is an excellent place to come and meditate over their lessons.  Also a great place to stop for a rest if you are on a run past all of the embassies and the Naval Observatory.;calm and safe;This is a great store with high end men\\'s clothing. Sports type wear. Very nice.;I love them. The customer service is amazing they treat you like family. Definitely will return;Been shopping here for years, always has maintained a sense style and sophistication;Very unique store. I love it and will be back.;Really great staff here. All the guys are super knowledgeable.;The best sports clothes in DC period;My husband loves this place for his clothes;Been coming here over 25 years. The top destination for designer gear in the dmv.;Great selection of men\\'s shoes;Great sports equipment;If ya know ya know;I was told the price would be $115 for contact exam yesterday, made the appointment and came in today 7/17/20. (DR. was great) but after the exam, the service woman told me the price was $257 because it was comprehensive and a free pair of contacts. I said I wasn\\'t going to pay more than what I was told, and she suddenly lowered it to $197. I was then given the option to leave, without my prescription and had to take the \"free\" contacts out of my eyes. ISo I did.\\n\\nTerrible place. Move on to something else. Do not recommend.;I was SHOCKED when I came here to leave a review and saw all the negative reviews.  I had such a wonderful and great experience at this location.  I just became an active full-time employee at my current job and I was waiting for all my medical cards to physically arrive in the mail, but desperately needed needed an eye exam because I had run out of contacts and needed an updated prescription.  Elena, I believe is her name, was SO helpful.  She contacted me when she couldn\\'t find my vision insurance and followed up with me thoroughly up until my appointment just to let me know she was still looking into it and she was doing everything she could to make sure they located my insurance.  I took a wrong turn getting off the metro and was late to my appointment, but when I arrived, they were VERY kind and accommodated me.  Every single employee there greeted me, asked how I was doing, and made friendly conversation as I waited for different aspects of my appointment. The optometrist was great and knowledgeable. I received my lenses in the allotted time-frame they gave me and I also got complimentary sunglasses. I have NO CLUE why anyone would have a negative experience here.  It is some of the best customer service I have ever received in a medical office.;Had an eye exam and contact lenses fitted here and it was a great experience all around. I wish I could thank people by name, but everyone I encountered from the optometrist to the employee who trained me to put in contacts were very kind and patient. I\\'m glad this office is in my neighborhood.;The eye doctor here made me get a cheap brand of contacts that don\\'t support astigmatism and said it would be okay to wear once in a while. I thought I wouldn\\'t notice a difference but they\\'re just terrible. I intend to go back and run them for a proper set of contacts.\\n\\nEdit: I\\'m trying to get a return but am told I can\\'t since I bought over 6 months ago. They also refuse to even sell me different contacts until I pay for another examination despite having a current and valid prescription. I understand the reasoning that eyes change, but it\\'s just unreasonable and devious to give someone contacts, admitting they may not work very well and then not allowing one to return. All I want is functional contact lenses. I\\'m $300 in the hole because I was misled. Malpractice sounds about right.\\n\\nEdit: I did in fact contact them about the issue like they commented below and they refused to do anything to help, so I\\'m confused why they would tell me to reach out.;I had a good experience. The appointment was easy to schedule and started on time. The staff was friendly and explained the charges before the exam started. The optometrist was also friendly and efficient.;$95 on top of your regular eye exam to get a contact prescription;Kind polite;You can volunteer, take classes, and purchase there products here. Wonderful owner very experienced with various methods of cultivating. Hence that\\'s why it\\'s called cultivate the city...;Great place with a nice vibe and excellent classes.;I so love this place! It\\'s definitely a gem in the city and I strongly encourage everyone to try them out and get informed and dive in and grow! 🌿😉😊;The best place to find unique plants and vegetables of every variety grown all over DC!!! Amazing price and variety of products included in their CSA baskets too!;Had no idea this was here! Great little spot to pick up plants;Very poor quality produce. Looks nice but the produce isn\\'t managed well.;Amazing garden center and space!;Love this locally owned business. The ladies are wonderful and nice. I mostly get my lunches here from the fresh deli. They also have a nice selection of basic kitchen needs. From wines to chocolate snacks.;Poor customer service,don’t waste your time here,they don’t accept card,never ever come back.;Clean, economical, fast and delicious sandwiches.;Nice shop, delicious deli, and nice staff!!;Good stuff;Great service;Good place;Great service;Great sandwich;(Translated by Google) Sushi is very good\\n\\n(Original)\\nEs muy bueno el  Sushi;One of the best spots to get a fresh meal...especially if you\\'re watching calories. My favorite...Tuna on a spinach wrap....YUMMY EVERY TIME SUBWAY AT GW HOSPITAL IS THE SPOT!!! The staff there are also a pleasure to meet and will ensure you get exactly what you want the way you want it!;What\\'s to say? Good sandwiches. Because they\\'re in the hospital, they don\\'t take coupons. However if one is a Foggy Bottom Association FBA member, there are discounts.;Never eat there again the service was poor and the food sucked;Subs was good;Regular Smegular subs;It mess my and my lil brother hair up;Great talent in All the barber\\'s there.;The libraries in the dc are doing people like myself, with no access to a computer, a very bad disservice. I cannot print my information to get assistance for my rent because of the of the Pandemic, but before the end of the year I was able to use a computer to print all my information to recertify for my apartment.;Such a great place to get all my higher education studies completed online, and to grab a nice book also.;Not just your average library goers will stumble in Francis A. Gregory Library. Don\\'t be surprised if you see photographers and design snobs there ignoring the books and looking up at the ceiling. The library is famously designed by the same man who crafted the National Museum of African American History and Culture. Somehow we connected the past with the future in his design with lots of wood and glass letting in the natural light.\\n\\nIf you\\'re not a designer or a photographer, here are other reasons to come here:\\n\\n1) It\\'s clean.\\n\\n2) Staff are friendly and attentive without being overbearing.\\n\\n3) They have a large kid section with two play areas.\\n\\n4) They have private study rooms and conference rooms you can rent for free.\\n\\n5) There\\'s a playground next door and park.\\n\\nThis library may be the very best in DC!;Free wifi & the upper level is exclusively for kids, including a learning area for small children. Also has plenty of seating.;Helpful staff, good selection, nice and clean. Very beautiful building.;The staff is awesome and they have great selections in most genres.;My son mom works at  Francis Greg;Profound, ebullient public design.;TODAY TOPED MANY EVEN THOUGH ITS ODD I NEVER SEE PRICES UP ON WALL.\\nNEEDLESS TO SAY MY SERVICE IS ALWAYS TOP NOTCH VERU FRIENDLY, EXPENSIVE SHOP, BUTT THEY ALSO HAVE SERVICES THAT CATER TO YOUR BUDGET CLEAN, PLEASANT,  SMELL GOOD, STRESS FREE LIKE HAVING A SPA DAY AWAY\\n\\nBUSY BEE TEE🐝🍵;Kathy is the best, she is a professional...Good job sis;Great eye brow waxing!\\nMediocre acrylic nail set\\nThe nail tech cut me from filing too hard to the point that my finger was bleeding then told me I was too sensitive.;Cathy does an amazing job on my nails. I don’t want anyone to touch them but her!;Recieved a pedicure and it was HORRIBLE! The nail tech was so speedy she forgot to clean under my toes, she attempted to use a grater on my feet without asking. She did not scrub my feet well, my white polish was lumpy and left my toe in pain this is ridiculous. Do not go here!!;My daughter likes it check you leave;For myself I no longer come to this shop. However, for my diabetic male friend the nail tech did an exceptional job with his mani & pedi to clip the nails and remove the very rough skin. She was very gentle. I may give them another chance.;It\\'s a nice place.;🌟;First day not so great. Her daughter fixed it upon my return the next day.;Ms. Kim I\\'ve been going there for 15 yrs. now;Very nice and kind staff;They are good;She did me dirty;nice;Yunus is an amazing hair stylist! He takes his time to listen to you, understands what you want and gives the best haircut you can have in town! This place is extremely clean, professional and never disappoints you! Thank you, Imaj!;I came here thanks to a gift card and unlike a lot of the other places I\\'ve been thanks to Nift, I actually do see myself coming back here. I came here for a gel manicure and they did it quickly and well. What I love about this place is how real and honest they were despite being a pretty busy salon. I got my nails done by someone who seems to be a co-owner of the place and I liked how honest she was with me about running a business. She was super friendly the whole time and I enjoyed talking to her, and she was a real professional with my nails as well. The salon is kept very clean.\\n\\nI thought my gel manicure turned out fine, but because it didn\\'t turn out as well as she would have liked it to she comped to my entire manicure! I definitely suggest making an appointment as opposed to walking in since when I came at 11:30 they weren\\'t able to see me until 1:15.;Went because of other reviews. The front desk staff wasn\\'t very helpful, but the hairstylist was AMAZING!;Great stylist but had to use an interpreter. Expensive.;Got a new haircut, he was fine!;My go to spot!;Great local market. Has everything you need to make Latin dishes as well as all the regular \"American\" items as well. Prices are good, staff are friendly, and normally has most things you might need.;Really awesome neighborhood grocer.  If you want the \"real deal\" on hispanic foods.  Come here!\\n\\nIf you need a qucik grab, forvet Safeway and stop here;They have everything you need;(Translated by Google) Jocelyn market is very comfortable and gets you out of trouble. What I like the most about this market are the pupusas and empanadas.\\n\\n(Original)\\nJocelyn market es muy comodo y lo saca de apuros lo que mas me gusta de este market son las pupusas y las empanadas.;(Translated by Google) It is a little varied the product you can find some Latin things! But the price of all products is quite high, very expensive, they give everything\\n\\n(Original)\\nEs un poco variado el producto se pueden encontrar algunas cosas latinas! Pero el precio de todos los productos es bastante elevado muy caro dan todo;(Translated by Google) Fanatsic store.\\n\\n(Original)\\nFanatsic store.;Its a convient station its always clean and the station mangers are polite and helpful.;Well designed and well organized stations,\\n\\nFriendly security always there to help..;No problems getting or navigating around this stop.;Average;Very Clean.;I try to go here just about every Sunday to get the word of God;That\\'s my church;I love everything about the church.;Good place to worship;AMAZING!!!!!!!!!;lexy was awesome and very knowledgeable ! Thanks guys👍🏼👊🏽🙏;Had the BEST experience here. I went to 3 stores before finally ending up here to get my bf some good workout shoes. The African American man that helped up was so knowledgeable and listened to exactly what we needed and gave us good recommendations. Highly recommended;Nate was the best got me a great pair of running shoes and my first pair of orthotics;Bought my running shoes, bit pricey but great staff;Kellyanne listened, considered, and then pulled a trio of options, all of which could\\'ve worked. Outstanding service.;One of the only running shoe stores in DC that runs storewide discounts. Very good customer service but cramped space and limited selection of womens clothing.;Good service!! the store have GAIT analysis for you if you want to buy an appropriate shoes;Friendly and knowledgeable. I bought the PureCadence 4 here, though it was a simple choice given I\\'ve been running on the Brooks PureCadence series since it came out.;Excellent dog park for inside a city.  About 2x the size of Swampoodle dog park.  Turf and concrete structures with a water fountain.  Decent amount of seating for dog parents.  Relatively new and well maintained.;We love coming here!;A lovely and well maintained park, with enough space for humans to maintain distance even when it’s busy.;This park is big, clean, and fun with lots of seating for humans and play space for dogs. Be careful for bikes and runners on the trail you have to cross to get into the park!;Best dog park in the neighborhood;Nice park!;Took the cleavage down to anacostia Park had a nice time they were able to rip and run and enjoy themselves;awesome always the best expo;Relaxing;Love it;Great men\\'s Sunday school study (9 -10:30) Go to website to see upcoming events. Small congregation, medium sized facility poised to grow.;Enjoyed the fellowship and preaching;Great church, rigjt in the community;Went to vote. 3 voting machines. DC I felt as I was living in the stone age. Lol;Service spiritual;I was in a hurry to grab some breakfast and coffee before work and I figured I’d swing by this spot. The line was quite long so I figured it was a pretty decent spot. The line went relatively quietly but I wasn’t impressed. The food was extremely salty and rather tasteless. I was sad to discover the cafe didn’t have WiFi so I had to pack up and head to a different coffee shop. The pricing was quite affordable, which lead to my two star rating but I won’t be returning.;I will never go back. So I heard about this place and figured that I would give it a try. First, if you don\\'t speak Spanish, good luck. I decided that I would get the sausage, egg and cheese on an English muffin. They show it on the board and says the price is $4.05. I get no cheese as shown in the pictures and they charge me $4.55, I guess even though they show the item with a picture on an English muffin, they want to screw you for an extra 50 cents. The sausage is bland, the muffin soggy because it wasn\\'t toasted. First time here, last time here.;Worst customer service ever. They don’t like big orders. They told me to wait just before I put in\\nmy order. Then had the nerve to put all the breakfast items away in front of me and speak Spanish as if I couldn’t understand them. Don’t waste your time here. This isn’t the first time I had a problem with them.;This place is awesome! The food is good! You want breakfast or lunch while at work, come here and get your food made fresh! My coworkers and I come here all the time. Never had a bad experience. Your food is made right in front of you so you get to see and say how you want your order.;Great sandwiches and they actually use rotisserie turkey and prime rib for their lunch meat. Tuna melts and Reubens are great. They have a good selection of sodas. I wish their salads were a little better but I have a sandwich almost every day here and love it!;Sandwiches are consistently top notch stuff. Always the same taste, always the same price. And the manager, (Rachel I think) is always happy to see you.;This is an interesting café close to Chinatown. It Various different sandwiches, paninis and salads available. The food is fresh and made before your eyes. There is a carving station for ham and turkey sandwiches, where the meat is carved and place directly on your sandwich. You also can get your sandwiches toasted, and they come with a free pickle. Plenty of place to sit, but it’s designed mostly for takeaway.;Wouldn\\'t accept my Discover card unless I met their \"minimum\".  I refused to up my purchase......its unfortunate this business had to eat their food cost just because they did not want to pay merchant transaction fees..........WILL NEVER RETURN;Unenthused, so all I bought was ginger candy. It\\'s an independent cafe but with nothing singular to offer it seems. It\\'s geared to the office crowd, open 7am to 4pm. Standard offerings for breakfast and lunch--the breakfast runs to 10am only, fyi.;It my first time, the place is packed on the weekends, and by reservation only, mainly. The staff is courteous but a pair of socks is $14.99! Not even packaged lol... i had a great time though.;Great place to ride.;I road with Chris Pepe and let me tell you his music was EVERYTHING! Then he scared me with this little yell he does, but all in all hes a great instructor. You go Glenn Coco!;Love soul cycle!;Always a very helpful resource for our community when you have questions or concerns about wild animals. They took in  this Eastern Box Turtle found in a parking lot far from any green space.;Thank you for being there and have this amazing organization. 😍❤️ always ready to help over the phone and having so much care for wild animals/birds 😍;I love this place. They do great work and the entire community should support them.;Great service. It took a while to get to the location (45min to an hour) to rescue a pigeon that appeared to have had a broken wing ;but a gentleman came out to the Southeastern part of DC from NW to retrieve the pigeon from further injury for it was located in an area where vehicles could have easily run over it.;Took a tour of the facilities during their annual open house and I have to say that I am thoroughly impressed with not only the facilities but also the staff and their dedication to helping wildlife. If I ever come across an injured critter, I am glad I know this place is a valuable resource.;A wonderful place to bring injured wildlife. They are very friendly and will always give advice on what to do if you find something. They are always looking for volunteers so check them out!;Yesterday as I was loading my car I noticed a very wet and disheveled little bird who apparently has the misfortune of being caught in a recent storm. I couldn\\'t just leave this baby there to become food for area stray cats looking for a quick snack so I ran into my house for a small box and some paper towels so that I could vet him safely into the box; once he was secure i googled \"wild bird\" rescue in NW, DC which is how I\\'d found these kind folks. When I arrived I was promptly greeted and given a short form to complete and I asked the lady if I could check on the baby bird later and i was given a caed with the birds code which I could reference when I called back. I called a few hours later and happily leared that his breed was identified as finch and that after resting and allowing his feathers to dry he was all set and flew out rescue centers doors to join a new family of finches. All\\'s well that ends well! Im so grateful for these small organizations and\\nI will be donating to them during our2018 Fall CFC campaign drive! Keep up the good deeds!;Their staff was amazing and the work they do, great. Took three baby squirrels I found abandoned in with no qualms.;They do a great job.;This is the place to take a sick or injured animal in the District.;NO COVER CHARGE. Staff is great and personable. Late happy hour. Always make drinks strong. DJ plays mostly hip-hop but mixes it up as well. Hookah is one of the best on 9th/Ust\\n\\nThey go over capacity pretty quick;Super small shots, drinks in plastic cups, and subpar hookah. Music was good.;Nice atmosphere. Really cozy. Hookah bar. Drinks aren\\'t watered down. And good service.;Please read your receipts carefully when visiting this place. They rang us up for Hennessy ($12) when we ordered Jack Daniel\\'s (8.39) and the bartender wanted us to believe that they cost the same and wouldn\\'t make changes to the charges on the check. There is also an automatic 18% gratuity added even for a party of 1. Management is unprofessional. It\\'s also 90% men in there, especially on the first floor full of middle aged men watching tv.;Nice spot.;Always lit nice place to party nice hookah;It\\'s my birthdat Taurus;Well I do know a little bit about cricket cricket is well known in the DC area for working with you on the phone bill and when you don\\'t have a lot of money this is a good place to go;Nice place very helpful;The staff was very friendly and very helpful..;Good service;Don\\'t ever go there always crowded bums outside and worker\\'s are outside smoking cigarettes and talking on there cellphones;Bad choice of location;Ghetto! Never even open at correct time! Who is in charge of hiring? They need to be fired asap. So unprofessional and not good for business;Never have what i need;Ok;HORRIBLE!  HORRIBLE!;Never judge a book by it\\'s cover! My husband turned me on to this place & the food is DELICIOUS! everything is great, especially their breakfast, wings to die for & subs which remind me of the good ole days when carryout was a treat☺;Quick service and always good food. The women is always pleasant in the morning. I call in orders from the bus and its always ready when I arrive.;Very nice people.  The place is nice and clean. The food is good. Overall a pleasant place.;Clen and service was good as well as food;Great breakfast and fish and grits;Its an ok place to go;Pretty good;They have the est breakfast ever....;Too cramped inside and sometimes they run out of things I came there for, but friendly/excellent staff. One of my regular spots for groceries.;Great things in the store fabolous;I like this place... They have many organic and grass fed brands that I can\\'t find at major chain stores. But. It\\'s really small, some of the items have obviously been sitting for some time, because they\\'re not as fresh as they could be. I\\'ll definitely go back again! Just... I\\'ve shopped at much better.;Small organic store that sell an amazingly large range of products (think Tardis - it\\'s bigger on the inside). Bulk spice, nuts, grains, oats etc, coffee beans, fresh veg, fruit, bread, and most any other food item you can think of. Manager and employees go out of their way to help.;I like that they sell organic stuff and make it accessible to people in this neighborhood. But the prices are expensive! Veggies were okay but didn\\'t look that fresh for the price.;The staff has been very helpful the past few times I\\'ve gone in. Their vegan options are growing which really makes me happy. This is becoming my go to place for last minute things to piece a meal together.;Love it! A little bit of everything and a great location;Tiny but clean and everything was easy to find.;They\\'ve got everything and are super friendly;Good place good people;Good small neighborhood store, has many things, but almost no meats;Tiny store but good selection;Nice 2 sided counter.;It looks small, but they have everything you could want from an organic market.;Good;Can\\'t see any benefit DC provides for the over priced manager card over other states.\\nAdditional to the hustle to get the card , they will fine you a late fee even a day after your card expires. Although it clearly states they \"might\" .;They\\'re  awesome coz they make sure every restaurant or bar in the city is legit & has a license 2 sell alcohol. Also like the crackdowns on some restaurants & bars who dont have licenses making sure they get a license 2 sell alcohol legitimately instead of doing it illegally..wanna see more crackdowns @ restaurants & bars especially on Georgia Ave & 14th NW DC.;Rude. Get a new job if you don\\'t love what you do;Quick and friendly staff;It was an incredible experience to come to the House of Representatives and advocate for bills that will have an important impact on not only in my life, but all other constituents. It is a loud and fast pacing place, and a very pretty place too. It gives you a sense of responsibility and respect when walking among so many people with a huge pressure on their backs to fix the whole country\\'s problem. Be kind and understandable of how difficult and necessary it is for bills to become a law. There are way to many faucets we do not understand of things.;Keeping the United States safe from database being breached by creating laws.;Grand looking building;(Translated by Google) Excellent postcards.\\n\\n(Original)\\nExcelentes postales.;(Translated by Google) After your guided tour of the Capitol, you can ask to visit the Senate or the House of Representatives: you will then have to present your identity card and leave all your belongings (except identity papers) in a free locker, including your phone otherwise you will have to leave it in a second locker at the end of the queue if you have not followed the instructions; you will have a new security check and then you can admire the chamber or even listen to parliamentarians if they are in session. It is an imposing and magnificent room, a must see. Any picture inside the bedroom is categorically prohibited and you are not allowed to have any electronic device on you anyway.\\n\\n(Original)\\nAprès votre visite guidée du Capitole, vous pourrez demander à visiter le sénat ou la chambre des représentants : vous devrez alors présenter votre carte d’identité et laisser toutes vos affaires (sauf papiers d’identité) dans une consigne gratuite, y compris votre téléphone sinon vous devrez le laisser dans une seconde consigne présente en bout de queue si vous n’avez pas respecté les consignes ; vous aurez un nouveau contrôle de sécurité puis vous pourrez admirer la chambre voire écouter les parlementaires s’ils sont en session. C’est une salle imposante et magnifique, à voir absolument. Toute image de l’intérieur de la chambre est catégoriquement interdite et vous n’avez de toute façon pas le droit d’avoir un appareil électronique sur vous.;SO grateful for this store. Super convenient and fast. First time using their notary and printing services. Best UPS experience in DC. I have lived here for 6 years! Ed is wonderful. Notary hours vary. Call ahead to confirm availability.;So I saw the recent negative reviews, and though I had a decent experience going here a few years back, I was curious to see if my 5-star ranking was no longer realistic.\\n\\nNope.  Sean was super helpful as I had three boxes and one loose item that all needed to go back to my company.  He took them all no problem and I was in and out of there fast with a reasonable price.  Much easier than the Post Office, even if it does cost more.;Solid UPS. You may pay more, but their hours are good, service is solid and it\\'s easy in/out location.;I have used this store for notary services, printing, and overnight mailing. Miles is always helpful, courteous and professional.;Miles is super duper helpful and efficient. Can\\'t ask for more than that.;The gentleman behind the counter was nice and helpful.;Great service, friendly stuff!;After many years of so so dentist l finally found a dentist that understands what the patients feel every time they sit in the chair. He, office admin staff and his techs help lower your level of apprehension from the moment you arrive. Treatment is quick and concise with any and all questions fully answered. No dental work is completely pain free, but Dr. Kirunda comes as close to it as possible.;I love this dentist. He fixed shoddy work performed by my last dentist and had kept my mouth in great shape. 10/10 would recommend.;I honestly cannot say enough good things about Dr. Kirunda & his staff. What a great experience...at THE DENTIST! How often do you get to say that?! Making the appointment was quick and the woman who answered the phone was so sweet and helpful. Everyone greeted me politely when I walked in today. The practice is clean, the waiting area is comfortable with HGTV on (yay!) and complimentary tea/water/coffee. Dr. K cleans your teeth HIMSELF. What other dentist is that hands-on? He explained exactly what he was doing, told me when something might feel a little sensitive, and thoroughly went over my x-rays and his suggestion for my next services. I am SO happy I found such a great dentist in DC. Very grateful for the excellent service today! I know I\\'m in good hands.;I was pleased with the service I got today!;My 6 months appointment Monday was quick and Dr. Kirunda didn\\'t have to do much other than a 6 months cleaning and I got a good report.  Thanks.;Parking can be tough, so come early. They take amerihealth;The absolute best!;The staff here were helpful, friendly, and quick. The pickup and drop off processes were efficient and their indoor store allows you to buy the last minute things needed for a move. I\\'d of course recommend using a smaller, or local company to move, but if you can\\'t this U-Haul is a good option. You can park your car there for free in their parking lot during the day while you move and the whole thing was pretty hassle-free.;They really work to find the best storage for your needs and customer service is good!!;Great place for a truck rental and/or moving supplies. The staff is super friendly and helpful. I prefer them over any other locations in the area.;Watch out and be sure to take your own verification pictures. We returned our vehicle with the same gas it had at the time of rental and were charged for a full tank. The staff is unhelpful and incredibly rude. Document everything so you have proof when returning your vehicle and they try to charge you extra.;I cannot recommend this place to a friend due to the face the guy who attended the returns area Charles is rude, unprofessional and is smoking in people faces offensively.  Has a hideous attitude towards good working people. Everyone else was AWESOME;The place was a bit hard to find, but the people were very nice and helpful.;Great customer service, truck was clean and on time. My 3rd time and they really have it down;Good place to get a rental. Well stocked and we\\'ll located. Their vans are brand new and really good!;Quick and easy with above and beyond service! I was able to rent the truck in 10 minutes the night before so that when I drove up I contactless picked up the truck and went! Drop off was done in a safe and distanced manner. All trucks are thoroughly disinfected before next rental. All this at an unbelievable low price.;Make sure you take lots of pictures when you drop it off and when you return it. We were charged $150 for a \"broken light\" that we definitely did not do. On the receipt it says the incident happened at 6:30 pm, but we returned the van at noon. The person we called told us that 6:30 was just the time that they got a chance to inspect the vehicle and see that the light was damaged. We took pictures when we picked it up, but it looked exactly the same when we dropped it off so we didn\\'t bother. That\\'s on us for trusting this place, but they didn\\'t have to do that to us.;Customer service needs to be more friendly;Customer service was good. Clerks are knowledgeable and easy to talk to.;Great for in-town moves in the DMV... especially when you\\'re picking up furniture for your girlfriend Casack;New ways of conctless return of rental truck..nice uhaul app;Staff that was present when I dropped off my u-haul was unprofessional, argumentative, and rude. Also  e warned of the deceptive fee structure. Our 19.99 a day van for two days with minimal milage ended up at $160.\\n\\nIf you have any other options for somewhere else.;Note to any renters ask to see or check truck before signing.....I signed out a truck saying the tank was full and miles she also different.;I\\'ve used this location a few times with good results. If you get there right as they open, you should be able to pick up your truck/van quickly. If you wait until later in the day - plan some time.  The staff was fine, not overly friendly, but not rude either.;They\\'re poor because if you miss a payment they will not let you get into your unit.;Super organized, friendly staff, clean vehicles.;Nice and helpful staff;Great service and very convenient!;Customer service was Pleasant enough but I did have a hard time finding the truck pick up area... the other staff seem like they didn\\'t really care that much they were okay not to helpful. Truck was in good condition. Service was quick for me.;This U-haul runs like a machine. It was super easy to reserve, pick-up and drop off the U-haul and they answered all my questions before I even had the chance to ask them. The facility is also easy to get to and leave from, so driving a big moving truck for the firs time was less intimidating;Staff is always helpful, knowledgeable and friendly. I\\'ve had a storage unit there for several years, and have never had any problems. Only problem area: parking is horrible. Not enough of it, especially if you are loading/unloading.;Very busy place;Third rental in a month and this place is on their game! Fast in and out. Clean truck. Very professional. Best U-haul in US. Check in online.;Double stacked lockers/units, with small doors for medium and small lockers, makes it hard to put a couch into them.  I would look at other spots.  Although good place to pick up packing material - even has a tv cases;Great clean place.;Im giving 5 stars bc it still has my stuff in it. But it does not have a temp controlled environment.;Made payment on storage;Excellent service and convenient location.  I checked in online so the entire process to get the truck and be on my way took less than 15 minutes.\\n\\nThe location is less than 10 minutes walking from the RI metro stop.\\n\\nAnd the truck was brand new with 1k miles on it!;U-Haul storage is always good in case of need, but this location has trouble beyond the patience of regular humans. Their system is frozen most of the time, which is discouraging when you have Sat 30th and Sun 31st to move, wasting 3h of your time waiting just to get the storage unit contract, without the possibility of overtime access to the storage unit because it is not available for the storage building. U-Haul is a good addition to my life, but this location isn\\'t;Horrible experience thru the mobile app for an after-hours pickup and dropoff, on what is supposed to be a seamless process. The app is extremely clunky and regularly doesn\\'t register your clicks to allow you onto the next page.\\n\\nYou need to submit all kinds of info upon arrival, not before, so prepare for a lengthy delay at pickup time despite the fact that they could\\'ve just had you submit everything earlier. Someone on their end needs to verify it in real-time, including calling a friend or family member just to verify that you indeed exist and are renting a truck. Unsure how this is a real security measure but regardless.\\n\\nThen they gave me the lockbox code to get the truck keys, but the app was so clunky that that page disappeared before I could read it. So I promptly spent the next 20 minutes in the pouring rain on hold with their customer service line, just to get the damn lockbox code. The app thought I\\'d already started driving, so my only option there was to request roadside assistance (dysfunctional app wouldn\\'t let me submit a request for that either).\\n\\nAdd it all up and you\\'ve got a terrible user experience. Find any other truck or equipment rental service whenever possible.;Excellent storage facility in all the time my property has been stored there. Try them for yourself!;Terrible management and the Gen. Mgr named Ousman is THE WORST!!!!! This location would rather take your money before providing a \"complete\" service to you!;This is a great US haul outlet. Shops in Md do not always have more than 1 of each size cargo trailers in stock.;Very happy with my moving experience. Not a lot of hidden fees, good service, and decent location (walking distance from the Rhode Island Avenue metro station) makes this U-Haul a good choice for in-town moving;I love this place,  I love working here and helping people...😍😍😍;Good service but very slow, it took me almost one hour to get my truck which was already reserved online;Conveniently located but parking is an issue in the area.;Poor service. Called about donating furniture, and they failed to inform me that donations can be left in the storage facility!;Great customer service;Good deal...;They put a hold on your funds without telling you. And the when you ask to speak to a manager he is rude and nasty telling you that you have to call your financial institution;Great service.;There were dead rats,magets,and rat poop all over my belongings;Very friendly and proficient staff.;Everyone is so nice;Stop by to get treated like you\\'re an idiot by rude staff!;great service;Good location great place;Very tiny storage area and no parking.;Excellent service;Knowledgeable and helpful.;very convenient service;Service isn\\'t that good;Everything was as described, friendly staff;Great storage;Very friendly staff, hooked everything up for me;Slowest customer service ever;Busy at weekend;Cheese pizza for my teen majority of the time and this location makes their pizzas better than many other Little Caesars locations near by ...but our last pizza was burnt ( hot and ready ) I didn\\'t return it but I don\\'t expect it again.. I had dozen of great ones!! And the guy that normally works the register evenings/ nights  WASN\\'T THERE but he has great customer service, I don\\'t think he would have given that pizza out ..will return;Very fast and consistent.  Pizza here is always decent enough for something quick - and a whole large pizza is just $5.99!  It\\'s not great - or fancy - or dine-in - but then again, it\\'s not supposed to be.;The food is good. Never had any issues but I have to wait for my pizza to be cooked when the slogan says \"Hot n Ready\". Other than that we cool;Place was clean, folks were nice, pizza was Great !! And, the price was good.;I enjoy the food it\\'s great. I can\\'t get enough. I am always back for more.;OMG...The worst customer service experience ever! Being from the Midwest, I was SO excited to learn that a new Little Caesars was coming to NW DC. Maybe 3 weeks after its grand opening, I paid a visit to this location and I vowed to never return. When 1st entering the store, I was not welcomed by any type of greeting. The girl at the register pretty much stared at me while I was deciding on what to order as if I was holding her up.\\n\\nWhen inquiring about the Hot and Ready pizzas, I asked how long the pizzas had been sitting out and she said they had just come out the oven. I also asked about the crazy bread and she said the same thing. So I placed my order, received my food and it was very luke warm. I politely asked her if they could make a fresh pizza and set of breadsticks for me and she said , \"These ARE fresh\" with the biggest attitude. So we went back and forth a little bit and eventually she asked the cook to make a fresh order, accompanied by an eye roll. When I got my food, it was the sloppiest thing I had ever seen in life.\\n\\nI then asked her for a refund and she said a manager needed to be there in order for this to happen. I asked her to call the manager if he/she was not there and she claimed they weren\\'t answering the phone. Long story short, I tried calling the store the next day, no response. Then I called district and got a callback right away with refund info and a free pizza offer. I declined the free pizza offer and assured them that I would never return to this particular location again.;Good place take and out quickly although the  cashier wasn\\'t friendly but other than that a good place;Great Pizza ever it\\'s good not too oily...;The pizza was not hot and it was naste will never eat from them again;I usually like ordering from here, but my order just arrived with one incorrect item and another missing item. When I call the number, I only get a busy signal. They really dropped the ball today.;Nothing is ever Hot n Ready like the advertisent always promotes.;Had the crazy bread and they were hard and overcooked;Not at all friendly and she took a customer before me who came in after me. The pizza was ready but not all that great in taste.;Cheap pizza for pick up;Great service;(Translated by Google) Very rich pizzas and good prices\\n\\n(Original)\\nMuy ricas pizzas y buenos precios;Nice place to get perfume of different brands that you may be looking for;Great customer service;I wish they had larger variety of women\\'s fragrances;My go to place.;Great place;Nice;Very inexpensive!!!!;Laid back;Ok apartments;This is so far the best Hot and Sour soup I\\'ve had in DC, this is a solid Chinese delivery place, I\\'ve never stayed in to eat but I\\'m sure the dishes better served straight from the kitchen would be amazing! Delivery itself is fairly quick for DC as well. I\\'ve had many of the standards and they\\'ve all been good, my last order however I decided to try Chow Mein for the very first time it was AWESOME, j don\\'t know if this is indictive of the fish though since I\\'ve never bothered to order it anywhere else. I usually stick to the Szechuan dishes, but I\\'ve had many of the other offerings and liked them as well. The Wonton soup is good, not the best and I\\'ve had the egg drop soup, but again it was my first order of it and it was nice, not my cup of tea. This is how I feel about the dishes at any asian place I\\'ve been to and tried like hot garlic sauce dishes, I\\'ve had it at many places in DC and I just don\\'t like it, but Szechuan house at least has the garlic I can see and the vegetables and meat are fresh. Living in SW there aren\\'t as many options but Szechuan house should be at the top of your choices.;This is my favorite takeout Chinese food in DC. It\\'s just the perfect comfort food that you want on a rainy night to eat too much with friends (or by yourself) and watch movies. Everything I\\'ve tried has been delicious and satisfying. I also ate in once, and the service was great! Definitely recommend this place.;This is the best Chinese takeout in the Waterfront/Navy Yard/Eastern Market area.  The food is great quality, the employees are nice and helpful, and the delivery is prompt. I’m impressed that they always read my extra instructions in the online order and follow through. This is the only Chinese takeout I will order in the area. :);Excellent take-out, friendly staff. Really, really, good General Tao\\'s Tofu. Easy to miss if you aren\\'t looking for it.;Great little, local takeout and delivery! Occasionally been going here throughout the past year. It\\'s not amazing, it\\'s nothing special, and it\\'s unremarkable for any special event, but it gets the job done!\\nVery nice staff, and an order has never been wrong, and it\\'s extremely quick. (10 minutes to cook, delivers almost immediately);Excellent food. The wife and I spotted this upstairs jewel on 8th street, next to Medium Rare Restaurant. Ordered combination lo me in and and Szechuan shrimp; simply put. Delicious. We will return!;Not sure why there are bad reviews. I ordered very good combination Pad Thai and egg rolls.i will go back again!;I ordered chicken pad thai noodles, orange chicken and chicken egg foo young. Delivery was quick and the food was delicious. Great prices too.;Locating Eastern Market I want to say is next to Matchbox upstairs I want to display some do a lot of business because of where it\\'s located but it has the best Chinese food ever and the best customer service it\\'s quiet it\\'s clean and a food tastes so good special the rice and it looks fresh that\\'s the important thing;Best Chinese Szechuan style restaurant in DCGood Peking Duck!  Here is a reasonably priced, very good quality and variety Chinese restaurant in DC. While most of the good Chinese restaurants have taken flight to the burbs, this one is still accessible to those who live in the city.;The best chinese american take away in Capitol hill.;Had sesame beef and pork lo mein, the quality was middling at best, very chatty and tough beef. Doctors and offerings were okay, kinda generic American Chinese food, but the portions were super small considering the price.;Great Chinese food.;Maybe I ordered the wrong thing, maybe it was the hair in my food... But I won\\'t be eating here again.;Fun store of great gifts with a helpful staff. They held our purchases at the front desk so we didn\\'t have to hold them while we decided what we wanted. A good spot to hit for when you have to get a gift for someone.;Best little local gift shop in the area. You can get gifts for anyone there. They also have a great array of DC centric gifts if you were visiting DC as well.;Great place to shop for unique gifts, clothing and decor. This little Shop has something for everyone on your list;Always try to support small businesses. Great little gift shop with unique items.;Love what they carry and love Susie and Tim;Neighbor staple for years, now closed;I love it there! Watched about 5 different soccer games. Took about 5 hours but it was well worth it! It\\'s clean, ppl are friendly & the competition is always there! Im sure they\\'re still out there playing now at 10:30p lol. Anyway, go there if you want to exercise, play tennis, soccer or just catch a good vibe!;Love this park and how they set it up.;I was taking my husband for a walk and to look at the kick ball team and it was very nice we enjoyed it.;Ok;(Translated by Google) Very good clean and the little ones entertain themselves in soccer\\n\\n(Original)\\nMuy bueno  limpio y los más pequeños se entretienen en el futbol;Best advertisement I\\'ve seen yet!~ 🖖🏿✌🏿🤲🏿🎉;Update: waited 4 hours to go to the window and she tell me the specialist is gone for today so come back another day. Seriously?! WTF!!!\\nExpect at least a 2-4 hr wait. The names are not called in order. No tracking system. No estimated wait time.\\nThere\\'s 10 interview windows and 3 intake windows but only 1 intake window open and 2 interview windows so running at less then 25%.\\nWhy even be open if you can\\'t process ppl in a remotely timely manner? The facility only operates 4 1/2 days per week so this should not be asking too much.\\nJust another example of the poor implementation of your tax dollars. Would definitely play in traffic before going here again.;My experience was great when I went to social security to apply for Medicare. Ms, gieselle McCoy and Ms. Wanda Roberts provided outstanding customer service. They were professional. Knowledgeable, patient and got everything done in a timely manner! I was in and out within the hour. 😊👍;Depending on the time of day decides how long you will wait. If you can make an appointment you should. I had an appointment, waited in line to check in, then waited for my name to be called. The actual appointment was great, I got a lot of information and walked away empowered.\\nThe facility was clean, staff cordial, and even the security guards assisted with basic questions. Overall a good way to spend time cutting through the red tape!;Ashley  in cubicle C was really helpful, listened and she is calm and a soothing voice. Thank you Ash. I came immediately when they opend at 9am. So the line was not that bad.;Extremely slow service. It’s not true about Monday mornings being the fastest service day. I’ve been there today because I read the other reviews. Every damn day are the same with the line that take ages and then waiting again for your number being called is taking eons. Expect your time here to be 2-3 hours at average. The place also stinks and filled with flies because of the kind of people that come here for service. I don’t want to come back here again.;They are very inexperienced! They all need training or firing!;It was a wait but when I got seen ms.green was very very nice and  Pleasant;I like this location  is because the staffs are very nice and it can be crowded at times.;3-4 Hour wait for a social security card replacement smh.;If you go in there for any reason. Pack youre pack youre patients. Plan to be there at least half of the day.\\nSuggested to go in as early , prior to opening .\\n\\nIf you want good service dont go to cynthia \\'s Hightower cubicle . It seemed like everyone was upset at her when they left.  I also saw that she is rude .;Go on Wednesday they work faster;Love miss green;Long lines, and outdated information ..;Stunning panoramic views of the Navy Yard paired with solid mixed drinks and apps.;Came for drinks and the rooftop bar, and did not try the food.  The rooftop area was nice and had a great view.  Service was very slow.  A couple drinks were decent, and one was not.  Enjoyed the experience overall becuase of the view and rooftop!;Very fun time, great views of the city. Social distancing measures are fantastic. Love the ability to order drinks and pay directly from my phone. Friendly staff.;Horrible service.  Very disappointed 😞;Hospitality & staff were triumphant and gets you amped to chill in a righteous space;Service and glasses selection are good even if on the pricy side.  From the optician to sales there is nice service.\\n\\nBut the buy 2 pair of glasses for half off the price and / or the \"Buy one pair get one free\" deals appear to be nothing but a sales scheme, no real deal is possible. There is no reason I see to be disqualified from the sales specials if I\\'ve paid $300-$500 out of pocket.  It shouldn\\'t matter how much my insurance covers. \"Restrictions apply\" of course.   Most know buying glasses completely out of pocket with a prescription is very expensive at most stores. So where\\'s the deal?\\n\\nSo my recent purchase from Visionworks is probably my last. Buyer be aware don\\'t go in expecting the \"buy one get one free\" special to be a real thing;We had a great experience.staff was attentive, knowledgeable and friendly. Everything was very clean and organized. We were offered the additional exam but were told it wasn\\'t required.;Plan on waiting even if you have an appointment.  I have been waiting an hour to see the doctor.   SMH.;Dr. Hanowsky was very good!! He did my prescription just about perfect! I usually have issues but I was very pleased with the exam and the time he took to talk with me and explain things. The staff there are courteous but I notice they don\\'t acknowledge customers promptly. Overall, my experience was good.;Very clean and the staff there was super nice! I had an error with my glasses and they apologized and gave me new ones at no cost! I recommend this place for sure!;I am deeply saddened to write such a review. Last year when my daughter & I visited this location it was great! Today that all changed when we showed up for our appointments and were told it was MANDATORY for us to take some specialized test that was on sale for $19.99 to even receive an eye exam. This is after waiting 25 minutes for our appointments! i have health insurance but, was denied service if i didn\\'t agree to pay $40! That\\'s like my doctor refusing to examine me if I don\\'t pay a thermo-body scan! The rationale provided to me was that due to an extended length of time between visits due to COVID, the company made it a requirement! That\\'s ludicrous! We only visit once a year anyway so that doesn\\'t make sense! i don\\'t even wear glasses. Why would I pay for a fancy test! Sounds to me like a business just trying to recoup funds during a pandemic. Sooo disappointed! This place is near my home & now I have to find somewhere else. I will also report them because I don\\'t believe it\\'s legal to deny someone with insurance service because they won\\'t pay for an additional & completely unnecessary test!;Excellent customer service! My glasses came in a timely manner. Jennifer was very helpful with getting a pair of frames for myself and my son!;I enjoyed the wonderful service provided.  The ladies were great.  Jennifer was very nice and kind to me and my boys🤗;Awesome customer service! Very quick and very professional! Will definitely send people your way.;Imani was very helpful both times she\\'s assisted me! Great location. Nice and helpful staff!;Friendly staff!! I recommend making an appt to get the best experience. Imani is super awesome when its time to select frames!!;Conveniently located next to DC Costco and on metro bus lines to RI ave and Brookland CUA! The staff is friendly and the selection is functional but not extensive. The pricing with promotions make glasses affordable even with complicated prescriptions.  Make sure you use your Vision benefits for even better pricing.;Excellent experience and everyone I came in contact with had smiles and a pleasant attitude. They made a gruelling task much more pleasant and for that I greatly appreciate them. Good leadership does pay off and it is noticed by your customers. Thank you!;I\\'ve done business there for many years. I have never had a bad experience. The staff changes frequently, however, they have always been courteous. Sometimes there is a long wait after paying for truck and being able to drive off. There is a shortage of staff during busy times, weekends!;Very clean facility, well organized and amazing customer service!;It\\'s clean enough, and I\\'ve had a ben in there for about 5yrs I\\'m without any problems;The Best uhual;Well stocked inventory, helpful staff;Easy to reserve and rent a U-Haul here. They have storage areas available for short-term or long-term storage. I rented a truck for a day to pick up furniture and it saved so much time and energy by having the truck as opposed to other delivery options. Tip: Make sure to fill up the gas tank before returning to save money as the price they charge for gas at the U-Haul center is higher than market rate;Waited outside for 20minutes for  5 boxes, couldn\\'t get them because I needed to be at my niece\\'s wedding;The facility was very clean, the staff was very professional, and they had plenty of vehicles.;Good service;They was great there they customer service was awesome;rented uhaul for few hours. Very good customer service. We were in and out very smoothly. great location also;A well situated storage unit location that has both temperature controlled and regular units of various sizes to fit the needs of the customers. The customer service people are on par and attentive.\\n\\nTip don\\'t lock your uhaul key in the cabin.  Roadside assistance doesn\\'t cover the locksmith and it\\'s a $65 (starting price) cash only!;Staff can be cool at times. But with the public in the back u must not ever turn your back on your belongings cause they will be stolen its like clock work there are people that snoop around and listen to every thing u say just so they no where what you have and if you mention anything else about personal goods be aware because they will steel that do always take somebody;Easy in and out ( on a rainy Sunday morning). Very helpful in helping me find the products I needed for my move.;No thank you...playing games with hidden fees and penalties..not ever again!;I went into the uhaul facility on south Capitol and p drs sw just to pick up a bundle of moving boxes. We were greeted as we walked in the door. When I had a question the newest employee Sabrina came from behind the counter and walked over and explained the difference in prices for the supply pack and the individual boxes. Once we made or selection she rang us up and was most courteous . She said she had only been there for 3 weeks and did not hesitate to ask for assistance from her colleagues when she was unsure. Then the manager Chris came got the boxes and carried them to the car for us. As a long time retail sales person I appreciate excellent customer service and this facility\\'s staff are spot on. Whenever I am in need of anything for moving I will be using this uhaul store.;Really great customer service and very clean location. Good access to the storage units and well lit location.;nice staff.;Had an extremely easy time working with this U-Haul location. Not too busy, very helpful, and it\\'s quick to get your truck and head out.;Easy in and out.;Good service;Friendly and patient staff. Great prices.;Very sloppy, lack of service. Feckless in every sense. Go to Springfield u-haul. Craig is very helpful.;Clean place, nice staff, and the prices are better than public storage down the street.  Highly recommend it.;Great customer service & very professional;Teairra Bundy was incredibly helpful in getting the move in process done quickly. She made me want to come back to this location in the future!;They need more staff working here to check people out in the morning and then return the trucks at night. I probably spent more than an hour just waiting in lines trying to pick up and drop off keys.;You guessed it;Great Service.;Convenient downtown location with a ton of trucks available;Dirty.  First time I rented here I was given a trailer missing a pin to keep a part from dragging on the road.  Once I noticed it was very scary driving.;Very efficient and pleasant staff.;The walk was great exercise.;Excellent customer service and quick and efficient;Very simple and accommodating!!;Clean ztore, professional staff;Good service.;Always great service;Staff was helpful;Great service;You can get free boxes here!;Knowledgeable, polite, clean.;Always prompt.;Such great service;They provide a truck for more than 19.75!;Quick, efficient, and friendly;Nice;No orginization.;Poor customer service;Great store! Leah is always friendly and helpful, and she keeps her store stocked with all the basic (and many not-so-basic) kitchen needs and seasonal desires.;Excellent selection of kitchen related goods for how small it is.  Definitely worth stopping in if you’re looking for something or need a gift.;Awesome, awesome, awesome experience from start to finish. Leah is so knowledgeable about every single item in her store and was exceptionally patient while I figured out what type of knives I was looking for. Her expertise and clear explanations helped me really narrow down my options. I look forward to purchasing more cookware in the future because I know —without a doubt— that I can ask Leah and get straight answers. She had all of them!\\n\\nAdditionally, she took numerous COVID precautions, including requiring masks covering the nose and mouth of all customers, limiting the number of customers to four (not four “groups” ie households, but four people— full stop.), maintaining an appropriate distance, and ensuring each customer used hand sanitizer upon entering. Highly recommend a trip Hill’s Kitchen for anyone who spends time in a kitchen or home.  So. Anyone reading this! Check it out.;Hill\\'s Kitchen is a great local (woman-owned) kitchen shop. The staff is super helpful and the store has a good selection of high-quality items. I recommend shopping here and supporting this local business.;A lovely small business with a host of wonderful products- cookbooks, pots and pans, etc.  The staff’s knowledge is amazing.  I bought an obscure cookbook and they were able to point out exact recipes I’d like.  The staff also goes to great lengths to ensure customers purchase the proper products.  They quizzed me on my intended usage for a frying pan before offering a recommendation.;What a lovely local business! Staff is nice and welcoming, and there are a decent amount of kitchen selections. I definitely try to come here for my kitchen outfitting news.;Such a cute store! I know if I ever need a gift for my chef friends or just want something to sprouts up my kitchen I can go to Hills Kitchen! More often than not I’ll find something I wasn’t looking for or didn’t know I needed. So glad to keep supporting this local business. Highly recommended!;Friendly staff,nice selection of cooking tools.;Hill\\'s Kitchen seems to be an important store to the local community, and I love that the owners are friendly with people in the neighborhood! They carry a wide range of products that make me super excited to decorate my kitchen. I\\'m so glad this place exists, and just wish some of the staple items were a bit less expensive.;Love this store, it\\'s a staple of Capitol Hill with some knowledgeable staff and somehow they have everything, just ask if you\\'re in a rush. Definitely fun to just peek in every now and then, you might just get some ideas for how to improve your kitchen.\\n\\nFair prices too by the way.;The best kind of local business. Leah and her staff genuinely want to know what you\\'re doing in your kitchen, so they can supply you with only the things you need.  I\\'ve been going here for 6 years now, and will keep going here as long as I\\'m living in DC.;It\\'s a small store, but they manage to fit a large selection into it. They have at least two options for most major kitchen appliances, a good knife selection and a wall of pots and pans. I\\'ve been building a kitchen recently and this store has become my go to location for kitchen tools. The staff is very knowledgeable and is happy to help. I love to support local business, and this place has become my spot for kitchen needs;I am so glad this store exists in Eastern Market. It adds a neighborhood feel to the area. Located right next to the Eastern Market Metro, it\\'s easily accessible. The staff are super friendly and helpful. It\\'s the bottom floor of a beautiful row house and has any kitchen need you can imagine from state shaped cutting boards to fancy wine glasses.;Lovely little shop that has some unique items that make it more than a kitchen goods store. One more than one occasion, I\\'ve gone in for the states-shaped cookie cutters to send to friends, and have sent others there who are looking for gifts for their favorite bakers. They also have an excellent range of gifts for kids who want to get into cooking, with lots of small tools for tiny hands.;Amazing store.   The staff is super friendly, helpful and knowledgeable.  My wife and I did our wedding registry through the store, which was a great experience, and many of our family members heaped praise on Leah, the owner.;Wonderful kitchen gadgets and some gourmet foods, nice knives,  high quality stuff and very, very friendly people.  Could\\'t be closer to Eastern Market Metro.  Best of all their own designed , knife fork and spoon DC flag for people who love to cook  (play with their food) and love DC this is a must have.;Carefully selected kitchen items with  knowledgeable folks and friendly atmosphere;Love this place!  Small store, but a great selection.  A very good seasonal selection. Leah, the owner, is absolutely fantastic.;A lovely, friendly neighborhood store. Well stocked. Lots of fun gift items.;Love this place. I always find cool things for gift giving.;Super knowledgeable and friendly staff. Dog friendly store with a huge selection of supplies from necessities to great kitschy gift ideas.;Looking forward to visiting more.  Lots of kitchen goods.  No other housewares.  Lots of baking and ice cream tools;Great Service, great selection!!;Great kitchen supply store, in the middle of SE.;Lovely little kitchen novelty shop;Thia place has everything.;I’m done with this place. Two days in a row came in to buy pain killers and couldn’t get anyone to open the cages they’re locked inside. It doesn’t even matter that the employees are friendly, this store must be way understaffed when you can’t even get medicine in a drugstore!;CVS is like purgatory. Nothing against this particular CVS but every CVS I go into is Bland\\'s the service is terrible and I assume it\\'s because they\\'re not paying any of their employees enough to give them incentive for it. everything is overpriced and even on the app I\\'m never sure if I\\'m going to leave feeling like I got what I needed out of it.;I\\'ve shopped here from time to time - staff was very nice. Products were available and not reasonably priced (although not as low as some other convenience store locations);I feel as though it\\'s your regular CVS. Very convenient location, right by the Georgia Ave/Petworth Location. May not be the best as far as having everything, but I have gone there for basic needs and not had an issue. Not much store assistance. Walked around multiple times looking for a cream, maybe passed and employee twice and wasn\\'t offered any assistance...but overall nothing but regular CVS experiences.;Friendliest CVS Staff I’ve ever encountered, but there’s always one cashier. The wait in line can be very long, especially without self checkout.;Pharmacist Mehret is extremely helpful and knowledgeable.;The staff here is friendly, but this store is very drab. It feels like a prison inside and the ‘decor’ leaves quite a bit to be desired. It could definitely use a facelift like some of the CVS and Walgreens locations downtown.;I  been a customer for years and I especially like,\\nThe greetings I get from pharmacy staff.\\nAlways service with a smile I been in pain when I arrived, but when I leave I don\\'t think about the pain  because where just like family.\\nOverall great store!.;Extremely poor service.  Pharmacy service has gone downhill over the last 6 months.  Pharmacy does not pickup calls. I had to literally call the store mamager to inquire abt prescriptions on several occasions.  Robo calls stopped completely.  Text notifications sporadic.;Store is kind of a mess. Quality of service varies. I don\\'t actively avoid this CVS like I do the one in Columbia Heights.;While this is a fairly new CVS, the service is only average.;The pharmacy here is the worst, though most CVS pharmacies suck. They are ALWAYS understaffed and there\\'s always some problem. Never fill your prescription here.;Just a basic CVS.;Food quality is pretty good. You pick up meal plans, purchase frozen meals, buy smoothies or actual prepared food all at a convenient price. It can be an overwhelming experience because there is not a lot of guidance going in. If you can self navigate or aren\\'t afraid to ask questions you can make this place work for your needs.;I was walking down H street looking for a place to eat a couple hours before the gym, and stumbled on this Mecca for anyone intentionally eating and drinking to lose, maintain OR build their body. They offer wide range of fresh and frozen meals, as well as many types of healthy drinks. I got 2 frozen meals (which they  were happy to heat up for me to eat there), Cajun ground beef and Asian shredded beef for $7.50 each. That\\'s a great deal compared to other food prep services, on top of which they offer 1 free when you buy 5 at a time. LOVE the \"what\\'s your vision\" sheets. This place makes it easy to meet my goals without endless shopping and weighing of ingredients;If you are health conscious and are interested in having a convenient option in the city then I highly recommend Clean Eatz. I went during the dinner hour (6:00PM)and quickly parked and had my dinner and also a meal to go in about 20 minutes, my food was hot and tasty..I purchased the Watch your Waist with Salmon and I got a togo meal to prepare later. You should definitely try if in the DMV...#Mealprep to go👍;No complaints here. Can\\'t wait to try out the meal plans.;This was our first time try it out clean eatz I use a Groupon the food was great I highly recommend there protein French toast my daughter loved it I myself had the bowl which was great as well we will definitely be going back I\\'m glad to see that there is a place like this in my neighborhood and I don\\'t have to travel so far;Wow, the quality of this place has really gone down. 50% of the time they mess up your order, their smoothies aren\\'t made from real fruit and LOOK how burnt my pancakes are. Can\\'t believe they had the nerve to deliver these to me.;Came in on #MLKDAY! and was not disappointed. Staff is patient and on point, and the food is delicious and not to be missed. Clean Eatz is now in rotation on my go-to spot list.;A very good variety of healthy options. Also can custom order meal plans for any dietary restrictions.;Very unique!!! Easy, no frills menu! Lots of options & the Mango water is awesome! I\\'ve only visited once, but I plan on returning;My first time in this business enjoyed the veggie  wrap;Very fast service good place to be;Get food that\\'s clean, healthy, and lists ingredients and nutritions. Some items are bland, so order carefully.;I like the healthy choices.when I came back the store close or maybe change.;Working long hours in the hospital or clinic had deterred my healthy lifestyle choices. Clean Eatz has me back on track. The cost is only slightly higher than my food budget, but it is worth it.;👍🏽👍🏽;Its closed folks, for good\\nFrom what I\\'ve been told\\n\\nIts was nice for all the years it lasted;I consider this place my personal \"cheers pub\". The people are friendly and it\\'s a very professional crowd during the week especially during happy hour.\\n-great drinks and drink specials\\n-Sunday karaoke 9pm -1am\\n- Saturday day parties once a month with DC fellaz entertainment\\n- Talent competition once a month with iconic Souls entertainment\\n- happy hour extends the whole day on Monday Tuesday and Wednesday\\n- First Fridays parties with various promoters;Great Dance floor last of its kind in DC\\nSold recently so ya better get your dance on while you can.;This place was short at least two bartenders. Waited 20+ minutes just to order a drink. Won\\'t be going back any time soon.;I used to go there when i was heading to other clubs in the same general area back in the 80s and 90s when I lived in DC and Va.;(Translated by Google) Strong drinks .... heyyyy!\\n\\n(Original)\\nStrong drinks....heyyyy!;Loved the food and libations. The renovations on the inside are upscale. Not handicap accessible to the Rest rooms on the second floor.;Good place to eat. Great people.;Excellent salmon with shrimp and calamari.;Nice food.;Nice and clean;Excellent venue\\nBackdrop of the Capitol\\nA Capitpol  Experience;Awesome view. Great place for a corporate event during the summer.;Beautiful views and location. The food was really good too. It\\'s a rooftop and is an amazing venue with great service and food.;I was here for a conference dinner on the rooftop. The food was lackluster and ran out multiple times. the event was by reservation only so it was not as if Capitol View had no idea on how many patrons to expect. The two bars that were on the rooftop were cash only and hard to navigate towards. The bathrooms were also located a fair distance away. After a bit of socializing (like an hour), many of my peers decided to go to another venue.;Beautiful rooftop location provides lovely views of the Capitol in all its glory.;Spectacular views. Great venue;Beautiful place.;nice  for venues;Layla Lounge is the place to be. Open space, cool atmosphere, what\\'s not to love. I was here on Monday for Munchies Monday. We play cannabis bingo and have a great time.;Always 420 events, great atmosphere;I went for a very disorganized event... So this may be somewhat biased... But the venue was kind of dark, nothing looked new or modern, upstairs and downstairs are not that big, weird location.;This place was horrible. The advertised open bar and buffet never happened despite paying a fee. Straight up scam club. Avoid at all cost!;Need a extra floor wider space for venue...;Awesome vibes;To hood for me 😮😔😔;Loved it!;Horrible;I love Margot she\\'s the best & her staff is friendly as well . Never left this place unhappy;IBE IS THE BEST!;Lisa does a great job!;Can\\'t complain good place;Yeah splendid;Good job;(Translated by Google) Very friendly!\\n\\n(Original)\\nMuy amigable!;A bit pricey. Well stocked and staff is pleasant.;Nice store usually quick and attentive.;Expensive. Try Fairmont down the street.;Love it;There price are fair.;Staff was friendly and efficient. Work related drug test was completed in only a few minutes. There are a few parking spots next to the building but the street behind allows free parking for up to 2 hours. Plenty of neighborhood parking. Also conveniently located near the metro station.;Staff was very polite. Keep in mind the hours for Physicians is in fact different and is 9:00am to 2:45pm. Otherwise I have no complaints, great and conveniently located service.;Quick polite service!!!;Poor customer service short-term quality products reasonable price I\\'m not sure the health department will pass this place though;Nice store 4 women 2 shop 4 different items, they just don\\'t have good clothes or accessories 4 plus size women.;I went to get my daughter uniform pants and under clothes from this store. Staff was helpful, friendly and it didn\\'t take long.;Friendly Staff very Professional;Very Convenient and the staff are always helpful.Shirt and pants came from Rainbow...;Rainbow staff was very nice very curious and it\\'s very clean and neat there;Needs more space store is too crowded looks like a Little thirf store;If you are looking for a jean jacket you can find one there;Lot of stuff.Needed more store floor space;A little cluttered but nice to shop in;It was uneventful.;Been using this Ace for years never had a issue and the lady in the front is so professional  and so dedicated to what she does Ms. LaJuan I truly appreciate  people like you that love what they do and do it professionally thank you;Lajuan very good employee;The clerks are nice but most of the customers are rude and nasty.;Very helpful and supportive;Lajuan the best;Getting paid two days early with direct deposit. Plus able to use my card anywhere for any transactions...;Smelled like a sewer and it was dirty;The lines be extra long customer services decent;Good customer service ...;One of the rudest places I have ever been in won\\'t go in anymore.they never have more than one person working.I have never met a staff member that wasn\\'t nasty and rude if u can do your business elsewhere please do.I give this place 000000 stars.;The employees were very friendly;Great service and location. After work can be busy but the line move somewhat quickly try to get there as close to 5 as you can, the closer to 6 p.m. the more likely there\\'s usually at least 5 people waiting. Saturday morning when they open at 11 is also a great time to come. I prefer this location over the u Street location because of the technicians.;First time client and she did an amazing job and listened to my needs. While it is $15 for eyebrows which is more expensive than my usual spots I will be returning. It\\'s convenient, right by work so I don\\'t have to compromise time with my husband and kids on the weekend.;My eyebrows are always on point after leaving the shop. I love my Threader. She\\'s friendly, professional and has an eye for perfection!;Excellent service. Rarely have to wait; when I do, the wait is short. Price is reasonable.;Good local place in dc for eyebrow threading, although it’s a bit dirty walking there, underneath the stairs in the basement .;I had to come back twice and the service wasn\\'t that good.;The food tasted great once it was prepared. We always get the stuffed crust cheese pizza and wings. There seems to be an error with the app. Our order was placed at 602pm and still not ready an hour later at 702pm when the \\'track my order\\' feature stated my food had been \\'picked up\\'. The employees seemed to be stressed on this particular Friday night and the female in the front making pizzas with her pants half way down seemed to not be in the best spirits but still trying to get everyone\\'s orders out the door.\\nOur order was not complete with the sides so you may have to remind them but you will get great tasting food.;I usually order from the 11th street store and am happy with their pizza tonight however I tried to order their $10 special of two large two topping pizza for takeout online.Their site would only let me order one pizza and wouldn\\'t let order the second.After multiple attempts online I called the store to order the \"special\" .The woman t as king my order said ok and repeated the order back to me, and told me it would be 20 minutes until the oder was ready. I get to the store and she rings my oder up and tells me it\\'s now $27 and change. I\\'m like \"that\\'s not what t was listed online and what\\'s the problem\"? She tells me there\\'s tax and I\\'m saying \"Not $12 or more in tax\"! Then she says ,\"well that\\'s the online special and you called the order in\". I\\'m now explaining I\\'ve called in orders before and that\\'s never been a problem, then she goes on to say \"well our policy has changed\" ! So a few more seconds of conversation goes nowhere and now I\\'m angry AND hungry so I  pay for the pizzas and leave.  Papa John\\'s has just lost another customer an now get home to find out there\\'s little bacon on my chicken  and bacon pizza. All in all a frustrating and disappointing experience!;Ordered a pizza at 6:30. Was told it would take an hour. Driver showed up at 7:47. By the time I read the box and saw that it was someone else\\'s pizza, she had driven off. I called the store and they said they would send her back. It has now been 30 more minutes, nearly 2 hours since I ordered, and when I called the driver 10 minutes ago all she would say was she was \"on her way.\"\\n\\nNever again.;Good pizza, maybe theres street parking out front.;They are so unsanitary.. I went to pickup my order. Paid the cashier.  This same cashier (without  washing his hands) then proceed to knead the pizza doe.. My response.. please refund me and thank you.. goodbye;Pizza was good, delivery was ok;The pizza  is great 🍕!;Good Pizza Too legit;Took order on app, charged card, said was delivered via app, said it was almost delivered via phone...on hold 20 minutes and then hung up...WORST, WORST service and customer service of any pizza chain or delivery service in DC.  Don\\'t wast time or money.;Add 30 minutes minimum  to the time they say your food will be ready;Delivery took twice as long as it was promised to.;It\\'s  Papa John\\'s. It\\'s pizza.;Accountable;Always an amazing time here. The staff is incredibly timely and attentive when appropriate. Brent, the owner and sommelier, is so friendly and responsive.\\n\\nI sent an email this morning asking to clarify reservations, Brent answered before the restaurant opened with a full and complete answer.\\n\\nFor reference, it is walk in as long as you are not booking out the inside.\\n\\nThe wines are hand picked, always different, and always incredible.\\n\\nThe food is good, but this is not somewhere that you are going to have a full meal. It is a fun hang out spot, with great music.\\n\\nAll photo credits go to @girlavalon;We ordered a reasonably-priced bottle of wine that turned out to be unavailable, so staff served us a comparable bottle that was twice the price without letting us know. Service was OK.;Love this wine bar! An excellent selection and great service. They have patio and indoor seating.;Good selection of wine. Interesting concepts. Great knowledgeable staff. Doing well with keeping people safe but can’t wait to see at full capacity.;Very friendly staff. Really appreciate being able to sit out on the sidewalk. We ordered a variety of wines and a few appetizers. Enjoyed the variety and quality of the food and drinks available. Great spot to stop in before having dinner any any of the nearby restaurants.;Terrible service but great location;PROFITEER WARNING for most pet owners, man\\'s best friend is another member of the family and deserves the best care, but you need to be alert to profiteers, some of the veterinarians at this place are out to make an extra buck, they pad the bill with unnecessary tests and procedures. Speaking from experience, I suggest you approach this otherwise excellent veterinary clinic with caution  -- never hurts to question your doctor so why not your dog or cat\\'s.;Dr Murdoch is very capable, compassionate, and communicates clearly recommendations and options. My Buddy cat is recovering very quickly from an urgent procedure. Everyone else I encountered was professional and helpful.;In the first few years that this clinic opened, I had to put down my cat. I went there because it was close and I could see how they handled me and my pet.  They gave him the ultimate dose before telling me that this would be it!  So I had no chance to say good-bye to him or pet him!  I was really upset.\\n\\nToday, 2016, I needed their cooperation to work with another vet\\'s office to get some pain medication today for my new cat who has cancer.  I called three times in the a.m. and never got a response.  It just went to voice mail and no one ever bothered to call me back.\\n\\nI\\'d like to say something good about this clinic, but with these experiences, I simply cannot.   They do not exhibit the sensitivity and care that I would and should expect from any veterinary clinic.;This place misrepresented itself, and made untruthful statements both verbally and in writing.\\n\\nThe practice manager, Richard Cohen, admitted that his wife and friends work at Friendship Hospital for Animals, which negligently/maliciously gave my cat dog medication and caused him to suffer. My cat had to be put to sleep as a result of the negligence of Friendship Hospital for Animals.\\n\\nFriendship Hospital for Animals was under investigation for animal abuse/cruelty and Dupont Veterinary Clinic provided Friendship Hospital my cat\\'s clinical records without my authorization, despite the fact that they initially claimed that it was good that Friendship is being investigated for animal cruelty and promised not to provide my cat\\'s clinical records. Dupont\\'s agents were aware that I attended Friendship Hospital with the police in order to retrieve my cat and they were instructed not to provide any information to Friendship. Dupont claimed that they have no relationship with Friendship, yet the practice manager later admits to his ties to Friendship.\\n\\nThe unlawful conduct of Dupont should be addressed.;Great place although a bit expensive. However they outlined the cost every step of the way and Dr. Dan was fantastic!;Outside of the parking aspect, a great place to take your pets if you want quality care!;Alley has some very useful spaces which I\\'ve been to several times. The startup I\\'m with used it when we needed a conference room and they had a bigger space for a large meetup presentation I attended. They take your photograph when you first use the space and have a coffee, tea, and various kitchenware for general use.;It\\'s a great co working space but the bathroom needs an upgrade.;Nice place to co-working!;Small Business Project for DC Public School children  Thanks Verizon;Friendly staff;I had a very nice experience at this Hertz rental office.\\nService was efficient (despite a slow computer).\\nI asked to change my car as it was a three door car and the tank was half empty, and that was done immediately.\\nI wish to thank the local branch manager, Megan, who was very kind and efficient!;I had to rent a car a number of times these last few months and have gone to several different locations, including with other companies.  I appreciate the customer service here, especially Tyler.  On a previous rental, when I got lost, he help me navigate to their location.  I was dealing with a serious medical emergency  regarding a parent about a hour away and needed to get back my rental.  Tyler was kind to say that I can stay at the hospital and get the car back as soon as the emergency was settled. If you have ever had a number of things go wrong at once and someone makes one of those things better, it means the world.\\nI read some of the other reviews here, for example, when people have to wait for the reps at the desk, yes that can be frustrating. But the reps take you down the elevator to the garage and help you find your rental.  Its is a large hotel location, it can take time.  My rental has smelled a little of smoke in the past, I just rolled the window down for 10 minutes and it was fine.  I do not smoke but we live in DC and I am not sure how the reps would prevent people from smoking in the cars while using them.\\nI have paid extra in rental just to rent at this location because the reps are very nice, the cars are consistently in great shape and the location is near Dupont metro (for heading to and from the rental), I recommend this Hertz.;You have to walk back through the Hilton lobby to find the small desk. They got me in and out pretty quick. It was an easy experience, and much more convenient than going to DCA if you live on the red line. The car was nice and clean. I would go back.;Megan is awesome. Perfect service;We had a good experience overall but didn\\'t get the exact model we reserved. Customer service was good (helpful and informative).;Fabulous customer service great location;Friendly, convenient.;Horrible service. Trying to drop off the keys but no one is here! Also the key they gave me for the car malfunctioned the entire time! Save yourself some time and hire a car somewhere else.;Very little time,  and explained my results perfectly;Quick, painless, diagnostic that\\'s more useful than a doctor\\'s visit. Actionable intelligence in the fight against obesity, the results were explained expertly by a knowledgeable technician. Thanks Ivana.;Really like this place! I\\'ve gotten 3 DEXA scans there and they\\'ve been extremely helpful in explaining my results, explaining my progress, and being flexible should I need to reschedule. Cannot recommend enough.;I did the DEXA Scan with Mitch. Very informative, quick, easy. Mitch answered all my questions and was very knowledgeable;Parking is tough (watch out for street cleaning, $45 ticket) but the quality of Composition ID\\'s service is very good. Staff is well informed in what they\\'re doing and the environment of the office is clean .;The scheduling was really easy. I\\'ve completed many body composition tests in the past (calipers, bod pod), but Dexa scans are the clear winner. Didn\\'t have to get undressed. It was quick, and the in depth reporting was great!;Best place to get a DEXA scan and the staff is very professional and friendly. Also, they offer RMR and VO2Max in addition to nutrition counseling.;Good experience, helpful staff.;The food🍲 is delicious😋😋😋😋😋😋😋😋😋😋😋 good customer service all the staff... In special.. Mr. Alex.. Great place....!!;Morazan has warm staff, fair prices, and fresh foods. In addition to normal groceries they have delicious prepared foods including tamales. Highly recommend if you are in the area.;Store is pretty good for being a local store. It has a lot of variety in this store. From fresh vegetables, different kinds of spices, and a food stand. Would absolutely recommend this to a friend.;Good Mexican/C. American grocery store, very convenient for the neighborhood.;Small store whit diferent produts, they serving cooked food to.;My favorite community store... Love this store;Great local \"ethnic\" market.;Nice clean convinience store;Good food.;nice lace 2 shop at;fresh fruit;(Translated by Google) Very good\\n\\n(Original)\\nMuy bueno;(Translated by Google) Warm place very nice good service and you find everything\\n\\n(Original)\\nCalida lugar muy vonito buen servicio y encuentras de todo;(Translated by Google) They have a wide variety of national and international products, a good variety of prepared foods and good customer service.\\n\\n(Original)\\nTienen gran variedad de productos nacionales e internacionales buena variedad de alimentos preparados y buena atención al público;(Translated by Google) Good food !\\n\\n(Original)\\nBuena comida !;(Translated by Google) Ok thanks for it\\'s good food\\n\\n(Original)\\nOk gracias por que es buena comida;(Translated by Google) They have a variety of Latin products😎\\n\\n(Original)\\nTienen variedad de productos latinos😎;(Translated by Google) Good place to shop\\n\\n(Original)\\nBuen lugar para comprar;👍👍👍👍👍;Lots of unnecessary fire alarms, and rats!\\n\\nBut still like it because of the kitchen, which is a good side for all the Muslim students who only eats halal!;I actually stay in Towers East but since West is pretty much the same, it\\'s arguably the best dorm on Howard campus;One of the better dorms on campus, but it still has its ups and down;Outside parking is nearly non existant,  plan accordingly.;Moving my son in for his sophomore year at Howard University.;HU forever always will be home;Convenient place to live in DC;The Dorms;Not to bad;WARNING: LIMITED PAY PARKING might be an issue as there is every imaginable establishment in the neighborhood ranging from coffee shops and a wide range of restaurants to a hardware store and shoe repair shop so parking might not be available.;My favorite laundromat;sweet;(Translated by Google) This place is good but it must improve because there are many bad machines ....\\nThis place I\\'m mine is good but can make better because have aloft machine bad ....\\n\\n(Original)\\nEste lugar es bueno pero debe mejorar   por que hay muchas maquinas  malas ....\\nThis  place  I\\'m mine  is good   but can make better  because  have   aloft  machine bad....;(Translated by Google) It has comfort but it is not the best in the area.\\n\\n(Original)\\nTiene comodidad pero no es la mejor del area.;Got my boyfriend a cut while on vacation. Everyone was very friendly and welcoming. They did a great job on his hair too. It is a black barbershop with no problem cutting white hair;A place where guys chat about sports & politics as well as getting groomed .;Very nice shop. Very professional;Love this shop go every Thursday go place to talk sports and you will get a great cut;Great service and attention to detail!;I went over there Tuesday;They are very fast;Staff and customers all very chill and friendly, classic neighborhood barbershop.;Black Excellence...;I\\'ve been to the Banfield in SW and was always treated as a valued customer, and my cats were always well-cared for. The same cannot be said of this location.\\n\\nAt this point we\\'ve visited twice. The first time we came, we were not informed of their \"dropoff only\" policy, and it was raining. We and our cats were left outside in the rain for 10 minutes before they came and brought them in. They tried to make up for that with a complimentary nail trim, which was nice so we thought we\\'d give them another chance.\\n\\nThe second time, we dropped them off for a teeth cleaning today. We were told they could not eat 12 hours before; that\\'d we\\'d receive a call from the vet in the afternoon informing us of their progress; and that we could expect to pick them up around 3-4pm.\\n\\n5 o\\'clock rolled around, and we\\'d heard nothing all day. We called the office and were told the cats were still under treatment and that we could expect to hear from them before the office closed at 6.\\n\\n6 o\\'clock rolled around and we heard nothing. We called back and were told that one of the cats was still under care. At this point, knowing my cats likely hadn\\'t been fed all day, I asked what exactly the vet had been doing with my cats given we had dropped them off almost 12 hours prior to this call. The representative said that Dr. Joseph Ianniello - the vet overseeing the procedures - had likely shifted our cats\\' appointments around depending on the different walk-ins and drop-offs of the day. At no point were we ever updated on this, and at no point did the doctor seem to care that two hungry cats might deserve to be treated at their allotted times so they wouldn\\'t have to go 24 hours without food unnecessarily.\\n\\nWhen it\\'s all boiled down, the simple fact was that expectations were set and not met: we were told our cats had a morning appointment (their procedure didn\\'t start until at least 5pm); we were told we\\'d get a call from the vet (he skipped out and never called us before ending his shift. Thanks Dr. Ianniello!!); we were told we\\'d pick our cats up between 3-4pm (we just got home at 7pm).\\n\\nIf you can\\'t meet expectations that YOU set, don\\'t set them. Period. We will be calling tomorrow (since none of the doctors were available to speak with us) to cancel our wellness plan with them. \"Wellness\" implies they care for your pets, when it\\'s clear from this recent experience that your pet is nothing but a number and a fat wad of cash to them.;They took really good care of my lil Fella;The personnel is awesome.  Mr. Cook gave exceptional customer service.;Love that they really keep you informed. The vet spoke w/me after seeing my dogs and was more thorough than any vet I\\'d seen before in the DMV (City Paws & Takoma vet clinic, to be exact.)\\nDr. McFarland and Ulysses, plus a young woman whose name I regretfully did not catch helped me and my dog that day. They were wonderful.;My best pal, Mick Jagger goes there. I couldn\\'t be happier. The level of care and the in depth exams are a plus. Their health plans are awesome. Their professionalism goes above and beyond.  I couldn\\'t recommend them more. They are just awesome;Very happy with how they took care of my cat;I brought my dog in for an examine; glad I did! My dog\\'s behavior said it all! I\\'m loyal forever!;Took my new puppy here and had a great experience! Other vets in the area seemed like they were always trying to upsell but Banfield put him on a comprehensive insurance plan that covers unlimited office visits so I don’t worry about being “sold” services I don’t need. I will be bringing my cat here from now on too!;Amazing staff. And love for my pup!;Although my 1y/o Daisy the pug is a patient at the Navy Yard location, Adams Morgan staff welcomed her there for a nail clipping. Everyone there were nice & gentle handling her and like NavyYard techs nicknamed her \"Crazy Daisy\" which that is what she is 🥰;I called and was put on hold for ten minutes. Called back and they picked up the phone and hung up. Whoever worked the counter at 1:30 on 9/29/2020 isn’t good at answering phones.;Amazing compassionate professional;Very happy with Banfield Pet Hospital. My hysterical cat, experiencing his 2nd vet visit, was calmed by the doctor and even allowed her to clip his claws.;Excelent place for your dog;(Translated by Google) Good attention\\n\\n(Original)\\nBuena atención;Behind George Washington Monument. Slightly out of light. Cooler area in shade of trees. Enjoyable !;Kinda confused as to whether or not the theater is being used. It was fenced in during my last visit on 9.22.18. however, the stage and surrounding building\\'s are in good shape and up keep.;Worthwhile;Great musical performances;Great musical;Free;One stop shop for wax and brow threading. I love coming here. They slay my brows EVERY TIME. My come out feeling like a brand new woman! Highly recommended.;This was my first time getting a Brazilian wax and the technicians made me feel extremely comfortable. They worked quickly and gave me clear instructions for after care. I will definitely return.;A++++ service here. I have become a regular client;I\\'m torn. I have had my eyelashes and eyebrows tinted, and well as brows threaded, at silky smooth several times. The first few times, I was pleased and actually felt the services were better than high end salons that provide the same services. However, the past few times the services have been inconsistent and highly dependent on the individual providing the services. Unevenly colored brows. Bluntly ended brows. Lashes that are not anywhere black. I definitely don\\'t go out of my way to come here anymore and often find myself nearby, needing tinting, and still not stopping in.;My favorite place to get my brows done. They always have a spot without any reservations, they are fast and good price. I always leave happy with my perfect brows. I don\\'t have any preference, always go with whoever is available and never left disappointed. Highly recommend!;I have been a customer for over a year, having eyebrow tinting and brow threading.  I recently added facial waxing.  I had a tinting of the brow the 24th of December and noticed that the dye was FADING rather quickly, within 4 days the gray hair was back and on the 9ith day following the service I went back to the salon for them to correct.  I expected the correction to  be quick but I found A CALL TO THE OWNER was needed and I was told that if I wanted a correction it SHOULD HAVE BEEN TWO DAYS from the time of a tinting.  TINTING LAST BETWEEN 4to6 WEEKS!!!  I was tinted quickly without  paying for the service again.  I WAS VERY DISAPPOINTED WITH THIS BEHAVIOR and WILL RE-THINK using this salon again.  THIS IS NOT HOW TO TREAT A LOYAL CUSTOMER!;Wonderful staff and great COVID precautions taken!;The owner of the place texted me, harassing me.\\n\\nI went to Silky Smooth DC. It was the first day of  woman who was threading me and she was just trying to make conversation. She asked me about me and so I reciprocated. I found out that she\\'s been in the States for 4 years and has an 8 year old daughter. The remainder of her family husband and mother are back in Nepal and she\\'s collecting money to sponsor them to come here. She makes very little money lives off of tips cannot afford to really live in a place by herself so rents a room in somebody else\\'s house for herself and daughter.;They took me as a walk in and I was out after a threading in less than 15 mins! The staff is extremely professional and the business is very clean and nice. They even have all sorts of charges located in the waiting area which was a nice surprise.;I was pleased with the service I received. It’s a nice clean shop with wonderful customer service. I will be returning to get my eyebrows threaded again!!!;I have been there twice for my eyebrows and was totally satisfied. I would recommend Silky Smooth to anyone looking for pampering herself. The owner is friendly and the atmosphere is clean.;Best threading shop in DC... Customer service is always top notch and Krishna does the best job on my uneven eyebrows.;Silky is my go-to gal for hair removal. She really knows what she is doing, very thorough while being comforting.;Friendly staff and relaxing atmosphere. They do a great job!;Be your best..😍;I write this review as a current member of the City Tavern Club.  I very much have enjoyed my time at CTC so far - I\\'ve had the opportunity to meet a diverse, accomplished group of members and received a warm welcome from the membership.  The club offers varied activities, ranging from interesting book talks and lectures to more social events like wine tastings and seasonal parties.  The food and wine selection is fabulous.  The building itself, c. 1796, is extremely well maintained and well-appointed with beautiful furniture and decoration on its seemingly endless floors.  The club is a lovely place to host your next get together or party and can handle events of all sizes and types.  Heather and staff are the stars of the show, creating beautiful events that run the gamut.  I\\'m thrilled to have found my home away from home in Georgetown.;We held a birthday party for my mother-in-law at the club. The staff, food, and accommodations were perfect for the occasion. What an amazing opportunity to experience American history with great food. I plan to host more parties at this venue.;Beautiful space for a party. Great staff;Decent Italian place. Good food, good service. Better than popular Italian place across the street \"tomate\". This is the real deal. For some reason, the atmosphere and staff reminded me of the movie \"The Big Night\". Check it out if you are in the area and want good italian food.;Love this place. The nicest bartenders and the strongest drinks. Well worth a visit. Tegar is a real great guy.;This is a great place with a friendly staff and good food;Great paella! Good spot for a date.;Quick eats, not too expensive;Food was mediocre. It was dead on a Saturday night which should have said something. Service was slow.;Food and service, excellent;Amazing tapas and friendly atmosphere!;Disappointed with the food and the prices were just ridiculous for tapas.;(Translated by Google) Honestly, white potatoes do not come close to the true flavor, the other tapas nothing out of the ordinary ... I would not return. Without being very demanding, it is not a place where I can feel myself eating real Spanish food, although I understand that the ingredients may not have the quality of Mediterranean food. Something more of flavor and quality could be expected.\\n\\n(Original)\\nHonestamente las patatas bravas ni se acercan al verdadero sabor, las otras tapas nada fuera de lo comun...no volvería. Sin ser muy exigente no es un lugar donde pueda sentirme comiendo verdadera comida Española aunque entiendo que los ingredientes podrían no tener la calidad de la comida mediterránea podrían esperarse algo más de sabor y calidad.;The staff was very friendly! The Braider JO is absolutely amazing on THE SLAYYY as always!;No just a braiding salon they do all types of hair with bomb results;Loved it VERY professional and the Ladies can do some HAIR!!!😊;Went for trim. The shampoo is amazing but blowing out the hair was a bit rough. I have natural hair and it can hurt my hair when combining from the roots. She didnt cut too much of my hair so I am happy with that.;I went in a lil nervous because of how damaged my hair is. The owner Dominique hooked me up. I walked out feeling like a new woman. I never had my hair cut so low but I like it. The staff is friendly and works with a sense of urgency. The shampoo girl is really cool I love the music and different Quotes all around the shop. I will be returning soon. I had a great experience;Kim is the only person my friend goes to, shes the best. I\\'ve seen her do her styling & she never disappoints;Very dirty there they talking about you in their own language  they charge you too much money;I was a first time client, my appointment was set for 11:00am and I didn\\'t leave there until 5:00pm.;Professional, courteous and knowledgeable. Ask for Tamira;Gotta get back here.  These ladies rock!;Kia the best and the staff;Flossie my stylist bomb;Enjoyed my visit thanks to Kerry;Ok..had a few cool items;Close and convenient plus the staff is super Lit;Love the prices, just not alot of kids shoes to choose from;They had nothing I needed, and I felt like one of the workers was high;Nice store and very pricey;Nice variety of shoes for the family!;$30 for a snap back •••\\nGo ahead and close your stores..;Prices are too high, even the sales aren\\'t worth it;They had what my son was looking for;Terrible selection\\nNeed more brands of shoes;Love it;Nice;Go to spot for sneakers on sale;shoes are great....sometimes the prices are expensive.;Even after walking by Micho\\'s for the last three years, I\\'ve never been tempted to go in until I saw the 4 star rating on Yelp. So, my Monday night dinner buddy and I went here for some good old fast casual Lebanese food. It was a decent experience, but we won\\'t be back.\\n\\nThe atmosphere is like most fast casual restaurants with plenty of seating. You can build your own kabob or you can order one they make for you. I had the chicken kabob and it was okay. It has french fries inside, but it lacked significant flavor. Same goes for my baklava ($1.50 for a TINY piece). My buddy got the shawarma, which lacked flavor. He had to order an extra dip to give it some taste to it.\\n\\nAll in all it wasn\\'t the worst experience, but we won\\'t be back.;I got a delicious chicken shawarma from this restaurant. I would love to come again. Also, I received a special respect from the staff.;Great food ! Authentic# good service but if you in the evening only one person, so there will be a line;I love to get my veggie fix on their very large platter of falafel roasted veggies. It is a favorful meal in a casual atmosphere.;This place is the best place to try the middle eastern or the arabic food, Shawarma, Falafel, Kabob so great.\\nThey really deserve 7 stars. They are really professional.\\nVery friendly, and nice team.\\nI love to go there and hope the best for them.;Well seasoned meats with good grill flavor. Best freakin\\' fries on H St NE.;Decent quick schwarma. Nice people.;Hey guys if you want to enjoy a good taste food this is the place for you;Great service and the food is tasty;Good food and service;The owner and chef are the best!'"
            ]
          },
          "execution_count": 48,
          "metadata": {},
          "output_type": "execute_result"
        }
      ],
      "source": [
        "\";\".join(local_df.loc[:,'text'].to_list())"
      ]
    },
    {
      "cell_type": "code",
      "execution_count": 66,
      "metadata": {
        "id": "4mb92Yc9oTfy"
      },
      "outputs": [],
      "source": [
        "# Run these lines\n",
        "system_prompt = 'You are an restaurant review writer whose job it is to help \\\n",
        "               people find good menu items. You will return responses is json \\\n",
        "                dictionary format only'\n",
        "local_df.loc[:,'text']=local_df.loc[:,'text'].str.replace('\"\";','')\n",
        "reviews = \";\".join(local_df.loc[:,'text'].to_list())\n",
        "prompt =  f'The following text is a list of restaurant reviews seperated by ; . \\\n",
        "        For each unique menu item mentioned, give a summary of \\\n",
        "        the user reviews for that menu item. \\\n",
        "        Return the output in the form of a json dictionary, \\\n",
        "        where the keys are unique menu items \\\n",
        "        and the values are the list of all summarys for that item. : \"{reviews}\"'"
      ]
    },
    {
      "cell_type": "code",
      "execution_count": 68,
      "metadata": {
        "colab": {
          "base_uri": "https://localhost:8080/"
        },
        "id": "EqqEu1p6HP8s",
        "outputId": "651b2bac-0e9b-447c-d134-68263d058f69"
      },
      "outputs": [
        {
          "name": "stdout",
          "output_type": "stream",
          "text": [
            "0 300\n",
            "300 600\n",
            "600 900\n",
            "900 1200\n"
          ]
        }
      ],
      "source": [
        "response_dict_list  = []\n",
        "for i in range(0,1000,300):\n",
        "  print(i,i+300)\n",
        "  reviews = \" \".join(local_df.loc[i:i+100,'text'].to_list())\n",
        "  system_prompt = f'You are an restaurant review writer whose job it is to help \\\n",
        "               people find good menu items. You will return responses is json \\\n",
        "                dictionary format only'\n",
        "\n",
        "  prompt =  f'The following text is a list of restaurant reviews seperated by . \\\n",
        "        For each unique menu item mentioned, give a summary of \\\n",
        "        the user reviews for that menu item. \\\n",
        "        Return the output in the form of a json dictionary, \\\n",
        "        where the keys are unique menu items \\\n",
        "        and the values are the list of all summarys for that item. : \"{reviews}\"'\n",
        "        # Generate response\n",
        "  messages=[{'role': 'system', 'content': f\"{system_prompt}\"}, {'role': 'user', 'content': f\"{prompt}\"}]\n",
        "  response = openai.ChatCompletion.create(model=\"gpt-3.5-turbo\",messages=messages)\n",
        "  response_as_dict = ast.literal_eval(response['choices'][0][\"message\"][\"content\"])\n",
        "  response_dict_list.append(response_as_dict)\n",
        "\n",
        "\n",
        "\n"
      ]
    },
    {
      "cell_type": "code",
      "execution_count": 71,
      "metadata": {
        "colab": {
          "base_uri": "https://localhost:8080/"
        },
        "id": "YrZmsNIKNCII",
        "outputId": "72e6b290-d09c-45e5-aa9f-7b8da6d8f787"
      },
      "outputs": [
        {
          "name": "stdout",
          "output_type": "stream",
          "text": [
            "{'DMV Entrance': [\"Good customer service You guys are awesome! I'm coming \"\n",
            "                  'tomorrow again just to thank each and every one of you. :-)',\n",
            "                  'I never have to wait longer than 20 mins to be in and out. '\n",
            "                  'Quick courteous and helpful DMV Entrance on Kenilworth Ave '\n",
            "                  'its a one-way street you have to drive slowly or you will '\n",
            "                  'very easily. Building Entrance is after Mobil Gas station '\n",
            "                  '⛽. pearl parking size is 22 X 8 feet at this location. They '\n",
            "                  'have 2 spots for tests. Community Dinner Tuesday 5:30 to '\n",
            "                  '6:30 I Love it Nice Love it'],\n",
            " 'Exxon': ['Jamie and the team are top notch professionals who proactively '\n",
            "           'address any and all car issues you may encounter.',\n",
            "           \"Couldn't recommend them more Jamie was great the manager when I \"\n",
            "           'was unloading the Volvo. He was able to assist.',\n",
            "           'I pulled into Exxon Friday afternoon following Thanksgiving with a '\n",
            "           'punctured tire and an urgent need for my car on Sunday. It '\n",
            "           \"required an order for a tire they didn't have on hand over a \"\n",
            "           'holiday weekend. Less than 24 hours elapsed and I drove home with '\n",
            "           'a new tire at a reasonable price; again, on a holiday weekend. '\n",
            "           'They really delivered. I have used them multiple times over many '\n",
            "           'years. Great experience.',\n",
            "           'Staff greats me imediattly does quick diagnostic tells me the '\n",
            "           'price and gets it done between 15 minutes and 24 hours. Prices are '\n",
            "           'reasonable. Replaced a flat tire.',\n",
            "           'Professional, prompt, and fairly priced. Great honest local '\n",
            "           'business - highly recommend!',\n",
            "           'Fast, affordable service. Got me back on the road in less than 20 '\n",
            "           'minutes.',\n",
            "           'What initially drove me to Conte’s was the simple fact they were '\n",
            "           'open during their posted hours. Easy enough, right? Well, I’ve '\n",
            "           'been going ever since and recommend them as often as able.\\n'\n",
            "           '\\n'\n",
            "           'This latest visit was for a Spring tune-up and the funny thing is '\n",
            "           'how I seemingly brought in a Corolla and got back a Supra. Clearly '\n",
            "           'all maintenance boxes were checked off but what shocked me was how '\n",
            "           'clean they got it. Riding a white bike shows just about everything '\n",
            "           'and this isn’t just the frame but the handlebars too. SPOTLESS '\n",
            "           'This said, it’s well worth the cost and time away from your '\n",
            "           'personal if you’re on the fence…\\n'\n",
            "           '\\n'\n",
            "           '“Conte’s Logan Circle”:\\n'\n",
            "           '1. Staff is welcoming and knowledgeable.\\n'\n",
            "           '2. Service prices are competitive.\\n'\n",
            "           '3. Overall experience is unmatched.\\n'\n",
            "           '\\n'\n",
            "           'There are a few bike shops in the area, each with their bells and '\n",
            "           'whistles, but you will not get the same customer service nor '\n",
            "           'service quality than you will at Conte’s off Q. Nice place. The '\n",
            "           'team there was helpful and and the service was affordable. They '\n",
            "           'got my bike back in action in just a few minutes. Thank you!\\n'\n",
            "           'Sales personnel were on point. Customer service was exceptional. '\n",
            "           'This is the place to go for your needs.\\n'\n",
            "           'I was missing just one bolt on my front derailleur, I figured the '\n",
            "           'minimum charge to replace it would be north of $30. I was '\n",
            "           'pleasantly surprised to be charged only $3.',\n",
            "           'Got some brakes bled, quick turnaround great customer service',\n",
            "           'Been going to this location for years and even know the company '\n",
            "           'has changed, the customer service and bike service is still the '\n",
            "           'best in DC',\n",
            "           'Friendly and knowledgeable team. Great service. Quick turnaround. '\n",
            "           'Bike running smoother than ever. I also asked them about upgrading '\n",
            "           'my wheel set and they came back with the perfect recommendation. '\n",
            "           'They will be my go-to shop for service and parts going forward. '\n",
            "           'Thanks!',\n",
            "           'These guys have been taking care of my bikes for years and are so '\n",
            "           \"consistently reliable, honest, and fast, I wouldn't go anywhere \"\n",
            "           'else! A rare gem of a DC bike shop that will offer to assist with '\n",
            "           'e-scooters. My disk break needed adjustment, and after contacting '\n",
            "           'about 6 local bike shops, this was the only one that would even '\n",
            "           'consider helping. And, they tuned my scooter break perfectly. '\n",
            "           'Quick, affordable service! Can’t really ask for much more than '\n",
            "           'that.',\n",
            "           'Excellent service, came for a small fix, they were quick and '\n",
            "           'picked up a few other necessary adjustments. Found a broken '\n",
            "           'cassette that \"bicycle pro shop\" missed multiple times. Excellent '\n",
            "           'fun',\n",
            "           'I graduated in 1976 prior to the changes. A very nice ball field. '\n",
            "           'Nice playground for children. Not great. Pretty dirty and '\n",
            "           'littered. Nice to visit'],\n",
            " 'Mustard Seed': ['Mustard Seed is a wonderful and relaxing massage place. '\n",
            "                  'Prices are up there, but the massage justifies the price. '\n",
            "                  'My masseuse is Caleb, who is thoughtful and carefully '\n",
            "                  'addresses troubled areas for maximum results after a '\n",
            "                  'massage. The attention to detail has been great. I’ve yet '\n",
            "                  'to try the other therapists yet, but I’ve heard great '\n",
            "                  'things too. Thank you, Caleb, for your hard work helping me '\n",
            "                  'fix my lower back issues!',\n",
            "                  'Not a good massage. Barely worked anything, not a relaxing '\n",
            "                  \"atmosphere, room was cold, bright, and loud. Worst I've \"\n",
            "                  'gotten.',\n",
            "                  'This was an amazing place to go to for a massage 💆\\u200d♂️. '\n",
            "                  'The person who gave me a massage got all of my knots out. '\n",
            "                  'Michelle was amazing. She has unique knowledge of anatomy '\n",
            "                  \"and physiology. I can't believe how good I feel. Best \"\n",
            "                  'massage ever',\n",
            "                  'I want to marry Terrance! He was so professional and '\n",
            "                  'accommodating. Best massage ever. Well priced and the '\n",
            "                  'masseuse was pretty good. I would go again. I have not felt '\n",
            "                  'better I walked out of there walking on cloud 10000000 i '\n",
            "                  'will be back thank you!!!!!!',\n",
            "                  'We took our teen for a consult on wisdom teeth removal. The '\n",
            "                  'surgery coordinator, Francisco, was prepared when we walked '\n",
            "                  'into the room. He had the x-rays from our family dentist up '\n",
            "                  'on the monitor and clearly explained everything so that our '\n",
            "                  'teen understood what would transpire on his next visit. Dr. '\n",
            "                  'Park was thorough and friendly. We have confidence moving '\n",
            "                  'forward with the procedure. The office also had all of the '\n",
            "                  'preoperative and postoperative medications already called '\n",
            "                  \"into the pharmacy even though the surgery isn't for 2 \"\n",
            "                  'weeks.',\n",
            "                  'I went early in the morning for wisdom teeth removed. Staff '\n",
            "                  'is very nice and very welcoming. Highly recommend 👍🏽',\n",
            "                  'Dr Kunkle has an amazing manner with patients. The staff is '\n",
            "                  'friendly and pleasant. Always a great experience! Highly '\n",
            "                  'recommend!',\n",
            "                  'Great staff, clean office and COVID safe. Dr. Kunkle '\n",
            "                  'answered all of my questions thoroughly.',\n",
            "                  'Had my wisdom teeth removed here and was very surprised '\n",
            "                  'about how nice everyone was. Dr. Park performed the '\n",
            "                  'operation and he was qualified, kind, and gentle. He even '\n",
            "                  'made sure to follow up with me personally- which blew me '\n",
            "                  'away. The whole operation and experience could not have '\n",
            "                  'gone any better.',\n",
            "                  'Went in to get all 4 of my wisdom teeth removed with Dr. '\n",
            "                  'Park who was very professional. During the day of the '\n",
            "                  'surgery everything went accordingly, surgery went smooth, '\n",
            "                  'duration was around 1 hr, surprisingly I came out without '\n",
            "                  'any significant swelling and no pain and was able to return '\n",
            "                  'to work the following day. The finance team there was great '\n",
            "                  'to work with, they took care of contacting my insurance and '\n",
            "                  'I was charged as accorded. Just want to give a special '\n",
            "                  'thanks to Dr. Park and his team for taking really good care '\n",
            "                  'of me that day, you are all awesome! Would highly recommend '\n",
            "                  'to anyone in the area.'],\n",
            " 'U-Haul': ['The staff here were helpful, friendly, and quick. Great customer '\n",
            "            \"service, truck was clean and on time. I'd of course recommend \"\n",
            "            \"using a smaller, or local company to move, but if you can't this \"\n",
            "            'U-Haul is a good option. Great place for a truck rental and/or '\n",
            "            'moving supplies.',\n",
            "            'Their vans are brand new and really good! Quick and easy with '\n",
            "            'above and beyond service!',\n",
            "            'Service was quick and distanced. All trucks are thoroughly '\n",
            "            'disinfected. Make sure you take lots of pictures when you drop it '\n",
            "            'off and when you return it.',\n",
            "            'Great customer service, knowledgeable and easy to talk to.',\n",
            "            'Best U-Haul in US. Fast in and out. Clean truck. Very '\n",
            "            'professional.',\n",
            "            \"Staff is always helpful, knowledgeable and friendly. I've had a \"\n",
            "            'storage unit there for several years, and have never had any '\n",
            "            'problems. Very busy place.'],\n",
            " 'UPS': ['Super convenient and fast. Best UPS experience in DC.',\n",
            "         'Sean was super helpful. Much easier than the Post Office. Solid UPS.',\n",
            "         'Miles is always helpful, courteous and professional. Miles is super '\n",
            "         \"duper helpful and efficient. Can't ask for more than that.\",\n",
            "         'Great service, friendly staff!'],\n",
            " 'barber shop': ['I was charged $30 for a quick shade / outline!',\n",
            "                 'Great new space combined with great barbers.',\n",
            "                 'Nice Quick service',\n",
            "                 'Very good post office'],\n",
            " 'basketball court': ['Court is slightly slanted and baskets are double '\n",
            "                      \"rimmed, but other than that it's okay.\"],\n",
            " 'car': ['There is a master mechanic on duty who can fix almost anything on a '\n",
            "         'car!'],\n",
            " 'church': ['Excellent teaching & family oriented church!',\n",
            "            'This place manifested like UPO nearly across the street '\n",
            "            'ajacently.',\n",
            "            'Singing is heavenly',\n",
            "            \"I cannot honestly say I've been in here but if it's a house of \"\n",
            "            \"the Lord then I recommend it if you go in there and you don't \"\n",
            "            'feel comfortable then you leave I can tell you what to do about '\n",
            "            \"this I'm a spiritual person but all churches are not good \"\n",
            "            \"churches so I can't recommend it because I never been in it Will \"\n",
            "            'run you away quickly judgmental',\n",
            "            'This is the best church to be!!!'],\n",
            " 'customer service': ['The customer service was off the chain! Five stars up '\n",
            "                      'for management and cashier!',\n",
            "                      'Store was very clean and the stock person was very '\n",
            "                      'helpful as well.',\n",
            "                      'My experience with this particular Rite Aid Walgreens '\n",
            "                      'is always a pleasant and positive one.',\n",
            "                      'Not satisfied with employee',\n",
            "                      'Good customer service but pricey',\n",
            "                      'One guy working on Black Friday weekend.',\n",
            "                      'Left after an hour with no resolution to my problem.',\n",
            "                      'Complete lack of privacy.',\n",
            "                      'They never answer the phone and the manager was not on '\n",
            "                      'the site yesterday.',\n",
            "                      'Terrible experience.',\n",
            "                      \"I can't believe they closed this store.\",\n",
            "                      'I hope they open up another branch in the Georgetown '\n",
            "                      'area.',\n",
            "                      ['The absolute best! The staff here were helpful, '\n",
            "                       'friendly, and quick. Great customer service.',\n",
            "                       'Customer service was good, clerks are knowledgeable '\n",
            "                       'and easy to talk to.',\n",
            "                       'Customer service was Pleasant enough but I did have a '\n",
            "                       'hard time finding the truck pick up area. The other '\n",
            "                       \"staff seem like they didn't really care that much, \"\n",
            "                       'they were not too helpful.',\n",
            "                       'Excellent service. Good deal. Great service. Very '\n",
            "                       'friendly and proficient staff. Very friendly staff. '\n",
            "                       'Good location. Great customer service. Good service. '\n",
            "                       'Great place. Very friendly staff. Busy at the weekend. '\n",
            "                       'Everything was as described, friendly staff. Very good '\n",
            "                       'service. Great service.'],\n",
            "                      ['The absolute best! The staff here were helpful, '\n",
            "                       'friendly, and quick. Great customer service.',\n",
            "                       'Customer service was good, clerks are knowledgeable '\n",
            "                       'and easy to talk to.',\n",
            "                       'Customer service was Pleasant enough but I did have a '\n",
            "                       'hard time finding the truck pick up area. The other '\n",
            "                       \"staff seem like they didn't really care that much, \"\n",
            "                       'they were not too helpful.',\n",
            "                       'Excellent service. Good deal. Great service. Very '\n",
            "                       'friendly and proficient staff. Very friendly staff. '\n",
            "                       'Good location. Great customer service. Good service. '\n",
            "                       'Great place. Very friendly staff. Busy at the weekend. '\n",
            "                       'Everything was as described, friendly staff. Very good '\n",
            "                       'service. Great service.']],\n",
            " 'dentist': ['After many years of so so dentist I finally found a dentist that '\n",
            "             'understands what the patients feel every time they sit in the '\n",
            "             'chair. Dr. Kirunda comes as close to completely pain free dental '\n",
            "             'work as possible. I love this dentist. He fixed shoddy work '\n",
            "             'performed by my last dentist and had kept my mouth in great '\n",
            "             'shape. 10/10 would recommend.',\n",
            "             'I honestly cannot say enough good things about Dr. Kirunda & his '\n",
            "             'staff. What a great experience...at THE DENTIST! Making the '\n",
            "             'appointment was quick and the woman who answered the phone was '\n",
            "             'so sweet and helpful. Everyone greeted me politely when I walked '\n",
            "             'in today. Dr. K is hands-on and explained exactly what he was '\n",
            "             'doing. Very grateful for the excellent service today!'],\n",
            " 'dog park': ['Top notch dog park.',\n",
            "              'Great dog park!',\n",
            "              'My boys had fun with the variety of dog buddies.',\n",
            "              'What a great find!',\n",
            "              'Very nice little dog park.',\n",
            "              'Fantastic place for dogs to run around.'],\n",
            " 'fast food': ['The food is barely edible and the price is high.',\n",
            "               'The fast food restaurants under the National Palace of Art are '\n",
            "               'not cheap.',\n",
            "               '음식은 거의 먹을 수 없는 수준이며 가격은 비쌉니다.'],\n",
            " 'gelato': [\"The gelato looked 'old' and ended up having coffee.\"],\n",
            " 'grocery store': ['Great local market. Has everything you need to make Latin '\n",
            "                   'dishes as well as all the regular \"American\" items as '\n",
            "                   'well. Prices are good, staff are friendly, and normally '\n",
            "                   'has most things you might need',\n",
            "                   'Really awesome neighborhood grocer.  If you want the \"real '\n",
            "                   'deal\" on hispanic foods.  Come here!',\n",
            "                   'Jocelyn market is very comfortable and gets you out of '\n",
            "                   'trouble. What I like the most about this market are the '\n",
            "                   'pupusas and empanadas',\n",
            "                   'Its a convient station its always clean and the station '\n",
            "                   'mangers are polite and helpful. Well designed and well '\n",
            "                   'organized stations',\n",
            "                   'Friendly security always there to help.. No problems '\n",
            "                   'getting or navigating around this stop. Average Very '\n",
            "                   'Clean'],\n",
            " 'haircut': [\"Great talent in All the barber's there\",\n",
            "             'Yunus is an amazing hair stylist!',\n",
            "             'He takes his time to listen to you, understands what you want '\n",
            "             'and gives the best haircut you can have in town!'],\n",
            " 'library': ['Such a great place to get all my higher education studies '\n",
            "             'completed online, and to grab a nice book also',\n",
            "             \"Don't be surprised if you see photographers and design snobs \"\n",
            "             'there ignoring the books and looking up at the ceiling',\n",
            "             'This library may be the very best in DC! Free wifi & the upper '\n",
            "             'level is exclusively for kids, including a learning area for '\n",
            "             'small children',\n",
            "             'Helpful staff, good selection, nice and clean',\n",
            "             'The staff is awesome and they have great selections in most '\n",
            "             'genres'],\n",
            " 'manicure': ['I came here thanks to a gift card and unlike a lot of the other '\n",
            "              \"places I've been thanks to Nift, I actually do see myself \"\n",
            "              'coming back here',\n",
            "              'I came here for a gel manicure and they did it quickly and well',\n",
            "              'The salon is kept very clean',\n",
            "              'I thought my gel manicure turned out fine, but because it '\n",
            "              \"didn't turn out as well as she would have liked it to she \"\n",
            "              'comped to my entire manicure!'],\n",
            " 'market': ['Great local market. Has everything you need to make Latin dishes '\n",
            "            'as well as all the regular \"American\" items as well. Prices are '\n",
            "            'good, staff are friendly, and normally has most things you might '\n",
            "            'need',\n",
            "            'Really awesome neighborhood grocer.  If you want the \"real deal\" '\n",
            "            'on hispanic foods.  Come here!',\n",
            "            'Jocelyn market is very comfortable and gets you out of trouble. '\n",
            "            'What I like the most about this market are the pupusas and '\n",
            "            'empanadas',\n",
            "            'Its a convient station its always clean and the station mangers '\n",
            "            'are polite and helpful. Well designed and well organized stations',\n",
            "            'Friendly security always there to help.. No problems getting or '\n",
            "            'navigating around this stop. Average Very Clean'],\n",
            " 'mussels': ['The seafood pasta contained 4 mussels, but only two of them were '\n",
            "             'shells.'],\n",
            " 'nail salon': ['Kathy is the best, she is a professional...Good job sis Great '\n",
            "                'eye brow waxing!',\n",
            "                'Cathy does an amazing job on my nails. I don’t want anyone to '\n",
            "                'touch them but her!',\n",
            "                'For my diabetic male friend the nail tech did an exceptional '\n",
            "                'job with his mani & pedi',\n",
            "                \"Ms. Kim I've been going there for 15 yrs. now Very nice and \"\n",
            "                'kind staff They are good',\n",
            "                'Yunus is an amazing hair stylist! He takes his time to listen '\n",
            "                'to you, understands what you want and gives the best haircut '\n",
            "                'you can have in town!',\n",
            "                'Got a new haircut, he was fine!',\n",
            "                'Great stylist but had to use an interpreter',\n",
            "                \"Went because of other reviews. The front desk staff wasn't \"\n",
            "                'very helpful, but the hairstylist was AMAZING!'],\n",
            " 'park': ['Nice park...Great Urban location.',\n",
            "          'Nice park.',\n",
            "          'Nice park.',\n",
            "          'Nice park.'],\n",
            " 'pasta': ['The pasta was blown, making it difficult to eat.',\n",
            "           '해물 파스타에 홍합이 4개 들었는데 그나마 두개는 껍질뿐이었습니다.'],\n",
            " 'post office': ['The men are cool, but the ladies are not.',\n",
            "                 'Save your time and go to a real post office.',\n",
            "                 'Ms. Gail Sparrow is awesome.',\n",
            "                 'Almost every visit over the last two years results in poor '\n",
            "                 'customer service.',\n",
            "                 'Mr. Tony has great customer service and was very helpful!',\n",
            "                 'Very good post office'],\n",
            " 'restaurant': ['Is there a better way to make a special occasion truly '\n",
            "                'memorable? Every moment and every morsel at our last visit '\n",
            "                'was outstanding.',\n",
            "                \"... Aperitivi -- Mosaic surf and turf | 'canned' Lobster \"\n",
            "                \"'Begula' pasta (to cleverly resemble caviar)\",\n",
            "                '... Primi Piatti -- DUCK, roasted, sweet spiced citrus sauce '\n",
            "                '| SABLEFISH, vegetable tart, lobster-saffron broth',\n",
            "                '... Dolci (to DIE for!!!) -- RASPBERRY VACHERIN | NAPOLEON',\n",
            "                'Delicious but very pricey.',\n",
            "                'I always want to be able to say Citronelle is over the hill, '\n",
            "                'but every time I go I am wowed by the food.',\n",
            "                \"The decor is simple 'hotel fine-dining' style that, \"\n",
            "                'purposely, does not distract or detract from the main '\n",
            "                'event/focus, that is, the AMAZING FOOD that fills your senses '\n",
            "                'with joie de vivre et manger.',\n",
            "                'We left with only one wish -- that our stomachs were larger '\n",
            "                'to accommodate more of the delicious food and desserts.',\n",
            "                'We dined there recently for a wedding anniversary.  The staff '\n",
            "                'were wonderfully kind and attentive, with spot-on '\n",
            "                'recommendations.  Overall, a to-die-for culinary experience.',\n",
            "                'Gastronomique extraordinaire!'],\n",
            " 'rice': ['The rice was uncooked and the pasta was blown, making it difficult '\n",
            "          'to eat.'],\n",
            " 'road test': ['Went for my road test today. Showed up on time -their website '\n",
            "               'advised to be early- had my docs, my car (I booked one with a '\n",
            "               'local driving school) and my plastic (they don’t take cash) '\n",
            "               'and was in and out in about an hour. Oh and I was greeted by '\n",
            "               'two helpful, smiling employees and did my test with a fair and '\n",
            "               'friendly tester.',\n",
            "               'I had to go there Three times to try to renew my license. I '\n",
            "               'had a terrible experience each time. They are very rude and '\n",
            "               'appear to have no pleasant personalities at all. I mean the '\n",
            "               'majority are so very rude and nasty. On my third visit to get '\n",
            "               'my license, I was told that the name on my information was not '\n",
            "               'my name. I asked for the manager, a woman who was just as '\n",
            "               'nasty. I was in tears by now. Each time I was told something '\n",
            "               'different. Finally, a man who I guess was their supervisor '\n",
            "               'approached and reviewed my information, asked to see my bank '\n",
            "               'statement, then sent me to another person to give my '\n",
            "               'information to and be photographed. It is a horror there. I '\n",
            "               'really hate to have to go there. I would give them zero if I '\n",
            "               'could.'],\n",
            " 'station': ['Its a convient station its always clean and the station mangers '\n",
            "             'are polite and helpful. Well designed and well organized '\n",
            "             'stations',\n",
            "             'Friendly security always there to help.. No problems getting or '\n",
            "             'navigating around this stop. Average Very Clean'],\n",
            " 'storage': ['Very friendly and proficient staff.',\n",
            "             'Excellent storage facility. Terrible management.',\n",
            "             'This is a great U-Haul outlet. Very happy with my moving '\n",
            "             'experience. Decent location makes it a good choice for in-town '\n",
            "             'moving. Conveniently located but parking is an issue in the '\n",
            "             'area.',\n",
            "             'Great service. Very tiny storage area and no parking.',\n",
            "             'Very friendly staff. Everything was as described. Great '\n",
            "             'storage.']}\n"
          ]
        }
      ],
      "source": [
        "final_dict = {}\n",
        "\n",
        "for dictionary in response_dict_list:\n",
        "    for key, value in dictionary.items():\n",
        "        if key in final_dict:\n",
        "            final_dict[key].append(value)\n",
        "        else:\n",
        "            final_dict[key] = value\n",
        "\n",
        "pprint.PrettyPrinter().pprint(final_dict)"
      ]
    },
    {
      "cell_type": "code",
      "execution_count": 50,
      "metadata": {
        "colab": {
          "base_uri": "https://localhost:8080/",
          "height": 139
        },
        "id": "H2srplxRGdr7",
        "outputId": "66b1ecfd-2ac3-4c7e-8550-1868fde06223"
      },
      "outputs": [
        {
          "data": {
            "application/vnd.google.colaboratory.intrinsic+json": {
              "type": "string"
            },
            "text/plain": [
              "'The following text is a list of restaurant reviews seperated by ; .         For each unique menu item mentioned, give a summary of         the user reviews for that menu item.         Return the output in the form of a json dictionary,         where the keys are unique menu items         and the values are the list of all summarys for that item. : \"the food is really good, I had a great experience. they have a big variety.;High prices for not so big portions! But I think it is the only decent food available on the National Mall area without walking a few miles away from there.;The gelato looked \"old\" and ended up having coffee.;(Translated by Google) The fast food restaurants under the National Palace of Art are not cheap, and there are many choices. They are all Western food. The dining environment is very good and the art atmosphere is strong.\\n\\n(Original)\\n国家艺术宫下的快餐厅，不便宜，选择多，都是西餐，就餐环境非常好，艺术气息浓厚。;(Translated by Google) The food is barely edible and the price is high. The rice was uncooked and the pasta was blown, making it difficult to eat. The seafood pasta contained 4 mussels, but only two of them were shells. It is a strong light. Never go.\\n\\n(Original)\\n음식은 거의 먹을 수 없는 수준이며 가격은 비쌉니다. 밥은 생쌀에다가 파스타는 불어서 먹기 힘이 들었습니다. 해물 파스타에 홍합이 4개 들었는데 그나마 두개는 껍질뿐이었습니다. 강력 비추입니다. 절대 가지 마세요.;Rip off!!!\\nI have dreads and I just needed a quick shade / outline. I was charged $30 for it!!! If it were a full haircut ok but a shade just on the outline that took no more than 10min... ($180 an hour lol)\\nI walked 5 min down the street and asked another barber shop how much they charge for the same job, they said $15!;Great new space combined with great barbers.;Got tightened up by my main man Carl;My local barbershop for 8 years now.;Nice;Quick service, and a variety of snacks! There is a master mechanic on duty who can fix almost anything on a car! Can\\'t remember his name but it starts with a \\'B\";Fast Service.;Watch for cars!!! Good prices :);Excellent service!;The attendant lady at the window is such a beautiful soul 😘;Decent gas prices.;You can buy used tires and get your tire fix and you can buy rims for your car or truck;Small.;Informative and friendly staffs.;Useless. Lady told me first I needed a box for the box I was shipping. Then once we cleared that hurdle, it has to fit through her window. Which it would have. But she was not willing to try. Didn\\'t apologize, dumped me off on another branch. Save your time and go to a real post office.;Ms. Gail Sparrow is awesome. She hooked it up with the secrets of how to get the cheapest rate.  The hours aren\\'t great, but that\\'s a one woman show.  You gotta respect that fact...all alone with people getting upset at her for something that isn\\'t her fault.  Be nice to her.;the men are cool but the ladies? C\\'mon now roll the eyes. This place manifested like UPO nearly across the street ajacently. The air is literally like .5% on fridays.;Hit or Miss - mostly miss. Almost every visit over the last two years results in poor customer service. The last time I used this post office (Spring 2016), my package sat in the back for a month (according to tracking). The post office employees refused to search for it and check the tracking.  Mysteriously, my package started moving once I made calls to the vendor and USPS customer service line.;Mr. Tony has great customer service and was very helpful! Thank you Sir!;Very good post office;Black people at this post office are rude;Why aren’t the accurate hours listed here?;Employees are kind and super fast!;Excellent teaching & family oriented church !\\nSinging is heavenly;I cannot honestly say I\\'ve been in here but if it\\'s a house of the Lord then I recommend it if you go in there and you don\\'t feel comfortable then you leave I can tell you what to do about this I\\'m a spiritual person but all churches are not good churches so I can\\'t recommend it because I never been in it;Will run you away quickly judgmental;This is the best church to be!!!;Okay fine;Just came here to play a quick basketball game. Court is slightly slanted and baskets are double rimmed, but other than that it\\'s okay.;A nice playground with baby swings and things for older children, too.;Could use a little TLC but is does the job.;Nice park...Great Urban location. ..;Fun place to shop and dine..;Nice park.;Is there a better way to make a special occasion truly memorable? Every moment and every morsel at our last visit was outstanding. The setting and service complement  meticulously prepared food. Wait staff is attentive, accommodating  and knowledgable without being unctuous.  Wine reasonable. Two of us shared the veal rib entree - no, three, because it was such a generous portion that our dog feasted on leftovers for days.  Pricey but good value.;I always want to be able to say Citronelle is over the hill, but every time I go I am wowed by the food.;Gastronomique extraordinaire!\\nThe decor is simple \"hotel fine-dining\" style that, purposely, does not distract or detract from the main event/focus, that is, the AMAZING FOOD that fills your senses with joie de vivre et manger.\\n\\nWe left with only one wish -- that our stomachs were larger to accommodate more of the delicious food and desserts.\\n\\nWe dined there recently for a wedding anniversary.  The staff were wonderfully kind and attentive, with spot-on recommendations.  Overall, a to-die-for culinary experience.\\n\\n... Aperitivi -- Mosaic surf and turf | \"canned\" Lobster \\'Begula\\' pasta (to cleverly resemble caviar)\\n... Primi Piatti -- DUCK, roasted, sweet spiced citrus sauce | SABLEFISH, vegetable tart, lobster-saffron broth\\n... Dolci (to DIE for!!!) -- RASPBERRY VACHERIN | NAPOLEON;Delicious but very pricey.;My favorite is the lavender lemonade and the \"caviar\" lobster.;What a absolute delight! The customer service was off the chain! Five stars up for management and cashier! Store was very clean and the stock person was very helpful as well.;It is a good place to shop for house hold products and personal needs, other things for personal use.;Went to drop of FedEx package for pickup!;Went to drop of FedEx package for pickup!;My experience with this particular Rite Aid Walgreens is always a pleasant and positive one.;Nice new look but some ghetto employees....had to leave after 10min of waiting for someone to help me... I work to hard to give my money to them;I like this store;Love stopping by this Rite Aid.;Terrible experience. Was there yesterday to upgrade my phone after he had ordered the phone I wanted. It took him 15 minutes just to process the tax difference of the two phones after swiping my credit card at least 15 times and in the end not being able to process the exchange. In the end, he still put some charges on my credit card even though I walked out of the store without getting anything. Worse than that, I received two emails of receipts of other customers who had purchased products and were in the store sent to my email. Complete lack of privacy. Completely freaked me out. They never answer the phone and the manager was not on the site yesterday.;Good customer service but pricey;One guy working on Black Friday weekend. Refused to give me an approximate wait time. Mask down below nose. Left after an hour with no resolution to my problem.;I can\\'t believe they closed this store.  It was a convenient location for me since I live in Georgetown. The people there were friendly and knowledgeable. I hope they didn\\'t fire the employees and rather just relocated them to other locations. Now i\\'m going to have to go to K Street or Chinatown\\'s location for some help.  I hope they open up another branch in the Georgetown area.;They were helpful bit couldn\\'t address my issue. I still had to call 611;Not satisfied with employee;Top notch dog park. Had no idea one like this existed in DC and it is a god send.;Great dog park! My boys had fun with the variety of dog buddies.;The big field had lots of room for rubbing.;What a great find! My friend and I decided to take our dogs for a walk in Rock a reek Park, and we finished our walk here. There\\'s lots of space for our dogs to run and get the zoomies our of their system. And the other dogs here seemed really friendly as well.;Very nice little dog park.  The  best part is the much larger grassy park right next to it. If there is no one playing soccer it\\'s a fantastic place for dogs to run around.  Much larger than the actual dog park.;Two slices of pizza $9.50 with a small apple juice. Way over priced and did they forget to cut on the heat. But the staff is very friendly and the store is clean. Over all a good place to get a quick slice.;Great staff and good Pizza its a great location to get a single slice and they have lunch deals.;Customer service could have been more polite.;I ordered pizzas for a meeting at work and they delivered right on time! The Pizza was good too.;Good pizza and quick service;Great food, great price.;Not the most flavorful pizza Bmp.  size is small and bland\\n\\n.;Good pizza and stronboli.;Stuffed pizza is the best.;Good pizza!!;(Translated by Google) Good taste\\n\\n(Original)\\nBuen sabor;What could make a famous book store like Politics and Prose better?  Answer, a yummy coffee shop. Actually misleading to call this a coffee shop. It also serves a variety of wines, beers and savory dishes. The cold peanut noodles are delicious on a hot summer\\'s day. Stay for the books, the food, or both!;I came here to work on my paper, bought a bagel and ready to get to work when I then learned there’s no wifi until two pm. What am I doing here then?\\n\\nIt’s better to go over to Little Red Fox but they have limited space. Just unleash the wifi already.;One of the best spaces to find some quiet in public within the District. The coffee is good and so is the food menu. They have a really nice staff so you don\\'t feel like you\\'re bothering anyone. I would recommend spending an afternoon here working on your laptop.;The new renovation of the politics and prose coffee house is fantastic!  The open faced sandwiches are a welcome and delicious addition to the neighborhood!  The service is the fastest for lunch in the neighborhood, but still has a personal touch.  Bill, who was working at the counter in a beret, was extremely helpful and friendly.  Keith, the barista, made one of the best espressos I\\'ve ever had.  I highly recommend stopping by.;Such an inviting atmosphere with varied seating to enjoy the calm of a good book, company or healthy bite, all in abundance.;Best matcha latte !!!;No WiFi on the weekends. Cute place but I wish I had known that before I bought something;Menu changes seasonally, except for the staple drinks and grilled cheeses. No WiFi on the weekends. Pastries just as good as the food on the menu. More seating and booths from 2016 expansion.;Great coffee and snacks; a favorite spot to meet with friends for coffee.;They turn off the wifi all weekend and during lunch on weekdays.;Great matcha latte!;the food is really good, I had a great experience. they have a big variety.;High prices for not so big portions! But I think it is the only decent food available on the National Mall area without walking a few miles away from there.;The gelato looked \"old\" and ended up having coffee.;(Translated by Google) The fast food restaurants under the National Palace of Art are not cheap, and there are many choices. They are all Western food. The dining environment is very good and the art atmosphere is strong.\\n\\n(Original)\\n国家艺术宫下的快餐厅，不便宜，选择多，都是西餐，就餐环境非常好，艺术气息浓厚。;(Translated by Google) The food is barely edible and the price is high. The rice was uncooked and the pasta was blown, making it difficult to eat. The seafood pasta contained 4 mussels, but only two of them were shells. It is a strong light. Never go.\\n\\n(Original)\\n음식은 거의 먹을 수 없는 수준이며 가격은 비쌉니다. 밥은 생쌀에다가 파스타는 불어서 먹기 힘이 들었습니다. 해물 파스타에 홍합이 4개 들었는데 그나마 두개는 껍질뿐이었습니다. 강력 비추입니다. 절대 가지 마세요.;Rip off!!!\\nI have dreads and I just needed a quick shade / outline. I was charged $30 for it!!! If it were a full haircut ok but a shade just on the outline that took no more than 10min... ($180 an hour lol)\\nI walked 5 min down the street and asked another barber shop how much they charge for the same job, they said $15!;Great new space combined with great barbers.;Got tightened up by my main man Carl;My local barbershop for 8 years now.;Nice;Quick service, and a variety of snacks! There is a master mechanic on duty who can fix almost anything on a car! Can\\'t remember his name but it starts with a \\'B\";Fast Service.;Watch for cars!!! Good prices :);Excellent service!;The attendant lady at the window is such a beautiful soul 😘;Decent gas prices.;You can buy used tires and get your tire fix and you can buy rims for your car or truck;Small.;Informative and friendly staffs.;Useless. Lady told me first I needed a box for the box I was shipping. Then once we cleared that hurdle, it has to fit through her window. Which it would have. But she was not willing to try. Didn\\'t apologize, dumped me off on another branch. Save your time and go to a real post office.;Ms. Gail Sparrow is awesome. She hooked it up with the secrets of how to get the cheapest rate.  The hours aren\\'t great, but that\\'s a one woman show.  You gotta respect that fact...all alone with people getting upset at her for something that isn\\'t her fault.  Be nice to her.;the men are cool but the ladies? C\\'mon now roll the eyes. This place manifested like UPO nearly across the street ajacently. The air is literally like .5% on fridays.;Hit or Miss - mostly miss. Almost every visit over the last two years results in poor customer service. The last time I used this post office (Spring 2016), my package sat in the back for a month (according to tracking). The post office employees refused to search for it and check the tracking.  Mysteriously, my package started moving once I made calls to the vendor and USPS customer service line.;Mr. Tony has great customer service and was very helpful! Thank you Sir!;Very good post office;Black people at this post office are rude;Why aren’t the accurate hours listed here?;Employees are kind and super fast!;Excellent teaching & family oriented church !\\nSinging is heavenly;I cannot honestly say I\\'ve been in here but if it\\'s a house of the Lord then I recommend it if you go in there and you don\\'t feel comfortable then you leave I can tell you what to do about this I\\'m a spiritual person but all churches are not good churches so I can\\'t recommend it because I never been in it;Will run you away quickly judgmental;This is the best church to be!!!;Okay fine;Just came here to play a quick basketball game. Court is slightly slanted and baskets are double rimmed, but other than that it\\'s okay.;A nice playground with baby swings and things for older children, too.;Could use a little TLC but is does the job.;Nice park...Great Urban location. ..;Fun place to shop and dine..;Nice park.;Is there a better way to make a special occasion truly memorable? Every moment and every morsel at our last visit was outstanding. The setting and service complement  meticulously prepared food. Wait staff is attentive, accommodating  and knowledgable without being unctuous.  Wine reasonable. Two of us shared the veal rib entree - no, three, because it was such a generous portion that our dog feasted on leftovers for days.  Pricey but good value.;I always want to be able to say Citronelle is over the hill, but every time I go I am wowed by the food.;Gastronomique extraordinaire!\\nThe decor is simple \"hotel fine-dining\" style that, purposely, does not distract or detract from the main event/focus, that is, the AMAZING FOOD that fills your senses with joie de vivre et manger.\\n\\nWe left with only one wish -- that our stomachs were larger to accommodate more of the delicious food and desserts.\\n\\nWe dined there recently for a wedding anniversary.  The staff were wonderfully kind and attentive, with spot-on recommendations.  Overall, a to-die-for culinary experience.\\n\\n... Aperitivi -- Mosaic surf and turf | \"canned\" Lobster \\'Begula\\' pasta (to cleverly resemble caviar)\\n... Primi Piatti -- DUCK, roasted, sweet spiced citrus sauce | SABLEFISH, vegetable tart, lobster-saffron broth\\n... Dolci (to DIE for!!!) -- RASPBERRY VACHERIN | NAPOLEON;Delicious but very pricey.;My favorite is the lavender lemonade and the \"caviar\" lobster.;What a absolute delight! The customer service was off the chain! Five stars up for management and cashier! Store was very clean and the stock person was very helpful as well.;It is a good place to shop for house hold products and personal needs, other things for personal use.;Went to drop of FedEx package for pickup!;Went to drop of FedEx package for pickup!;My experience with this particular Rite Aid Walgreens is always a pleasant and positive one.;Nice new look but some ghetto employees....had to leave after 10min of waiting for someone to help me... I work to hard to give my money to them;I like this store;Love stopping by this Rite Aid.;Terrible experience. Was there yesterday to upgrade my phone after he had ordered the phone I wanted. It took him 15 minutes just to process the tax difference of the two phones after swiping my credit card at least 15 times and in the end not being able to process the exchange. In the end, he still put some charges on my credit card even though I walked out of the store without getting anything. Worse than that, I received two emails of receipts of other customers who had purchased products and were in the store sent to my email. Complete lack of privacy. Completely freaked me out. They never answer the phone and the manager was not on the site yesterday.;Good customer service but pricey;One guy working on Black Friday weekend. Refused to give me an approximate wait time. Mask down below nose. Left after an hour with no resolution to my problem.;I can\\'t believe they closed this store.  It was a convenient location for me since I live in Georgetown. The people there were friendly and knowledgeable. I hope they didn\\'t fire the employees and rather just relocated them to other locations. Now i\\'m going to have to go to K Street or Chinatown\\'s location for some help.  I hope they open up another branch in the Georgetown area.;They were helpful bit couldn\\'t address my issue. I still had to call 611;Not satisfied with employee;Top notch dog park. Had no idea one like this existed in DC and it is a god send.;Great dog park! My boys had fun with the variety of dog buddies.;The big field had lots of room for rubbing.;What a great find! My friend and I decided to take our dogs for a walk in Rock a reek Park, and we finished our walk here. There\\'s lots of space for our dogs to run and get the zoomies our of their system. And the other dogs here seemed really friendly as well.;Very nice little dog park.  The  best part is the much larger grassy park right next to it. If there is no one playing soccer it\\'s a fantastic place for dogs to run around.  Much larger than the actual dog park.;Two slices of pizza $9.50 with a small apple juice. Way over priced and did they forget to cut on the heat. But the staff is very friendly and the store is clean. Over all a good place to get a quick slice.;Great staff and good Pizza its a great location to get a single slice and they have lunch deals.;Customer service could have been more polite.;I ordered pizzas for a meeting at work and they delivered right on time! The Pizza was good too.;Good pizza and quick service;Great food, great price.;Not the most flavorful pizza Bmp.  size is small and bland\\n\\n.;Good pizza and stronboli.;Stuffed pizza is the best.;Good pizza!!;(Translated by Google) Good taste\\n\\n(Original)\\nBuen sabor;What could make a famous book store like Politics and Prose better?  Answer, a yummy coffee shop. Actually misleading to call this a coffee shop. It also serves a variety of wines, beers and savory dishes. The cold peanut noodles are delicious on a hot summer\\'s day. Stay for the books, the food, or both!;I came here to work on my paper, bought a bagel and ready to get to work when I then learned there’s no wifi until two pm. What am I doing here then?\\n\\nIt’s better to go over to Little Red Fox but they have limited space. Just unleash the wifi already.;One of the best spaces to find some quiet in public within the District. The coffee is good and so is the food menu. They have a really nice staff so you don\\'t feel like you\\'re bothering anyone. I would recommend spending an afternoon here working on your laptop.;The new renovation of the politics and prose coffee house is fantastic!  The open faced sandwiches are a welcome and delicious addition to the neighborhood!  The service is the fastest for lunch in the neighborhood, but still has a personal touch.  Bill, who was working at the counter in a beret, was extremely helpful and friendly.  Keith, the barista, made one of the best espressos I\\'ve ever had.  I highly recommend stopping by.;Such an inviting atmosphere with varied seating to enjoy the calm of a good book, company or healthy bite, all in abundance.;Best matcha latte !!!;No WiFi on the weekends. Cute place but I wish I had known that before I bought something;Menu changes seasonally, except for the staple drinks and grilled cheeses. No WiFi on the weekends. Pastries just as good as the food on the menu. More seating and booths from 2016 expansion.;Great coffee and snacks; a favorite spot to meet with friends for coffee.;They turn off the wifi all weekend and during lunch on weekdays.;Great matcha latte!;Amazing! You can walk around, grab your groceries, and walk out within 10 mins flat. Very fast and easy. Good selection, although I\\'d say the layout is a bit difficult to navigate at times as it\\'s an L shaped store. Hope they can expand soon!;Lots of half empty shelves, very limited produce section, prices in line with every other grocery store. There were two other customers in the store when I visited and the staff couldn\\'t even be bothered to say bye on my way out. Next time I\\'ll just go to TJs or Whole Foods down the road.;Kind of neat experience - nothing like I\\'ve ever done before. They\\'re still working out some kinks in the system... As you can see, their pricing system isn\\'t perfect (no way that Mac & Cheese costs $15.98). Everything you buy goes into a virtual cart - but there\\'s no way you can see that - so you can\\'t check how much you\\'re spending as you go or see whether the system made any errors until a bit after you\\'ve left. I hope their system for correcting errors is easy - not that I had any on this visit.;Hyper convenient, though often picked off (especially of produce) and obviously quite creepy what with all the sensors.;Unfortunately, I was not impressed. It\\'s not a store to do a full grocery shopping. Just a place to pick up necessities. Meat or veggie isle was not well stocked. Not a big selection of coffee.;It\\'s a little novelty because you can just grab items and leave. I\\'m a controls engineer and pretty sure Amazon is simple recording everything in store then having a human review and tally purchases.  I doubt Amazon is doing this fully autonomously when human labor is so cheap.\\n\\nSome things that are annoying:\\n\\n1. Only a single small sign that tells you the one tiny button to hit in the Amazon app to display a QR code to gain entry\\n\\n2. Store was about 50% empty. Most of the produce was gone and many empty shelves\\n\\n3. Only name brand junk food.\\n\\n4. Small selection of produce\\n\\n5. Alcohol section is lacking\\n\\n6. Prices are a little higher than other locations\\n\\n7. Amazon doesn\\'t give you a reciept or charge immediately. This further supports my idea that the store is simply reviewing purchases after the fact. Since there\\'s no reciept, and I didn\\'t record the prices for what I purchased there\\'s no way to know if the charge will be accurate. Amazon can increase prices and there\\'s no way to know unless you\\'re prepared.\\n\\nBasically this is a worse version of any convience store. Lack of selection, lack of prepared foods, no idea of the charges.\\n\\nIf you\\'re in a hurry, go to a 7/11, CVS, gas station etc. If you are hungry go to a real grocery store.\\n\\nIf you want to give Bezos more money to continue to exploit employees and waste it on sub orbital flights with a poorly designed rocket, then go to Amazon Fresh;The staff was very friendly and helpful.;No more check out lines!!! Love it;Very clean\\nStaff is very pleasant and helpful\\nPrices are cleat\\nIncredible technology\\nA negative point  do not carry food for animals.;Sarah is amazing!!! She\\'s a wavy/curly hair cutting ninja. Go see her -- you won\\'t regret it! The salon\\'s vibe is also super chill, which creates a relaxing atmosphere in these times.;I looked for a few years to find a salon I really liked after moving to DC and this is definitely it. The gentleman at the desk is always a delight to talk to and make appointments with, and I\\'ve seen two different stylists and they are both outstanding. Highly recommend.;Great staff, great products, conveniently located! I always enjoy going here for my cut!;Talented stylist and tasteful decor. Ask for Andrew.;Highly recommend Leah!;Ask for Andrew!;Went for my road test today.  Showed up on time -their website advised to be early- had my docs, my car (I booked one with a local driving school) and my plastic (they don’t take cash) and was in and out in about an hour.  Oh and I was greeted by two helpful, smiling employees and did my test with a fair and friendly tester.;I had to go there Three times to try to renew my license. I had a terrible experience each time. They are very rude and appear to have no pleasant personalities at all. I mean the majority are so very rude and nasty. On my third visit to get my license, I was told that the name on my information was not my name. I asked for the manager, a woman who was just as nasty. I was in tears by now. Each time I was told something different. Finally, a man who I guess was their supervisor approached and reviewed my information, asked to see my bank statement, then sent me to another person to give my information to and be photographed. It is a horror there. I really hate to have to go there. I would give them zero if I could.;Good customer service;You guys are awesome! I\\'m coming tomorrow again just to thank each and every one of you. :-);I never have to wait longer than 20 mins to be in and out.;Quick courteous and helpful;DMV Enteance on  Kenilworth Ave its a\\none-way street you have to drive slowly or you will very easily. Building Enteance is after Mobil Gas station ⛽.\\npearl parking size is 22 X 8 feet at this location.\\nThey have 2 spots for tests.;Community Dinner Tuesday 5:30 to 6:30;I Love it;Nice;Love it;Jamie and the team are top notch professionals who proactively address any and all car issues you may encounter. Couldn\\'t recommend them more;Jamie was great the manager when  I was unloading  the Volvo. He was able to assist.;I pulled into Exxon Friday afternoon following Thanksgiving with a punctured tire and an urgent need for my car on Sunday.  It required an order for a tire they didn\\'t have on hand over a holiday weekend.  Less than 24 hours elapsed and I drove home with a new tire at a reasonable price; again, on a holiday weekend.\\nThey really delivered.;I have used them multiple times over many years. Great experience. Staff greats me imediattly does quick diagnostic tells me the price and gets it done between 15 minutes and 24 hours. Prices are reasonable.;Replaced a flat tire. Professional, prompt, and fairly priced.;Great honest local business - highly recommend!;I pulled into Exxon Friday afternoon following Thanksgiving with a punctured tire and an urgent need for my car on Sunday.  It required an order for a tire they didn\\'t have on hand over a holiday weekend.  Less than 24 hours elapsed and I drove home with a new tire at a reasonable price; again, on a holiday weekend.\\nThey really delivered.;I have used them multiple times over many years. Great experience. Staff greats me imediattly does quick diagnostic tells me the price and gets it done between 15 minutes and 24 hours. Prices are reasonable.;Fast, affordable service. Got me back on the road in less than 20 minutes.;What initially drove me to Conte’s was the simple fact they were open during their posted hours. Easy enough, right? Well, I’ve been going ever since and recommend them as often as able.\\n\\nThis latest visit was for a Spring tune-up and the funny thing is how I seemingly brought in a Corolla and got back a Supra. Clearly all maintenance boxes were checked off but what shocked me was how clean they got it. Riding a white bike shows just about everything and this isn’t just the frame but the handlebars too. SPOTLESS This said, it’s well worth the cost and time away from your personal if you’re on the fence…\\n\\n“Conte’s Logan Circle”:\\n1. Staff is welcoming and knowledgeable.\\n2. Service prices are competitive.\\n3. Overall experience is unmatched.\\n\\nThere are a few bike shops in the area, each with their bells and whistles, but you will not get the same customer service nor service quality than you will at Conte’s off Q.;Nice place. The team there was helpful and and the service was affordable. They got my bike back in action in just a few minutes. Thank you!;Sales personnel were on point. Customer service was exceptional. This is the place to go for your needs.;I was missing just one bolt on my front derailleur, I figured the minimum charge to replace it would be north of $30. I was pleasantly surprised to be charged only $3.;Got some brakes bled, quick turn over great customer service;Been going to this location for years and even know the company has changed, the customer service and bike service is still the best in DC;Friendly and knowledgable team. Great service. Quick turnaround. Bike running smoother than ever. I also asked them about upgrading my wheel set and they came back with the perfect recommendation. They will be my go-to shop for service and parts going forward. Thanks!;These guys have been taking care of my bikes for years and are so consistently reliable, honest, and fast, I wouldn\\'t go anywhere else!;A rare gem of a DC bike shop that will offer to assist with e-scooters. My disk break needed adjustment, and after contacting about 6 local bike shops, this was the only one that would even consider helping. And, they tuned my scooter break perfectly.;Quick, affordable service! Can’t really ask for much more than that.;Excellent service, came for a small fix, they were quick and picked up a few other necessary adjustments.;Found a broken casette that \"bicycle pro shop\" missed multiple times;Excellent;Fun;I graduated in 1976 prior to the changes;A very nice ball field.;Nice playground for children.;Not great. Pretty dirty and littered.;Nice to visit;(Translated by Google) Mu\\n\\n(Original)\\nMu;Mustard Seed is a wonderful and relaxing massage place.  Prices are up there, but the massage justifies the price.  My masseuse is Caleb, who is thoughtful and carefully addresses troubled areas for maximum results after a massage.  The attention to detail has been great.  I’ve yet to try the other therapists yet, but I’ve heard great things too.  Thank you, Caleb, for your hard work helping me fix my lower back issues!;Not a good massage. Barely worked anything, not a relaxing atmosphere, room was cold, bright, and loud. Worst I\\'ve gotten.;This was an amazing place to go to for a massage 💆\\u200d♂️. The person who gave me a massage got all of my knots out.;Michelle was amazing. She has unique knowledge of anatomy amd physiology. I cant believe how good i feel. Best massage ever;I want to marry Terrance! He was so professional and accommodating. Best massage ever.;Well priced and the masseuse was pretty good. I would go again.;I have not felt better I walked out of there walking on cloud 10000000 i will be back thank you!!!!!!;I have not felt better I walked out of there walking on cloud 10000000 i will be back thank you!!!!!!;We took our teen for a consult on wisdom teeth removal.  The surgery coordinator, Francisco, was prepared when we walked into the room. He had the x-rays from our family dentist up on the monitor and clearly explained everything so that our teen understood what would transpire on his next visit. Dr. Park was thorough and friendly. We have confidence moving forward with the procedure. The office also had all of the preoperative and postoperative medications already called into the pharmacy even though the surgery isn\\'t for 2 weeks.;I went early in the morning for wisdom teeth removed. Staff is very nice and very welcoming. Highly recommend 👍🏽;Dr Kunkle has an amazing manner with patients. The staff is friendly and pleasant. Always a great experience!;Highly recommend! Great staff, clean office and COVID safe. Dr. Kunkle answered all of my questions thoroughly.;Had my wisdom teeth removed here and was very surprised about how nice everyone was. Dr. Park performed the operation and he was qualified, kind, and gentle. He even made sure to follow up with me personally- which blew me away. The whole operation and experience could not have gone any better.;Went in to get all 4 of my wisdom teeth removed with Dr. Park who was very professional. During the day of the surgery everything went accordantly, surgery went smooth, duration was around 1 hr, surprisingly I came out without any significant swelling and no pain and was able to return to work the following day. The finance team there was great to work with, they took care of contacting my insurance and I was charged as accorded. Just want to give a special thanks to Dr. Park and his team for taking really good care of me that day, you are all awesome! Would highly recommend to anyone in the area.;Dr. Kunkle extracted my impacted wisdom tooth. It was a very professional process. We discussed various options and found one that worked for me. Appointment was timely and the staff very friendly.;Having a tooth removed is highly unpleasant. Would spring for the nitrous if I have to do it again. That said, even though I had a root that was entwined with the bone, I came home and two advil every 5 hours was all I needed. Dr. Park even texted to check on me. I hope to never need them, but will 100% go back if needed.;Dr. Park and the staff are amazing. Very professional and nice!;Excellent service!;I love this place . . . they are always very pleasant and helpful.  They have nice Indian trinkets and jewelry, and a variety of incense, comfy clothing and a nice selection of Pashmina\\'s. They\\'re like family, they will even call you when an item comes back in stock.;While this shop is small and quaint, it boasts high quality products backed by excellent customer service. There are lots of indian outfits to choose from - men and women\\'s for different sizes. I bought 3 suits from here - one for myself and the other two for my fiancee. The owner is very friendly with room to negotiate - I bought all 3 outfits for $300.  I highly recommend coming here for an outfit or 2, you won\\'t leave empty-handed or disappointed.;The people are friendly and they have beautiful india dresses and men attire. Beautiful jewelry and India shoes and sandals.;I came here to find a pashmina shawl, and was very pleased with the selection. The shop is quite small but packed with clothing, and it\\'s well-organized. I didn\\'t feel pressured at all by the staff to buy anything, and although the shawl I selected is undoubtedly much cheaper in India, $20 is a reasonable price  for DC. The shawl is of great quality, and I wear it often!;Nice selection helpful owner/staff...seems to be family run.;Very friendly owner and lots of interesting products;Great shop, but has a pushy sales man that kind of puts a damper your experience;Plenty of off-street parking. The facility is clean and the atmosphere is nice. Karen was very nice and extremely knowledgeable.  Thank you Karen!;This is a very nice facility for senior citizens the people there are very kind make you feel great about getting younger lol. because of all the activities and things that I have for you information;Place for 60 over, free great gym, free lunch, and showers,. All Free;Great facility, outstanding center with multitude of activities for senior citizens.;Place for 60 over, free great gym, free lunch, and showers,. All Free;Great facility and staff. Can\\'t wait to go back.;PICK UP PRODUCE PLUS EVERY THURSDAY MORNING GET THERE ABOUT 8AM STARTS AT 9AM;A lot of activities for seniors. Quiet, clean and colorful.;Wonderful resource for the elderly in the community;This is a very nice place;Nice place to go;Nice place to go;MY PEDICURE WAS THE BEST AND THE LADY WAS SO FRIENDLY  ,LONG THE NAIL TECH WAS SUPERB, HIS WIFE LINDA STILL GOOD WITH EYEBROW;Been going here for all the 5 years thag I have been living in DC! Lynn and Helen never fail to get me right!;This cozy neighborhood spot has very reasonable prices and good service. However, wait times can get crazy during peak periods due to the fact that there are only 3-4 employees. They could also benefit from an updated HVAC system. Most standard nail services are available including manicure, pedicure, and waxing.;Lynn was AMAZING;The person who did my nails was excellent.  A slightly unpleasant odor, but my nails look very professional.;They do a great job. Sometimes they make you wait to long.;Awesome people.;good..!!;good....!!!!;Staff at the location are friendly, but service is down often at this location. I\\'ve had to walk out and go to another location several times.🙄;Best place to work, The system down frequently even in the busy tax season!;Not the most helpful staff but I was able to get what I needed and leave quickly. I\\'ll probably detour to another location in the future.;This post office is not open on the weekends. Not even the lobby like others. I\\'m sure there are many reasons for it, but now you know before you go.;Treated me well and efficiently;It\\'s USPS, what you want from it? Regular location with friendly staff.;Service was fast and helpful!;Boardwalk Bar and Eatery has a Jersey Shore theme in their upstairs bar with a food menu of hotdogs, popcorn, and ice cream sandwiches. The downstairs bar maintains the same look and feel of the old Iron Horse with tons of video and bird games. Large beer menu.;Fun place to hangout with friends in a boardwalk themed bar. They have hotdogs and free popcorn, as well as beer and a variety of different excellent cocktails that go well with the theme. Try the cotton candy one;Fun place to hang out and chill after a long day. Games for grown ups to play in the downstairs level. Beachy vibes upstairs bar room. Skee-ball, air hockey, and more.\\nGave 4 stars because although the spirits and beer selections are good, one of the arcade games is based on a racial stereotype of Romani people. This machine should be removed. It\\'s hurtful to myself and my other Romani cousins I\\'ve brought here. Not a good way to keep Roma patrons.;Really fun spot with arcade games and an excellent drink and beer list;Great pregame spot awesome service and great house created mixed drinks.;A little crowded in the basement. Needs to reconfigure tables and games to allow more space.;No FOOD.SERIOUSLY;Very fun spot for a birthday;onion rings were dry and old. I was in a hurry. I asked about several items but ended up selecting the curry shrimp when I got to my destination the hospital where I was going to stay overnight I realize that they had given me a chicken and so I had to go back to give them the food back we had a confrontation so I requested my money back. got to the hospital they let me go a place to get something to eat I got it  was so hot and I still didn\\'t get a chance to eat before having my procedure;Great customer service reasonable prices and good food. The lunch specials are an excellent value;I love the friendliness from the lady behind the counter.;Good food great place to pick food up and go;our go-to Chinese food in Petworth;Great food;CLOSED.   Glad that’s over with.;Carryout;In these troubled times ... hope EPA can stand up for something !;Hard to navigate. Bad old bathrooms. There are some nice architectural features in the building.;Shame this agency gets such a beautiful building;(Translated by Google) A very pretty architecture of this building of the Roman style.\\n\\n(Original)\\nUn très jolie architecture de cette édifice du style romain.;(Translated by Google) ATTENTION AND ACCURACY!\\n\\n(Original)\\nFEGYELEM ES PONTOSSAG !;I\\'ve Been With Over 5 Years Luv Them Excellent Customer Service;I have had nothing but good experiences w/Ace Cash Express and I hope that it continues.;It would be great if Ace cash express continues to offer its services up to time of closing,  not telling customers you can not cash a check over $500, because money put away;It\\'s fast friendly and convenient.;Problem solved;Permanently closed;Beautiful. Serene. Great quotes;The Khalil Gibran Memorial is one of the most obscure memorials in Washington, D.C., but one that\\'s worth a visit if you\\'re nearby. It\\'s near the Observatory across the street from the U.K. Embassy and right next to the Embassy of South Africa.\\n\\nThe memorial itself is small, but mighty. As you cross a small stone bridge, you read about this Lebanese- American writer/poet. As you wind around the memorial, you read more quotes by him until you get to the center with benches and more quotes.\\n\\nIf you\\'re a fan of Gibran, this is a must-visit. If you\\'re in the area, it\\'s a very peaceful and inspiring place to sit, reflect, and journal.;I parked on 30th St NW and took the Normanstone trail over the hill to Mass ave and walked the short distance to the memorial. Beautiful yet small memorial of a timeless poet. Though traffic can be loud near sunset, it\\'s the best time to visit as the memorial is oriented west. You can also see the sun set over the British embassy.\\nRestoring the water features would make this little spot absolutely magical.;I will have to check on the text of the memorial in the morning to make it a more accurate review.  But I was just awestruck by the architecture of the landscaping.  I\\'ll be back soon.;Very peaceful park. Love the deers...nice walk too;One of DC\\'s hidden gems.  If you enjoy Gibran\\'s books, this is an excellent place to come and meditate over their lessons.  Also a great place to stop for a rest if you are on a run past all of the embassies and the Naval Observatory.;calm and safe;This is a great store with high end men\\'s clothing. Sports type wear. Very nice.;I love them. The customer service is amazing they treat you like family. Definitely will return;Been shopping here for years, always has maintained a sense style and sophistication;Very unique store. I love it and will be back.;Really great staff here. All the guys are super knowledgeable.;The best sports clothes in DC period;My husband loves this place for his clothes;Been coming here over 25 years. The top destination for designer gear in the dmv.;Great selection of men\\'s shoes;Great sports equipment;If ya know ya know;I was told the price would be $115 for contact exam yesterday, made the appointment and came in today 7/17/20. (DR. was great) but after the exam, the service woman told me the price was $257 because it was comprehensive and a free pair of contacts. I said I wasn\\'t going to pay more than what I was told, and she suddenly lowered it to $197. I was then given the option to leave, without my prescription and had to take the \"free\" contacts out of my eyes. ISo I did.\\n\\nTerrible place. Move on to something else. Do not recommend.;I was SHOCKED when I came here to leave a review and saw all the negative reviews.  I had such a wonderful and great experience at this location.  I just became an active full-time employee at my current job and I was waiting for all my medical cards to physically arrive in the mail, but desperately needed needed an eye exam because I had run out of contacts and needed an updated prescription.  Elena, I believe is her name, was SO helpful.  She contacted me when she couldn\\'t find my vision insurance and followed up with me thoroughly up until my appointment just to let me know she was still looking into it and she was doing everything she could to make sure they located my insurance.  I took a wrong turn getting off the metro and was late to my appointment, but when I arrived, they were VERY kind and accommodated me.  Every single employee there greeted me, asked how I was doing, and made friendly conversation as I waited for different aspects of my appointment. The optometrist was great and knowledgeable. I received my lenses in the allotted time-frame they gave me and I also got complimentary sunglasses. I have NO CLUE why anyone would have a negative experience here.  It is some of the best customer service I have ever received in a medical office.;Had an eye exam and contact lenses fitted here and it was a great experience all around. I wish I could thank people by name, but everyone I encountered from the optometrist to the employee who trained me to put in contacts were very kind and patient. I\\'m glad this office is in my neighborhood.;The eye doctor here made me get a cheap brand of contacts that don\\'t support astigmatism and said it would be okay to wear once in a while. I thought I wouldn\\'t notice a difference but they\\'re just terrible. I intend to go back and run them for a proper set of contacts.\\n\\nEdit: I\\'m trying to get a return but am told I can\\'t since I bought over 6 months ago. They also refuse to even sell me different contacts until I pay for another examination despite having a current and valid prescription. I understand the reasoning that eyes change, but it\\'s just unreasonable and devious to give someone contacts, admitting they may not work very well and then not allowing one to return. All I want is functional contact lenses. I\\'m $300 in the hole because I was misled. Malpractice sounds about right.\\n\\nEdit: I did in fact contact them about the issue like they commented below and they refused to do anything to help, so I\\'m confused why they would tell me to reach out.;I had a good experience. The appointment was easy to schedule and started on time. The staff was friendly and explained the charges before the exam started. The optometrist was also friendly and efficient.;$95 on top of your regular eye exam to get a contact prescription;Kind polite;You can volunteer, take classes, and purchase there products here. Wonderful owner very experienced with various methods of cultivating. Hence that\\'s why it\\'s called cultivate the city...;Great place with a nice vibe and excellent classes.;I so love this place! It\\'s definitely a gem in the city and I strongly encourage everyone to try them out and get informed and dive in and grow! 🌿😉😊;The best place to find unique plants and vegetables of every variety grown all over DC!!! Amazing price and variety of products included in their CSA baskets too!;Had no idea this was here! Great little spot to pick up plants;Very poor quality produce. Looks nice but the produce isn\\'t managed well.;Amazing garden center and space!;Love this locally owned business. The ladies are wonderful and nice. I mostly get my lunches here from the fresh deli. They also have a nice selection of basic kitchen needs. From wines to chocolate snacks.;Poor customer service,don’t waste your time here,they don’t accept card,never ever come back.;Clean, economical, fast and delicious sandwiches.;Nice shop, delicious deli, and nice staff!!;Good stuff;Great service;Good place;Great service;Great sandwich;(Translated by Google) Sushi is very good\\n\\n(Original)\\nEs muy bueno el  Sushi;One of the best spots to get a fresh meal...especially if you\\'re watching calories. My favorite...Tuna on a spinach wrap....YUMMY EVERY TIME SUBWAY AT GW HOSPITAL IS THE SPOT!!! The staff there are also a pleasure to meet and will ensure you get exactly what you want the way you want it!;What\\'s to say? Good sandwiches. Because they\\'re in the hospital, they don\\'t take coupons. However if one is a Foggy Bottom Association FBA member, there are discounts.;Never eat there again the service was poor and the food sucked;Subs was good;Regular Smegular subs;It mess my and my lil brother hair up;Great talent in All the barber\\'s there.;The libraries in the dc are doing people like myself, with no access to a computer, a very bad disservice. I cannot print my information to get assistance for my rent because of the of the Pandemic, but before the end of the year I was able to use a computer to print all my information to recertify for my apartment.;Such a great place to get all my higher education studies completed online, and to grab a nice book also.;Not just your average library goers will stumble in Francis A. Gregory Library. Don\\'t be surprised if you see photographers and design snobs there ignoring the books and looking up at the ceiling. The library is famously designed by the same man who crafted the National Museum of African American History and Culture. Somehow we connected the past with the future in his design with lots of wood and glass letting in the natural light.\\n\\nIf you\\'re not a designer or a photographer, here are other reasons to come here:\\n\\n1) It\\'s clean.\\n\\n2) Staff are friendly and attentive without being overbearing.\\n\\n3) They have a large kid section with two play areas.\\n\\n4) They have private study rooms and conference rooms you can rent for free.\\n\\n5) There\\'s a playground next door and park.\\n\\nThis library may be the very best in DC!;Free wifi & the upper level is exclusively for kids, including a learning area for small children. Also has plenty of seating.;Helpful staff, good selection, nice and clean. Very beautiful building.;The staff is awesome and they have great selections in most genres.;My son mom works at  Francis Greg;Profound, ebullient public design.;TODAY TOPED MANY EVEN THOUGH ITS ODD I NEVER SEE PRICES UP ON WALL.\\nNEEDLESS TO SAY MY SERVICE IS ALWAYS TOP NOTCH VERU FRIENDLY, EXPENSIVE SHOP, BUTT THEY ALSO HAVE SERVICES THAT CATER TO YOUR BUDGET CLEAN, PLEASANT,  SMELL GOOD, STRESS FREE LIKE HAVING A SPA DAY AWAY\\n\\nBUSY BEE TEE🐝🍵;Kathy is the best, she is a professional...Good job sis;Great eye brow waxing!\\nMediocre acrylic nail set\\nThe nail tech cut me from filing too hard to the point that my finger was bleeding then told me I was too sensitive.;Cathy does an amazing job on my nails. I don’t want anyone to touch them but her!;Recieved a pedicure and it was HORRIBLE! The nail tech was so speedy she forgot to clean under my toes, she attempted to use a grater on my feet without asking. She did not scrub my feet well, my white polish was lumpy and left my toe in pain this is ridiculous. Do not go here!!;My daughter likes it check you leave;For myself I no longer come to this shop. However, for my diabetic male friend the nail tech did an exceptional job with his mani & pedi to clip the nails and remove the very rough skin. She was very gentle. I may give them another chance.;It\\'s a nice place.;🌟;First day not so great. Her daughter fixed it upon my return the next day.;Ms. Kim I\\'ve been going there for 15 yrs. now;Very nice and kind staff;They are good;She did me dirty;nice;Yunus is an amazing hair stylist! He takes his time to listen to you, understands what you want and gives the best haircut you can have in town! This place is extremely clean, professional and never disappoints you! Thank you, Imaj!;I came here thanks to a gift card and unlike a lot of the other places I\\'ve been thanks to Nift, I actually do see myself coming back here. I came here for a gel manicure and they did it quickly and well. What I love about this place is how real and honest they were despite being a pretty busy salon. I got my nails done by someone who seems to be a co-owner of the place and I liked how honest she was with me about running a business. She was super friendly the whole time and I enjoyed talking to her, and she was a real professional with my nails as well. The salon is kept very clean.\\n\\nI thought my gel manicure turned out fine, but because it didn\\'t turn out as well as she would have liked it to she comped to my entire manicure! I definitely suggest making an appointment as opposed to walking in since when I came at 11:30 they weren\\'t able to see me until 1:15.;Went because of other reviews. The front desk staff wasn\\'t very helpful, but the hairstylist was AMAZING!;Great stylist but had to use an interpreter. Expensive.;Got a new haircut, he was fine!;My go to spot!;Great local market. Has everything you need to make Latin dishes as well as all the regular \"American\" items as well. Prices are good, staff are friendly, and normally has most things you might need.;Really awesome neighborhood grocer.  If you want the \"real deal\" on hispanic foods.  Come here!\\n\\nIf you need a qucik grab, forvet Safeway and stop here;They have everything you need;(Translated by Google) Jocelyn market is very comfortable and gets you out of trouble. What I like the most about this market are the pupusas and empanadas.\\n\\n(Original)\\nJocelyn market es muy comodo y lo saca de apuros lo que mas me gusta de este market son las pupusas y las empanadas.;(Translated by Google) It is a little varied the product you can find some Latin things! But the price of all products is quite high, very expensive, they give everything\\n\\n(Original)\\nEs un poco variado el producto se pueden encontrar algunas cosas latinas! Pero el precio de todos los productos es bastante elevado muy caro dan todo;(Translated by Google) Fanatsic store.\\n\\n(Original)\\nFanatsic store.;Its a convient station its always clean and the station mangers are polite and helpful.;Well designed and well organized stations,\\n\\nFriendly security always there to help..;No problems getting or navigating around this stop.;Average;Very Clean.;I try to go here just about every Sunday to get the word of God;That\\'s my church;I love everything about the church.;Good place to worship;AMAZING!!!!!!!!!;lexy was awesome and very knowledgeable ! Thanks guys👍🏼👊🏽🙏;Had the BEST experience here. I went to 3 stores before finally ending up here to get my bf some good workout shoes. The African American man that helped up was so knowledgeable and listened to exactly what we needed and gave us good recommendations. Highly recommended;Nate was the best got me a great pair of running shoes and my first pair of orthotics;Bought my running shoes, bit pricey but great staff;Kellyanne listened, considered, and then pulled a trio of options, all of which could\\'ve worked. Outstanding service.;One of the only running shoe stores in DC that runs storewide discounts. Very good customer service but cramped space and limited selection of womens clothing.;Good service!! the store have GAIT analysis for you if you want to buy an appropriate shoes;Friendly and knowledgeable. I bought the PureCadence 4 here, though it was a simple choice given I\\'ve been running on the Brooks PureCadence series since it came out.;Excellent dog park for inside a city.  About 2x the size of Swampoodle dog park.  Turf and concrete structures with a water fountain.  Decent amount of seating for dog parents.  Relatively new and well maintained.;We love coming here!;A lovely and well maintained park, with enough space for humans to maintain distance even when it’s busy.;This park is big, clean, and fun with lots of seating for humans and play space for dogs. Be careful for bikes and runners on the trail you have to cross to get into the park!;Best dog park in the neighborhood;Nice park!;Took the cleavage down to anacostia Park had a nice time they were able to rip and run and enjoy themselves;awesome always the best expo;Relaxing;Love it;Great men\\'s Sunday school study (9 -10:30) Go to website to see upcoming events. Small congregation, medium sized facility poised to grow.;Enjoyed the fellowship and preaching;Great church, rigjt in the community;Went to vote. 3 voting machines. DC I felt as I was living in the stone age. Lol;Service spiritual;I was in a hurry to grab some breakfast and coffee before work and I figured I’d swing by this spot. The line was quite long so I figured it was a pretty decent spot. The line went relatively quietly but I wasn’t impressed. The food was extremely salty and rather tasteless. I was sad to discover the cafe didn’t have WiFi so I had to pack up and head to a different coffee shop. The pricing was quite affordable, which lead to my two star rating but I won’t be returning.;I will never go back. So I heard about this place and figured that I would give it a try. First, if you don\\'t speak Spanish, good luck. I decided that I would get the sausage, egg and cheese on an English muffin. They show it on the board and says the price is $4.05. I get no cheese as shown in the pictures and they charge me $4.55, I guess even though they show the item with a picture on an English muffin, they want to screw you for an extra 50 cents. The sausage is bland, the muffin soggy because it wasn\\'t toasted. First time here, last time here.;Worst customer service ever. They don’t like big orders. They told me to wait just before I put in\\nmy order. Then had the nerve to put all the breakfast items away in front of me and speak Spanish as if I couldn’t understand them. Don’t waste your time here. This isn’t the first time I had a problem with them.;This place is awesome! The food is good! You want breakfast or lunch while at work, come here and get your food made fresh! My coworkers and I come here all the time. Never had a bad experience. Your food is made right in front of you so you get to see and say how you want your order.;Great sandwiches and they actually use rotisserie turkey and prime rib for their lunch meat. Tuna melts and Reubens are great. They have a good selection of sodas. I wish their salads were a little better but I have a sandwich almost every day here and love it!;Sandwiches are consistently top notch stuff. Always the same taste, always the same price. And the manager, (Rachel I think) is always happy to see you.;This is an interesting café close to Chinatown. It Various different sandwiches, paninis and salads available. The food is fresh and made before your eyes. There is a carving station for ham and turkey sandwiches, where the meat is carved and place directly on your sandwich. You also can get your sandwiches toasted, and they come with a free pickle. Plenty of place to sit, but it’s designed mostly for takeaway.;Wouldn\\'t accept my Discover card unless I met their \"minimum\".  I refused to up my purchase......its unfortunate this business had to eat their food cost just because they did not want to pay merchant transaction fees..........WILL NEVER RETURN;Unenthused, so all I bought was ginger candy. It\\'s an independent cafe but with nothing singular to offer it seems. It\\'s geared to the office crowd, open 7am to 4pm. Standard offerings for breakfast and lunch--the breakfast runs to 10am only, fyi.;It my first time, the place is packed on the weekends, and by reservation only, mainly. The staff is courteous but a pair of socks is $14.99! Not even packaged lol... i had a great time though.;Great place to ride.;I road with Chris Pepe and let me tell you his music was EVERYTHING! Then he scared me with this little yell he does, but all in all hes a great instructor. You go Glenn Coco!;Love soul cycle!;Always a very helpful resource for our community when you have questions or concerns about wild animals. They took in  this Eastern Box Turtle found in a parking lot far from any green space.;Thank you for being there and have this amazing organization. 😍❤️ always ready to help over the phone and having so much care for wild animals/birds 😍;I love this place. They do great work and the entire community should support them.;Great service. It took a while to get to the location (45min to an hour) to rescue a pigeon that appeared to have had a broken wing ;but a gentleman came out to the Southeastern part of DC from NW to retrieve the pigeon from further injury for it was located in an area where vehicles could have easily run over it.;Took a tour of the facilities during their annual open house and I have to say that I am thoroughly impressed with not only the facilities but also the staff and their dedication to helping wildlife. If I ever come across an injured critter, I am glad I know this place is a valuable resource.;A wonderful place to bring injured wildlife. They are very friendly and will always give advice on what to do if you find something. They are always looking for volunteers so check them out!;Yesterday as I was loading my car I noticed a very wet and disheveled little bird who apparently has the misfortune of being caught in a recent storm. I couldn\\'t just leave this baby there to become food for area stray cats looking for a quick snack so I ran into my house for a small box and some paper towels so that I could vet him safely into the box; once he was secure i googled \"wild bird\" rescue in NW, DC which is how I\\'d found these kind folks. When I arrived I was promptly greeted and given a short form to complete and I asked the lady if I could check on the baby bird later and i was given a caed with the birds code which I could reference when I called back. I called a few hours later and happily leared that his breed was identified as finch and that after resting and allowing his feathers to dry he was all set and flew out rescue centers doors to join a new family of finches. All\\'s well that ends well! Im so grateful for these small organizations and\\nI will be donating to them during our2018 Fall CFC campaign drive! Keep up the good deeds!;Their staff was amazing and the work they do, great. Took three baby squirrels I found abandoned in with no qualms.;They do a great job.;This is the place to take a sick or injured animal in the District.;NO COVER CHARGE. Staff is great and personable. Late happy hour. Always make drinks strong. DJ plays mostly hip-hop but mixes it up as well. Hookah is one of the best on 9th/Ust\\n\\nThey go over capacity pretty quick;Super small shots, drinks in plastic cups, and subpar hookah. Music was good.;Nice atmosphere. Really cozy. Hookah bar. Drinks aren\\'t watered down. And good service.;Please read your receipts carefully when visiting this place. They rang us up for Hennessy ($12) when we ordered Jack Daniel\\'s (8.39) and the bartender wanted us to believe that they cost the same and wouldn\\'t make changes to the charges on the check. There is also an automatic 18% gratuity added even for a party of 1. Management is unprofessional. It\\'s also 90% men in there, especially on the first floor full of middle aged men watching tv.;Nice spot.;Always lit nice place to party nice hookah;It\\'s my birthdat Taurus;Well I do know a little bit about cricket cricket is well known in the DC area for working with you on the phone bill and when you don\\'t have a lot of money this is a good place to go;Nice place very helpful;The staff was very friendly and very helpful..;Good service;Don\\'t ever go there always crowded bums outside and worker\\'s are outside smoking cigarettes and talking on there cellphones;Bad choice of location;Ghetto! Never even open at correct time! Who is in charge of hiring? They need to be fired asap. So unprofessional and not good for business;Never have what i need;Ok;HORRIBLE!  HORRIBLE!;Never judge a book by it\\'s cover! My husband turned me on to this place & the food is DELICIOUS! everything is great, especially their breakfast, wings to die for & subs which remind me of the good ole days when carryout was a treat☺;Quick service and always good food. The women is always pleasant in the morning. I call in orders from the bus and its always ready when I arrive.;Very nice people.  The place is nice and clean. The food is good. Overall a pleasant place.;Clen and service was good as well as food;Great breakfast and fish and grits;Its an ok place to go;Pretty good;They have the est breakfast ever....;Too cramped inside and sometimes they run out of things I came there for, but friendly/excellent staff. One of my regular spots for groceries.;Great things in the store fabolous;I like this place... They have many organic and grass fed brands that I can\\'t find at major chain stores. But. It\\'s really small, some of the items have obviously been sitting for some time, because they\\'re not as fresh as they could be. I\\'ll definitely go back again! Just... I\\'ve shopped at much better.;Small organic store that sell an amazingly large range of products (think Tardis - it\\'s bigger on the inside). Bulk spice, nuts, grains, oats etc, coffee beans, fresh veg, fruit, bread, and most any other food item you can think of. Manager and employees go out of their way to help.;I like that they sell organic stuff and make it accessible to people in this neighborhood. But the prices are expensive! Veggies were okay but didn\\'t look that fresh for the price.;The staff has been very helpful the past few times I\\'ve gone in. Their vegan options are growing which really makes me happy. This is becoming my go to place for last minute things to piece a meal together.;Love it! A little bit of everything and a great location;Tiny but clean and everything was easy to find.;They\\'ve got everything and are super friendly;Good place good people;Good small neighborhood store, has many things, but almost no meats;Tiny store but good selection;Nice 2 sided counter.;It looks small, but they have everything you could want from an organic market.;Good;Can\\'t see any benefit DC provides for the over priced manager card over other states.\\nAdditional to the hustle to get the card , they will fine you a late fee even a day after your card expires. Although it clearly states they \"might\" .;They\\'re  awesome coz they make sure every restaurant or bar in the city is legit & has a license 2 sell alcohol. Also like the crackdowns on some restaurants & bars who dont have licenses making sure they get a license 2 sell alcohol legitimately instead of doing it illegally..wanna see more crackdowns @ restaurants & bars especially on Georgia Ave & 14th NW DC.;Rude. Get a new job if you don\\'t love what you do;Quick and friendly staff;It was an incredible experience to come to the House of Representatives and advocate for bills that will have an important impact on not only in my life, but all other constituents. It is a loud and fast pacing place, and a very pretty place too. It gives you a sense of responsibility and respect when walking among so many people with a huge pressure on their backs to fix the whole country\\'s problem. Be kind and understandable of how difficult and necessary it is for bills to become a law. There are way to many faucets we do not understand of things.;Keeping the United States safe from database being breached by creating laws.;Grand looking building;(Translated by Google) Excellent postcards.\\n\\n(Original)\\nExcelentes postales.;(Translated by Google) After your guided tour of the Capitol, you can ask to visit the Senate or the House of Representatives: you will then have to present your identity card and leave all your belongings (except identity papers) in a free locker, including your phone otherwise you will have to leave it in a second locker at the end of the queue if you have not followed the instructions; you will have a new security check and then you can admire the chamber or even listen to parliamentarians if they are in session. It is an imposing and magnificent room, a must see. Any picture inside the bedroom is categorically prohibited and you are not allowed to have any electronic device on you anyway.\\n\\n(Original)\\nAprès votre visite guidée du Capitole, vous pourrez demander à visiter le sénat ou la chambre des représentants : vous devrez alors présenter votre carte d’identité et laisser toutes vos affaires (sauf papiers d’identité) dans une consigne gratuite, y compris votre téléphone sinon vous devrez le laisser dans une seconde consigne présente en bout de queue si vous n’avez pas respecté les consignes ; vous aurez un nouveau contrôle de sécurité puis vous pourrez admirer la chambre voire écouter les parlementaires s’ils sont en session. C’est une salle imposante et magnifique, à voir absolument. Toute image de l’intérieur de la chambre est catégoriquement interdite et vous n’avez de toute façon pas le droit d’avoir un appareil électronique sur vous.;SO grateful for this store. Super convenient and fast. First time using their notary and printing services. Best UPS experience in DC. I have lived here for 6 years! Ed is wonderful. Notary hours vary. Call ahead to confirm availability.;So I saw the recent negative reviews, and though I had a decent experience going here a few years back, I was curious to see if my 5-star ranking was no longer realistic.\\n\\nNope.  Sean was super helpful as I had three boxes and one loose item that all needed to go back to my company.  He took them all no problem and I was in and out of there fast with a reasonable price.  Much easier than the Post Office, even if it does cost more.;Solid UPS. You may pay more, but their hours are good, service is solid and it\\'s easy in/out location.;I have used this store for notary services, printing, and overnight mailing. Miles is always helpful, courteous and professional.;Miles is super duper helpful and efficient. Can\\'t ask for more than that.;The gentleman behind the counter was nice and helpful.;Great service, friendly stuff!;After many years of so so dentist l finally found a dentist that understands what the patients feel every time they sit in the chair. He, office admin staff and his techs help lower your level of apprehension from the moment you arrive. Treatment is quick and concise with any and all questions fully answered. No dental work is completely pain free, but Dr. Kirunda comes as close to it as possible.;I love this dentist. He fixed shoddy work performed by my last dentist and had kept my mouth in great shape. 10/10 would recommend.;I honestly cannot say enough good things about Dr. Kirunda & his staff. What a great experience...at THE DENTIST! How often do you get to say that?! Making the appointment was quick and the woman who answered the phone was so sweet and helpful. Everyone greeted me politely when I walked in today. The practice is clean, the waiting area is comfortable with HGTV on (yay!) and complimentary tea/water/coffee. Dr. K cleans your teeth HIMSELF. What other dentist is that hands-on? He explained exactly what he was doing, told me when something might feel a little sensitive, and thoroughly went over my x-rays and his suggestion for my next services. I am SO happy I found such a great dentist in DC. Very grateful for the excellent service today! I know I\\'m in good hands.;I was pleased with the service I got today!;My 6 months appointment Monday was quick and Dr. Kirunda didn\\'t have to do much other than a 6 months cleaning and I got a good report.  Thanks.;Parking can be tough, so come early. They take amerihealth;The absolute best!;The staff here were helpful, friendly, and quick. The pickup and drop off processes were efficient and their indoor store allows you to buy the last minute things needed for a move. I\\'d of course recommend using a smaller, or local company to move, but if you can\\'t this U-Haul is a good option. You can park your car there for free in their parking lot during the day while you move and the whole thing was pretty hassle-free.;They really work to find the best storage for your needs and customer service is good!!;Great place for a truck rental and/or moving supplies. The staff is super friendly and helpful. I prefer them over any other locations in the area.;Watch out and be sure to take your own verification pictures. We returned our vehicle with the same gas it had at the time of rental and were charged for a full tank. The staff is unhelpful and incredibly rude. Document everything so you have proof when returning your vehicle and they try to charge you extra.;I cannot recommend this place to a friend due to the face the guy who attended the returns area Charles is rude, unprofessional and is smoking in people faces offensively.  Has a hideous attitude towards good working people. Everyone else was AWESOME;The place was a bit hard to find, but the people were very nice and helpful.;Great customer service, truck was clean and on time. My 3rd time and they really have it down;Good place to get a rental. Well stocked and we\\'ll located. Their vans are brand new and really good!;Quick and easy with above and beyond service! I was able to rent the truck in 10 minutes the night before so that when I drove up I contactless picked up the truck and went! Drop off was done in a safe and distanced manner. All trucks are thoroughly disinfected before next rental. All this at an unbelievable low price.;Make sure you take lots of pictures when you drop it off and when you return it. We were charged $150 for a \"broken light\" that we definitely did not do. On the receipt it says the incident happened at 6:30 pm, but we returned the van at noon. The person we called told us that 6:30 was just the time that they got a chance to inspect the vehicle and see that the light was damaged. We took pictures when we picked it up, but it looked exactly the same when we dropped it off so we didn\\'t bother. That\\'s on us for trusting this place, but they didn\\'t have to do that to us.;Customer service needs to be more friendly;Customer service was good. Clerks are knowledgeable and easy to talk to.;Great for in-town moves in the DMV... especially when you\\'re picking up furniture for your girlfriend Casack;New ways of conctless return of rental truck..nice uhaul app;Staff that was present when I dropped off my u-haul was unprofessional, argumentative, and rude. Also  e warned of the deceptive fee structure. Our 19.99 a day van for two days with minimal milage ended up at $160.\\n\\nIf you have any other options for somewhere else.;Note to any renters ask to see or check truck before signing.....I signed out a truck saying the tank was full and miles she also different.;I\\'ve used this location a few times with good results. If you get there right as they open, you should be able to pick up your truck/van quickly. If you wait until later in the day - plan some time.  The staff was fine, not overly friendly, but not rude either.;They\\'re poor because if you miss a payment they will not let you get into your unit.;Super organized, friendly staff, clean vehicles.;Nice and helpful staff;Great service and very convenient!;Customer service was Pleasant enough but I did have a hard time finding the truck pick up area... the other staff seem like they didn\\'t really care that much they were okay not to helpful. Truck was in good condition. Service was quick for me.;This U-haul runs like a machine. It was super easy to reserve, pick-up and drop off the U-haul and they answered all my questions before I even had the chance to ask them. The facility is also easy to get to and leave from, so driving a big moving truck for the firs time was less intimidating;Staff is always helpful, knowledgeable and friendly. I\\'ve had a storage unit there for several years, and have never had any problems. Only problem area: parking is horrible. Not enough of it, especially if you are loading/unloading.;Very busy place;Third rental in a month and this place is on their game! Fast in and out. Clean truck. Very professional. Best U-haul in US. Check in online.;Double stacked lockers/units, with small doors for medium and small lockers, makes it hard to put a couch into them.  I would look at other spots.  Although good place to pick up packing material - even has a tv cases;Great clean place.;Im giving 5 stars bc it still has my stuff in it. But it does not have a temp controlled environment.;Made payment on storage;Excellent service and convenient location.  I checked in online so the entire process to get the truck and be on my way took less than 15 minutes.\\n\\nThe location is less than 10 minutes walking from the RI metro stop.\\n\\nAnd the truck was brand new with 1k miles on it!;U-Haul storage is always good in case of need, but this location has trouble beyond the patience of regular humans. Their system is frozen most of the time, which is discouraging when you have Sat 30th and Sun 31st to move, wasting 3h of your time waiting just to get the storage unit contract, without the possibility of overtime access to the storage unit because it is not available for the storage building. U-Haul is a good addition to my life, but this location isn\\'t;Horrible experience thru the mobile app for an after-hours pickup and dropoff, on what is supposed to be a seamless process. The app is extremely clunky and regularly doesn\\'t register your clicks to allow you onto the next page.\\n\\nYou need to submit all kinds of info upon arrival, not before, so prepare for a lengthy delay at pickup time despite the fact that they could\\'ve just had you submit everything earlier. Someone on their end needs to verify it in real-time, including calling a friend or family member just to verify that you indeed exist and are renting a truck. Unsure how this is a real security measure but regardless.\\n\\nThen they gave me the lockbox code to get the truck keys, but the app was so clunky that that page disappeared before I could read it. So I promptly spent the next 20 minutes in the pouring rain on hold with their customer service line, just to get the damn lockbox code. The app thought I\\'d already started driving, so my only option there was to request roadside assistance (dysfunctional app wouldn\\'t let me submit a request for that either).\\n\\nAdd it all up and you\\'ve got a terrible user experience. Find any other truck or equipment rental service whenever possible.;Excellent storage facility in all the time my property has been stored there. Try them for yourself!;Terrible management and the Gen. Mgr named Ousman is THE WORST!!!!! This location would rather take your money before providing a \"complete\" service to you!;This is a great US haul outlet. Shops in Md do not always have more than 1 of each size cargo trailers in stock.;Very happy with my moving experience. Not a lot of hidden fees, good service, and decent location (walking distance from the Rhode Island Avenue metro station) makes this U-Haul a good choice for in-town moving;I love this place,  I love working here and helping people...😍😍😍;Good service but very slow, it took me almost one hour to get my truck which was already reserved online;Conveniently located but parking is an issue in the area.;Poor service. Called about donating furniture, and they failed to inform me that donations can be left in the storage facility!;Great customer service;Good deal...;They put a hold on your funds without telling you. And the when you ask to speak to a manager he is rude and nasty telling you that you have to call your financial institution;Great service.;There were dead rats,magets,and rat poop all over my belongings;Very friendly and proficient staff.;Everyone is so nice;Stop by to get treated like you\\'re an idiot by rude staff!;great service;Good location great place;Very tiny storage area and no parking.;Excellent service;Knowledgeable and helpful.;very convenient service;Service isn\\'t that good;Everything was as described, friendly staff;Great storage;Very friendly staff, hooked everything up for me;Slowest customer service ever;Busy at weekend;Cheese pizza for my teen majority of the time and this location makes their pizzas better than many other Little Caesars locations near by ...but our last pizza was burnt ( hot and ready ) I didn\\'t return it but I don\\'t expect it again.. I had dozen of great ones!! And the guy that normally works the register evenings/ nights  WASN\\'T THERE but he has great customer service, I don\\'t think he would have given that pizza out ..will return;Very fast and consistent.  Pizza here is always decent enough for something quick - and a whole large pizza is just $5.99!  It\\'s not great - or fancy - or dine-in - but then again, it\\'s not supposed to be.;The food is good. Never had any issues but I have to wait for my pizza to be cooked when the slogan says \"Hot n Ready\". Other than that we cool;Place was clean, folks were nice, pizza was Great !! And, the price was good.;I enjoy the food it\\'s great. I can\\'t get enough. I am always back for more.;OMG...The worst customer service experience ever! Being from the Midwest, I was SO excited to learn that a new Little Caesars was coming to NW DC. Maybe 3 weeks after its grand opening, I paid a visit to this location and I vowed to never return. When 1st entering the store, I was not welcomed by any type of greeting. The girl at the register pretty much stared at me while I was deciding on what to order as if I was holding her up.\\n\\nWhen inquiring about the Hot and Ready pizzas, I asked how long the pizzas had been sitting out and she said they had just come out the oven. I also asked about the crazy bread and she said the same thing. So I placed my order, received my food and it was very luke warm. I politely asked her if they could make a fresh pizza and set of breadsticks for me and she said , \"These ARE fresh\" with the biggest attitude. So we went back and forth a little bit and eventually she asked the cook to make a fresh order, accompanied by an eye roll. When I got my food, it was the sloppiest thing I had ever seen in life.\\n\\nI then asked her for a refund and she said a manager needed to be there in order for this to happen. I asked her to call the manager if he/she was not there and she claimed they weren\\'t answering the phone. Long story short, I tried calling the store the next day, no response. Then I called district and got a callback right away with refund info and a free pizza offer. I declined the free pizza offer and assured them that I would never return to this particular location again.;Good place take and out quickly although the  cashier wasn\\'t friendly but other than that a good place;Great Pizza ever it\\'s good not too oily...;The pizza was not hot and it was naste will never eat from them again;I usually like ordering from here, but my order just arrived with one incorrect item and another missing item. When I call the number, I only get a busy signal. They really dropped the ball today.;Nothing is ever Hot n Ready like the advertisent always promotes.;Had the crazy bread and they were hard and overcooked;Not at all friendly and she took a customer before me who came in after me. The pizza was ready but not all that great in taste.;Cheap pizza for pick up;Great service;(Translated by Google) Very rich pizzas and good prices\\n\\n(Original)\\nMuy ricas pizzas y buenos precios;Nice place to get perfume of different brands that you may be looking for;Great customer service;I wish they had larger variety of women\\'s fragrances;My go to place.;Great place;Nice;Very inexpensive!!!!;Laid back;Ok apartments;This is so far the best Hot and Sour soup I\\'ve had in DC, this is a solid Chinese delivery place, I\\'ve never stayed in to eat but I\\'m sure the dishes better served straight from the kitchen would be amazing! Delivery itself is fairly quick for DC as well. I\\'ve had many of the standards and they\\'ve all been good, my last order however I decided to try Chow Mein for the very first time it was AWESOME, j don\\'t know if this is indictive of the fish though since I\\'ve never bothered to order it anywhere else. I usually stick to the Szechuan dishes, but I\\'ve had many of the other offerings and liked them as well. The Wonton soup is good, not the best and I\\'ve had the egg drop soup, but again it was my first order of it and it was nice, not my cup of tea. This is how I feel about the dishes at any asian place I\\'ve been to and tried like hot garlic sauce dishes, I\\'ve had it at many places in DC and I just don\\'t like it, but Szechuan house at least has the garlic I can see and the vegetables and meat are fresh. Living in SW there aren\\'t as many options but Szechuan house should be at the top of your choices.;This is my favorite takeout Chinese food in DC. It\\'s just the perfect comfort food that you want on a rainy night to eat too much with friends (or by yourself) and watch movies. Everything I\\'ve tried has been delicious and satisfying. I also ate in once, and the service was great! Definitely recommend this place.;This is the best Chinese takeout in the Waterfront/Navy Yard/Eastern Market area.  The food is great quality, the employees are nice and helpful, and the delivery is prompt. I’m impressed that they always read my extra instructions in the online order and follow through. This is the only Chinese takeout I will order in the area. :);Excellent take-out, friendly staff. Really, really, good General Tao\\'s Tofu. Easy to miss if you aren\\'t looking for it.;Great little, local takeout and delivery! Occasionally been going here throughout the past year. It\\'s not amazing, it\\'s nothing special, and it\\'s unremarkable for any special event, but it gets the job done!\\nVery nice staff, and an order has never been wrong, and it\\'s extremely quick. (10 minutes to cook, delivers almost immediately);Excellent food. The wife and I spotted this upstairs jewel on 8th street, next to Medium Rare Restaurant. Ordered combination lo me in and and Szechuan shrimp; simply put. Delicious. We will return!;Not sure why there are bad reviews. I ordered very good combination Pad Thai and egg rolls.i will go back again!;I ordered chicken pad thai noodles, orange chicken and chicken egg foo young. Delivery was quick and the food was delicious. Great prices too.;Locating Eastern Market I want to say is next to Matchbox upstairs I want to display some do a lot of business because of where it\\'s located but it has the best Chinese food ever and the best customer service it\\'s quiet it\\'s clean and a food tastes so good special the rice and it looks fresh that\\'s the important thing;Best Chinese Szechuan style restaurant in DCGood Peking Duck!  Here is a reasonably priced, very good quality and variety Chinese restaurant in DC. While most of the good Chinese restaurants have taken flight to the burbs, this one is still accessible to those who live in the city.;The best chinese american take away in Capitol hill.;Had sesame beef and pork lo mein, the quality was middling at best, very chatty and tough beef. Doctors and offerings were okay, kinda generic American Chinese food, but the portions were super small considering the price.;Great Chinese food.;Maybe I ordered the wrong thing, maybe it was the hair in my food... But I won\\'t be eating here again.;Fun store of great gifts with a helpful staff. They held our purchases at the front desk so we didn\\'t have to hold them while we decided what we wanted. A good spot to hit for when you have to get a gift for someone.;Best little local gift shop in the area. You can get gifts for anyone there. They also have a great array of DC centric gifts if you were visiting DC as well.;Great place to shop for unique gifts, clothing and decor. This little Shop has something for everyone on your list;Always try to support small businesses. Great little gift shop with unique items.;Love what they carry and love Susie and Tim;Neighbor staple for years, now closed;I love it there! Watched about 5 different soccer games. Took about 5 hours but it was well worth it! It\\'s clean, ppl are friendly & the competition is always there! Im sure they\\'re still out there playing now at 10:30p lol. Anyway, go there if you want to exercise, play tennis, soccer or just catch a good vibe!;Love this park and how they set it up.;I was taking my husband for a walk and to look at the kick ball team and it was very nice we enjoyed it.;Ok;(Translated by Google) Very good clean and the little ones entertain themselves in soccer\\n\\n(Original)\\nMuy bueno  limpio y los más pequeños se entretienen en el futbol;Best advertisement I\\'ve seen yet!~ 🖖🏿✌🏿🤲🏿🎉;Update: waited 4 hours to go to the window and she tell me the specialist is gone for today so come back another day. Seriously?! WTF!!!\\nExpect at least a 2-4 hr wait. The names are not called in order. No tracking system. No estimated wait time.\\nThere\\'s 10 interview windows and 3 intake windows but only 1 intake window open and 2 interview windows so running at less then 25%.\\nWhy even be open if you can\\'t process ppl in a remotely timely manner? The facility only operates 4 1/2 days per week so this should not be asking too much.\\nJust another example of the poor implementation of your tax dollars. Would definitely play in traffic before going here again.;My experience was great when I went to social security to apply for Medicare. Ms, gieselle McCoy and Ms. Wanda Roberts provided outstanding customer service. They were professional. Knowledgeable, patient and got everything done in a timely manner! I was in and out within the hour. 😊👍;Depending on the time of day decides how long you will wait. If you can make an appointment you should. I had an appointment, waited in line to check in, then waited for my name to be called. The actual appointment was great, I got a lot of information and walked away empowered.\\nThe facility was clean, staff cordial, and even the security guards assisted with basic questions. Overall a good way to spend time cutting through the red tape!;Ashley  in cubicle C was really helpful, listened and she is calm and a soothing voice. Thank you Ash. I came immediately when they opend at 9am. So the line was not that bad.;Extremely slow service. It’s not true about Monday mornings being the fastest service day. I’ve been there today because I read the other reviews. Every damn day are the same with the line that take ages and then waiting again for your number being called is taking eons. Expect your time here to be 2-3 hours at average. The place also stinks and filled with flies because of the kind of people that come here for service. I don’t want to come back here again.;They are very inexperienced! They all need training or firing!;It was a wait but when I got seen ms.green was very very nice and  Pleasant;I like this location  is because the staffs are very nice and it can be crowded at times.;3-4 Hour wait for a social security card replacement smh.;If you go in there for any reason. Pack youre pack youre patients. Plan to be there at least half of the day.\\nSuggested to go in as early , prior to opening .\\n\\nIf you want good service dont go to cynthia \\'s Hightower cubicle . It seemed like everyone was upset at her when they left.  I also saw that she is rude .;Go on Wednesday they work faster;Love miss green;Long lines, and outdated information ..;Stunning panoramic views of the Navy Yard paired with solid mixed drinks and apps.;Came for drinks and the rooftop bar, and did not try the food.  The rooftop area was nice and had a great view.  Service was very slow.  A couple drinks were decent, and one was not.  Enjoyed the experience overall becuase of the view and rooftop!;Very fun time, great views of the city. Social distancing measures are fantastic. Love the ability to order drinks and pay directly from my phone. Friendly staff.;Horrible service.  Very disappointed 😞;Hospitality & staff were triumphant and gets you amped to chill in a righteous space;Service and glasses selection are good even if on the pricy side.  From the optician to sales there is nice service.\\n\\nBut the buy 2 pair of glasses for half off the price and / or the \"Buy one pair get one free\" deals appear to be nothing but a sales scheme, no real deal is possible. There is no reason I see to be disqualified from the sales specials if I\\'ve paid $300-$500 out of pocket.  It shouldn\\'t matter how much my insurance covers. \"Restrictions apply\" of course.   Most know buying glasses completely out of pocket with a prescription is very expensive at most stores. So where\\'s the deal?\\n\\nSo my recent purchase from Visionworks is probably my last. Buyer be aware don\\'t go in expecting the \"buy one get one free\" special to be a real thing;We had a great experience.staff was attentive, knowledgeable and friendly. Everything was very clean and organized. We were offered the additional exam but were told it wasn\\'t required.;Plan on waiting even if you have an appointment.  I have been waiting an hour to see the doctor.   SMH.;Dr. Hanowsky was very good!! He did my prescription just about perfect! I usually have issues but I was very pleased with the exam and the time he took to talk with me and explain things. The staff there are courteous but I notice they don\\'t acknowledge customers promptly. Overall, my experience was good.;Very clean and the staff there was super nice! I had an error with my glasses and they apologized and gave me new ones at no cost! I recommend this place for sure!;I am deeply saddened to write such a review. Last year when my daughter & I visited this location it was great! Today that all changed when we showed up for our appointments and were told it was MANDATORY for us to take some specialized test that was on sale for $19.99 to even receive an eye exam. This is after waiting 25 minutes for our appointments! i have health insurance but, was denied service if i didn\\'t agree to pay $40! That\\'s like my doctor refusing to examine me if I don\\'t pay a thermo-body scan! The rationale provided to me was that due to an extended length of time between visits due to COVID, the company made it a requirement! That\\'s ludicrous! We only visit once a year anyway so that doesn\\'t make sense! i don\\'t even wear glasses. Why would I pay for a fancy test! Sounds to me like a business just trying to recoup funds during a pandemic. Sooo disappointed! This place is near my home & now I have to find somewhere else. I will also report them because I don\\'t believe it\\'s legal to deny someone with insurance service because they won\\'t pay for an additional & completely unnecessary test!;Excellent customer service! My glasses came in a timely manner. Jennifer was very helpful with getting a pair of frames for myself and my son!;I enjoyed the wonderful service provided.  The ladies were great.  Jennifer was very nice and kind to me and my boys🤗;Awesome customer service! Very quick and very professional! Will definitely send people your way.;Imani was very helpful both times she\\'s assisted me! Great location. Nice and helpful staff!;Friendly staff!! I recommend making an appt to get the best experience. Imani is super awesome when its time to select frames!!;Conveniently located next to DC Costco and on metro bus lines to RI ave and Brookland CUA! The staff is friendly and the selection is functional but not extensive. The pricing with promotions make glasses affordable even with complicated prescriptions.  Make sure you use your Vision benefits for even better pricing.;Excellent experience and everyone I came in contact with had smiles and a pleasant attitude. They made a gruelling task much more pleasant and for that I greatly appreciate them. Good leadership does pay off and it is noticed by your customers. Thank you!;I\\'ve done business there for many years. I have never had a bad experience. The staff changes frequently, however, they have always been courteous. Sometimes there is a long wait after paying for truck and being able to drive off. There is a shortage of staff during busy times, weekends!;Very clean facility, well organized and amazing customer service!;It\\'s clean enough, and I\\'ve had a ben in there for about 5yrs I\\'m without any problems;The Best uhual;Well stocked inventory, helpful staff;Easy to reserve and rent a U-Haul here. They have storage areas available for short-term or long-term storage. I rented a truck for a day to pick up furniture and it saved so much time and energy by having the truck as opposed to other delivery options. Tip: Make sure to fill up the gas tank before returning to save money as the price they charge for gas at the U-Haul center is higher than market rate;Waited outside for 20minutes for  5 boxes, couldn\\'t get them because I needed to be at my niece\\'s wedding;The facility was very clean, the staff was very professional, and they had plenty of vehicles.;Good service;They was great there they customer service was awesome;rented uhaul for few hours. Very good customer service. We were in and out very smoothly. great location also;A well situated storage unit location that has both temperature controlled and regular units of various sizes to fit the needs of the customers. The customer service people are on par and attentive.\\n\\nTip don\\'t lock your uhaul key in the cabin.  Roadside assistance doesn\\'t cover the locksmith and it\\'s a $65 (starting price) cash only!;Staff can be cool at times. But with the public in the back u must not ever turn your back on your belongings cause they will be stolen its like clock work there are people that snoop around and listen to every thing u say just so they no where what you have and if you mention anything else about personal goods be aware because they will steel that do always take somebody;Easy in and out ( on a rainy Sunday morning). Very helpful in helping me find the products I needed for my move.;No thank you...playing games with hidden fees and penalties..not ever again!;I went into the uhaul facility on south Capitol and p drs sw just to pick up a bundle of moving boxes. We were greeted as we walked in the door. When I had a question the newest employee Sabrina came from behind the counter and walked over and explained the difference in prices for the supply pack and the individual boxes. Once we made or selection she rang us up and was most courteous . She said she had only been there for 3 weeks and did not hesitate to ask for assistance from her colleagues when she was unsure. Then the manager Chris came got the boxes and carried them to the car for us. As a long time retail sales person I appreciate excellent customer service and this facility\\'s staff are spot on. Whenever I am in need of anything for moving I will be using this uhaul store.;Really great customer service and very clean location. Good access to the storage units and well lit location.;nice staff.;Had an extremely easy time working with this U-Haul location. Not too busy, very helpful, and it\\'s quick to get your truck and head out.;Easy in and out.;Good service;Friendly and patient staff. Great prices.;Very sloppy, lack of service. Feckless in every sense. Go to Springfield u-haul. Craig is very helpful.;Clean place, nice staff, and the prices are better than public storage down the street.  Highly recommend it.;Great customer service & very professional;Teairra Bundy was incredibly helpful in getting the move in process done quickly. She made me want to come back to this location in the future!;They need more staff working here to check people out in the morning and then return the trucks at night. I probably spent more than an hour just waiting in lines trying to pick up and drop off keys.;You guessed it;Great Service.;Convenient downtown location with a ton of trucks available;Dirty.  First time I rented here I was given a trailer missing a pin to keep a part from dragging on the road.  Once I noticed it was very scary driving.;Very efficient and pleasant staff.;The walk was great exercise.;Excellent customer service and quick and efficient;Very simple and accommodating!!;Clean ztore, professional staff;Good service.;Always great service;Staff was helpful;Great service;You can get free boxes here!;Knowledgeable, polite, clean.;Always prompt.;Such great service;They provide a truck for more than 19.75!;Quick, efficient, and friendly;Nice;No orginization.;Poor customer service;Great store! Leah is always friendly and helpful, and she keeps her store stocked with all the basic (and many not-so-basic) kitchen needs and seasonal desires.;Excellent selection of kitchen related goods for how small it is.  Definitely worth stopping in if you’re looking for something or need a gift.;Awesome, awesome, awesome experience from start to finish. Leah is so knowledgeable about every single item in her store and was exceptionally patient while I figured out what type of knives I was looking for. Her expertise and clear explanations helped me really narrow down my options. I look forward to purchasing more cookware in the future because I know —without a doubt— that I can ask Leah and get straight answers. She had all of them!\\n\\nAdditionally, she took numerous COVID precautions, including requiring masks covering the nose and mouth of all customers, limiting the number of customers to four (not four “groups” ie households, but four people— full stop.), maintaining an appropriate distance, and ensuring each customer used hand sanitizer upon entering. Highly recommend a trip Hill’s Kitchen for anyone who spends time in a kitchen or home.  So. Anyone reading this! Check it out.;Hill\\'s Kitchen is a great local (woman-owned) kitchen shop. The staff is super helpful and the store has a good selection of high-quality items. I recommend shopping here and supporting this local business.;A lovely small business with a host of wonderful products- cookbooks, pots and pans, etc.  The staff’s knowledge is amazing.  I bought an obscure cookbook and they were able to point out exact recipes I’d like.  The staff also goes to great lengths to ensure customers purchase the proper products.  They quizzed me on my intended usage for a frying pan before offering a recommendation.;What a lovely local business! Staff is nice and welcoming, and there are a decent amount of kitchen selections. I definitely try to come here for my kitchen outfitting news.;Such a cute store! I know if I ever need a gift for my chef friends or just want something to sprouts up my kitchen I can go to Hills Kitchen! More often than not I’ll find something I wasn’t looking for or didn’t know I needed. So glad to keep supporting this local business. Highly recommended!;Friendly staff,nice selection of cooking tools.;Hill\\'s Kitchen seems to be an important store to the local community, and I love that the owners are friendly with people in the neighborhood! They carry a wide range of products that make me super excited to decorate my kitchen. I\\'m so glad this place exists, and just wish some of the staple items were a bit less expensive.;Love this store, it\\'s a staple of Capitol Hill with some knowledgeable staff and somehow they have everything, just ask if you\\'re in a rush. Definitely fun to just peek in every now and then, you might just get some ideas for how to improve your kitchen.\\n\\nFair prices too by the way.;The best kind of local business. Leah and her staff genuinely want to know what you\\'re doing in your kitchen, so they can supply you with only the things you need.  I\\'ve been going here for 6 years now, and will keep going here as long as I\\'m living in DC.;It\\'s a small store, but they manage to fit a large selection into it. They have at least two options for most major kitchen appliances, a good knife selection and a wall of pots and pans. I\\'ve been building a kitchen recently and this store has become my go to location for kitchen tools. The staff is very knowledgeable and is happy to help. I love to support local business, and this place has become my spot for kitchen needs;I am so glad this store exists in Eastern Market. It adds a neighborhood feel to the area. Located right next to the Eastern Market Metro, it\\'s easily accessible. The staff are super friendly and helpful. It\\'s the bottom floor of a beautiful row house and has any kitchen need you can imagine from state shaped cutting boards to fancy wine glasses.;Lovely little shop that has some unique items that make it more than a kitchen goods store. One more than one occasion, I\\'ve gone in for the states-shaped cookie cutters to send to friends, and have sent others there who are looking for gifts for their favorite bakers. They also have an excellent range of gifts for kids who want to get into cooking, with lots of small tools for tiny hands.;Amazing store.   The staff is super friendly, helpful and knowledgeable.  My wife and I did our wedding registry through the store, which was a great experience, and many of our family members heaped praise on Leah, the owner.;Wonderful kitchen gadgets and some gourmet foods, nice knives,  high quality stuff and very, very friendly people.  Could\\'t be closer to Eastern Market Metro.  Best of all their own designed , knife fork and spoon DC flag for people who love to cook  (play with their food) and love DC this is a must have.;Carefully selected kitchen items with  knowledgeable folks and friendly atmosphere;Love this place!  Small store, but a great selection.  A very good seasonal selection. Leah, the owner, is absolutely fantastic.;A lovely, friendly neighborhood store. Well stocked. Lots of fun gift items.;Love this place. I always find cool things for gift giving.;Super knowledgeable and friendly staff. Dog friendly store with a huge selection of supplies from necessities to great kitschy gift ideas.;Looking forward to visiting more.  Lots of kitchen goods.  No other housewares.  Lots of baking and ice cream tools;Great Service, great selection!!;Great kitchen supply store, in the middle of SE.;Lovely little kitchen novelty shop;Thia place has everything.;I’m done with this place. Two days in a row came in to buy pain killers and couldn’t get anyone to open the cages they’re locked inside. It doesn’t even matter that the employees are friendly, this store must be way understaffed when you can’t even get medicine in a drugstore!;CVS is like purgatory. Nothing against this particular CVS but every CVS I go into is Bland\\'s the service is terrible and I assume it\\'s because they\\'re not paying any of their employees enough to give them incentive for it. everything is overpriced and even on the app I\\'m never sure if I\\'m going to leave feeling like I got what I needed out of it.;I\\'ve shopped here from time to time - staff was very nice. Products were available and not reasonably priced (although not as low as some other convenience store locations);I feel as though it\\'s your regular CVS. Very convenient location, right by the Georgia Ave/Petworth Location. May not be the best as far as having everything, but I have gone there for basic needs and not had an issue. Not much store assistance. Walked around multiple times looking for a cream, maybe passed and employee twice and wasn\\'t offered any assistance...but overall nothing but regular CVS experiences.;Friendliest CVS Staff I’ve ever encountered, but there’s always one cashier. The wait in line can be very long, especially without self checkout.;Pharmacist Mehret is extremely helpful and knowledgeable.;The staff here is friendly, but this store is very drab. It feels like a prison inside and the ‘decor’ leaves quite a bit to be desired. It could definitely use a facelift like some of the CVS and Walgreens locations downtown.;I  been a customer for years and I especially like,\\nThe greetings I get from pharmacy staff.\\nAlways service with a smile I been in pain when I arrived, but when I leave I don\\'t think about the pain  because where just like family.\\nOverall great store!.;Extremely poor service.  Pharmacy service has gone downhill over the last 6 months.  Pharmacy does not pickup calls. I had to literally call the store mamager to inquire abt prescriptions on several occasions.  Robo calls stopped completely.  Text notifications sporadic.;Store is kind of a mess. Quality of service varies. I don\\'t actively avoid this CVS like I do the one in Columbia Heights.;While this is a fairly new CVS, the service is only average.;The pharmacy here is the worst, though most CVS pharmacies suck. They are ALWAYS understaffed and there\\'s always some problem. Never fill your prescription here.;Just a basic CVS.;Food quality is pretty good. You pick up meal plans, purchase frozen meals, buy smoothies or actual prepared food all at a convenient price. It can be an overwhelming experience because there is not a lot of guidance going in. If you can self navigate or aren\\'t afraid to ask questions you can make this place work for your needs.;I was walking down H street looking for a place to eat a couple hours before the gym, and stumbled on this Mecca for anyone intentionally eating and drinking to lose, maintain OR build their body. They offer wide range of fresh and frozen meals, as well as many types of healthy drinks. I got 2 frozen meals (which they  were happy to heat up for me to eat there), Cajun ground beef and Asian shredded beef for $7.50 each. That\\'s a great deal compared to other food prep services, on top of which they offer 1 free when you buy 5 at a time. LOVE the \"what\\'s your vision\" sheets. This place makes it easy to meet my goals without endless shopping and weighing of ingredients;If you are health conscious and are interested in having a convenient option in the city then I highly recommend Clean Eatz. I went during the dinner hour (6:00PM)and quickly parked and had my dinner and also a meal to go in about 20 minutes, my food was hot and tasty..I purchased the Watch your Waist with Salmon and I got a togo meal to prepare later. You should definitely try if in the DMV...#Mealprep to go👍;No complaints here. Can\\'t wait to try out the meal plans.;This was our first time try it out clean eatz I use a Groupon the food was great I highly recommend there protein French toast my daughter loved it I myself had the bowl which was great as well we will definitely be going back I\\'m glad to see that there is a place like this in my neighborhood and I don\\'t have to travel so far;Wow, the quality of this place has really gone down. 50% of the time they mess up your order, their smoothies aren\\'t made from real fruit and LOOK how burnt my pancakes are. Can\\'t believe they had the nerve to deliver these to me.;Came in on #MLKDAY! and was not disappointed. Staff is patient and on point, and the food is delicious and not to be missed. Clean Eatz is now in rotation on my go-to spot list.;A very good variety of healthy options. Also can custom order meal plans for any dietary restrictions.;Very unique!!! Easy, no frills menu! Lots of options & the Mango water is awesome! I\\'ve only visited once, but I plan on returning;My first time in this business enjoyed the veggie  wrap;Very fast service good place to be;Get food that\\'s clean, healthy, and lists ingredients and nutritions. Some items are bland, so order carefully.;I like the healthy choices.when I came back the store close or maybe change.;Working long hours in the hospital or clinic had deterred my healthy lifestyle choices. Clean Eatz has me back on track. The cost is only slightly higher than my food budget, but it is worth it.;👍🏽👍🏽;Its closed folks, for good\\nFrom what I\\'ve been told\\n\\nIts was nice for all the years it lasted;I consider this place my personal \"cheers pub\". The people are friendly and it\\'s a very professional crowd during the week especially during happy hour.\\n-great drinks and drink specials\\n-Sunday karaoke 9pm -1am\\n- Saturday day parties once a month with DC fellaz entertainment\\n- Talent competition once a month with iconic Souls entertainment\\n- happy hour extends the whole day on Monday Tuesday and Wednesday\\n- First Fridays parties with various promoters;Great Dance floor last of its kind in DC\\nSold recently so ya better get your dance on while you can.;This place was short at least two bartenders. Waited 20+ minutes just to order a drink. Won\\'t be going back any time soon.;I used to go there when i was heading to other clubs in the same general area back in the 80s and 90s when I lived in DC and Va.;(Translated by Google) Strong drinks .... heyyyy!\\n\\n(Original)\\nStrong drinks....heyyyy!;Loved the food and libations. The renovations on the inside are upscale. Not handicap accessible to the Rest rooms on the second floor.;Good place to eat. Great people.;Excellent salmon with shrimp and calamari.;Nice food.;Nice and clean;Excellent venue\\nBackdrop of the Capitol\\nA Capitpol  Experience;Awesome view. Great place for a corporate event during the summer.;Beautiful views and location. The food was really good too. It\\'s a rooftop and is an amazing venue with great service and food.;I was here for a conference dinner on the rooftop. The food was lackluster and ran out multiple times. the event was by reservation only so it was not as if Capitol View had no idea on how many patrons to expect. The two bars that were on the rooftop were cash only and hard to navigate towards. The bathrooms were also located a fair distance away. After a bit of socializing (like an hour), many of my peers decided to go to another venue.;Beautiful rooftop location provides lovely views of the Capitol in all its glory.;Spectacular views. Great venue;Beautiful place.;nice  for venues;Layla Lounge is the place to be. Open space, cool atmosphere, what\\'s not to love. I was here on Monday for Munchies Monday. We play cannabis bingo and have a great time.;Always 420 events, great atmosphere;I went for a very disorganized event... So this may be somewhat biased... But the venue was kind of dark, nothing looked new or modern, upstairs and downstairs are not that big, weird location.;This place was horrible. The advertised open bar and buffet never happened despite paying a fee. Straight up scam club. Avoid at all cost!;Need a extra floor wider space for venue...;Awesome vibes;To hood for me 😮😔😔;Loved it!;Horrible;I love Margot she\\'s the best & her staff is friendly as well . Never left this place unhappy;IBE IS THE BEST!;Lisa does a great job!;Can\\'t complain good place;Yeah splendid;Good job;(Translated by Google) Very friendly!\\n\\n(Original)\\nMuy amigable!;A bit pricey. Well stocked and staff is pleasant.;Nice store usually quick and attentive.;Expensive. Try Fairmont down the street.;Love it;There price are fair.;Staff was friendly and efficient. Work related drug test was completed in only a few minutes. There are a few parking spots next to the building but the street behind allows free parking for up to 2 hours. Plenty of neighborhood parking. Also conveniently located near the metro station.;Staff was very polite. Keep in mind the hours for Physicians is in fact different and is 9:00am to 2:45pm. Otherwise I have no complaints, great and conveniently located service.;Quick polite service!!!;Poor customer service short-term quality products reasonable price I\\'m not sure the health department will pass this place though;Nice store 4 women 2 shop 4 different items, they just don\\'t have good clothes or accessories 4 plus size women.;I went to get my daughter uniform pants and under clothes from this store. Staff was helpful, friendly and it didn\\'t take long.;Friendly Staff very Professional;Very Convenient and the staff are always helpful.Shirt and pants came from Rainbow...;Rainbow staff was very nice very curious and it\\'s very clean and neat there;Needs more space store is too crowded looks like a Little thirf store;If you are looking for a jean jacket you can find one there;Lot of stuff.Needed more store floor space;A little cluttered but nice to shop in;It was uneventful.;Been using this Ace for years never had a issue and the lady in the front is so professional  and so dedicated to what she does Ms. LaJuan I truly appreciate  people like you that love what they do and do it professionally thank you;Lajuan very good employee;The clerks are nice but most of the customers are rude and nasty.;Very helpful and supportive;Lajuan the best;Getting paid two days early with direct deposit. Plus able to use my card anywhere for any transactions...;Smelled like a sewer and it was dirty;The lines be extra long customer services decent;Good customer service ...;One of the rudest places I have ever been in won\\'t go in anymore.they never have more than one person working.I have never met a staff member that wasn\\'t nasty and rude if u can do your business elsewhere please do.I give this place 000000 stars.;The employees were very friendly;Great service and location. After work can be busy but the line move somewhat quickly try to get there as close to 5 as you can, the closer to 6 p.m. the more likely there\\'s usually at least 5 people waiting. Saturday morning when they open at 11 is also a great time to come. I prefer this location over the u Street location because of the technicians.;First time client and she did an amazing job and listened to my needs. While it is $15 for eyebrows which is more expensive than my usual spots I will be returning. It\\'s convenient, right by work so I don\\'t have to compromise time with my husband and kids on the weekend.;My eyebrows are always on point after leaving the shop. I love my Threader. She\\'s friendly, professional and has an eye for perfection!;Excellent service. Rarely have to wait; when I do, the wait is short. Price is reasonable.;Good local place in dc for eyebrow threading, although it’s a bit dirty walking there, underneath the stairs in the basement .;I had to come back twice and the service wasn\\'t that good.;The food tasted great once it was prepared. We always get the stuffed crust cheese pizza and wings. There seems to be an error with the app. Our order was placed at 602pm and still not ready an hour later at 702pm when the \\'track my order\\' feature stated my food had been \\'picked up\\'. The employees seemed to be stressed on this particular Friday night and the female in the front making pizzas with her pants half way down seemed to not be in the best spirits but still trying to get everyone\\'s orders out the door.\\nOur order was not complete with the sides so you may have to remind them but you will get great tasting food.;I usually order from the 11th street store and am happy with their pizza tonight however I tried to order their $10 special of two large two topping pizza for takeout online.Their site would only let me order one pizza and wouldn\\'t let order the second.After multiple attempts online I called the store to order the \"special\" .The woman t as king my order said ok and repeated the order back to me, and told me it would be 20 minutes until the oder was ready. I get to the store and she rings my oder up and tells me it\\'s now $27 and change. I\\'m like \"that\\'s not what t was listed online and what\\'s the problem\"? She tells me there\\'s tax and I\\'m saying \"Not $12 or more in tax\"! Then she says ,\"well that\\'s the online special and you called the order in\". I\\'m now explaining I\\'ve called in orders before and that\\'s never been a problem, then she goes on to say \"well our policy has changed\" ! So a few more seconds of conversation goes nowhere and now I\\'m angry AND hungry so I  pay for the pizzas and leave.  Papa John\\'s has just lost another customer an now get home to find out there\\'s little bacon on my chicken  and bacon pizza. All in all a frustrating and disappointing experience!;Ordered a pizza at 6:30. Was told it would take an hour. Driver showed up at 7:47. By the time I read the box and saw that it was someone else\\'s pizza, she had driven off. I called the store and they said they would send her back. It has now been 30 more minutes, nearly 2 hours since I ordered, and when I called the driver 10 minutes ago all she would say was she was \"on her way.\"\\n\\nNever again.;Good pizza, maybe theres street parking out front.;They are so unsanitary.. I went to pickup my order. Paid the cashier.  This same cashier (without  washing his hands) then proceed to knead the pizza doe.. My response.. please refund me and thank you.. goodbye;Pizza was good, delivery was ok;The pizza  is great 🍕!;Good Pizza Too legit;Took order on app, charged card, said was delivered via app, said it was almost delivered via phone...on hold 20 minutes and then hung up...WORST, WORST service and customer service of any pizza chain or delivery service in DC.  Don\\'t wast time or money.;Add 30 minutes minimum  to the time they say your food will be ready;Delivery took twice as long as it was promised to.;It\\'s  Papa John\\'s. It\\'s pizza.;Accountable;Always an amazing time here. The staff is incredibly timely and attentive when appropriate. Brent, the owner and sommelier, is so friendly and responsive.\\n\\nI sent an email this morning asking to clarify reservations, Brent answered before the restaurant opened with a full and complete answer.\\n\\nFor reference, it is walk in as long as you are not booking out the inside.\\n\\nThe wines are hand picked, always different, and always incredible.\\n\\nThe food is good, but this is not somewhere that you are going to have a full meal. It is a fun hang out spot, with great music.\\n\\nAll photo credits go to @girlavalon;We ordered a reasonably-priced bottle of wine that turned out to be unavailable, so staff served us a comparable bottle that was twice the price without letting us know. Service was OK.;Love this wine bar! An excellent selection and great service. They have patio and indoor seating.;Good selection of wine. Interesting concepts. Great knowledgeable staff. Doing well with keeping people safe but can’t wait to see at full capacity.;Very friendly staff. Really appreciate being able to sit out on the sidewalk. We ordered a variety of wines and a few appetizers. Enjoyed the variety and quality of the food and drinks available. Great spot to stop in before having dinner any any of the nearby restaurants.;Terrible service but great location;PROFITEER WARNING for most pet owners, man\\'s best friend is another member of the family and deserves the best care, but you need to be alert to profiteers, some of the veterinarians at this place are out to make an extra buck, they pad the bill with unnecessary tests and procedures. Speaking from experience, I suggest you approach this otherwise excellent veterinary clinic with caution  -- never hurts to question your doctor so why not your dog or cat\\'s.;Dr Murdoch is very capable, compassionate, and communicates clearly recommendations and options. My Buddy cat is recovering very quickly from an urgent procedure. Everyone else I encountered was professional and helpful.;In the first few years that this clinic opened, I had to put down my cat. I went there because it was close and I could see how they handled me and my pet.  They gave him the ultimate dose before telling me that this would be it!  So I had no chance to say good-bye to him or pet him!  I was really upset.\\n\\nToday, 2016, I needed their cooperation to work with another vet\\'s office to get some pain medication today for my new cat who has cancer.  I called three times in the a.m. and never got a response.  It just went to voice mail and no one ever bothered to call me back.\\n\\nI\\'d like to say something good about this clinic, but with these experiences, I simply cannot.   They do not exhibit the sensitivity and care that I would and should expect from any veterinary clinic.;This place misrepresented itself, and made untruthful statements both verbally and in writing.\\n\\nThe practice manager, Richard Cohen, admitted that his wife and friends work at Friendship Hospital for Animals, which negligently/maliciously gave my cat dog medication and caused him to suffer. My cat had to be put to sleep as a result of the negligence of Friendship Hospital for Animals.\\n\\nFriendship Hospital for Animals was under investigation for animal abuse/cruelty and Dupont Veterinary Clinic provided Friendship Hospital my cat\\'s clinical records without my authorization, despite the fact that they initially claimed that it was good that Friendship is being investigated for animal cruelty and promised not to provide my cat\\'s clinical records. Dupont\\'s agents were aware that I attended Friendship Hospital with the police in order to retrieve my cat and they were instructed not to provide any information to Friendship. Dupont claimed that they have no relationship with Friendship, yet the practice manager later admits to his ties to Friendship.\\n\\nThe unlawful conduct of Dupont should be addressed.;Great place although a bit expensive. However they outlined the cost every step of the way and Dr. Dan was fantastic!;Outside of the parking aspect, a great place to take your pets if you want quality care!;Alley has some very useful spaces which I\\'ve been to several times. The startup I\\'m with used it when we needed a conference room and they had a bigger space for a large meetup presentation I attended. They take your photograph when you first use the space and have a coffee, tea, and various kitchenware for general use.;It\\'s a great co working space but the bathroom needs an upgrade.;Nice place to co-working!;Small Business Project for DC Public School children  Thanks Verizon;Friendly staff;I had a very nice experience at this Hertz rental office.\\nService was efficient (despite a slow computer).\\nI asked to change my car as it was a three door car and the tank was half empty, and that was done immediately.\\nI wish to thank the local branch manager, Megan, who was very kind and efficient!;I had to rent a car a number of times these last few months and have gone to several different locations, including with other companies.  I appreciate the customer service here, especially Tyler.  On a previous rental, when I got lost, he help me navigate to their location.  I was dealing with a serious medical emergency  regarding a parent about a hour away and needed to get back my rental.  Tyler was kind to say that I can stay at the hospital and get the car back as soon as the emergency was settled. If you have ever had a number of things go wrong at once and someone makes one of those things better, it means the world.\\nI read some of the other reviews here, for example, when people have to wait for the reps at the desk, yes that can be frustrating. But the reps take you down the elevator to the garage and help you find your rental.  Its is a large hotel location, it can take time.  My rental has smelled a little of smoke in the past, I just rolled the window down for 10 minutes and it was fine.  I do not smoke but we live in DC and I am not sure how the reps would prevent people from smoking in the cars while using them.\\nI have paid extra in rental just to rent at this location because the reps are very nice, the cars are consistently in great shape and the location is near Dupont metro (for heading to and from the rental), I recommend this Hertz.;You have to walk back through the Hilton lobby to find the small desk. They got me in and out pretty quick. It was an easy experience, and much more convenient than going to DCA if you live on the red line. The car was nice and clean. I would go back.;Megan is awesome. Perfect service;We had a good experience overall but didn\\'t get the exact model we reserved. Customer service was good (helpful and informative).;Fabulous customer service great location;Friendly, convenient.;Horrible service. Trying to drop off the keys but no one is here! Also the key they gave me for the car malfunctioned the entire time! Save yourself some time and hire a car somewhere else.;Very little time,  and explained my results perfectly;Quick, painless, diagnostic that\\'s more useful than a doctor\\'s visit. Actionable intelligence in the fight against obesity, the results were explained expertly by a knowledgeable technician. Thanks Ivana.;Really like this place! I\\'ve gotten 3 DEXA scans there and they\\'ve been extremely helpful in explaining my results, explaining my progress, and being flexible should I need to reschedule. Cannot recommend enough.;I did the DEXA Scan with Mitch. Very informative, quick, easy. Mitch answered all my questions and was very knowledgeable;Parking is tough (watch out for street cleaning, $45 ticket) but the quality of Composition ID\\'s service is very good. Staff is well informed in what they\\'re doing and the environment of the office is clean .;The scheduling was really easy. I\\'ve completed many body composition tests in the past (calipers, bod pod), but Dexa scans are the clear winner. Didn\\'t have to get undressed. It was quick, and the in depth reporting was great!;Best place to get a DEXA scan and the staff is very professional and friendly. Also, they offer RMR and VO2Max in addition to nutrition counseling.;Good experience, helpful staff.;The food🍲 is delicious😋😋😋😋😋😋😋😋😋😋😋 good customer service all the staff... In special.. Mr. Alex.. Great place....!!;Morazan has warm staff, fair prices, and fresh foods. In addition to normal groceries they have delicious prepared foods including tamales. Highly recommend if you are in the area.;Store is pretty good for being a local store. It has a lot of variety in this store. From fresh vegetables, different kinds of spices, and a food stand. Would absolutely recommend this to a friend.;Good Mexican/C. American grocery store, very convenient for the neighborhood.;Small store whit diferent produts, they serving cooked food to.;My favorite community store... Love this store;Great local \"ethnic\" market.;Nice clean convinience store;Good food.;nice lace 2 shop at;fresh fruit;(Translated by Google) Very good\\n\\n(Original)\\nMuy bueno;(Translated by Google) Warm place very nice good service and you find everything\\n\\n(Original)\\nCalida lugar muy vonito buen servicio y encuentras de todo;(Translated by Google) They have a wide variety of national and international products, a good variety of prepared foods and good customer service.\\n\\n(Original)\\nTienen gran variedad de productos nacionales e internacionales buena variedad de alimentos preparados y buena atención al público;(Translated by Google) Good food !\\n\\n(Original)\\nBuena comida !;(Translated by Google) Ok thanks for it\\'s good food\\n\\n(Original)\\nOk gracias por que es buena comida;(Translated by Google) They have a variety of Latin products😎\\n\\n(Original)\\nTienen variedad de productos latinos😎;(Translated by Google) Good place to shop\\n\\n(Original)\\nBuen lugar para comprar;👍👍👍👍👍;Lots of unnecessary fire alarms, and rats!\\n\\nBut still like it because of the kitchen, which is a good side for all the Muslim students who only eats halal!;I actually stay in Towers East but since West is pretty much the same, it\\'s arguably the best dorm on Howard campus;One of the better dorms on campus, but it still has its ups and down;Outside parking is nearly non existant,  plan accordingly.;Moving my son in for his sophomore year at Howard University.;HU forever always will be home;Convenient place to live in DC;The Dorms;Not to bad;WARNING: LIMITED PAY PARKING might be an issue as there is every imaginable establishment in the neighborhood ranging from coffee shops and a wide range of restaurants to a hardware store and shoe repair shop so parking might not be available.;My favorite laundromat;sweet;(Translated by Google) This place is good but it must improve because there are many bad machines ....\\nThis place I\\'m mine is good but can make better because have aloft machine bad ....\\n\\n(Original)\\nEste lugar es bueno pero debe mejorar   por que hay muchas maquinas  malas ....\\nThis  place  I\\'m mine  is good   but can make better  because  have   aloft  machine bad....;(Translated by Google) It has comfort but it is not the best in the area.\\n\\n(Original)\\nTiene comodidad pero no es la mejor del area.;Got my boyfriend a cut while on vacation. Everyone was very friendly and welcoming. They did a great job on his hair too. It is a black barbershop with no problem cutting white hair;A place where guys chat about sports & politics as well as getting groomed .;Very nice shop. Very professional;Love this shop go every Thursday go place to talk sports and you will get a great cut;Great service and attention to detail!;I went over there Tuesday;They are very fast;Staff and customers all very chill and friendly, classic neighborhood barbershop.;Black Excellence...;I\\'ve been to the Banfield in SW and was always treated as a valued customer, and my cats were always well-cared for. The same cannot be said of this location.\\n\\nAt this point we\\'ve visited twice. The first time we came, we were not informed of their \"dropoff only\" policy, and it was raining. We and our cats were left outside in the rain for 10 minutes before they came and brought them in. They tried to make up for that with a complimentary nail trim, which was nice so we thought we\\'d give them another chance.\\n\\nThe second time, we dropped them off for a teeth cleaning today. We were told they could not eat 12 hours before; that\\'d we\\'d receive a call from the vet in the afternoon informing us of their progress; and that we could expect to pick them up around 3-4pm.\\n\\n5 o\\'clock rolled around, and we\\'d heard nothing all day. We called the office and were told the cats were still under treatment and that we could expect to hear from them before the office closed at 6.\\n\\n6 o\\'clock rolled around and we heard nothing. We called back and were told that one of the cats was still under care. At this point, knowing my cats likely hadn\\'t been fed all day, I asked what exactly the vet had been doing with my cats given we had dropped them off almost 12 hours prior to this call. The representative said that Dr. Joseph Ianniello - the vet overseeing the procedures - had likely shifted our cats\\' appointments around depending on the different walk-ins and drop-offs of the day. At no point were we ever updated on this, and at no point did the doctor seem to care that two hungry cats might deserve to be treated at their allotted times so they wouldn\\'t have to go 24 hours without food unnecessarily.\\n\\nWhen it\\'s all boiled down, the simple fact was that expectations were set and not met: we were told our cats had a morning appointment (their procedure didn\\'t start until at least 5pm); we were told we\\'d get a call from the vet (he skipped out and never called us before ending his shift. Thanks Dr. Ianniello!!); we were told we\\'d pick our cats up between 3-4pm (we just got home at 7pm).\\n\\nIf you can\\'t meet expectations that YOU set, don\\'t set them. Period. We will be calling tomorrow (since none of the doctors were available to speak with us) to cancel our wellness plan with them. \"Wellness\" implies they care for your pets, when it\\'s clear from this recent experience that your pet is nothing but a number and a fat wad of cash to them.;They took really good care of my lil Fella;The personnel is awesome.  Mr. Cook gave exceptional customer service.;Love that they really keep you informed. The vet spoke w/me after seeing my dogs and was more thorough than any vet I\\'d seen before in the DMV (City Paws & Takoma vet clinic, to be exact.)\\nDr. McFarland and Ulysses, plus a young woman whose name I regretfully did not catch helped me and my dog that day. They were wonderful.;My best pal, Mick Jagger goes there. I couldn\\'t be happier. The level of care and the in depth exams are a plus. Their health plans are awesome. Their professionalism goes above and beyond.  I couldn\\'t recommend them more. They are just awesome;Very happy with how they took care of my cat;I brought my dog in for an examine; glad I did! My dog\\'s behavior said it all! I\\'m loyal forever!;Took my new puppy here and had a great experience! Other vets in the area seemed like they were always trying to upsell but Banfield put him on a comprehensive insurance plan that covers unlimited office visits so I don’t worry about being “sold” services I don’t need. I will be bringing my cat here from now on too!;Amazing staff. And love for my pup!;Although my 1y/o Daisy the pug is a patient at the Navy Yard location, Adams Morgan staff welcomed her there for a nail clipping. Everyone there were nice & gentle handling her and like NavyYard techs nicknamed her \"Crazy Daisy\" which that is what she is 🥰;I called and was put on hold for ten minutes. Called back and they picked up the phone and hung up. Whoever worked the counter at 1:30 on 9/29/2020 isn’t good at answering phones.;Amazing compassionate professional;Very happy with Banfield Pet Hospital. My hysterical cat, experiencing his 2nd vet visit, was calmed by the doctor and even allowed her to clip his claws.;Excelent place for your dog;(Translated by Google) Good attention\\n\\n(Original)\\nBuena atención;Behind George Washington Monument. Slightly out of light. Cooler area in shade of trees. Enjoyable !;Kinda confused as to whether or not the theater is being used. It was fenced in during my last visit on 9.22.18. however, the stage and surrounding building\\'s are in good shape and up keep.;Worthwhile;Great musical performances;Great musical;Free;One stop shop for wax and brow threading. I love coming here. They slay my brows EVERY TIME. My come out feeling like a brand new woman! Highly recommended.;This was my first time getting a Brazilian wax and the technicians made me feel extremely comfortable. They worked quickly and gave me clear instructions for after care. I will definitely return.;A++++ service here. I have become a regular client;I\\'m torn. I have had my eyelashes and eyebrows tinted, and well as brows threaded, at silky smooth several times. The first few times, I was pleased and actually felt the services were better than high end salons that provide the same services. However, the past few times the services have been inconsistent and highly dependent on the individual providing the services. Unevenly colored brows. Bluntly ended brows. Lashes that are not anywhere black. I definitely don\\'t go out of my way to come here anymore and often find myself nearby, needing tinting, and still not stopping in.;My favorite place to get my brows done. They always have a spot without any reservations, they are fast and good price. I always leave happy with my perfect brows. I don\\'t have any preference, always go with whoever is available and never left disappointed. Highly recommend!;I have been a customer for over a year, having eyebrow tinting and brow threading.  I recently added facial waxing.  I had a tinting of the brow the 24th of December and noticed that the dye was FADING rather quickly, within 4 days the gray hair was back and on the 9ith day following the service I went back to the salon for them to correct.  I expected the correction to  be quick but I found A CALL TO THE OWNER was needed and I was told that if I wanted a correction it SHOULD HAVE BEEN TWO DAYS from the time of a tinting.  TINTING LAST BETWEEN 4to6 WEEKS!!!  I was tinted quickly without  paying for the service again.  I WAS VERY DISAPPOINTED WITH THIS BEHAVIOR and WILL RE-THINK using this salon again.  THIS IS NOT HOW TO TREAT A LOYAL CUSTOMER!;Wonderful staff and great COVID precautions taken!;The owner of the place texted me, harassing me.\\n\\nI went to Silky Smooth DC. It was the first day of  woman who was threading me and she was just trying to make conversation. She asked me about me and so I reciprocated. I found out that she\\'s been in the States for 4 years and has an 8 year old daughter. The remainder of her family husband and mother are back in Nepal and she\\'s collecting money to sponsor them to come here. She makes very little money lives off of tips cannot afford to really live in a place by herself so rents a room in somebody else\\'s house for herself and daughter.;They took me as a walk in and I was out after a threading in less than 15 mins! The staff is extremely professional and the business is very clean and nice. They even have all sorts of charges located in the waiting area which was a nice surprise.;I was pleased with the service I received. It’s a nice clean shop with wonderful customer service. I will be returning to get my eyebrows threaded again!!!;I have been there twice for my eyebrows and was totally satisfied. I would recommend Silky Smooth to anyone looking for pampering herself. The owner is friendly and the atmosphere is clean.;Best threading shop in DC... Customer service is always top notch and Krishna does the best job on my uneven eyebrows.;Silky is my go-to gal for hair removal. She really knows what she is doing, very thorough while being comforting.;Friendly staff and relaxing atmosphere. They do a great job!;Be your best..😍;I write this review as a current member of the City Tavern Club.  I very much have enjoyed my time at CTC so far - I\\'ve had the opportunity to meet a diverse, accomplished group of members and received a warm welcome from the membership.  The club offers varied activities, ranging from interesting book talks and lectures to more social events like wine tastings and seasonal parties.  The food and wine selection is fabulous.  The building itself, c. 1796, is extremely well maintained and well-appointed with beautiful furniture and decoration on its seemingly endless floors.  The club is a lovely place to host your next get together or party and can handle events of all sizes and types.  Heather and staff are the stars of the show, creating beautiful events that run the gamut.  I\\'m thrilled to have found my home away from home in Georgetown.;We held a birthday party for my mother-in-law at the club. The staff, food, and accommodations were perfect for the occasion. What an amazing opportunity to experience American history with great food. I plan to host more parties at this venue.;Beautiful space for a party. Great staff;Decent Italian place. Good food, good service. Better than popular Italian place across the street \"tomate\". This is the real deal. For some reason, the atmosphere and staff reminded me of the movie \"The Big Night\". Check it out if you are in the area and want good italian food.;Love this place. The nicest bartenders and the strongest drinks. Well worth a visit. Tegar is a real great guy.;This is a great place with a friendly staff and good food;Great paella! Good spot for a date.;Quick eats, not too expensive;Food was mediocre. It was dead on a Saturday night which should have said something. Service was slow.;Food and service, excellent;Amazing tapas and friendly atmosphere!;Disappointed with the food and the prices were just ridiculous for tapas.;(Translated by Google) Honestly, white potatoes do not come close to the true flavor, the other tapas nothing out of the ordinary ... I would not return. Without being very demanding, it is not a place where I can feel myself eating real Spanish food, although I understand that the ingredients may not have the quality of Mediterranean food. Something more of flavor and quality could be expected.\\n\\n(Original)\\nHonestamente las patatas bravas ni se acercan al verdadero sabor, las otras tapas nada fuera de lo comun...no volvería. Sin ser muy exigente no es un lugar donde pueda sentirme comiendo verdadera comida Española aunque entiendo que los ingredientes podrían no tener la calidad de la comida mediterránea podrían esperarse algo más de sabor y calidad.;The staff was very friendly! The Braider JO is absolutely amazing on THE SLAYYY as always!;No just a braiding salon they do all types of hair with bomb results;Loved it VERY professional and the Ladies can do some HAIR!!!😊;Went for trim. The shampoo is amazing but blowing out the hair was a bit rough. I have natural hair and it can hurt my hair when combining from the roots. She didnt cut too much of my hair so I am happy with that.;I went in a lil nervous because of how damaged my hair is. The owner Dominique hooked me up. I walked out feeling like a new woman. I never had my hair cut so low but I like it. The staff is friendly and works with a sense of urgency. The shampoo girl is really cool I love the music and different Quotes all around the shop. I will be returning soon. I had a great experience;Kim is the only person my friend goes to, shes the best. I\\'ve seen her do her styling & she never disappoints;Very dirty there they talking about you in their own language  they charge you too much money;I was a first time client, my appointment was set for 11:00am and I didn\\'t leave there until 5:00pm.;Professional, courteous and knowledgeable. Ask for Tamira;Gotta get back here.  These ladies rock!;Kia the best and the staff;Flossie my stylist bomb;Enjoyed my visit thanks to Kerry;Ok..had a few cool items;Close and convenient plus the staff is super Lit;Love the prices, just not alot of kids shoes to choose from;They had nothing I needed, and I felt like one of the workers was high;Nice store and very pricey;Nice variety of shoes for the family!;$30 for a snap back •••\\nGo ahead and close your stores..;Prices are too high, even the sales aren\\'t worth it;They had what my son was looking for;Terrible selection\\nNeed more brands of shoes;Love it;Nice;Go to spot for sneakers on sale;shoes are great....sometimes the prices are expensive.;Even after walking by Micho\\'s for the last three years, I\\'ve never been tempted to go in until I saw the 4 star rating on Yelp. So, my Monday night dinner buddy and I went here for some good old fast casual Lebanese food. It was a decent experience, but we won\\'t be back.\\n\\nThe atmosphere is like most fast casual restaurants with plenty of seating. You can build your own kabob or you can order one they make for you. I had the chicken kabob and it was okay. It has french fries inside, but it lacked significant flavor. Same goes for my baklava ($1.50 for a TINY piece). My buddy got the shawarma, which lacked flavor. He had to order an extra dip to give it some taste to it.\\n\\nAll in all it wasn\\'t the worst experience, but we won\\'t be back.;I got a delicious chicken shawarma from this restaurant. I would love to come again. Also, I received a special respect from the staff.;Great food ! Authentic# good service but if you in the evening only one person, so there will be a line;I love to get my veggie fix on their very large platter of falafel roasted veggies. It is a favorful meal in a casual atmosphere.;This place is the best place to try the middle eastern or the arabic food, Shawarma, Falafel, Kabob so great.\\nThey really deserve 7 stars. They are really professional.\\nVery friendly, and nice team.\\nI love to go there and hope the best for them.;Well seasoned meats with good grill flavor. Best freakin\\' fries on H St NE.;Decent quick schwarma. Nice people.;Hey guys if you want to enjoy a good taste food this is the place for you;Great service and the food is tasty;Good food and service;The owner and chef are the best!\"'"
            ]
          },
          "execution_count": 50,
          "metadata": {},
          "output_type": "execute_result"
        }
      ],
      "source": [
        "prompt"
      ]
    },
    {
      "cell_type": "markdown",
      "metadata": {
        "id": "LqTdIvWGH7Mv"
      },
      "source": [
        "You should have a much longer dictionary, with many more menu items now!\n",
        "\n",
        "You may have noticed if you called the API multiple times that each call yielded a different result. This is due to the inherent randomness in the model's predictions.\n",
        "\n",
        "Let's investigate the sources of randomness a little bit here.\n",
        "\n",
        "In the cell below, generate a second summary of the reviews and store it in the variable ```response_as_dict2```.\n",
        "\n",
        "This time, add in as a parameter to ```openai.ChatCompletion.create``` the variable ```temperature```. In general, ```temperature``` should be between 0 and 2, with 0 being the least amount of randomness and 2 being the greatest amount of randomness. Choose a temperature of 1.1 and see what the output looks like. (Hint: If the output cannot be interpreted as a dictionary, try running it again, or change the prompt!)\n",
        "\n"
      ]
    },
    {
      "cell_type": "code",
      "execution_count": 73,
      "metadata": {
        "colab": {
          "base_uri": "https://localhost:8080/"
        },
        "id": "FcsS4s1AOfRH",
        "outputId": "969b940e-8c31-44d6-d8e8-84825518f9f0"
      },
      "outputs": [
        {
          "name": "stdout",
          "output_type": "stream",
          "text": [
            "0 300\n",
            "300 600\n",
            "600 900\n",
            "900 1200\n"
          ]
        }
      ],
      "source": [
        "response_dict_list  = []\n",
        "for i in range(0,1000,300):\n",
        "  print(i,i+300)\n",
        "  reviews = \" \".join(local_df.loc[i:i+100,'text'].to_list())\n",
        "  system_prompt = f'You are an restaurant review writer whose job it is to help \\\n",
        "               people find good menu items. You will return responses is json \\\n",
        "                dictionary format only'\n",
        "\n",
        "  prompt =  f'The following text is a list of restaurant reviews seperated by . \\\n",
        "        For each unique menu item mentioned, give a summary of \\\n",
        "        the user reviews for that menu item. \\\n",
        "        Return the output in the form of a json dictionary, \\\n",
        "        where the keys are unique menu items \\\n",
        "        and the values are the list of all summarys for that item. : \"{reviews}\"'\n",
        "        # Generate response\n",
        "  messages=[{'role': 'system', 'content': f\"{system_prompt}\"}, {'role': 'user', 'content': f\"{prompt}\"}]\n",
        "  response = openai.ChatCompletion.create(model=\"gpt-3.5-turbo\",messages=messages, temperature =1.1)\n",
        "  response_as_dict = ast.literal_eval(response['choices'][0][\"message\"][\"content\"])\n",
        "  response_dict_list.append(response_as_dict)\n"
      ]
    },
    {
      "cell_type": "code",
      "execution_count": 74,
      "metadata": {
        "colab": {
          "base_uri": "https://localhost:8080/"
        },
        "id": "AOhVieecOvdG",
        "outputId": "deb32e3a-6640-40aa-ba27-e3efafce8d9b"
      },
      "outputs": [
        {
          "name": "stdout",
          "output_type": "stream",
          "text": [
            "{'Conte’s': ['What initially drove me to Conte’s was the simple fact they were '\n",
            "             'open during their posted hours. Easy enough, right? Well, I’ve '\n",
            "             'been going ever since and recommend them as often as able.\\n'\n",
            "             '\\n'\n",
            "             'This latest visit was for a Spring tune-up and the funny thing '\n",
            "             'is how I seemingly brought in a Corolla and got back a Supra. '\n",
            "             'Clearly all maintenance boxes were checked off but what shocked '\n",
            "             'me was how clean they got it. Riding a white bike shows just '\n",
            "             'about everything and this isn’t just the frame but the '\n",
            "             'handlebars too. SPOTLESS This said, it’s well worth the cost and '\n",
            "             'time away from your personal if you’re on the fence…\\n'\n",
            "             '\\n'\n",
            "             '“Conte’s Logan Circle”:\\n'\n",
            "             '1. Staff is welcoming and knowledgeable.\\n'\n",
            "             '2. Service prices are competitive.\\n'\n",
            "             '3. Overall experience is unmatched.\\n'\n",
            "             '\\n'\n",
            "             'There are a few bike shops in the area, each with their bells '\n",
            "             'and whistles, but you will not get the same customer service nor '\n",
            "             'service quality than you will at Conte’s off Q. Nice place. The '\n",
            "             'team there was helpful and and the service was affordable. They '\n",
            "             'got my bike back in action in just a few minutes. Thank you!',\n",
            "             'Sales personnel were on point. Customer service was exceptional. '\n",
            "             'This is the place to go for your needs.',\n",
            "             'Great honest local business - highly recommend!',\n",
            "             'I was missing just one bolt on my front derailleur, I figured '\n",
            "             'the minimum charge to replace it would be north of $30. I was '\n",
            "             'pleasantly surprised to be charged only $3.',\n",
            "             'Got some brakes bled, quick turn over great customer service',\n",
            "             'Been going to this location for years and even know the company '\n",
            "             'has changed, the customer service and bike service is still the '\n",
            "             'best in DC',\n",
            "             'Friendly and knowledgable team. Great service. Quick turnaround. '\n",
            "             'Bike running smoother than ever.',\n",
            "             'I also asked them about upgrading my wheel set and they came '\n",
            "             'back with the perfect recommendation. They will be my go-to shop '\n",
            "             'for service and parts going forward. Thanks!',\n",
            "             'These guys have been taking care of my bikes for years and are '\n",
            "             \"so consistently reliable, honest, and fast, I wouldn't go \"\n",
            "             'anywhere else! A rare gem of a DC bike shop that will offer to '\n",
            "             'assist with e-scooters. My disk break needed adjustment, and '\n",
            "             'after contacting about 6 local bike shops, this was the only one '\n",
            "             'that would even consider helping. And, they tuned my scooter '\n",
            "             'break perfectly. Quick, affordable service! Can’t really ask for '\n",
            "             'much more than that.',\n",
            "             'Excellent service, came for a small fix, they were quick and '\n",
            "             'picked up a few other necessary adjustments. Found a broken '\n",
            "             \"casette that 'Bicycle Pro Shop' missed multiple times.\",\n",
            "             'Excellent',\n",
            "             'Fun'],\n",
            " 'Exxon': ['Jamie and the team are top notch professionals who proactively '\n",
            "           \"address any and all car issues you may encounter. Couldn't \"\n",
            "           'recommend them more',\n",
            "           'Jamie was great the manager when I was unloading the Volvo. He was '\n",
            "           'able to assist.',\n",
            "           'I pulled into Exxon Friday afternoon following Thanksgiving with a '\n",
            "           'punctured tire and an urgent need for my car on Sunday. It '\n",
            "           \"required an order for a tire they didn't have on hand over a \"\n",
            "           'holiday weekend. Less than 24 hours elapsed and I drove home with '\n",
            "           'a new tire at a reasonable price; again, on a holiday weekend. '\n",
            "           'They really delivered. I have used them multiple times over many '\n",
            "           'years. Great experience. Staff greats me imediattly does quick '\n",
            "           'diagnostic tells me the price and gets it done between 15 minutes '\n",
            "           'and 24 hours. Prices are reasonable.',\n",
            "           'Replaced a flat tire. Professional, prompt, and fairly priced.',\n",
            "           'Fast, affordable service. Got me back on the road in less than 20 '\n",
            "           'minutes.'],\n",
            " 'Francis A. Gregory Library': ['Not just your average library goers will '\n",
            "                                \"stumble in Francis A. Gregory Library. Don't \"\n",
            "                                'be surprised if you see photographers and '\n",
            "                                'design snobs there ignoring the books and '\n",
            "                                'looking up at the ceiling.',\n",
            "                                'This library may be the very best in DC! Free '\n",
            "                                'wifi & the upper level is exclusively for '\n",
            "                                'kids, including a learning area for small '\n",
            "                                'children.'],\n",
            " 'Jocelyn market': ['Great local market. Has everything you need to make Latin '\n",
            "                    'dishes as well as all the regular \"American\" items as '\n",
            "                    'well.',\n",
            "                    'Prices are good, staff are friendly, and normally has '\n",
            "                    'most things you might need.'],\n",
            " 'Mu Mustard Seed': ['Nice to visit'],\n",
            " 'Mustard Seed': ['Mustard Seed is a wonderful and relaxing massage place. '\n",
            "                  'Prices are up there, but the massage justifies the price. '\n",
            "                  'My masseuse is Caleb, who is thoughtful and carefully '\n",
            "                  'addresses troubled areas for maximum results after a '\n",
            "                  'massage. The attention to detail has been great. I’ve yet '\n",
            "                  'to try the other therapists yet, but I’ve heard great '\n",
            "                  'things too. Thank you, Caleb, for your hard work helping me '\n",
            "                  'fix my lower back issues!',\n",
            "                  'Not a good massage. Barely worked anything, not a relaxing '\n",
            "                  \"atmosphere, room was cold, bright, and loud. Worst I've \"\n",
            "                  'gotten.',\n",
            "                  'This was an amazing place to go to for a massage 💆\\u200d♂️. '\n",
            "                  'The person who gave me a massage got all of my knots out. '\n",
            "                  'Michelle was amazing. She has unique knowledge of anatomy '\n",
            "                  'amd physiology. I cant believe how good i feel. Best '\n",
            "                  'massage ever I want to marry Terrance! He was so '\n",
            "                  'professional and accommodating. Best massage ever. Well '\n",
            "                  'priced and the masseuse was pretty good. I would go again. '\n",
            "                  'I have not felt better I walked out of there walking on '\n",
            "                  'cloud 10000000 i will be back thank you!!!!!!',\n",
            "                  'We took our teen for a consult on wisdom teeth removal. The '\n",
            "                  'surgery coordinator, Francisco, was prepared when we walked '\n",
            "                  'into the room. He had the x-rays from our family dentist up '\n",
            "                  'on the monitor and clearly explained everything so that our '\n",
            "                  'teen understood what would transpire on his next visit. Dr. '\n",
            "                  'Park was thorough and friendly. We have confidence moving '\n",
            "                  'forward with the procedure. The office also had all of the '\n",
            "                  'preoperative and postoperative medications already called '\n",
            "                  \"into the pharmacy even though the surgery isn't for 2 \"\n",
            "                  'weeks. I went early in the morning for wisdom teeth '\n",
            "                  'removed. Staff is very nice and very welcoming. Highly '\n",
            "                  'recommend 👍🏽',\n",
            "                  'Dr Kunkle has an amazing manner with patients. The staff is '\n",
            "                  'friendly and pleasant. Always a great experience! Highly '\n",
            "                  'recommend!',\n",
            "                  'Great staff, clean office and COVID safe. Dr. Kunkle '\n",
            "                  'answered all of my questions thoroughly.',\n",
            "                  'Had my wisdom teeth removed here and was very surprised '\n",
            "                  'about how nice everyone was. Dr. Park performed the '\n",
            "                  'operation and he was qualified, kind, and gentle. He even '\n",
            "                  'made sure to follow up with me personally- which blew me '\n",
            "                  'away. The whole operation and experience could not have '\n",
            "                  'gone any better.',\n",
            "                  'Went in to get all 4 of my wisdom teeth removed with Dr. '\n",
            "                  'Park who was very professional. During the day of the '\n",
            "                  'surgery everything went accordantly, surgery went smooth, '\n",
            "                  'duration was around 1 hr, surprisingly I came out without '\n",
            "                  'any significant swelling and no pain and was able to return '\n",
            "                  'to work the following day. The finance team there was great '\n",
            "                  'to work with, they took care of contacting my insurance and '\n",
            "                  'I was charged as accorded. Just want to give a special '\n",
            "                  'thanks to Dr. Park and his team for taking really good care '\n",
            "                  'of me that day, you are all awesome! Would highly recommend '\n",
            "                  'to anyone in the area.'],\n",
            " 'ball field': ['Excellent',\n",
            "                'I graduated in 1976 prior to the changes',\n",
            "                'A very nice ball field.'],\n",
            " 'barber shop': ['I was charged $30 for a quick shade/outline that took no '\n",
            "                 'more than 10 minutes, while another barber shop charged $15 '\n",
            "                 'for the same job.',\n",
            "                 'Great new space combined with great barbers.',\n",
            "                 'Got tightened up by my main man Carl. Nice quick service, '\n",
            "                 'and a variety of snacks!',\n",
            "                 'There is a master mechanic on duty who can fix almost '\n",
            "                 'anything on a car!',\n",
            "                 'Fast service. Watch for cars! Good prices :)',\n",
            "                 'Excellent service! The attendant lady at the window is such '\n",
            "                 'a beautiful soul.',\n",
            "                 'Decent gas prices. You can buy used tires and get your tire '\n",
            "                 'fix, and you can buy rims for your car or truck.'],\n",
            " \"barber's\": [\"Great talent in All the barber's there.\"],\n",
            " 'basketball court': ['Just came here to play a quick basketball game. Court '\n",
            "                      'is slightly slanted and baskets are double rimmed, but '\n",
            "                      \"other than that it's okay.\",\n",
            "                      'A nice playground with baby swings and things for older '\n",
            "                      'children, too. Could use a little TLC but does the '\n",
            "                      'job.'],\n",
            " 'busy bee tee': ['Kathy is the best, she is a professional...Good job sis '\n",
            "                  'Great eye brow waxing!',\n",
            "                  'Mediocre acrylic nail set',\n",
            "                  'The nail tech cut me from filing too hard to the point that '\n",
            "                  'my finger was bleeding then told me I was too sensitive.',\n",
            "                  'Cathy does an amazing job on my nails. I don’t want anyone '\n",
            "                  'to touch them but her!',\n",
            "                  'Recieved a pedicure and it was HORRIBLE! The nail tech was '\n",
            "                  'so speedy she forgot to clean under my toes, she attempted '\n",
            "                  'to use a grater on my feet without asking.',\n",
            "                  'My daughter likes it check you leave For myself I no longer '\n",
            "                  'come to this shop. However, for my diabetic male friend the '\n",
            "                  'nail tech did an exceptional job with his mani & pedi to '\n",
            "                  'clip the nails and remove the very rough skin. She was very '\n",
            "                  'gentle. I may give them another chance.'],\n",
            " 'church': ['This is the best church to be!!!',\n",
            "            'Okay fine',\n",
            "            'Will run you away quickly judgmental'],\n",
            " 'customer service': [\"Good customer service You guys are awesome! I'm coming \"\n",
            "                      'tomorrow again just to thank each and every one of you. '\n",
            "                      ':-)',\n",
            "                      'Quick courteous and helpful DMV Enteance on Kenilworth '\n",
            "                      'Ave its a one-way street you have to drive slowly or '\n",
            "                      'you will very easily. Building Enteance is after Mobil '\n",
            "                      'Gas station ⛽.',\n",
            "                      'Great honest local business - highly recommend!',\n",
            "                      'Fast, affordable service. Got me back on the road in '\n",
            "                      'less than 20 minutes.'],\n",
            " 'dentist': ['Lower apprehension',\n",
            "             'Quick and concise treatment',\n",
            "             'Pain-free experience',\n",
            "             'Friendly and helpful staff',\n",
            "             'Clean practice',\n",
            "             'Great dentist'],\n",
            " 'dog park': ['Top-notch dog park. Had no idea one like this existed in DC and '\n",
            "              'it is a godsend.',\n",
            "              'Great dog park! My boys had fun with the variety of dog '\n",
            "              'buddies. The big field had lots of room for rubbing.',\n",
            "              'What a great find! My friend and I decided to take our dogs for '\n",
            "              'a walk in Rock a reek Park, and we finished our walk here. '\n",
            "              \"There's lots of space for our dogs to run and get the zoomies \"\n",
            "              'out of their system. And the other dogs here seemed really '\n",
            "              'friendly as well.',\n",
            "              'Very nice little dog park. The best part is the much larger '\n",
            "              'grassy park right next to it. If there is no one playing '\n",
            "              \"soccer, it's a fantastic place for dogs to run around. Much \"\n",
            "              'larger than the actual dog park.'],\n",
            " 'fast food': ['The food is barely edible and the price is high.',\n",
            "               'The rice was uncooked and the pasta was blown, making it '\n",
            "               'difficult to eat.',\n",
            "               'The seafood pasta contained 4 mussels, but only two of them '\n",
            "               'were shells. It is a strong light. Never go.'],\n",
            " 'gelato': ['The gelato looked old and ended up having coffee.'],\n",
            " 'imaj': ['Thank you, Imaj! I came here thanks to a gift card and unlike a lot '\n",
            "          \"of the other places I've been thanks to Nift, I actually do see \"\n",
            "          'myself coming back here.',\n",
            "          'I came here for a gel manicure and they did it quickly and well.',\n",
            "          'What I love about this place is how real and honest they were '\n",
            "          'despite being a pretty busy salon.',\n",
            "          'I got my nails done by someone who seems to be a co-owner of the '\n",
            "          'place and I liked how honest she was with me about running a '\n",
            "          'business. She was super friendly the whole time and I enjoyed '\n",
            "          'talking to her, and she was a real professional with my nails as '\n",
            "          'well.',\n",
            "          'The salon is kept very clean.',\n",
            "          \"I thought my gel manicure turned out fine, but because it didn't \"\n",
            "          'turn out as well as she would like it to she comped to my entire '\n",
            "          'manicure!'],\n",
            " 'libraries': ['The libraries in the dc are doing people like myself, with no '\n",
            "               'access to a computer, a very bad disservice.',\n",
            "               'Such a great place to get all my higher education studies '\n",
            "               'completed online, and to grab a nice book also.',\n",
            "               'Not just your average library goers will stumble in Francis A. '\n",
            "               \"Gregory Library. Don't be surprised if you see photographers \"\n",
            "               'and design snobs there ignoring the books and looking up at '\n",
            "               'the ceiling.',\n",
            "               'This library may be the very best in DC! Free wifi & the upper '\n",
            "               'level is exclusively for kids, including a learning area for '\n",
            "               'small children.'],\n",
            " 'notary': ['Helpful', 'Courteous', 'Professional'],\n",
            " 'playground': ['Nice playground for children.',\n",
            "                'Not great. Pretty dirty and littered.'],\n",
            " 'post office': ['Useless. Lady told me first I needed a box for the box I was '\n",
            "                 'shipping. Then once we cleared that hurdle, it has to fit '\n",
            "                 'through her window. Which it would have. But she was not '\n",
            "                 \"willing to try. Didn't apologize, dumped me off on another \"\n",
            "                 'branch. Save your time and go to a real post office.',\n",
            "                 'Ms. Gail Sparrow is awesome. She hooked it up with the '\n",
            "                 \"secrets of how to get the cheapest rate. The hours aren't \"\n",
            "                 \"great, but that's a one woman show. You gotta respect that \"\n",
            "                 'fact...all alone with people getting upset at her for '\n",
            "                 \"something that isn't her fault. Be nice to her.\",\n",
            "                 'Almost every visit over the last two years results in poor '\n",
            "                 'customer service. The last time I used this post office '\n",
            "                 '(Spring 2016), my package sat in the back for a month '\n",
            "                 '(according to tracking). The post office employees refused '\n",
            "                 'to search for it and check the tracking. Mysteriously, my '\n",
            "                 'package started moving once I made calls to the vendor and '\n",
            "                 'USPS customer service line.',\n",
            "                 'Mr. Tony has great customer service and was very helpful! '\n",
            "                 'Thank you, Sir!',\n",
            "                 'Very good post office',\n",
            "                 'Black people at this post office are rude',\n",
            "                 'Why aren’t the accurate hours listed here?',\n",
            "                 'Employees are kind and super fast!'],\n",
            " 'renew my license': ['I had to go there Three times to try to renew my '\n",
            "                      'license. I had a terrible experience each time. They '\n",
            "                      'are very rude and appear to have no pleasant '\n",
            "                      'personalities at all. I mean the majority are so very '\n",
            "                      'rude and nasty. On my third visit to get my license, I '\n",
            "                      'was told that the name on my information was not my '\n",
            "                      'name. I asked for the manager, a woman who was just as '\n",
            "                      'nasty. I was in tears by now. Each time I was told '\n",
            "                      'something different. Finally, a man who I guess was '\n",
            "                      'their supervisor approached and reviewed my '\n",
            "                      'information, asked to see my bank statement, then sent '\n",
            "                      'me to another person to give my information to and be '\n",
            "                      'photographed. It is a horror there. I really hate to '\n",
            "                      'have to go there. I would give them zero if I could.'],\n",
            " 'restaurant': ['Is there a better way to make a special occasion truly '\n",
            "                'memorable? Every moment and every morsel at our last visit '\n",
            "                'was outstanding. The setting and service complement '\n",
            "                'meticulously prepared food. Wait staff is attentive, '\n",
            "                'accommodating and knowledgeable without being unctuous. Wine '\n",
            "                'reasonable. Pricey but good value.',\n",
            "                'I always want to be able to say Citronelle is over the hill, '\n",
            "                'but every time I go I am wowed by the food. Gastronomique '\n",
            "                'extraordinaire!',\n",
            "                'The decor is simple \"hotel fine-dining\" style that, '\n",
            "                'purposely, does not distract or detract from the main '\n",
            "                'event/focus, that is, the AMAZING FOOD that fills your senses '\n",
            "                'with joie de vivre et manger.',\n",
            "                'We left with only one wish -- that our stomachs were larger '\n",
            "                'to accommodate more of the delicious food and desserts.',\n",
            "                'We dined there recently for a wedding anniversary. The staff '\n",
            "                'were wonderfully kind and attentive, with spot-on '\n",
            "                'recommendations. Overall, a to-die-for culinary experience.',\n",
            "                '... Aperitivi -- Mosaic surf and turf | \"canned\" Lobster '\n",
            "                \"'Begula' pasta (to cleverly resemble caviar)\",\n",
            "                '... Primi Piatti -- DUCK, roasted, sweet spiced citrus sauce '\n",
            "                '| SABLEFISH, vegetable tart, lobster-saffron broth',\n",
            "                '... Dolci (to DIE for!!!) -- RASPBERRY VACHERIN | NAPOLEON',\n",
            "                'Delicious but very pricey. My favorite is the lavender '\n",
            "                'lemonade and the \"caviar\" lobster.'],\n",
            " 'road test': ['Went for my road test today. Showed up on time -their website '\n",
            "               'advised to be early- had my docs, my car (I booked one with a '\n",
            "               'local driving school) and my plastic (they don’t take cash) '\n",
            "               'and was in and out in about an hour. Oh and I was greeted by '\n",
            "               'two helpful, smiling employees and did my test with a fair and '\n",
            "               'friendly tester.'],\n",
            " 'spa day': ['EXPENSIVE SHOP, BUTT THEY ALSO HAVE SERVICES THAT CATER TO YOUR '\n",
            "             'BUDGET CLEAN, PLEASANT,  SMELL GOOD, STRESS FREE LIKE HAVING A '\n",
            "             'SPA DAY AWAY'],\n",
            " 'storage': ['Helpful and friendly staff',\n",
            "             'Clean storage units',\n",
            "             'Difficulty with parking',\n",
            "             'Slow service',\n",
            "             'Limited space in storage units',\n",
            "             'Mixed reviews'],\n",
            " 'store': ['What an absolute delight! The customer service was off the chain! '\n",
            "           'Five stars up for management and cashier! The store was very clean '\n",
            "           'and the stock person was very helpful as well. It is a good place '\n",
            "           'to shop for household products and personal needs.',\n",
            "           'Went to drop off FedEx package for pickup!',\n",
            "           'My experience with this particular Rite Aid Walgreens is always a '\n",
            "           'pleasant and positive one. Nice new look but some ghetto '\n",
            "           'employees...',\n",
            "           'I work too hard to give my money to them.',\n",
            "           'I like this store',\n",
            "           'Terrible experience. Was there yesterday to upgrade my phone after '\n",
            "           'he had ordered the phone I wanted. It took him 15 minutes just to '\n",
            "           'process the tax difference of the two phones after swiping my '\n",
            "           'credit card at least 15 times and in the end not being able to '\n",
            "           'process the exchange. In the end, he still put some charges on my '\n",
            "           'credit card even though I walked out of the store without getting '\n",
            "           'anything. Worse than that, I received two emails of receipts of '\n",
            "           'other customers who had purchased products and were in the store '\n",
            "           'sent to my email. Complete lack of privacy. Completely freaked me '\n",
            "           'out.',\n",
            "           'They never answer the phone and the manager was not on the site '\n",
            "           'yesterday.',\n",
            "           'Good customer service but pricey',\n",
            "           'One guy working on Black Friday weekend. Refused to give me an '\n",
            "           'approximate wait time. Mask down below nose. Left after an hour '\n",
            "           'with no resolution to my problem.',\n",
            "           \"I can't believe they closed this store. It was a convenient \"\n",
            "           'location for me since I live in Georgetown. The people there were '\n",
            "           \"friendly and knowledgeable. I hope they didn't fire the employees \"\n",
            "           \"and rather just relocated them to other locations. Now I'm going \"\n",
            "           \"to have to go to K Street or Chinatown's location for some help. I \"\n",
            "           'hope they open up another branch in the Georgetown area.',\n",
            "           \"They were helpful bit couldn't address my issue. I still had to \"\n",
            "           'call 611',\n",
            "           ['Super convenient',\n",
            "            'Fast',\n",
            "            'Best UPS experience',\n",
            "            'Reasonable price',\n",
            "            'Solid UPS',\n",
            "            'Great service',\n",
            "            'Friendly staff']],\n",
            " 'u-haul': ['Helpful and friendly staff',\n",
            "            'Efficient pickup and drop-off processes',\n",
            "            'Clean trucks',\n",
            "            'Good option for moving',\n",
            "            'Issues with return and charges',\n",
            "            'Unprofessional and rude staff'],\n",
            " 'yunus': ['Yunus is an amazing hair stylist! He takes his time to listen to '\n",
            "           'you, understands what you want and gives the best haircut you can '\n",
            "           'have in town!']}\n"
          ]
        }
      ],
      "source": [
        "final_dict = {}\n",
        "\n",
        "for dictionary in response_dict_list:\n",
        "    for key, value in dictionary.items():\n",
        "        if key in final_dict:\n",
        "            final_dict[key].append(value)\n",
        "        else:\n",
        "            final_dict[key] = value\n",
        "\n",
        "response_as_dict2=final_dict\n",
        "pprint.PrettyPrinter().pprint(response_as_dict2)"
      ]
    },
    {
      "cell_type": "markdown",
      "metadata": {
        "id": "-Zw0DJBReZj6"
      },
      "source": [
        "What do you notice about the output? While each run is different, you may see the following: (1) different menu items, (2) different styles of description for each menu item, or (3) a different format alltogether.\n",
        "\n",
        "In practice, it is good to get a sample of the types of outputs being produced. Another parameter to use is ```n```, which just controls the number of samples you want ChatGPT to produce.\n",
        "\n",
        "In the cell below, rather than changing temperature, just set ```n=2```."
      ]
    },
    {
      "cell_type": "code",
      "execution_count": 75,
      "metadata": {
        "colab": {
          "base_uri": "https://localhost:8080/"
        },
        "id": "8o8jZJDpQLNR",
        "outputId": "fcb77942-15a9-42db-9ee5-f19abc1612d9"
      },
      "outputs": [
        {
          "name": "stdout",
          "output_type": "stream",
          "text": [
            "0 300\n",
            "300 600\n",
            "600 900\n",
            "900 1200\n"
          ]
        }
      ],
      "source": [
        "response_dict_list  = []\n",
        "for i in range(0,1000,300):\n",
        "  print(i,i+300)\n",
        "  reviews = \" \".join(local_df.loc[i:i+100,'text'].to_list())\n",
        "  system_prompt = f'You are an restaurant review writer whose job it is to help \\\n",
        "               people find good menu items. You will return responses is json \\\n",
        "                dictionary format only'\n",
        "\n",
        "  prompt =  f'The following text is a list of restaurant reviews seperated by . \\\n",
        "        For each unique menu item mentioned, give a summary of \\\n",
        "        the user reviews for that menu item. \\\n",
        "        Return the output in the form of a json dictionary, \\\n",
        "        where the keys are unique menu items \\\n",
        "        and the values are the list of all summarys for that item. : \"{reviews}\"'\n",
        "        # Generate response\n",
        "  messages=[{'role': 'system', 'content': f\"{system_prompt}\"}, {'role': 'user', 'content': f\"{prompt}\"}]\n",
        "  response = openai.ChatCompletion.create(model=\"gpt-3.5-turbo\",messages=messages, temperature =0,n=2)\n",
        "  response_as_dict = ast.literal_eval(response['choices'][0][\"message\"][\"content\"])\n",
        "  response_dict_list.append(response_as_dict)"
      ]
    },
    {
      "cell_type": "code",
      "execution_count": 76,
      "metadata": {
        "colab": {
          "base_uri": "https://localhost:8080/"
        },
        "id": "ihkPlfUNQV29",
        "outputId": "b3d652ca-4700-4f16-f461-d396cfeb739a"
      },
      "outputs": [
        {
          "name": "stdout",
          "output_type": "stream",
          "text": [
            "{'Conte’s': ['What initially drove me to Conte’s was the simple fact they were '\n",
            "             'open during their posted hours. Easy enough, right? Well, I’ve '\n",
            "             'been going ever since and recommend them as often as able. This '\n",
            "             'latest visit was for a Spring tune-up and the funny thing is how '\n",
            "             'I seemingly brought in a Corolla and got back a Supra. Clearly '\n",
            "             'all maintenance boxes were checked off but what shocked me was '\n",
            "             'how clean they got it. Riding a white bike shows just about '\n",
            "             'everything and this isn’t just the frame but the handlebars too. '\n",
            "             'SPOTLESS This said, it’s well worth the cost and time away from '\n",
            "             'your personal if you’re on the fence… “Conte’s Logan Circle”: 1. '\n",
            "             'Staff is welcoming and knowledgeable. 2. Service prices are '\n",
            "             'competitive. 3. Overall experience is unmatched. There are a few '\n",
            "             'bike shops in the area, each with their bells and whistles, but '\n",
            "             'you will not get the same customer service nor service quality '\n",
            "             'than you will at Conte’s off Q. Nice place. The team there was '\n",
            "             'helpful and and the service was affordable. They got my bike '\n",
            "             'back in action in just a few minutes. Thank you! Sales personnel '\n",
            "             'were on point. Customer service was exceptional. This is the '\n",
            "             'place to go for your needs. I was missing just one bolt on my '\n",
            "             'front derailleur, I figured the minimum charge to replace it '\n",
            "             'would be north of $30. I was pleasantly surprised to be charged '\n",
            "             'only $3. Got some brakes bled, quick turn over great customer '\n",
            "             'service Been going to this location for years and even know the '\n",
            "             'company has changed, the customer service and bike service is '\n",
            "             'still the best in DC Friendly and knowledgable team. Great '\n",
            "             'service. Quick turnaround. Bike running smoother than ever. I '\n",
            "             'also asked them about upgrading my wheel set and they came back '\n",
            "             'with the perfect recommendation. They will be my go-to shop for '\n",
            "             'service and parts going forward. Thanks! These guys have been '\n",
            "             'taking care of my bikes for years and are so consistently '\n",
            "             \"reliable, honest, and fast, I wouldn't go anywhere else! A rare \"\n",
            "             'gem of a DC bike shop that will offer to assist with e-scooters. '\n",
            "             'My disk break needed adjustment, and after contacting about 6 '\n",
            "             'local bike shops, this was the only one that would even consider '\n",
            "             'helping. And, they tuned my scooter break perfectly. Quick, '\n",
            "             'affordable service! Can’t really ask for much more than that. '\n",
            "             'Excellent service, came for a small fix, they were quick and '\n",
            "             'picked up a few other necessary adjustments. Found a broken '\n",
            "             \"casette that 'bicycle pro shop' missed multiple times Excellent\",\n",
            "             'Fun',\n",
            "             'I graduated in 1976 prior to the changes',\n",
            "             'A very nice ball field. Nice playground for children. Not great. '\n",
            "             'Pretty dirty and littered. Nice to visit'],\n",
            " 'Exxon': ['Jamie and the team are top notch professionals who proactively '\n",
            "           \"address any and all car issues you may encounter. Couldn't \"\n",
            "           'recommend them more',\n",
            "           'Jamie was great the manager when I was unloading the Volvo. He was '\n",
            "           'able to assist. I pulled into Exxon Friday afternoon following '\n",
            "           'Thanksgiving with a punctured tire and an urgent need for my car '\n",
            "           \"on Sunday. It required an order for a tire they didn't have on \"\n",
            "           'hand over a holiday weekend. Less than 24 hours elapsed and I '\n",
            "           'drove home with a new tire at a reasonable price; again, on a '\n",
            "           'holiday weekend. They really delivered. I have used them multiple '\n",
            "           'times over many years. Great experience. Staff greats me '\n",
            "           'imediattly does quick diagnostic tells me the price and gets it '\n",
            "           'done between 15 minutes and 24 hours. Prices are reasonable. '\n",
            "           'Replaced a flat tire. Professional, prompt, and fairly priced. '\n",
            "           'Great honest local business - highly recommend!',\n",
            "           'Fast, affordable service. Got me back on the road in less than 20 '\n",
            "           'minutes.'],\n",
            " 'Francis A. Gregory Library': ['Not just your average library goers will '\n",
            "                                \"stumble in Francis A. Gregory Library. Don't \"\n",
            "                                'be surprised if you see photographers and '\n",
            "                                'design snobs there ignoring the books and '\n",
            "                                'looking up at the ceiling.',\n",
            "                                'This library may be the very best in DC! Free '\n",
            "                                'wifi & the upper level is exclusively for '\n",
            "                                'kids, including a learning area for small '\n",
            "                                'children. Also has plenty of seating. Helpful '\n",
            "                                'staff, good selection, nice and clean.'],\n",
            " 'Mustard Seed': ['Mustard Seed is a wonderful and relaxing massage place. '\n",
            "                  'Prices are up there, but the massage justifies the price. '\n",
            "                  'My masseuse is Caleb, who is thoughtful and carefully '\n",
            "                  'addresses troubled areas for maximum results after a '\n",
            "                  'massage. The attention to detail has been great. I’ve yet '\n",
            "                  'to try the other therapists yet, but I’ve heard great '\n",
            "                  'things too. Thank you, Caleb, for your hard work helping me '\n",
            "                  'fix my lower back issues!',\n",
            "                  'Not a good massage. Barely worked anything, not a relaxing '\n",
            "                  \"atmosphere, room was cold, bright, and loud. Worst I've \"\n",
            "                  'gotten.',\n",
            "                  'This was an amazing place to go to for a massage 💆\\u200d♂️. '\n",
            "                  'The person who gave me a massage got all of my knots out. '\n",
            "                  'Michelle was amazing. She has unique knowledge of anatomy '\n",
            "                  'amd physiology. I cant believe how good i feel. Best '\n",
            "                  'massage ever',\n",
            "                  'I want to marry Terrance! He was so professional and '\n",
            "                  'accommodating. Best massage ever. Well priced and the '\n",
            "                  'masseuse was pretty good. I would go again. I have not felt '\n",
            "                  'better I walked out of there walking on cloud 10000000 i '\n",
            "                  'will be back thank you!!!!!!',\n",
            "                  'We took our teen for a consult on wisdom teeth removal. The '\n",
            "                  'surgery coordinator, Francisco, was prepared when we walked '\n",
            "                  'into the room. He had the x-rays from our family dentist up '\n",
            "                  'on the monitor and clearly explained everything so that our '\n",
            "                  'teen understood what would transpire on his next visit. Dr. '\n",
            "                  'Park was thorough and friendly. We have confidence moving '\n",
            "                  'forward with the procedure. The office also had all of the '\n",
            "                  'preoperative and postoperative medications already called '\n",
            "                  \"into the pharmacy even though the surgery isn't for 2 \"\n",
            "                  'weeks. I went early in the morning for wisdom teeth '\n",
            "                  'removed. Staff is very nice and very welcoming. Highly '\n",
            "                  'recommend 👍🏽',\n",
            "                  'Dr Kunkle has an amazing manner with patients. The staff is '\n",
            "                  'friendly and pleasant. Always a great experience! Highly '\n",
            "                  'recommend!',\n",
            "                  'Great staff, clean office and COVID safe. Dr. Kunkle '\n",
            "                  'answered all of my questions thoroughly.',\n",
            "                  'Had my wisdom teeth removed here and was very surprised '\n",
            "                  'about how nice everyone was. Dr. Park performed the '\n",
            "                  'operation and he was qualified, kind, and gentle. He even '\n",
            "                  'made sure to follow up with me personally- which blew me '\n",
            "                  'away. The whole operation and experience could not have '\n",
            "                  'gone any better. Went in to get all 4 of my wisdom teeth '\n",
            "                  'removed with Dr. Park who was very professional. During the '\n",
            "                  'day of the surgery everything went accordantly, surgery '\n",
            "                  'went smooth, duration was around 1 hr, surprisingly I came '\n",
            "                  'out without any significant swelling and no pain and was '\n",
            "                  'able to return to work the following day. The finance team '\n",
            "                  'there was great to work with, they took care of contacting '\n",
            "                  'my insurance and I was charged as accorded. Just want to '\n",
            "                  'give a special thanks to Dr. Park and his team for taking '\n",
            "                  'really good care of me that day, you are all awesome! Would '\n",
            "                  'highly recommend to anyone in the area.'],\n",
            " 'U-Haul': ['Helpful, friendly, and quick staff',\n",
            "            'Efficient pickup and drop off processes',\n",
            "            'Great place for truck rental and moving supplies',\n",
            "            'Clean vehicles',\n",
            "            'Quick and easy rental process',\n",
            "            'Unbelievable low price',\n",
            "            'Friendly and knowledgeable staff',\n",
            "            'Super easy reservation, pickup, and drop off',\n",
            "            'Fast and professional service',\n",
            "            'Good location for in-town moves',\n",
            "            'Good choice for in-town moving'],\n",
            " 'UPS': ['Super convenient and fast',\n",
            "         'Super helpful',\n",
            "         'Great service, friendly staff'],\n",
            " 'appointment': ['I definitely suggest making an appointment as opposed to '\n",
            "                 \"walking in since when I came at 11:30 they weren't able to \"\n",
            "                 'see me until 1:15.'],\n",
            " 'barber shop': ['I was charged $30 for a quick shade/outline, which took no '\n",
            "                 'more than 10 minutes.',\n",
            "                 'I walked 5 min down the street and asked another barber shop '\n",
            "                 'how much they charge for the same job, they said $15!',\n",
            "                 'Great new space combined with great barbers.',\n",
            "                 'Got tightened up by my main man Carl.',\n",
            "                 'Nice quick service, and a variety of snacks!',\n",
            "                 'There is a master mechanic on duty who can fix almost '\n",
            "                 'anything on a car!',\n",
            "                 'Fast service.',\n",
            "                 'Good prices :)',\n",
            "                 'Excellent service!',\n",
            "                 'The attendant lady at the window is such a beautiful soul 😘'],\n",
            " \"barber's\": [\"Great talent in All the barber's there.\"],\n",
            " 'basketball court': ['Just came here to play a quick basketball game.',\n",
            "                      'Court is slightly slanted and baskets are double '\n",
            "                      \"rimmed, but other than that it's okay.\"],\n",
            " 'church': ['Excellent teaching & family oriented church!',\n",
            "            'Singing is heavenly.',\n",
            "            \"I cannot honestly say I've been in here but if it's a house of \"\n",
            "            \"the Lord then I recommend it if you go in there and you don't \"\n",
            "            'feel comfortable then you leave I can tell you what to do about '\n",
            "            \"this I'm a spiritual person but all churches are not good \"\n",
            "            \"churches so I can't recommend it because I never been in it.\",\n",
            "            'Will run you away quickly judgmental.',\n",
            "            'This is the best church to be!!!',\n",
            "            'Okay fine.',\n",
            "            \"The men are cool but the ladies? C'mon now roll the eyes.\",\n",
            "            'This place manifested like UPO nearly across the street '\n",
            "            'ajacently.',\n",
            "            'The air is literally like .5% on Fridays.',\n",
            "            'Hit or Miss - mostly miss.'],\n",
            " 'clean': [\"It's clean.\",\n",
            "           'Helpful staff, good selection, nice and clean.',\n",
            "           'The salon is kept very clean.',\n",
            "           'Average Very Clean.'],\n",
            " 'customer service': [\"Good customer service You guys are awesome! I'm coming \"\n",
            "                      'tomorrow again just to thank each and every one of you. '\n",
            "                      ':-)',\n",
            "                      'Quick courteous and helpful DMV Enteance on Kenilworth '\n",
            "                      'Ave its a one-way street you have to drive slowly or '\n",
            "                      'you will very easily. Building Enteance is after Mobil '\n",
            "                      'Gas station ⛽. pearl parking size is 22 X 8 feet at '\n",
            "                      'this location.',\n",
            "                      ['Friendly and helpful staff',\n",
            "                       'Unhelpful and rude staff',\n",
            "                       'Customer service needs improvement',\n",
            "                       'Poor customer service',\n",
            "                       'Terrible user experience',\n",
            "                       'Good service but very slow',\n",
            "                       'Poor service',\n",
            "                       'Very slow customer service',\n",
            "                       'Very friendly and proficient staff',\n",
            "                       \"Stop by to get treated like you're an idiot by rude \"\n",
            "                       'staff',\n",
            "                       'Great service',\n",
            "                       'Very friendly staff',\n",
            "                       'Knowledgeable and helpful staff',\n",
            "                       'Very convenient service',\n",
            "                       \"Service isn't that good\",\n",
            "                       'Everything was as described, friendly staff']],\n",
            " 'dentist': ['Great experience',\n",
            "             'Clean, comfortable, and friendly',\n",
            "             'Quick and concise treatment',\n",
            "             'Excellent service',\n",
            "             'Pleasant appointment',\n",
            "             'Great service and very convenient'],\n",
            " 'design': ['Not just your average library goers will stumble in Francis A. '\n",
            "            \"Gregory Library. Don't be surprised if you see photographers and \"\n",
            "            'design snobs there ignoring the books and looking up at the '\n",
            "            'ceiling.',\n",
            "            'The library is famously designed by the same man who crafted the '\n",
            "            'National Museum of African American History and Culture. Somehow '\n",
            "            'we connected the past with the future in his design with lots of '\n",
            "            'wood and glass letting in the natural light.'],\n",
            " 'dog park': ['Top-notch dog park.',\n",
            "              'Had no idea one like this existed in DC and it is a godsend.',\n",
            "              'Great dog park!',\n",
            "              'My boys had fun with the variety of dog buddies.',\n",
            "              'The big field had lots of room for rubbing.',\n",
            "              'What a great find!',\n",
            "              'My friend and I decided to take our dogs for a walk in Rock a '\n",
            "              'reek Park, and we finished our walk here.',\n",
            "              \"There's lots of space for our dogs to run and get the zoomies \"\n",
            "              'out of their system.',\n",
            "              'And the other dogs here seemed really friendly as well.',\n",
            "              'Very nice little dog park.',\n",
            "              'The best part is the much larger grassy park right next to it.',\n",
            "              \"If there is no one playing soccer it's a fantastic place for \"\n",
            "              'dogs to run around.',\n",
            "              'Much larger than the actual dog park.'],\n",
            " 'empanadas': ['Jocelyn market is very comfortable and gets you out of '\n",
            "               'trouble. What I like the most about this market are the '\n",
            "               'pupusas and empanadas.'],\n",
            " 'fast food': ['The fast food restaurants under the National Palace of Art are '\n",
            "               'not cheap, and there are many choices.',\n",
            "               'The dining environment is very good and the art atmosphere is '\n",
            "               'strong.'],\n",
            " 'food': ['The food is really good, I had a great experience.',\n",
            "          'High prices for not so big portions!',\n",
            "          \"The gelato looked 'old' and ended up having coffee.\",\n",
            "          'The food is barely edible and the price is high.',\n",
            "          'The rice was uncooked and the pasta was blown, making it difficult '\n",
            "          'to eat.',\n",
            "          'The seafood pasta contained 4 mussels, but only two of them were '\n",
            "          'shells.',\n",
            "          'Rip off!!!'],\n",
            " 'friendly': ['Staff are friendly and attentive without being overbearing.',\n",
            "              'Helpful staff, good selection, nice and clean.',\n",
            "              'Great local market. Has everything you need to make Latin '\n",
            "              'dishes as well as all the regular \"American\" items as well. '\n",
            "              'Prices are good, staff are friendly, and normally has most '\n",
            "              'things you might need.',\n",
            "              'Friendly security always there to help.. No problems getting or '\n",
            "              'navigating around this stop.'],\n",
            " 'gel manicure': ['I came here for a gel manicure and they did it quickly and '\n",
            "                  'well.',\n",
            "                  'I thought my gel manicure turned out fine, but because it '\n",
            "                  \"didn't turn out as well as she would have liked it to she \"\n",
            "                  'comped to my entire manicure!'],\n",
            " 'hair stylist': ['Yunus is an amazing hair stylist! He takes his time to '\n",
            "                  'listen to you, understands what you want and gives the best '\n",
            "                  'haircut you can have in town!',\n",
            "                  'Great stylist but had to use an interpreter.'],\n",
            " 'hairstylist': [\"The front desk staff wasn't very helpful, but the \"\n",
            "                 'hairstylist was AMAZING!',\n",
            "                 'Great stylist but had to use an interpreter.'],\n",
            " 'kid section': ['They have a large kid section with two play areas.',\n",
            "                 'This library may be the very best in DC! Free wifi & the '\n",
            "                 'upper level is exclusively for kids, including a learning '\n",
            "                 'area for small children. Also has plenty of seating. Helpful '\n",
            "                 'staff, good selection, nice and clean.'],\n",
            " 'libraries': ['The libraries in the dc are doing people like myself, with no '\n",
            "               'access to a computer, a very bad disservice.',\n",
            "               'Such a great place to get all my higher education studies '\n",
            "               'completed online, and to grab a nice book also.',\n",
            "               'Not just your average library goers will stumble in Francis A. '\n",
            "               \"Gregory Library. Don't be surprised if you see photographers \"\n",
            "               'and design snobs there ignoring the books and looking up at '\n",
            "               'the ceiling.',\n",
            "               'This library may be the very best in DC! Free wifi & the upper '\n",
            "               'level is exclusively for kids, including a learning area for '\n",
            "               'small children. Also has plenty of seating. Helpful staff, '\n",
            "               'good selection, nice and clean.',\n",
            "               'The staff is awesome and they have great selections in most '\n",
            "               'genres.'],\n",
            " 'market': ['Great local market. Has everything you need to make Latin dishes '\n",
            "            'as well as all the regular \"American\" items as well. Prices are '\n",
            "            'good, staff are friendly, and normally has most things you might '\n",
            "            'need.',\n",
            "            'Really awesome neighborhood grocer. If you want the \"real deal\" '\n",
            "            'on hispanic foods. Come here!',\n",
            "            'Jocelyn market is very comfortable and gets you out of trouble. '\n",
            "            'What I like the most about this market are the pupusas and '\n",
            "            'empanadas.',\n",
            "            'Its a convient station its always clean and the station mangers '\n",
            "            'are polite and helpful.'],\n",
            " 'nail tech': ['Mediocre acrylic nail set',\n",
            "               'The nail tech cut me from filing too hard to the point that my '\n",
            "               'finger was bleeding then told me I was too sensitive.',\n",
            "               'Cathy does an amazing job on my nails. I don’t want anyone to '\n",
            "               'touch them but her!',\n",
            "               'Recieved a pedicure and it was HORRIBLE! The nail tech was so '\n",
            "               'speedy she forgot to clean under my toes, she attempted to use '\n",
            "               'a grater on my feet without asking. She did not scrub my feet '\n",
            "               'well, my white polish was lumpy and left my toe in pain this '\n",
            "               'is ridiculous. Do not go here!!',\n",
            "               'For myself I no longer come to this shop. However, for my '\n",
            "               'diabetic male friend the nail tech did an exceptional job with '\n",
            "               'his mani & pedi to clip the nails and remove the very rough '\n",
            "               'skin. She was very gentle. I may give them another chance.'],\n",
            " 'park': ['A nice playground with baby swings and things for older children, '\n",
            "          'too.',\n",
            "          'Could use a little TLC but it does the job.',\n",
            "          'Nice park...Great Urban location... Fun place to shop and dine... '\n",
            "          'Nice park.'],\n",
            " 'playground': [\"There's a playground next door and park.\"],\n",
            " 'post office': ['Small, informative and friendly staffs.',\n",
            "                 'Useless. Lady told me first I needed a box for the box I was '\n",
            "                 'shipping.',\n",
            "                 'Then once we cleared that hurdle, it has to fit through her '\n",
            "                 'window.',\n",
            "                 'Which it would have. But she was not willing to try.',\n",
            "                 \"Didn't apologize, dumped me off on another branch.\",\n",
            "                 'Save your time and go to a real post office.',\n",
            "                 'Ms. Gail Sparrow is awesome. She hooked it up with the '\n",
            "                 'secrets of how to get the cheapest rate.',\n",
            "                 \"The hours aren't great, but that's a one woman show. You \"\n",
            "                 'gotta respect that fact...all alone with people getting '\n",
            "                 \"upset at her for something that isn't her fault. Be nice to \"\n",
            "                 'her.',\n",
            "                 'Almost every visit over the last two years results in poor '\n",
            "                 'customer service.',\n",
            "                 'The last time I used this post office (Spring 2016), my '\n",
            "                 'package sat in the back for a month (according to tracking).',\n",
            "                 'The post office employees refused to search for it and check '\n",
            "                 'the tracking.',\n",
            "                 'Mysteriously, my package started moving once I made calls to '\n",
            "                 'the vendor and USPS customer service line.',\n",
            "                 'Mr. Tony has great customer service and was very helpful! '\n",
            "                 'Thank you Sir!',\n",
            "                 'Very good post office.',\n",
            "                 'Black people at this post office are rude.',\n",
            "                 'Why aren’t the accurate hours listed here?',\n",
            "                 'Employees are kind and super fast!'],\n",
            " 'pupusas': ['Jocelyn market is very comfortable and gets you out of trouble. '\n",
            "             'What I like the most about this market are the pupusas and '\n",
            "             'empanadas.'],\n",
            " 'renew my license': ['I had to go there Three times to try to renew my '\n",
            "                      'license. I had a terrible experience each time. They '\n",
            "                      'are very rude and appear to have no pleasant '\n",
            "                      'personalities at all. I mean the majority are so very '\n",
            "                      'rude and nasty. On my third visit to get my license, I '\n",
            "                      'was told that the name on my information was not my '\n",
            "                      'name. I asked for the manager, a woman who was just as '\n",
            "                      'nasty. I was in tears by now. Each time I was told '\n",
            "                      'something different. Finally, a man who I guess was '\n",
            "                      'their supervisor approached and reviewed my '\n",
            "                      'information, asked to see my bank statement, then sent '\n",
            "                      'me to another person to give my information to and be '\n",
            "                      'photographed. It is a horror there. I really hate to '\n",
            "                      'have to go there. I would give them zero if I could.'],\n",
            " 'restaurant': ['Is there a better way to make a special occasion truly '\n",
            "                'memorable?',\n",
            "                'Every moment and every morsel at our last visit was '\n",
            "                'outstanding.',\n",
            "                'The setting and service complement meticulously prepared '\n",
            "                'food.',\n",
            "                'Wait staff is attentive, accommodating and knowledgeable '\n",
            "                'without being unctuous.',\n",
            "                'Wine reasonable.',\n",
            "                'Pricey but good value.',\n",
            "                'I always want to be able to say Citronelle is over the hill, '\n",
            "                'but every time I go I am wowed by the food.',\n",
            "                'Gastronomique extraordinaire!',\n",
            "                \"The decor is simple 'hotel fine-dining' style that, \"\n",
            "                'purposely, does not distract or detract from the main '\n",
            "                'event/focus, that is, the AMAZING FOOD that fills your senses '\n",
            "                'with joie de vivre et manger.',\n",
            "                'We left with only one wish -- that our stomachs were larger '\n",
            "                'to accommodate more of the delicious food and desserts.',\n",
            "                'We dined there recently for a wedding anniversary.',\n",
            "                'The staff were wonderfully kind and attentive, with spot-on '\n",
            "                'recommendations.',\n",
            "                'Overall, a to-die-for culinary experience.',\n",
            "                \"Aperitivi -- Mosaic surf and turf | 'canned' Lobster 'Begula' \"\n",
            "                'pasta (to cleverly resemble caviar)',\n",
            "                'Primi Piatti -- DUCK, roasted, sweet spiced citrus sauce | '\n",
            "                'SABLEFISH, vegetable tart, lobster-saffron broth',\n",
            "                'Dolci (to DIE for!!!) -- RASPBERRY VACHERIN | NAPOLEON',\n",
            "                'Delicious but very pricey.',\n",
            "                \"My favorite is the lavender lemonade and the 'caviar' \"\n",
            "                'lobster.',\n",
            "                'What an absolute delight!',\n",
            "                'The customer service was off the chain!',\n",
            "                'Five stars up for management and cashier!',\n",
            "                'Store was very clean and the stock person was very helpful as '\n",
            "                'well.',\n",
            "                'It is a good place to shop for household products and '\n",
            "                'personal needs, other things for personal use.',\n",
            "                'Went to drop off FedEx package for pickup!',\n",
            "                'My experience with this particular Rite Aid Walgreens is '\n",
            "                'always a pleasant and positive one.',\n",
            "                'Nice new look but some ghetto employees....had to leave after '\n",
            "                '10 min of waiting for someone to help me...',\n",
            "                'I work too hard to give my money to them.',\n",
            "                'I like this store.',\n",
            "                'Love stopping by this Rite Aid.',\n",
            "                'Terrible experience.',\n",
            "                'Was there yesterday to upgrade my phone after he had ordered '\n",
            "                'the phone I wanted.',\n",
            "                'It took him 15 minutes just to process the tax difference of '\n",
            "                'the two phones after swiping my credit card at least 15 times '\n",
            "                'and in the end not being able to process the exchange.',\n",
            "                'In the end, he still put some charges on my credit card even '\n",
            "                'though I walked out of the store without getting anything.',\n",
            "                'Worse than that, I received two emails of receipts of other '\n",
            "                'customers who had purchased products and were in the store '\n",
            "                'sent to my email.',\n",
            "                'Complete lack of privacy.',\n",
            "                'Completely freaked me out.',\n",
            "                'They never answer the phone and the manager was not on the '\n",
            "                'site yesterday.',\n",
            "                'Good customer service but pricey.',\n",
            "                'One guy working on Black Friday weekend.',\n",
            "                'Refused to give me an approximate wait time.',\n",
            "                'Mask down below nose.',\n",
            "                'Left after an hour with no resolution to my problem.',\n",
            "                \"I can't believe they closed this store.\",\n",
            "                'It was a convenient location for me since I live in '\n",
            "                'Georgetown.',\n",
            "                'The people there were friendly and knowledgeable.',\n",
            "                \"I hope they didn't fire the employees and rather just \"\n",
            "                'relocated them to other locations.',\n",
            "                \"Now I'm going to have to go to K Street or Chinatown's \"\n",
            "                'location for some help.',\n",
            "                'I hope they open up another branch in the Georgetown area.',\n",
            "                \"They were helpful but couldn't address my issue.\",\n",
            "                'Not satisfied with employee.'],\n",
            " 'road test': ['Went for my road test today. Showed up on time -their website '\n",
            "               'advised to be early- had my docs, my car (I booked one with a '\n",
            "               'local driving school) and my plastic (they don’t take cash) '\n",
            "               'and was in and out in about an hour. Oh and I was greeted by '\n",
            "               'two helpful, smiling employees and did my test with a fair and '\n",
            "               'friendly tester.'],\n",
            " 'salon': ['Thank you, Imaj! I came here thanks to a gift card and unlike a '\n",
            "           \"lot of the other places I've been thanks to Nift, I actually do \"\n",
            "           'see myself coming back here.',\n",
            "           'I came here for a gel manicure and they did it quickly and well.',\n",
            "           'What I love about this place is how real and honest they were '\n",
            "           'despite being a pretty busy salon.',\n",
            "           'The salon is kept very clean.'],\n",
            " 'storage': ['Great staff, clean facility',\n",
            "             'Good storage facility',\n",
            "             'Excellent storage facility',\n",
            "             'Terrible management',\n",
            "             'Great U-Haul outlet',\n",
            "             'Good service, decent location',\n",
            "             'Convenient location',\n",
            "             'Very friendly and proficient staff',\n",
            "             'Good deal',\n",
            "             'Very friendly staff',\n",
            "             'Great place',\n",
            "             'Tiny storage area, no parking',\n",
            "             'Knowledgeable and helpful staff',\n",
            "             'Very convenient service',\n",
            "             'Friendly staff, hooked everything up',\n",
            "             'Great storage'],\n",
            " 'study rooms': ['They have private study rooms and conference rooms you can '\n",
            "                 'rent for free.'],\n",
            " 'wifi': ['This library may be the very best in DC! Free wifi & the upper '\n",
            "          'level is exclusively for kids, including a learning area for small '\n",
            "          'children. Also has plenty of seating.']}\n"
          ]
        }
      ],
      "source": [
        "final_dict = {}\n",
        "\n",
        "for dictionary in response_dict_list:\n",
        "    for key, value in dictionary.items():\n",
        "        if key in final_dict:\n",
        "            final_dict[key].append(value)\n",
        "        else:\n",
        "            final_dict[key] = value\n",
        "\n",
        "response_as_dict2=final_dict\n",
        "pprint.PrettyPrinter().pprint(response_as_dict2)"
      ]
    },
    {
      "cell_type": "code",
      "execution_count": null,
      "metadata": {
        "id": "bJ5dWiBIhCyN"
      },
      "outputs": [],
      "source": [
        "# Generate response again but with n=2\n",
        "response = ...\n",
        "\n",
        "# Store as a dictionary\n",
        "response_run1 = ...\n",
        "response_run2 = ..."
      ]
    },
    {
      "cell_type": "markdown",
      "metadata": {
        "id": "fvxacJFkasbX"
      },
      "source": [
        "Take a look at a specific menu item between the first and the second call. What kinds of differences do you notice? Are the menu items picked up by the API the same?\n",
        "\n",
        "Feel free to post your findings on #deep-learning-questions-and-debugging to see if others have gotten similar differences!\n",
        "\n",
        "This next part is pretty open-ended, so feel free to take some creative liberties. We want to use ChatGPT to filter its own outputs. What kind of prompt would you use to combine the two generated responses into a better, third output?"
      ]
    },
    {
      "cell_type": "code",
      "execution_count": null,
      "metadata": {
        "id": "upiZW185fefi"
      },
      "outputs": [],
      "source": [
        "combine_system = ...\n",
        "combine_prompt = ...\n",
        "\n",
        "response = ...\n",
        "combined_response = ..."
      ]
    },
    {
      "cell_type": "markdown",
      "metadata": {
        "id": "MeI6sq2Hcy88"
      },
      "source": [
        "In practice, the strategy of using the large language model to refine itself is used quite often! While there are many possible ways to get the prompts to do what you want, here are a few guidelines provided by OpenAI: [cookbook](https://github.com/openai/openai-cookbook/blob/main/techniques_to_improve_reliability.md)\n",
        "\n"
      ]
    },
    {
      "cell_type": "markdown",
      "metadata": {
        "id": "Ocno9Er96cHq"
      },
      "source": [
        "## Open-Ended Exploration (Optional)\n",
        "\n",
        "We hope this tutorial was helpful in understanding the ins and outs of OpenAI's ChatGPT API.\n",
        "\n",
        "There are definitely many more things we can do with this dataset, but we would love to see what you can think of.\n",
        "\n",
        "In the remaining part of this assignment, feel free to come up with a task and post your findings on Slack under #deep-learning-questions-and-debugging.\n",
        "\n",
        "Here are a few ideas:\n",
        "\n",
        "1. Look for menu items across restaurants and find the best restaurant for a specific menu item.\n",
        "\n",
        "2. Compare and contrast two businesses given their reviews.\n",
        "\n",
        "3. Find the most controversial dish!"
      ]
    },
    {
      "cell_type": "markdown",
      "metadata": {
        "id": "6mQ5KegT32rn"
      },
      "source": [
        "## Final Step\n",
        "\n",
        "Before submitting this assignment, remember to remove your OpenAI API key from the beginning of this assignment 😀."
      ]
    },
    {
      "cell_type": "code",
      "execution_count": null,
      "metadata": {
        "id": "t5ybsf8M4BQp"
      },
      "outputs": [],
      "source": []
    }
  ],
  "metadata": {
    "colab": {
      "provenance": []
    },
    "kernelspec": {
      "display_name": "Python 3.9.12 64-bit",
      "language": "python",
      "name": "python3"
    },
    "language_info": {
      "name": "python",
      "version": "3.9.12"
    },
    "vscode": {
      "interpreter": {
        "hash": "aee8b7b246df8f9039afb4144a1f6fd8d2ca17a180786b69acc140d282b71a49"
      }
    },
    "widgets": {
      "application/vnd.jupyter.widget-state+json": {
        "09ddcf04c0b04e0e8a2a64b694d09385": {
          "model_module": "@jupyter-widgets/controls",
          "model_module_version": "1.5.0",
          "model_name": "HTMLModel",
          "state": {
            "_dom_classes": [],
            "_model_module": "@jupyter-widgets/controls",
            "_model_module_version": "1.5.0",
            "_model_name": "HTMLModel",
            "_view_count": null,
            "_view_module": "@jupyter-widgets/controls",
            "_view_module_version": "1.5.0",
            "_view_name": "HTMLView",
            "description": "",
            "description_tooltip": null,
            "layout": "IPY_MODEL_d49ee210817443bcb40b50e348e73894",
            "placeholder": "​",
            "style": "IPY_MODEL_969c30a8fc2843d4bccc8d212a23e983",
            "value": "Downloading pytorch_model.bin: 100%"
          }
        },
        "0c708ebad52a4ba08c6eec04dbca2dfb": {
          "model_module": "@jupyter-widgets/controls",
          "model_module_version": "1.5.0",
          "model_name": "FloatProgressModel",
          "state": {
            "_dom_classes": [],
            "_model_module": "@jupyter-widgets/controls",
            "_model_module_version": "1.5.0",
            "_model_name": "FloatProgressModel",
            "_view_count": null,
            "_view_module": "@jupyter-widgets/controls",
            "_view_module_version": "1.5.0",
            "_view_name": "ProgressView",
            "bar_style": "success",
            "description": "",
            "description_tooltip": null,
            "layout": "IPY_MODEL_95ae594572b745c994706652a3c55d1c",
            "max": 467042463,
            "min": 0,
            "orientation": "horizontal",
            "style": "IPY_MODEL_326050fa740a46d1b81d22fc6edcc9e2",
            "value": 467042463
          }
        },
        "12148a06fcd04b9b9de64a64296af786": {
          "model_module": "@jupyter-widgets/base",
          "model_module_version": "1.2.0",
          "model_name": "LayoutModel",
          "state": {
            "_model_module": "@jupyter-widgets/base",
            "_model_module_version": "1.2.0",
            "_model_name": "LayoutModel",
            "_view_count": null,
            "_view_module": "@jupyter-widgets/base",
            "_view_module_version": "1.2.0",
            "_view_name": "LayoutView",
            "align_content": null,
            "align_items": null,
            "align_self": null,
            "border": null,
            "bottom": null,
            "display": null,
            "flex": null,
            "flex_flow": null,
            "grid_area": null,
            "grid_auto_columns": null,
            "grid_auto_flow": null,
            "grid_auto_rows": null,
            "grid_column": null,
            "grid_gap": null,
            "grid_row": null,
            "grid_template_areas": null,
            "grid_template_columns": null,
            "grid_template_rows": null,
            "height": null,
            "justify_content": null,
            "justify_items": null,
            "left": null,
            "margin": null,
            "max_height": null,
            "max_width": null,
            "min_height": null,
            "min_width": null,
            "object_fit": null,
            "object_position": null,
            "order": null,
            "overflow": null,
            "overflow_x": null,
            "overflow_y": null,
            "padding": null,
            "right": null,
            "top": null,
            "visibility": null,
            "width": null
          }
        },
        "13d351a06ebd442191b187a2bc0bfa88": {
          "model_module": "@jupyter-widgets/controls",
          "model_module_version": "1.5.0",
          "model_name": "HTMLModel",
          "state": {
            "_dom_classes": [],
            "_model_module": "@jupyter-widgets/controls",
            "_model_module_version": "1.5.0",
            "_model_name": "HTMLModel",
            "_view_count": null,
            "_view_module": "@jupyter-widgets/controls",
            "_view_module_version": "1.5.0",
            "_view_name": "HTMLView",
            "description": "",
            "description_tooltip": null,
            "layout": "IPY_MODEL_28b9a6b44fab4f228822df2da226e1eb",
            "placeholder": "​",
            "style": "IPY_MODEL_7b41b4e7de704260937362f6b535a797",
            "value": " 760/760 [00:00&lt;00:00, 30.3kB/s]"
          }
        },
        "2051bf73da204cbd8406e52d7a41f313": {
          "model_module": "@jupyter-widgets/controls",
          "model_module_version": "1.5.0",
          "model_name": "DescriptionStyleModel",
          "state": {
            "_model_module": "@jupyter-widgets/controls",
            "_model_module_version": "1.5.0",
            "_model_name": "DescriptionStyleModel",
            "_view_count": null,
            "_view_module": "@jupyter-widgets/base",
            "_view_module_version": "1.2.0",
            "_view_name": "StyleView",
            "description_width": ""
          }
        },
        "22dfd859c40843f9a7bbfbf90ec2e6bd": {
          "model_module": "@jupyter-widgets/controls",
          "model_module_version": "1.5.0",
          "model_name": "DescriptionStyleModel",
          "state": {
            "_model_module": "@jupyter-widgets/controls",
            "_model_module_version": "1.5.0",
            "_model_name": "DescriptionStyleModel",
            "_view_count": null,
            "_view_module": "@jupyter-widgets/base",
            "_view_module_version": "1.2.0",
            "_view_name": "StyleView",
            "description_width": ""
          }
        },
        "28b9a6b44fab4f228822df2da226e1eb": {
          "model_module": "@jupyter-widgets/base",
          "model_module_version": "1.2.0",
          "model_name": "LayoutModel",
          "state": {
            "_model_module": "@jupyter-widgets/base",
            "_model_module_version": "1.2.0",
            "_model_name": "LayoutModel",
            "_view_count": null,
            "_view_module": "@jupyter-widgets/base",
            "_view_module_version": "1.2.0",
            "_view_name": "LayoutView",
            "align_content": null,
            "align_items": null,
            "align_self": null,
            "border": null,
            "bottom": null,
            "display": null,
            "flex": null,
            "flex_flow": null,
            "grid_area": null,
            "grid_auto_columns": null,
            "grid_auto_flow": null,
            "grid_auto_rows": null,
            "grid_column": null,
            "grid_gap": null,
            "grid_row": null,
            "grid_template_areas": null,
            "grid_template_columns": null,
            "grid_template_rows": null,
            "height": null,
            "justify_content": null,
            "justify_items": null,
            "left": null,
            "margin": null,
            "max_height": null,
            "max_width": null,
            "min_height": null,
            "min_width": null,
            "object_fit": null,
            "object_position": null,
            "order": null,
            "overflow": null,
            "overflow_x": null,
            "overflow_y": null,
            "padding": null,
            "right": null,
            "top": null,
            "visibility": null,
            "width": null
          }
        },
        "2bc762c1b81d4c2da97d0c6156ec0720": {
          "model_module": "@jupyter-widgets/controls",
          "model_module_version": "1.5.0",
          "model_name": "HTMLModel",
          "state": {
            "_dom_classes": [],
            "_model_module": "@jupyter-widgets/controls",
            "_model_module_version": "1.5.0",
            "_model_name": "HTMLModel",
            "_view_count": null,
            "_view_module": "@jupyter-widgets/controls",
            "_view_module_version": "1.5.0",
            "_view_name": "HTMLView",
            "description": "",
            "description_tooltip": null,
            "layout": "IPY_MODEL_44c6e510386f4962abfa223094842a81",
            "placeholder": "​",
            "style": "IPY_MODEL_52062b9db26a4346a7ea60d49e7afe92",
            "value": " 467M/467M [00:05&lt;00:00, 81.3MB/s]"
          }
        },
        "326050fa740a46d1b81d22fc6edcc9e2": {
          "model_module": "@jupyter-widgets/controls",
          "model_module_version": "1.5.0",
          "model_name": "ProgressStyleModel",
          "state": {
            "_model_module": "@jupyter-widgets/controls",
            "_model_module_version": "1.5.0",
            "_model_name": "ProgressStyleModel",
            "_view_count": null,
            "_view_module": "@jupyter-widgets/base",
            "_view_module_version": "1.2.0",
            "_view_name": "StyleView",
            "bar_color": null,
            "description_width": ""
          }
        },
        "41fb8661046845b7b31f1d716f5251a0": {
          "model_module": "@jupyter-widgets/controls",
          "model_module_version": "1.5.0",
          "model_name": "FloatProgressModel",
          "state": {
            "_dom_classes": [],
            "_model_module": "@jupyter-widgets/controls",
            "_model_module_version": "1.5.0",
            "_model_name": "FloatProgressModel",
            "_view_count": null,
            "_view_module": "@jupyter-widgets/controls",
            "_view_module_version": "1.5.0",
            "_view_name": "ProgressView",
            "bar_style": "success",
            "description": "",
            "description_tooltip": null,
            "layout": "IPY_MODEL_edff1f4250644864afd147f02bc128af",
            "max": 798011,
            "min": 0,
            "orientation": "horizontal",
            "style": "IPY_MODEL_e43ec81763044c2486b25363b32f3182",
            "value": 798011
          }
        },
        "44c6e510386f4962abfa223094842a81": {
          "model_module": "@jupyter-widgets/base",
          "model_module_version": "1.2.0",
          "model_name": "LayoutModel",
          "state": {
            "_model_module": "@jupyter-widgets/base",
            "_model_module_version": "1.2.0",
            "_model_name": "LayoutModel",
            "_view_count": null,
            "_view_module": "@jupyter-widgets/base",
            "_view_module_version": "1.2.0",
            "_view_name": "LayoutView",
            "align_content": null,
            "align_items": null,
            "align_self": null,
            "border": null,
            "bottom": null,
            "display": null,
            "flex": null,
            "flex_flow": null,
            "grid_area": null,
            "grid_auto_columns": null,
            "grid_auto_flow": null,
            "grid_auto_rows": null,
            "grid_column": null,
            "grid_gap": null,
            "grid_row": null,
            "grid_template_areas": null,
            "grid_template_columns": null,
            "grid_template_rows": null,
            "height": null,
            "justify_content": null,
            "justify_items": null,
            "left": null,
            "margin": null,
            "max_height": null,
            "max_width": null,
            "min_height": null,
            "min_width": null,
            "object_fit": null,
            "object_position": null,
            "order": null,
            "overflow": null,
            "overflow_x": null,
            "overflow_y": null,
            "padding": null,
            "right": null,
            "top": null,
            "visibility": null,
            "width": null
          }
        },
        "52062b9db26a4346a7ea60d49e7afe92": {
          "model_module": "@jupyter-widgets/controls",
          "model_module_version": "1.5.0",
          "model_name": "DescriptionStyleModel",
          "state": {
            "_model_module": "@jupyter-widgets/controls",
            "_model_module_version": "1.5.0",
            "_model_name": "DescriptionStyleModel",
            "_view_count": null,
            "_view_module": "@jupyter-widgets/base",
            "_view_module_version": "1.2.0",
            "_view_name": "StyleView",
            "description_width": ""
          }
        },
        "585416cda46244a5965a2d278f2d57e4": {
          "model_module": "@jupyter-widgets/controls",
          "model_module_version": "1.5.0",
          "model_name": "HBoxModel",
          "state": {
            "_dom_classes": [],
            "_model_module": "@jupyter-widgets/controls",
            "_model_module_version": "1.5.0",
            "_model_name": "HBoxModel",
            "_view_count": null,
            "_view_module": "@jupyter-widgets/controls",
            "_view_module_version": "1.5.0",
            "_view_name": "HBoxView",
            "box_style": "",
            "children": [
              "IPY_MODEL_09ddcf04c0b04e0e8a2a64b694d09385",
              "IPY_MODEL_0c708ebad52a4ba08c6eec04dbca2dfb",
              "IPY_MODEL_2bc762c1b81d4c2da97d0c6156ec0720"
            ],
            "layout": "IPY_MODEL_d895f27f53d34889bf042d517e3f16c4"
          }
        },
        "6027ab09bfce4bfa9caae7a8778ebcf7": {
          "model_module": "@jupyter-widgets/controls",
          "model_module_version": "1.5.0",
          "model_name": "DescriptionStyleModel",
          "state": {
            "_model_module": "@jupyter-widgets/controls",
            "_model_module_version": "1.5.0",
            "_model_name": "DescriptionStyleModel",
            "_view_count": null,
            "_view_module": "@jupyter-widgets/base",
            "_view_module_version": "1.2.0",
            "_view_name": "StyleView",
            "description_width": ""
          }
        },
        "604182784ef544beaa623c1719fae3fd": {
          "model_module": "@jupyter-widgets/controls",
          "model_module_version": "1.5.0",
          "model_name": "HTMLModel",
          "state": {
            "_dom_classes": [],
            "_model_module": "@jupyter-widgets/controls",
            "_model_module_version": "1.5.0",
            "_model_name": "HTMLModel",
            "_view_count": null,
            "_view_module": "@jupyter-widgets/controls",
            "_view_module_version": "1.5.0",
            "_view_name": "HTMLView",
            "description": "",
            "description_tooltip": null,
            "layout": "IPY_MODEL_12148a06fcd04b9b9de64a64296af786",
            "placeholder": "​",
            "style": "IPY_MODEL_2051bf73da204cbd8406e52d7a41f313",
            "value": "Downloading (…)ve/main/spiece.model: 100%"
          }
        },
        "6699dfdb3dbf4925b55a67f5e132617a": {
          "model_module": "@jupyter-widgets/controls",
          "model_module_version": "1.5.0",
          "model_name": "HTMLModel",
          "state": {
            "_dom_classes": [],
            "_model_module": "@jupyter-widgets/controls",
            "_model_module_version": "1.5.0",
            "_model_name": "HTMLModel",
            "_view_count": null,
            "_view_module": "@jupyter-widgets/controls",
            "_view_module_version": "1.5.0",
            "_view_name": "HTMLView",
            "description": "",
            "description_tooltip": null,
            "layout": "IPY_MODEL_ade1f011387f4aa4bf03f021636c9520",
            "placeholder": "​",
            "style": "IPY_MODEL_22dfd859c40843f9a7bbfbf90ec2e6bd",
            "value": " 798k/798k [00:00&lt;00:00, 6.73MB/s]"
          }
        },
        "6867ee2f685a47618b8dce524099f46c": {
          "model_module": "@jupyter-widgets/base",
          "model_module_version": "1.2.0",
          "model_name": "LayoutModel",
          "state": {
            "_model_module": "@jupyter-widgets/base",
            "_model_module_version": "1.2.0",
            "_model_name": "LayoutModel",
            "_view_count": null,
            "_view_module": "@jupyter-widgets/base",
            "_view_module_version": "1.2.0",
            "_view_name": "LayoutView",
            "align_content": null,
            "align_items": null,
            "align_self": null,
            "border": null,
            "bottom": null,
            "display": null,
            "flex": null,
            "flex_flow": null,
            "grid_area": null,
            "grid_auto_columns": null,
            "grid_auto_flow": null,
            "grid_auto_rows": null,
            "grid_column": null,
            "grid_gap": null,
            "grid_row": null,
            "grid_template_areas": null,
            "grid_template_columns": null,
            "grid_template_rows": null,
            "height": null,
            "justify_content": null,
            "justify_items": null,
            "left": null,
            "margin": null,
            "max_height": null,
            "max_width": null,
            "min_height": null,
            "min_width": null,
            "object_fit": null,
            "object_position": null,
            "order": null,
            "overflow": null,
            "overflow_x": null,
            "overflow_y": null,
            "padding": null,
            "right": null,
            "top": null,
            "visibility": null,
            "width": null
          }
        },
        "6b998a9cb58245f5844c5398abd37c2b": {
          "model_module": "@jupyter-widgets/base",
          "model_module_version": "1.2.0",
          "model_name": "LayoutModel",
          "state": {
            "_model_module": "@jupyter-widgets/base",
            "_model_module_version": "1.2.0",
            "_model_name": "LayoutModel",
            "_view_count": null,
            "_view_module": "@jupyter-widgets/base",
            "_view_module_version": "1.2.0",
            "_view_name": "LayoutView",
            "align_content": null,
            "align_items": null,
            "align_self": null,
            "border": null,
            "bottom": null,
            "display": null,
            "flex": null,
            "flex_flow": null,
            "grid_area": null,
            "grid_auto_columns": null,
            "grid_auto_flow": null,
            "grid_auto_rows": null,
            "grid_column": null,
            "grid_gap": null,
            "grid_row": null,
            "grid_template_areas": null,
            "grid_template_columns": null,
            "grid_template_rows": null,
            "height": null,
            "justify_content": null,
            "justify_items": null,
            "left": null,
            "margin": null,
            "max_height": null,
            "max_width": null,
            "min_height": null,
            "min_width": null,
            "object_fit": null,
            "object_position": null,
            "order": null,
            "overflow": null,
            "overflow_x": null,
            "overflow_y": null,
            "padding": null,
            "right": null,
            "top": null,
            "visibility": null,
            "width": null
          }
        },
        "6d7d84712f7e475ba4b099b3f2afdd8a": {
          "model_module": "@jupyter-widgets/controls",
          "model_module_version": "1.5.0",
          "model_name": "HBoxModel",
          "state": {
            "_dom_classes": [],
            "_model_module": "@jupyter-widgets/controls",
            "_model_module_version": "1.5.0",
            "_model_name": "HBoxModel",
            "_view_count": null,
            "_view_module": "@jupyter-widgets/controls",
            "_view_module_version": "1.5.0",
            "_view_name": "HBoxView",
            "box_style": "",
            "children": [
              "IPY_MODEL_cce49c04278c4dc3b6caf0a5c448007b",
              "IPY_MODEL_80025345d9fb43b39e7d09166ad17664",
              "IPY_MODEL_74635c54be064f30aba6b0e3700e096b"
            ],
            "layout": "IPY_MODEL_9152eaf044f4403eb9006458b0de939e"
          }
        },
        "73e813c9585f48ceb27d534f6a00a3f8": {
          "model_module": "@jupyter-widgets/base",
          "model_module_version": "1.2.0",
          "model_name": "LayoutModel",
          "state": {
            "_model_module": "@jupyter-widgets/base",
            "_model_module_version": "1.2.0",
            "_model_name": "LayoutModel",
            "_view_count": null,
            "_view_module": "@jupyter-widgets/base",
            "_view_module_version": "1.2.0",
            "_view_name": "LayoutView",
            "align_content": null,
            "align_items": null,
            "align_self": null,
            "border": null,
            "bottom": null,
            "display": null,
            "flex": null,
            "flex_flow": null,
            "grid_area": null,
            "grid_auto_columns": null,
            "grid_auto_flow": null,
            "grid_auto_rows": null,
            "grid_column": null,
            "grid_gap": null,
            "grid_row": null,
            "grid_template_areas": null,
            "grid_template_columns": null,
            "grid_template_rows": null,
            "height": null,
            "justify_content": null,
            "justify_items": null,
            "left": null,
            "margin": null,
            "max_height": null,
            "max_width": null,
            "min_height": null,
            "min_width": null,
            "object_fit": null,
            "object_position": null,
            "order": null,
            "overflow": null,
            "overflow_x": null,
            "overflow_y": null,
            "padding": null,
            "right": null,
            "top": null,
            "visibility": null,
            "width": null
          }
        },
        "74635c54be064f30aba6b0e3700e096b": {
          "model_module": "@jupyter-widgets/controls",
          "model_module_version": "1.5.0",
          "model_name": "HTMLModel",
          "state": {
            "_dom_classes": [],
            "_model_module": "@jupyter-widgets/controls",
            "_model_module_version": "1.5.0",
            "_model_name": "HTMLModel",
            "_view_count": null,
            "_view_module": "@jupyter-widgets/controls",
            "_view_module_version": "1.5.0",
            "_view_name": "HTMLView",
            "description": "",
            "description_tooltip": null,
            "layout": "IPY_MODEL_73e813c9585f48ceb27d534f6a00a3f8",
            "placeholder": "​",
            "style": "IPY_MODEL_f6c4cadaa6d641938b9fba8ddf4e3bc7",
            "value": " 1.38M/1.38M [00:00&lt;00:00, 10.6MB/s]"
          }
        },
        "7b41b4e7de704260937362f6b535a797": {
          "model_module": "@jupyter-widgets/controls",
          "model_module_version": "1.5.0",
          "model_name": "DescriptionStyleModel",
          "state": {
            "_model_module": "@jupyter-widgets/controls",
            "_model_module_version": "1.5.0",
            "_model_name": "DescriptionStyleModel",
            "_view_count": null,
            "_view_module": "@jupyter-widgets/base",
            "_view_module_version": "1.2.0",
            "_view_name": "StyleView",
            "description_width": ""
          }
        },
        "80025345d9fb43b39e7d09166ad17664": {
          "model_module": "@jupyter-widgets/controls",
          "model_module_version": "1.5.0",
          "model_name": "FloatProgressModel",
          "state": {
            "_dom_classes": [],
            "_model_module": "@jupyter-widgets/controls",
            "_model_module_version": "1.5.0",
            "_model_name": "FloatProgressModel",
            "_view_count": null,
            "_view_module": "@jupyter-widgets/controls",
            "_view_module_version": "1.5.0",
            "_view_name": "ProgressView",
            "bar_style": "success",
            "description": "",
            "description_tooltip": null,
            "layout": "IPY_MODEL_8e546ff93d4d4baabc1529e4241d0083",
            "max": 1382015,
            "min": 0,
            "orientation": "horizontal",
            "style": "IPY_MODEL_a0e4966fce50410b9e1056f65489a879",
            "value": 1382015
          }
        },
        "8e546ff93d4d4baabc1529e4241d0083": {
          "model_module": "@jupyter-widgets/base",
          "model_module_version": "1.2.0",
          "model_name": "LayoutModel",
          "state": {
            "_model_module": "@jupyter-widgets/base",
            "_model_module_version": "1.2.0",
            "_model_name": "LayoutModel",
            "_view_count": null,
            "_view_module": "@jupyter-widgets/base",
            "_view_module_version": "1.2.0",
            "_view_name": "LayoutView",
            "align_content": null,
            "align_items": null,
            "align_self": null,
            "border": null,
            "bottom": null,
            "display": null,
            "flex": null,
            "flex_flow": null,
            "grid_area": null,
            "grid_auto_columns": null,
            "grid_auto_flow": null,
            "grid_auto_rows": null,
            "grid_column": null,
            "grid_gap": null,
            "grid_row": null,
            "grid_template_areas": null,
            "grid_template_columns": null,
            "grid_template_rows": null,
            "height": null,
            "justify_content": null,
            "justify_items": null,
            "left": null,
            "margin": null,
            "max_height": null,
            "max_width": null,
            "min_height": null,
            "min_width": null,
            "object_fit": null,
            "object_position": null,
            "order": null,
            "overflow": null,
            "overflow_x": null,
            "overflow_y": null,
            "padding": null,
            "right": null,
            "top": null,
            "visibility": null,
            "width": null
          }
        },
        "9152eaf044f4403eb9006458b0de939e": {
          "model_module": "@jupyter-widgets/base",
          "model_module_version": "1.2.0",
          "model_name": "LayoutModel",
          "state": {
            "_model_module": "@jupyter-widgets/base",
            "_model_module_version": "1.2.0",
            "_model_name": "LayoutModel",
            "_view_count": null,
            "_view_module": "@jupyter-widgets/base",
            "_view_module_version": "1.2.0",
            "_view_name": "LayoutView",
            "align_content": null,
            "align_items": null,
            "align_self": null,
            "border": null,
            "bottom": null,
            "display": null,
            "flex": null,
            "flex_flow": null,
            "grid_area": null,
            "grid_auto_columns": null,
            "grid_auto_flow": null,
            "grid_auto_rows": null,
            "grid_column": null,
            "grid_gap": null,
            "grid_row": null,
            "grid_template_areas": null,
            "grid_template_columns": null,
            "grid_template_rows": null,
            "height": null,
            "justify_content": null,
            "justify_items": null,
            "left": null,
            "margin": null,
            "max_height": null,
            "max_width": null,
            "min_height": null,
            "min_width": null,
            "object_fit": null,
            "object_position": null,
            "order": null,
            "overflow": null,
            "overflow_x": null,
            "overflow_y": null,
            "padding": null,
            "right": null,
            "top": null,
            "visibility": null,
            "width": null
          }
        },
        "929f982f32584ecbb8cce80f74fc7d75": {
          "model_module": "@jupyter-widgets/base",
          "model_module_version": "1.2.0",
          "model_name": "LayoutModel",
          "state": {
            "_model_module": "@jupyter-widgets/base",
            "_model_module_version": "1.2.0",
            "_model_name": "LayoutModel",
            "_view_count": null,
            "_view_module": "@jupyter-widgets/base",
            "_view_module_version": "1.2.0",
            "_view_name": "LayoutView",
            "align_content": null,
            "align_items": null,
            "align_self": null,
            "border": null,
            "bottom": null,
            "display": null,
            "flex": null,
            "flex_flow": null,
            "grid_area": null,
            "grid_auto_columns": null,
            "grid_auto_flow": null,
            "grid_auto_rows": null,
            "grid_column": null,
            "grid_gap": null,
            "grid_row": null,
            "grid_template_areas": null,
            "grid_template_columns": null,
            "grid_template_rows": null,
            "height": null,
            "justify_content": null,
            "justify_items": null,
            "left": null,
            "margin": null,
            "max_height": null,
            "max_width": null,
            "min_height": null,
            "min_width": null,
            "object_fit": null,
            "object_position": null,
            "order": null,
            "overflow": null,
            "overflow_x": null,
            "overflow_y": null,
            "padding": null,
            "right": null,
            "top": null,
            "visibility": null,
            "width": null
          }
        },
        "95ae594572b745c994706652a3c55d1c": {
          "model_module": "@jupyter-widgets/base",
          "model_module_version": "1.2.0",
          "model_name": "LayoutModel",
          "state": {
            "_model_module": "@jupyter-widgets/base",
            "_model_module_version": "1.2.0",
            "_model_name": "LayoutModel",
            "_view_count": null,
            "_view_module": "@jupyter-widgets/base",
            "_view_module_version": "1.2.0",
            "_view_name": "LayoutView",
            "align_content": null,
            "align_items": null,
            "align_self": null,
            "border": null,
            "bottom": null,
            "display": null,
            "flex": null,
            "flex_flow": null,
            "grid_area": null,
            "grid_auto_columns": null,
            "grid_auto_flow": null,
            "grid_auto_rows": null,
            "grid_column": null,
            "grid_gap": null,
            "grid_row": null,
            "grid_template_areas": null,
            "grid_template_columns": null,
            "grid_template_rows": null,
            "height": null,
            "justify_content": null,
            "justify_items": null,
            "left": null,
            "margin": null,
            "max_height": null,
            "max_width": null,
            "min_height": null,
            "min_width": null,
            "object_fit": null,
            "object_position": null,
            "order": null,
            "overflow": null,
            "overflow_x": null,
            "overflow_y": null,
            "padding": null,
            "right": null,
            "top": null,
            "visibility": null,
            "width": null
          }
        },
        "969c30a8fc2843d4bccc8d212a23e983": {
          "model_module": "@jupyter-widgets/controls",
          "model_module_version": "1.5.0",
          "model_name": "DescriptionStyleModel",
          "state": {
            "_model_module": "@jupyter-widgets/controls",
            "_model_module_version": "1.5.0",
            "_model_name": "DescriptionStyleModel",
            "_view_count": null,
            "_view_module": "@jupyter-widgets/base",
            "_view_module_version": "1.2.0",
            "_view_name": "StyleView",
            "description_width": ""
          }
        },
        "a0e4966fce50410b9e1056f65489a879": {
          "model_module": "@jupyter-widgets/controls",
          "model_module_version": "1.5.0",
          "model_name": "ProgressStyleModel",
          "state": {
            "_model_module": "@jupyter-widgets/controls",
            "_model_module_version": "1.5.0",
            "_model_name": "ProgressStyleModel",
            "_view_count": null,
            "_view_module": "@jupyter-widgets/base",
            "_view_module_version": "1.2.0",
            "_view_name": "StyleView",
            "bar_color": null,
            "description_width": ""
          }
        },
        "a75e97737bfd4da984cd47e74a89fb06": {
          "model_module": "@jupyter-widgets/controls",
          "model_module_version": "1.5.0",
          "model_name": "ProgressStyleModel",
          "state": {
            "_model_module": "@jupyter-widgets/controls",
            "_model_module_version": "1.5.0",
            "_model_name": "ProgressStyleModel",
            "_view_count": null,
            "_view_module": "@jupyter-widgets/base",
            "_view_module_version": "1.2.0",
            "_view_name": "StyleView",
            "bar_color": null,
            "description_width": ""
          }
        },
        "ade1f011387f4aa4bf03f021636c9520": {
          "model_module": "@jupyter-widgets/base",
          "model_module_version": "1.2.0",
          "model_name": "LayoutModel",
          "state": {
            "_model_module": "@jupyter-widgets/base",
            "_model_module_version": "1.2.0",
            "_model_name": "LayoutModel",
            "_view_count": null,
            "_view_module": "@jupyter-widgets/base",
            "_view_module_version": "1.2.0",
            "_view_name": "LayoutView",
            "align_content": null,
            "align_items": null,
            "align_self": null,
            "border": null,
            "bottom": null,
            "display": null,
            "flex": null,
            "flex_flow": null,
            "grid_area": null,
            "grid_auto_columns": null,
            "grid_auto_flow": null,
            "grid_auto_rows": null,
            "grid_column": null,
            "grid_gap": null,
            "grid_row": null,
            "grid_template_areas": null,
            "grid_template_columns": null,
            "grid_template_rows": null,
            "height": null,
            "justify_content": null,
            "justify_items": null,
            "left": null,
            "margin": null,
            "max_height": null,
            "max_width": null,
            "min_height": null,
            "min_width": null,
            "object_fit": null,
            "object_position": null,
            "order": null,
            "overflow": null,
            "overflow_x": null,
            "overflow_y": null,
            "padding": null,
            "right": null,
            "top": null,
            "visibility": null,
            "width": null
          }
        },
        "b16862dec32f4c00b0e3908b07df935f": {
          "model_module": "@jupyter-widgets/controls",
          "model_module_version": "1.5.0",
          "model_name": "HBoxModel",
          "state": {
            "_dom_classes": [],
            "_model_module": "@jupyter-widgets/controls",
            "_model_module_version": "1.5.0",
            "_model_name": "HBoxModel",
            "_view_count": null,
            "_view_module": "@jupyter-widgets/controls",
            "_view_module_version": "1.5.0",
            "_view_name": "HBoxView",
            "box_style": "",
            "children": [
              "IPY_MODEL_604182784ef544beaa623c1719fae3fd",
              "IPY_MODEL_41fb8661046845b7b31f1d716f5251a0",
              "IPY_MODEL_6699dfdb3dbf4925b55a67f5e132617a"
            ],
            "layout": "IPY_MODEL_6867ee2f685a47618b8dce524099f46c"
          }
        },
        "cce49c04278c4dc3b6caf0a5c448007b": {
          "model_module": "@jupyter-widgets/controls",
          "model_module_version": "1.5.0",
          "model_name": "HTMLModel",
          "state": {
            "_dom_classes": [],
            "_model_module": "@jupyter-widgets/controls",
            "_model_module_version": "1.5.0",
            "_model_name": "HTMLModel",
            "_view_count": null,
            "_view_module": "@jupyter-widgets/controls",
            "_view_module_version": "1.5.0",
            "_view_name": "HTMLView",
            "description": "",
            "description_tooltip": null,
            "layout": "IPY_MODEL_929f982f32584ecbb8cce80f74fc7d75",
            "placeholder": "​",
            "style": "IPY_MODEL_6027ab09bfce4bfa9caae7a8778ebcf7",
            "value": "Downloading (…)/main/tokenizer.json: 100%"
          }
        },
        "ce4751a025d6473e8dfb431a8191398a": {
          "model_module": "@jupyter-widgets/base",
          "model_module_version": "1.2.0",
          "model_name": "LayoutModel",
          "state": {
            "_model_module": "@jupyter-widgets/base",
            "_model_module_version": "1.2.0",
            "_model_name": "LayoutModel",
            "_view_count": null,
            "_view_module": "@jupyter-widgets/base",
            "_view_module_version": "1.2.0",
            "_view_name": "LayoutView",
            "align_content": null,
            "align_items": null,
            "align_self": null,
            "border": null,
            "bottom": null,
            "display": null,
            "flex": null,
            "flex_flow": null,
            "grid_area": null,
            "grid_auto_columns": null,
            "grid_auto_flow": null,
            "grid_auto_rows": null,
            "grid_column": null,
            "grid_gap": null,
            "grid_row": null,
            "grid_template_areas": null,
            "grid_template_columns": null,
            "grid_template_rows": null,
            "height": null,
            "justify_content": null,
            "justify_items": null,
            "left": null,
            "margin": null,
            "max_height": null,
            "max_width": null,
            "min_height": null,
            "min_width": null,
            "object_fit": null,
            "object_position": null,
            "order": null,
            "overflow": null,
            "overflow_x": null,
            "overflow_y": null,
            "padding": null,
            "right": null,
            "top": null,
            "visibility": null,
            "width": null
          }
        },
        "d2ce5ca7a8af4325855f3cbe012aa576": {
          "model_module": "@jupyter-widgets/base",
          "model_module_version": "1.2.0",
          "model_name": "LayoutModel",
          "state": {
            "_model_module": "@jupyter-widgets/base",
            "_model_module_version": "1.2.0",
            "_model_name": "LayoutModel",
            "_view_count": null,
            "_view_module": "@jupyter-widgets/base",
            "_view_module_version": "1.2.0",
            "_view_name": "LayoutView",
            "align_content": null,
            "align_items": null,
            "align_self": null,
            "border": null,
            "bottom": null,
            "display": null,
            "flex": null,
            "flex_flow": null,
            "grid_area": null,
            "grid_auto_columns": null,
            "grid_auto_flow": null,
            "grid_auto_rows": null,
            "grid_column": null,
            "grid_gap": null,
            "grid_row": null,
            "grid_template_areas": null,
            "grid_template_columns": null,
            "grid_template_rows": null,
            "height": null,
            "justify_content": null,
            "justify_items": null,
            "left": null,
            "margin": null,
            "max_height": null,
            "max_width": null,
            "min_height": null,
            "min_width": null,
            "object_fit": null,
            "object_position": null,
            "order": null,
            "overflow": null,
            "overflow_x": null,
            "overflow_y": null,
            "padding": null,
            "right": null,
            "top": null,
            "visibility": null,
            "width": null
          }
        },
        "d49ee210817443bcb40b50e348e73894": {
          "model_module": "@jupyter-widgets/base",
          "model_module_version": "1.2.0",
          "model_name": "LayoutModel",
          "state": {
            "_model_module": "@jupyter-widgets/base",
            "_model_module_version": "1.2.0",
            "_model_name": "LayoutModel",
            "_view_count": null,
            "_view_module": "@jupyter-widgets/base",
            "_view_module_version": "1.2.0",
            "_view_name": "LayoutView",
            "align_content": null,
            "align_items": null,
            "align_self": null,
            "border": null,
            "bottom": null,
            "display": null,
            "flex": null,
            "flex_flow": null,
            "grid_area": null,
            "grid_auto_columns": null,
            "grid_auto_flow": null,
            "grid_auto_rows": null,
            "grid_column": null,
            "grid_gap": null,
            "grid_row": null,
            "grid_template_areas": null,
            "grid_template_columns": null,
            "grid_template_rows": null,
            "height": null,
            "justify_content": null,
            "justify_items": null,
            "left": null,
            "margin": null,
            "max_height": null,
            "max_width": null,
            "min_height": null,
            "min_width": null,
            "object_fit": null,
            "object_position": null,
            "order": null,
            "overflow": null,
            "overflow_x": null,
            "overflow_y": null,
            "padding": null,
            "right": null,
            "top": null,
            "visibility": null,
            "width": null
          }
        },
        "d691dead6b33417b823a4f4d4467a308": {
          "model_module": "@jupyter-widgets/controls",
          "model_module_version": "1.5.0",
          "model_name": "DescriptionStyleModel",
          "state": {
            "_model_module": "@jupyter-widgets/controls",
            "_model_module_version": "1.5.0",
            "_model_name": "DescriptionStyleModel",
            "_view_count": null,
            "_view_module": "@jupyter-widgets/base",
            "_view_module_version": "1.2.0",
            "_view_name": "StyleView",
            "description_width": ""
          }
        },
        "d7e69b3d6e03446dbe08b77f3adacb10": {
          "model_module": "@jupyter-widgets/controls",
          "model_module_version": "1.5.0",
          "model_name": "FloatProgressModel",
          "state": {
            "_dom_classes": [],
            "_model_module": "@jupyter-widgets/controls",
            "_model_module_version": "1.5.0",
            "_model_name": "FloatProgressModel",
            "_view_count": null,
            "_view_module": "@jupyter-widgets/controls",
            "_view_module_version": "1.5.0",
            "_view_name": "ProgressView",
            "bar_style": "success",
            "description": "",
            "description_tooltip": null,
            "layout": "IPY_MODEL_ce4751a025d6473e8dfb431a8191398a",
            "max": 760,
            "min": 0,
            "orientation": "horizontal",
            "style": "IPY_MODEL_a75e97737bfd4da984cd47e74a89fb06",
            "value": 760
          }
        },
        "d895f27f53d34889bf042d517e3f16c4": {
          "model_module": "@jupyter-widgets/base",
          "model_module_version": "1.2.0",
          "model_name": "LayoutModel",
          "state": {
            "_model_module": "@jupyter-widgets/base",
            "_model_module_version": "1.2.0",
            "_model_name": "LayoutModel",
            "_view_count": null,
            "_view_module": "@jupyter-widgets/base",
            "_view_module_version": "1.2.0",
            "_view_name": "LayoutView",
            "align_content": null,
            "align_items": null,
            "align_self": null,
            "border": null,
            "bottom": null,
            "display": null,
            "flex": null,
            "flex_flow": null,
            "grid_area": null,
            "grid_auto_columns": null,
            "grid_auto_flow": null,
            "grid_auto_rows": null,
            "grid_column": null,
            "grid_gap": null,
            "grid_row": null,
            "grid_template_areas": null,
            "grid_template_columns": null,
            "grid_template_rows": null,
            "height": null,
            "justify_content": null,
            "justify_items": null,
            "left": null,
            "margin": null,
            "max_height": null,
            "max_width": null,
            "min_height": null,
            "min_width": null,
            "object_fit": null,
            "object_position": null,
            "order": null,
            "overflow": null,
            "overflow_x": null,
            "overflow_y": null,
            "padding": null,
            "right": null,
            "top": null,
            "visibility": null,
            "width": null
          }
        },
        "e43ec81763044c2486b25363b32f3182": {
          "model_module": "@jupyter-widgets/controls",
          "model_module_version": "1.5.0",
          "model_name": "ProgressStyleModel",
          "state": {
            "_model_module": "@jupyter-widgets/controls",
            "_model_module_version": "1.5.0",
            "_model_name": "ProgressStyleModel",
            "_view_count": null,
            "_view_module": "@jupyter-widgets/base",
            "_view_module_version": "1.2.0",
            "_view_name": "StyleView",
            "bar_color": null,
            "description_width": ""
          }
        },
        "ebc0631cbb5c4befaf1254ff721b04a0": {
          "model_module": "@jupyter-widgets/controls",
          "model_module_version": "1.5.0",
          "model_name": "HTMLModel",
          "state": {
            "_dom_classes": [],
            "_model_module": "@jupyter-widgets/controls",
            "_model_module_version": "1.5.0",
            "_model_name": "HTMLModel",
            "_view_count": null,
            "_view_module": "@jupyter-widgets/controls",
            "_view_module_version": "1.5.0",
            "_view_name": "HTMLView",
            "description": "",
            "description_tooltip": null,
            "layout": "IPY_MODEL_d2ce5ca7a8af4325855f3cbe012aa576",
            "placeholder": "​",
            "style": "IPY_MODEL_d691dead6b33417b823a4f4d4467a308",
            "value": "Downloading (…)lve/main/config.json: 100%"
          }
        },
        "edff1f4250644864afd147f02bc128af": {
          "model_module": "@jupyter-widgets/base",
          "model_module_version": "1.2.0",
          "model_name": "LayoutModel",
          "state": {
            "_model_module": "@jupyter-widgets/base",
            "_model_module_version": "1.2.0",
            "_model_name": "LayoutModel",
            "_view_count": null,
            "_view_module": "@jupyter-widgets/base",
            "_view_module_version": "1.2.0",
            "_view_name": "LayoutView",
            "align_content": null,
            "align_items": null,
            "align_self": null,
            "border": null,
            "bottom": null,
            "display": null,
            "flex": null,
            "flex_flow": null,
            "grid_area": null,
            "grid_auto_columns": null,
            "grid_auto_flow": null,
            "grid_auto_rows": null,
            "grid_column": null,
            "grid_gap": null,
            "grid_row": null,
            "grid_template_areas": null,
            "grid_template_columns": null,
            "grid_template_rows": null,
            "height": null,
            "justify_content": null,
            "justify_items": null,
            "left": null,
            "margin": null,
            "max_height": null,
            "max_width": null,
            "min_height": null,
            "min_width": null,
            "object_fit": null,
            "object_position": null,
            "order": null,
            "overflow": null,
            "overflow_x": null,
            "overflow_y": null,
            "padding": null,
            "right": null,
            "top": null,
            "visibility": null,
            "width": null
          }
        },
        "f3395154d1f646a599a39ed34c4d45df": {
          "model_module": "@jupyter-widgets/controls",
          "model_module_version": "1.5.0",
          "model_name": "HBoxModel",
          "state": {
            "_dom_classes": [],
            "_model_module": "@jupyter-widgets/controls",
            "_model_module_version": "1.5.0",
            "_model_name": "HBoxModel",
            "_view_count": null,
            "_view_module": "@jupyter-widgets/controls",
            "_view_module_version": "1.5.0",
            "_view_name": "HBoxView",
            "box_style": "",
            "children": [
              "IPY_MODEL_ebc0631cbb5c4befaf1254ff721b04a0",
              "IPY_MODEL_d7e69b3d6e03446dbe08b77f3adacb10",
              "IPY_MODEL_13d351a06ebd442191b187a2bc0bfa88"
            ],
            "layout": "IPY_MODEL_6b998a9cb58245f5844c5398abd37c2b"
          }
        },
        "f6c4cadaa6d641938b9fba8ddf4e3bc7": {
          "model_module": "@jupyter-widgets/controls",
          "model_module_version": "1.5.0",
          "model_name": "DescriptionStyleModel",
          "state": {
            "_model_module": "@jupyter-widgets/controls",
            "_model_module_version": "1.5.0",
            "_model_name": "DescriptionStyleModel",
            "_view_count": null,
            "_view_module": "@jupyter-widgets/base",
            "_view_module_version": "1.2.0",
            "_view_name": "StyleView",
            "description_width": ""
          }
        }
      }
    }
  },
  "nbformat": 4,
  "nbformat_minor": 0
}
