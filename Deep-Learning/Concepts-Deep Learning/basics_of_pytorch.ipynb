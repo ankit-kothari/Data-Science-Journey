{
  "nbformat": 4,
  "nbformat_minor": 0,
  "metadata": {
    "colab": {
      "provenance": []
    },
    "kernelspec": {
      "name": "python3",
      "display_name": "Python 3"
    },
    "language_info": {
      "name": "python"
    }
  },
  "cells": [
    {
      "cell_type": "markdown",
      "source": [
        "#**Week 1 - PyTorch and MLPs** (~1 hr total)\n",
        "\n"
      ],
      "metadata": {
        "id": "OwkdvS4Nd8ux"
      }
    },
    {
      "cell_type": "markdown",
      "source": [
        "## Part 0 - Setup (~1 min)\n",
        "\n",
        "**Before you begin, please clone this notebook!**\n",
        "\n",
        "*File > Save a copy in Drive*\n",
        "\n",
        "Then, go to the `DLE-Jun23` Drive [folder link](https://drive.google.com/drive/folders/1G960JEYYy646Gn_4Xxm_W5jYjHBwlglS?usp=drive_link), click the down arrow next to DLE-Jun23, and select \"Add shortcut to Drive\". Make sure the shortcut is added to \"My Drive\".\n",
        "\n",
        "<img src=\"https://drive.google.com/uc?export=download&id=1y2OCLuw7Ux2h10HQSVpT0s5c2k1JPGS-\"  width=\"300\">"
      ],
      "metadata": {
        "id": "WfeNp0JxocE2"
      }
    },
    {
      "cell_type": "code",
      "source": [
        "from logging import exception\n",
        "#@title Step 1: Mount drive\n",
        "#@markdown Run this cell. If prompted, press \"Connect to Google Drive\" and select your Google account.\n",
        "#@markdown Then, under the folder icon 📁 on the left panel, you should see the folder **drive** appear.\n",
        "from google.colab import drive\n",
        "from IPython.display import display, Markdown, HTML\n",
        "import os, sys\n",
        "\n",
        "%load_ext autoreload\n",
        "%reload_ext autoreload\n",
        "%autoreload 2\n",
        "try:\n",
        "  drive.mount('/content/drive', force_remount=False)\n",
        "  sys.path.append('/content/drive/MyDrive/DLE-Jun23/Projects')\n",
        "  os.chdir('/content/drive/MyDrive/Colab Notebooks/')\n",
        "  display(\"⭐ Mounted successfully!\")\n",
        "except:\n",
        "  display(HTML('<span style=\"color:red\">An error occurred. Try again!</span>'))\n"
      ],
      "metadata": {
        "id": "u3fm6NNHBMr5",
        "colab": {
          "base_uri": "https://localhost:8080/",
          "height": 73
        },
        "outputId": "89c7161b-c81b-4928-cc2e-a195746742dc"
      },
      "execution_count": null,
      "outputs": [
        {
          "output_type": "stream",
          "name": "stdout",
          "text": [
            "Drive already mounted at /content/drive; to attempt to forcibly remount, call drive.mount(\"/content/drive\", force_remount=True).\n"
          ]
        },
        {
          "output_type": "display_data",
          "data": {
            "text/plain": [
              "'⭐ Mounted successfully!'"
            ],
            "application/vnd.google.colaboratory.intrinsic+json": {
              "type": "string"
            }
          },
          "metadata": {}
        }
      ]
    },
    {
      "cell_type": "markdown",
      "source": [
        "### Step 2: Import packages"
      ],
      "metadata": {
        "id": "quEFcn37Q8Ak"
      }
    },
    {
      "cell_type": "code",
      "source": [
        "%%capture\n",
        "\n",
        "%load_ext autoreload\n",
        "%autoreload 2\n",
        "\n",
        "!pip install gradio\n",
        "from dle_utils.dle_utils import *\n",
        "import gradio as gr\n",
        "import torch\n",
        "import torch.nn as nn\n",
        "import numpy as np\n",
        "np.random.seed(0)\n",
        "torch.manual_seed(0)"
      ],
      "metadata": {
        "id": "0QlX3-fFmHLk"
      },
      "execution_count": null,
      "outputs": []
    },
    {
      "cell_type": "code",
      "source": [
        "#@title Step 3: Enter your name to begin\n",
        "#@markdown Enter your name as it appears in Slack and run this cell! (Optional; this allows us gain insight into your progress. You can also leave this blank.)\n",
        "Name = 'Ankit Kothari' #@param {type:\"string\"}\n",
        "filepath = '/content/drive/MyDrive/Colab Notebooks/dle_info.txt'\n",
        "if os.path.exists(filepath):\n",
        "  print(\"Success!\")\n",
        "else:\n",
        "  if len(Name) == 0:\n",
        "    print(\"Please set your name!\")\n",
        "  else:\n",
        "    try:\n",
        "      with open(filepath, 'w') as fp:\n",
        "        fp.write(Name)\n",
        "        dle_username = Name\n",
        "      print(\"Success!\")\n",
        "    except:\n",
        "      print(\"Something went wrong...\")\n"
      ],
      "metadata": {
        "id": "sxYKrTzuer1C",
        "cellView": "form",
        "colab": {
          "base_uri": "https://localhost:8080/"
        },
        "outputId": "e3134f2c-613c-4d55-f5a9-f3976ea18ced"
      },
      "execution_count": null,
      "outputs": [
        {
          "output_type": "stream",
          "name": "stdout",
          "text": [
            "Success!\n"
          ]
        }
      ]
    },
    {
      "cell_type": "markdown",
      "source": [
        "**Note**: Most cells contains a `check` function that provides feedback on your solution (correct or incorrect). We've designed these for your benefit to know that you are on the right track! Even if you are stuck on one section, we encourage you to continue as a failed check does not prevent you from continuing. Though we have worked to make each check as comprehensive as possible, PyTorch may from time to time have unexpected random behaviors. Please reach out to the instructors if you think your answer should be passing a check!"
      ],
      "metadata": {
        "id": "ZWMw3Kms-KzG"
      }
    },
    {
      "cell_type": "markdown",
      "source": [
        "# Part 1 - PyTorch Basics (~30 min)\n",
        "\n",
        "## *Tensor < Layer < Network*\n",
        "\n",
        "In PyTorch, a **tensor** is the fundamental data structure for storing and manipulating data, a **layer** is a neural network component that performs a specific computation on the input tensors and produces output tensors, and a **network** (also known as a model) is a collection of layers that are organized in a specific way to perform a specific task, such as image classification or machine translation.\n"
      ],
      "metadata": {
        "id": "kHx3e30YXmW4"
      }
    },
    {
      "cell_type": "markdown",
      "source": [
        "## Step 1: Tensors\n",
        "\n",
        "PyTorch has its own classes for arrays and data, similar to how Numpy has objects like np.array. In order to perform PyTorch operations, we just to convert data into a PyTorch Tensor (torch.Tensor).\n",
        "\n",
        "For reference, PyTorch tensors are covered in the following documentation: https://pytorch.org/docs/stable/tensors.html\n",
        "\n",
        "This link will be very helpful for answering the following questions.\n",
        "\n",
        "### **10 quick exercises in PyTorch tensor operations:**"
      ],
      "metadata": {
        "id": "qk4BWNiM04bI"
      }
    },
    {
      "cell_type": "markdown",
      "source": [
        "1) Create a 3x6 tensor with ones:"
      ],
      "metadata": {
        "id": "c31zOlhqDGmV"
      }
    },
    {
      "cell_type": "code",
      "source": [
        "A = torch.ones([3, 6])\n",
        "\n",
        "check('1.1.1', A)"
      ],
      "metadata": {
        "id": "bgPulloLDN14",
        "colab": {
          "base_uri": "https://localhost:8080/",
          "height": 64
        },
        "outputId": "c2818a90-d564-4ca3-851a-e3cfcc812d60"
      },
      "execution_count": null,
      "outputs": [
        {
          "output_type": "execute_result",
          "data": {
            "text/plain": [
              "<IPython.core.display.Markdown object>"
            ],
            "text/markdown": "## Correct! 🎉"
          },
          "metadata": {},
          "execution_count": 6
        }
      ]
    },
    {
      "cell_type": "markdown",
      "source": [
        "2) Create a 3x6 tensor with random values:"
      ],
      "metadata": {
        "id": "N-CfhHrsDPl5"
      }
    },
    {
      "cell_type": "code",
      "source": [
        "torch.manual_seed(0)\n",
        "B = torch.rand([3,6])\n",
        "check('1.1.2', B)"
      ],
      "metadata": {
        "id": "dbmIfUMzDPl5",
        "colab": {
          "base_uri": "https://localhost:8080/",
          "height": 64
        },
        "outputId": "8d4974f1-6e54-406d-c7ef-d565d53964d9"
      },
      "execution_count": null,
      "outputs": [
        {
          "output_type": "execute_result",
          "data": {
            "text/plain": [
              "<IPython.core.display.Markdown object>"
            ],
            "text/markdown": "## Correct! 🎉"
          },
          "metadata": {},
          "execution_count": 7
        }
      ]
    },
    {
      "cell_type": "markdown",
      "source": [
        "3) Transpose B:"
      ],
      "metadata": {
        "id": "-5mwZ6PSEEqk"
      }
    },
    {
      "cell_type": "code",
      "source": [
        "B"
      ],
      "metadata": {
        "colab": {
          "base_uri": "https://localhost:8080/"
        },
        "id": "i649AMPp6s1k",
        "outputId": "23ffd3e0-e811-4e7b-eb6b-349bfb83661a"
      },
      "execution_count": null,
      "outputs": [
        {
          "output_type": "execute_result",
          "data": {
            "text/plain": [
              "tensor([[0.4963, 0.7682, 0.0885, 0.1320, 0.3074, 0.6341],\n",
              "        [0.4901, 0.8964, 0.4556, 0.6323, 0.3489, 0.4017],\n",
              "        [0.0223, 0.1689, 0.2939, 0.5185, 0.6977, 0.8000]])"
            ]
          },
          "metadata": {},
          "execution_count": 8
        }
      ]
    },
    {
      "cell_type": "code",
      "source": [
        "B_T = B.T\n",
        "check('1.1.3', B_T)"
      ],
      "metadata": {
        "id": "WTtHApYVEEql",
        "colab": {
          "base_uri": "https://localhost:8080/",
          "height": 64
        },
        "outputId": "6282bda9-8939-448d-dbba-49d74be633ad"
      },
      "execution_count": null,
      "outputs": [
        {
          "output_type": "execute_result",
          "data": {
            "text/plain": [
              "<IPython.core.display.Markdown object>"
            ],
            "text/markdown": "## Correct! 🎉"
          },
          "metadata": {},
          "execution_count": 9
        }
      ]
    },
    {
      "cell_type": "markdown",
      "source": [
        "4) Evaluate the following expression:\n",
        "\n",
        "$$C = (B-A)^T(B)$$\n",
        "\n",
        "That is, the product of two matrices: $(B-A)$ transposed, and B.\n",
        "Hint: Are A and B the same data type?"
      ],
      "metadata": {
        "id": "Yx94n0foDP2P"
      }
    },
    {
      "cell_type": "code",
      "source": [
        "C = ((B-A).T).matmul(B)\n",
        "check('1.1.4', C)"
      ],
      "metadata": {
        "id": "72--iLIjDP2P",
        "colab": {
          "base_uri": "https://localhost:8080/",
          "height": 64
        },
        "outputId": "1b24404c-bc83-482a-ab98-e486732cf2fa"
      },
      "execution_count": null,
      "outputs": [
        {
          "output_type": "execute_result",
          "data": {
            "text/plain": [
              "<IPython.core.display.Markdown object>"
            ],
            "text/markdown": "## Correct! 🎉"
          },
          "metadata": {},
          "execution_count": 10
        }
      ]
    },
    {
      "cell_type": "markdown",
      "source": [
        "5) Reshape C into shape (6,2,3):"
      ],
      "metadata": {
        "id": "LmSXk5wZEEyi"
      }
    },
    {
      "cell_type": "code",
      "source": [
        "D = torch.reshape(C, (6,2,3))\n",
        "\n",
        "check('1.1.5', D)"
      ],
      "metadata": {
        "id": "dMokyB36EEyi",
        "colab": {
          "base_uri": "https://localhost:8080/",
          "height": 64
        },
        "outputId": "7e9dcc6b-13d2-4d02-ac92-63aed01e1441"
      },
      "execution_count": null,
      "outputs": [
        {
          "output_type": "execute_result",
          "data": {
            "text/plain": [
              "<IPython.core.display.Markdown object>"
            ],
            "text/markdown": "## Correct! 🎉"
          },
          "metadata": {},
          "execution_count": 11
        }
      ]
    },
    {
      "cell_type": "markdown",
      "source": [
        "6) Slice the tensor `D` along axis 1 and select the first element:"
      ],
      "metadata": {
        "id": "U3EAAdx6E759"
      }
    },
    {
      "cell_type": "code",
      "source": [
        "D"
      ],
      "metadata": {
        "colab": {
          "base_uri": "https://localhost:8080/"
        },
        "id": "bu5l-zjr8E8B",
        "outputId": "c606a4ef-d7cc-4793-f8de-92ee74496447"
      },
      "execution_count": null,
      "outputs": [
        {
          "output_type": "execute_result",
          "data": {
            "text/plain": [
              "tensor([[[-0.5217, -1.0092, -0.5642],\n",
              "         [-0.8959, -1.0149, -1.3064]],\n",
              "\n",
              "        [[-0.1843, -0.4112, -0.3120],\n",
              "         [-0.5270, -0.6872, -0.8535]],\n",
              "\n",
              "        [[-0.7349, -1.3075, -0.5362],\n",
              "         [-0.8307, -0.9628, -1.3616]],\n",
              "\n",
              "        [[-0.6217, -1.0777, -0.3858],\n",
              "         [-0.5968, -0.7310, -1.0833]],\n",
              "\n",
              "        [[-0.6695, -1.1668, -0.4468],\n",
              "         [-0.6599, -0.6510, -0.9426]],\n",
              "\n",
              "        [[-0.4793, -0.8512, -0.3637],\n",
              "         [-0.5303, -0.4608, -0.6324]]])"
            ]
          },
          "metadata": {},
          "execution_count": 12
        }
      ]
    },
    {
      "cell_type": "code",
      "source": [
        "D_ = torch.select(D,1,0)\n",
        "check('1.1.6', D_)"
      ],
      "metadata": {
        "id": "0chvcKM9EE6t",
        "colab": {
          "base_uri": "https://localhost:8080/",
          "height": 64
        },
        "outputId": "bb927657-1b39-4480-891e-79189ef78d55"
      },
      "execution_count": null,
      "outputs": [
        {
          "output_type": "execute_result",
          "data": {
            "text/plain": [
              "<IPython.core.display.Markdown object>"
            ],
            "text/markdown": "## Correct! 🎉"
          },
          "metadata": {},
          "execution_count": 13
        }
      ]
    },
    {
      "cell_type": "code",
      "source": [
        "D_"
      ],
      "metadata": {
        "colab": {
          "base_uri": "https://localhost:8080/"
        },
        "id": "LBmtE4W78RDT",
        "outputId": "5294180c-7913-4e66-8225-346ae2aa91ba"
      },
      "execution_count": null,
      "outputs": [
        {
          "output_type": "execute_result",
          "data": {
            "text/plain": [
              "tensor([[-0.5217, -1.0092, -0.5642],\n",
              "        [-0.1843, -0.4112, -0.3120],\n",
              "        [-0.7349, -1.3075, -0.5362],\n",
              "        [-0.6217, -1.0777, -0.3858],\n",
              "        [-0.6695, -1.1668, -0.4468],\n",
              "        [-0.4793, -0.8512, -0.3637]])"
            ]
          },
          "metadata": {},
          "execution_count": 14
        }
      ]
    },
    {
      "cell_type": "markdown",
      "source": [
        "7) Concatenate tensors `B` and `C` along axis 0:"
      ],
      "metadata": {
        "id": "8jZhfrg5EFBU"
      }
    },
    {
      "cell_type": "code",
      "source": [
        "B"
      ],
      "metadata": {
        "colab": {
          "base_uri": "https://localhost:8080/"
        },
        "id": "ken2pj1399mN",
        "outputId": "2acdce71-c8f6-40c3-e513-137ed61afba7"
      },
      "execution_count": null,
      "outputs": [
        {
          "output_type": "execute_result",
          "data": {
            "text/plain": [
              "tensor([[0.4963, 0.7682, 0.0885, 0.1320, 0.3074, 0.6341],\n",
              "        [0.4901, 0.8964, 0.4556, 0.6323, 0.3489, 0.4017],\n",
              "        [0.0223, 0.1689, 0.2939, 0.5185, 0.6977, 0.8000]])"
            ]
          },
          "metadata": {},
          "execution_count": 15
        }
      ]
    },
    {
      "cell_type": "code",
      "source": [
        "C"
      ],
      "metadata": {
        "colab": {
          "base_uri": "https://localhost:8080/"
        },
        "id": "0-PkYNIl9-wa",
        "outputId": "3923ed94-52d5-4bbe-c793-5c70c8b65ac5"
      },
      "execution_count": null,
      "outputs": [
        {
          "output_type": "execute_result",
          "data": {
            "text/plain": [
              "tensor([[-0.5217, -1.0092, -0.5642, -0.8959, -1.0149, -1.3064],\n",
              "        [-0.1843, -0.4112, -0.3120, -0.5270, -0.6872, -0.8535],\n",
              "        [-0.7349, -1.3075, -0.5362, -0.8307, -0.9628, -1.3616],\n",
              "        [-0.6217, -1.0777, -0.3858, -0.5968, -0.7310, -1.0833],\n",
              "        [-0.6695, -1.1668, -0.4468, -0.6599, -0.6510, -0.9426],\n",
              "        [-0.4793, -0.8512, -0.3637, -0.5303, -0.4608, -0.6324]])"
            ]
          },
          "metadata": {},
          "execution_count": 16
        }
      ]
    },
    {
      "cell_type": "code",
      "source": [
        "B_C = torch.cat((B,C),0)\n",
        "check('1.1.7', B_C)"
      ],
      "metadata": {
        "id": "g4t1FBLTEFBU",
        "colab": {
          "base_uri": "https://localhost:8080/",
          "height": 64
        },
        "outputId": "b1ba15df-229e-4667-848b-51ee32aa023d"
      },
      "execution_count": null,
      "outputs": [
        {
          "output_type": "execute_result",
          "data": {
            "text/plain": [
              "<IPython.core.display.Markdown object>"
            ],
            "text/markdown": "## Correct! 🎉"
          },
          "metadata": {},
          "execution_count": 17
        }
      ]
    },
    {
      "cell_type": "code",
      "source": [
        "B_C"
      ],
      "metadata": {
        "colab": {
          "base_uri": "https://localhost:8080/"
        },
        "id": "U_iAPT0j-MUe",
        "outputId": "378db97d-e6c5-4827-ef19-4cfbc7642852"
      },
      "execution_count": null,
      "outputs": [
        {
          "output_type": "execute_result",
          "data": {
            "text/plain": [
              "tensor([[ 0.4963,  0.7682,  0.0885,  0.1320,  0.3074,  0.6341],\n",
              "        [ 0.4901,  0.8964,  0.4556,  0.6323,  0.3489,  0.4017],\n",
              "        [ 0.0223,  0.1689,  0.2939,  0.5185,  0.6977,  0.8000],\n",
              "        [-0.5217, -1.0092, -0.5642, -0.8959, -1.0149, -1.3064],\n",
              "        [-0.1843, -0.4112, -0.3120, -0.5270, -0.6872, -0.8535],\n",
              "        [-0.7349, -1.3075, -0.5362, -0.8307, -0.9628, -1.3616],\n",
              "        [-0.6217, -1.0777, -0.3858, -0.5968, -0.7310, -1.0833],\n",
              "        [-0.6695, -1.1668, -0.4468, -0.6599, -0.6510, -0.9426],\n",
              "        [-0.4793, -0.8512, -0.3637, -0.5303, -0.4608, -0.6324]])"
            ]
          },
          "metadata": {},
          "execution_count": 18
        }
      ]
    },
    {
      "cell_type": "markdown",
      "source": [
        "8) Create a NumPy array with random uniform values of size (4,4). Convert it to a PyTorch tensor:\n",
        "\n",
        "Hint: Use `numpy.random.rand()`!"
      ],
      "metadata": {
        "id": "W0sfMsYqFkQn"
      }
    },
    {
      "cell_type": "code",
      "source": [
        "np.random.seed(0)\n",
        "N = torch.tensor(np.random.rand(4,4))\n",
        "check('1.1.8', N)"
      ],
      "metadata": {
        "id": "J-fAkHV0FkQn",
        "colab": {
          "base_uri": "https://localhost:8080/",
          "height": 64
        },
        "outputId": "f6cad4f3-eec9-4dc0-f661-a10bd331d490"
      },
      "execution_count": null,
      "outputs": [
        {
          "output_type": "execute_result",
          "data": {
            "text/plain": [
              "<IPython.core.display.Markdown object>"
            ],
            "text/markdown": "## Correct! 🎉"
          },
          "metadata": {},
          "execution_count": 19
        }
      ]
    },
    {
      "cell_type": "markdown",
      "source": [
        "9) Convert tensor `N` back into a Numpy array:"
      ],
      "metadata": {
        "id": "jFY-iFMzFkZa"
      }
    },
    {
      "cell_type": "code",
      "source": [
        "N_A = N.detach().cpu().numpy()\n",
        "check('1.1.9', N_A)"
      ],
      "metadata": {
        "id": "rGUTTwqfFkZa",
        "colab": {
          "base_uri": "https://localhost:8080/",
          "height": 64
        },
        "outputId": "ffce09ff-33a6-4bde-bb55-28f19de89854"
      },
      "execution_count": null,
      "outputs": [
        {
          "output_type": "execute_result",
          "data": {
            "text/plain": [
              "<IPython.core.display.Markdown object>"
            ],
            "text/markdown": "## Correct! 🎉"
          },
          "metadata": {},
          "execution_count": 20
        }
      ]
    },
    {
      "cell_type": "markdown",
      "source": [
        "10) Set the value of the number in the 1st row, 2nd column of `N` to 20:"
      ],
      "metadata": {
        "id": "_UiojMgiFkgz"
      }
    },
    {
      "cell_type": "code",
      "source": [
        "N"
      ],
      "metadata": {
        "colab": {
          "base_uri": "https://localhost:8080/"
        },
        "id": "KN3P8u56-Z7z",
        "outputId": "547842d8-cb84-4986-9fba-c5d6cec214ea"
      },
      "execution_count": null,
      "outputs": [
        {
          "output_type": "execute_result",
          "data": {
            "text/plain": [
              "tensor([[0.5488, 0.7152, 0.6028, 0.5449],\n",
              "        [0.4237, 0.6459, 0.4376, 0.8918],\n",
              "        [0.9637, 0.3834, 0.7917, 0.5289],\n",
              "        [0.5680, 0.9256, 0.0710, 0.0871]], dtype=torch.float64)"
            ]
          },
          "metadata": {},
          "execution_count": 21
        }
      ]
    },
    {
      "cell_type": "code",
      "source": [
        "N[0:1,:]=20\n",
        "check('1.1.10', N)"
      ],
      "metadata": {
        "id": "sAdkiyJJFkg0",
        "colab": {
          "base_uri": "https://localhost:8080/",
          "height": 64
        },
        "outputId": "0bb3ffaf-3bd5-41c7-9fbb-f0a1a7172bed"
      },
      "execution_count": null,
      "outputs": [
        {
          "output_type": "execute_result",
          "data": {
            "text/plain": [
              "<IPython.core.display.Markdown object>"
            ],
            "text/markdown": "## Correct! 🎉"
          },
          "metadata": {},
          "execution_count": 22
        }
      ]
    },
    {
      "cell_type": "markdown",
      "source": [
        "## Step 2: Layers\n",
        "\n",
        "A tensor is the input and output of a layer. The layer applies a specific operation or transformation on the input tensor(s) to produce an output tensor. A network is made up of multiple layers, where the output of one layer is used as the input to the next layer.\n",
        "\n",
        "When we create an instance of a layer (`nn.Linear`), the weights are randomly initialized. Through training, these weights become tuned to the task at hand.\n",
        "\n",
        "You can access the actual weights themselves using `.weight`. The weights are PyTorch Parameters (object type `torch.nn.parameter.Parameter`), which are essentially `torch.Tensor` objects with requires_grad=True. The same is true of the bias, which is stored in `.bias`.\n",
        "\n",
        "### **5 quick exercises in PyTorch layers!**"
      ],
      "metadata": {
        "id": "a_yb_zYJ08Gs"
      }
    },
    {
      "cell_type": "markdown",
      "source": [
        "1) Create a `nn.Linear` layer with 10 input features and 5 output features and a bias term."
      ],
      "metadata": {
        "id": "6w4uJmQO6o0M"
      }
    },
    {
      "cell_type": "code",
      "source": [
        "layer = nn.Linear(10, 5,bias=True)\n",
        "\n",
        "check('1.2.1', layer)"
      ],
      "metadata": {
        "id": "P4DV8v2c2BfL",
        "colab": {
          "base_uri": "https://localhost:8080/",
          "height": 64
        },
        "outputId": "e71c897f-e3af-49ee-88b5-09a8ddd9fd46"
      },
      "execution_count": null,
      "outputs": [
        {
          "output_type": "execute_result",
          "data": {
            "text/plain": [
              "<IPython.core.display.Markdown object>"
            ],
            "text/markdown": "## Correct! 🎉"
          },
          "metadata": {},
          "execution_count": 23
        }
      ]
    },
    {
      "cell_type": "markdown",
      "source": [
        "2) Create a 3x10 input tensor (call it `x`) filled with ones and perform a forward pass through `layer`, storing the result in `output`."
      ],
      "metadata": {
        "id": "5gYJW_RO75MD"
      }
    },
    {
      "cell_type": "code",
      "source": [
        "x = torch.ones([3,10])\n",
        "output = layer(x)\n",
        "\n",
        "check('1.2.2', output)"
      ],
      "metadata": {
        "id": "AzRcZR9p66wZ",
        "colab": {
          "base_uri": "https://localhost:8080/",
          "height": 64
        },
        "outputId": "d466574a-aa7e-47d8-a308-79fc8f430efa"
      },
      "execution_count": null,
      "outputs": [
        {
          "output_type": "execute_result",
          "data": {
            "text/plain": [
              "<IPython.core.display.Markdown object>"
            ],
            "text/markdown": "## Correct! 🎉"
          },
          "metadata": {},
          "execution_count": 24
        }
      ]
    },
    {
      "cell_type": "code",
      "source": [
        "output"
      ],
      "metadata": {
        "colab": {
          "base_uri": "https://localhost:8080/"
        },
        "id": "tA-PD3KB--3t",
        "outputId": "7677126f-86c1-47fb-8ddc-9551321025da"
      },
      "execution_count": null,
      "outputs": [
        {
          "output_type": "execute_result",
          "data": {
            "text/plain": [
              "tensor([[ 0.1396, -0.5109,  0.3709, -0.2934, -0.3335],\n",
              "        [ 0.1396, -0.5109,  0.3709, -0.2934, -0.3335],\n",
              "        [ 0.1396, -0.5109,  0.3709, -0.2934, -0.3335]],\n",
              "       grad_fn=<AddmmBackward0>)"
            ]
          },
          "metadata": {},
          "execution_count": 25
        }
      ]
    },
    {
      "cell_type": "markdown",
      "source": [
        "3) Print the shape of the weights and biases of `layer`. Then, modify the parameters: multiply each of the weight values by 1.2, and add 5 to each of the bias values. Then, perform a forward pass again through `layer` with the tensor `x` and store the result in `output`.\n",
        "\n",
        "Hint: When modifying parameters, you should do so within a block that disables gradients like such:\n",
        "\n",
        "```\n",
        "with torch.no_grad():\n",
        "  ...\n",
        "````"
      ],
      "metadata": {
        "id": "Cm6eaLUx8BKA"
      }
    },
    {
      "cell_type": "code",
      "source": [
        "torch.manual_seed(0)\n",
        "print(layer.weight.shape) # access the weights\n",
        "print(layer.bias.shape) # access the biases\n",
        "\n",
        "with torch.no_grad():\n",
        "  layer.weight *= 1.2\n",
        "  layer.bias += 5\n",
        "output = layer(x)\n",
        "check('1.2.3', output)"
      ],
      "metadata": {
        "id": "A492Ad7X7hyc",
        "colab": {
          "base_uri": "https://localhost:8080/",
          "height": 100
        },
        "outputId": "fb0aa22a-281e-40ec-9d3d-abce331e5098"
      },
      "execution_count": null,
      "outputs": [
        {
          "output_type": "stream",
          "name": "stdout",
          "text": [
            "torch.Size([5, 10])\n",
            "torch.Size([5])\n"
          ]
        },
        {
          "output_type": "execute_result",
          "data": {
            "text/plain": [
              "<IPython.core.display.Markdown object>"
            ],
            "text/markdown": "## Correct! 🎉"
          },
          "metadata": {},
          "execution_count": 26
        }
      ]
    },
    {
      "cell_type": "markdown",
      "source": [
        "4) Under the hood, `Linear` layers perform a very simple operation: for an input `x`, it computes the dot product with the `weights` matrix, and then adds the `bias` vector.\n",
        "\n",
        "Write an expression in Numpy that uses `layer.weight` and `layer.bias` to reproduce the same output as `layer`.\n",
        "\n",
        "**Hint**: Consult the [`nn.Linear`](https://pytorch.org/docs/stable/generated/torch.nn.Linear.html) docs page to see the formula used.\n",
        "\n",
        "**Hint**: Try to access the weights directly as a Numpy array with `layer.weight.numpy()`. What error do you get? Try the suggested fix in the error message!"
      ],
      "metadata": {
        "id": "C0W4AYj-8C2O"
      }
    },
    {
      "cell_type": "code",
      "source": [
        "layer_T= layer.weight.detach().numpy().T\n",
        "x_np = x.detach().numpy()\n",
        "b_np = layer.bias.detach().numpy()\n",
        "output = x_np.dot(layer_T) + b_np\n",
        "check('1.2.4', output)"
      ],
      "metadata": {
        "id": "liGCDAdG_65h",
        "colab": {
          "base_uri": "https://localhost:8080/",
          "height": 64
        },
        "outputId": "dbf63d98-679d-40a8-a882-783d40625c1a"
      },
      "execution_count": null,
      "outputs": [
        {
          "output_type": "execute_result",
          "data": {
            "text/plain": [
              "<IPython.core.display.Markdown object>"
            ],
            "text/markdown": "## Correct! 🎉"
          },
          "metadata": {},
          "execution_count": 27
        }
      ]
    },
    {
      "cell_type": "code",
      "source": [
        "output"
      ],
      "metadata": {
        "colab": {
          "base_uri": "https://localhost:8080/"
        },
        "id": "nFMx3kAb_SIq",
        "outputId": "938165eb-b097-4ed5-d3df-3776dfe90375"
      },
      "execution_count": null,
      "outputs": [
        {
          "output_type": "execute_result",
          "data": {
            "text/plain": [
              "array([[5.127081 , 4.3240857, 5.4199195, 4.6394296, 4.557429 ],\n",
              "       [5.127081 , 4.3240857, 5.4199195, 4.6394296, 4.557429 ],\n",
              "       [5.127081 , 4.3240857, 5.4199195, 4.6394296, 4.557429 ]],\n",
              "      dtype=float32)"
            ]
          },
          "metadata": {},
          "execution_count": 28
        }
      ]
    },
    {
      "cell_type": "code",
      "source": [
        "b_np"
      ],
      "metadata": {
        "colab": {
          "base_uri": "https://localhost:8080/"
        },
        "id": "12rer1CK_FrV",
        "outputId": "113184a1-de08-4f28-8bee-fa0969adf39b"
      },
      "execution_count": null,
      "outputs": [
        {
          "output_type": "execute_result",
          "data": {
            "text/plain": [
              "array([5.2022467, 5.3143725, 5.125505 , 5.0427203, 5.2120266],\n",
              "      dtype=float32)"
            ]
          },
          "metadata": {},
          "execution_count": 29
        }
      ]
    },
    {
      "cell_type": "markdown",
      "source": [
        "5) Activation functions\n",
        "\n",
        "The final piece of a layer is the activation function, which performs an element-wise transform of a layer's outputs.\n",
        "\n",
        "Add a `torch.nn.ReLU` activaton function to `layer`. Then, pass `x` through both and store the result in `output`.\n"
      ],
      "metadata": {
        "id": "czUQa8vFSc-J"
      }
    },
    {
      "cell_type": "code",
      "source": [
        "torch.manual_seed(0)\n",
        "layer = torch.nn.Linear(10, 5, bias=True) # re-initializing layer with the original weights\n",
        "act = torch.nn.ReLU()\n",
        "output =  act(layer(x))\n",
        "\n",
        "check('1.2.5', output)"
      ],
      "metadata": {
        "id": "Jy4O9CqpSdXA",
        "colab": {
          "base_uri": "https://localhost:8080/",
          "height": 64
        },
        "outputId": "1ab8c69f-e35a-4089-eda5-4bf59720aa1e"
      },
      "execution_count": null,
      "outputs": [
        {
          "output_type": "execute_result",
          "data": {
            "text/plain": [
              "<IPython.core.display.Markdown object>"
            ],
            "text/markdown": "## Correct! 🎉"
          },
          "metadata": {},
          "execution_count": 30
        }
      ]
    },
    {
      "cell_type": "markdown",
      "source": [
        "## Step 3: Neural Network\n",
        "\n",
        "A **neural network** takes a *tensor* as input, applies a series of transformations defined by the *layers*, and produces an output *tensor*, which can be used to make predictions or perform other tasks. The layers in a network are organized in a specific way, such as in a sequential or parallel fashion, to perform a specific task.\n",
        "\n",
        "### **3 quick exercises for neural networks:**"
      ],
      "metadata": {
        "id": "Q5jgE-aW09iq"
      }
    },
    {
      "cell_type": "markdown",
      "source": [
        "1) Create three layers with the following input and output features:\n",
        "\n",
        "- 10 inputs, 10 outputs\n",
        "- 10 inputs, 20 outputs\n",
        "- 20 inputs, 1 output\n",
        "\n",
        "Let each of the layers include bias terms.\n",
        "\n",
        "Then, let `x` be an input tensor with shape (5,10) and random values and make a forward pass through each of the layers sequentially, assigning the result to `output`.\n",
        "\n",
        "**Hint**: When creating random tensors, we suggest you use the `torch` library directly!"
      ],
      "metadata": {
        "id": "akdBXLvC2_Qs"
      }
    },
    {
      "cell_type": "code",
      "source": [
        "torch.manual_seed(0)\n",
        "# declare your layers first\n",
        "l1 = torch.nn.Linear(10,10,bias=True)\n",
        "l2 = torch.nn.Linear(10,20, bias=True)\n",
        "l3 = torch.nn.Linear(20,1,bias=True)\n",
        "\n",
        "# then, create your input tensor\n",
        "x = torch.rand([5,10])\n",
        "# finally, evaluate your output\n",
        "output = l1(x) ## 5X10\n",
        "output = l2(output) #5X20\n",
        "output = l3(output) #5X1\n",
        "check('1.3.1', output)"
      ],
      "metadata": {
        "id": "85f1WEzEYl95",
        "colab": {
          "base_uri": "https://localhost:8080/",
          "height": 64
        },
        "outputId": "4fa2d623-1b82-43f8-a5dc-8490f5a4d549"
      },
      "execution_count": null,
      "outputs": [
        {
          "output_type": "execute_result",
          "data": {
            "text/plain": [
              "<IPython.core.display.Markdown object>"
            ],
            "text/markdown": "## Correct! 🎉"
          },
          "metadata": {},
          "execution_count": 31
        }
      ]
    },
    {
      "cell_type": "markdown",
      "source": [
        "2) Now, add `nn.ReLU()` activation functions after each of the first two layers (2 functions total). You've just defined a simple neural network!"
      ],
      "metadata": {
        "id": "V31YtMBWYRj7"
      }
    },
    {
      "cell_type": "code",
      "source": [
        "torch.manual_seed(0)\n",
        "np.random.seed(0)\n",
        "\n",
        "# declare your layers first\n",
        "l1 = torch.nn.Linear(10,10,bias=True)\n",
        "l2 = torch.nn.Linear(10,20, bias=True)\n",
        "l3 = torch.nn.Linear(20,1,bias=True)\n",
        "act = torch.nn.ReLU()\n",
        "\n",
        "# then, create your input tensor\n",
        "x = torch.rand([5,10])\n",
        "# finally, evaluate your output\n",
        "output = l1(x) ## 5X10\n",
        "output = act(output)\n",
        "output = l2(output) #5X20\n",
        "output = act(output)\n",
        "output = l3(output) #5X1\n",
        "check('1.3.2', output)"
      ],
      "metadata": {
        "id": "w03FLgzT81l6",
        "colab": {
          "base_uri": "https://localhost:8080/",
          "height": 64
        },
        "outputId": "48b5326a-a15a-4b86-867c-d8ff52fb652f"
      },
      "execution_count": null,
      "outputs": [
        {
          "output_type": "execute_result",
          "data": {
            "text/plain": [
              "<IPython.core.display.Markdown object>"
            ],
            "text/markdown": "## Correct! 🎉"
          },
          "metadata": {},
          "execution_count": 32
        }
      ]
    },
    {
      "cell_type": "markdown",
      "source": [
        "3) A PyTorch [`nn.Module`](https://pytorch.org/docs/stable/generated/torch.nn.Module.html) is the base class for all neural network modules in PyTorch, which can be used to define a layer. The nn.Module class also provides a way to organize multiple layers and other modules in a way that defines a complete neural network.\n",
        "\n",
        "**TODO**: Create a `nn.Module` class with the neural network above and call it `MLP`. Instantiate it and assign it to the `model` variable.\n",
        "\n",
        "**Hint**: You will define an `__init__()` function, which will create the layer variables, and a `forward()` function, which takes as an input argument a tensor and returns the output of the neural network. Though using `nn.Sequential()` is a valid way to build the layers, we encourage you for this exercise to define each layer individually."
      ],
      "metadata": {
        "id": "G12lekEDYX3y"
      }
    },
    {
      "cell_type": "code",
      "execution_count": null,
      "metadata": {
        "id": "S-4V4jABAGR2",
        "colab": {
          "base_uri": "https://localhost:8080/",
          "height": 64
        },
        "outputId": "46c4656b-5f92-4c8b-badb-ee198b2fd0be"
      },
      "outputs": [
        {
          "output_type": "execute_result",
          "data": {
            "text/plain": [
              "<IPython.core.display.Markdown object>"
            ],
            "text/markdown": "## Correct! 🎉"
          },
          "metadata": {},
          "execution_count": 33
        }
      ],
      "source": [
        "torch.manual_seed(0)\n",
        "np.random.seed(0)\n",
        "\n",
        "\n",
        "class MLP(nn.Module):\n",
        "  def __init__(self):\n",
        "        super().__init__()\n",
        "        self.layer1 = nn.Linear(10, 10, bias=True)\n",
        "        self.layer2 = nn.Linear(10, 20, bias=True)\n",
        "        self.layer3 = nn.Linear(20, 1, bias=True)\n",
        "        self.act = nn.ReLU()\n",
        "\n",
        "  def forward(self,x):\n",
        "        output = self.layer1(x) ## 5X10\n",
        "        output = self.act(output)\n",
        "        output = self.layer2(output) #5X20\n",
        "        output = self.act(output)\n",
        "        output = self.layer3(output) #5X1\n",
        "        return output\n",
        "\n",
        "model = MLP()\n",
        "check('1.3.3', model)"
      ]
    },
    {
      "cell_type": "markdown",
      "source": [
        "## Step 4: Gradients\n",
        "\n",
        "Congratulations! You've created your first PyTorch neural network! 🎉🎉🎉\n",
        "\n",
        "We now know how each layer transforms tensors and produces outputs. This is called a *forward pass*, as the computations performed on the input tensor are moving forward across the network.\n",
        "\n",
        "**But, how does a neural network learn?** It does so by performing a *backward pass*.\n",
        "\n",
        "In a *backward pass*, the gradients for each parameter are computed, starting with the last layer and moving backward. This algorithm is called *backpropagation*, which uses the chain rule to calculate gradients."
      ],
      "metadata": {
        "id": "QBciwraL2SUo"
      }
    },
    {
      "cell_type": "markdown",
      "source": [
        "1) Consider the following equation:\n",
        "\n",
        "$y = 3x^2+3$\n",
        "\n",
        "**Quick concept check: answer the questions below, and click the arrow to reveal the answer!**\n",
        "\n",
        "<details><summary>What is $\\frac{dy}{dx}$?</summary>\n",
        "     6x\n",
        "</details>\n",
        "\n",
        "<details><summary>What is $\\frac{dy}{dx}(2)$?</summary>\n",
        "     12\n",
        "</details>"
      ],
      "metadata": {
        "id": "8YlSm7F6J1a8"
      }
    },
    {
      "cell_type": "markdown",
      "source": [
        "2) Let's implement the same equation in PyTorch and verify that it does the same thing!\n",
        "\n",
        "- Create a tensor `x` with value 2.0 and set `requires_grad=True`.\n",
        "\n",
        "- Write the equation above in Python ($y=3x^2+3$).\n",
        "\n",
        "- Then, call `y.backward()`. This step computes the gradient of `y` with respect to the change in `x` at the value of `x=2.0`. It also stores the gradient in `x.grad`.\n",
        "\n",
        "- Print `x.grad`. Confirm that it equals the same value you got above for $\\frac{dy}{dx}(2)$!\n"
      ],
      "metadata": {
        "id": "f_lvj_bu2e5y"
      }
    },
    {
      "cell_type": "code",
      "source": [
        "x = torch.tensor(2.0, requires_grad=True)\n",
        "y = 3*(x**2)+3\n",
        "y.backward()  #6x (backward does differentiation)\n",
        "x.grad #puts the value of x\n",
        "print(x.grad)\n",
        "check('1.4.2', x.grad)"
      ],
      "metadata": {
        "id": "odnmAW_XnNtK",
        "colab": {
          "base_uri": "https://localhost:8080/",
          "height": 82
        },
        "outputId": "a035a584-8b35-47ba-f728-992ce6523197"
      },
      "execution_count": null,
      "outputs": [
        {
          "output_type": "stream",
          "name": "stdout",
          "text": [
            "tensor(12.)\n"
          ]
        },
        {
          "output_type": "execute_result",
          "data": {
            "text/plain": [
              "<IPython.core.display.Markdown object>"
            ],
            "text/markdown": "## Correct! 🎉"
          },
          "metadata": {},
          "execution_count": 34
        }
      ]
    },
    {
      "cell_type": "markdown",
      "source": [
        "3) Cool! We've checked for a simple example that PyTorch automatically computes and stores gradients with the `backward()` function. Now let's see gradients in action in our newly created MLP.\n",
        "\n",
        "**TODO**:\n",
        "\n",
        "- Instantiate the `MLP` class into the `model` variable. Be sure to do this first!\n",
        "- Create a random tensor `x` that is size 10 and run a forward pass through the model, storing the result in `output`.\n",
        "- Print the `.grad` attribute in the first layer's weights. What is the value?\n",
        "- Then, run the `.backward()` pass on the `output` tensor. Now, print the `.grad` attribute again on the first layer's weights. What do you get this time?"
      ],
      "metadata": {
        "id": "g6Uz6Ezm6dgZ"
      }
    },
    {
      "cell_type": "code",
      "source": [
        "torch.manual_seed(0)\n",
        "# first, create your model\n",
        "model = MLP()\n",
        "# then, create your input tensor\n",
        "x = torch.rand([2,10])\n",
        "# then, get the model output\n",
        "output = model.forward(x)"
      ],
      "metadata": {
        "id": "-k8aovXezSlq"
      },
      "execution_count": null,
      "outputs": []
    },
    {
      "cell_type": "code",
      "source": [
        "output"
      ],
      "metadata": {
        "colab": {
          "base_uri": "https://localhost:8080/"
        },
        "id": "4R1gIcidza6l",
        "outputId": "392d8b10-31f3-4c70-c0ea-f0d74810bcd7"
      },
      "execution_count": null,
      "outputs": [
        {
          "output_type": "execute_result",
          "data": {
            "text/plain": [
              "tensor([[0.0085],\n",
              "        [0.0755]], grad_fn=<AddmmBackward0>)"
            ]
          },
          "metadata": {},
          "execution_count": 36
        }
      ]
    },
    {
      "cell_type": "code",
      "source": [
        "torch.manual_seed(0)\n",
        "# first, create your model\n",
        "model = MLP()\n",
        "# then, create your input tensor\n",
        "x = torch.rand([10])\n",
        "# then, get the model output\n",
        "output = model(x)\n",
        "# print the gradient\n",
        "print(model.layer1.weight.grad)\n",
        "# run the backward pass\n",
        "output.backward()\n",
        "# finally, print the gradient again\n",
        "print(model.layer1.weight.grad)\n",
        "\n",
        "check('1.4.3', model.layer1.weight.grad)"
      ],
      "metadata": {
        "id": "3cMF1yjiJq39",
        "colab": {
          "base_uri": "https://localhost:8080/",
          "height": 440
        },
        "outputId": "14dcbe44-f361-4cee-f0b8-de7e46539b97"
      },
      "execution_count": null,
      "outputs": [
        {
          "output_type": "stream",
          "name": "stdout",
          "text": [
            "None\n",
            "tensor([[ 0.0748,  0.0344,  0.0584,  0.0495,  0.0599,  0.0277,  0.0625,  0.0127,\n",
            "          0.0515,  0.0136],\n",
            "        [ 0.0000,  0.0000,  0.0000,  0.0000,  0.0000,  0.0000,  0.0000,  0.0000,\n",
            "          0.0000,  0.0000],\n",
            "        [-0.1633, -0.0752, -0.1274, -0.1080, -0.1307, -0.0605, -0.1364, -0.0276,\n",
            "         -0.1124, -0.0297],\n",
            "        [ 0.0000,  0.0000,  0.0000,  0.0000,  0.0000,  0.0000,  0.0000,  0.0000,\n",
            "          0.0000,  0.0000],\n",
            "        [ 0.0000,  0.0000,  0.0000,  0.0000,  0.0000,  0.0000,  0.0000,  0.0000,\n",
            "          0.0000,  0.0000],\n",
            "        [ 0.0718,  0.0330,  0.0560,  0.0474,  0.0574,  0.0266,  0.0599,  0.0121,\n",
            "          0.0494,  0.0130],\n",
            "        [-0.0760, -0.0350, -0.0593, -0.0503, -0.0608, -0.0282, -0.0635, -0.0129,\n",
            "         -0.0523, -0.0138],\n",
            "        [ 0.1103,  0.0508,  0.0860,  0.0729,  0.0883,  0.0409,  0.0921,  0.0187,\n",
            "          0.0759,  0.0200],\n",
            "        [ 0.0000,  0.0000,  0.0000,  0.0000,  0.0000,  0.0000,  0.0000,  0.0000,\n",
            "          0.0000,  0.0000],\n",
            "        [ 0.1595,  0.0734,  0.1244,  0.1054,  0.1276,  0.0591,  0.1332,  0.0270,\n",
            "          0.1097,  0.0289]])\n"
          ]
        },
        {
          "output_type": "execute_result",
          "data": {
            "text/plain": [
              "<IPython.core.display.Markdown object>"
            ],
            "text/markdown": "## Correct! 🎉"
          },
          "metadata": {},
          "execution_count": 37
        }
      ]
    },
    {
      "cell_type": "markdown",
      "source": [
        "**Congratulations!** 🎉🎉🎉\n",
        "\n",
        "You've successfully completed the first part of this assignment."
      ],
      "metadata": {
        "id": "WfD_EnZELeiO"
      }
    },
    {
      "cell_type": "markdown",
      "source": [
        "# Part 2 - Datasets and Data Loaders (~20 min)\n",
        "\n",
        "Now that you've created your first neural network model, let's put it to the test."
      ],
      "metadata": {
        "id": "N_V6IoDHytHG"
      }
    },
    {
      "cell_type": "markdown",
      "source": [
        "### Doodle to Emoji Demo App\n",
        "Let's say you're working for a mobile messaging company. You've noticed how much time people spend trying to find the right emoji, scrolling endlessly through the options given in the keyboard. Sometimes, even searching for it using keywords doesn't give you what you want!\n",
        "\n",
        "To solve this, you've taken it on your own to create a way for users to just *draw* the emoji they want!\n",
        "\n",
        "**Using a neural network, develop a model that can translate a user-drawn doodle into its corresponding emoji.**\n",
        "\n",
        "<img src=\"https://drive.google.com/uc?id=1XGb5lO0t-vAx7rSs_LUVHngFTbfdlrr8\" width=\"600\">\n",
        "\n",
        "You've been given the user interface below, and your job is to train ```model``` such that it gives accurate results. Currently, ```model``` is just a dummy function, but feel free to try out the interface! (The predictions will just be placeholders).\n",
        "\n",
        "To make things a little simpler, we will focus on emojis for this project.\n",
        "\n",
        "The ten emojis are:\n",
        "\n",
        "- smile 😄, eyes 👀, car 🚗, star ⭐, stop sign 🛑, bed 🛏️, baseball ⚾, basketball 🏀, pizza 🍕, bicycle 🚲"
      ],
      "metadata": {
        "id": "vNGjo7iuju3d"
      }
    },
    {
      "cell_type": "markdown",
      "source": [
        "### Step 1: **Run the demo below!**\n",
        "\n",
        "Play around with the tool and try drawing sketches of emojis! Note that because we are only using a placeholder model, all of the predictions will be the same regardless of your sketch 😀.\n",
        "\n",
        "To stop the demo, press the stop button on the top left of the cell."
      ],
      "metadata": {
        "id": "MBlhUaTIIgTB"
      }
    },
    {
      "cell_type": "code",
      "source": [
        "def predict(doodle):\n",
        "    if doodle is None: return\n",
        "    doodle = doodle / 255.\n",
        "    y_hats = np.array([0.1]*10)\n",
        "    emoji_names = np.array(list(DOODLE_TO_EMOJI_MAP.values()))\n",
        "    emoji_dict = {emoji_names[i]: float(y_hat) for i, y_hat in enumerate(y_hats)}\n",
        "    return emoji_dict\n",
        "\n",
        "interface = gr.Interface(predict, inputs='sketchpad', outputs='label', theme=\"default\", live=True, description=\"Guess the Doodle!\")\n",
        "interface.launch(debug=True)"
      ],
      "metadata": {
        "id": "n97XzvoL0yrl",
        "colab": {
          "base_uri": "https://localhost:8080/",
          "height": 656
        },
        "outputId": "d04d4cb1-50b6-4eb5-bf08-d04d99f66a5c"
      },
      "execution_count": null,
      "outputs": [
        {
          "output_type": "stream",
          "name": "stdout",
          "text": [
            "Colab notebook detected. This cell will run indefinitely so that you can see errors and logs. To turn off, set debug=False in launch().\n",
            "Note: opening Chrome Inspector may crash demo inside Colab notebooks.\n",
            "\n",
            "To create a public link, set `share=True` in `launch()`.\n"
          ]
        },
        {
          "output_type": "display_data",
          "data": {
            "text/plain": [
              "<IPython.core.display.Javascript object>"
            ],
            "application/javascript": [
              "(async (port, path, width, height, cache, element) => {\n",
              "                        if (!google.colab.kernel.accessAllowed && !cache) {\n",
              "                            return;\n",
              "                        }\n",
              "                        element.appendChild(document.createTextNode(''));\n",
              "                        const url = await google.colab.kernel.proxyPort(port, {cache});\n",
              "\n",
              "                        const external_link = document.createElement('div');\n",
              "                        external_link.innerHTML = `\n",
              "                            <div style=\"font-family: monospace; margin-bottom: 0.5rem\">\n",
              "                                Running on <a href=${new URL(path, url).toString()} target=\"_blank\">\n",
              "                                    https://localhost:${port}${path}\n",
              "                                </a>\n",
              "                            </div>\n",
              "                        `;\n",
              "                        element.appendChild(external_link);\n",
              "\n",
              "                        const iframe = document.createElement('iframe');\n",
              "                        iframe.src = new URL(path, url).toString();\n",
              "                        iframe.height = height;\n",
              "                        iframe.allow = \"autoplay; camera; microphone; clipboard-read; clipboard-write;\"\n",
              "                        iframe.width = width;\n",
              "                        iframe.style.border = 0;\n",
              "                        element.appendChild(iframe);\n",
              "                    })(7860, \"/\", \"100%\", 500, false, window.element)"
            ]
          },
          "metadata": {}
        },
        {
          "output_type": "stream",
          "name": "stdout",
          "text": [
            "Keyboard interruption in main thread... closing server.\n"
          ]
        },
        {
          "output_type": "execute_result",
          "data": {
            "text/plain": []
          },
          "metadata": {},
          "execution_count": 38
        }
      ]
    },
    {
      "cell_type": "markdown",
      "source": [
        "The rest of this week's project will focus on *training your own model* to predict the correct emoji from a sketch.\n",
        "\n",
        "In order to train a model, we must have data! Now, we will introduce two classes: `Dataset` and `DataLoader`.\n",
        "\n",
        "Remember to stop the previous cell before continuing!"
      ],
      "metadata": {
        "id": "zCNH8oRxIoCp"
      }
    },
    {
      "cell_type": "markdown",
      "source": [
        "### Step 2: The `Dataset` class\n",
        "\n",
        "As you might imagine, loading data is a big part of training a neural network. To make things easier, PyTorch has a whole class defined that just deals with loading data for the neural network.\n",
        "\n",
        "This class is called a [PyTorch Dataset](https://pytorch.org/tutorials/beginner/basics/data_tutorial.html). To create a PyTorch Dataset, just create a class that inherits the `torch.utils.data.Dataset` abstract class. There are a lot of methods that come along for the ride, but the two that you need to override to customize any PyTorch Dataset are:\n",
        "\n",
        "- `__len__` so that `len(dataset)` returns the size of the dataset.\n",
        "- `__getitem__` to support the indexing such that `dataset[i]` can be used to get `i`th sample."
      ],
      "metadata": {
        "id": "rWZVTQKLzkwi"
      }
    },
    {
      "cell_type": "markdown",
      "source": [
        "1) Create a PyTorch Dataset class using the template provided below.\n",
        "\n",
        "We've included a function, `split()`, which returns three Datasets: a train, validation, and test dataset with the validation and test dataset each containing `pct` percent of the total data and the training data containing the rest."
      ],
      "metadata": {
        "id": "3TFPCtFORvI2"
      }
    },
    {
      "cell_type": "code",
      "source": [
        "X = np.load('/content/drive/MyDrive/DLE-Jun23/Projects/dle_utils/emoji_data/emoji_X.npy')"
      ],
      "metadata": {
        "id": "TjioV_kOOhnG"
      },
      "execution_count": null,
      "outputs": []
    },
    {
      "cell_type": "code",
      "source": [
        "class EmojiDataset(torch.utils.data.Dataset):\n",
        "    def __init__(self):\n",
        "        super().__init__()\n",
        "\n",
        "        # TODO: Initialize class_names and num_classes instance variables\n",
        "        self.class_names = list(DOODLE_TO_EMOJI_MAP.keys())\n",
        "        self.num_classes = 10\n",
        "\n",
        "        # TODO: Get and set X, Y\n",
        "        self.X = np.load('/content/drive/MyDrive/DLE-Jun23/Projects/dle_utils/emoji_data/emoji_X.npy')\n",
        "        self.Y = np.load('/content/drive/MyDrive/DLE-Jun23/Projects/dle_utils/emoji_data/emoji_y.npy')\n",
        "\n",
        "    def __getitem__(self, idx):\n",
        "        img = self.X[idx]\n",
        "        y = self.Y[idx]\n",
        "        img = img/255.\n",
        "        img = img.astype(np.float32)\n",
        "        x = torch.tensor(img)\n",
        "        return x, y\n",
        "\n",
        "    def __len__(self):\n",
        "        len_X = len(self.X)\n",
        "        return len_X\n",
        "\n",
        "    def split(self, pct=0.1):\n",
        "        # Nothing to do here, this function just splits your data\n",
        "        torch.manual_seed(0)\n",
        "        indices = torch.randperm(len(self)).tolist()\n",
        "        n_pct = int(np.floor(len(indices) * pct))\n",
        "        train_ds = torch.utils.data.Subset(self, indices[:-(2*n_pct)])\n",
        "        val_ds = torch.utils.data.Subset(self, indices[-(2*n_pct):-n_pct])\n",
        "        test_ds = torch.utils.data.Subset(self, indices[-n_pct:])\n",
        "        return train_ds, val_ds, test_ds\n"
      ],
      "metadata": {
        "id": "VQO_Fa6uzj1s"
      },
      "execution_count": null,
      "outputs": []
    },
    {
      "cell_type": "markdown",
      "metadata": {
        "id": "1mUyFIVLFfW9"
      },
      "source": [
        "Now use the `EmojiDataset` class to create `train_ds`, `val_ds`, and `test_ds`. Set `pct=0.1`. This will randomly split the entire dataset into 80\\% training, 10\\% validation, and 10\\% testing data."
      ]
    },
    {
      "cell_type": "code",
      "execution_count": null,
      "metadata": {
        "id": "s1yN_v01-OUI",
        "colab": {
          "base_uri": "https://localhost:8080/",
          "height": 64
        },
        "outputId": "6fc58663-cec2-4961-84bf-87d963956177"
      },
      "outputs": [
        {
          "output_type": "execute_result",
          "data": {
            "text/plain": [
              "<IPython.core.display.Markdown object>"
            ],
            "text/markdown": "## Correct! 🎉"
          },
          "metadata": {},
          "execution_count": 44
        }
      ],
      "source": [
        "# TODO: Instantiate EmojiDataset\n",
        "ds = EmojiDataset()\n",
        "# TODO: Partition ds into train_ds, val_ds, test_ds\n",
        "train_ds, val_ds, test_ds = ds.split()\n",
        "check('1.5.1', [train_ds, val_ds, test_ds])"
      ]
    },
    {
      "cell_type": "markdown",
      "metadata": {
        "id": "aG2kZxuap7X1"
      },
      "source": [
        "2) Now, using the training dataset, visualize the first 10 doodles and print the class name. A `Dataset` object can be accessed in two ways:\n",
        "\n",
        "- Access a specific index or range of indices, just as you would with a list.\n",
        "- A dataset is `Iterable`, meaning you can use it in a loop:\n",
        "\n",
        "        for data, label in train_ds:\n",
        "          ...\n",
        "\n",
        "**Hint**: You'll have to reshape the image size to `(28,28)`.\n",
        "\n",
        "\n"
      ]
    },
    {
      "cell_type": "code",
      "execution_count": null,
      "metadata": {
        "id": "vnh8jxfQO5iu",
        "colab": {
          "base_uri": "https://localhost:8080/",
          "height": 1000
        },
        "outputId": "8e96d8ac-fd5e-42cb-d2c2-5fa2739b9ac2"
      },
      "outputs": [
        {
          "output_type": "display_data",
          "data": {
            "text/plain": [
              "<Figure size 640x480 with 1 Axes>"
            ],
            "image/png": "[encoded data removed]"
          },
          "metadata": {}
        },
        {
          "output_type": "display_data",
          "data": {
            "text/plain": [
              "<Figure size 640x480 with 1 Axes>"
            ],
            "image/png": "[encoded data removed]"
          },
          "metadata": {}
        },
        {
          "output_type": "display_data",
          "data": {
            "text/plain": [
              "<Figure size 640x480 with 1 Axes>"
            ],
            "image/png": "[encoded data removed]"
          },
          "metadata": {}
        },
        {
          "output_type": "display_data",
          "data": {
            "text/plain": [
              "<Figure size 640x480 with 1 Axes>"
            ],
            "image/png": "[encoded data removed]"
          },
          "metadata": {}
        },
        {
          "output_type": "display_data",
          "data": {
            "text/plain": [
              "<Figure size 640x480 with 1 Axes>"
            ],
            "image/png": "[encoded data removed]"
          },
          "metadata": {}
        },
        {
          "output_type": "display_data",
          "data": {
            "text/plain": [
              "<Figure size 640x480 with 1 Axes>"
            ],
            "image/png": "[encoded data removed]"
          },
          "metadata": {}
        },
        {
          "output_type": "display_data",
          "data": {
            "text/plain": [
              "<Figure size 640x480 with 1 Axes>"
            ],
            "image/png": "[encoded data removed]"
          },
          "metadata": {}
        },
        {
          "output_type": "display_data",
          "data": {
            "text/plain": [
              "<Figure size 640x480 with 1 Axes>"
            ],
            "image/png": "[encoded data removed]"
          },
          "metadata": {}
        },
        {
          "output_type": "display_data",
          "data": {
            "text/plain": [
              "<Figure size 640x480 with 1 Axes>"
            ],
            "image/png": "[encoded data removed]"
          },
          "metadata": {}
        },
        {
          "output_type": "display_data",
          "data": {
            "text/plain": [
              "<Figure size 640x480 with 1 Axes>"
            ],
            "image/png": "[encoded data removed]"
          },
          "metadata": {}
        }
      ],
      "source": [
        "# TODO: Iterate through train_ds, displaying the image using plt.imshow() and printing the class\n",
        "# No answer checking here, you'll know you've done it right when you see 10 images with labels!\n",
        "import matplotlib.pyplot as plt\n",
        "class_names = list(DOODLE_TO_EMOJI_MAP.keys())\n",
        "for i in range(10):\n",
        "  data,y = train_ds[i]\n",
        "  x = torch.reshape(data, (28,28))\n",
        "  plt.imshow(x)\n",
        "  label = class_names[int(y)]\n",
        "  plt.title(label)\n",
        "  plt.show()"
      ]
    },
    {
      "cell_type": "markdown",
      "metadata": {
        "id": "ZUK7QZ7iH3ZR"
      },
      "source": [
        "### Step 3: The `DataLoader` class\n",
        "Next, we will create a `DataLoader` object. Since deep learning models are typically trained in batches of data points, the `DataLoader` acts as a wrapper over the `Dataset` object and automatically aggregates data points into batches. It also can perform other useful functions like randomly shuffling the data points.\n",
        "\n",
        "Take a second and read over the PyTorch documentation for DataLoaders to get a sense of the API:\n",
        "\n",
        "https://pytorch.org/tutorials/beginner/basics/data_tutorial.html"
      ]
    },
    {
      "cell_type": "markdown",
      "source": [
        "1) Using the `EmojiDataset` class we mentioned above, create three `DataLoader` objects: one for training (call it `train_dataloader`), one for validation (`val_dataloader`), and one for testing (`test_dataloader`). (We've included the code for `train_dataloader`). Set the batch size as a variable `batch_size` to 64 and `shuffle=True`."
      ],
      "metadata": {
        "id": "eUYiDv-6SWJc"
      }
    },
    {
      "cell_type": "code",
      "execution_count": null,
      "metadata": {
        "id": "3_CzfNX_PUEu",
        "colab": {
          "base_uri": "https://localhost:8080/",
          "height": 64
        },
        "outputId": "581d99e3-1c64-4e63-b815-5199b1621b3a"
      },
      "outputs": [
        {
          "output_type": "execute_result",
          "data": {
            "text/plain": [
              "<IPython.core.display.Markdown object>"
            ],
            "text/markdown": "## Correct! 🎉"
          },
          "metadata": {},
          "execution_count": 47
        }
      ],
      "source": [
        "# TODO: Create three DataLoader objects\n",
        "batch_size = 64\n",
        "train_dataloader = torch.utils.data.DataLoader(train_ds, batch_size=batch_size, shuffle=True)\n",
        "val_dataloader = torch.utils.data.DataLoader(val_ds, batch_size=batch_size, shuffle=True)\n",
        "test_dataloader = torch.utils.data.DataLoader(test_ds, batch_size=batch_size, shuffle=True)\n",
        "\n",
        "check('1.6.1', [train_dataloader, val_dataloader, test_dataloader])\n"
      ]
    },
    {
      "cell_type": "markdown",
      "source": [
        "### Step 4: The Emoji MLP\n",
        "\n",
        "Now that we've defined how to load and generate data, let's create an MLP model specifically for the dataset.\n",
        "\n",
        "Note that there are a vast number of potential architectures that you can possibly choose from! Here, we describe a basic neural network that has two important specifications:\n",
        "\n",
        "- The number of input features is equal to the number of pixels in a sketch training example (784).\n",
        "- The number of output features is equal to the number of classes (10).\n",
        "\n",
        "**TODO**: Define a PyTorch `nn.Module` class (call it `EmojiMLP`) with the following specifications:\n",
        "- An linear layer with:\n",
        " - 784 input features\n",
        " - 64 output features\n",
        " - Followed by ReLU activation function\n",
        "- A second linear layer with:\n",
        " - 64 input features\n",
        " - 32 output features\n",
        " - Followed by ReLU activation function\n",
        "- An output linear layer with:\n",
        " - 32 input features\n",
        " - 10 output features\n",
        " - No activation function\n"
      ],
      "metadata": {
        "id": "JrnBj8vdhZoL"
      }
    },
    {
      "cell_type": "code",
      "source": [
        "class EmojiMLP(nn.Module):\n",
        "  def __init__(self):\n",
        "        super().__init__()\n",
        "        self.layer1 = nn.Linear(784, 64, bias=True)\n",
        "        self.layer2 = nn.Linear(64, 32, bias=True)\n",
        "        self.layer3 = nn.Linear(32, 10, bias=True)\n",
        "        self.act = nn.ReLU()\n",
        "\n",
        "  def forward(self,x):\n",
        "        output = self.layer1(x) ## 5X10\n",
        "        output = self.act(output)\n",
        "        output = self.layer2(output) #5X20\n",
        "        output = self.act(output)\n",
        "        output = self.layer3(output) #5X1\n",
        "        return output\n",
        "\n",
        "\n",
        "model = EmojiMLP()\n",
        "check('1.6.2', model)"
      ],
      "metadata": {
        "id": "KcXatfcDhZH-",
        "colab": {
          "base_uri": "https://localhost:8080/",
          "height": 64
        },
        "outputId": "2e3a4c37-6d9a-4fad-f2b7-e9d01a61a9ad"
      },
      "execution_count": null,
      "outputs": [
        {
          "output_type": "execute_result",
          "data": {
            "text/plain": [
              "<IPython.core.display.Markdown object>"
            ],
            "text/markdown": "## Correct! 🎉"
          },
          "metadata": {},
          "execution_count": 48
        }
      ]
    },
    {
      "cell_type": "markdown",
      "source": [
        "# Part 3: Training (~10 min)\n",
        "\n",
        "### ✅ Data + ✅ Model + ☑️ Training = ✨️ Success!\n",
        "\n",
        "The last piece of the pie is the training!\n",
        "\n",
        "However, for this week, we will not be going in detail about the training code 😀 (we will next week!)\n",
        "\n",
        "Instead, we have provided the training code in the `train()` function in a script, `train.py`. You will simply have to provide the model and data into the `train()` function.\n",
        "\n"
      ],
      "metadata": {
        "id": "ZsKq87jiHEbN"
      }
    },
    {
      "cell_type": "markdown",
      "source": [
        "1) Train your model!\n",
        "\n",
        "Import the `train.py` file and call the `train()` function to train, and the `evaluate()` function to see how your model performs!\n",
        "\n",
        "We encourage you to take a look at `train.py`. In the left panel, click the folder icon 📁. Navigate to the folder `drive/MyDrive/DLE-Jun23/Projects/Week1`. Open the file `train.py`. The file should appear in the right panel of the notebook.\n"
      ],
      "metadata": {
        "id": "Pz5jKxA-TPHT"
      }
    },
    {
      "cell_type": "code",
      "source": [
        "from Week1.train import *\n",
        "emoji_model = EmojiMLP()\n",
        "train(model=emoji_model,\n",
        "      train_dataloader=train_dataloader,\n",
        "      val_dataloader=val_dataloader)\n",
        "\n",
        "accuracy = evaluate(emoji_model, test_dataloader)\n",
        "print(f\"Model accuracy: {accuracy}\")\n",
        "check('1.7.1', accuracy)"
      ],
      "metadata": {
        "id": "s8VNr7O0E-2A",
        "colab": {
          "base_uri": "https://localhost:8080/",
          "height": 154
        },
        "outputId": "ca3366ee-eb10-4dc8-f4cc-33140e8fafd2"
      },
      "execution_count": null,
      "outputs": [
        {
          "output_type": "stream",
          "name": "stdout",
          "text": [
            "Training model...\n"
          ]
        },
        {
          "output_type": "stream",
          "name": "stderr",
          "text": [
            "100%|██████████| 10/10 [00:54<00:00,  5.47s/it]\n"
          ]
        },
        {
          "output_type": "stream",
          "name": "stdout",
          "text": [
            "Finished training successfully!\n",
            "Evaluating model...\n",
            "Model accuracy: 0.80175\n"
          ]
        },
        {
          "output_type": "execute_result",
          "data": {
            "text/plain": [
              "<IPython.core.display.Markdown object>"
            ],
            "text/markdown": "## Correct! 🎉"
          },
          "metadata": {},
          "execution_count": 49
        }
      ]
    },
    {
      "cell_type": "markdown",
      "source": [
        "4) Play with your trained model\n",
        "\n",
        "Now all the hard work is paid off! Run the demo below."
      ],
      "metadata": {
        "id": "6B82kpgCTcDR"
      }
    },
    {
      "cell_type": "code",
      "source": [
        "from scipy.special import softmax\n",
        "\n",
        "def get_prediction(doodle):\n",
        "  pt_input = torch.Tensor(doodle).view(1, doodle.shape[0]*doodle.shape[1])\n",
        "  y_hats = emoji_model(pt_input).detach().numpy()[0]\n",
        "  y_hats = softmax(y_hats)\n",
        "  return y_hats\n",
        "\n",
        "def predict(doodle):\n",
        "  if doodle is None:\n",
        "    return\n",
        "  doodle = doodle / 255.\n",
        "  y_hats = get_prediction(doodle)\n",
        "  emoji_names = np.array(list(DOODLE_TO_EMOJI_MAP.values()))\n",
        "  emoji_dict = {emoji_names[i]: float(y_hat) for i, y_hat in enumerate(y_hats)}\n",
        "  return emoji_dict\n",
        "\n",
        "interface = gr.Interface(predict, inputs='sketchpad', outputs='label', theme=\"default\", live=True, description=\"Guess the Doodle!\")\n",
        "interface.launch(debug=True)"
      ],
      "metadata": {
        "id": "aGgaGMj1Tq25",
        "colab": {
          "base_uri": "https://localhost:8080/",
          "height": 656
        },
        "outputId": "ca2059e1-6667-4fe3-cbb9-d5c418990b0c"
      },
      "execution_count": null,
      "outputs": [
        {
          "output_type": "stream",
          "name": "stdout",
          "text": [
            "Colab notebook detected. This cell will run indefinitely so that you can see errors and logs. To turn off, set debug=False in launch().\n",
            "Note: opening Chrome Inspector may crash demo inside Colab notebooks.\n",
            "\n",
            "To create a public link, set `share=True` in `launch()`.\n"
          ]
        },
        {
          "output_type": "display_data",
          "data": {
            "text/plain": [
              "<IPython.core.display.Javascript object>"
            ],
            "application/javascript": [
              "(async (port, path, width, height, cache, element) => {\n",
              "                        if (!google.colab.kernel.accessAllowed && !cache) {\n",
              "                            return;\n",
              "                        }\n",
              "                        element.appendChild(document.createTextNode(''));\n",
              "                        const url = await google.colab.kernel.proxyPort(port, {cache});\n",
              "\n",
              "                        const external_link = document.createElement('div');\n",
              "                        external_link.innerHTML = `\n",
              "                            <div style=\"font-family: monospace; margin-bottom: 0.5rem\">\n",
              "                                Running on <a href=${new URL(path, url).toString()} target=\"_blank\">\n",
              "                                    https://localhost:${port}${path}\n",
              "                                </a>\n",
              "                            </div>\n",
              "                        `;\n",
              "                        element.appendChild(external_link);\n",
              "\n",
              "                        const iframe = document.createElement('iframe');\n",
              "                        iframe.src = new URL(path, url).toString();\n",
              "                        iframe.height = height;\n",
              "                        iframe.allow = \"autoplay; camera; microphone; clipboard-read; clipboard-write;\"\n",
              "                        iframe.width = width;\n",
              "                        iframe.style.border = 0;\n",
              "                        element.appendChild(iframe);\n",
              "                    })(7860, \"/\", \"100%\", 500, false, window.element)"
            ]
          },
          "metadata": {}
        },
        {
          "output_type": "stream",
          "name": "stdout",
          "text": [
            "Keyboard interruption in main thread... closing server.\n"
          ]
        },
        {
          "output_type": "execute_result",
          "data": {
            "text/plain": []
          },
          "metadata": {},
          "execution_count": 50
        }
      ]
    },
    {
      "cell_type": "markdown",
      "source": [
        " 🎊Congratulations 🎊!\n",
        "\n",
        "You've finished the first week 💪.\n",
        "\n",
        "Head over to the Corise course website and submit your project!"
      ],
      "metadata": {
        "id": "mFBBya0kszzk"
      }
    }
  ]
}