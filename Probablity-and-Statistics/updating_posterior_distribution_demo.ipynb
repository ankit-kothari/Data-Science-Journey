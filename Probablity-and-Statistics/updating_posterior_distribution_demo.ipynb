{
 "cells": [
  {
   "cell_type": "code",
   "execution_count": 1,
   "id": "c4dc83b4",
   "metadata": {
    "ExecuteTime": {
     "end_time": "2022-04-23T04:06:55.588688Z",
     "start_time": "2022-04-23T04:06:55.566178Z"
    },
    "init_cell": true
   },
   "outputs": [
    {
     "name": "stdout",
     "output_type": "stream",
     "text": [
      "Running on PyMC3 v3.11.4\n"
     ]
    }
   ],
   "source": [
    "from scipy import stats\n",
    "import handcalcs.render\n",
    "import qgrid\n",
    "import arviz as az\n",
    "import numpy as np\n",
    "import matplotlib.pyplot as plt\n",
    "import pymc3 as pm\n",
    "import seaborn as sns\n",
    "import pandas as pd\n",
    "from theano import shared\n",
    "from sklearn import preprocessing\n",
    "from scipy.stats import expon\n",
    "from scipy.stats import beta\n",
    "from scipy.stats import gamma\n",
    "from scipy.stats import poisson\n",
    "print('Running on PyMC3 v{}'.format(pm.__version__))\n",
    "sns.set()\n",
    "import ipywidgets as widgets\n",
    "from ipywidgets import interact, interact_manual"
   ]
  },
  {
   "cell_type": "markdown",
   "id": "8631d28e",
   "metadata": {},
   "source": [
    "### Terminology"
   ]
  },
  {
   "cell_type": "markdown",
   "id": "4e7338c6",
   "metadata": {},
   "source": [
    "Before applying Bayes’ theorem, let’s introduce some terminology.\n",
    "- Experiment: pick a coin from the drawer at random, flip it, and record the result.\n",
    "- Data: the result of our experiment. In this case the event D = ‘heads’. We think of\n",
    "D as data that provides evidence for or against each hypothesis. \n",
    "- Hypotheses: we are testing three hypotheses: the coin is type A, B or C . \n",
    "\n",
    "- Prior probability: the probability of each hypothesis prior to tossing the coin (collect-\n",
    "ing data). Since the drawer has 2 coins of type A, 2 of type B and 1 or type C we\n",
    "have\n",
    "    - P (A) = 0.4,\n",
    "    - P (B) = 0.4,\n",
    "    - P (C ) = 0.2.\n",
    "\n",
    "- Likelihood: (This is the same likelihood we used for the MLE.) The likelihood function\n",
    "is P (D|H), i.e., the probability of the data assuming that the hypothesis is true. Most\n",
    "often we will consider the data as fixed and let the hypothesis vary. For example,\n",
    "P (D|A) = probability of heads if the coin is type A. In our case the likelihoods are\n",
    "    - P (D|A) = 0.5,\n",
    "    - P (D|B) = 0.6, \n",
    "    - p (D|C) =0.9\n",
    "    \n",
    "- The name likelihood is so well established in the literature that we have to teach it to you. However in colloquial language likelihood and probability are synonyms. This leads to the likelihood function often being confused with the probabity of a hypothesis. Because of this we’d prefer to use the name Bayes’ term. However since we are stuck with ‘likelihood’ we will try to use it very carefully and in a way that minimizes any confusion. \n",
    "\n",
    "-  Posterior probability: the probability (posterior to) of each hypothesis given the data\n",
    "from tossing the coin.\n",
    "P (A|D),\n",
    "P (B|D),\n",
    "P (C|D).\n",
    "These posterior probabilities are what the problem asks us to find."
   ]
  },
  {
   "cell_type": "markdown",
   "id": "15d99e57",
   "metadata": {
    "ExecuteTime": {
     "end_time": "2022-01-30T20:25:12.694564Z",
     "start_time": "2022-01-30T20:25:12.658258Z"
    }
   },
   "source": [
    "*What is the difference between PMF and likelihood?*\n",
    "- The PMF treats data as varying from experiment to experiment and  θ\n",
    "as fixed, whereas the likelihood function treats the data as fixed and the parameter θ as varying."
   ]
  },
  {
   "cell_type": "markdown",
   "id": "14d5d2d9",
   "metadata": {},
   "source": [
    "#### Initial Priors"
   ]
  },
  {
   "cell_type": "code",
   "execution_count": 2,
   "id": "2e7fc632",
   "metadata": {
    "ExecuteTime": {
     "end_time": "2022-01-30T04:28:22.113700Z",
     "start_time": "2022-01-30T04:28:22.110812Z"
    }
   },
   "outputs": [],
   "source": [
    "p_a = 0.4\n",
    "p_b = 0.4\n",
    "p_c = 0.2"
   ]
  },
  {
   "cell_type": "markdown",
   "id": "45ba5e3b",
   "metadata": {},
   "source": [
    "#### Initial Likelihood "
   ]
  },
  {
   "cell_type": "markdown",
   "id": "e51c209e",
   "metadata": {},
   "source": [
    "- Given we have seen one data point which is *HEAD* \n",
    "- This is also called DATA or evidence\n",
    "- The likelihood function is P (D|H), i.e., the probability of the data assuming that the hypothesis is true. Most\n",
    "often we will consider the data as fixed and let the hypothesis vary. For example,\n",
    "P (D|A) = probability of heads if the coin is type A."
   ]
  },
  {
   "cell_type": "code",
   "execution_count": 3,
   "id": "b9f089a8",
   "metadata": {
    "ExecuteTime": {
     "end_time": "2022-01-30T04:28:23.544251Z",
     "start_time": "2022-01-30T04:28:23.541612Z"
    }
   },
   "outputs": [],
   "source": [
    "#probability of Heads given A\n",
    "p_H_a = 0.5\n",
    "p_H_b = 0.6\n",
    "p_H_c = 0.9"
   ]
  },
  {
   "cell_type": "markdown",
   "id": "f5c1de0c",
   "metadata": {},
   "source": [
    "#### Posterior Calculation"
   ]
  },
  {
   "cell_type": "code",
   "execution_count": 4,
   "id": "1344d2c9",
   "metadata": {
    "ExecuteTime": {
     "end_time": "2022-01-30T04:28:24.917898Z",
     "start_time": "2022-01-30T04:28:24.913578Z"
    }
   },
   "outputs": [
    {
     "name": "stdout",
     "output_type": "stream",
     "text": [
      "Posterior for A 0.2\n",
      "Posterior for B 0.24\n",
      "Posterior for C 0.18000000000000002\n"
     ]
    }
   ],
   "source": [
    "p_a_H = p_H_a * p_a\n",
    "p_b_H = p_H_b * p_b \n",
    "p_c_H = p_H_c * p_c \n",
    "\n",
    "print(f'Posterior for A {p_a_H}')\n",
    "print(f'Posterior for B {p_b_H}')\n",
    "print(f'Posterior for C {p_c_H}')"
   ]
  },
  {
   "cell_type": "code",
   "execution_count": 5,
   "id": "ae12ee0c",
   "metadata": {
    "ExecuteTime": {
     "end_time": "2022-01-30T04:30:16.352259Z",
     "start_time": "2022-01-30T04:30:16.347595Z"
    }
   },
   "outputs": [],
   "source": [
    "def posterior_calc(prior, likelihood):\n",
    "    posterior = prior * posteior \n",
    "    return posterior"
   ]
  },
  {
   "cell_type": "markdown",
   "id": "587d8870",
   "metadata": {},
   "source": [
    "#### Updating Priors"
   ]
  },
  {
   "cell_type": "code",
   "execution_count": 6,
   "id": "8bec5003",
   "metadata": {
    "ExecuteTime": {
     "end_time": "2022-01-30T05:01:27.681610Z",
     "start_time": "2022-01-30T05:01:27.670755Z"
    }
   },
   "outputs": [
    {
     "name": "stdout",
     "output_type": "stream",
     "text": [
      "Posterior for A 0.1\n",
      "Posterior for B 0.144\n",
      "Posterior for C 0.16200000000000003\n"
     ]
    }
   ],
   "source": [
    "#so say we observed the second toss as HEAD again\n",
    "\n",
    "p_a_HH = p_H_a * p_a_H\n",
    "p_b_HH = p_H_b * p_b_H \n",
    "p_c_HH = p_H_c * p_c_H\n",
    "\n",
    "print(f'Posterior for A {p_a_HH}')\n",
    "print(f'Posterior for B {p_b_HH}')\n",
    "print(f'Posterior for C {p_c_HH}')"
   ]
  },
  {
   "cell_type": "markdown",
   "id": "a3ec35ba",
   "metadata": {},
   "source": [
    "#### All in one Code"
   ]
  },
  {
   "cell_type": "markdown",
   "id": "cd95eb1a",
   "metadata": {},
   "source": [
    "- The Hypotheis we need to find P(H/E1, E2)\n",
    "    -Which means what is thee probability of H given we see two datapoints E1,E2\n",
    "\n",
    "- Example Consideration\n",
    "    - Hypotesis (H): There are two coins A and B and our goal is to find which one it is based on the data P(H/E1,E2....E12)\n",
    "    - Data: Say we observed 12 data points from E1 to E12 and are [1,1,0,1,0,1,1,1,1,1,1,1,1,1,1,1]\n",
    "        - 1 means observed Heads and 0 means observed Tails\n",
    "    - Prior Probability : The probability of coin A or coin B before observing any data\n",
    "         say: P(A)=0.8 and P(B)=0.2\n",
    "    - Likelihood: The Probability of observing this data given the hypotheis\n",
    "         - P(Heads(1)/A) = 0.5 and P(Heads(1)/B)=0.85\n",
    "         - P(Tails(0)/A) = 0.5 and P(Tails(1)/B)=0.15\n",
    "    - Given this we information we have to calculate posterior distribution \n",
    "         - P(A/E1...E12) and P(B/E1....E12)\n",
    "         - Postreior Distribution = Prior * Likelihood\n",
    "            \n",
    "- Algorithm \n",
    "    - Step 1: Say the first data observed is Heads = 1\n",
    "    - Step 2: Calculate Posterior = likelihood*priors\n",
    "           P(A/E1)= 0.5 * 0.8=.40/P(E1) and P(B/E1)= 0.85*.2=0.17/P(E12)\n",
    "    - Step 3: Now we observe our another sample E2= Heads = 1\n",
    "    - Step 4: Our posterior in Step 2 becomes the new prior and likelihood is the same for our hypotheesis\n",
    "    - Step 5: Updated posteriors are:\n",
    "            P(A/E1,E2) = P(E2/A)*P(A/E1) = 0.5*0.40=.20/P(E1,E2)  \n",
    "            P(B/E1,E2) = P(E2/B)*P(B/E1) = 0.85*.17=0.1445/P(E1,E2)\n",
    "            \n",
    "    - Step 6: We normalize the posterior probability numerator to 1 since we only care which hypotheesissis has a better chance and ndenominator is thee same\n",
    "            - After Sample 1 (Heads): 0.70175439 0.29824561\n",
    "            - After Sample 2: (Heads): 0.58055152 0.41944848\n",
    "    - Step 7: I have simulated this data for 12 datapoints and shown how if we keep observing one the chances of coin B which is Biased increases eeven though it has a low priors"
   ]
  },
  {
   "cell_type": "code",
   "execution_count": 7,
   "id": "84dc1960",
   "metadata": {
    "ExecuteTime": {
     "end_time": "2022-01-30T06:19:38.064108Z",
     "start_time": "2022-01-30T06:19:38.061412Z"
    }
   },
   "outputs": [],
   "source": [
    "\n",
    "priors = np.asarray([0.8,.2])\n",
    "likelihood = np.asarray([0.5,.85])"
   ]
  },
  {
   "cell_type": "code",
   "execution_count": 8,
   "id": "17936821",
   "metadata": {
    "ExecuteTime": {
     "end_time": "2022-01-30T06:19:38.712935Z",
     "start_time": "2022-01-30T06:19:38.708699Z"
    }
   },
   "outputs": [],
   "source": [
    "def update_posterior(priors, likelihood, samples):\n",
    "  n_step_posterior = []\n",
    "  for i in range(len(samples)): \n",
    "    if samples[i]==1:\n",
    "        likelihood=likelihood\n",
    "    else:\n",
    "        likelihood=1-likelihood\n",
    "    posteriors = priors*likelihood\n",
    "    normalized_posteriors = posteriors/sum(posteriors)\n",
    "    n_step_posterior.append(normalized_posteriors)\n",
    "    priors = posteriors\n",
    "  return n_step_posterior\n",
    "   "
   ]
  },
  {
   "cell_type": "code",
   "execution_count": 9,
   "id": "4dee9b83",
   "metadata": {
    "ExecuteTime": {
     "end_time": "2022-01-30T06:19:39.444010Z",
     "start_time": "2022-01-30T06:19:39.440744Z"
    }
   },
   "outputs": [],
   "source": [
    "data = [1,1,0,1,0,1,1,1,1,1,1,1,1,1,1,1]\n",
    "updated_posterior_pmf = update_posterior(priors, likelihood, data)"
   ]
  },
  {
   "cell_type": "markdown",
   "id": "8066309e",
   "metadata": {
    "ExecuteTime": {
     "end_time": "2022-01-30T05:17:06.538494Z",
     "start_time": "2022-01-30T05:17:06.534270Z"
    }
   },
   "source": [
    "#### Normalizing the posterior "
   ]
  },
  {
   "cell_type": "code",
   "execution_count": 10,
   "id": "57b1d31e",
   "metadata": {
    "ExecuteTime": {
     "end_time": "2022-01-30T06:19:40.895084Z",
     "start_time": "2022-01-30T06:19:40.891366Z"
    }
   },
   "outputs": [],
   "source": [
    "normalized = updated_posterior_pmf[-1]/sum(updated_posterior_pmf[-1])"
   ]
  },
  {
   "cell_type": "code",
   "execution_count": 11,
   "id": "2a7f3386",
   "metadata": {
    "ExecuteTime": {
     "end_time": "2022-01-30T06:19:41.522107Z",
     "start_time": "2022-01-30T06:19:41.515764Z"
    }
   },
   "outputs": [
    {
     "data": {
      "text/plain": [
       "array([0.02571685, 0.97428315])"
      ]
     },
     "execution_count": 11,
     "metadata": {},
     "output_type": "execute_result"
    }
   ],
   "source": [
    "normalized"
   ]
  },
  {
   "cell_type": "code",
   "execution_count": 12,
   "id": "82924438",
   "metadata": {
    "ExecuteTime": {
     "end_time": "2022-01-30T06:19:52.668071Z",
     "start_time": "2022-01-30T06:19:50.982895Z"
    }
   },
   "outputs": [
    {
     "name": "stdout",
     "output_type": "stream",
     "text": [
      "[0.70175439 0.29824561]\n",
      "[0.58055152 0.41944848]\n",
      "[0.82186152 0.17813848]\n",
      "[0.9389451 0.0610549]\n",
      "[0.90046081 0.09953919]\n",
      "[0.84180593 0.15819407]\n",
      "[0.75788131 0.24211869]\n",
      "[0.64804811 0.35195189]\n",
      "[0.51994996 0.48005004]\n",
      "[0.38917389 0.61082611]\n",
      "[0.27261125 0.72738875]\n",
      "[0.18063629 0.81936371]\n",
      "[0.11479505 0.88520495]\n",
      "[0.07087674 0.92912326]\n",
      "[0.04294555 0.95705445]\n",
      "[0.02571685 0.97428315]\n"
     ]
    },
    {
     "data": {
      "image/png": "[encoded data removed]",
      "text/plain": [
       "<Figure size 1728x1152 with 16 Axes>"
      ]
     },
     "metadata": {},
     "output_type": "display_data"
    }
   ],
   "source": [
    "fig = plt.figure(figsize=[24,16])\n",
    "for x,cli in enumerate(updated_posterior_pmf):\n",
    "       ax=fig.add_subplot(4,4,x+1)\n",
    "       print(cli)\n",
    "       g = sns.barplot(x=[\"A\",\"B\"],y=cli,ax=ax)  \n",
    "       ax.set_xlabel('',fontsize=14)\n",
    "       ax.set_ylabel('',fontsize=14)\n",
    "       ax.set_title(f'{data[:x+1]}')\n",
    "       plt.ylim(0,1)\n",
    "       plt.xticks(rotation=0, horizontalalignment='right', fontweight='bold', fontsize='small')\n",
    "plt.tight_layout() \n",
    "plt.show()"
   ]
  },
  {
   "cell_type": "code",
   "execution_count": null,
   "id": "0266f218",
   "metadata": {},
   "outputs": [],
   "source": []
  }
 ],
 "metadata": {
  "celltoolbar": "Initialization Cell",
  "hide_input": false,
  "kernelspec": {
   "display_name": "p39",
   "language": "python",
   "name": "p39"
  },
  "language_info": {
   "codemirror_mode": {
    "name": "ipython",
    "version": 3
   },
   "file_extension": ".py",
   "mimetype": "text/x-python",
   "name": "python",
   "nbconvert_exporter": "python",
   "pygments_lexer": "ipython3",
   "version": "3.9.7"
  },
  "nbTranslate": {
   "displayLangs": [
    "*"
   ],
   "hotkey": "alt-t",
   "langInMainMenu": true,
   "sourceLang": "en",
   "targetLang": "fr",
   "useGoogleTranslate": true
  },
  "toc": {
   "base_numbering": 1,
   "nav_menu": {},
   "number_sections": true,
   "sideBar": true,
   "skip_h1_title": false,
   "title_cell": "Table of Contents",
   "title_sidebar": "Contents",
   "toc_cell": false,
   "toc_position": {},
   "toc_section_display": true,
   "toc_window_display": true
  }
 },
 "nbformat": 4,
 "nbformat_minor": 5
}
