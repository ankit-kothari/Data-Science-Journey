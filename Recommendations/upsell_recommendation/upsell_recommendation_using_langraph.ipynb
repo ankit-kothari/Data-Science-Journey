{
  "nbformat": 4,
  "nbformat_minor": 0,
  "metadata": {
    "colab": {
      "provenance": []
    },
    "kernelspec": {
      "name": "python3",
      "display_name": "Python 3"
    },
    "language_info": {
      "name": "python"
    }
  },
  "cells": [
    {
      "cell_type": "code",
      "execution_count": null,
      "metadata": {
        "id": "Ahzx0WB-pgvs"
      },
      "outputs": [],
      "source": [
        "%pip install -U langchain_community langchain-openai langchain-anthropic langchain langgraph==0.1.17 tavily-python langchainhub gradio"
      ]
    },
    {
      "cell_type": "code",
      "source": [
        "%pip install pymongo -qqqq"
      ],
      "metadata": {
        "id": "4MDqT_pWqupo",
        "colab": {
          "base_uri": "https://localhost:8080/"
        },
        "outputId": "8c8526db-3a0f-4efa-d012-75b01755455e"
      },
      "execution_count": 2,
      "outputs": [
        {
          "output_type": "stream",
          "name": "stdout",
          "text": [
            "\u001b[?25l   \u001b[90m━━━━━━━━━━━━━━━━━━━━━━━━━━━━━━━━━━━━━━━━\u001b[0m \u001b[32m0.0/1.7 MB\u001b[0m \u001b[31m?\u001b[0m eta \u001b[36m-:--:--\u001b[0m\r\u001b[2K   \u001b[91m━━━━━━━━━━━━━━━\u001b[0m\u001b[91m╸\u001b[0m\u001b[90m━━━━━━━━━━━━━━━━━━━━━━━━\u001b[0m \u001b[32m0.7/1.7 MB\u001b[0m \u001b[31m21.9 MB/s\u001b[0m eta \u001b[36m0:00:01\u001b[0m\r\u001b[2K   \u001b[91m━━━━━━━━━━━━━━━━━━━━━━━━━━━━━━━━━━━━━━━\u001b[0m\u001b[91m╸\u001b[0m \u001b[32m1.6/1.7 MB\u001b[0m \u001b[31m25.9 MB/s\u001b[0m eta \u001b[36m0:00:01\u001b[0m\r\u001b[2K   \u001b[90m━━━━━━━━━━━━━━━━━━━━━━━━━━━━━━━━━━━━━━━━\u001b[0m \u001b[32m1.7/1.7 MB\u001b[0m \u001b[31m18.7 MB/s\u001b[0m eta \u001b[36m0:00:00\u001b[0m\n",
            "\u001b[?25h\u001b[?25l   \u001b[90m━━━━━━━━━━━━━━━━━━━━━━━━━━━━━━━━━━━━━━━━\u001b[0m \u001b[32m0.0/313.6 kB\u001b[0m \u001b[31m?\u001b[0m eta \u001b[36m-:--:--\u001b[0m\r\u001b[2K   \u001b[90m━━━━━━━━━━━━━━━━━━━━━━━━━━━━━━━━━━━━━━━━\u001b[0m \u001b[32m313.6/313.6 kB\u001b[0m \u001b[31m11.4 MB/s\u001b[0m eta \u001b[36m0:00:00\u001b[0m\n",
            "\u001b[?25h"
          ]
        }
      ]
    },
    {
      "cell_type": "code",
      "source": [
        "%pip install rich\n",
        "from rich import print"
      ],
      "metadata": {
        "id": "y8tpjgO5D3IU"
      },
      "execution_count": null,
      "outputs": []
    },
    {
      "cell_type": "code",
      "source": [
        "from langchain_core.pydantic_v1 import BaseModel\n",
        "from typing import TypedDict, Annotated, List\n",
        "from rich import print\n",
        "\n",
        "class Attributes(BaseModel):\n",
        "    attributes: List[str]"
      ],
      "metadata": {
        "id": "vZeh4ny7qxXx"
      },
      "execution_count": 4,
      "outputs": []
    },
    {
      "cell_type": "code",
      "source": [
        "from langchain_openai import ChatOpenAI\n",
        "from google.colab import userdata\n",
        "\n",
        "model = ChatOpenAI(model=\"gpt-4o\", temperature=0.2, openai_api_key=userdata.get('openai'))"
      ],
      "metadata": {
        "id": "wbJsOR_Hps0K"
      },
      "execution_count": 6,
      "outputs": []
    },
    {
      "cell_type": "markdown",
      "source": [
        "### Get Attributes"
      ],
      "metadata": {
        "id": "KxT3XJLG0apV"
      }
    },
    {
      "cell_type": "code",
      "source": [
        "RESEARCH_PROMPT = \"\"\"\n",
        "\n",
        "##Your Role:\n",
        "You are an expert in Recommendation Systems, particularly in the Upselling domain. Your task is to analyze the product category and create a comprehensive list of attributes that a user can use to compare the provided product with higher-end models.\n",
        "\n",
        "##Task:\n",
        "\n",
        "Identify the category of the product (e.g., \"BMW 328i belongs to Luxury Sedan Cars\").\n",
        "Develop a list of up to 10 key attributes, each with a brief one-line description, that a user would consider when comparing the product to more expensive or higher-end models.\n",
        "Example:\n",
        "\n",
        "```\n",
        "{\n",
        "  \"Attribute 1\": \"Description 1\",\n",
        "  \"Attribute 2\": \"Description 2\",\n",
        "  ...\n",
        "  \"Attribute 10\": \"Description 10\"\n",
        "}\n",
        "```\n",
        "\n",
        "\"\"\"\n",
        "\n",
        "from typing import TypedDict, Annotated, List\n",
        "\n",
        "class AgentState(TypedDict):\n",
        "    user_query: str\n",
        "    attribute_results: List[str]\n",
        "    high_end_model_summarization: List[str]\n",
        "    high_end_model_comparison: List[str]\n",
        "    review_comments: str\n",
        "    draft_number: int\n",
        "    max_reviews: int\n",
        "\n",
        "import os\n",
        "from langchain_core.messages import AnyMessage, SystemMessage, HumanMessage, AIMessage, ChatMessage\n",
        "\n",
        "def get_attribute_node(state: AgentState):\n",
        "  print (\"Research Agent executing ...\")\n",
        "  input_message = \"User query: \" + state['user_query']\n",
        "  draft_number = 0\n",
        "  messages = model.with_structured_output(Attributes).invoke([\n",
        "        SystemMessage(content=RESEARCH_PROMPT),\n",
        "        HumanMessage(content=input_message)\n",
        "    ])\n",
        "  #response = model.invoke(messages)\n",
        "  return {\"attribute_results\": messages.attributes, \"draft_number\": draft_number}"
      ],
      "metadata": {
        "id": "a36l740jpvRx"
      },
      "execution_count": 7,
      "outputs": []
    },
    {
      "cell_type": "markdown",
      "source": [
        "### Get High End Models"
      ],
      "metadata": {
        "id": "O8vcjGzp0hVS"
      }
    },
    {
      "cell_type": "code",
      "source": [
        "from dataclasses import Field\n",
        "from langchain_core.pydantic_v1 import BaseModel, Field\n",
        "from typing import TypedDict, Annotated, List\n",
        "from langchain_core.output_parsers import PydanticOutputParser\n",
        "\n",
        "class high_end_product(BaseModel):\n",
        "    original_product: str = Field(title=\"Original Product\", description=\"Summarization for Original Product\")\n",
        "    product1: str = Field(title=\"Product 1\", description=\"Summarization Product 1\")\n",
        "    product2: str = Field(title=\"Product 2\", description=\"Summarization Product 2\")\n",
        "    product3: str = Field(title=\"Product 3\", description=\"Summarization Product 3\")\n",
        "    product4: str = Field(title=\"Product 4\", description=\"Summarization Product 4\")\n",
        "\n",
        "\n",
        "pydantic_parser  = PydanticOutputParser(pydantic_object=high_end_product)\n",
        "format_instructions = pydantic_parser.get_format_instructions()\n",
        "print(format_instructions)\n",
        "\n"
      ],
      "metadata": {
        "colab": {
          "base_uri": "https://localhost:8080/",
          "height": 275
        },
        "id": "_3aSRe333CG3",
        "outputId": "e20c3063-dc8f-446f-9aa3-794708217237"
      },
      "execution_count": 9,
      "outputs": [
        {
          "output_type": "display_data",
          "data": {
            "text/plain": [
              "The output should be formatted as a JSON instance that conforms to the JSON schema below.\n",
              "\n",
              "As an example, for the schema \u001b[1m{\u001b[0m\u001b[32m\"properties\"\u001b[0m: \u001b[1m{\u001b[0m\u001b[32m\"foo\"\u001b[0m: \u001b[1m{\u001b[0m\u001b[32m\"title\"\u001b[0m: \u001b[32m\"Foo\"\u001b[0m, \u001b[32m\"description\"\u001b[0m: \u001b[32m\"a list of strings\"\u001b[0m, \u001b[32m\"type\"\u001b[0m: \n",
              "\u001b[32m\"array\"\u001b[0m, \u001b[32m\"items\"\u001b[0m: \u001b[1m{\u001b[0m\u001b[32m\"type\"\u001b[0m: \u001b[32m\"string\"\u001b[0m\u001b[1m}\u001b[0m\u001b[1m}\u001b[0m\u001b[1m}\u001b[0m, \u001b[32m\"required\"\u001b[0m: \u001b[1m[\u001b[0m\u001b[32m\"foo\"\u001b[0m\u001b[1m]\u001b[0m\u001b[1m}\u001b[0m\n",
              "the object \u001b[1m{\u001b[0m\u001b[32m\"foo\"\u001b[0m: \u001b[1m[\u001b[0m\u001b[32m\"bar\"\u001b[0m, \u001b[32m\"baz\"\u001b[0m\u001b[1m]\u001b[0m\u001b[1m}\u001b[0m is a well-formatted instance of the schema. The object \u001b[1m{\u001b[0m\u001b[32m\"properties\"\u001b[0m: \u001b[1m{\u001b[0m\u001b[32m\"foo\"\u001b[0m: \n",
              "\u001b[1m[\u001b[0m\u001b[32m\"bar\"\u001b[0m, \u001b[32m\"baz\"\u001b[0m\u001b[1m]\u001b[0m\u001b[1m}\u001b[0m\u001b[1m}\u001b[0m is not well-formatted.\n",
              "\n",
              "Here is the output schema:\n",
              "```\n",
              "\u001b[1m{\u001b[0m\u001b[32m\"properties\"\u001b[0m: \u001b[1m{\u001b[0m\u001b[32m\"original_product\"\u001b[0m: \u001b[1m{\u001b[0m\u001b[32m\"title\"\u001b[0m: \u001b[32m\"Original Product\"\u001b[0m, \u001b[32m\"description\"\u001b[0m: \u001b[32m\"Summarization for Original \u001b[0m\n",
              "\u001b[32mProduct\"\u001b[0m, \u001b[32m\"type\"\u001b[0m: \u001b[32m\"string\"\u001b[0m\u001b[1m}\u001b[0m, \u001b[32m\"product1\"\u001b[0m: \u001b[1m{\u001b[0m\u001b[32m\"title\"\u001b[0m: \u001b[32m\"Product 1\"\u001b[0m, \u001b[32m\"description\"\u001b[0m: \u001b[32m\"Summarization Product 1\"\u001b[0m, \u001b[32m\"type\"\u001b[0m: \n",
              "\u001b[32m\"string\"\u001b[0m\u001b[1m}\u001b[0m, \u001b[32m\"product2\"\u001b[0m: \u001b[1m{\u001b[0m\u001b[32m\"title\"\u001b[0m: \u001b[32m\"Product 2\"\u001b[0m, \u001b[32m\"description\"\u001b[0m: \u001b[32m\"Summarization Product 2\"\u001b[0m, \u001b[32m\"type\"\u001b[0m: \u001b[32m\"string\"\u001b[0m\u001b[1m}\u001b[0m, \n",
              "\u001b[32m\"product3\"\u001b[0m: \u001b[1m{\u001b[0m\u001b[32m\"title\"\u001b[0m: \u001b[32m\"Product 3\"\u001b[0m, \u001b[32m\"description\"\u001b[0m: \u001b[32m\"Summarization Product 3\"\u001b[0m, \u001b[32m\"type\"\u001b[0m: \u001b[32m\"string\"\u001b[0m\u001b[1m}\u001b[0m, \u001b[32m\"product4\"\u001b[0m: \n",
              "\u001b[1m{\u001b[0m\u001b[32m\"title\"\u001b[0m: \u001b[32m\"Product 4\"\u001b[0m, \u001b[32m\"description\"\u001b[0m: \u001b[32m\"Summarization Product 4\"\u001b[0m, \u001b[32m\"type\"\u001b[0m: \u001b[32m\"string\"\u001b[0m\u001b[1m}\u001b[0m\u001b[1m}\u001b[0m, \u001b[32m\"required\"\u001b[0m: \n",
              "\u001b[1m[\u001b[0m\u001b[32m\"original_product\"\u001b[0m, \u001b[32m\"product1\"\u001b[0m, \u001b[32m\"product2\"\u001b[0m, \u001b[32m\"product3\"\u001b[0m, \u001b[32m\"product4\"\u001b[0m\u001b[1m]\u001b[0m\u001b[1m}\u001b[0m\n",
              "```\n"
            ],
            "text/html": [
              "<pre style=\"white-space:pre;overflow-x:auto;line-height:normal;font-family:Menlo,'DejaVu Sans Mono',consolas,'Courier New',monospace\">The output should be formatted as a JSON instance that conforms to the JSON schema below.\n",
              "\n",
              "As an example, for the schema <span style=\"font-weight: bold\">{</span><span style=\"color: #008000; text-decoration-color: #008000\">\"properties\"</span>: <span style=\"font-weight: bold\">{</span><span style=\"color: #008000; text-decoration-color: #008000\">\"foo\"</span>: <span style=\"font-weight: bold\">{</span><span style=\"color: #008000; text-decoration-color: #008000\">\"title\"</span>: <span style=\"color: #008000; text-decoration-color: #008000\">\"Foo\"</span>, <span style=\"color: #008000; text-decoration-color: #008000\">\"description\"</span>: <span style=\"color: #008000; text-decoration-color: #008000\">\"a list of strings\"</span>, <span style=\"color: #008000; text-decoration-color: #008000\">\"type\"</span>: \n",
              "<span style=\"color: #008000; text-decoration-color: #008000\">\"array\"</span>, <span style=\"color: #008000; text-decoration-color: #008000\">\"items\"</span>: <span style=\"font-weight: bold\">{</span><span style=\"color: #008000; text-decoration-color: #008000\">\"type\"</span>: <span style=\"color: #008000; text-decoration-color: #008000\">\"string\"</span><span style=\"font-weight: bold\">}}}</span>, <span style=\"color: #008000; text-decoration-color: #008000\">\"required\"</span>: <span style=\"font-weight: bold\">[</span><span style=\"color: #008000; text-decoration-color: #008000\">\"foo\"</span><span style=\"font-weight: bold\">]}</span>\n",
              "the object <span style=\"font-weight: bold\">{</span><span style=\"color: #008000; text-decoration-color: #008000\">\"foo\"</span>: <span style=\"font-weight: bold\">[</span><span style=\"color: #008000; text-decoration-color: #008000\">\"bar\"</span>, <span style=\"color: #008000; text-decoration-color: #008000\">\"baz\"</span><span style=\"font-weight: bold\">]}</span> is a well-formatted instance of the schema. The object <span style=\"font-weight: bold\">{</span><span style=\"color: #008000; text-decoration-color: #008000\">\"properties\"</span>: <span style=\"font-weight: bold\">{</span><span style=\"color: #008000; text-decoration-color: #008000\">\"foo\"</span>: \n",
              "<span style=\"font-weight: bold\">[</span><span style=\"color: #008000; text-decoration-color: #008000\">\"bar\"</span>, <span style=\"color: #008000; text-decoration-color: #008000\">\"baz\"</span><span style=\"font-weight: bold\">]}}</span> is not well-formatted.\n",
              "\n",
              "Here is the output schema:\n",
              "```\n",
              "<span style=\"font-weight: bold\">{</span><span style=\"color: #008000; text-decoration-color: #008000\">\"properties\"</span>: <span style=\"font-weight: bold\">{</span><span style=\"color: #008000; text-decoration-color: #008000\">\"original_product\"</span>: <span style=\"font-weight: bold\">{</span><span style=\"color: #008000; text-decoration-color: #008000\">\"title\"</span>: <span style=\"color: #008000; text-decoration-color: #008000\">\"Original Product\"</span>, <span style=\"color: #008000; text-decoration-color: #008000\">\"description\"</span>: <span style=\"color: #008000; text-decoration-color: #008000\">\"Summarization for Original </span>\n",
              "<span style=\"color: #008000; text-decoration-color: #008000\">Product\"</span>, <span style=\"color: #008000; text-decoration-color: #008000\">\"type\"</span>: <span style=\"color: #008000; text-decoration-color: #008000\">\"string\"</span><span style=\"font-weight: bold\">}</span>, <span style=\"color: #008000; text-decoration-color: #008000\">\"product1\"</span>: <span style=\"font-weight: bold\">{</span><span style=\"color: #008000; text-decoration-color: #008000\">\"title\"</span>: <span style=\"color: #008000; text-decoration-color: #008000\">\"Product 1\"</span>, <span style=\"color: #008000; text-decoration-color: #008000\">\"description\"</span>: <span style=\"color: #008000; text-decoration-color: #008000\">\"Summarization Product 1\"</span>, <span style=\"color: #008000; text-decoration-color: #008000\">\"type\"</span>: \n",
              "<span style=\"color: #008000; text-decoration-color: #008000\">\"string\"</span><span style=\"font-weight: bold\">}</span>, <span style=\"color: #008000; text-decoration-color: #008000\">\"product2\"</span>: <span style=\"font-weight: bold\">{</span><span style=\"color: #008000; text-decoration-color: #008000\">\"title\"</span>: <span style=\"color: #008000; text-decoration-color: #008000\">\"Product 2\"</span>, <span style=\"color: #008000; text-decoration-color: #008000\">\"description\"</span>: <span style=\"color: #008000; text-decoration-color: #008000\">\"Summarization Product 2\"</span>, <span style=\"color: #008000; text-decoration-color: #008000\">\"type\"</span>: <span style=\"color: #008000; text-decoration-color: #008000\">\"string\"</span><span style=\"font-weight: bold\">}</span>, \n",
              "<span style=\"color: #008000; text-decoration-color: #008000\">\"product3\"</span>: <span style=\"font-weight: bold\">{</span><span style=\"color: #008000; text-decoration-color: #008000\">\"title\"</span>: <span style=\"color: #008000; text-decoration-color: #008000\">\"Product 3\"</span>, <span style=\"color: #008000; text-decoration-color: #008000\">\"description\"</span>: <span style=\"color: #008000; text-decoration-color: #008000\">\"Summarization Product 3\"</span>, <span style=\"color: #008000; text-decoration-color: #008000\">\"type\"</span>: <span style=\"color: #008000; text-decoration-color: #008000\">\"string\"</span><span style=\"font-weight: bold\">}</span>, <span style=\"color: #008000; text-decoration-color: #008000\">\"product4\"</span>: \n",
              "<span style=\"font-weight: bold\">{</span><span style=\"color: #008000; text-decoration-color: #008000\">\"title\"</span>: <span style=\"color: #008000; text-decoration-color: #008000\">\"Product 4\"</span>, <span style=\"color: #008000; text-decoration-color: #008000\">\"description\"</span>: <span style=\"color: #008000; text-decoration-color: #008000\">\"Summarization Product 4\"</span>, <span style=\"color: #008000; text-decoration-color: #008000\">\"type\"</span>: <span style=\"color: #008000; text-decoration-color: #008000\">\"string\"</span><span style=\"font-weight: bold\">}}</span>, <span style=\"color: #008000; text-decoration-color: #008000\">\"required\"</span>: \n",
              "<span style=\"font-weight: bold\">[</span><span style=\"color: #008000; text-decoration-color: #008000\">\"original_product\"</span>, <span style=\"color: #008000; text-decoration-color: #008000\">\"product1\"</span>, <span style=\"color: #008000; text-decoration-color: #008000\">\"product2\"</span>, <span style=\"color: #008000; text-decoration-color: #008000\">\"product3\"</span>, <span style=\"color: #008000; text-decoration-color: #008000\">\"product4\"</span><span style=\"font-weight: bold\">]}</span>\n",
              "```\n",
              "</pre>\n"
            ]
          },
          "metadata": {}
        }
      ]
    },
    {
      "cell_type": "code",
      "source": [
        "from typing_extensions import final\n",
        "\n",
        "\n",
        "\n",
        "\n",
        "def get_high_end_model(state: AgentState):\n",
        "  HIGH_END_PRODUCTS_PROMPT = \"\"\"\n",
        "\n",
        "    ##Your Role:\n",
        "    You are expert Technical Sales agent who has a knowledge of variety of products,and details about them and you know everything a customer want to know before buying a product. Your task is to analyze the product category and create a comprehensive list of attributes that a user can use to compare the provided product with higher-end models.\n",
        "\n",
        "    ##Task:\n",
        "\n",
        "    - Identify the price of user given product.\n",
        "    - Indentify atmost 4 high end products from the one user suggested. It can be from the same brand or other brands. The key is they should be comparable. **The price of high end models should be higher the exact price of all items**\n",
        "    - Summarize the finding for each product in DETAIL, including the original user given product.\n",
        "    - Make sure the summary **covers all the aspects of this attribute list {attributes} in DETAIL**. Summary should be between 300 words\n",
        "\n",
        "    ##Output Format: {format_instructions}\n",
        "    ```json\n",
        "    {{\n",
        "      \"orignal_product\": \"orignal_product: Original PRODUCT Price: Summarization for Original Product\",\n",
        "      \"product1\": \"Product Name1: Product1 Price : Summarization Product 1\",\n",
        "      \"product2\": \"Product Name2: Product2 Price : Summarization Product 2\",\n",
        "      \"product3\": \"Product Name3: Product3 Price : Summarization Product 3\",\n",
        "      \"product4\": \"Product Name4: Product4 Price : Summarization Product 4\"\n",
        "    }}\n",
        "    ```\n",
        "    Make sure each product price is higher thant the original product price and its explicitly mentioned in the output.\n",
        "    \"\"\"\n",
        "\n",
        "\n",
        "  REVISE_HIGH_END_PRODUCTS_PROMPT = \"\"\"\n",
        "    ##Your Role:\n",
        "    You are expert Technical Sales agent who has a knowledge of variety of products,and details about them and you know everything a customer want to know before buying a product. Your task is to analyze the product category and create a comprehensive list of attributes that a user can use to compare the provided product with higher-end models.\n",
        "\n",
        "    ##Your Task:\n",
        "    - This is the draft comparing original product with high end models. {high_end_comparisons}\n",
        "    - review the comments for each product {reviews},\n",
        "    - if its satisfied, great return the same product with the same summary, DO NOT CHANGE ANYTHING\n",
        "    - if not, act on the advise, and make necessary changes using the below guidelines.\n",
        "\n",
        "    ### Guidelines:\n",
        "    - Identify the price of user given product.\n",
        "    - Indentify what the advise is for a particular product, if it needs clarification; provide to address the issue and return the same product with the necessary changes.\n",
        "    - if price lower is the issue and identify a new product, summarize the product in DETAIL. Make sure the summary covers all the aspects of this attribute list {attributes} in DETAIL. Summary should be between 300 words\n",
        "\n",
        "    ## Updated High End Products Summary:\n",
        "    ###Output Format: {format_instructions}\n",
        "    ```json\n",
        "    {{\n",
        "      \"orignal_product\": \"orignal_product: Original PRODUCT Price: Summarization for Original Product\",\n",
        "      \"product1\": \"Product Name1: Product1 Price : Summarization Product 1\",\n",
        "      \"product2\": \"Product Name2: Product2 Price : Summarization Product 2\",\n",
        "      \"product3\": \"Product Name3: Product3 Price : Summarization Product 3\",\n",
        "      \"product4\": \"Product Name4: Product4 Price : Summarization Product 4\"\n",
        "    }}\n",
        "    ```\n",
        "    Make sure each product price is higher thant the original product price and its explicitly mentioned in the output.\n",
        "\n",
        "\n",
        "  \"\"\"\n",
        "  attribute_list = \";\".join(state['attribute_results'] or [])\n",
        "  user_message = HumanMessage(content=f\"The user query is - {state['user_query']}\")\n",
        "  if (state['review_comments'] is not None and state['review_comments'] != \"\"):\n",
        "    print (\"Revising High End Models ...\")\n",
        "    final_prompt = REVISE_HIGH_END_PRODUCTS_PROMPT.format(\n",
        "        high_end_comparisons=state['high_end_model_comparison'],\n",
        "        reviews=state['review_comments'],\n",
        "        attributes=attribute_list,\n",
        "        format_instructions=format_instructions)\n",
        "  else:\n",
        "    print (\"Getting High End Models ...\")\n",
        "    final_prompt = HIGH_END_PRODUCTS_PROMPT.format(attributes=attribute_list, format_instructions=format_instructions)\n",
        "  response = model.invoke([\n",
        "        SystemMessage(content=final_prompt),\n",
        "        user_message\n",
        "    ])\n",
        "  output_summarization = response.content\n",
        "  final_output_summarization = pydantic_parser.parse(output_summarization)\n",
        "  return {\"high_end_model_summarization\": final_output_summarization}"
      ],
      "metadata": {
        "id": "T0pRT4yBrE9g"
      },
      "execution_count": 10,
      "outputs": []
    },
    {
      "cell_type": "markdown",
      "source": [
        "### High End Model Comparison"
      ],
      "metadata": {
        "id": "xNxBU0z5hPh-"
      }
    },
    {
      "cell_type": "code",
      "source": [
        "class high_end_product_comparison(BaseModel):\n",
        "    original_product: str = Field(title=\"Original Product\", description=\"Summarizing for Original Product\")\n",
        "    product1: str = Field(title=\"Product 1\", description=\"Summarizing why paying higher for product 1 is better\")\n",
        "    product2: str = Field(title=\"Product 2\", description=\"Summarizing why paying higher for product 2 is better\")\n",
        "    product3: str = Field(title=\"Product 3\", description=\"Summarizing why paying higher for product 3 is better\")\n",
        "    product4: str = Field(title=\"Product 4\", description=\"Summarizing why paying higher for product 4 is better\")\n",
        "\n",
        "\n",
        "pydantic_parser_comparison  = PydanticOutputParser(pydantic_object=high_end_product_comparison)\n",
        "format_instructions_comparison = pydantic_parser_comparison.get_format_instructions()\n",
        "print(format_instructions_comparison)"
      ],
      "metadata": {
        "colab": {
          "base_uri": "https://localhost:8080/",
          "height": 291
        },
        "id": "NhgYqJsyq7bH",
        "outputId": "71eb39af-3eb7-4615-d963-ac3a433fdff3"
      },
      "execution_count": 11,
      "outputs": [
        {
          "output_type": "display_data",
          "data": {
            "text/plain": [
              "The output should be formatted as a JSON instance that conforms to the JSON schema below.\n",
              "\n",
              "As an example, for the schema \u001b[1m{\u001b[0m\u001b[32m\"properties\"\u001b[0m: \u001b[1m{\u001b[0m\u001b[32m\"foo\"\u001b[0m: \u001b[1m{\u001b[0m\u001b[32m\"title\"\u001b[0m: \u001b[32m\"Foo\"\u001b[0m, \u001b[32m\"description\"\u001b[0m: \u001b[32m\"a list of strings\"\u001b[0m, \u001b[32m\"type\"\u001b[0m: \n",
              "\u001b[32m\"array\"\u001b[0m, \u001b[32m\"items\"\u001b[0m: \u001b[1m{\u001b[0m\u001b[32m\"type\"\u001b[0m: \u001b[32m\"string\"\u001b[0m\u001b[1m}\u001b[0m\u001b[1m}\u001b[0m\u001b[1m}\u001b[0m, \u001b[32m\"required\"\u001b[0m: \u001b[1m[\u001b[0m\u001b[32m\"foo\"\u001b[0m\u001b[1m]\u001b[0m\u001b[1m}\u001b[0m\n",
              "the object \u001b[1m{\u001b[0m\u001b[32m\"foo\"\u001b[0m: \u001b[1m[\u001b[0m\u001b[32m\"bar\"\u001b[0m, \u001b[32m\"baz\"\u001b[0m\u001b[1m]\u001b[0m\u001b[1m}\u001b[0m is a well-formatted instance of the schema. The object \u001b[1m{\u001b[0m\u001b[32m\"properties\"\u001b[0m: \u001b[1m{\u001b[0m\u001b[32m\"foo\"\u001b[0m: \n",
              "\u001b[1m[\u001b[0m\u001b[32m\"bar\"\u001b[0m, \u001b[32m\"baz\"\u001b[0m\u001b[1m]\u001b[0m\u001b[1m}\u001b[0m\u001b[1m}\u001b[0m is not well-formatted.\n",
              "\n",
              "Here is the output schema:\n",
              "```\n",
              "\u001b[1m{\u001b[0m\u001b[32m\"properties\"\u001b[0m: \u001b[1m{\u001b[0m\u001b[32m\"original_product\"\u001b[0m: \u001b[1m{\u001b[0m\u001b[32m\"title\"\u001b[0m: \u001b[32m\"Original Product\"\u001b[0m, \u001b[32m\"description\"\u001b[0m: \u001b[32m\"Summarizing for Original \u001b[0m\n",
              "\u001b[32mProduct\"\u001b[0m, \u001b[32m\"type\"\u001b[0m: \u001b[32m\"string\"\u001b[0m\u001b[1m}\u001b[0m, \u001b[32m\"product1\"\u001b[0m: \u001b[1m{\u001b[0m\u001b[32m\"title\"\u001b[0m: \u001b[32m\"Product 1\"\u001b[0m, \u001b[32m\"description\"\u001b[0m: \u001b[32m\"Summarizing why paying higher for \u001b[0m\n",
              "\u001b[32mproduct 1 is better\"\u001b[0m, \u001b[32m\"type\"\u001b[0m: \u001b[32m\"string\"\u001b[0m\u001b[1m}\u001b[0m, \u001b[32m\"product2\"\u001b[0m: \u001b[1m{\u001b[0m\u001b[32m\"title\"\u001b[0m: \u001b[32m\"Product 2\"\u001b[0m, \u001b[32m\"description\"\u001b[0m: \u001b[32m\"Summarizing why paying \u001b[0m\n",
              "\u001b[32mhigher for product 2 is better\"\u001b[0m, \u001b[32m\"type\"\u001b[0m: \u001b[32m\"string\"\u001b[0m\u001b[1m}\u001b[0m, \u001b[32m\"product3\"\u001b[0m: \u001b[1m{\u001b[0m\u001b[32m\"title\"\u001b[0m: \u001b[32m\"Product 3\"\u001b[0m, \u001b[32m\"description\"\u001b[0m: \u001b[32m\"Summarizing \u001b[0m\n",
              "\u001b[32mwhy paying higher for product 3 is better\"\u001b[0m, \u001b[32m\"type\"\u001b[0m: \u001b[32m\"string\"\u001b[0m\u001b[1m}\u001b[0m, \u001b[32m\"product4\"\u001b[0m: \u001b[1m{\u001b[0m\u001b[32m\"title\"\u001b[0m: \u001b[32m\"Product 4\"\u001b[0m, \u001b[32m\"description\"\u001b[0m: \n",
              "\u001b[32m\"Summarizing why paying higher for product 4 is better\"\u001b[0m, \u001b[32m\"type\"\u001b[0m: \u001b[32m\"string\"\u001b[0m\u001b[1m}\u001b[0m\u001b[1m}\u001b[0m, \u001b[32m\"required\"\u001b[0m: \u001b[1m[\u001b[0m\u001b[32m\"original_product\"\u001b[0m, \n",
              "\u001b[32m\"product1\"\u001b[0m, \u001b[32m\"product2\"\u001b[0m, \u001b[32m\"product3\"\u001b[0m, \u001b[32m\"product4\"\u001b[0m\u001b[1m]\u001b[0m\u001b[1m}\u001b[0m\n",
              "```\n"
            ],
            "text/html": [
              "<pre style=\"white-space:pre;overflow-x:auto;line-height:normal;font-family:Menlo,'DejaVu Sans Mono',consolas,'Courier New',monospace\">The output should be formatted as a JSON instance that conforms to the JSON schema below.\n",
              "\n",
              "As an example, for the schema <span style=\"font-weight: bold\">{</span><span style=\"color: #008000; text-decoration-color: #008000\">\"properties\"</span>: <span style=\"font-weight: bold\">{</span><span style=\"color: #008000; text-decoration-color: #008000\">\"foo\"</span>: <span style=\"font-weight: bold\">{</span><span style=\"color: #008000; text-decoration-color: #008000\">\"title\"</span>: <span style=\"color: #008000; text-decoration-color: #008000\">\"Foo\"</span>, <span style=\"color: #008000; text-decoration-color: #008000\">\"description\"</span>: <span style=\"color: #008000; text-decoration-color: #008000\">\"a list of strings\"</span>, <span style=\"color: #008000; text-decoration-color: #008000\">\"type\"</span>: \n",
              "<span style=\"color: #008000; text-decoration-color: #008000\">\"array\"</span>, <span style=\"color: #008000; text-decoration-color: #008000\">\"items\"</span>: <span style=\"font-weight: bold\">{</span><span style=\"color: #008000; text-decoration-color: #008000\">\"type\"</span>: <span style=\"color: #008000; text-decoration-color: #008000\">\"string\"</span><span style=\"font-weight: bold\">}}}</span>, <span style=\"color: #008000; text-decoration-color: #008000\">\"required\"</span>: <span style=\"font-weight: bold\">[</span><span style=\"color: #008000; text-decoration-color: #008000\">\"foo\"</span><span style=\"font-weight: bold\">]}</span>\n",
              "the object <span style=\"font-weight: bold\">{</span><span style=\"color: #008000; text-decoration-color: #008000\">\"foo\"</span>: <span style=\"font-weight: bold\">[</span><span style=\"color: #008000; text-decoration-color: #008000\">\"bar\"</span>, <span style=\"color: #008000; text-decoration-color: #008000\">\"baz\"</span><span style=\"font-weight: bold\">]}</span> is a well-formatted instance of the schema. The object <span style=\"font-weight: bold\">{</span><span style=\"color: #008000; text-decoration-color: #008000\">\"properties\"</span>: <span style=\"font-weight: bold\">{</span><span style=\"color: #008000; text-decoration-color: #008000\">\"foo\"</span>: \n",
              "<span style=\"font-weight: bold\">[</span><span style=\"color: #008000; text-decoration-color: #008000\">\"bar\"</span>, <span style=\"color: #008000; text-decoration-color: #008000\">\"baz\"</span><span style=\"font-weight: bold\">]}}</span> is not well-formatted.\n",
              "\n",
              "Here is the output schema:\n",
              "```\n",
              "<span style=\"font-weight: bold\">{</span><span style=\"color: #008000; text-decoration-color: #008000\">\"properties\"</span>: <span style=\"font-weight: bold\">{</span><span style=\"color: #008000; text-decoration-color: #008000\">\"original_product\"</span>: <span style=\"font-weight: bold\">{</span><span style=\"color: #008000; text-decoration-color: #008000\">\"title\"</span>: <span style=\"color: #008000; text-decoration-color: #008000\">\"Original Product\"</span>, <span style=\"color: #008000; text-decoration-color: #008000\">\"description\"</span>: <span style=\"color: #008000; text-decoration-color: #008000\">\"Summarizing for Original </span>\n",
              "<span style=\"color: #008000; text-decoration-color: #008000\">Product\"</span>, <span style=\"color: #008000; text-decoration-color: #008000\">\"type\"</span>: <span style=\"color: #008000; text-decoration-color: #008000\">\"string\"</span><span style=\"font-weight: bold\">}</span>, <span style=\"color: #008000; text-decoration-color: #008000\">\"product1\"</span>: <span style=\"font-weight: bold\">{</span><span style=\"color: #008000; text-decoration-color: #008000\">\"title\"</span>: <span style=\"color: #008000; text-decoration-color: #008000\">\"Product 1\"</span>, <span style=\"color: #008000; text-decoration-color: #008000\">\"description\"</span>: <span style=\"color: #008000; text-decoration-color: #008000\">\"Summarizing why paying higher for </span>\n",
              "<span style=\"color: #008000; text-decoration-color: #008000\">product 1 is better\"</span>, <span style=\"color: #008000; text-decoration-color: #008000\">\"type\"</span>: <span style=\"color: #008000; text-decoration-color: #008000\">\"string\"</span><span style=\"font-weight: bold\">}</span>, <span style=\"color: #008000; text-decoration-color: #008000\">\"product2\"</span>: <span style=\"font-weight: bold\">{</span><span style=\"color: #008000; text-decoration-color: #008000\">\"title\"</span>: <span style=\"color: #008000; text-decoration-color: #008000\">\"Product 2\"</span>, <span style=\"color: #008000; text-decoration-color: #008000\">\"description\"</span>: <span style=\"color: #008000; text-decoration-color: #008000\">\"Summarizing why paying </span>\n",
              "<span style=\"color: #008000; text-decoration-color: #008000\">higher for product 2 is better\"</span>, <span style=\"color: #008000; text-decoration-color: #008000\">\"type\"</span>: <span style=\"color: #008000; text-decoration-color: #008000\">\"string\"</span><span style=\"font-weight: bold\">}</span>, <span style=\"color: #008000; text-decoration-color: #008000\">\"product3\"</span>: <span style=\"font-weight: bold\">{</span><span style=\"color: #008000; text-decoration-color: #008000\">\"title\"</span>: <span style=\"color: #008000; text-decoration-color: #008000\">\"Product 3\"</span>, <span style=\"color: #008000; text-decoration-color: #008000\">\"description\"</span>: <span style=\"color: #008000; text-decoration-color: #008000\">\"Summarizing </span>\n",
              "<span style=\"color: #008000; text-decoration-color: #008000\">why paying higher for product 3 is better\"</span>, <span style=\"color: #008000; text-decoration-color: #008000\">\"type\"</span>: <span style=\"color: #008000; text-decoration-color: #008000\">\"string\"</span><span style=\"font-weight: bold\">}</span>, <span style=\"color: #008000; text-decoration-color: #008000\">\"product4\"</span>: <span style=\"font-weight: bold\">{</span><span style=\"color: #008000; text-decoration-color: #008000\">\"title\"</span>: <span style=\"color: #008000; text-decoration-color: #008000\">\"Product 4\"</span>, <span style=\"color: #008000; text-decoration-color: #008000\">\"description\"</span>: \n",
              "<span style=\"color: #008000; text-decoration-color: #008000\">\"Summarizing why paying higher for product 4 is better\"</span>, <span style=\"color: #008000; text-decoration-color: #008000\">\"type\"</span>: <span style=\"color: #008000; text-decoration-color: #008000\">\"string\"</span><span style=\"font-weight: bold\">}}</span>, <span style=\"color: #008000; text-decoration-color: #008000\">\"required\"</span>: <span style=\"font-weight: bold\">[</span><span style=\"color: #008000; text-decoration-color: #008000\">\"original_product\"</span>, \n",
              "<span style=\"color: #008000; text-decoration-color: #008000\">\"product1\"</span>, <span style=\"color: #008000; text-decoration-color: #008000\">\"product2\"</span>, <span style=\"color: #008000; text-decoration-color: #008000\">\"product3\"</span>, <span style=\"color: #008000; text-decoration-color: #008000\">\"product4\"</span><span style=\"font-weight: bold\">]}</span>\n",
              "```\n",
              "</pre>\n"
            ]
          },
          "metadata": {}
        }
      ]
    },
    {
      "cell_type": "code",
      "source": [
        "def get_high_end_model_comparison(state: AgentState):\n",
        "  HIGH_END_PRODUCTS_COMPARISON_PROMPT = \"\"\"\n",
        "\n",
        "    ##Your Role:\n",
        "    You are expert critique agent who is expert in reading a lot of product summarization and ability to distinctly identify key qualities of a product.\n",
        "    ##Task: Here is the summary for the original product and its high end models. {high_end_models}\n",
        "\n",
        "    - Understand the original products and its features and qualities.\n",
        "    - Compare and reason out why paying higher price for a product is better than the original product.\n",
        "    - List key points with clarity that make it worth paying for the higher end model.\n",
        "    - **Each listed point should directly compare with the original product**\n",
        "\n",
        "    ##Output Format: {format_instructions}\n",
        "    ```\n",
        "    {{\n",
        "      \"orignal_product\": \"Original PRODUCT Price: Summarization for Original Product\",\n",
        "      \"product1\": \"Product Name1: Price:  <Reason for why paying higher for product 1 is better in bullet points>\",\n",
        "      \"product2\": \"Product Name2: Price:  <Reason for why paying higher for product 2 is better in bullet points>\",\n",
        "      \"product3\": \"Product Name3: Price:  <Reason for why paying higher for product 3 is better in bullet points>\",\n",
        "      \"product4\": \"Product Name4: Price:  <Reason for why paying higher for product 4 is better in bullet points>\"\n",
        "    }}\n",
        "\n",
        "    Make sure each product is compared with the original product. Make sure its a json in the output format provided\n",
        "    \"\"\"\n",
        "  high_end_models = \";\".join(str(item) for item in (state['high_end_model_summarization'] or []))\n",
        "  user_message = HumanMessage(content=f\"The user query is - {state['user_query']}\")\n",
        "  final_prompt = HIGH_END_PRODUCTS_COMPARISON_PROMPT.format(high_end_models=high_end_models, format_instructions=format_instructions_comparison)\n",
        "  response = model.invoke([\n",
        "        SystemMessage(content=final_prompt),\n",
        "        user_message\n",
        "    ])\n",
        "  output = response.content\n",
        "  final_output = pydantic_parser_comparison.parse(output)\n",
        "  if (state.get(\"draft_number\") is not None):\n",
        "      draft_number = state.get(\"draft_number\")\n",
        "\n",
        "  return {\"high_end_model_comparison\": final_output,\n",
        "          \"draft_number\": draft_number + 1}"
      ],
      "metadata": {
        "id": "skBxEGPHz6EU"
      },
      "execution_count": 12,
      "outputs": []
    },
    {
      "cell_type": "markdown",
      "source": [
        "### Reflection Node"
      ],
      "metadata": {
        "id": "YNDDR30yENRb"
      }
    },
    {
      "cell_type": "code",
      "source": [
        "class reflection_on_comparison(BaseModel):\n",
        "    original_product: str = Field(title=\"Original Product\", description=\"Summarizing for Original Product\")\n",
        "    product1: str = Field(title=\"Product 1\", description=\"Review Comments for product 1\")\n",
        "    product2: str = Field(title=\"Product 2\", description=\"Review Comments for product 2\")\n",
        "    product3: str = Field(title=\"Product 3\", description=\"Review Comments for product 3\")\n",
        "    product4: str = Field(title=\"Product 4\", description=\"Review Comments for product 4\")\n",
        "\n",
        "pydantic_parser_reflection  = PydanticOutputParser(pydantic_object=reflection_on_comparison)\n",
        "format_instructions_reflection = pydantic_parser_reflection.get_format_instructions()\n",
        "print(format_instructions_reflection)"
      ],
      "metadata": {
        "colab": {
          "base_uri": "https://localhost:8080/",
          "height": 275
        },
        "id": "nkBskgAhJzBA",
        "outputId": "e9310506-d2be-4f68-aed5-115426c269f4"
      },
      "execution_count": 14,
      "outputs": [
        {
          "output_type": "display_data",
          "data": {
            "text/plain": [
              "The output should be formatted as a JSON instance that conforms to the JSON schema below.\n",
              "\n",
              "As an example, for the schema \u001b[1m{\u001b[0m\u001b[32m\"properties\"\u001b[0m: \u001b[1m{\u001b[0m\u001b[32m\"foo\"\u001b[0m: \u001b[1m{\u001b[0m\u001b[32m\"title\"\u001b[0m: \u001b[32m\"Foo\"\u001b[0m, \u001b[32m\"description\"\u001b[0m: \u001b[32m\"a list of strings\"\u001b[0m, \u001b[32m\"type\"\u001b[0m: \n",
              "\u001b[32m\"array\"\u001b[0m, \u001b[32m\"items\"\u001b[0m: \u001b[1m{\u001b[0m\u001b[32m\"type\"\u001b[0m: \u001b[32m\"string\"\u001b[0m\u001b[1m}\u001b[0m\u001b[1m}\u001b[0m\u001b[1m}\u001b[0m, \u001b[32m\"required\"\u001b[0m: \u001b[1m[\u001b[0m\u001b[32m\"foo\"\u001b[0m\u001b[1m]\u001b[0m\u001b[1m}\u001b[0m\n",
              "the object \u001b[1m{\u001b[0m\u001b[32m\"foo\"\u001b[0m: \u001b[1m[\u001b[0m\u001b[32m\"bar\"\u001b[0m, \u001b[32m\"baz\"\u001b[0m\u001b[1m]\u001b[0m\u001b[1m}\u001b[0m is a well-formatted instance of the schema. The object \u001b[1m{\u001b[0m\u001b[32m\"properties\"\u001b[0m: \u001b[1m{\u001b[0m\u001b[32m\"foo\"\u001b[0m: \n",
              "\u001b[1m[\u001b[0m\u001b[32m\"bar\"\u001b[0m, \u001b[32m\"baz\"\u001b[0m\u001b[1m]\u001b[0m\u001b[1m}\u001b[0m\u001b[1m}\u001b[0m is not well-formatted.\n",
              "\n",
              "Here is the output schema:\n",
              "```\n",
              "\u001b[1m{\u001b[0m\u001b[32m\"properties\"\u001b[0m: \u001b[1m{\u001b[0m\u001b[32m\"original_product\"\u001b[0m: \u001b[1m{\u001b[0m\u001b[32m\"title\"\u001b[0m: \u001b[32m\"Original Product\"\u001b[0m, \u001b[32m\"description\"\u001b[0m: \u001b[32m\"Summarizing for Original \u001b[0m\n",
              "\u001b[32mProduct\"\u001b[0m, \u001b[32m\"type\"\u001b[0m: \u001b[32m\"string\"\u001b[0m\u001b[1m}\u001b[0m, \u001b[32m\"product1\"\u001b[0m: \u001b[1m{\u001b[0m\u001b[32m\"title\"\u001b[0m: \u001b[32m\"Product 1\"\u001b[0m, \u001b[32m\"description\"\u001b[0m: \u001b[32m\"Review Comments for product 1\"\u001b[0m, \n",
              "\u001b[32m\"type\"\u001b[0m: \u001b[32m\"string\"\u001b[0m\u001b[1m}\u001b[0m, \u001b[32m\"product2\"\u001b[0m: \u001b[1m{\u001b[0m\u001b[32m\"title\"\u001b[0m: \u001b[32m\"Product 2\"\u001b[0m, \u001b[32m\"description\"\u001b[0m: \u001b[32m\"Review Comments for product 2\"\u001b[0m, \u001b[32m\"type\"\u001b[0m: \n",
              "\u001b[32m\"string\"\u001b[0m\u001b[1m}\u001b[0m, \u001b[32m\"product3\"\u001b[0m: \u001b[1m{\u001b[0m\u001b[32m\"title\"\u001b[0m: \u001b[32m\"Product 3\"\u001b[0m, \u001b[32m\"description\"\u001b[0m: \u001b[32m\"Review Comments for product 3\"\u001b[0m, \u001b[32m\"type\"\u001b[0m: \u001b[32m\"string\"\u001b[0m\u001b[1m}\u001b[0m, \n",
              "\u001b[32m\"product4\"\u001b[0m: \u001b[1m{\u001b[0m\u001b[32m\"title\"\u001b[0m: \u001b[32m\"Product 4\"\u001b[0m, \u001b[32m\"description\"\u001b[0m: \u001b[32m\"Review Comments for product 4\"\u001b[0m, \u001b[32m\"type\"\u001b[0m: \u001b[32m\"string\"\u001b[0m\u001b[1m}\u001b[0m\u001b[1m}\u001b[0m, \u001b[32m\"required\"\u001b[0m: \n",
              "\u001b[1m[\u001b[0m\u001b[32m\"original_product\"\u001b[0m, \u001b[32m\"product1\"\u001b[0m, \u001b[32m\"product2\"\u001b[0m, \u001b[32m\"product3\"\u001b[0m, \u001b[32m\"product4\"\u001b[0m\u001b[1m]\u001b[0m\u001b[1m}\u001b[0m\n",
              "```\n"
            ],
            "text/html": [
              "<pre style=\"white-space:pre;overflow-x:auto;line-height:normal;font-family:Menlo,'DejaVu Sans Mono',consolas,'Courier New',monospace\">The output should be formatted as a JSON instance that conforms to the JSON schema below.\n",
              "\n",
              "As an example, for the schema <span style=\"font-weight: bold\">{</span><span style=\"color: #008000; text-decoration-color: #008000\">\"properties\"</span>: <span style=\"font-weight: bold\">{</span><span style=\"color: #008000; text-decoration-color: #008000\">\"foo\"</span>: <span style=\"font-weight: bold\">{</span><span style=\"color: #008000; text-decoration-color: #008000\">\"title\"</span>: <span style=\"color: #008000; text-decoration-color: #008000\">\"Foo\"</span>, <span style=\"color: #008000; text-decoration-color: #008000\">\"description\"</span>: <span style=\"color: #008000; text-decoration-color: #008000\">\"a list of strings\"</span>, <span style=\"color: #008000; text-decoration-color: #008000\">\"type\"</span>: \n",
              "<span style=\"color: #008000; text-decoration-color: #008000\">\"array\"</span>, <span style=\"color: #008000; text-decoration-color: #008000\">\"items\"</span>: <span style=\"font-weight: bold\">{</span><span style=\"color: #008000; text-decoration-color: #008000\">\"type\"</span>: <span style=\"color: #008000; text-decoration-color: #008000\">\"string\"</span><span style=\"font-weight: bold\">}}}</span>, <span style=\"color: #008000; text-decoration-color: #008000\">\"required\"</span>: <span style=\"font-weight: bold\">[</span><span style=\"color: #008000; text-decoration-color: #008000\">\"foo\"</span><span style=\"font-weight: bold\">]}</span>\n",
              "the object <span style=\"font-weight: bold\">{</span><span style=\"color: #008000; text-decoration-color: #008000\">\"foo\"</span>: <span style=\"font-weight: bold\">[</span><span style=\"color: #008000; text-decoration-color: #008000\">\"bar\"</span>, <span style=\"color: #008000; text-decoration-color: #008000\">\"baz\"</span><span style=\"font-weight: bold\">]}</span> is a well-formatted instance of the schema. The object <span style=\"font-weight: bold\">{</span><span style=\"color: #008000; text-decoration-color: #008000\">\"properties\"</span>: <span style=\"font-weight: bold\">{</span><span style=\"color: #008000; text-decoration-color: #008000\">\"foo\"</span>: \n",
              "<span style=\"font-weight: bold\">[</span><span style=\"color: #008000; text-decoration-color: #008000\">\"bar\"</span>, <span style=\"color: #008000; text-decoration-color: #008000\">\"baz\"</span><span style=\"font-weight: bold\">]}}</span> is not well-formatted.\n",
              "\n",
              "Here is the output schema:\n",
              "```\n",
              "<span style=\"font-weight: bold\">{</span><span style=\"color: #008000; text-decoration-color: #008000\">\"properties\"</span>: <span style=\"font-weight: bold\">{</span><span style=\"color: #008000; text-decoration-color: #008000\">\"original_product\"</span>: <span style=\"font-weight: bold\">{</span><span style=\"color: #008000; text-decoration-color: #008000\">\"title\"</span>: <span style=\"color: #008000; text-decoration-color: #008000\">\"Original Product\"</span>, <span style=\"color: #008000; text-decoration-color: #008000\">\"description\"</span>: <span style=\"color: #008000; text-decoration-color: #008000\">\"Summarizing for Original </span>\n",
              "<span style=\"color: #008000; text-decoration-color: #008000\">Product\"</span>, <span style=\"color: #008000; text-decoration-color: #008000\">\"type\"</span>: <span style=\"color: #008000; text-decoration-color: #008000\">\"string\"</span><span style=\"font-weight: bold\">}</span>, <span style=\"color: #008000; text-decoration-color: #008000\">\"product1\"</span>: <span style=\"font-weight: bold\">{</span><span style=\"color: #008000; text-decoration-color: #008000\">\"title\"</span>: <span style=\"color: #008000; text-decoration-color: #008000\">\"Product 1\"</span>, <span style=\"color: #008000; text-decoration-color: #008000\">\"description\"</span>: <span style=\"color: #008000; text-decoration-color: #008000\">\"Review Comments for product 1\"</span>, \n",
              "<span style=\"color: #008000; text-decoration-color: #008000\">\"type\"</span>: <span style=\"color: #008000; text-decoration-color: #008000\">\"string\"</span><span style=\"font-weight: bold\">}</span>, <span style=\"color: #008000; text-decoration-color: #008000\">\"product2\"</span>: <span style=\"font-weight: bold\">{</span><span style=\"color: #008000; text-decoration-color: #008000\">\"title\"</span>: <span style=\"color: #008000; text-decoration-color: #008000\">\"Product 2\"</span>, <span style=\"color: #008000; text-decoration-color: #008000\">\"description\"</span>: <span style=\"color: #008000; text-decoration-color: #008000\">\"Review Comments for product 2\"</span>, <span style=\"color: #008000; text-decoration-color: #008000\">\"type\"</span>: \n",
              "<span style=\"color: #008000; text-decoration-color: #008000\">\"string\"</span><span style=\"font-weight: bold\">}</span>, <span style=\"color: #008000; text-decoration-color: #008000\">\"product3\"</span>: <span style=\"font-weight: bold\">{</span><span style=\"color: #008000; text-decoration-color: #008000\">\"title\"</span>: <span style=\"color: #008000; text-decoration-color: #008000\">\"Product 3\"</span>, <span style=\"color: #008000; text-decoration-color: #008000\">\"description\"</span>: <span style=\"color: #008000; text-decoration-color: #008000\">\"Review Comments for product 3\"</span>, <span style=\"color: #008000; text-decoration-color: #008000\">\"type\"</span>: <span style=\"color: #008000; text-decoration-color: #008000\">\"string\"</span><span style=\"font-weight: bold\">}</span>, \n",
              "<span style=\"color: #008000; text-decoration-color: #008000\">\"product4\"</span>: <span style=\"font-weight: bold\">{</span><span style=\"color: #008000; text-decoration-color: #008000\">\"title\"</span>: <span style=\"color: #008000; text-decoration-color: #008000\">\"Product 4\"</span>, <span style=\"color: #008000; text-decoration-color: #008000\">\"description\"</span>: <span style=\"color: #008000; text-decoration-color: #008000\">\"Review Comments for product 4\"</span>, <span style=\"color: #008000; text-decoration-color: #008000\">\"type\"</span>: <span style=\"color: #008000; text-decoration-color: #008000\">\"string\"</span><span style=\"font-weight: bold\">}}</span>, <span style=\"color: #008000; text-decoration-color: #008000\">\"required\"</span>: \n",
              "<span style=\"font-weight: bold\">[</span><span style=\"color: #008000; text-decoration-color: #008000\">\"original_product\"</span>, <span style=\"color: #008000; text-decoration-color: #008000\">\"product1\"</span>, <span style=\"color: #008000; text-decoration-color: #008000\">\"product2\"</span>, <span style=\"color: #008000; text-decoration-color: #008000\">\"product3\"</span>, <span style=\"color: #008000; text-decoration-color: #008000\">\"product4\"</span><span style=\"font-weight: bold\">]}</span>\n",
              "```\n",
              "</pre>\n"
            ]
          },
          "metadata": {}
        }
      ]
    },
    {
      "cell_type": "code",
      "source": [
        "\n",
        "\n",
        "def reflection_node(state: AgentState):\n",
        "    REFLECTION_PROMPT = \"\"\"\n",
        "\n",
        "    ##Your Role:\n",
        "    You are an expert in Recommendation Systems, particularly in the Upselling domain. Your task is analyze the output of recommendations provided to you. You would want to make sure overall\n",
        "    objective of maximize revenue by encouraging customers to purchase higher-value products or add-on items that complement their existing purchase intentions is achieved\n",
        "\n",
        "    This is the draft comparing original product with high end models. {draft_summarization}\n",
        "\n",
        "    ##Task:\n",
        "    1. Make sure the price of the higher end items are higher than the original product price\n",
        "    2. Make sure if the reasoning provided is correct or not.\n",
        "    3. if convinced return \"Satisfied\" and if you are not convinced the reasoning  provided to for that product. Include the product name in the review.\n",
        "    4. Advise to change the product if price is lower than the original product price.\n",
        "    5. Do not provide more context about the product, the task is to **JUDGE** if you are satisfied or not and the high price condition is met.\n",
        "\n",
        "    ## Output Format: {format_instructions}\n",
        "    ```json\n",
        "    {{\n",
        "      \"product1\": \"Review Comments for product 1 it should be satisfied or the review\",\n",
        "      \"product2\": \"Review Comments for product 2 it should be satisfied or the review\",\n",
        "      \"product3\": \"Review Comments for product 3 it should be satisfied or the review\",\n",
        "      ...\n",
        "      \"product4\": \"Review Comments for product 4 it should be satisfied or the review\"\n",
        "    }}\n",
        "    ```\n",
        "\n",
        "    Make sure each product is compared with the original product. Make sure its a json in the output format provided\n",
        "    \"\"\"\n",
        "    print (\"Review Agent executing ...\")\n",
        "    #draft_summarization = \";\".join(state['high_end_model_comparison'] or [])\n",
        "    print(state['high_end_model_comparison'])\n",
        "    draft_summarization = \";\".join(str(item) for item in (state['high_end_model_comparison'] or []))\n",
        "    user_message = HumanMessage(content=f\"The user query is - {state['user_query']}\")\n",
        "    final_prompt_reflection = REFLECTION_PROMPT.format(draft_summarization=draft_summarization, format_instructions=format_instructions_reflection)\n",
        "    response = model.invoke([\n",
        "          SystemMessage(content=final_prompt_reflection),\n",
        "          user_message\n",
        "      ])\n",
        "    output_reflection = response.content\n",
        "    final_output_reflection = pydantic_parser_reflection.parse(output_reflection)\n",
        "\n",
        "    return {\"review_comments\": final_output_reflection}\n",
        "\n",
        "def agent_goal(state: AgentState):\n",
        "  draft_number = state[\"draft_number\"]\n",
        "  max_reviews = state[\"max_reviews\"]\n",
        "  output_reflection = state[\"review_comments\"]\n",
        "  if draft_number > max_reviews:\n",
        "    print (\"End of Agent Execution\")\n",
        "    return \"AGENT_END\"\n",
        "  elif output_reflection.product1 == \"Satisfied\" and output_reflection.product2 == \"Satisfied\" and output_reflection.product3 == \"Satisfied\" and output_reflection.product4 == \"Satisfied\":\n",
        "    print (\"End of Agent Execution since all products are satisfied\")\n",
        "    return \"AGENT_END\"\n",
        "  else:\n",
        "    print (\"Continue Agent Execution\")\n",
        "    return \"AGENT_CONTINUE\""
      ],
      "metadata": {
        "id": "RtG5kZYtEZAS"
      },
      "execution_count": 15,
      "outputs": []
    },
    {
      "cell_type": "markdown",
      "source": [
        "## Running an Agent"
      ],
      "metadata": {
        "id": "ilvTimo8EXl4"
      }
    },
    {
      "cell_type": "code",
      "source": [
        "from langgraph.graph import StateGraph, END\n",
        "\n",
        "upsell_graph = StateGraph(AgentState)\n",
        "upsell_graph.add_node(\"get_attributes\", get_attribute_node)\n",
        "upsell_graph.add_node(\"get_high_end_model\", get_high_end_model)\n",
        "upsell_graph.add_node(\"get_high_end_model_comparison\", get_high_end_model_comparison)\n",
        "upsell_graph.add_node(\"reflection\", reflection_node)\n",
        "\n",
        "\n",
        "\n",
        "\n",
        "upsell_graph.add_edge(\"get_attributes\", \"get_high_end_model\")\n",
        "upsell_graph.add_edge(\"get_high_end_model\", \"get_high_end_model_comparison\")\n",
        "upsell_graph.add_edge(\"get_high_end_model_comparison\", \"reflection\")\n",
        "upsell_graph.add_conditional_edges(\"reflection\", agent_goal, {\"AGENT_END\": END, \"AGENT_CONTINUE\": \"get_high_end_model\"})\n"
      ],
      "metadata": {
        "id": "TlJ-WKZSr9pJ"
      },
      "execution_count": 16,
      "outputs": []
    },
    {
      "cell_type": "code",
      "source": [
        "upsell_graph.set_entry_point(\"get_attributes\")\n"
      ],
      "metadata": {
        "id": "NQG6SbiNr-Rg"
      },
      "execution_count": 17,
      "outputs": []
    },
    {
      "cell_type": "code",
      "source": [
        "upsell_recommendation_agent = upsell_graph.compile()"
      ],
      "metadata": {
        "id": "97bME6OcsCQv"
      },
      "execution_count": 18,
      "outputs": []
    },
    {
      "cell_type": "code",
      "source": [
        "from IPython.display import Image, display\n",
        "\n",
        "display(Image(upsell_recommendation_agent.get_graph().draw_mermaid_png()))"
      ],
      "metadata": {
        "colab": {
          "base_uri": "https://localhost:8080/",
          "height": 572
        },
        "id": "6LRLI083sDz1",
        "outputId": "69cdc875-0377-47e7-a30d-7411cdef778e"
      },
      "execution_count": 19,
      "outputs": [
        {
          "output_type": "display_data",
          "data": {
            "image/jpeg": "[encoded data removed]",
            "text/plain": [
              "<IPython.core.display.Image object>"
            ]
          },
          "metadata": {}
        }
      ]
    },
    {
      "cell_type": "code",
      "source": [
        "import os\n",
        "os.environ['LANGCHAIN_TRACING_V2'] = 'true'\n",
        "os.environ['LANGCHAIN_ENDPOINT'] = \"https://api.smith.langchain.com\"\n",
        "os.environ['LANGCHAIN_API_KEY'] = userdata.get('lsmith')\n",
        "os.environ['LANGCHAIN_PROJECT'] = \"agent_report\""
      ],
      "metadata": {
        "id": "FFZrFqvgrTFM"
      },
      "execution_count": 20,
      "outputs": []
    },
    {
      "cell_type": "code",
      "source": [
        "output = upsell_recommendation_agent.invoke({'user_query': \"Dasani Water\",\n",
        "                                  \"max_reviews\": 2,})\n",
        "\n",
        "#\"Traeger Pro Blend All-Natural Wood Grilling Pellets\""
      ],
      "metadata": {
        "colab": {
          "base_uri": "https://localhost:8080/",
          "height": 629
        },
        "id": "S78i0C7Qravt",
        "outputId": "15eba195-51fb-4b3b-d65f-cbb0c303fe3b"
      },
      "execution_count": 21,
      "outputs": [
        {
          "output_type": "display_data",
          "data": {
            "text/plain": [
              "Research Agent executing \u001b[33m...\u001b[0m\n"
            ],
            "text/html": [
              "<pre style=\"white-space:pre;overflow-x:auto;line-height:normal;font-family:Menlo,'DejaVu Sans Mono',consolas,'Courier New',monospace\">Research Agent executing <span style=\"color: #808000; text-decoration-color: #808000\">...</span>\n",
              "</pre>\n"
            ]
          },
          "metadata": {}
        },
        {
          "output_type": "display_data",
          "data": {
            "text/plain": [
              "Getting High End Models \u001b[33m...\u001b[0m\n"
            ],
            "text/html": [
              "<pre style=\"white-space:pre;overflow-x:auto;line-height:normal;font-family:Menlo,'DejaVu Sans Mono',consolas,'Courier New',monospace\">Getting High End Models <span style=\"color: #808000; text-decoration-color: #808000\">...</span>\n",
              "</pre>\n"
            ]
          },
          "metadata": {}
        },
        {
          "output_type": "display_data",
          "data": {
            "text/plain": [
              "Review Agent executing \u001b[33m...\u001b[0m\n"
            ],
            "text/html": [
              "<pre style=\"white-space:pre;overflow-x:auto;line-height:normal;font-family:Menlo,'DejaVu Sans Mono',consolas,'Courier New',monospace\">Review Agent executing <span style=\"color: #808000; text-decoration-color: #808000\">...</span>\n",
              "</pre>\n"
            ]
          },
          "metadata": {}
        },
        {
          "output_type": "display_data",
          "data": {
            "text/plain": [
              "\u001b[1;35mhigh_end_product_comparison\u001b[0m\u001b[1m(\u001b[0m\n",
              "    \u001b[33moriginal_product\u001b[0m=\u001b[32m'Dasani Water: $1.50 for a 20 oz bottle. Dasani is a well-known brand owned by Coca-Cola, \u001b[0m\n",
              "\u001b[32mrecognized for its widespread availability and affordability. It sources its water from local municipal supplies, \u001b[0m\n",
              "\u001b[32mwhich is then purified through a process involving reverse osmosis. The purification process ensures a high level \u001b[0m\n",
              "\u001b[32mof purity, removing impurities and contaminants. Dasani uses recyclable PET plastic bottles, focusing on \u001b[0m\n",
              "\u001b[32msustainability with their PlantBottle initiative. It adds a proprietary blend of minerals for taste, including \u001b[0m\n",
              "\u001b[32mmagnesium sulfate, potassium chloride, and salt, giving it a clean and crisp taste. Dasani has made efforts to \u001b[0m\n",
              "\u001b[32mreduce its environmental footprint through recyclable packaging. Positioned as an affordable bottled water option, \u001b[0m\n",
              "\u001b[32mit is widely available in supermarkets, convenience stores, and vending machines. It provides hydration with added \u001b[0m\n",
              "\u001b[32mminerals for taste, but no significant health benefits over other purified waters.'\u001b[0m,\n",
              "    \u001b[33mproduct1\u001b[0m=\u001b[32m\"Fiji\u001b[0m\u001b[32m Water: $2.50 for a 16.9 oz bottle. - Sourced from an artesian aquifer in Fiji, providing a \u001b[0m\n",
              "\u001b[32munique and exotic origin compared to Dasani's municipal sources. - Naturally filtered through volcanic rock, \u001b[0m\n",
              "\u001b[32moffering a high purity level without the need for reverse osmosis. - Contains natural minerals like silica, \u001b[0m\n",
              "\u001b[32mcalcium, and magnesium, which contribute to a smooth and soft taste, potentially offering skin health benefits. - \u001b[0m\n",
              "\u001b[32mDistinctive square-shaped bottles add a premium aesthetic appeal. - Despite its higher carbon footprint due to \u001b[0m\n",
              "\u001b[32mtransportation, the premium pricing reflects its exotic source and natural filtration process.\"\u001b[0m,\n",
              "    \u001b[33mproduct2\u001b[0m=\u001b[32m\"Evian\u001b[0m\u001b[32m Water: $2.00 for a 16.9 oz bottle. - Sourced from the French Alps, offering a naturally pure \u001b[0m\n",
              "\u001b[32mand mineral-balanced water compared to Dasani's municipal source. - Naturally filtered over 15 years, ensuring a \u001b[0m\n",
              "\u001b[32munique natural purification process. - Balanced mineral content, including calcium and magnesium, supports overall \u001b[0m\n",
              "\u001b[32mhealth, unlike Dasani's added minerals for taste. - Committed to reducing carbon emissions, aligning with \u001b[0m\n",
              "\u001b[32msustainability efforts similar to Dasani. - The premium price reflects the natural filtration process and health \u001b[0m\n",
              "\u001b[32mbenefits associated with its mineral content.\"\u001b[0m,\n",
              "    \u001b[33mproduct3\u001b[0m=\u001b[32m\"Voss\u001b[0m\u001b[32m Water: $2.75 for a 16.9 oz bottle. - Sourced from an artesian source in Norway, offering a \u001b[0m\n",
              "\u001b[32mnaturally pure water with minimal processing compared to Dasani's reverse osmosis purification. - Iconic \u001b[0m\n",
              "\u001b[32mcylindrical glass bottles provide a luxury appeal and are recyclable, though heavier to transport. - Low mineral \u001b[0m\n",
              "\u001b[32mcontent makes it suitable for low-sodium diets, offering a different health benefit compared to Dasani's added \u001b[0m\n",
              "\u001b[32mminerals for taste. - High-end pricing reflects its luxury branding and stylish packaging, appealing to a different\u001b[0m\n",
              "\u001b[32mmarket segment.\"\u001b[0m,\n",
              "    \u001b[33mproduct4\u001b[0m=\u001b[32m\"Smartwater\u001b[0m\u001b[32m: $1.75 for a 20 oz bottle. - Vapor-distilled for high purity, offering a different \u001b[0m\n",
              "\u001b[32mpurification method compared to Dasani's reverse osmosis. - Added electrolytes for taste provide a hint of \u001b[0m\n",
              "\u001b[32msweetness and can aid in hydration, offering a functional benefit over Dasani's added minerals for taste. - Sleek \u001b[0m\n",
              "\u001b[32mPET bottles with a modern design, focusing on sustainable packaging similar to Dasani. - Priced slightly higher \u001b[0m\n",
              "\u001b[32mthan Dasani due to the added electrolytes, appealing to those seeking enhanced hydration benefits.\"\u001b[0m\n",
              "\u001b[1m)\u001b[0m\n"
            ],
            "text/html": [
              "<pre style=\"white-space:pre;overflow-x:auto;line-height:normal;font-family:Menlo,'DejaVu Sans Mono',consolas,'Courier New',monospace\"><span style=\"color: #800080; text-decoration-color: #800080; font-weight: bold\">high_end_product_comparison</span><span style=\"font-weight: bold\">(</span>\n",
              "    <span style=\"color: #808000; text-decoration-color: #808000\">original_product</span>=<span style=\"color: #008000; text-decoration-color: #008000\">'Dasani Water: $1.50 for a 20 oz bottle. Dasani is a well-known brand owned by Coca-Cola, </span>\n",
              "<span style=\"color: #008000; text-decoration-color: #008000\">recognized for its widespread availability and affordability. It sources its water from local municipal supplies, </span>\n",
              "<span style=\"color: #008000; text-decoration-color: #008000\">which is then purified through a process involving reverse osmosis. The purification process ensures a high level </span>\n",
              "<span style=\"color: #008000; text-decoration-color: #008000\">of purity, removing impurities and contaminants. Dasani uses recyclable PET plastic bottles, focusing on </span>\n",
              "<span style=\"color: #008000; text-decoration-color: #008000\">sustainability with their PlantBottle initiative. It adds a proprietary blend of minerals for taste, including </span>\n",
              "<span style=\"color: #008000; text-decoration-color: #008000\">magnesium sulfate, potassium chloride, and salt, giving it a clean and crisp taste. Dasani has made efforts to </span>\n",
              "<span style=\"color: #008000; text-decoration-color: #008000\">reduce its environmental footprint through recyclable packaging. Positioned as an affordable bottled water option, </span>\n",
              "<span style=\"color: #008000; text-decoration-color: #008000\">it is widely available in supermarkets, convenience stores, and vending machines. It provides hydration with added </span>\n",
              "<span style=\"color: #008000; text-decoration-color: #008000\">minerals for taste, but no significant health benefits over other purified waters.'</span>,\n",
              "    <span style=\"color: #808000; text-decoration-color: #808000\">product1</span>=<span style=\"color: #008000; text-decoration-color: #008000\">\"Fiji Water: $2.50 for a 16.9 oz bottle. - Sourced from an artesian aquifer in Fiji, providing a </span>\n",
              "<span style=\"color: #008000; text-decoration-color: #008000\">unique and exotic origin compared to Dasani's municipal sources. - Naturally filtered through volcanic rock, </span>\n",
              "<span style=\"color: #008000; text-decoration-color: #008000\">offering a high purity level without the need for reverse osmosis. - Contains natural minerals like silica, </span>\n",
              "<span style=\"color: #008000; text-decoration-color: #008000\">calcium, and magnesium, which contribute to a smooth and soft taste, potentially offering skin health benefits. - </span>\n",
              "<span style=\"color: #008000; text-decoration-color: #008000\">Distinctive square-shaped bottles add a premium aesthetic appeal. - Despite its higher carbon footprint due to </span>\n",
              "<span style=\"color: #008000; text-decoration-color: #008000\">transportation, the premium pricing reflects its exotic source and natural filtration process.\"</span>,\n",
              "    <span style=\"color: #808000; text-decoration-color: #808000\">product2</span>=<span style=\"color: #008000; text-decoration-color: #008000\">\"Evian Water: $2.00 for a 16.9 oz bottle. - Sourced from the French Alps, offering a naturally pure </span>\n",
              "<span style=\"color: #008000; text-decoration-color: #008000\">and mineral-balanced water compared to Dasani's municipal source. - Naturally filtered over 15 years, ensuring a </span>\n",
              "<span style=\"color: #008000; text-decoration-color: #008000\">unique natural purification process. - Balanced mineral content, including calcium and magnesium, supports overall </span>\n",
              "<span style=\"color: #008000; text-decoration-color: #008000\">health, unlike Dasani's added minerals for taste. - Committed to reducing carbon emissions, aligning with </span>\n",
              "<span style=\"color: #008000; text-decoration-color: #008000\">sustainability efforts similar to Dasani. - The premium price reflects the natural filtration process and health </span>\n",
              "<span style=\"color: #008000; text-decoration-color: #008000\">benefits associated with its mineral content.\"</span>,\n",
              "    <span style=\"color: #808000; text-decoration-color: #808000\">product3</span>=<span style=\"color: #008000; text-decoration-color: #008000\">\"Voss Water: $2.75 for a 16.9 oz bottle. - Sourced from an artesian source in Norway, offering a </span>\n",
              "<span style=\"color: #008000; text-decoration-color: #008000\">naturally pure water with minimal processing compared to Dasani's reverse osmosis purification. - Iconic </span>\n",
              "<span style=\"color: #008000; text-decoration-color: #008000\">cylindrical glass bottles provide a luxury appeal and are recyclable, though heavier to transport. - Low mineral </span>\n",
              "<span style=\"color: #008000; text-decoration-color: #008000\">content makes it suitable for low-sodium diets, offering a different health benefit compared to Dasani's added </span>\n",
              "<span style=\"color: #008000; text-decoration-color: #008000\">minerals for taste. - High-end pricing reflects its luxury branding and stylish packaging, appealing to a different</span>\n",
              "<span style=\"color: #008000; text-decoration-color: #008000\">market segment.\"</span>,\n",
              "    <span style=\"color: #808000; text-decoration-color: #808000\">product4</span>=<span style=\"color: #008000; text-decoration-color: #008000\">\"Smartwater: $1.75 for a 20 oz bottle. - Vapor-distilled for high purity, offering a different </span>\n",
              "<span style=\"color: #008000; text-decoration-color: #008000\">purification method compared to Dasani's reverse osmosis. - Added electrolytes for taste provide a hint of </span>\n",
              "<span style=\"color: #008000; text-decoration-color: #008000\">sweetness and can aid in hydration, offering a functional benefit over Dasani's added minerals for taste. - Sleek </span>\n",
              "<span style=\"color: #008000; text-decoration-color: #008000\">PET bottles with a modern design, focusing on sustainable packaging similar to Dasani. - Priced slightly higher </span>\n",
              "<span style=\"color: #008000; text-decoration-color: #008000\">than Dasani due to the added electrolytes, appealing to those seeking enhanced hydration benefits.\"</span>\n",
              "<span style=\"font-weight: bold\">)</span>\n",
              "</pre>\n"
            ]
          },
          "metadata": {}
        },
        {
          "output_type": "display_data",
          "data": {
            "text/plain": [
              "End of Agent Execution since all products are satisfied\n"
            ],
            "text/html": [
              "<pre style=\"white-space:pre;overflow-x:auto;line-height:normal;font-family:Menlo,'DejaVu Sans Mono',consolas,'Courier New',monospace\">End of Agent Execution since all products are satisfied\n",
              "</pre>\n"
            ]
          },
          "metadata": {}
        }
      ]
    },
    {
      "cell_type": "code",
      "source": [
        "\n",
        "print(output)"
      ],
      "metadata": {
        "colab": {
          "base_uri": "https://localhost:8080/",
          "height": 1000
        },
        "id": "Hs70qEC-v-1O",
        "outputId": "a035ac24-7da7-49c5-b062-176da88d9c92"
      },
      "execution_count": 22,
      "outputs": [
        {
          "output_type": "display_data",
          "data": {
            "text/plain": [
              "\u001b[1m{\u001b[0m\n",
              "    \u001b[32m'user_query'\u001b[0m: \u001b[32m'Dasani Water'\u001b[0m,\n",
              "    \u001b[32m'attribute_results'\u001b[0m: \u001b[1m[\u001b[0m\n",
              "        \u001b[32m'Brand Reputation'\u001b[0m,\n",
              "        \u001b[32m'Water Source'\u001b[0m,\n",
              "        \u001b[32m'Purity Level'\u001b[0m,\n",
              "        \u001b[32m'Packaging Quality'\u001b[0m,\n",
              "        \u001b[32m'Mineral Content'\u001b[0m,\n",
              "        \u001b[32m'Taste Profile'\u001b[0m,\n",
              "        \u001b[32m'Environmental Impact'\u001b[0m,\n",
              "        \u001b[32m'Price Point'\u001b[0m,\n",
              "        \u001b[32m'Availability'\u001b[0m,\n",
              "        \u001b[32m'Health Benefits'\u001b[0m\n",
              "    \u001b[1m]\u001b[0m,\n",
              "    \u001b[32m'high_end_model_summarization'\u001b[0m: \u001b[1;35mhigh_end_product\u001b[0m\u001b[1m(\u001b[0m\n",
              "        \u001b[33moriginal_product\u001b[0m=\u001b[32m'Dasani Water: $1.50 for a 20 oz bottle. Dasani is a well-known brand owned by Coca-Cola, \u001b[0m\n",
              "\u001b[32mrecognized for its widespread availability and affordability. It sources its water from local municipal supplies, \u001b[0m\n",
              "\u001b[32mwhich is then purified through a process involving reverse osmosis. The purification process ensures a high level \u001b[0m\n",
              "\u001b[32mof purity, removing impurities and contaminants. Dasani uses recyclable PET plastic bottles, focusing on \u001b[0m\n",
              "\u001b[32msustainability with their PlantBottle initiative. It adds a proprietary blend of minerals for taste, including \u001b[0m\n",
              "\u001b[32mmagnesium sulfate, potassium chloride, and salt, giving it a clean and crisp taste. Dasani has made efforts to \u001b[0m\n",
              "\u001b[32mreduce its environmental footprint through recyclable packaging. Positioned as an affordable bottled water option, \u001b[0m\n",
              "\u001b[32mit is widely available in supermarkets, convenience stores, and vending machines. It provides hydration with added \u001b[0m\n",
              "\u001b[32mminerals for taste, but no significant health benefits over other purified waters.'\u001b[0m,\n",
              "        \u001b[33mproduct1\u001b[0m=\u001b[32m'Fiji Water: $2.50 for a 16.9 oz bottle. Known for its premium quality and unique source, Fiji \u001b[0m\n",
              "\u001b[32mWater is sourced from an artesian aquifer in Viti Levu, Fiji. It is naturally filtered through volcanic rock, \u001b[0m\n",
              "\u001b[32mresulting in a high purity level. The high-quality PET bottles have a distinctive square shape. Rich in silica, \u001b[0m\n",
              "\u001b[32mcalcium, and magnesium, Fiji Water has a smooth and soft taste due to its natural mineral content. It has been \u001b[0m\n",
              "\u001b[32mcriticized for its carbon footprint due to transportation. Its premium pricing reflects its exotic source. \u001b[0m\n",
              "\u001b[32mAvailable in upscale grocery stores and restaurants, its high silica content is believed to support skin health.'\u001b[0m,\n",
              "        \u001b[33mproduct2\u001b[0m=\u001b[32m'Evian Water: $2.00 for a 16.9 oz bottle. Renowned for its natural purity and mineral balance, \u001b[0m\n",
              "\u001b[32mEvian Water is sourced from the French Alps and naturally filtered over 15 years. It comes in classic PET bottles \u001b[0m\n",
              "\u001b[32mwith a focus on sustainability. With balanced minerals including calcium and magnesium, Evian has a neutral and \u001b[0m\n",
              "\u001b[32mrefreshing taste. Committed to reducing carbon emissions, its premium price is due to the natural filtration \u001b[0m\n",
              "\u001b[32mprocess. Widely available in supermarkets and health stores, its balanced mineral content supports overall \u001b[0m\n",
              "\u001b[32mhealth.'\u001b[0m,\n",
              "        \u001b[33mproduct3\u001b[0m=\u001b[32m'Voss Water: $2.75 for a 16.9 oz bottle. Known for its luxury appeal and stylish packaging, Voss \u001b[0m\n",
              "\u001b[32mWater is sourced from an artesian source in Norway. It is naturally pure with minimal processing. The iconic \u001b[0m\n",
              "\u001b[32mcylindrical glass bottles are recyclable but heavier to transport. With low mineral content, Voss has a crisp and \u001b[0m\n",
              "\u001b[32mclean taste with a smooth finish. Its high-end pricing reflects its luxury branding. Available in high-end \u001b[0m\n",
              "\u001b[32mrestaurants and hotels, its low mineral content is suitable for low-sodium diets.'\u001b[0m,\n",
              "        \u001b[33mproduct4\u001b[0m=\u001b[32m'Smartwater: $1.75 for a 20 oz bottle. Popular for its vapor-distilled purity and added \u001b[0m\n",
              "\u001b[32melectrolytes, Smartwater is sourced from municipal sources and vapor-distilled. It has high purity through vapor \u001b[0m\n",
              "\u001b[32mdistillation and comes in sleek PET bottles with a modern design. With added electrolytes for taste, Smartwater has\u001b[0m\n",
              "\u001b[32ma clean and crisp taste with a hint of sweetness. It focuses on sustainable packaging. Priced slightly higher than \u001b[0m\n",
              "\u001b[32mDasani due to added electrolytes, it is widely available in stores and fitness centers. The added electrolytes can \u001b[0m\n",
              "\u001b[32maid in hydration.'\u001b[0m\n",
              "    \u001b[1m)\u001b[0m,\n",
              "    \u001b[32m'high_end_model_comparison'\u001b[0m: \u001b[1;35mhigh_end_product_comparison\u001b[0m\u001b[1m(\u001b[0m\n",
              "        \u001b[33moriginal_product\u001b[0m=\u001b[32m'Dasani Water: $1.50 for a 20 oz bottle. Dasani is a well-known brand owned by Coca-Cola, \u001b[0m\n",
              "\u001b[32mrecognized for its widespread availability and affordability. It sources its water from local municipal supplies, \u001b[0m\n",
              "\u001b[32mwhich is then purified through a process involving reverse osmosis. The purification process ensures a high level \u001b[0m\n",
              "\u001b[32mof purity, removing impurities and contaminants. Dasani uses recyclable PET plastic bottles, focusing on \u001b[0m\n",
              "\u001b[32msustainability with their PlantBottle initiative. It adds a proprietary blend of minerals for taste, including \u001b[0m\n",
              "\u001b[32mmagnesium sulfate, potassium chloride, and salt, giving it a clean and crisp taste. Dasani has made efforts to \u001b[0m\n",
              "\u001b[32mreduce its environmental footprint through recyclable packaging. Positioned as an affordable bottled water option, \u001b[0m\n",
              "\u001b[32mit is widely available in supermarkets, convenience stores, and vending machines. It provides hydration with added \u001b[0m\n",
              "\u001b[32mminerals for taste, but no significant health benefits over other purified waters.'\u001b[0m,\n",
              "        \u001b[33mproduct1\u001b[0m=\u001b[32m\"Fiji\u001b[0m\u001b[32m Water: $2.50 for a 16.9 oz bottle. - Sourced from an artesian aquifer in Fiji, providing a \u001b[0m\n",
              "\u001b[32munique and exotic origin compared to Dasani's municipal sources. - Naturally filtered through volcanic rock, \u001b[0m\n",
              "\u001b[32moffering a high purity level without the need for reverse osmosis. - Contains natural minerals like silica, \u001b[0m\n",
              "\u001b[32mcalcium, and magnesium, which contribute to a smooth and soft taste, potentially offering skin health benefits. - \u001b[0m\n",
              "\u001b[32mDistinctive square-shaped bottles add a premium aesthetic appeal. - Despite its higher carbon footprint due to \u001b[0m\n",
              "\u001b[32mtransportation, the premium pricing reflects its exotic source and natural filtration process.\"\u001b[0m,\n",
              "        \u001b[33mproduct2\u001b[0m=\u001b[32m\"Evian\u001b[0m\u001b[32m Water: $2.00 for a 16.9 oz bottle. - Sourced from the French Alps, offering a naturally \u001b[0m\n",
              "\u001b[32mpure and mineral-balanced water compared to Dasani's municipal source. - Naturally filtered over 15 years, ensuring\u001b[0m\n",
              "\u001b[32ma unique natural purification process. - Balanced mineral content, including calcium and magnesium, supports \u001b[0m\n",
              "\u001b[32moverall health, unlike Dasani's added minerals for taste. - Committed to reducing carbon emissions, aligning with \u001b[0m\n",
              "\u001b[32msustainability efforts similar to Dasani. - The premium price reflects the natural filtration process and health \u001b[0m\n",
              "\u001b[32mbenefits associated with its mineral content.\"\u001b[0m,\n",
              "        \u001b[33mproduct3\u001b[0m=\u001b[32m\"Voss\u001b[0m\u001b[32m Water: $2.75 for a 16.9 oz bottle. - Sourced from an artesian source in Norway, offering a \u001b[0m\n",
              "\u001b[32mnaturally pure water with minimal processing compared to Dasani's reverse osmosis purification. - Iconic \u001b[0m\n",
              "\u001b[32mcylindrical glass bottles provide a luxury appeal and are recyclable, though heavier to transport. - Low mineral \u001b[0m\n",
              "\u001b[32mcontent makes it suitable for low-sodium diets, offering a different health benefit compared to Dasani's added \u001b[0m\n",
              "\u001b[32mminerals for taste. - High-end pricing reflects its luxury branding and stylish packaging, appealing to a different\u001b[0m\n",
              "\u001b[32mmarket segment.\"\u001b[0m,\n",
              "        \u001b[33mproduct4\u001b[0m=\u001b[32m\"Smartwater\u001b[0m\u001b[32m: $1.75 for a 20 oz bottle. - Vapor-distilled for high purity, offering a different \u001b[0m\n",
              "\u001b[32mpurification method compared to Dasani's reverse osmosis. - Added electrolytes for taste provide a hint of \u001b[0m\n",
              "\u001b[32msweetness and can aid in hydration, offering a functional benefit over Dasani's added minerals for taste. - Sleek \u001b[0m\n",
              "\u001b[32mPET bottles with a modern design, focusing on sustainable packaging similar to Dasani. - Priced slightly higher \u001b[0m\n",
              "\u001b[32mthan Dasani due to the added electrolytes, appealing to those seeking enhanced hydration benefits.\"\u001b[0m\n",
              "    \u001b[1m)\u001b[0m,\n",
              "    \u001b[32m'review_comments'\u001b[0m: \u001b[1;35mreflection_on_comparison\u001b[0m\u001b[1m(\u001b[0m\n",
              "        \u001b[33moriginal_product\u001b[0m=\u001b[32m'Dasani Water: $1.50 for a 20 oz bottle.'\u001b[0m,\n",
              "        \u001b[33mproduct1\u001b[0m=\u001b[32m'Satisfied'\u001b[0m,\n",
              "        \u001b[33mproduct2\u001b[0m=\u001b[32m'Satisfied'\u001b[0m,\n",
              "        \u001b[33mproduct3\u001b[0m=\u001b[32m'Satisfied'\u001b[0m,\n",
              "        \u001b[33mproduct4\u001b[0m=\u001b[32m'Satisfied'\u001b[0m\n",
              "    \u001b[1m)\u001b[0m,\n",
              "    \u001b[32m'draft_number'\u001b[0m: \u001b[1;36m1\u001b[0m,\n",
              "    \u001b[32m'max_reviews'\u001b[0m: \u001b[1;36m2\u001b[0m\n",
              "\u001b[1m}\u001b[0m\n"
            ],
            "text/html": [
              "<pre style=\"white-space:pre;overflow-x:auto;line-height:normal;font-family:Menlo,'DejaVu Sans Mono',consolas,'Courier New',monospace\"><span style=\"font-weight: bold\">{</span>\n",
              "    <span style=\"color: #008000; text-decoration-color: #008000\">'user_query'</span>: <span style=\"color: #008000; text-decoration-color: #008000\">'Dasani Water'</span>,\n",
              "    <span style=\"color: #008000; text-decoration-color: #008000\">'attribute_results'</span>: <span style=\"font-weight: bold\">[</span>\n",
              "        <span style=\"color: #008000; text-decoration-color: #008000\">'Brand Reputation'</span>,\n",
              "        <span style=\"color: #008000; text-decoration-color: #008000\">'Water Source'</span>,\n",
              "        <span style=\"color: #008000; text-decoration-color: #008000\">'Purity Level'</span>,\n",
              "        <span style=\"color: #008000; text-decoration-color: #008000\">'Packaging Quality'</span>,\n",
              "        <span style=\"color: #008000; text-decoration-color: #008000\">'Mineral Content'</span>,\n",
              "        <span style=\"color: #008000; text-decoration-color: #008000\">'Taste Profile'</span>,\n",
              "        <span style=\"color: #008000; text-decoration-color: #008000\">'Environmental Impact'</span>,\n",
              "        <span style=\"color: #008000; text-decoration-color: #008000\">'Price Point'</span>,\n",
              "        <span style=\"color: #008000; text-decoration-color: #008000\">'Availability'</span>,\n",
              "        <span style=\"color: #008000; text-decoration-color: #008000\">'Health Benefits'</span>\n",
              "    <span style=\"font-weight: bold\">]</span>,\n",
              "    <span style=\"color: #008000; text-decoration-color: #008000\">'high_end_model_summarization'</span>: <span style=\"color: #800080; text-decoration-color: #800080; font-weight: bold\">high_end_product</span><span style=\"font-weight: bold\">(</span>\n",
              "        <span style=\"color: #808000; text-decoration-color: #808000\">original_product</span>=<span style=\"color: #008000; text-decoration-color: #008000\">'Dasani Water: $1.50 for a 20 oz bottle. Dasani is a well-known brand owned by Coca-Cola, </span>\n",
              "<span style=\"color: #008000; text-decoration-color: #008000\">recognized for its widespread availability and affordability. It sources its water from local municipal supplies, </span>\n",
              "<span style=\"color: #008000; text-decoration-color: #008000\">which is then purified through a process involving reverse osmosis. The purification process ensures a high level </span>\n",
              "<span style=\"color: #008000; text-decoration-color: #008000\">of purity, removing impurities and contaminants. Dasani uses recyclable PET plastic bottles, focusing on </span>\n",
              "<span style=\"color: #008000; text-decoration-color: #008000\">sustainability with their PlantBottle initiative. It adds a proprietary blend of minerals for taste, including </span>\n",
              "<span style=\"color: #008000; text-decoration-color: #008000\">magnesium sulfate, potassium chloride, and salt, giving it a clean and crisp taste. Dasani has made efforts to </span>\n",
              "<span style=\"color: #008000; text-decoration-color: #008000\">reduce its environmental footprint through recyclable packaging. Positioned as an affordable bottled water option, </span>\n",
              "<span style=\"color: #008000; text-decoration-color: #008000\">it is widely available in supermarkets, convenience stores, and vending machines. It provides hydration with added </span>\n",
              "<span style=\"color: #008000; text-decoration-color: #008000\">minerals for taste, but no significant health benefits over other purified waters.'</span>,\n",
              "        <span style=\"color: #808000; text-decoration-color: #808000\">product1</span>=<span style=\"color: #008000; text-decoration-color: #008000\">'Fiji Water: $2.50 for a 16.9 oz bottle. Known for its premium quality and unique source, Fiji </span>\n",
              "<span style=\"color: #008000; text-decoration-color: #008000\">Water is sourced from an artesian aquifer in Viti Levu, Fiji. It is naturally filtered through volcanic rock, </span>\n",
              "<span style=\"color: #008000; text-decoration-color: #008000\">resulting in a high purity level. The high-quality PET bottles have a distinctive square shape. Rich in silica, </span>\n",
              "<span style=\"color: #008000; text-decoration-color: #008000\">calcium, and magnesium, Fiji Water has a smooth and soft taste due to its natural mineral content. It has been </span>\n",
              "<span style=\"color: #008000; text-decoration-color: #008000\">criticized for its carbon footprint due to transportation. Its premium pricing reflects its exotic source. </span>\n",
              "<span style=\"color: #008000; text-decoration-color: #008000\">Available in upscale grocery stores and restaurants, its high silica content is believed to support skin health.'</span>,\n",
              "        <span style=\"color: #808000; text-decoration-color: #808000\">product2</span>=<span style=\"color: #008000; text-decoration-color: #008000\">'Evian Water: $2.00 for a 16.9 oz bottle. Renowned for its natural purity and mineral balance, </span>\n",
              "<span style=\"color: #008000; text-decoration-color: #008000\">Evian Water is sourced from the French Alps and naturally filtered over 15 years. It comes in classic PET bottles </span>\n",
              "<span style=\"color: #008000; text-decoration-color: #008000\">with a focus on sustainability. With balanced minerals including calcium and magnesium, Evian has a neutral and </span>\n",
              "<span style=\"color: #008000; text-decoration-color: #008000\">refreshing taste. Committed to reducing carbon emissions, its premium price is due to the natural filtration </span>\n",
              "<span style=\"color: #008000; text-decoration-color: #008000\">process. Widely available in supermarkets and health stores, its balanced mineral content supports overall </span>\n",
              "<span style=\"color: #008000; text-decoration-color: #008000\">health.'</span>,\n",
              "        <span style=\"color: #808000; text-decoration-color: #808000\">product3</span>=<span style=\"color: #008000; text-decoration-color: #008000\">'Voss Water: $2.75 for a 16.9 oz bottle. Known for its luxury appeal and stylish packaging, Voss </span>\n",
              "<span style=\"color: #008000; text-decoration-color: #008000\">Water is sourced from an artesian source in Norway. It is naturally pure with minimal processing. The iconic </span>\n",
              "<span style=\"color: #008000; text-decoration-color: #008000\">cylindrical glass bottles are recyclable but heavier to transport. With low mineral content, Voss has a crisp and </span>\n",
              "<span style=\"color: #008000; text-decoration-color: #008000\">clean taste with a smooth finish. Its high-end pricing reflects its luxury branding. Available in high-end </span>\n",
              "<span style=\"color: #008000; text-decoration-color: #008000\">restaurants and hotels, its low mineral content is suitable for low-sodium diets.'</span>,\n",
              "        <span style=\"color: #808000; text-decoration-color: #808000\">product4</span>=<span style=\"color: #008000; text-decoration-color: #008000\">'Smartwater: $1.75 for a 20 oz bottle. Popular for its vapor-distilled purity and added </span>\n",
              "<span style=\"color: #008000; text-decoration-color: #008000\">electrolytes, Smartwater is sourced from municipal sources and vapor-distilled. It has high purity through vapor </span>\n",
              "<span style=\"color: #008000; text-decoration-color: #008000\">distillation and comes in sleek PET bottles with a modern design. With added electrolytes for taste, Smartwater has</span>\n",
              "<span style=\"color: #008000; text-decoration-color: #008000\">a clean and crisp taste with a hint of sweetness. It focuses on sustainable packaging. Priced slightly higher than </span>\n",
              "<span style=\"color: #008000; text-decoration-color: #008000\">Dasani due to added electrolytes, it is widely available in stores and fitness centers. The added electrolytes can </span>\n",
              "<span style=\"color: #008000; text-decoration-color: #008000\">aid in hydration.'</span>\n",
              "    <span style=\"font-weight: bold\">)</span>,\n",
              "    <span style=\"color: #008000; text-decoration-color: #008000\">'high_end_model_comparison'</span>: <span style=\"color: #800080; text-decoration-color: #800080; font-weight: bold\">high_end_product_comparison</span><span style=\"font-weight: bold\">(</span>\n",
              "        <span style=\"color: #808000; text-decoration-color: #808000\">original_product</span>=<span style=\"color: #008000; text-decoration-color: #008000\">'Dasani Water: $1.50 for a 20 oz bottle. Dasani is a well-known brand owned by Coca-Cola, </span>\n",
              "<span style=\"color: #008000; text-decoration-color: #008000\">recognized for its widespread availability and affordability. It sources its water from local municipal supplies, </span>\n",
              "<span style=\"color: #008000; text-decoration-color: #008000\">which is then purified through a process involving reverse osmosis. The purification process ensures a high level </span>\n",
              "<span style=\"color: #008000; text-decoration-color: #008000\">of purity, removing impurities and contaminants. Dasani uses recyclable PET plastic bottles, focusing on </span>\n",
              "<span style=\"color: #008000; text-decoration-color: #008000\">sustainability with their PlantBottle initiative. It adds a proprietary blend of minerals for taste, including </span>\n",
              "<span style=\"color: #008000; text-decoration-color: #008000\">magnesium sulfate, potassium chloride, and salt, giving it a clean and crisp taste. Dasani has made efforts to </span>\n",
              "<span style=\"color: #008000; text-decoration-color: #008000\">reduce its environmental footprint through recyclable packaging. Positioned as an affordable bottled water option, </span>\n",
              "<span style=\"color: #008000; text-decoration-color: #008000\">it is widely available in supermarkets, convenience stores, and vending machines. It provides hydration with added </span>\n",
              "<span style=\"color: #008000; text-decoration-color: #008000\">minerals for taste, but no significant health benefits over other purified waters.'</span>,\n",
              "        <span style=\"color: #808000; text-decoration-color: #808000\">product1</span>=<span style=\"color: #008000; text-decoration-color: #008000\">\"Fiji Water: $2.50 for a 16.9 oz bottle. - Sourced from an artesian aquifer in Fiji, providing a </span>\n",
              "<span style=\"color: #008000; text-decoration-color: #008000\">unique and exotic origin compared to Dasani's municipal sources. - Naturally filtered through volcanic rock, </span>\n",
              "<span style=\"color: #008000; text-decoration-color: #008000\">offering a high purity level without the need for reverse osmosis. - Contains natural minerals like silica, </span>\n",
              "<span style=\"color: #008000; text-decoration-color: #008000\">calcium, and magnesium, which contribute to a smooth and soft taste, potentially offering skin health benefits. - </span>\n",
              "<span style=\"color: #008000; text-decoration-color: #008000\">Distinctive square-shaped bottles add a premium aesthetic appeal. - Despite its higher carbon footprint due to </span>\n",
              "<span style=\"color: #008000; text-decoration-color: #008000\">transportation, the premium pricing reflects its exotic source and natural filtration process.\"</span>,\n",
              "        <span style=\"color: #808000; text-decoration-color: #808000\">product2</span>=<span style=\"color: #008000; text-decoration-color: #008000\">\"Evian Water: $2.00 for a 16.9 oz bottle. - Sourced from the French Alps, offering a naturally </span>\n",
              "<span style=\"color: #008000; text-decoration-color: #008000\">pure and mineral-balanced water compared to Dasani's municipal source. - Naturally filtered over 15 years, ensuring</span>\n",
              "<span style=\"color: #008000; text-decoration-color: #008000\">a unique natural purification process. - Balanced mineral content, including calcium and magnesium, supports </span>\n",
              "<span style=\"color: #008000; text-decoration-color: #008000\">overall health, unlike Dasani's added minerals for taste. - Committed to reducing carbon emissions, aligning with </span>\n",
              "<span style=\"color: #008000; text-decoration-color: #008000\">sustainability efforts similar to Dasani. - The premium price reflects the natural filtration process and health </span>\n",
              "<span style=\"color: #008000; text-decoration-color: #008000\">benefits associated with its mineral content.\"</span>,\n",
              "        <span style=\"color: #808000; text-decoration-color: #808000\">product3</span>=<span style=\"color: #008000; text-decoration-color: #008000\">\"Voss Water: $2.75 for a 16.9 oz bottle. - Sourced from an artesian source in Norway, offering a </span>\n",
              "<span style=\"color: #008000; text-decoration-color: #008000\">naturally pure water with minimal processing compared to Dasani's reverse osmosis purification. - Iconic </span>\n",
              "<span style=\"color: #008000; text-decoration-color: #008000\">cylindrical glass bottles provide a luxury appeal and are recyclable, though heavier to transport. - Low mineral </span>\n",
              "<span style=\"color: #008000; text-decoration-color: #008000\">content makes it suitable for low-sodium diets, offering a different health benefit compared to Dasani's added </span>\n",
              "<span style=\"color: #008000; text-decoration-color: #008000\">minerals for taste. - High-end pricing reflects its luxury branding and stylish packaging, appealing to a different</span>\n",
              "<span style=\"color: #008000; text-decoration-color: #008000\">market segment.\"</span>,\n",
              "        <span style=\"color: #808000; text-decoration-color: #808000\">product4</span>=<span style=\"color: #008000; text-decoration-color: #008000\">\"Smartwater: $1.75 for a 20 oz bottle. - Vapor-distilled for high purity, offering a different </span>\n",
              "<span style=\"color: #008000; text-decoration-color: #008000\">purification method compared to Dasani's reverse osmosis. - Added electrolytes for taste provide a hint of </span>\n",
              "<span style=\"color: #008000; text-decoration-color: #008000\">sweetness and can aid in hydration, offering a functional benefit over Dasani's added minerals for taste. - Sleek </span>\n",
              "<span style=\"color: #008000; text-decoration-color: #008000\">PET bottles with a modern design, focusing on sustainable packaging similar to Dasani. - Priced slightly higher </span>\n",
              "<span style=\"color: #008000; text-decoration-color: #008000\">than Dasani due to the added electrolytes, appealing to those seeking enhanced hydration benefits.\"</span>\n",
              "    <span style=\"font-weight: bold\">)</span>,\n",
              "    <span style=\"color: #008000; text-decoration-color: #008000\">'review_comments'</span>: <span style=\"color: #800080; text-decoration-color: #800080; font-weight: bold\">reflection_on_comparison</span><span style=\"font-weight: bold\">(</span>\n",
              "        <span style=\"color: #808000; text-decoration-color: #808000\">original_product</span>=<span style=\"color: #008000; text-decoration-color: #008000\">'Dasani Water: $1.50 for a 20 oz bottle.'</span>,\n",
              "        <span style=\"color: #808000; text-decoration-color: #808000\">product1</span>=<span style=\"color: #008000; text-decoration-color: #008000\">'Satisfied'</span>,\n",
              "        <span style=\"color: #808000; text-decoration-color: #808000\">product2</span>=<span style=\"color: #008000; text-decoration-color: #008000\">'Satisfied'</span>,\n",
              "        <span style=\"color: #808000; text-decoration-color: #808000\">product3</span>=<span style=\"color: #008000; text-decoration-color: #008000\">'Satisfied'</span>,\n",
              "        <span style=\"color: #808000; text-decoration-color: #808000\">product4</span>=<span style=\"color: #008000; text-decoration-color: #008000\">'Satisfied'</span>\n",
              "    <span style=\"font-weight: bold\">)</span>,\n",
              "    <span style=\"color: #008000; text-decoration-color: #008000\">'draft_number'</span>: <span style=\"color: #008080; text-decoration-color: #008080; font-weight: bold\">1</span>,\n",
              "    <span style=\"color: #008000; text-decoration-color: #008000\">'max_reviews'</span>: <span style=\"color: #008080; text-decoration-color: #008080; font-weight: bold\">2</span>\n",
              "<span style=\"font-weight: bold\">}</span>\n",
              "</pre>\n"
            ]
          },
          "metadata": {}
        }
      ]
    },
    {
      "cell_type": "code",
      "source": [
        "from rich import print\n",
        "print(output['high_end_model_comparison'].product1)"
      ],
      "metadata": {
        "colab": {
          "base_uri": "https://localhost:8080/",
          "height": 114
        },
        "id": "LN7uwJ1LW7tL",
        "outputId": "f77507d3-ec9d-47af-ec00-7f9f1f4193d3"
      },
      "execution_count": 23,
      "outputs": [
        {
          "output_type": "display_data",
          "data": {
            "text/plain": [
              "Fiji Water: $\u001b[1;36m2.50\u001b[0m for a \u001b[1;36m16.9\u001b[0m oz bottle. - Sourced from an artesian aquifer in Fiji, providing a unique and exotic \n",
              "origin compared to Dasani's municipal sources. - Naturally filtered through volcanic rock, offering a high purity \n",
              "level without the need for reverse osmosis. - Contains natural minerals like silica, calcium, and magnesium, which \n",
              "contribute to a smooth and soft taste, potentially offering skin health benefits. - Distinctive square-shaped \n",
              "bottles add a premium aesthetic appeal. - Despite its higher carbon footprint due to transportation, the premium \n",
              "pricing reflects its exotic source and natural filtration process.\n"
            ],
            "text/html": [
              "<pre style=\"white-space:pre;overflow-x:auto;line-height:normal;font-family:Menlo,'DejaVu Sans Mono',consolas,'Courier New',monospace\">Fiji Water: $<span style=\"color: #008080; text-decoration-color: #008080; font-weight: bold\">2.50</span> for a <span style=\"color: #008080; text-decoration-color: #008080; font-weight: bold\">16.9</span> oz bottle. - Sourced from an artesian aquifer in Fiji, providing a unique and exotic \n",
              "origin compared to Dasani's municipal sources. - Naturally filtered through volcanic rock, offering a high purity \n",
              "level without the need for reverse osmosis. - Contains natural minerals like silica, calcium, and magnesium, which \n",
              "contribute to a smooth and soft taste, potentially offering skin health benefits. - Distinctive square-shaped \n",
              "bottles add a premium aesthetic appeal. - Despite its higher carbon footprint due to transportation, the premium \n",
              "pricing reflects its exotic source and natural filtration process.\n",
              "</pre>\n"
            ]
          },
          "metadata": {}
        }
      ]
    },
    {
      "cell_type": "code",
      "source": [
        "from rich import print\n",
        "print(output['high_end_model_comparison'].product2)"
      ],
      "metadata": {
        "colab": {
          "base_uri": "https://localhost:8080/",
          "height": 114
        },
        "id": "F-ghRdYnkCbz",
        "outputId": "fd6afbed-7ab3-45ff-dc6a-c4a658141363"
      },
      "execution_count": 24,
      "outputs": [
        {
          "output_type": "display_data",
          "data": {
            "text/plain": [
              "Evian Water: $\u001b[1;36m2.00\u001b[0m for a \u001b[1;36m16.9\u001b[0m oz bottle. - Sourced from the French Alps, offering a naturally pure and \n",
              "mineral-balanced water compared to Dasani's municipal source. - Naturally filtered over \u001b[1;36m15\u001b[0m years, ensuring a unique\n",
              "natural purification process. - Balanced mineral content, including calcium and magnesium, supports overall health,\n",
              "unlike Dasani's added minerals for taste. - Committed to reducing carbon emissions, aligning with sustainability \n",
              "efforts similar to Dasani. - The premium price reflects the natural filtration process and health benefits \n",
              "associated with its mineral content.\n"
            ],
            "text/html": [
              "<pre style=\"white-space:pre;overflow-x:auto;line-height:normal;font-family:Menlo,'DejaVu Sans Mono',consolas,'Courier New',monospace\">Evian Water: $<span style=\"color: #008080; text-decoration-color: #008080; font-weight: bold\">2.00</span> for a <span style=\"color: #008080; text-decoration-color: #008080; font-weight: bold\">16.9</span> oz bottle. - Sourced from the French Alps, offering a naturally pure and \n",
              "mineral-balanced water compared to Dasani's municipal source. - Naturally filtered over <span style=\"color: #008080; text-decoration-color: #008080; font-weight: bold\">15</span> years, ensuring a unique\n",
              "natural purification process. - Balanced mineral content, including calcium and magnesium, supports overall health,\n",
              "unlike Dasani's added minerals for taste. - Committed to reducing carbon emissions, aligning with sustainability \n",
              "efforts similar to Dasani. - The premium price reflects the natural filtration process and health benefits \n",
              "associated with its mineral content.\n",
              "</pre>\n"
            ]
          },
          "metadata": {}
        }
      ]
    },
    {
      "cell_type": "code",
      "source": [
        "from rich import print\n",
        "print(output['high_end_model_comparison'].product3)"
      ],
      "metadata": {
        "colab": {
          "base_uri": "https://localhost:8080/",
          "height": 98
        },
        "id": "2N93uH-CW-cY",
        "outputId": "483ae3db-af45-4556-ab73-274d5e8625b5"
      },
      "execution_count": 25,
      "outputs": [
        {
          "output_type": "display_data",
          "data": {
            "text/plain": [
              "Voss Water: $\u001b[1;36m2.75\u001b[0m for a \u001b[1;36m16.9\u001b[0m oz bottle. - Sourced from an artesian source in Norway, offering a naturally pure \n",
              "water with minimal processing compared to Dasani's reverse osmosis purification. - Iconic cylindrical glass bottles\n",
              "provide a luxury appeal and are recyclable, though heavier to transport. - Low mineral content makes it suitable \n",
              "for low-sodium diets, offering a different health benefit compared to Dasani's added minerals for taste. - High-end\n",
              "pricing reflects its luxury branding and stylish packaging, appealing to a different market segment.\n"
            ],
            "text/html": [
              "<pre style=\"white-space:pre;overflow-x:auto;line-height:normal;font-family:Menlo,'DejaVu Sans Mono',consolas,'Courier New',monospace\">Voss Water: $<span style=\"color: #008080; text-decoration-color: #008080; font-weight: bold\">2.75</span> for a <span style=\"color: #008080; text-decoration-color: #008080; font-weight: bold\">16.9</span> oz bottle. - Sourced from an artesian source in Norway, offering a naturally pure \n",
              "water with minimal processing compared to Dasani's reverse osmosis purification. - Iconic cylindrical glass bottles\n",
              "provide a luxury appeal and are recyclable, though heavier to transport. - Low mineral content makes it suitable \n",
              "for low-sodium diets, offering a different health benefit compared to Dasani's added minerals for taste. - High-end\n",
              "pricing reflects its luxury branding and stylish packaging, appealing to a different market segment.\n",
              "</pre>\n"
            ]
          },
          "metadata": {}
        }
      ]
    },
    {
      "cell_type": "code",
      "source": [
        "from rich import print\n",
        "print(output['high_end_model_comparison'].product4)"
      ],
      "metadata": {
        "colab": {
          "base_uri": "https://localhost:8080/",
          "height": 98
        },
        "id": "BJlL5y4SXAJY",
        "outputId": "5be2eab5-75fc-452e-dbed-88d0fe996f9d"
      },
      "execution_count": 26,
      "outputs": [
        {
          "output_type": "display_data",
          "data": {
            "text/plain": [
              "Smartwater: $\u001b[1;36m1.75\u001b[0m for a \u001b[1;36m20\u001b[0m oz bottle. - Vapor-distilled for high purity, offering a different purification method \n",
              "compared to Dasani's reverse osmosis. - Added electrolytes for taste provide a hint of sweetness and can aid in \n",
              "hydration, offering a functional benefit over Dasani's added minerals for taste. - Sleek PET bottles with a modern \n",
              "design, focusing on sustainable packaging similar to Dasani. - Priced slightly higher than Dasani due to the added \n",
              "electrolytes, appealing to those seeking enhanced hydration benefits.\n"
            ],
            "text/html": [
              "<pre style=\"white-space:pre;overflow-x:auto;line-height:normal;font-family:Menlo,'DejaVu Sans Mono',consolas,'Courier New',monospace\">Smartwater: $<span style=\"color: #008080; text-decoration-color: #008080; font-weight: bold\">1.75</span> for a <span style=\"color: #008080; text-decoration-color: #008080; font-weight: bold\">20</span> oz bottle. - Vapor-distilled for high purity, offering a different purification method \n",
              "compared to Dasani's reverse osmosis. - Added electrolytes for taste provide a hint of sweetness and can aid in \n",
              "hydration, offering a functional benefit over Dasani's added minerals for taste. - Sleek PET bottles with a modern \n",
              "design, focusing on sustainable packaging similar to Dasani. - Priced slightly higher than Dasani due to the added \n",
              "electrolytes, appealing to those seeking enhanced hydration benefits.\n",
              "</pre>\n"
            ]
          },
          "metadata": {}
        }
      ]
    },
    {
      "cell_type": "code",
      "source": [
        "print(output['high_end_model_comparison'].original_product)"
      ],
      "metadata": {
        "colab": {
          "base_uri": "https://localhost:8080/",
          "height": 162
        },
        "id": "AWH_psRALdgF",
        "outputId": "2d72022c-b093-4ffb-d301-b0eb74204af4"
      },
      "execution_count": 27,
      "outputs": [
        {
          "output_type": "display_data",
          "data": {
            "text/plain": [
              "Dasani Water: $\u001b[1;36m1.50\u001b[0m for a \u001b[1;36m20\u001b[0m oz bottle. Dasani is a well-known brand owned by Coca-Cola, recognized for its \n",
              "widespread availability and affordability. It sources its water from local municipal supplies, which is then \n",
              "purified through a process involving reverse osmosis. The purification process ensures a high level of purity, \n",
              "removing impurities and contaminants. Dasani uses recyclable PET plastic bottles, focusing on sustainability with \n",
              "their PlantBottle initiative. It adds a proprietary blend of minerals for taste, including magnesium sulfate, \n",
              "potassium chloride, and salt, giving it a clean and crisp taste. Dasani has made efforts to reduce its \n",
              "environmental footprint through recyclable packaging. Positioned as an affordable bottled water option, it is \n",
              "widely available in supermarkets, convenience stores, and vending machines. It provides hydration with added \n",
              "minerals for taste, but no significant health benefits over other purified waters.\n"
            ],
            "text/html": [
              "<pre style=\"white-space:pre;overflow-x:auto;line-height:normal;font-family:Menlo,'DejaVu Sans Mono',consolas,'Courier New',monospace\">Dasani Water: $<span style=\"color: #008080; text-decoration-color: #008080; font-weight: bold\">1.50</span> for a <span style=\"color: #008080; text-decoration-color: #008080; font-weight: bold\">20</span> oz bottle. Dasani is a well-known brand owned by Coca-Cola, recognized for its \n",
              "widespread availability and affordability. It sources its water from local municipal supplies, which is then \n",
              "purified through a process involving reverse osmosis. The purification process ensures a high level of purity, \n",
              "removing impurities and contaminants. Dasani uses recyclable PET plastic bottles, focusing on sustainability with \n",
              "their PlantBottle initiative. It adds a proprietary blend of minerals for taste, including magnesium sulfate, \n",
              "potassium chloride, and salt, giving it a clean and crisp taste. Dasani has made efforts to reduce its \n",
              "environmental footprint through recyclable packaging. Positioned as an affordable bottled water option, it is \n",
              "widely available in supermarkets, convenience stores, and vending machines. It provides hydration with added \n",
              "minerals for taste, but no significant health benefits over other purified waters.\n",
              "</pre>\n"
            ]
          },
          "metadata": {}
        }
      ]
    }
  ]
}