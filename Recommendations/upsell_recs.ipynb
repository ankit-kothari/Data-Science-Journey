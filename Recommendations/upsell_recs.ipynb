{
  "nbformat": 4,
  "nbformat_minor": 0,
  "metadata": {
    "colab": {
      "provenance": []
    },
    "kernelspec": {
      "name": "python3",
      "display_name": "Python 3"
    },
    "language_info": {
      "name": "python"
    }
  },
  "cells": [
    {
      "cell_type": "code",
      "execution_count": null,
      "metadata": {
        "id": "Ahzx0WB-pgvs"
      },
      "outputs": [],
      "source": [
        "%pip install -U langchain_community langchain-openai langchain-anthropic langchain langgraph==0.1.17 tavily-python langchainhub gradio"
      ]
    },
    {
      "cell_type": "code",
      "source": [
        "!pip install pymongo -qqqq"
      ],
      "metadata": {
        "colab": {
          "base_uri": "https://localhost:8080/"
        },
        "id": "4MDqT_pWqupo",
        "outputId": "e06288ce-73ea-41af-dbbc-8cf777fd9783"
      },
      "execution_count": null,
      "outputs": [
        {
          "output_type": "stream",
          "name": "stdout",
          "text": [
            "\u001b[?25l   \u001b[90m━━━━━━━━━━━━━━━━━━━━━━━━━━━━━━━━━━━━━━━━\u001b[0m \u001b[32m0.0/1.2 MB\u001b[0m \u001b[31m?\u001b[0m eta \u001b[36m-:--:--\u001b[0m\r\u001b[2K   \u001b[91m━━━━━━━━━━━━━━━━━━━━━━\u001b[0m\u001b[91m╸\u001b[0m\u001b[90m━━━━━━━━━━━━━━━━━\u001b[0m \u001b[32m0.7/1.2 MB\u001b[0m \u001b[31m19.7 MB/s\u001b[0m eta \u001b[36m0:00:01\u001b[0m\r\u001b[2K   \u001b[91m━━━━━━━━━━━━━━━━━━━━━━━━━━━━━━━━━━━━━━━\u001b[0m\u001b[91m╸\u001b[0m \u001b[32m1.2/1.2 MB\u001b[0m \u001b[31m24.9 MB/s\u001b[0m eta \u001b[36m0:00:01\u001b[0m\r\u001b[2K   \u001b[90m━━━━━━━━━━━━━━━━━━━━━━━━━━━━━━━━━━━━━━━━\u001b[0m \u001b[32m1.2/1.2 MB\u001b[0m \u001b[31m14.6 MB/s\u001b[0m eta \u001b[36m0:00:00\u001b[0m\n",
            "\u001b[?25h\u001b[?25l   \u001b[90m━━━━━━━━━━━━━━━━━━━━━━━━━━━━━━━━━━━━━━━━\u001b[0m \u001b[32m0.0/307.7 kB\u001b[0m \u001b[31m?\u001b[0m eta \u001b[36m-:--:--\u001b[0m\r\u001b[2K   \u001b[90m━━━━━━━━━━━━━━━━━━━━━━━━━━━━━━━━━━━━━━━━\u001b[0m \u001b[32m307.7/307.7 kB\u001b[0m \u001b[31m9.5 MB/s\u001b[0m eta \u001b[36m0:00:00\u001b[0m\n",
            "\u001b[?25h"
          ]
        }
      ]
    },
    {
      "cell_type": "code",
      "source": [
        "!pip install rich\n",
        "from rich import print"
      ],
      "metadata": {
        "colab": {
          "base_uri": "https://localhost:8080/"
        },
        "id": "y8tpjgO5D3IU",
        "outputId": "2925d075-a717-40ed-d4c7-36677a41e222"
      },
      "execution_count": null,
      "outputs": [
        {
          "output_type": "stream",
          "name": "stdout",
          "text": [
            "Requirement already satisfied: rich in /usr/local/lib/python3.10/dist-packages (13.7.1)\n",
            "Requirement already satisfied: markdown-it-py>=2.2.0 in /usr/local/lib/python3.10/dist-packages (from rich) (3.0.0)\n",
            "Requirement already satisfied: pygments<3.0.0,>=2.13.0 in /usr/local/lib/python3.10/dist-packages (from rich) (2.16.1)\n",
            "Requirement already satisfied: mdurl~=0.1 in /usr/local/lib/python3.10/dist-packages (from markdown-it-py>=2.2.0->rich) (0.1.2)\n"
          ]
        }
      ]
    },
    {
      "cell_type": "code",
      "source": [
        "from langchain_core.pydantic_v1 import BaseModel\n",
        "from typing import TypedDict, Annotated, List\n",
        "from rich import print\n",
        "\n",
        "class Attributes(BaseModel):\n",
        "    attributes: List[str]"
      ],
      "metadata": {
        "id": "vZeh4ny7qxXx"
      },
      "execution_count": null,
      "outputs": []
    },
    {
      "cell_type": "code",
      "source": [
        "format_instructions = Attributes.schema()[\"title\"]\n",
        "format_instructions"
      ],
      "metadata": {
        "colab": {
          "base_uri": "https://localhost:8080/",
          "height": 35
        },
        "id": "0vBRAs3QyxJO",
        "outputId": "6f1e71bc-497a-48cc-ae0d-834c92a11877"
      },
      "execution_count": null,
      "outputs": [
        {
          "output_type": "execute_result",
          "data": {
            "text/plain": [
              "'Attributes'"
            ],
            "application/vnd.google.colaboratory.intrinsic+json": {
              "type": "string"
            }
          },
          "metadata": {},
          "execution_count": 5
        }
      ]
    },
    {
      "cell_type": "code",
      "source": [
        "from langchain_openai import ChatOpenAI\n",
        "from google.colab import userdata\n",
        "\n",
        "model = ChatOpenAI(model=\"gpt-4o\", temperature=0.2, openai_api_key=userdata.get('openai'))"
      ],
      "metadata": {
        "id": "wbJsOR_Hps0K"
      },
      "execution_count": null,
      "outputs": []
    },
    {
      "cell_type": "markdown",
      "source": [
        "### Get Attributes"
      ],
      "metadata": {
        "id": "KxT3XJLG0apV"
      }
    },
    {
      "cell_type": "code",
      "source": [
        "RESEARCH_PROMPT = \"\"\"\n",
        "\n",
        "##Your Role:\n",
        "You are an expert in Recommendation Systems, particularly in the Upselling domain. Your task is to analyze the product category and create a comprehensive list of attributes that a user can use to compare the provided product with higher-end models.\n",
        "\n",
        "##Task:\n",
        "\n",
        "Identify the category of the product (e.g., \"BMW 328i belongs to Luxury Sedan Cars\").\n",
        "Develop a list of up to 10 key attributes, each with a brief one-line description, that a user would consider when comparing the product to more expensive or higher-end models.\n",
        "Example:\n",
        "\n",
        "```\n",
        "{\n",
        "  \"Attribute 1\": \"Description 1\",\n",
        "  \"Attribute 2\": \"Description 2\",\n",
        "  ...\n",
        "  \"Attribute 10\": \"Description 10\"\n",
        "}\n",
        "```\n",
        "\n",
        "\"\"\"\n",
        "\n",
        "from typing import TypedDict, Annotated, List\n",
        "\n",
        "class AgentState(TypedDict):\n",
        "    user_query: str\n",
        "    attribute_results: List[str]\n",
        "    high_end_model_summarization: List[str]\n",
        "    high_end_model_comparison: List[str]\n",
        "    review_comments: str\n",
        "    draft_number: int\n",
        "    max_reviews: int\n",
        "\n",
        "import os\n",
        "from langchain_core.messages import AnyMessage, SystemMessage, HumanMessage, AIMessage, ChatMessage\n",
        "\n",
        "def get_attribute_node(state: AgentState):\n",
        "  print (\"Research Agent executing ...\")\n",
        "  input_message = \"User query: \" + state['user_query']\n",
        "  draft_number = 0\n",
        "  messages = model.with_structured_output(Attributes).invoke([\n",
        "        SystemMessage(content=RESEARCH_PROMPT),\n",
        "        HumanMessage(content=input_message)\n",
        "    ])\n",
        "  #response = model.invoke(messages)\n",
        "  return {\"attribute_results\": messages.attributes, \"draft_number\": draft_number}"
      ],
      "metadata": {
        "id": "a36l740jpvRx"
      },
      "execution_count": null,
      "outputs": []
    },
    {
      "cell_type": "markdown",
      "source": [
        "### Get High End Models"
      ],
      "metadata": {
        "id": "O8vcjGzp0hVS"
      }
    },
    {
      "cell_type": "code",
      "source": [
        "from dataclasses import Field\n",
        "from langchain_core.pydantic_v1 import BaseModel, Field\n",
        "from typing import TypedDict, Annotated, List\n",
        "from langchain_core.output_parsers import PydanticOutputParser\n",
        "\n",
        "class high_end_product(BaseModel):\n",
        "    original_product: str = Field(title=\"Original Product\", description=\"Summarization for Original Product\")\n",
        "    product1: str = Field(title=\"Product 1\", description=\"Summarization Product 1\")\n",
        "    product2: str = Field(title=\"Product 2\", description=\"Summarization Product 2\")\n",
        "    product3: str = Field(title=\"Product 3\", description=\"Summarization Product 3\")\n",
        "    product4: str = Field(title=\"Product 4\", description=\"Summarization Product 4\")\n",
        "\n",
        "\n",
        "pydantic_parser  = PydanticOutputParser(pydantic_object=high_end_product)\n",
        "format_instructions = pydantic_parser.get_format_instructions()\n",
        "format_instructions\n",
        "\n"
      ],
      "metadata": {
        "colab": {
          "base_uri": "https://localhost:8080/",
          "height": 104
        },
        "id": "_3aSRe333CG3",
        "outputId": "ead4b605-8a61-4ded-c501-cac2c12dac4c"
      },
      "execution_count": null,
      "outputs": [
        {
          "output_type": "execute_result",
          "data": {
            "text/plain": [
              "'The output should be formatted as a JSON instance that conforms to the JSON schema below.\\n\\nAs an example, for the schema {\"properties\": {\"foo\": {\"title\": \"Foo\", \"description\": \"a list of strings\", \"type\": \"array\", \"items\": {\"type\": \"string\"}}}, \"required\": [\"foo\"]}\\nthe object {\"foo\": [\"bar\", \"baz\"]} is a well-formatted instance of the schema. The object {\"properties\": {\"foo\": [\"bar\", \"baz\"]}} is not well-formatted.\\n\\nHere is the output schema:\\n```\\n{\"properties\": {\"original_product\": {\"title\": \"Original Product\", \"description\": \"Summarization for Original Product\", \"type\": \"string\"}, \"product1\": {\"title\": \"Product 1\", \"description\": \"Summarization Product 1\", \"type\": \"string\"}, \"product2\": {\"title\": \"Product 2\", \"description\": \"Summarization Product 2\", \"type\": \"string\"}, \"product3\": {\"title\": \"Product 3\", \"description\": \"Summarization Product 3\", \"type\": \"string\"}, \"product4\": {\"title\": \"Product 4\", \"description\": \"Summarization Product 4\", \"type\": \"string\"}}, \"required\": [\"original_product\", \"product1\", \"product2\", \"product3\", \"product4\"]}\\n```'"
            ],
            "application/vnd.google.colaboratory.intrinsic+json": {
              "type": "string"
            }
          },
          "metadata": {},
          "execution_count": 8
        }
      ]
    },
    {
      "cell_type": "code",
      "source": [
        "from typing_extensions import final\n",
        "\n",
        "\n",
        "\n",
        "\n",
        "def get_high_end_model(state: AgentState):\n",
        "  HIGH_END_PRODUCTS_PROMPT = \"\"\"\n",
        "\n",
        "    ##Your Role:\n",
        "    You are expert Technical Sales agent who has a knowledge of variety of products,and details about them and you know everything a customer want to know before buying a product. Your task is to analyze the product category and create a comprehensive list of attributes that a user can use to compare the provided product with higher-end models.\n",
        "\n",
        "    ##Task:\n",
        "\n",
        "    - Identify the price of user given product.\n",
        "    - Indentify atmost 4 high end products from the one user suggested. It can be from the same brand or other brands. The key is they should be comparable. **The price of high end models should be higher the exact price of all items**\n",
        "    - Summarize the finding for each product in DETAIL, including the original user given product.\n",
        "    - Make sure the summary **covers all the aspects of this attribute list {attributes} in DETAIL**. Summary should be between 300 words\n",
        "\n",
        "    ##Output Format: {format_instructions}\n",
        "    ```json\n",
        "    {{\n",
        "      \"orignal_product\": \"orignal_product: Original PRODUCT Price: Summarization for Original Product\",\n",
        "      \"product1\": \"Product Name1: Product1 Price : Summarization Product 1\",\n",
        "      \"product2\": \"Product Name2: Product2 Price : Summarization Product 2\",\n",
        "      \"product3\": \"Product Name3: Product3 Price : Summarization Product 3\",\n",
        "      \"product4\": \"Product Name4: Product4 Price : Summarization Product 4\"\n",
        "    }}\n",
        "    ```\n",
        "    Make sure each product price is higher thant the original product price and its explicitly mentioned in the output.\n",
        "    \"\"\"\n",
        "\n",
        "\n",
        "  REVISE_HIGH_END_PRODUCTS_PROMPT = \"\"\"\n",
        "    ##Your Role:\n",
        "    You are expert Technical Sales agent who has a knowledge of variety of products,and details about them and you know everything a customer want to know before buying a product. Your task is to analyze the product category and create a comprehensive list of attributes that a user can use to compare the provided product with higher-end models.\n",
        "\n",
        "    ##Your Task:\n",
        "    - This is the draft comparing original product with high end models. {high_end_comparisons}\n",
        "    - review the comments for each product {reviews},\n",
        "    - if its satisfied, great return the same product with the same summary, DO NOT CHANGE ANYTHING\n",
        "    - if not, act on the advise, and make necessary changes using the below guidelines.\n",
        "\n",
        "    ### Guidelines:\n",
        "    - Identify the price of user given product.\n",
        "    - Indentify what the advise is for a particular product, if it needs clarification; provide to address the issue and return the same product with the necessary changes.\n",
        "    - if price lower is the issue and identify a new product, summarize the product in DETAIL. Make sure the summary covers all the aspects of this attribute list {attributes} in DETAIL. Summary should be between 300 words\n",
        "\n",
        "    ## Updated High End Products Summary:\n",
        "    ###Output Format: {format_instructions}\n",
        "    ```json\n",
        "    {{\n",
        "      \"orignal_product\": \"orignal_product: Original PRODUCT Price: Summarization for Original Product\",\n",
        "      \"product1\": \"Product Name1: Product1 Price : Summarization Product 1\",\n",
        "      \"product2\": \"Product Name2: Product2 Price : Summarization Product 2\",\n",
        "      \"product3\": \"Product Name3: Product3 Price : Summarization Product 3\",\n",
        "      \"product4\": \"Product Name4: Product4 Price : Summarization Product 4\"\n",
        "    }}\n",
        "    ```\n",
        "    Make sure each product price is higher thant the original product price and its explicitly mentioned in the output.\n",
        "\n",
        "\n",
        "  \"\"\"\n",
        "  attribute_list = \";\".join(state['attribute_results'] or [])\n",
        "  user_message = HumanMessage(content=f\"The user query is - {state['user_query']}\")\n",
        "  if (state['review_comments'] is not None and state['review_comments'] != \"\"):\n",
        "    print (\"Revising High End Models ...\")\n",
        "    final_prompt = REVISE_HIGH_END_PRODUCTS_PROMPT.format(\n",
        "        high_end_comparisons=state['high_end_model_comparison'],\n",
        "        reviews=state['review_comments'],\n",
        "        attributes=attribute_list,\n",
        "        format_instructions=format_instructions)\n",
        "  else:\n",
        "    print (\"Getting High End Models ...\")\n",
        "    final_prompt = HIGH_END_PRODUCTS_PROMPT.format(attributes=attribute_list, format_instructions=format_instructions)\n",
        "  response = model.invoke([\n",
        "        SystemMessage(content=final_prompt),\n",
        "        user_message\n",
        "    ])\n",
        "  output_summarization = response.content\n",
        "  final_output_summarization = pydantic_parser.parse(output_summarization)\n",
        "  return {\"high_end_model_summarization\": final_output_summarization}"
      ],
      "metadata": {
        "id": "T0pRT4yBrE9g"
      },
      "execution_count": null,
      "outputs": []
    },
    {
      "cell_type": "markdown",
      "source": [
        "### High End Model Comparison"
      ],
      "metadata": {
        "id": "xNxBU0z5hPh-"
      }
    },
    {
      "cell_type": "code",
      "source": [
        "class high_end_product_comparison(BaseModel):\n",
        "    original_product: str = Field(title=\"Original Product\", description=\"Summarizing for Original Product\")\n",
        "    product1: str = Field(title=\"Product 1\", description=\"Summarizing why paying higher for product 1 is better\")\n",
        "    product2: str = Field(title=\"Product 2\", description=\"Summarizing why paying higher for product 2 is better\")\n",
        "    product3: str = Field(title=\"Product 3\", description=\"Summarizing why paying higher for product 3 is better\")\n",
        "    product4: str = Field(title=\"Product 4\", description=\"Summarizing why paying higher for product 4 is better\")\n",
        "\n",
        "\n",
        "pydantic_parser_comparison  = PydanticOutputParser(pydantic_object=high_end_product_comparison)\n",
        "format_instructions_comparison = pydantic_parser_comparison.get_format_instructions()\n",
        "format_instructions_comparison"
      ],
      "metadata": {
        "colab": {
          "base_uri": "https://localhost:8080/",
          "height": 104
        },
        "id": "NhgYqJsyq7bH",
        "outputId": "079bb30b-5fb3-4cc4-a11b-6e79f1f07c24"
      },
      "execution_count": null,
      "outputs": [
        {
          "output_type": "execute_result",
          "data": {
            "text/plain": [
              "'The output should be formatted as a JSON instance that conforms to the JSON schema below.\\n\\nAs an example, for the schema {\"properties\": {\"foo\": {\"title\": \"Foo\", \"description\": \"a list of strings\", \"type\": \"array\", \"items\": {\"type\": \"string\"}}}, \"required\": [\"foo\"]}\\nthe object {\"foo\": [\"bar\", \"baz\"]} is a well-formatted instance of the schema. The object {\"properties\": {\"foo\": [\"bar\", \"baz\"]}} is not well-formatted.\\n\\nHere is the output schema:\\n```\\n{\"properties\": {\"original_product\": {\"title\": \"Original Product\", \"description\": \"Summarizing for Original Product\", \"type\": \"string\"}, \"product1\": {\"title\": \"Product 1\", \"description\": \"Summarizing why paying higher for product 1 is better\", \"type\": \"string\"}, \"product2\": {\"title\": \"Product 2\", \"description\": \"Summarizing why paying higher for product 2 is better\", \"type\": \"string\"}, \"product3\": {\"title\": \"Product 3\", \"description\": \"Summarizing why paying higher for product 3 is better\", \"type\": \"string\"}, \"product4\": {\"title\": \"Product 4\", \"description\": \"Summarizing why paying higher for product 4 is better\", \"type\": \"string\"}}, \"required\": [\"original_product\", \"product1\", \"product2\", \"product3\", \"product4\"]}\\n```'"
            ],
            "application/vnd.google.colaboratory.intrinsic+json": {
              "type": "string"
            }
          },
          "metadata": {},
          "execution_count": 10
        }
      ]
    },
    {
      "cell_type": "code",
      "source": [
        "def get_high_end_model_comparison(state: AgentState):\n",
        "  HIGH_END_PRODUCTS_COMPARISON_PROMPT = \"\"\"\n",
        "\n",
        "    ##Your Role:\n",
        "    You are expert critique agent who is expert in reading a lot of product summarization and ability to distinctly identify key qualities of a product.\n",
        "    ##Task: Here is the summary for the original product and its high end models. {high_end_models}\n",
        "\n",
        "    - Understand the original products and its features and qualities.\n",
        "    - Compare and reason out why paying higher price for a product is better than the original product.\n",
        "    - List key points with clarity that make it worth paying for the higher end model.\n",
        "    - **Each listed point should directly compare with the original product**\n",
        "\n",
        "    ##Output Format: {format_instructions}\n",
        "    ```\n",
        "    {{\n",
        "      \"orignal_product\": \"Original PRODUCT Price: Summarization for Original Product\",\n",
        "      \"product1\": \"Product Name1: Price:  <Reason for why paying higher for product 1 is better in bullet points>\",\n",
        "      \"product2\": \"Product Name2: Price:  <Reason for why paying higher for product 2 is better in bullet points>\",\n",
        "      \"product3\": \"Product Name3: Price:  <Reason for why paying higher for product 3 is better in bullet points>\",\n",
        "      \"product4\": \"Product Name4: Price:  <Reason for why paying higher for product 4 is better in bullet points>\"\n",
        "    }}\n",
        "\n",
        "    Make sure each product is compared with the original product. Make sure its a json in the output format provided\n",
        "    \"\"\"\n",
        "  high_end_models = \";\".join(str(item) for item in (state['high_end_model_summarization'] or []))\n",
        "  user_message = HumanMessage(content=f\"The user query is - {state['user_query']}\")\n",
        "  final_prompt = HIGH_END_PRODUCTS_COMPARISON_PROMPT.format(high_end_models=high_end_models, format_instructions=format_instructions_comparison)\n",
        "  response = model.invoke([\n",
        "        SystemMessage(content=final_prompt),\n",
        "        user_message\n",
        "    ])\n",
        "  output = response.content\n",
        "  final_output = pydantic_parser_comparison.parse(output)\n",
        "  if (state.get(\"draft_number\") is not None):\n",
        "      draft_number = state.get(\"draft_number\")\n",
        "\n",
        "  return {\"high_end_model_comparison\": final_output,\n",
        "          \"draft_number\": draft_number + 1}"
      ],
      "metadata": {
        "id": "skBxEGPHz6EU"
      },
      "execution_count": null,
      "outputs": []
    },
    {
      "cell_type": "markdown",
      "source": [
        "### Reflection Node"
      ],
      "metadata": {
        "id": "YNDDR30yENRb"
      }
    },
    {
      "cell_type": "code",
      "source": [
        "class reflection_on_comparison(BaseModel):\n",
        "    original_product: str = Field(title=\"Original Product\", description=\"Summarizing for Original Product\")\n",
        "    product1: str = Field(title=\"Product 1\", description=\"Review Comments for product 1\")\n",
        "    product2: str = Field(title=\"Product 2\", description=\"Review Comments for product 2\")\n",
        "    product3: str = Field(title=\"Product 3\", description=\"Review Comments for product 3\")\n",
        "    product4: str = Field(title=\"Product 4\", description=\"Review Comments for product 4\")\n",
        "\n",
        "pydantic_parser_reflection  = PydanticOutputParser(pydantic_object=reflection_on_comparison)\n",
        "format_instructions_reflection = pydantic_parser_reflection.get_format_instructions()\n",
        "format_instructions_reflection"
      ],
      "metadata": {
        "colab": {
          "base_uri": "https://localhost:8080/",
          "height": 104
        },
        "id": "nkBskgAhJzBA",
        "outputId": "a599389c-fad6-4743-f4ac-80bbe79ed56d"
      },
      "execution_count": null,
      "outputs": [
        {
          "output_type": "execute_result",
          "data": {
            "text/plain": [
              "'The output should be formatted as a JSON instance that conforms to the JSON schema below.\\n\\nAs an example, for the schema {\"properties\": {\"foo\": {\"title\": \"Foo\", \"description\": \"a list of strings\", \"type\": \"array\", \"items\": {\"type\": \"string\"}}}, \"required\": [\"foo\"]}\\nthe object {\"foo\": [\"bar\", \"baz\"]} is a well-formatted instance of the schema. The object {\"properties\": {\"foo\": [\"bar\", \"baz\"]}} is not well-formatted.\\n\\nHere is the output schema:\\n```\\n{\"properties\": {\"original_product\": {\"title\": \"Original Product\", \"description\": \"Summarizing for Original Product\", \"type\": \"string\"}, \"product1\": {\"title\": \"Product 1\", \"description\": \"Review Comments for product 1\", \"type\": \"string\"}, \"product2\": {\"title\": \"Product 2\", \"description\": \"Review Comments for product 2\", \"type\": \"string\"}, \"product3\": {\"title\": \"Product 3\", \"description\": \"Review Comments for product 3\", \"type\": \"string\"}, \"product4\": {\"title\": \"Product 4\", \"description\": \"Review Comments for product 4\", \"type\": \"string\"}}, \"required\": [\"original_product\", \"product1\", \"product2\", \"product3\", \"product4\"]}\\n```'"
            ],
            "application/vnd.google.colaboratory.intrinsic+json": {
              "type": "string"
            }
          },
          "metadata": {},
          "execution_count": 12
        }
      ]
    },
    {
      "cell_type": "code",
      "source": [
        "\n",
        "\n",
        "def reflection_node(state: AgentState):\n",
        "    REFLECTION_PROMPT = \"\"\"\n",
        "\n",
        "    ##Your Role:\n",
        "    You are an expert in Recommendation Systems, particularly in the Upselling domain. Your task is analyze the output of recommendations provided to you. You would want to make sure overall\n",
        "    objective of maximize revenue by encouraging customers to purchase higher-value products or add-on items that complement their existing purchase intentions is achieved\n",
        "\n",
        "    This is the draft comparing original product with high end models. {draft_summarization}\n",
        "\n",
        "    ##Task:\n",
        "    1. Make sure the price of the higher end items are higher than the original product price\n",
        "    2. Make sure if the reasoning provided is correct or not.\n",
        "    3. if convinced return \"Satisfied\" and if you are not convinced the reasoning  provided to for that product. Include the product name in the review.\n",
        "    4. Advise to change the product if price is lower than the original product price.\n",
        "    5. Do not provide more context about the product, the task is to **JUDGE** if you are satisfied or not and the high price condition is met.\n",
        "\n",
        "    ## Output Format: {format_instructions}\n",
        "    ```json\n",
        "    {{\n",
        "      \"product1\": \"Review Comments for product 1 it should be satisfied or the review\",\n",
        "      \"product2\": \"Review Comments for product 2 it should be satisfied or the review\",\n",
        "      \"product3\": \"Review Comments for product 3 it should be satisfied or the review\",\n",
        "      ...\n",
        "      \"product4\": \"Review Comments for product 4 it should be satisfied or the review\"\n",
        "    }}\n",
        "    ```\n",
        "\n",
        "    Make sure each product is compared with the original product. Make sure its a json in the output format provided\n",
        "    \"\"\"\n",
        "    print (\"Review Agent executing ...\")\n",
        "    #draft_summarization = \";\".join(state['high_end_model_comparison'] or [])\n",
        "    print(state['high_end_model_comparison'])\n",
        "    draft_summarization = \";\".join(str(item) for item in (state['high_end_model_comparison'] or []))\n",
        "    user_message = HumanMessage(content=f\"The user query is - {state['user_query']}\")\n",
        "    final_prompt_reflection = REFLECTION_PROMPT.format(draft_summarization=draft_summarization, format_instructions=format_instructions_reflection)\n",
        "    response = model.invoke([\n",
        "          SystemMessage(content=final_prompt_reflection),\n",
        "          user_message\n",
        "      ])\n",
        "    output_reflection = response.content\n",
        "    final_output_reflection = pydantic_parser_reflection.parse(output_reflection)\n",
        "\n",
        "    return {\"review_comments\": final_output_reflection}\n",
        "\n",
        "def agent_goal(state: AgentState):\n",
        "  draft_number = state[\"draft_number\"]\n",
        "  max_reviews = state[\"max_reviews\"]\n",
        "  output_reflection = state[\"review_comments\"]\n",
        "  if draft_number > max_reviews:\n",
        "    print (\"End of Agent Execution\")\n",
        "    return \"AGENT_END\"\n",
        "  elif output_reflection.product1 == \"Satisfied\" and output_reflection.product2 == \"Satisfied\" and output_reflection.product3 == \"Satisfied\" and output_reflection.product4 == \"Satisfied\":\n",
        "    print (\"End of Agent Execution since all products are satisfied\")\n",
        "    return \"AGENT_END\"\n",
        "  else:\n",
        "    print (\"Continue Agent Execution\")\n",
        "    return \"AGENT_CONTINUE\""
      ],
      "metadata": {
        "id": "RtG5kZYtEZAS"
      },
      "execution_count": null,
      "outputs": []
    },
    {
      "cell_type": "markdown",
      "source": [
        "## Running an Agent"
      ],
      "metadata": {
        "id": "ilvTimo8EXl4"
      }
    },
    {
      "cell_type": "code",
      "source": [
        "from langgraph.graph import StateGraph, END\n",
        "\n",
        "upsell_graph = StateGraph(AgentState)\n",
        "upsell_graph.add_node(\"get_attributes\", get_attribute_node)\n",
        "upsell_graph.add_node(\"get_high_end_model\", get_high_end_model)\n",
        "upsell_graph.add_node(\"get_high_end_model_comparison\", get_high_end_model_comparison)\n",
        "upsell_graph.add_node(\"reflection\", reflection_node)\n",
        "\n",
        "\n",
        "\n",
        "\n",
        "upsell_graph.add_edge(\"get_attributes\", \"get_high_end_model\")\n",
        "upsell_graph.add_edge(\"get_high_end_model\", \"get_high_end_model_comparison\")\n",
        "upsell_graph.add_edge(\"get_high_end_model_comparison\", \"reflection\")\n",
        "upsell_graph.add_conditional_edges(\"reflection\", agent_goal, {\"AGENT_END\": END, \"AGENT_CONTINUE\": \"get_high_end_model\"})\n"
      ],
      "metadata": {
        "id": "TlJ-WKZSr9pJ"
      },
      "execution_count": null,
      "outputs": []
    },
    {
      "cell_type": "code",
      "source": [
        "upsell_graph.set_entry_point(\"get_attributes\")\n"
      ],
      "metadata": {
        "id": "NQG6SbiNr-Rg"
      },
      "execution_count": null,
      "outputs": []
    },
    {
      "cell_type": "code",
      "source": [
        "upsell_recommendation_agent = upsell_graph.compile()"
      ],
      "metadata": {
        "id": "97bME6OcsCQv"
      },
      "execution_count": null,
      "outputs": []
    },
    {
      "cell_type": "code",
      "source": [
        "from IPython.display import Image, display\n",
        "\n",
        "display(Image(upsell_recommendation_agent.get_graph().draw_mermaid_png()))"
      ],
      "metadata": {
        "colab": {
          "base_uri": "https://localhost:8080/",
          "height": 507
        },
        "id": "6LRLI083sDz1",
        "outputId": "d62a0dc8-d396-4063-f6a9-bed41995fc3a"
      },
      "execution_count": null,
      "outputs": [
        {
          "output_type": "display_data",
          "data": {
            "image/jpeg": "[encoded data removed]",
            "text/plain": [
              "<IPython.core.display.Image object>"
            ]
          },
          "metadata": {}
        }
      ]
    },
    {
      "cell_type": "code",
      "source": [
        "import os\n",
        "os.environ['LANGCHAIN_TRACING_V2'] = 'true'\n",
        "os.environ['LANGCHAIN_ENDPOINT'] = \"https://api.smith.langchain.com\"\n",
        "os.environ['LANGCHAIN_API_KEY'] = userdata.get('lsmith')\n",
        "os.environ['LANGCHAIN_PROJECT'] = \"agent_report\""
      ],
      "metadata": {
        "id": "FFZrFqvgrTFM"
      },
      "execution_count": null,
      "outputs": []
    },
    {
      "cell_type": "code",
      "source": [
        "output = upsell_recommendation_agent.invoke({'user_query': \"InSinkErator Badger 500, 1/2 HP Continuous Feed Kitchen Garbage Disposal, Standard Series\",\n",
        "                                  \"max_reviews\": 2,})\n",
        "\n",
        "#\"Traeger Pro Blend All-Natural Wood Grilling Pellets\"\n",
        "#\"Dasani Water\"\n",
        "#\"Pampers Baby Diaper\"\n",
        "#\"\"GE Profile 4.8 cu. ft. Smart UltraFast Electric Washer & Dryer Combo\"\"\n",
        "#\"HDX Superior Pleated Furnace Air Filter FPR 9\""
      ],
      "metadata": {
        "colab": {
          "base_uri": "https://localhost:8080/",
          "height": 613
        },
        "id": "S78i0C7Qravt",
        "outputId": "8ffc3697-0791-4461-c71c-de160061df41"
      },
      "execution_count": null,
      "outputs": [
        {
          "output_type": "display_data",
          "data": {
            "text/plain": [
              "Research Agent executing \u001b[33m...\u001b[0m\n"
            ],
            "text/html": [
              "<pre style=\"white-space:pre;overflow-x:auto;line-height:normal;font-family:Menlo,'DejaVu Sans Mono',consolas,'Courier New',monospace\">Research Agent executing <span style=\"color: #808000; text-decoration-color: #808000\">...</span>\n",
              "</pre>\n"
            ]
          },
          "metadata": {}
        },
        {
          "output_type": "display_data",
          "data": {
            "text/plain": [
              "Getting High End Models \u001b[33m...\u001b[0m\n"
            ],
            "text/html": [
              "<pre style=\"white-space:pre;overflow-x:auto;line-height:normal;font-family:Menlo,'DejaVu Sans Mono',consolas,'Courier New',monospace\">Getting High End Models <span style=\"color: #808000; text-decoration-color: #808000\">...</span>\n",
              "</pre>\n"
            ]
          },
          "metadata": {}
        },
        {
          "output_type": "display_data",
          "data": {
            "text/plain": [
              "Review Agent executing \u001b[33m...\u001b[0m\n"
            ],
            "text/html": [
              "<pre style=\"white-space:pre;overflow-x:auto;line-height:normal;font-family:Menlo,'DejaVu Sans Mono',consolas,'Courier New',monospace\">Review Agent executing <span style=\"color: #808000; text-decoration-color: #808000\">...</span>\n",
              "</pre>\n"
            ]
          },
          "metadata": {}
        },
        {
          "output_type": "display_data",
          "data": {
            "text/plain": [
              "\u001b[1;35mhigh_end_product_comparison\u001b[0m\u001b[1m(\u001b[0m\n",
              "    \u001b[33moriginal_product\u001b[0m=\u001b[32m'InSinkErator Badger 500: $99 - The InSinkErator Badger 500 is a reliable and affordable \u001b[0m\n",
              "\u001b[32mkitchen garbage disposal unit. It features a 1/2 horsepower Dura-Drive induction motor, which provides a powerful \u001b[0m\n",
              "\u001b[32mand consistent grind. The continuous feed mechanism allows for the disposal of food waste without interruption. The\u001b[0m\n",
              "\u001b[32munit is part of the Standard Series, which is known for its durability and ease of installation. The Badger 500 is \u001b[0m\n",
              "\u001b[32mconstructed with galvanized steel components, ensuring long-lasting performance. It also includes a Quick Lock sink\u001b[0m\n",
              "\u001b[32mmount for easy replacement and installation. However, it lacks advanced noise reduction technology and \u001b[0m\n",
              "\u001b[32mcorrosion-resistant materials found in higher-end models.'\u001b[0m,\n",
              "    \u001b[33mproduct1\u001b[0m=\u001b[32m'InSinkErator Evolution Compact: $200 - \\n- More powerful 3/4 horsepower motor compared to the 1/2 \u001b[0m\n",
              "\u001b[32mhorsepower motor in the Badger 500.\\n- Includes SoundSeal technology for significantly reduced noise during \u001b[0m\n",
              "\u001b[32moperation, unlike the Badger 500.\\n- Features MultiGrind technology for a finer grind, reducing the risk of clogs, \u001b[0m\n",
              "\u001b[32mwhich the Badger 500 lacks.\\n- Constructed with stainless steel components for superior durability and corrosion \u001b[0m\n",
              "\u001b[32mresistance compared to the galvanized steel in the Badger 500.\\n- Compact design suitable for smaller spaces, \u001b[0m\n",
              "\u001b[32moffering more flexibility in installation.'\u001b[0m,\n",
              "    \u001b[33mproduct2\u001b[0m=\u001b[32m'Waste King L-8000: $150 - \\n- More powerful 1 horsepower permanent magnet motor compared to the 1/2 \u001b[0m\n",
              "\u001b[32mhorsepower motor in the Badger 500.\\n- Includes sound insulation to reduce noise during operation, which the Badger\u001b[0m\n",
              "\u001b[32m500 lacks.\\n- Constructed with stainless steel components for better durability and corrosion resistance compared \u001b[0m\n",
              "\u001b[32mto the galvanized steel in the Badger 500.\\n- Comes with a removable splash guard for easier cleaning and \u001b[0m\n",
              "\u001b[32mmaintenance, a feature not mentioned for the Badger 500.\\n- Pre-installed power cord for straightforward \u001b[0m\n",
              "\u001b[32minstallation, unlike the Badger 500 which does not mention this feature.'\u001b[0m,\n",
              "    \u001b[33mproduct3\u001b[0m=\u001b[32m'Moen GX100C Host Series: $180 - \\n- More powerful 1 horsepower Vortex motor compared to the 1/2 \u001b[0m\n",
              "\u001b[32mhorsepower motor in the Badger 500.\\n- Includes SoundSHIELD technology to reduce noise during operation, unlike the\u001b[0m\n",
              "\u001b[32mBadger 500.\\n- Constructed with stainless steel components for superior durability and corrosion resistance \u001b[0m\n",
              "\u001b[32mcompared to the galvanized steel in the Badger 500.\\n- Pre-installed power cord and Universal Xpress Mount for \u001b[0m\n",
              "\u001b[32measier installation, features not mentioned for the Badger 500.\\n- Designed for heavy use, making it more suitable \u001b[0m\n",
              "\u001b[32mfor households that frequently cook and entertain.'\u001b[0m,\n",
              "    \u001b[33mproduct4\u001b[0m=\u001b[32m'GE GFC1020N: $170 - \\n- More powerful 1 horsepower motor compared to the 1/2 horsepower motor in the \u001b[0m\n",
              "\u001b[32mBadger 500.\\n- Includes sound insulation to reduce noise during operation, which the Badger 500 lacks.\\n- \u001b[0m\n",
              "\u001b[32mConstructed with stainless steel components for better durability and corrosion resistance compared to the \u001b[0m\n",
              "\u001b[32mgalvanized steel in the Badger 500.\\n- Comes with a removable splash guard for easier cleaning and maintenance, a \u001b[0m\n",
              "\u001b[32mfeature not mentioned for the Badger 500.\\n- Direct wire connection for straightforward installation, unlike the \u001b[0m\n",
              "\u001b[32mBadger 500 which does not mention this feature.'\u001b[0m\n",
              "\u001b[1m)\u001b[0m\n"
            ],
            "text/html": [
              "<pre style=\"white-space:pre;overflow-x:auto;line-height:normal;font-family:Menlo,'DejaVu Sans Mono',consolas,'Courier New',monospace\"><span style=\"color: #800080; text-decoration-color: #800080; font-weight: bold\">high_end_product_comparison</span><span style=\"font-weight: bold\">(</span>\n",
              "    <span style=\"color: #808000; text-decoration-color: #808000\">original_product</span>=<span style=\"color: #008000; text-decoration-color: #008000\">'InSinkErator Badger 500: $99 - The InSinkErator Badger 500 is a reliable and affordable </span>\n",
              "<span style=\"color: #008000; text-decoration-color: #008000\">kitchen garbage disposal unit. It features a 1/2 horsepower Dura-Drive induction motor, which provides a powerful </span>\n",
              "<span style=\"color: #008000; text-decoration-color: #008000\">and consistent grind. The continuous feed mechanism allows for the disposal of food waste without interruption. The</span>\n",
              "<span style=\"color: #008000; text-decoration-color: #008000\">unit is part of the Standard Series, which is known for its durability and ease of installation. The Badger 500 is </span>\n",
              "<span style=\"color: #008000; text-decoration-color: #008000\">constructed with galvanized steel components, ensuring long-lasting performance. It also includes a Quick Lock sink</span>\n",
              "<span style=\"color: #008000; text-decoration-color: #008000\">mount for easy replacement and installation. However, it lacks advanced noise reduction technology and </span>\n",
              "<span style=\"color: #008000; text-decoration-color: #008000\">corrosion-resistant materials found in higher-end models.'</span>,\n",
              "    <span style=\"color: #808000; text-decoration-color: #808000\">product1</span>=<span style=\"color: #008000; text-decoration-color: #008000\">'InSinkErator Evolution Compact: $200 - \\n- More powerful 3/4 horsepower motor compared to the 1/2 </span>\n",
              "<span style=\"color: #008000; text-decoration-color: #008000\">horsepower motor in the Badger 500.\\n- Includes SoundSeal technology for significantly reduced noise during </span>\n",
              "<span style=\"color: #008000; text-decoration-color: #008000\">operation, unlike the Badger 500.\\n- Features MultiGrind technology for a finer grind, reducing the risk of clogs, </span>\n",
              "<span style=\"color: #008000; text-decoration-color: #008000\">which the Badger 500 lacks.\\n- Constructed with stainless steel components for superior durability and corrosion </span>\n",
              "<span style=\"color: #008000; text-decoration-color: #008000\">resistance compared to the galvanized steel in the Badger 500.\\n- Compact design suitable for smaller spaces, </span>\n",
              "<span style=\"color: #008000; text-decoration-color: #008000\">offering more flexibility in installation.'</span>,\n",
              "    <span style=\"color: #808000; text-decoration-color: #808000\">product2</span>=<span style=\"color: #008000; text-decoration-color: #008000\">'Waste King L-8000: $150 - \\n- More powerful 1 horsepower permanent magnet motor compared to the 1/2 </span>\n",
              "<span style=\"color: #008000; text-decoration-color: #008000\">horsepower motor in the Badger 500.\\n- Includes sound insulation to reduce noise during operation, which the Badger</span>\n",
              "<span style=\"color: #008000; text-decoration-color: #008000\">500 lacks.\\n- Constructed with stainless steel components for better durability and corrosion resistance compared </span>\n",
              "<span style=\"color: #008000; text-decoration-color: #008000\">to the galvanized steel in the Badger 500.\\n- Comes with a removable splash guard for easier cleaning and </span>\n",
              "<span style=\"color: #008000; text-decoration-color: #008000\">maintenance, a feature not mentioned for the Badger 500.\\n- Pre-installed power cord for straightforward </span>\n",
              "<span style=\"color: #008000; text-decoration-color: #008000\">installation, unlike the Badger 500 which does not mention this feature.'</span>,\n",
              "    <span style=\"color: #808000; text-decoration-color: #808000\">product3</span>=<span style=\"color: #008000; text-decoration-color: #008000\">'Moen GX100C Host Series: $180 - \\n- More powerful 1 horsepower Vortex motor compared to the 1/2 </span>\n",
              "<span style=\"color: #008000; text-decoration-color: #008000\">horsepower motor in the Badger 500.\\n- Includes SoundSHIELD technology to reduce noise during operation, unlike the</span>\n",
              "<span style=\"color: #008000; text-decoration-color: #008000\">Badger 500.\\n- Constructed with stainless steel components for superior durability and corrosion resistance </span>\n",
              "<span style=\"color: #008000; text-decoration-color: #008000\">compared to the galvanized steel in the Badger 500.\\n- Pre-installed power cord and Universal Xpress Mount for </span>\n",
              "<span style=\"color: #008000; text-decoration-color: #008000\">easier installation, features not mentioned for the Badger 500.\\n- Designed for heavy use, making it more suitable </span>\n",
              "<span style=\"color: #008000; text-decoration-color: #008000\">for households that frequently cook and entertain.'</span>,\n",
              "    <span style=\"color: #808000; text-decoration-color: #808000\">product4</span>=<span style=\"color: #008000; text-decoration-color: #008000\">'GE GFC1020N: $170 - \\n- More powerful 1 horsepower motor compared to the 1/2 horsepower motor in the </span>\n",
              "<span style=\"color: #008000; text-decoration-color: #008000\">Badger 500.\\n- Includes sound insulation to reduce noise during operation, which the Badger 500 lacks.\\n- </span>\n",
              "<span style=\"color: #008000; text-decoration-color: #008000\">Constructed with stainless steel components for better durability and corrosion resistance compared to the </span>\n",
              "<span style=\"color: #008000; text-decoration-color: #008000\">galvanized steel in the Badger 500.\\n- Comes with a removable splash guard for easier cleaning and maintenance, a </span>\n",
              "<span style=\"color: #008000; text-decoration-color: #008000\">feature not mentioned for the Badger 500.\\n- Direct wire connection for straightforward installation, unlike the </span>\n",
              "<span style=\"color: #008000; text-decoration-color: #008000\">Badger 500 which does not mention this feature.'</span>\n",
              "<span style=\"font-weight: bold\">)</span>\n",
              "</pre>\n"
            ]
          },
          "metadata": {}
        },
        {
          "output_type": "display_data",
          "data": {
            "text/plain": [
              "End of Agent Execution since all products are satisfied\n"
            ],
            "text/html": [
              "<pre style=\"white-space:pre;overflow-x:auto;line-height:normal;font-family:Menlo,'DejaVu Sans Mono',consolas,'Courier New',monospace\">End of Agent Execution since all products are satisfied\n",
              "</pre>\n"
            ]
          },
          "metadata": {}
        }
      ]
    },
    {
      "cell_type": "code",
      "source": [
        "\n",
        "print(output)"
      ],
      "metadata": {
        "colab": {
          "base_uri": "https://localhost:8080/",
          "height": 1000
        },
        "id": "Hs70qEC-v-1O",
        "outputId": "1e4346a4-24cb-4664-d978-c7649ccf6e68"
      },
      "execution_count": null,
      "outputs": [
        {
          "output_type": "display_data",
          "data": {
            "text/plain": [
              "\u001b[1m{\u001b[0m\n",
              "    \u001b[32m'user_query'\u001b[0m: \u001b[32m'InSinkErator Badger 500, 1/2 HP Continuous Feed Kitchen Garbage Disposal, Standard Series'\u001b[0m,\n",
              "    \u001b[32m'attribute_results'\u001b[0m: \u001b[1m[\u001b[0m\n",
              "        \u001b[32m'InSinkErator Badger 500'\u001b[0m,\n",
              "        \u001b[32m'1/2 HP'\u001b[0m,\n",
              "        \u001b[32m'Continuous Feed'\u001b[0m,\n",
              "        \u001b[32m'Kitchen Garbage Disposal'\u001b[0m,\n",
              "        \u001b[32m'Standard Series'\u001b[0m\n",
              "    \u001b[1m]\u001b[0m,\n",
              "    \u001b[32m'high_end_model_summarization'\u001b[0m: \u001b[1;35mhigh_end_product\u001b[0m\u001b[1m(\u001b[0m\n",
              "        \u001b[33moriginal_product\u001b[0m=\u001b[32m'InSinkErator Badger 500: $99 - The InSinkErator Badger 500 is a reliable and affordable \u001b[0m\n",
              "\u001b[32mkitchen garbage disposal unit. It features a 1/2 horsepower Dura-Drive induction motor, which provides a powerful \u001b[0m\n",
              "\u001b[32mand consistent grind. The continuous feed mechanism allows for the disposal of food waste without interruption. The\u001b[0m\n",
              "\u001b[32munit is part of the Standard Series, which is known for its durability and ease of installation. The Badger 500 is \u001b[0m\n",
              "\u001b[32mconstructed with galvanized steel components, ensuring long-lasting performance. It also includes a Quick Lock sink\u001b[0m\n",
              "\u001b[32mmount for easy replacement and installation. However, it lacks advanced noise reduction technology and \u001b[0m\n",
              "\u001b[32mcorrosion-resistant materials found in higher-end models.'\u001b[0m,\n",
              "        \u001b[33mproduct1\u001b[0m=\u001b[32m'InSinkErator Evolution Compact: $200 - The InSinkErator Evolution Compact is a higher-end model \u001b[0m\n",
              "\u001b[32mcompared to the Badger 500. It features a 3/4 horsepower Dura-Drive induction motor, providing more power for \u001b[0m\n",
              "\u001b[32mtougher food waste. The unit includes SoundSeal technology, which significantly reduces noise during operation. The\u001b[0m\n",
              "\u001b[32mMultiGrind technology allows for a finer grind, reducing the risk of clogs. The Evolution Compact is made with \u001b[0m\n",
              "\u001b[32mstainless steel components, offering superior durability and corrosion resistance. It also has a compact design, \u001b[0m\n",
              "\u001b[32mmaking it suitable for smaller spaces. The Quick Lock sink mount is included for easy installation.'\u001b[0m,\n",
              "        \u001b[33mproduct2\u001b[0m=\u001b[32m'Waste King L-8000: $150 - The Waste King L-8000 is another high-end garbage disposal unit. It \u001b[0m\n",
              "\u001b[32mfeatures a 1 horsepower permanent magnet motor, which provides a powerful and efficient grind. The continuous feed \u001b[0m\n",
              "\u001b[32mmechanism allows for uninterrupted disposal of food waste. The unit includes sound insulation, reducing noise \u001b[0m\n",
              "\u001b[32mduring operation. The L-8000 is constructed with stainless steel components, ensuring durability and corrosion \u001b[0m\n",
              "\u001b[32mresistance. It also includes a removable splash guard for easy cleaning and maintenance. The Waste King L-8000 \u001b[0m\n",
              "\u001b[32mcomes with a pre-installed power cord, making installation straightforward.'\u001b[0m,\n",
              "        \u001b[33mproduct3\u001b[0m=\u001b[32m'Moen GX100C Host Series: $180 - The Moen GX100C Host Series is a premium garbage disposal unit \u001b[0m\n",
              "\u001b[32mdesigned for heavy use. It features a 1 horsepower Vortex motor, providing powerful grinding capabilities. The \u001b[0m\n",
              "\u001b[32mcontinuous feed mechanism allows for the disposal of large amounts of food waste without interruption. The unit \u001b[0m\n",
              "\u001b[32mincludes SoundSHIELD technology, which reduces noise during operation. The GX100C is made with stainless steel \u001b[0m\n",
              "\u001b[32mcomponents, offering durability and corrosion resistance. It also includes a pre-installed power cord and a \u001b[0m\n",
              "\u001b[32mUniversal Xpress Mount for easy installation. The Moen GX100C is designed for households that frequently cook and \u001b[0m\n",
              "\u001b[32mentertain.'\u001b[0m,\n",
              "        \u001b[33mproduct4\u001b[0m=\u001b[32m'GE GFC1020N: $170 - The GE GFC1020N is a high-end garbage disposal unit with a 1 horsepower \u001b[0m\n",
              "\u001b[32mmotor. It features a continuous feed mechanism, allowing for the disposal of food waste without interruption. The \u001b[0m\n",
              "\u001b[32munit includes sound insulation, reducing noise during operation. The GFC1020N is constructed with stainless steel \u001b[0m\n",
              "\u001b[32mcomponents, ensuring durability and corrosion resistance. It also includes a removable splash guard for easy \u001b[0m\n",
              "\u001b[32mcleaning and maintenance. The GE GFC1020N comes with a direct wire connection, making installation straightforward.\u001b[0m\n",
              "\u001b[32mThis model is designed for households that require a powerful and reliable garbage disposal unit.'\u001b[0m\n",
              "    \u001b[1m)\u001b[0m,\n",
              "    \u001b[32m'high_end_model_comparison'\u001b[0m: \u001b[1;35mhigh_end_product_comparison\u001b[0m\u001b[1m(\u001b[0m\n",
              "        \u001b[33moriginal_product\u001b[0m=\u001b[32m'InSinkErator Badger 500: $99 - The InSinkErator Badger 500 is a reliable and affordable \u001b[0m\n",
              "\u001b[32mkitchen garbage disposal unit. It features a 1/2 horsepower Dura-Drive induction motor, which provides a powerful \u001b[0m\n",
              "\u001b[32mand consistent grind. The continuous feed mechanism allows for the disposal of food waste without interruption. The\u001b[0m\n",
              "\u001b[32munit is part of the Standard Series, which is known for its durability and ease of installation. The Badger 500 is \u001b[0m\n",
              "\u001b[32mconstructed with galvanized steel components, ensuring long-lasting performance. It also includes a Quick Lock sink\u001b[0m\n",
              "\u001b[32mmount for easy replacement and installation. However, it lacks advanced noise reduction technology and \u001b[0m\n",
              "\u001b[32mcorrosion-resistant materials found in higher-end models.'\u001b[0m,\n",
              "        \u001b[33mproduct1\u001b[0m=\u001b[32m'InSinkErator Evolution Compact: $200 - \\n- More powerful 3/4 horsepower motor compared to the 1/2\u001b[0m\n",
              "\u001b[32mhorsepower motor in the Badger 500.\\n- Includes SoundSeal technology for significantly reduced noise during \u001b[0m\n",
              "\u001b[32moperation, unlike the Badger 500.\\n- Features MultiGrind technology for a finer grind, reducing the risk of clogs, \u001b[0m\n",
              "\u001b[32mwhich the Badger 500 lacks.\\n- Constructed with stainless steel components for superior durability and corrosion \u001b[0m\n",
              "\u001b[32mresistance compared to the galvanized steel in the Badger 500.\\n- Compact design suitable for smaller spaces, \u001b[0m\n",
              "\u001b[32moffering more flexibility in installation.'\u001b[0m,\n",
              "        \u001b[33mproduct2\u001b[0m=\u001b[32m'Waste King L-8000: $150 - \\n- More powerful 1 horsepower permanent magnet motor compared to the \u001b[0m\n",
              "\u001b[32m1/2 horsepower motor in the Badger 500.\\n- Includes sound insulation to reduce noise during operation, which the \u001b[0m\n",
              "\u001b[32mBadger 500 lacks.\\n- Constructed with stainless steel components for better durability and corrosion resistance \u001b[0m\n",
              "\u001b[32mcompared to the galvanized steel in the Badger 500.\\n- Comes with a removable splash guard for easier cleaning and \u001b[0m\n",
              "\u001b[32mmaintenance, a feature not mentioned for the Badger 500.\\n- Pre-installed power cord for straightforward \u001b[0m\n",
              "\u001b[32minstallation, unlike the Badger 500 which does not mention this feature.'\u001b[0m,\n",
              "        \u001b[33mproduct3\u001b[0m=\u001b[32m'Moen GX100C Host Series: $180 - \\n- More powerful 1 horsepower Vortex motor compared to the 1/2 \u001b[0m\n",
              "\u001b[32mhorsepower motor in the Badger 500.\\n- Includes SoundSHIELD technology to reduce noise during operation, unlike the\u001b[0m\n",
              "\u001b[32mBadger 500.\\n- Constructed with stainless steel components for superior durability and corrosion resistance \u001b[0m\n",
              "\u001b[32mcompared to the galvanized steel in the Badger 500.\\n- Pre-installed power cord and Universal Xpress Mount for \u001b[0m\n",
              "\u001b[32measier installation, features not mentioned for the Badger 500.\\n- Designed for heavy use, making it more suitable \u001b[0m\n",
              "\u001b[32mfor households that frequently cook and entertain.'\u001b[0m,\n",
              "        \u001b[33mproduct4\u001b[0m=\u001b[32m'GE GFC1020N: $170 - \\n- More powerful 1 horsepower motor compared to the 1/2 horsepower motor in \u001b[0m\n",
              "\u001b[32mthe Badger 500.\\n- Includes sound insulation to reduce noise during operation, which the Badger 500 lacks.\\n- \u001b[0m\n",
              "\u001b[32mConstructed with stainless steel components for better durability and corrosion resistance compared to the \u001b[0m\n",
              "\u001b[32mgalvanized steel in the Badger 500.\\n- Comes with a removable splash guard for easier cleaning and maintenance, a \u001b[0m\n",
              "\u001b[32mfeature not mentioned for the Badger 500.\\n- Direct wire connection for straightforward installation, unlike the \u001b[0m\n",
              "\u001b[32mBadger 500 which does not mention this feature.'\u001b[0m\n",
              "    \u001b[1m)\u001b[0m,\n",
              "    \u001b[32m'review_comments'\u001b[0m: \u001b[1;35mreflection_on_comparison\u001b[0m\u001b[1m(\u001b[0m\n",
              "        \u001b[33moriginal_product\u001b[0m=\u001b[32m'InSinkErator Badger 500: $99 - The InSinkErator Badger 500 is a reliable and affordable \u001b[0m\n",
              "\u001b[32mkitchen garbage disposal unit. It features a 1/2 horsepower Dura-Drive induction motor, which provides a powerful \u001b[0m\n",
              "\u001b[32mand consistent grind. The continuous feed mechanism allows for the disposal of food waste without interruption. The\u001b[0m\n",
              "\u001b[32munit is part of the Standard Series, which is known for its durability and ease of installation. The Badger 500 is \u001b[0m\n",
              "\u001b[32mconstructed with galvanized steel components, ensuring long-lasting performance. It also includes a Quick Lock sink\u001b[0m\n",
              "\u001b[32mmount for easy replacement and installation. However, it lacks advanced noise reduction technology and \u001b[0m\n",
              "\u001b[32mcorrosion-resistant materials found in higher-end models.'\u001b[0m,\n",
              "        \u001b[33mproduct1\u001b[0m=\u001b[32m'Satisfied'\u001b[0m,\n",
              "        \u001b[33mproduct2\u001b[0m=\u001b[32m'Satisfied'\u001b[0m,\n",
              "        \u001b[33mproduct3\u001b[0m=\u001b[32m'Satisfied'\u001b[0m,\n",
              "        \u001b[33mproduct4\u001b[0m=\u001b[32m'Satisfied'\u001b[0m\n",
              "    \u001b[1m)\u001b[0m,\n",
              "    \u001b[32m'draft_number'\u001b[0m: \u001b[1;36m1\u001b[0m,\n",
              "    \u001b[32m'max_reviews'\u001b[0m: \u001b[1;36m2\u001b[0m\n",
              "\u001b[1m}\u001b[0m\n"
            ],
            "text/html": [
              "<pre style=\"white-space:pre;overflow-x:auto;line-height:normal;font-family:Menlo,'DejaVu Sans Mono',consolas,'Courier New',monospace\"><span style=\"font-weight: bold\">{</span>\n",
              "    <span style=\"color: #008000; text-decoration-color: #008000\">'user_query'</span>: <span style=\"color: #008000; text-decoration-color: #008000\">'InSinkErator Badger 500, 1/2 HP Continuous Feed Kitchen Garbage Disposal, Standard Series'</span>,\n",
              "    <span style=\"color: #008000; text-decoration-color: #008000\">'attribute_results'</span>: <span style=\"font-weight: bold\">[</span>\n",
              "        <span style=\"color: #008000; text-decoration-color: #008000\">'InSinkErator Badger 500'</span>,\n",
              "        <span style=\"color: #008000; text-decoration-color: #008000\">'1/2 HP'</span>,\n",
              "        <span style=\"color: #008000; text-decoration-color: #008000\">'Continuous Feed'</span>,\n",
              "        <span style=\"color: #008000; text-decoration-color: #008000\">'Kitchen Garbage Disposal'</span>,\n",
              "        <span style=\"color: #008000; text-decoration-color: #008000\">'Standard Series'</span>\n",
              "    <span style=\"font-weight: bold\">]</span>,\n",
              "    <span style=\"color: #008000; text-decoration-color: #008000\">'high_end_model_summarization'</span>: <span style=\"color: #800080; text-decoration-color: #800080; font-weight: bold\">high_end_product</span><span style=\"font-weight: bold\">(</span>\n",
              "        <span style=\"color: #808000; text-decoration-color: #808000\">original_product</span>=<span style=\"color: #008000; text-decoration-color: #008000\">'InSinkErator Badger 500: $99 - The InSinkErator Badger 500 is a reliable and affordable </span>\n",
              "<span style=\"color: #008000; text-decoration-color: #008000\">kitchen garbage disposal unit. It features a 1/2 horsepower Dura-Drive induction motor, which provides a powerful </span>\n",
              "<span style=\"color: #008000; text-decoration-color: #008000\">and consistent grind. The continuous feed mechanism allows for the disposal of food waste without interruption. The</span>\n",
              "<span style=\"color: #008000; text-decoration-color: #008000\">unit is part of the Standard Series, which is known for its durability and ease of installation. The Badger 500 is </span>\n",
              "<span style=\"color: #008000; text-decoration-color: #008000\">constructed with galvanized steel components, ensuring long-lasting performance. It also includes a Quick Lock sink</span>\n",
              "<span style=\"color: #008000; text-decoration-color: #008000\">mount for easy replacement and installation. However, it lacks advanced noise reduction technology and </span>\n",
              "<span style=\"color: #008000; text-decoration-color: #008000\">corrosion-resistant materials found in higher-end models.'</span>,\n",
              "        <span style=\"color: #808000; text-decoration-color: #808000\">product1</span>=<span style=\"color: #008000; text-decoration-color: #008000\">'InSinkErator Evolution Compact: $200 - The InSinkErator Evolution Compact is a higher-end model </span>\n",
              "<span style=\"color: #008000; text-decoration-color: #008000\">compared to the Badger 500. It features a 3/4 horsepower Dura-Drive induction motor, providing more power for </span>\n",
              "<span style=\"color: #008000; text-decoration-color: #008000\">tougher food waste. The unit includes SoundSeal technology, which significantly reduces noise during operation. The</span>\n",
              "<span style=\"color: #008000; text-decoration-color: #008000\">MultiGrind technology allows for a finer grind, reducing the risk of clogs. The Evolution Compact is made with </span>\n",
              "<span style=\"color: #008000; text-decoration-color: #008000\">stainless steel components, offering superior durability and corrosion resistance. It also has a compact design, </span>\n",
              "<span style=\"color: #008000; text-decoration-color: #008000\">making it suitable for smaller spaces. The Quick Lock sink mount is included for easy installation.'</span>,\n",
              "        <span style=\"color: #808000; text-decoration-color: #808000\">product2</span>=<span style=\"color: #008000; text-decoration-color: #008000\">'Waste King L-8000: $150 - The Waste King L-8000 is another high-end garbage disposal unit. It </span>\n",
              "<span style=\"color: #008000; text-decoration-color: #008000\">features a 1 horsepower permanent magnet motor, which provides a powerful and efficient grind. The continuous feed </span>\n",
              "<span style=\"color: #008000; text-decoration-color: #008000\">mechanism allows for uninterrupted disposal of food waste. The unit includes sound insulation, reducing noise </span>\n",
              "<span style=\"color: #008000; text-decoration-color: #008000\">during operation. The L-8000 is constructed with stainless steel components, ensuring durability and corrosion </span>\n",
              "<span style=\"color: #008000; text-decoration-color: #008000\">resistance. It also includes a removable splash guard for easy cleaning and maintenance. The Waste King L-8000 </span>\n",
              "<span style=\"color: #008000; text-decoration-color: #008000\">comes with a pre-installed power cord, making installation straightforward.'</span>,\n",
              "        <span style=\"color: #808000; text-decoration-color: #808000\">product3</span>=<span style=\"color: #008000; text-decoration-color: #008000\">'Moen GX100C Host Series: $180 - The Moen GX100C Host Series is a premium garbage disposal unit </span>\n",
              "<span style=\"color: #008000; text-decoration-color: #008000\">designed for heavy use. It features a 1 horsepower Vortex motor, providing powerful grinding capabilities. The </span>\n",
              "<span style=\"color: #008000; text-decoration-color: #008000\">continuous feed mechanism allows for the disposal of large amounts of food waste without interruption. The unit </span>\n",
              "<span style=\"color: #008000; text-decoration-color: #008000\">includes SoundSHIELD technology, which reduces noise during operation. The GX100C is made with stainless steel </span>\n",
              "<span style=\"color: #008000; text-decoration-color: #008000\">components, offering durability and corrosion resistance. It also includes a pre-installed power cord and a </span>\n",
              "<span style=\"color: #008000; text-decoration-color: #008000\">Universal Xpress Mount for easy installation. The Moen GX100C is designed for households that frequently cook and </span>\n",
              "<span style=\"color: #008000; text-decoration-color: #008000\">entertain.'</span>,\n",
              "        <span style=\"color: #808000; text-decoration-color: #808000\">product4</span>=<span style=\"color: #008000; text-decoration-color: #008000\">'GE GFC1020N: $170 - The GE GFC1020N is a high-end garbage disposal unit with a 1 horsepower </span>\n",
              "<span style=\"color: #008000; text-decoration-color: #008000\">motor. It features a continuous feed mechanism, allowing for the disposal of food waste without interruption. The </span>\n",
              "<span style=\"color: #008000; text-decoration-color: #008000\">unit includes sound insulation, reducing noise during operation. The GFC1020N is constructed with stainless steel </span>\n",
              "<span style=\"color: #008000; text-decoration-color: #008000\">components, ensuring durability and corrosion resistance. It also includes a removable splash guard for easy </span>\n",
              "<span style=\"color: #008000; text-decoration-color: #008000\">cleaning and maintenance. The GE GFC1020N comes with a direct wire connection, making installation straightforward.</span>\n",
              "<span style=\"color: #008000; text-decoration-color: #008000\">This model is designed for households that require a powerful and reliable garbage disposal unit.'</span>\n",
              "    <span style=\"font-weight: bold\">)</span>,\n",
              "    <span style=\"color: #008000; text-decoration-color: #008000\">'high_end_model_comparison'</span>: <span style=\"color: #800080; text-decoration-color: #800080; font-weight: bold\">high_end_product_comparison</span><span style=\"font-weight: bold\">(</span>\n",
              "        <span style=\"color: #808000; text-decoration-color: #808000\">original_product</span>=<span style=\"color: #008000; text-decoration-color: #008000\">'InSinkErator Badger 500: $99 - The InSinkErator Badger 500 is a reliable and affordable </span>\n",
              "<span style=\"color: #008000; text-decoration-color: #008000\">kitchen garbage disposal unit. It features a 1/2 horsepower Dura-Drive induction motor, which provides a powerful </span>\n",
              "<span style=\"color: #008000; text-decoration-color: #008000\">and consistent grind. The continuous feed mechanism allows for the disposal of food waste without interruption. The</span>\n",
              "<span style=\"color: #008000; text-decoration-color: #008000\">unit is part of the Standard Series, which is known for its durability and ease of installation. The Badger 500 is </span>\n",
              "<span style=\"color: #008000; text-decoration-color: #008000\">constructed with galvanized steel components, ensuring long-lasting performance. It also includes a Quick Lock sink</span>\n",
              "<span style=\"color: #008000; text-decoration-color: #008000\">mount for easy replacement and installation. However, it lacks advanced noise reduction technology and </span>\n",
              "<span style=\"color: #008000; text-decoration-color: #008000\">corrosion-resistant materials found in higher-end models.'</span>,\n",
              "        <span style=\"color: #808000; text-decoration-color: #808000\">product1</span>=<span style=\"color: #008000; text-decoration-color: #008000\">'InSinkErator Evolution Compact: $200 - \\n- More powerful 3/4 horsepower motor compared to the 1/2</span>\n",
              "<span style=\"color: #008000; text-decoration-color: #008000\">horsepower motor in the Badger 500.\\n- Includes SoundSeal technology for significantly reduced noise during </span>\n",
              "<span style=\"color: #008000; text-decoration-color: #008000\">operation, unlike the Badger 500.\\n- Features MultiGrind technology for a finer grind, reducing the risk of clogs, </span>\n",
              "<span style=\"color: #008000; text-decoration-color: #008000\">which the Badger 500 lacks.\\n- Constructed with stainless steel components for superior durability and corrosion </span>\n",
              "<span style=\"color: #008000; text-decoration-color: #008000\">resistance compared to the galvanized steel in the Badger 500.\\n- Compact design suitable for smaller spaces, </span>\n",
              "<span style=\"color: #008000; text-decoration-color: #008000\">offering more flexibility in installation.'</span>,\n",
              "        <span style=\"color: #808000; text-decoration-color: #808000\">product2</span>=<span style=\"color: #008000; text-decoration-color: #008000\">'Waste King L-8000: $150 - \\n- More powerful 1 horsepower permanent magnet motor compared to the </span>\n",
              "<span style=\"color: #008000; text-decoration-color: #008000\">1/2 horsepower motor in the Badger 500.\\n- Includes sound insulation to reduce noise during operation, which the </span>\n",
              "<span style=\"color: #008000; text-decoration-color: #008000\">Badger 500 lacks.\\n- Constructed with stainless steel components for better durability and corrosion resistance </span>\n",
              "<span style=\"color: #008000; text-decoration-color: #008000\">compared to the galvanized steel in the Badger 500.\\n- Comes with a removable splash guard for easier cleaning and </span>\n",
              "<span style=\"color: #008000; text-decoration-color: #008000\">maintenance, a feature not mentioned for the Badger 500.\\n- Pre-installed power cord for straightforward </span>\n",
              "<span style=\"color: #008000; text-decoration-color: #008000\">installation, unlike the Badger 500 which does not mention this feature.'</span>,\n",
              "        <span style=\"color: #808000; text-decoration-color: #808000\">product3</span>=<span style=\"color: #008000; text-decoration-color: #008000\">'Moen GX100C Host Series: $180 - \\n- More powerful 1 horsepower Vortex motor compared to the 1/2 </span>\n",
              "<span style=\"color: #008000; text-decoration-color: #008000\">horsepower motor in the Badger 500.\\n- Includes SoundSHIELD technology to reduce noise during operation, unlike the</span>\n",
              "<span style=\"color: #008000; text-decoration-color: #008000\">Badger 500.\\n- Constructed with stainless steel components for superior durability and corrosion resistance </span>\n",
              "<span style=\"color: #008000; text-decoration-color: #008000\">compared to the galvanized steel in the Badger 500.\\n- Pre-installed power cord and Universal Xpress Mount for </span>\n",
              "<span style=\"color: #008000; text-decoration-color: #008000\">easier installation, features not mentioned for the Badger 500.\\n- Designed for heavy use, making it more suitable </span>\n",
              "<span style=\"color: #008000; text-decoration-color: #008000\">for households that frequently cook and entertain.'</span>,\n",
              "        <span style=\"color: #808000; text-decoration-color: #808000\">product4</span>=<span style=\"color: #008000; text-decoration-color: #008000\">'GE GFC1020N: $170 - \\n- More powerful 1 horsepower motor compared to the 1/2 horsepower motor in </span>\n",
              "<span style=\"color: #008000; text-decoration-color: #008000\">the Badger 500.\\n- Includes sound insulation to reduce noise during operation, which the Badger 500 lacks.\\n- </span>\n",
              "<span style=\"color: #008000; text-decoration-color: #008000\">Constructed with stainless steel components for better durability and corrosion resistance compared to the </span>\n",
              "<span style=\"color: #008000; text-decoration-color: #008000\">galvanized steel in the Badger 500.\\n- Comes with a removable splash guard for easier cleaning and maintenance, a </span>\n",
              "<span style=\"color: #008000; text-decoration-color: #008000\">feature not mentioned for the Badger 500.\\n- Direct wire connection for straightforward installation, unlike the </span>\n",
              "<span style=\"color: #008000; text-decoration-color: #008000\">Badger 500 which does not mention this feature.'</span>\n",
              "    <span style=\"font-weight: bold\">)</span>,\n",
              "    <span style=\"color: #008000; text-decoration-color: #008000\">'review_comments'</span>: <span style=\"color: #800080; text-decoration-color: #800080; font-weight: bold\">reflection_on_comparison</span><span style=\"font-weight: bold\">(</span>\n",
              "        <span style=\"color: #808000; text-decoration-color: #808000\">original_product</span>=<span style=\"color: #008000; text-decoration-color: #008000\">'InSinkErator Badger 500: $99 - The InSinkErator Badger 500 is a reliable and affordable </span>\n",
              "<span style=\"color: #008000; text-decoration-color: #008000\">kitchen garbage disposal unit. It features a 1/2 horsepower Dura-Drive induction motor, which provides a powerful </span>\n",
              "<span style=\"color: #008000; text-decoration-color: #008000\">and consistent grind. The continuous feed mechanism allows for the disposal of food waste without interruption. The</span>\n",
              "<span style=\"color: #008000; text-decoration-color: #008000\">unit is part of the Standard Series, which is known for its durability and ease of installation. The Badger 500 is </span>\n",
              "<span style=\"color: #008000; text-decoration-color: #008000\">constructed with galvanized steel components, ensuring long-lasting performance. It also includes a Quick Lock sink</span>\n",
              "<span style=\"color: #008000; text-decoration-color: #008000\">mount for easy replacement and installation. However, it lacks advanced noise reduction technology and </span>\n",
              "<span style=\"color: #008000; text-decoration-color: #008000\">corrosion-resistant materials found in higher-end models.'</span>,\n",
              "        <span style=\"color: #808000; text-decoration-color: #808000\">product1</span>=<span style=\"color: #008000; text-decoration-color: #008000\">'Satisfied'</span>,\n",
              "        <span style=\"color: #808000; text-decoration-color: #808000\">product2</span>=<span style=\"color: #008000; text-decoration-color: #008000\">'Satisfied'</span>,\n",
              "        <span style=\"color: #808000; text-decoration-color: #808000\">product3</span>=<span style=\"color: #008000; text-decoration-color: #008000\">'Satisfied'</span>,\n",
              "        <span style=\"color: #808000; text-decoration-color: #808000\">product4</span>=<span style=\"color: #008000; text-decoration-color: #008000\">'Satisfied'</span>\n",
              "    <span style=\"font-weight: bold\">)</span>,\n",
              "    <span style=\"color: #008000; text-decoration-color: #008000\">'draft_number'</span>: <span style=\"color: #008080; text-decoration-color: #008080; font-weight: bold\">1</span>,\n",
              "    <span style=\"color: #008000; text-decoration-color: #008000\">'max_reviews'</span>: <span style=\"color: #008080; text-decoration-color: #008080; font-weight: bold\">2</span>\n",
              "<span style=\"font-weight: bold\">}</span>\n",
              "</pre>\n"
            ]
          },
          "metadata": {}
        }
      ]
    },
    {
      "cell_type": "code",
      "source": [
        "from rich import print\n",
        "print(output['high_end_model_comparison'].product1)"
      ],
      "metadata": {
        "colab": {
          "base_uri": "https://localhost:8080/",
          "height": 130
        },
        "id": "LN7uwJ1LW7tL",
        "outputId": "090ad1c2-8745-4425-8518-806ceca55672"
      },
      "execution_count": null,
      "outputs": [
        {
          "output_type": "display_data",
          "data": {
            "text/plain": [
              "InSinkErator Evolution Compact: $\u001b[1;36m200\u001b[0m - \n",
              "- More powerful \u001b[1;36m3\u001b[0m/\u001b[1;36m4\u001b[0m horsepower motor compared to the \u001b[1;36m1\u001b[0m/\u001b[1;36m2\u001b[0m horsepower motor in the Badger \u001b[1;36m500\u001b[0m.\n",
              "- Includes SoundSeal technology for significantly reduced noise during operation, unlike the Badger \u001b[1;36m500\u001b[0m.\n",
              "- Features MultiGrind technology for a finer grind, reducing the risk of clogs, which the Badger \u001b[1;36m500\u001b[0m lacks.\n",
              "- Constructed with stainless steel components for superior durability and corrosion resistance compared to the \n",
              "galvanized steel in the Badger \u001b[1;36m500\u001b[0m.\n",
              "- Compact design suitable for smaller spaces, offering more flexibility in installation.\n"
            ],
            "text/html": [
              "<pre style=\"white-space:pre;overflow-x:auto;line-height:normal;font-family:Menlo,'DejaVu Sans Mono',consolas,'Courier New',monospace\">InSinkErator Evolution Compact: $<span style=\"color: #008080; text-decoration-color: #008080; font-weight: bold\">200</span> - \n",
              "- More powerful <span style=\"color: #008080; text-decoration-color: #008080; font-weight: bold\">3</span>/<span style=\"color: #008080; text-decoration-color: #008080; font-weight: bold\">4</span> horsepower motor compared to the <span style=\"color: #008080; text-decoration-color: #008080; font-weight: bold\">1</span>/<span style=\"color: #008080; text-decoration-color: #008080; font-weight: bold\">2</span> horsepower motor in the Badger <span style=\"color: #008080; text-decoration-color: #008080; font-weight: bold\">500</span>.\n",
              "- Includes SoundSeal technology for significantly reduced noise during operation, unlike the Badger <span style=\"color: #008080; text-decoration-color: #008080; font-weight: bold\">500</span>.\n",
              "- Features MultiGrind technology for a finer grind, reducing the risk of clogs, which the Badger <span style=\"color: #008080; text-decoration-color: #008080; font-weight: bold\">500</span> lacks.\n",
              "- Constructed with stainless steel components for superior durability and corrosion resistance compared to the \n",
              "galvanized steel in the Badger <span style=\"color: #008080; text-decoration-color: #008080; font-weight: bold\">500</span>.\n",
              "- Compact design suitable for smaller spaces, offering more flexibility in installation.\n",
              "</pre>\n"
            ]
          },
          "metadata": {}
        }
      ]
    },
    {
      "cell_type": "code",
      "source": [
        "from rich import print\n",
        "print(output['high_end_model_comparison'].product2)"
      ],
      "metadata": {
        "colab": {
          "base_uri": "https://localhost:8080/",
          "height": 162
        },
        "id": "F-ghRdYnkCbz",
        "outputId": "9992473b-e483-4988-eb02-7aae2f490128"
      },
      "execution_count": null,
      "outputs": [
        {
          "output_type": "display_data",
          "data": {
            "text/plain": [
              "Waste King L-\u001b[1;36m8000\u001b[0m: $\u001b[1;36m150\u001b[0m - \n",
              "- More powerful \u001b[1;36m1\u001b[0m horsepower permanent magnet motor compared to the \u001b[1;36m1\u001b[0m/\u001b[1;36m2\u001b[0m horsepower motor in the Badger \u001b[1;36m500\u001b[0m.\n",
              "- Includes sound insulation to reduce noise during operation, which the Badger \u001b[1;36m500\u001b[0m lacks.\n",
              "- Constructed with stainless steel components for better durability and corrosion resistance compared to the \n",
              "galvanized steel in the Badger \u001b[1;36m500\u001b[0m.\n",
              "- Comes with a removable splash guard for easier cleaning and maintenance, a feature not mentioned for the Badger \n",
              "\u001b[1;36m500\u001b[0m.\n",
              "- Pre-installed power cord for straightforward installation, unlike the Badger \u001b[1;36m500\u001b[0m which does not mention this \n",
              "feature.\n"
            ],
            "text/html": [
              "<pre style=\"white-space:pre;overflow-x:auto;line-height:normal;font-family:Menlo,'DejaVu Sans Mono',consolas,'Courier New',monospace\">Waste King L-<span style=\"color: #008080; text-decoration-color: #008080; font-weight: bold\">8000</span>: $<span style=\"color: #008080; text-decoration-color: #008080; font-weight: bold\">150</span> - \n",
              "- More powerful <span style=\"color: #008080; text-decoration-color: #008080; font-weight: bold\">1</span> horsepower permanent magnet motor compared to the <span style=\"color: #008080; text-decoration-color: #008080; font-weight: bold\">1</span>/<span style=\"color: #008080; text-decoration-color: #008080; font-weight: bold\">2</span> horsepower motor in the Badger <span style=\"color: #008080; text-decoration-color: #008080; font-weight: bold\">500</span>.\n",
              "- Includes sound insulation to reduce noise during operation, which the Badger <span style=\"color: #008080; text-decoration-color: #008080; font-weight: bold\">500</span> lacks.\n",
              "- Constructed with stainless steel components for better durability and corrosion resistance compared to the \n",
              "galvanized steel in the Badger <span style=\"color: #008080; text-decoration-color: #008080; font-weight: bold\">500</span>.\n",
              "- Comes with a removable splash guard for easier cleaning and maintenance, a feature not mentioned for the Badger \n",
              "<span style=\"color: #008080; text-decoration-color: #008080; font-weight: bold\">500</span>.\n",
              "- Pre-installed power cord for straightforward installation, unlike the Badger <span style=\"color: #008080; text-decoration-color: #008080; font-weight: bold\">500</span> which does not mention this \n",
              "feature.\n",
              "</pre>\n"
            ]
          },
          "metadata": {}
        }
      ]
    },
    {
      "cell_type": "code",
      "source": [
        "from rich import print\n",
        "print(output['high_end_model_comparison'].product3)"
      ],
      "metadata": {
        "colab": {
          "base_uri": "https://localhost:8080/",
          "height": 146
        },
        "id": "2N93uH-CW-cY",
        "outputId": "3374fd71-ad0f-4ab2-823c-b0bd2cce8bc4"
      },
      "execution_count": null,
      "outputs": [
        {
          "output_type": "display_data",
          "data": {
            "text/plain": [
              "Moen GX100C Host Series: $\u001b[1;36m180\u001b[0m - \n",
              "- More powerful \u001b[1;36m1\u001b[0m horsepower Vortex motor compared to the \u001b[1;36m1\u001b[0m/\u001b[1;36m2\u001b[0m horsepower motor in the Badger \u001b[1;36m500\u001b[0m.\n",
              "- Includes SoundSHIELD technology to reduce noise during operation, unlike the Badger \u001b[1;36m500\u001b[0m.\n",
              "- Constructed with stainless steel components for superior durability and corrosion resistance compared to the \n",
              "galvanized steel in the Badger \u001b[1;36m500\u001b[0m.\n",
              "- Pre-installed power cord and Universal Xpress Mount for easier installation, features not mentioned for the \n",
              "Badger \u001b[1;36m500\u001b[0m.\n",
              "- Designed for heavy use, making it more suitable for households that frequently cook and entertain.\n"
            ],
            "text/html": [
              "<pre style=\"white-space:pre;overflow-x:auto;line-height:normal;font-family:Menlo,'DejaVu Sans Mono',consolas,'Courier New',monospace\">Moen GX100C Host Series: $<span style=\"color: #008080; text-decoration-color: #008080; font-weight: bold\">180</span> - \n",
              "- More powerful <span style=\"color: #008080; text-decoration-color: #008080; font-weight: bold\">1</span> horsepower Vortex motor compared to the <span style=\"color: #008080; text-decoration-color: #008080; font-weight: bold\">1</span>/<span style=\"color: #008080; text-decoration-color: #008080; font-weight: bold\">2</span> horsepower motor in the Badger <span style=\"color: #008080; text-decoration-color: #008080; font-weight: bold\">500</span>.\n",
              "- Includes SoundSHIELD technology to reduce noise during operation, unlike the Badger <span style=\"color: #008080; text-decoration-color: #008080; font-weight: bold\">500</span>.\n",
              "- Constructed with stainless steel components for superior durability and corrosion resistance compared to the \n",
              "galvanized steel in the Badger <span style=\"color: #008080; text-decoration-color: #008080; font-weight: bold\">500</span>.\n",
              "- Pre-installed power cord and Universal Xpress Mount for easier installation, features not mentioned for the \n",
              "Badger <span style=\"color: #008080; text-decoration-color: #008080; font-weight: bold\">500</span>.\n",
              "- Designed for heavy use, making it more suitable for households that frequently cook and entertain.\n",
              "</pre>\n"
            ]
          },
          "metadata": {}
        }
      ]
    },
    {
      "cell_type": "code",
      "source": [
        "from rich import print\n",
        "print(output['high_end_model_comparison'].product4)"
      ],
      "metadata": {
        "colab": {
          "base_uri": "https://localhost:8080/",
          "height": 162
        },
        "id": "BJlL5y4SXAJY",
        "outputId": "9c8cec30-463b-4c3a-f014-024f0ba18f3e"
      },
      "execution_count": null,
      "outputs": [
        {
          "output_type": "display_data",
          "data": {
            "text/plain": [
              "GE GFC1020N: $\u001b[1;36m170\u001b[0m - \n",
              "- More powerful \u001b[1;36m1\u001b[0m horsepower motor compared to the \u001b[1;36m1\u001b[0m/\u001b[1;36m2\u001b[0m horsepower motor in the Badger \u001b[1;36m500\u001b[0m.\n",
              "- Includes sound insulation to reduce noise during operation, which the Badger \u001b[1;36m500\u001b[0m lacks.\n",
              "- Constructed with stainless steel components for better durability and corrosion resistance compared to the \n",
              "galvanized steel in the Badger \u001b[1;36m500\u001b[0m.\n",
              "- Comes with a removable splash guard for easier cleaning and maintenance, a feature not mentioned for the Badger \n",
              "\u001b[1;36m500\u001b[0m.\n",
              "- Direct wire connection for straightforward installation, unlike the Badger \u001b[1;36m500\u001b[0m which does not mention this \n",
              "feature.\n"
            ],
            "text/html": [
              "<pre style=\"white-space:pre;overflow-x:auto;line-height:normal;font-family:Menlo,'DejaVu Sans Mono',consolas,'Courier New',monospace\">GE GFC1020N: $<span style=\"color: #008080; text-decoration-color: #008080; font-weight: bold\">170</span> - \n",
              "- More powerful <span style=\"color: #008080; text-decoration-color: #008080; font-weight: bold\">1</span> horsepower motor compared to the <span style=\"color: #008080; text-decoration-color: #008080; font-weight: bold\">1</span>/<span style=\"color: #008080; text-decoration-color: #008080; font-weight: bold\">2</span> horsepower motor in the Badger <span style=\"color: #008080; text-decoration-color: #008080; font-weight: bold\">500</span>.\n",
              "- Includes sound insulation to reduce noise during operation, which the Badger <span style=\"color: #008080; text-decoration-color: #008080; font-weight: bold\">500</span> lacks.\n",
              "- Constructed with stainless steel components for better durability and corrosion resistance compared to the \n",
              "galvanized steel in the Badger <span style=\"color: #008080; text-decoration-color: #008080; font-weight: bold\">500</span>.\n",
              "- Comes with a removable splash guard for easier cleaning and maintenance, a feature not mentioned for the Badger \n",
              "<span style=\"color: #008080; text-decoration-color: #008080; font-weight: bold\">500</span>.\n",
              "- Direct wire connection for straightforward installation, unlike the Badger <span style=\"color: #008080; text-decoration-color: #008080; font-weight: bold\">500</span> which does not mention this \n",
              "feature.\n",
              "</pre>\n"
            ]
          },
          "metadata": {}
        }
      ]
    },
    {
      "cell_type": "code",
      "source": [
        "print(output['high_end_model_comparison'].original_product)"
      ],
      "metadata": {
        "colab": {
          "base_uri": "https://localhost:8080/",
          "height": 130
        },
        "id": "AWH_psRALdgF",
        "outputId": "e7459466-094e-423b-f289-771f13048a03"
      },
      "execution_count": null,
      "outputs": [
        {
          "output_type": "display_data",
          "data": {
            "text/plain": [
              "InSinkErator Badger \u001b[1;36m500\u001b[0m: $\u001b[1;36m99\u001b[0m - The InSinkErator Badger \u001b[1;36m500\u001b[0m is a reliable and affordable kitchen garbage disposal \n",
              "unit. It features a \u001b[1;36m1\u001b[0m/\u001b[1;36m2\u001b[0m horsepower Dura-Drive induction motor, which provides a powerful and consistent grind. The \n",
              "continuous feed mechanism allows for the disposal of food waste without interruption. The unit is part of the \n",
              "Standard Series, which is known for its durability and ease of installation. The Badger \u001b[1;36m500\u001b[0m is constructed with \n",
              "galvanized steel components, ensuring long-lasting performance. It also includes a Quick Lock sink mount for easy \n",
              "replacement and installation. However, it lacks advanced noise reduction technology and corrosion-resistant \n",
              "materials found in higher-end models.\n"
            ],
            "text/html": [
              "<pre style=\"white-space:pre;overflow-x:auto;line-height:normal;font-family:Menlo,'DejaVu Sans Mono',consolas,'Courier New',monospace\">InSinkErator Badger <span style=\"color: #008080; text-decoration-color: #008080; font-weight: bold\">500</span>: $<span style=\"color: #008080; text-decoration-color: #008080; font-weight: bold\">99</span> - The InSinkErator Badger <span style=\"color: #008080; text-decoration-color: #008080; font-weight: bold\">500</span> is a reliable and affordable kitchen garbage disposal \n",
              "unit. It features a <span style=\"color: #008080; text-decoration-color: #008080; font-weight: bold\">1</span>/<span style=\"color: #008080; text-decoration-color: #008080; font-weight: bold\">2</span> horsepower Dura-Drive induction motor, which provides a powerful and consistent grind. The \n",
              "continuous feed mechanism allows for the disposal of food waste without interruption. The unit is part of the \n",
              "Standard Series, which is known for its durability and ease of installation. The Badger <span style=\"color: #008080; text-decoration-color: #008080; font-weight: bold\">500</span> is constructed with \n",
              "galvanized steel components, ensuring long-lasting performance. It also includes a Quick Lock sink mount for easy \n",
              "replacement and installation. However, it lacks advanced noise reduction technology and corrosion-resistant \n",
              "materials found in higher-end models.\n",
              "</pre>\n"
            ]
          },
          "metadata": {}
        }
      ]
    }
  ]
}