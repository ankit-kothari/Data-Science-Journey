{
 "cells": [
  {
   "cell_type": "code",
   "execution_count": 1,
   "metadata": {},
   "outputs": [],
   "source": [
    "import os\n",
    "import pprint\n",
    "import tempfile\n",
    "\n",
    "from typing import Dict, Text\n",
    "\n",
    "import numpy as np\n",
    "import tensorflow as tf\n",
    "import tensorflow_datasets as tfds"
   ]
  },
  {
   "cell_type": "code",
   "execution_count": 2,
   "metadata": {},
   "outputs": [],
   "source": [
    "import numpy as np\n",
    "import pandas as pd\n",
    "import seaborn as sns\n",
    "from matplotlib import pyplot as plt\n",
    "from tqdm.notebook import tqdm\n",
    "from pathlib import Path\n",
    "from typing import Dict, Text\n",
    "import random\n",
    "from collections import Counter"
   ]
  },
  {
   "cell_type": "code",
   "execution_count": 3,
   "metadata": {},
   "outputs": [],
   "source": [
    "import tensorflow_recommenders as tfrs"
   ]
  },
  {
   "cell_type": "code",
   "execution_count": 4,
   "metadata": {},
   "outputs": [],
   "source": [
    "import dask as dask\n",
    "import dask.dataframe as dd\n",
    "import dask.multiprocessing\n",
    "import dask.distributed\n",
    "import dask.diagnostics\n",
    "import dask.bag as db\n",
    "import dask.array as da\n",
    "import dask.delayed as dd\n",
    "import dask.bag as db\n",
    "import dask.multiprocessing\n",
    "import dask.distributed\n",
    "#imports\n",
    "import dask\n",
    "import dask.dataframe as dd\n",
    "from dask.distributed import Client, progress\n",
    "#import dask.array as dask\n",
    "from dask.diagnostics import Profiler, ResourceProfiler, CacheProfiler\n",
    "import pandas as pd\n",
    "import numpy as np\n",
    "\n",
    "import dask_ml"
   ]
  },
  {
   "cell_type": "markdown",
   "metadata": {},
   "source": [
    "## Loading the Data\n",
    "- Downcasting to save Memory\n",
    "- Use only necessary columns "
   ]
  },
  {
   "cell_type": "code",
   "execution_count": 89,
   "metadata": {},
   "outputs": [],
   "source": [
    "article_df = pd.read_csv(\"/Volumes/GoogleDrive/My Drive/data/hmdata/articles.csv.zip\")\n",
    "customer_df = pd.read_csv(\"/Volumes/GoogleDrive/My Drive/data/hmdata/customers.csv.zip\")\n",
    "train0 = pd.read_csv('/Volumes/GoogleDrive/My Drive/data/hmdata/transactions_train.csv.zip',usecols= ['t_dat', 'customer_id', 'article_id', 'price'],\n",
    "dtype={'article_id':'int32','price':'float32','customer_id':'str'},\n",
    "parse_dates=['t_dat'])\n",
    "transaction_df = train0"
   ]
  },
  {
   "cell_type": "markdown",
   "metadata": {},
   "source": [
    "#### Checking Memory Usage"
   ]
  },
  {
   "cell_type": "code",
   "execution_count": 90,
   "metadata": {},
   "outputs": [],
   "source": [
    "def mem_usage(pandas_obj):\n",
    "    '''\n",
    "    Takes a pandas dataframe and shows it memory usage.\n",
    "    '''\n",
    "    if isinstance(pandas_obj,pd.DataFrame):\n",
    "        usage_b = pandas_obj.memory_usage(deep=True).sum()\n",
    "    else:\n",
    "        usage_b = pandas_obj.memory_usage(deep=True)\n",
    "    usage_mb = usage_b / 1024 ** 2\n",
    "    return \"{:03.2f} MB\".format(usage_mb)\n",
    "\n"
   ]
  },
  {
   "cell_type": "markdown",
   "metadata": {},
   "source": [
    "#### Downcasting\n",
    "- Reduced Memory Usage from 6426.93 MB to 4153.25 MB"
   ]
  },
  {
   "cell_type": "code",
   "execution_count": 91,
   "metadata": {},
   "outputs": [
    {
     "name": "stdout",
     "output_type": "stream",
     "text": [
      "Original Memory Usage: 6426.93 MB\n",
      "Memory Usage after Downcasting 4153.25 MB\n",
      "Memory Usage after Using only 1 year data 2072.09 MB\n"
     ]
    }
   ],
   "source": [
    "print(f'Original Memory Usage: {\"6426.93 MB\"}')\n",
    "print(f'Memory Usage after Downcasting {mem_usage(transaction_df)}')\n",
    "transaction_df=transaction_df[transaction_df['t_dat']>='2019-09-20']\n",
    "print(f'Memory Usage after Using only 1 year data {mem_usage(transaction_df)}')"
   ]
  },
  {
   "cell_type": "markdown",
   "metadata": {},
   "source": [
    "## Feature Engineering"
   ]
  },
  {
   "cell_type": "markdown",
   "metadata": {},
   "source": [
    "#### Calculating Article Freshness "
   ]
  },
  {
   "cell_type": "code",
   "execution_count": null,
   "metadata": {},
   "outputs": [],
   "source": [
    "transaction_df['year_month'] = pd.to_datetime(transaction_df['t_dat']).dt.to_period('M')"
   ]
  },
  {
   "cell_type": "code",
   "execution_count": 243,
   "metadata": {},
   "outputs": [
    {
     "data": {
      "text/html": [
       "<div>\n",
       "<style scoped>\n",
       "    .dataframe tbody tr th:only-of-type {\n",
       "        vertical-align: middle;\n",
       "    }\n",
       "\n",
       "    .dataframe tbody tr th {\n",
       "        vertical-align: top;\n",
       "    }\n",
       "\n",
       "    .dataframe thead th {\n",
       "        text-align: right;\n",
       "    }\n",
       "</style>\n",
       "<table border=\"1\" class=\"dataframe\">\n",
       "  <thead>\n",
       "    <tr style=\"text-align: right;\">\n",
       "      <th></th>\n",
       "      <th>t_dat</th>\n",
       "      <th>customer_id</th>\n",
       "      <th>article_id</th>\n",
       "      <th>price</th>\n",
       "      <th>year_month</th>\n",
       "    </tr>\n",
       "  </thead>\n",
       "  <tbody>\n",
       "    <tr>\n",
       "      <th>16803901</th>\n",
       "      <td>2019-09-20</td>\n",
       "      <td>0001d44dbe7f6c4b35200abdb052c77a87596fe1bdcc37...</td>\n",
       "      <td>745014003</td>\n",
       "      <td>0.020322</td>\n",
       "      <td>2019-09</td>\n",
       "    </tr>\n",
       "    <tr>\n",
       "      <th>16803902</th>\n",
       "      <td>2019-09-20</td>\n",
       "      <td>0001d44dbe7f6c4b35200abdb052c77a87596fe1bdcc37...</td>\n",
       "      <td>812484002</td>\n",
       "      <td>0.054220</td>\n",
       "      <td>2019-09</td>\n",
       "    </tr>\n",
       "  </tbody>\n",
       "</table>\n",
       "</div>"
      ],
      "text/plain": [
       "              t_dat                                        customer_id  \\\n",
       "16803901 2019-09-20  0001d44dbe7f6c4b35200abdb052c77a87596fe1bdcc37...   \n",
       "16803902 2019-09-20  0001d44dbe7f6c4b35200abdb052c77a87596fe1bdcc37...   \n",
       "\n",
       "          article_id     price year_month  \n",
       "16803901   745014003  0.020322    2019-09  \n",
       "16803902   812484002  0.054220    2019-09  "
      ]
     },
     "execution_count": 243,
     "metadata": {},
     "output_type": "execute_result"
    }
   ],
   "source": [
    "transaction_df.head(2)"
   ]
  },
  {
   "cell_type": "code",
   "execution_count": 244,
   "metadata": {},
   "outputs": [],
   "source": [
    "article_by_mth_yr = transaction_df.groupby(['article_id','year_month']).count()['customer_id'].to_frame('article_sold_yr_month').reset_index()"
   ]
  },
  {
   "cell_type": "code",
   "execution_count": 245,
   "metadata": {},
   "outputs": [
    {
     "data": {
      "text/plain": [
       "(376397, 3)"
      ]
     },
     "execution_count": 245,
     "metadata": {},
     "output_type": "execute_result"
    }
   ],
   "source": [
    "article_by_mth_yr.shape"
   ]
  },
  {
   "cell_type": "code",
   "execution_count": 246,
   "metadata": {},
   "outputs": [
    {
     "data": {
      "text/html": [
       "<div>\n",
       "<style scoped>\n",
       "    .dataframe tbody tr th:only-of-type {\n",
       "        vertical-align: middle;\n",
       "    }\n",
       "\n",
       "    .dataframe tbody tr th {\n",
       "        vertical-align: top;\n",
       "    }\n",
       "\n",
       "    .dataframe thead th {\n",
       "        text-align: right;\n",
       "    }\n",
       "</style>\n",
       "<table border=\"1\" class=\"dataframe\">\n",
       "  <thead>\n",
       "    <tr style=\"text-align: right;\">\n",
       "      <th></th>\n",
       "      <th>article_id</th>\n",
       "      <th>year_month</th>\n",
       "      <th>article_sold_yr_month</th>\n",
       "    </tr>\n",
       "  </thead>\n",
       "  <tbody>\n",
       "    <tr>\n",
       "      <th>0</th>\n",
       "      <td>108775015</td>\n",
       "      <td>2019-09</td>\n",
       "      <td>7</td>\n",
       "    </tr>\n",
       "    <tr>\n",
       "      <th>1</th>\n",
       "      <td>108775015</td>\n",
       "      <td>2019-10</td>\n",
       "      <td>13</td>\n",
       "    </tr>\n",
       "    <tr>\n",
       "      <th>2</th>\n",
       "      <td>108775015</td>\n",
       "      <td>2019-11</td>\n",
       "      <td>12</td>\n",
       "    </tr>\n",
       "    <tr>\n",
       "      <th>3</th>\n",
       "      <td>108775015</td>\n",
       "      <td>2019-12</td>\n",
       "      <td>21</td>\n",
       "    </tr>\n",
       "    <tr>\n",
       "      <th>4</th>\n",
       "      <td>108775015</td>\n",
       "      <td>2020-01</td>\n",
       "      <td>9</td>\n",
       "    </tr>\n",
       "  </tbody>\n",
       "</table>\n",
       "</div>"
      ],
      "text/plain": [
       "   article_id year_month  article_sold_yr_month\n",
       "0   108775015    2019-09                      7\n",
       "1   108775015    2019-10                     13\n",
       "2   108775015    2019-11                     12\n",
       "3   108775015    2019-12                     21\n",
       "4   108775015    2020-01                      9"
      ]
     },
     "execution_count": 246,
     "metadata": {},
     "output_type": "execute_result"
    }
   ],
   "source": [
    "article_by_mth_yr.head()"
   ]
  },
  {
   "cell_type": "code",
   "execution_count": 247,
   "metadata": {},
   "outputs": [],
   "source": [
    "article_by_mth_yr['prev_month'] = article_by_mth_yr.sort_values(\n",
    "    by=['article_id','year_month'], ascending=True).groupby(['article_id','year_month'])['article_sold_yr_month'].sum().shift(1).reset_index()['article_sold_yr_month'].fillna(0)\n",
    "    "
   ]
  },
  {
   "cell_type": "code",
   "execution_count": 248,
   "metadata": {},
   "outputs": [],
   "source": [
    "article_by_mth_yr['pct_change'] = (article_by_mth_yr['article_sold_yr_month'] - (article_by_mth_yr['prev_month'])*100/article_by_mth_yr['article_sold_yr_month']).round(2)"
   ]
  },
  {
   "cell_type": "code",
   "execution_count": 249,
   "metadata": {},
   "outputs": [],
   "source": [
    "def stale_dict(x):\n",
    "    if x<-25 and x>-50:\n",
    "        return 'stale'\n",
    "    elif x<-50:\n",
    "        return 'very stale'\n",
    "    elif x>-25 and x<-10:\n",
    "        return 'tending to stale'\n",
    "    else:\n",
    "        return 'trending'\n",
    "article_by_mth_yr['current_article_freshness']=article_by_mth_yr['pct_change'].apply(stale_dict)"
   ]
  },
  {
   "cell_type": "code",
   "execution_count": 251,
   "metadata": {},
   "outputs": [
    {
     "data": {
      "text/html": [
       "<div>\n",
       "<style scoped>\n",
       "    .dataframe tbody tr th:only-of-type {\n",
       "        vertical-align: middle;\n",
       "    }\n",
       "\n",
       "    .dataframe tbody tr th {\n",
       "        vertical-align: top;\n",
       "    }\n",
       "\n",
       "    .dataframe thead th {\n",
       "        text-align: right;\n",
       "    }\n",
       "</style>\n",
       "<table border=\"1\" class=\"dataframe\">\n",
       "  <thead>\n",
       "    <tr style=\"text-align: right;\">\n",
       "      <th></th>\n",
       "      <th>article_id</th>\n",
       "      <th>year_month</th>\n",
       "      <th>article_sold_yr_month</th>\n",
       "      <th>prev_month</th>\n",
       "      <th>pct_change</th>\n",
       "      <th>current_article_freshness</th>\n",
       "    </tr>\n",
       "  </thead>\n",
       "  <tbody>\n",
       "    <tr>\n",
       "      <th>0</th>\n",
       "      <td>108775015</td>\n",
       "      <td>2019-09</td>\n",
       "      <td>7</td>\n",
       "      <td>0.0</td>\n",
       "      <td>7.00</td>\n",
       "      <td>trending</td>\n",
       "    </tr>\n",
       "    <tr>\n",
       "      <th>1</th>\n",
       "      <td>108775015</td>\n",
       "      <td>2019-10</td>\n",
       "      <td>13</td>\n",
       "      <td>7.0</td>\n",
       "      <td>-40.85</td>\n",
       "      <td>stale</td>\n",
       "    </tr>\n",
       "    <tr>\n",
       "      <th>2</th>\n",
       "      <td>108775015</td>\n",
       "      <td>2019-11</td>\n",
       "      <td>12</td>\n",
       "      <td>13.0</td>\n",
       "      <td>-96.33</td>\n",
       "      <td>very stale</td>\n",
       "    </tr>\n",
       "    <tr>\n",
       "      <th>3</th>\n",
       "      <td>108775015</td>\n",
       "      <td>2019-12</td>\n",
       "      <td>21</td>\n",
       "      <td>12.0</td>\n",
       "      <td>-36.14</td>\n",
       "      <td>stale</td>\n",
       "    </tr>\n",
       "    <tr>\n",
       "      <th>4</th>\n",
       "      <td>108775015</td>\n",
       "      <td>2020-01</td>\n",
       "      <td>9</td>\n",
       "      <td>21.0</td>\n",
       "      <td>-224.33</td>\n",
       "      <td>very stale</td>\n",
       "    </tr>\n",
       "    <tr>\n",
       "      <th>5</th>\n",
       "      <td>108775015</td>\n",
       "      <td>2020-02</td>\n",
       "      <td>19</td>\n",
       "      <td>9.0</td>\n",
       "      <td>-28.37</td>\n",
       "      <td>stale</td>\n",
       "    </tr>\n",
       "    <tr>\n",
       "      <th>6</th>\n",
       "      <td>108775015</td>\n",
       "      <td>2020-03</td>\n",
       "      <td>1</td>\n",
       "      <td>19.0</td>\n",
       "      <td>-1899.00</td>\n",
       "      <td>very stale</td>\n",
       "    </tr>\n",
       "    <tr>\n",
       "      <th>7</th>\n",
       "      <td>108775015</td>\n",
       "      <td>2020-04</td>\n",
       "      <td>16</td>\n",
       "      <td>1.0</td>\n",
       "      <td>9.75</td>\n",
       "      <td>trending</td>\n",
       "    </tr>\n",
       "    <tr>\n",
       "      <th>8</th>\n",
       "      <td>108775015</td>\n",
       "      <td>2020-06</td>\n",
       "      <td>2</td>\n",
       "      <td>16.0</td>\n",
       "      <td>-798.00</td>\n",
       "      <td>very stale</td>\n",
       "    </tr>\n",
       "    <tr>\n",
       "      <th>9</th>\n",
       "      <td>108775015</td>\n",
       "      <td>2020-07</td>\n",
       "      <td>3</td>\n",
       "      <td>2.0</td>\n",
       "      <td>-63.67</td>\n",
       "      <td>very stale</td>\n",
       "    </tr>\n",
       "  </tbody>\n",
       "</table>\n",
       "</div>"
      ],
      "text/plain": [
       "   article_id year_month  article_sold_yr_month  prev_month  pct_change  \\\n",
       "0   108775015    2019-09                      7         0.0        7.00   \n",
       "1   108775015    2019-10                     13         7.0      -40.85   \n",
       "2   108775015    2019-11                     12        13.0      -96.33   \n",
       "3   108775015    2019-12                     21        12.0      -36.14   \n",
       "4   108775015    2020-01                      9        21.0     -224.33   \n",
       "5   108775015    2020-02                     19         9.0      -28.37   \n",
       "6   108775015    2020-03                      1        19.0    -1899.00   \n",
       "7   108775015    2020-04                     16         1.0        9.75   \n",
       "8   108775015    2020-06                      2        16.0     -798.00   \n",
       "9   108775015    2020-07                      3         2.0      -63.67   \n",
       "\n",
       "  current_article_freshness  \n",
       "0                  trending  \n",
       "1                     stale  \n",
       "2                very stale  \n",
       "3                     stale  \n",
       "4                very stale  \n",
       "5                     stale  \n",
       "6                very stale  \n",
       "7                  trending  \n",
       "8                very stale  \n",
       "9                very stale  "
      ]
     },
     "execution_count": 251,
     "metadata": {},
     "output_type": "execute_result"
    }
   ],
   "source": [
    "article_by_mth_yr.query(\"article_id==108775015\")"
   ]
  },
  {
   "cell_type": "code",
   "execution_count": 114,
   "metadata": {},
   "outputs": [
    {
     "data": {
      "text/html": [
       "<div>\n",
       "<style scoped>\n",
       "    .dataframe tbody tr th:only-of-type {\n",
       "        vertical-align: middle;\n",
       "    }\n",
       "\n",
       "    .dataframe tbody tr th {\n",
       "        vertical-align: top;\n",
       "    }\n",
       "\n",
       "    .dataframe thead th {\n",
       "        text-align: right;\n",
       "    }\n",
       "</style>\n",
       "<table border=\"1\" class=\"dataframe\">\n",
       "  <thead>\n",
       "    <tr style=\"text-align: right;\">\n",
       "      <th></th>\n",
       "      <th>article_id</th>\n",
       "      <th>product_code</th>\n",
       "      <th>prod_name</th>\n",
       "      <th>product_type_no</th>\n",
       "      <th>product_type_name</th>\n",
       "      <th>product_group_name</th>\n",
       "      <th>graphical_appearance_no</th>\n",
       "      <th>graphical_appearance_name</th>\n",
       "      <th>colour_group_code</th>\n",
       "      <th>colour_group_name</th>\n",
       "      <th>...</th>\n",
       "      <th>department_name</th>\n",
       "      <th>index_code</th>\n",
       "      <th>index_name</th>\n",
       "      <th>index_group_no</th>\n",
       "      <th>index_group_name</th>\n",
       "      <th>section_no</th>\n",
       "      <th>section_name</th>\n",
       "      <th>garment_group_no</th>\n",
       "      <th>garment_group_name</th>\n",
       "      <th>detail_desc</th>\n",
       "    </tr>\n",
       "  </thead>\n",
       "  <tbody>\n",
       "    <tr>\n",
       "      <th>83563</th>\n",
       "      <td>812484002</td>\n",
       "      <td>812484</td>\n",
       "      <td>Orion NW tapered denim</td>\n",
       "      <td>272</td>\n",
       "      <td>Trousers</td>\n",
       "      <td>Garment Lower body</td>\n",
       "      <td>1010023</td>\n",
       "      <td>Denim</td>\n",
       "      <td>72</td>\n",
       "      <td>Blue</td>\n",
       "      <td>...</td>\n",
       "      <td>Trousers &amp; Skirt</td>\n",
       "      <td>A</td>\n",
       "      <td>Ladieswear</td>\n",
       "      <td>1</td>\n",
       "      <td>Ladieswear</td>\n",
       "      <td>18</td>\n",
       "      <td>Womens Trend</td>\n",
       "      <td>1009</td>\n",
       "      <td>Trousers</td>\n",
       "      <td>5-pocket jeans in washed cotton denim with a h...</td>\n",
       "    </tr>\n",
       "  </tbody>\n",
       "</table>\n",
       "<p>1 rows × 25 columns</p>\n",
       "</div>"
      ],
      "text/plain": [
       "       article_id  product_code               prod_name  product_type_no  \\\n",
       "83563   812484002        812484  Orion NW tapered denim              272   \n",
       "\n",
       "      product_type_name  product_group_name  graphical_appearance_no  \\\n",
       "83563          Trousers  Garment Lower body                  1010023   \n",
       "\n",
       "      graphical_appearance_name  colour_group_code colour_group_name  ...  \\\n",
       "83563                     Denim                 72              Blue  ...   \n",
       "\n",
       "        department_name index_code  index_name index_group_no  \\\n",
       "83563  Trousers & Skirt          A  Ladieswear              1   \n",
       "\n",
       "       index_group_name section_no  section_name garment_group_no  \\\n",
       "83563        Ladieswear         18  Womens Trend             1009   \n",
       "\n",
       "       garment_group_name                                        detail_desc  \n",
       "83563            Trousers  5-pocket jeans in washed cotton denim with a h...  \n",
       "\n",
       "[1 rows x 25 columns]"
      ]
     },
     "execution_count": 114,
     "metadata": {},
     "output_type": "execute_result"
    }
   ],
   "source": [
    "article_df.query(\"article_id==812484002\")"
   ]
  },
  {
   "cell_type": "markdown",
   "metadata": {},
   "source": [
    "#### Calculating article_id sold by Age Group"
   ]
  },
  {
   "cell_type": "code",
   "execution_count": 254,
   "metadata": {},
   "outputs": [
    {
     "data": {
      "text/html": [
       "<div>\n",
       "<style scoped>\n",
       "    .dataframe tbody tr th:only-of-type {\n",
       "        vertical-align: middle;\n",
       "    }\n",
       "\n",
       "    .dataframe tbody tr th {\n",
       "        vertical-align: top;\n",
       "    }\n",
       "\n",
       "    .dataframe thead th {\n",
       "        text-align: right;\n",
       "    }\n",
       "</style>\n",
       "<table border=\"1\" class=\"dataframe\">\n",
       "  <thead>\n",
       "    <tr style=\"text-align: right;\">\n",
       "      <th></th>\n",
       "      <th>customer_id</th>\n",
       "      <th>FN</th>\n",
       "      <th>Active</th>\n",
       "      <th>club_member_status</th>\n",
       "      <th>fashion_news_frequency</th>\n",
       "      <th>age</th>\n",
       "      <th>postal_code</th>\n",
       "      <th>age_interval</th>\n",
       "    </tr>\n",
       "  </thead>\n",
       "  <tbody>\n",
       "    <tr>\n",
       "      <th>0</th>\n",
       "      <td>00000dbacae5abe5e23885899a1fa44253a17956c6d1c3...</td>\n",
       "      <td>0.0</td>\n",
       "      <td>0.0</td>\n",
       "      <td>ACTIVE</td>\n",
       "      <td>NONE</td>\n",
       "      <td>49.0</td>\n",
       "      <td>52043ee2162cf5aa7ee79974281641c6f11a68d276429a...</td>\n",
       "      <td>Senior Age</td>\n",
       "    </tr>\n",
       "    <tr>\n",
       "      <th>1</th>\n",
       "      <td>0000423b00ade91418cceaf3b26c6af3dd342b51fd051e...</td>\n",
       "      <td>0.0</td>\n",
       "      <td>0.0</td>\n",
       "      <td>ACTIVE</td>\n",
       "      <td>NONE</td>\n",
       "      <td>25.0</td>\n",
       "      <td>2973abc54daa8a5f8ccfe9362140c63247c5eee03f1d93...</td>\n",
       "      <td>Working Age</td>\n",
       "    </tr>\n",
       "    <tr>\n",
       "      <th>2</th>\n",
       "      <td>000058a12d5b43e67d225668fa1f8d618c13dc232df0ca...</td>\n",
       "      <td>0.0</td>\n",
       "      <td>0.0</td>\n",
       "      <td>ACTIVE</td>\n",
       "      <td>NONE</td>\n",
       "      <td>24.0</td>\n",
       "      <td>64f17e6a330a85798e4998f62d0930d14db8db1c054af6...</td>\n",
       "      <td>Working Age</td>\n",
       "    </tr>\n",
       "    <tr>\n",
       "      <th>3</th>\n",
       "      <td>00005ca1c9ed5f5146b52ac8639a40ca9d57aeff4d1bd2...</td>\n",
       "      <td>0.0</td>\n",
       "      <td>0.0</td>\n",
       "      <td>ACTIVE</td>\n",
       "      <td>NONE</td>\n",
       "      <td>54.0</td>\n",
       "      <td>5d36574f52495e81f019b680c843c443bd343d5ca5b1c2...</td>\n",
       "      <td>Senior Age</td>\n",
       "    </tr>\n",
       "    <tr>\n",
       "      <th>4</th>\n",
       "      <td>00006413d8573cd20ed7128e53b7b13819fe5cfc2d801f...</td>\n",
       "      <td>1.0</td>\n",
       "      <td>1.0</td>\n",
       "      <td>ACTIVE</td>\n",
       "      <td>Regularly</td>\n",
       "      <td>52.0</td>\n",
       "      <td>25fa5ddee9aac01b35208d01736e57942317d756b32ddd...</td>\n",
       "      <td>Senior Age</td>\n",
       "    </tr>\n",
       "  </tbody>\n",
       "</table>\n",
       "</div>"
      ],
      "text/plain": [
       "                                         customer_id   FN  Active  \\\n",
       "0  00000dbacae5abe5e23885899a1fa44253a17956c6d1c3...  0.0     0.0   \n",
       "1  0000423b00ade91418cceaf3b26c6af3dd342b51fd051e...  0.0     0.0   \n",
       "2  000058a12d5b43e67d225668fa1f8d618c13dc232df0ca...  0.0     0.0   \n",
       "3  00005ca1c9ed5f5146b52ac8639a40ca9d57aeff4d1bd2...  0.0     0.0   \n",
       "4  00006413d8573cd20ed7128e53b7b13819fe5cfc2d801f...  1.0     1.0   \n",
       "\n",
       "  club_member_status fashion_news_frequency   age  \\\n",
       "0             ACTIVE                   NONE  49.0   \n",
       "1             ACTIVE                   NONE  25.0   \n",
       "2             ACTIVE                   NONE  24.0   \n",
       "3             ACTIVE                   NONE  54.0   \n",
       "4             ACTIVE              Regularly  52.0   \n",
       "\n",
       "                                         postal_code age_interval  \n",
       "0  52043ee2162cf5aa7ee79974281641c6f11a68d276429a...   Senior Age  \n",
       "1  2973abc54daa8a5f8ccfe9362140c63247c5eee03f1d93...  Working Age  \n",
       "2  64f17e6a330a85798e4998f62d0930d14db8db1c054af6...  Working Age  \n",
       "3  5d36574f52495e81f019b680c843c443bd343d5ca5b1c2...   Senior Age  \n",
       "4  25fa5ddee9aac01b35208d01736e57942317d756b32ddd...   Senior Age  "
      ]
     },
     "execution_count": 254,
     "metadata": {},
     "output_type": "execute_result"
    }
   ],
   "source": [
    "def create_age_interval(x):\n",
    "    if x <= 20:\n",
    "        return \"Teenaage\"\n",
    "    elif x <= 35:\n",
    "        return \"Working Age\"\n",
    "    elif x <= 45:\n",
    "        return \"Middle Age\"\n",
    "    elif x <= 55:\n",
    "        return  \"Senior Age\"\n",
    "    elif x <= 65:\n",
    "        return  \"Old Age\"\n",
    "    else:\n",
    "        return  \"Very Old Age\"\n",
    "\n",
    "customer_df[\"FN\"].fillna(0, inplace=True)\n",
    "customer_df[\"Active\"].fillna(0, inplace=True)\n",
    "\n",
    "# Set unknown the club member status & news frequency\n",
    "customer_df[\"club_member_status\"].fillna(\"UNKNOWN\", inplace=True)\n",
    "\n",
    "customer_df[\"fashion_news_frequency\"] = customer_df[\"fashion_news_frequency\"].replace({\"None\":\"NONE\"})\n",
    "customer_df[\"fashion_news_frequency\"].fillna(\"UNKNOWN\", inplace=True)\n",
    "\n",
    "# Set missing values in age with the median\n",
    "customer_df[\"age\"].fillna(customer_df[\"age\"].median(), inplace=True)\n",
    "customer_df[\"age_interval\"] = customer_df[\"age\"].apply(lambda x: create_age_interval(x))\n",
    "\n",
    "customer_df.head()"
   ]
  },
  {
   "cell_type": "code",
   "execution_count": 303,
   "metadata": {},
   "outputs": [],
   "source": [
    "merged_age = transaction_df.merge(customer_df[['age_interval','customer_id']], on=\"customer_id\", how=\"left\")"
   ]
  },
  {
   "cell_type": "code",
   "execution_count": null,
   "metadata": {},
   "outputs": [],
   "source": [
    "merged_age.head(2)"
   ]
  },
  {
   "cell_type": "code",
   "execution_count": 297,
   "metadata": {},
   "outputs": [],
   "source": [
    "article_by_age_group = merged_age.groupby(['article_id','age_interval']).agg({\n",
    "    'customer_id': 'count'\n",
    "}).groupby(level=0).apply(lambda x: 100*x/x.sum()).reset_index()"
   ]
  },
  {
   "cell_type": "code",
   "execution_count": 301,
   "metadata": {},
   "outputs": [
    {
     "data": {
      "text/html": [
       "<div>\n",
       "<style scoped>\n",
       "    .dataframe tbody tr th:only-of-type {\n",
       "        vertical-align: middle;\n",
       "    }\n",
       "\n",
       "    .dataframe tbody tr th {\n",
       "        vertical-align: top;\n",
       "    }\n",
       "\n",
       "    .dataframe thead th {\n",
       "        text-align: right;\n",
       "    }\n",
       "</style>\n",
       "<table border=\"1\" class=\"dataframe\">\n",
       "  <thead>\n",
       "    <tr style=\"text-align: right;\">\n",
       "      <th></th>\n",
       "      <th>article_id</th>\n",
       "      <th>age_interval</th>\n",
       "      <th>customer_id</th>\n",
       "    </tr>\n",
       "  </thead>\n",
       "  <tbody>\n",
       "    <tr>\n",
       "      <th>190707</th>\n",
       "      <td>812484002</td>\n",
       "      <td>Middle Age</td>\n",
       "      <td>4.743083</td>\n",
       "    </tr>\n",
       "    <tr>\n",
       "      <th>190708</th>\n",
       "      <td>812484002</td>\n",
       "      <td>Old Age</td>\n",
       "      <td>5.138340</td>\n",
       "    </tr>\n",
       "    <tr>\n",
       "      <th>190709</th>\n",
       "      <td>812484002</td>\n",
       "      <td>Senior Age</td>\n",
       "      <td>11.989460</td>\n",
       "    </tr>\n",
       "    <tr>\n",
       "      <th>190710</th>\n",
       "      <td>812484002</td>\n",
       "      <td>Teenaage</td>\n",
       "      <td>5.928854</td>\n",
       "    </tr>\n",
       "    <tr>\n",
       "      <th>190711</th>\n",
       "      <td>812484002</td>\n",
       "      <td>Very Old Age</td>\n",
       "      <td>1.449275</td>\n",
       "    </tr>\n",
       "    <tr>\n",
       "      <th>190712</th>\n",
       "      <td>812484002</td>\n",
       "      <td>Working Age</td>\n",
       "      <td>70.750988</td>\n",
       "    </tr>\n",
       "  </tbody>\n",
       "</table>\n",
       "</div>"
      ],
      "text/plain": [
       "        article_id  age_interval  customer_id\n",
       "190707   812484002    Middle Age     4.743083\n",
       "190708   812484002       Old Age     5.138340\n",
       "190709   812484002    Senior Age    11.989460\n",
       "190710   812484002      Teenaage     5.928854\n",
       "190711   812484002  Very Old Age     1.449275\n",
       "190712   812484002   Working Age    70.750988"
      ]
     },
     "execution_count": 301,
     "metadata": {},
     "output_type": "execute_result"
    }
   ],
   "source": [
    "article_by_age_group.query(\"article_id==812484002\")"
   ]
  },
  {
   "cell_type": "code",
   "execution_count": null,
   "metadata": {},
   "outputs": [],
   "source": [
    "article_by_age_group= article_by_age_group.pivot_table(index='article_id', columns='age_interval', values='customer_id').reset_index().fillna(0)\n",
    "article_by_age_group['dominant_age_group'] = article_by_age_group[['Middle Age', 'Old Age', 'Senior Age', 'Teenaage',\n",
    "       'Very Old Age', 'Working Age']].idxmax(axis=1)"
   ]
  },
  {
   "cell_type": "markdown",
   "metadata": {},
   "source": [
    "#### Calculating Top-8 Category for Purchasae by Customer"
   ]
  },
  {
   "cell_type": "code",
   "execution_count": 305,
   "metadata": {},
   "outputs": [],
   "source": [
    "customer_pref = merged_age.merge(article_df[['article_id','product_group_name']], on=\"article_id\", how=\"left\")"
   ]
  },
  {
   "cell_type": "code",
   "execution_count": 322,
   "metadata": {},
   "outputs": [
    {
     "data": {
      "text/html": [
       "<div>\n",
       "<style scoped>\n",
       "    .dataframe tbody tr th:only-of-type {\n",
       "        vertical-align: middle;\n",
       "    }\n",
       "\n",
       "    .dataframe tbody tr th {\n",
       "        vertical-align: top;\n",
       "    }\n",
       "\n",
       "    .dataframe thead th {\n",
       "        text-align: right;\n",
       "    }\n",
       "</style>\n",
       "<table border=\"1\" class=\"dataframe\">\n",
       "  <thead>\n",
       "    <tr style=\"text-align: right;\">\n",
       "      <th></th>\n",
       "      <th>t_dat</th>\n",
       "      <th>customer_id</th>\n",
       "      <th>article_id</th>\n",
       "      <th>price</th>\n",
       "      <th>year_month</th>\n",
       "      <th>age_interval</th>\n",
       "      <th>product_group_name</th>\n",
       "    </tr>\n",
       "  </thead>\n",
       "  <tbody>\n",
       "    <tr>\n",
       "      <th>0</th>\n",
       "      <td>2019-09-20</td>\n",
       "      <td>0001d44dbe7f6c4b35200abdb052c77a87596fe1bdcc37...</td>\n",
       "      <td>745014003</td>\n",
       "      <td>0.020322</td>\n",
       "      <td>2019-09</td>\n",
       "      <td>Middle Age</td>\n",
       "      <td>Garment Lower body</td>\n",
       "    </tr>\n",
       "    <tr>\n",
       "      <th>1</th>\n",
       "      <td>2019-09-20</td>\n",
       "      <td>0001d44dbe7f6c4b35200abdb052c77a87596fe1bdcc37...</td>\n",
       "      <td>812484002</td>\n",
       "      <td>0.054220</td>\n",
       "      <td>2019-09</td>\n",
       "      <td>Middle Age</td>\n",
       "      <td>Garment Lower body</td>\n",
       "    </tr>\n",
       "  </tbody>\n",
       "</table>\n",
       "</div>"
      ],
      "text/plain": [
       "       t_dat                                        customer_id  article_id  \\\n",
       "0 2019-09-20  0001d44dbe7f6c4b35200abdb052c77a87596fe1bdcc37...   745014003   \n",
       "1 2019-09-20  0001d44dbe7f6c4b35200abdb052c77a87596fe1bdcc37...   812484002   \n",
       "\n",
       "      price year_month age_interval  product_group_name  \n",
       "0  0.020322    2019-09   Middle Age  Garment Lower body  \n",
       "1  0.054220    2019-09   Middle Age  Garment Lower body  "
      ]
     },
     "execution_count": 322,
     "metadata": {},
     "output_type": "execute_result"
    }
   ],
   "source": [
    "customer_pref.head(2)"
   ]
  },
  {
   "cell_type": "code",
   "execution_count": 324,
   "metadata": {},
   "outputs": [],
   "source": [
    "customer_pref_ranked = customer_pref.groupby(['customer_id','product_group_name']).agg({\n",
    "    'article_id': 'count'\n",
    "}).groupby(level=0).apply(lambda x: x/x.sum()).reset_index()"
   ]
  },
  {
   "cell_type": "code",
   "execution_count": 330,
   "metadata": {},
   "outputs": [],
   "source": [
    "customer_pref_ranked['rank']=customer_pref_ranked.groupby(['customer_id'])['article_id'].rank(method='dense', ascending=False)"
   ]
  },
  {
   "cell_type": "code",
   "execution_count": 332,
   "metadata": {},
   "outputs": [],
   "source": [
    "customer_pref_ranked.rename(columns={'article_id':'article_prefs'}, inplace=True)"
   ]
  },
  {
   "cell_type": "code",
   "execution_count": 333,
   "metadata": {},
   "outputs": [],
   "source": [
    "sample_customer_pref = customer_pref[customer_pref['customer_id'].isin(\n",
    "    customer_pref['customer_id'].sample(2))]\n",
    "\n",
    "sample_customer_pref_ranked = sample_customer_pref.groupby(['customer_id', 'product_group_name']).agg({\n",
    "    'article_id': 'count'\n",
    "}).groupby(level=0).apply(lambda x: x/x.sum()).reset_index()\n",
    "\n",
    "sample_customer_pref_ranked['rank'] = sample_customer_pref_ranked.groupby(\n",
    "    ['customer_id'])['article_id'].rank(method='dense', ascending=False)\n"
   ]
  },
  {
   "cell_type": "code",
   "execution_count": 334,
   "metadata": {},
   "outputs": [
    {
     "data": {
      "text/html": [
       "<div>\n",
       "<style scoped>\n",
       "    .dataframe tbody tr th:only-of-type {\n",
       "        vertical-align: middle;\n",
       "    }\n",
       "\n",
       "    .dataframe tbody tr th {\n",
       "        vertical-align: top;\n",
       "    }\n",
       "\n",
       "    .dataframe thead th {\n",
       "        text-align: right;\n",
       "    }\n",
       "</style>\n",
       "<table border=\"1\" class=\"dataframe\">\n",
       "  <thead>\n",
       "    <tr style=\"text-align: right;\">\n",
       "      <th></th>\n",
       "      <th>customer_id</th>\n",
       "      <th>product_group_name</th>\n",
       "      <th>article_id</th>\n",
       "      <th>rank</th>\n",
       "    </tr>\n",
       "  </thead>\n",
       "  <tbody>\n",
       "    <tr>\n",
       "      <th>0</th>\n",
       "      <td>14ecec84a4b4313fa68b6a43365269289143659a105505...</td>\n",
       "      <td>Garment Full body</td>\n",
       "      <td>0.230769</td>\n",
       "      <td>2.0</td>\n",
       "    </tr>\n",
       "    <tr>\n",
       "      <th>1</th>\n",
       "      <td>14ecec84a4b4313fa68b6a43365269289143659a105505...</td>\n",
       "      <td>Garment Upper body</td>\n",
       "      <td>0.769231</td>\n",
       "      <td>1.0</td>\n",
       "    </tr>\n",
       "    <tr>\n",
       "      <th>2</th>\n",
       "      <td>fc7ff0f78626b3a9f558574f4ada3ee6e9445027562840...</td>\n",
       "      <td>Accessories</td>\n",
       "      <td>0.080000</td>\n",
       "      <td>4.0</td>\n",
       "    </tr>\n",
       "    <tr>\n",
       "      <th>3</th>\n",
       "      <td>fc7ff0f78626b3a9f558574f4ada3ee6e9445027562840...</td>\n",
       "      <td>Garment Full body</td>\n",
       "      <td>0.050000</td>\n",
       "      <td>5.0</td>\n",
       "    </tr>\n",
       "    <tr>\n",
       "      <th>4</th>\n",
       "      <td>fc7ff0f78626b3a9f558574f4ada3ee6e9445027562840...</td>\n",
       "      <td>Garment Lower body</td>\n",
       "      <td>0.170000</td>\n",
       "      <td>2.0</td>\n",
       "    </tr>\n",
       "    <tr>\n",
       "      <th>5</th>\n",
       "      <td>fc7ff0f78626b3a9f558574f4ada3ee6e9445027562840...</td>\n",
       "      <td>Garment Upper body</td>\n",
       "      <td>0.510000</td>\n",
       "      <td>1.0</td>\n",
       "    </tr>\n",
       "    <tr>\n",
       "      <th>6</th>\n",
       "      <td>fc7ff0f78626b3a9f558574f4ada3ee6e9445027562840...</td>\n",
       "      <td>Nightwear</td>\n",
       "      <td>0.020000</td>\n",
       "      <td>6.0</td>\n",
       "    </tr>\n",
       "    <tr>\n",
       "      <th>7</th>\n",
       "      <td>fc7ff0f78626b3a9f558574f4ada3ee6e9445027562840...</td>\n",
       "      <td>Shoes</td>\n",
       "      <td>0.130000</td>\n",
       "      <td>3.0</td>\n",
       "    </tr>\n",
       "    <tr>\n",
       "      <th>8</th>\n",
       "      <td>fc7ff0f78626b3a9f558574f4ada3ee6e9445027562840...</td>\n",
       "      <td>Swimwear</td>\n",
       "      <td>0.020000</td>\n",
       "      <td>6.0</td>\n",
       "    </tr>\n",
       "    <tr>\n",
       "      <th>9</th>\n",
       "      <td>fc7ff0f78626b3a9f558574f4ada3ee6e9445027562840...</td>\n",
       "      <td>Underwear</td>\n",
       "      <td>0.020000</td>\n",
       "      <td>6.0</td>\n",
       "    </tr>\n",
       "  </tbody>\n",
       "</table>\n",
       "</div>"
      ],
      "text/plain": [
       "                                         customer_id  product_group_name  \\\n",
       "0  14ecec84a4b4313fa68b6a43365269289143659a105505...   Garment Full body   \n",
       "1  14ecec84a4b4313fa68b6a43365269289143659a105505...  Garment Upper body   \n",
       "2  fc7ff0f78626b3a9f558574f4ada3ee6e9445027562840...         Accessories   \n",
       "3  fc7ff0f78626b3a9f558574f4ada3ee6e9445027562840...   Garment Full body   \n",
       "4  fc7ff0f78626b3a9f558574f4ada3ee6e9445027562840...  Garment Lower body   \n",
       "5  fc7ff0f78626b3a9f558574f4ada3ee6e9445027562840...  Garment Upper body   \n",
       "6  fc7ff0f78626b3a9f558574f4ada3ee6e9445027562840...           Nightwear   \n",
       "7  fc7ff0f78626b3a9f558574f4ada3ee6e9445027562840...               Shoes   \n",
       "8  fc7ff0f78626b3a9f558574f4ada3ee6e9445027562840...            Swimwear   \n",
       "9  fc7ff0f78626b3a9f558574f4ada3ee6e9445027562840...           Underwear   \n",
       "\n",
       "   article_id  rank  \n",
       "0    0.230769   2.0  \n",
       "1    0.769231   1.0  \n",
       "2    0.080000   4.0  \n",
       "3    0.050000   5.0  \n",
       "4    0.170000   2.0  \n",
       "5    0.510000   1.0  \n",
       "6    0.020000   6.0  \n",
       "7    0.130000   3.0  \n",
       "8    0.020000   6.0  \n",
       "9    0.020000   6.0  "
      ]
     },
     "execution_count": 334,
     "metadata": {},
     "output_type": "execute_result"
    }
   ],
   "source": [
    "sample_customer_pref_ranked"
   ]
  },
  {
   "cell_type": "markdown",
   "metadata": {},
   "source": [
    "#### Calculating Price Sensitivity By Customer ID"
   ]
  },
  {
   "cell_type": "code",
   "execution_count": 359,
   "metadata": {},
   "outputs": [],
   "source": [
    "sample_customer_pref_price_sensitive = sample_customer_pref.groupby(['customer_id', 'product_group_name'])['price'].describe()[['max', 'min']].reset_index()\n"
   ]
  },
  {
   "cell_type": "code",
   "execution_count": 360,
   "metadata": {},
   "outputs": [
    {
     "data": {
      "text/html": [
       "<div>\n",
       "<style scoped>\n",
       "    .dataframe tbody tr th:only-of-type {\n",
       "        vertical-align: middle;\n",
       "    }\n",
       "\n",
       "    .dataframe tbody tr th {\n",
       "        vertical-align: top;\n",
       "    }\n",
       "\n",
       "    .dataframe thead th {\n",
       "        text-align: right;\n",
       "    }\n",
       "</style>\n",
       "<table border=\"1\" class=\"dataframe\">\n",
       "  <thead>\n",
       "    <tr style=\"text-align: right;\">\n",
       "      <th></th>\n",
       "      <th>customer_id</th>\n",
       "      <th>product_group_name</th>\n",
       "      <th>max</th>\n",
       "      <th>min</th>\n",
       "    </tr>\n",
       "  </thead>\n",
       "  <tbody>\n",
       "    <tr>\n",
       "      <th>0</th>\n",
       "      <td>14ecec84a4b4313fa68b6a43365269289143659a105505...</td>\n",
       "      <td>Garment Full body</td>\n",
       "      <td>0.050831</td>\n",
       "      <td>0.028797</td>\n",
       "    </tr>\n",
       "    <tr>\n",
       "      <th>1</th>\n",
       "      <td>14ecec84a4b4313fa68b6a43365269289143659a105505...</td>\n",
       "      <td>Garment Upper body</td>\n",
       "      <td>0.093203</td>\n",
       "      <td>0.016932</td>\n",
       "    </tr>\n",
       "    <tr>\n",
       "      <th>2</th>\n",
       "      <td>fc7ff0f78626b3a9f558574f4ada3ee6e9445027562840...</td>\n",
       "      <td>Accessories</td>\n",
       "      <td>0.022017</td>\n",
       "      <td>0.002695</td>\n",
       "    </tr>\n",
       "    <tr>\n",
       "      <th>3</th>\n",
       "      <td>fc7ff0f78626b3a9f558574f4ada3ee6e9445027562840...</td>\n",
       "      <td>Garment Full body</td>\n",
       "      <td>0.008881</td>\n",
       "      <td>0.002119</td>\n",
       "    </tr>\n",
       "    <tr>\n",
       "      <th>4</th>\n",
       "      <td>fc7ff0f78626b3a9f558574f4ada3ee6e9445027562840...</td>\n",
       "      <td>Garment Lower body</td>\n",
       "      <td>0.031763</td>\n",
       "      <td>0.006085</td>\n",
       "    </tr>\n",
       "    <tr>\n",
       "      <th>5</th>\n",
       "      <td>fc7ff0f78626b3a9f558574f4ada3ee6e9445027562840...</td>\n",
       "      <td>Garment Upper body</td>\n",
       "      <td>0.030492</td>\n",
       "      <td>0.001407</td>\n",
       "    </tr>\n",
       "    <tr>\n",
       "      <th>6</th>\n",
       "      <td>fc7ff0f78626b3a9f558574f4ada3ee6e9445027562840...</td>\n",
       "      <td>Nightwear</td>\n",
       "      <td>0.010153</td>\n",
       "      <td>0.010153</td>\n",
       "    </tr>\n",
       "    <tr>\n",
       "      <th>7</th>\n",
       "      <td>fc7ff0f78626b3a9f558574f4ada3ee6e9445027562840...</td>\n",
       "      <td>Shoes</td>\n",
       "      <td>0.019814</td>\n",
       "      <td>0.002695</td>\n",
       "    </tr>\n",
       "    <tr>\n",
       "      <th>8</th>\n",
       "      <td>fc7ff0f78626b3a9f558574f4ada3ee6e9445027562840...</td>\n",
       "      <td>Swimwear</td>\n",
       "      <td>0.001678</td>\n",
       "      <td>0.001678</td>\n",
       "    </tr>\n",
       "    <tr>\n",
       "      <th>9</th>\n",
       "      <td>fc7ff0f78626b3a9f558574f4ada3ee6e9445027562840...</td>\n",
       "      <td>Underwear</td>\n",
       "      <td>0.001695</td>\n",
       "      <td>0.001695</td>\n",
       "    </tr>\n",
       "  </tbody>\n",
       "</table>\n",
       "</div>"
      ],
      "text/plain": [
       "                                         customer_id  product_group_name  \\\n",
       "0  14ecec84a4b4313fa68b6a43365269289143659a105505...   Garment Full body   \n",
       "1  14ecec84a4b4313fa68b6a43365269289143659a105505...  Garment Upper body   \n",
       "2  fc7ff0f78626b3a9f558574f4ada3ee6e9445027562840...         Accessories   \n",
       "3  fc7ff0f78626b3a9f558574f4ada3ee6e9445027562840...   Garment Full body   \n",
       "4  fc7ff0f78626b3a9f558574f4ada3ee6e9445027562840...  Garment Lower body   \n",
       "5  fc7ff0f78626b3a9f558574f4ada3ee6e9445027562840...  Garment Upper body   \n",
       "6  fc7ff0f78626b3a9f558574f4ada3ee6e9445027562840...           Nightwear   \n",
       "7  fc7ff0f78626b3a9f558574f4ada3ee6e9445027562840...               Shoes   \n",
       "8  fc7ff0f78626b3a9f558574f4ada3ee6e9445027562840...            Swimwear   \n",
       "9  fc7ff0f78626b3a9f558574f4ada3ee6e9445027562840...           Underwear   \n",
       "\n",
       "        max       min  \n",
       "0  0.050831  0.028797  \n",
       "1  0.093203  0.016932  \n",
       "2  0.022017  0.002695  \n",
       "3  0.008881  0.002119  \n",
       "4  0.031763  0.006085  \n",
       "5  0.030492  0.001407  \n",
       "6  0.010153  0.010153  \n",
       "7  0.019814  0.002695  \n",
       "8  0.001678  0.001678  \n",
       "9  0.001695  0.001695  "
      ]
     },
     "execution_count": 360,
     "metadata": {},
     "output_type": "execute_result"
    }
   ],
   "source": [
    "sample_customer_pref_price_sensitive"
   ]
  },
  {
   "cell_type": "code",
   "execution_count": 362,
   "metadata": {},
   "outputs": [],
   "source": [
    "#USING DASK DATA FRAME TO PERFORM ANALYSIS\n",
    "ddf = dd.from_pandas(customer_pref, npartitions=10)"
   ]
  },
  {
   "cell_type": "code",
   "execution_count": 363,
   "metadata": {},
   "outputs": [],
   "source": [
    "customer_pref_price_sensitive = ddf.groupby(['customer_id', 'product_group_name']).agg({'price': ['max', 'min']}).compute().head()\n"
   ]
  },
  {
   "cell_type": "code",
   "execution_count": 366,
   "metadata": {},
   "outputs": [],
   "source": [
    "customer_pref_price_sensitive = customer_pref_price_sensitive.reset_index()"
   ]
  },
  {
   "cell_type": "code",
   "execution_count": 368,
   "metadata": {},
   "outputs": [
    {
     "data": {
      "text/html": [
       "<div>\n",
       "<style scoped>\n",
       "    .dataframe tbody tr th:only-of-type {\n",
       "        vertical-align: middle;\n",
       "    }\n",
       "\n",
       "    .dataframe tbody tr th {\n",
       "        vertical-align: top;\n",
       "    }\n",
       "\n",
       "    .dataframe thead tr th {\n",
       "        text-align: left;\n",
       "    }\n",
       "</style>\n",
       "<table border=\"1\" class=\"dataframe\">\n",
       "  <thead>\n",
       "    <tr>\n",
       "      <th></th>\n",
       "      <th>customer_id</th>\n",
       "      <th>product_group_name</th>\n",
       "      <th colspan=\"2\" halign=\"left\">price</th>\n",
       "    </tr>\n",
       "    <tr>\n",
       "      <th></th>\n",
       "      <th></th>\n",
       "      <th></th>\n",
       "      <th>max</th>\n",
       "      <th>min</th>\n",
       "    </tr>\n",
       "  </thead>\n",
       "  <tbody>\n",
       "    <tr>\n",
       "      <th>0</th>\n",
       "      <td>00000dbacae5abe5e23885899a1fa44253a17956c6d1c3...</td>\n",
       "      <td>Accessories</td>\n",
       "      <td>0.018288</td>\n",
       "      <td>0.018288</td>\n",
       "    </tr>\n",
       "    <tr>\n",
       "      <th>1</th>\n",
       "      <td>00000dbacae5abe5e23885899a1fa44253a17956c6d1c3...</td>\n",
       "      <td>Garment Full body</td>\n",
       "      <td>0.036593</td>\n",
       "      <td>0.036593</td>\n",
       "    </tr>\n",
       "  </tbody>\n",
       "</table>\n",
       "</div>"
      ],
      "text/plain": [
       "                                         customer_id product_group_name  \\\n",
       "                                                                          \n",
       "0  00000dbacae5abe5e23885899a1fa44253a17956c6d1c3...        Accessories   \n",
       "1  00000dbacae5abe5e23885899a1fa44253a17956c6d1c3...  Garment Full body   \n",
       "\n",
       "      price            \n",
       "        max       min  \n",
       "0  0.018288  0.018288  \n",
       "1  0.036593  0.036593  "
      ]
     },
     "execution_count": 368,
     "metadata": {},
     "output_type": "execute_result"
    }
   ],
   "source": [
    "customer_pref_price_sensitive.head(2)"
   ]
  },
  {
   "cell_type": "code",
   "execution_count": 364,
   "metadata": {},
   "outputs": [],
   "source": [
    "#customer_pref_price_sensitive = customer_pref.groupby(['customer_id', 'product_group_name'])['price'].describe()[['max', 'min']].reset_index()\n"
   ]
  },
  {
   "cell_type": "markdown",
   "metadata": {},
   "source": [
    "## Weeks Notebook"
   ]
  },
  {
   "cell_type": "code",
   "execution_count": 335,
   "metadata": {},
   "outputs": [],
   "source": [
    "# Replace missing values\n",
    "article_df.fillna(value=\"No Description\", inplace=True)\n",
    "\n",
    "# Adjust the article ID and product code to be string & add \"0\"\n",
    "#article_df[\"product_code\"] = article_df[\"article_id\"].apply(lambda x: x[:3])\n",
    "\n",
    "#article_df.head()"
   ]
  },
  {
   "cell_type": "markdown",
   "metadata": {},
   "source": [
    "#### Creating the TF Dataset"
   ]
  },
  {
   "cell_type": "code",
   "execution_count": 369,
   "metadata": {},
   "outputs": [],
   "source": [
    "article_df['article_id'] = article_df['article_id'].astype(str)\n",
    "#Padding the article ID with 0s\n",
    "article_df['article_id'] = article_df['article_id'].apply(lambda x: x.zfill(10))\n",
    "\n",
    "#Extracrt the unique customer IDs and article IDs\n",
    "unique_customer_ids = customer_df.customer_id.unique()\n",
    "unique_article_ids = article_df.article_id.unique()\n",
    "\n",
    "#Create a dataframe with customer IDs and article IDs\n",
    "article_ds = tf.data.Dataset.from_tensor_slices(dict(article_df[['article_id']]))\n",
    "articles = article_ds.map(lambda x: x['article_id'])"
   ]
  },
  {
   "cell_type": "code",
   "execution_count": 370,
   "metadata": {},
   "outputs": [
    {
     "data": {
      "text/html": [
       "<div>\n",
       "<style scoped>\n",
       "    .dataframe tbody tr th:only-of-type {\n",
       "        vertical-align: middle;\n",
       "    }\n",
       "\n",
       "    .dataframe tbody tr th {\n",
       "        vertical-align: top;\n",
       "    }\n",
       "\n",
       "    .dataframe thead th {\n",
       "        text-align: right;\n",
       "    }\n",
       "</style>\n",
       "<table border=\"1\" class=\"dataframe\">\n",
       "  <thead>\n",
       "    <tr style=\"text-align: right;\">\n",
       "      <th></th>\n",
       "      <th>t_dat</th>\n",
       "      <th>customer_id</th>\n",
       "      <th>article_id</th>\n",
       "      <th>price</th>\n",
       "    </tr>\n",
       "  </thead>\n",
       "  <tbody>\n",
       "    <tr>\n",
       "      <th>0</th>\n",
       "      <td>2018-09-20</td>\n",
       "      <td>000058a12d5b43e67d225668fa1f8d618c13dc232df0ca...</td>\n",
       "      <td>0663713001</td>\n",
       "      <td>0.050831</td>\n",
       "    </tr>\n",
       "    <tr>\n",
       "      <th>1</th>\n",
       "      <td>2018-09-20</td>\n",
       "      <td>000058a12d5b43e67d225668fa1f8d618c13dc232df0ca...</td>\n",
       "      <td>0541518023</td>\n",
       "      <td>0.030492</td>\n",
       "    </tr>\n",
       "    <tr>\n",
       "      <th>2</th>\n",
       "      <td>2018-09-20</td>\n",
       "      <td>00007d2de826758b65a93dd24ce629ed66842531df6699...</td>\n",
       "      <td>0505221004</td>\n",
       "      <td>0.015237</td>\n",
       "    </tr>\n",
       "    <tr>\n",
       "      <th>3</th>\n",
       "      <td>2018-09-20</td>\n",
       "      <td>00007d2de826758b65a93dd24ce629ed66842531df6699...</td>\n",
       "      <td>0685687003</td>\n",
       "      <td>0.016932</td>\n",
       "    </tr>\n",
       "    <tr>\n",
       "      <th>4</th>\n",
       "      <td>2018-09-20</td>\n",
       "      <td>00007d2de826758b65a93dd24ce629ed66842531df6699...</td>\n",
       "      <td>0685687004</td>\n",
       "      <td>0.016932</td>\n",
       "    </tr>\n",
       "  </tbody>\n",
       "</table>\n",
       "</div>"
      ],
      "text/plain": [
       "       t_dat                                        customer_id  article_id  \\\n",
       "0 2018-09-20  000058a12d5b43e67d225668fa1f8d618c13dc232df0ca...  0663713001   \n",
       "1 2018-09-20  000058a12d5b43e67d225668fa1f8d618c13dc232df0ca...  0541518023   \n",
       "2 2018-09-20  00007d2de826758b65a93dd24ce629ed66842531df6699...  0505221004   \n",
       "3 2018-09-20  00007d2de826758b65a93dd24ce629ed66842531df6699...  0685687003   \n",
       "4 2018-09-20  00007d2de826758b65a93dd24ce629ed66842531df6699...  0685687004   \n",
       "\n",
       "      price  \n",
       "0  0.050831  \n",
       "1  0.030492  \n",
       "2  0.015237  \n",
       "3  0.016932  \n",
       "4  0.016932  "
      ]
     },
     "execution_count": 370,
     "metadata": {},
     "output_type": "execute_result"
    }
   ],
   "source": [
    "#Subeslecting for last 1 year\n",
    "train0 = train0[train0['t_dat'] <='2019-09-20']\n",
    "\n",
    "# add 0 in article_id column (string)\n",
    "train0.loc[:,'article_id'] = train0.loc[:,'article_id'].astype(str)\n",
    "train0.loc[:,'article_id']  = train0.loc[:,'article_id'] .apply(lambda x: x.zfill(10))\n",
    "train0.head()"
   ]
  },
  {
   "cell_type": "markdown",
   "metadata": {},
   "source": [
    "#### Defining the Metric for Candidate Generator \n",
    "\n",
    "The goal of the candidate generator is to fetch enough reevant candidates for the ranker to rank. Indeed, the ranker works on top of the output of the candidate generator -- if the candidate generator fetches relevant candidates, the ranker can do a better job at ranking these candidates. However, if the candidate generator misses out on a large set of relevant items, the ranker cannot rank them since it doesn't have access to good candidate items.\n",
    "\n",
    "- Given such a role of the candidate generator, *recall* becomes the key metric with which we evaluate different candidate generators. Intuitively, _Recall = of all relevant items, how many made it into the selected list?_\n",
    "\n",
    "- Recall@k is the proportion of relevant items found in the top-k selected candidates.\n",
    "\n",
    "- Mathematically recall@k is defined as follows:\n",
    "    - Recall@k = (# of recommended items @k that are relevant) / (total # of relevant items)\n",
    "\n",
    "- Suppose we have a user who will make 5 purchases next month, and we wish to make 10 recommendations to this user on the homepage from among the set of 1 million products. \n",
    "    - Further suppose we have two candidate generators (CG-A and CG-B), each returning 100 candidates that the ranker can consumer and select the 10 recommendations. \n",
    "    - If CG-A is able to retrieve 3 of these 5 products amongst its set of 100 candidates, and CG-B is able to retrieve only 2 of the 5 products amongst its set of 100 candidates, \n",
    "    - then CG-A would have a higher recall than CG-B. Recall for CG-A = 3/5 Recall for CG-B = 2/5"
   ]
  },
  {
   "cell_type": "code",
   "execution_count": 371,
   "metadata": {},
   "outputs": [],
   "source": [
    "# Recall@k = (# of recommended items @k that are relevant) / (total # of relevant items)\n",
    "def estimateRecall(cg, purchase):\n",
    "    return len(set.intersection(set(cg), set(purchase))) / len(purchase)"
   ]
  },
  {
   "cell_type": "markdown",
   "metadata": {},
   "source": [
    "#### Types of Candidatee Generators"
   ]
  },
  {
   "cell_type": "markdown",
   "metadata": {},
   "source": [
    "## **Traditional Candidate Generation**\n",
    "\n",
    "With the metric in place, now lets look into a few obvious candiate generators.\n",
    "\n",
    "> **1. Candidate Genertator 1: random products**\n",
    "The simplest candidate generator to start with is a random candidate selector -- from amongst the list of products, randomly select few products.\n",
    "\n",
    "\n",
    "> **2. Candidate Genertator 2: Top most popular products**\n",
    "Another simple candidate selection strategy is to select the top-k most popular products from historic interactions and use this list as the set of candidates for the downstream ranking goal.\n",
    "\n",
    "\n",
    "> **3. Candidate Genertator 3: Two-tower model CG**\n",
    "One of most popular, and industry-wide used CGs is a two-tower neural network. This is a learnt deep model with one tower for the user and another tower for the product, followed by a dot product. We describe this model in detail further down the notebook.\n",
    "\n",
    "\n",
    "Below we will implement each of these three candidate generators and compare their performace in terms of recall metric.\n",
    "\n",
    "In order to have a clean evaluation set-up, we will divide the transactions data we have into train and test split. We look at one year's of purchases and use the first 9 months as training data and the remaining three months as the test data."
   ]
  },
  {
   "cell_type": "markdown",
   "metadata": {},
   "source": [
    "#### Splitting into Train and Test"
   ]
  },
  {
   "cell_type": "code",
   "execution_count": 372,
   "metadata": {},
   "outputs": [],
   "source": [
    "#train0 = pd.read_csv('hmdata/transactions_train.csv.zip')\n",
    "train = train0[train0['t_dat']<'2019-06-20']\n",
    "test = train0[train0['t_dat'] >='2019-06-20']#[train0['t_dat'] <='2020-09-20']"
   ]
  },
  {
   "cell_type": "markdown",
   "metadata": {},
   "source": [
    "- Note: Considered customers that have made a purchase in both train and test time-periods. The methods and set-up remain the same for all other customers as well."
   ]
  },
  {
   "cell_type": "code",
   "execution_count": 373,
   "metadata": {},
   "outputs": [
    {
     "name": "stdout",
     "output_type": "stream",
     "text": [
      "12148516 4686893 12148516 4686893 421401\n"
     ]
    }
   ],
   "source": [
    "c1 = train['customer_id'].to_list()\n",
    "c2 = test['customer_id'].to_list()\n",
    "def intersection(lst1, lst2):\n",
    "    return list(set(lst1) & set(lst2))\n",
    "\n",
    "commonUsers = intersection(c1, c2)\n",
    "\n",
    "print(len(train),len(test),len(c1),len(c2),len(commonUsers))"
   ]
  },
  {
   "cell_type": "markdown",
   "metadata": {},
   "source": [
    "#### Helper Function To Run Candidate Generator "
   ]
  },
  {
   "cell_type": "code",
   "execution_count": 469,
   "metadata": {},
   "outputs": [],
   "source": [
    "def runCandidateGeneration(method,k):\n",
    "    \"\"\"\n",
    "    param method: method to use for candidate generation\n",
    "    param k: number of top articles to use for candidate generation\n",
    "    \"\"\"\n",
    "    overallRecall = 0\n",
    "    recallList = []\n",
    "    i=0\n",
    "    userSet = commonUsers[0:10] # take first 10 users\n",
    "    for user in userSet: # for each user\n",
    "        purchaseList = test[test['customer_id']==user]['article_id'].to_list() # get the list of articles purchased by user\n",
    "        cg = method(user,k) # get the list of top articles\n",
    "        r = estimateRecall(cg,purchaseList) # get the recall\n",
    "        overallRecall+=r # add to overall recall\n",
    "        recallList.append(r) # add to recall list\n",
    "    overallRecall = overallRecall/len(userSet) # get the overall recall\n",
    "    return (overallRecall,recallList) # return the overall recall and recall list"
   ]
  },
  {
   "cell_type": "markdown",
   "metadata": {},
   "source": [
    "#### Candidate Generators I:  Random Products"
   ]
  },
  {
   "cell_type": "code",
   "execution_count": 396,
   "metadata": {},
   "outputs": [],
   "source": [
    "def getKCandidatesRandom(user,k):\n",
    "    \"\"\" \n",
    "    param user: user id \n",
    "    param k: number of top articles to use for candidate generation\n",
    "    \"\"\"\n",
    "    return random.sample(train['article_id'].to_list(),k)"
   ]
  },
  {
   "cell_type": "markdown",
   "metadata": {},
   "source": [
    "#### Candidate Generator 2: top-k popular products based on historic interactions"
   ]
  },
  {
   "cell_type": "code",
   "execution_count": 397,
   "metadata": {},
   "outputs": [],
   "source": [
    "\n",
    "def getTopKCandidatesPopular(user,k):\n",
    "    \"\"\" \n",
    "    param user: user id \n",
    "    param k: number of top articles to use for candidate generation\n",
    "\n",
    "    \"\"\"\n",
    "    \n",
    "    c = Counter(train['article_id'].to_list())\n",
    "    topPopular = [article for article, count in c.most_common(k)]\n",
    "    return topPopular\n"
   ]
  },
  {
   "cell_type": "markdown",
   "metadata": {},
   "source": [
    "#### Evaluating Candidate Generators I and II"
   ]
  },
  {
   "cell_type": "code",
   "execution_count": 395,
   "metadata": {},
   "outputs": [
    {
     "name": "stdout",
     "output_type": "stream",
     "text": [
      "recall for candidate generation at k=100 candidates fetched:  0.007142857142857143\n",
      "recall for candidate generation at k=1000 candidates fetched:  0.22857142857142856\n"
     ]
    }
   ],
   "source": [
    "# Running metric calculations for CG 2: top popular products CG, to fetch 100 and 1000 candidates.\n",
    "r, rlist = runCandidateGeneration(getTopKCandidatesPopular,k=100)\n",
    "print(\"recall for candidate generation at k=100 candidates fetched: \", r)\n",
    "\n",
    "r, rlist = runCandidateGeneration(getTopKCandidatesPopular,k=1000)\n",
    "print(\"recall for candidate generation at k=1000 candidates fetched: \", r)"
   ]
  },
  {
   "cell_type": "markdown",
   "metadata": {},
   "source": [
    "### **Two Tower Model: Candidate Generator**"
   ]
  },
  {
   "cell_type": "markdown",
   "metadata": {},
   "source": [
    "- A two tower model is a neural network that is made up of two separate sub-models, \n",
    "    - one that learns representations for the users, \n",
    "    - and one that learns representations for candidate objects. \n",
    "\n",
    "This information is then combined in a single layer to produce a prediction of whether a user will like an item. This is currently one of the best-performing models for candidate generation, as it learns information from both the user and the items. \n",
    "\n",
    "- This approach is useful for candidate generation across a wide variety of industries, from online retail to social media! With one tower representing the users and the other representing the items, the system can learn a lot about whether a user might like a particular item. \n",
    "- These models are trained using implicit signals – YouTube, for example, might consider how many seconds a user streamed a video, or how they interacted with it. The learned information can then be combined to produce the final prediction."
   ]
  },
  {
   "cell_type": "markdown",
   "metadata": {},
   "source": [
    "#### Embedding for the Customer"
   ]
  },
  {
   "cell_type": "code",
   "execution_count": 376,
   "metadata": {},
   "outputs": [],
   "source": [
    "embedding_dimension = 64\n",
    "\n",
    "customer_model = tf.keras.Sequential([\n",
    "  tf.keras.layers.StringLookup(\n",
    "      vocabulary=unique_customer_ids, mask_token=None),  \n",
    "  tf.keras.layers.Embedding(len(unique_customer_ids) + 1, embedding_dimension),\n",
    "  tf.keras.layers.Dense(64, activation='relu')\n",
    "])\n"
   ]
  },
  {
   "cell_type": "markdown",
   "metadata": {},
   "source": [
    "#### Embedding for the Articles"
   ]
  },
  {
   "cell_type": "code",
   "execution_count": 377,
   "metadata": {},
   "outputs": [],
   "source": [
    "article_model = tf.keras.Sequential([\n",
    "  tf.keras.layers.StringLookup(\n",
    "      vocabulary=unique_article_ids, mask_token=None),\n",
    "  tf.keras.layers.Embedding(len(unique_article_ids) + 1, embedding_dimension),\n",
    "  tf.keras.layers.Dense(64, activation='relu')\n",
    "])"
   ]
  },
  {
   "cell_type": "markdown",
   "metadata": {},
   "source": [
    "#### **Metric: FactorizedTopK**\n",
    "- To figure out how good our model is, \n",
    "    - we need to compare the **affinity score** that the model calculates for this pair to the scores of all the other _possible candidates_: if the score for the positive pair is higher than for all other candidates, our model is highly accurate.\n",
    "\n",
    "- To do this, we can use the *tfrs.metrics.FactorizedTopK* metric. The metric has one required argument: the dataset of candidates that are used as implicit negatives for evaluation.\n",
    "\n",
    "- The default metric is top K categorical accuracy: how often the true candidate is in the top K candidates for a given query."
   ]
  },
  {
   "cell_type": "markdown",
   "metadata": {},
   "source": [
    "#### Two Tower Model Class"
   ]
  },
  {
   "cell_type": "markdown",
   "metadata": {},
   "source": [
    "TFRS exposes a base model class (tfrs.models.Model) which streamlines bulding models: \n",
    " - In the __init__ method, and implement the compute_loss method, taking in the raw features and returning a loss value.\n",
    "\n",
    "- The base model will then take care of creating the appropriate training loop to fit our model.\n",
    "\n",
    "- The tfrs.Model base class is a simply convenience class: it allows us to compute both training and test losses using the same method.\n"
   ]
  },
  {
   "cell_type": "code",
   "execution_count": 378,
   "metadata": {},
   "outputs": [],
   "source": [
    "class HandMModel(tfrs.Model):\n",
    "    \n",
    "    def __init__(self, customer_model, article_model):\n",
    "        super().__init__()\n",
    "        self.article_model: tf.keras.Model = article_model \n",
    "        self.customer_model: tf.keras.Model = customer_model \n",
    "        self.task = tfrs.tasks.Retrieval(\n",
    "        metrics=tfrs.metrics.FactorizedTopK(\n",
    "            candidates=articles.batch(128).map(self.article_model),            \n",
    "            ),\n",
    "        )        \n",
    "\n",
    "    def compute_loss(self, features: Dict[str, tf.Tensor], training=False) -> tf.Tensor:\n",
    "    \n",
    "        customer_embeddings = self.customer_model(features[\"customer_id\"])    \n",
    "        article_embeddings = self.article_model(features[\"article_id\"])\n",
    "\n",
    "        # The task computes the loss and the metrics.\n",
    "        return self.task(customer_embeddings, article_embeddings,compute_metrics=not training)"
   ]
  },
  {
   "cell_type": "code",
   "execution_count": 379,
   "metadata": {},
   "outputs": [],
   "source": [
    "model = HandMModel(customer_model, article_model)\n",
    "model.compile(optimizer=tf.keras.optimizers.Adagrad(learning_rate=0.1))"
   ]
  },
  {
   "cell_type": "code",
   "execution_count": 380,
   "metadata": {},
   "outputs": [
    {
     "name": "stdout",
     "output_type": "stream",
     "text": [
      "Epoch 1/4\n",
      "47456/47456 [==============================] - 195s 4ms/step - factorized_top_k/top_1_categorical_accuracy: 0.0000e+00 - factorized_top_k/top_5_categorical_accuracy: 0.0000e+00 - factorized_top_k/top_10_categorical_accuracy: 0.0000e+00 - factorized_top_k/top_50_categorical_accuracy: 0.0000e+00 - factorized_top_k/top_100_categorical_accuracy: 0.0000e+00 - loss: 1216.2949 - regularization_loss: 0.0000e+00 - total_loss: 1216.2949\n",
      "Epoch 2/4\n",
      "47456/47456 [==============================] - 206s 4ms/step - factorized_top_k/top_1_categorical_accuracy: 0.0000e+00 - factorized_top_k/top_5_categorical_accuracy: 0.0000e+00 - factorized_top_k/top_10_categorical_accuracy: 0.0000e+00 - factorized_top_k/top_50_categorical_accuracy: 0.0000e+00 - factorized_top_k/top_100_categorical_accuracy: 0.0000e+00 - loss: 1012.0786 - regularization_loss: 0.0000e+00 - total_loss: 1012.0786\n",
      "Epoch 3/4\n",
      "47456/47456 [==============================] - 195s 4ms/step - factorized_top_k/top_1_categorical_accuracy: 0.0000e+00 - factorized_top_k/top_5_categorical_accuracy: 0.0000e+00 - factorized_top_k/top_10_categorical_accuracy: 0.0000e+00 - factorized_top_k/top_50_categorical_accuracy: 0.0000e+00 - factorized_top_k/top_100_categorical_accuracy: 0.0000e+00 - loss: 914.0429 - regularization_loss: 0.0000e+00 - total_loss: 914.0429\n",
      "Epoch 4/4\n",
      "47456/47456 [==============================] - 203s 4ms/step - factorized_top_k/top_1_categorical_accuracy: 0.0000e+00 - factorized_top_k/top_5_categorical_accuracy: 0.0000e+00 - factorized_top_k/top_10_categorical_accuracy: 0.0000e+00 - factorized_top_k/top_50_categorical_accuracy: 0.0000e+00 - factorized_top_k/top_100_categorical_accuracy: 0.0000e+00 - loss: 855.9604 - regularization_loss: 0.0000e+00 - total_loss: 855.9604\n"
     ]
    }
   ],
   "source": [
    "train_ds = tf.data.Dataset.from_tensor_slices(dict(train[['customer_id','article_id']])).shuffle(100_000).batch(256)\n",
    "test_ds = tf.data.Dataset.from_tensor_slices(dict(test[['customer_id','article_id']])).batch(256)\n",
    "\n",
    "num_epochs = 4\n",
    "\n",
    "history = model.fit(train_ds,epochs=num_epochs, verbose=1)"
   ]
  },
  {
   "cell_type": "code",
   "execution_count": 381,
   "metadata": {},
   "outputs": [
    {
     "name": "stdout",
     "output_type": "stream",
     "text": [
      "4/4 [==============================] - 7s 1s/step - factorized_top_k/top_1_categorical_accuracy: 5.0000e-04 - factorized_top_k/top_5_categorical_accuracy: 0.0025 - factorized_top_k/top_10_categorical_accuracy: 0.0030 - factorized_top_k/top_50_categorical_accuracy: 0.0090 - factorized_top_k/top_100_categorical_accuracy: 0.0160 - loss: 3747.6756 - regularization_loss: 0.0000e+00 - total_loss: 3747.6756\n"
     ]
    },
    {
     "data": {
      "text/plain": [
       "{'factorized_top_k/top_1_categorical_accuracy': 0.0005000000237487257,\n",
       " 'factorized_top_k/top_5_categorical_accuracy': 0.0024999999441206455,\n",
       " 'factorized_top_k/top_10_categorical_accuracy': 0.003000000026077032,\n",
       " 'factorized_top_k/top_50_categorical_accuracy': 0.008999999612569809,\n",
       " 'factorized_top_k/top_100_categorical_accuracy': 0.01600000075995922,\n",
       " 'loss': 3722.50390625,\n",
       " 'regularization_loss': 0,\n",
       " 'total_loss': 3722.50390625}"
      ]
     },
     "execution_count": 381,
     "metadata": {},
     "output_type": "execute_result"
    }
   ],
   "source": [
    "test_ds = tf.data.Dataset.from_tensor_slices(dict(test.sample(2000)[['customer_id','article_id']])).batch(500).cache()\n",
    "model.evaluate(test_ds, return_dict=True)\n"
   ]
  },
  {
   "cell_type": "markdown",
   "metadata": {},
   "source": [
    "#### Making Predictions"
   ]
  },
  {
   "cell_type": "code",
   "execution_count": 385,
   "metadata": {},
   "outputs": [
    {
     "name": "stdout",
     "output_type": "stream",
     "text": [
      "Recommendations for customer: [b'0681105001' b'0691799005' b'0652000008' b'0568601006' b'0568601016'\n",
      " b'0577512009' b'0716211003' b'0702799003' b'0683517004' b'0688464004'\n",
      " b'0731512001' b'0672625008' b'0405887036' b'0611479009' b'0690952004'\n",
      " b'0729936003' b'0399061028' b'0625653011' b'0745367003' b'0611145012'\n",
      " b'0729936002' b'0620424042' b'0507909003' b'0695909002' b'0508932027'\n",
      " b'0685167001' b'0742204001' b'0751788001' b'0568601019' b'0507909024'\n",
      " b'0548110014' b'0507909026' b'0702213001' b'0568597006' b'0698629001'\n",
      " b'0619739034' b'0651504002' b'0568597016' b'0577512008' b'0566592006'\n",
      " b'0548110010' b'0714620001' b'0690960001' b'0688464001' b'0649397004'\n",
      " b'0717132001' b'0725216003' b'0735779002' b'0627759008' b'0712913001']\n"
     ]
    }
   ],
   "source": [
    "articles = article_ds.map(lambda x: x['article_id'])\n",
    "\n",
    "# Create a model that takes in raw customer features, and\n",
    "index = tfrs.layers.factorized_top_k.BruteForce(model.customer_model,k=50)\n",
    "# recommends articles out of the entire dataset.\n",
    "index.index_from_dataset(\n",
    "  tf.data.Dataset.zip((articles.batch(1000), articles.batch(1000).map(model.article_model)))\n",
    ")\n",
    "\n",
    "# Get recommendations.\n",
    "_, titles = index(tf.constant([\"00000dbacae5abe5e23885899a1fa44253a17956c6d1c3d25f88aa139fdfc657\"]))\n",
    "print(f\"Recommendations for customer: {titles[0, :100]}\")"
   ]
  },
  {
   "cell_type": "markdown",
   "metadata": {},
   "source": [
    "#### Evaluating \n",
    "- Now that we have the ability to make predictions, we would like to use this model and fetch the top-k candidates for the set of customers we have used for the previous two candidate generators.\n",
    "\n",
    "- Similar to the CG1 and CG2 functions, we define the two-tower CG function that takes in a customer ID and value k, and returns the list of top-k products as the list of candidate products."
   ]
  },
  {
   "cell_type": "code",
   "execution_count": 386,
   "metadata": {},
   "outputs": [],
   "source": [
    "def getTopKCandidates2Tower(u,k):\n",
    "    # Create a model that takes in raw customer features, and\n",
    "    index = tfrs.layers.factorized_top_k.BruteForce(model.customer_model,k)\n",
    "    # recommends articles out of the entire dataset.\n",
    "    index.index_from_dataset(\n",
    "        tf.data.Dataset.zip((articles.batch(1000), articles.batch(1000).map(model.article_model)))\n",
    "    )\n",
    "    _, candidates = index(tf.constant([u]))\n",
    "    candidates = candidates.numpy().tolist()[0]\n",
    "    cg = []\n",
    "    for c in candidates:\n",
    "        cg.append(c.decode(\"utf-8\") )\n",
    "    return (cg)"
   ]
  },
  {
   "cell_type": "code",
   "execution_count": 387,
   "metadata": {},
   "outputs": [
    {
     "name": "stdout",
     "output_type": "stream",
     "text": [
      "recall for candidate generation at k=100 candidates fetched:  0.0\n",
      "recall for candidate generation at k=1000 candidates fetched:  0.06642857142857143\n"
     ]
    }
   ],
   "source": [
    "r, rlist = runCandidateGeneration(getTopKCandidates2Tower,k=100)\n",
    "print(\"recall for candidate generation at k=100 candidates fetched: \", r)\n",
    "r, rlist = runCandidateGeneration(getTopKCandidates2Tower,k=1000)\n",
    "print(\"recall for candidate generation at k=1000 candidates fetched: \", r)"
   ]
  },
  {
   "cell_type": "markdown",
   "metadata": {},
   "source": [
    "#### Candidate Generator IV"
   ]
  },
  {
   "cell_type": "code",
   "execution_count": 470,
   "metadata": {},
   "outputs": [],
   "source": [
    "def getTopKCandidatesFeatures(user,k):\n",
    "    \"\"\" \n",
    "    param user: user id \n",
    "    param k: number of top articles to use for candidate generation\n",
    "    1 Filter for age level\n",
    "    2 Filter for Stale Products\n",
    "    3 Sample From Top K Popular Products with Probability based on popularity\n",
    "    4 Restrict Based on User History and Price Sensitivity\n",
    "\n",
    "    \"\"\"\n",
    "    \n",
    "    print(\"user: \", user)\n",
    "    user_age_interval = customer_df[customer_df['customer_id'] == user]['age_interval'].values[0]\n",
    "    print(\"user_age_interval: \", user_age_interval)\n",
    "    filter_by_age_interval = article_by_age_group[article_by_age_group['dominant_age_group'] == user_age_interval]['article_id']\n",
    "    print(\"filter_by_age_interval: \", len(filter_by_age_interval))\n",
    "    filter_by_age_interval_list  = []\n",
    "    for article in filter_by_age_interval:\n",
    "        if article_by_mth_yr[article_by_mth_yr[\"article_id\"]==article]['current_article_freshness'].values[-1] in ['very stale']:\n",
    "            continue\n",
    "        else:\n",
    "            filter_by_age_interval_list.append(article)\n",
    "\n",
    "    final_list = [str(x).zfill(10) for x in filter_by_age_interval_list]\n",
    "    return final_list"
   ]
  },
  {
   "cell_type": "code",
   "execution_count": 466,
   "metadata": {},
   "outputs": [
    {
     "data": {
      "text/plain": [
       "'19d3189004ea728660da0d47843d7bd215989cf45227f8d8e3534ccdc5947493'"
      ]
     },
     "execution_count": 466,
     "metadata": {},
     "output_type": "execute_result"
    }
   ],
   "source": [
    "sample_user = customer_df.sample(1)['customer_id'].values[0]\n",
    "sample_user"
   ]
  },
  {
   "cell_type": "code",
   "execution_count": 474,
   "metadata": {},
   "outputs": [
    {
     "name": "stdout",
     "output_type": "stream",
     "text": [
      "user:  9fdf9625de6aa5a081b0412a23db2dbe9e00d0f662881918a2d618b39888927c\n",
      "user_age_interval:  Working Age\n",
      "filter_by_age_interval:  51553\n",
      "user:  5cf22e04b3abfcaa5c86662097f4b4e7a90d1c68064c9855308f4359dd9a3b4b\n",
      "user_age_interval:  Senior Age\n",
      "filter_by_age_interval:  7601\n",
      "user:  22563d01d9294322b2e33138c22dda80b8603b557973c3223349cd3682928080\n",
      "user_age_interval:  Working Age\n",
      "filter_by_age_interval:  51553\n",
      "user:  7b4262b6309c77d80b599e9cde25e338387c877230a0e96a3003e41c319bcde2\n",
      "user_age_interval:  Senior Age\n",
      "filter_by_age_interval:  7601\n",
      "user:  4b675a701c1ebb552f88407683e74bd6561b66ece1c2a933f7f4f8ba41a92299\n",
      "user_age_interval:  Senior Age\n",
      "filter_by_age_interval:  7601\n",
      "user:  ae331140a60721eab55b431b7e19112141299e2815f2a803c2e0b525eb020472\n",
      "user_age_interval:  Working Age\n",
      "filter_by_age_interval:  51553\n",
      "user:  6f4b38793b7bd54ad0e3aad30a4cc81e2773832625197e4d654ddaa231959c74\n",
      "user_age_interval:  Middle Age\n",
      "filter_by_age_interval:  9505\n",
      "user:  3481cf616b7660aec5d697712f94f77ace1b3daebd83b141fde7b3983d0a9219\n",
      "user_age_interval:  Working Age\n",
      "filter_by_age_interval:  51553\n",
      "user:  d89260bc795231903eb58160d881560640877902bb4db5b7b36a7276acebb6c3\n",
      "user_age_interval:  Old Age\n",
      "filter_by_age_interval:  1650\n",
      "user:  a9c6f9878bb0051d827549425c3e86e9461cf3a3d60c08dbc70e2f48528a1856\n",
      "user_age_interval:  Teenaage\n",
      "filter_by_age_interval:  577\n"
     ]
    }
   ],
   "source": [
    "r, rlist = runCandidateGeneration(getTopKCandidatesFeatures,k=1000)"
   ]
  },
  {
   "cell_type": "markdown",
   "metadata": {},
   "source": [
    "#### Candidate Generator IV : Recall@1000K"
   ]
  },
  {
   "cell_type": "code",
   "execution_count": 478,
   "metadata": {},
   "outputs": [
    {
     "data": {
      "text/plain": [
       "0.02857142857142857"
      ]
     },
     "execution_count": 478,
     "metadata": {},
     "output_type": "execute_result"
    }
   ],
   "source": [
    "r"
   ]
  },
  {
   "cell_type": "markdown",
   "metadata": {},
   "source": [
    "#### Candidate Generator Recall@100K"
   ]
  },
  {
   "cell_type": "code",
   "execution_count": 479,
   "metadata": {},
   "outputs": [
    {
     "name": "stdout",
     "output_type": "stream",
     "text": [
      "user:  9fdf9625de6aa5a081b0412a23db2dbe9e00d0f662881918a2d618b39888927c\n",
      "user_age_interval:  Working Age\n",
      "filter_by_age_interval:  51553\n",
      "user:  5cf22e04b3abfcaa5c86662097f4b4e7a90d1c68064c9855308f4359dd9a3b4b\n",
      "user_age_interval:  Senior Age\n",
      "filter_by_age_interval:  7601\n",
      "user:  22563d01d9294322b2e33138c22dda80b8603b557973c3223349cd3682928080\n",
      "user_age_interval:  Working Age\n",
      "filter_by_age_interval:  51553\n",
      "user:  7b4262b6309c77d80b599e9cde25e338387c877230a0e96a3003e41c319bcde2\n",
      "user_age_interval:  Senior Age\n",
      "filter_by_age_interval:  7601\n",
      "user:  4b675a701c1ebb552f88407683e74bd6561b66ece1c2a933f7f4f8ba41a92299\n",
      "user_age_interval:  Senior Age\n",
      "filter_by_age_interval:  7601\n",
      "user:  ae331140a60721eab55b431b7e19112141299e2815f2a803c2e0b525eb020472\n",
      "user_age_interval:  Working Age\n",
      "filter_by_age_interval:  51553\n",
      "user:  6f4b38793b7bd54ad0e3aad30a4cc81e2773832625197e4d654ddaa231959c74\n",
      "user_age_interval:  Middle Age\n",
      "filter_by_age_interval:  9505\n",
      "user:  3481cf616b7660aec5d697712f94f77ace1b3daebd83b141fde7b3983d0a9219\n",
      "user_age_interval:  Working Age\n",
      "filter_by_age_interval:  51553\n",
      "user:  d89260bc795231903eb58160d881560640877902bb4db5b7b36a7276acebb6c3\n",
      "user_age_interval:  Old Age\n",
      "filter_by_age_interval:  1650\n",
      "user:  a9c6f9878bb0051d827549425c3e86e9461cf3a3d60c08dbc70e2f48528a1856\n",
      "user_age_interval:  Teenaage\n",
      "filter_by_age_interval:  577\n"
     ]
    }
   ],
   "source": [
    "r, rlist = runCandidateGeneration(getTopKCandidatesFeatures,k=100)"
   ]
  },
  {
   "cell_type": "code",
   "execution_count": 480,
   "metadata": {},
   "outputs": [
    {
     "data": {
      "text/plain": [
       "0.02857142857142857"
      ]
     },
     "execution_count": 480,
     "metadata": {},
     "output_type": "execute_result"
    }
   ],
   "source": [
    "r"
   ]
  }
 ],
 "metadata": {
  "kernelspec": {
   "display_name": "Python 3.9.7 64-bit",
   "language": "python",
   "name": "python3"
  },
  "language_info": {
   "codemirror_mode": {
    "name": "ipython",
    "version": 3
   },
   "file_extension": ".py",
   "mimetype": "text/x-python",
   "name": "python",
   "nbconvert_exporter": "python",
   "pygments_lexer": "ipython3",
   "version": "3.9.7"
  },
  "orig_nbformat": 4,
  "vscode": {
   "interpreter": {
    "hash": "b8bdd4e700647ba2b08c59e5df8b7da1dcf50a218bcd4c1bcd9b3dc92e8788e5"
   }
  }
 },
 "nbformat": 4,
 "nbformat_minor": 2
}
