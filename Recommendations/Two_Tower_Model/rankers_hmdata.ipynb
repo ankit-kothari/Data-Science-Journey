{
  "cells": [
    {
      "cell_type": "markdown",
      "metadata": {
        "id": "view-in-github",
        "colab_type": "text"
      },
      "source": [
        "<a href=\"https://colab.research.google.com/github/ankit-kothari/Data-Science-Journey/blob/master/rankers_hmdata.ipynb\" target=\"_parent\"><img src=\"https://colab.research.google.com/assets/colab-badge.svg\" alt=\"Open In Colab\"/></a>"
      ]
    },
    {
      "cell_type": "code",
      "source": [
        "!pip3 install -q tensorflow-recommenders\n",
        "!pip3 install -q --upgrade tensorflow-datasets\n",
        "!pip3 install -q scann"
      ],
      "metadata": {
        "colab": {
          "base_uri": "https://localhost:8080/"
        },
        "id": "xJkaAemF8DV2",
        "outputId": "6f82264a-2b57-4204-bf97-9c5c2b390b20"
      },
      "execution_count": 1,
      "outputs": [
        {
          "output_type": "stream",
          "name": "stdout",
          "text": [
            "\u001b[K     |████████████████████████████████| 88 kB 3.1 MB/s \n",
            "\u001b[K     |████████████████████████████████| 511.7 MB 5.6 kB/s \n",
            "\u001b[K     |████████████████████████████████| 438 kB 45.6 MB/s \n",
            "\u001b[K     |████████████████████████████████| 5.8 MB 50.3 MB/s \n",
            "\u001b[K     |████████████████████████████████| 1.6 MB 42.2 MB/s \n",
            "\u001b[K     |████████████████████████████████| 4.3 MB 5.4 MB/s \n",
            "\u001b[K     |████████████████████████████████| 11.2 MB 5.9 MB/s \n",
            "\u001b[?25h"
          ]
        }
      ]
    },
    {
      "cell_type": "code",
      "execution_count": 2,
      "metadata": {
        "colab": {
          "base_uri": "https://localhost:8080/",
          "height": 275
        },
        "id": "fe2notLM76Kt",
        "outputId": "b5b0cd3a-b61c-4ea3-d459-771f2f3b231d"
      },
      "outputs": [
        {
          "output_type": "display_data",
          "data": {
            "text/plain": [
              "<IPython.core.display.Image object>"
            ],
            "text/html": [
              "<img src=\"https://miro.medium.com/max/3688/1*rrIJOpJO8fkFECNHlwq-jQ.png\" width=\"500\" class=\"unconfined\"/>"
            ]
          },
          "metadata": {}
        }
      ],
      "source": [
        "from IPython.core.display import Image, display\n",
        "display(Image(url='https://miro.medium.com/max/3688/1*rrIJOpJO8fkFECNHlwq-jQ.png', width=500, unconfined=True))"
      ]
    },
    {
      "cell_type": "code",
      "execution_count": 3,
      "metadata": {
        "id": "Di5ViExC76Kx"
      },
      "outputs": [],
      "source": [
        "import pandas as pd\n",
        "import numpy as np\n",
        "import tensorflow as tf\n",
        "#import tensorflow_recommenders as tfrs\n",
        "import numpy as np\n",
        "import pandas as pd\n",
        "import seaborn as sns\n",
        "from matplotlib import pyplot as plt\n",
        "from tqdm.notebook import tqdm\n",
        "from pathlib import Path\n",
        "from typing import Dict, Text\n",
        "from functools import reduce\n",
        "import os\n",
        "import pprint\n",
        "import tempfile\n",
        "from typing import Dict, Text\n",
        "import numpy as np\n",
        "import tensorflow as tf\n",
        "#import tensorflow_recommenders as tfrs\n",
        "from tensorflow import feature_column\n",
        "import random\n",
        "from datetime import timedelta\n",
        "import gc\n"
      ]
    },
    {
      "cell_type": "code",
      "source": [
        "\n",
        "!gdown https://drive.google.com/uc?id=1rEJFi98sLUTYj50Fh8ff33A7NKOoT87c\n",
        "#!gdown https://drive.google.com/uc?id=13JK5eo99X7RAVRG45te96FUx0uHhYjRs\n",
        "#!gdown https://drive.google.com/uc?id=13lNaifdLn7i9IC_NE8JvTooqC-rvbR3k\n"
      ],
      "metadata": {
        "colab": {
          "base_uri": "https://localhost:8080/"
        },
        "id": "Lh6SJkFl-LmF",
        "outputId": "8e2e004e-7082-4909-bd8a-793671982478"
      },
      "execution_count": 4,
      "outputs": [
        {
          "output_type": "stream",
          "name": "stdout",
          "text": [
            "Downloading...\n",
            "From: https://drive.google.com/uc?id=1rEJFi98sLUTYj50Fh8ff33A7NKOoT87c\n",
            "To: /content/hmdata.zip\n",
            "100% 773M/773M [00:06<00:00, 117MB/s]\n"
          ]
        }
      ]
    },
    {
      "cell_type": "code",
      "source": [
        "!unzip /content/hmdata.zip"
      ],
      "metadata": {
        "colab": {
          "base_uri": "https://localhost:8080/"
        },
        "id": "NmqcHNCOn5U6",
        "outputId": "880d2171-4916-4f0c-938f-88a971d6af68"
      },
      "execution_count": 6,
      "outputs": [
        {
          "output_type": "stream",
          "name": "stdout",
          "text": [
            "Archive:  /content/hmdata.zip\n",
            "   creating: hmdata/\n",
            "  inflating: hmdata/customers.csv.zip  \n",
            "  inflating: __MACOSX/hmdata/._customers.csv.zip  \n",
            "  inflating: hmdata/articles.csv.zip  \n",
            "  inflating: __MACOSX/hmdata/._articles.csv.zip  \n",
            "  inflating: hmdata/transactions_train.csv.zip  \n",
            "  inflating: __MACOSX/hmdata/._transactions_train.csv.zip  \n",
            "  inflating: hmdata/sample_submission.csv.zip  \n",
            "  inflating: __MACOSX/hmdata/._sample_submission.csv.zip  \n"
          ]
        }
      ]
    },
    {
      "cell_type": "code",
      "execution_count": 7,
      "metadata": {
        "id": "fIpCyiTI76Ky"
      },
      "outputs": [],
      "source": [
        "article_df = pd.read_csv('hmdata/articles.csv.zip')\n",
        "customer_df = pd.read_csv('hmdata/customers.csv.zip')\n",
        "transaction_df =pd.read_csv('hmdata/transactions_train.csv.zip')\n"
      ]
    },
    {
      "cell_type": "code",
      "execution_count": 8,
      "metadata": {
        "id": "SLdq3_5o76Kz"
      },
      "outputs": [],
      "source": [
        "article_df = article_df.drop_duplicates(subset=['article_id','product_group_name','colour_group_name','section_name'])\n",
        "customer_df = customer_df.drop_duplicates(subset=['customer_id','age'])\n",
        "transaction_df = transaction_df.drop_duplicates(subset=['customer_id','price'])\n",
        "train0 = transaction_df"
      ]
    },
    {
      "cell_type": "code",
      "execution_count": 9,
      "metadata": {
        "id": "O7Hf4e1A76K0"
      },
      "outputs": [],
      "source": [
        "N_CUSTOMERS = 80000\n",
        "N_DAYS_TRAIN = 90\n",
        "N_DAYS_TEST = 15\n",
        "\n",
        "train0['t_dat']= pd.to_datetime(train0['t_dat'])\n",
        "max_date = train0['t_dat'].max()\n",
        "train_start = max_date - timedelta(days=N_DAYS_TRAIN)\n",
        "train_end = max_date - timedelta(days=N_DAYS_TEST)"
      ]
    },
    {
      "cell_type": "code",
      "execution_count": 10,
      "metadata": {
        "id": "ZAEHEMIi76K0"
      },
      "outputs": [],
      "source": [
        "small_customer_set = customer_df[customer_df.customer_id.isin(customer_df.customer_id.sample(N_CUSTOMERS, random_state=0))].reset_index(drop=True)\n",
        "small_transaction_set = transaction_df[transaction_df.customer_id.isin(small_customer_set.customer_id)].copy().reset_index(drop=True)\n",
        "small_article_set = article_df[article_df.article_id.isin(small_transaction_set.article_id)].copy().reset_index(drop=True)"
      ]
    },
    {
      "cell_type": "code",
      "execution_count": 11,
      "metadata": {
        "id": "OXHh1t-D76K1"
      },
      "outputs": [],
      "source": [
        "train0 = small_transaction_set"
      ]
    },
    {
      "cell_type": "code",
      "execution_count": 12,
      "metadata": {
        "id": "CTM-kwyH76K1",
        "outputId": "4944cfcf-e078-42ca-c5ee-73678886f6fc",
        "colab": {
          "base_uri": "https://localhost:8080/"
        }
      },
      "outputs": [
        {
          "output_type": "stream",
          "name": "stdout",
          "text": [
            " Shape of train0: (794595, 5)\n",
            " Shape of small_customer_set: (80000, 7)\n",
            " Shape of small_transaction_set: (794595, 5)\n",
            " Shape of small_article_set: (69698, 25)\n"
          ]
        }
      ],
      "source": [
        "print(f' Shape of train0: {train0.shape}')\n",
        "print(f' Shape of small_customer_set: {small_customer_set.shape}')\n",
        "print(f' Shape of small_transaction_set: {small_transaction_set.shape}')\n",
        "print(f' Shape of small_article_set: {small_article_set.shape}')"
      ]
    },
    {
      "cell_type": "markdown",
      "metadata": {
        "id": "P3d46OO876K2"
      },
      "source": [
        "#### Split the data into training and testing sets\n"
      ]
    },
    {
      "cell_type": "code",
      "execution_count": 13,
      "metadata": {
        "id": "GPKzU3wV76K3",
        "outputId": "1b236add-c6c8-487d-b6ae-da798651b31a",
        "colab": {
          "base_uri": "https://localhost:8080/"
        }
      },
      "outputs": [
        {
          "output_type": "execute_result",
          "data": {
            "text/plain": [
              "((63666, 5), (9032, 5))"
            ]
          },
          "metadata": {},
          "execution_count": 13
        }
      ],
      "source": [
        "train = train0[(train0['t_dat']>=train_start) & (train0['t_dat']<=train_end)]\n",
        "test = train0[(train0['t_dat']>train_end)]\n",
        "train.shape, test.shape"
      ]
    },
    {
      "cell_type": "code",
      "execution_count": 14,
      "metadata": {
        "id": "uufNj09f76K4"
      },
      "outputs": [],
      "source": [
        "train = train.merge(small_article_set, on='article_id', how='left')\n",
        "test = test.merge(small_article_set, on='article_id', how='left')"
      ]
    },
    {
      "cell_type": "code",
      "execution_count": 15,
      "metadata": {
        "id": "VpkokNfm76K5",
        "outputId": "eabab2d5-e7fe-4b35-e532-4f0831d4e6e2",
        "colab": {
          "base_uri": "https://localhost:8080/"
        }
      },
      "outputs": [
        {
          "output_type": "execute_result",
          "data": {
            "text/plain": [
              "Index(['t_dat', 'customer_id', 'article_id', 'price', 'sales_channel_id',\n",
              "       'product_code', 'prod_name', 'product_type_no', 'product_type_name',\n",
              "       'product_group_name', 'graphical_appearance_no',\n",
              "       'graphical_appearance_name', 'colour_group_code', 'colour_group_name',\n",
              "       'perceived_colour_value_id', 'perceived_colour_value_name',\n",
              "       'perceived_colour_master_id', 'perceived_colour_master_name',\n",
              "       'department_no', 'department_name', 'index_code', 'index_name',\n",
              "       'index_group_no', 'index_group_name', 'section_no', 'section_name',\n",
              "       'garment_group_no', 'garment_group_name', 'detail_desc'],\n",
              "      dtype='object')"
            ]
          },
          "metadata": {},
          "execution_count": 15
        }
      ],
      "source": [
        "train.columns"
      ]
    },
    {
      "cell_type": "code",
      "execution_count": 16,
      "metadata": {
        "id": "bMpWc6Fc76K5"
      },
      "outputs": [],
      "source": [
        "train= train[['t_dat','customer_id','article_id','price','product_group_name','colour_group_name','section_name']]\n",
        "test = test[['t_dat','customer_id','article_id','price','product_group_name','colour_group_name','section_name']]"
      ]
    },
    {
      "cell_type": "code",
      "execution_count": 17,
      "metadata": {
        "id": "M5YSUqNO76K5"
      },
      "outputs": [],
      "source": [
        "def is_popular(train):\n",
        "    f2= train.groupby(['section_name','article_id'], as_index=False).size()\n",
        "    f2['rank'] = f2.groupby(['section_name'])['size'].rank(method='dense', ascending=False)\n",
        "    f2['mean_rank']= f2.groupby(['section_name'])['rank'].transform(lambda x: x.mean())\n",
        "    f2['is_popular'] = f2.apply(lambda x: 1 if x['rank']< x['mean_rank'] else 0, axis=1)\n",
        "    return f2[['article_id','is_popular','section_name']].reset_index(drop=True)\n",
        "\n",
        "popular = is_popular(train)"
      ]
    },
    {
      "cell_type": "code",
      "execution_count": 18,
      "metadata": {
        "id": "klpBHJUF76K6"
      },
      "outputs": [],
      "source": [
        "popular = is_popular(train)"
      ]
    },
    {
      "cell_type": "code",
      "execution_count": 19,
      "metadata": {
        "id": "LN5pobdn76K6"
      },
      "outputs": [],
      "source": [
        "train = train.merge(popular, on='article_id', how='left', copy=False)\n",
        "test = test.merge(popular, on='article_id', how='left', copy=False)\n",
        "test = test.drop(['section_name_y'], axis=1)\n",
        "test = test.rename(columns={'section_name_x':'section_name'})\n",
        "test = test.fillna(0)\n",
        "train = train.drop(['section_name_y'], axis=1)\n",
        "train = train.rename(columns={'section_name_x':'section_name'})\n"
      ]
    },
    {
      "cell_type": "code",
      "execution_count": 20,
      "metadata": {
        "id": "iSDl1Gt-76K7",
        "outputId": "99b42dff-5822-47af-dc0b-9b7775a94654",
        "colab": {
          "base_uri": "https://localhost:8080/",
          "height": 112
        }
      },
      "outputs": [
        {
          "output_type": "execute_result",
          "data": {
            "text/plain": [
              "       t_dat                                        customer_id  article_id  \\\n",
              "0 2020-09-08  0155a6f04954055d0e916831ebabf8948b8e7edc30e0e3...   855507001   \n",
              "1 2020-09-08  0155a6f04954055d0e916831ebabf8948b8e7edc30e0e3...   717490008   \n",
              "\n",
              "      price  product_group_name colour_group_name              section_name  \\\n",
              "0  0.009136               Items              Pink  Womens Small accessories   \n",
              "1  0.007610  Garment Upper body              Pink            Divided Basics   \n",
              "\n",
              "   is_popular  \n",
              "0         1.0  \n",
              "1         1.0  "
            ],
            "text/html": [
              "\n",
              "  <div id=\"df-1b2b5912-5c6c-402c-a20b-3d8f978f4af3\">\n",
              "    <div class=\"colab-df-container\">\n",
              "      <div>\n",
              "<style scoped>\n",
              "    .dataframe tbody tr th:only-of-type {\n",
              "        vertical-align: middle;\n",
              "    }\n",
              "\n",
              "    .dataframe tbody tr th {\n",
              "        vertical-align: top;\n",
              "    }\n",
              "\n",
              "    .dataframe thead th {\n",
              "        text-align: right;\n",
              "    }\n",
              "</style>\n",
              "<table border=\"1\" class=\"dataframe\">\n",
              "  <thead>\n",
              "    <tr style=\"text-align: right;\">\n",
              "      <th></th>\n",
              "      <th>t_dat</th>\n",
              "      <th>customer_id</th>\n",
              "      <th>article_id</th>\n",
              "      <th>price</th>\n",
              "      <th>product_group_name</th>\n",
              "      <th>colour_group_name</th>\n",
              "      <th>section_name</th>\n",
              "      <th>is_popular</th>\n",
              "    </tr>\n",
              "  </thead>\n",
              "  <tbody>\n",
              "    <tr>\n",
              "      <th>0</th>\n",
              "      <td>2020-09-08</td>\n",
              "      <td>0155a6f04954055d0e916831ebabf8948b8e7edc30e0e3...</td>\n",
              "      <td>855507001</td>\n",
              "      <td>0.009136</td>\n",
              "      <td>Items</td>\n",
              "      <td>Pink</td>\n",
              "      <td>Womens Small accessories</td>\n",
              "      <td>1.0</td>\n",
              "    </tr>\n",
              "    <tr>\n",
              "      <th>1</th>\n",
              "      <td>2020-09-08</td>\n",
              "      <td>0155a6f04954055d0e916831ebabf8948b8e7edc30e0e3...</td>\n",
              "      <td>717490008</td>\n",
              "      <td>0.007610</td>\n",
              "      <td>Garment Upper body</td>\n",
              "      <td>Pink</td>\n",
              "      <td>Divided Basics</td>\n",
              "      <td>1.0</td>\n",
              "    </tr>\n",
              "  </tbody>\n",
              "</table>\n",
              "</div>\n",
              "      <button class=\"colab-df-convert\" onclick=\"convertToInteractive('df-1b2b5912-5c6c-402c-a20b-3d8f978f4af3')\"\n",
              "              title=\"Convert this dataframe to an interactive table.\"\n",
              "              style=\"display:none;\">\n",
              "        \n",
              "  <svg xmlns=\"http://www.w3.org/2000/svg\" height=\"24px\"viewBox=\"0 0 24 24\"\n",
              "       width=\"24px\">\n",
              "    <path d=\"M0 0h24v24H0V0z\" fill=\"none\"/>\n",
              "    <path d=\"M18.56 5.44l.94 2.06.94-2.06 2.06-.94-2.06-.94-.94-2.06-.94 2.06-2.06.94zm-11 1L8.5 8.5l.94-2.06 2.06-.94-2.06-.94L8.5 2.5l-.94 2.06-2.06.94zm10 10l.94 2.06.94-2.06 2.06-.94-2.06-.94-.94-2.06-.94 2.06-2.06.94z\"/><path d=\"M17.41 7.96l-1.37-1.37c-.4-.4-.92-.59-1.43-.59-.52 0-1.04.2-1.43.59L10.3 9.45l-7.72 7.72c-.78.78-.78 2.05 0 2.83L4 21.41c.39.39.9.59 1.41.59.51 0 1.02-.2 1.41-.59l7.78-7.78 2.81-2.81c.8-.78.8-2.07 0-2.86zM5.41 20L4 18.59l7.72-7.72 1.47 1.35L5.41 20z\"/>\n",
              "  </svg>\n",
              "      </button>\n",
              "      \n",
              "  <style>\n",
              "    .colab-df-container {\n",
              "      display:flex;\n",
              "      flex-wrap:wrap;\n",
              "      gap: 12px;\n",
              "    }\n",
              "\n",
              "    .colab-df-convert {\n",
              "      background-color: #E8F0FE;\n",
              "      border: none;\n",
              "      border-radius: 50%;\n",
              "      cursor: pointer;\n",
              "      display: none;\n",
              "      fill: #1967D2;\n",
              "      height: 32px;\n",
              "      padding: 0 0 0 0;\n",
              "      width: 32px;\n",
              "    }\n",
              "\n",
              "    .colab-df-convert:hover {\n",
              "      background-color: #E2EBFA;\n",
              "      box-shadow: 0px 1px 2px rgba(60, 64, 67, 0.3), 0px 1px 3px 1px rgba(60, 64, 67, 0.15);\n",
              "      fill: #174EA6;\n",
              "    }\n",
              "\n",
              "    [theme=dark] .colab-df-convert {\n",
              "      background-color: #3B4455;\n",
              "      fill: #D2E3FC;\n",
              "    }\n",
              "\n",
              "    [theme=dark] .colab-df-convert:hover {\n",
              "      background-color: #434B5C;\n",
              "      box-shadow: 0px 1px 3px 1px rgba(0, 0, 0, 0.15);\n",
              "      filter: drop-shadow(0px 1px 2px rgba(0, 0, 0, 0.3));\n",
              "      fill: #FFFFFF;\n",
              "    }\n",
              "  </style>\n",
              "\n",
              "      <script>\n",
              "        const buttonEl =\n",
              "          document.querySelector('#df-1b2b5912-5c6c-402c-a20b-3d8f978f4af3 button.colab-df-convert');\n",
              "        buttonEl.style.display =\n",
              "          google.colab.kernel.accessAllowed ? 'block' : 'none';\n",
              "\n",
              "        async function convertToInteractive(key) {\n",
              "          const element = document.querySelector('#df-1b2b5912-5c6c-402c-a20b-3d8f978f4af3');\n",
              "          const dataTable =\n",
              "            await google.colab.kernel.invokeFunction('convertToInteractive',\n",
              "                                                     [key], {});\n",
              "          if (!dataTable) return;\n",
              "\n",
              "          const docLinkHtml = 'Like what you see? Visit the ' +\n",
              "            '<a target=\"_blank\" href=https://colab.research.google.com/notebooks/data_table.ipynb>data table notebook</a>'\n",
              "            + ' to learn more about interactive tables.';\n",
              "          element.innerHTML = '';\n",
              "          dataTable['output_type'] = 'display_data';\n",
              "          await google.colab.output.renderOutput(dataTable, element);\n",
              "          const docLink = document.createElement('div');\n",
              "          docLink.innerHTML = docLinkHtml;\n",
              "          element.appendChild(docLink);\n",
              "        }\n",
              "      </script>\n",
              "    </div>\n",
              "  </div>\n",
              "  "
            ]
          },
          "metadata": {},
          "execution_count": 20
        }
      ],
      "source": [
        "test.head(2)"
      ]
    },
    {
      "cell_type": "code",
      "execution_count": 21,
      "metadata": {
        "id": "0l-6CNAa76K7",
        "outputId": "2fa02f46-5dfa-4268-acf5-9bcf2d00b4f3",
        "colab": {
          "base_uri": "https://localhost:8080/"
        }
      },
      "outputs": [
        {
          "output_type": "execute_result",
          "data": {
            "text/plain": [
              "0.0    4969\n",
              "1.0    4063\n",
              "Name: is_popular, dtype: int64"
            ]
          },
          "metadata": {},
          "execution_count": 21
        }
      ],
      "source": [
        "test.is_popular.value_counts()"
      ]
    },
    {
      "cell_type": "markdown",
      "metadata": {
        "id": "Nsb7iuVZ76K7"
      },
      "source": [
        "#### Numeric Features"
      ]
    },
    {
      "cell_type": "code",
      "execution_count": 22,
      "metadata": {
        "id": "ITQ1xx8G76K7"
      },
      "outputs": [],
      "source": [
        "def numeric_features(train):\n",
        "    f11 = train.groupby(\"customer_id\", as_index=False).article_id.nunique() #unique articles\n",
        "    f21 = train.groupby(\"customer_id\", as_index=False).t_dat.nunique() #days active\n",
        "    f31 = train.groupby(\"customer_id\", as_index=False).size() #total purchases\n",
        "    f51 = train.groupby(\"customer_id\", as_index=False).section_name.nunique() #num unique section_name\n",
        "\n",
        "    data_frames = [f11,f21,f31,f51]\n",
        "    customer_features_agg_df = reduce(lambda  left,right: pd.merge(left, right, on=['customer_id'], how='outer'), data_frames)\n",
        "    customer_features_agg_df.columns = ['customer_id', 'nArticles', 'nDays', 'nPurchases', 'nSect']\n",
        "    return customer_features_agg_df.reset_index(drop=True)\n",
        "\n",
        "\n",
        "numeric_features_by_user = numeric_features(train)"
      ]
    },
    {
      "cell_type": "markdown",
      "metadata": {
        "id": "aPGWDGzW76K8"
      },
      "source": [
        "#### Age Interval"
      ]
    },
    {
      "cell_type": "code",
      "execution_count": 23,
      "metadata": {
        "id": "u-T_wJ3P76K8"
      },
      "outputs": [],
      "source": [
        "def create_age_interval(x):\n",
        "    if x <= 20:\n",
        "        return \"Teenaage\"\n",
        "    elif x <= 35:\n",
        "        return \"Working Age\"\n",
        "    elif x <= 55:\n",
        "        return  \"Middle Age\"\n",
        "    else:\n",
        "        return  \"Senior Age\"\n",
        "\n",
        "\n",
        "# Set missing values in age with the median\n",
        "small_customer_set[\"age\"].fillna(small_customer_set[\"age\"].median(), inplace=True)\n",
        "small_customer_set[\"age_interval\"] = small_customer_set[\"age\"].apply(lambda x: create_age_interval(x))\n",
        "small_customer_set_reduced= small_customer_set.drop(columns=['age','FN','Active','club_member_status','fashion_news_frequency','postal_code']).reset_index(drop=True)\n"
      ]
    },
    {
      "cell_type": "code",
      "execution_count": 24,
      "metadata": {
        "id": "OPG2Av3V76K8"
      },
      "outputs": [],
      "source": [
        "data_frames = [numeric_features_by_user , small_customer_set_reduced]\n",
        "customer_features_agg_df = reduce(lambda  left,right: pd.merge(left, right, on=['customer_id'], how='outer'), data_frames)\n",
        "customer_features_agg_df.columns = ['customer_id', 'nArticles', 'nDays', 'nPurchases', 'nSect', 'age_interval']"
      ]
    },
    {
      "cell_type": "code",
      "execution_count": 25,
      "metadata": {
        "id": "DqU0dOcv76K9"
      },
      "outputs": [],
      "source": [
        "train = train.merge(customer_features_agg_df, on='customer_id', how='left')\n",
        "test = test.merge(customer_features_agg_df, on='customer_id', how='left')\n",
        "test = test.dropna()"
      ]
    },
    {
      "cell_type": "code",
      "execution_count": 26,
      "metadata": {
        "id": "1kXv5tOu76K9",
        "outputId": "465addaf-e7bd-4eb4-dd6d-4cc57f201a06",
        "colab": {
          "base_uri": "https://localhost:8080/",
          "height": 0
        }
      },
      "outputs": [
        {
          "output_type": "execute_result",
          "data": {
            "text/plain": [
              "       t_dat                                        customer_id  article_id  \\\n",
              "0 2020-06-24  0076383b0cb65133fab3ff5ece40994b8acc055ddb5d18...   826508002   \n",
              "1 2020-06-24  0076383b0cb65133fab3ff5ece40994b8acc055ddb5d18...   826508003   \n",
              "\n",
              "      price  product_group_name colour_group_name      section_name  \\\n",
              "0  0.016932  Garment Upper body             White  Womens Tailoring   \n",
              "1  0.012695  Garment Upper body         Dark Blue  Womens Tailoring   \n",
              "\n",
              "   is_popular  nArticles  nDays  nPurchases  nSect age_interval  \n",
              "0           1        3.0    2.0         3.0    2.0   Middle Age  \n",
              "1           1        3.0    2.0         3.0    2.0   Middle Age  "
            ],
            "text/html": [
              "\n",
              "  <div id=\"df-65eb499a-a4fd-43cf-b0c5-22c32f8cf6d5\">\n",
              "    <div class=\"colab-df-container\">\n",
              "      <div>\n",
              "<style scoped>\n",
              "    .dataframe tbody tr th:only-of-type {\n",
              "        vertical-align: middle;\n",
              "    }\n",
              "\n",
              "    .dataframe tbody tr th {\n",
              "        vertical-align: top;\n",
              "    }\n",
              "\n",
              "    .dataframe thead th {\n",
              "        text-align: right;\n",
              "    }\n",
              "</style>\n",
              "<table border=\"1\" class=\"dataframe\">\n",
              "  <thead>\n",
              "    <tr style=\"text-align: right;\">\n",
              "      <th></th>\n",
              "      <th>t_dat</th>\n",
              "      <th>customer_id</th>\n",
              "      <th>article_id</th>\n",
              "      <th>price</th>\n",
              "      <th>product_group_name</th>\n",
              "      <th>colour_group_name</th>\n",
              "      <th>section_name</th>\n",
              "      <th>is_popular</th>\n",
              "      <th>nArticles</th>\n",
              "      <th>nDays</th>\n",
              "      <th>nPurchases</th>\n",
              "      <th>nSect</th>\n",
              "      <th>age_interval</th>\n",
              "    </tr>\n",
              "  </thead>\n",
              "  <tbody>\n",
              "    <tr>\n",
              "      <th>0</th>\n",
              "      <td>2020-06-24</td>\n",
              "      <td>0076383b0cb65133fab3ff5ece40994b8acc055ddb5d18...</td>\n",
              "      <td>826508002</td>\n",
              "      <td>0.016932</td>\n",
              "      <td>Garment Upper body</td>\n",
              "      <td>White</td>\n",
              "      <td>Womens Tailoring</td>\n",
              "      <td>1</td>\n",
              "      <td>3.0</td>\n",
              "      <td>2.0</td>\n",
              "      <td>3.0</td>\n",
              "      <td>2.0</td>\n",
              "      <td>Middle Age</td>\n",
              "    </tr>\n",
              "    <tr>\n",
              "      <th>1</th>\n",
              "      <td>2020-06-24</td>\n",
              "      <td>0076383b0cb65133fab3ff5ece40994b8acc055ddb5d18...</td>\n",
              "      <td>826508003</td>\n",
              "      <td>0.012695</td>\n",
              "      <td>Garment Upper body</td>\n",
              "      <td>Dark Blue</td>\n",
              "      <td>Womens Tailoring</td>\n",
              "      <td>1</td>\n",
              "      <td>3.0</td>\n",
              "      <td>2.0</td>\n",
              "      <td>3.0</td>\n",
              "      <td>2.0</td>\n",
              "      <td>Middle Age</td>\n",
              "    </tr>\n",
              "  </tbody>\n",
              "</table>\n",
              "</div>\n",
              "      <button class=\"colab-df-convert\" onclick=\"convertToInteractive('df-65eb499a-a4fd-43cf-b0c5-22c32f8cf6d5')\"\n",
              "              title=\"Convert this dataframe to an interactive table.\"\n",
              "              style=\"display:none;\">\n",
              "        \n",
              "  <svg xmlns=\"http://www.w3.org/2000/svg\" height=\"24px\"viewBox=\"0 0 24 24\"\n",
              "       width=\"24px\">\n",
              "    <path d=\"M0 0h24v24H0V0z\" fill=\"none\"/>\n",
              "    <path d=\"M18.56 5.44l.94 2.06.94-2.06 2.06-.94-2.06-.94-.94-2.06-.94 2.06-2.06.94zm-11 1L8.5 8.5l.94-2.06 2.06-.94-2.06-.94L8.5 2.5l-.94 2.06-2.06.94zm10 10l.94 2.06.94-2.06 2.06-.94-2.06-.94-.94-2.06-.94 2.06-2.06.94z\"/><path d=\"M17.41 7.96l-1.37-1.37c-.4-.4-.92-.59-1.43-.59-.52 0-1.04.2-1.43.59L10.3 9.45l-7.72 7.72c-.78.78-.78 2.05 0 2.83L4 21.41c.39.39.9.59 1.41.59.51 0 1.02-.2 1.41-.59l7.78-7.78 2.81-2.81c.8-.78.8-2.07 0-2.86zM5.41 20L4 18.59l7.72-7.72 1.47 1.35L5.41 20z\"/>\n",
              "  </svg>\n",
              "      </button>\n",
              "      \n",
              "  <style>\n",
              "    .colab-df-container {\n",
              "      display:flex;\n",
              "      flex-wrap:wrap;\n",
              "      gap: 12px;\n",
              "    }\n",
              "\n",
              "    .colab-df-convert {\n",
              "      background-color: #E8F0FE;\n",
              "      border: none;\n",
              "      border-radius: 50%;\n",
              "      cursor: pointer;\n",
              "      display: none;\n",
              "      fill: #1967D2;\n",
              "      height: 32px;\n",
              "      padding: 0 0 0 0;\n",
              "      width: 32px;\n",
              "    }\n",
              "\n",
              "    .colab-df-convert:hover {\n",
              "      background-color: #E2EBFA;\n",
              "      box-shadow: 0px 1px 2px rgba(60, 64, 67, 0.3), 0px 1px 3px 1px rgba(60, 64, 67, 0.15);\n",
              "      fill: #174EA6;\n",
              "    }\n",
              "\n",
              "    [theme=dark] .colab-df-convert {\n",
              "      background-color: #3B4455;\n",
              "      fill: #D2E3FC;\n",
              "    }\n",
              "\n",
              "    [theme=dark] .colab-df-convert:hover {\n",
              "      background-color: #434B5C;\n",
              "      box-shadow: 0px 1px 3px 1px rgba(0, 0, 0, 0.15);\n",
              "      filter: drop-shadow(0px 1px 2px rgba(0, 0, 0, 0.3));\n",
              "      fill: #FFFFFF;\n",
              "    }\n",
              "  </style>\n",
              "\n",
              "      <script>\n",
              "        const buttonEl =\n",
              "          document.querySelector('#df-65eb499a-a4fd-43cf-b0c5-22c32f8cf6d5 button.colab-df-convert');\n",
              "        buttonEl.style.display =\n",
              "          google.colab.kernel.accessAllowed ? 'block' : 'none';\n",
              "\n",
              "        async function convertToInteractive(key) {\n",
              "          const element = document.querySelector('#df-65eb499a-a4fd-43cf-b0c5-22c32f8cf6d5');\n",
              "          const dataTable =\n",
              "            await google.colab.kernel.invokeFunction('convertToInteractive',\n",
              "                                                     [key], {});\n",
              "          if (!dataTable) return;\n",
              "\n",
              "          const docLinkHtml = 'Like what you see? Visit the ' +\n",
              "            '<a target=\"_blank\" href=https://colab.research.google.com/notebooks/data_table.ipynb>data table notebook</a>'\n",
              "            + ' to learn more about interactive tables.';\n",
              "          element.innerHTML = '';\n",
              "          dataTable['output_type'] = 'display_data';\n",
              "          await google.colab.output.renderOutput(dataTable, element);\n",
              "          const docLink = document.createElement('div');\n",
              "          docLink.innerHTML = docLinkHtml;\n",
              "          element.appendChild(docLink);\n",
              "        }\n",
              "      </script>\n",
              "    </div>\n",
              "  </div>\n",
              "  "
            ]
          },
          "metadata": {},
          "execution_count": 26
        }
      ],
      "source": [
        "train.head(2)"
      ]
    },
    {
      "cell_type": "code",
      "execution_count": 27,
      "metadata": {
        "id": "QaYNOS_076K9",
        "outputId": "dac672ae-75fd-4f1f-b9e2-ff34011e993f",
        "colab": {
          "base_uri": "https://localhost:8080/"
        }
      },
      "outputs": [
        {
          "output_type": "execute_result",
          "data": {
            "text/plain": [
              "t_dat                 0\n",
              "customer_id           0\n",
              "article_id            0\n",
              "price                 0\n",
              "product_group_name    0\n",
              "colour_group_name     0\n",
              "section_name          0\n",
              "is_popular            0\n",
              "nArticles             0\n",
              "nDays                 0\n",
              "nPurchases            0\n",
              "nSect                 0\n",
              "age_interval          0\n",
              "dtype: int64"
            ]
          },
          "metadata": {},
          "execution_count": 27
        }
      ],
      "source": [
        "test.isnull().sum()"
      ]
    },
    {
      "cell_type": "code",
      "execution_count": 28,
      "metadata": {
        "id": "lEZWOs6h76K9",
        "outputId": "4e4ea195-c1f1-4317-da36-c4a527e3e4d2",
        "colab": {
          "base_uri": "https://localhost:8080/"
        }
      },
      "outputs": [
        {
          "output_type": "execute_result",
          "data": {
            "text/plain": [
              "(4096, 13)"
            ]
          },
          "metadata": {},
          "execution_count": 28
        }
      ],
      "source": [
        "test.shape"
      ]
    },
    {
      "cell_type": "code",
      "execution_count": 29,
      "metadata": {
        "id": "dfeaE29876K-",
        "outputId": "b8bd3d9e-5481-4974-d4af-9c6a1cf3876c",
        "colab": {
          "base_uri": "https://localhost:8080/",
          "height": 0
        }
      },
      "outputs": [
        {
          "output_type": "execute_result",
          "data": {
            "text/plain": [
              "        t_dat                                        customer_id  article_id  \\\n",
              "11 2020-09-08  05e0a597465504e1e73bef0b9253cdc6129c8299cb245d...   762846027   \n",
              "12 2020-09-08  05e0a597465504e1e73bef0b9253cdc6129c8299cb245d...   797608001   \n",
              "\n",
              "       price  product_group_name colour_group_name         section_name  \\\n",
              "11  0.023932  Garment Upper body             Beige     Womens Tailoring   \n",
              "12  0.038305  Garment Upper body            Yellow  Special Collections   \n",
              "\n",
              "    is_popular  nArticles  nDays  nPurchases  nSect age_interval  \n",
              "11         0.0        4.0    2.0         4.0    4.0   Middle Age  \n",
              "12         0.0        4.0    2.0         4.0    4.0   Middle Age  "
            ],
            "text/html": [
              "\n",
              "  <div id=\"df-7e0a9b31-ccb5-40a6-9fdf-ef2444ea55cb\">\n",
              "    <div class=\"colab-df-container\">\n",
              "      <div>\n",
              "<style scoped>\n",
              "    .dataframe tbody tr th:only-of-type {\n",
              "        vertical-align: middle;\n",
              "    }\n",
              "\n",
              "    .dataframe tbody tr th {\n",
              "        vertical-align: top;\n",
              "    }\n",
              "\n",
              "    .dataframe thead th {\n",
              "        text-align: right;\n",
              "    }\n",
              "</style>\n",
              "<table border=\"1\" class=\"dataframe\">\n",
              "  <thead>\n",
              "    <tr style=\"text-align: right;\">\n",
              "      <th></th>\n",
              "      <th>t_dat</th>\n",
              "      <th>customer_id</th>\n",
              "      <th>article_id</th>\n",
              "      <th>price</th>\n",
              "      <th>product_group_name</th>\n",
              "      <th>colour_group_name</th>\n",
              "      <th>section_name</th>\n",
              "      <th>is_popular</th>\n",
              "      <th>nArticles</th>\n",
              "      <th>nDays</th>\n",
              "      <th>nPurchases</th>\n",
              "      <th>nSect</th>\n",
              "      <th>age_interval</th>\n",
              "    </tr>\n",
              "  </thead>\n",
              "  <tbody>\n",
              "    <tr>\n",
              "      <th>11</th>\n",
              "      <td>2020-09-08</td>\n",
              "      <td>05e0a597465504e1e73bef0b9253cdc6129c8299cb245d...</td>\n",
              "      <td>762846027</td>\n",
              "      <td>0.023932</td>\n",
              "      <td>Garment Upper body</td>\n",
              "      <td>Beige</td>\n",
              "      <td>Womens Tailoring</td>\n",
              "      <td>0.0</td>\n",
              "      <td>4.0</td>\n",
              "      <td>2.0</td>\n",
              "      <td>4.0</td>\n",
              "      <td>4.0</td>\n",
              "      <td>Middle Age</td>\n",
              "    </tr>\n",
              "    <tr>\n",
              "      <th>12</th>\n",
              "      <td>2020-09-08</td>\n",
              "      <td>05e0a597465504e1e73bef0b9253cdc6129c8299cb245d...</td>\n",
              "      <td>797608001</td>\n",
              "      <td>0.038305</td>\n",
              "      <td>Garment Upper body</td>\n",
              "      <td>Yellow</td>\n",
              "      <td>Special Collections</td>\n",
              "      <td>0.0</td>\n",
              "      <td>4.0</td>\n",
              "      <td>2.0</td>\n",
              "      <td>4.0</td>\n",
              "      <td>4.0</td>\n",
              "      <td>Middle Age</td>\n",
              "    </tr>\n",
              "  </tbody>\n",
              "</table>\n",
              "</div>\n",
              "      <button class=\"colab-df-convert\" onclick=\"convertToInteractive('df-7e0a9b31-ccb5-40a6-9fdf-ef2444ea55cb')\"\n",
              "              title=\"Convert this dataframe to an interactive table.\"\n",
              "              style=\"display:none;\">\n",
              "        \n",
              "  <svg xmlns=\"http://www.w3.org/2000/svg\" height=\"24px\"viewBox=\"0 0 24 24\"\n",
              "       width=\"24px\">\n",
              "    <path d=\"M0 0h24v24H0V0z\" fill=\"none\"/>\n",
              "    <path d=\"M18.56 5.44l.94 2.06.94-2.06 2.06-.94-2.06-.94-.94-2.06-.94 2.06-2.06.94zm-11 1L8.5 8.5l.94-2.06 2.06-.94-2.06-.94L8.5 2.5l-.94 2.06-2.06.94zm10 10l.94 2.06.94-2.06 2.06-.94-2.06-.94-.94-2.06-.94 2.06-2.06.94z\"/><path d=\"M17.41 7.96l-1.37-1.37c-.4-.4-.92-.59-1.43-.59-.52 0-1.04.2-1.43.59L10.3 9.45l-7.72 7.72c-.78.78-.78 2.05 0 2.83L4 21.41c.39.39.9.59 1.41.59.51 0 1.02-.2 1.41-.59l7.78-7.78 2.81-2.81c.8-.78.8-2.07 0-2.86zM5.41 20L4 18.59l7.72-7.72 1.47 1.35L5.41 20z\"/>\n",
              "  </svg>\n",
              "      </button>\n",
              "      \n",
              "  <style>\n",
              "    .colab-df-container {\n",
              "      display:flex;\n",
              "      flex-wrap:wrap;\n",
              "      gap: 12px;\n",
              "    }\n",
              "\n",
              "    .colab-df-convert {\n",
              "      background-color: #E8F0FE;\n",
              "      border: none;\n",
              "      border-radius: 50%;\n",
              "      cursor: pointer;\n",
              "      display: none;\n",
              "      fill: #1967D2;\n",
              "      height: 32px;\n",
              "      padding: 0 0 0 0;\n",
              "      width: 32px;\n",
              "    }\n",
              "\n",
              "    .colab-df-convert:hover {\n",
              "      background-color: #E2EBFA;\n",
              "      box-shadow: 0px 1px 2px rgba(60, 64, 67, 0.3), 0px 1px 3px 1px rgba(60, 64, 67, 0.15);\n",
              "      fill: #174EA6;\n",
              "    }\n",
              "\n",
              "    [theme=dark] .colab-df-convert {\n",
              "      background-color: #3B4455;\n",
              "      fill: #D2E3FC;\n",
              "    }\n",
              "\n",
              "    [theme=dark] .colab-df-convert:hover {\n",
              "      background-color: #434B5C;\n",
              "      box-shadow: 0px 1px 3px 1px rgba(0, 0, 0, 0.15);\n",
              "      filter: drop-shadow(0px 1px 2px rgba(0, 0, 0, 0.3));\n",
              "      fill: #FFFFFF;\n",
              "    }\n",
              "  </style>\n",
              "\n",
              "      <script>\n",
              "        const buttonEl =\n",
              "          document.querySelector('#df-7e0a9b31-ccb5-40a6-9fdf-ef2444ea55cb button.colab-df-convert');\n",
              "        buttonEl.style.display =\n",
              "          google.colab.kernel.accessAllowed ? 'block' : 'none';\n",
              "\n",
              "        async function convertToInteractive(key) {\n",
              "          const element = document.querySelector('#df-7e0a9b31-ccb5-40a6-9fdf-ef2444ea55cb');\n",
              "          const dataTable =\n",
              "            await google.colab.kernel.invokeFunction('convertToInteractive',\n",
              "                                                     [key], {});\n",
              "          if (!dataTable) return;\n",
              "\n",
              "          const docLinkHtml = 'Like what you see? Visit the ' +\n",
              "            '<a target=\"_blank\" href=https://colab.research.google.com/notebooks/data_table.ipynb>data table notebook</a>'\n",
              "            + ' to learn more about interactive tables.';\n",
              "          element.innerHTML = '';\n",
              "          dataTable['output_type'] = 'display_data';\n",
              "          await google.colab.output.renderOutput(dataTable, element);\n",
              "          const docLink = document.createElement('div');\n",
              "          docLink.innerHTML = docLinkHtml;\n",
              "          element.appendChild(docLink);\n",
              "        }\n",
              "      </script>\n",
              "    </div>\n",
              "  </div>\n",
              "  "
            ]
          },
          "metadata": {},
          "execution_count": 29
        }
      ],
      "source": [
        "test.head(2)"
      ]
    },
    {
      "cell_type": "code",
      "execution_count": 30,
      "metadata": {
        "id": "6sTWnH6g76K-",
        "outputId": "06d121c2-dad4-4799-bfc5-5c100d4e50a0",
        "colab": {
          "base_uri": "https://localhost:8080/"
        }
      },
      "outputs": [
        {
          "output_type": "execute_result",
          "data": {
            "text/plain": [
              "((7368, 13), (4096, 13), 2204, 2204)"
            ]
          },
          "metadata": {},
          "execution_count": 30
        }
      ],
      "source": [
        "# Use 40k customers from train only so we can quickly test our methods\n",
        "CUSTOMER_IDS = set(train['customer_id'].unique()) & set(test['customer_id'].unique())\n",
        "train = train[train['customer_id'].isin(CUSTOMER_IDS)].reset_index(drop=True)\n",
        "test = test[test['customer_id'].isin(CUSTOMER_IDS)].reset_index(drop=True)\n",
        "\n",
        "train.shape, test.shape, train['customer_id'].nunique(), test['customer_id'].nunique()"
      ]
    },
    {
      "cell_type": "markdown",
      "metadata": {
        "id": "quVssFr276K-"
      },
      "source": [
        "## Negative Sampling"
      ]
    },
    {
      "cell_type": "code",
      "execution_count": 31,
      "metadata": {
        "id": "DuX0iIow76K-",
        "outputId": "6b74e2ee-012b-47f2-a1ed-1287c53a4bd1",
        "colab": {
          "base_uri": "https://localhost:8080/",
          "height": 0
        }
      },
      "outputs": [
        {
          "output_type": "execute_result",
          "data": {
            "text/plain": [
              "       t_dat                                        customer_id  article_id  \\\n",
              "0 2020-06-24  00c571917952c5c99ffb38e7f75b2e91a6b179591cd030...   678342028   \n",
              "1 2020-06-24  00c571917952c5c99ffb38e7f75b2e91a6b179591cd030...   863937010   \n",
              "\n",
              "      price  product_group_name colour_group_name            section_name  \\\n",
              "0  0.006661  Garment Upper body             White          Divided Basics   \n",
              "1  0.011678  Garment Upper body             Black  Womens Everyday Basics   \n",
              "\n",
              "   is_popular  nArticles  nDays  nPurchases  nSect age_interval  \n",
              "0         1.0        9.0    1.0         9.0    4.0  Working Age  \n",
              "1         1.0        9.0    1.0         9.0    4.0  Working Age  "
            ],
            "text/html": [
              "\n",
              "  <div id=\"df-1af5bb86-32d6-4269-b644-6a206b7c427f\">\n",
              "    <div class=\"colab-df-container\">\n",
              "      <div>\n",
              "<style scoped>\n",
              "    .dataframe tbody tr th:only-of-type {\n",
              "        vertical-align: middle;\n",
              "    }\n",
              "\n",
              "    .dataframe tbody tr th {\n",
              "        vertical-align: top;\n",
              "    }\n",
              "\n",
              "    .dataframe thead th {\n",
              "        text-align: right;\n",
              "    }\n",
              "</style>\n",
              "<table border=\"1\" class=\"dataframe\">\n",
              "  <thead>\n",
              "    <tr style=\"text-align: right;\">\n",
              "      <th></th>\n",
              "      <th>t_dat</th>\n",
              "      <th>customer_id</th>\n",
              "      <th>article_id</th>\n",
              "      <th>price</th>\n",
              "      <th>product_group_name</th>\n",
              "      <th>colour_group_name</th>\n",
              "      <th>section_name</th>\n",
              "      <th>is_popular</th>\n",
              "      <th>nArticles</th>\n",
              "      <th>nDays</th>\n",
              "      <th>nPurchases</th>\n",
              "      <th>nSect</th>\n",
              "      <th>age_interval</th>\n",
              "    </tr>\n",
              "  </thead>\n",
              "  <tbody>\n",
              "    <tr>\n",
              "      <th>0</th>\n",
              "      <td>2020-06-24</td>\n",
              "      <td>00c571917952c5c99ffb38e7f75b2e91a6b179591cd030...</td>\n",
              "      <td>678342028</td>\n",
              "      <td>0.006661</td>\n",
              "      <td>Garment Upper body</td>\n",
              "      <td>White</td>\n",
              "      <td>Divided Basics</td>\n",
              "      <td>1.0</td>\n",
              "      <td>9.0</td>\n",
              "      <td>1.0</td>\n",
              "      <td>9.0</td>\n",
              "      <td>4.0</td>\n",
              "      <td>Working Age</td>\n",
              "    </tr>\n",
              "    <tr>\n",
              "      <th>1</th>\n",
              "      <td>2020-06-24</td>\n",
              "      <td>00c571917952c5c99ffb38e7f75b2e91a6b179591cd030...</td>\n",
              "      <td>863937010</td>\n",
              "      <td>0.011678</td>\n",
              "      <td>Garment Upper body</td>\n",
              "      <td>Black</td>\n",
              "      <td>Womens Everyday Basics</td>\n",
              "      <td>1.0</td>\n",
              "      <td>9.0</td>\n",
              "      <td>1.0</td>\n",
              "      <td>9.0</td>\n",
              "      <td>4.0</td>\n",
              "      <td>Working Age</td>\n",
              "    </tr>\n",
              "  </tbody>\n",
              "</table>\n",
              "</div>\n",
              "      <button class=\"colab-df-convert\" onclick=\"convertToInteractive('df-1af5bb86-32d6-4269-b644-6a206b7c427f')\"\n",
              "              title=\"Convert this dataframe to an interactive table.\"\n",
              "              style=\"display:none;\">\n",
              "        \n",
              "  <svg xmlns=\"http://www.w3.org/2000/svg\" height=\"24px\"viewBox=\"0 0 24 24\"\n",
              "       width=\"24px\">\n",
              "    <path d=\"M0 0h24v24H0V0z\" fill=\"none\"/>\n",
              "    <path d=\"M18.56 5.44l.94 2.06.94-2.06 2.06-.94-2.06-.94-.94-2.06-.94 2.06-2.06.94zm-11 1L8.5 8.5l.94-2.06 2.06-.94-2.06-.94L8.5 2.5l-.94 2.06-2.06.94zm10 10l.94 2.06.94-2.06 2.06-.94-2.06-.94-.94-2.06-.94 2.06-2.06.94z\"/><path d=\"M17.41 7.96l-1.37-1.37c-.4-.4-.92-.59-1.43-.59-.52 0-1.04.2-1.43.59L10.3 9.45l-7.72 7.72c-.78.78-.78 2.05 0 2.83L4 21.41c.39.39.9.59 1.41.59.51 0 1.02-.2 1.41-.59l7.78-7.78 2.81-2.81c.8-.78.8-2.07 0-2.86zM5.41 20L4 18.59l7.72-7.72 1.47 1.35L5.41 20z\"/>\n",
              "  </svg>\n",
              "      </button>\n",
              "      \n",
              "  <style>\n",
              "    .colab-df-container {\n",
              "      display:flex;\n",
              "      flex-wrap:wrap;\n",
              "      gap: 12px;\n",
              "    }\n",
              "\n",
              "    .colab-df-convert {\n",
              "      background-color: #E8F0FE;\n",
              "      border: none;\n",
              "      border-radius: 50%;\n",
              "      cursor: pointer;\n",
              "      display: none;\n",
              "      fill: #1967D2;\n",
              "      height: 32px;\n",
              "      padding: 0 0 0 0;\n",
              "      width: 32px;\n",
              "    }\n",
              "\n",
              "    .colab-df-convert:hover {\n",
              "      background-color: #E2EBFA;\n",
              "      box-shadow: 0px 1px 2px rgba(60, 64, 67, 0.3), 0px 1px 3px 1px rgba(60, 64, 67, 0.15);\n",
              "      fill: #174EA6;\n",
              "    }\n",
              "\n",
              "    [theme=dark] .colab-df-convert {\n",
              "      background-color: #3B4455;\n",
              "      fill: #D2E3FC;\n",
              "    }\n",
              "\n",
              "    [theme=dark] .colab-df-convert:hover {\n",
              "      background-color: #434B5C;\n",
              "      box-shadow: 0px 1px 3px 1px rgba(0, 0, 0, 0.15);\n",
              "      filter: drop-shadow(0px 1px 2px rgba(0, 0, 0, 0.3));\n",
              "      fill: #FFFFFF;\n",
              "    }\n",
              "  </style>\n",
              "\n",
              "      <script>\n",
              "        const buttonEl =\n",
              "          document.querySelector('#df-1af5bb86-32d6-4269-b644-6a206b7c427f button.colab-df-convert');\n",
              "        buttonEl.style.display =\n",
              "          google.colab.kernel.accessAllowed ? 'block' : 'none';\n",
              "\n",
              "        async function convertToInteractive(key) {\n",
              "          const element = document.querySelector('#df-1af5bb86-32d6-4269-b644-6a206b7c427f');\n",
              "          const dataTable =\n",
              "            await google.colab.kernel.invokeFunction('convertToInteractive',\n",
              "                                                     [key], {});\n",
              "          if (!dataTable) return;\n",
              "\n",
              "          const docLinkHtml = 'Like what you see? Visit the ' +\n",
              "            '<a target=\"_blank\" href=https://colab.research.google.com/notebooks/data_table.ipynb>data table notebook</a>'\n",
              "            + ' to learn more about interactive tables.';\n",
              "          element.innerHTML = '';\n",
              "          dataTable['output_type'] = 'display_data';\n",
              "          await google.colab.output.renderOutput(dataTable, element);\n",
              "          const docLink = document.createElement('div');\n",
              "          docLink.innerHTML = docLinkHtml;\n",
              "          element.appendChild(docLink);\n",
              "        }\n",
              "      </script>\n",
              "    </div>\n",
              "  </div>\n",
              "  "
            ]
          },
          "metadata": {},
          "execution_count": 31
        }
      ],
      "source": [
        "liked_articles = pd.concat([train,test], axis=0)\n",
        "liked_articles.head(2)"
      ]
    },
    {
      "cell_type": "code",
      "execution_count": 32,
      "metadata": {
        "id": "SwKU7JWm76K_",
        "outputId": "ab0dd17a-a0ec-4fc3-c82f-90c76f400e35",
        "colab": {
          "base_uri": "https://localhost:8080/",
          "height": 0
        }
      },
      "outputs": [
        {
          "output_type": "execute_result",
          "data": {
            "text/plain": [
              "                                         customer_id  \\\n",
              "0  0015f16aa2702e2ec13d2e38052f496b9b915d3c64e82c...   \n",
              "1  002cf96a2e882620182534ca963f8b43f9aafa2b668c09...   \n",
              "\n",
              "                                        article_list  \n",
              "0                  [891238001, 865929007, 751471038]  \n",
              "1  [843777005, 894756005, 892280003, 859125001, 8...  "
            ],
            "text/html": [
              "\n",
              "  <div id=\"df-57af9cf6-f93e-4bc0-a39f-cb62de8e005f\">\n",
              "    <div class=\"colab-df-container\">\n",
              "      <div>\n",
              "<style scoped>\n",
              "    .dataframe tbody tr th:only-of-type {\n",
              "        vertical-align: middle;\n",
              "    }\n",
              "\n",
              "    .dataframe tbody tr th {\n",
              "        vertical-align: top;\n",
              "    }\n",
              "\n",
              "    .dataframe thead th {\n",
              "        text-align: right;\n",
              "    }\n",
              "</style>\n",
              "<table border=\"1\" class=\"dataframe\">\n",
              "  <thead>\n",
              "    <tr style=\"text-align: right;\">\n",
              "      <th></th>\n",
              "      <th>customer_id</th>\n",
              "      <th>article_list</th>\n",
              "    </tr>\n",
              "  </thead>\n",
              "  <tbody>\n",
              "    <tr>\n",
              "      <th>0</th>\n",
              "      <td>0015f16aa2702e2ec13d2e38052f496b9b915d3c64e82c...</td>\n",
              "      <td>[891238001, 865929007, 751471038]</td>\n",
              "    </tr>\n",
              "    <tr>\n",
              "      <th>1</th>\n",
              "      <td>002cf96a2e882620182534ca963f8b43f9aafa2b668c09...</td>\n",
              "      <td>[843777005, 894756005, 892280003, 859125001, 8...</td>\n",
              "    </tr>\n",
              "  </tbody>\n",
              "</table>\n",
              "</div>\n",
              "      <button class=\"colab-df-convert\" onclick=\"convertToInteractive('df-57af9cf6-f93e-4bc0-a39f-cb62de8e005f')\"\n",
              "              title=\"Convert this dataframe to an interactive table.\"\n",
              "              style=\"display:none;\">\n",
              "        \n",
              "  <svg xmlns=\"http://www.w3.org/2000/svg\" height=\"24px\"viewBox=\"0 0 24 24\"\n",
              "       width=\"24px\">\n",
              "    <path d=\"M0 0h24v24H0V0z\" fill=\"none\"/>\n",
              "    <path d=\"M18.56 5.44l.94 2.06.94-2.06 2.06-.94-2.06-.94-.94-2.06-.94 2.06-2.06.94zm-11 1L8.5 8.5l.94-2.06 2.06-.94-2.06-.94L8.5 2.5l-.94 2.06-2.06.94zm10 10l.94 2.06.94-2.06 2.06-.94-2.06-.94-.94-2.06-.94 2.06-2.06.94z\"/><path d=\"M17.41 7.96l-1.37-1.37c-.4-.4-.92-.59-1.43-.59-.52 0-1.04.2-1.43.59L10.3 9.45l-7.72 7.72c-.78.78-.78 2.05 0 2.83L4 21.41c.39.39.9.59 1.41.59.51 0 1.02-.2 1.41-.59l7.78-7.78 2.81-2.81c.8-.78.8-2.07 0-2.86zM5.41 20L4 18.59l7.72-7.72 1.47 1.35L5.41 20z\"/>\n",
              "  </svg>\n",
              "      </button>\n",
              "      \n",
              "  <style>\n",
              "    .colab-df-container {\n",
              "      display:flex;\n",
              "      flex-wrap:wrap;\n",
              "      gap: 12px;\n",
              "    }\n",
              "\n",
              "    .colab-df-convert {\n",
              "      background-color: #E8F0FE;\n",
              "      border: none;\n",
              "      border-radius: 50%;\n",
              "      cursor: pointer;\n",
              "      display: none;\n",
              "      fill: #1967D2;\n",
              "      height: 32px;\n",
              "      padding: 0 0 0 0;\n",
              "      width: 32px;\n",
              "    }\n",
              "\n",
              "    .colab-df-convert:hover {\n",
              "      background-color: #E2EBFA;\n",
              "      box-shadow: 0px 1px 2px rgba(60, 64, 67, 0.3), 0px 1px 3px 1px rgba(60, 64, 67, 0.15);\n",
              "      fill: #174EA6;\n",
              "    }\n",
              "\n",
              "    [theme=dark] .colab-df-convert {\n",
              "      background-color: #3B4455;\n",
              "      fill: #D2E3FC;\n",
              "    }\n",
              "\n",
              "    [theme=dark] .colab-df-convert:hover {\n",
              "      background-color: #434B5C;\n",
              "      box-shadow: 0px 1px 3px 1px rgba(0, 0, 0, 0.15);\n",
              "      filter: drop-shadow(0px 1px 2px rgba(0, 0, 0, 0.3));\n",
              "      fill: #FFFFFF;\n",
              "    }\n",
              "  </style>\n",
              "\n",
              "      <script>\n",
              "        const buttonEl =\n",
              "          document.querySelector('#df-57af9cf6-f93e-4bc0-a39f-cb62de8e005f button.colab-df-convert');\n",
              "        buttonEl.style.display =\n",
              "          google.colab.kernel.accessAllowed ? 'block' : 'none';\n",
              "\n",
              "        async function convertToInteractive(key) {\n",
              "          const element = document.querySelector('#df-57af9cf6-f93e-4bc0-a39f-cb62de8e005f');\n",
              "          const dataTable =\n",
              "            await google.colab.kernel.invokeFunction('convertToInteractive',\n",
              "                                                     [key], {});\n",
              "          if (!dataTable) return;\n",
              "\n",
              "          const docLinkHtml = 'Like what you see? Visit the ' +\n",
              "            '<a target=\"_blank\" href=https://colab.research.google.com/notebooks/data_table.ipynb>data table notebook</a>'\n",
              "            + ' to learn more about interactive tables.';\n",
              "          element.innerHTML = '';\n",
              "          dataTable['output_type'] = 'display_data';\n",
              "          await google.colab.output.renderOutput(dataTable, element);\n",
              "          const docLink = document.createElement('div');\n",
              "          docLink.innerHTML = docLinkHtml;\n",
              "          element.appendChild(docLink);\n",
              "        }\n",
              "      </script>\n",
              "    </div>\n",
              "  </div>\n",
              "  "
            ]
          },
          "metadata": {},
          "execution_count": 32
        }
      ],
      "source": [
        "customer_liked_article= liked_articles.groupby(\"customer_id\", as_index=False).article_id.agg(['unique']).reset_index()\n",
        "customer_liked_article.columns = ['customer_id', 'article_list']\n",
        "customer_liked_article.head(2)"
      ]
    },
    {
      "cell_type": "code",
      "execution_count": 33,
      "metadata": {
        "id": "_CMcNhab76K_"
      },
      "outputs": [],
      "source": [
        "articlesSet_train = list(train.article_id.unique())\n",
        "articlesSet_test = list(test.article_id.unique())"
      ]
    },
    {
      "cell_type": "code",
      "execution_count": 34,
      "metadata": {
        "id": "Sqp_F_ol76K_"
      },
      "outputs": [],
      "source": [
        "def generate_negative_samples(train_df, article_list, num_neg=1):\n",
        "    \"\"\"\n",
        "    Simple random sampling for generative negative examples\n",
        "    \"\"\"\n",
        "    negData = []\n",
        "    for index, row in train_df.iterrows():\n",
        "        allList = article_list\n",
        "        cust = row['customer_id']\n",
        "        art_list = row['article_list']\n",
        "        allList = list(set(allList) - set(art_list))\n",
        "        negs = random.sample(allList, num_neg)\n",
        "        for n in negs:\n",
        "            negData.append([cust,n])\n",
        "    negDf = pd.DataFrame(negData,columns=['customer_id','article_id'])\n",
        "    return negDf"
      ]
    },
    {
      "cell_type": "code",
      "execution_count": 35,
      "metadata": {
        "id": "GErWilGm76K_"
      },
      "outputs": [],
      "source": [
        "negDf_train = generate_negative_samples(customer_liked_article,articlesSet_train,2) #2 negative samples per customer\n",
        "negDf_test = generate_negative_samples(customer_liked_article,articlesSet_test,2) #2 negative samples per customer\n"
      ]
    },
    {
      "cell_type": "code",
      "execution_count": 36,
      "metadata": {
        "id": "8FIxUXWv76LA",
        "outputId": "46037b76-61ca-4933-9b49-7b238250df34",
        "colab": {
          "base_uri": "https://localhost:8080/",
          "height": 0
        }
      },
      "outputs": [
        {
          "output_type": "execute_result",
          "data": {
            "text/plain": [
              "                                         customer_id  article_id\n",
              "0  0015f16aa2702e2ec13d2e38052f496b9b915d3c64e82c...   834217004\n",
              "1  0015f16aa2702e2ec13d2e38052f496b9b915d3c64e82c...   871527004"
            ],
            "text/html": [
              "\n",
              "  <div id=\"df-9441fac4-358e-4098-8d58-78e310baa7d5\">\n",
              "    <div class=\"colab-df-container\">\n",
              "      <div>\n",
              "<style scoped>\n",
              "    .dataframe tbody tr th:only-of-type {\n",
              "        vertical-align: middle;\n",
              "    }\n",
              "\n",
              "    .dataframe tbody tr th {\n",
              "        vertical-align: top;\n",
              "    }\n",
              "\n",
              "    .dataframe thead th {\n",
              "        text-align: right;\n",
              "    }\n",
              "</style>\n",
              "<table border=\"1\" class=\"dataframe\">\n",
              "  <thead>\n",
              "    <tr style=\"text-align: right;\">\n",
              "      <th></th>\n",
              "      <th>customer_id</th>\n",
              "      <th>article_id</th>\n",
              "    </tr>\n",
              "  </thead>\n",
              "  <tbody>\n",
              "    <tr>\n",
              "      <th>0</th>\n",
              "      <td>0015f16aa2702e2ec13d2e38052f496b9b915d3c64e82c...</td>\n",
              "      <td>834217004</td>\n",
              "    </tr>\n",
              "    <tr>\n",
              "      <th>1</th>\n",
              "      <td>0015f16aa2702e2ec13d2e38052f496b9b915d3c64e82c...</td>\n",
              "      <td>871527004</td>\n",
              "    </tr>\n",
              "  </tbody>\n",
              "</table>\n",
              "</div>\n",
              "      <button class=\"colab-df-convert\" onclick=\"convertToInteractive('df-9441fac4-358e-4098-8d58-78e310baa7d5')\"\n",
              "              title=\"Convert this dataframe to an interactive table.\"\n",
              "              style=\"display:none;\">\n",
              "        \n",
              "  <svg xmlns=\"http://www.w3.org/2000/svg\" height=\"24px\"viewBox=\"0 0 24 24\"\n",
              "       width=\"24px\">\n",
              "    <path d=\"M0 0h24v24H0V0z\" fill=\"none\"/>\n",
              "    <path d=\"M18.56 5.44l.94 2.06.94-2.06 2.06-.94-2.06-.94-.94-2.06-.94 2.06-2.06.94zm-11 1L8.5 8.5l.94-2.06 2.06-.94-2.06-.94L8.5 2.5l-.94 2.06-2.06.94zm10 10l.94 2.06.94-2.06 2.06-.94-2.06-.94-.94-2.06-.94 2.06-2.06.94z\"/><path d=\"M17.41 7.96l-1.37-1.37c-.4-.4-.92-.59-1.43-.59-.52 0-1.04.2-1.43.59L10.3 9.45l-7.72 7.72c-.78.78-.78 2.05 0 2.83L4 21.41c.39.39.9.59 1.41.59.51 0 1.02-.2 1.41-.59l7.78-7.78 2.81-2.81c.8-.78.8-2.07 0-2.86zM5.41 20L4 18.59l7.72-7.72 1.47 1.35L5.41 20z\"/>\n",
              "  </svg>\n",
              "      </button>\n",
              "      \n",
              "  <style>\n",
              "    .colab-df-container {\n",
              "      display:flex;\n",
              "      flex-wrap:wrap;\n",
              "      gap: 12px;\n",
              "    }\n",
              "\n",
              "    .colab-df-convert {\n",
              "      background-color: #E8F0FE;\n",
              "      border: none;\n",
              "      border-radius: 50%;\n",
              "      cursor: pointer;\n",
              "      display: none;\n",
              "      fill: #1967D2;\n",
              "      height: 32px;\n",
              "      padding: 0 0 0 0;\n",
              "      width: 32px;\n",
              "    }\n",
              "\n",
              "    .colab-df-convert:hover {\n",
              "      background-color: #E2EBFA;\n",
              "      box-shadow: 0px 1px 2px rgba(60, 64, 67, 0.3), 0px 1px 3px 1px rgba(60, 64, 67, 0.15);\n",
              "      fill: #174EA6;\n",
              "    }\n",
              "\n",
              "    [theme=dark] .colab-df-convert {\n",
              "      background-color: #3B4455;\n",
              "      fill: #D2E3FC;\n",
              "    }\n",
              "\n",
              "    [theme=dark] .colab-df-convert:hover {\n",
              "      background-color: #434B5C;\n",
              "      box-shadow: 0px 1px 3px 1px rgba(0, 0, 0, 0.15);\n",
              "      filter: drop-shadow(0px 1px 2px rgba(0, 0, 0, 0.3));\n",
              "      fill: #FFFFFF;\n",
              "    }\n",
              "  </style>\n",
              "\n",
              "      <script>\n",
              "        const buttonEl =\n",
              "          document.querySelector('#df-9441fac4-358e-4098-8d58-78e310baa7d5 button.colab-df-convert');\n",
              "        buttonEl.style.display =\n",
              "          google.colab.kernel.accessAllowed ? 'block' : 'none';\n",
              "\n",
              "        async function convertToInteractive(key) {\n",
              "          const element = document.querySelector('#df-9441fac4-358e-4098-8d58-78e310baa7d5');\n",
              "          const dataTable =\n",
              "            await google.colab.kernel.invokeFunction('convertToInteractive',\n",
              "                                                     [key], {});\n",
              "          if (!dataTable) return;\n",
              "\n",
              "          const docLinkHtml = 'Like what you see? Visit the ' +\n",
              "            '<a target=\"_blank\" href=https://colab.research.google.com/notebooks/data_table.ipynb>data table notebook</a>'\n",
              "            + ' to learn more about interactive tables.';\n",
              "          element.innerHTML = '';\n",
              "          dataTable['output_type'] = 'display_data';\n",
              "          await google.colab.output.renderOutput(dataTable, element);\n",
              "          const docLink = document.createElement('div');\n",
              "          docLink.innerHTML = docLinkHtml;\n",
              "          element.appendChild(docLink);\n",
              "        }\n",
              "      </script>\n",
              "    </div>\n",
              "  </div>\n",
              "  "
            ]
          },
          "metadata": {},
          "execution_count": 36
        }
      ],
      "source": [
        "negDf_test.head(2)"
      ]
    },
    {
      "cell_type": "code",
      "execution_count": 37,
      "metadata": {
        "id": "1B5sNMkj76LA",
        "outputId": "e94da0d4-2802-4713-db59-b178b2d7e183",
        "colab": {
          "base_uri": "https://localhost:8080/"
        }
      },
      "outputs": [
        {
          "output_type": "execute_result",
          "data": {
            "text/plain": [
              "Index(['t_dat', 'customer_id', 'article_id', 'price', 'product_group_name',\n",
              "       'colour_group_name', 'section_name', 'is_popular', 'nArticles', 'nDays',\n",
              "       'nPurchases', 'nSect', 'age_interval'],\n",
              "      dtype='object')"
            ]
          },
          "metadata": {},
          "execution_count": 37
        }
      ],
      "source": [
        "train.columns"
      ]
    },
    {
      "cell_type": "code",
      "execution_count": 38,
      "metadata": {
        "id": "D2sxLuiN76LA"
      },
      "outputs": [],
      "source": [
        "article_features = train[['article_id', 'price', 'product_group_name',\n",
        "       'colour_group_name', 'section_name']]\n",
        "customer_features = train[['customer_id', 'age_interval', 'nArticles', 'nDays', 'nPurchases', 'nSect']]"
      ]
    },
    {
      "cell_type": "code",
      "execution_count": 39,
      "metadata": {
        "id": "5gInGQwa76LA"
      },
      "outputs": [],
      "source": [
        "article_features_test = test[['article_id', 'price', 'product_group_name', 'colour_group_name', 'section_name']]\n",
        "customer_features_test = test[['customer_id', 'age_interval', 'nArticles', 'nDays', 'nPurchases', 'nSect']]"
      ]
    },
    {
      "cell_type": "code",
      "execution_count": 40,
      "metadata": {
        "id": "krx0KOgv76LA"
      },
      "outputs": [],
      "source": [
        "negDf_train = negDf_train.merge(article_features, on='article_id', how='left') # merge negative samples with article features\n",
        "negDf_train = negDf_train.merge(customer_features, on='customer_id', how='left') # merge negative samples with customer features"
      ]
    },
    {
      "cell_type": "code",
      "execution_count": 41,
      "metadata": {
        "id": "1PnHi-J676LB",
        "outputId": "981ef4ba-96e1-41eb-f534-a6d090c8b0c1",
        "colab": {
          "base_uri": "https://localhost:8080/",
          "height": 0
        }
      },
      "outputs": [
        {
          "output_type": "execute_result",
          "data": {
            "text/plain": [
              "                                         customer_id  article_id     price  \\\n",
              "0  0015f16aa2702e2ec13d2e38052f496b9b915d3c64e82c...   611050001  0.011508   \n",
              "1  0015f16aa2702e2ec13d2e38052f496b9b915d3c64e82c...   763323003  0.218644   \n",
              "\n",
              "   product_group_name colour_group_name                section_name  \\\n",
              "0  Garment Upper body             Black  Womens Everyday Collection   \n",
              "1  Garment Upper body    Greenish Khaki              Womens Jackets   \n",
              "\n",
              "  age_interval  nArticles  nDays  nPurchases  nSect  \n",
              "0   Senior Age        1.0    1.0         1.0    1.0  \n",
              "1   Senior Age        1.0    1.0         1.0    1.0  "
            ],
            "text/html": [
              "\n",
              "  <div id=\"df-b2097730-346a-4683-b487-b4447fd6597e\">\n",
              "    <div class=\"colab-df-container\">\n",
              "      <div>\n",
              "<style scoped>\n",
              "    .dataframe tbody tr th:only-of-type {\n",
              "        vertical-align: middle;\n",
              "    }\n",
              "\n",
              "    .dataframe tbody tr th {\n",
              "        vertical-align: top;\n",
              "    }\n",
              "\n",
              "    .dataframe thead th {\n",
              "        text-align: right;\n",
              "    }\n",
              "</style>\n",
              "<table border=\"1\" class=\"dataframe\">\n",
              "  <thead>\n",
              "    <tr style=\"text-align: right;\">\n",
              "      <th></th>\n",
              "      <th>customer_id</th>\n",
              "      <th>article_id</th>\n",
              "      <th>price</th>\n",
              "      <th>product_group_name</th>\n",
              "      <th>colour_group_name</th>\n",
              "      <th>section_name</th>\n",
              "      <th>age_interval</th>\n",
              "      <th>nArticles</th>\n",
              "      <th>nDays</th>\n",
              "      <th>nPurchases</th>\n",
              "      <th>nSect</th>\n",
              "    </tr>\n",
              "  </thead>\n",
              "  <tbody>\n",
              "    <tr>\n",
              "      <th>0</th>\n",
              "      <td>0015f16aa2702e2ec13d2e38052f496b9b915d3c64e82c...</td>\n",
              "      <td>611050001</td>\n",
              "      <td>0.011508</td>\n",
              "      <td>Garment Upper body</td>\n",
              "      <td>Black</td>\n",
              "      <td>Womens Everyday Collection</td>\n",
              "      <td>Senior Age</td>\n",
              "      <td>1.0</td>\n",
              "      <td>1.0</td>\n",
              "      <td>1.0</td>\n",
              "      <td>1.0</td>\n",
              "    </tr>\n",
              "    <tr>\n",
              "      <th>1</th>\n",
              "      <td>0015f16aa2702e2ec13d2e38052f496b9b915d3c64e82c...</td>\n",
              "      <td>763323003</td>\n",
              "      <td>0.218644</td>\n",
              "      <td>Garment Upper body</td>\n",
              "      <td>Greenish Khaki</td>\n",
              "      <td>Womens Jackets</td>\n",
              "      <td>Senior Age</td>\n",
              "      <td>1.0</td>\n",
              "      <td>1.0</td>\n",
              "      <td>1.0</td>\n",
              "      <td>1.0</td>\n",
              "    </tr>\n",
              "  </tbody>\n",
              "</table>\n",
              "</div>\n",
              "      <button class=\"colab-df-convert\" onclick=\"convertToInteractive('df-b2097730-346a-4683-b487-b4447fd6597e')\"\n",
              "              title=\"Convert this dataframe to an interactive table.\"\n",
              "              style=\"display:none;\">\n",
              "        \n",
              "  <svg xmlns=\"http://www.w3.org/2000/svg\" height=\"24px\"viewBox=\"0 0 24 24\"\n",
              "       width=\"24px\">\n",
              "    <path d=\"M0 0h24v24H0V0z\" fill=\"none\"/>\n",
              "    <path d=\"M18.56 5.44l.94 2.06.94-2.06 2.06-.94-2.06-.94-.94-2.06-.94 2.06-2.06.94zm-11 1L8.5 8.5l.94-2.06 2.06-.94-2.06-.94L8.5 2.5l-.94 2.06-2.06.94zm10 10l.94 2.06.94-2.06 2.06-.94-2.06-.94-.94-2.06-.94 2.06-2.06.94z\"/><path d=\"M17.41 7.96l-1.37-1.37c-.4-.4-.92-.59-1.43-.59-.52 0-1.04.2-1.43.59L10.3 9.45l-7.72 7.72c-.78.78-.78 2.05 0 2.83L4 21.41c.39.39.9.59 1.41.59.51 0 1.02-.2 1.41-.59l7.78-7.78 2.81-2.81c.8-.78.8-2.07 0-2.86zM5.41 20L4 18.59l7.72-7.72 1.47 1.35L5.41 20z\"/>\n",
              "  </svg>\n",
              "      </button>\n",
              "      \n",
              "  <style>\n",
              "    .colab-df-container {\n",
              "      display:flex;\n",
              "      flex-wrap:wrap;\n",
              "      gap: 12px;\n",
              "    }\n",
              "\n",
              "    .colab-df-convert {\n",
              "      background-color: #E8F0FE;\n",
              "      border: none;\n",
              "      border-radius: 50%;\n",
              "      cursor: pointer;\n",
              "      display: none;\n",
              "      fill: #1967D2;\n",
              "      height: 32px;\n",
              "      padding: 0 0 0 0;\n",
              "      width: 32px;\n",
              "    }\n",
              "\n",
              "    .colab-df-convert:hover {\n",
              "      background-color: #E2EBFA;\n",
              "      box-shadow: 0px 1px 2px rgba(60, 64, 67, 0.3), 0px 1px 3px 1px rgba(60, 64, 67, 0.15);\n",
              "      fill: #174EA6;\n",
              "    }\n",
              "\n",
              "    [theme=dark] .colab-df-convert {\n",
              "      background-color: #3B4455;\n",
              "      fill: #D2E3FC;\n",
              "    }\n",
              "\n",
              "    [theme=dark] .colab-df-convert:hover {\n",
              "      background-color: #434B5C;\n",
              "      box-shadow: 0px 1px 3px 1px rgba(0, 0, 0, 0.15);\n",
              "      filter: drop-shadow(0px 1px 2px rgba(0, 0, 0, 0.3));\n",
              "      fill: #FFFFFF;\n",
              "    }\n",
              "  </style>\n",
              "\n",
              "      <script>\n",
              "        const buttonEl =\n",
              "          document.querySelector('#df-b2097730-346a-4683-b487-b4447fd6597e button.colab-df-convert');\n",
              "        buttonEl.style.display =\n",
              "          google.colab.kernel.accessAllowed ? 'block' : 'none';\n",
              "\n",
              "        async function convertToInteractive(key) {\n",
              "          const element = document.querySelector('#df-b2097730-346a-4683-b487-b4447fd6597e');\n",
              "          const dataTable =\n",
              "            await google.colab.kernel.invokeFunction('convertToInteractive',\n",
              "                                                     [key], {});\n",
              "          if (!dataTable) return;\n",
              "\n",
              "          const docLinkHtml = 'Like what you see? Visit the ' +\n",
              "            '<a target=\"_blank\" href=https://colab.research.google.com/notebooks/data_table.ipynb>data table notebook</a>'\n",
              "            + ' to learn more about interactive tables.';\n",
              "          element.innerHTML = '';\n",
              "          dataTable['output_type'] = 'display_data';\n",
              "          await google.colab.output.renderOutput(dataTable, element);\n",
              "          const docLink = document.createElement('div');\n",
              "          docLink.innerHTML = docLinkHtml;\n",
              "          element.appendChild(docLink);\n",
              "        }\n",
              "      </script>\n",
              "    </div>\n",
              "  </div>\n",
              "  "
            ]
          },
          "metadata": {},
          "execution_count": 41
        }
      ],
      "source": [
        "negDf_train.head(2)"
      ]
    },
    {
      "cell_type": "code",
      "execution_count": 42,
      "metadata": {
        "id": "zeFVZnRO76LB"
      },
      "outputs": [],
      "source": [
        "negDf_test = negDf_test.merge(article_features_test, on='article_id', how='left') # merge negative samples with article features\n",
        "negDf_test = negDf_test.merge(customer_features_test, on='customer_id', how='left') # merge negative samples with customer features"
      ]
    },
    {
      "cell_type": "code",
      "execution_count": 43,
      "metadata": {
        "id": "EixYKNiM76LB",
        "outputId": "0e36ee03-d29d-4bcd-ad47-b11b9ea3efa3",
        "colab": {
          "base_uri": "https://localhost:8080/",
          "height": 0
        }
      },
      "outputs": [
        {
          "output_type": "execute_result",
          "data": {
            "text/plain": [
              "                                         customer_id  article_id     price  \\\n",
              "0  0015f16aa2702e2ec13d2e38052f496b9b915d3c64e82c...   834217004  0.010153   \n",
              "1  0015f16aa2702e2ec13d2e38052f496b9b915d3c64e82c...   834217004  0.010153   \n",
              "\n",
              "  product_group_name colour_group_name                section_name  \\\n",
              "0           Swimwear             Black  Womens Swimwear, beachwear   \n",
              "1           Swimwear             Black  Womens Swimwear, beachwear   \n",
              "\n",
              "  age_interval  nArticles  nDays  nPurchases  nSect  \n",
              "0   Senior Age        1.0    1.0         1.0    1.0  \n",
              "1   Senior Age        1.0    1.0         1.0    1.0  "
            ],
            "text/html": [
              "\n",
              "  <div id=\"df-6247c813-72cc-41b3-9358-f4f42f42c6f5\">\n",
              "    <div class=\"colab-df-container\">\n",
              "      <div>\n",
              "<style scoped>\n",
              "    .dataframe tbody tr th:only-of-type {\n",
              "        vertical-align: middle;\n",
              "    }\n",
              "\n",
              "    .dataframe tbody tr th {\n",
              "        vertical-align: top;\n",
              "    }\n",
              "\n",
              "    .dataframe thead th {\n",
              "        text-align: right;\n",
              "    }\n",
              "</style>\n",
              "<table border=\"1\" class=\"dataframe\">\n",
              "  <thead>\n",
              "    <tr style=\"text-align: right;\">\n",
              "      <th></th>\n",
              "      <th>customer_id</th>\n",
              "      <th>article_id</th>\n",
              "      <th>price</th>\n",
              "      <th>product_group_name</th>\n",
              "      <th>colour_group_name</th>\n",
              "      <th>section_name</th>\n",
              "      <th>age_interval</th>\n",
              "      <th>nArticles</th>\n",
              "      <th>nDays</th>\n",
              "      <th>nPurchases</th>\n",
              "      <th>nSect</th>\n",
              "    </tr>\n",
              "  </thead>\n",
              "  <tbody>\n",
              "    <tr>\n",
              "      <th>0</th>\n",
              "      <td>0015f16aa2702e2ec13d2e38052f496b9b915d3c64e82c...</td>\n",
              "      <td>834217004</td>\n",
              "      <td>0.010153</td>\n",
              "      <td>Swimwear</td>\n",
              "      <td>Black</td>\n",
              "      <td>Womens Swimwear, beachwear</td>\n",
              "      <td>Senior Age</td>\n",
              "      <td>1.0</td>\n",
              "      <td>1.0</td>\n",
              "      <td>1.0</td>\n",
              "      <td>1.0</td>\n",
              "    </tr>\n",
              "    <tr>\n",
              "      <th>1</th>\n",
              "      <td>0015f16aa2702e2ec13d2e38052f496b9b915d3c64e82c...</td>\n",
              "      <td>834217004</td>\n",
              "      <td>0.010153</td>\n",
              "      <td>Swimwear</td>\n",
              "      <td>Black</td>\n",
              "      <td>Womens Swimwear, beachwear</td>\n",
              "      <td>Senior Age</td>\n",
              "      <td>1.0</td>\n",
              "      <td>1.0</td>\n",
              "      <td>1.0</td>\n",
              "      <td>1.0</td>\n",
              "    </tr>\n",
              "  </tbody>\n",
              "</table>\n",
              "</div>\n",
              "      <button class=\"colab-df-convert\" onclick=\"convertToInteractive('df-6247c813-72cc-41b3-9358-f4f42f42c6f5')\"\n",
              "              title=\"Convert this dataframe to an interactive table.\"\n",
              "              style=\"display:none;\">\n",
              "        \n",
              "  <svg xmlns=\"http://www.w3.org/2000/svg\" height=\"24px\"viewBox=\"0 0 24 24\"\n",
              "       width=\"24px\">\n",
              "    <path d=\"M0 0h24v24H0V0z\" fill=\"none\"/>\n",
              "    <path d=\"M18.56 5.44l.94 2.06.94-2.06 2.06-.94-2.06-.94-.94-2.06-.94 2.06-2.06.94zm-11 1L8.5 8.5l.94-2.06 2.06-.94-2.06-.94L8.5 2.5l-.94 2.06-2.06.94zm10 10l.94 2.06.94-2.06 2.06-.94-2.06-.94-.94-2.06-.94 2.06-2.06.94z\"/><path d=\"M17.41 7.96l-1.37-1.37c-.4-.4-.92-.59-1.43-.59-.52 0-1.04.2-1.43.59L10.3 9.45l-7.72 7.72c-.78.78-.78 2.05 0 2.83L4 21.41c.39.39.9.59 1.41.59.51 0 1.02-.2 1.41-.59l7.78-7.78 2.81-2.81c.8-.78.8-2.07 0-2.86zM5.41 20L4 18.59l7.72-7.72 1.47 1.35L5.41 20z\"/>\n",
              "  </svg>\n",
              "      </button>\n",
              "      \n",
              "  <style>\n",
              "    .colab-df-container {\n",
              "      display:flex;\n",
              "      flex-wrap:wrap;\n",
              "      gap: 12px;\n",
              "    }\n",
              "\n",
              "    .colab-df-convert {\n",
              "      background-color: #E8F0FE;\n",
              "      border: none;\n",
              "      border-radius: 50%;\n",
              "      cursor: pointer;\n",
              "      display: none;\n",
              "      fill: #1967D2;\n",
              "      height: 32px;\n",
              "      padding: 0 0 0 0;\n",
              "      width: 32px;\n",
              "    }\n",
              "\n",
              "    .colab-df-convert:hover {\n",
              "      background-color: #E2EBFA;\n",
              "      box-shadow: 0px 1px 2px rgba(60, 64, 67, 0.3), 0px 1px 3px 1px rgba(60, 64, 67, 0.15);\n",
              "      fill: #174EA6;\n",
              "    }\n",
              "\n",
              "    [theme=dark] .colab-df-convert {\n",
              "      background-color: #3B4455;\n",
              "      fill: #D2E3FC;\n",
              "    }\n",
              "\n",
              "    [theme=dark] .colab-df-convert:hover {\n",
              "      background-color: #434B5C;\n",
              "      box-shadow: 0px 1px 3px 1px rgba(0, 0, 0, 0.15);\n",
              "      filter: drop-shadow(0px 1px 2px rgba(0, 0, 0, 0.3));\n",
              "      fill: #FFFFFF;\n",
              "    }\n",
              "  </style>\n",
              "\n",
              "      <script>\n",
              "        const buttonEl =\n",
              "          document.querySelector('#df-6247c813-72cc-41b3-9358-f4f42f42c6f5 button.colab-df-convert');\n",
              "        buttonEl.style.display =\n",
              "          google.colab.kernel.accessAllowed ? 'block' : 'none';\n",
              "\n",
              "        async function convertToInteractive(key) {\n",
              "          const element = document.querySelector('#df-6247c813-72cc-41b3-9358-f4f42f42c6f5');\n",
              "          const dataTable =\n",
              "            await google.colab.kernel.invokeFunction('convertToInteractive',\n",
              "                                                     [key], {});\n",
              "          if (!dataTable) return;\n",
              "\n",
              "          const docLinkHtml = 'Like what you see? Visit the ' +\n",
              "            '<a target=\"_blank\" href=https://colab.research.google.com/notebooks/data_table.ipynb>data table notebook</a>'\n",
              "            + ' to learn more about interactive tables.';\n",
              "          element.innerHTML = '';\n",
              "          dataTable['output_type'] = 'display_data';\n",
              "          await google.colab.output.renderOutput(dataTable, element);\n",
              "          const docLink = document.createElement('div');\n",
              "          docLink.innerHTML = docLinkHtml;\n",
              "          element.appendChild(docLink);\n",
              "        }\n",
              "      </script>\n",
              "    </div>\n",
              "  </div>\n",
              "  "
            ]
          },
          "metadata": {},
          "execution_count": 43
        }
      ],
      "source": [
        "negDf_test.head(2)"
      ]
    },
    {
      "cell_type": "code",
      "execution_count": 44,
      "metadata": {
        "id": "J_btlOdk76LB",
        "outputId": "43eb53d4-1671-41ff-dd41-cbd84272719e",
        "colab": {
          "base_uri": "https://localhost:8080/"
        }
      },
      "outputs": [
        {
          "output_type": "execute_result",
          "data": {
            "text/plain": [
              "customer_id           0\n",
              "article_id            0\n",
              "price                 0\n",
              "product_group_name    0\n",
              "colour_group_name     0\n",
              "section_name          0\n",
              "age_interval          0\n",
              "nArticles             0\n",
              "nDays                 0\n",
              "nPurchases            0\n",
              "nSect                 0\n",
              "dtype: int64"
            ]
          },
          "metadata": {},
          "execution_count": 44
        }
      ],
      "source": [
        "negDf_test.isnull().sum()"
      ]
    },
    {
      "cell_type": "code",
      "execution_count": 45,
      "metadata": {
        "id": "1CVIBfKu76LB"
      },
      "outputs": [],
      "source": [
        "train['label'] = 1\n",
        "negDf_train['label'] = 0\n",
        "test['label'] = 1\n",
        "negDf_test['label'] = 0"
      ]
    },
    {
      "cell_type": "code",
      "execution_count": 46,
      "metadata": {
        "id": "-FERnTz276LC"
      },
      "outputs": [],
      "source": [
        "train_data = pd.concat([train,negDf_train], axis=0).reset_index(drop=True) # merge positive and negative samples\n",
        "train_data.fillna(0, inplace=True) # fill missing values with 0\n",
        "test_data = pd.concat([test,negDf_test], axis=0).reset_index(drop=True) # merge positive and negative samples\n",
        "test_data.fillna(0, inplace=True) # fill missing values with 0"
      ]
    },
    {
      "cell_type": "code",
      "execution_count": 47,
      "metadata": {
        "id": "3kXo3lCh76LC",
        "outputId": "fbc97bdf-2aaf-43b2-cc8c-9efcd05cfde4",
        "colab": {
          "base_uri": "https://localhost:8080/"
        }
      },
      "outputs": [
        {
          "output_type": "execute_result",
          "data": {
            "text/plain": [
              "t_dat                 0\n",
              "customer_id           0\n",
              "article_id            0\n",
              "price                 0\n",
              "product_group_name    0\n",
              "colour_group_name     0\n",
              "section_name          0\n",
              "is_popular            0\n",
              "nArticles             0\n",
              "nDays                 0\n",
              "nPurchases            0\n",
              "nSect                 0\n",
              "age_interval          0\n",
              "label                 0\n",
              "dtype: int64"
            ]
          },
          "metadata": {},
          "execution_count": 47
        }
      ],
      "source": [
        "train_data.isnull().sum()"
      ]
    },
    {
      "cell_type": "code",
      "execution_count": 48,
      "metadata": {
        "id": "TTReje9N76LC",
        "outputId": "093b4d35-54e4-4fe6-f19a-648c94f88745",
        "colab": {
          "base_uri": "https://localhost:8080/"
        }
      },
      "outputs": [
        {
          "output_type": "execute_result",
          "data": {
            "text/plain": [
              "((29604, 14), (16526, 14))"
            ]
          },
          "metadata": {},
          "execution_count": 48
        }
      ],
      "source": [
        "train_data.shape, test_data.shape"
      ]
    },
    {
      "cell_type": "code",
      "execution_count": 49,
      "metadata": {
        "id": "YoRx_B0y76LC",
        "outputId": "f6e96467-5038-4dae-e718-0aacf842602b",
        "colab": {
          "base_uri": "https://localhost:8080/"
        }
      },
      "outputs": [
        {
          "output_type": "execute_result",
          "data": {
            "text/plain": [
              "t_dat                 0\n",
              "customer_id           0\n",
              "article_id            0\n",
              "price                 0\n",
              "product_group_name    0\n",
              "colour_group_name     0\n",
              "section_name          0\n",
              "is_popular            0\n",
              "nArticles             0\n",
              "nDays                 0\n",
              "nPurchases            0\n",
              "nSect                 0\n",
              "age_interval          0\n",
              "label                 0\n",
              "dtype: int64"
            ]
          },
          "metadata": {},
          "execution_count": 49
        }
      ],
      "source": [
        "test_data.isnull().sum()"
      ]
    },
    {
      "cell_type": "code",
      "execution_count": 50,
      "metadata": {
        "id": "45SMIDBh76LC",
        "outputId": "003c1fbf-19f2-4647-e032-e7a955020ef8",
        "colab": {
          "base_uri": "https://localhost:8080/"
        }
      },
      "outputs": [
        {
          "output_type": "stream",
          "name": "stdout",
          "text": [
            "train data labels  0    22236\n",
            "1     7368\n",
            "Name: label, dtype: int64\n",
            "test data labels  0    12430\n",
            "1     4096\n",
            "Name: label, dtype: int64\n"
          ]
        }
      ],
      "source": [
        "print(f'train data labels  {train_data.label.value_counts()}')\n",
        "print(f'test data labels  {test_data.label.value_counts()}')\n"
      ]
    },
    {
      "cell_type": "code",
      "execution_count": 51,
      "metadata": {
        "id": "NgmqewKy76LD"
      },
      "outputs": [],
      "source": [
        "from  sklearn.preprocessing import StandardScaler\n",
        "\n",
        "def normalize(subset, test_mode=False, scaler=None):\n",
        "    '''\n",
        "    subset = dataframe containg all the data\n",
        "    returns = scaled data for all the int and float colmuns along with the\n",
        "             non numeric data\n",
        "    filter:\n",
        "         scaler type:\n",
        "         1. MinMax Scaler : 'minmax'\n",
        "         2. Standard Scaler : 'standard'\n",
        "         3. Robust Scaler : 'robust'\n",
        "    '''\n",
        " \n",
        "    continious_columns = subset.select_dtypes(include=['float32','float64']).columns\n",
        "    categorical_columns = subset.select_dtypes(include=['object']).columns\n",
        "    numeric_columns = subset.select_dtypes(include=['int64','int32']).columns\n",
        "    non_numeric_columns = subset.select_dtypes(exclude=['float32','float64','int64','int32','object']).columns\n",
        "    if not test_mode:\n",
        "        scaler = StandardScaler()\n",
        "        scaler.fit(subset[continious_columns])\n",
        "    scaled_data = scaler.transform(subset[continious_columns])\n",
        "    scaled_data = pd.DataFrame(scaled_data, columns=continious_columns)\n",
        "    scaled_data = pd.concat([scaled_data, subset[categorical_columns], subset[numeric_columns]], axis=1)\n",
        "    scaled_data = pd.concat([scaled_data, subset[non_numeric_columns]], axis=1)\n",
        "    return scaled_data, scaler"
      ]
    },
    {
      "cell_type": "code",
      "execution_count": 52,
      "metadata": {
        "id": "F0ECOEN076LD"
      },
      "outputs": [],
      "source": [
        "train_data_scaled, scaler = normalize(train_data) # normalize train data\n",
        "test_data_scaled, _ = normalize(test_data, test_mode=True, scaler=scaler) # normalize test data with the same scaler"
      ]
    },
    {
      "cell_type": "code",
      "execution_count": 53,
      "metadata": {
        "id": "-SEpbKHO76LD",
        "outputId": "4036380e-411b-4a5e-df19-f1a556f4f1ee",
        "colab": {
          "base_uri": "https://localhost:8080/",
          "height": 0
        }
      },
      "outputs": [
        {
          "output_type": "execute_result",
          "data": {
            "text/plain": [
              "      price  is_popular  nArticles     nDays  nPurchases     nSect  \\\n",
              "0 -0.872510     2.15855   0.917367 -0.909808    0.868212  0.221017   \n",
              "1 -0.650987     2.15855   0.917367 -0.909808    0.868212  0.221017   \n",
              "\n",
              "                 t_dat                                        customer_id  \\\n",
              "0  2020-06-24 00:00:00  00c571917952c5c99ffb38e7f75b2e91a6b179591cd030...   \n",
              "1  2020-06-24 00:00:00  00c571917952c5c99ffb38e7f75b2e91a6b179591cd030...   \n",
              "\n",
              "   product_group_name colour_group_name            section_name age_interval  \\\n",
              "0  Garment Upper body             White          Divided Basics  Working Age   \n",
              "1  Garment Upper body             Black  Womens Everyday Basics  Working Age   \n",
              "\n",
              "   article_id  label  \n",
              "0   678342028      1  \n",
              "1   863937010      1  "
            ],
            "text/html": [
              "\n",
              "  <div id=\"df-55e9cf3c-99cb-4995-9731-c5e416e1aeb9\">\n",
              "    <div class=\"colab-df-container\">\n",
              "      <div>\n",
              "<style scoped>\n",
              "    .dataframe tbody tr th:only-of-type {\n",
              "        vertical-align: middle;\n",
              "    }\n",
              "\n",
              "    .dataframe tbody tr th {\n",
              "        vertical-align: top;\n",
              "    }\n",
              "\n",
              "    .dataframe thead th {\n",
              "        text-align: right;\n",
              "    }\n",
              "</style>\n",
              "<table border=\"1\" class=\"dataframe\">\n",
              "  <thead>\n",
              "    <tr style=\"text-align: right;\">\n",
              "      <th></th>\n",
              "      <th>price</th>\n",
              "      <th>is_popular</th>\n",
              "      <th>nArticles</th>\n",
              "      <th>nDays</th>\n",
              "      <th>nPurchases</th>\n",
              "      <th>nSect</th>\n",
              "      <th>t_dat</th>\n",
              "      <th>customer_id</th>\n",
              "      <th>product_group_name</th>\n",
              "      <th>colour_group_name</th>\n",
              "      <th>section_name</th>\n",
              "      <th>age_interval</th>\n",
              "      <th>article_id</th>\n",
              "      <th>label</th>\n",
              "    </tr>\n",
              "  </thead>\n",
              "  <tbody>\n",
              "    <tr>\n",
              "      <th>0</th>\n",
              "      <td>-0.872510</td>\n",
              "      <td>2.15855</td>\n",
              "      <td>0.917367</td>\n",
              "      <td>-0.909808</td>\n",
              "      <td>0.868212</td>\n",
              "      <td>0.221017</td>\n",
              "      <td>2020-06-24 00:00:00</td>\n",
              "      <td>00c571917952c5c99ffb38e7f75b2e91a6b179591cd030...</td>\n",
              "      <td>Garment Upper body</td>\n",
              "      <td>White</td>\n",
              "      <td>Divided Basics</td>\n",
              "      <td>Working Age</td>\n",
              "      <td>678342028</td>\n",
              "      <td>1</td>\n",
              "    </tr>\n",
              "    <tr>\n",
              "      <th>1</th>\n",
              "      <td>-0.650987</td>\n",
              "      <td>2.15855</td>\n",
              "      <td>0.917367</td>\n",
              "      <td>-0.909808</td>\n",
              "      <td>0.868212</td>\n",
              "      <td>0.221017</td>\n",
              "      <td>2020-06-24 00:00:00</td>\n",
              "      <td>00c571917952c5c99ffb38e7f75b2e91a6b179591cd030...</td>\n",
              "      <td>Garment Upper body</td>\n",
              "      <td>Black</td>\n",
              "      <td>Womens Everyday Basics</td>\n",
              "      <td>Working Age</td>\n",
              "      <td>863937010</td>\n",
              "      <td>1</td>\n",
              "    </tr>\n",
              "  </tbody>\n",
              "</table>\n",
              "</div>\n",
              "      <button class=\"colab-df-convert\" onclick=\"convertToInteractive('df-55e9cf3c-99cb-4995-9731-c5e416e1aeb9')\"\n",
              "              title=\"Convert this dataframe to an interactive table.\"\n",
              "              style=\"display:none;\">\n",
              "        \n",
              "  <svg xmlns=\"http://www.w3.org/2000/svg\" height=\"24px\"viewBox=\"0 0 24 24\"\n",
              "       width=\"24px\">\n",
              "    <path d=\"M0 0h24v24H0V0z\" fill=\"none\"/>\n",
              "    <path d=\"M18.56 5.44l.94 2.06.94-2.06 2.06-.94-2.06-.94-.94-2.06-.94 2.06-2.06.94zm-11 1L8.5 8.5l.94-2.06 2.06-.94-2.06-.94L8.5 2.5l-.94 2.06-2.06.94zm10 10l.94 2.06.94-2.06 2.06-.94-2.06-.94-.94-2.06-.94 2.06-2.06.94z\"/><path d=\"M17.41 7.96l-1.37-1.37c-.4-.4-.92-.59-1.43-.59-.52 0-1.04.2-1.43.59L10.3 9.45l-7.72 7.72c-.78.78-.78 2.05 0 2.83L4 21.41c.39.39.9.59 1.41.59.51 0 1.02-.2 1.41-.59l7.78-7.78 2.81-2.81c.8-.78.8-2.07 0-2.86zM5.41 20L4 18.59l7.72-7.72 1.47 1.35L5.41 20z\"/>\n",
              "  </svg>\n",
              "      </button>\n",
              "      \n",
              "  <style>\n",
              "    .colab-df-container {\n",
              "      display:flex;\n",
              "      flex-wrap:wrap;\n",
              "      gap: 12px;\n",
              "    }\n",
              "\n",
              "    .colab-df-convert {\n",
              "      background-color: #E8F0FE;\n",
              "      border: none;\n",
              "      border-radius: 50%;\n",
              "      cursor: pointer;\n",
              "      display: none;\n",
              "      fill: #1967D2;\n",
              "      height: 32px;\n",
              "      padding: 0 0 0 0;\n",
              "      width: 32px;\n",
              "    }\n",
              "\n",
              "    .colab-df-convert:hover {\n",
              "      background-color: #E2EBFA;\n",
              "      box-shadow: 0px 1px 2px rgba(60, 64, 67, 0.3), 0px 1px 3px 1px rgba(60, 64, 67, 0.15);\n",
              "      fill: #174EA6;\n",
              "    }\n",
              "\n",
              "    [theme=dark] .colab-df-convert {\n",
              "      background-color: #3B4455;\n",
              "      fill: #D2E3FC;\n",
              "    }\n",
              "\n",
              "    [theme=dark] .colab-df-convert:hover {\n",
              "      background-color: #434B5C;\n",
              "      box-shadow: 0px 1px 3px 1px rgba(0, 0, 0, 0.15);\n",
              "      filter: drop-shadow(0px 1px 2px rgba(0, 0, 0, 0.3));\n",
              "      fill: #FFFFFF;\n",
              "    }\n",
              "  </style>\n",
              "\n",
              "      <script>\n",
              "        const buttonEl =\n",
              "          document.querySelector('#df-55e9cf3c-99cb-4995-9731-c5e416e1aeb9 button.colab-df-convert');\n",
              "        buttonEl.style.display =\n",
              "          google.colab.kernel.accessAllowed ? 'block' : 'none';\n",
              "\n",
              "        async function convertToInteractive(key) {\n",
              "          const element = document.querySelector('#df-55e9cf3c-99cb-4995-9731-c5e416e1aeb9');\n",
              "          const dataTable =\n",
              "            await google.colab.kernel.invokeFunction('convertToInteractive',\n",
              "                                                     [key], {});\n",
              "          if (!dataTable) return;\n",
              "\n",
              "          const docLinkHtml = 'Like what you see? Visit the ' +\n",
              "            '<a target=\"_blank\" href=https://colab.research.google.com/notebooks/data_table.ipynb>data table notebook</a>'\n",
              "            + ' to learn more about interactive tables.';\n",
              "          element.innerHTML = '';\n",
              "          dataTable['output_type'] = 'display_data';\n",
              "          await google.colab.output.renderOutput(dataTable, element);\n",
              "          const docLink = document.createElement('div');\n",
              "          docLink.innerHTML = docLinkHtml;\n",
              "          element.appendChild(docLink);\n",
              "        }\n",
              "      </script>\n",
              "    </div>\n",
              "  </div>\n",
              "  "
            ]
          },
          "metadata": {},
          "execution_count": 53
        }
      ],
      "source": [
        "train_data_scaled.head(2)"
      ]
    },
    {
      "cell_type": "code",
      "execution_count": 54,
      "metadata": {
        "id": "LHBWDJFW76LD",
        "outputId": "7366439d-b8c2-490a-cb3a-0199c0ff4002",
        "colab": {
          "base_uri": "https://localhost:8080/",
          "height": 0
        }
      },
      "outputs": [
        {
          "output_type": "execute_result",
          "data": {
            "text/plain": [
              "      price  is_popular  nArticles    nDays  nPurchases     nSect  \\\n",
              "0 -0.109903   -0.463274  -0.389739 -0.23031   -0.408007  0.221017   \n",
              "1  0.524731   -0.463274  -0.389739 -0.23031   -0.408007  0.221017   \n",
              "\n",
              "                 t_dat                                        customer_id  \\\n",
              "0  2020-09-08 00:00:00  05e0a597465504e1e73bef0b9253cdc6129c8299cb245d...   \n",
              "1  2020-09-08 00:00:00  05e0a597465504e1e73bef0b9253cdc6129c8299cb245d...   \n",
              "\n",
              "   product_group_name colour_group_name         section_name age_interval  \\\n",
              "0  Garment Upper body             Beige     Womens Tailoring   Middle Age   \n",
              "1  Garment Upper body            Yellow  Special Collections   Middle Age   \n",
              "\n",
              "   article_id  label  \n",
              "0   762846027      1  \n",
              "1   797608001      1  "
            ],
            "text/html": [
              "\n",
              "  <div id=\"df-160a9c4a-34d3-442f-9e2f-5838b4fce5a5\">\n",
              "    <div class=\"colab-df-container\">\n",
              "      <div>\n",
              "<style scoped>\n",
              "    .dataframe tbody tr th:only-of-type {\n",
              "        vertical-align: middle;\n",
              "    }\n",
              "\n",
              "    .dataframe tbody tr th {\n",
              "        vertical-align: top;\n",
              "    }\n",
              "\n",
              "    .dataframe thead th {\n",
              "        text-align: right;\n",
              "    }\n",
              "</style>\n",
              "<table border=\"1\" class=\"dataframe\">\n",
              "  <thead>\n",
              "    <tr style=\"text-align: right;\">\n",
              "      <th></th>\n",
              "      <th>price</th>\n",
              "      <th>is_popular</th>\n",
              "      <th>nArticles</th>\n",
              "      <th>nDays</th>\n",
              "      <th>nPurchases</th>\n",
              "      <th>nSect</th>\n",
              "      <th>t_dat</th>\n",
              "      <th>customer_id</th>\n",
              "      <th>product_group_name</th>\n",
              "      <th>colour_group_name</th>\n",
              "      <th>section_name</th>\n",
              "      <th>age_interval</th>\n",
              "      <th>article_id</th>\n",
              "      <th>label</th>\n",
              "    </tr>\n",
              "  </thead>\n",
              "  <tbody>\n",
              "    <tr>\n",
              "      <th>0</th>\n",
              "      <td>-0.109903</td>\n",
              "      <td>-0.463274</td>\n",
              "      <td>-0.389739</td>\n",
              "      <td>-0.23031</td>\n",
              "      <td>-0.408007</td>\n",
              "      <td>0.221017</td>\n",
              "      <td>2020-09-08 00:00:00</td>\n",
              "      <td>05e0a597465504e1e73bef0b9253cdc6129c8299cb245d...</td>\n",
              "      <td>Garment Upper body</td>\n",
              "      <td>Beige</td>\n",
              "      <td>Womens Tailoring</td>\n",
              "      <td>Middle Age</td>\n",
              "      <td>762846027</td>\n",
              "      <td>1</td>\n",
              "    </tr>\n",
              "    <tr>\n",
              "      <th>1</th>\n",
              "      <td>0.524731</td>\n",
              "      <td>-0.463274</td>\n",
              "      <td>-0.389739</td>\n",
              "      <td>-0.23031</td>\n",
              "      <td>-0.408007</td>\n",
              "      <td>0.221017</td>\n",
              "      <td>2020-09-08 00:00:00</td>\n",
              "      <td>05e0a597465504e1e73bef0b9253cdc6129c8299cb245d...</td>\n",
              "      <td>Garment Upper body</td>\n",
              "      <td>Yellow</td>\n",
              "      <td>Special Collections</td>\n",
              "      <td>Middle Age</td>\n",
              "      <td>797608001</td>\n",
              "      <td>1</td>\n",
              "    </tr>\n",
              "  </tbody>\n",
              "</table>\n",
              "</div>\n",
              "      <button class=\"colab-df-convert\" onclick=\"convertToInteractive('df-160a9c4a-34d3-442f-9e2f-5838b4fce5a5')\"\n",
              "              title=\"Convert this dataframe to an interactive table.\"\n",
              "              style=\"display:none;\">\n",
              "        \n",
              "  <svg xmlns=\"http://www.w3.org/2000/svg\" height=\"24px\"viewBox=\"0 0 24 24\"\n",
              "       width=\"24px\">\n",
              "    <path d=\"M0 0h24v24H0V0z\" fill=\"none\"/>\n",
              "    <path d=\"M18.56 5.44l.94 2.06.94-2.06 2.06-.94-2.06-.94-.94-2.06-.94 2.06-2.06.94zm-11 1L8.5 8.5l.94-2.06 2.06-.94-2.06-.94L8.5 2.5l-.94 2.06-2.06.94zm10 10l.94 2.06.94-2.06 2.06-.94-2.06-.94-.94-2.06-.94 2.06-2.06.94z\"/><path d=\"M17.41 7.96l-1.37-1.37c-.4-.4-.92-.59-1.43-.59-.52 0-1.04.2-1.43.59L10.3 9.45l-7.72 7.72c-.78.78-.78 2.05 0 2.83L4 21.41c.39.39.9.59 1.41.59.51 0 1.02-.2 1.41-.59l7.78-7.78 2.81-2.81c.8-.78.8-2.07 0-2.86zM5.41 20L4 18.59l7.72-7.72 1.47 1.35L5.41 20z\"/>\n",
              "  </svg>\n",
              "      </button>\n",
              "      \n",
              "  <style>\n",
              "    .colab-df-container {\n",
              "      display:flex;\n",
              "      flex-wrap:wrap;\n",
              "      gap: 12px;\n",
              "    }\n",
              "\n",
              "    .colab-df-convert {\n",
              "      background-color: #E8F0FE;\n",
              "      border: none;\n",
              "      border-radius: 50%;\n",
              "      cursor: pointer;\n",
              "      display: none;\n",
              "      fill: #1967D2;\n",
              "      height: 32px;\n",
              "      padding: 0 0 0 0;\n",
              "      width: 32px;\n",
              "    }\n",
              "\n",
              "    .colab-df-convert:hover {\n",
              "      background-color: #E2EBFA;\n",
              "      box-shadow: 0px 1px 2px rgba(60, 64, 67, 0.3), 0px 1px 3px 1px rgba(60, 64, 67, 0.15);\n",
              "      fill: #174EA6;\n",
              "    }\n",
              "\n",
              "    [theme=dark] .colab-df-convert {\n",
              "      background-color: #3B4455;\n",
              "      fill: #D2E3FC;\n",
              "    }\n",
              "\n",
              "    [theme=dark] .colab-df-convert:hover {\n",
              "      background-color: #434B5C;\n",
              "      box-shadow: 0px 1px 3px 1px rgba(0, 0, 0, 0.15);\n",
              "      filter: drop-shadow(0px 1px 2px rgba(0, 0, 0, 0.3));\n",
              "      fill: #FFFFFF;\n",
              "    }\n",
              "  </style>\n",
              "\n",
              "      <script>\n",
              "        const buttonEl =\n",
              "          document.querySelector('#df-160a9c4a-34d3-442f-9e2f-5838b4fce5a5 button.colab-df-convert');\n",
              "        buttonEl.style.display =\n",
              "          google.colab.kernel.accessAllowed ? 'block' : 'none';\n",
              "\n",
              "        async function convertToInteractive(key) {\n",
              "          const element = document.querySelector('#df-160a9c4a-34d3-442f-9e2f-5838b4fce5a5');\n",
              "          const dataTable =\n",
              "            await google.colab.kernel.invokeFunction('convertToInteractive',\n",
              "                                                     [key], {});\n",
              "          if (!dataTable) return;\n",
              "\n",
              "          const docLinkHtml = 'Like what you see? Visit the ' +\n",
              "            '<a target=\"_blank\" href=https://colab.research.google.com/notebooks/data_table.ipynb>data table notebook</a>'\n",
              "            + ' to learn more about interactive tables.';\n",
              "          element.innerHTML = '';\n",
              "          dataTable['output_type'] = 'display_data';\n",
              "          await google.colab.output.renderOutput(dataTable, element);\n",
              "          const docLink = document.createElement('div');\n",
              "          docLink.innerHTML = docLinkHtml;\n",
              "          element.appendChild(docLink);\n",
              "        }\n",
              "      </script>\n",
              "    </div>\n",
              "  </div>\n",
              "  "
            ]
          },
          "metadata": {},
          "execution_count": 54
        }
      ],
      "source": [
        "test_data_scaled.head(2)"
      ]
    },
    {
      "cell_type": "markdown",
      "metadata": {
        "id": "RVMzOez376LD"
      },
      "source": [
        "## Single Task Model"
      ]
    },
    {
      "cell_type": "code",
      "execution_count": 55,
      "metadata": {
        "id": "r6Bk-1LC76LE"
      },
      "outputs": [],
      "source": [
        "\n",
        "# Declaring Numerical and Categorical Columns\n",
        "numeric_features =['price', 'nArticles', 'nDays', 'nPurchases', 'nSect','is_popular'] \n",
        "categorical_features_product  = ['product_group_name'] \n",
        "categorical_features_color = ['colour_group_name']\n",
        "categorical_features_section = ['section_name']\n",
        "categorical_features_age = ['age_interval']\n",
        "\n",
        "# Converting Numeric Columns to array and Categorical Columns to Strig\n",
        "numeric_data = train_data_scaled[numeric_features].values # convert to numpy array\n",
        "categorical_data = train_data_scaled[categorical_features_product].astype('str') \n",
        "categorical_data_color = train_data_scaled[categorical_features_color].astype('str') \n",
        "categorical_data_section = train_data_scaled[categorical_features_section].astype('str')\n",
        "categorical_data_age = train_data_scaled[categorical_features_age].astype('str')\n",
        "target = train_data_scaled['label'].values\n",
        "\n",
        "#numeric inputs\n",
        "input2numeric_layer = tf.keras.Input((len(numeric_features)), name='numeric_input') # input layer\n",
        "numeric_layer = tf.keras.layers.Dense(100, activation='relu')(input2numeric_layer) # hidden layer\n",
        "numeric_layer = tf.keras.layers.Dense(100, activation='relu')(numeric_layer) # hidden layer\n",
        "\n",
        "#categorical features creating one hot encoding for each categorical feature using String Lookup\n",
        "unique_product_names = categorical_data['product_group_name'].unique().astype(str) # get unique product names\n",
        "input2categorical_layer = tf.keras.Input((1,), name='categorical_input', dtype=tf.string) # input layer\n",
        "categrorical2Stringlookup = tf.keras.layers.StringLookup(vocabulary=unique_product_names, output_mode='one_hot')(input2categorical_layer) # lookup layer\n",
        "\n",
        "uniquee_color_names = categorical_data_color['colour_group_name'].unique().astype(str) # get unique color names\n",
        "input2categorical_layer_color = tf.keras.Input((1,), name='categorical_input_color', dtype=tf.string) # input layer\n",
        "categrorical2Stringlookup_color = tf.keras.layers.StringLookup(vocabulary=uniquee_color_names, output_mode='one_hot')(input2categorical_layer_color) # lookup layer\n",
        "\n",
        "unique_section_names = categorical_data_section['section_name'].unique().astype(str) # get unique section names\n",
        "input2categorical_layer_section = tf.keras.Input((1,), name='categorical_input_section', dtype=tf.string) # input layer\n",
        "categrorical2Stringlookup_section = tf.keras.layers.StringLookup(vocabulary=unique_section_names, output_mode='one_hot')(input2categorical_layer_section) # lookup layer\n",
        "\n",
        "unique_age_intervals = categorical_data_age['age_interval'].unique().astype(str) # get unique age intervals\n",
        "input2categorical_layer_age = tf.keras.Input((1,), name='categorical_input_age', dtype=tf.string) # input layer\n",
        "categrorical2Stringlookup_age = tf.keras.layers.StringLookup(vocabulary=unique_age_intervals, output_mode='one_hot')(input2categorical_layer_age) # lookup layer\n",
        "\n",
        "\n",
        "#concatenating the categorical and numeric layers\n",
        "concatenated_layer = tf.keras.layers.concatenate([numeric_layer, categrorical2Stringlookup]) # concatenate layer\n",
        "concatenated_layer = tf.keras.layers.concatenate([concatenated_layer, categrorical2Stringlookup_color]) # concatenate layer\n",
        "concatenated_layer = tf.keras.layers.concatenate([concatenated_layer, categrorical2Stringlookup_section]) # concatenate layer\n",
        "concatenated_layer = tf.keras.layers.concatenate([concatenated_layer, categrorical2Stringlookup_age]) # concatenate layer\n",
        "concatenated_layer2dense = tf.keras.layers.Dense(100, activation='relu')(concatenated_layer) # hidden layer\n",
        "concatenated_layer2dense = tf.keras.layers.Dense(10, activation='relu')(concatenated_layer2dense) # hidden layer\n",
        "concatenated_layer2output = tf.keras.layers.Dense(1, activation='sigmoid')(concatenated_layer2dense) # output layer\n",
        "\n",
        "\n",
        "\n"
      ]
    },
    {
      "cell_type": "code",
      "execution_count": 56,
      "metadata": {
        "id": "i4C1dBIt76LE"
      },
      "outputs": [],
      "source": [
        "cost_function = tf.keras.losses.BinaryCrossentropy(from_logits=False) # cost function\n",
        "optimizer = tf.keras.optimizers.Adam(learning_rate=0.001) # optimizer\n",
        "metric = tf.keras.metrics.BinaryAccuracy() # metric"
      ]
    },
    {
      "cell_type": "code",
      "execution_count": 57,
      "metadata": {
        "id": "Nxwx3-yt76LE"
      },
      "outputs": [],
      "source": [
        "model = tf.keras.Model(inputs=[input2numeric_layer, input2categorical_layer,input2categorical_layer_color,input2categorical_layer_section,input2categorical_layer_age], outputs=concatenated_layer2output) # model"
      ]
    },
    {
      "cell_type": "code",
      "execution_count": 58,
      "metadata": {
        "id": "JgDzf5VD76LF",
        "colab": {
          "base_uri": "https://localhost:8080/"
        },
        "outputId": "dc4655fc-09c8-42c4-ee55-56abfa87bb27"
      },
      "outputs": [
        {
          "output_type": "stream",
          "name": "stdout",
          "text": [
            "Model: \"model\"\n",
            "__________________________________________________________________________________________________\n",
            " Layer (type)                   Output Shape         Param #     Connected to                     \n",
            "==================================================================================================\n",
            " numeric_input (InputLayer)     [(None, 6)]          0           []                               \n",
            "                                                                                                  \n",
            " dense (Dense)                  (None, 100)          700         ['numeric_input[0][0]']          \n",
            "                                                                                                  \n",
            " categorical_input (InputLayer)  [(None, 1)]         0           []                               \n",
            "                                                                                                  \n",
            " dense_1 (Dense)                (None, 100)          10100       ['dense[0][0]']                  \n",
            "                                                                                                  \n",
            " string_lookup (StringLookup)   (None, 13)           0           ['categorical_input[0][0]']      \n",
            "                                                                                                  \n",
            " categorical_input_color (Input  [(None, 1)]         0           []                               \n",
            " Layer)                                                                                           \n",
            "                                                                                                  \n",
            " concatenate (Concatenate)      (None, 113)          0           ['dense_1[0][0]',                \n",
            "                                                                  'string_lookup[0][0]']          \n",
            "                                                                                                  \n",
            " string_lookup_1 (StringLookup)  (None, 49)          0           ['categorical_input_color[0][0]']\n",
            "                                                                                                  \n",
            " categorical_input_section (Inp  [(None, 1)]         0           []                               \n",
            " utLayer)                                                                                         \n",
            "                                                                                                  \n",
            " concatenate_1 (Concatenate)    (None, 162)          0           ['concatenate[0][0]',            \n",
            "                                                                  'string_lookup_1[0][0]']        \n",
            "                                                                                                  \n",
            " string_lookup_2 (StringLookup)  (None, 51)          0           ['categorical_input_section[0][0]\n",
            "                                                                 ']                               \n",
            "                                                                                                  \n",
            " categorical_input_age (InputLa  [(None, 1)]         0           []                               \n",
            " yer)                                                                                             \n",
            "                                                                                                  \n",
            " concatenate_2 (Concatenate)    (None, 213)          0           ['concatenate_1[0][0]',          \n",
            "                                                                  'string_lookup_2[0][0]']        \n",
            "                                                                                                  \n",
            " string_lookup_3 (StringLookup)  (None, 5)           0           ['categorical_input_age[0][0]']  \n",
            "                                                                                                  \n",
            " concatenate_3 (Concatenate)    (None, 218)          0           ['concatenate_2[0][0]',          \n",
            "                                                                  'string_lookup_3[0][0]']        \n",
            "                                                                                                  \n",
            " dense_2 (Dense)                (None, 100)          21900       ['concatenate_3[0][0]']          \n",
            "                                                                                                  \n",
            " dense_3 (Dense)                (None, 10)           1010        ['dense_2[0][0]']                \n",
            "                                                                                                  \n",
            " dense_4 (Dense)                (None, 1)            11          ['dense_3[0][0]']                \n",
            "                                                                                                  \n",
            "==================================================================================================\n",
            "Total params: 33,721\n",
            "Trainable params: 33,721\n",
            "Non-trainable params: 0\n",
            "__________________________________________________________________________________________________\n"
          ]
        }
      ],
      "source": [
        "model.summary() # print model summary"
      ]
    },
    {
      "cell_type": "code",
      "source": [
        "tf.keras.utils.plot_model(\n",
        "    model,\n",
        "    to_file='model.png',\n",
        "    show_shapes=False,\n",
        "    show_dtype=False,\n",
        "    show_layer_names=True,\n",
        "    rankdir='TB',\n",
        "    expand_nested=False,\n",
        "    dpi=96,\n",
        "    layer_range=None,\n",
        "    show_layer_activations=False\n",
        ")"
      ],
      "metadata": {
        "colab": {
          "base_uri": "https://localhost:8080/",
          "height": 953
        },
        "id": "bICPpS-ULAvV",
        "outputId": "cbbf0253-39c7-49c3-9fb8-bb39579f8827"
      },
      "execution_count": 59,
      "outputs": [
        {
          "output_type": "execute_result",
          "data": {
            "text/plain": [
              "<IPython.core.display.Image object>"
            ],
            "image/png": "[encoded data removed]"
          },
          "metadata": {},
          "execution_count": 59
        }
      ]
    },
    {
      "cell_type": "code",
      "execution_count": 60,
      "metadata": {
        "id": "jJqLE4jq76LF"
      },
      "outputs": [],
      "source": [
        "model.compile(optimizer=optimizer, loss=cost_function, metrics=[metric]) # compile model"
      ]
    },
    {
      "cell_type": "code",
      "execution_count": 61,
      "metadata": {
        "id": "MueK8Sn976LF",
        "outputId": "f7824b3d-55a1-4025-e809-27728ae6e2db",
        "colab": {
          "base_uri": "https://localhost:8080/"
        }
      },
      "outputs": [
        {
          "output_type": "stream",
          "name": "stdout",
          "text": [
            "Epoch 1/30\n",
            "926/926 [==============================] - 5s 4ms/step - loss: 0.2539 - binary_accuracy: 0.9254\n",
            "Epoch 2/30\n",
            "926/926 [==============================] - 4s 4ms/step - loss: 0.2407 - binary_accuracy: 0.9278\n",
            "Epoch 3/30\n",
            "926/926 [==============================] - 4s 4ms/step - loss: 0.2336 - binary_accuracy: 0.9282\n",
            "Epoch 4/30\n",
            "926/926 [==============================] - 4s 4ms/step - loss: 0.2229 - binary_accuracy: 0.9304\n",
            "Epoch 5/30\n",
            "926/926 [==============================] - 4s 4ms/step - loss: 0.2084 - binary_accuracy: 0.9343\n",
            "Epoch 6/30\n",
            "926/926 [==============================] - 4s 4ms/step - loss: 0.1932 - binary_accuracy: 0.9384\n",
            "Epoch 7/30\n",
            "926/926 [==============================] - 4s 4ms/step - loss: 0.1792 - binary_accuracy: 0.9425\n",
            "Epoch 8/30\n",
            "926/926 [==============================] - 4s 4ms/step - loss: 0.1645 - binary_accuracy: 0.9468\n",
            "Epoch 9/30\n",
            "926/926 [==============================] - 4s 4ms/step - loss: 0.1537 - binary_accuracy: 0.9509\n",
            "Epoch 10/30\n",
            "926/926 [==============================] - 5s 5ms/step - loss: 0.1439 - binary_accuracy: 0.9536\n",
            "Epoch 11/30\n",
            "926/926 [==============================] - 7s 7ms/step - loss: 0.1302 - binary_accuracy: 0.9580\n",
            "Epoch 12/30\n",
            "926/926 [==============================] - 6s 7ms/step - loss: 0.1215 - binary_accuracy: 0.9615\n",
            "Epoch 13/30\n",
            "926/926 [==============================] - 5s 5ms/step - loss: 0.1140 - binary_accuracy: 0.9637\n",
            "Epoch 14/30\n",
            "926/926 [==============================] - 5s 6ms/step - loss: 0.1062 - binary_accuracy: 0.9662\n",
            "Epoch 15/30\n",
            "926/926 [==============================] - 6s 6ms/step - loss: 0.0996 - binary_accuracy: 0.9674\n",
            "Epoch 16/30\n",
            "926/926 [==============================] - 6s 7ms/step - loss: 0.0928 - binary_accuracy: 0.9700\n",
            "Epoch 17/30\n",
            "926/926 [==============================] - 7s 7ms/step - loss: 0.0905 - binary_accuracy: 0.9708\n",
            "Epoch 18/30\n",
            "926/926 [==============================] - 5s 6ms/step - loss: 0.0837 - binary_accuracy: 0.9727\n",
            "Epoch 19/30\n",
            "926/926 [==============================] - 5s 5ms/step - loss: 0.0795 - binary_accuracy: 0.9736\n",
            "Epoch 20/30\n",
            "926/926 [==============================] - 5s 6ms/step - loss: 0.0732 - binary_accuracy: 0.9770\n",
            "Epoch 21/30\n",
            "926/926 [==============================] - 5s 5ms/step - loss: 0.0705 - binary_accuracy: 0.9763\n",
            "Epoch 22/30\n",
            "926/926 [==============================] - 4s 4ms/step - loss: 0.0699 - binary_accuracy: 0.9769\n",
            "Epoch 23/30\n",
            "926/926 [==============================] - 4s 4ms/step - loss: 0.0663 - binary_accuracy: 0.9775\n",
            "Epoch 24/30\n",
            "926/926 [==============================] - 4s 4ms/step - loss: 0.0581 - binary_accuracy: 0.9810\n",
            "Epoch 25/30\n",
            "926/926 [==============================] - 4s 4ms/step - loss: 0.0568 - binary_accuracy: 0.9807\n",
            "Epoch 26/30\n",
            "926/926 [==============================] - 4s 4ms/step - loss: 0.0570 - binary_accuracy: 0.9805\n",
            "Epoch 27/30\n",
            "926/926 [==============================] - 4s 4ms/step - loss: 0.0519 - binary_accuracy: 0.9817\n",
            "Epoch 28/30\n",
            "926/926 [==============================] - 4s 4ms/step - loss: 0.0522 - binary_accuracy: 0.9821\n",
            "Epoch 29/30\n",
            "926/926 [==============================] - 4s 4ms/step - loss: 0.0518 - binary_accuracy: 0.9821\n",
            "Epoch 30/30\n",
            "926/926 [==============================] - 4s 4ms/step - loss: 0.0507 - binary_accuracy: 0.9837\n"
          ]
        },
        {
          "output_type": "execute_result",
          "data": {
            "text/plain": [
              "<keras.callbacks.History at 0x7f19b4e6f510>"
            ]
          },
          "metadata": {},
          "execution_count": 61
        }
      ],
      "source": [
        "model.fit(x=[numeric_data, categorical_data,categorical_data_color, categorical_data_section, categorical_data_age ], y=target, epochs=30) # train model"
      ]
    },
    {
      "cell_type": "code",
      "execution_count": 62,
      "metadata": {
        "id": "HVGYOI9g76LF",
        "outputId": "e27c3830-acc6-48ba-ff48-e2cd3143f609",
        "colab": {
          "base_uri": "https://localhost:8080/"
        }
      },
      "outputs": [
        {
          "output_type": "stream",
          "name": "stdout",
          "text": [
            "517/517 [==============================] - 1s 2ms/step\n",
            "0.7283069103231272\n"
          ]
        },
        {
          "output_type": "execute_result",
          "data": {
            "text/plain": [
              "array([1, 0, 1, ..., 1, 0, 0])"
            ]
          },
          "metadata": {},
          "execution_count": 62
        }
      ],
      "source": [
        "def evaluate(df):\n",
        "    X1 = np.asarray(df[numeric_features].values)\n",
        "    X2 = df['product_group_name'].astype(str)\n",
        "    X3 = df['colour_group_name'].astype(str)\n",
        "    X4 = df['section_name'].astype(str)\n",
        "    X5 = df['age_interval'].astype(str)\n",
        "    preds = model.predict([X1, X2, X3, X4, X5])\n",
        "    preds = (preds>=0.5).astype(int).flatten()\n",
        "    print(sum(preds == df['label'].values)/len(preds))\n",
        "    return preds\n",
        "\n",
        "\n",
        "evaluate(test_data_scaled)"
      ]
    },
    {
      "cell_type": "code",
      "execution_count": 63,
      "metadata": {
        "id": "kaIVscXt76LF",
        "outputId": "32d7d4d2-1b02-43ea-b911-43025f575e1f",
        "colab": {
          "base_uri": "https://localhost:8080/"
        }
      },
      "outputs": [
        {
          "output_type": "stream",
          "name": "stdout",
          "text": [
            "517/517 [==============================] - 1s 2ms/step\n",
            "0.7283069103231272\n"
          ]
        },
        {
          "output_type": "execute_result",
          "data": {
            "text/plain": [
              "array([11256,  5270])"
            ]
          },
          "metadata": {},
          "execution_count": 63
        }
      ],
      "source": [
        "np.bincount(evaluate(test_data_scaled))"
      ]
    },
    {
      "cell_type": "code",
      "execution_count": 64,
      "metadata": {
        "id": "hRU4xX_p76LG",
        "outputId": "c28f2fe9-3788-4609-c3c1-a0282cd148d9",
        "colab": {
          "base_uri": "https://localhost:8080/",
          "height": 350
        }
      },
      "outputs": [
        {
          "output_type": "stream",
          "name": "stdout",
          "text": [
            "517/517 [==============================] - 1s 2ms/step\n",
            "0.7283069103231272\n",
            "517/517 [==============================] - 1s 2ms/step\n",
            "0.7283069103231272\n"
          ]
        },
        {
          "output_type": "display_data",
          "data": {
            "text/plain": [
              "<Figure size 432x288 with 2 Axes>"
            ],
            "image/png": "[encoded data removed]"
          },
          "metadata": {
            "needs_background": "light"
          }
        }
      ],
      "source": [
        "from cProfile import label\n",
        "from sklearn.metrics import ConfusionMatrixDisplay, confusion_matrix, plot_confusion_matrix\n",
        "\n",
        "confusion_matrix(test_data_scaled['label'].values, evaluate(test_data_scaled))\n",
        "cm = confusion_matrix(test_data_scaled['label'].values, evaluate(test_data_scaled), labels=[0,1])\n",
        "disp = ConfusionMatrixDisplay(confusion_matrix=cm, display_labels=[0,1])\n",
        "disp.plot(values_format = '.0f')\n",
        "plt.grid(False)\n",
        "plt.show()"
      ]
    },
    {
      "cell_type": "markdown",
      "metadata": {
        "id": "2voN579y76LG"
      },
      "source": [
        "## Multi Task Model"
      ]
    },
    {
      "cell_type": "code",
      "source": [
        "# Add the second label for multi-task learning (whether the user would purchase an article from that product_group_name)\n",
        "\n",
        "customer2productgroups = dict(train.groupby('customer_id')['product_group_name'].apply(lambda x: set(list(x))))\n",
        "\n",
        "def add_label2_to_trainDF(train_data_scaled, test_data_scaled):\n",
        "    \"\"\"\n",
        "    write code here to add a new column to trainDF\n",
        "    the new column would be named label2 and it represents the label for the task 2\n",
        "    \n",
        "    After this function has been run, it can be safely assumed that trainDF dataframe contains another column called \"label2\"\n",
        "    that describes the label for the second prediction task.\n",
        "    \"\"\"\n",
        "    liked_articles = pd.concat([train_data_scaled, test_data_scaled], axis=0)\n",
        "    liked_articles =liked_articles[liked_articles['label']==1]\n",
        "    \n",
        "    customer2productgroup = liked_articles.groupby('customer_id').product_group_name.apply(list).reset_index()\n",
        "    customer2productgroup.columns = ['customer_id', 'product_list']\n",
        "    customer2productgroup.head(2)\n",
        "\n",
        "    train_data_scaled= train_data_scaled.merge(customer2productgroup, on='customer_id', how='left')\n",
        "    train_data_scaled['product_category_label'] = train_data_scaled.apply(lambda x: 1 if x.product_group_name in x.product_list else 0, axis=1)\n",
        "\n",
        "    test_data_scaled = test_data_scaled.merge(customer2productgroup, on='customer_id', how='left')\n",
        "    test_data_scaled['product_category_label'] = test_data_scaled.apply(lambda x: 1 if x.product_group_name in x.product_list else 0, axis=1)\n",
        "\n",
        "    return train_data_scaled, test_data_scaled\n",
        "\n"
      ],
      "metadata": {
        "id": "cwaOTNRAptEt"
      },
      "execution_count": 68,
      "outputs": []
    },
    {
      "cell_type": "code",
      "source": [
        "train_data_scaled, test_data_scaled = add_label2_to_trainDF(train_data_scaled, test_data_scaled)"
      ],
      "metadata": {
        "id": "fLZSAxNgpvQS"
      },
      "execution_count": 69,
      "outputs": []
    },
    {
      "cell_type": "code",
      "source": [
        "train_data_scaled.head(2)"
      ],
      "metadata": {
        "colab": {
          "base_uri": "https://localhost:8080/",
          "height": 280
        },
        "id": "JudFJzk8p7Sk",
        "outputId": "ddbab858-7639-4365-a6cc-b6df43086fbe"
      },
      "execution_count": 70,
      "outputs": [
        {
          "output_type": "execute_result",
          "data": {
            "text/plain": [
              "      price  is_popular  nArticles     nDays  nPurchases     nSect  \\\n",
              "0 -0.872510     2.15855   0.917367 -0.909808    0.868212  0.221017   \n",
              "1 -0.650987     2.15855   0.917367 -0.909808    0.868212  0.221017   \n",
              "\n",
              "                 t_dat                                        customer_id  \\\n",
              "0  2020-06-24 00:00:00  00c571917952c5c99ffb38e7f75b2e91a6b179591cd030...   \n",
              "1  2020-06-24 00:00:00  00c571917952c5c99ffb38e7f75b2e91a6b179591cd030...   \n",
              "\n",
              "   product_group_name colour_group_name            section_name age_interval  \\\n",
              "0  Garment Upper body             White          Divided Basics  Working Age   \n",
              "1  Garment Upper body             Black  Womens Everyday Basics  Working Age   \n",
              "\n",
              "   article_id  label                                       product_list  \\\n",
              "0   678342028      1  [Garment Upper body, Garment Upper body, Garme...   \n",
              "1   863937010      1  [Garment Upper body, Garment Upper body, Garme...   \n",
              "\n",
              "   product_category_label  \n",
              "0                       1  \n",
              "1                       1  "
            ],
            "text/html": [
              "\n",
              "  <div id=\"df-c6d5697b-c680-4a8e-a6fa-c9efdbaa54a1\">\n",
              "    <div class=\"colab-df-container\">\n",
              "      <div>\n",
              "<style scoped>\n",
              "    .dataframe tbody tr th:only-of-type {\n",
              "        vertical-align: middle;\n",
              "    }\n",
              "\n",
              "    .dataframe tbody tr th {\n",
              "        vertical-align: top;\n",
              "    }\n",
              "\n",
              "    .dataframe thead th {\n",
              "        text-align: right;\n",
              "    }\n",
              "</style>\n",
              "<table border=\"1\" class=\"dataframe\">\n",
              "  <thead>\n",
              "    <tr style=\"text-align: right;\">\n",
              "      <th></th>\n",
              "      <th>price</th>\n",
              "      <th>is_popular</th>\n",
              "      <th>nArticles</th>\n",
              "      <th>nDays</th>\n",
              "      <th>nPurchases</th>\n",
              "      <th>nSect</th>\n",
              "      <th>t_dat</th>\n",
              "      <th>customer_id</th>\n",
              "      <th>product_group_name</th>\n",
              "      <th>colour_group_name</th>\n",
              "      <th>section_name</th>\n",
              "      <th>age_interval</th>\n",
              "      <th>article_id</th>\n",
              "      <th>label</th>\n",
              "      <th>product_list</th>\n",
              "      <th>product_category_label</th>\n",
              "    </tr>\n",
              "  </thead>\n",
              "  <tbody>\n",
              "    <tr>\n",
              "      <th>0</th>\n",
              "      <td>-0.872510</td>\n",
              "      <td>2.15855</td>\n",
              "      <td>0.917367</td>\n",
              "      <td>-0.909808</td>\n",
              "      <td>0.868212</td>\n",
              "      <td>0.221017</td>\n",
              "      <td>2020-06-24 00:00:00</td>\n",
              "      <td>00c571917952c5c99ffb38e7f75b2e91a6b179591cd030...</td>\n",
              "      <td>Garment Upper body</td>\n",
              "      <td>White</td>\n",
              "      <td>Divided Basics</td>\n",
              "      <td>Working Age</td>\n",
              "      <td>678342028</td>\n",
              "      <td>1</td>\n",
              "      <td>[Garment Upper body, Garment Upper body, Garme...</td>\n",
              "      <td>1</td>\n",
              "    </tr>\n",
              "    <tr>\n",
              "      <th>1</th>\n",
              "      <td>-0.650987</td>\n",
              "      <td>2.15855</td>\n",
              "      <td>0.917367</td>\n",
              "      <td>-0.909808</td>\n",
              "      <td>0.868212</td>\n",
              "      <td>0.221017</td>\n",
              "      <td>2020-06-24 00:00:00</td>\n",
              "      <td>00c571917952c5c99ffb38e7f75b2e91a6b179591cd030...</td>\n",
              "      <td>Garment Upper body</td>\n",
              "      <td>Black</td>\n",
              "      <td>Womens Everyday Basics</td>\n",
              "      <td>Working Age</td>\n",
              "      <td>863937010</td>\n",
              "      <td>1</td>\n",
              "      <td>[Garment Upper body, Garment Upper body, Garme...</td>\n",
              "      <td>1</td>\n",
              "    </tr>\n",
              "  </tbody>\n",
              "</table>\n",
              "</div>\n",
              "      <button class=\"colab-df-convert\" onclick=\"convertToInteractive('df-c6d5697b-c680-4a8e-a6fa-c9efdbaa54a1')\"\n",
              "              title=\"Convert this dataframe to an interactive table.\"\n",
              "              style=\"display:none;\">\n",
              "        \n",
              "  <svg xmlns=\"http://www.w3.org/2000/svg\" height=\"24px\"viewBox=\"0 0 24 24\"\n",
              "       width=\"24px\">\n",
              "    <path d=\"M0 0h24v24H0V0z\" fill=\"none\"/>\n",
              "    <path d=\"M18.56 5.44l.94 2.06.94-2.06 2.06-.94-2.06-.94-.94-2.06-.94 2.06-2.06.94zm-11 1L8.5 8.5l.94-2.06 2.06-.94-2.06-.94L8.5 2.5l-.94 2.06-2.06.94zm10 10l.94 2.06.94-2.06 2.06-.94-2.06-.94-.94-2.06-.94 2.06-2.06.94z\"/><path d=\"M17.41 7.96l-1.37-1.37c-.4-.4-.92-.59-1.43-.59-.52 0-1.04.2-1.43.59L10.3 9.45l-7.72 7.72c-.78.78-.78 2.05 0 2.83L4 21.41c.39.39.9.59 1.41.59.51 0 1.02-.2 1.41-.59l7.78-7.78 2.81-2.81c.8-.78.8-2.07 0-2.86zM5.41 20L4 18.59l7.72-7.72 1.47 1.35L5.41 20z\"/>\n",
              "  </svg>\n",
              "      </button>\n",
              "      \n",
              "  <style>\n",
              "    .colab-df-container {\n",
              "      display:flex;\n",
              "      flex-wrap:wrap;\n",
              "      gap: 12px;\n",
              "    }\n",
              "\n",
              "    .colab-df-convert {\n",
              "      background-color: #E8F0FE;\n",
              "      border: none;\n",
              "      border-radius: 50%;\n",
              "      cursor: pointer;\n",
              "      display: none;\n",
              "      fill: #1967D2;\n",
              "      height: 32px;\n",
              "      padding: 0 0 0 0;\n",
              "      width: 32px;\n",
              "    }\n",
              "\n",
              "    .colab-df-convert:hover {\n",
              "      background-color: #E2EBFA;\n",
              "      box-shadow: 0px 1px 2px rgba(60, 64, 67, 0.3), 0px 1px 3px 1px rgba(60, 64, 67, 0.15);\n",
              "      fill: #174EA6;\n",
              "    }\n",
              "\n",
              "    [theme=dark] .colab-df-convert {\n",
              "      background-color: #3B4455;\n",
              "      fill: #D2E3FC;\n",
              "    }\n",
              "\n",
              "    [theme=dark] .colab-df-convert:hover {\n",
              "      background-color: #434B5C;\n",
              "      box-shadow: 0px 1px 3px 1px rgba(0, 0, 0, 0.15);\n",
              "      filter: drop-shadow(0px 1px 2px rgba(0, 0, 0, 0.3));\n",
              "      fill: #FFFFFF;\n",
              "    }\n",
              "  </style>\n",
              "\n",
              "      <script>\n",
              "        const buttonEl =\n",
              "          document.querySelector('#df-c6d5697b-c680-4a8e-a6fa-c9efdbaa54a1 button.colab-df-convert');\n",
              "        buttonEl.style.display =\n",
              "          google.colab.kernel.accessAllowed ? 'block' : 'none';\n",
              "\n",
              "        async function convertToInteractive(key) {\n",
              "          const element = document.querySelector('#df-c6d5697b-c680-4a8e-a6fa-c9efdbaa54a1');\n",
              "          const dataTable =\n",
              "            await google.colab.kernel.invokeFunction('convertToInteractive',\n",
              "                                                     [key], {});\n",
              "          if (!dataTable) return;\n",
              "\n",
              "          const docLinkHtml = 'Like what you see? Visit the ' +\n",
              "            '<a target=\"_blank\" href=https://colab.research.google.com/notebooks/data_table.ipynb>data table notebook</a>'\n",
              "            + ' to learn more about interactive tables.';\n",
              "          element.innerHTML = '';\n",
              "          dataTable['output_type'] = 'display_data';\n",
              "          await google.colab.output.renderOutput(dataTable, element);\n",
              "          const docLink = document.createElement('div');\n",
              "          docLink.innerHTML = docLinkHtml;\n",
              "          element.appendChild(docLink);\n",
              "        }\n",
              "      </script>\n",
              "    </div>\n",
              "  </div>\n",
              "  "
            ]
          },
          "metadata": {},
          "execution_count": 70
        }
      ]
    },
    {
      "cell_type": "code",
      "execution_count": 95,
      "metadata": {
        "id": "cecIDmHV76LG"
      },
      "outputs": [],
      "source": [
        "# Declaring Numerical and Categorical Columns\n",
        "numeric_features =['price', 'nArticles', 'nDays', 'nPurchases', 'nSect','is_popular'] \n",
        "categorical_features_product  = ['product_group_name'] \n",
        "categorical_features_color = ['colour_group_name']\n",
        "categorical_features_section = ['section_name']\n",
        "categorical_features_age = ['age_interval']\n",
        "\n",
        "# Converting Numeric Columns to array and Categorical Columns to Strig\n",
        "numeric_data = train_data_scaled[numeric_features].values # convert to numpy array\n",
        "categorical_data = train_data_scaled[categorical_features_product].astype('str') \n",
        "categorical_data_color = train_data_scaled[categorical_features_color].astype('str') \n",
        "categorical_data_section = train_data_scaled[categorical_features_section].astype('str')\n",
        "categorical_data_age = train_data_scaled[categorical_features_age].astype('str')\n",
        "target1 = train_data_scaled['label'].values\n",
        "target2 = train_data_scaled['product_category_label'].values\n",
        "\n",
        "\n",
        "#numeric inputs\n",
        "input2numeric_layer = tf.keras.Input((len(numeric_features)), name='numeric_input') # input layer\n",
        "numeric_layer = tf.keras.layers.Dense(100, activation='relu')(input2numeric_layer) # hidden layer\n",
        "numeric_layer = tf.keras.layers.Dense(100, activation='relu')(numeric_layer) # hidden layer\n",
        "\n",
        "#categorical features creating one hot encoding for each categorical feature using String Lookup\n",
        "unique_product_names = categorical_data['product_group_name'].unique().astype(str) # get unique product names\n",
        "input2categorical_layer = tf.keras.Input((1,), name='categorical_input', dtype=tf.string) # input layer\n",
        "categrorical2Stringlookup = tf.keras.layers.StringLookup(vocabulary=unique_product_names, output_mode='one_hot')(input2categorical_layer) # lookup layer\n",
        "\n",
        "#uniquee_color_names = categorical_data_color['colour_group_name'].unique().astype(str) # get unique color names\n",
        "#input2categorical_layer_color = tf.keras.Input((1,), name='categorical_input_color', dtype=tf.string) # input layer\n",
        "#categrorical2Stringlookup_color = tf.keras.layers.StringLookup(vocabulary=uniquee_color_names, output_mode='one_hot')(input2categorical_layer_color) # lookup layer\n",
        "\n",
        "#unique_section_names = categorical_data_section['section_name'].unique().astype(str) # get unique section names\n",
        "#input2categorical_layer_section = tf.keras.Input((1,), name='categorical_input_section', dtype=tf.string) # input layer\n",
        "#categrorical2Stringlookup_section = tf.keras.layers.StringLookup(vocabulary=unique_section_names, output_mode='one_hot')(input2categorical_layer_section) # lookup layer\n",
        "#\n",
        "unique_age_intervals = categorical_data_age['age_interval'].unique().astype(str) # get unique age intervals\n",
        "input2categorical_layer_age = tf.keras.Input((1,), name='categorical_input_age', dtype=tf.string) # input layer\n",
        "categrorical2Stringlookup_age = tf.keras.layers.StringLookup(vocabulary=unique_age_intervals, output_mode='one_hot')(input2categorical_layer_age) # lookup layer\n",
        "\n",
        "\n",
        "#concatenating the categorical and numeric layers\n",
        "concatenated_layer = tf.keras.layers.concatenate([numeric_layer, categrorical2Stringlookup]) # concatenate layer\n",
        "#concatenated_layer = tf.keras.layers.concatenate([concatenated_layer, categrorical2Stringlookup_color]) # concatenate layer\n",
        "#concatenated_layer = tf.keras.layers.concatenate([concatenated_layer, categrorical2Stringlookup_section]) # concatenate layer\n",
        "concatenated_layer = tf.keras.layers.concatenate([concatenated_layer, categrorical2Stringlookup_age]) # concatenate layer\n",
        "common_layer  = tf.keras.layers.Dense(100, activation='relu')(concatenated_layer) # hidden layer\n",
        "\n",
        "\n",
        "#Task 1: Predicting if the user will by the article id or not\n",
        "# Nueral Network specific to the task 1\n",
        "x1 = tf.keras.layers.Dense(32, activation='relu',name=\"task1a\") (common_layer)\n",
        "x1 = tf.keras.layers.Dense(32, activation='relu',name=\"task1b\") (x1)\n",
        "x1 = tf.keras.layers.Dense(1, activation='sigmoid',name=\"out1\") (x1)\n",
        "\n",
        "#Task 2  Predicting if the user will buy from this product category or not\n",
        "# Nueral Network specific to the task 2\n",
        "x2 = tf.keras.layers.Dense(32, activation='relu',name=\"task2a\") (common_layer)\n",
        "x2 = tf.keras.layers.Dense(32, activation='relu',name=\"task2b\") (x2)\n",
        "x2 = tf.keras.layers.Dense(1, activation='sigmoid',name=\"out2\") (x2)"
      ]
    },
    {
      "cell_type": "code",
      "source": [
        "cost_function = tf.keras.losses.BinaryCrossentropy(from_logits=False)\n",
        "optimizer = tf.keras.optimizers.Adam(learning_rate=0.001)\n",
        "metric = tf.keras.metrics.BinaryAccuracy()"
      ],
      "metadata": {
        "id": "jZMJYyroo9o3"
      },
      "execution_count": 96,
      "outputs": []
    },
    {
      "cell_type": "code",
      "source": [
        "model_mt = tf.keras.Model(inputs=[input2numeric_layer, input2categorical_layer, input2categorical_layer_age], outputs=[x1, x2]) #input2categorical_layer_color, input2categorical_layer_section, \n",
        "model_mt.compile(optimizer=optimizer, loss=cost_function, metrics=[metric])"
      ],
      "metadata": {
        "id": "yukABstCpDGU"
      },
      "execution_count": 97,
      "outputs": []
    },
    {
      "cell_type": "code",
      "source": [
        "model_mt.summary()"
      ],
      "metadata": {
        "colab": {
          "base_uri": "https://localhost:8080/"
        },
        "id": "vFpbD62JpE7x",
        "outputId": "e3773103-d3e6-4643-9628-c4540ec1fc59"
      },
      "execution_count": 98,
      "outputs": [
        {
          "output_type": "stream",
          "name": "stdout",
          "text": [
            "Model: \"model_5\"\n",
            "__________________________________________________________________________________________________\n",
            " Layer (type)                   Output Shape         Param #     Connected to                     \n",
            "==================================================================================================\n",
            " numeric_input (InputLayer)     [(None, 6)]          0           []                               \n",
            "                                                                                                  \n",
            " dense_11 (Dense)               (None, 100)          700         ['numeric_input[0][0]']          \n",
            "                                                                                                  \n",
            " categorical_input (InputLayer)  [(None, 1)]         0           []                               \n",
            "                                                                                                  \n",
            " dense_12 (Dense)               (None, 100)          10100       ['dense_11[0][0]']               \n",
            "                                                                                                  \n",
            " string_lookup_10 (StringLookup  (None, 13)          0           ['categorical_input[0][0]']      \n",
            " )                                                                                                \n",
            "                                                                                                  \n",
            " categorical_input_age (InputLa  [(None, 1)]         0           []                               \n",
            " yer)                                                                                             \n",
            "                                                                                                  \n",
            " concatenate_12 (Concatenate)   (None, 113)          0           ['dense_12[0][0]',               \n",
            "                                                                  'string_lookup_10[0][0]']       \n",
            "                                                                                                  \n",
            " string_lookup_11 (StringLookup  (None, 5)           0           ['categorical_input_age[0][0]']  \n",
            " )                                                                                                \n",
            "                                                                                                  \n",
            " concatenate_13 (Concatenate)   (None, 118)          0           ['concatenate_12[0][0]',         \n",
            "                                                                  'string_lookup_11[0][0]']       \n",
            "                                                                                                  \n",
            " dense_13 (Dense)               (None, 100)          11900       ['concatenate_13[0][0]']         \n",
            "                                                                                                  \n",
            " task1a (Dense)                 (None, 32)           3232        ['dense_13[0][0]']               \n",
            "                                                                                                  \n",
            " task2a (Dense)                 (None, 32)           3232        ['dense_13[0][0]']               \n",
            "                                                                                                  \n",
            " task1b (Dense)                 (None, 32)           1056        ['task1a[0][0]']                 \n",
            "                                                                                                  \n",
            " task2b (Dense)                 (None, 32)           1056        ['task2a[0][0]']                 \n",
            "                                                                                                  \n",
            " out1 (Dense)                   (None, 1)            33          ['task1b[0][0]']                 \n",
            "                                                                                                  \n",
            " out2 (Dense)                   (None, 1)            33          ['task2b[0][0]']                 \n",
            "                                                                                                  \n",
            "==================================================================================================\n",
            "Total params: 31,342\n",
            "Trainable params: 31,342\n",
            "Non-trainable params: 0\n",
            "__________________________________________________________________________________________________\n"
          ]
        }
      ]
    },
    {
      "cell_type": "code",
      "source": [
        "model.fit([numeric_data, categorical_data, categorical_data_color, categorical_data_section, categorical_data_age], [target1, target2], epochs=10, batch_size=1000)"
      ],
      "metadata": {
        "colab": {
          "base_uri": "https://localhost:8080/"
        },
        "id": "XZDhUgudpHYi",
        "outputId": "5d3f48ea-8e93-4b4e-a6d6-c24240634d3c"
      },
      "execution_count": 99,
      "outputs": [
        {
          "output_type": "stream",
          "name": "stdout",
          "text": [
            "Epoch 1/10\n",
            "30/30 [==============================] - 1s 23ms/step - loss: 0.0278 - binary_accuracy: 0.9905\n",
            "Epoch 2/10\n",
            "30/30 [==============================] - 1s 23ms/step - loss: 0.0276 - binary_accuracy: 0.9907\n",
            "Epoch 3/10\n",
            "30/30 [==============================] - 1s 26ms/step - loss: 0.0273 - binary_accuracy: 0.9908\n",
            "Epoch 4/10\n",
            "30/30 [==============================] - 1s 17ms/step - loss: 0.0272 - binary_accuracy: 0.9908\n",
            "Epoch 5/10\n",
            "30/30 [==============================] - 0s 14ms/step - loss: 0.0270 - binary_accuracy: 0.9909\n",
            "Epoch 6/10\n",
            "30/30 [==============================] - 0s 14ms/step - loss: 0.0268 - binary_accuracy: 0.9911\n",
            "Epoch 7/10\n",
            "30/30 [==============================] - 0s 14ms/step - loss: 0.0266 - binary_accuracy: 0.9910\n",
            "Epoch 8/10\n",
            "30/30 [==============================] - 0s 15ms/step - loss: 0.0264 - binary_accuracy: 0.9910\n",
            "Epoch 9/10\n",
            "30/30 [==============================] - 0s 14ms/step - loss: 0.0262 - binary_accuracy: 0.9913\n",
            "Epoch 10/10\n",
            "30/30 [==============================] - 0s 14ms/step - loss: 0.0261 - binary_accuracy: 0.9911\n"
          ]
        },
        {
          "output_type": "execute_result",
          "data": {
            "text/plain": [
              "<keras.callbacks.History at 0x7f19adc0c750>"
            ]
          },
          "metadata": {},
          "execution_count": 99
        }
      ]
    },
    {
      "cell_type": "code",
      "source": [
        "def evaluate_multitask(df):\n",
        "    X1 = np.asarray(df[numeric_features].values)\n",
        "    X2 = df['product_group_name'].astype(str)\n",
        "    #X3 = df['colour_group_name'].astype(str)\n",
        "    #X4 = df['section_name'].astype(str)\n",
        "    X5 = df['age_interval'].astype(str)\n",
        "    preds_task1, preds_task2 = model_mt.predict([X1, X2, X5]) #X3, X4,\n",
        "    preds_task1 = (preds_task1>=0.5).astype(int).flatten()\n",
        "    preds_task2 = (preds_task2>=0.5).astype(int).flatten()\n",
        "    print(sum(preds_task1 == df['label'].values)/len(preds_task1))\n",
        "    print(sum(preds_task2 == df['product_category_label'].values)/len(preds_task2))\n",
        "    return preds_task1, preds_task2\n",
        "\n",
        "\n"
      ],
      "metadata": {
        "id": "Ayi9m3NgpJs9"
      },
      "execution_count": 104,
      "outputs": []
    },
    {
      "cell_type": "code",
      "source": [
        "preds_task1, pred_task2= evaluate_multitask(test_data_scaled)"
      ],
      "metadata": {
        "colab": {
          "base_uri": "https://localhost:8080/"
        },
        "id": "0OcTbEiZs3r4",
        "outputId": "c2cfc662-4def-4da9-d5d1-1cb322b9e03b"
      },
      "execution_count": 106,
      "outputs": [
        {
          "output_type": "stream",
          "name": "stdout",
          "text": [
            "517/517 [==============================] - 2s 4ms/step\n",
            "0.2650369115333414\n",
            "0.6598087861551495\n"
          ]
        }
      ]
    },
    {
      "cell_type": "code",
      "source": [
        "from cProfile import label\n",
        "from sklearn.metrics import ConfusionMatrixDisplay, confusion_matrix, plot_confusion_matrix\n",
        "\n",
        "confusion_matrix(test_data_scaled['product_category_label'].values, pred_task2)\n",
        "\n",
        "cm = confusion_matrix(test_data_scaled['product_category_label'].values, pred_task2, labels=[0,1])\n",
        "disp = ConfusionMatrixDisplay(confusion_matrix=cm, display_labels=[0,1])\n",
        "disp.plot()\n",
        "plt.grid(False)\n",
        "plt.show()"
      ],
      "metadata": {
        "colab": {
          "base_uri": "https://localhost:8080/",
          "height": 280
        },
        "id": "IzMpUCSGvyTS",
        "outputId": "4cdfa773-b42d-4dcf-86ea-d06105fbe6f3"
      },
      "execution_count": 111,
      "outputs": [
        {
          "output_type": "display_data",
          "data": {
            "text/plain": [
              "<Figure size 432x288 with 2 Axes>"
            ],
            "image/png": "[encoded data removed]"
          },
          "metadata": {
            "needs_background": "light"
          }
        }
      ]
    },
    {
      "cell_type": "code",
      "source": [
        "tf.keras.utils.plot_model(\n",
        "    model_mt,\n",
        "    to_file='model_multitask.png',\n",
        "    show_shapes=False,\n",
        "    show_dtype=False,\n",
        "    show_layer_names=True,\n",
        "    rankdir='TB',\n",
        "    expand_nested=False,\n",
        "    dpi=96,\n",
        "    layer_range=None,\n",
        "    show_layer_activations=False\n",
        ")"
      ],
      "metadata": {
        "colab": {
          "base_uri": "https://localhost:8080/",
          "height": 856
        },
        "id": "FNW7K4vGwyIt",
        "outputId": "ab94fbed-3949-4593-b7a7-f7fbd257f9bb"
      },
      "execution_count": 112,
      "outputs": [
        {
          "output_type": "execute_result",
          "data": {
            "text/plain": [
              "<IPython.core.display.Image object>"
            ],
            "image/png": "[encoded data removed]"
          },
          "metadata": {},
          "execution_count": 112
        }
      ]
    }
  ],
  "metadata": {
    "kernelspec": {
      "display_name": "Python 3.9.7 64-bit",
      "language": "python",
      "name": "python3"
    },
    "language_info": {
      "codemirror_mode": {
        "name": "ipython",
        "version": 3
      },
      "file_extension": ".py",
      "mimetype": "text/x-python",
      "name": "python",
      "nbconvert_exporter": "python",
      "pygments_lexer": "ipython3",
      "version": "3.9.7"
    },
    "orig_nbformat": 4,
    "vscode": {
      "interpreter": {
        "hash": "b8bdd4e700647ba2b08c59e5df8b7da1dcf50a218bcd4c1bcd9b3dc92e8788e5"
      }
    },
    "colab": {
      "name": "rankers_hmdata.ipynb",
      "provenance": [],
      "collapsed_sections": [
        "Nsb7iuVZ76K7",
        "aPGWDGzW76K8",
        "quVssFr276K-"
      ],
      "include_colab_link": true
    }
  },
  "nbformat": 4,
  "nbformat_minor": 0
}