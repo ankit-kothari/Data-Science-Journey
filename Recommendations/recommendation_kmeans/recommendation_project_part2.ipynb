{
 "cells": [
  {
   "cell_type": "code",
   "execution_count": 1,
   "id": "f78532d8",
   "metadata": {
    "ExecuteTime": {
     "end_time": "2021-12-15T22:38:30.165680Z",
     "start_time": "2021-12-15T22:38:29.146835Z"
    }
   },
   "outputs": [],
   "source": [
    "import pandas as pd\n",
    "import numpy as np\n",
    "import time\n",
    "import ast\n",
    "import datetime\n",
    "import matplotlib.pyplot as plt\n",
    "from sklearn.preprocessing import StandardScaler\n",
    "from sklearn.feature_selection import RFECV\n",
    "import numpy as np\n",
    "import seaborn as sns\n",
    "from sklearn.model_selection import cross_val_score\n",
    "from sklearn import metrics\n",
    "import matplotlib.pyplot as plt\n",
    "import warnings\n",
    "from sklearn.preprocessing import StandardScaler\n",
    "from sklearn import preprocessing\n",
    "from sklearn.manifold import TSNE\n",
    "warnings.filterwarnings(\"ignore\")\n",
    "from scipy import stats\n",
    "from scipy.stats import shapiro\n",
    "from scipy.stats import anderson\n",
    "from sklearn.model_selection import train_test_split\n",
    "from sklearn.decomposition import PCA\n",
    "from sklearn import preprocessing"
   ]
  },
  {
   "cell_type": "markdown",
   "id": "97258e18",
   "metadata": {},
   "source": [
    "# About the Dataset"
   ]
  },
  {
   "cell_type": "code",
   "execution_count": 22,
   "id": "a0740030",
   "metadata": {
    "ExecuteTime": {
     "end_time": "2021-12-15T23:42:39.451973Z",
     "start_time": "2021-12-15T23:42:39.248207Z"
    }
   },
   "outputs": [],
   "source": [
    "\n",
    "#nextcell\n",
    "ratings = pd.read_csv('/Users/ankitkothari/Documents/gdrivre/UMD/MSML-602-DS/final_project/ratings_small.csv')\n",
    "movies = pd.read_csv('/Users/ankitkothari/Documents/gdrivre/UMD/MSML-602-DS/final_project/movies_metadata_features.csv')\n",
    "\n"
   ]
  },
  {
   "cell_type": "markdown",
   "id": "14e98879",
   "metadata": {},
   "source": [
    "# Data Cleaning\n",
    "\n",
    "## Dropping Columns"
   ]
  },
  {
   "cell_type": "code",
   "execution_count": 23,
   "id": "eb1c3f4d",
   "metadata": {
    "ExecuteTime": {
     "end_time": "2021-12-15T23:42:40.756100Z",
     "start_time": "2021-12-15T23:42:40.713818Z"
    }
   },
   "outputs": [],
   "source": [
    "movies.drop(columns=['Unnamed: 0'],inplace=True)\n",
    "ratings = pd.merge(movies,ratings).drop(['genres','timestamp','imdb_id','overview','popularity','production_companies','production_countries','release_date','revenue','runtime','vote_average','year','vote_count','original_language'],axis=1)\n"
   ]
  },
  {
   "cell_type": "code",
   "execution_count": 92,
   "id": "9c02ab4a",
   "metadata": {
    "ExecuteTime": {
     "end_time": "2021-12-16T02:30:46.212240Z",
     "start_time": "2021-12-16T02:30:27.830690Z"
    }
   },
   "outputs": [
    {
     "name": "stdout",
     "output_type": "stream",
     "text": [
      "15\n"
     ]
    }
   ],
   "source": [
    "usri = int(input()) #587 #15 #468\n",
    "select_user = ratings.loc[ratings['userId'] == usri]\n",
    "\n"
   ]
  },
  {
   "cell_type": "markdown",
   "id": "7d433949",
   "metadata": {},
   "source": [
    "## Finding Similarity Matrix\n",
    "### Creating a Pivot Table of Title against userId for ratings"
   ]
  },
  {
   "cell_type": "code",
   "execution_count": 94,
   "id": "6fb56564",
   "metadata": {
    "ExecuteTime": {
     "end_time": "2021-12-16T02:30:53.668392Z",
     "start_time": "2021-12-16T02:30:53.606163Z"
    }
   },
   "outputs": [],
   "source": [
    "userRatings = ratings.pivot_table(index=['title'],columns=['userId'],values='rating')\n",
    "userRatings = userRatings.dropna(thresh=10, axis=1).fillna(0,axis=1)\n",
    "\n"
   ]
  },
  {
   "cell_type": "code",
   "execution_count": 95,
   "id": "c35b63bb",
   "metadata": {
    "ExecuteTime": {
     "end_time": "2021-12-16T02:30:54.227828Z",
     "start_time": "2021-12-16T02:30:53.673798Z"
    }
   },
   "outputs": [],
   "source": [
    "corrMatrix = userRatings.corr(method='pearson')\n",
    "#corrMatrix = userRatings.corr(method='spearman')\n",
    "#corrMatrix = userRatings.corr(method='kendall')\n"
   ]
  },
  {
   "cell_type": "markdown",
   "id": "0c9fc0d6",
   "metadata": {},
   "source": [
    "### Creating Similarity Matrix using Pearson Correlation method"
   ]
  },
  {
   "cell_type": "code",
   "execution_count": 96,
   "id": "a78ff9c0",
   "metadata": {
    "ExecuteTime": {
     "end_time": "2021-12-16T02:30:54.268833Z",
     "start_time": "2021-12-16T02:30:54.263323Z"
    }
   },
   "outputs": [],
   "source": [
    "def get_similar(usrid):\n",
    "    similar_ratings = corrMatrix[usrid]\n",
    "    similar_ratings = similar_ratings.sort_values(ascending=False)\n",
    "    return similar_ratings\n",
    "\n"
   ]
  },
  {
   "cell_type": "markdown",
   "id": "f6295c6a",
   "metadata": {},
   "source": [
    "# Recommendation"
   ]
  },
  {
   "cell_type": "code",
   "execution_count": 97,
   "id": "0c2bee38",
   "metadata": {
    "ExecuteTime": {
     "end_time": "2021-12-16T02:30:54.320916Z",
     "start_time": "2021-12-16T02:30:54.277944Z"
    }
   },
   "outputs": [
    {
     "name": "stdout",
     "output_type": "stream",
     "text": [
      "[388, 461, 509]\n",
      "For user 388\n",
      "14337    The Chronicles of Riddick: Dark Fury\n",
      "6683                         Mr. & Mrs. Smith\n",
      "4016                            Love Actually\n",
      "11089                      The Golden Compass\n",
      "9419                       Notes on a Scandal\n",
      "4792                         Dawn of the Dead\n",
      "5204                                 Zatoichi\n",
      "10750                                  Postal\n",
      "10478                     Across the Universe\n",
      "7090                      Cockles and Muscles\n",
      "Name: title, dtype: object\n",
      "For user 461\n",
      "818                               The Million Dollar Hotel\n",
      "2030                                       Monsoon Wedding\n",
      "14347                 The Chronicles of Riddick: Dark Fury\n",
      "1126                                        Under the Sand\n",
      "5399                                          Two Brothers\n",
      "13730                                    Windows on Monday\n",
      "13107    Shriek If You Know What I Did Last Friday the ...\n",
      "12576                                   The Garden of Eden\n",
      "12046                                   Reclaim Your Brain\n",
      "1012                                 One Night at McCool's\n",
      "Name: title, dtype: object\n",
      "For user 509\n",
      "12882                                        The Red Elvis\n",
      "13114    Shriek If You Know What I Did Last Friday the ...\n",
      "3037                                             The Hours\n",
      "2330                                                Enough\n",
      "4460                                  The Butterfly Effect\n",
      "1825                                     The Shipping News\n",
      "4381                                         Cold Mountain\n",
      "14195                                       Totally Blonde\n",
      "7271                                                Saw II\n",
      "4614                                      Monsieur Ibrahim\n",
      "Name: title, dtype: object\n"
     ]
    }
   ],
   "source": [
    "moidofotus = [0,0,0,0]\n",
    "s_m = pd.DataFrame()\n",
    "s_m = s_m.append(get_similar(usri), ignore_index=True)\n",
    "for c in range(0,4):\n",
    "    moidofotus[c]=s_m.columns[c]\n",
    "\n",
    "if moidofotus[0] == usri:\n",
    "    moidofotus.pop(0)\n",
    "print(moidofotus)\n",
    "\n",
    "movie_match=[]\n",
    "for i in moidofotus:\n",
    "    select_user = ratings.loc[ratings['userId'] == i]\n",
    "    #print(select_user)\n",
    "    print(\"For user\", i)\n",
    "    final_use = select_user.loc[select_user['rating'] >= 4.0].sort_values(by=['rating'],ascending=False).iloc[0:10,:]\n",
    "    print(final_use['title'])\n",
    "    movie_match.append(final_use['title'].to_list())"
   ]
  },
  {
   "cell_type": "code",
   "execution_count": 98,
   "id": "7b1f0dae",
   "metadata": {
    "ExecuteTime": {
     "end_time": "2021-12-16T02:30:54.338968Z",
     "start_time": "2021-12-16T02:30:54.325790Z"
    }
   },
   "outputs": [
    {
     "data": {
      "text/plain": [
       "3                                    Scream 3\n",
       "72                             Reindeer Games\n",
       "207        The Flintstones in Viva Rock Vegas\n",
       "272                         The Perfect Storm\n",
       "327                        The Way of the Gun\n",
       "                         ...                 \n",
       "14106                 Just a Question of Love\n",
       "14195                          Totally Blonde\n",
       "14355    The Chronicles of Riddick: Dark Fury\n",
       "14393                          Manitou's Shoe\n",
       "14416                                    Beat\n",
       "Name: title, Length: 149, dtype: object"
      ]
     },
     "execution_count": 98,
     "metadata": {},
     "output_type": "execute_result"
    }
   ],
   "source": [
    "select_user['title']"
   ]
  },
  {
   "cell_type": "markdown",
   "id": "00594fbd",
   "metadata": {},
   "source": [
    "## Performance Evaluation"
   ]
  },
  {
   "cell_type": "code",
   "execution_count": 99,
   "id": "0fb383c2",
   "metadata": {
    "ExecuteTime": {
     "end_time": "2021-12-16T02:30:54.353982Z",
     "start_time": "2021-12-16T02:30:54.344494Z"
    }
   },
   "outputs": [
    {
     "name": "stdout",
     "output_type": "stream",
     "text": [
      "27\n",
      "30\n"
     ]
    }
   ],
   "source": [
    "movies_suggested_and_he_watched=0\n",
    "total_suggest_movies = 0\n",
    "for movies in movie_match:\n",
    "    total_suggest_movies=total_suggest_movies+len(movies)\n",
    "    for movie in movies:\n",
    "        if movie in select_user['title'].to_list():\n",
    "            movies_suggested_and_he_watched=movies_suggested_and_he_watched+1\n",
    "print(movies_suggested_and_he_watched)\n",
    "print(total_suggest_movies)"
   ]
  },
  {
   "cell_type": "code",
   "execution_count": null,
   "id": "9b851e5d",
   "metadata": {},
   "outputs": [],
   "source": []
  }
 ],
 "metadata": {
  "hide_input": false,
  "kernelspec": {
   "display_name": "p39",
   "language": "python",
   "name": "p39"
  },
  "language_info": {
   "codemirror_mode": {
    "name": "ipython",
    "version": 3
   },
   "file_extension": ".py",
   "mimetype": "text/x-python",
   "name": "python",
   "nbconvert_exporter": "python",
   "pygments_lexer": "ipython3",
   "version": "3.9.7"
  },
  "toc": {
   "base_numbering": 1,
   "nav_menu": {},
   "number_sections": true,
   "sideBar": true,
   "skip_h1_title": false,
   "title_cell": "Table of Contents",
   "title_sidebar": "Contents",
   "toc_cell": false,
   "toc_position": {},
   "toc_section_display": true,
   "toc_window_display": true
  }
 },
 "nbformat": 4,
 "nbformat_minor": 5
}
