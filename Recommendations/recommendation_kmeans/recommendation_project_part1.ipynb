{
 "cells": [
  {
   "cell_type": "code",
   "execution_count": 4,
   "metadata": {
    "ExecuteTime": {
     "end_time": "2021-12-15T19:01:11.859317Z",
     "start_time": "2021-12-15T19:01:11.853466Z"
    }
   },
   "outputs": [],
   "source": [
    "import pandas as pd\n",
    "import numpy as np\n",
    "import time\n",
    "import ast\n",
    "import datetime\n",
    "import matplotlib.pyplot as plt\n",
    "from sklearn.preprocessing import StandardScaler\n",
    "from sklearn.feature_selection import RFECV\n",
    "import numpy as np\n",
    "import seaborn as sns\n",
    "from sklearn.model_selection import cross_val_score\n",
    "from sklearn import metrics\n",
    "import matplotlib.pyplot as plt\n",
    "import warnings\n",
    "from sklearn.preprocessing import StandardScaler\n",
    "from sklearn import preprocessing\n",
    "from sklearn.manifold import TSNE\n",
    "warnings.filterwarnings(\"ignore\")\n",
    "from scipy import stats\n",
    "from scipy.stats import shapiro\n",
    "from scipy.stats import anderson\n",
    "from sklearn.model_selection import train_test_split\n",
    "from sklearn.decomposition import PCA\n",
    "from sklearn import preprocessing"
   ]
  },
  {
   "cell_type": "code",
   "execution_count": 106,
   "metadata": {
    "ExecuteTime": {
     "end_time": "2021-12-15T20:11:38.944603Z",
     "start_time": "2021-12-15T20:11:38.360226Z"
    }
   },
   "outputs": [
    {
     "name": "stdout",
     "output_type": "stream",
     "text": [
      "(45466, 24)\n"
     ]
    }
   ],
   "source": [
    "movies_metadata = pd.read_csv(\n",
    "    '/Users/ankitkothari/Documents/gdrivre/UMD/MSML-602-DS/final_project/movies_metadata.csv'\n",
    ")\n",
    "\n",
    "print(movies_metadata.shape)"
   ]
  },
  {
   "cell_type": "markdown",
   "metadata": {},
   "source": [
    "# About the Dataset"
   ]
  },
  {
   "cell_type": "raw",
   "metadata": {},
   "source": [
    "Dataset: https://www.kaggle.com/rounakbanik/movie-recommender-systems/data\n",
    "The Movie Dataset: It has the following features\n",
    "    \n",
    "Features\n",
    "adult: Indicates if the movie is X-Rated or Adult.\n",
    "belongs_to_collection: A stringified dictionary that gives information on the movie series the particular film belongs to.\n",
    "budget: The budget of the movie in dollars.\n",
    "genres: A stringified list of dictionaries that list out all the genres associated with the movie.\n",
    "homepage: The Official Homepage of the move.\n",
    "id: The ID of the move.\n",
    "imdb_id: The IMDB ID of the movie.\n",
    "original_language: The language in which the movie was originally shot in.\n",
    "original_title: The original title of the movie.\n",
    "overview: A brief blurb of the movie.\n",
    "popularity: The Popularity Score assigned by TMDB.\n",
    "poster_path: The URL of the poster image.\n",
    "production_companies: A stringified list of production companies involved with the making of the movie.\n",
    "production_countries: A stringified list of countries where the movie was shot/produced in.\n",
    "release_date: Theatrical Release Date of the movie.\n",
    "revenue: The total revenue of the movie in dollars.\n",
    "runtime: The runtime of the movie in minutes.\n",
    "spoken_languages: A stringified list of spoken languages in the film.\n",
    "status: The status of the movie (Released, To Be Released, Announced, etc.)\n",
    "tagline: The tagline of the movie.\n",
    "title: The Official Title of the movie.\n",
    "video: Indicates if there is a video present of the movie with TMDB.\n",
    "vote_average: The average rating of the movie.\n",
    "vote_count: The number of votes by users, as counted by TMDB."
   ]
  },
  {
   "cell_type": "code",
   "execution_count": 6,
   "metadata": {
    "ExecuteTime": {
     "end_time": "2021-12-15T19:01:12.597231Z",
     "start_time": "2021-12-15T19:01:12.569463Z"
    }
   },
   "outputs": [
    {
     "data": {
      "text/html": [
       "<div>\n",
       "<style scoped>\n",
       "    .dataframe tbody tr th:only-of-type {\n",
       "        vertical-align: middle;\n",
       "    }\n",
       "\n",
       "    .dataframe tbody tr th {\n",
       "        vertical-align: top;\n",
       "    }\n",
       "\n",
       "    .dataframe thead th {\n",
       "        text-align: right;\n",
       "    }\n",
       "</style>\n",
       "<table border=\"1\" class=\"dataframe\">\n",
       "  <thead>\n",
       "    <tr style=\"text-align: right;\">\n",
       "      <th></th>\n",
       "      <th>adult</th>\n",
       "      <th>belongs_to_collection</th>\n",
       "      <th>budget</th>\n",
       "      <th>genres</th>\n",
       "      <th>homepage</th>\n",
       "      <th>id</th>\n",
       "      <th>imdb_id</th>\n",
       "      <th>original_language</th>\n",
       "      <th>original_title</th>\n",
       "      <th>overview</th>\n",
       "      <th>...</th>\n",
       "      <th>release_date</th>\n",
       "      <th>revenue</th>\n",
       "      <th>runtime</th>\n",
       "      <th>spoken_languages</th>\n",
       "      <th>status</th>\n",
       "      <th>tagline</th>\n",
       "      <th>title</th>\n",
       "      <th>video</th>\n",
       "      <th>vote_average</th>\n",
       "      <th>vote_count</th>\n",
       "    </tr>\n",
       "  </thead>\n",
       "  <tbody>\n",
       "    <tr>\n",
       "      <th>0</th>\n",
       "      <td>False</td>\n",
       "      <td>{'id': 10194, 'name': 'Toy Story Collection', ...</td>\n",
       "      <td>30000000</td>\n",
       "      <td>[{'id': 16, 'name': 'Animation'}, {'id': 35, '...</td>\n",
       "      <td>http://toystory.disney.com/toy-story</td>\n",
       "      <td>862</td>\n",
       "      <td>tt0114709</td>\n",
       "      <td>en</td>\n",
       "      <td>Toy Story</td>\n",
       "      <td>Led by Woody, Andy's toys live happily in his ...</td>\n",
       "      <td>...</td>\n",
       "      <td>1995-10-30</td>\n",
       "      <td>373554033.0</td>\n",
       "      <td>81.0</td>\n",
       "      <td>[{'iso_639_1': 'en', 'name': 'English'}]</td>\n",
       "      <td>Released</td>\n",
       "      <td>NaN</td>\n",
       "      <td>Toy Story</td>\n",
       "      <td>False</td>\n",
       "      <td>7.7</td>\n",
       "      <td>5415.0</td>\n",
       "    </tr>\n",
       "    <tr>\n",
       "      <th>1</th>\n",
       "      <td>False</td>\n",
       "      <td>NaN</td>\n",
       "      <td>65000000</td>\n",
       "      <td>[{'id': 12, 'name': 'Adventure'}, {'id': 14, '...</td>\n",
       "      <td>NaN</td>\n",
       "      <td>8844</td>\n",
       "      <td>tt0113497</td>\n",
       "      <td>en</td>\n",
       "      <td>Jumanji</td>\n",
       "      <td>When siblings Judy and Peter discover an encha...</td>\n",
       "      <td>...</td>\n",
       "      <td>1995-12-15</td>\n",
       "      <td>262797249.0</td>\n",
       "      <td>104.0</td>\n",
       "      <td>[{'iso_639_1': 'en', 'name': 'English'}, {'iso...</td>\n",
       "      <td>Released</td>\n",
       "      <td>Roll the dice and unleash the excitement!</td>\n",
       "      <td>Jumanji</td>\n",
       "      <td>False</td>\n",
       "      <td>6.9</td>\n",
       "      <td>2413.0</td>\n",
       "    </tr>\n",
       "    <tr>\n",
       "      <th>2</th>\n",
       "      <td>False</td>\n",
       "      <td>{'id': 119050, 'name': 'Grumpy Old Men Collect...</td>\n",
       "      <td>0</td>\n",
       "      <td>[{'id': 10749, 'name': 'Romance'}, {'id': 35, ...</td>\n",
       "      <td>NaN</td>\n",
       "      <td>15602</td>\n",
       "      <td>tt0113228</td>\n",
       "      <td>en</td>\n",
       "      <td>Grumpier Old Men</td>\n",
       "      <td>A family wedding reignites the ancient feud be...</td>\n",
       "      <td>...</td>\n",
       "      <td>1995-12-22</td>\n",
       "      <td>0.0</td>\n",
       "      <td>101.0</td>\n",
       "      <td>[{'iso_639_1': 'en', 'name': 'English'}]</td>\n",
       "      <td>Released</td>\n",
       "      <td>Still Yelling. Still Fighting. Still Ready for...</td>\n",
       "      <td>Grumpier Old Men</td>\n",
       "      <td>False</td>\n",
       "      <td>6.5</td>\n",
       "      <td>92.0</td>\n",
       "    </tr>\n",
       "    <tr>\n",
       "      <th>3</th>\n",
       "      <td>False</td>\n",
       "      <td>NaN</td>\n",
       "      <td>16000000</td>\n",
       "      <td>[{'id': 35, 'name': 'Comedy'}, {'id': 18, 'nam...</td>\n",
       "      <td>NaN</td>\n",
       "      <td>31357</td>\n",
       "      <td>tt0114885</td>\n",
       "      <td>en</td>\n",
       "      <td>Waiting to Exhale</td>\n",
       "      <td>Cheated on, mistreated and stepped on, the wom...</td>\n",
       "      <td>...</td>\n",
       "      <td>1995-12-22</td>\n",
       "      <td>81452156.0</td>\n",
       "      <td>127.0</td>\n",
       "      <td>[{'iso_639_1': 'en', 'name': 'English'}]</td>\n",
       "      <td>Released</td>\n",
       "      <td>Friends are the people who let you be yourself...</td>\n",
       "      <td>Waiting to Exhale</td>\n",
       "      <td>False</td>\n",
       "      <td>6.1</td>\n",
       "      <td>34.0</td>\n",
       "    </tr>\n",
       "    <tr>\n",
       "      <th>4</th>\n",
       "      <td>False</td>\n",
       "      <td>{'id': 96871, 'name': 'Father of the Bride Col...</td>\n",
       "      <td>0</td>\n",
       "      <td>[{'id': 35, 'name': 'Comedy'}]</td>\n",
       "      <td>NaN</td>\n",
       "      <td>11862</td>\n",
       "      <td>tt0113041</td>\n",
       "      <td>en</td>\n",
       "      <td>Father of the Bride Part II</td>\n",
       "      <td>Just when George Banks has recovered from his ...</td>\n",
       "      <td>...</td>\n",
       "      <td>1995-02-10</td>\n",
       "      <td>76578911.0</td>\n",
       "      <td>106.0</td>\n",
       "      <td>[{'iso_639_1': 'en', 'name': 'English'}]</td>\n",
       "      <td>Released</td>\n",
       "      <td>Just When His World Is Back To Normal... He's ...</td>\n",
       "      <td>Father of the Bride Part II</td>\n",
       "      <td>False</td>\n",
       "      <td>5.7</td>\n",
       "      <td>173.0</td>\n",
       "    </tr>\n",
       "  </tbody>\n",
       "</table>\n",
       "<p>5 rows × 24 columns</p>\n",
       "</div>"
      ],
      "text/plain": [
       "   adult                              belongs_to_collection    budget  \\\n",
       "0  False  {'id': 10194, 'name': 'Toy Story Collection', ...  30000000   \n",
       "1  False                                                NaN  65000000   \n",
       "2  False  {'id': 119050, 'name': 'Grumpy Old Men Collect...         0   \n",
       "3  False                                                NaN  16000000   \n",
       "4  False  {'id': 96871, 'name': 'Father of the Bride Col...         0   \n",
       "\n",
       "                                              genres  \\\n",
       "0  [{'id': 16, 'name': 'Animation'}, {'id': 35, '...   \n",
       "1  [{'id': 12, 'name': 'Adventure'}, {'id': 14, '...   \n",
       "2  [{'id': 10749, 'name': 'Romance'}, {'id': 35, ...   \n",
       "3  [{'id': 35, 'name': 'Comedy'}, {'id': 18, 'nam...   \n",
       "4                     [{'id': 35, 'name': 'Comedy'}]   \n",
       "\n",
       "                               homepage     id    imdb_id original_language  \\\n",
       "0  http://toystory.disney.com/toy-story    862  tt0114709                en   \n",
       "1                                   NaN   8844  tt0113497                en   \n",
       "2                                   NaN  15602  tt0113228                en   \n",
       "3                                   NaN  31357  tt0114885                en   \n",
       "4                                   NaN  11862  tt0113041                en   \n",
       "\n",
       "                original_title  \\\n",
       "0                    Toy Story   \n",
       "1                      Jumanji   \n",
       "2             Grumpier Old Men   \n",
       "3            Waiting to Exhale   \n",
       "4  Father of the Bride Part II   \n",
       "\n",
       "                                            overview  ... release_date  \\\n",
       "0  Led by Woody, Andy's toys live happily in his ...  ...   1995-10-30   \n",
       "1  When siblings Judy and Peter discover an encha...  ...   1995-12-15   \n",
       "2  A family wedding reignites the ancient feud be...  ...   1995-12-22   \n",
       "3  Cheated on, mistreated and stepped on, the wom...  ...   1995-12-22   \n",
       "4  Just when George Banks has recovered from his ...  ...   1995-02-10   \n",
       "\n",
       "       revenue runtime                                   spoken_languages  \\\n",
       "0  373554033.0    81.0           [{'iso_639_1': 'en', 'name': 'English'}]   \n",
       "1  262797249.0   104.0  [{'iso_639_1': 'en', 'name': 'English'}, {'iso...   \n",
       "2          0.0   101.0           [{'iso_639_1': 'en', 'name': 'English'}]   \n",
       "3   81452156.0   127.0           [{'iso_639_1': 'en', 'name': 'English'}]   \n",
       "4   76578911.0   106.0           [{'iso_639_1': 'en', 'name': 'English'}]   \n",
       "\n",
       "     status                                            tagline  \\\n",
       "0  Released                                                NaN   \n",
       "1  Released          Roll the dice and unleash the excitement!   \n",
       "2  Released  Still Yelling. Still Fighting. Still Ready for...   \n",
       "3  Released  Friends are the people who let you be yourself...   \n",
       "4  Released  Just When His World Is Back To Normal... He's ...   \n",
       "\n",
       "                         title  video vote_average vote_count  \n",
       "0                    Toy Story  False          7.7     5415.0  \n",
       "1                      Jumanji  False          6.9     2413.0  \n",
       "2             Grumpier Old Men  False          6.5       92.0  \n",
       "3            Waiting to Exhale  False          6.1       34.0  \n",
       "4  Father of the Bride Part II  False          5.7      173.0  \n",
       "\n",
       "[5 rows x 24 columns]"
      ]
     },
     "execution_count": 6,
     "metadata": {},
     "output_type": "execute_result"
    }
   ],
   "source": [
    "movies_metadata.head()"
   ]
  },
  {
   "cell_type": "markdown",
   "metadata": {},
   "source": [
    "# DATA CLEANING\n",
    "\n",
    "## Dropping Columns\n",
    "\n",
    "*  Column: Tagline\n",
    "    * It has 25000 null values\n",
    "\n",
    "* Column: Spoken Language \n",
    "    * We have the same information in the original language column\n",
    "    \n",
    "*  Column: Original_Title\n",
    "    * We have the same information from the title column\n",
    "\n",
    "*  Column: Status\n",
    "    * All movies in the database are released movies\n",
    "*  Column: Homepage, Poster_path, Adult, Belongs_to_collection, Video\n",
    "    * Its not providing useful information so as ro be used as features"
   ]
  },
  {
   "cell_type": "code",
   "execution_count": 7,
   "metadata": {
    "ExecuteTime": {
     "end_time": "2021-12-15T19:01:12.643631Z",
     "start_time": "2021-12-15T19:01:12.599924Z"
    }
   },
   "outputs": [
    {
     "name": "stdout",
     "output_type": "stream",
     "text": [
      "<class 'pandas.core.frame.DataFrame'>\n",
      "RangeIndex: 45466 entries, 0 to 45465\n",
      "Data columns (total 15 columns):\n",
      " #   Column                Non-Null Count  Dtype  \n",
      "---  ------                --------------  -----  \n",
      " 0   budget                45466 non-null  object \n",
      " 1   genres                45466 non-null  object \n",
      " 2   id                    45466 non-null  object \n",
      " 3   imdb_id               45449 non-null  object \n",
      " 4   original_language     45455 non-null  object \n",
      " 5   overview              44512 non-null  object \n",
      " 6   popularity            45461 non-null  object \n",
      " 7   production_companies  45463 non-null  object \n",
      " 8   production_countries  45463 non-null  object \n",
      " 9   release_date          45379 non-null  object \n",
      " 10  revenue               45460 non-null  float64\n",
      " 11  runtime               45203 non-null  float64\n",
      " 12  title                 45460 non-null  object \n",
      " 13  vote_average          45460 non-null  float64\n",
      " 14  vote_count            45460 non-null  float64\n",
      "dtypes: float64(4), object(11)\n",
      "memory usage: 5.2+ MB\n"
     ]
    }
   ],
   "source": [
    "movies_features = movies_metadata.drop(columns=['poster_path','adult','homepage','tagline','belongs_to_collection','spoken_languages','original_title','video','status'])\n",
    "movies_features.info()"
   ]
  },
  {
   "cell_type": "markdown",
   "metadata": {},
   "source": [
    "### Checking for Null Values"
   ]
  },
  {
   "cell_type": "code",
   "execution_count": 8,
   "metadata": {
    "ExecuteTime": {
     "end_time": "2021-12-15T19:01:12.676652Z",
     "start_time": "2021-12-15T19:01:12.645585Z"
    }
   },
   "outputs": [
    {
     "data": {
      "text/plain": [
       "budget                    0\n",
       "genres                    0\n",
       "id                        0\n",
       "imdb_id                  17\n",
       "original_language        11\n",
       "overview                954\n",
       "popularity                5\n",
       "production_companies      3\n",
       "production_countries      3\n",
       "release_date             87\n",
       "revenue                   6\n",
       "runtime                 263\n",
       "title                     6\n",
       "vote_average              6\n",
       "vote_count                6\n",
       "dtype: int64"
      ]
     },
     "execution_count": 8,
     "metadata": {},
     "output_type": "execute_result"
    }
   ],
   "source": [
    "movies_features.isnull().sum()"
   ]
  },
  {
   "cell_type": "markdown",
   "metadata": {},
   "source": [
    "#### Looking into Runtime as it is deemed to be of high importance and contains null values"
   ]
  },
  {
   "cell_type": "code",
   "execution_count": 9,
   "metadata": {
    "ExecuteTime": {
     "end_time": "2021-12-15T19:01:12.867368Z",
     "start_time": "2021-12-15T19:01:12.678488Z"
    }
   },
   "outputs": [
    {
     "name": "stdout",
     "output_type": "stream",
     "text": [
      "(-1.257, 125.6]     41306\n",
      "(125.6, 251.2]       3719\n",
      "(251.2, 376.8]        115\n",
      "(376.8, 502.4]         34\n",
      "(502.4, 628.0]         13\n",
      "(628.0, 753.6]          5\n",
      "(753.6, 879.2]          5\n",
      "(879.2, 1004.8]         3\n",
      "(1130.4, 1256.0]        3\n",
      "(1004.8, 1130.4]        0\n",
      "Name: runtime, dtype: int64\n"
     ]
    },
    {
     "data": {
      "image/png": "[encoded data removed]",
      "text/plain": [
       "<Figure size 432x288 with 1 Axes>"
      ]
     },
     "metadata": {
      "needs_background": "light"
     },
     "output_type": "display_data"
    }
   ],
   "source": [
    "print(movies_features['runtime'].value_counts(bins=10))\n",
    "ax = movies_features.boxplot(column=['runtime'])\n"
   ]
  },
  {
   "cell_type": "markdown",
   "metadata": {},
   "source": [
    "### Identifying Bad Data"
   ]
  },
  {
   "cell_type": "code",
   "execution_count": 10,
   "metadata": {
    "ExecuteTime": {
     "end_time": "2021-12-15T19:01:12.899208Z",
     "start_time": "2021-12-15T19:01:12.869661Z"
    }
   },
   "outputs": [
    {
     "name": "stdout",
     "output_type": "stream",
     "text": [
      "rows with budget value is string 0\n",
      "(36573, 15)\n",
      "rows with revenue value is  0\n",
      "(38052, 15)\n"
     ]
    }
   ],
   "source": [
    "#data seems to be corrupt bad data \n",
    "movies_features[movies_features['revenue'].isnull()]\n",
    "\n",
    "# 36000 rows with budget value is sting '0'\n",
    "print('rows with budget value is string 0')\n",
    "print(movies_features[movies_features['budget']=='0'].shape)\n",
    "\n",
    "print('rows with revenue value is  0')\n",
    "print(movies_features[movies_features['revenue']==0].shape)\n"
   ]
  },
  {
   "cell_type": "code",
   "execution_count": 11,
   "metadata": {
    "ExecuteTime": {
     "end_time": "2021-12-15T19:01:13.151813Z",
     "start_time": "2021-12-15T19:01:12.901391Z"
    }
   },
   "outputs": [
    {
     "data": {
      "text/plain": [
       "<AxesSubplot:xlabel='revenue', ylabel='Density'>"
      ]
     },
     "execution_count": 11,
     "metadata": {},
     "output_type": "execute_result"
    },
    {
     "data": {
      "image/png": "[encoded data removed]",
      "text/plain": [
       "<Figure size 432x288 with 1 Axes>"
      ]
     },
     "metadata": {
      "needs_background": "light"
     },
     "output_type": "display_data"
    }
   ],
   "source": [
    "sns.kdeplot(data=movies_features, x=\"revenue\")"
   ]
  },
  {
   "cell_type": "code",
   "execution_count": 12,
   "metadata": {
    "ExecuteTime": {
     "end_time": "2021-12-15T19:01:13.190356Z",
     "start_time": "2021-12-15T19:01:13.158648Z"
    }
   },
   "outputs": [
    {
     "data": {
      "text/plain": [
       "budget                    0\n",
       "genres                    0\n",
       "id                        0\n",
       "imdb_id                  17\n",
       "original_language        11\n",
       "overview                954\n",
       "popularity                5\n",
       "production_companies      3\n",
       "production_countries      3\n",
       "release_date             87\n",
       "revenue                   6\n",
       "runtime                 263\n",
       "title                     6\n",
       "vote_average              6\n",
       "vote_count                6\n",
       "dtype: int64"
      ]
     },
     "execution_count": 12,
     "metadata": {},
     "output_type": "execute_result"
    }
   ],
   "source": [
    "movies_features.isnull().sum()"
   ]
  },
  {
   "cell_type": "markdown",
   "metadata": {},
   "source": [
    "## Handling Bad and Missing Data\n",
    "\n",
    "*  Dropping rows with null values revenue, original_language, budget and release_date\n",
    "*  ImDb_ID could potentially be important thus filing the missing values with 0\n",
    "*  Runtime deemed to be an important feature, the missing data was filled with median value"
   ]
  },
  {
   "cell_type": "code",
   "execution_count": 13,
   "metadata": {
    "ExecuteTime": {
     "end_time": "2021-12-15T19:01:13.253732Z",
     "start_time": "2021-12-15T19:01:13.191847Z"
    }
   },
   "outputs": [
    {
     "data": {
      "text/plain": [
       "budget                    0\n",
       "genres                    0\n",
       "id                        0\n",
       "imdb_id                   0\n",
       "original_language         0\n",
       "overview                940\n",
       "popularity                0\n",
       "production_companies      0\n",
       "production_countries      0\n",
       "release_date              0\n",
       "revenue                   0\n",
       "runtime                   0\n",
       "title                     0\n",
       "vote_average              0\n",
       "vote_count                0\n",
       "dtype: int64"
      ]
     },
     "execution_count": 13,
     "metadata": {},
     "output_type": "execute_result"
    }
   ],
   "source": [
    "#dropping rows qith null values for imdb_id and original_language  and overview release_date\n",
    "movies_features=movies_features.dropna(subset=['revenue','original_language','release_date','budget'])\n",
    "\n",
    "#adding 0 here so that null values can be replaced and later IDs can be treated as integers and not string to save memory\n",
    "movies_features['imdb_id']=movies_features['imdb_id'].fillna(value=0)\n",
    "\n",
    "#imputing missing run_time values with median runtime. \n",
    "median_runtime = movies_features['runtime'].median()\n",
    "movies_features['runtime']=movies_features['runtime'].fillna(value=median_runtime)\n",
    "movies_features.isnull().sum()\n",
    "\n"
   ]
  },
  {
   "cell_type": "markdown",
   "metadata": {},
   "source": [
    "**Filtering rows to popularity values less than 20 as 99% of the movies have popularity scores less than 20**"
   ]
  },
  {
   "cell_type": "code",
   "execution_count": 14,
   "metadata": {
    "ExecuteTime": {
     "end_time": "2021-12-15T19:01:13.521210Z",
     "start_time": "2021-12-15T19:01:13.255140Z"
    }
   },
   "outputs": [
    {
     "data": {
      "image/png": "[encoded data removed]",
      "text/plain": [
       "<Figure size 432x288 with 1 Axes>"
      ]
     },
     "metadata": {
      "needs_background": "light"
     },
     "output_type": "display_data"
    }
   ],
   "source": [
    "movies_features['popularity']=movies_features['popularity'].astype(float)\n",
    "#movies_features.boxplot(column=['popularity'])\n",
    "sns.kdeplot(data=movies_features, x=\"popularity\")\n",
    "movies_features['popularity'].quantile(0.99)\n",
    "movies_features=movies_features[movies_features['popularity']<20]"
   ]
  },
  {
   "cell_type": "markdown",
   "metadata": {},
   "source": [
    "# Feature Cleaning and Adding Features\n",
    "\n",
    "*  **Converting Date to only Year**\n",
    "*  **Converting imdb_id from string to numeric datatype**\n",
    "*  **Converting Production_companies and genres columns to string and then extracting the relavant information**"
   ]
  },
  {
   "cell_type": "code",
   "execution_count": 15,
   "metadata": {
    "ExecuteTime": {
     "end_time": "2021-12-15T19:01:17.238994Z",
     "start_time": "2021-12-15T19:01:13.522751Z"
    }
   },
   "outputs": [],
   "source": [
    "movies_features['year'] = pd.to_datetime(movies_features['release_date'], errors='coerce').apply(lambda x: str(x).split('-')[0] if x != np.nan else np.nan)\n",
    "\n",
    "movies_features['imdb_id']=movies_features['imdb_id'].apply(lambda x: int(str(x).lstrip(\"tt\")))\n",
    "\n",
    "movies_features['production_companies']=movies_features['production_companies'].apply(lambda x: ast.literal_eval(x))\n",
    "movies_features['production_companies']=movies_features['production_companies'].apply(lambda x: [i['name'] for i in x])\n",
    "\n",
    "movies_features['genres']=movies_features['genres'].apply(lambda x: ast.literal_eval(x))\n",
    "movies_features['genres']=movies_features['genres'].apply(lambda x: [i['name'] for i in x])\n",
    "\n",
    "movies_features['production_countries']=movies_features['production_countries'].apply(lambda x: ast.literal_eval(x))\n",
    "movies_features['production_countries']=movies_features['production_countries'].apply(lambda x: [i['name'] for i in x])\n",
    "movies_features['production_countries'] = movies_features['production_countries'].apply(lambda x: x[0] if x !=[] else 0)"
   ]
  },
  {
   "cell_type": "markdown",
   "metadata": {},
   "source": [
    "**Production_countries has bad data, to impute it we created a dictionary mapping language to country and since we have data for all languages used that dictionary to assign a country to the movie.**"
   ]
  },
  {
   "cell_type": "code",
   "execution_count": 16,
   "metadata": {
    "ExecuteTime": {
     "end_time": "2021-12-15T19:01:17.345080Z",
     "start_time": "2021-12-15T19:01:17.241506Z"
    }
   },
   "outputs": [
    {
     "name": "stdout",
     "output_type": "stream",
     "text": [
      "         production_countries  number_of_movies\n",
      "138  United States of America             18246\n",
      "0                           0              6208\n",
      "136            United Kingdom              3040\n",
      "48                     France              2693\n",
      "26                     Canada              1489\n",
      "65                      Japan              1489\n",
      "63                      Italy              1465\n",
      "50                    Germany              1410\n",
      "109                    Russia               799\n",
      "57                      India               781\n"
     ]
    }
   ],
   "source": [
    "movies_by_countries = movies_features.groupby(['production_countries']).count()['genres'].reset_index()\n",
    "movies_by_countries=movies_by_countries.rename(columns={'genres':'number_of_movies'})\n",
    "print(movies_by_countries.sort_values(by='number_of_movies', ascending=False).iloc[0:10])\n",
    "movies_features['movies_by_countries'] = movies_features.groupby(['production_countries'])['genres'].transform(lambda x : x.count())"
   ]
  },
  {
   "cell_type": "code",
   "execution_count": 17,
   "metadata": {
    "ExecuteTime": {
     "end_time": "2021-12-15T19:01:17.386446Z",
     "start_time": "2021-12-15T19:01:17.346600Z"
    }
   },
   "outputs": [
    {
     "name": "stdout",
     "output_type": "stream",
     "text": [
      "{'en': 'United States of America', 'fr': 'France', 'ja': 'Japan', 'it': 'Italy', 'de': 'Germany', 'ru': 'Russia', 'hi': 'India', 'ko': 'South Korea', 'es': 'Spain', 'sv': 'Sweden', 'cn': 'Hong Kong', 'fi': 'Finland', 'pt': 'Brazil', 'zh': 'China', 'da': 'Denmark', 'pl': 'Poland', 'nl': 'Netherlands', 'cs': 'Czech Republic', 'tr': 'Turkey', 'no': 'Norway', 'fa': 'Iran', 'hu': 'Hungary', 'el': 'Greece', 'ta': 'India', 'th': 'Thailand', 'sr': 'Serbia', 'he': 'Israel', 'ro': 'Romania', 'te': 'India', 'ml': 'India', 'hr': 'Croatia', 'bn': 'India', 'tl': 'Philippines', 'et': 'Estonia', 'id': 'Indonesia', 'mr': 'India', 'is': 'Iceland', 'sl': 'Slovenia', 'ar': 'Egypt', 'ka': 'Georgia', 'lv': 'Latvia', 'xx': 'United States of America', 'bs': 'Bosnia and Herzegovina', 'ca': 'Spain', 'uk': 'Ukraine', 'bg': 'Bulgaria', 'vi': 'Vietnam', 'mk': 'Macedonia', 'sk': 'Slovakia', 'wo': 'Senegal', 'nb': 'Norway', 'ky': 'Kyrgyz Republic', 'lt': 'Lithuania', 'kk': 'Kazakhstan', 'ur': 'Pakistan', 'ab': 'United States of America', 'am': 'Ethiopia', 'af': 'South Africa', 'mn': 'Mongolia', 'iu': 'Canada', 'sq': 'Albania', 'bm': 'Burkina Faso', 'sh': 'Serbia', 'eu': 'Spain', 'ms': 'Singapore', 'ne': 'Nepal', 'mt': 'Malta', 'pa': 'Pakistan', 'tg': 'Tajikistan', 'uz': 0, 'qu': 'Peru', 'ps': 'Pakistan', 'sm': 'Samoa', 'si': 'Sri Lanka', 'rw': 'Rwanda', 'eo': 'United States of America', 'bo': 'China', 'ay': 'Bolivia', 'cy': 0, 'jv': 'Indonesia', 'hy': 'Armenia', 'lo': 'Australia', 'lb': 'Switzerland', 'la': 'United Kingdom', 'ku': 'Sweden', 'kn': 'India', 'gl': 'Spain', 'fy': 0, 'zu': 'South Africa'}\n"
     ]
    }
   ],
   "source": [
    "movies_features[movies_features['production_countries']==0].groupby('original_language').count()['production_countries'].sort_values(ascending=False)[0:5]\n",
    "language_country_mapping = movies_features.groupby(['original_language','production_countries']).size().reset_index().rename(columns={0:'count'})\n",
    "language_country_mapping=language_country_mapping.sort_values(by='count',ascending=False).reset_index(drop=True)\n",
    "language_country_mapping=language_country_mapping.drop_duplicates(subset=['original_language'],keep='first')\n",
    "language_country_mapping.sort_values(by='count',ascending=False).reset_index(drop=True)\n",
    "language_country_dict = {r[1]:r[2] for r in language_country_mapping.itertuples()}\n",
    "print(language_country_dict)"
   ]
  },
  {
   "cell_type": "code",
   "execution_count": 18,
   "metadata": {
    "ExecuteTime": {
     "end_time": "2021-12-15T19:01:17.489028Z",
     "start_time": "2021-12-15T19:01:17.388797Z"
    }
   },
   "outputs": [
    {
     "name": "stdout",
     "output_type": "stream",
     "text": [
      "         production_countries  number_of_movies\n",
      "138  United States of America             23410\n",
      "136            United Kingdom              3040\n",
      "48                     France              2840\n",
      "63                      Italy              1701\n",
      "65                      Japan              1523\n",
      "50                    Germany              1491\n",
      "26                     Canada              1489\n",
      "57                      India               864\n",
      "109                    Russia               858\n",
      "121                     Spain               674\n",
      "8                   Australia               496\n",
      "54                  Hong Kong               477\n",
      "119               South Korea               472\n",
      "123                    Sweden               430\n",
      "47                    Finland               386\n"
     ]
    }
   ],
   "source": [
    "empty_production_countries = movies_features[\"production_countries\"] == 0\n",
    "movies_features.loc[empty_production_countries,'production_countries']=movies_features.loc[empty_production_countries,'original_language'].map(language_country_dict)\n",
    "movies_by_countries = movies_features.groupby(['production_countries']).count()['genres'].reset_index()\n",
    "movies_by_countries=movies_by_countries.rename(columns={'genres':'number_of_movies'})\n",
    "print(movies_by_countries.sort_values(by='number_of_movies', ascending=False).iloc[0:15])\n",
    "movies_features['movies_by_countries'] = movies_features.groupby(['production_countries'])['genres'].transform(lambda x : x.count())"
   ]
  },
  {
   "cell_type": "markdown",
   "metadata": {},
   "source": [
    "#### Feature Filtering\n",
    "We intend to provide latest recommendations and more well known movies worldwide. So we did the following:\n",
    "*  Filtered movies_by_country to contain countries with 500 or more movies\n",
    "*  Filtered movies by year to contain movies during or after 2000\n"
   ]
  },
  {
   "cell_type": "code",
   "execution_count": 19,
   "metadata": {
    "ExecuteTime": {
     "end_time": "2021-12-15T19:01:17.552787Z",
     "start_time": "2021-12-15T19:01:17.491143Z"
    }
   },
   "outputs": [],
   "source": [
    "movies_features=movies_features[movies_features['movies_by_countries']>500]\n",
    "movies_features=movies_features[movies_features['genres']!='[]']\n",
    "movies_features['year']=movies_features['year'].astype(float)\n",
    "movies_features=movies_features[movies_features['year']>=2000]"
   ]
  },
  {
   "cell_type": "code",
   "execution_count": 20,
   "metadata": {
    "ExecuteTime": {
     "end_time": "2021-12-15T19:01:17.583039Z",
     "start_time": "2021-12-15T19:01:17.555395Z"
    }
   },
   "outputs": [
    {
     "data": {
      "text/html": [
       "<div>\n",
       "<style scoped>\n",
       "    .dataframe tbody tr th:only-of-type {\n",
       "        vertical-align: middle;\n",
       "    }\n",
       "\n",
       "    .dataframe tbody tr th {\n",
       "        vertical-align: top;\n",
       "    }\n",
       "\n",
       "    .dataframe thead th {\n",
       "        text-align: right;\n",
       "    }\n",
       "</style>\n",
       "<table border=\"1\" class=\"dataframe\">\n",
       "  <thead>\n",
       "    <tr style=\"text-align: right;\">\n",
       "      <th></th>\n",
       "      <th>budget</th>\n",
       "      <th>genres</th>\n",
       "      <th>id</th>\n",
       "      <th>imdb_id</th>\n",
       "      <th>original_language</th>\n",
       "      <th>overview</th>\n",
       "      <th>popularity</th>\n",
       "      <th>production_companies</th>\n",
       "      <th>production_countries</th>\n",
       "      <th>release_date</th>\n",
       "      <th>revenue</th>\n",
       "      <th>runtime</th>\n",
       "      <th>title</th>\n",
       "      <th>vote_average</th>\n",
       "      <th>vote_count</th>\n",
       "      <th>year</th>\n",
       "      <th>movies_by_countries</th>\n",
       "    </tr>\n",
       "  </thead>\n",
       "  <tbody>\n",
       "    <tr>\n",
       "      <th>707</th>\n",
       "      <td>0</td>\n",
       "      <td>[Drama, Foreign]</td>\n",
       "      <td>131232</td>\n",
       "      <td>333373</td>\n",
       "      <td>en</td>\n",
       "      <td>Two Sicilian friends, Nunzio and Pino, share t...</td>\n",
       "      <td>0.003949</td>\n",
       "      <td>[]</td>\n",
       "      <td>Italy</td>\n",
       "      <td>2002-03-20</td>\n",
       "      <td>0.0</td>\n",
       "      <td>86.0</td>\n",
       "      <td>Two Friends</td>\n",
       "      <td>0.0</td>\n",
       "      <td>0.0</td>\n",
       "      <td>2002.0</td>\n",
       "      <td>1701</td>\n",
       "    </tr>\n",
       "    <tr>\n",
       "      <th>868</th>\n",
       "      <td>0</td>\n",
       "      <td>[Drama, Romance]</td>\n",
       "      <td>79782</td>\n",
       "      <td>1684935</td>\n",
       "      <td>en</td>\n",
       "      <td>An atmospheric coming-of-age story featuring a...</td>\n",
       "      <td>0.147130</td>\n",
       "      <td>[]</td>\n",
       "      <td>United States of America</td>\n",
       "      <td>2010-05-25</td>\n",
       "      <td>0.0</td>\n",
       "      <td>110.0</td>\n",
       "      <td>Venice</td>\n",
       "      <td>7.5</td>\n",
       "      <td>4.0</td>\n",
       "      <td>2010.0</td>\n",
       "      <td>23410</td>\n",
       "    </tr>\n",
       "    <tr>\n",
       "      <th>1081</th>\n",
       "      <td>0</td>\n",
       "      <td>[Comedy, Horror]</td>\n",
       "      <td>141210</td>\n",
       "      <td>2250194</td>\n",
       "      <td>en</td>\n",
       "      <td>The town of Derry has a secret, but no one tol...</td>\n",
       "      <td>0.135596</td>\n",
       "      <td>[]</td>\n",
       "      <td>United States of America</td>\n",
       "      <td>2013-10-12</td>\n",
       "      <td>0.0</td>\n",
       "      <td>6.0</td>\n",
       "      <td>The Sleepover</td>\n",
       "      <td>8.0</td>\n",
       "      <td>1.0</td>\n",
       "      <td>2013.0</td>\n",
       "      <td>23410</td>\n",
       "    </tr>\n",
       "    <tr>\n",
       "      <th>2114</th>\n",
       "      <td>0</td>\n",
       "      <td>[Drama]</td>\n",
       "      <td>143750</td>\n",
       "      <td>2140519</td>\n",
       "      <td>en</td>\n",
       "      <td>As her surroundings are invaded by outsiders, ...</td>\n",
       "      <td>0.211754</td>\n",
       "      <td>[]</td>\n",
       "      <td>United States of America</td>\n",
       "      <td>2012-06-20</td>\n",
       "      <td>0.0</td>\n",
       "      <td>18.0</td>\n",
       "      <td>The Farmer's Wife</td>\n",
       "      <td>10.0</td>\n",
       "      <td>1.0</td>\n",
       "      <td>2012.0</td>\n",
       "      <td>23410</td>\n",
       "    </tr>\n",
       "    <tr>\n",
       "      <th>2564</th>\n",
       "      <td>0</td>\n",
       "      <td>[Documentary]</td>\n",
       "      <td>84198</td>\n",
       "      <td>1736049</td>\n",
       "      <td>en</td>\n",
       "      <td>Using personal stories, this powerful document...</td>\n",
       "      <td>0.501046</td>\n",
       "      <td>[]</td>\n",
       "      <td>United States of America</td>\n",
       "      <td>2012-03-22</td>\n",
       "      <td>0.0</td>\n",
       "      <td>84.0</td>\n",
       "      <td>A Place at the Table</td>\n",
       "      <td>6.9</td>\n",
       "      <td>7.0</td>\n",
       "      <td>2012.0</td>\n",
       "      <td>23410</td>\n",
       "    </tr>\n",
       "  </tbody>\n",
       "</table>\n",
       "</div>"
      ],
      "text/plain": [
       "     budget            genres      id  imdb_id original_language  \\\n",
       "707       0  [Drama, Foreign]  131232   333373                en   \n",
       "868       0  [Drama, Romance]   79782  1684935                en   \n",
       "1081      0  [Comedy, Horror]  141210  2250194                en   \n",
       "2114      0           [Drama]  143750  2140519                en   \n",
       "2564      0     [Documentary]   84198  1736049                en   \n",
       "\n",
       "                                               overview  popularity  \\\n",
       "707   Two Sicilian friends, Nunzio and Pino, share t...    0.003949   \n",
       "868   An atmospheric coming-of-age story featuring a...    0.147130   \n",
       "1081  The town of Derry has a secret, but no one tol...    0.135596   \n",
       "2114  As her surroundings are invaded by outsiders, ...    0.211754   \n",
       "2564  Using personal stories, this powerful document...    0.501046   \n",
       "\n",
       "     production_companies      production_countries release_date  revenue  \\\n",
       "707                    []                     Italy   2002-03-20      0.0   \n",
       "868                    []  United States of America   2010-05-25      0.0   \n",
       "1081                   []  United States of America   2013-10-12      0.0   \n",
       "2114                   []  United States of America   2012-06-20      0.0   \n",
       "2564                   []  United States of America   2012-03-22      0.0   \n",
       "\n",
       "      runtime                 title  vote_average  vote_count    year  \\\n",
       "707      86.0           Two Friends           0.0         0.0  2002.0   \n",
       "868     110.0                Venice           7.5         4.0  2010.0   \n",
       "1081      6.0         The Sleepover           8.0         1.0  2013.0   \n",
       "2114     18.0     The Farmer's Wife          10.0         1.0  2012.0   \n",
       "2564     84.0  A Place at the Table           6.9         7.0  2012.0   \n",
       "\n",
       "      movies_by_countries  \n",
       "707                  1701  \n",
       "868                 23410  \n",
       "1081                23410  \n",
       "2114                23410  \n",
       "2564                23410  "
      ]
     },
     "execution_count": 20,
     "metadata": {},
     "output_type": "execute_result"
    }
   ],
   "source": [
    "movies_features.head()"
   ]
  },
  {
   "cell_type": "markdown",
   "metadata": {},
   "source": [
    "## Dropping Irrelavant Features\n",
    "After Exploartory Data Analysis we dropped all irrelavant features for algorithm such as id,imdb_id,title,overview,production_companies,revenue,budget,movies_by_countries,release date, original_language"
   ]
  },
  {
   "cell_type": "code",
   "execution_count": 21,
   "metadata": {
    "ExecuteTime": {
     "end_time": "2021-12-15T19:01:17.591412Z",
     "start_time": "2021-12-15T19:01:17.584604Z"
    }
   },
   "outputs": [],
   "source": [
    "movies_features=movies_features.reset_index(drop=True)\n",
    "movies_kmeans= movies_features.drop(columns=['title','id','imdb_id','imdb_id','overview','production_companies','revenue','budget','movies_by_countries','release_date','original_language'])"
   ]
  },
  {
   "cell_type": "code",
   "execution_count": 22,
   "metadata": {
    "ExecuteTime": {
     "end_time": "2021-12-15T19:01:17.608328Z",
     "start_time": "2021-12-15T19:01:17.593892Z"
    }
   },
   "outputs": [
    {
     "data": {
      "text/html": [
       "<div>\n",
       "<style scoped>\n",
       "    .dataframe tbody tr th:only-of-type {\n",
       "        vertical-align: middle;\n",
       "    }\n",
       "\n",
       "    .dataframe tbody tr th {\n",
       "        vertical-align: top;\n",
       "    }\n",
       "\n",
       "    .dataframe thead th {\n",
       "        text-align: right;\n",
       "    }\n",
       "</style>\n",
       "<table border=\"1\" class=\"dataframe\">\n",
       "  <thead>\n",
       "    <tr style=\"text-align: right;\">\n",
       "      <th></th>\n",
       "      <th>genres</th>\n",
       "      <th>popularity</th>\n",
       "      <th>production_countries</th>\n",
       "      <th>runtime</th>\n",
       "      <th>vote_average</th>\n",
       "      <th>vote_count</th>\n",
       "      <th>year</th>\n",
       "    </tr>\n",
       "  </thead>\n",
       "  <tbody>\n",
       "    <tr>\n",
       "      <th>0</th>\n",
       "      <td>[Drama, Foreign]</td>\n",
       "      <td>0.003949</td>\n",
       "      <td>Italy</td>\n",
       "      <td>86.0</td>\n",
       "      <td>0.0</td>\n",
       "      <td>0.0</td>\n",
       "      <td>2002.0</td>\n",
       "    </tr>\n",
       "    <tr>\n",
       "      <th>1</th>\n",
       "      <td>[Drama, Romance]</td>\n",
       "      <td>0.147130</td>\n",
       "      <td>United States of America</td>\n",
       "      <td>110.0</td>\n",
       "      <td>7.5</td>\n",
       "      <td>4.0</td>\n",
       "      <td>2010.0</td>\n",
       "    </tr>\n",
       "    <tr>\n",
       "      <th>2</th>\n",
       "      <td>[Comedy, Horror]</td>\n",
       "      <td>0.135596</td>\n",
       "      <td>United States of America</td>\n",
       "      <td>6.0</td>\n",
       "      <td>8.0</td>\n",
       "      <td>1.0</td>\n",
       "      <td>2013.0</td>\n",
       "    </tr>\n",
       "    <tr>\n",
       "      <th>3</th>\n",
       "      <td>[Drama]</td>\n",
       "      <td>0.211754</td>\n",
       "      <td>United States of America</td>\n",
       "      <td>18.0</td>\n",
       "      <td>10.0</td>\n",
       "      <td>1.0</td>\n",
       "      <td>2012.0</td>\n",
       "    </tr>\n",
       "    <tr>\n",
       "      <th>4</th>\n",
       "      <td>[Documentary]</td>\n",
       "      <td>0.501046</td>\n",
       "      <td>United States of America</td>\n",
       "      <td>84.0</td>\n",
       "      <td>6.9</td>\n",
       "      <td>7.0</td>\n",
       "      <td>2012.0</td>\n",
       "    </tr>\n",
       "  </tbody>\n",
       "</table>\n",
       "</div>"
      ],
      "text/plain": [
       "             genres  popularity      production_countries  runtime  \\\n",
       "0  [Drama, Foreign]    0.003949                     Italy     86.0   \n",
       "1  [Drama, Romance]    0.147130  United States of America    110.0   \n",
       "2  [Comedy, Horror]    0.135596  United States of America      6.0   \n",
       "3           [Drama]    0.211754  United States of America     18.0   \n",
       "4     [Documentary]    0.501046  United States of America     84.0   \n",
       "\n",
       "   vote_average  vote_count    year  \n",
       "0           0.0         0.0  2002.0  \n",
       "1           7.5         4.0  2010.0  \n",
       "2           8.0         1.0  2013.0  \n",
       "3          10.0         1.0  2012.0  \n",
       "4           6.9         7.0  2012.0  "
      ]
     },
     "execution_count": 22,
     "metadata": {},
     "output_type": "execute_result"
    }
   ],
   "source": [
    "movies_kmeans_copy = movies_kmeans.copy()\n",
    "movies_kmeans.head()"
   ]
  },
  {
   "cell_type": "markdown",
   "metadata": {},
   "source": [
    "## Scaling and Normalizing The Data"
   ]
  },
  {
   "cell_type": "code",
   "execution_count": 23,
   "metadata": {
    "ExecuteTime": {
     "end_time": "2021-12-15T19:01:17.613637Z",
     "start_time": "2021-12-15T19:01:17.610057Z"
    }
   },
   "outputs": [],
   "source": [
    "def normalize(subset):\n",
    "   continious_columns = subset.select_dtypes(include=['float']).columns\n",
    "   mm_scaler = preprocessing.MinMaxScaler()\n",
    "   for col in continious_columns:\n",
    "     subset[col]= mm_scaler.fit_transform(subset[[col]])\n",
    "   return subset"
   ]
  },
  {
   "cell_type": "code",
   "execution_count": 24,
   "metadata": {
    "ExecuteTime": {
     "end_time": "2021-12-15T19:01:17.631384Z",
     "start_time": "2021-12-15T19:01:17.615786Z"
    }
   },
   "outputs": [
    {
     "name": "stdout",
     "output_type": "stream",
     "text": [
      "<class 'pandas.core.frame.DataFrame'>\n",
      "RangeIndex: 18898 entries, 0 to 18897\n",
      "Data columns (total 7 columns):\n",
      " #   Column                Non-Null Count  Dtype  \n",
      "---  ------                --------------  -----  \n",
      " 0   genres                18898 non-null  object \n",
      " 1   popularity            18898 non-null  float64\n",
      " 2   production_countries  18898 non-null  object \n",
      " 3   runtime               18898 non-null  float64\n",
      " 4   vote_average          18898 non-null  float64\n",
      " 5   vote_count            18898 non-null  float64\n",
      " 6   year                  18898 non-null  float64\n",
      "dtypes: float64(5), object(2)\n",
      "memory usage: 1.0+ MB\n"
     ]
    }
   ],
   "source": [
    "movies_kmeans.info()"
   ]
  },
  {
   "cell_type": "code",
   "execution_count": 25,
   "metadata": {
    "ExecuteTime": {
     "end_time": "2021-12-15T19:01:17.659336Z",
     "start_time": "2021-12-15T19:01:17.633248Z"
    }
   },
   "outputs": [],
   "source": [
    "scaled_data = normalize(movies_kmeans)"
   ]
  },
  {
   "cell_type": "code",
   "execution_count": 26,
   "metadata": {
    "ExecuteTime": {
     "end_time": "2021-12-15T19:01:17.675571Z",
     "start_time": "2021-12-15T19:01:17.661568Z"
    }
   },
   "outputs": [
    {
     "name": "stdout",
     "output_type": "stream",
     "text": [
      "<class 'pandas.core.frame.DataFrame'>\n",
      "RangeIndex: 18898 entries, 0 to 18897\n",
      "Data columns (total 7 columns):\n",
      " #   Column                Non-Null Count  Dtype  \n",
      "---  ------                --------------  -----  \n",
      " 0   genres                18898 non-null  object \n",
      " 1   popularity            18898 non-null  float64\n",
      " 2   production_countries  18898 non-null  object \n",
      " 3   runtime               18898 non-null  float64\n",
      " 4   vote_average          18898 non-null  float64\n",
      " 5   vote_count            18898 non-null  float64\n",
      " 6   year                  18898 non-null  float64\n",
      "dtypes: float64(5), object(2)\n",
      "memory usage: 1.0+ MB\n"
     ]
    }
   ],
   "source": [
    "scaled_data.info()"
   ]
  },
  {
   "cell_type": "markdown",
   "metadata": {},
   "source": [
    "### One Hot Encoding\n",
    "Genre and Production_Countries contains lists so they are exploded and one hot encoded for easier manipulation and clustering"
   ]
  },
  {
   "cell_type": "code",
   "execution_count": 27,
   "metadata": {
    "ExecuteTime": {
     "end_time": "2021-12-15T19:01:17.715424Z",
     "start_time": "2021-12-15T19:01:17.683023Z"
    }
   },
   "outputs": [],
   "source": [
    "from sklearn.preprocessing import MultiLabelBinarizer\n",
    "\n",
    "mlb = MultiLabelBinarizer(sparse_output=True)\n",
    "\n",
    "\n",
    "df = scaled_data.join(\n",
    "            pd.DataFrame.sparse.from_spmatrix(\n",
    "                mlb.fit_transform(scaled_data.pop('genres')),\n",
    "                index=scaled_data.index,\n",
    "                columns=mlb.classes_))\n"
   ]
  },
  {
   "cell_type": "code",
   "execution_count": 28,
   "metadata": {
    "ExecuteTime": {
     "end_time": "2021-12-15T19:01:17.743528Z",
     "start_time": "2021-12-15T19:01:17.717769Z"
    }
   },
   "outputs": [
    {
     "data": {
      "text/html": [
       "<div>\n",
       "<style scoped>\n",
       "    .dataframe tbody tr th:only-of-type {\n",
       "        vertical-align: middle;\n",
       "    }\n",
       "\n",
       "    .dataframe tbody tr th {\n",
       "        vertical-align: top;\n",
       "    }\n",
       "\n",
       "    .dataframe thead th {\n",
       "        text-align: right;\n",
       "    }\n",
       "</style>\n",
       "<table border=\"1\" class=\"dataframe\">\n",
       "  <thead>\n",
       "    <tr style=\"text-align: right;\">\n",
       "      <th></th>\n",
       "      <th>popularity</th>\n",
       "      <th>production_countries</th>\n",
       "      <th>runtime</th>\n",
       "      <th>vote_average</th>\n",
       "      <th>vote_count</th>\n",
       "      <th>year</th>\n",
       "      <th>Action</th>\n",
       "      <th>Adventure</th>\n",
       "      <th>Animation</th>\n",
       "      <th>Comedy</th>\n",
       "      <th>...</th>\n",
       "      <th>History</th>\n",
       "      <th>Horror</th>\n",
       "      <th>Music</th>\n",
       "      <th>Mystery</th>\n",
       "      <th>Romance</th>\n",
       "      <th>Science Fiction</th>\n",
       "      <th>TV Movie</th>\n",
       "      <th>Thriller</th>\n",
       "      <th>War</th>\n",
       "      <th>Western</th>\n",
       "    </tr>\n",
       "  </thead>\n",
       "  <tbody>\n",
       "    <tr>\n",
       "      <th>0</th>\n",
       "      <td>0.000139</td>\n",
       "      <td>Italy</td>\n",
       "      <td>0.075439</td>\n",
       "      <td>0.00</td>\n",
       "      <td>0.000000</td>\n",
       "      <td>0.10</td>\n",
       "      <td>0</td>\n",
       "      <td>0</td>\n",
       "      <td>0</td>\n",
       "      <td>0</td>\n",
       "      <td>...</td>\n",
       "      <td>0</td>\n",
       "      <td>0</td>\n",
       "      <td>0</td>\n",
       "      <td>0</td>\n",
       "      <td>0</td>\n",
       "      <td>0</td>\n",
       "      <td>0</td>\n",
       "      <td>0</td>\n",
       "      <td>0</td>\n",
       "      <td>0</td>\n",
       "    </tr>\n",
       "    <tr>\n",
       "      <th>1</th>\n",
       "      <td>0.007319</td>\n",
       "      <td>United States of America</td>\n",
       "      <td>0.096491</td>\n",
       "      <td>0.75</td>\n",
       "      <td>0.000388</td>\n",
       "      <td>0.50</td>\n",
       "      <td>0</td>\n",
       "      <td>0</td>\n",
       "      <td>0</td>\n",
       "      <td>0</td>\n",
       "      <td>...</td>\n",
       "      <td>0</td>\n",
       "      <td>0</td>\n",
       "      <td>0</td>\n",
       "      <td>0</td>\n",
       "      <td>1</td>\n",
       "      <td>0</td>\n",
       "      <td>0</td>\n",
       "      <td>0</td>\n",
       "      <td>0</td>\n",
       "      <td>0</td>\n",
       "    </tr>\n",
       "    <tr>\n",
       "      <th>2</th>\n",
       "      <td>0.006740</td>\n",
       "      <td>United States of America</td>\n",
       "      <td>0.005263</td>\n",
       "      <td>0.80</td>\n",
       "      <td>0.000097</td>\n",
       "      <td>0.65</td>\n",
       "      <td>0</td>\n",
       "      <td>0</td>\n",
       "      <td>0</td>\n",
       "      <td>1</td>\n",
       "      <td>...</td>\n",
       "      <td>0</td>\n",
       "      <td>1</td>\n",
       "      <td>0</td>\n",
       "      <td>0</td>\n",
       "      <td>0</td>\n",
       "      <td>0</td>\n",
       "      <td>0</td>\n",
       "      <td>0</td>\n",
       "      <td>0</td>\n",
       "      <td>0</td>\n",
       "    </tr>\n",
       "    <tr>\n",
       "      <th>3</th>\n",
       "      <td>0.010559</td>\n",
       "      <td>United States of America</td>\n",
       "      <td>0.015789</td>\n",
       "      <td>1.00</td>\n",
       "      <td>0.000097</td>\n",
       "      <td>0.60</td>\n",
       "      <td>0</td>\n",
       "      <td>0</td>\n",
       "      <td>0</td>\n",
       "      <td>0</td>\n",
       "      <td>...</td>\n",
       "      <td>0</td>\n",
       "      <td>0</td>\n",
       "      <td>0</td>\n",
       "      <td>0</td>\n",
       "      <td>0</td>\n",
       "      <td>0</td>\n",
       "      <td>0</td>\n",
       "      <td>0</td>\n",
       "      <td>0</td>\n",
       "      <td>0</td>\n",
       "    </tr>\n",
       "    <tr>\n",
       "      <th>4</th>\n",
       "      <td>0.025065</td>\n",
       "      <td>United States of America</td>\n",
       "      <td>0.073684</td>\n",
       "      <td>0.69</td>\n",
       "      <td>0.000680</td>\n",
       "      <td>0.60</td>\n",
       "      <td>0</td>\n",
       "      <td>0</td>\n",
       "      <td>0</td>\n",
       "      <td>0</td>\n",
       "      <td>...</td>\n",
       "      <td>0</td>\n",
       "      <td>0</td>\n",
       "      <td>0</td>\n",
       "      <td>0</td>\n",
       "      <td>0</td>\n",
       "      <td>0</td>\n",
       "      <td>0</td>\n",
       "      <td>0</td>\n",
       "      <td>0</td>\n",
       "      <td>0</td>\n",
       "    </tr>\n",
       "  </tbody>\n",
       "</table>\n",
       "<p>5 rows × 26 columns</p>\n",
       "</div>"
      ],
      "text/plain": [
       "   popularity      production_countries   runtime  vote_average  vote_count  \\\n",
       "0    0.000139                     Italy  0.075439          0.00    0.000000   \n",
       "1    0.007319  United States of America  0.096491          0.75    0.000388   \n",
       "2    0.006740  United States of America  0.005263          0.80    0.000097   \n",
       "3    0.010559  United States of America  0.015789          1.00    0.000097   \n",
       "4    0.025065  United States of America  0.073684          0.69    0.000680   \n",
       "\n",
       "   year  Action  Adventure  Animation  Comedy  ...  History  Horror  Music  \\\n",
       "0  0.10       0          0          0       0  ...        0       0      0   \n",
       "1  0.50       0          0          0       0  ...        0       0      0   \n",
       "2  0.65       0          0          0       1  ...        0       1      0   \n",
       "3  0.60       0          0          0       0  ...        0       0      0   \n",
       "4  0.60       0          0          0       0  ...        0       0      0   \n",
       "\n",
       "   Mystery  Romance  Science Fiction  TV Movie  Thriller  War  Western  \n",
       "0        0        0                0         0         0    0        0  \n",
       "1        0        1                0         0         0    0        0  \n",
       "2        0        0                0         0         0    0        0  \n",
       "3        0        0                0         0         0    0        0  \n",
       "4        0        0                0         0         0    0        0  \n",
       "\n",
       "[5 rows x 26 columns]"
      ]
     },
     "execution_count": 28,
     "metadata": {},
     "output_type": "execute_result"
    }
   ],
   "source": [
    "df.head()"
   ]
  },
  {
   "cell_type": "code",
   "execution_count": 29,
   "metadata": {
    "ExecuteTime": {
     "end_time": "2021-12-15T19:01:17.891082Z",
     "start_time": "2021-12-15T19:01:17.745644Z"
    }
   },
   "outputs": [],
   "source": [
    "mlb = MultiLabelBinarizer(sparse_output=True)\n",
    "\n",
    "df['production_countries']=df['production_countries'].apply(lambda x: [x])\n",
    "df1 = df.join(\n",
    "            pd.DataFrame.sparse.from_spmatrix(\n",
    "                mlb.fit_transform(df.pop('production_countries')),\n",
    "                index=df.index,\n",
    "                columns=mlb.classes_))\n"
   ]
  },
  {
   "cell_type": "code",
   "execution_count": 30,
   "metadata": {
    "ExecuteTime": {
     "end_time": "2021-12-15T19:01:17.898666Z",
     "start_time": "2021-12-15T19:01:17.893813Z"
    }
   },
   "outputs": [
    {
     "data": {
      "text/plain": [
       "(18898, 35)"
      ]
     },
     "execution_count": 30,
     "metadata": {},
     "output_type": "execute_result"
    }
   ],
   "source": [
    "df1.shape"
   ]
  },
  {
   "cell_type": "code",
   "execution_count": 31,
   "metadata": {
    "ExecuteTime": {
     "end_time": "2021-12-15T19:01:17.929864Z",
     "start_time": "2021-12-15T19:01:17.901107Z"
    },
    "scrolled": true
   },
   "outputs": [
    {
     "data": {
      "text/html": [
       "<div>\n",
       "<style scoped>\n",
       "    .dataframe tbody tr th:only-of-type {\n",
       "        vertical-align: middle;\n",
       "    }\n",
       "\n",
       "    .dataframe tbody tr th {\n",
       "        vertical-align: top;\n",
       "    }\n",
       "\n",
       "    .dataframe thead th {\n",
       "        text-align: right;\n",
       "    }\n",
       "</style>\n",
       "<table border=\"1\" class=\"dataframe\">\n",
       "  <thead>\n",
       "    <tr style=\"text-align: right;\">\n",
       "      <th></th>\n",
       "      <th>popularity</th>\n",
       "      <th>runtime</th>\n",
       "      <th>vote_average</th>\n",
       "      <th>vote_count</th>\n",
       "      <th>year</th>\n",
       "      <th>Action</th>\n",
       "      <th>Adventure</th>\n",
       "      <th>Animation</th>\n",
       "      <th>Comedy</th>\n",
       "      <th>Crime</th>\n",
       "      <th>...</th>\n",
       "      <th>Canada</th>\n",
       "      <th>France</th>\n",
       "      <th>Germany</th>\n",
       "      <th>India</th>\n",
       "      <th>Italy</th>\n",
       "      <th>Japan</th>\n",
       "      <th>Russia</th>\n",
       "      <th>Spain</th>\n",
       "      <th>United Kingdom</th>\n",
       "      <th>United States of America</th>\n",
       "    </tr>\n",
       "  </thead>\n",
       "  <tbody>\n",
       "    <tr>\n",
       "      <th>0</th>\n",
       "      <td>0.000139</td>\n",
       "      <td>0.075439</td>\n",
       "      <td>0.00</td>\n",
       "      <td>0.000000</td>\n",
       "      <td>0.10</td>\n",
       "      <td>0</td>\n",
       "      <td>0</td>\n",
       "      <td>0</td>\n",
       "      <td>0</td>\n",
       "      <td>0</td>\n",
       "      <td>...</td>\n",
       "      <td>0</td>\n",
       "      <td>0</td>\n",
       "      <td>0</td>\n",
       "      <td>0</td>\n",
       "      <td>1</td>\n",
       "      <td>0</td>\n",
       "      <td>0</td>\n",
       "      <td>0</td>\n",
       "      <td>0</td>\n",
       "      <td>0</td>\n",
       "    </tr>\n",
       "    <tr>\n",
       "      <th>1</th>\n",
       "      <td>0.007319</td>\n",
       "      <td>0.096491</td>\n",
       "      <td>0.75</td>\n",
       "      <td>0.000388</td>\n",
       "      <td>0.50</td>\n",
       "      <td>0</td>\n",
       "      <td>0</td>\n",
       "      <td>0</td>\n",
       "      <td>0</td>\n",
       "      <td>0</td>\n",
       "      <td>...</td>\n",
       "      <td>0</td>\n",
       "      <td>0</td>\n",
       "      <td>0</td>\n",
       "      <td>0</td>\n",
       "      <td>0</td>\n",
       "      <td>0</td>\n",
       "      <td>0</td>\n",
       "      <td>0</td>\n",
       "      <td>0</td>\n",
       "      <td>1</td>\n",
       "    </tr>\n",
       "    <tr>\n",
       "      <th>2</th>\n",
       "      <td>0.006740</td>\n",
       "      <td>0.005263</td>\n",
       "      <td>0.80</td>\n",
       "      <td>0.000097</td>\n",
       "      <td>0.65</td>\n",
       "      <td>0</td>\n",
       "      <td>0</td>\n",
       "      <td>0</td>\n",
       "      <td>1</td>\n",
       "      <td>0</td>\n",
       "      <td>...</td>\n",
       "      <td>0</td>\n",
       "      <td>0</td>\n",
       "      <td>0</td>\n",
       "      <td>0</td>\n",
       "      <td>0</td>\n",
       "      <td>0</td>\n",
       "      <td>0</td>\n",
       "      <td>0</td>\n",
       "      <td>0</td>\n",
       "      <td>1</td>\n",
       "    </tr>\n",
       "    <tr>\n",
       "      <th>3</th>\n",
       "      <td>0.010559</td>\n",
       "      <td>0.015789</td>\n",
       "      <td>1.00</td>\n",
       "      <td>0.000097</td>\n",
       "      <td>0.60</td>\n",
       "      <td>0</td>\n",
       "      <td>0</td>\n",
       "      <td>0</td>\n",
       "      <td>0</td>\n",
       "      <td>0</td>\n",
       "      <td>...</td>\n",
       "      <td>0</td>\n",
       "      <td>0</td>\n",
       "      <td>0</td>\n",
       "      <td>0</td>\n",
       "      <td>0</td>\n",
       "      <td>0</td>\n",
       "      <td>0</td>\n",
       "      <td>0</td>\n",
       "      <td>0</td>\n",
       "      <td>1</td>\n",
       "    </tr>\n",
       "    <tr>\n",
       "      <th>4</th>\n",
       "      <td>0.025065</td>\n",
       "      <td>0.073684</td>\n",
       "      <td>0.69</td>\n",
       "      <td>0.000680</td>\n",
       "      <td>0.60</td>\n",
       "      <td>0</td>\n",
       "      <td>0</td>\n",
       "      <td>0</td>\n",
       "      <td>0</td>\n",
       "      <td>0</td>\n",
       "      <td>...</td>\n",
       "      <td>0</td>\n",
       "      <td>0</td>\n",
       "      <td>0</td>\n",
       "      <td>0</td>\n",
       "      <td>0</td>\n",
       "      <td>0</td>\n",
       "      <td>0</td>\n",
       "      <td>0</td>\n",
       "      <td>0</td>\n",
       "      <td>1</td>\n",
       "    </tr>\n",
       "  </tbody>\n",
       "</table>\n",
       "<p>5 rows × 35 columns</p>\n",
       "</div>"
      ],
      "text/plain": [
       "   popularity   runtime  vote_average  vote_count  year  Action  Adventure  \\\n",
       "0    0.000139  0.075439          0.00    0.000000  0.10       0          0   \n",
       "1    0.007319  0.096491          0.75    0.000388  0.50       0          0   \n",
       "2    0.006740  0.005263          0.80    0.000097  0.65       0          0   \n",
       "3    0.010559  0.015789          1.00    0.000097  0.60       0          0   \n",
       "4    0.025065  0.073684          0.69    0.000680  0.60       0          0   \n",
       "\n",
       "   Animation  Comedy  Crime  ...  Canada  France  Germany  India  Italy  \\\n",
       "0          0       0      0  ...       0       0        0      0      1   \n",
       "1          0       0      0  ...       0       0        0      0      0   \n",
       "2          0       1      0  ...       0       0        0      0      0   \n",
       "3          0       0      0  ...       0       0        0      0      0   \n",
       "4          0       0      0  ...       0       0        0      0      0   \n",
       "\n",
       "   Japan  Russia  Spain  United Kingdom  United States of America  \n",
       "0      0       0      0               0                         0  \n",
       "1      0       0      0               0                         1  \n",
       "2      0       0      0               0                         1  \n",
       "3      0       0      0               0                         1  \n",
       "4      0       0      0               0                         1  \n",
       "\n",
       "[5 rows x 35 columns]"
      ]
     },
     "execution_count": 31,
     "metadata": {},
     "output_type": "execute_result"
    }
   ],
   "source": [
    "df1.head()"
   ]
  },
  {
   "cell_type": "markdown",
   "metadata": {},
   "source": [
    "# K-Means Clustering\n",
    "**Our aim is to provide recommendations based on similarity of a movie choice the problem turned to be one of Unsupervised learning**\n",
    "*  We needed to use similarity to group movies thus we decided on K-Means Clustering\n",
    "*  Used Elbow method to find ideal number of clusters which turned out to be 40\n",
    "*  Used silhouette Method to understand the quality of segregation of the clusters"
   ]
  },
  {
   "cell_type": "code",
   "execution_count": 32,
   "metadata": {
    "ExecuteTime": {
     "end_time": "2021-12-15T19:04:11.181595Z",
     "start_time": "2021-12-15T19:01:17.931802Z"
    }
   },
   "outputs": [],
   "source": [
    "from sklearn.cluster import KMeans\n",
    "data_ml=df1.values\n",
    "kinitial = [3,6,9,12,15,18,21,24,27,30,33,36,39,42,45,48,51,54,57,60,63,66,69,72,75,78,81,84,87,90,93,96,99]\n",
    "inertia = []\n",
    "scoree = []\n",
    "for k in kinitial:\n",
    "    kmeans = KMeans(n_clusters=k, random_state=0).fit(data_ml)\n",
    "    y_pred=kmeans.predict(data_ml)\n",
    "    inertia.append(kmeans.inertia_)\n",
    "    scoree.append(metrics.silhouette_score(data_ml, y_pred))"
   ]
  },
  {
   "cell_type": "markdown",
   "metadata": {
    "ExecuteTime": {
     "end_time": "2021-12-15T20:09:39.200967Z",
     "start_time": "2021-12-15T20:09:39.198457Z"
    }
   },
   "source": [
    "## Cluster Analysis"
   ]
  },
  {
   "cell_type": "markdown",
   "metadata": {},
   "source": [
    "### Elbow Method"
   ]
  },
  {
   "cell_type": "code",
   "execution_count": 33,
   "metadata": {
    "ExecuteTime": {
     "end_time": "2021-12-15T19:04:11.406267Z",
     "start_time": "2021-12-15T19:04:11.184664Z"
    }
   },
   "outputs": [
    {
     "data": {
      "text/plain": [
       "[<matplotlib.lines.Line2D at 0x7f85f94f61f0>]"
      ]
     },
     "execution_count": 33,
     "metadata": {},
     "output_type": "execute_result"
    },
    {
     "data": {
      "image/png": "[encoded data removed]",
      "text/plain": [
       "<Figure size 432x288 with 1 Axes>"
      ]
     },
     "metadata": {
      "needs_background": "light"
     },
     "output_type": "display_data"
    }
   ],
   "source": [
    "plt.plot(kinitial,inertia)"
   ]
  },
  {
   "cell_type": "markdown",
   "metadata": {},
   "source": [
    "### Silhouette Score"
   ]
  },
  {
   "cell_type": "code",
   "execution_count": 34,
   "metadata": {
    "ExecuteTime": {
     "end_time": "2021-12-15T19:04:11.614265Z",
     "start_time": "2021-12-15T19:04:11.409282Z"
    }
   },
   "outputs": [
    {
     "data": {
      "text/plain": [
       "[<matplotlib.lines.Line2D at 0x7f85f9b2cfd0>]"
      ]
     },
     "execution_count": 34,
     "metadata": {},
     "output_type": "execute_result"
    },
    {
     "data": {
      "image/png": "[encoded data removed]",
      "text/plain": [
       "<Figure size 432x288 with 1 Axes>"
      ]
     },
     "metadata": {
      "needs_background": "light"
     },
     "output_type": "display_data"
    }
   ],
   "source": [
    "plt.plot(kinitial,scoree)"
   ]
  },
  {
   "cell_type": "code",
   "execution_count": 35,
   "metadata": {
    "ExecuteTime": {
     "end_time": "2021-12-15T19:04:16.534519Z",
     "start_time": "2021-12-15T19:04:11.615808Z"
    }
   },
   "outputs": [],
   "source": [
    "from sklearn.cluster import KMeans\n",
    "data_ml=df1.values\n",
    "kinitial = [40]\n",
    "inertia = []\n",
    "scoree = []\n",
    "for k in kinitial:\n",
    "    kmeans = KMeans(n_clusters=k, random_state=0).fit(data_ml)\n",
    "    y_pred=kmeans.predict(data_ml)\n",
    "    inertia.append(kmeans.inertia_)\n",
    "    scoree.append(metrics.silhouette_score(data_ml, y_pred))"
   ]
  },
  {
   "cell_type": "code",
   "execution_count": 36,
   "metadata": {
    "ExecuteTime": {
     "end_time": "2021-12-15T19:04:16.540027Z",
     "start_time": "2021-12-15T19:04:16.536536Z"
    }
   },
   "outputs": [],
   "source": [
    "movies_features['label']=y_pred\n",
    "df1['label']=y_pred\n"
   ]
  },
  {
   "cell_type": "markdown",
   "metadata": {},
   "source": [
    "### Principal Component Analysis (PCA) Analysis"
   ]
  },
  {
   "cell_type": "code",
   "execution_count": 242,
   "metadata": {
    "ExecuteTime": {
     "end_time": "2021-12-16T02:24:47.881041Z",
     "start_time": "2021-12-16T02:24:45.559526Z"
    }
   },
   "outputs": [
    {
     "data": {
      "image/png": "[encoded data removed]",
      "text/plain": [
       "<Figure size 1152x1152 with 1 Axes>"
      ]
     },
     "metadata": {
      "needs_background": "light"
     },
     "output_type": "display_data"
    }
   ],
   "source": [
    "pca_df = pd.read_csv('/Users/ankitkothari/Documents/gdrivre/UMD/MSML-602-DS/final_project/pca_file.csv',index_col=[0])\n",
    "x = pca_df.iloc[:, :-1]\n",
    "y = pca_df.loc[:,['label']].values\n",
    "\n",
    "pca = PCA(n_components=2)\n",
    "\n",
    "principalComponents = pca.fit_transform(x)\n",
    "\n",
    "principalDf = pd.DataFrame(data = principalComponents\n",
    "             , columns = ['principal component 1', 'principal component 2'])\n",
    "\n",
    "finalDf = pd.concat([principalDf, pca_df[['label']]], axis = 1)\n",
    "finalDf.head(5)\n",
    "\n",
    "fig = plt.figure(figsize = (16,16))\n",
    "ax = fig.add_subplot(1,1,1) \n",
    "ax.set_xlabel('Principal Component 1', fontsize = 15)\n",
    "ax.set_ylabel('Principal Component 2', fontsize = 15)\n",
    "ax.set_title('2 Component PCA', fontsize = 20)\n",
    "targets = [i for i in range(1,41)]\n",
    "colors = ['#F0F8FF', '#CDC0B0', '#00FFFF','#7FFFD4','#66CDAA','#458B74','#F0FFFF','#838B8B','#E3CF57','#F5F5DC','#FFE4C4','#EED5B7','#CDB79E','#000000','#0000FF','#8A2BE2','#9C661F','#A52A2A','#FF4040','#CD3333','#8B2323','#EEC591','#8A360F','#98F5FF','#8EE5EE','#7AC5CD','#53868B','#FF6103','#ED9121','#7FFF00','#66CD00','#458B00','#D2691E','#FF7F24','#CD661D','#8B4513','#3D9140','#FF7F50','#DC143C','#008B8B']\n",
    "#targets = [i for i in range(1,5)]\n",
    "#colors = ['#458B74', '#CDC0B0', '#00FFFF','#7FFFD4']\n",
    "for target, color in zip(targets,colors):\n",
    "    indicesToKeep = finalDf['label'] == target\n",
    "    ax.scatter(finalDf.loc[indicesToKeep, 'principal component 1']\n",
    "               , finalDf.loc[indicesToKeep, 'principal component 2']\n",
    "               , c = color)\n",
    "ax.legend(targets)\n",
    "ax.grid()"
   ]
  },
  {
   "cell_type": "code",
   "execution_count": 37,
   "metadata": {
    "ExecuteTime": {
     "end_time": "2021-12-15T19:04:16.569809Z",
     "start_time": "2021-12-15T19:04:16.541774Z"
    }
   },
   "outputs": [
    {
     "data": {
      "text/html": [
       "<div>\n",
       "<style scoped>\n",
       "    .dataframe tbody tr th:only-of-type {\n",
       "        vertical-align: middle;\n",
       "    }\n",
       "\n",
       "    .dataframe tbody tr th {\n",
       "        vertical-align: top;\n",
       "    }\n",
       "\n",
       "    .dataframe thead th {\n",
       "        text-align: right;\n",
       "    }\n",
       "</style>\n",
       "<table border=\"1\" class=\"dataframe\">\n",
       "  <thead>\n",
       "    <tr style=\"text-align: right;\">\n",
       "      <th></th>\n",
       "      <th>popularity</th>\n",
       "      <th>runtime</th>\n",
       "      <th>vote_average</th>\n",
       "      <th>vote_count</th>\n",
       "      <th>year</th>\n",
       "      <th>Action</th>\n",
       "      <th>Adventure</th>\n",
       "      <th>Animation</th>\n",
       "      <th>Comedy</th>\n",
       "      <th>Crime</th>\n",
       "      <th>...</th>\n",
       "      <th>France</th>\n",
       "      <th>Germany</th>\n",
       "      <th>India</th>\n",
       "      <th>Italy</th>\n",
       "      <th>Japan</th>\n",
       "      <th>Russia</th>\n",
       "      <th>Spain</th>\n",
       "      <th>United Kingdom</th>\n",
       "      <th>United States of America</th>\n",
       "      <th>label</th>\n",
       "    </tr>\n",
       "  </thead>\n",
       "  <tbody>\n",
       "    <tr>\n",
       "      <th>0</th>\n",
       "      <td>0.000139</td>\n",
       "      <td>0.075439</td>\n",
       "      <td>0.00</td>\n",
       "      <td>0.000000</td>\n",
       "      <td>0.10</td>\n",
       "      <td>0</td>\n",
       "      <td>0</td>\n",
       "      <td>0</td>\n",
       "      <td>0</td>\n",
       "      <td>0</td>\n",
       "      <td>...</td>\n",
       "      <td>0</td>\n",
       "      <td>0</td>\n",
       "      <td>0</td>\n",
       "      <td>1</td>\n",
       "      <td>0</td>\n",
       "      <td>0</td>\n",
       "      <td>0</td>\n",
       "      <td>0</td>\n",
       "      <td>0</td>\n",
       "      <td>6</td>\n",
       "    </tr>\n",
       "    <tr>\n",
       "      <th>1</th>\n",
       "      <td>0.007319</td>\n",
       "      <td>0.096491</td>\n",
       "      <td>0.75</td>\n",
       "      <td>0.000388</td>\n",
       "      <td>0.50</td>\n",
       "      <td>0</td>\n",
       "      <td>0</td>\n",
       "      <td>0</td>\n",
       "      <td>0</td>\n",
       "      <td>0</td>\n",
       "      <td>...</td>\n",
       "      <td>0</td>\n",
       "      <td>0</td>\n",
       "      <td>0</td>\n",
       "      <td>0</td>\n",
       "      <td>0</td>\n",
       "      <td>0</td>\n",
       "      <td>0</td>\n",
       "      <td>0</td>\n",
       "      <td>1</td>\n",
       "      <td>37</td>\n",
       "    </tr>\n",
       "    <tr>\n",
       "      <th>2</th>\n",
       "      <td>0.006740</td>\n",
       "      <td>0.005263</td>\n",
       "      <td>0.80</td>\n",
       "      <td>0.000097</td>\n",
       "      <td>0.65</td>\n",
       "      <td>0</td>\n",
       "      <td>0</td>\n",
       "      <td>0</td>\n",
       "      <td>1</td>\n",
       "      <td>0</td>\n",
       "      <td>...</td>\n",
       "      <td>0</td>\n",
       "      <td>0</td>\n",
       "      <td>0</td>\n",
       "      <td>0</td>\n",
       "      <td>0</td>\n",
       "      <td>0</td>\n",
       "      <td>0</td>\n",
       "      <td>0</td>\n",
       "      <td>1</td>\n",
       "      <td>3</td>\n",
       "    </tr>\n",
       "    <tr>\n",
       "      <th>3</th>\n",
       "      <td>0.010559</td>\n",
       "      <td>0.015789</td>\n",
       "      <td>1.00</td>\n",
       "      <td>0.000097</td>\n",
       "      <td>0.60</td>\n",
       "      <td>0</td>\n",
       "      <td>0</td>\n",
       "      <td>0</td>\n",
       "      <td>0</td>\n",
       "      <td>0</td>\n",
       "      <td>...</td>\n",
       "      <td>0</td>\n",
       "      <td>0</td>\n",
       "      <td>0</td>\n",
       "      <td>0</td>\n",
       "      <td>0</td>\n",
       "      <td>0</td>\n",
       "      <td>0</td>\n",
       "      <td>0</td>\n",
       "      <td>1</td>\n",
       "      <td>1</td>\n",
       "    </tr>\n",
       "    <tr>\n",
       "      <th>4</th>\n",
       "      <td>0.025065</td>\n",
       "      <td>0.073684</td>\n",
       "      <td>0.69</td>\n",
       "      <td>0.000680</td>\n",
       "      <td>0.60</td>\n",
       "      <td>0</td>\n",
       "      <td>0</td>\n",
       "      <td>0</td>\n",
       "      <td>0</td>\n",
       "      <td>0</td>\n",
       "      <td>...</td>\n",
       "      <td>0</td>\n",
       "      <td>0</td>\n",
       "      <td>0</td>\n",
       "      <td>0</td>\n",
       "      <td>0</td>\n",
       "      <td>0</td>\n",
       "      <td>0</td>\n",
       "      <td>0</td>\n",
       "      <td>1</td>\n",
       "      <td>11</td>\n",
       "    </tr>\n",
       "  </tbody>\n",
       "</table>\n",
       "<p>5 rows × 36 columns</p>\n",
       "</div>"
      ],
      "text/plain": [
       "   popularity   runtime  vote_average  vote_count  year  Action  Adventure  \\\n",
       "0    0.000139  0.075439          0.00    0.000000  0.10       0          0   \n",
       "1    0.007319  0.096491          0.75    0.000388  0.50       0          0   \n",
       "2    0.006740  0.005263          0.80    0.000097  0.65       0          0   \n",
       "3    0.010559  0.015789          1.00    0.000097  0.60       0          0   \n",
       "4    0.025065  0.073684          0.69    0.000680  0.60       0          0   \n",
       "\n",
       "   Animation  Comedy  Crime  ...  France  Germany  India  Italy  Japan  \\\n",
       "0          0       0      0  ...       0        0      0      1      0   \n",
       "1          0       0      0  ...       0        0      0      0      0   \n",
       "2          0       1      0  ...       0        0      0      0      0   \n",
       "3          0       0      0  ...       0        0      0      0      0   \n",
       "4          0       0      0  ...       0        0      0      0      0   \n",
       "\n",
       "   Russia  Spain  United Kingdom  United States of America  label  \n",
       "0       0      0               0                         0      6  \n",
       "1       0      0               0                         1     37  \n",
       "2       0      0               0                         1      3  \n",
       "3       0      0               0                         1      1  \n",
       "4       0      0               0                         1     11  \n",
       "\n",
       "[5 rows x 36 columns]"
      ]
     },
     "execution_count": 37,
     "metadata": {},
     "output_type": "execute_result"
    }
   ],
   "source": [
    "df1.head()"
   ]
  },
  {
   "cell_type": "code",
   "execution_count": 38,
   "metadata": {
    "ExecuteTime": {
     "end_time": "2021-12-15T19:04:16.610003Z",
     "start_time": "2021-12-15T19:04:16.571646Z"
    }
   },
   "outputs": [
    {
     "data": {
      "text/html": [
       "<div>\n",
       "<style scoped>\n",
       "    .dataframe tbody tr th:only-of-type {\n",
       "        vertical-align: middle;\n",
       "    }\n",
       "\n",
       "    .dataframe tbody tr th {\n",
       "        vertical-align: top;\n",
       "    }\n",
       "\n",
       "    .dataframe thead th {\n",
       "        text-align: right;\n",
       "    }\n",
       "</style>\n",
       "<table border=\"1\" class=\"dataframe\">\n",
       "  <thead>\n",
       "    <tr style=\"text-align: right;\">\n",
       "      <th></th>\n",
       "      <th>budget</th>\n",
       "      <th>genres</th>\n",
       "      <th>id</th>\n",
       "      <th>imdb_id</th>\n",
       "      <th>original_language</th>\n",
       "      <th>overview</th>\n",
       "      <th>popularity</th>\n",
       "      <th>production_companies</th>\n",
       "      <th>production_countries</th>\n",
       "      <th>release_date</th>\n",
       "      <th>revenue</th>\n",
       "      <th>runtime</th>\n",
       "      <th>title</th>\n",
       "      <th>vote_average</th>\n",
       "      <th>vote_count</th>\n",
       "      <th>year</th>\n",
       "      <th>movies_by_countries</th>\n",
       "      <th>label</th>\n",
       "    </tr>\n",
       "  </thead>\n",
       "  <tbody>\n",
       "    <tr>\n",
       "      <th>2</th>\n",
       "      <td>0</td>\n",
       "      <td>[Comedy, Horror]</td>\n",
       "      <td>141210</td>\n",
       "      <td>2250194</td>\n",
       "      <td>en</td>\n",
       "      <td>The town of Derry has a secret, but no one tol...</td>\n",
       "      <td>0.135596</td>\n",
       "      <td>[]</td>\n",
       "      <td>United States of America</td>\n",
       "      <td>2013-10-12</td>\n",
       "      <td>0.0</td>\n",
       "      <td>6.0</td>\n",
       "      <td>The Sleepover</td>\n",
       "      <td>8.0</td>\n",
       "      <td>1.0</td>\n",
       "      <td>2013.0</td>\n",
       "      <td>23410</td>\n",
       "      <td>3</td>\n",
       "    </tr>\n",
       "    <tr>\n",
       "      <th>14</th>\n",
       "      <td>40000000</td>\n",
       "      <td>[Horror, Mystery]</td>\n",
       "      <td>4234</td>\n",
       "      <td>134084</td>\n",
       "      <td>en</td>\n",
       "      <td>A murdering spree begins to happen again, this...</td>\n",
       "      <td>9.738371</td>\n",
       "      <td>[Konrad Pictures, Craven-Maddalena Films, Dime...</td>\n",
       "      <td>United States of America</td>\n",
       "      <td>2000-02-03</td>\n",
       "      <td>161834276.0</td>\n",
       "      <td>116.0</td>\n",
       "      <td>Scream 3</td>\n",
       "      <td>5.7</td>\n",
       "      <td>749.0</td>\n",
       "      <td>2000.0</td>\n",
       "      <td>23410</td>\n",
       "      <td>3</td>\n",
       "    </tr>\n",
       "    <tr>\n",
       "      <th>38</th>\n",
       "      <td>23000000</td>\n",
       "      <td>[Horror]</td>\n",
       "      <td>9532</td>\n",
       "      <td>195714</td>\n",
       "      <td>en</td>\n",
       "      <td>After a teenager has a terrifying vision of hi...</td>\n",
       "      <td>14.961416</td>\n",
       "      <td>[New Line Cinema, Zide-Perry Productions, Hard...</td>\n",
       "      <td>United States of America</td>\n",
       "      <td>2000-03-16</td>\n",
       "      <td>53302314.0</td>\n",
       "      <td>98.0</td>\n",
       "      <td>Final Destination</td>\n",
       "      <td>6.4</td>\n",
       "      <td>1416.0</td>\n",
       "      <td>2000.0</td>\n",
       "      <td>23410</td>\n",
       "      <td>3</td>\n",
       "    </tr>\n",
       "    <tr>\n",
       "      <th>353</th>\n",
       "      <td>1500000</td>\n",
       "      <td>[Horror, Mystery]</td>\n",
       "      <td>10972</td>\n",
       "      <td>261983</td>\n",
       "      <td>en</td>\n",
       "      <td>Tensions rise within an asbestos cleaning crew...</td>\n",
       "      <td>14.242234</td>\n",
       "      <td>[October Films, USA Films, Scout Productions]</td>\n",
       "      <td>United States of America</td>\n",
       "      <td>2001-08-10</td>\n",
       "      <td>373967.0</td>\n",
       "      <td>100.0</td>\n",
       "      <td>Session 9</td>\n",
       "      <td>6.2</td>\n",
       "      <td>255.0</td>\n",
       "      <td>2001.0</td>\n",
       "      <td>23410</td>\n",
       "      <td>3</td>\n",
       "    </tr>\n",
       "    <tr>\n",
       "      <th>505</th>\n",
       "      <td>0</td>\n",
       "      <td>[Horror]</td>\n",
       "      <td>44340</td>\n",
       "      <td>275067</td>\n",
       "      <td>en</td>\n",
       "      <td>George is a high-strung professional photograp...</td>\n",
       "      <td>0.910772</td>\n",
       "      <td>[Glass Eye Pix]</td>\n",
       "      <td>United States of America</td>\n",
       "      <td>2001-01-23</td>\n",
       "      <td>0.0</td>\n",
       "      <td>91.0</td>\n",
       "      <td>Wendigo</td>\n",
       "      <td>5.0</td>\n",
       "      <td>22.0</td>\n",
       "      <td>2001.0</td>\n",
       "      <td>23410</td>\n",
       "      <td>3</td>\n",
       "    </tr>\n",
       "    <tr>\n",
       "      <th>...</th>\n",
       "      <td>...</td>\n",
       "      <td>...</td>\n",
       "      <td>...</td>\n",
       "      <td>...</td>\n",
       "      <td>...</td>\n",
       "      <td>...</td>\n",
       "      <td>...</td>\n",
       "      <td>...</td>\n",
       "      <td>...</td>\n",
       "      <td>...</td>\n",
       "      <td>...</td>\n",
       "      <td>...</td>\n",
       "      <td>...</td>\n",
       "      <td>...</td>\n",
       "      <td>...</td>\n",
       "      <td>...</td>\n",
       "      <td>...</td>\n",
       "      <td>...</td>\n",
       "    </tr>\n",
       "    <tr>\n",
       "      <th>18731</th>\n",
       "      <td>2000</td>\n",
       "      <td>[Animation, Horror]</td>\n",
       "      <td>52803</td>\n",
       "      <td>1305751</td>\n",
       "      <td>en</td>\n",
       "      <td>A voodoo doll must find the courage to save hi...</td>\n",
       "      <td>0.942521</td>\n",
       "      <td>[UCLA School of Film and Television]</td>\n",
       "      <td>United States of America</td>\n",
       "      <td>2008-06-07</td>\n",
       "      <td>0.0</td>\n",
       "      <td>4.0</td>\n",
       "      <td>Sebastian's Voodoo</td>\n",
       "      <td>6.8</td>\n",
       "      <td>18.0</td>\n",
       "      <td>2008.0</td>\n",
       "      <td>23410</td>\n",
       "      <td>3</td>\n",
       "    </tr>\n",
       "    <tr>\n",
       "      <th>18762</th>\n",
       "      <td>0</td>\n",
       "      <td>[Animation, Horror, Drama]</td>\n",
       "      <td>366071</td>\n",
       "      <td>2279314</td>\n",
       "      <td>en</td>\n",
       "      <td>A priest is recruited by federal marshals to h...</td>\n",
       "      <td>0.016824</td>\n",
       "      <td>[]</td>\n",
       "      <td>United States of America</td>\n",
       "      <td>2012-10-12</td>\n",
       "      <td>0.0</td>\n",
       "      <td>81.0</td>\n",
       "      <td>Enchiridion</td>\n",
       "      <td>0.0</td>\n",
       "      <td>0.0</td>\n",
       "      <td>2012.0</td>\n",
       "      <td>23410</td>\n",
       "      <td>3</td>\n",
       "    </tr>\n",
       "    <tr>\n",
       "      <th>18779</th>\n",
       "      <td>0</td>\n",
       "      <td>[Horror]</td>\n",
       "      <td>415633</td>\n",
       "      <td>5161376</td>\n",
       "      <td>en</td>\n",
       "      <td>After a girl goes missing, two of her friends ...</td>\n",
       "      <td>1.136537</td>\n",
       "      <td>[Lamplight Films, Twenty Eighteen Seventy-Six]</td>\n",
       "      <td>United States of America</td>\n",
       "      <td>2016-10-09</td>\n",
       "      <td>0.0</td>\n",
       "      <td>84.0</td>\n",
       "      <td>Tonight She Comes</td>\n",
       "      <td>5.3</td>\n",
       "      <td>14.0</td>\n",
       "      <td>2016.0</td>\n",
       "      <td>23410</td>\n",
       "      <td>3</td>\n",
       "    </tr>\n",
       "    <tr>\n",
       "      <th>18894</th>\n",
       "      <td>0</td>\n",
       "      <td>[Mystery, Horror]</td>\n",
       "      <td>390959</td>\n",
       "      <td>265736</td>\n",
       "      <td>en</td>\n",
       "      <td>In this true-crime documentary, we delve into ...</td>\n",
       "      <td>0.076061</td>\n",
       "      <td>[]</td>\n",
       "      <td>United States of America</td>\n",
       "      <td>2000-10-22</td>\n",
       "      <td>0.0</td>\n",
       "      <td>45.0</td>\n",
       "      <td>Shadow of the Blair Witch</td>\n",
       "      <td>7.0</td>\n",
       "      <td>2.0</td>\n",
       "      <td>2000.0</td>\n",
       "      <td>23410</td>\n",
       "      <td>3</td>\n",
       "    </tr>\n",
       "    <tr>\n",
       "      <th>18895</th>\n",
       "      <td>0</td>\n",
       "      <td>[Horror]</td>\n",
       "      <td>289923</td>\n",
       "      <td>252966</td>\n",
       "      <td>en</td>\n",
       "      <td>A film archivist revisits the story of Rustin ...</td>\n",
       "      <td>0.386450</td>\n",
       "      <td>[Neptune Salad Entertainment, Pirie Productions]</td>\n",
       "      <td>United States of America</td>\n",
       "      <td>2000-10-03</td>\n",
       "      <td>0.0</td>\n",
       "      <td>30.0</td>\n",
       "      <td>The Burkittsville 7</td>\n",
       "      <td>7.0</td>\n",
       "      <td>1.0</td>\n",
       "      <td>2000.0</td>\n",
       "      <td>23410</td>\n",
       "      <td>3</td>\n",
       "    </tr>\n",
       "  </tbody>\n",
       "</table>\n",
       "<p>515 rows × 18 columns</p>\n",
       "</div>"
      ],
      "text/plain": [
       "         budget                      genres      id  imdb_id  \\\n",
       "2             0            [Comedy, Horror]  141210  2250194   \n",
       "14     40000000           [Horror, Mystery]    4234   134084   \n",
       "38     23000000                    [Horror]    9532   195714   \n",
       "353     1500000           [Horror, Mystery]   10972   261983   \n",
       "505           0                    [Horror]   44340   275067   \n",
       "...         ...                         ...     ...      ...   \n",
       "18731      2000         [Animation, Horror]   52803  1305751   \n",
       "18762         0  [Animation, Horror, Drama]  366071  2279314   \n",
       "18779         0                    [Horror]  415633  5161376   \n",
       "18894         0           [Mystery, Horror]  390959   265736   \n",
       "18895         0                    [Horror]  289923   252966   \n",
       "\n",
       "      original_language                                           overview  \\\n",
       "2                    en  The town of Derry has a secret, but no one tol...   \n",
       "14                   en  A murdering spree begins to happen again, this...   \n",
       "38                   en  After a teenager has a terrifying vision of hi...   \n",
       "353                  en  Tensions rise within an asbestos cleaning crew...   \n",
       "505                  en  George is a high-strung professional photograp...   \n",
       "...                 ...                                                ...   \n",
       "18731                en  A voodoo doll must find the courage to save hi...   \n",
       "18762                en  A priest is recruited by federal marshals to h...   \n",
       "18779                en  After a girl goes missing, two of her friends ...   \n",
       "18894                en  In this true-crime documentary, we delve into ...   \n",
       "18895                en  A film archivist revisits the story of Rustin ...   \n",
       "\n",
       "       popularity                               production_companies  \\\n",
       "2        0.135596                                                 []   \n",
       "14       9.738371  [Konrad Pictures, Craven-Maddalena Films, Dime...   \n",
       "38      14.961416  [New Line Cinema, Zide-Perry Productions, Hard...   \n",
       "353     14.242234      [October Films, USA Films, Scout Productions]   \n",
       "505      0.910772                                    [Glass Eye Pix]   \n",
       "...           ...                                                ...   \n",
       "18731    0.942521               [UCLA School of Film and Television]   \n",
       "18762    0.016824                                                 []   \n",
       "18779    1.136537     [Lamplight Films, Twenty Eighteen Seventy-Six]   \n",
       "18894    0.076061                                                 []   \n",
       "18895    0.386450   [Neptune Salad Entertainment, Pirie Productions]   \n",
       "\n",
       "           production_countries release_date      revenue  runtime  \\\n",
       "2      United States of America   2013-10-12          0.0      6.0   \n",
       "14     United States of America   2000-02-03  161834276.0    116.0   \n",
       "38     United States of America   2000-03-16   53302314.0     98.0   \n",
       "353    United States of America   2001-08-10     373967.0    100.0   \n",
       "505    United States of America   2001-01-23          0.0     91.0   \n",
       "...                         ...          ...          ...      ...   \n",
       "18731  United States of America   2008-06-07          0.0      4.0   \n",
       "18762  United States of America   2012-10-12          0.0     81.0   \n",
       "18779  United States of America   2016-10-09          0.0     84.0   \n",
       "18894  United States of America   2000-10-22          0.0     45.0   \n",
       "18895  United States of America   2000-10-03          0.0     30.0   \n",
       "\n",
       "                           title  vote_average  vote_count    year  \\\n",
       "2                  The Sleepover           8.0         1.0  2013.0   \n",
       "14                      Scream 3           5.7       749.0  2000.0   \n",
       "38             Final Destination           6.4      1416.0  2000.0   \n",
       "353                    Session 9           6.2       255.0  2001.0   \n",
       "505                      Wendigo           5.0        22.0  2001.0   \n",
       "...                          ...           ...         ...     ...   \n",
       "18731         Sebastian's Voodoo           6.8        18.0  2008.0   \n",
       "18762                Enchiridion           0.0         0.0  2012.0   \n",
       "18779          Tonight She Comes           5.3        14.0  2016.0   \n",
       "18894  Shadow of the Blair Witch           7.0         2.0  2000.0   \n",
       "18895        The Burkittsville 7           7.0         1.0  2000.0   \n",
       "\n",
       "       movies_by_countries  label  \n",
       "2                    23410      3  \n",
       "14                   23410      3  \n",
       "38                   23410      3  \n",
       "353                  23410      3  \n",
       "505                  23410      3  \n",
       "...                    ...    ...  \n",
       "18731                23410      3  \n",
       "18762                23410      3  \n",
       "18779                23410      3  \n",
       "18894                23410      3  \n",
       "18895                23410      3  \n",
       "\n",
       "[515 rows x 18 columns]"
      ]
     },
     "execution_count": 38,
     "metadata": {},
     "output_type": "execute_result"
    }
   ],
   "source": [
    "movies_features.query(\"label==3\")"
   ]
  },
  {
   "cell_type": "code",
   "execution_count": 57,
   "metadata": {
    "ExecuteTime": {
     "end_time": "2021-12-15T19:20:47.894902Z",
     "start_time": "2021-12-15T19:20:47.513199Z"
    }
   },
   "outputs": [
    {
     "data": {
      "image/png": "[encoded data removed]",
      "text/plain": [
       "<Figure size 1152x576 with 1 Axes>"
      ]
     },
     "metadata": {
      "needs_background": "light"
     },
     "output_type": "display_data"
    }
   ],
   "source": [
    "popularity_graph = movies_features.groupby('label').mean()['popularity'].sort_values().reset_index()\n",
    "popularity_graph['label']=popularity_graph['label'].astype(str)\n",
    "popularity_graph.head()\n",
    "ax = plt.figure(figsize=(16,8))\n",
    "ax = sns.barplot(x=\"label\", y=\"popularity\", data=popularity_graph.sort_values(by=['popularity']))\n",
    "plt.show()"
   ]
  },
  {
   "cell_type": "markdown",
   "metadata": {
    "ExecuteTime": {
     "end_time": "2021-12-15T18:58:04.253155Z",
     "start_time": "2021-12-15T18:58:04.249003Z"
    }
   },
   "source": [
    "# Recommandations\n",
    "\n",
    "*  We needed to identify the cluster for the Input Movie\n",
    "*  Withing that cluster identify the movies which are the closest match using cosine similarity\n",
    "*  Provide a list of top 15 movies as recommeendation"
   ]
  },
  {
   "cell_type": "markdown",
   "metadata": {},
   "source": [
    "## Movie Check"
   ]
  },
  {
   "cell_type": "code",
   "execution_count": 233,
   "metadata": {
    "ExecuteTime": {
     "end_time": "2021-12-15T20:50:51.246602Z",
     "start_time": "2021-12-15T20:50:51.242232Z"
    }
   },
   "outputs": [
    {
     "name": "stdout",
     "output_type": "stream",
     "text": [
      "Movie Found\n"
     ]
    }
   ],
   "source": [
    "movie_name='Final Destination'   #Betrayal #Two Friends\n",
    "def movie_check(movie_name):\n",
    "  if movie_name not in movies_features['title'].to_list():\n",
    "     print('Movie Does not Exist in the database')\n",
    "  else:\n",
    "     print('Movie Found')\n",
    "\n",
    "movie_check(movie_name)       "
   ]
  },
  {
   "cell_type": "code",
   "execution_count": 234,
   "metadata": {
    "ExecuteTime": {
     "end_time": "2021-12-15T20:50:51.267643Z",
     "start_time": "2021-12-15T20:50:51.249207Z"
    }
   },
   "outputs": [
    {
     "name": "stdout",
     "output_type": "stream",
     "text": [
      "Int64Index([38], dtype='int64')\n",
      "38    3\n",
      "Name: label, dtype: int32\n"
     ]
    }
   ],
   "source": [
    "movie_name_index = movies_features[movies_features['title']==movie_name].index\n",
    "print(movie_name_index)\n",
    "movie_label = movies_features[movies_features['title']==movie_name]['label']\n",
    "print(movie_label)\n",
    "movies_cluster = movies_features[movies_features['label']==movie_label.iloc[0]]\n",
    "movies_cluster.head()\n",
    "movies_cluster_scaled = df1[df1['label']==movie_label.iloc[0]]\n",
    "#movies_cluster_scaled\n"
   ]
  },
  {
   "cell_type": "code",
   "execution_count": 235,
   "metadata": {
    "ExecuteTime": {
     "end_time": "2021-12-15T20:50:51.296398Z",
     "start_time": "2021-12-15T20:50:51.269843Z"
    }
   },
   "outputs": [
    {
     "name": "stdout",
     "output_type": "stream",
     "text": [
      "38\n"
     ]
    },
    {
     "data": {
      "text/html": [
       "<div>\n",
       "<style scoped>\n",
       "    .dataframe tbody tr th:only-of-type {\n",
       "        vertical-align: middle;\n",
       "    }\n",
       "\n",
       "    .dataframe tbody tr th {\n",
       "        vertical-align: top;\n",
       "    }\n",
       "\n",
       "    .dataframe thead th {\n",
       "        text-align: right;\n",
       "    }\n",
       "</style>\n",
       "<table border=\"1\" class=\"dataframe\">\n",
       "  <thead>\n",
       "    <tr style=\"text-align: right;\">\n",
       "      <th></th>\n",
       "      <th>popularity</th>\n",
       "      <th>runtime</th>\n",
       "      <th>vote_average</th>\n",
       "      <th>vote_count</th>\n",
       "      <th>year</th>\n",
       "      <th>Action</th>\n",
       "      <th>Adventure</th>\n",
       "      <th>Animation</th>\n",
       "      <th>Comedy</th>\n",
       "      <th>Crime</th>\n",
       "      <th>...</th>\n",
       "      <th>France</th>\n",
       "      <th>Germany</th>\n",
       "      <th>India</th>\n",
       "      <th>Italy</th>\n",
       "      <th>Japan</th>\n",
       "      <th>Russia</th>\n",
       "      <th>Spain</th>\n",
       "      <th>United Kingdom</th>\n",
       "      <th>United States of America</th>\n",
       "      <th>label</th>\n",
       "    </tr>\n",
       "  </thead>\n",
       "  <tbody>\n",
       "    <tr>\n",
       "      <th>38</th>\n",
       "      <td>0.750159</td>\n",
       "      <td>0.085965</td>\n",
       "      <td>0.64</td>\n",
       "      <td>0.137516</td>\n",
       "      <td>0.0</td>\n",
       "      <td>0</td>\n",
       "      <td>0</td>\n",
       "      <td>0</td>\n",
       "      <td>0</td>\n",
       "      <td>0</td>\n",
       "      <td>...</td>\n",
       "      <td>0</td>\n",
       "      <td>0</td>\n",
       "      <td>0</td>\n",
       "      <td>0</td>\n",
       "      <td>0</td>\n",
       "      <td>0</td>\n",
       "      <td>0</td>\n",
       "      <td>0</td>\n",
       "      <td>1</td>\n",
       "      <td>3</td>\n",
       "    </tr>\n",
       "  </tbody>\n",
       "</table>\n",
       "<p>1 rows × 36 columns</p>\n",
       "</div>"
      ],
      "text/plain": [
       "    popularity   runtime  vote_average  vote_count  year  Action  Adventure  \\\n",
       "38    0.750159  0.085965          0.64    0.137516   0.0       0          0   \n",
       "\n",
       "    Animation  Comedy  Crime  ...  France  Germany  India  Italy  Japan  \\\n",
       "38          0       0      0  ...       0        0      0      0      0   \n",
       "\n",
       "    Russia  Spain  United Kingdom  United States of America  label  \n",
       "38       0      0               0                         1      3  \n",
       "\n",
       "[1 rows x 36 columns]"
      ]
     },
     "execution_count": 235,
     "metadata": {},
     "output_type": "execute_result"
    }
   ],
   "source": [
    "index_value= movies_features[movies_features['title']==movie_name].index\n",
    "print(index_value[0])\n",
    "movies_cluster_scaled[movies_cluster_scaled.index==index_value[0]]"
   ]
  },
  {
   "cell_type": "code",
   "execution_count": 236,
   "metadata": {
    "ExecuteTime": {
     "end_time": "2021-12-15T20:50:51.312588Z",
     "start_time": "2021-12-15T20:50:51.297905Z"
    }
   },
   "outputs": [
    {
     "data": {
      "text/plain": [
       "(515, 35)"
      ]
     },
     "execution_count": 236,
     "metadata": {},
     "output_type": "execute_result"
    }
   ],
   "source": [
    "#SKLEARN\n",
    "name = movies_cluster_scaled[movies_cluster_scaled.index==index_value[0]].iloc[:,0:-1].values\n",
    "name = np.asarray(name)\n",
    "name = name.reshape(1,-1)\n",
    "cluster_vallues = movies_cluster_scaled.iloc[:,0:-1].values\n",
    "cluster_vallues.shape"
   ]
  },
  {
   "cell_type": "code",
   "execution_count": 237,
   "metadata": {
    "ExecuteTime": {
     "end_time": "2021-12-15T20:50:51.328738Z",
     "start_time": "2021-12-15T20:50:51.315617Z"
    }
   },
   "outputs": [
    {
     "data": {
      "text/plain": [
       "0                         Wendigo\n",
       "1                        Scream 3\n",
       "2               Final Destination\n",
       "3                       Session 9\n",
       "4                   The Mesmerist\n",
       "5             Final Destination 2\n",
       "6                         Willard\n",
       "7           House of 1000 Corpses\n",
       "8                     Cabin Fever\n",
       "9     The Texas Chainsaw Massacre\n",
       "10                      Dark Wolf\n",
       "11               Da Hip Hop Witch\n",
       "12                     Club Dread\n",
       "13               Dawn of the Dead\n",
       "Name: title, dtype: object"
      ]
     },
     "execution_count": 237,
     "metadata": {},
     "output_type": "execute_result"
    }
   ],
   "source": [
    "from sklearn.metrics import pairwise_distances # to perfrom cosine similarity\n",
    "cosine_value_tf = 1- pairwise_distances(cluster_vallues, name, metric = 'cosine' )\n",
    "cosine_value_tf\n",
    "s = pd.DataFrame(cosine_value_tf)\n",
    "s=s.rename(columns={0:'similarity_index'})\n",
    "movies_cluster['similarity_index']=s['similarity_index']\n",
    "movies_cluster.sort_values(by='similarity_index',ascending=False)['title'].iloc[1:15].reset_index(drop=True)\n"
   ]
  },
  {
   "cell_type": "code",
   "execution_count": 239,
   "metadata": {
    "ExecuteTime": {
     "end_time": "2021-12-15T22:20:39.217234Z",
     "start_time": "2021-12-15T22:20:38.812084Z"
    }
   },
   "outputs": [],
   "source": [
    "movies_features.to_csv('/Users/ankitkothari/Documents/gdrivre/UMD/MSML-602-DS/final_project/movies_metadata_features.csv')"
   ]
  },
  {
   "cell_type": "markdown",
   "metadata": {
    "ExecuteTime": {
     "end_time": "2021-12-16T04:14:17.988326Z",
     "start_time": "2021-12-16T04:14:17.985051Z"
    }
   },
   "source": [
    "# Bibliography"
   ]
  },
  {
   "cell_type": "raw",
   "metadata": {},
   "source": [
    "https://towardsdatascience.com/pca-using-python-scikit-learn-e653f8989e60\n",
    "https://www.kaggle.com/rounakbanik/movie-recommender-systems/data\n",
    "https://stackoverflow.com/questions/45312377/how-to-one-hot-encode-from-a-pandas-column-containing-a-list\n",
    "https://appdividend.com/2019/11/12/how-to-convert-python-string-to-list-example/"
   ]
  }
 ],
 "metadata": {
  "hide_input": false,
  "interpreter": {
   "hash": "31f2aee4e71d21fbe5cf8b01ff0e069b9275f58929596ceb00d14d90e3e16cd6"
  },
  "kernelspec": {
   "display_name": "Python 3 (ipykernel)",
   "language": "python",
   "name": "python3"
  },
  "language_info": {
   "codemirror_mode": {
    "name": "ipython",
    "version": 3
   },
   "file_extension": ".py",
   "mimetype": "text/x-python",
   "name": "python",
   "nbconvert_exporter": "python",
   "pygments_lexer": "ipython3",
   "version": "3.9.7"
  },
  "toc": {
   "base_numbering": 1,
   "nav_menu": {},
   "number_sections": true,
   "sideBar": true,
   "skip_h1_title": false,
   "title_cell": "Table of Contents",
   "title_sidebar": "Contents",
   "toc_cell": false,
   "toc_position": {},
   "toc_section_display": true,
   "toc_window_display": true
  }
 },
 "nbformat": 4,
 "nbformat_minor": 2
}
