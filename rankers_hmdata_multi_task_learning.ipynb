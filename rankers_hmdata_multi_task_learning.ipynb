{
  "cells": [
    {
      "cell_type": "markdown",
      "metadata": {
        "id": "view-in-github",
        "colab_type": "text"
      },
      "source": [
        "<a href=\"https://colab.research.google.com/github/ankit-kothari/Data-Science-Journey/blob/master/rankers_hmdata_multi_task_learning.ipynb\" target=\"_parent\"><img src=\"https://colab.research.google.com/assets/colab-badge.svg\" alt=\"Open In Colab\"/></a>"
      ]
    },
    {
      "cell_type": "code",
      "execution_count": 1,
      "metadata": {
        "colab": {
          "base_uri": "https://localhost:8080/"
        },
        "id": "xJkaAemF8DV2",
        "outputId": "a3e484b8-0fe1-4707-dc61-a8d7187a033c"
      },
      "outputs": [
        {
          "output_type": "stream",
          "name": "stdout",
          "text": [
            "\u001b[K     |████████████████████████████████| 89 kB 3.8 MB/s \n",
            "\u001b[K     |████████████████████████████████| 4.7 MB 2.9 MB/s \n",
            "\u001b[K     |████████████████████████████████| 10.4 MB 4.5 MB/s \n",
            "\u001b[K     |████████████████████████████████| 578.0 MB 14 kB/s \n",
            "\u001b[K     |████████████████████████████████| 5.9 MB 47.6 MB/s \n",
            "\u001b[K     |████████████████████████████████| 1.7 MB 55.9 MB/s \n",
            "\u001b[K     |████████████████████████████████| 438 kB 59.2 MB/s \n",
            "\u001b[?25h"
          ]
        }
      ],
      "source": [
        "!pip3 install -q tensorflow-recommenders\n",
        "!pip3 install -q --upgrade tensorflow-datasets\n",
        "!pip3 install -q scann"
      ]
    },
    {
      "cell_type": "code",
      "execution_count": 2,
      "metadata": {
        "colab": {
          "base_uri": "https://localhost:8080/",
          "height": 275
        },
        "id": "fe2notLM76Kt",
        "outputId": "049375f7-57a6-40cb-c595-1d13e059c717"
      },
      "outputs": [
        {
          "output_type": "display_data",
          "data": {
            "text/html": [
              "<img src=\"https://miro.medium.com/max/3688/1*rrIJOpJO8fkFECNHlwq-jQ.png\" width=\"500\" class=\"unconfined\"/>"
            ],
            "text/plain": [
              "<IPython.core.display.Image object>"
            ]
          },
          "metadata": {}
        }
      ],
      "source": [
        "from IPython.core.display import Image, display\n",
        "display(Image(url='https://miro.medium.com/max/3688/1*rrIJOpJO8fkFECNHlwq-jQ.png', width=500, unconfined=True))"
      ]
    },
    {
      "cell_type": "code",
      "execution_count": 3,
      "metadata": {
        "id": "Di5ViExC76Kx"
      },
      "outputs": [],
      "source": [
        "import pandas as pd\n",
        "import numpy as np\n",
        "import tensorflow as tf\n",
        "#import tensorflow_recommenders as tfrs\n",
        "import numpy as np\n",
        "import pandas as pd\n",
        "import seaborn as sns\n",
        "from matplotlib import pyplot as plt\n",
        "from tqdm.notebook import tqdm\n",
        "from pathlib import Path\n",
        "from typing import Dict, Text\n",
        "from functools import reduce\n",
        "import os\n",
        "import pprint\n",
        "import tempfile\n",
        "from typing import Dict, Text\n",
        "import numpy as np\n",
        "import tensorflow as tf\n",
        "#import tensorflow_recommenders as tfrs\n",
        "from tensorflow import feature_column\n",
        "import random\n",
        "from datetime import timedelta\n",
        "import gc\n"
      ]
    },
    {
      "cell_type": "code",
      "execution_count": 4,
      "metadata": {
        "colab": {
          "base_uri": "https://localhost:8080/"
        },
        "id": "Lh6SJkFl-LmF",
        "outputId": "00fdf762-4e20-40df-9762-df2e19d25a87"
      },
      "outputs": [
        {
          "output_type": "stream",
          "name": "stdout",
          "text": [
            "Downloading...\n",
            "From: https://drive.google.com/uc?id=1rEJFi98sLUTYj50Fh8ff33A7NKOoT87c\n",
            "To: /content/hmdata.zip\n",
            "100% 773M/773M [00:09<00:00, 83.6MB/s]\n"
          ]
        }
      ],
      "source": [
        "\n",
        "!gdown https://drive.google.com/uc?id=1rEJFi98sLUTYj50Fh8ff33A7NKOoT87c\n",
        "#!gdown https://drive.google.com/uc?id=13JK5eo99X7RAVRG45te96FUx0uHhYjRs\n",
        "#!gdown https://drive.google.com/uc?id=13lNaifdLn7i9IC_NE8JvTooqC-rvbR3k\n"
      ]
    },
    {
      "cell_type": "code",
      "execution_count": 5,
      "metadata": {
        "colab": {
          "base_uri": "https://localhost:8080/"
        },
        "id": "NmqcHNCOn5U6",
        "outputId": "16bcfb98-734e-424c-e352-bcc5743b8beb"
      },
      "outputs": [
        {
          "output_type": "stream",
          "name": "stdout",
          "text": [
            "Archive:  /content/hmdata.zip\n",
            "   creating: hmdata/\n",
            "  inflating: hmdata/customers.csv.zip  \n",
            "  inflating: __MACOSX/hmdata/._customers.csv.zip  \n",
            "  inflating: hmdata/articles.csv.zip  \n",
            "  inflating: __MACOSX/hmdata/._articles.csv.zip  \n",
            "  inflating: hmdata/transactions_train.csv.zip  \n",
            "  inflating: __MACOSX/hmdata/._transactions_train.csv.zip  \n",
            "  inflating: hmdata/sample_submission.csv.zip  \n",
            "  inflating: __MACOSX/hmdata/._sample_submission.csv.zip  \n"
          ]
        }
      ],
      "source": [
        "!unzip /content/hmdata.zip"
      ]
    },
    {
      "cell_type": "code",
      "execution_count": 6,
      "metadata": {
        "id": "fIpCyiTI76Ky"
      },
      "outputs": [],
      "source": [
        "article_df = pd.read_csv('hmdata/articles.csv.zip')\n",
        "customer_df = pd.read_csv('hmdata/customers.csv.zip')\n",
        "transaction_df =pd.read_csv('hmdata/transactions_train.csv.zip')\n"
      ]
    },
    {
      "cell_type": "code",
      "execution_count": 7,
      "metadata": {
        "id": "SLdq3_5o76Kz"
      },
      "outputs": [],
      "source": [
        "article_df = article_df.drop_duplicates(subset=['article_id','product_group_name','colour_group_name','section_name'])\n",
        "customer_df = customer_df.drop_duplicates(subset=['customer_id','age'])\n",
        "transaction_df = transaction_df.drop_duplicates(subset=['customer_id','price'])\n",
        "train0 = transaction_df"
      ]
    },
    {
      "cell_type": "code",
      "execution_count": 8,
      "metadata": {
        "id": "O7Hf4e1A76K0"
      },
      "outputs": [],
      "source": [
        "N_CUSTOMERS = 80000\n",
        "N_DAYS_TRAIN = 90\n",
        "N_DAYS_TEST = 15\n",
        "\n",
        "train0['t_dat']= pd.to_datetime(train0['t_dat'])\n",
        "max_date = train0['t_dat'].max()\n",
        "train_start = max_date - timedelta(days=N_DAYS_TRAIN)\n",
        "train_end = max_date - timedelta(days=N_DAYS_TEST)"
      ]
    },
    {
      "cell_type": "code",
      "execution_count": 9,
      "metadata": {
        "id": "ZAEHEMIi76K0"
      },
      "outputs": [],
      "source": [
        "small_customer_set = customer_df[customer_df.customer_id.isin(customer_df.customer_id.sample(N_CUSTOMERS, random_state=0))].reset_index(drop=True)\n",
        "small_transaction_set = transaction_df[transaction_df.customer_id.isin(small_customer_set.customer_id)].copy().reset_index(drop=True)\n",
        "small_article_set = article_df[article_df.article_id.isin(small_transaction_set.article_id)].copy().reset_index(drop=True)"
      ]
    },
    {
      "cell_type": "code",
      "execution_count": 10,
      "metadata": {
        "id": "OXHh1t-D76K1"
      },
      "outputs": [],
      "source": [
        "train0 = small_transaction_set"
      ]
    },
    {
      "cell_type": "code",
      "execution_count": 11,
      "metadata": {
        "colab": {
          "base_uri": "https://localhost:8080/"
        },
        "id": "CTM-kwyH76K1",
        "outputId": "9a5bb49a-455b-494f-857b-42ab85c6928b"
      },
      "outputs": [
        {
          "output_type": "stream",
          "name": "stdout",
          "text": [
            " Shape of train0: (794595, 5)\n",
            " Shape of small_customer_set: (80000, 7)\n",
            " Shape of small_transaction_set: (794595, 5)\n",
            " Shape of small_article_set: (69698, 25)\n"
          ]
        }
      ],
      "source": [
        "print(f' Shape of train0: {train0.shape}')\n",
        "print(f' Shape of small_customer_set: {small_customer_set.shape}')\n",
        "print(f' Shape of small_transaction_set: {small_transaction_set.shape}')\n",
        "print(f' Shape of small_article_set: {small_article_set.shape}')"
      ]
    },
    {
      "cell_type": "markdown",
      "metadata": {
        "id": "P3d46OO876K2"
      },
      "source": [
        "#### Split the data into training and testing sets\n"
      ]
    },
    {
      "cell_type": "code",
      "execution_count": 12,
      "metadata": {
        "colab": {
          "base_uri": "https://localhost:8080/"
        },
        "id": "GPKzU3wV76K3",
        "outputId": "054f1abd-05fa-4559-e6f0-d740bd5bc798"
      },
      "outputs": [
        {
          "output_type": "execute_result",
          "data": {
            "text/plain": [
              "((63666, 5), (9032, 5))"
            ]
          },
          "metadata": {},
          "execution_count": 12
        }
      ],
      "source": [
        "train = train0[(train0['t_dat']>=train_start) & (train0['t_dat']<=train_end)]\n",
        "test = train0[(train0['t_dat']>train_end)]\n",
        "train.shape, test.shape"
      ]
    },
    {
      "cell_type": "code",
      "execution_count": 13,
      "metadata": {
        "id": "uufNj09f76K4"
      },
      "outputs": [],
      "source": [
        "train = train.merge(small_article_set, on='article_id', how='left')\n",
        "test = test.merge(small_article_set, on='article_id', how='left')"
      ]
    },
    {
      "cell_type": "code",
      "execution_count": 14,
      "metadata": {
        "colab": {
          "base_uri": "https://localhost:8080/"
        },
        "id": "VpkokNfm76K5",
        "outputId": "7e95db63-9385-4288-c08f-21cceb00428b"
      },
      "outputs": [
        {
          "output_type": "execute_result",
          "data": {
            "text/plain": [
              "Index(['t_dat', 'customer_id', 'article_id', 'price', 'sales_channel_id',\n",
              "       'product_code', 'prod_name', 'product_type_no', 'product_type_name',\n",
              "       'product_group_name', 'graphical_appearance_no',\n",
              "       'graphical_appearance_name', 'colour_group_code', 'colour_group_name',\n",
              "       'perceived_colour_value_id', 'perceived_colour_value_name',\n",
              "       'perceived_colour_master_id', 'perceived_colour_master_name',\n",
              "       'department_no', 'department_name', 'index_code', 'index_name',\n",
              "       'index_group_no', 'index_group_name', 'section_no', 'section_name',\n",
              "       'garment_group_no', 'garment_group_name', 'detail_desc'],\n",
              "      dtype='object')"
            ]
          },
          "metadata": {},
          "execution_count": 14
        }
      ],
      "source": [
        "train.columns"
      ]
    },
    {
      "cell_type": "code",
      "execution_count": 15,
      "metadata": {
        "id": "bMpWc6Fc76K5"
      },
      "outputs": [],
      "source": [
        "train= train[['t_dat','customer_id','article_id','price','product_group_name','colour_group_name','section_name']]\n",
        "test = test[['t_dat','customer_id','article_id','price','product_group_name','colour_group_name','section_name']]"
      ]
    },
    {
      "cell_type": "code",
      "execution_count": 16,
      "metadata": {
        "id": "M5YSUqNO76K5"
      },
      "outputs": [],
      "source": [
        "def is_popular(train):\n",
        "    f2= train.groupby(['section_name','article_id'], as_index=False).size()\n",
        "    f2['rank'] = f2.groupby(['section_name'])['size'].rank(method='dense', ascending=False)\n",
        "    f2['mean_rank']= f2.groupby(['section_name'])['rank'].transform(lambda x: x.mean())\n",
        "    f2['is_popular'] = f2.apply(lambda x: 1 if x['rank']< x['mean_rank'] else 0, axis=1)\n",
        "    return f2[['article_id','is_popular','section_name']].reset_index(drop=True)\n",
        "\n",
        "popular = is_popular(train)"
      ]
    },
    {
      "cell_type": "code",
      "execution_count": 17,
      "metadata": {
        "id": "klpBHJUF76K6"
      },
      "outputs": [],
      "source": [
        "popular = is_popular(train)"
      ]
    },
    {
      "cell_type": "code",
      "execution_count": 18,
      "metadata": {
        "id": "LN5pobdn76K6"
      },
      "outputs": [],
      "source": [
        "train = train.merge(popular, on='article_id', how='left', copy=False)\n",
        "test = test.merge(popular, on='article_id', how='left', copy=False)\n",
        "test = test.drop(['section_name_y'], axis=1)\n",
        "test = test.rename(columns={'section_name_x':'section_name'})\n",
        "test = test.fillna(0)\n",
        "train = train.drop(['section_name_y'], axis=1)\n",
        "train = train.rename(columns={'section_name_x':'section_name'})\n"
      ]
    },
    {
      "cell_type": "code",
      "execution_count": 19,
      "metadata": {
        "colab": {
          "base_uri": "https://localhost:8080/",
          "height": 112
        },
        "id": "iSDl1Gt-76K7",
        "outputId": "eff30939-a196-495c-d519-50f43dfdac9e"
      },
      "outputs": [
        {
          "output_type": "execute_result",
          "data": {
            "text/plain": [
              "       t_dat                                        customer_id  article_id  \\\n",
              "0 2020-09-08  0155a6f04954055d0e916831ebabf8948b8e7edc30e0e3...   855507001   \n",
              "1 2020-09-08  0155a6f04954055d0e916831ebabf8948b8e7edc30e0e3...   717490008   \n",
              "\n",
              "      price  product_group_name colour_group_name              section_name  \\\n",
              "0  0.009136               Items              Pink  Womens Small accessories   \n",
              "1  0.007610  Garment Upper body              Pink            Divided Basics   \n",
              "\n",
              "   is_popular  \n",
              "0         1.0  \n",
              "1         1.0  "
            ],
            "text/html": [
              "\n",
              "  <div id=\"df-ff809cea-421e-40e5-8d34-eef8f37fc1e6\">\n",
              "    <div class=\"colab-df-container\">\n",
              "      <div>\n",
              "<style scoped>\n",
              "    .dataframe tbody tr th:only-of-type {\n",
              "        vertical-align: middle;\n",
              "    }\n",
              "\n",
              "    .dataframe tbody tr th {\n",
              "        vertical-align: top;\n",
              "    }\n",
              "\n",
              "    .dataframe thead th {\n",
              "        text-align: right;\n",
              "    }\n",
              "</style>\n",
              "<table border=\"1\" class=\"dataframe\">\n",
              "  <thead>\n",
              "    <tr style=\"text-align: right;\">\n",
              "      <th></th>\n",
              "      <th>t_dat</th>\n",
              "      <th>customer_id</th>\n",
              "      <th>article_id</th>\n",
              "      <th>price</th>\n",
              "      <th>product_group_name</th>\n",
              "      <th>colour_group_name</th>\n",
              "      <th>section_name</th>\n",
              "      <th>is_popular</th>\n",
              "    </tr>\n",
              "  </thead>\n",
              "  <tbody>\n",
              "    <tr>\n",
              "      <th>0</th>\n",
              "      <td>2020-09-08</td>\n",
              "      <td>0155a6f04954055d0e916831ebabf8948b8e7edc30e0e3...</td>\n",
              "      <td>855507001</td>\n",
              "      <td>0.009136</td>\n",
              "      <td>Items</td>\n",
              "      <td>Pink</td>\n",
              "      <td>Womens Small accessories</td>\n",
              "      <td>1.0</td>\n",
              "    </tr>\n",
              "    <tr>\n",
              "      <th>1</th>\n",
              "      <td>2020-09-08</td>\n",
              "      <td>0155a6f04954055d0e916831ebabf8948b8e7edc30e0e3...</td>\n",
              "      <td>717490008</td>\n",
              "      <td>0.007610</td>\n",
              "      <td>Garment Upper body</td>\n",
              "      <td>Pink</td>\n",
              "      <td>Divided Basics</td>\n",
              "      <td>1.0</td>\n",
              "    </tr>\n",
              "  </tbody>\n",
              "</table>\n",
              "</div>\n",
              "      <button class=\"colab-df-convert\" onclick=\"convertToInteractive('df-ff809cea-421e-40e5-8d34-eef8f37fc1e6')\"\n",
              "              title=\"Convert this dataframe to an interactive table.\"\n",
              "              style=\"display:none;\">\n",
              "        \n",
              "  <svg xmlns=\"http://www.w3.org/2000/svg\" height=\"24px\"viewBox=\"0 0 24 24\"\n",
              "       width=\"24px\">\n",
              "    <path d=\"M0 0h24v24H0V0z\" fill=\"none\"/>\n",
              "    <path d=\"M18.56 5.44l.94 2.06.94-2.06 2.06-.94-2.06-.94-.94-2.06-.94 2.06-2.06.94zm-11 1L8.5 8.5l.94-2.06 2.06-.94-2.06-.94L8.5 2.5l-.94 2.06-2.06.94zm10 10l.94 2.06.94-2.06 2.06-.94-2.06-.94-.94-2.06-.94 2.06-2.06.94z\"/><path d=\"M17.41 7.96l-1.37-1.37c-.4-.4-.92-.59-1.43-.59-.52 0-1.04.2-1.43.59L10.3 9.45l-7.72 7.72c-.78.78-.78 2.05 0 2.83L4 21.41c.39.39.9.59 1.41.59.51 0 1.02-.2 1.41-.59l7.78-7.78 2.81-2.81c.8-.78.8-2.07 0-2.86zM5.41 20L4 18.59l7.72-7.72 1.47 1.35L5.41 20z\"/>\n",
              "  </svg>\n",
              "      </button>\n",
              "      \n",
              "  <style>\n",
              "    .colab-df-container {\n",
              "      display:flex;\n",
              "      flex-wrap:wrap;\n",
              "      gap: 12px;\n",
              "    }\n",
              "\n",
              "    .colab-df-convert {\n",
              "      background-color: #E8F0FE;\n",
              "      border: none;\n",
              "      border-radius: 50%;\n",
              "      cursor: pointer;\n",
              "      display: none;\n",
              "      fill: #1967D2;\n",
              "      height: 32px;\n",
              "      padding: 0 0 0 0;\n",
              "      width: 32px;\n",
              "    }\n",
              "\n",
              "    .colab-df-convert:hover {\n",
              "      background-color: #E2EBFA;\n",
              "      box-shadow: 0px 1px 2px rgba(60, 64, 67, 0.3), 0px 1px 3px 1px rgba(60, 64, 67, 0.15);\n",
              "      fill: #174EA6;\n",
              "    }\n",
              "\n",
              "    [theme=dark] .colab-df-convert {\n",
              "      background-color: #3B4455;\n",
              "      fill: #D2E3FC;\n",
              "    }\n",
              "\n",
              "    [theme=dark] .colab-df-convert:hover {\n",
              "      background-color: #434B5C;\n",
              "      box-shadow: 0px 1px 3px 1px rgba(0, 0, 0, 0.15);\n",
              "      filter: drop-shadow(0px 1px 2px rgba(0, 0, 0, 0.3));\n",
              "      fill: #FFFFFF;\n",
              "    }\n",
              "  </style>\n",
              "\n",
              "      <script>\n",
              "        const buttonEl =\n",
              "          document.querySelector('#df-ff809cea-421e-40e5-8d34-eef8f37fc1e6 button.colab-df-convert');\n",
              "        buttonEl.style.display =\n",
              "          google.colab.kernel.accessAllowed ? 'block' : 'none';\n",
              "\n",
              "        async function convertToInteractive(key) {\n",
              "          const element = document.querySelector('#df-ff809cea-421e-40e5-8d34-eef8f37fc1e6');\n",
              "          const dataTable =\n",
              "            await google.colab.kernel.invokeFunction('convertToInteractive',\n",
              "                                                     [key], {});\n",
              "          if (!dataTable) return;\n",
              "\n",
              "          const docLinkHtml = 'Like what you see? Visit the ' +\n",
              "            '<a target=\"_blank\" href=https://colab.research.google.com/notebooks/data_table.ipynb>data table notebook</a>'\n",
              "            + ' to learn more about interactive tables.';\n",
              "          element.innerHTML = '';\n",
              "          dataTable['output_type'] = 'display_data';\n",
              "          await google.colab.output.renderOutput(dataTable, element);\n",
              "          const docLink = document.createElement('div');\n",
              "          docLink.innerHTML = docLinkHtml;\n",
              "          element.appendChild(docLink);\n",
              "        }\n",
              "      </script>\n",
              "    </div>\n",
              "  </div>\n",
              "  "
            ]
          },
          "metadata": {},
          "execution_count": 19
        }
      ],
      "source": [
        "test.head(2)"
      ]
    },
    {
      "cell_type": "code",
      "execution_count": 20,
      "metadata": {
        "colab": {
          "base_uri": "https://localhost:8080/"
        },
        "id": "0l-6CNAa76K7",
        "outputId": "ec08978d-dd7b-40bb-e7e9-39fc10766ede"
      },
      "outputs": [
        {
          "output_type": "execute_result",
          "data": {
            "text/plain": [
              "0.0    4969\n",
              "1.0    4063\n",
              "Name: is_popular, dtype: int64"
            ]
          },
          "metadata": {},
          "execution_count": 20
        }
      ],
      "source": [
        "test.is_popular.value_counts()"
      ]
    },
    {
      "cell_type": "markdown",
      "metadata": {
        "id": "Nsb7iuVZ76K7"
      },
      "source": [
        "#### Numeric Features"
      ]
    },
    {
      "cell_type": "code",
      "execution_count": 21,
      "metadata": {
        "id": "ITQ1xx8G76K7"
      },
      "outputs": [],
      "source": [
        "def numeric_features(train):\n",
        "    f11 = train.groupby(\"customer_id\", as_index=False).article_id.nunique() #unique articles\n",
        "    f21 = train.groupby(\"customer_id\", as_index=False).t_dat.nunique() #days active\n",
        "    f31 = train.groupby(\"customer_id\", as_index=False).size() #total purchases\n",
        "    f51 = train.groupby(\"customer_id\", as_index=False).section_name.nunique() #num unique section_name\n",
        "\n",
        "    data_frames = [f11,f21,f31,f51]\n",
        "    customer_features_agg_df = reduce(lambda  left,right: pd.merge(left, right, on=['customer_id'], how='outer'), data_frames)\n",
        "    customer_features_agg_df.columns = ['customer_id', 'nArticles', 'nDays', 'nPurchases', 'nSect']\n",
        "    return customer_features_agg_df.reset_index(drop=True)\n",
        "\n",
        "\n",
        "numeric_features_by_user = numeric_features(train)"
      ]
    },
    {
      "cell_type": "markdown",
      "metadata": {
        "id": "aPGWDGzW76K8"
      },
      "source": [
        "#### Age Interval"
      ]
    },
    {
      "cell_type": "code",
      "execution_count": 22,
      "metadata": {
        "id": "u-T_wJ3P76K8"
      },
      "outputs": [],
      "source": [
        "def create_age_interval(x):\n",
        "    if x <= 20:\n",
        "        return \"Teenaage\"\n",
        "    elif x <= 35:\n",
        "        return \"Working Age\"\n",
        "    elif x <= 55:\n",
        "        return  \"Middle Age\"\n",
        "    else:\n",
        "        return  \"Senior Age\"\n",
        "\n",
        "\n",
        "# Set missing values in age with the median\n",
        "small_customer_set[\"age\"].fillna(small_customer_set[\"age\"].median(), inplace=True)\n",
        "small_customer_set[\"age_interval\"] = small_customer_set[\"age\"].apply(lambda x: create_age_interval(x))\n",
        "small_customer_set_reduced= small_customer_set.drop(columns=['age','FN','Active','club_member_status','fashion_news_frequency','postal_code']).reset_index(drop=True)\n"
      ]
    },
    {
      "cell_type": "code",
      "execution_count": 23,
      "metadata": {
        "id": "OPG2Av3V76K8"
      },
      "outputs": [],
      "source": [
        "data_frames = [numeric_features_by_user , small_customer_set_reduced]\n",
        "customer_features_agg_df = reduce(lambda  left,right: pd.merge(left, right, on=['customer_id'], how='outer'), data_frames)\n",
        "customer_features_agg_df.columns = ['customer_id', 'nArticles', 'nDays', 'nPurchases', 'nSect', 'age_interval']"
      ]
    },
    {
      "cell_type": "code",
      "execution_count": 24,
      "metadata": {
        "id": "DqU0dOcv76K9"
      },
      "outputs": [],
      "source": [
        "train = train.merge(customer_features_agg_df, on='customer_id', how='left')\n",
        "test = test.merge(customer_features_agg_df, on='customer_id', how='left')\n",
        "test = test.dropna()"
      ]
    },
    {
      "cell_type": "code",
      "execution_count": 25,
      "metadata": {
        "colab": {
          "base_uri": "https://localhost:8080/",
          "height": 0
        },
        "id": "1kXv5tOu76K9",
        "outputId": "3a2433c2-d4d6-4ade-d672-754bd61fa57e"
      },
      "outputs": [
        {
          "output_type": "execute_result",
          "data": {
            "text/plain": [
              "       t_dat                                        customer_id  article_id  \\\n",
              "0 2020-06-24  0076383b0cb65133fab3ff5ece40994b8acc055ddb5d18...   826508002   \n",
              "1 2020-06-24  0076383b0cb65133fab3ff5ece40994b8acc055ddb5d18...   826508003   \n",
              "\n",
              "      price  product_group_name colour_group_name      section_name  \\\n",
              "0  0.016932  Garment Upper body             White  Womens Tailoring   \n",
              "1  0.012695  Garment Upper body         Dark Blue  Womens Tailoring   \n",
              "\n",
              "   is_popular  nArticles  nDays  nPurchases  nSect age_interval  \n",
              "0           1        3.0    2.0         3.0    2.0   Middle Age  \n",
              "1           1        3.0    2.0         3.0    2.0   Middle Age  "
            ],
            "text/html": [
              "\n",
              "  <div id=\"df-c210118d-9556-433f-b00d-c09a5fdf02cf\">\n",
              "    <div class=\"colab-df-container\">\n",
              "      <div>\n",
              "<style scoped>\n",
              "    .dataframe tbody tr th:only-of-type {\n",
              "        vertical-align: middle;\n",
              "    }\n",
              "\n",
              "    .dataframe tbody tr th {\n",
              "        vertical-align: top;\n",
              "    }\n",
              "\n",
              "    .dataframe thead th {\n",
              "        text-align: right;\n",
              "    }\n",
              "</style>\n",
              "<table border=\"1\" class=\"dataframe\">\n",
              "  <thead>\n",
              "    <tr style=\"text-align: right;\">\n",
              "      <th></th>\n",
              "      <th>t_dat</th>\n",
              "      <th>customer_id</th>\n",
              "      <th>article_id</th>\n",
              "      <th>price</th>\n",
              "      <th>product_group_name</th>\n",
              "      <th>colour_group_name</th>\n",
              "      <th>section_name</th>\n",
              "      <th>is_popular</th>\n",
              "      <th>nArticles</th>\n",
              "      <th>nDays</th>\n",
              "      <th>nPurchases</th>\n",
              "      <th>nSect</th>\n",
              "      <th>age_interval</th>\n",
              "    </tr>\n",
              "  </thead>\n",
              "  <tbody>\n",
              "    <tr>\n",
              "      <th>0</th>\n",
              "      <td>2020-06-24</td>\n",
              "      <td>0076383b0cb65133fab3ff5ece40994b8acc055ddb5d18...</td>\n",
              "      <td>826508002</td>\n",
              "      <td>0.016932</td>\n",
              "      <td>Garment Upper body</td>\n",
              "      <td>White</td>\n",
              "      <td>Womens Tailoring</td>\n",
              "      <td>1</td>\n",
              "      <td>3.0</td>\n",
              "      <td>2.0</td>\n",
              "      <td>3.0</td>\n",
              "      <td>2.0</td>\n",
              "      <td>Middle Age</td>\n",
              "    </tr>\n",
              "    <tr>\n",
              "      <th>1</th>\n",
              "      <td>2020-06-24</td>\n",
              "      <td>0076383b0cb65133fab3ff5ece40994b8acc055ddb5d18...</td>\n",
              "      <td>826508003</td>\n",
              "      <td>0.012695</td>\n",
              "      <td>Garment Upper body</td>\n",
              "      <td>Dark Blue</td>\n",
              "      <td>Womens Tailoring</td>\n",
              "      <td>1</td>\n",
              "      <td>3.0</td>\n",
              "      <td>2.0</td>\n",
              "      <td>3.0</td>\n",
              "      <td>2.0</td>\n",
              "      <td>Middle Age</td>\n",
              "    </tr>\n",
              "  </tbody>\n",
              "</table>\n",
              "</div>\n",
              "      <button class=\"colab-df-convert\" onclick=\"convertToInteractive('df-c210118d-9556-433f-b00d-c09a5fdf02cf')\"\n",
              "              title=\"Convert this dataframe to an interactive table.\"\n",
              "              style=\"display:none;\">\n",
              "        \n",
              "  <svg xmlns=\"http://www.w3.org/2000/svg\" height=\"24px\"viewBox=\"0 0 24 24\"\n",
              "       width=\"24px\">\n",
              "    <path d=\"M0 0h24v24H0V0z\" fill=\"none\"/>\n",
              "    <path d=\"M18.56 5.44l.94 2.06.94-2.06 2.06-.94-2.06-.94-.94-2.06-.94 2.06-2.06.94zm-11 1L8.5 8.5l.94-2.06 2.06-.94-2.06-.94L8.5 2.5l-.94 2.06-2.06.94zm10 10l.94 2.06.94-2.06 2.06-.94-2.06-.94-.94-2.06-.94 2.06-2.06.94z\"/><path d=\"M17.41 7.96l-1.37-1.37c-.4-.4-.92-.59-1.43-.59-.52 0-1.04.2-1.43.59L10.3 9.45l-7.72 7.72c-.78.78-.78 2.05 0 2.83L4 21.41c.39.39.9.59 1.41.59.51 0 1.02-.2 1.41-.59l7.78-7.78 2.81-2.81c.8-.78.8-2.07 0-2.86zM5.41 20L4 18.59l7.72-7.72 1.47 1.35L5.41 20z\"/>\n",
              "  </svg>\n",
              "      </button>\n",
              "      \n",
              "  <style>\n",
              "    .colab-df-container {\n",
              "      display:flex;\n",
              "      flex-wrap:wrap;\n",
              "      gap: 12px;\n",
              "    }\n",
              "\n",
              "    .colab-df-convert {\n",
              "      background-color: #E8F0FE;\n",
              "      border: none;\n",
              "      border-radius: 50%;\n",
              "      cursor: pointer;\n",
              "      display: none;\n",
              "      fill: #1967D2;\n",
              "      height: 32px;\n",
              "      padding: 0 0 0 0;\n",
              "      width: 32px;\n",
              "    }\n",
              "\n",
              "    .colab-df-convert:hover {\n",
              "      background-color: #E2EBFA;\n",
              "      box-shadow: 0px 1px 2px rgba(60, 64, 67, 0.3), 0px 1px 3px 1px rgba(60, 64, 67, 0.15);\n",
              "      fill: #174EA6;\n",
              "    }\n",
              "\n",
              "    [theme=dark] .colab-df-convert {\n",
              "      background-color: #3B4455;\n",
              "      fill: #D2E3FC;\n",
              "    }\n",
              "\n",
              "    [theme=dark] .colab-df-convert:hover {\n",
              "      background-color: #434B5C;\n",
              "      box-shadow: 0px 1px 3px 1px rgba(0, 0, 0, 0.15);\n",
              "      filter: drop-shadow(0px 1px 2px rgba(0, 0, 0, 0.3));\n",
              "      fill: #FFFFFF;\n",
              "    }\n",
              "  </style>\n",
              "\n",
              "      <script>\n",
              "        const buttonEl =\n",
              "          document.querySelector('#df-c210118d-9556-433f-b00d-c09a5fdf02cf button.colab-df-convert');\n",
              "        buttonEl.style.display =\n",
              "          google.colab.kernel.accessAllowed ? 'block' : 'none';\n",
              "\n",
              "        async function convertToInteractive(key) {\n",
              "          const element = document.querySelector('#df-c210118d-9556-433f-b00d-c09a5fdf02cf');\n",
              "          const dataTable =\n",
              "            await google.colab.kernel.invokeFunction('convertToInteractive',\n",
              "                                                     [key], {});\n",
              "          if (!dataTable) return;\n",
              "\n",
              "          const docLinkHtml = 'Like what you see? Visit the ' +\n",
              "            '<a target=\"_blank\" href=https://colab.research.google.com/notebooks/data_table.ipynb>data table notebook</a>'\n",
              "            + ' to learn more about interactive tables.';\n",
              "          element.innerHTML = '';\n",
              "          dataTable['output_type'] = 'display_data';\n",
              "          await google.colab.output.renderOutput(dataTable, element);\n",
              "          const docLink = document.createElement('div');\n",
              "          docLink.innerHTML = docLinkHtml;\n",
              "          element.appendChild(docLink);\n",
              "        }\n",
              "      </script>\n",
              "    </div>\n",
              "  </div>\n",
              "  "
            ]
          },
          "metadata": {},
          "execution_count": 25
        }
      ],
      "source": [
        "train.head(2)"
      ]
    },
    {
      "cell_type": "code",
      "execution_count": 26,
      "metadata": {
        "colab": {
          "base_uri": "https://localhost:8080/"
        },
        "id": "QaYNOS_076K9",
        "outputId": "869452bf-55da-4e14-e3da-4f06baf68d67"
      },
      "outputs": [
        {
          "output_type": "execute_result",
          "data": {
            "text/plain": [
              "t_dat                 0\n",
              "customer_id           0\n",
              "article_id            0\n",
              "price                 0\n",
              "product_group_name    0\n",
              "colour_group_name     0\n",
              "section_name          0\n",
              "is_popular            0\n",
              "nArticles             0\n",
              "nDays                 0\n",
              "nPurchases            0\n",
              "nSect                 0\n",
              "age_interval          0\n",
              "dtype: int64"
            ]
          },
          "metadata": {},
          "execution_count": 26
        }
      ],
      "source": [
        "test.isnull().sum()"
      ]
    },
    {
      "cell_type": "code",
      "execution_count": 27,
      "metadata": {
        "colab": {
          "base_uri": "https://localhost:8080/"
        },
        "id": "lEZWOs6h76K9",
        "outputId": "90aa93a3-ff7c-42d1-a8dc-af84150495f2"
      },
      "outputs": [
        {
          "output_type": "execute_result",
          "data": {
            "text/plain": [
              "(4096, 13)"
            ]
          },
          "metadata": {},
          "execution_count": 27
        }
      ],
      "source": [
        "test.shape"
      ]
    },
    {
      "cell_type": "code",
      "execution_count": 28,
      "metadata": {
        "colab": {
          "base_uri": "https://localhost:8080/",
          "height": 0
        },
        "id": "dfeaE29876K-",
        "outputId": "119f6231-65c5-4f3a-ee73-d526fd92db4b"
      },
      "outputs": [
        {
          "output_type": "execute_result",
          "data": {
            "text/plain": [
              "        t_dat                                        customer_id  article_id  \\\n",
              "11 2020-09-08  05e0a597465504e1e73bef0b9253cdc6129c8299cb245d...   762846027   \n",
              "12 2020-09-08  05e0a597465504e1e73bef0b9253cdc6129c8299cb245d...   797608001   \n",
              "\n",
              "       price  product_group_name colour_group_name         section_name  \\\n",
              "11  0.023932  Garment Upper body             Beige     Womens Tailoring   \n",
              "12  0.038305  Garment Upper body            Yellow  Special Collections   \n",
              "\n",
              "    is_popular  nArticles  nDays  nPurchases  nSect age_interval  \n",
              "11         0.0        4.0    2.0         4.0    4.0   Middle Age  \n",
              "12         0.0        4.0    2.0         4.0    4.0   Middle Age  "
            ],
            "text/html": [
              "\n",
              "  <div id=\"df-462c5123-65f1-4d58-aec2-84bc73bbc7cd\">\n",
              "    <div class=\"colab-df-container\">\n",
              "      <div>\n",
              "<style scoped>\n",
              "    .dataframe tbody tr th:only-of-type {\n",
              "        vertical-align: middle;\n",
              "    }\n",
              "\n",
              "    .dataframe tbody tr th {\n",
              "        vertical-align: top;\n",
              "    }\n",
              "\n",
              "    .dataframe thead th {\n",
              "        text-align: right;\n",
              "    }\n",
              "</style>\n",
              "<table border=\"1\" class=\"dataframe\">\n",
              "  <thead>\n",
              "    <tr style=\"text-align: right;\">\n",
              "      <th></th>\n",
              "      <th>t_dat</th>\n",
              "      <th>customer_id</th>\n",
              "      <th>article_id</th>\n",
              "      <th>price</th>\n",
              "      <th>product_group_name</th>\n",
              "      <th>colour_group_name</th>\n",
              "      <th>section_name</th>\n",
              "      <th>is_popular</th>\n",
              "      <th>nArticles</th>\n",
              "      <th>nDays</th>\n",
              "      <th>nPurchases</th>\n",
              "      <th>nSect</th>\n",
              "      <th>age_interval</th>\n",
              "    </tr>\n",
              "  </thead>\n",
              "  <tbody>\n",
              "    <tr>\n",
              "      <th>11</th>\n",
              "      <td>2020-09-08</td>\n",
              "      <td>05e0a597465504e1e73bef0b9253cdc6129c8299cb245d...</td>\n",
              "      <td>762846027</td>\n",
              "      <td>0.023932</td>\n",
              "      <td>Garment Upper body</td>\n",
              "      <td>Beige</td>\n",
              "      <td>Womens Tailoring</td>\n",
              "      <td>0.0</td>\n",
              "      <td>4.0</td>\n",
              "      <td>2.0</td>\n",
              "      <td>4.0</td>\n",
              "      <td>4.0</td>\n",
              "      <td>Middle Age</td>\n",
              "    </tr>\n",
              "    <tr>\n",
              "      <th>12</th>\n",
              "      <td>2020-09-08</td>\n",
              "      <td>05e0a597465504e1e73bef0b9253cdc6129c8299cb245d...</td>\n",
              "      <td>797608001</td>\n",
              "      <td>0.038305</td>\n",
              "      <td>Garment Upper body</td>\n",
              "      <td>Yellow</td>\n",
              "      <td>Special Collections</td>\n",
              "      <td>0.0</td>\n",
              "      <td>4.0</td>\n",
              "      <td>2.0</td>\n",
              "      <td>4.0</td>\n",
              "      <td>4.0</td>\n",
              "      <td>Middle Age</td>\n",
              "    </tr>\n",
              "  </tbody>\n",
              "</table>\n",
              "</div>\n",
              "      <button class=\"colab-df-convert\" onclick=\"convertToInteractive('df-462c5123-65f1-4d58-aec2-84bc73bbc7cd')\"\n",
              "              title=\"Convert this dataframe to an interactive table.\"\n",
              "              style=\"display:none;\">\n",
              "        \n",
              "  <svg xmlns=\"http://www.w3.org/2000/svg\" height=\"24px\"viewBox=\"0 0 24 24\"\n",
              "       width=\"24px\">\n",
              "    <path d=\"M0 0h24v24H0V0z\" fill=\"none\"/>\n",
              "    <path d=\"M18.56 5.44l.94 2.06.94-2.06 2.06-.94-2.06-.94-.94-2.06-.94 2.06-2.06.94zm-11 1L8.5 8.5l.94-2.06 2.06-.94-2.06-.94L8.5 2.5l-.94 2.06-2.06.94zm10 10l.94 2.06.94-2.06 2.06-.94-2.06-.94-.94-2.06-.94 2.06-2.06.94z\"/><path d=\"M17.41 7.96l-1.37-1.37c-.4-.4-.92-.59-1.43-.59-.52 0-1.04.2-1.43.59L10.3 9.45l-7.72 7.72c-.78.78-.78 2.05 0 2.83L4 21.41c.39.39.9.59 1.41.59.51 0 1.02-.2 1.41-.59l7.78-7.78 2.81-2.81c.8-.78.8-2.07 0-2.86zM5.41 20L4 18.59l7.72-7.72 1.47 1.35L5.41 20z\"/>\n",
              "  </svg>\n",
              "      </button>\n",
              "      \n",
              "  <style>\n",
              "    .colab-df-container {\n",
              "      display:flex;\n",
              "      flex-wrap:wrap;\n",
              "      gap: 12px;\n",
              "    }\n",
              "\n",
              "    .colab-df-convert {\n",
              "      background-color: #E8F0FE;\n",
              "      border: none;\n",
              "      border-radius: 50%;\n",
              "      cursor: pointer;\n",
              "      display: none;\n",
              "      fill: #1967D2;\n",
              "      height: 32px;\n",
              "      padding: 0 0 0 0;\n",
              "      width: 32px;\n",
              "    }\n",
              "\n",
              "    .colab-df-convert:hover {\n",
              "      background-color: #E2EBFA;\n",
              "      box-shadow: 0px 1px 2px rgba(60, 64, 67, 0.3), 0px 1px 3px 1px rgba(60, 64, 67, 0.15);\n",
              "      fill: #174EA6;\n",
              "    }\n",
              "\n",
              "    [theme=dark] .colab-df-convert {\n",
              "      background-color: #3B4455;\n",
              "      fill: #D2E3FC;\n",
              "    }\n",
              "\n",
              "    [theme=dark] .colab-df-convert:hover {\n",
              "      background-color: #434B5C;\n",
              "      box-shadow: 0px 1px 3px 1px rgba(0, 0, 0, 0.15);\n",
              "      filter: drop-shadow(0px 1px 2px rgba(0, 0, 0, 0.3));\n",
              "      fill: #FFFFFF;\n",
              "    }\n",
              "  </style>\n",
              "\n",
              "      <script>\n",
              "        const buttonEl =\n",
              "          document.querySelector('#df-462c5123-65f1-4d58-aec2-84bc73bbc7cd button.colab-df-convert');\n",
              "        buttonEl.style.display =\n",
              "          google.colab.kernel.accessAllowed ? 'block' : 'none';\n",
              "\n",
              "        async function convertToInteractive(key) {\n",
              "          const element = document.querySelector('#df-462c5123-65f1-4d58-aec2-84bc73bbc7cd');\n",
              "          const dataTable =\n",
              "            await google.colab.kernel.invokeFunction('convertToInteractive',\n",
              "                                                     [key], {});\n",
              "          if (!dataTable) return;\n",
              "\n",
              "          const docLinkHtml = 'Like what you see? Visit the ' +\n",
              "            '<a target=\"_blank\" href=https://colab.research.google.com/notebooks/data_table.ipynb>data table notebook</a>'\n",
              "            + ' to learn more about interactive tables.';\n",
              "          element.innerHTML = '';\n",
              "          dataTable['output_type'] = 'display_data';\n",
              "          await google.colab.output.renderOutput(dataTable, element);\n",
              "          const docLink = document.createElement('div');\n",
              "          docLink.innerHTML = docLinkHtml;\n",
              "          element.appendChild(docLink);\n",
              "        }\n",
              "      </script>\n",
              "    </div>\n",
              "  </div>\n",
              "  "
            ]
          },
          "metadata": {},
          "execution_count": 28
        }
      ],
      "source": [
        "test.head(2)"
      ]
    },
    {
      "cell_type": "code",
      "execution_count": 29,
      "metadata": {
        "colab": {
          "base_uri": "https://localhost:8080/"
        },
        "id": "6sTWnH6g76K-",
        "outputId": "9b85da37-cb8d-4197-b8a1-3b907aa5579a"
      },
      "outputs": [
        {
          "output_type": "execute_result",
          "data": {
            "text/plain": [
              "((7368, 13), (4096, 13), 2204, 2204)"
            ]
          },
          "metadata": {},
          "execution_count": 29
        }
      ],
      "source": [
        "# Use 40k customers from train only so we can quickly test our methods\n",
        "CUSTOMER_IDS = set(train['customer_id'].unique()) & set(test['customer_id'].unique())\n",
        "train = train[train['customer_id'].isin(CUSTOMER_IDS)].reset_index(drop=True)\n",
        "test = test[test['customer_id'].isin(CUSTOMER_IDS)].reset_index(drop=True)\n",
        "\n",
        "train.shape, test.shape, train['customer_id'].nunique(), test['customer_id'].nunique()"
      ]
    },
    {
      "cell_type": "markdown",
      "metadata": {
        "id": "quVssFr276K-"
      },
      "source": [
        "## Negative Sampling"
      ]
    },
    {
      "cell_type": "code",
      "execution_count": 30,
      "metadata": {
        "colab": {
          "base_uri": "https://localhost:8080/",
          "height": 228
        },
        "id": "DuX0iIow76K-",
        "outputId": "ebabeed4-3839-4527-cb60-216ee4e91ad5"
      },
      "outputs": [
        {
          "output_type": "execute_result",
          "data": {
            "text/plain": [
              "       t_dat                                        customer_id  article_id  \\\n",
              "0 2020-06-24  00c571917952c5c99ffb38e7f75b2e91a6b179591cd030...   678342028   \n",
              "1 2020-06-24  00c571917952c5c99ffb38e7f75b2e91a6b179591cd030...   863937010   \n",
              "\n",
              "      price  product_group_name colour_group_name            section_name  \\\n",
              "0  0.006661  Garment Upper body             White          Divided Basics   \n",
              "1  0.011678  Garment Upper body             Black  Womens Everyday Basics   \n",
              "\n",
              "   is_popular  nArticles  nDays  nPurchases  nSect age_interval  \n",
              "0         1.0        9.0    1.0         9.0    4.0  Working Age  \n",
              "1         1.0        9.0    1.0         9.0    4.0  Working Age  "
            ],
            "text/html": [
              "\n",
              "  <div id=\"df-ec34e865-04aa-49a1-9261-34f52362872d\">\n",
              "    <div class=\"colab-df-container\">\n",
              "      <div>\n",
              "<style scoped>\n",
              "    .dataframe tbody tr th:only-of-type {\n",
              "        vertical-align: middle;\n",
              "    }\n",
              "\n",
              "    .dataframe tbody tr th {\n",
              "        vertical-align: top;\n",
              "    }\n",
              "\n",
              "    .dataframe thead th {\n",
              "        text-align: right;\n",
              "    }\n",
              "</style>\n",
              "<table border=\"1\" class=\"dataframe\">\n",
              "  <thead>\n",
              "    <tr style=\"text-align: right;\">\n",
              "      <th></th>\n",
              "      <th>t_dat</th>\n",
              "      <th>customer_id</th>\n",
              "      <th>article_id</th>\n",
              "      <th>price</th>\n",
              "      <th>product_group_name</th>\n",
              "      <th>colour_group_name</th>\n",
              "      <th>section_name</th>\n",
              "      <th>is_popular</th>\n",
              "      <th>nArticles</th>\n",
              "      <th>nDays</th>\n",
              "      <th>nPurchases</th>\n",
              "      <th>nSect</th>\n",
              "      <th>age_interval</th>\n",
              "    </tr>\n",
              "  </thead>\n",
              "  <tbody>\n",
              "    <tr>\n",
              "      <th>0</th>\n",
              "      <td>2020-06-24</td>\n",
              "      <td>00c571917952c5c99ffb38e7f75b2e91a6b179591cd030...</td>\n",
              "      <td>678342028</td>\n",
              "      <td>0.006661</td>\n",
              "      <td>Garment Upper body</td>\n",
              "      <td>White</td>\n",
              "      <td>Divided Basics</td>\n",
              "      <td>1.0</td>\n",
              "      <td>9.0</td>\n",
              "      <td>1.0</td>\n",
              "      <td>9.0</td>\n",
              "      <td>4.0</td>\n",
              "      <td>Working Age</td>\n",
              "    </tr>\n",
              "    <tr>\n",
              "      <th>1</th>\n",
              "      <td>2020-06-24</td>\n",
              "      <td>00c571917952c5c99ffb38e7f75b2e91a6b179591cd030...</td>\n",
              "      <td>863937010</td>\n",
              "      <td>0.011678</td>\n",
              "      <td>Garment Upper body</td>\n",
              "      <td>Black</td>\n",
              "      <td>Womens Everyday Basics</td>\n",
              "      <td>1.0</td>\n",
              "      <td>9.0</td>\n",
              "      <td>1.0</td>\n",
              "      <td>9.0</td>\n",
              "      <td>4.0</td>\n",
              "      <td>Working Age</td>\n",
              "    </tr>\n",
              "  </tbody>\n",
              "</table>\n",
              "</div>\n",
              "      <button class=\"colab-df-convert\" onclick=\"convertToInteractive('df-ec34e865-04aa-49a1-9261-34f52362872d')\"\n",
              "              title=\"Convert this dataframe to an interactive table.\"\n",
              "              style=\"display:none;\">\n",
              "        \n",
              "  <svg xmlns=\"http://www.w3.org/2000/svg\" height=\"24px\"viewBox=\"0 0 24 24\"\n",
              "       width=\"24px\">\n",
              "    <path d=\"M0 0h24v24H0V0z\" fill=\"none\"/>\n",
              "    <path d=\"M18.56 5.44l.94 2.06.94-2.06 2.06-.94-2.06-.94-.94-2.06-.94 2.06-2.06.94zm-11 1L8.5 8.5l.94-2.06 2.06-.94-2.06-.94L8.5 2.5l-.94 2.06-2.06.94zm10 10l.94 2.06.94-2.06 2.06-.94-2.06-.94-.94-2.06-.94 2.06-2.06.94z\"/><path d=\"M17.41 7.96l-1.37-1.37c-.4-.4-.92-.59-1.43-.59-.52 0-1.04.2-1.43.59L10.3 9.45l-7.72 7.72c-.78.78-.78 2.05 0 2.83L4 21.41c.39.39.9.59 1.41.59.51 0 1.02-.2 1.41-.59l7.78-7.78 2.81-2.81c.8-.78.8-2.07 0-2.86zM5.41 20L4 18.59l7.72-7.72 1.47 1.35L5.41 20z\"/>\n",
              "  </svg>\n",
              "      </button>\n",
              "      \n",
              "  <style>\n",
              "    .colab-df-container {\n",
              "      display:flex;\n",
              "      flex-wrap:wrap;\n",
              "      gap: 12px;\n",
              "    }\n",
              "\n",
              "    .colab-df-convert {\n",
              "      background-color: #E8F0FE;\n",
              "      border: none;\n",
              "      border-radius: 50%;\n",
              "      cursor: pointer;\n",
              "      display: none;\n",
              "      fill: #1967D2;\n",
              "      height: 32px;\n",
              "      padding: 0 0 0 0;\n",
              "      width: 32px;\n",
              "    }\n",
              "\n",
              "    .colab-df-convert:hover {\n",
              "      background-color: #E2EBFA;\n",
              "      box-shadow: 0px 1px 2px rgba(60, 64, 67, 0.3), 0px 1px 3px 1px rgba(60, 64, 67, 0.15);\n",
              "      fill: #174EA6;\n",
              "    }\n",
              "\n",
              "    [theme=dark] .colab-df-convert {\n",
              "      background-color: #3B4455;\n",
              "      fill: #D2E3FC;\n",
              "    }\n",
              "\n",
              "    [theme=dark] .colab-df-convert:hover {\n",
              "      background-color: #434B5C;\n",
              "      box-shadow: 0px 1px 3px 1px rgba(0, 0, 0, 0.15);\n",
              "      filter: drop-shadow(0px 1px 2px rgba(0, 0, 0, 0.3));\n",
              "      fill: #FFFFFF;\n",
              "    }\n",
              "  </style>\n",
              "\n",
              "      <script>\n",
              "        const buttonEl =\n",
              "          document.querySelector('#df-ec34e865-04aa-49a1-9261-34f52362872d button.colab-df-convert');\n",
              "        buttonEl.style.display =\n",
              "          google.colab.kernel.accessAllowed ? 'block' : 'none';\n",
              "\n",
              "        async function convertToInteractive(key) {\n",
              "          const element = document.querySelector('#df-ec34e865-04aa-49a1-9261-34f52362872d');\n",
              "          const dataTable =\n",
              "            await google.colab.kernel.invokeFunction('convertToInteractive',\n",
              "                                                     [key], {});\n",
              "          if (!dataTable) return;\n",
              "\n",
              "          const docLinkHtml = 'Like what you see? Visit the ' +\n",
              "            '<a target=\"_blank\" href=https://colab.research.google.com/notebooks/data_table.ipynb>data table notebook</a>'\n",
              "            + ' to learn more about interactive tables.';\n",
              "          element.innerHTML = '';\n",
              "          dataTable['output_type'] = 'display_data';\n",
              "          await google.colab.output.renderOutput(dataTable, element);\n",
              "          const docLink = document.createElement('div');\n",
              "          docLink.innerHTML = docLinkHtml;\n",
              "          element.appendChild(docLink);\n",
              "        }\n",
              "      </script>\n",
              "    </div>\n",
              "  </div>\n",
              "  "
            ]
          },
          "metadata": {},
          "execution_count": 30
        }
      ],
      "source": [
        "liked_articles = pd.concat([train,test], axis=0)\n",
        "liked_articles.head(2)"
      ]
    },
    {
      "cell_type": "code",
      "execution_count": 31,
      "metadata": {
        "colab": {
          "base_uri": "https://localhost:8080/",
          "height": 112
        },
        "id": "SwKU7JWm76K_",
        "outputId": "35578e04-09b6-4322-cd1d-9935a5c07d0b"
      },
      "outputs": [
        {
          "output_type": "execute_result",
          "data": {
            "text/plain": [
              "                                         customer_id  \\\n",
              "0  0015f16aa2702e2ec13d2e38052f496b9b915d3c64e82c...   \n",
              "1  002cf96a2e882620182534ca963f8b43f9aafa2b668c09...   \n",
              "\n",
              "                                        article_list  \n",
              "0                  [891238001, 865929007, 751471038]  \n",
              "1  [843777005, 894756005, 892280003, 859125001, 8...  "
            ],
            "text/html": [
              "\n",
              "  <div id=\"df-58208cf6-71b3-4584-a987-5de9a202571d\">\n",
              "    <div class=\"colab-df-container\">\n",
              "      <div>\n",
              "<style scoped>\n",
              "    .dataframe tbody tr th:only-of-type {\n",
              "        vertical-align: middle;\n",
              "    }\n",
              "\n",
              "    .dataframe tbody tr th {\n",
              "        vertical-align: top;\n",
              "    }\n",
              "\n",
              "    .dataframe thead th {\n",
              "        text-align: right;\n",
              "    }\n",
              "</style>\n",
              "<table border=\"1\" class=\"dataframe\">\n",
              "  <thead>\n",
              "    <tr style=\"text-align: right;\">\n",
              "      <th></th>\n",
              "      <th>customer_id</th>\n",
              "      <th>article_list</th>\n",
              "    </tr>\n",
              "  </thead>\n",
              "  <tbody>\n",
              "    <tr>\n",
              "      <th>0</th>\n",
              "      <td>0015f16aa2702e2ec13d2e38052f496b9b915d3c64e82c...</td>\n",
              "      <td>[891238001, 865929007, 751471038]</td>\n",
              "    </tr>\n",
              "    <tr>\n",
              "      <th>1</th>\n",
              "      <td>002cf96a2e882620182534ca963f8b43f9aafa2b668c09...</td>\n",
              "      <td>[843777005, 894756005, 892280003, 859125001, 8...</td>\n",
              "    </tr>\n",
              "  </tbody>\n",
              "</table>\n",
              "</div>\n",
              "      <button class=\"colab-df-convert\" onclick=\"convertToInteractive('df-58208cf6-71b3-4584-a987-5de9a202571d')\"\n",
              "              title=\"Convert this dataframe to an interactive table.\"\n",
              "              style=\"display:none;\">\n",
              "        \n",
              "  <svg xmlns=\"http://www.w3.org/2000/svg\" height=\"24px\"viewBox=\"0 0 24 24\"\n",
              "       width=\"24px\">\n",
              "    <path d=\"M0 0h24v24H0V0z\" fill=\"none\"/>\n",
              "    <path d=\"M18.56 5.44l.94 2.06.94-2.06 2.06-.94-2.06-.94-.94-2.06-.94 2.06-2.06.94zm-11 1L8.5 8.5l.94-2.06 2.06-.94-2.06-.94L8.5 2.5l-.94 2.06-2.06.94zm10 10l.94 2.06.94-2.06 2.06-.94-2.06-.94-.94-2.06-.94 2.06-2.06.94z\"/><path d=\"M17.41 7.96l-1.37-1.37c-.4-.4-.92-.59-1.43-.59-.52 0-1.04.2-1.43.59L10.3 9.45l-7.72 7.72c-.78.78-.78 2.05 0 2.83L4 21.41c.39.39.9.59 1.41.59.51 0 1.02-.2 1.41-.59l7.78-7.78 2.81-2.81c.8-.78.8-2.07 0-2.86zM5.41 20L4 18.59l7.72-7.72 1.47 1.35L5.41 20z\"/>\n",
              "  </svg>\n",
              "      </button>\n",
              "      \n",
              "  <style>\n",
              "    .colab-df-container {\n",
              "      display:flex;\n",
              "      flex-wrap:wrap;\n",
              "      gap: 12px;\n",
              "    }\n",
              "\n",
              "    .colab-df-convert {\n",
              "      background-color: #E8F0FE;\n",
              "      border: none;\n",
              "      border-radius: 50%;\n",
              "      cursor: pointer;\n",
              "      display: none;\n",
              "      fill: #1967D2;\n",
              "      height: 32px;\n",
              "      padding: 0 0 0 0;\n",
              "      width: 32px;\n",
              "    }\n",
              "\n",
              "    .colab-df-convert:hover {\n",
              "      background-color: #E2EBFA;\n",
              "      box-shadow: 0px 1px 2px rgba(60, 64, 67, 0.3), 0px 1px 3px 1px rgba(60, 64, 67, 0.15);\n",
              "      fill: #174EA6;\n",
              "    }\n",
              "\n",
              "    [theme=dark] .colab-df-convert {\n",
              "      background-color: #3B4455;\n",
              "      fill: #D2E3FC;\n",
              "    }\n",
              "\n",
              "    [theme=dark] .colab-df-convert:hover {\n",
              "      background-color: #434B5C;\n",
              "      box-shadow: 0px 1px 3px 1px rgba(0, 0, 0, 0.15);\n",
              "      filter: drop-shadow(0px 1px 2px rgba(0, 0, 0, 0.3));\n",
              "      fill: #FFFFFF;\n",
              "    }\n",
              "  </style>\n",
              "\n",
              "      <script>\n",
              "        const buttonEl =\n",
              "          document.querySelector('#df-58208cf6-71b3-4584-a987-5de9a202571d button.colab-df-convert');\n",
              "        buttonEl.style.display =\n",
              "          google.colab.kernel.accessAllowed ? 'block' : 'none';\n",
              "\n",
              "        async function convertToInteractive(key) {\n",
              "          const element = document.querySelector('#df-58208cf6-71b3-4584-a987-5de9a202571d');\n",
              "          const dataTable =\n",
              "            await google.colab.kernel.invokeFunction('convertToInteractive',\n",
              "                                                     [key], {});\n",
              "          if (!dataTable) return;\n",
              "\n",
              "          const docLinkHtml = 'Like what you see? Visit the ' +\n",
              "            '<a target=\"_blank\" href=https://colab.research.google.com/notebooks/data_table.ipynb>data table notebook</a>'\n",
              "            + ' to learn more about interactive tables.';\n",
              "          element.innerHTML = '';\n",
              "          dataTable['output_type'] = 'display_data';\n",
              "          await google.colab.output.renderOutput(dataTable, element);\n",
              "          const docLink = document.createElement('div');\n",
              "          docLink.innerHTML = docLinkHtml;\n",
              "          element.appendChild(docLink);\n",
              "        }\n",
              "      </script>\n",
              "    </div>\n",
              "  </div>\n",
              "  "
            ]
          },
          "metadata": {},
          "execution_count": 31
        }
      ],
      "source": [
        "customer_liked_article= liked_articles.groupby(\"customer_id\", as_index=False).article_id.agg(['unique']).reset_index()\n",
        "customer_liked_article.columns = ['customer_id', 'article_list']\n",
        "customer_liked_article.head(2)"
      ]
    },
    {
      "cell_type": "code",
      "execution_count": 32,
      "metadata": {
        "id": "_CMcNhab76K_"
      },
      "outputs": [],
      "source": [
        "articlesSet_train = list(train.article_id.unique())\n",
        "articlesSet_test = list(test.article_id.unique())"
      ]
    },
    {
      "cell_type": "code",
      "execution_count": 33,
      "metadata": {
        "id": "Sqp_F_ol76K_"
      },
      "outputs": [],
      "source": [
        "def generate_negative_samples(train_df, article_list, num_neg=1):\n",
        "    \"\"\"\n",
        "    Simple random sampling for generative negative examples\n",
        "    \"\"\"\n",
        "    negData = []\n",
        "    for index, row in train_df.iterrows():\n",
        "        allList = article_list\n",
        "        cust = row['customer_id']\n",
        "        art_list = row['article_list']\n",
        "        allList = list(set(allList) - set(art_list))\n",
        "        negs = random.sample(allList, num_neg)\n",
        "        for n in negs:\n",
        "            negData.append([cust,n])\n",
        "    negDf = pd.DataFrame(negData,columns=['customer_id','article_id'])\n",
        "    return negDf"
      ]
    },
    {
      "cell_type": "code",
      "execution_count": 34,
      "metadata": {
        "id": "GErWilGm76K_"
      },
      "outputs": [],
      "source": [
        "negDf_train = generate_negative_samples(customer_liked_article,articlesSet_train,1) #2 negative samples per customer\n",
        "negDf_test = generate_negative_samples(customer_liked_article,articlesSet_test,1) #2 negative samples per customer\n"
      ]
    },
    {
      "cell_type": "code",
      "execution_count": 35,
      "metadata": {
        "colab": {
          "base_uri": "https://localhost:8080/",
          "height": 112
        },
        "id": "8FIxUXWv76LA",
        "outputId": "d6d02f4f-41ed-4778-c681-a5f23c21618f"
      },
      "outputs": [
        {
          "output_type": "execute_result",
          "data": {
            "text/plain": [
              "                                         customer_id  article_id\n",
              "0  0015f16aa2702e2ec13d2e38052f496b9b915d3c64e82c...   748595003\n",
              "1  002cf96a2e882620182534ca963f8b43f9aafa2b668c09...   717490076"
            ],
            "text/html": [
              "\n",
              "  <div id=\"df-48504b8f-61cf-459b-aea0-24ecab41946f\">\n",
              "    <div class=\"colab-df-container\">\n",
              "      <div>\n",
              "<style scoped>\n",
              "    .dataframe tbody tr th:only-of-type {\n",
              "        vertical-align: middle;\n",
              "    }\n",
              "\n",
              "    .dataframe tbody tr th {\n",
              "        vertical-align: top;\n",
              "    }\n",
              "\n",
              "    .dataframe thead th {\n",
              "        text-align: right;\n",
              "    }\n",
              "</style>\n",
              "<table border=\"1\" class=\"dataframe\">\n",
              "  <thead>\n",
              "    <tr style=\"text-align: right;\">\n",
              "      <th></th>\n",
              "      <th>customer_id</th>\n",
              "      <th>article_id</th>\n",
              "    </tr>\n",
              "  </thead>\n",
              "  <tbody>\n",
              "    <tr>\n",
              "      <th>0</th>\n",
              "      <td>0015f16aa2702e2ec13d2e38052f496b9b915d3c64e82c...</td>\n",
              "      <td>748595003</td>\n",
              "    </tr>\n",
              "    <tr>\n",
              "      <th>1</th>\n",
              "      <td>002cf96a2e882620182534ca963f8b43f9aafa2b668c09...</td>\n",
              "      <td>717490076</td>\n",
              "    </tr>\n",
              "  </tbody>\n",
              "</table>\n",
              "</div>\n",
              "      <button class=\"colab-df-convert\" onclick=\"convertToInteractive('df-48504b8f-61cf-459b-aea0-24ecab41946f')\"\n",
              "              title=\"Convert this dataframe to an interactive table.\"\n",
              "              style=\"display:none;\">\n",
              "        \n",
              "  <svg xmlns=\"http://www.w3.org/2000/svg\" height=\"24px\"viewBox=\"0 0 24 24\"\n",
              "       width=\"24px\">\n",
              "    <path d=\"M0 0h24v24H0V0z\" fill=\"none\"/>\n",
              "    <path d=\"M18.56 5.44l.94 2.06.94-2.06 2.06-.94-2.06-.94-.94-2.06-.94 2.06-2.06.94zm-11 1L8.5 8.5l.94-2.06 2.06-.94-2.06-.94L8.5 2.5l-.94 2.06-2.06.94zm10 10l.94 2.06.94-2.06 2.06-.94-2.06-.94-.94-2.06-.94 2.06-2.06.94z\"/><path d=\"M17.41 7.96l-1.37-1.37c-.4-.4-.92-.59-1.43-.59-.52 0-1.04.2-1.43.59L10.3 9.45l-7.72 7.72c-.78.78-.78 2.05 0 2.83L4 21.41c.39.39.9.59 1.41.59.51 0 1.02-.2 1.41-.59l7.78-7.78 2.81-2.81c.8-.78.8-2.07 0-2.86zM5.41 20L4 18.59l7.72-7.72 1.47 1.35L5.41 20z\"/>\n",
              "  </svg>\n",
              "      </button>\n",
              "      \n",
              "  <style>\n",
              "    .colab-df-container {\n",
              "      display:flex;\n",
              "      flex-wrap:wrap;\n",
              "      gap: 12px;\n",
              "    }\n",
              "\n",
              "    .colab-df-convert {\n",
              "      background-color: #E8F0FE;\n",
              "      border: none;\n",
              "      border-radius: 50%;\n",
              "      cursor: pointer;\n",
              "      display: none;\n",
              "      fill: #1967D2;\n",
              "      height: 32px;\n",
              "      padding: 0 0 0 0;\n",
              "      width: 32px;\n",
              "    }\n",
              "\n",
              "    .colab-df-convert:hover {\n",
              "      background-color: #E2EBFA;\n",
              "      box-shadow: 0px 1px 2px rgba(60, 64, 67, 0.3), 0px 1px 3px 1px rgba(60, 64, 67, 0.15);\n",
              "      fill: #174EA6;\n",
              "    }\n",
              "\n",
              "    [theme=dark] .colab-df-convert {\n",
              "      background-color: #3B4455;\n",
              "      fill: #D2E3FC;\n",
              "    }\n",
              "\n",
              "    [theme=dark] .colab-df-convert:hover {\n",
              "      background-color: #434B5C;\n",
              "      box-shadow: 0px 1px 3px 1px rgba(0, 0, 0, 0.15);\n",
              "      filter: drop-shadow(0px 1px 2px rgba(0, 0, 0, 0.3));\n",
              "      fill: #FFFFFF;\n",
              "    }\n",
              "  </style>\n",
              "\n",
              "      <script>\n",
              "        const buttonEl =\n",
              "          document.querySelector('#df-48504b8f-61cf-459b-aea0-24ecab41946f button.colab-df-convert');\n",
              "        buttonEl.style.display =\n",
              "          google.colab.kernel.accessAllowed ? 'block' : 'none';\n",
              "\n",
              "        async function convertToInteractive(key) {\n",
              "          const element = document.querySelector('#df-48504b8f-61cf-459b-aea0-24ecab41946f');\n",
              "          const dataTable =\n",
              "            await google.colab.kernel.invokeFunction('convertToInteractive',\n",
              "                                                     [key], {});\n",
              "          if (!dataTable) return;\n",
              "\n",
              "          const docLinkHtml = 'Like what you see? Visit the ' +\n",
              "            '<a target=\"_blank\" href=https://colab.research.google.com/notebooks/data_table.ipynb>data table notebook</a>'\n",
              "            + ' to learn more about interactive tables.';\n",
              "          element.innerHTML = '';\n",
              "          dataTable['output_type'] = 'display_data';\n",
              "          await google.colab.output.renderOutput(dataTable, element);\n",
              "          const docLink = document.createElement('div');\n",
              "          docLink.innerHTML = docLinkHtml;\n",
              "          element.appendChild(docLink);\n",
              "        }\n",
              "      </script>\n",
              "    </div>\n",
              "  </div>\n",
              "  "
            ]
          },
          "metadata": {},
          "execution_count": 35
        }
      ],
      "source": [
        "negDf_test.head(2)"
      ]
    },
    {
      "cell_type": "code",
      "execution_count": 36,
      "metadata": {
        "colab": {
          "base_uri": "https://localhost:8080/"
        },
        "id": "1B5sNMkj76LA",
        "outputId": "1cf6ec95-ef6e-45a5-aca3-f6f7200747c7"
      },
      "outputs": [
        {
          "output_type": "execute_result",
          "data": {
            "text/plain": [
              "Index(['t_dat', 'customer_id', 'article_id', 'price', 'product_group_name',\n",
              "       'colour_group_name', 'section_name', 'is_popular', 'nArticles', 'nDays',\n",
              "       'nPurchases', 'nSect', 'age_interval'],\n",
              "      dtype='object')"
            ]
          },
          "metadata": {},
          "execution_count": 36
        }
      ],
      "source": [
        "train.columns"
      ]
    },
    {
      "cell_type": "code",
      "execution_count": 37,
      "metadata": {
        "id": "D2sxLuiN76LA"
      },
      "outputs": [],
      "source": [
        "article_features = train[['article_id', 'price', 'product_group_name',\n",
        "       'colour_group_name', 'section_name']]\n",
        "customer_features = train[['customer_id', 'age_interval', 'nArticles', 'nDays', 'nPurchases', 'nSect']]"
      ]
    },
    {
      "cell_type": "code",
      "execution_count": 38,
      "metadata": {
        "id": "5gInGQwa76LA"
      },
      "outputs": [],
      "source": [
        "article_features_test = test[['article_id', 'price', 'product_group_name', 'colour_group_name', 'section_name']]\n",
        "customer_features_test = test[['customer_id', 'age_interval', 'nArticles', 'nDays', 'nPurchases', 'nSect']]"
      ]
    },
    {
      "cell_type": "code",
      "execution_count": 39,
      "metadata": {
        "id": "krx0KOgv76LA"
      },
      "outputs": [],
      "source": [
        "negDf_train = negDf_train.merge(article_features, on='article_id', how='left') # merge negative samples with article features\n",
        "negDf_train = negDf_train.merge(customer_features, on='customer_id', how='left') # merge negative samples with customer features"
      ]
    },
    {
      "cell_type": "code",
      "execution_count": 40,
      "metadata": {
        "colab": {
          "base_uri": "https://localhost:8080/",
          "height": 156
        },
        "id": "1PnHi-J676LB",
        "outputId": "56e147b8-0b7d-48b5-8099-24015ac7675b"
      },
      "outputs": [
        {
          "output_type": "execute_result",
          "data": {
            "text/plain": [
              "                                         customer_id  article_id     price  \\\n",
              "0  0015f16aa2702e2ec13d2e38052f496b9b915d3c64e82c...   678942039  0.013068   \n",
              "1  002cf96a2e882620182534ca963f8b43f9aafa2b668c09...   865490002  0.022017   \n",
              "\n",
              "   product_group_name colour_group_name                    section_name  \\\n",
              "0  Garment Upper body            Orange  Womens Nightwear, Socks & Tigh   \n",
              "1  Garment Upper body             White              Divided Collection   \n",
              "\n",
              "  age_interval  nArticles  nDays  nPurchases  nSect  \n",
              "0   Senior Age        1.0    1.0         1.0    1.0  \n",
              "1   Middle Age        7.0    1.0         7.0    4.0  "
            ],
            "text/html": [
              "\n",
              "  <div id=\"df-d542c757-7905-4134-b236-5db5914816d4\">\n",
              "    <div class=\"colab-df-container\">\n",
              "      <div>\n",
              "<style scoped>\n",
              "    .dataframe tbody tr th:only-of-type {\n",
              "        vertical-align: middle;\n",
              "    }\n",
              "\n",
              "    .dataframe tbody tr th {\n",
              "        vertical-align: top;\n",
              "    }\n",
              "\n",
              "    .dataframe thead th {\n",
              "        text-align: right;\n",
              "    }\n",
              "</style>\n",
              "<table border=\"1\" class=\"dataframe\">\n",
              "  <thead>\n",
              "    <tr style=\"text-align: right;\">\n",
              "      <th></th>\n",
              "      <th>customer_id</th>\n",
              "      <th>article_id</th>\n",
              "      <th>price</th>\n",
              "      <th>product_group_name</th>\n",
              "      <th>colour_group_name</th>\n",
              "      <th>section_name</th>\n",
              "      <th>age_interval</th>\n",
              "      <th>nArticles</th>\n",
              "      <th>nDays</th>\n",
              "      <th>nPurchases</th>\n",
              "      <th>nSect</th>\n",
              "    </tr>\n",
              "  </thead>\n",
              "  <tbody>\n",
              "    <tr>\n",
              "      <th>0</th>\n",
              "      <td>0015f16aa2702e2ec13d2e38052f496b9b915d3c64e82c...</td>\n",
              "      <td>678942039</td>\n",
              "      <td>0.013068</td>\n",
              "      <td>Garment Upper body</td>\n",
              "      <td>Orange</td>\n",
              "      <td>Womens Nightwear, Socks &amp; Tigh</td>\n",
              "      <td>Senior Age</td>\n",
              "      <td>1.0</td>\n",
              "      <td>1.0</td>\n",
              "      <td>1.0</td>\n",
              "      <td>1.0</td>\n",
              "    </tr>\n",
              "    <tr>\n",
              "      <th>1</th>\n",
              "      <td>002cf96a2e882620182534ca963f8b43f9aafa2b668c09...</td>\n",
              "      <td>865490002</td>\n",
              "      <td>0.022017</td>\n",
              "      <td>Garment Upper body</td>\n",
              "      <td>White</td>\n",
              "      <td>Divided Collection</td>\n",
              "      <td>Middle Age</td>\n",
              "      <td>7.0</td>\n",
              "      <td>1.0</td>\n",
              "      <td>7.0</td>\n",
              "      <td>4.0</td>\n",
              "    </tr>\n",
              "  </tbody>\n",
              "</table>\n",
              "</div>\n",
              "      <button class=\"colab-df-convert\" onclick=\"convertToInteractive('df-d542c757-7905-4134-b236-5db5914816d4')\"\n",
              "              title=\"Convert this dataframe to an interactive table.\"\n",
              "              style=\"display:none;\">\n",
              "        \n",
              "  <svg xmlns=\"http://www.w3.org/2000/svg\" height=\"24px\"viewBox=\"0 0 24 24\"\n",
              "       width=\"24px\">\n",
              "    <path d=\"M0 0h24v24H0V0z\" fill=\"none\"/>\n",
              "    <path d=\"M18.56 5.44l.94 2.06.94-2.06 2.06-.94-2.06-.94-.94-2.06-.94 2.06-2.06.94zm-11 1L8.5 8.5l.94-2.06 2.06-.94-2.06-.94L8.5 2.5l-.94 2.06-2.06.94zm10 10l.94 2.06.94-2.06 2.06-.94-2.06-.94-.94-2.06-.94 2.06-2.06.94z\"/><path d=\"M17.41 7.96l-1.37-1.37c-.4-.4-.92-.59-1.43-.59-.52 0-1.04.2-1.43.59L10.3 9.45l-7.72 7.72c-.78.78-.78 2.05 0 2.83L4 21.41c.39.39.9.59 1.41.59.51 0 1.02-.2 1.41-.59l7.78-7.78 2.81-2.81c.8-.78.8-2.07 0-2.86zM5.41 20L4 18.59l7.72-7.72 1.47 1.35L5.41 20z\"/>\n",
              "  </svg>\n",
              "      </button>\n",
              "      \n",
              "  <style>\n",
              "    .colab-df-container {\n",
              "      display:flex;\n",
              "      flex-wrap:wrap;\n",
              "      gap: 12px;\n",
              "    }\n",
              "\n",
              "    .colab-df-convert {\n",
              "      background-color: #E8F0FE;\n",
              "      border: none;\n",
              "      border-radius: 50%;\n",
              "      cursor: pointer;\n",
              "      display: none;\n",
              "      fill: #1967D2;\n",
              "      height: 32px;\n",
              "      padding: 0 0 0 0;\n",
              "      width: 32px;\n",
              "    }\n",
              "\n",
              "    .colab-df-convert:hover {\n",
              "      background-color: #E2EBFA;\n",
              "      box-shadow: 0px 1px 2px rgba(60, 64, 67, 0.3), 0px 1px 3px 1px rgba(60, 64, 67, 0.15);\n",
              "      fill: #174EA6;\n",
              "    }\n",
              "\n",
              "    [theme=dark] .colab-df-convert {\n",
              "      background-color: #3B4455;\n",
              "      fill: #D2E3FC;\n",
              "    }\n",
              "\n",
              "    [theme=dark] .colab-df-convert:hover {\n",
              "      background-color: #434B5C;\n",
              "      box-shadow: 0px 1px 3px 1px rgba(0, 0, 0, 0.15);\n",
              "      filter: drop-shadow(0px 1px 2px rgba(0, 0, 0, 0.3));\n",
              "      fill: #FFFFFF;\n",
              "    }\n",
              "  </style>\n",
              "\n",
              "      <script>\n",
              "        const buttonEl =\n",
              "          document.querySelector('#df-d542c757-7905-4134-b236-5db5914816d4 button.colab-df-convert');\n",
              "        buttonEl.style.display =\n",
              "          google.colab.kernel.accessAllowed ? 'block' : 'none';\n",
              "\n",
              "        async function convertToInteractive(key) {\n",
              "          const element = document.querySelector('#df-d542c757-7905-4134-b236-5db5914816d4');\n",
              "          const dataTable =\n",
              "            await google.colab.kernel.invokeFunction('convertToInteractive',\n",
              "                                                     [key], {});\n",
              "          if (!dataTable) return;\n",
              "\n",
              "          const docLinkHtml = 'Like what you see? Visit the ' +\n",
              "            '<a target=\"_blank\" href=https://colab.research.google.com/notebooks/data_table.ipynb>data table notebook</a>'\n",
              "            + ' to learn more about interactive tables.';\n",
              "          element.innerHTML = '';\n",
              "          dataTable['output_type'] = 'display_data';\n",
              "          await google.colab.output.renderOutput(dataTable, element);\n",
              "          const docLink = document.createElement('div');\n",
              "          docLink.innerHTML = docLinkHtml;\n",
              "          element.appendChild(docLink);\n",
              "        }\n",
              "      </script>\n",
              "    </div>\n",
              "  </div>\n",
              "  "
            ]
          },
          "metadata": {},
          "execution_count": 40
        }
      ],
      "source": [
        "negDf_train.head(2)"
      ]
    },
    {
      "cell_type": "code",
      "execution_count": 41,
      "metadata": {
        "id": "zeFVZnRO76LB"
      },
      "outputs": [],
      "source": [
        "negDf_test = negDf_test.merge(article_features_test, on='article_id', how='left') # merge negative samples with article features\n",
        "negDf_test = negDf_test.merge(customer_features_test, on='customer_id', how='left') # merge negative samples with customer features"
      ]
    },
    {
      "cell_type": "code",
      "execution_count": 42,
      "metadata": {
        "colab": {
          "base_uri": "https://localhost:8080/",
          "height": 112
        },
        "id": "EixYKNiM76LB",
        "outputId": "9c13ebf2-9f15-402f-f05e-7af1e3899cf0"
      },
      "outputs": [
        {
          "output_type": "execute_result",
          "data": {
            "text/plain": [
              "                                         customer_id  article_id    price  \\\n",
              "0  0015f16aa2702e2ec13d2e38052f496b9b915d3c64e82c...   748595003  0.06778   \n",
              "1  0015f16aa2702e2ec13d2e38052f496b9b915d3c64e82c...   748595003  0.06778   \n",
              "\n",
              "  product_group_name colour_group_name  section_name age_interval  nArticles  \\\n",
              "0              Shoes        Dark Beige  Womens Shoes   Senior Age        1.0   \n",
              "1              Shoes        Dark Beige  Womens Shoes   Senior Age        1.0   \n",
              "\n",
              "   nDays  nPurchases  nSect  \n",
              "0    1.0         1.0    1.0  \n",
              "1    1.0         1.0    1.0  "
            ],
            "text/html": [
              "\n",
              "  <div id=\"df-324dab97-eae6-4437-b3b6-46cbafbfd879\">\n",
              "    <div class=\"colab-df-container\">\n",
              "      <div>\n",
              "<style scoped>\n",
              "    .dataframe tbody tr th:only-of-type {\n",
              "        vertical-align: middle;\n",
              "    }\n",
              "\n",
              "    .dataframe tbody tr th {\n",
              "        vertical-align: top;\n",
              "    }\n",
              "\n",
              "    .dataframe thead th {\n",
              "        text-align: right;\n",
              "    }\n",
              "</style>\n",
              "<table border=\"1\" class=\"dataframe\">\n",
              "  <thead>\n",
              "    <tr style=\"text-align: right;\">\n",
              "      <th></th>\n",
              "      <th>customer_id</th>\n",
              "      <th>article_id</th>\n",
              "      <th>price</th>\n",
              "      <th>product_group_name</th>\n",
              "      <th>colour_group_name</th>\n",
              "      <th>section_name</th>\n",
              "      <th>age_interval</th>\n",
              "      <th>nArticles</th>\n",
              "      <th>nDays</th>\n",
              "      <th>nPurchases</th>\n",
              "      <th>nSect</th>\n",
              "    </tr>\n",
              "  </thead>\n",
              "  <tbody>\n",
              "    <tr>\n",
              "      <th>0</th>\n",
              "      <td>0015f16aa2702e2ec13d2e38052f496b9b915d3c64e82c...</td>\n",
              "      <td>748595003</td>\n",
              "      <td>0.06778</td>\n",
              "      <td>Shoes</td>\n",
              "      <td>Dark Beige</td>\n",
              "      <td>Womens Shoes</td>\n",
              "      <td>Senior Age</td>\n",
              "      <td>1.0</td>\n",
              "      <td>1.0</td>\n",
              "      <td>1.0</td>\n",
              "      <td>1.0</td>\n",
              "    </tr>\n",
              "    <tr>\n",
              "      <th>1</th>\n",
              "      <td>0015f16aa2702e2ec13d2e38052f496b9b915d3c64e82c...</td>\n",
              "      <td>748595003</td>\n",
              "      <td>0.06778</td>\n",
              "      <td>Shoes</td>\n",
              "      <td>Dark Beige</td>\n",
              "      <td>Womens Shoes</td>\n",
              "      <td>Senior Age</td>\n",
              "      <td>1.0</td>\n",
              "      <td>1.0</td>\n",
              "      <td>1.0</td>\n",
              "      <td>1.0</td>\n",
              "    </tr>\n",
              "  </tbody>\n",
              "</table>\n",
              "</div>\n",
              "      <button class=\"colab-df-convert\" onclick=\"convertToInteractive('df-324dab97-eae6-4437-b3b6-46cbafbfd879')\"\n",
              "              title=\"Convert this dataframe to an interactive table.\"\n",
              "              style=\"display:none;\">\n",
              "        \n",
              "  <svg xmlns=\"http://www.w3.org/2000/svg\" height=\"24px\"viewBox=\"0 0 24 24\"\n",
              "       width=\"24px\">\n",
              "    <path d=\"M0 0h24v24H0V0z\" fill=\"none\"/>\n",
              "    <path d=\"M18.56 5.44l.94 2.06.94-2.06 2.06-.94-2.06-.94-.94-2.06-.94 2.06-2.06.94zm-11 1L8.5 8.5l.94-2.06 2.06-.94-2.06-.94L8.5 2.5l-.94 2.06-2.06.94zm10 10l.94 2.06.94-2.06 2.06-.94-2.06-.94-.94-2.06-.94 2.06-2.06.94z\"/><path d=\"M17.41 7.96l-1.37-1.37c-.4-.4-.92-.59-1.43-.59-.52 0-1.04.2-1.43.59L10.3 9.45l-7.72 7.72c-.78.78-.78 2.05 0 2.83L4 21.41c.39.39.9.59 1.41.59.51 0 1.02-.2 1.41-.59l7.78-7.78 2.81-2.81c.8-.78.8-2.07 0-2.86zM5.41 20L4 18.59l7.72-7.72 1.47 1.35L5.41 20z\"/>\n",
              "  </svg>\n",
              "      </button>\n",
              "      \n",
              "  <style>\n",
              "    .colab-df-container {\n",
              "      display:flex;\n",
              "      flex-wrap:wrap;\n",
              "      gap: 12px;\n",
              "    }\n",
              "\n",
              "    .colab-df-convert {\n",
              "      background-color: #E8F0FE;\n",
              "      border: none;\n",
              "      border-radius: 50%;\n",
              "      cursor: pointer;\n",
              "      display: none;\n",
              "      fill: #1967D2;\n",
              "      height: 32px;\n",
              "      padding: 0 0 0 0;\n",
              "      width: 32px;\n",
              "    }\n",
              "\n",
              "    .colab-df-convert:hover {\n",
              "      background-color: #E2EBFA;\n",
              "      box-shadow: 0px 1px 2px rgba(60, 64, 67, 0.3), 0px 1px 3px 1px rgba(60, 64, 67, 0.15);\n",
              "      fill: #174EA6;\n",
              "    }\n",
              "\n",
              "    [theme=dark] .colab-df-convert {\n",
              "      background-color: #3B4455;\n",
              "      fill: #D2E3FC;\n",
              "    }\n",
              "\n",
              "    [theme=dark] .colab-df-convert:hover {\n",
              "      background-color: #434B5C;\n",
              "      box-shadow: 0px 1px 3px 1px rgba(0, 0, 0, 0.15);\n",
              "      filter: drop-shadow(0px 1px 2px rgba(0, 0, 0, 0.3));\n",
              "      fill: #FFFFFF;\n",
              "    }\n",
              "  </style>\n",
              "\n",
              "      <script>\n",
              "        const buttonEl =\n",
              "          document.querySelector('#df-324dab97-eae6-4437-b3b6-46cbafbfd879 button.colab-df-convert');\n",
              "        buttonEl.style.display =\n",
              "          google.colab.kernel.accessAllowed ? 'block' : 'none';\n",
              "\n",
              "        async function convertToInteractive(key) {\n",
              "          const element = document.querySelector('#df-324dab97-eae6-4437-b3b6-46cbafbfd879');\n",
              "          const dataTable =\n",
              "            await google.colab.kernel.invokeFunction('convertToInteractive',\n",
              "                                                     [key], {});\n",
              "          if (!dataTable) return;\n",
              "\n",
              "          const docLinkHtml = 'Like what you see? Visit the ' +\n",
              "            '<a target=\"_blank\" href=https://colab.research.google.com/notebooks/data_table.ipynb>data table notebook</a>'\n",
              "            + ' to learn more about interactive tables.';\n",
              "          element.innerHTML = '';\n",
              "          dataTable['output_type'] = 'display_data';\n",
              "          await google.colab.output.renderOutput(dataTable, element);\n",
              "          const docLink = document.createElement('div');\n",
              "          docLink.innerHTML = docLinkHtml;\n",
              "          element.appendChild(docLink);\n",
              "        }\n",
              "      </script>\n",
              "    </div>\n",
              "  </div>\n",
              "  "
            ]
          },
          "metadata": {},
          "execution_count": 42
        }
      ],
      "source": [
        "negDf_test.head(2)"
      ]
    },
    {
      "cell_type": "code",
      "execution_count": 43,
      "metadata": {
        "colab": {
          "base_uri": "https://localhost:8080/"
        },
        "id": "J_btlOdk76LB",
        "outputId": "e9b129dd-3d7a-4980-f6cd-08f6658a2f25"
      },
      "outputs": [
        {
          "output_type": "execute_result",
          "data": {
            "text/plain": [
              "customer_id           0\n",
              "article_id            0\n",
              "price                 0\n",
              "product_group_name    0\n",
              "colour_group_name     0\n",
              "section_name          0\n",
              "age_interval          0\n",
              "nArticles             0\n",
              "nDays                 0\n",
              "nPurchases            0\n",
              "nSect                 0\n",
              "dtype: int64"
            ]
          },
          "metadata": {},
          "execution_count": 43
        }
      ],
      "source": [
        "negDf_test.isnull().sum()"
      ]
    },
    {
      "cell_type": "code",
      "execution_count": 44,
      "metadata": {
        "id": "1CVIBfKu76LB"
      },
      "outputs": [],
      "source": [
        "train['label'] = 1\n",
        "negDf_train['label'] = 0\n",
        "test['label'] = 1\n",
        "negDf_test['label'] = 0"
      ]
    },
    {
      "cell_type": "code",
      "execution_count": 45,
      "metadata": {
        "id": "-FERnTz276LC"
      },
      "outputs": [],
      "source": [
        "train_data = pd.concat([train,negDf_train], axis=0).reset_index(drop=True) # merge positive and negative samples\n",
        "train_data.fillna(0, inplace=True) # fill missing values with 0\n",
        "test_data = pd.concat([test,negDf_test], axis=0).reset_index(drop=True) # merge positive and negative samples\n",
        "test_data.fillna(0, inplace=True) # fill missing values with 0"
      ]
    },
    {
      "cell_type": "code",
      "execution_count": 46,
      "metadata": {
        "colab": {
          "base_uri": "https://localhost:8080/"
        },
        "id": "3kXo3lCh76LC",
        "outputId": "a0717206-f1fc-4a9b-a18b-3de3512c8e36"
      },
      "outputs": [
        {
          "output_type": "execute_result",
          "data": {
            "text/plain": [
              "t_dat                 0\n",
              "customer_id           0\n",
              "article_id            0\n",
              "price                 0\n",
              "product_group_name    0\n",
              "colour_group_name     0\n",
              "section_name          0\n",
              "is_popular            0\n",
              "nArticles             0\n",
              "nDays                 0\n",
              "nPurchases            0\n",
              "nSect                 0\n",
              "age_interval          0\n",
              "label                 0\n",
              "dtype: int64"
            ]
          },
          "metadata": {},
          "execution_count": 46
        }
      ],
      "source": [
        "train_data.isnull().sum()"
      ]
    },
    {
      "cell_type": "code",
      "execution_count": 47,
      "metadata": {
        "colab": {
          "base_uri": "https://localhost:8080/"
        },
        "id": "TTReje9N76LC",
        "outputId": "a8e93b03-8f9d-43c4-bfb6-7b953ebe95c7"
      },
      "outputs": [
        {
          "output_type": "execute_result",
          "data": {
            "text/plain": [
              "((18382, 14), (10516, 14))"
            ]
          },
          "metadata": {},
          "execution_count": 47
        }
      ],
      "source": [
        "train_data.shape, test_data.shape"
      ]
    },
    {
      "cell_type": "code",
      "execution_count": 48,
      "metadata": {
        "colab": {
          "base_uri": "https://localhost:8080/"
        },
        "id": "YoRx_B0y76LC",
        "outputId": "bba8182a-1330-4e8c-9633-1985c4fdb817"
      },
      "outputs": [
        {
          "output_type": "execute_result",
          "data": {
            "text/plain": [
              "t_dat                 0\n",
              "customer_id           0\n",
              "article_id            0\n",
              "price                 0\n",
              "product_group_name    0\n",
              "colour_group_name     0\n",
              "section_name          0\n",
              "is_popular            0\n",
              "nArticles             0\n",
              "nDays                 0\n",
              "nPurchases            0\n",
              "nSect                 0\n",
              "age_interval          0\n",
              "label                 0\n",
              "dtype: int64"
            ]
          },
          "metadata": {},
          "execution_count": 48
        }
      ],
      "source": [
        "test_data.isnull().sum()"
      ]
    },
    {
      "cell_type": "code",
      "execution_count": 49,
      "metadata": {
        "colab": {
          "base_uri": "https://localhost:8080/"
        },
        "id": "45SMIDBh76LC",
        "outputId": "ab329189-32c4-4eae-c889-5b9eab105762"
      },
      "outputs": [
        {
          "output_type": "stream",
          "name": "stdout",
          "text": [
            "train data labels  0    11014\n",
            "1     7368\n",
            "Name: label, dtype: int64\n",
            "test data labels  0    6420\n",
            "1    4096\n",
            "Name: label, dtype: int64\n"
          ]
        }
      ],
      "source": [
        "print(f'train data labels  {train_data.label.value_counts()}')\n",
        "print(f'test data labels  {test_data.label.value_counts()}')\n"
      ]
    },
    {
      "cell_type": "code",
      "execution_count": 50,
      "metadata": {
        "id": "NgmqewKy76LD"
      },
      "outputs": [],
      "source": [
        "from  sklearn.preprocessing import StandardScaler\n",
        "\n",
        "def normalize(subset, test_mode=False, scaler=None):\n",
        "    '''\n",
        "    subset = dataframe containg all the data\n",
        "    returns = scaled data for all the int and float colmuns along with the\n",
        "             non numeric data\n",
        "    filter:\n",
        "         scaler type:\n",
        "         1. MinMax Scaler : 'minmax'\n",
        "         2. Standard Scaler : 'standard'\n",
        "         3. Robust Scaler : 'robust'\n",
        "    '''\n",
        " \n",
        "    continious_columns = subset.select_dtypes(include=['float32','float64']).columns\n",
        "    categorical_columns = subset.select_dtypes(include=['object']).columns\n",
        "    numeric_columns = subset.select_dtypes(include=['int64','int32']).columns\n",
        "    non_numeric_columns = subset.select_dtypes(exclude=['float32','float64','int64','int32','object']).columns\n",
        "    if not test_mode:\n",
        "        scaler = StandardScaler()\n",
        "        scaler.fit(subset[continious_columns])\n",
        "    scaled_data = scaler.transform(subset[continious_columns])\n",
        "    scaled_data = pd.DataFrame(scaled_data, columns=continious_columns)\n",
        "    scaled_data = pd.concat([scaled_data, subset[categorical_columns], subset[numeric_columns]], axis=1)\n",
        "    scaled_data = pd.concat([scaled_data, subset[non_numeric_columns]], axis=1)\n",
        "    return scaled_data, scaler"
      ]
    },
    {
      "cell_type": "code",
      "execution_count": 51,
      "metadata": {
        "id": "F0ECOEN076LD"
      },
      "outputs": [],
      "source": [
        "train_data_scaled, scaler = normalize(train_data) # normalize train data\n",
        "test_data_scaled, _ = normalize(test_data, test_mode=True, scaler=scaler) # normalize test data with the same scaler"
      ]
    },
    {
      "cell_type": "code",
      "execution_count": 52,
      "metadata": {
        "colab": {
          "base_uri": "https://localhost:8080/",
          "height": 246
        },
        "id": "-SEpbKHO76LD",
        "outputId": "d9852b71-7b6e-4dbf-b0bb-fdb5c10c796e"
      },
      "outputs": [
        {
          "output_type": "execute_result",
          "data": {
            "text/plain": [
              "      price  is_popular  nArticles     nDays  nPurchases     nSect  \\\n",
              "0 -0.810391    1.585576   1.004353 -0.906493     0.94648  0.271868   \n",
              "1 -0.605451    1.585576   1.004353 -0.906493     0.94648  0.271868   \n",
              "\n",
              "                 t_dat                                        customer_id  \\\n",
              "0  2020-06-24 00:00:00  00c571917952c5c99ffb38e7f75b2e91a6b179591cd030...   \n",
              "1  2020-06-24 00:00:00  00c571917952c5c99ffb38e7f75b2e91a6b179591cd030...   \n",
              "\n",
              "   product_group_name colour_group_name            section_name age_interval  \\\n",
              "0  Garment Upper body             White          Divided Basics  Working Age   \n",
              "1  Garment Upper body             Black  Womens Everyday Basics  Working Age   \n",
              "\n",
              "   article_id  label  \n",
              "0   678342028      1  \n",
              "1   863937010      1  "
            ],
            "text/html": [
              "\n",
              "  <div id=\"df-1e118207-9c64-42b7-a19a-00961b8a5d2f\">\n",
              "    <div class=\"colab-df-container\">\n",
              "      <div>\n",
              "<style scoped>\n",
              "    .dataframe tbody tr th:only-of-type {\n",
              "        vertical-align: middle;\n",
              "    }\n",
              "\n",
              "    .dataframe tbody tr th {\n",
              "        vertical-align: top;\n",
              "    }\n",
              "\n",
              "    .dataframe thead th {\n",
              "        text-align: right;\n",
              "    }\n",
              "</style>\n",
              "<table border=\"1\" class=\"dataframe\">\n",
              "  <thead>\n",
              "    <tr style=\"text-align: right;\">\n",
              "      <th></th>\n",
              "      <th>price</th>\n",
              "      <th>is_popular</th>\n",
              "      <th>nArticles</th>\n",
              "      <th>nDays</th>\n",
              "      <th>nPurchases</th>\n",
              "      <th>nSect</th>\n",
              "      <th>t_dat</th>\n",
              "      <th>customer_id</th>\n",
              "      <th>product_group_name</th>\n",
              "      <th>colour_group_name</th>\n",
              "      <th>section_name</th>\n",
              "      <th>age_interval</th>\n",
              "      <th>article_id</th>\n",
              "      <th>label</th>\n",
              "    </tr>\n",
              "  </thead>\n",
              "  <tbody>\n",
              "    <tr>\n",
              "      <th>0</th>\n",
              "      <td>-0.810391</td>\n",
              "      <td>1.585576</td>\n",
              "      <td>1.004353</td>\n",
              "      <td>-0.906493</td>\n",
              "      <td>0.94648</td>\n",
              "      <td>0.271868</td>\n",
              "      <td>2020-06-24 00:00:00</td>\n",
              "      <td>00c571917952c5c99ffb38e7f75b2e91a6b179591cd030...</td>\n",
              "      <td>Garment Upper body</td>\n",
              "      <td>White</td>\n",
              "      <td>Divided Basics</td>\n",
              "      <td>Working Age</td>\n",
              "      <td>678342028</td>\n",
              "      <td>1</td>\n",
              "    </tr>\n",
              "    <tr>\n",
              "      <th>1</th>\n",
              "      <td>-0.605451</td>\n",
              "      <td>1.585576</td>\n",
              "      <td>1.004353</td>\n",
              "      <td>-0.906493</td>\n",
              "      <td>0.94648</td>\n",
              "      <td>0.271868</td>\n",
              "      <td>2020-06-24 00:00:00</td>\n",
              "      <td>00c571917952c5c99ffb38e7f75b2e91a6b179591cd030...</td>\n",
              "      <td>Garment Upper body</td>\n",
              "      <td>Black</td>\n",
              "      <td>Womens Everyday Basics</td>\n",
              "      <td>Working Age</td>\n",
              "      <td>863937010</td>\n",
              "      <td>1</td>\n",
              "    </tr>\n",
              "  </tbody>\n",
              "</table>\n",
              "</div>\n",
              "      <button class=\"colab-df-convert\" onclick=\"convertToInteractive('df-1e118207-9c64-42b7-a19a-00961b8a5d2f')\"\n",
              "              title=\"Convert this dataframe to an interactive table.\"\n",
              "              style=\"display:none;\">\n",
              "        \n",
              "  <svg xmlns=\"http://www.w3.org/2000/svg\" height=\"24px\"viewBox=\"0 0 24 24\"\n",
              "       width=\"24px\">\n",
              "    <path d=\"M0 0h24v24H0V0z\" fill=\"none\"/>\n",
              "    <path d=\"M18.56 5.44l.94 2.06.94-2.06 2.06-.94-2.06-.94-.94-2.06-.94 2.06-2.06.94zm-11 1L8.5 8.5l.94-2.06 2.06-.94-2.06-.94L8.5 2.5l-.94 2.06-2.06.94zm10 10l.94 2.06.94-2.06 2.06-.94-2.06-.94-.94-2.06-.94 2.06-2.06.94z\"/><path d=\"M17.41 7.96l-1.37-1.37c-.4-.4-.92-.59-1.43-.59-.52 0-1.04.2-1.43.59L10.3 9.45l-7.72 7.72c-.78.78-.78 2.05 0 2.83L4 21.41c.39.39.9.59 1.41.59.51 0 1.02-.2 1.41-.59l7.78-7.78 2.81-2.81c.8-.78.8-2.07 0-2.86zM5.41 20L4 18.59l7.72-7.72 1.47 1.35L5.41 20z\"/>\n",
              "  </svg>\n",
              "      </button>\n",
              "      \n",
              "  <style>\n",
              "    .colab-df-container {\n",
              "      display:flex;\n",
              "      flex-wrap:wrap;\n",
              "      gap: 12px;\n",
              "    }\n",
              "\n",
              "    .colab-df-convert {\n",
              "      background-color: #E8F0FE;\n",
              "      border: none;\n",
              "      border-radius: 50%;\n",
              "      cursor: pointer;\n",
              "      display: none;\n",
              "      fill: #1967D2;\n",
              "      height: 32px;\n",
              "      padding: 0 0 0 0;\n",
              "      width: 32px;\n",
              "    }\n",
              "\n",
              "    .colab-df-convert:hover {\n",
              "      background-color: #E2EBFA;\n",
              "      box-shadow: 0px 1px 2px rgba(60, 64, 67, 0.3), 0px 1px 3px 1px rgba(60, 64, 67, 0.15);\n",
              "      fill: #174EA6;\n",
              "    }\n",
              "\n",
              "    [theme=dark] .colab-df-convert {\n",
              "      background-color: #3B4455;\n",
              "      fill: #D2E3FC;\n",
              "    }\n",
              "\n",
              "    [theme=dark] .colab-df-convert:hover {\n",
              "      background-color: #434B5C;\n",
              "      box-shadow: 0px 1px 3px 1px rgba(0, 0, 0, 0.15);\n",
              "      filter: drop-shadow(0px 1px 2px rgba(0, 0, 0, 0.3));\n",
              "      fill: #FFFFFF;\n",
              "    }\n",
              "  </style>\n",
              "\n",
              "      <script>\n",
              "        const buttonEl =\n",
              "          document.querySelector('#df-1e118207-9c64-42b7-a19a-00961b8a5d2f button.colab-df-convert');\n",
              "        buttonEl.style.display =\n",
              "          google.colab.kernel.accessAllowed ? 'block' : 'none';\n",
              "\n",
              "        async function convertToInteractive(key) {\n",
              "          const element = document.querySelector('#df-1e118207-9c64-42b7-a19a-00961b8a5d2f');\n",
              "          const dataTable =\n",
              "            await google.colab.kernel.invokeFunction('convertToInteractive',\n",
              "                                                     [key], {});\n",
              "          if (!dataTable) return;\n",
              "\n",
              "          const docLinkHtml = 'Like what you see? Visit the ' +\n",
              "            '<a target=\"_blank\" href=https://colab.research.google.com/notebooks/data_table.ipynb>data table notebook</a>'\n",
              "            + ' to learn more about interactive tables.';\n",
              "          element.innerHTML = '';\n",
              "          dataTable['output_type'] = 'display_data';\n",
              "          await google.colab.output.renderOutput(dataTable, element);\n",
              "          const docLink = document.createElement('div');\n",
              "          docLink.innerHTML = docLinkHtml;\n",
              "          element.appendChild(docLink);\n",
              "        }\n",
              "      </script>\n",
              "    </div>\n",
              "  </div>\n",
              "  "
            ]
          },
          "metadata": {},
          "execution_count": 52
        }
      ],
      "source": [
        "train_data_scaled.head(2)"
      ]
    },
    {
      "cell_type": "code",
      "execution_count": 53,
      "metadata": {
        "colab": {
          "base_uri": "https://localhost:8080/",
          "height": 246
        },
        "id": "LHBWDJFW76LD",
        "outputId": "7a052cb2-645c-4d38-d545-123e875cba17"
      },
      "outputs": [
        {
          "output_type": "execute_result",
          "data": {
            "text/plain": [
              "      price  is_popular  nArticles     nDays  nPurchases     nSect  \\\n",
              "0 -0.104873   -0.630686  -0.364076 -0.205359   -0.383129  0.271868   \n",
              "1  0.482251   -0.630686  -0.364076 -0.205359   -0.383129  0.271868   \n",
              "\n",
              "                 t_dat                                        customer_id  \\\n",
              "0  2020-09-08 00:00:00  05e0a597465504e1e73bef0b9253cdc6129c8299cb245d...   \n",
              "1  2020-09-08 00:00:00  05e0a597465504e1e73bef0b9253cdc6129c8299cb245d...   \n",
              "\n",
              "   product_group_name colour_group_name         section_name age_interval  \\\n",
              "0  Garment Upper body             Beige     Womens Tailoring   Middle Age   \n",
              "1  Garment Upper body            Yellow  Special Collections   Middle Age   \n",
              "\n",
              "   article_id  label  \n",
              "0   762846027      1  \n",
              "1   797608001      1  "
            ],
            "text/html": [
              "\n",
              "  <div id=\"df-1c2776f9-0f1d-4e75-9ba0-1f01dad9883f\">\n",
              "    <div class=\"colab-df-container\">\n",
              "      <div>\n",
              "<style scoped>\n",
              "    .dataframe tbody tr th:only-of-type {\n",
              "        vertical-align: middle;\n",
              "    }\n",
              "\n",
              "    .dataframe tbody tr th {\n",
              "        vertical-align: top;\n",
              "    }\n",
              "\n",
              "    .dataframe thead th {\n",
              "        text-align: right;\n",
              "    }\n",
              "</style>\n",
              "<table border=\"1\" class=\"dataframe\">\n",
              "  <thead>\n",
              "    <tr style=\"text-align: right;\">\n",
              "      <th></th>\n",
              "      <th>price</th>\n",
              "      <th>is_popular</th>\n",
              "      <th>nArticles</th>\n",
              "      <th>nDays</th>\n",
              "      <th>nPurchases</th>\n",
              "      <th>nSect</th>\n",
              "      <th>t_dat</th>\n",
              "      <th>customer_id</th>\n",
              "      <th>product_group_name</th>\n",
              "      <th>colour_group_name</th>\n",
              "      <th>section_name</th>\n",
              "      <th>age_interval</th>\n",
              "      <th>article_id</th>\n",
              "      <th>label</th>\n",
              "    </tr>\n",
              "  </thead>\n",
              "  <tbody>\n",
              "    <tr>\n",
              "      <th>0</th>\n",
              "      <td>-0.104873</td>\n",
              "      <td>-0.630686</td>\n",
              "      <td>-0.364076</td>\n",
              "      <td>-0.205359</td>\n",
              "      <td>-0.383129</td>\n",
              "      <td>0.271868</td>\n",
              "      <td>2020-09-08 00:00:00</td>\n",
              "      <td>05e0a597465504e1e73bef0b9253cdc6129c8299cb245d...</td>\n",
              "      <td>Garment Upper body</td>\n",
              "      <td>Beige</td>\n",
              "      <td>Womens Tailoring</td>\n",
              "      <td>Middle Age</td>\n",
              "      <td>762846027</td>\n",
              "      <td>1</td>\n",
              "    </tr>\n",
              "    <tr>\n",
              "      <th>1</th>\n",
              "      <td>0.482251</td>\n",
              "      <td>-0.630686</td>\n",
              "      <td>-0.364076</td>\n",
              "      <td>-0.205359</td>\n",
              "      <td>-0.383129</td>\n",
              "      <td>0.271868</td>\n",
              "      <td>2020-09-08 00:00:00</td>\n",
              "      <td>05e0a597465504e1e73bef0b9253cdc6129c8299cb245d...</td>\n",
              "      <td>Garment Upper body</td>\n",
              "      <td>Yellow</td>\n",
              "      <td>Special Collections</td>\n",
              "      <td>Middle Age</td>\n",
              "      <td>797608001</td>\n",
              "      <td>1</td>\n",
              "    </tr>\n",
              "  </tbody>\n",
              "</table>\n",
              "</div>\n",
              "      <button class=\"colab-df-convert\" onclick=\"convertToInteractive('df-1c2776f9-0f1d-4e75-9ba0-1f01dad9883f')\"\n",
              "              title=\"Convert this dataframe to an interactive table.\"\n",
              "              style=\"display:none;\">\n",
              "        \n",
              "  <svg xmlns=\"http://www.w3.org/2000/svg\" height=\"24px\"viewBox=\"0 0 24 24\"\n",
              "       width=\"24px\">\n",
              "    <path d=\"M0 0h24v24H0V0z\" fill=\"none\"/>\n",
              "    <path d=\"M18.56 5.44l.94 2.06.94-2.06 2.06-.94-2.06-.94-.94-2.06-.94 2.06-2.06.94zm-11 1L8.5 8.5l.94-2.06 2.06-.94-2.06-.94L8.5 2.5l-.94 2.06-2.06.94zm10 10l.94 2.06.94-2.06 2.06-.94-2.06-.94-.94-2.06-.94 2.06-2.06.94z\"/><path d=\"M17.41 7.96l-1.37-1.37c-.4-.4-.92-.59-1.43-.59-.52 0-1.04.2-1.43.59L10.3 9.45l-7.72 7.72c-.78.78-.78 2.05 0 2.83L4 21.41c.39.39.9.59 1.41.59.51 0 1.02-.2 1.41-.59l7.78-7.78 2.81-2.81c.8-.78.8-2.07 0-2.86zM5.41 20L4 18.59l7.72-7.72 1.47 1.35L5.41 20z\"/>\n",
              "  </svg>\n",
              "      </button>\n",
              "      \n",
              "  <style>\n",
              "    .colab-df-container {\n",
              "      display:flex;\n",
              "      flex-wrap:wrap;\n",
              "      gap: 12px;\n",
              "    }\n",
              "\n",
              "    .colab-df-convert {\n",
              "      background-color: #E8F0FE;\n",
              "      border: none;\n",
              "      border-radius: 50%;\n",
              "      cursor: pointer;\n",
              "      display: none;\n",
              "      fill: #1967D2;\n",
              "      height: 32px;\n",
              "      padding: 0 0 0 0;\n",
              "      width: 32px;\n",
              "    }\n",
              "\n",
              "    .colab-df-convert:hover {\n",
              "      background-color: #E2EBFA;\n",
              "      box-shadow: 0px 1px 2px rgba(60, 64, 67, 0.3), 0px 1px 3px 1px rgba(60, 64, 67, 0.15);\n",
              "      fill: #174EA6;\n",
              "    }\n",
              "\n",
              "    [theme=dark] .colab-df-convert {\n",
              "      background-color: #3B4455;\n",
              "      fill: #D2E3FC;\n",
              "    }\n",
              "\n",
              "    [theme=dark] .colab-df-convert:hover {\n",
              "      background-color: #434B5C;\n",
              "      box-shadow: 0px 1px 3px 1px rgba(0, 0, 0, 0.15);\n",
              "      filter: drop-shadow(0px 1px 2px rgba(0, 0, 0, 0.3));\n",
              "      fill: #FFFFFF;\n",
              "    }\n",
              "  </style>\n",
              "\n",
              "      <script>\n",
              "        const buttonEl =\n",
              "          document.querySelector('#df-1c2776f9-0f1d-4e75-9ba0-1f01dad9883f button.colab-df-convert');\n",
              "        buttonEl.style.display =\n",
              "          google.colab.kernel.accessAllowed ? 'block' : 'none';\n",
              "\n",
              "        async function convertToInteractive(key) {\n",
              "          const element = document.querySelector('#df-1c2776f9-0f1d-4e75-9ba0-1f01dad9883f');\n",
              "          const dataTable =\n",
              "            await google.colab.kernel.invokeFunction('convertToInteractive',\n",
              "                                                     [key], {});\n",
              "          if (!dataTable) return;\n",
              "\n",
              "          const docLinkHtml = 'Like what you see? Visit the ' +\n",
              "            '<a target=\"_blank\" href=https://colab.research.google.com/notebooks/data_table.ipynb>data table notebook</a>'\n",
              "            + ' to learn more about interactive tables.';\n",
              "          element.innerHTML = '';\n",
              "          dataTable['output_type'] = 'display_data';\n",
              "          await google.colab.output.renderOutput(dataTable, element);\n",
              "          const docLink = document.createElement('div');\n",
              "          docLink.innerHTML = docLinkHtml;\n",
              "          element.appendChild(docLink);\n",
              "        }\n",
              "      </script>\n",
              "    </div>\n",
              "  </div>\n",
              "  "
            ]
          },
          "metadata": {},
          "execution_count": 53
        }
      ],
      "source": [
        "test_data_scaled.head(2)"
      ]
    },
    {
      "cell_type": "markdown",
      "metadata": {
        "id": "RVMzOez376LD"
      },
      "source": [
        "## Single Task Model"
      ]
    },
    {
      "cell_type": "code",
      "execution_count": 54,
      "metadata": {
        "id": "r6Bk-1LC76LE"
      },
      "outputs": [],
      "source": [
        "\n",
        "# Declaring Numerical and Categorical Columns\n",
        "numeric_features =['price', 'nArticles', 'nDays', 'nPurchases', 'nSect','is_popular'] \n",
        "categorical_features_product  = ['product_group_name'] \n",
        "categorical_features_color = ['colour_group_name']\n",
        "categorical_features_section = ['section_name']\n",
        "categorical_features_age = ['age_interval']\n",
        "categorical_article_id = ['article_id']\n",
        "categorical_customer_id = ['customer_id']\n",
        "\n",
        "\n",
        "# Converting Numeric Columns to array and Categorical Columns to Strig\n",
        "numeric_data = train_data_scaled[numeric_features].values # convert to numpy array\n",
        "categorical_data = train_data_scaled[categorical_features_product].astype('str') \n",
        "categorical_data_color = train_data_scaled[categorical_features_color].astype('str') \n",
        "categorical_data_section = train_data_scaled[categorical_features_section].astype('str')\n",
        "categorical_data_age = train_data_scaled[categorical_features_age].astype('str')\n",
        "categorical_data_article_id = train_data_scaled[categorical_article_id].astype('str')\n",
        "categorical_data_customer_id = train_data_scaled[categorical_customer_id].astype('str')\n",
        "target = train_data_scaled['label'].values\n",
        "\n",
        "#numeric inputs\n",
        "input2numeric_layer = tf.keras.Input((len(numeric_features)), name='numeric_input') # input layer\n",
        "numeric_layer = tf.keras.layers.Dense(100, activation='relu')(input2numeric_layer) # hidden layer\n",
        "numeric_layer = tf.keras.layers.Dense(100, activation='relu')(numeric_layer) # hidden layer\n",
        "\n",
        "unique_article_ids = categorical_data_article_id['article_id'].unique().astype(str)\n",
        "input2articleid_layer = tf.keras.Input((1,), name='article_id', dtype=tf.string) \n",
        "categrorical2articleIdlookup = tf.keras.layers.StringLookup(vocabulary=unique_article_ids, mask_token=None)(input2articleid_layer) # lookup layer\n",
        "numeric_article_id =  tf.keras.layers.Embedding(len(unique_article_ids) + 1, 64)(categrorical2articleIdlookup) \n",
        "numeric_article_id = tf.keras.layers.Dense(100)(numeric_article_id)\n",
        "numeric_article_id = tf.keras.layers.Lambda(lambda x: tf.squeeze(x, 1))(numeric_article_id)\n",
        "\n",
        "\n",
        "\n",
        "\n",
        "#categorical features creating one hot encoding for each categorical feature using String Lookup\n",
        "unique_product_names = categorical_data['product_group_name'].unique().astype(str) # get unique product names\n",
        "input2categorical_layer = tf.keras.Input((1,), name='categorical_input', dtype=tf.string) # input layer\n",
        "categrorical2Stringlookup = tf.keras.layers.StringLookup(vocabulary=unique_product_names, output_mode='one_hot')(input2categorical_layer) # lookup layer\n",
        "\n",
        "uniquee_color_names = categorical_data_color['colour_group_name'].unique().astype(str) # get unique color names\n",
        "input2categorical_layer_color = tf.keras.Input((1,), name='categorical_input_color', dtype=tf.string) # input layer\n",
        "categrorical2Stringlookup_color = tf.keras.layers.StringLookup(vocabulary=uniquee_color_names, output_mode='one_hot')(input2categorical_layer_color) # lookup layer\n",
        "\n",
        "unique_section_names = categorical_data_section['section_name'].unique().astype(str) # get unique section names\n",
        "input2categorical_layer_section = tf.keras.Input((1,), name='categorical_input_section', dtype=tf.string) # input layer\n",
        "categrorical2Stringlookup_section = tf.keras.layers.StringLookup(vocabulary=unique_section_names, output_mode='one_hot')(input2categorical_layer_section) # lookup layer\n",
        "\n",
        "unique_age_intervals = categorical_data_age['age_interval'].unique().astype(str) # get unique age intervals\n",
        "input2categorical_layer_age = tf.keras.Input((1,), name='categorical_input_age', dtype=tf.string) # input layer\n",
        "categrorical2Stringlookup_age = tf.keras.layers.StringLookup(vocabulary=unique_age_intervals, output_mode='one_hot')(input2categorical_layer_age) # lookup layer\n",
        "\n",
        "\n",
        "#concatenating the categorical and numeric layers\n",
        "\n",
        "concatenated_layer = tf.keras.layers.concatenate([numeric_article_id, numeric_layer, categrorical2Stringlookup, categrorical2Stringlookup_color, categrorical2Stringlookup_section,categrorical2Stringlookup_age ])\n",
        "#concatenated_layer = tf.keras.layers.concatenate([numeric_layer, categrorical2Stringlookup]) # concatenate layer\n",
        "#concatenated_layer = tf.keras.layers.concatenate([concatenated_layer, categrorical2Stringlookup_color]) # concatenate layer\n",
        "#concatenated_layer = tf.keras.layers.concatenate([concatenated_layer, categrorical2Stringlookup_section]) # concatenate layer\n",
        "#concatenated_layer = tf.keras.layers.concatenate([concatenated_layer, categrorical2Stringlookup_age]) # concatenate layer\n",
        "concatenated_layer2dense = tf.keras.layers.Dense(100, activation='relu')(concatenated_layer) # hidden layer\n",
        "concatenated_layer2dense = tf.keras.layers.Dense(10, activation='relu')(concatenated_layer2dense) # hidden layer\n",
        "concatenated_layer2output = tf.keras.layers.Dense(1, activation='sigmoid')(concatenated_layer2dense) # output layer\n",
        "\n",
        "\n",
        "\n"
      ]
    },
    {
      "cell_type": "code",
      "execution_count": 55,
      "metadata": {
        "id": "i4C1dBIt76LE"
      },
      "outputs": [],
      "source": [
        "cost_function = tf.keras.losses.BinaryCrossentropy(from_logits=False) # cost function\n",
        "optimizer = tf.keras.optimizers.Adam(learning_rate=0.001) # optimizer\n",
        "metric = tf.keras.metrics.BinaryAccuracy() # metric"
      ]
    },
    {
      "cell_type": "code",
      "execution_count": 56,
      "metadata": {
        "id": "Nxwx3-yt76LE"
      },
      "outputs": [],
      "source": [
        "model = tf.keras.Model(inputs=[input2articleid_layer,\n",
        "                               input2numeric_layer, \n",
        "                               input2categorical_layer,\n",
        "                               input2categorical_layer_color,\n",
        "                               input2categorical_layer_section,\n",
        "                               input2categorical_layer_age], outputs=concatenated_layer2output) # model"
      ]
    },
    {
      "cell_type": "code",
      "execution_count": 57,
      "metadata": {
        "colab": {
          "base_uri": "https://localhost:8080/"
        },
        "id": "JgDzf5VD76LF",
        "outputId": "d580e0b9-6d45-43ae-ff5a-53d52d5356fc"
      },
      "outputs": [
        {
          "output_type": "stream",
          "name": "stdout",
          "text": [
            "Model: \"model\"\n",
            "__________________________________________________________________________________________________\n",
            " Layer (type)                   Output Shape         Param #     Connected to                     \n",
            "==================================================================================================\n",
            " article_id (InputLayer)        [(None, 1)]          0           []                               \n",
            "                                                                                                  \n",
            " string_lookup (StringLookup)   (None, 1)            0           ['article_id[0][0]']             \n",
            "                                                                                                  \n",
            " embedding (Embedding)          (None, 1, 64)        311808      ['string_lookup[0][0]']          \n",
            "                                                                                                  \n",
            " numeric_input (InputLayer)     [(None, 6)]          0           []                               \n",
            "                                                                                                  \n",
            " dense_2 (Dense)                (None, 1, 100)       6500        ['embedding[0][0]']              \n",
            "                                                                                                  \n",
            " dense (Dense)                  (None, 100)          700         ['numeric_input[0][0]']          \n",
            "                                                                                                  \n",
            " categorical_input (InputLayer)  [(None, 1)]         0           []                               \n",
            "                                                                                                  \n",
            " categorical_input_color (Input  [(None, 1)]         0           []                               \n",
            " Layer)                                                                                           \n",
            "                                                                                                  \n",
            " categorical_input_section (Inp  [(None, 1)]         0           []                               \n",
            " utLayer)                                                                                         \n",
            "                                                                                                  \n",
            " categorical_input_age (InputLa  [(None, 1)]         0           []                               \n",
            " yer)                                                                                             \n",
            "                                                                                                  \n",
            " lambda (Lambda)                (None, 100)          0           ['dense_2[0][0]']                \n",
            "                                                                                                  \n",
            " dense_1 (Dense)                (None, 100)          10100       ['dense[0][0]']                  \n",
            "                                                                                                  \n",
            " string_lookup_1 (StringLookup)  (None, 13)          0           ['categorical_input[0][0]']      \n",
            "                                                                                                  \n",
            " string_lookup_2 (StringLookup)  (None, 49)          0           ['categorical_input_color[0][0]']\n",
            "                                                                                                  \n",
            " string_lookup_3 (StringLookup)  (None, 51)          0           ['categorical_input_section[0][0]\n",
            "                                                                 ']                               \n",
            "                                                                                                  \n",
            " string_lookup_4 (StringLookup)  (None, 5)           0           ['categorical_input_age[0][0]']  \n",
            "                                                                                                  \n",
            " concatenate (Concatenate)      (None, 318)          0           ['lambda[0][0]',                 \n",
            "                                                                  'dense_1[0][0]',                \n",
            "                                                                  'string_lookup_1[0][0]',        \n",
            "                                                                  'string_lookup_2[0][0]',        \n",
            "                                                                  'string_lookup_3[0][0]',        \n",
            "                                                                  'string_lookup_4[0][0]']        \n",
            "                                                                                                  \n",
            " dense_3 (Dense)                (None, 100)          31900       ['concatenate[0][0]']            \n",
            "                                                                                                  \n",
            " dense_4 (Dense)                (None, 10)           1010        ['dense_3[0][0]']                \n",
            "                                                                                                  \n",
            " dense_5 (Dense)                (None, 1)            11          ['dense_4[0][0]']                \n",
            "                                                                                                  \n",
            "==================================================================================================\n",
            "Total params: 362,029\n",
            "Trainable params: 362,029\n",
            "Non-trainable params: 0\n",
            "__________________________________________________________________________________________________\n"
          ]
        }
      ],
      "source": [
        "model.summary() # print model summary"
      ]
    },
    {
      "cell_type": "code",
      "execution_count": 58,
      "metadata": {
        "colab": {
          "base_uri": "https://localhost:8080/",
          "height": 764
        },
        "id": "bICPpS-ULAvV",
        "outputId": "ebd56612-dfe5-4028-879b-0d8cf4da9d83"
      },
      "outputs": [
        {
          "output_type": "execute_result",
          "data": {
            "image/png": "[encoded data removed]",
            "text/plain": [
              "<IPython.core.display.Image object>"
            ]
          },
          "metadata": {},
          "execution_count": 58
        }
      ],
      "source": [
        "tf.keras.utils.plot_model(\n",
        "    model,\n",
        "    to_file='model.png',\n",
        "    show_shapes=False,\n",
        "    show_dtype=False,\n",
        "    show_layer_names=True,\n",
        "    rankdir='TB',\n",
        "    expand_nested=False,\n",
        "    dpi=96,\n",
        "    layer_range=None,\n",
        "    show_layer_activations=False\n",
        ")"
      ]
    },
    {
      "cell_type": "code",
      "execution_count": 59,
      "metadata": {
        "id": "jJqLE4jq76LF"
      },
      "outputs": [],
      "source": [
        "model.compile(optimizer=optimizer, loss=cost_function, metrics=[metric]) # compile model"
      ]
    },
    {
      "cell_type": "code",
      "execution_count": 60,
      "metadata": {
        "colab": {
          "base_uri": "https://localhost:8080/"
        },
        "id": "MueK8Sn976LF",
        "outputId": "7f06c4b4-2673-45b7-d11a-0fc6fd514781"
      },
      "outputs": [
        {
          "output_type": "stream",
          "name": "stdout",
          "text": [
            "Epoch 1/8\n",
            "575/575 [==============================] - 6s 9ms/step - loss: 0.2574 - binary_accuracy: 0.9017\n",
            "Epoch 2/8\n",
            "575/575 [==============================] - 5s 8ms/step - loss: 0.1253 - binary_accuracy: 0.9576\n",
            "Epoch 3/8\n",
            "575/575 [==============================] - 5s 8ms/step - loss: 0.0944 - binary_accuracy: 0.9700\n",
            "Epoch 4/8\n",
            "575/575 [==============================] - 5s 8ms/step - loss: 0.0774 - binary_accuracy: 0.9731\n",
            "Epoch 5/8\n",
            "575/575 [==============================] - 5s 8ms/step - loss: 0.0617 - binary_accuracy: 0.9748\n",
            "Epoch 6/8\n",
            "575/575 [==============================] - 5s 8ms/step - loss: 0.0523 - binary_accuracy: 0.9776\n",
            "Epoch 7/8\n",
            "575/575 [==============================] - 5s 9ms/step - loss: 0.0454 - binary_accuracy: 0.9796\n",
            "Epoch 8/8\n",
            "575/575 [==============================] - 5s 8ms/step - loss: 0.0423 - binary_accuracy: 0.9816\n"
          ]
        },
        {
          "output_type": "execute_result",
          "data": {
            "text/plain": [
              "<keras.callbacks.History at 0x7f7981befc10>"
            ]
          },
          "metadata": {},
          "execution_count": 60
        }
      ],
      "source": [
        "model.fit(x=[categorical_data_article_id,\n",
        "             numeric_data, \n",
        "             categorical_data,categorical_data_color, \n",
        "             categorical_data_section, \n",
        "             categorical_data_age ], y=target, epochs=8) # train model"
      ]
    },
    {
      "cell_type": "code",
      "execution_count": 61,
      "metadata": {
        "colab": {
          "base_uri": "https://localhost:8080/"
        },
        "id": "HVGYOI9g76LF",
        "outputId": "68b8d9be-5223-419b-db54-c815fccfe8eb"
      },
      "outputs": [
        {
          "output_type": "stream",
          "name": "stdout",
          "text": [
            "329/329 [==============================] - 1s 2ms/step\n",
            "0.6667934575884367\n"
          ]
        },
        {
          "output_type": "execute_result",
          "data": {
            "text/plain": [
              "array([1, 1, 1, ..., 0, 1, 1])"
            ]
          },
          "metadata": {},
          "execution_count": 61
        }
      ],
      "source": [
        "def evaluate(df):\n",
        "    X0 = df['article_id'].astype(str)\n",
        "    X1 = np.asarray(df[numeric_features].values)\n",
        "    X2 = df['product_group_name'].astype(str)\n",
        "    X3 = df['colour_group_name'].astype(str)\n",
        "    X4 = df['section_name'].astype(str)\n",
        "    X5 = df['age_interval'].astype(str)\n",
        "    preds = model.predict([X0, X1, X2, X3, X4, X5])\n",
        "    preds = (preds>=0.5).astype(int).flatten()\n",
        "    print(sum(preds == df['label'].values)/len(preds))\n",
        "    return preds\n",
        "\n",
        "\n",
        "evaluate(test_data_scaled)"
      ]
    },
    {
      "cell_type": "code",
      "execution_count": 62,
      "metadata": {
        "colab": {
          "base_uri": "https://localhost:8080/"
        },
        "id": "kaIVscXt76LF",
        "outputId": "3f0cba83-0d11-432c-cb90-728b1f11c2a8"
      },
      "outputs": [
        {
          "output_type": "stream",
          "name": "stdout",
          "text": [
            "329/329 [==============================] - 1s 2ms/step\n",
            "0.6667934575884367\n"
          ]
        },
        {
          "output_type": "execute_result",
          "data": {
            "text/plain": [
              "array([5838, 4678])"
            ]
          },
          "metadata": {},
          "execution_count": 62
        }
      ],
      "source": [
        "np.bincount(evaluate(test_data_scaled))"
      ]
    },
    {
      "cell_type": "code",
      "execution_count": 63,
      "metadata": {
        "colab": {
          "base_uri": "https://localhost:8080/",
          "height": 350
        },
        "id": "hRU4xX_p76LG",
        "outputId": "8c4153f5-5b81-409b-b6b8-371998190502"
      },
      "outputs": [
        {
          "output_type": "stream",
          "name": "stdout",
          "text": [
            "329/329 [==============================] - 1s 2ms/step\n",
            "0.6667934575884367\n",
            "329/329 [==============================] - 1s 2ms/step\n",
            "0.6667934575884367\n"
          ]
        },
        {
          "output_type": "display_data",
          "data": {
            "text/plain": [
              "<Figure size 432x288 with 2 Axes>"
            ],
            "image/png": "[encoded data removed]"
          },
          "metadata": {
            "needs_background": "light"
          }
        }
      ],
      "source": [
        "from cProfile import label\n",
        "from sklearn.metrics import ConfusionMatrixDisplay, confusion_matrix, plot_confusion_matrix\n",
        "\n",
        "confusion_matrix(test_data_scaled['label'].values, evaluate(test_data_scaled))\n",
        "cm = confusion_matrix(test_data_scaled['label'].values, evaluate(test_data_scaled), labels=[0,1])\n",
        "disp = ConfusionMatrixDisplay(confusion_matrix=cm, display_labels=[0,1])\n",
        "disp.plot(values_format = '.0f')\n",
        "plt.grid(False)\n",
        "plt.show()"
      ]
    },
    {
      "cell_type": "markdown",
      "metadata": {
        "id": "2voN579y76LG"
      },
      "source": [
        "## Multi Task Model"
      ]
    },
    {
      "cell_type": "code",
      "execution_count": 64,
      "metadata": {
        "id": "cwaOTNRAptEt"
      },
      "outputs": [],
      "source": [
        "# Add the second label for multi-task learning (whether the user would purchase an article from that product_group_name)\n",
        "\n",
        "customer2productgroups = dict(train.groupby('customer_id')['product_group_name'].apply(lambda x: set(list(x))))\n",
        "\n",
        "def add_label2_to_trainDF(train_data_scaled, test_data_scaled):\n",
        "    \"\"\"\n",
        "    write code here to add a new column to trainDF\n",
        "    the new column would be named label2 and it represents the label for the task 2\n",
        "    \n",
        "    After this function has been run, it can be safely assumed that trainDF dataframe contains another column called \"label2\"\n",
        "    that describes the label for the second prediction task.\n",
        "    \"\"\"\n",
        "    liked_articles = pd.concat([train_data_scaled, test_data_scaled], axis=0)\n",
        "    liked_articles =liked_articles[liked_articles['label']==1]\n",
        "    \n",
        "    customer2productgroup = liked_articles.groupby('customer_id').product_group_name.apply(list).reset_index()\n",
        "    customer2productgroup.columns = ['customer_id', 'product_list']\n",
        "    customer2productgroup.head(2)\n",
        "\n",
        "    train_data_scaled= train_data_scaled.merge(customer2productgroup, on='customer_id', how='left')\n",
        "    train_data_scaled['product_category_label'] = train_data_scaled.apply(lambda x: 1 if x.product_group_name in x.product_list else 0, axis=1)\n",
        "\n",
        "    test_data_scaled = test_data_scaled.merge(customer2productgroup, on='customer_id', how='left')\n",
        "    test_data_scaled['product_category_label'] = test_data_scaled.apply(lambda x: 1 if x.product_group_name in x.product_list else 0, axis=1)\n",
        "\n",
        "    return train_data_scaled, test_data_scaled\n",
        "\n"
      ]
    },
    {
      "cell_type": "code",
      "execution_count": 65,
      "metadata": {
        "id": "fLZSAxNgpvQS"
      },
      "outputs": [],
      "source": [
        "train_data_scaled, test_data_scaled = add_label2_to_trainDF(train_data_scaled, test_data_scaled)"
      ]
    },
    {
      "cell_type": "code",
      "execution_count": 66,
      "metadata": {
        "colab": {
          "base_uri": "https://localhost:8080/",
          "height": 280
        },
        "id": "JudFJzk8p7Sk",
        "outputId": "5b822919-8024-4eb2-b38f-cdbafe1089bd"
      },
      "outputs": [
        {
          "output_type": "execute_result",
          "data": {
            "text/plain": [
              "      price  is_popular  nArticles     nDays  nPurchases     nSect  \\\n",
              "0 -0.810391    1.585576   1.004353 -0.906493     0.94648  0.271868   \n",
              "1 -0.605451    1.585576   1.004353 -0.906493     0.94648  0.271868   \n",
              "\n",
              "                 t_dat                                        customer_id  \\\n",
              "0  2020-06-24 00:00:00  00c571917952c5c99ffb38e7f75b2e91a6b179591cd030...   \n",
              "1  2020-06-24 00:00:00  00c571917952c5c99ffb38e7f75b2e91a6b179591cd030...   \n",
              "\n",
              "   product_group_name colour_group_name            section_name age_interval  \\\n",
              "0  Garment Upper body             White          Divided Basics  Working Age   \n",
              "1  Garment Upper body             Black  Womens Everyday Basics  Working Age   \n",
              "\n",
              "   article_id  label                                       product_list  \\\n",
              "0   678342028      1  [Garment Upper body, Garment Upper body, Garme...   \n",
              "1   863937010      1  [Garment Upper body, Garment Upper body, Garme...   \n",
              "\n",
              "   product_category_label  \n",
              "0                       1  \n",
              "1                       1  "
            ],
            "text/html": [
              "\n",
              "  <div id=\"df-ba7e6d7e-9116-4f05-9a86-292525877358\">\n",
              "    <div class=\"colab-df-container\">\n",
              "      <div>\n",
              "<style scoped>\n",
              "    .dataframe tbody tr th:only-of-type {\n",
              "        vertical-align: middle;\n",
              "    }\n",
              "\n",
              "    .dataframe tbody tr th {\n",
              "        vertical-align: top;\n",
              "    }\n",
              "\n",
              "    .dataframe thead th {\n",
              "        text-align: right;\n",
              "    }\n",
              "</style>\n",
              "<table border=\"1\" class=\"dataframe\">\n",
              "  <thead>\n",
              "    <tr style=\"text-align: right;\">\n",
              "      <th></th>\n",
              "      <th>price</th>\n",
              "      <th>is_popular</th>\n",
              "      <th>nArticles</th>\n",
              "      <th>nDays</th>\n",
              "      <th>nPurchases</th>\n",
              "      <th>nSect</th>\n",
              "      <th>t_dat</th>\n",
              "      <th>customer_id</th>\n",
              "      <th>product_group_name</th>\n",
              "      <th>colour_group_name</th>\n",
              "      <th>section_name</th>\n",
              "      <th>age_interval</th>\n",
              "      <th>article_id</th>\n",
              "      <th>label</th>\n",
              "      <th>product_list</th>\n",
              "      <th>product_category_label</th>\n",
              "    </tr>\n",
              "  </thead>\n",
              "  <tbody>\n",
              "    <tr>\n",
              "      <th>0</th>\n",
              "      <td>-0.810391</td>\n",
              "      <td>1.585576</td>\n",
              "      <td>1.004353</td>\n",
              "      <td>-0.906493</td>\n",
              "      <td>0.94648</td>\n",
              "      <td>0.271868</td>\n",
              "      <td>2020-06-24 00:00:00</td>\n",
              "      <td>00c571917952c5c99ffb38e7f75b2e91a6b179591cd030...</td>\n",
              "      <td>Garment Upper body</td>\n",
              "      <td>White</td>\n",
              "      <td>Divided Basics</td>\n",
              "      <td>Working Age</td>\n",
              "      <td>678342028</td>\n",
              "      <td>1</td>\n",
              "      <td>[Garment Upper body, Garment Upper body, Garme...</td>\n",
              "      <td>1</td>\n",
              "    </tr>\n",
              "    <tr>\n",
              "      <th>1</th>\n",
              "      <td>-0.605451</td>\n",
              "      <td>1.585576</td>\n",
              "      <td>1.004353</td>\n",
              "      <td>-0.906493</td>\n",
              "      <td>0.94648</td>\n",
              "      <td>0.271868</td>\n",
              "      <td>2020-06-24 00:00:00</td>\n",
              "      <td>00c571917952c5c99ffb38e7f75b2e91a6b179591cd030...</td>\n",
              "      <td>Garment Upper body</td>\n",
              "      <td>Black</td>\n",
              "      <td>Womens Everyday Basics</td>\n",
              "      <td>Working Age</td>\n",
              "      <td>863937010</td>\n",
              "      <td>1</td>\n",
              "      <td>[Garment Upper body, Garment Upper body, Garme...</td>\n",
              "      <td>1</td>\n",
              "    </tr>\n",
              "  </tbody>\n",
              "</table>\n",
              "</div>\n",
              "      <button class=\"colab-df-convert\" onclick=\"convertToInteractive('df-ba7e6d7e-9116-4f05-9a86-292525877358')\"\n",
              "              title=\"Convert this dataframe to an interactive table.\"\n",
              "              style=\"display:none;\">\n",
              "        \n",
              "  <svg xmlns=\"http://www.w3.org/2000/svg\" height=\"24px\"viewBox=\"0 0 24 24\"\n",
              "       width=\"24px\">\n",
              "    <path d=\"M0 0h24v24H0V0z\" fill=\"none\"/>\n",
              "    <path d=\"M18.56 5.44l.94 2.06.94-2.06 2.06-.94-2.06-.94-.94-2.06-.94 2.06-2.06.94zm-11 1L8.5 8.5l.94-2.06 2.06-.94-2.06-.94L8.5 2.5l-.94 2.06-2.06.94zm10 10l.94 2.06.94-2.06 2.06-.94-2.06-.94-.94-2.06-.94 2.06-2.06.94z\"/><path d=\"M17.41 7.96l-1.37-1.37c-.4-.4-.92-.59-1.43-.59-.52 0-1.04.2-1.43.59L10.3 9.45l-7.72 7.72c-.78.78-.78 2.05 0 2.83L4 21.41c.39.39.9.59 1.41.59.51 0 1.02-.2 1.41-.59l7.78-7.78 2.81-2.81c.8-.78.8-2.07 0-2.86zM5.41 20L4 18.59l7.72-7.72 1.47 1.35L5.41 20z\"/>\n",
              "  </svg>\n",
              "      </button>\n",
              "      \n",
              "  <style>\n",
              "    .colab-df-container {\n",
              "      display:flex;\n",
              "      flex-wrap:wrap;\n",
              "      gap: 12px;\n",
              "    }\n",
              "\n",
              "    .colab-df-convert {\n",
              "      background-color: #E8F0FE;\n",
              "      border: none;\n",
              "      border-radius: 50%;\n",
              "      cursor: pointer;\n",
              "      display: none;\n",
              "      fill: #1967D2;\n",
              "      height: 32px;\n",
              "      padding: 0 0 0 0;\n",
              "      width: 32px;\n",
              "    }\n",
              "\n",
              "    .colab-df-convert:hover {\n",
              "      background-color: #E2EBFA;\n",
              "      box-shadow: 0px 1px 2px rgba(60, 64, 67, 0.3), 0px 1px 3px 1px rgba(60, 64, 67, 0.15);\n",
              "      fill: #174EA6;\n",
              "    }\n",
              "\n",
              "    [theme=dark] .colab-df-convert {\n",
              "      background-color: #3B4455;\n",
              "      fill: #D2E3FC;\n",
              "    }\n",
              "\n",
              "    [theme=dark] .colab-df-convert:hover {\n",
              "      background-color: #434B5C;\n",
              "      box-shadow: 0px 1px 3px 1px rgba(0, 0, 0, 0.15);\n",
              "      filter: drop-shadow(0px 1px 2px rgba(0, 0, 0, 0.3));\n",
              "      fill: #FFFFFF;\n",
              "    }\n",
              "  </style>\n",
              "\n",
              "      <script>\n",
              "        const buttonEl =\n",
              "          document.querySelector('#df-ba7e6d7e-9116-4f05-9a86-292525877358 button.colab-df-convert');\n",
              "        buttonEl.style.display =\n",
              "          google.colab.kernel.accessAllowed ? 'block' : 'none';\n",
              "\n",
              "        async function convertToInteractive(key) {\n",
              "          const element = document.querySelector('#df-ba7e6d7e-9116-4f05-9a86-292525877358');\n",
              "          const dataTable =\n",
              "            await google.colab.kernel.invokeFunction('convertToInteractive',\n",
              "                                                     [key], {});\n",
              "          if (!dataTable) return;\n",
              "\n",
              "          const docLinkHtml = 'Like what you see? Visit the ' +\n",
              "            '<a target=\"_blank\" href=https://colab.research.google.com/notebooks/data_table.ipynb>data table notebook</a>'\n",
              "            + ' to learn more about interactive tables.';\n",
              "          element.innerHTML = '';\n",
              "          dataTable['output_type'] = 'display_data';\n",
              "          await google.colab.output.renderOutput(dataTable, element);\n",
              "          const docLink = document.createElement('div');\n",
              "          docLink.innerHTML = docLinkHtml;\n",
              "          element.appendChild(docLink);\n",
              "        }\n",
              "      </script>\n",
              "    </div>\n",
              "  </div>\n",
              "  "
            ]
          },
          "metadata": {},
          "execution_count": 66
        }
      ],
      "source": [
        "train_data_scaled.head(2)"
      ]
    },
    {
      "cell_type": "code",
      "execution_count": 67,
      "metadata": {
        "id": "cecIDmHV76LG"
      },
      "outputs": [],
      "source": [
        "# Declaring Numerical and Categorical Columns\n",
        "numeric_features =['price', 'nArticles', 'nDays', 'nPurchases', 'nSect','is_popular'] \n",
        "categorical_features_product  = ['product_group_name'] \n",
        "categorical_features_color = ['colour_group_name']\n",
        "categorical_features_section = ['section_name']\n",
        "categorical_features_age = ['age_interval']\n",
        "\n",
        "# Converting Numeric Columns to array and Categorical Columns to Strig\n",
        "numeric_data = train_data_scaled[numeric_features].values # convert to numpy array\n",
        "categorical_data = train_data_scaled[categorical_features_product].astype('str') \n",
        "categorical_data_color = train_data_scaled[categorical_features_color].astype('str') \n",
        "categorical_data_section = train_data_scaled[categorical_features_section].astype('str')\n",
        "categorical_data_age = train_data_scaled[categorical_features_age].astype('str')\n",
        "target1 = train_data_scaled['label'].values\n",
        "target2 = train_data_scaled['product_category_label'].values\n",
        "\n",
        "\n",
        "#numeric inputs\n",
        "input2numeric_layer = tf.keras.Input((len(numeric_features)), name='numeric_input') # input layer\n",
        "numeric_layer = tf.keras.layers.Dense(100, activation='relu')(input2numeric_layer) # hidden layer\n",
        "numeric_layer = tf.keras.layers.Dense(100, activation='relu')(numeric_layer) # hidden layer\n",
        "\n",
        "#categorical features creating one hot encoding for each categorical feature using String Lookup\n",
        "unique_product_names = categorical_data['product_group_name'].unique().astype(str) # get unique product names\n",
        "input2categorical_layer = tf.keras.Input((1,), name='categorical_input', dtype=tf.string) # input layer\n",
        "categrorical2Stringlookup = tf.keras.layers.StringLookup(vocabulary=unique_product_names, output_mode='one_hot')(input2categorical_layer) # lookup layer\n",
        "\n",
        "#uniquee_color_names = categorical_data_color['colour_group_name'].unique().astype(str) # get unique color names\n",
        "#input2categorical_layer_color = tf.keras.Input((1,), name='categorical_input_color', dtype=tf.string) # input layer\n",
        "#categrorical2Stringlookup_color = tf.keras.layers.StringLookup(vocabulary=uniquee_color_names, output_mode='one_hot')(input2categorical_layer_color) # lookup layer\n",
        "\n",
        "#unique_section_names = categorical_data_section['section_name'].unique().astype(str) # get unique section names\n",
        "#input2categorical_layer_section = tf.keras.Input((1,), name='categorical_input_section', dtype=tf.string) # input layer\n",
        "#categrorical2Stringlookup_section = tf.keras.layers.StringLookup(vocabulary=unique_section_names, output_mode='one_hot')(input2categorical_layer_section) # lookup layer\n",
        "#\n",
        "unique_age_intervals = categorical_data_age['age_interval'].unique().astype(str) # get unique age intervals\n",
        "input2categorical_layer_age = tf.keras.Input((1,), name='categorical_input_age', dtype=tf.string) # input layer\n",
        "categrorical2Stringlookup_age = tf.keras.layers.StringLookup(vocabulary=unique_age_intervals, output_mode='one_hot')(input2categorical_layer_age) # lookup layer\n",
        "\n",
        "\n",
        "#concatenating the categorical and numeric layers\n",
        "concatenated_layer = tf.keras.layers.concatenate([numeric_layer, categrorical2Stringlookup]) # concatenate layer\n",
        "#concatenated_layer = tf.keras.layers.concatenate([concatenated_layer, categrorical2Stringlookup_color]) # concatenate layer\n",
        "#concatenated_layer = tf.keras.layers.concatenate([concatenated_layer, categrorical2Stringlookup_section]) # concatenate layer\n",
        "concatenated_layer = tf.keras.layers.concatenate([concatenated_layer, categrorical2Stringlookup_age]) # concatenate layer\n",
        "common_layer  = tf.keras.layers.Dense(100, activation='relu')(concatenated_layer) # hidden layer\n",
        "\n",
        "\n",
        "#Task 1: Predicting if the user will by the article id or not\n",
        "# Nueral Network specific to the task 1\n",
        "x1 = tf.keras.layers.Dense(32, activation='relu',name=\"task1a\") (common_layer)\n",
        "x1 = tf.keras.layers.Dense(32, activation='relu',name=\"task1b\") (x1)\n",
        "x1 = tf.keras.layers.Dense(1, activation='sigmoid',name=\"out1\") (x1)\n",
        "\n",
        "#Task 2  Predicting if the user will buy from this product category or not\n",
        "# Nueral Network specific to the task 2\n",
        "x2 = tf.keras.layers.Dense(32, activation='relu',name=\"task2a\") (common_layer)\n",
        "x2 = tf.keras.layers.Dense(32, activation='relu',name=\"task2b\") (x2)\n",
        "x2 = tf.keras.layers.Dense(1, activation='sigmoid',name=\"out2\") (x2)"
      ]
    },
    {
      "cell_type": "code",
      "execution_count": 68,
      "metadata": {
        "id": "jZMJYyroo9o3"
      },
      "outputs": [],
      "source": [
        "cost_function = tf.keras.losses.BinaryCrossentropy(from_logits=False)\n",
        "optimizer = tf.keras.optimizers.Adam(learning_rate=0.001)\n",
        "metric = tf.keras.metrics.BinaryAccuracy()"
      ]
    },
    {
      "cell_type": "code",
      "execution_count": 69,
      "metadata": {
        "id": "yukABstCpDGU"
      },
      "outputs": [],
      "source": [
        "model_mt = tf.keras.Model(inputs=[input2numeric_layer, input2categorical_layer, input2categorical_layer_age], outputs=[x1, x2]) #input2categorical_layer_color, input2categorical_layer_section, \n",
        "model_mt.compile(optimizer=optimizer, loss=cost_function, metrics=[metric])"
      ]
    },
    {
      "cell_type": "code",
      "execution_count": 70,
      "metadata": {
        "colab": {
          "base_uri": "https://localhost:8080/"
        },
        "id": "vFpbD62JpE7x",
        "outputId": "5c49a65f-56a9-48e0-c44d-6793683085b1"
      },
      "outputs": [
        {
          "output_type": "stream",
          "name": "stdout",
          "text": [
            "Model: \"model_1\"\n",
            "__________________________________________________________________________________________________\n",
            " Layer (type)                   Output Shape         Param #     Connected to                     \n",
            "==================================================================================================\n",
            " numeric_input (InputLayer)     [(None, 6)]          0           []                               \n",
            "                                                                                                  \n",
            " dense_6 (Dense)                (None, 100)          700         ['numeric_input[0][0]']          \n",
            "                                                                                                  \n",
            " categorical_input (InputLayer)  [(None, 1)]         0           []                               \n",
            "                                                                                                  \n",
            " dense_7 (Dense)                (None, 100)          10100       ['dense_6[0][0]']                \n",
            "                                                                                                  \n",
            " string_lookup_5 (StringLookup)  (None, 13)          0           ['categorical_input[0][0]']      \n",
            "                                                                                                  \n",
            " categorical_input_age (InputLa  [(None, 1)]         0           []                               \n",
            " yer)                                                                                             \n",
            "                                                                                                  \n",
            " concatenate_1 (Concatenate)    (None, 113)          0           ['dense_7[0][0]',                \n",
            "                                                                  'string_lookup_5[0][0]']        \n",
            "                                                                                                  \n",
            " string_lookup_6 (StringLookup)  (None, 5)           0           ['categorical_input_age[0][0]']  \n",
            "                                                                                                  \n",
            " concatenate_2 (Concatenate)    (None, 118)          0           ['concatenate_1[0][0]',          \n",
            "                                                                  'string_lookup_6[0][0]']        \n",
            "                                                                                                  \n",
            " dense_8 (Dense)                (None, 100)          11900       ['concatenate_2[0][0]']          \n",
            "                                                                                                  \n",
            " task1a (Dense)                 (None, 32)           3232        ['dense_8[0][0]']                \n",
            "                                                                                                  \n",
            " task2a (Dense)                 (None, 32)           3232        ['dense_8[0][0]']                \n",
            "                                                                                                  \n",
            " task1b (Dense)                 (None, 32)           1056        ['task1a[0][0]']                 \n",
            "                                                                                                  \n",
            " task2b (Dense)                 (None, 32)           1056        ['task2a[0][0]']                 \n",
            "                                                                                                  \n",
            " out1 (Dense)                   (None, 1)            33          ['task1b[0][0]']                 \n",
            "                                                                                                  \n",
            " out2 (Dense)                   (None, 1)            33          ['task2b[0][0]']                 \n",
            "                                                                                                  \n",
            "==================================================================================================\n",
            "Total params: 31,342\n",
            "Trainable params: 31,342\n",
            "Non-trainable params: 0\n",
            "__________________________________________________________________________________________________\n"
          ]
        }
      ],
      "source": [
        "model_mt.summary()"
      ]
    },
    {
      "cell_type": "code",
      "execution_count": 71,
      "metadata": {
        "colab": {
          "base_uri": "https://localhost:8080/"
        },
        "id": "XZDhUgudpHYi",
        "outputId": "4ba55eaf-e50d-483c-e4b6-3c0438209458"
      },
      "outputs": [
        {
          "output_type": "stream",
          "name": "stdout",
          "text": [
            "Epoch 1/10\n",
            "19/19 [==============================] - 1s 12ms/step - loss: 1.2054 - out1_loss: 0.6028 - out2_loss: 0.6026 - out1_binary_accuracy: 0.7878 - out2_binary_accuracy: 0.7038\n",
            "Epoch 2/10\n",
            "19/19 [==============================] - 0s 12ms/step - loss: 0.8086 - out1_loss: 0.3458 - out2_loss: 0.4628 - out1_binary_accuracy: 0.8830 - out2_binary_accuracy: 0.7619\n",
            "Epoch 3/10\n",
            "19/19 [==============================] - 0s 12ms/step - loss: 0.7213 - out1_loss: 0.3179 - out2_loss: 0.4033 - out1_binary_accuracy: 0.8837 - out2_binary_accuracy: 0.7765\n",
            "Epoch 4/10\n",
            "19/19 [==============================] - 0s 14ms/step - loss: 0.6791 - out1_loss: 0.3160 - out2_loss: 0.3630 - out1_binary_accuracy: 0.8840 - out2_binary_accuracy: 0.8132\n",
            "Epoch 5/10\n",
            "19/19 [==============================] - 0s 13ms/step - loss: 0.6630 - out1_loss: 0.3137 - out2_loss: 0.3493 - out1_binary_accuracy: 0.8842 - out2_binary_accuracy: 0.8226\n",
            "Epoch 6/10\n",
            "19/19 [==============================] - 0s 13ms/step - loss: 0.6561 - out1_loss: 0.3131 - out2_loss: 0.3430 - out1_binary_accuracy: 0.8848 - out2_binary_accuracy: 0.8254\n",
            "Epoch 7/10\n",
            "19/19 [==============================] - 0s 13ms/step - loss: 0.6492 - out1_loss: 0.3118 - out2_loss: 0.3374 - out1_binary_accuracy: 0.8848 - out2_binary_accuracy: 0.8270\n",
            "Epoch 8/10\n",
            "19/19 [==============================] - 0s 13ms/step - loss: 0.6420 - out1_loss: 0.3116 - out2_loss: 0.3304 - out1_binary_accuracy: 0.8844 - out2_binary_accuracy: 0.8323\n",
            "Epoch 9/10\n",
            "19/19 [==============================] - 0s 13ms/step - loss: 0.6342 - out1_loss: 0.3107 - out2_loss: 0.3235 - out1_binary_accuracy: 0.8845 - out2_binary_accuracy: 0.8367\n",
            "Epoch 10/10\n",
            "19/19 [==============================] - 0s 12ms/step - loss: 0.6265 - out1_loss: 0.3092 - out2_loss: 0.3172 - out1_binary_accuracy: 0.8849 - out2_binary_accuracy: 0.8416\n"
          ]
        },
        {
          "output_type": "execute_result",
          "data": {
            "text/plain": [
              "<keras.callbacks.History at 0x7f798704e550>"
            ]
          },
          "metadata": {},
          "execution_count": 71
        }
      ],
      "source": [
        "model_mt.fit([numeric_data, categorical_data, categorical_data_age], [target1, target2], epochs=10, batch_size=1000)"
      ]
    },
    {
      "cell_type": "code",
      "execution_count": 72,
      "metadata": {
        "id": "Ayi9m3NgpJs9"
      },
      "outputs": [],
      "source": [
        "def evaluate_multitask(df):\n",
        "    X1 = np.asarray(df[numeric_features].values)\n",
        "    X2 = df['product_group_name'].astype(str)\n",
        "    #X3 = df['colour_group_name'].astype(str)\n",
        "    #X4 = df['section_name'].astype(str)\n",
        "    X5 = df['age_interval'].astype(str)\n",
        "    preds_task1, preds_task2 = model_mt.predict([X1, X2, X5]) #X3, X4,\n",
        "    preds_task1 = (preds_task1>=0.5).astype(int).flatten()\n",
        "    preds_task2 = (preds_task2>=0.5).astype(int).flatten()\n",
        "    print(sum(preds_task1 == df['label'].values)/len(preds_task1))\n",
        "    print(sum(preds_task2 == df['product_category_label'].values)/len(preds_task2))\n",
        "    return preds_task1, preds_task2\n",
        "\n",
        "\n"
      ]
    },
    {
      "cell_type": "code",
      "execution_count": 73,
      "metadata": {
        "colab": {
          "base_uri": "https://localhost:8080/"
        },
        "id": "0OcTbEiZs3r4",
        "outputId": "6b1e3af1-c8a2-4c9b-f2b5-9efeeedaee2f"
      },
      "outputs": [
        {
          "output_type": "stream",
          "name": "stdout",
          "text": [
            "329/329 [==============================] - 1s 2ms/step\n",
            "0.7801445416508178\n",
            "0.7959300114111829\n"
          ]
        }
      ],
      "source": [
        "preds_task1, pred_task2= evaluate_multitask(test_data_scaled)"
      ]
    },
    {
      "cell_type": "code",
      "execution_count": 74,
      "metadata": {
        "colab": {
          "base_uri": "https://localhost:8080/",
          "height": 279
        },
        "id": "IzMpUCSGvyTS",
        "outputId": "9ad48b85-9665-433e-9283-5ac71d05b188"
      },
      "outputs": [
        {
          "output_type": "display_data",
          "data": {
            "text/plain": [
              "<Figure size 432x288 with 2 Axes>"
            ],
            "image/png": "[encoded data removed]"
          },
          "metadata": {
            "needs_background": "light"
          }
        }
      ],
      "source": [
        "from cProfile import label\n",
        "from sklearn.metrics import ConfusionMatrixDisplay, confusion_matrix, plot_confusion_matrix\n",
        "\n",
        "confusion_matrix(test_data_scaled['product_category_label'].values, pred_task2)\n",
        "\n",
        "cm = confusion_matrix(test_data_scaled['product_category_label'].values, pred_task2, labels=[0,1])\n",
        "disp = ConfusionMatrixDisplay(confusion_matrix=cm, display_labels=[0,1])\n",
        "disp.plot()\n",
        "plt.grid(False)\n",
        "plt.show()"
      ]
    },
    {
      "cell_type": "code",
      "execution_count": 75,
      "metadata": {
        "colab": {
          "base_uri": "https://localhost:8080/"
        },
        "id": "Xq-dRpiJyx4H",
        "outputId": "781c0801-0a88-4262-841f-d88345dc0a82"
      },
      "outputs": [
        {
          "output_type": "execute_result",
          "data": {
            "text/plain": [
              "array([[1681,  710],\n",
              "       [1436, 6689]])"
            ]
          },
          "metadata": {},
          "execution_count": 75
        }
      ],
      "source": [
        "cm"
      ]
    },
    {
      "cell_type": "code",
      "execution_count": 76,
      "metadata": {
        "id": "FNW7K4vGwyIt",
        "colab": {
          "base_uri": "https://localhost:8080/",
          "height": 856
        },
        "outputId": "b4df32c4-db7a-440c-8f3f-000d97df3d92"
      },
      "outputs": [
        {
          "output_type": "execute_result",
          "data": {
            "image/png": "[encoded data removed]",
            "text/plain": [
              "<IPython.core.display.Image object>"
            ]
          },
          "metadata": {},
          "execution_count": 76
        }
      ],
      "source": [
        "tf.keras.utils.plot_model(\n",
        "    model_mt,\n",
        "    to_file='model_multitask.png',\n",
        "    show_shapes=False,\n",
        "    show_dtype=False,\n",
        "    show_layer_names=True,\n",
        "    rankdir='TB',\n",
        "    expand_nested=False,\n",
        "    dpi=96,\n",
        "    layer_range=None,\n",
        "    show_layer_activations=False\n",
        ")"
      ]
    }
  ],
  "metadata": {
    "colab": {
      "collapsed_sections": [
        "Nsb7iuVZ76K7",
        "aPGWDGzW76K8"
      ],
      "provenance": [],
      "include_colab_link": true
    },
    "kernelspec": {
      "display_name": "Python 3.9.7 64-bit",
      "language": "python",
      "name": "python3"
    },
    "language_info": {
      "codemirror_mode": {
        "name": "ipython",
        "version": 3
      },
      "file_extension": ".py",
      "mimetype": "text/x-python",
      "name": "python",
      "nbconvert_exporter": "python",
      "pygments_lexer": "ipython3",
      "version": "3.9.7"
    },
    "vscode": {
      "interpreter": {
        "hash": "b8bdd4e700647ba2b08c59e5df8b7da1dcf50a218bcd4c1bcd9b3dc92e8788e5"
      }
    }
  },
  "nbformat": 4,
  "nbformat_minor": 0
}